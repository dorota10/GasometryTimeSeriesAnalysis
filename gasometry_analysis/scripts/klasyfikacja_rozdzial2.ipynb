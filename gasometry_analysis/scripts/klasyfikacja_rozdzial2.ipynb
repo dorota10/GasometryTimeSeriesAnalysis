{
 "cells": [
  {
   "cell_type": "markdown",
   "metadata": {},
   "source": [
    "### Klasyfikacja"
   ]
  },
  {
   "cell_type": "code",
   "execution_count": null,
   "metadata": {},
   "outputs": [],
   "source": []
  },
  {
   "cell_type": "markdown",
   "metadata": {},
   "source": [
    "#### Dummy classifier"
   ]
  },
  {
   "cell_type": "code",
   "execution_count": null,
   "metadata": {},
   "outputs": [],
   "source": [
    "model=DummyClassifier()\n",
    "skf = StratifiedKFold(n_splits=5, shuffle=True, random_state=18) #5\n",
    "\n",
    "s=list()\n",
    "stren=list()\n",
    "for i, (train_index, test_index) in enumerate(skf.split(X, y)):\n",
    "  model.fit(X.iloc[train_index], y.iloc[train_index])\n",
    "  s.append(np.round(model.score(X.iloc[test_index], y.iloc[test_index]),4))\n",
    "\n",
    "print(\"Wyniki kroswalidacji: \", s)\n",
    "print(\"Dokładność drzewa: \", np.mean(s))"
   ]
  },
  {
   "cell_type": "code",
   "execution_count": null,
   "metadata": {},
   "outputs": [],
   "source": [
    "#drzewo decyzyjne z walidacją krzyżową i zbalansowaniem klas przy podziale na treningowe i testowe\n",
    "X=df_all[nazwy_sign]\n",
    "y=df_all[\"ZGON\"]\n",
    "model = tree.DecisionTreeClassifier(random_state=5, max_depth=3)\n",
    "skf = StratifiedKFold(n_splits=5, shuffle=True, random_state=18) #5\n",
    "\n",
    "s=list()\n",
    "stren=list()\n",
    "for i, (train_index, test_index) in enumerate(skf.split(X, y)):\n",
    "  model.fit(X.iloc[train_index], y.iloc[train_index])\n",
    "  s.append(np.round(model.score(X.iloc[test_index], y.iloc[test_index]),4))\n",
    "  stren.append(np.round(model.score(X.iloc[train_index], y.iloc[train_index]),4))\n",
    "  # confusion = confusion_matrix(y.iloc[test_index], model.predict(X.iloc[test_index]))\n",
    "  #print(confusion)\n",
    "  \n",
    "print(\"Wyniki uczenia: \", stren)\n",
    "print(\"Dokładność uczenia: \", np.mean(stren))\n",
    "print()\n",
    "print(\"Wyniki kroswalidacji: \", s)\n",
    "print(\"Dokładność drzewa: \", np.mean(s))\n",
    "model.fit(X, y)\n",
    "wartosci=model.feature_importances_\n",
    "print(X.columns)\n",
    "kategorie=['minimum BETET \\n measurement', 'minimum [H$^\\plus$] \\n (maximum pH)', 'maximum [H$^\\plus$] (minimum pH)', 'maximum pCO$_2$', 'BETET below the norm [number of cases]',\n",
    "           '[H$^\\plus$] below the norm \\n (pH above the norm [number of cases])', 'pO$_2$ saturation below the norm \\n [number of cases]', 'pCO$_2$ below the norm [number of cases]',\n",
    "           'BETET above the norm [number of cases]',\n",
    "           '[H$^\\plus$] above the norm \\n (pH below the norm) \\n [number of cases]', 'average change in \\n ion H concentration', 'average change in \\n O$_2$ saturation', 'average change in pCO$_2$',\n",
    "           'BETET above the norm [number of cases in a row]', '[H$^\\plus$] above the norm \\n (pH below the norm) \\n [number of cases in a row]', 'BETET below the norm [number of cases in a row]',\n",
    "           '[H$^\\plus$] below the norm \\n (pH above the norm) \\n [number of cases in a row]', 'O$_2$ saturation above the norm \\n [number of cases in a row]']\n",
    "# kategorie=X.columns"
   ]
  },
  {
   "cell_type": "code",
   "execution_count": null,
   "metadata": {},
   "outputs": [],
   "source": [
    "# Tworzenie wykresu słupkowego\n",
    "niezerowe_wartosci = [x for x in wartosci if x != 0]\n",
    "niezerowe_kategorie = [kategorie[i] for i, x in enumerate(wartosci) if x != 0]\n",
    "\n",
    "#sortowanie\n",
    "sorted_niezerowe_wartosci, sorted_niezerowe_kategorie = zip(*sorted(zip(niezerowe_wartosci, niezerowe_kategorie), reverse=False))\n",
    "\n",
    "# Tworzenie wykresu słupkowego z niezerowymi wartościami\n",
    "fig, ax = plt.subplots(figsize=(7,5))\n",
    "plt.barh(sorted_niezerowe_kategorie, sorted_niezerowe_wartosci)\n",
    "\n",
    "plt.xlabel('Feature Importance')\n",
    "plt.ylabel('Feature Name')\n",
    "ax.yaxis.set_label_coords(-0.5, 0.5)\n",
    "plt.show()"
   ]
  }
 ],
 "metadata": {
  "language_info": {
   "name": "python"
  }
 },
 "nbformat": 4,
 "nbformat_minor": 2
}
