{
 "cells": [
  {
   "cell_type": "markdown",
   "metadata": {},
   "source": [
    "### Wizualizacja danych"
   ]
  },
  {
   "cell_type": "code",
   "execution_count": null,
   "metadata": {},
   "outputs": [],
   "source": [
    "import pandas as pd\n",
    "import seaborn as sns\n",
    "import numpy as np\n",
    "import matplotlib.pyplot as plt\n",
    "import plotly.graph_objects as go\n",
    "import plotly.express as px"
   ]
  },
  {
   "cell_type": "code",
   "execution_count": null,
   "metadata": {},
   "outputs": [],
   "source": [
    "my_blue=\"#0064B2\"\n",
    "my_red=\"#D61600\""
   ]
  },
  {
   "cell_type": "code",
   "execution_count": null,
   "metadata": {},
   "outputs": [],
   "source": [
    "df0 = pd.read_excel(\"dane_surowe_gaz.xlsx\", sheet_name=\"Arkusz1\")"
   ]
  },
  {
   "cell_type": "code",
   "execution_count": null,
   "metadata": {},
   "outputs": [],
   "source": [
    "df0.groupby('PACJENT_NR')['BADANIE_NR'].max().reset_index().max()"
   ]
  },
  {
   "cell_type": "code",
   "execution_count": null,
   "metadata": {},
   "outputs": [],
   "source": [
    "df0=df0.pivot_table(index=(\"PACJENT_NR\", \"BADANIE_NR\", \"ZGON\"), columns=[\"KOD_BADANIA\"], values=[\"WYNIK\"]) #ustawienie wyników w kolumnach\n",
    "df0.reset_index(inplace=True) #rozpakowanie indeksów\n",
    "df0.columns.name=\"Lp\"\n",
    "df0.columns=['PACJENT_NR','BADANIE_NR', 'ZGON', 'BETET', 'CO2TET', 'HCO3ACTE', 'HCO3STTE', 'O2SATTET', 'O2TET', 'PHTET']\n",
    "#zamiana PH na liczbę jonów wodoru, min:35 , max: 45 (im więcej, tym niższe PH)\n",
    "df0[\"IONH\"]=10**(9-df0[\"PHTET\"])"
   ]
  },
  {
   "cell_type": "code",
   "execution_count": null,
   "metadata": {},
   "outputs": [],
   "source": [
    "df0.head()"
   ]
  },
  {
   "cell_type": "code",
   "execution_count": null,
   "metadata": {},
   "outputs": [],
   "source": [
    "max_badanie_nr = df0.groupby('PACJENT_NR')['BADANIE_NR'].max().reset_index()\n",
    "fig=px.bar(max_badanie_nr, x='BADANIE_NR', y=\"PACJENT_NR\", orientation='h')\n",
    "# Dodajemy etykiety i tytuł\n",
    "fig.update_layout(\n",
    "    xaxis=dict(\n",
    "        title='Liczba wykonanych badań',\n",
    "        tickfont=dict(size=16),\n",
    "        title_font=dict(size=20),\n",
    "    ),\n",
    "    yaxis=dict(\n",
    "        title='Numer pacjenta',\n",
    "        tickfont=dict(size=16),\n",
    "        title_font=dict(size=20)\n",
    "    )\n",
    ")\n",
    "fig.update_layout(template=\"plotly_white\")\n",
    "\n",
    "# Wyświetlamy wykres\n",
    "fig.show()\n",
    "fig.write_image(\"images1/liczba_pomiarow.png\", width=1000, height=600, scale=4, format=\"png\")"
   ]
  },
  {
   "cell_type": "markdown",
   "metadata": {},
   "source": [
    "### Filtrowanie pacjentów >6 pomiarów"
   ]
  },
  {
   "cell_type": "code",
   "execution_count": null,
   "metadata": {},
   "outputs": [],
   "source": [
    "id_df=df0[[\"PACJENT_NR\",\"BADANIE_NR\"]].groupby('PACJENT_NR').max().add_suffix('_liczba')>6\n",
    "id6=id_df.index[id_df[\"BADANIE_NR_liczba\"]]\n",
    "df_filtr=df0[df0['PACJENT_NR'].isin(id6)]"
   ]
  },
  {
   "cell_type": "code",
   "execution_count": null,
   "metadata": {},
   "outputs": [],
   "source": [
    "df_filtr[df_filtr.isna().any(axis=1)]"
   ]
  },
  {
   "cell_type": "markdown",
   "metadata": {},
   "source": [
    "### Korelacja"
   ]
  },
  {
   "cell_type": "code",
   "execution_count": null,
   "metadata": {},
   "outputs": [],
   "source": [
    "cmap = sns.blend_palette([my_blue, \"white\", my_red], n_colors=10)\n",
    "\n",
    "# Parametry i korelacja\n",
    "params = ['BETET','CO2TET','HCO3ACTE','HCO3STTE','O2SATTET','O2TET','PHTET','IONH']\n",
    "df_corr = df_filtr[params].corr(method='pearson')\n",
    "df_corr_rounded = df_corr.round(2)\n",
    "mask = ~np.tril(np.ones(df_corr.shape[1])).astype(bool)\n",
    "\n",
    "# Tworzenie wykresu\n",
    "fig, ax = plt.subplots(figsize=(10, 8))\n",
    "fig.patch.set_facecolor('white')  # Ustawienie białego tła dla figury\n",
    "ax.set_facecolor('white')  # Ustawienie białego tła dla osi\n",
    "\n",
    "# Heatmapa\n",
    "sns.heatmap(df_corr_rounded, cmap=cmap, annot=True, mask=mask, linewidths=0.1, annot_kws=dict(size=14), ax=ax)\n",
    "\n",
    "# Etykiety osi\n",
    "ax.set_xticklabels(params, rotation=34, ha='right', fontsize=12)\n",
    "ax.set_yticklabels(params, fontsize=12)\n",
    "\n",
    "plt.savefig(\"images1/korelacje.png\", bbox_inches='tight')\n",
    "# Wyświetlanie wykresu\n",
    "plt.show()\n",
    "# "
   ]
  },
  {
   "cell_type": "markdown",
   "metadata": {},
   "source": [
    "### Wykresy skrzypcowe"
   ]
  },
  {
   "cell_type": "code",
   "execution_count": null,
   "metadata": {},
   "outputs": [],
   "source": [
    "df_pom=df_filtr.copy()\n",
    "df_pom[\"BETET\"] = (df_pom[\"BETET\"] - (-2.3))/(2.3 - -(2.3))\n",
    "df_pom[\"IONH\"] = (df_pom[\"IONH\"] - 35)/(45 - 35)\n",
    "df_pom[\"O2SATTET\"] = (df_pom[\"O2SATTET\"] - 95)/(100 - 95)\n",
    "df_pom[\"CO2TET\"] = (df_pom[\"CO2TET\"] - 35)/(45 - 35)\n",
    "df_pom[\"O2TET\"] = (df_pom[\"O2TET\"] - 75)/(100 - 75)\n",
    "df_pom[\"HCO3STTE\"] = (df_pom[\"HCO3STTE\"] - 21)/(25 - 21)\n",
    "df_pom[\"HCO3ACTE\"] = (df_pom[\"HCO3ACTE\"] - 21)/(27 - 21)\n",
    "df_pom[\"PHTET\"] = (df_pom[\"PHTET\"] - 7.35)/(7.45 - 7.35)\n",
    "df_pom[\"ZGON\"] = np.where(df_pom[\"ZGON\"] == \"NIE\", 0, 1)\n",
    "\n",
    "df_filtr_std=df_pom\n",
    "df_filtr_std.to_csv(\"filtered_std_data_gasometry.csv\")"
   ]
  },
  {
   "cell_type": "code",
   "execution_count": null,
   "metadata": {},
   "outputs": [],
   "source": [
    "fig = go.Figure()\n",
    "cols=[\"BETET\",\t\"CO2TET\",\"HCO3ACTE\",\"HCO3STTE\",\t\"O2SATTET\",\t\"O2TET\", \"IONH\"]\n",
    "\n",
    "for col in df_filtr_std[cols]:  # Iteracja po wszystkich kolumnach oprócz ZGON\n",
    "    for zgon in df_filtr_std['ZGON'].unique():\n",
    "        subset = df_filtr_std[df_filtr_std['ZGON'] == zgon]\n",
    "        side = \"negative\" if zgon == 0 else \"positive\"\n",
    "        color = my_blue if zgon == 0 else my_red\n",
    "\n",
    "        fig.add_trace(go.Violin(y=subset[col], box_visible=True, name=f\"{col}\",\n",
    "                                side=side, line_color=color, box={'visible': True}, opacity=0.8))\n",
    "\n",
    "# Dodanie poziomej linii w y=0 i y=1\n",
    "fig.update_layout(shapes=[go.layout.Shape(type='line', x0=0, x1=1, xref='paper', y0=0, y1=0, line=dict(color='black', dash='dot', width=1.5)),\n",
    "                          go.layout.Shape(type='line', x0=0, x1=1, xref='paper', y0=1, y1=1, line=dict(color='black', dash='dot', width=1.5))])\n",
    "\n",
    "# Dostosowanie rozmiaru czcionki osi x i y\n",
    "fig.update_layout(xaxis=dict(tickfont=dict(size=14)), yaxis=dict(tickfont=dict(size=14)))\n",
    "fig.update_layout(showlegend=False)\n",
    "fig.update_layout(height=600, width=1000)\n",
    "fig.update_layout(template=\"plotly_white\")\n",
    "fig.show()\n",
    "fig.write_image(\"images1/rozklad_parametrow.png\", format=\"png\", scale=3)"
   ]
  }
 ],
 "metadata": {
  "kernelspec": {
   "display_name": "Python 3",
   "language": "python",
   "name": "python3"
  },
  "language_info": {
   "codemirror_mode": {
    "name": "ipython",
    "version": 3
   },
   "file_extension": ".py",
   "mimetype": "text/x-python",
   "name": "python",
   "nbconvert_exporter": "python",
   "pygments_lexer": "ipython3",
   "version": "3.9.8"
  }
 },
 "nbformat": 4,
 "nbformat_minor": 2
}
