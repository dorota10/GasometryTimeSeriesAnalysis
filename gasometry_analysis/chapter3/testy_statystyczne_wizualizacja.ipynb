{
 "cells": [
  {
   "cell_type": "markdown",
   "metadata": {},
   "source": [
    "### Testy statystyczne"
   ]
  },
  {
   "cell_type": "code",
   "execution_count": null,
   "metadata": {},
   "outputs": [],
   "source": [
    "import pandas as pd\n",
    "import matplotlib.pyplot as plt\n",
    "import seaborn as sns\n",
    "from scipy.stats import mannwhitneyu\n",
    "from scipy.stats import shapiro"
   ]
  },
  {
   "cell_type": "code",
   "execution_count": null,
   "metadata": {},
   "outputs": [],
   "source": [
    "df_prep = pd.read_csv(\"..//datasets/gasometry_prepared_data.csv\")\n",
    "cols=[\"BETET\",\t\"CO2TET\",\t\"HCO3ACTE\",\t\"HCO3STTE\",\t\"O2SATTET\",\t\"O2TET\", \"IONH\"]\n",
    "my_blue=\"#0064B2\"\n",
    "my_red=\"#D61600\""
   ]
  },
  {
   "cell_type": "code",
   "execution_count": null,
   "metadata": {},
   "outputs": [],
   "source": [
    "normality_df = pd.DataFrame(index=cols, columns=['Statystyka_0.0', 'P-wartość_0.0', 'Statystyka_1.0', 'P-wartość_1.0'])\n",
    "\n",
    "# Podział danych względem klasy zgon\n",
    "grupy = df_prep.groupby('ZGON')\n",
    "\n",
    "# Dla każdej zmiennej przeprowadzenie testu normalności Shapiro-Wilka dla obu grup\n",
    "for column in df_prep[cols]:  # Iteracja po wszystkich kolumnach oprócz ostatniej (zgon)\n",
    "    for group, data_group in grupy:\n",
    "        stat, p = shapiro(data_group[column])\n",
    "        normality_df.at[column, f'Statystyka_{group}'] = stat\n",
    "        normality_df.at[column, f'P-wartość_{group}'] = p\n",
    "\n",
    "print(normality_df)\n",
    "normality_df.to_excel(\"normality.xlsx\")"
   ]
  },
  {
   "cell_type": "code",
   "execution_count": null,
   "metadata": {},
   "outputs": [],
   "source": [
    "df_dead = df_prep[df_prep[\"ZGON\"]==1].copy()\n",
    "df_life = df_prep[df_prep[\"ZGON\"]==0].copy()\n",
    "tabela_MN=pd.DataFrame(columns=(\"Zmienna\", \"Statystyka U\", \"P-wartość_two\",\"P-wartość_less\", \"P-wartość_greater\"))\n",
    "for column in cols:\n",
    "    mw2 = mannwhitneyu(df_dead[column], df_life[column], alternative=\"two-sided\")\n",
    "    mw_less = mannwhitneyu(df_dead[column], df_life[column], alternative=\"less\")\n",
    "    mw_greater = mannwhitneyu(df_dead[column], df_life[column], alternative=\"greater\")\n",
    "    new_row = {\"Zmienna\": column, \"Statystyka U\": mw2[0], \"P-wartość_two\": mw2[1], \"P-wartość_less\": mw_less[1], \"P-wartość_greater\": mw_greater[1]}\n",
    "    tabela_MN = pd.concat([tabela_MN, pd.DataFrame([new_row])], ignore_index=True)\n",
    "# tabela_MN.to_excel(\"wyniki_MN.xlsx\")\n",
    "tabela_MN"
   ]
  },
  {
   "cell_type": "code",
   "execution_count": null,
   "metadata": {},
   "outputs": [],
   "source": [
    "params=[*cols, \"PHTET\"]\n",
    "df_line = df_prep[[*params, \"ZGON\", \"BADANIE_NR\"]].copy()\n",
    "df_line[\"ZGON\"].replace({0: \"nie\", 1: \"tak\"}, inplace=True)\n",
    "\n",
    "sns.set(font_scale=1.5)\n",
    "sns.set_style(\"whitegrid\")\n",
    "\n",
    "# Rysowanie wykresów dla każdego parametru\n",
    "for i, param in enumerate(params):\n",
    "    # Tworzenie nowego obrazu dla każdego parametru\n",
    "    plt.figure(figsize=(10, 7.5), facecolor='white')\n",
    "\n",
    "    plt.axhline(y=0, linestyle='--', color=\"black\")\n",
    "    plt.axhline(y=1, linestyle='--', color=\"black\")\n",
    "    \n",
    "    sns.lineplot(data=df_line, x=\"BADANIE_NR\", y=param, hue=\"ZGON\", ci='sd',\n",
    "                 palette={'nie': my_blue, 'tak': my_red})\n",
    "\n",
    "    plt.xlabel('Pomiar')\n",
    "    plt.ylabel(f'{param}')\n",
    "    plt.xlim(0, 50)\n",
    "    plt.xticks(ticks=[1, 10, 20, 30, 40, 50])\n",
    "    plt.legend(title=\"Zgon\")\n",
    "    plt.tight_layout()\n",
    "\n",
    "    # Zapisywanie obrazu do pliku o nazwie \"line_plot_param.png\"\n",
    "    plt.savefig(f'images3/plot_in_time_{i}.png')\n",
    "\n",
    "    # Pokazywanie obrazu\n",
    "    plt.show()"
   ]
  },
  {
   "cell_type": "code",
   "execution_count": null,
   "metadata": {},
   "outputs": [],
   "source": [
    "df_prep = pd.read_csv(\"../chapter3/gasometry_prepared_data.csv\")"
   ]
  },
  {
   "cell_type": "code",
   "execution_count": null,
   "metadata": {},
   "outputs": [],
   "source": [
    "df_prep.drop(columns=[\"Unnamed: 0\"], inplace=True)\n",
    "df_zgon_0 = df_prep[df_prep['ZGON'] == 0]\n",
    "df_zgon_1 = df_prep[df_prep['ZGON'] == 1]\n",
    "\n",
    "# # Stwórz dwa wykresy\n",
    "fig, axes = plt.subplots(1, 2, figsize=(20, 8), sharey=True)\n",
    "\n",
    "# Wykres dla ZGON=0\n",
    "for pacjent_nr, group in df_zgon_0.groupby('PACJENT_NR'):\n",
    "        axes[0].plot(group['BADANIE_NR'].values, group['IONH'].values, label=f'Pacjent {int(pacjent_nr)}')\n",
    "\n",
    "axes[0].set_title('ZGON=NIE', fontsize=16)\n",
    "axes[0].set_xlabel('Numer badania', fontsize=14)\n",
    "axes[0].set_ylabel('Pomiar IONH', fontsize=14)\n",
    "axes[0].tick_params(axis='both', which='major', labelsize=12)\n",
    "\n",
    "# # Wykres dla ZGON=1\n",
    "for pacjent_nr, group in df_zgon_1.groupby('PACJENT_NR'):\n",
    "        axes[1].plot(group['BADANIE_NR'].values, group['IONH'].values, label=f'Pacjent {int(pacjent_nr)}')\n",
    "\n",
    "axes[1].set_title('ZGON=TAK', fontsize=16)\n",
    "axes[1].set_xlabel('Numer badania', fontsize=14)\n",
    "axes[1].set_ylabel('Pomiar IONH', fontsize=14)\n",
    "axes[1].tick_params(axis='both', which='major', labelsize=12)\n",
    "\n",
    "plt.tight_layout()\n",
    "plt.savefig('images3/porownanie_szeregi_IONH.png')\n",
    "plt.show()"
   ]
  }
 ],
 "metadata": {
  "kernelspec": {
   "display_name": "Python 3",
   "language": "python",
   "name": "python3"
  },
  "language_info": {
   "codemirror_mode": {
    "name": "ipython",
    "version": 3
   },
   "file_extension": ".py",
   "mimetype": "text/x-python",
   "name": "python",
   "nbconvert_exporter": "python",
   "pygments_lexer": "ipython3",
   "version": "3.9.8"
  }
 },
 "nbformat": 4,
 "nbformat_minor": 2
}
