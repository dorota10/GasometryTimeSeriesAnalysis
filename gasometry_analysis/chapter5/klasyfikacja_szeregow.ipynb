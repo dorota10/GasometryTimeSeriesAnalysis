{
 "cells": [
  {
   "cell_type": "code",
   "execution_count": 152,
   "metadata": {},
   "outputs": [],
   "source": [
    "import pandas as pd\n",
    "import numpy as np\n",
    "from sklearn.decomposition import PCA\n",
    "from sklearn.preprocessing import StandardScaler\n",
    "from sklearn.neighbors import KNeighborsClassifier\n",
    "from sklearn.discriminant_analysis import LinearDiscriminantAnalysis\n",
    "from sklearn.svm import SVC\n",
    "from sklearn.tree import DecisionTreeClassifier\n",
    "from sklearn.ensemble import RandomForestClassifier\n",
    "from sklearn.metrics import roc_curve, auc, classification_report\n",
    "from sklearn.feature_selection import RFE\n",
    "from sklearn.model_selection import train_test_split, GridSearchCV\n",
    "from sklearn.metrics import RocCurveDisplay\n",
    "import matplotlib.pyplot as plt\n",
    "import seaborn as sns\n",
    "import time\n",
    "import pandas as pd\n",
    "import numpy as np\n",
    "from tsfresh import extract_features\n",
    "from tsfresh.feature_extraction import ComprehensiveFCParameters, MinimalFCParameters\n",
    "import plotly.graph_objs as go\n",
    "import plotly.express as px\n",
    "from sklearn.metrics import accuracy_score\n",
    "import random"
   ]
  },
  {
   "cell_type": "code",
   "execution_count": 111,
   "metadata": {},
   "outputs": [
    {
     "data": {
      "text/plain": [
       "Index(['PACJENT_NR', 'BADANIE_NR', 'BETET', 'CO2TET', 'HCO3ACTE', 'HCO3STTE',\n",
       "       'O2SATTET', 'O2TET', 'IONH', 'ZGON', 'BETET_kw', 'O2TET_kw',\n",
       "       'HCO3ACTE_kw', 'HCO3STTE_kw', 'O2SATTET_kw', 'IONH_kw', 'CO2TET_kw',\n",
       "       'BETET_pn', 'O2TET_pn', 'HCO3ACTE_pn', 'HCO3STTE_pn', 'O2SATTET_pn',\n",
       "       'IONH_pn', 'CO2TET_pn', 'euclidean_kw', 'euclidean_kw_skum'],\n",
       "      dtype='object')"
      ]
     },
     "execution_count": 111,
     "metadata": {},
     "output_type": "execute_result"
    }
   ],
   "source": [
    "data_to_extract=pd.read_csv(\"..\\chapter4\\data_to_extraction.csv\").drop(columns=\"Unnamed: 0\")\n",
    "data_to_extract.columns"
   ]
  },
  {
   "cell_type": "code",
   "execution_count": 112,
   "metadata": {},
   "outputs": [],
   "source": [
    "y=data_to_extract.groupby(\"PACJENT_NR\").last()[\"ZGON\"].reset_index(drop=True)"
   ]
  },
  {
   "cell_type": "code",
   "execution_count": 342,
   "metadata": {},
   "outputs": [],
   "source": [
    "var_columns=['BETET', 'CO2TET', 'HCO3ACTE', 'HCO3STTE',\n",
    "       'O2SATTET', 'O2TET', 'IONH', 'BETET_kw', 'O2TET_kw',\n",
    "       'HCO3ACTE_kw', 'HCO3STTE_kw', 'O2SATTET_kw', 'IONH_kw', 'CO2TET_kw',\n",
    "       'BETET_pn', 'O2TET_pn', 'HCO3ACTE_pn', 'HCO3STTE_pn', 'O2SATTET_pn',\n",
    "       'IONH_pn', 'CO2TET_pn', 'euclidean_kw', 'euclidean_kw_skum']\n"
   ]
  },
  {
   "cell_type": "code",
   "execution_count": 343,
   "metadata": {},
   "outputs": [
    {
     "name": "stderr",
     "output_type": "stream",
     "text": [
      "Feature Extraction: 100%|██████████| 18/18 [00:03<00:00,  4.79it/s]\n",
      "Feature Extraction: 100%|██████████| 18/18 [00:03<00:00,  5.65it/s]\n",
      "Feature Extraction: 100%|██████████| 18/18 [00:03<00:00,  4.98it/s]\n",
      "Feature Extraction: 100%|██████████| 18/18 [00:03<00:00,  5.41it/s]\n",
      "Feature Extraction: 100%|██████████| 18/18 [00:03<00:00,  5.40it/s]\n",
      "Feature Extraction: 100%|██████████| 18/18 [00:03<00:00,  5.28it/s]\n",
      "Feature Extraction: 100%|██████████| 18/18 [00:03<00:00,  4.93it/s]\n",
      "Feature Extraction: 100%|██████████| 18/18 [00:03<00:00,  5.50it/s]\n",
      "Feature Extraction: 100%|██████████| 18/18 [00:03<00:00,  5.55it/s]\n",
      "Feature Extraction: 100%|██████████| 18/18 [00:03<00:00,  5.19it/s]\n",
      "Feature Extraction: 100%|██████████| 18/18 [00:03<00:00,  5.52it/s]\n",
      "Feature Extraction: 100%|██████████| 18/18 [00:03<00:00,  5.36it/s]\n",
      "Feature Extraction: 100%|██████████| 18/18 [00:03<00:00,  5.00it/s]\n",
      "Feature Extraction: 100%|██████████| 18/18 [00:03<00:00,  5.03it/s]\n",
      "Feature Extraction: 100%|██████████| 18/18 [00:03<00:00,  5.31it/s]\n",
      "Feature Extraction: 100%|██████████| 18/18 [00:03<00:00,  5.69it/s]\n",
      "Feature Extraction: 100%|██████████| 18/18 [00:03<00:00,  5.30it/s]\n",
      "Feature Extraction: 100%|██████████| 18/18 [00:03<00:00,  5.59it/s]\n",
      "Feature Extraction: 100%|██████████| 18/18 [00:03<00:00,  5.32it/s]\n",
      "Feature Extraction: 100%|██████████| 18/18 [00:03<00:00,  5.36it/s]\n",
      "Feature Extraction: 100%|██████████| 18/18 [00:03<00:00,  5.38it/s]\n",
      "Feature Extraction: 100%|██████████| 18/18 [00:03<00:00,  5.48it/s]\n",
      "Feature Extraction: 100%|██████████| 18/18 [00:03<00:00,  5.52it/s]\n"
     ]
    },
    {
     "data": {
      "text/html": [
       "<div>\n",
       "<style scoped>\n",
       "    .dataframe tbody tr th:only-of-type {\n",
       "        vertical-align: middle;\n",
       "    }\n",
       "\n",
       "    .dataframe tbody tr th {\n",
       "        vertical-align: top;\n",
       "    }\n",
       "\n",
       "    .dataframe thead th {\n",
       "        text-align: right;\n",
       "    }\n",
       "</style>\n",
       "<table border=\"1\" class=\"dataframe\">\n",
       "  <thead>\n",
       "    <tr style=\"text-align: right;\">\n",
       "      <th></th>\n",
       "      <th>BETET__minimum</th>\n",
       "      <th>BETET__maximum</th>\n",
       "      <th>BETET__mean</th>\n",
       "      <th>BETET__median</th>\n",
       "      <th>BETET__variance</th>\n",
       "      <th>BETET__number_peaks__n_2</th>\n",
       "      <th>BETET__number_peaks__n_4</th>\n",
       "      <th>BETET__first_location_of_minimum</th>\n",
       "      <th>BETET__first_location_of_maximum</th>\n",
       "      <th>BETET__linear_trend__attr_\"slope\"</th>\n",
       "      <th>...</th>\n",
       "      <th>euclidean_kw_skum__mean</th>\n",
       "      <th>euclidean_kw_skum__median</th>\n",
       "      <th>euclidean_kw_skum__variance</th>\n",
       "      <th>euclidean_kw_skum__number_peaks__n_2</th>\n",
       "      <th>euclidean_kw_skum__number_peaks__n_4</th>\n",
       "      <th>euclidean_kw_skum__first_location_of_minimum</th>\n",
       "      <th>euclidean_kw_skum__first_location_of_maximum</th>\n",
       "      <th>euclidean_kw_skum__linear_trend__attr_\"slope\"</th>\n",
       "      <th>euclidean_kw_skum__agg_linear_trend__attr_\"slope\"__chunk_len_3__f_agg_\"mean\"</th>\n",
       "      <th>euclidean_kw_skum__agg_linear_trend__attr_\"slope\"__chunk_len_6__f_agg_\"mean\"</th>\n",
       "    </tr>\n",
       "  </thead>\n",
       "  <tbody>\n",
       "    <tr>\n",
       "      <th>1</th>\n",
       "      <td>0.086957</td>\n",
       "      <td>6.260870</td>\n",
       "      <td>3.212790</td>\n",
       "      <td>3.065217</td>\n",
       "      <td>2.015770</td>\n",
       "      <td>7.0</td>\n",
       "      <td>3.0</td>\n",
       "      <td>0.020000</td>\n",
       "      <td>0.220000</td>\n",
       "      <td>-0.005501</td>\n",
       "      <td>...</td>\n",
       "      <td>30.210453</td>\n",
       "      <td>27.404957</td>\n",
       "      <td>182.042449</td>\n",
       "      <td>0.0</td>\n",
       "      <td>0.0</td>\n",
       "      <td>0.0</td>\n",
       "      <td>0.980000</td>\n",
       "      <td>0.913771</td>\n",
       "      <td>2.751726</td>\n",
       "      <td>5.494292</td>\n",
       "    </tr>\n",
       "    <tr>\n",
       "      <th>2</th>\n",
       "      <td>-0.043478</td>\n",
       "      <td>2.304348</td>\n",
       "      <td>1.332609</td>\n",
       "      <td>1.173913</td>\n",
       "      <td>0.531479</td>\n",
       "      <td>0.0</td>\n",
       "      <td>0.0</td>\n",
       "      <td>0.000000</td>\n",
       "      <td>0.900000</td>\n",
       "      <td>0.243083</td>\n",
       "      <td>...</td>\n",
       "      <td>11.802240</td>\n",
       "      <td>12.681734</td>\n",
       "      <td>24.929782</td>\n",
       "      <td>0.0</td>\n",
       "      <td>0.0</td>\n",
       "      <td>0.0</td>\n",
       "      <td>0.800000</td>\n",
       "      <td>1.700442</td>\n",
       "      <td>4.159130</td>\n",
       "      <td>8.097602</td>\n",
       "    </tr>\n",
       "    <tr>\n",
       "      <th>3</th>\n",
       "      <td>0.478261</td>\n",
       "      <td>4.086957</td>\n",
       "      <td>2.179745</td>\n",
       "      <td>1.934783</td>\n",
       "      <td>0.734497</td>\n",
       "      <td>6.0</td>\n",
       "      <td>2.0</td>\n",
       "      <td>0.000000</td>\n",
       "      <td>0.243902</td>\n",
       "      <td>-0.033162</td>\n",
       "      <td>...</td>\n",
       "      <td>12.019851</td>\n",
       "      <td>13.150883</td>\n",
       "      <td>22.519226</td>\n",
       "      <td>0.0</td>\n",
       "      <td>0.0</td>\n",
       "      <td>0.0</td>\n",
       "      <td>0.926829</td>\n",
       "      <td>0.370867</td>\n",
       "      <td>1.079482</td>\n",
       "      <td>2.155931</td>\n",
       "    </tr>\n",
       "    <tr>\n",
       "      <th>4</th>\n",
       "      <td>-0.065217</td>\n",
       "      <td>3.500000</td>\n",
       "      <td>1.605499</td>\n",
       "      <td>1.456522</td>\n",
       "      <td>0.630021</td>\n",
       "      <td>4.0</td>\n",
       "      <td>1.0</td>\n",
       "      <td>0.705882</td>\n",
       "      <td>0.176471</td>\n",
       "      <td>-0.034773</td>\n",
       "      <td>...</td>\n",
       "      <td>5.707979</td>\n",
       "      <td>3.322259</td>\n",
       "      <td>23.542215</td>\n",
       "      <td>0.0</td>\n",
       "      <td>0.0</td>\n",
       "      <td>0.0</td>\n",
       "      <td>0.970588</td>\n",
       "      <td>0.397114</td>\n",
       "      <td>1.321238</td>\n",
       "      <td>2.571625</td>\n",
       "    </tr>\n",
       "    <tr>\n",
       "      <th>6</th>\n",
       "      <td>-0.043478</td>\n",
       "      <td>0.847826</td>\n",
       "      <td>0.478261</td>\n",
       "      <td>0.554348</td>\n",
       "      <td>0.067580</td>\n",
       "      <td>1.0</td>\n",
       "      <td>0.0</td>\n",
       "      <td>0.750000</td>\n",
       "      <td>0.375000</td>\n",
       "      <td>-0.054348</td>\n",
       "      <td>...</td>\n",
       "      <td>2.954789</td>\n",
       "      <td>3.884671</td>\n",
       "      <td>2.745903</td>\n",
       "      <td>0.0</td>\n",
       "      <td>0.0</td>\n",
       "      <td>0.0</td>\n",
       "      <td>0.750000</td>\n",
       "      <td>0.667426</td>\n",
       "      <td>1.736074</td>\n",
       "      <td>1.911147</td>\n",
       "    </tr>\n",
       "    <tr>\n",
       "      <th>...</th>\n",
       "      <td>...</td>\n",
       "      <td>...</td>\n",
       "      <td>...</td>\n",
       "      <td>...</td>\n",
       "      <td>...</td>\n",
       "      <td>...</td>\n",
       "      <td>...</td>\n",
       "      <td>...</td>\n",
       "      <td>...</td>\n",
       "      <td>...</td>\n",
       "      <td>...</td>\n",
       "      <td>...</td>\n",
       "      <td>...</td>\n",
       "      <td>...</td>\n",
       "      <td>...</td>\n",
       "      <td>...</td>\n",
       "      <td>...</td>\n",
       "      <td>...</td>\n",
       "      <td>...</td>\n",
       "      <td>...</td>\n",
       "      <td>...</td>\n",
       "    </tr>\n",
       "    <tr>\n",
       "      <th>139</th>\n",
       "      <td>0.652174</td>\n",
       "      <td>5.347826</td>\n",
       "      <td>3.311141</td>\n",
       "      <td>3.358696</td>\n",
       "      <td>1.228126</td>\n",
       "      <td>4.0</td>\n",
       "      <td>2.0</td>\n",
       "      <td>0.031250</td>\n",
       "      <td>0.343750</td>\n",
       "      <td>0.032322</td>\n",
       "      <td>...</td>\n",
       "      <td>19.191855</td>\n",
       "      <td>21.141825</td>\n",
       "      <td>149.693755</td>\n",
       "      <td>0.0</td>\n",
       "      <td>0.0</td>\n",
       "      <td>0.0</td>\n",
       "      <td>0.968750</td>\n",
       "      <td>1.314109</td>\n",
       "      <td>3.895106</td>\n",
       "      <td>7.393326</td>\n",
       "    </tr>\n",
       "    <tr>\n",
       "      <th>140</th>\n",
       "      <td>-0.347826</td>\n",
       "      <td>3.934783</td>\n",
       "      <td>2.571558</td>\n",
       "      <td>2.869565</td>\n",
       "      <td>1.115528</td>\n",
       "      <td>4.0</td>\n",
       "      <td>1.0</td>\n",
       "      <td>0.000000</td>\n",
       "      <td>0.583333</td>\n",
       "      <td>0.081749</td>\n",
       "      <td>...</td>\n",
       "      <td>9.358543</td>\n",
       "      <td>10.248772</td>\n",
       "      <td>17.831701</td>\n",
       "      <td>0.0</td>\n",
       "      <td>0.0</td>\n",
       "      <td>0.0</td>\n",
       "      <td>0.958333</td>\n",
       "      <td>0.604629</td>\n",
       "      <td>1.813145</td>\n",
       "      <td>3.614941</td>\n",
       "    </tr>\n",
       "    <tr>\n",
       "      <th>142</th>\n",
       "      <td>0.391304</td>\n",
       "      <td>4.565217</td>\n",
       "      <td>2.884058</td>\n",
       "      <td>2.913043</td>\n",
       "      <td>1.841675</td>\n",
       "      <td>2.0</td>\n",
       "      <td>1.0</td>\n",
       "      <td>0.047619</td>\n",
       "      <td>0.666667</td>\n",
       "      <td>0.148278</td>\n",
       "      <td>...</td>\n",
       "      <td>22.226191</td>\n",
       "      <td>22.031082</td>\n",
       "      <td>178.999056</td>\n",
       "      <td>0.0</td>\n",
       "      <td>0.0</td>\n",
       "      <td>0.0</td>\n",
       "      <td>0.952381</td>\n",
       "      <td>2.196274</td>\n",
       "      <td>6.576850</td>\n",
       "      <td>12.499477</td>\n",
       "    </tr>\n",
       "    <tr>\n",
       "      <th>144</th>\n",
       "      <td>0.739130</td>\n",
       "      <td>3.282609</td>\n",
       "      <td>2.029644</td>\n",
       "      <td>1.956522</td>\n",
       "      <td>0.518755</td>\n",
       "      <td>0.0</td>\n",
       "      <td>0.0</td>\n",
       "      <td>0.000000</td>\n",
       "      <td>0.909091</td>\n",
       "      <td>0.189921</td>\n",
       "      <td>...</td>\n",
       "      <td>21.873042</td>\n",
       "      <td>22.452800</td>\n",
       "      <td>115.582655</td>\n",
       "      <td>0.0</td>\n",
       "      <td>0.0</td>\n",
       "      <td>0.0</td>\n",
       "      <td>0.909091</td>\n",
       "      <td>3.392153</td>\n",
       "      <td>9.627781</td>\n",
       "      <td>18.755566</td>\n",
       "    </tr>\n",
       "    <tr>\n",
       "      <th>145</th>\n",
       "      <td>-1.065217</td>\n",
       "      <td>-0.478261</td>\n",
       "      <td>-0.743961</td>\n",
       "      <td>-0.717391</td>\n",
       "      <td>0.037364</td>\n",
       "      <td>1.0</td>\n",
       "      <td>0.0</td>\n",
       "      <td>0.666667</td>\n",
       "      <td>0.222222</td>\n",
       "      <td>-0.057609</td>\n",
       "      <td>...</td>\n",
       "      <td>6.486727</td>\n",
       "      <td>6.170188</td>\n",
       "      <td>15.393651</td>\n",
       "      <td>0.0</td>\n",
       "      <td>0.0</td>\n",
       "      <td>0.0</td>\n",
       "      <td>0.888889</td>\n",
       "      <td>1.514840</td>\n",
       "      <td>4.583390</td>\n",
       "      <td>7.117705</td>\n",
       "    </tr>\n",
       "  </tbody>\n",
       "</table>\n",
       "<p>107 rows × 276 columns</p>\n",
       "</div>"
      ],
      "text/plain": [
       "     BETET__minimum  BETET__maximum  BETET__mean  BETET__median  \\\n",
       "1          0.086957        6.260870     3.212790       3.065217   \n",
       "2         -0.043478        2.304348     1.332609       1.173913   \n",
       "3          0.478261        4.086957     2.179745       1.934783   \n",
       "4         -0.065217        3.500000     1.605499       1.456522   \n",
       "6         -0.043478        0.847826     0.478261       0.554348   \n",
       "..              ...             ...          ...            ...   \n",
       "139        0.652174        5.347826     3.311141       3.358696   \n",
       "140       -0.347826        3.934783     2.571558       2.869565   \n",
       "142        0.391304        4.565217     2.884058       2.913043   \n",
       "144        0.739130        3.282609     2.029644       1.956522   \n",
       "145       -1.065217       -0.478261    -0.743961      -0.717391   \n",
       "\n",
       "     BETET__variance  BETET__number_peaks__n_2  BETET__number_peaks__n_4  \\\n",
       "1           2.015770                       7.0                       3.0   \n",
       "2           0.531479                       0.0                       0.0   \n",
       "3           0.734497                       6.0                       2.0   \n",
       "4           0.630021                       4.0                       1.0   \n",
       "6           0.067580                       1.0                       0.0   \n",
       "..               ...                       ...                       ...   \n",
       "139         1.228126                       4.0                       2.0   \n",
       "140         1.115528                       4.0                       1.0   \n",
       "142         1.841675                       2.0                       1.0   \n",
       "144         0.518755                       0.0                       0.0   \n",
       "145         0.037364                       1.0                       0.0   \n",
       "\n",
       "     BETET__first_location_of_minimum  BETET__first_location_of_maximum  \\\n",
       "1                            0.020000                          0.220000   \n",
       "2                            0.000000                          0.900000   \n",
       "3                            0.000000                          0.243902   \n",
       "4                            0.705882                          0.176471   \n",
       "6                            0.750000                          0.375000   \n",
       "..                                ...                               ...   \n",
       "139                          0.031250                          0.343750   \n",
       "140                          0.000000                          0.583333   \n",
       "142                          0.047619                          0.666667   \n",
       "144                          0.000000                          0.909091   \n",
       "145                          0.666667                          0.222222   \n",
       "\n",
       "     BETET__linear_trend__attr_\"slope\"  ...  euclidean_kw_skum__mean  \\\n",
       "1                            -0.005501  ...                30.210453   \n",
       "2                             0.243083  ...                11.802240   \n",
       "3                            -0.033162  ...                12.019851   \n",
       "4                            -0.034773  ...                 5.707979   \n",
       "6                            -0.054348  ...                 2.954789   \n",
       "..                                 ...  ...                      ...   \n",
       "139                           0.032322  ...                19.191855   \n",
       "140                           0.081749  ...                 9.358543   \n",
       "142                           0.148278  ...                22.226191   \n",
       "144                           0.189921  ...                21.873042   \n",
       "145                          -0.057609  ...                 6.486727   \n",
       "\n",
       "     euclidean_kw_skum__median  euclidean_kw_skum__variance  \\\n",
       "1                    27.404957                   182.042449   \n",
       "2                    12.681734                    24.929782   \n",
       "3                    13.150883                    22.519226   \n",
       "4                     3.322259                    23.542215   \n",
       "6                     3.884671                     2.745903   \n",
       "..                         ...                          ...   \n",
       "139                  21.141825                   149.693755   \n",
       "140                  10.248772                    17.831701   \n",
       "142                  22.031082                   178.999056   \n",
       "144                  22.452800                   115.582655   \n",
       "145                   6.170188                    15.393651   \n",
       "\n",
       "     euclidean_kw_skum__number_peaks__n_2  \\\n",
       "1                                     0.0   \n",
       "2                                     0.0   \n",
       "3                                     0.0   \n",
       "4                                     0.0   \n",
       "6                                     0.0   \n",
       "..                                    ...   \n",
       "139                                   0.0   \n",
       "140                                   0.0   \n",
       "142                                   0.0   \n",
       "144                                   0.0   \n",
       "145                                   0.0   \n",
       "\n",
       "     euclidean_kw_skum__number_peaks__n_4  \\\n",
       "1                                     0.0   \n",
       "2                                     0.0   \n",
       "3                                     0.0   \n",
       "4                                     0.0   \n",
       "6                                     0.0   \n",
       "..                                    ...   \n",
       "139                                   0.0   \n",
       "140                                   0.0   \n",
       "142                                   0.0   \n",
       "144                                   0.0   \n",
       "145                                   0.0   \n",
       "\n",
       "     euclidean_kw_skum__first_location_of_minimum  \\\n",
       "1                                             0.0   \n",
       "2                                             0.0   \n",
       "3                                             0.0   \n",
       "4                                             0.0   \n",
       "6                                             0.0   \n",
       "..                                            ...   \n",
       "139                                           0.0   \n",
       "140                                           0.0   \n",
       "142                                           0.0   \n",
       "144                                           0.0   \n",
       "145                                           0.0   \n",
       "\n",
       "     euclidean_kw_skum__first_location_of_maximum  \\\n",
       "1                                        0.980000   \n",
       "2                                        0.800000   \n",
       "3                                        0.926829   \n",
       "4                                        0.970588   \n",
       "6                                        0.750000   \n",
       "..                                            ...   \n",
       "139                                      0.968750   \n",
       "140                                      0.958333   \n",
       "142                                      0.952381   \n",
       "144                                      0.909091   \n",
       "145                                      0.888889   \n",
       "\n",
       "     euclidean_kw_skum__linear_trend__attr_\"slope\"  \\\n",
       "1                                         0.913771   \n",
       "2                                         1.700442   \n",
       "3                                         0.370867   \n",
       "4                                         0.397114   \n",
       "6                                         0.667426   \n",
       "..                                             ...   \n",
       "139                                       1.314109   \n",
       "140                                       0.604629   \n",
       "142                                       2.196274   \n",
       "144                                       3.392153   \n",
       "145                                       1.514840   \n",
       "\n",
       "     euclidean_kw_skum__agg_linear_trend__attr_\"slope\"__chunk_len_3__f_agg_\"mean\"  \\\n",
       "1                                             2.751726                              \n",
       "2                                             4.159130                              \n",
       "3                                             1.079482                              \n",
       "4                                             1.321238                              \n",
       "6                                             1.736074                              \n",
       "..                                                 ...                              \n",
       "139                                           3.895106                              \n",
       "140                                           1.813145                              \n",
       "142                                           6.576850                              \n",
       "144                                           9.627781                              \n",
       "145                                           4.583390                              \n",
       "\n",
       "     euclidean_kw_skum__agg_linear_trend__attr_\"slope\"__chunk_len_6__f_agg_\"mean\"  \n",
       "1                                             5.494292                             \n",
       "2                                             8.097602                             \n",
       "3                                             2.155931                             \n",
       "4                                             2.571625                             \n",
       "6                                             1.911147                             \n",
       "..                                                 ...                             \n",
       "139                                           7.393326                             \n",
       "140                                           3.614941                             \n",
       "142                                          12.499477                             \n",
       "144                                          18.755566                             \n",
       "145                                           7.117705                             \n",
       "\n",
       "[107 rows x 276 columns]"
      ]
     },
     "execution_count": 343,
     "metadata": {},
     "output_type": "execute_result"
    }
   ],
   "source": [
    "selected_features = {\n",
    "    'minimum': None,\n",
    "    'maximum': None,\n",
    "    'mean': None,\n",
    "    'median': None,\n",
    "    'variance': None,\n",
    "    'number_peaks': [{'n': 2}, {'n': 4}],\n",
    "    'first_location_of_minimum': None,\n",
    "    'first_location_of_maximum': None,\n",
    "    'linear_trend': [{'attr': 'slope'}],\n",
    "    'agg_linear_trend': [{\n",
    "        'f_agg': 'mean',\n",
    "        'chunk_len': 3,\n",
    "        'attr': 'slope'\n",
    "    }, {\n",
    "        'f_agg': 'mean',\n",
    "        'chunk_len': 6,\n",
    "        'attr': 'slope'\n",
    "    }]\n",
    "}\n",
    "\n",
    "extracted_features = pd.DataFrame()\n",
    "\n",
    "for col in var_columns:\n",
    "    features = extract_features(data_to_extract, column_id=\"PACJENT_NR\", column_sort=\"BADANIE_NR\", \n",
    "                                column_value=col, default_fc_parameters=selected_features)\n",
    "    features.columns = [f\"{col}\" for col in features.columns]\n",
    "    extracted_features = pd.concat([extracted_features, features], axis=1)\n",
    "\n",
    "extracted_features "
   ]
  },
  {
   "cell_type": "code",
   "execution_count": 326,
   "metadata": {},
   "outputs": [],
   "source": [
    "names=extracted_features.columns"
   ]
  },
  {
   "cell_type": "code",
   "execution_count": 327,
   "metadata": {},
   "outputs": [
    {
     "data": {
      "text/html": [
       "<div>\n",
       "<style scoped>\n",
       "    .dataframe tbody tr th:only-of-type {\n",
       "        vertical-align: middle;\n",
       "    }\n",
       "\n",
       "    .dataframe tbody tr th {\n",
       "        vertical-align: top;\n",
       "    }\n",
       "\n",
       "    .dataframe thead th {\n",
       "        text-align: right;\n",
       "    }\n",
       "</style>\n",
       "<table border=\"1\" class=\"dataframe\">\n",
       "  <thead>\n",
       "    <tr style=\"text-align: right;\">\n",
       "      <th></th>\n",
       "      <th>PACJENT_NR</th>\n",
       "      <th>ZGON</th>\n",
       "    </tr>\n",
       "  </thead>\n",
       "  <tbody>\n",
       "    <tr>\n",
       "      <th>0</th>\n",
       "      <td>1</td>\n",
       "      <td>0.0</td>\n",
       "    </tr>\n",
       "    <tr>\n",
       "      <th>1</th>\n",
       "      <td>2</td>\n",
       "      <td>0.0</td>\n",
       "    </tr>\n",
       "    <tr>\n",
       "      <th>2</th>\n",
       "      <td>3</td>\n",
       "      <td>0.0</td>\n",
       "    </tr>\n",
       "    <tr>\n",
       "      <th>3</th>\n",
       "      <td>4</td>\n",
       "      <td>0.0</td>\n",
       "    </tr>\n",
       "    <tr>\n",
       "      <th>4</th>\n",
       "      <td>6</td>\n",
       "      <td>0.0</td>\n",
       "    </tr>\n",
       "    <tr>\n",
       "      <th>...</th>\n",
       "      <td>...</td>\n",
       "      <td>...</td>\n",
       "    </tr>\n",
       "    <tr>\n",
       "      <th>102</th>\n",
       "      <td>139</td>\n",
       "      <td>0.0</td>\n",
       "    </tr>\n",
       "    <tr>\n",
       "      <th>103</th>\n",
       "      <td>140</td>\n",
       "      <td>1.0</td>\n",
       "    </tr>\n",
       "    <tr>\n",
       "      <th>104</th>\n",
       "      <td>142</td>\n",
       "      <td>0.0</td>\n",
       "    </tr>\n",
       "    <tr>\n",
       "      <th>105</th>\n",
       "      <td>144</td>\n",
       "      <td>0.0</td>\n",
       "    </tr>\n",
       "    <tr>\n",
       "      <th>106</th>\n",
       "      <td>145</td>\n",
       "      <td>1.0</td>\n",
       "    </tr>\n",
       "  </tbody>\n",
       "</table>\n",
       "<p>107 rows × 2 columns</p>\n",
       "</div>"
      ],
      "text/plain": [
       "     PACJENT_NR  ZGON\n",
       "0             1   0.0\n",
       "1             2   0.0\n",
       "2             3   0.0\n",
       "3             4   0.0\n",
       "4             6   0.0\n",
       "..          ...   ...\n",
       "102         139   0.0\n",
       "103         140   1.0\n",
       "104         142   0.0\n",
       "105         144   0.0\n",
       "106         145   1.0\n",
       "\n",
       "[107 rows x 2 columns]"
      ]
     },
     "execution_count": 327,
     "metadata": {},
     "output_type": "execute_result"
    }
   ],
   "source": [
    "data_to_extract[['PACJENT_NR', 'ZGON']].groupby(\"PACJENT_NR\").last()[\"ZGON\"].reset_index()"
   ]
  },
  {
   "cell_type": "code",
   "execution_count": 328,
   "metadata": {},
   "outputs": [
    {
     "data": {
      "text/html": [
       "<div>\n",
       "<style scoped>\n",
       "    .dataframe tbody tr th:only-of-type {\n",
       "        vertical-align: middle;\n",
       "    }\n",
       "\n",
       "    .dataframe tbody tr th {\n",
       "        vertical-align: top;\n",
       "    }\n",
       "\n",
       "    .dataframe thead th {\n",
       "        text-align: right;\n",
       "    }\n",
       "</style>\n",
       "<table border=\"1\" class=\"dataframe\">\n",
       "  <thead>\n",
       "    <tr style=\"text-align: right;\">\n",
       "      <th></th>\n",
       "      <th>PACJENT_NR</th>\n",
       "      <th>ZGON</th>\n",
       "      <th>BETET__minimum</th>\n",
       "      <th>BETET__maximum</th>\n",
       "      <th>BETET__mean</th>\n",
       "      <th>BETET__median</th>\n",
       "      <th>BETET__variance</th>\n",
       "      <th>BETET__number_peaks__n_2</th>\n",
       "      <th>BETET__number_peaks__n_4</th>\n",
       "      <th>BETET__first_location_of_minimum</th>\n",
       "      <th>...</th>\n",
       "      <th>euclidean_kw_skum__mean</th>\n",
       "      <th>euclidean_kw_skum__median</th>\n",
       "      <th>euclidean_kw_skum__variance</th>\n",
       "      <th>euclidean_kw_skum__number_peaks__n_2</th>\n",
       "      <th>euclidean_kw_skum__number_peaks__n_4</th>\n",
       "      <th>euclidean_kw_skum__first_location_of_minimum</th>\n",
       "      <th>euclidean_kw_skum__first_location_of_maximum</th>\n",
       "      <th>euclidean_kw_skum__linear_trend__attr_\"slope\"</th>\n",
       "      <th>euclidean_kw_skum__agg_linear_trend__attr_\"slope\"__chunk_len_3__f_agg_\"mean\"</th>\n",
       "      <th>euclidean_kw_skum__agg_linear_trend__attr_\"slope\"__chunk_len_6__f_agg_\"mean\"</th>\n",
       "    </tr>\n",
       "  </thead>\n",
       "  <tbody>\n",
       "    <tr>\n",
       "      <th>0</th>\n",
       "      <td>1</td>\n",
       "      <td>0.0</td>\n",
       "      <td>0.086957</td>\n",
       "      <td>6.260870</td>\n",
       "      <td>3.212790</td>\n",
       "      <td>3.065217</td>\n",
       "      <td>2.015770</td>\n",
       "      <td>7.0</td>\n",
       "      <td>3.0</td>\n",
       "      <td>0.020000</td>\n",
       "      <td>...</td>\n",
       "      <td>30.210453</td>\n",
       "      <td>27.404957</td>\n",
       "      <td>182.042449</td>\n",
       "      <td>0.0</td>\n",
       "      <td>0.0</td>\n",
       "      <td>0.0</td>\n",
       "      <td>0.980000</td>\n",
       "      <td>0.913771</td>\n",
       "      <td>2.751726</td>\n",
       "      <td>5.494292</td>\n",
       "    </tr>\n",
       "    <tr>\n",
       "      <th>1</th>\n",
       "      <td>2</td>\n",
       "      <td>0.0</td>\n",
       "      <td>-0.043478</td>\n",
       "      <td>2.304348</td>\n",
       "      <td>1.332609</td>\n",
       "      <td>1.173913</td>\n",
       "      <td>0.531479</td>\n",
       "      <td>0.0</td>\n",
       "      <td>0.0</td>\n",
       "      <td>0.000000</td>\n",
       "      <td>...</td>\n",
       "      <td>11.802240</td>\n",
       "      <td>12.681734</td>\n",
       "      <td>24.929782</td>\n",
       "      <td>0.0</td>\n",
       "      <td>0.0</td>\n",
       "      <td>0.0</td>\n",
       "      <td>0.800000</td>\n",
       "      <td>1.700442</td>\n",
       "      <td>4.159130</td>\n",
       "      <td>8.097602</td>\n",
       "    </tr>\n",
       "    <tr>\n",
       "      <th>2</th>\n",
       "      <td>3</td>\n",
       "      <td>0.0</td>\n",
       "      <td>0.478261</td>\n",
       "      <td>4.086957</td>\n",
       "      <td>2.179745</td>\n",
       "      <td>1.934783</td>\n",
       "      <td>0.734497</td>\n",
       "      <td>6.0</td>\n",
       "      <td>2.0</td>\n",
       "      <td>0.000000</td>\n",
       "      <td>...</td>\n",
       "      <td>12.019851</td>\n",
       "      <td>13.150883</td>\n",
       "      <td>22.519226</td>\n",
       "      <td>0.0</td>\n",
       "      <td>0.0</td>\n",
       "      <td>0.0</td>\n",
       "      <td>0.926829</td>\n",
       "      <td>0.370867</td>\n",
       "      <td>1.079482</td>\n",
       "      <td>2.155931</td>\n",
       "    </tr>\n",
       "    <tr>\n",
       "      <th>3</th>\n",
       "      <td>4</td>\n",
       "      <td>0.0</td>\n",
       "      <td>-0.065217</td>\n",
       "      <td>3.500000</td>\n",
       "      <td>1.605499</td>\n",
       "      <td>1.456522</td>\n",
       "      <td>0.630021</td>\n",
       "      <td>4.0</td>\n",
       "      <td>1.0</td>\n",
       "      <td>0.705882</td>\n",
       "      <td>...</td>\n",
       "      <td>5.707979</td>\n",
       "      <td>3.322259</td>\n",
       "      <td>23.542215</td>\n",
       "      <td>0.0</td>\n",
       "      <td>0.0</td>\n",
       "      <td>0.0</td>\n",
       "      <td>0.970588</td>\n",
       "      <td>0.397114</td>\n",
       "      <td>1.321238</td>\n",
       "      <td>2.571625</td>\n",
       "    </tr>\n",
       "    <tr>\n",
       "      <th>4</th>\n",
       "      <td>6</td>\n",
       "      <td>0.0</td>\n",
       "      <td>-0.043478</td>\n",
       "      <td>0.847826</td>\n",
       "      <td>0.478261</td>\n",
       "      <td>0.554348</td>\n",
       "      <td>0.067580</td>\n",
       "      <td>1.0</td>\n",
       "      <td>0.0</td>\n",
       "      <td>0.750000</td>\n",
       "      <td>...</td>\n",
       "      <td>2.954789</td>\n",
       "      <td>3.884671</td>\n",
       "      <td>2.745903</td>\n",
       "      <td>0.0</td>\n",
       "      <td>0.0</td>\n",
       "      <td>0.0</td>\n",
       "      <td>0.750000</td>\n",
       "      <td>0.667426</td>\n",
       "      <td>1.736074</td>\n",
       "      <td>1.911147</td>\n",
       "    </tr>\n",
       "    <tr>\n",
       "      <th>...</th>\n",
       "      <td>...</td>\n",
       "      <td>...</td>\n",
       "      <td>...</td>\n",
       "      <td>...</td>\n",
       "      <td>...</td>\n",
       "      <td>...</td>\n",
       "      <td>...</td>\n",
       "      <td>...</td>\n",
       "      <td>...</td>\n",
       "      <td>...</td>\n",
       "      <td>...</td>\n",
       "      <td>...</td>\n",
       "      <td>...</td>\n",
       "      <td>...</td>\n",
       "      <td>...</td>\n",
       "      <td>...</td>\n",
       "      <td>...</td>\n",
       "      <td>...</td>\n",
       "      <td>...</td>\n",
       "      <td>...</td>\n",
       "      <td>...</td>\n",
       "    </tr>\n",
       "    <tr>\n",
       "      <th>102</th>\n",
       "      <td>139</td>\n",
       "      <td>0.0</td>\n",
       "      <td>0.652174</td>\n",
       "      <td>5.347826</td>\n",
       "      <td>3.311141</td>\n",
       "      <td>3.358696</td>\n",
       "      <td>1.228126</td>\n",
       "      <td>4.0</td>\n",
       "      <td>2.0</td>\n",
       "      <td>0.031250</td>\n",
       "      <td>...</td>\n",
       "      <td>19.191855</td>\n",
       "      <td>21.141825</td>\n",
       "      <td>149.693755</td>\n",
       "      <td>0.0</td>\n",
       "      <td>0.0</td>\n",
       "      <td>0.0</td>\n",
       "      <td>0.968750</td>\n",
       "      <td>1.314109</td>\n",
       "      <td>3.895106</td>\n",
       "      <td>7.393326</td>\n",
       "    </tr>\n",
       "    <tr>\n",
       "      <th>103</th>\n",
       "      <td>140</td>\n",
       "      <td>1.0</td>\n",
       "      <td>-0.347826</td>\n",
       "      <td>3.934783</td>\n",
       "      <td>2.571558</td>\n",
       "      <td>2.869565</td>\n",
       "      <td>1.115528</td>\n",
       "      <td>4.0</td>\n",
       "      <td>1.0</td>\n",
       "      <td>0.000000</td>\n",
       "      <td>...</td>\n",
       "      <td>9.358543</td>\n",
       "      <td>10.248772</td>\n",
       "      <td>17.831701</td>\n",
       "      <td>0.0</td>\n",
       "      <td>0.0</td>\n",
       "      <td>0.0</td>\n",
       "      <td>0.958333</td>\n",
       "      <td>0.604629</td>\n",
       "      <td>1.813145</td>\n",
       "      <td>3.614941</td>\n",
       "    </tr>\n",
       "    <tr>\n",
       "      <th>104</th>\n",
       "      <td>142</td>\n",
       "      <td>0.0</td>\n",
       "      <td>0.391304</td>\n",
       "      <td>4.565217</td>\n",
       "      <td>2.884058</td>\n",
       "      <td>2.913043</td>\n",
       "      <td>1.841675</td>\n",
       "      <td>2.0</td>\n",
       "      <td>1.0</td>\n",
       "      <td>0.047619</td>\n",
       "      <td>...</td>\n",
       "      <td>22.226191</td>\n",
       "      <td>22.031082</td>\n",
       "      <td>178.999056</td>\n",
       "      <td>0.0</td>\n",
       "      <td>0.0</td>\n",
       "      <td>0.0</td>\n",
       "      <td>0.952381</td>\n",
       "      <td>2.196274</td>\n",
       "      <td>6.576850</td>\n",
       "      <td>12.499477</td>\n",
       "    </tr>\n",
       "    <tr>\n",
       "      <th>105</th>\n",
       "      <td>144</td>\n",
       "      <td>0.0</td>\n",
       "      <td>0.739130</td>\n",
       "      <td>3.282609</td>\n",
       "      <td>2.029644</td>\n",
       "      <td>1.956522</td>\n",
       "      <td>0.518755</td>\n",
       "      <td>0.0</td>\n",
       "      <td>0.0</td>\n",
       "      <td>0.000000</td>\n",
       "      <td>...</td>\n",
       "      <td>21.873042</td>\n",
       "      <td>22.452800</td>\n",
       "      <td>115.582655</td>\n",
       "      <td>0.0</td>\n",
       "      <td>0.0</td>\n",
       "      <td>0.0</td>\n",
       "      <td>0.909091</td>\n",
       "      <td>3.392153</td>\n",
       "      <td>9.627781</td>\n",
       "      <td>18.755566</td>\n",
       "    </tr>\n",
       "    <tr>\n",
       "      <th>106</th>\n",
       "      <td>145</td>\n",
       "      <td>1.0</td>\n",
       "      <td>-1.065217</td>\n",
       "      <td>-0.478261</td>\n",
       "      <td>-0.743961</td>\n",
       "      <td>-0.717391</td>\n",
       "      <td>0.037364</td>\n",
       "      <td>1.0</td>\n",
       "      <td>0.0</td>\n",
       "      <td>0.666667</td>\n",
       "      <td>...</td>\n",
       "      <td>6.486727</td>\n",
       "      <td>6.170188</td>\n",
       "      <td>15.393651</td>\n",
       "      <td>0.0</td>\n",
       "      <td>0.0</td>\n",
       "      <td>0.0</td>\n",
       "      <td>0.888889</td>\n",
       "      <td>1.514840</td>\n",
       "      <td>4.583390</td>\n",
       "      <td>7.117705</td>\n",
       "    </tr>\n",
       "  </tbody>\n",
       "</table>\n",
       "<p>107 rows × 206 columns</p>\n",
       "</div>"
      ],
      "text/plain": [
       "     PACJENT_NR  ZGON  BETET__minimum  BETET__maximum  BETET__mean  \\\n",
       "0             1   0.0        0.086957        6.260870     3.212790   \n",
       "1             2   0.0       -0.043478        2.304348     1.332609   \n",
       "2             3   0.0        0.478261        4.086957     2.179745   \n",
       "3             4   0.0       -0.065217        3.500000     1.605499   \n",
       "4             6   0.0       -0.043478        0.847826     0.478261   \n",
       "..          ...   ...             ...             ...          ...   \n",
       "102         139   0.0        0.652174        5.347826     3.311141   \n",
       "103         140   1.0       -0.347826        3.934783     2.571558   \n",
       "104         142   0.0        0.391304        4.565217     2.884058   \n",
       "105         144   0.0        0.739130        3.282609     2.029644   \n",
       "106         145   1.0       -1.065217       -0.478261    -0.743961   \n",
       "\n",
       "     BETET__median  BETET__variance  BETET__number_peaks__n_2  \\\n",
       "0         3.065217         2.015770                       7.0   \n",
       "1         1.173913         0.531479                       0.0   \n",
       "2         1.934783         0.734497                       6.0   \n",
       "3         1.456522         0.630021                       4.0   \n",
       "4         0.554348         0.067580                       1.0   \n",
       "..             ...              ...                       ...   \n",
       "102       3.358696         1.228126                       4.0   \n",
       "103       2.869565         1.115528                       4.0   \n",
       "104       2.913043         1.841675                       2.0   \n",
       "105       1.956522         0.518755                       0.0   \n",
       "106      -0.717391         0.037364                       1.0   \n",
       "\n",
       "     BETET__number_peaks__n_4  BETET__first_location_of_minimum  ...  \\\n",
       "0                         3.0                          0.020000  ...   \n",
       "1                         0.0                          0.000000  ...   \n",
       "2                         2.0                          0.000000  ...   \n",
       "3                         1.0                          0.705882  ...   \n",
       "4                         0.0                          0.750000  ...   \n",
       "..                        ...                               ...  ...   \n",
       "102                       2.0                          0.031250  ...   \n",
       "103                       1.0                          0.000000  ...   \n",
       "104                       1.0                          0.047619  ...   \n",
       "105                       0.0                          0.000000  ...   \n",
       "106                       0.0                          0.666667  ...   \n",
       "\n",
       "     euclidean_kw_skum__mean  euclidean_kw_skum__median  \\\n",
       "0                  30.210453                  27.404957   \n",
       "1                  11.802240                  12.681734   \n",
       "2                  12.019851                  13.150883   \n",
       "3                   5.707979                   3.322259   \n",
       "4                   2.954789                   3.884671   \n",
       "..                       ...                        ...   \n",
       "102                19.191855                  21.141825   \n",
       "103                 9.358543                  10.248772   \n",
       "104                22.226191                  22.031082   \n",
       "105                21.873042                  22.452800   \n",
       "106                 6.486727                   6.170188   \n",
       "\n",
       "     euclidean_kw_skum__variance  euclidean_kw_skum__number_peaks__n_2  \\\n",
       "0                     182.042449                                   0.0   \n",
       "1                      24.929782                                   0.0   \n",
       "2                      22.519226                                   0.0   \n",
       "3                      23.542215                                   0.0   \n",
       "4                       2.745903                                   0.0   \n",
       "..                           ...                                   ...   \n",
       "102                   149.693755                                   0.0   \n",
       "103                    17.831701                                   0.0   \n",
       "104                   178.999056                                   0.0   \n",
       "105                   115.582655                                   0.0   \n",
       "106                    15.393651                                   0.0   \n",
       "\n",
       "     euclidean_kw_skum__number_peaks__n_4  \\\n",
       "0                                     0.0   \n",
       "1                                     0.0   \n",
       "2                                     0.0   \n",
       "3                                     0.0   \n",
       "4                                     0.0   \n",
       "..                                    ...   \n",
       "102                                   0.0   \n",
       "103                                   0.0   \n",
       "104                                   0.0   \n",
       "105                                   0.0   \n",
       "106                                   0.0   \n",
       "\n",
       "     euclidean_kw_skum__first_location_of_minimum  \\\n",
       "0                                             0.0   \n",
       "1                                             0.0   \n",
       "2                                             0.0   \n",
       "3                                             0.0   \n",
       "4                                             0.0   \n",
       "..                                            ...   \n",
       "102                                           0.0   \n",
       "103                                           0.0   \n",
       "104                                           0.0   \n",
       "105                                           0.0   \n",
       "106                                           0.0   \n",
       "\n",
       "     euclidean_kw_skum__first_location_of_maximum  \\\n",
       "0                                        0.980000   \n",
       "1                                        0.800000   \n",
       "2                                        0.926829   \n",
       "3                                        0.970588   \n",
       "4                                        0.750000   \n",
       "..                                            ...   \n",
       "102                                      0.968750   \n",
       "103                                      0.958333   \n",
       "104                                      0.952381   \n",
       "105                                      0.909091   \n",
       "106                                      0.888889   \n",
       "\n",
       "     euclidean_kw_skum__linear_trend__attr_\"slope\"  \\\n",
       "0                                         0.913771   \n",
       "1                                         1.700442   \n",
       "2                                         0.370867   \n",
       "3                                         0.397114   \n",
       "4                                         0.667426   \n",
       "..                                             ...   \n",
       "102                                       1.314109   \n",
       "103                                       0.604629   \n",
       "104                                       2.196274   \n",
       "105                                       3.392153   \n",
       "106                                       1.514840   \n",
       "\n",
       "     euclidean_kw_skum__agg_linear_trend__attr_\"slope\"__chunk_len_3__f_agg_\"mean\"  \\\n",
       "0                                             2.751726                              \n",
       "1                                             4.159130                              \n",
       "2                                             1.079482                              \n",
       "3                                             1.321238                              \n",
       "4                                             1.736074                              \n",
       "..                                                 ...                              \n",
       "102                                           3.895106                              \n",
       "103                                           1.813145                              \n",
       "104                                           6.576850                              \n",
       "105                                           9.627781                              \n",
       "106                                           4.583390                              \n",
       "\n",
       "     euclidean_kw_skum__agg_linear_trend__attr_\"slope\"__chunk_len_6__f_agg_\"mean\"  \n",
       "0                                             5.494292                             \n",
       "1                                             8.097602                             \n",
       "2                                             2.155931                             \n",
       "3                                             2.571625                             \n",
       "4                                             1.911147                             \n",
       "..                                                 ...                             \n",
       "102                                           7.393326                             \n",
       "103                                           3.614941                             \n",
       "104                                          12.499477                             \n",
       "105                                          18.755566                             \n",
       "106                                           7.117705                             \n",
       "\n",
       "[107 rows x 206 columns]"
      ]
     },
     "execution_count": 328,
     "metadata": {},
     "output_type": "execute_result"
    }
   ],
   "source": [
    "data_with_features=pd.concat([data_to_extract[['PACJENT_NR', 'ZGON']].groupby(\"PACJENT_NR\").last()[\"ZGON\"], extracted_features], axis=1).rename_axis(\"PACJENT_NR\").reset_index()\n",
    "data_with_features"
   ]
  },
  {
   "cell_type": "code",
   "execution_count": 330,
   "metadata": {},
   "outputs": [],
   "source": [
    "random.seed(123)  \n",
    "sample_zgon = random.sample(list(data_with_features[data_with_features[\"ZGON\"] ==1].index), 15)\n",
    "sample_nzgon = random.sample(list(data_with_features[data_with_features[\"ZGON\"] ==0].index), 15)\n",
    "indexes=[*sample_zgon, *sample_nzgon]\n",
    "pacjenci_30 = data_with_features.loc[data_with_features.index.isin(indexes)].index\n",
    "pacjenci_77 = data_with_features.loc[~data_with_features.index.isin(indexes)].index\n",
    "train_data=data_with_features.iloc[pacjenci_77].drop(columns=\"PACJENT_NR\")\n",
    "test_data=data_with_features.iloc[pacjenci_30].drop(columns=\"PACJENT_NR\")"
   ]
  },
  {
   "cell_type": "code",
   "execution_count": 331,
   "metadata": {},
   "outputs": [],
   "source": [
    "X_train=train_data.drop(columns=\"ZGON\")\n",
    "y_train=train_data[\"ZGON\"]\n",
    "\n",
    "X_test=test_data.drop(columns=\"ZGON\")\n",
    "y_test=test_data[\"ZGON\"]"
   ]
  },
  {
   "cell_type": "code",
   "execution_count": 355,
   "metadata": {},
   "outputs": [],
   "source": [
    "X_data = data_with_features.drop(columns=[\"ZGON\", \"PACJENT_NR\"])\n",
    "y_data = data_with_features[\"ZGON\"]\n",
    "X_train, X_test, y_train, y_test = train_test_split(X_data, y_data, stratify=y_data, test_size=0.2)"
   ]
  },
  {
   "cell_type": "code",
   "execution_count": 356,
   "metadata": {},
   "outputs": [],
   "source": [
    "# Standaryzacja danych\n",
    "scaler = StandardScaler()\n",
    "X_train_scaled = scaler.fit_transform(X_train)\n",
    "X_test_scaled = scaler.transform(X_test)"
   ]
  },
  {
   "cell_type": "code",
   "execution_count": 357,
   "metadata": {},
   "outputs": [
    {
     "data": {
      "text/plain": [
       "(85, 204)"
      ]
     },
     "execution_count": 357,
     "metadata": {},
     "output_type": "execute_result"
    }
   ],
   "source": [
    "X_train_scaled.shape"
   ]
  },
  {
   "cell_type": "code",
   "execution_count": 358,
   "metadata": {},
   "outputs": [
    {
     "data": {
      "application/vnd.plotly.v1+json": {
       "config": {
        "plotlyServerURL": "https://plot.ly"
       },
       "data": [
        {
         "mode": "lines+markers",
         "name": "Explained Variance Ratio",
         "type": "scatter",
         "x": [
          1,
          2,
          3,
          4,
          5,
          6,
          7,
          8,
          9,
          10,
          11,
          12,
          13,
          14,
          15,
          16,
          17,
          18,
          19,
          20,
          21,
          22,
          23,
          24,
          25,
          26,
          27,
          28,
          29,
          30
         ],
         "y": [
          0.1969924803336741,
          0.1115738877546581,
          0.10484936848195128,
          0.08303133767366867,
          0.08120028587791495,
          0.05342588940161157,
          0.045381479972622055,
          0.04232255947880192,
          0.02647728487466931,
          0.022866842149579302,
          0.022522099122581348,
          0.01965326099062566,
          0.015935381892207584,
          0.013732445026867345,
          0.013374907454181538,
          0.011114761596885202,
          0.010241369247333114,
          0.010130072758280635,
          0.008644741524510632,
          0.008113414395288546,
          0.006890257233049109,
          0.006221524025362973,
          0.006012861900789605,
          0.0051980806956644756,
          0.004583423847513839,
          0.004494228837499026,
          0.004111983317911355,
          0.004058441733615841,
          0.003819398371454881,
          0.003630243852762032
         ]
        }
       ],
       "layout": {
        "template": {
         "data": {
          "bar": [
           {
            "error_x": {
             "color": "#2a3f5f"
            },
            "error_y": {
             "color": "#2a3f5f"
            },
            "marker": {
             "line": {
              "color": "white",
              "width": 0.5
             },
             "pattern": {
              "fillmode": "overlay",
              "size": 10,
              "solidity": 0.2
             }
            },
            "type": "bar"
           }
          ],
          "barpolar": [
           {
            "marker": {
             "line": {
              "color": "white",
              "width": 0.5
             },
             "pattern": {
              "fillmode": "overlay",
              "size": 10,
              "solidity": 0.2
             }
            },
            "type": "barpolar"
           }
          ],
          "carpet": [
           {
            "aaxis": {
             "endlinecolor": "#2a3f5f",
             "gridcolor": "#C8D4E3",
             "linecolor": "#C8D4E3",
             "minorgridcolor": "#C8D4E3",
             "startlinecolor": "#2a3f5f"
            },
            "baxis": {
             "endlinecolor": "#2a3f5f",
             "gridcolor": "#C8D4E3",
             "linecolor": "#C8D4E3",
             "minorgridcolor": "#C8D4E3",
             "startlinecolor": "#2a3f5f"
            },
            "type": "carpet"
           }
          ],
          "choropleth": [
           {
            "colorbar": {
             "outlinewidth": 0,
             "ticks": ""
            },
            "type": "choropleth"
           }
          ],
          "contour": [
           {
            "colorbar": {
             "outlinewidth": 0,
             "ticks": ""
            },
            "colorscale": [
             [
              0,
              "#0d0887"
             ],
             [
              0.1111111111111111,
              "#46039f"
             ],
             [
              0.2222222222222222,
              "#7201a8"
             ],
             [
              0.3333333333333333,
              "#9c179e"
             ],
             [
              0.4444444444444444,
              "#bd3786"
             ],
             [
              0.5555555555555556,
              "#d8576b"
             ],
             [
              0.6666666666666666,
              "#ed7953"
             ],
             [
              0.7777777777777778,
              "#fb9f3a"
             ],
             [
              0.8888888888888888,
              "#fdca26"
             ],
             [
              1,
              "#f0f921"
             ]
            ],
            "type": "contour"
           }
          ],
          "contourcarpet": [
           {
            "colorbar": {
             "outlinewidth": 0,
             "ticks": ""
            },
            "type": "contourcarpet"
           }
          ],
          "heatmap": [
           {
            "colorbar": {
             "outlinewidth": 0,
             "ticks": ""
            },
            "colorscale": [
             [
              0,
              "#0d0887"
             ],
             [
              0.1111111111111111,
              "#46039f"
             ],
             [
              0.2222222222222222,
              "#7201a8"
             ],
             [
              0.3333333333333333,
              "#9c179e"
             ],
             [
              0.4444444444444444,
              "#bd3786"
             ],
             [
              0.5555555555555556,
              "#d8576b"
             ],
             [
              0.6666666666666666,
              "#ed7953"
             ],
             [
              0.7777777777777778,
              "#fb9f3a"
             ],
             [
              0.8888888888888888,
              "#fdca26"
             ],
             [
              1,
              "#f0f921"
             ]
            ],
            "type": "heatmap"
           }
          ],
          "heatmapgl": [
           {
            "colorbar": {
             "outlinewidth": 0,
             "ticks": ""
            },
            "colorscale": [
             [
              0,
              "#0d0887"
             ],
             [
              0.1111111111111111,
              "#46039f"
             ],
             [
              0.2222222222222222,
              "#7201a8"
             ],
             [
              0.3333333333333333,
              "#9c179e"
             ],
             [
              0.4444444444444444,
              "#bd3786"
             ],
             [
              0.5555555555555556,
              "#d8576b"
             ],
             [
              0.6666666666666666,
              "#ed7953"
             ],
             [
              0.7777777777777778,
              "#fb9f3a"
             ],
             [
              0.8888888888888888,
              "#fdca26"
             ],
             [
              1,
              "#f0f921"
             ]
            ],
            "type": "heatmapgl"
           }
          ],
          "histogram": [
           {
            "marker": {
             "pattern": {
              "fillmode": "overlay",
              "size": 10,
              "solidity": 0.2
             }
            },
            "type": "histogram"
           }
          ],
          "histogram2d": [
           {
            "colorbar": {
             "outlinewidth": 0,
             "ticks": ""
            },
            "colorscale": [
             [
              0,
              "#0d0887"
             ],
             [
              0.1111111111111111,
              "#46039f"
             ],
             [
              0.2222222222222222,
              "#7201a8"
             ],
             [
              0.3333333333333333,
              "#9c179e"
             ],
             [
              0.4444444444444444,
              "#bd3786"
             ],
             [
              0.5555555555555556,
              "#d8576b"
             ],
             [
              0.6666666666666666,
              "#ed7953"
             ],
             [
              0.7777777777777778,
              "#fb9f3a"
             ],
             [
              0.8888888888888888,
              "#fdca26"
             ],
             [
              1,
              "#f0f921"
             ]
            ],
            "type": "histogram2d"
           }
          ],
          "histogram2dcontour": [
           {
            "colorbar": {
             "outlinewidth": 0,
             "ticks": ""
            },
            "colorscale": [
             [
              0,
              "#0d0887"
             ],
             [
              0.1111111111111111,
              "#46039f"
             ],
             [
              0.2222222222222222,
              "#7201a8"
             ],
             [
              0.3333333333333333,
              "#9c179e"
             ],
             [
              0.4444444444444444,
              "#bd3786"
             ],
             [
              0.5555555555555556,
              "#d8576b"
             ],
             [
              0.6666666666666666,
              "#ed7953"
             ],
             [
              0.7777777777777778,
              "#fb9f3a"
             ],
             [
              0.8888888888888888,
              "#fdca26"
             ],
             [
              1,
              "#f0f921"
             ]
            ],
            "type": "histogram2dcontour"
           }
          ],
          "mesh3d": [
           {
            "colorbar": {
             "outlinewidth": 0,
             "ticks": ""
            },
            "type": "mesh3d"
           }
          ],
          "parcoords": [
           {
            "line": {
             "colorbar": {
              "outlinewidth": 0,
              "ticks": ""
             }
            },
            "type": "parcoords"
           }
          ],
          "pie": [
           {
            "automargin": true,
            "type": "pie"
           }
          ],
          "scatter": [
           {
            "marker": {
             "colorbar": {
              "outlinewidth": 0,
              "ticks": ""
             }
            },
            "type": "scatter"
           }
          ],
          "scatter3d": [
           {
            "line": {
             "colorbar": {
              "outlinewidth": 0,
              "ticks": ""
             }
            },
            "marker": {
             "colorbar": {
              "outlinewidth": 0,
              "ticks": ""
             }
            },
            "type": "scatter3d"
           }
          ],
          "scattercarpet": [
           {
            "marker": {
             "colorbar": {
              "outlinewidth": 0,
              "ticks": ""
             }
            },
            "type": "scattercarpet"
           }
          ],
          "scattergeo": [
           {
            "marker": {
             "colorbar": {
              "outlinewidth": 0,
              "ticks": ""
             }
            },
            "type": "scattergeo"
           }
          ],
          "scattergl": [
           {
            "marker": {
             "colorbar": {
              "outlinewidth": 0,
              "ticks": ""
             }
            },
            "type": "scattergl"
           }
          ],
          "scattermapbox": [
           {
            "marker": {
             "colorbar": {
              "outlinewidth": 0,
              "ticks": ""
             }
            },
            "type": "scattermapbox"
           }
          ],
          "scatterpolar": [
           {
            "marker": {
             "colorbar": {
              "outlinewidth": 0,
              "ticks": ""
             }
            },
            "type": "scatterpolar"
           }
          ],
          "scatterpolargl": [
           {
            "marker": {
             "colorbar": {
              "outlinewidth": 0,
              "ticks": ""
             }
            },
            "type": "scatterpolargl"
           }
          ],
          "scatterternary": [
           {
            "marker": {
             "colorbar": {
              "outlinewidth": 0,
              "ticks": ""
             }
            },
            "type": "scatterternary"
           }
          ],
          "surface": [
           {
            "colorbar": {
             "outlinewidth": 0,
             "ticks": ""
            },
            "colorscale": [
             [
              0,
              "#0d0887"
             ],
             [
              0.1111111111111111,
              "#46039f"
             ],
             [
              0.2222222222222222,
              "#7201a8"
             ],
             [
              0.3333333333333333,
              "#9c179e"
             ],
             [
              0.4444444444444444,
              "#bd3786"
             ],
             [
              0.5555555555555556,
              "#d8576b"
             ],
             [
              0.6666666666666666,
              "#ed7953"
             ],
             [
              0.7777777777777778,
              "#fb9f3a"
             ],
             [
              0.8888888888888888,
              "#fdca26"
             ],
             [
              1,
              "#f0f921"
             ]
            ],
            "type": "surface"
           }
          ],
          "table": [
           {
            "cells": {
             "fill": {
              "color": "#EBF0F8"
             },
             "line": {
              "color": "white"
             }
            },
            "header": {
             "fill": {
              "color": "#C8D4E3"
             },
             "line": {
              "color": "white"
             }
            },
            "type": "table"
           }
          ]
         },
         "layout": {
          "annotationdefaults": {
           "arrowcolor": "#2a3f5f",
           "arrowhead": 0,
           "arrowwidth": 1
          },
          "autotypenumbers": "strict",
          "coloraxis": {
           "colorbar": {
            "outlinewidth": 0,
            "ticks": ""
           }
          },
          "colorscale": {
           "diverging": [
            [
             0,
             "#8e0152"
            ],
            [
             0.1,
             "#c51b7d"
            ],
            [
             0.2,
             "#de77ae"
            ],
            [
             0.3,
             "#f1b6da"
            ],
            [
             0.4,
             "#fde0ef"
            ],
            [
             0.5,
             "#f7f7f7"
            ],
            [
             0.6,
             "#e6f5d0"
            ],
            [
             0.7,
             "#b8e186"
            ],
            [
             0.8,
             "#7fbc41"
            ],
            [
             0.9,
             "#4d9221"
            ],
            [
             1,
             "#276419"
            ]
           ],
           "sequential": [
            [
             0,
             "#0d0887"
            ],
            [
             0.1111111111111111,
             "#46039f"
            ],
            [
             0.2222222222222222,
             "#7201a8"
            ],
            [
             0.3333333333333333,
             "#9c179e"
            ],
            [
             0.4444444444444444,
             "#bd3786"
            ],
            [
             0.5555555555555556,
             "#d8576b"
            ],
            [
             0.6666666666666666,
             "#ed7953"
            ],
            [
             0.7777777777777778,
             "#fb9f3a"
            ],
            [
             0.8888888888888888,
             "#fdca26"
            ],
            [
             1,
             "#f0f921"
            ]
           ],
           "sequentialminus": [
            [
             0,
             "#0d0887"
            ],
            [
             0.1111111111111111,
             "#46039f"
            ],
            [
             0.2222222222222222,
             "#7201a8"
            ],
            [
             0.3333333333333333,
             "#9c179e"
            ],
            [
             0.4444444444444444,
             "#bd3786"
            ],
            [
             0.5555555555555556,
             "#d8576b"
            ],
            [
             0.6666666666666666,
             "#ed7953"
            ],
            [
             0.7777777777777778,
             "#fb9f3a"
            ],
            [
             0.8888888888888888,
             "#fdca26"
            ],
            [
             1,
             "#f0f921"
            ]
           ]
          },
          "colorway": [
           "#636efa",
           "#EF553B",
           "#00cc96",
           "#ab63fa",
           "#FFA15A",
           "#19d3f3",
           "#FF6692",
           "#B6E880",
           "#FF97FF",
           "#FECB52"
          ],
          "font": {
           "color": "#2a3f5f"
          },
          "geo": {
           "bgcolor": "white",
           "lakecolor": "white",
           "landcolor": "white",
           "showlakes": true,
           "showland": true,
           "subunitcolor": "#C8D4E3"
          },
          "hoverlabel": {
           "align": "left"
          },
          "hovermode": "closest",
          "mapbox": {
           "style": "light"
          },
          "paper_bgcolor": "white",
          "plot_bgcolor": "white",
          "polar": {
           "angularaxis": {
            "gridcolor": "#EBF0F8",
            "linecolor": "#EBF0F8",
            "ticks": ""
           },
           "bgcolor": "white",
           "radialaxis": {
            "gridcolor": "#EBF0F8",
            "linecolor": "#EBF0F8",
            "ticks": ""
           }
          },
          "scene": {
           "xaxis": {
            "backgroundcolor": "white",
            "gridcolor": "#DFE8F3",
            "gridwidth": 2,
            "linecolor": "#EBF0F8",
            "showbackground": true,
            "ticks": "",
            "zerolinecolor": "#EBF0F8"
           },
           "yaxis": {
            "backgroundcolor": "white",
            "gridcolor": "#DFE8F3",
            "gridwidth": 2,
            "linecolor": "#EBF0F8",
            "showbackground": true,
            "ticks": "",
            "zerolinecolor": "#EBF0F8"
           },
           "zaxis": {
            "backgroundcolor": "white",
            "gridcolor": "#DFE8F3",
            "gridwidth": 2,
            "linecolor": "#EBF0F8",
            "showbackground": true,
            "ticks": "",
            "zerolinecolor": "#EBF0F8"
           }
          },
          "shapedefaults": {
           "line": {
            "color": "#2a3f5f"
           }
          },
          "ternary": {
           "aaxis": {
            "gridcolor": "#DFE8F3",
            "linecolor": "#A2B1C6",
            "ticks": ""
           },
           "baxis": {
            "gridcolor": "#DFE8F3",
            "linecolor": "#A2B1C6",
            "ticks": ""
           },
           "bgcolor": "white",
           "caxis": {
            "gridcolor": "#DFE8F3",
            "linecolor": "#A2B1C6",
            "ticks": ""
           }
          },
          "title": {
           "x": 0.05
          },
          "xaxis": {
           "automargin": true,
           "gridcolor": "#EBF0F8",
           "linecolor": "#EBF0F8",
           "ticks": "",
           "title": {
            "standoff": 15
           },
           "zerolinecolor": "#EBF0F8",
           "zerolinewidth": 2
          },
          "yaxis": {
           "automargin": true,
           "gridcolor": "#EBF0F8",
           "linecolor": "#EBF0F8",
           "ticks": "",
           "title": {
            "standoff": 15
           },
           "zerolinecolor": "#EBF0F8",
           "zerolinewidth": 2
          }
         }
        },
        "xaxis": {
         "tickfont": {
          "size": 16
         },
         "title": {
          "font": {
           "size": 20
          },
          "text": "Liczba składowych"
         }
        },
        "yaxis": {
         "tickfont": {
          "size": 16
         },
         "title": {
          "font": {
           "size": 20
          },
          "text": "Odsetek wariancji"
         }
        }
       }
      }
     },
     "metadata": {},
     "output_type": "display_data"
    }
   ],
   "source": [
    "\n",
    "\n",
    "# PCA\n",
    "pca = PCA(n_components=0.95)\n",
    "X_pca = pca.fit_transform(X_train_scaled)\n",
    "\n",
    "# Wyjaśniona wariancja\n",
    "explained_variance_ratio = pca.explained_variance_ratio_\n",
    "\n",
    "# Kumulatywna suma wyjaśnionej wariancji\n",
    "cumulative_explained_variance_ratio = explained_variance_ratio.cumsum()\n",
    "\n",
    "# Tworzenie osypiska (scree plot) za pomocą Plotly\n",
    "fig = go.Figure()\n",
    "fig.add_trace(go.Scatter(x=list(range(1, len(explained_variance_ratio) + 1)), y=explained_variance_ratio,\n",
    "                         mode='lines+markers', name='Explained Variance Ratio'))\n",
    "# fig.add_trace(go.Scatter(x=list(range(1, len(cumulative_explained_variance_ratio) + 1)), \n",
    "#                          y=cumulative_explained_variance_ratio,\n",
    "#                          mode='lines+markers', name='Cumulative Explained Variance Ratio'))\n",
    "\n",
    "# Dodajemy etykiety i tytuł\n",
    "fig.update_layout(\n",
    "    xaxis=dict(\n",
    "        title='Liczba składowych',\n",
    "        tickfont=dict(size=16),\n",
    "        title_font=dict(size=20),\n",
    "    ),\n",
    "    yaxis=dict(\n",
    "        title='Odsetek wariancji',\n",
    "        tickfont=dict(size=16),\n",
    "        title_font=dict(size=20)\n",
    "    )\n",
    ")\n",
    "fig.update_layout(template=\"plotly_white\")\n",
    "\n",
    "\n",
    "# Wyświetlenie wykresu\n",
    "fig.show()\n",
    "fig.write_image(\"images5/osypisko.png\", width=1000, height=600, scale=3, format=\"png\")"
   ]
  },
  {
   "cell_type": "code",
   "execution_count": 359,
   "metadata": {},
   "outputs": [
    {
     "name": "stdout",
     "output_type": "stream",
     "text": [
      "0.4134157365702835\n"
     ]
    },
    {
     "data": {
      "application/vnd.plotly.v1+json": {
       "config": {
        "plotlyServerURL": "https://plot.ly"
       },
       "data": [
        {
         "hovertemplate": "Czy pacjent zmarł?=nie<br>Czynnik 1=%{x}<br>Czynnik 2=%{y}<br>Czynnik 3=%{z}<extra></extra>",
         "legendgroup": "nie",
         "marker": {
          "color": "#636efa",
          "opacity": 0.8,
          "size": 6,
          "symbol": "circle"
         },
         "mode": "markers",
         "name": "nie",
         "scene": "scene",
         "showlegend": true,
         "textposition": "top center",
         "type": "scatter3d",
         "x": [
          -4.566560276270589,
          -2.8237662414346887,
          -3.8297977357554287,
          4.772289866561066,
          -5.790853462736969,
          4.289247318204119,
          -6.893327405196163,
          -4.194674161532321,
          3.770132228452609,
          4.5393490369706555,
          -6.349305581905572,
          5.679636364091436,
          -3.532826847555812,
          -1.2234810580697992,
          0.3798021095267355,
          -3.7913161607465264,
          -3.781238037455874,
          -2.990953032528444,
          -3.3383021851023558,
          -1.1262073088085018,
          -3.588721997004074,
          1.4548913787897437,
          -1.8763242171258274,
          -3.4638060868911875,
          0.6819951650746318,
          -3.6685511777536712,
          13.35617882802106,
          1.9702510083593237,
          -2.9911296702643497,
          5.0901384352256045,
          -8.160736260305095,
          -5.033588773789274,
          0.7667194091536789,
          -3.3578771838325987,
          -3.1629165755890454,
          -2.686539761319632,
          -4.343944101017865,
          -1.2992958995476571,
          9.222306722427078,
          -5.985642824673812,
          6.077905393944463,
          -3.649187493181341,
          -5.899252032694396,
          3.5213756675094747
         ],
         "y": [
          2.280810668700628,
          -5.085202762698081,
          -5.263012645318387,
          -0.4655892821894927,
          -7.174052069421843,
          3.8021991658564214,
          0.46579340586785395,
          -0.6561353401206447,
          -1.927226228015922,
          -5.862297669340966,
          -1.2414226981536147,
          -5.460362027117554,
          -7.824201389872399,
          -2.2141411894942924,
          -2.054265822079605,
          0.5634908274374426,
          1.1750839359741567,
          -7.875951951470248,
          -3.964435251187212,
          -1.977208358099657,
          -9.441755192207225,
          2.993547360350026,
          2.5217761571136244,
          -0.45413436906242366,
          3.2918328124824994,
          0.7575091215172994,
          6.511227534796023,
          -2.3961938363794673,
          4.87623684944627,
          2.96711182316254,
          5.168522952919001,
          1.8566006259305732,
          -2.1453805222541,
          -0.16030858047284205,
          -10.871216150999585,
          -1.9936728727959432,
          0.2716153349701946,
          6.829902449839824,
          1.2611223768927393,
          16.216399853867593,
          -7.593180135974351,
          -7.206748285874268,
          2.85664066639751,
          3.1356919223829363
         ],
         "z": [
          -0.13636323484975194,
          -8.106369072637547,
          -2.027070405698314,
          1.2650854451775662,
          0.9599591802236955,
          -5.337557282788858,
          -0.09318951373215126,
          3.792004170353001,
          7.796807737610725,
          6.197515208296647,
          3.365605371370748,
          -3.588884875863368,
          0.7573210929429584,
          2.048283001651938,
          2.590388588497589,
          1.472121158929019,
          1.4957966529039257,
          -5.148014161780887,
          0.6022661875559582,
          -2.231252933789188,
          0.6942216580488805,
          0.16405174284647084,
          4.815364611999264,
          0.9812432333683508,
          2.948530762819321,
          1.0952920530992543,
          14.111497105334672,
          -5.5006645479438205,
          -6.680514848023826,
          2.597493836921709,
          0.5108855577218078,
          0.8682380035642544,
          1.1374314619075832,
          -3.1031165716374294,
          -0.6312385211678663,
          -9.817942654595338,
          1.9477297966771392,
          4.388136956267737,
          4.763575348295281,
          3.269475713581126,
          5.8175312203614835,
          -0.010115161519014329,
          2.2087447411124606,
          -0.8688192732800717
         ]
        },
        {
         "hovertemplate": "Czy pacjent zmarł?=tak<br>Czynnik 1=%{x}<br>Czynnik 2=%{y}<br>Czynnik 3=%{z}<extra></extra>",
         "legendgroup": "tak",
         "marker": {
          "color": "#EF553B",
          "opacity": 0.8,
          "size": 6,
          "symbol": "circle"
         },
         "mode": "markers",
         "name": "tak",
         "scene": "scene",
         "showlegend": true,
         "textposition": "top center",
         "type": "scatter3d",
         "x": [
          -2.090019464193533,
          0.7997715885406427,
          -2.520037097053696,
          -2.6241386710917642,
          -4.521593875212365,
          -7.306388160119982,
          5.147592127753769,
          -2.900554845580584,
          2.5616704011479468,
          -4.831185629195515,
          7.52692212883586,
          -6.490201709266653,
          3.78193080323102,
          -6.413008361020086,
          7.110506442783768,
          7.895844388817444,
          -7.804791089376365,
          -2.6560483520255467,
          2.4913584782063465,
          13.877193557232637,
          -5.4871846492872445,
          -7.264710479926631,
          2.3046484077211096,
          9.360038556005494,
          12.473159754168766,
          16.261380643650703,
          -3.1918713617246914,
          -1.935433478107372,
          -1.924036824967651,
          -2.4119129547049485,
          18.573956822718593,
          -2.7801533736284134,
          1.1359368348428738,
          -5.110353828294256,
          -7.113749775903772,
          22.81804887941678,
          8.690958073554844,
          -2.81949883239293,
          -0.12562819740688866,
          -2.418372696312709,
          -2.242139564057822
         ],
         "y": [
          0.0909307058715824,
          -3.0173288534989733,
          -2.373229676861659,
          2.6871855191308165,
          7.515128381889088,
          6.205929916741697,
          -5.850818445388579,
          -1.8746796448529177,
          -0.31381599172482527,
          5.450555252463645,
          -5.639108923573852,
          5.435752521867116,
          2.1812398759715794,
          1.5558342420998128,
          -1.9884909021830233,
          11.080514388322062,
          7.852013339542223,
          -8.544194875659022,
          -1.6416814186201558,
          0.6112685472723784,
          3.742099488734242,
          0.28369536107130516,
          6.375851991081287,
          -1.4901551402475088,
          2.8692531700126005,
          -0.09664936834077237,
          -4.610371108219328,
          2.6677660153514866,
          0.0827373960092376,
          2.4835827635532945,
          -0.12222030375410446,
          5.902142983222061,
          1.3258459519913803,
          -4.372144955928049,
          3.162221831440272,
          4.08083211510155,
          0.07650480888030566,
          0.968758856036301,
          -3.588623978584422,
          -2.5643686654067888,
          -5.094784386118404
         ],
         "z": [
          -6.342198188079211,
          -0.9480447906170582,
          -0.8827270298109229,
          2.4433167885265505,
          -0.35568877649638797,
          0.03815581113140783,
          6.250377624210207,
          -3.4253681429495706,
          1.630059262243042,
          0.09163163264367648,
          -2.077931634749584,
          1.1063681956020388,
          -7.843339016789058,
          0.7189551414310684,
          -5.935748153459592,
          -11.489422877800603,
          2.123918920950413,
          3.2098432624442164,
          -5.20219130480768,
          3.4406359709408947,
          -1.736767258808482,
          -0.621713341972646,
          -2.105576620952679,
          -3.8129210941359166,
          -12.714155174417492,
          13.68544694573395,
          -4.379137069163988,
          -4.224862576065951,
          -1.4555886070153603,
          -0.13878792260185968,
          -7.1865749142138915,
          3.889977224856108,
          -1.1077540217151587,
          1.4170755218304203,
          0.694239122939846,
          -2.351758863998149,
          3.061935657028068,
          6.328731827473394,
          4.92100668253531,
          -2.9666484235421278,
          2.8717456715096175
         ]
        }
       ],
       "layout": {
        "legend": {
         "font": {
          "size": 14
         },
         "title": {
          "font": {
           "size": 14
          },
          "text": "Czy pacjent zmarł?"
         },
         "tracegroupgap": 0
        },
        "margin": {
         "t": 60
        },
        "scene": {
         "domain": {
          "x": [
           0,
           1
          ],
          "y": [
           0,
           1
          ]
         },
         "xaxis": {
          "tickfont": {
           "size": 10
          },
          "title": {
           "text": "Czynnik 1"
          }
         },
         "yaxis": {
          "tickfont": {
           "size": 10
          },
          "title": {
           "text": "Czynnik 2"
          }
         },
         "zaxis": {
          "tickfont": {
           "size": 10
          },
          "title": {
           "text": "Czynnik 3"
          }
         }
        },
        "template": {
         "data": {
          "bar": [
           {
            "error_x": {
             "color": "#2a3f5f"
            },
            "error_y": {
             "color": "#2a3f5f"
            },
            "marker": {
             "line": {
              "color": "white",
              "width": 0.5
             },
             "pattern": {
              "fillmode": "overlay",
              "size": 10,
              "solidity": 0.2
             }
            },
            "type": "bar"
           }
          ],
          "barpolar": [
           {
            "marker": {
             "line": {
              "color": "white",
              "width": 0.5
             },
             "pattern": {
              "fillmode": "overlay",
              "size": 10,
              "solidity": 0.2
             }
            },
            "type": "barpolar"
           }
          ],
          "carpet": [
           {
            "aaxis": {
             "endlinecolor": "#2a3f5f",
             "gridcolor": "#C8D4E3",
             "linecolor": "#C8D4E3",
             "minorgridcolor": "#C8D4E3",
             "startlinecolor": "#2a3f5f"
            },
            "baxis": {
             "endlinecolor": "#2a3f5f",
             "gridcolor": "#C8D4E3",
             "linecolor": "#C8D4E3",
             "minorgridcolor": "#C8D4E3",
             "startlinecolor": "#2a3f5f"
            },
            "type": "carpet"
           }
          ],
          "choropleth": [
           {
            "colorbar": {
             "outlinewidth": 0,
             "ticks": ""
            },
            "type": "choropleth"
           }
          ],
          "contour": [
           {
            "colorbar": {
             "outlinewidth": 0,
             "ticks": ""
            },
            "colorscale": [
             [
              0,
              "#0d0887"
             ],
             [
              0.1111111111111111,
              "#46039f"
             ],
             [
              0.2222222222222222,
              "#7201a8"
             ],
             [
              0.3333333333333333,
              "#9c179e"
             ],
             [
              0.4444444444444444,
              "#bd3786"
             ],
             [
              0.5555555555555556,
              "#d8576b"
             ],
             [
              0.6666666666666666,
              "#ed7953"
             ],
             [
              0.7777777777777778,
              "#fb9f3a"
             ],
             [
              0.8888888888888888,
              "#fdca26"
             ],
             [
              1,
              "#f0f921"
             ]
            ],
            "type": "contour"
           }
          ],
          "contourcarpet": [
           {
            "colorbar": {
             "outlinewidth": 0,
             "ticks": ""
            },
            "type": "contourcarpet"
           }
          ],
          "heatmap": [
           {
            "colorbar": {
             "outlinewidth": 0,
             "ticks": ""
            },
            "colorscale": [
             [
              0,
              "#0d0887"
             ],
             [
              0.1111111111111111,
              "#46039f"
             ],
             [
              0.2222222222222222,
              "#7201a8"
             ],
             [
              0.3333333333333333,
              "#9c179e"
             ],
             [
              0.4444444444444444,
              "#bd3786"
             ],
             [
              0.5555555555555556,
              "#d8576b"
             ],
             [
              0.6666666666666666,
              "#ed7953"
             ],
             [
              0.7777777777777778,
              "#fb9f3a"
             ],
             [
              0.8888888888888888,
              "#fdca26"
             ],
             [
              1,
              "#f0f921"
             ]
            ],
            "type": "heatmap"
           }
          ],
          "heatmapgl": [
           {
            "colorbar": {
             "outlinewidth": 0,
             "ticks": ""
            },
            "colorscale": [
             [
              0,
              "#0d0887"
             ],
             [
              0.1111111111111111,
              "#46039f"
             ],
             [
              0.2222222222222222,
              "#7201a8"
             ],
             [
              0.3333333333333333,
              "#9c179e"
             ],
             [
              0.4444444444444444,
              "#bd3786"
             ],
             [
              0.5555555555555556,
              "#d8576b"
             ],
             [
              0.6666666666666666,
              "#ed7953"
             ],
             [
              0.7777777777777778,
              "#fb9f3a"
             ],
             [
              0.8888888888888888,
              "#fdca26"
             ],
             [
              1,
              "#f0f921"
             ]
            ],
            "type": "heatmapgl"
           }
          ],
          "histogram": [
           {
            "marker": {
             "pattern": {
              "fillmode": "overlay",
              "size": 10,
              "solidity": 0.2
             }
            },
            "type": "histogram"
           }
          ],
          "histogram2d": [
           {
            "colorbar": {
             "outlinewidth": 0,
             "ticks": ""
            },
            "colorscale": [
             [
              0,
              "#0d0887"
             ],
             [
              0.1111111111111111,
              "#46039f"
             ],
             [
              0.2222222222222222,
              "#7201a8"
             ],
             [
              0.3333333333333333,
              "#9c179e"
             ],
             [
              0.4444444444444444,
              "#bd3786"
             ],
             [
              0.5555555555555556,
              "#d8576b"
             ],
             [
              0.6666666666666666,
              "#ed7953"
             ],
             [
              0.7777777777777778,
              "#fb9f3a"
             ],
             [
              0.8888888888888888,
              "#fdca26"
             ],
             [
              1,
              "#f0f921"
             ]
            ],
            "type": "histogram2d"
           }
          ],
          "histogram2dcontour": [
           {
            "colorbar": {
             "outlinewidth": 0,
             "ticks": ""
            },
            "colorscale": [
             [
              0,
              "#0d0887"
             ],
             [
              0.1111111111111111,
              "#46039f"
             ],
             [
              0.2222222222222222,
              "#7201a8"
             ],
             [
              0.3333333333333333,
              "#9c179e"
             ],
             [
              0.4444444444444444,
              "#bd3786"
             ],
             [
              0.5555555555555556,
              "#d8576b"
             ],
             [
              0.6666666666666666,
              "#ed7953"
             ],
             [
              0.7777777777777778,
              "#fb9f3a"
             ],
             [
              0.8888888888888888,
              "#fdca26"
             ],
             [
              1,
              "#f0f921"
             ]
            ],
            "type": "histogram2dcontour"
           }
          ],
          "mesh3d": [
           {
            "colorbar": {
             "outlinewidth": 0,
             "ticks": ""
            },
            "type": "mesh3d"
           }
          ],
          "parcoords": [
           {
            "line": {
             "colorbar": {
              "outlinewidth": 0,
              "ticks": ""
             }
            },
            "type": "parcoords"
           }
          ],
          "pie": [
           {
            "automargin": true,
            "type": "pie"
           }
          ],
          "scatter": [
           {
            "marker": {
             "colorbar": {
              "outlinewidth": 0,
              "ticks": ""
             }
            },
            "type": "scatter"
           }
          ],
          "scatter3d": [
           {
            "line": {
             "colorbar": {
              "outlinewidth": 0,
              "ticks": ""
             }
            },
            "marker": {
             "colorbar": {
              "outlinewidth": 0,
              "ticks": ""
             }
            },
            "type": "scatter3d"
           }
          ],
          "scattercarpet": [
           {
            "marker": {
             "colorbar": {
              "outlinewidth": 0,
              "ticks": ""
             }
            },
            "type": "scattercarpet"
           }
          ],
          "scattergeo": [
           {
            "marker": {
             "colorbar": {
              "outlinewidth": 0,
              "ticks": ""
             }
            },
            "type": "scattergeo"
           }
          ],
          "scattergl": [
           {
            "marker": {
             "colorbar": {
              "outlinewidth": 0,
              "ticks": ""
             }
            },
            "type": "scattergl"
           }
          ],
          "scattermapbox": [
           {
            "marker": {
             "colorbar": {
              "outlinewidth": 0,
              "ticks": ""
             }
            },
            "type": "scattermapbox"
           }
          ],
          "scatterpolar": [
           {
            "marker": {
             "colorbar": {
              "outlinewidth": 0,
              "ticks": ""
             }
            },
            "type": "scatterpolar"
           }
          ],
          "scatterpolargl": [
           {
            "marker": {
             "colorbar": {
              "outlinewidth": 0,
              "ticks": ""
             }
            },
            "type": "scatterpolargl"
           }
          ],
          "scatterternary": [
           {
            "marker": {
             "colorbar": {
              "outlinewidth": 0,
              "ticks": ""
             }
            },
            "type": "scatterternary"
           }
          ],
          "surface": [
           {
            "colorbar": {
             "outlinewidth": 0,
             "ticks": ""
            },
            "colorscale": [
             [
              0,
              "#0d0887"
             ],
             [
              0.1111111111111111,
              "#46039f"
             ],
             [
              0.2222222222222222,
              "#7201a8"
             ],
             [
              0.3333333333333333,
              "#9c179e"
             ],
             [
              0.4444444444444444,
              "#bd3786"
             ],
             [
              0.5555555555555556,
              "#d8576b"
             ],
             [
              0.6666666666666666,
              "#ed7953"
             ],
             [
              0.7777777777777778,
              "#fb9f3a"
             ],
             [
              0.8888888888888888,
              "#fdca26"
             ],
             [
              1,
              "#f0f921"
             ]
            ],
            "type": "surface"
           }
          ],
          "table": [
           {
            "cells": {
             "fill": {
              "color": "#EBF0F8"
             },
             "line": {
              "color": "white"
             }
            },
            "header": {
             "fill": {
              "color": "#C8D4E3"
             },
             "line": {
              "color": "white"
             }
            },
            "type": "table"
           }
          ]
         },
         "layout": {
          "annotationdefaults": {
           "arrowcolor": "#2a3f5f",
           "arrowhead": 0,
           "arrowwidth": 1
          },
          "autotypenumbers": "strict",
          "coloraxis": {
           "colorbar": {
            "outlinewidth": 0,
            "ticks": ""
           }
          },
          "colorscale": {
           "diverging": [
            [
             0,
             "#8e0152"
            ],
            [
             0.1,
             "#c51b7d"
            ],
            [
             0.2,
             "#de77ae"
            ],
            [
             0.3,
             "#f1b6da"
            ],
            [
             0.4,
             "#fde0ef"
            ],
            [
             0.5,
             "#f7f7f7"
            ],
            [
             0.6,
             "#e6f5d0"
            ],
            [
             0.7,
             "#b8e186"
            ],
            [
             0.8,
             "#7fbc41"
            ],
            [
             0.9,
             "#4d9221"
            ],
            [
             1,
             "#276419"
            ]
           ],
           "sequential": [
            [
             0,
             "#0d0887"
            ],
            [
             0.1111111111111111,
             "#46039f"
            ],
            [
             0.2222222222222222,
             "#7201a8"
            ],
            [
             0.3333333333333333,
             "#9c179e"
            ],
            [
             0.4444444444444444,
             "#bd3786"
            ],
            [
             0.5555555555555556,
             "#d8576b"
            ],
            [
             0.6666666666666666,
             "#ed7953"
            ],
            [
             0.7777777777777778,
             "#fb9f3a"
            ],
            [
             0.8888888888888888,
             "#fdca26"
            ],
            [
             1,
             "#f0f921"
            ]
           ],
           "sequentialminus": [
            [
             0,
             "#0d0887"
            ],
            [
             0.1111111111111111,
             "#46039f"
            ],
            [
             0.2222222222222222,
             "#7201a8"
            ],
            [
             0.3333333333333333,
             "#9c179e"
            ],
            [
             0.4444444444444444,
             "#bd3786"
            ],
            [
             0.5555555555555556,
             "#d8576b"
            ],
            [
             0.6666666666666666,
             "#ed7953"
            ],
            [
             0.7777777777777778,
             "#fb9f3a"
            ],
            [
             0.8888888888888888,
             "#fdca26"
            ],
            [
             1,
             "#f0f921"
            ]
           ]
          },
          "colorway": [
           "#636efa",
           "#EF553B",
           "#00cc96",
           "#ab63fa",
           "#FFA15A",
           "#19d3f3",
           "#FF6692",
           "#B6E880",
           "#FF97FF",
           "#FECB52"
          ],
          "font": {
           "color": "#2a3f5f"
          },
          "geo": {
           "bgcolor": "white",
           "lakecolor": "white",
           "landcolor": "white",
           "showlakes": true,
           "showland": true,
           "subunitcolor": "#C8D4E3"
          },
          "hoverlabel": {
           "align": "left"
          },
          "hovermode": "closest",
          "mapbox": {
           "style": "light"
          },
          "paper_bgcolor": "white",
          "plot_bgcolor": "white",
          "polar": {
           "angularaxis": {
            "gridcolor": "#EBF0F8",
            "linecolor": "#EBF0F8",
            "ticks": ""
           },
           "bgcolor": "white",
           "radialaxis": {
            "gridcolor": "#EBF0F8",
            "linecolor": "#EBF0F8",
            "ticks": ""
           }
          },
          "scene": {
           "xaxis": {
            "backgroundcolor": "white",
            "gridcolor": "#DFE8F3",
            "gridwidth": 2,
            "linecolor": "#EBF0F8",
            "showbackground": true,
            "ticks": "",
            "zerolinecolor": "#EBF0F8"
           },
           "yaxis": {
            "backgroundcolor": "white",
            "gridcolor": "#DFE8F3",
            "gridwidth": 2,
            "linecolor": "#EBF0F8",
            "showbackground": true,
            "ticks": "",
            "zerolinecolor": "#EBF0F8"
           },
           "zaxis": {
            "backgroundcolor": "white",
            "gridcolor": "#DFE8F3",
            "gridwidth": 2,
            "linecolor": "#EBF0F8",
            "showbackground": true,
            "ticks": "",
            "zerolinecolor": "#EBF0F8"
           }
          },
          "shapedefaults": {
           "line": {
            "color": "#2a3f5f"
           }
          },
          "ternary": {
           "aaxis": {
            "gridcolor": "#DFE8F3",
            "linecolor": "#A2B1C6",
            "ticks": ""
           },
           "baxis": {
            "gridcolor": "#DFE8F3",
            "linecolor": "#A2B1C6",
            "ticks": ""
           },
           "bgcolor": "white",
           "caxis": {
            "gridcolor": "#DFE8F3",
            "linecolor": "#A2B1C6",
            "ticks": ""
           }
          },
          "title": {
           "x": 0.05
          },
          "xaxis": {
           "automargin": true,
           "gridcolor": "#EBF0F8",
           "linecolor": "#EBF0F8",
           "ticks": "",
           "title": {
            "standoff": 15
           },
           "zerolinecolor": "#EBF0F8",
           "zerolinewidth": 2
          },
          "yaxis": {
           "automargin": true,
           "gridcolor": "#EBF0F8",
           "linecolor": "#EBF0F8",
           "ticks": "",
           "title": {
            "standoff": 15
           },
           "zerolinecolor": "#EBF0F8",
           "zerolinewidth": 2
          }
         }
        }
       }
      }
     },
     "metadata": {},
     "output_type": "display_data"
    }
   ],
   "source": [
    "#PCA\n",
    "pca = PCA(n_components=3)\n",
    "X_train_pca = pca.fit_transform(X_train_scaled)\n",
    "X_test_pca = pca.transform(X_test_scaled)\n",
    "\n",
    "explained_variance_ratio = pca.explained_variance_ratio_\n",
    "print(sum(explained_variance_ratio))\n",
    "\n",
    "X_pca_df=pd.DataFrame(X_train_pca, columns=['Czynnik 1', 'Czynnik 2', 'Czynnik 3'])\n",
    "X_pca_df['ZGON'] = y\n",
    "X_pca_df['Czy pacjent zmarł?'] = X_pca_df['ZGON'].map({1: 'tak', 0: 'nie'})\n",
    "\n",
    "fig = px.scatter_3d(X_pca_df, x='Czynnik 1', y='Czynnik 2', z='Czynnik 3', color='Czy pacjent zmarł?', size_max=18, opacity=0.8)\n",
    "fig.update_traces(textposition='top center', marker_size=6)\n",
    "\n",
    "fig.update_layout(\n",
    "    scene=dict(\n",
    "        xaxis=dict(tickfont=dict(size=10)),\n",
    "        yaxis=dict(tickfont=dict(size=10)),\n",
    "        zaxis=dict(tickfont=dict(size=10)),\n",
    "    )\n",
    ")\n",
    "\n",
    "fig.update_layout(legend=dict(font=dict(size=14)), legend_title=dict(font=dict(size=14)))\n",
    "fig.update_layout(template=\"plotly_white\")\n",
    "fig.show()\n",
    "\n",
    "fig.write_image(\"images5/\" + \"pca_miernik_3d\" + \".png\", width=1000, height=600, scale=3, format=\"png\")\n"
   ]
  },
  {
   "cell_type": "code",
   "execution_count": 360,
   "metadata": {},
   "outputs": [
    {
     "name": "stdout",
     "output_type": "stream",
     "text": [
      "0.8533395104856147\n"
     ]
    }
   ],
   "source": [
    "pca = PCA(n_components=15)\n",
    "X_train_pca = pca.fit_transform(X_train_scaled)\n",
    "X_test_pca = pca.transform(X_test_scaled)\n",
    "explained_variance_ratio = pca.explained_variance_ratio_\n",
    "print(sum(explained_variance_ratio))"
   ]
  },
  {
   "cell_type": "code",
   "execution_count": 361,
   "metadata": {},
   "outputs": [
    {
     "name": "stdout",
     "output_type": "stream",
     "text": [
      "Przetwarzanie KNN...\n",
      "Najlepsze parametry dla KNN: {'n_neighbors': 7, 'weights': 'uniform'}\n",
      "Najlepszy wynik dla KNN: 0.7625\n",
      "\n",
      "Przetwarzanie LDA...\n",
      "Najlepsze parametry dla LDA: {'solver': 'svd'}\n",
      "Najlepszy wynik dla LDA: 0.7602272727272726\n",
      "\n",
      "Przetwarzanie SVC...\n",
      "Najlepsze parametry dla SVC: {'C': 1, 'kernel': 'sigmoid'}\n",
      "Najlepszy wynik dla SVC: 0.7863636363636364\n",
      "\n",
      "Przetwarzanie Decision Tree...\n",
      "Najlepsze parametry dla Decision Tree: {'criterion': 'entropy', 'max_depth': 30}\n",
      "Najlepszy wynik dla Decision Tree: 0.75\n",
      "\n",
      "Przetwarzanie Random Forest...\n",
      "Najlepsze parametry dla Random Forest: {'criterion': 'gini', 'max_depth': 30, 'n_estimators': 200}\n",
      "Najlepszy wynik dla Random Forest: 0.7613636363636364\n",
      "\n",
      "Dokładność KNN na zbiorze testowym: 0.7727272727272727\n",
      "Dokładność LDA na zbiorze testowym: 0.8636363636363636\n",
      "Dokładność SVC na zbiorze testowym: 0.8181818181818182\n",
      "Dokładność Decision Tree na zbiorze testowym: 0.6818181818181818\n",
      "Dokładność Random Forest na zbiorze testowym: 0.8181818181818182\n"
     ]
    }
   ],
   "source": [
    "# Klasyfikatory\n",
    "\n",
    "classifiers = {\n",
    "    'KNN': KNeighborsClassifier(),\n",
    "    'LDA': LinearDiscriminantAnalysis(),\n",
    "    'SVC': SVC(probability=True),\n",
    "    'Decision Tree': DecisionTreeClassifier(),\n",
    "    'Random Forest': RandomForestClassifier()\n",
    "}\n",
    "\n",
    "param_grids = {\n",
    "    'KNN': {'n_neighbors': [3, 5, 7, 9, 11], 'weights': ['uniform', 'distance']},\n",
    "    'LDA': {'solver': ['svd', 'lsqr', 'eigen']},\n",
    "    'SVC': {'C': [0.1, 0.6,  1, 1.5, 10, 100], 'kernel': ['linear', 'rbf', 'poly', 'sigmoid']},\n",
    "    'Decision Tree': {'criterion': ['gini', 'entropy'], 'max_depth': [10, 20, 30, 40, 50]},\n",
    "    'Random Forest': {'n_estimators': [5,10, 50, 100, 200], 'criterion': ['gini', 'entropy'], 'max_depth': [5,10, 20, 30, 40, 50]}\n",
    "}\n",
    "\n",
    "\n",
    "# Przechowywanie najlepszych modeli i ich wyników\n",
    "best_models = {}\n",
    "best_scores = {}\n",
    "\n",
    "# Przeszukiwanie hiperparametrów dla każdego klasyfikatora\n",
    "for name, classifier in classifiers.items():\n",
    "    print(f\"Przetwarzanie {name}...\")\n",
    "    grid_search = GridSearchCV(classifier, param_grids[name], cv=8, n_jobs=-1, scoring='accuracy')\n",
    "    grid_search.fit(X_train_pca, y_train)\n",
    "    best_models[name] = grid_search.best_estimator_\n",
    "    best_scores[name] = grid_search.best_score_\n",
    "    print(f\"Najlepsze parametry dla {name}: {grid_search.best_params_}\")\n",
    "    print(f\"Najlepszy wynik dla {name}: {grid_search.best_score_}\\n\")\n",
    "\n",
    "# Ocena najlepszych modeli na zbiorze testowym\n",
    "for name, model in best_models.items():\n",
    "    y_pred = model.predict(X_test_pca)\n",
    "    test_score = accuracy_score(y_test, y_pred)\n",
    "    print(f\"Dokładność {name} na zbiorze testowym: {test_score}\")"
   ]
  },
  {
   "cell_type": "code",
   "execution_count": 362,
   "metadata": {},
   "outputs": [
    {
     "data": {
      "text/plain": [
       "{'KNN': KNeighborsClassifier(n_neighbors=7),\n",
       " 'LDA': LinearDiscriminantAnalysis(),\n",
       " 'SVC': SVC(C=1, kernel='sigmoid', probability=True),\n",
       " 'Decision Tree': DecisionTreeClassifier(criterion='entropy', max_depth=30),\n",
       " 'Random Forest': RandomForestClassifier(max_depth=30, n_estimators=200)}"
      ]
     },
     "execution_count": 362,
     "metadata": {},
     "output_type": "execute_result"
    }
   ],
   "source": [
    "best_models"
   ]
  },
  {
   "cell_type": "code",
   "execution_count": 363,
   "metadata": {},
   "outputs": [
    {
     "name": "stdout",
     "output_type": "stream",
     "text": [
      "Classification Report for KNeighborsClassifier:\n",
      "               precision    recall  f1-score   support\n",
      "\n",
      "         0.0       0.69      1.00      0.81        11\n",
      "         1.0       1.00      0.55      0.71        11\n",
      "\n",
      "    accuracy                           0.77        22\n",
      "   macro avg       0.84      0.77      0.76        22\n",
      "weighted avg       0.84      0.77      0.76        22\n",
      "\n",
      "Time taken: 0.0010001659393310547 seconds\n",
      "Classification Report for LinearDiscriminantAnalysis:\n",
      "               precision    recall  f1-score   support\n",
      "\n",
      "         0.0       0.83      0.91      0.87        11\n",
      "         1.0       0.90      0.82      0.86        11\n",
      "\n",
      "    accuracy                           0.86        22\n",
      "   macro avg       0.87      0.86      0.86        22\n",
      "weighted avg       0.87      0.86      0.86        22\n",
      "\n",
      "Time taken: 0.0010004043579101562 seconds\n",
      "Classification Report for SVC:\n",
      "               precision    recall  f1-score   support\n",
      "\n",
      "         0.0       0.77      0.91      0.83        11\n",
      "         1.0       0.89      0.73      0.80        11\n",
      "\n",
      "    accuracy                           0.82        22\n",
      "   macro avg       0.83      0.82      0.82        22\n",
      "weighted avg       0.83      0.82      0.82        22\n",
      "\n",
      "Time taken: 0.0010068416595458984 seconds\n",
      "Classification Report for DecisionTreeClassifier:\n",
      "               precision    recall  f1-score   support\n",
      "\n",
      "         0.0       0.64      0.64      0.64        11\n",
      "         1.0       0.64      0.64      0.64        11\n",
      "\n",
      "    accuracy                           0.64        22\n",
      "   macro avg       0.64      0.64      0.64        22\n",
      "weighted avg       0.64      0.64      0.64        22\n",
      "\n",
      "Time taken: 0.0010004043579101562 seconds\n",
      "Classification Report for RandomForestClassifier:\n",
      "               precision    recall  f1-score   support\n",
      "\n",
      "         0.0       0.77      0.91      0.83        11\n",
      "         1.0       0.89      0.73      0.80        11\n",
      "\n",
      "    accuracy                           0.82        22\n",
      "   macro avg       0.83      0.82      0.82        22\n",
      "weighted avg       0.83      0.82      0.82        22\n",
      "\n",
      "Time taken: 0.20705485343933105 seconds\n"
     ]
    },
    {
     "data": {
      "image/png": "[encoded data removed]",
      "text/plain": [
       "<Figure size 1080x720 with 1 Axes>"
      ]
     },
     "metadata": {
      "needs_background": "light"
     },
     "output_type": "display_data"
    }
   ],
   "source": [
    "# Funkcja do trenowania i mierzenia czasu\n",
    "def train_and_evaluate(classifier, X_train, X_test, y_train, y_test):\n",
    "    start_time = time.time()\n",
    "    classifier.fit(X_train, y_train)\n",
    "    end_time = time.time()\n",
    "    y_pred = classifier.predict(X_test)\n",
    "    y_proba = classifier.predict_proba(X_test)[:, 1]\n",
    "    fpr, tpr, _ = roc_curve(y_test, y_proba)\n",
    "    roc_auc = auc(fpr, tpr)\n",
    "    print(f\"Classification Report for {classifier.__class__.__name__}:\\n\", classification_report(y_test, y_pred))\n",
    "    print(f\"Time taken: {end_time - start_time} seconds\")\n",
    "    return fpr, tpr, roc_auc, end_time - start_time\n",
    "\n",
    "\n",
    "# Krzywe ROC\n",
    "plt.figure(figsize=(15, 10))\n",
    "for name, classifier in best_models.items():\n",
    "    fpr, tpr, roc_auc, _ = train_and_evaluate(classifier, X_train_pca, X_test_pca, y_train, y_test)\n",
    "    plt.plot(fpr, tpr, label=f'{name} (AUC = {roc_auc:.2f})')\n",
    "\n",
    "plt.plot([0, 1], [0, 1], 'k--')\n",
    "plt.xlim([0.0, 1.0])\n",
    "plt.ylim([0.0, 1.05])\n",
    "plt.xlabel('False Positive Rate')\n",
    "plt.ylabel('True Positive Rate')\n",
    "plt.title('Receiver Operating Characteristic (ROC) Curves')\n",
    "plt.legend(loc='lower right')\n",
    "plt.show()\n"
   ]
  },
  {
   "cell_type": "code",
   "execution_count": 369,
   "metadata": {},
   "outputs": [
    {
     "ename": "AttributeError",
     "evalue": "'RFECV' object has no attribute 'cv_results_'",
     "output_type": "error",
     "traceback": [
      "\u001b[1;31m---------------------------------------------------------------------------\u001b[0m",
      "\u001b[1;31mAttributeError\u001b[0m                            Traceback (most recent call last)",
      "Input \u001b[1;32mIn [369]\u001b[0m, in \u001b[0;36m<cell line: 2>\u001b[1;34m()\u001b[0m\n\u001b[0;32m      1\u001b[0m min_features_to_select\u001b[38;5;241m=\u001b[39m\u001b[38;5;241m1\u001b[39m\n\u001b[1;32m----> 2\u001b[0m n_scores \u001b[38;5;241m=\u001b[39m \u001b[38;5;28mlen\u001b[39m(\u001b[43mrfecv\u001b[49m\u001b[38;5;241;43m.\u001b[39;49m\u001b[43mcv_results_\u001b[49m[\u001b[38;5;124m\"\u001b[39m\u001b[38;5;124mmean_test_score\u001b[39m\u001b[38;5;124m\"\u001b[39m])\n\u001b[0;32m      3\u001b[0m plt\u001b[38;5;241m.\u001b[39mfigure()\n\u001b[0;32m      4\u001b[0m plt\u001b[38;5;241m.\u001b[39mxlabel(\u001b[38;5;124m\"\u001b[39m\u001b[38;5;124mNumber of features selected\u001b[39m\u001b[38;5;124m\"\u001b[39m)\n",
      "\u001b[1;31mAttributeError\u001b[0m: 'RFECV' object has no attribute 'cv_results_'"
     ]
    }
   ],
   "source": []
  },
  {
   "cell_type": "code",
   "execution_count": 368,
   "metadata": {},
   "outputs": [
    {
     "name": "stdout",
     "output_type": "stream",
     "text": [
      "Index(['BETET__mean', 'BETET__median', 'O2SATTET__median', 'IONH__mean',\n",
      "       'IONH__median', 'IONH_kw__mean', 'IONH_kw__variance',\n",
      "       'IONH_kw__first_location_of_maximum',\n",
      "       'IONH_kw__agg_linear_trend__attr_\"slope\"__chunk_len_3__f_agg_\"mean\"',\n",
      "       'IONH_kw__agg_linear_trend__attr_\"slope\"__chunk_len_6__f_agg_\"mean\"',\n",
      "       'CO2TET_kw__agg_linear_trend__attr_\"slope\"__chunk_len_6__f_agg_\"mean\"',\n",
      "       'BETET_pn__median', 'O2TET_pn__mean', 'IONH_pn__maximum',\n",
      "       'IONH_pn__mean', 'IONH_pn__variance',\n",
      "       'IONH_pn__first_location_of_maximum',\n",
      "       'IONH_pn__agg_linear_trend__attr_\"slope\"__chunk_len_6__f_agg_\"mean\"',\n",
      "       'euclidean_kw__mean',\n",
      "       'euclidean_kw_skum__agg_linear_trend__attr_\"slope\"__chunk_len_6__f_agg_\"mean\"'],\n",
      "      dtype='object')\n",
      "Classification Report for KNeighborsClassifier:\n",
      "               precision    recall  f1-score   support\n",
      "\n",
      "         0.0       0.69      0.82      0.75        11\n",
      "         1.0       0.78      0.64      0.70        11\n",
      "\n",
      "    accuracy                           0.73        22\n",
      "   macro avg       0.74      0.73      0.72        22\n",
      "weighted avg       0.74      0.73      0.72        22\n",
      "\n",
      "Time taken: 0.0 seconds\n",
      "Classification Report for LinearDiscriminantAnalysis:\n",
      "               precision    recall  f1-score   support\n",
      "\n",
      "         0.0       0.75      0.82      0.78        11\n",
      "         1.0       0.80      0.73      0.76        11\n",
      "\n",
      "    accuracy                           0.77        22\n",
      "   macro avg       0.78      0.77      0.77        22\n",
      "weighted avg       0.78      0.77      0.77        22\n",
      "\n",
      "Time taken: 0.0010006427764892578 seconds\n",
      "Classification Report for SVC:\n",
      "               precision    recall  f1-score   support\n",
      "\n",
      "         0.0       0.75      0.82      0.78        11\n",
      "         1.0       0.80      0.73      0.76        11\n",
      "\n",
      "    accuracy                           0.77        22\n",
      "   macro avg       0.78      0.77      0.77        22\n",
      "weighted avg       0.78      0.77      0.77        22\n",
      "\n",
      "Time taken: 0.00200653076171875 seconds\n",
      "Classification Report for DecisionTreeClassifier:\n",
      "               precision    recall  f1-score   support\n",
      "\n",
      "         0.0       0.73      0.73      0.73        11\n",
      "         1.0       0.73      0.73      0.73        11\n",
      "\n",
      "    accuracy                           0.73        22\n",
      "   macro avg       0.73      0.73      0.73        22\n",
      "weighted avg       0.73      0.73      0.73        22\n",
      "\n",
      "Time taken: 0.0010039806365966797 seconds\n",
      "Classification Report for RandomForestClassifier:\n",
      "               precision    recall  f1-score   support\n",
      "\n",
      "         0.0       0.78      0.64      0.70        11\n",
      "         1.0       0.69      0.82      0.75        11\n",
      "\n",
      "    accuracy                           0.73        22\n",
      "   macro avg       0.74      0.73      0.72        22\n",
      "weighted avg       0.74      0.73      0.72        22\n",
      "\n",
      "Time taken: 0.10100817680358887 seconds\n"
     ]
    },
    {
     "data": {
      "image/png": "[encoded data removed]",
      "text/plain": [
       "<Figure size 1080x720 with 1 Axes>"
      ]
     },
     "metadata": {
      "needs_background": "light"
     },
     "output_type": "display_data"
    },
    {
     "name": "stdout",
     "output_type": "stream",
     "text": [
      "Best Model Classification Report:\n",
      "               precision    recall  f1-score   support\n",
      "\n",
      "         0.0       0.80      0.73      0.76        11\n",
      "         1.0       0.75      0.82      0.78        11\n",
      "\n",
      "    accuracy                           0.77        22\n",
      "   macro avg       0.78      0.77      0.77        22\n",
      "weighted avg       0.78      0.77      0.77        22\n",
      "\n"
     ]
    }
   ],
   "source": [
    "# RFEC (Recursive Feature Elimination with Cross-Validation)\n",
    "selector = RFE(RandomForestClassifier(),n_features_to_select = 20, step=1)\n",
    "selector = selector.fit(X_train_scaled, y_train)\n",
    "\n",
    "selected_columns = names[selector.support_]\n",
    "print(selected_columns)\n",
    "\n",
    "X_train_rfe = selector.transform(X_train_scaled)\n",
    "X_test_rfe = selector.transform(X_test_scaled)\n",
    "\n",
    "# Krzywe ROC po RFEC\n",
    "plt.figure(figsize=(15, 10))\n",
    "for name, classifier in classifiers.items():\n",
    "    fpr, tpr, roc_auc, _ = train_and_evaluate(classifier, X_train_rfe, X_test_rfe, y_train, y_test)\n",
    "    plt.plot(fpr, tpr, label=f'{name} (AUC = {roc_auc:.2f})')\n",
    "\n",
    "plt.plot([0, 1], [0, 1], 'k--')\n",
    "plt.xlim([0, 1])\n",
    "plt.ylim([0, 1.05])\n",
    "plt.xlabel('False Positive Rate')\n",
    "plt.ylabel('True Positive Rate')\n",
    "plt.title('ROC Curves after RFEC')\n",
    "plt.legend(loc='lower right')\n",
    "plt.show()\n",
    "\n",
    "# Interpretacja metryk dla najlepszego modelu\n",
    "# Zakładamy, że najlepszy model to RandomForestClassifier\n",
    "best_model = RandomForestClassifier()\n",
    "best_model.fit(X_train_rfe, y_train)\n",
    "y_pred_best = best_model.predict(X_test_rfe)\n",
    "print(\"Best Model Classification Report:\\n\", classification_report(y_test, y_pred_best))\n",
    "\n",
    "# Zbadanie modeli w czasie\n",
    "# times = {}\n",
    "# for name, classifier in classifiers.items():\n",
    "#     _, _, _, training_time = train_and_evaluate(classifier, X_train, X_test, y_train, y_test)\n",
    "#     times[name] = training_time\n",
    "\n",
    "# print(\"Training times for each classifier:\")\n",
    "# for name, t in times.items():\n",
    "#     print(f\"{name}: {t:.4f} seconds\")\n"
   ]
  },
  {
   "cell_type": "code",
   "execution_count": 365,
   "metadata": {},
   "outputs": [],
   "source": [
    "from sklearn.feature_selection import RFECV"
   ]
  },
  {
   "cell_type": "code",
   "execution_count": 366,
   "metadata": {},
   "outputs": [
    {
     "data": {
      "text/plain": [
       "(85,)"
      ]
     },
     "execution_count": 366,
     "metadata": {},
     "output_type": "execute_result"
    }
   ],
   "source": [
    "y_train.shape"
   ]
  },
  {
   "cell_type": "code",
   "execution_count": 370,
   "metadata": {},
   "outputs": [
    {
     "name": "stdout",
     "output_type": "stream",
     "text": [
      "Processing KNN...\n"
     ]
    },
    {
     "ename": "ValueError",
     "evalue": "when `importance_getter=='auto'`, the underlying estimator GridSearchCV should have `coef_` or `feature_importances_` attribute. Either pass a fitted estimator to feature selector or call fit before calling transform.",
     "output_type": "error",
     "traceback": [
      "\u001b[1;31m---------------------------------------------------------------------------\u001b[0m",
      "\u001b[1;31mValueError\u001b[0m                                Traceback (most recent call last)",
      "Input \u001b[1;32mIn [370]\u001b[0m, in \u001b[0;36m<cell line: 23>\u001b[1;34m()\u001b[0m\n\u001b[0;32m     31\u001b[0m rfecv \u001b[38;5;241m=\u001b[39m RFECV(estimator\u001b[38;5;241m=\u001b[39mgrid_search, step\u001b[38;5;241m=\u001b[39m\u001b[38;5;241m1\u001b[39m, cv\u001b[38;5;241m=\u001b[39m\u001b[38;5;241m5\u001b[39m, scoring\u001b[38;5;241m=\u001b[39m\u001b[38;5;124m'\u001b[39m\u001b[38;5;124maccuracy\u001b[39m\u001b[38;5;124m'\u001b[39m)\n\u001b[0;32m     33\u001b[0m \u001b[38;5;66;03m# Dopasowanie RFECV do danych\u001b[39;00m\n\u001b[1;32m---> 34\u001b[0m \u001b[43mrfecv\u001b[49m\u001b[38;5;241;43m.\u001b[39;49m\u001b[43mfit\u001b[49m\u001b[43m(\u001b[49m\u001b[43mX_train_scaled\u001b[49m\u001b[43m,\u001b[49m\u001b[43m \u001b[49m\u001b[43my_train\u001b[49m\u001b[43m)\u001b[49m\n\u001b[0;32m     36\u001b[0m \u001b[38;5;66;03m# Zapisanie wyników\u001b[39;00m\n\u001b[0;32m     37\u001b[0m results[name] \u001b[38;5;241m=\u001b[39m {\n\u001b[0;32m     38\u001b[0m     \u001b[38;5;124m'\u001b[39m\u001b[38;5;124mbest_score\u001b[39m\u001b[38;5;124m'\u001b[39m: rfecv\u001b[38;5;241m.\u001b[39mgrid_scores_\u001b[38;5;241m.\u001b[39mmax(),\n\u001b[0;32m     39\u001b[0m     \u001b[38;5;124m'\u001b[39m\u001b[38;5;124mbest_params\u001b[39m\u001b[38;5;124m'\u001b[39m: rfecv\u001b[38;5;241m.\u001b[39mestimator_\u001b[38;5;241m.\u001b[39mbest_params_,\n\u001b[1;32m   (...)\u001b[0m\n\u001b[0;32m     42\u001b[0m     \u001b[38;5;124m'\u001b[39m\u001b[38;5;124mranking\u001b[39m\u001b[38;5;124m'\u001b[39m: rfecv\u001b[38;5;241m.\u001b[39mranking_\n\u001b[0;32m     43\u001b[0m }\n",
      "File \u001b[1;32mc:\\Users\\dorot\\AppData\\Local\\Programs\\Python\\Python39\\lib\\site-packages\\sklearn\\base.py:1474\u001b[0m, in \u001b[0;36m_fit_context.<locals>.decorator.<locals>.wrapper\u001b[1;34m(estimator, *args, **kwargs)\u001b[0m\n\u001b[0;32m   1467\u001b[0m     estimator\u001b[38;5;241m.\u001b[39m_validate_params()\n\u001b[0;32m   1469\u001b[0m \u001b[38;5;28;01mwith\u001b[39;00m config_context(\n\u001b[0;32m   1470\u001b[0m     skip_parameter_validation\u001b[38;5;241m=\u001b[39m(\n\u001b[0;32m   1471\u001b[0m         prefer_skip_nested_validation \u001b[38;5;129;01mor\u001b[39;00m global_skip_validation\n\u001b[0;32m   1472\u001b[0m     )\n\u001b[0;32m   1473\u001b[0m ):\n\u001b[1;32m-> 1474\u001b[0m     \u001b[38;5;28;01mreturn\u001b[39;00m fit_method(estimator, \u001b[38;5;241m*\u001b[39margs, \u001b[38;5;241m*\u001b[39m\u001b[38;5;241m*\u001b[39mkwargs)\n",
      "File \u001b[1;32mc:\\Users\\dorot\\AppData\\Local\\Programs\\Python\\Python39\\lib\\site-packages\\sklearn\\feature_selection\\_rfe.py:752\u001b[0m, in \u001b[0;36mRFECV.fit\u001b[1;34m(self, X, y, groups)\u001b[0m\n\u001b[0;32m    749\u001b[0m     parallel \u001b[38;5;241m=\u001b[39m Parallel(n_jobs\u001b[38;5;241m=\u001b[39m\u001b[38;5;28mself\u001b[39m\u001b[38;5;241m.\u001b[39mn_jobs)\n\u001b[0;32m    750\u001b[0m     func \u001b[38;5;241m=\u001b[39m delayed(_rfe_single_fit)\n\u001b[1;32m--> 752\u001b[0m scores \u001b[38;5;241m=\u001b[39m \u001b[43mparallel\u001b[49m\u001b[43m(\u001b[49m\n\u001b[0;32m    753\u001b[0m \u001b[43m    \u001b[49m\u001b[43mfunc\u001b[49m\u001b[43m(\u001b[49m\u001b[43mrfe\u001b[49m\u001b[43m,\u001b[49m\u001b[43m \u001b[49m\u001b[38;5;28;43mself\u001b[39;49m\u001b[38;5;241;43m.\u001b[39;49m\u001b[43mestimator\u001b[49m\u001b[43m,\u001b[49m\u001b[43m \u001b[49m\u001b[43mX\u001b[49m\u001b[43m,\u001b[49m\u001b[43m \u001b[49m\u001b[43my\u001b[49m\u001b[43m,\u001b[49m\u001b[43m \u001b[49m\u001b[43mtrain\u001b[49m\u001b[43m,\u001b[49m\u001b[43m \u001b[49m\u001b[43mtest\u001b[49m\u001b[43m,\u001b[49m\u001b[43m \u001b[49m\u001b[43mscorer\u001b[49m\u001b[43m)\u001b[49m\n\u001b[0;32m    754\u001b[0m \u001b[43m    \u001b[49m\u001b[38;5;28;43;01mfor\u001b[39;49;00m\u001b[43m \u001b[49m\u001b[43mtrain\u001b[49m\u001b[43m,\u001b[49m\u001b[43m \u001b[49m\u001b[43mtest\u001b[49m\u001b[43m \u001b[49m\u001b[38;5;129;43;01min\u001b[39;49;00m\u001b[43m \u001b[49m\u001b[43mcv\u001b[49m\u001b[38;5;241;43m.\u001b[39;49m\u001b[43msplit\u001b[49m\u001b[43m(\u001b[49m\u001b[43mX\u001b[49m\u001b[43m,\u001b[49m\u001b[43m \u001b[49m\u001b[43my\u001b[49m\u001b[43m,\u001b[49m\u001b[43m \u001b[49m\u001b[43mgroups\u001b[49m\u001b[43m)\u001b[49m\n\u001b[0;32m    755\u001b[0m \u001b[43m\u001b[49m\u001b[43m)\u001b[49m\n\u001b[0;32m    757\u001b[0m scores \u001b[38;5;241m=\u001b[39m np\u001b[38;5;241m.\u001b[39marray(scores)\n\u001b[0;32m    758\u001b[0m scores_sum \u001b[38;5;241m=\u001b[39m np\u001b[38;5;241m.\u001b[39msum(scores, axis\u001b[38;5;241m=\u001b[39m\u001b[38;5;241m0\u001b[39m)\n",
      "File \u001b[1;32mc:\\Users\\dorot\\AppData\\Local\\Programs\\Python\\Python39\\lib\\site-packages\\sklearn\\feature_selection\\_rfe.py:753\u001b[0m, in \u001b[0;36m<genexpr>\u001b[1;34m(.0)\u001b[0m\n\u001b[0;32m    749\u001b[0m     parallel \u001b[38;5;241m=\u001b[39m Parallel(n_jobs\u001b[38;5;241m=\u001b[39m\u001b[38;5;28mself\u001b[39m\u001b[38;5;241m.\u001b[39mn_jobs)\n\u001b[0;32m    750\u001b[0m     func \u001b[38;5;241m=\u001b[39m delayed(_rfe_single_fit)\n\u001b[0;32m    752\u001b[0m scores \u001b[38;5;241m=\u001b[39m parallel(\n\u001b[1;32m--> 753\u001b[0m     \u001b[43mfunc\u001b[49m\u001b[43m(\u001b[49m\u001b[43mrfe\u001b[49m\u001b[43m,\u001b[49m\u001b[43m \u001b[49m\u001b[38;5;28;43mself\u001b[39;49m\u001b[38;5;241;43m.\u001b[39;49m\u001b[43mestimator\u001b[49m\u001b[43m,\u001b[49m\u001b[43m \u001b[49m\u001b[43mX\u001b[49m\u001b[43m,\u001b[49m\u001b[43m \u001b[49m\u001b[43my\u001b[49m\u001b[43m,\u001b[49m\u001b[43m \u001b[49m\u001b[43mtrain\u001b[49m\u001b[43m,\u001b[49m\u001b[43m \u001b[49m\u001b[43mtest\u001b[49m\u001b[43m,\u001b[49m\u001b[43m \u001b[49m\u001b[43mscorer\u001b[49m\u001b[43m)\u001b[49m\n\u001b[0;32m    754\u001b[0m     \u001b[38;5;28;01mfor\u001b[39;00m train, test \u001b[38;5;129;01min\u001b[39;00m cv\u001b[38;5;241m.\u001b[39msplit(X, y, groups)\n\u001b[0;32m    755\u001b[0m )\n\u001b[0;32m    757\u001b[0m scores \u001b[38;5;241m=\u001b[39m np\u001b[38;5;241m.\u001b[39marray(scores)\n\u001b[0;32m    758\u001b[0m scores_sum \u001b[38;5;241m=\u001b[39m np\u001b[38;5;241m.\u001b[39msum(scores, axis\u001b[38;5;241m=\u001b[39m\u001b[38;5;241m0\u001b[39m)\n",
      "File \u001b[1;32mc:\\Users\\dorot\\AppData\\Local\\Programs\\Python\\Python39\\lib\\site-packages\\sklearn\\feature_selection\\_rfe.py:35\u001b[0m, in \u001b[0;36m_rfe_single_fit\u001b[1;34m(rfe, estimator, X, y, train, test, scorer)\u001b[0m\n\u001b[0;32m     33\u001b[0m X_train, y_train \u001b[38;5;241m=\u001b[39m _safe_split(estimator, X, y, train)\n\u001b[0;32m     34\u001b[0m X_test, y_test \u001b[38;5;241m=\u001b[39m _safe_split(estimator, X, y, test, train)\n\u001b[1;32m---> 35\u001b[0m \u001b[38;5;28;01mreturn\u001b[39;00m \u001b[43mrfe\u001b[49m\u001b[38;5;241;43m.\u001b[39;49m\u001b[43m_fit\u001b[49m\u001b[43m(\u001b[49m\n\u001b[0;32m     36\u001b[0m \u001b[43m    \u001b[49m\u001b[43mX_train\u001b[49m\u001b[43m,\u001b[49m\n\u001b[0;32m     37\u001b[0m \u001b[43m    \u001b[49m\u001b[43my_train\u001b[49m\u001b[43m,\u001b[49m\n\u001b[0;32m     38\u001b[0m \u001b[43m    \u001b[49m\u001b[38;5;28;43;01mlambda\u001b[39;49;00m\u001b[43m \u001b[49m\u001b[43mestimator\u001b[49m\u001b[43m,\u001b[49m\u001b[43m \u001b[49m\u001b[43mfeatures\u001b[49m\u001b[43m:\u001b[49m\u001b[43m \u001b[49m\u001b[43m_score\u001b[49m\u001b[43m(\u001b[49m\n\u001b[0;32m     39\u001b[0m \u001b[43m        \u001b[49m\u001b[38;5;66;43;03m# TODO(SLEP6): pass score_params here\u001b[39;49;00m\n\u001b[0;32m     40\u001b[0m \u001b[43m        \u001b[49m\u001b[43mestimator\u001b[49m\u001b[43m,\u001b[49m\n\u001b[0;32m     41\u001b[0m \u001b[43m        \u001b[49m\u001b[43mX_test\u001b[49m\u001b[43m[\u001b[49m\u001b[43m:\u001b[49m\u001b[43m,\u001b[49m\u001b[43m \u001b[49m\u001b[43mfeatures\u001b[49m\u001b[43m]\u001b[49m\u001b[43m,\u001b[49m\n\u001b[0;32m     42\u001b[0m \u001b[43m        \u001b[49m\u001b[43my_test\u001b[49m\u001b[43m,\u001b[49m\n\u001b[0;32m     43\u001b[0m \u001b[43m        \u001b[49m\u001b[43mscorer\u001b[49m\u001b[43m,\u001b[49m\n\u001b[0;32m     44\u001b[0m \u001b[43m        \u001b[49m\u001b[43mscore_params\u001b[49m\u001b[38;5;241;43m=\u001b[39;49m\u001b[38;5;28;43;01mNone\u001b[39;49;00m\u001b[43m,\u001b[49m\n\u001b[0;32m     45\u001b[0m \u001b[43m    \u001b[49m\u001b[43m)\u001b[49m\u001b[43m,\u001b[49m\n\u001b[0;32m     46\u001b[0m \u001b[43m\u001b[49m\u001b[43m)\u001b[49m\u001b[38;5;241m.\u001b[39mscores_\n",
      "File \u001b[1;32mc:\\Users\\dorot\\AppData\\Local\\Programs\\Python\\Python39\\lib\\site-packages\\sklearn\\feature_selection\\_rfe.py:314\u001b[0m, in \u001b[0;36mRFE._fit\u001b[1;34m(self, X, y, step_score, **fit_params)\u001b[0m\n\u001b[0;32m    311\u001b[0m estimator\u001b[38;5;241m.\u001b[39mfit(X[:, features], y, \u001b[38;5;241m*\u001b[39m\u001b[38;5;241m*\u001b[39mfit_params)\n\u001b[0;32m    313\u001b[0m \u001b[38;5;66;03m# Get importance and rank them\u001b[39;00m\n\u001b[1;32m--> 314\u001b[0m importances \u001b[38;5;241m=\u001b[39m \u001b[43m_get_feature_importances\u001b[49m\u001b[43m(\u001b[49m\n\u001b[0;32m    315\u001b[0m \u001b[43m    \u001b[49m\u001b[43mestimator\u001b[49m\u001b[43m,\u001b[49m\n\u001b[0;32m    316\u001b[0m \u001b[43m    \u001b[49m\u001b[38;5;28;43mself\u001b[39;49m\u001b[38;5;241;43m.\u001b[39;49m\u001b[43mimportance_getter\u001b[49m\u001b[43m,\u001b[49m\n\u001b[0;32m    317\u001b[0m \u001b[43m    \u001b[49m\u001b[43mtransform_func\u001b[49m\u001b[38;5;241;43m=\u001b[39;49m\u001b[38;5;124;43m\"\u001b[39;49m\u001b[38;5;124;43msquare\u001b[39;49m\u001b[38;5;124;43m\"\u001b[39;49m\u001b[43m,\u001b[49m\n\u001b[0;32m    318\u001b[0m \u001b[43m\u001b[49m\u001b[43m)\u001b[49m\n\u001b[0;32m    319\u001b[0m ranks \u001b[38;5;241m=\u001b[39m np\u001b[38;5;241m.\u001b[39margsort(importances)\n\u001b[0;32m    321\u001b[0m \u001b[38;5;66;03m# for sparse case ranks is matrix\u001b[39;00m\n",
      "File \u001b[1;32mc:\\Users\\dorot\\AppData\\Local\\Programs\\Python\\Python39\\lib\\site-packages\\sklearn\\feature_selection\\_base.py:233\u001b[0m, in \u001b[0;36m_get_feature_importances\u001b[1;34m(estimator, getter, transform_func, norm_order)\u001b[0m\n\u001b[0;32m    231\u001b[0m         getter \u001b[38;5;241m=\u001b[39m attrgetter(\u001b[38;5;124m\"\u001b[39m\u001b[38;5;124mfeature_importances_\u001b[39m\u001b[38;5;124m\"\u001b[39m)\n\u001b[0;32m    232\u001b[0m     \u001b[38;5;28;01melse\u001b[39;00m:\n\u001b[1;32m--> 233\u001b[0m         \u001b[38;5;28;01mraise\u001b[39;00m \u001b[38;5;167;01mValueError\u001b[39;00m(\n\u001b[0;32m    234\u001b[0m             \u001b[38;5;124m\"\u001b[39m\u001b[38;5;124mwhen `importance_getter==\u001b[39m\u001b[38;5;124m'\u001b[39m\u001b[38;5;124mauto\u001b[39m\u001b[38;5;124m'\u001b[39m\u001b[38;5;124m`, the underlying \u001b[39m\u001b[38;5;124m\"\u001b[39m\n\u001b[0;32m    235\u001b[0m             \u001b[38;5;124mf\u001b[39m\u001b[38;5;124m\"\u001b[39m\u001b[38;5;124mestimator \u001b[39m\u001b[38;5;132;01m{\u001b[39;00mestimator\u001b[38;5;241m.\u001b[39m\u001b[38;5;18m__class__\u001b[39m\u001b[38;5;241m.\u001b[39m\u001b[38;5;18m__name__\u001b[39m\u001b[38;5;132;01m}\u001b[39;00m\u001b[38;5;124m should have \u001b[39m\u001b[38;5;124m\"\u001b[39m\n\u001b[0;32m    236\u001b[0m             \u001b[38;5;124m\"\u001b[39m\u001b[38;5;124m`coef_` or `feature_importances_` attribute. Either \u001b[39m\u001b[38;5;124m\"\u001b[39m\n\u001b[0;32m    237\u001b[0m             \u001b[38;5;124m\"\u001b[39m\u001b[38;5;124mpass a fitted estimator to feature selector or call fit \u001b[39m\u001b[38;5;124m\"\u001b[39m\n\u001b[0;32m    238\u001b[0m             \u001b[38;5;124m\"\u001b[39m\u001b[38;5;124mbefore calling transform.\u001b[39m\u001b[38;5;124m\"\u001b[39m\n\u001b[0;32m    239\u001b[0m         )\n\u001b[0;32m    240\u001b[0m \u001b[38;5;28;01melse\u001b[39;00m:\n\u001b[0;32m    241\u001b[0m     getter \u001b[38;5;241m=\u001b[39m attrgetter(getter)\n",
      "\u001b[1;31mValueError\u001b[0m: when `importance_getter=='auto'`, the underlying estimator GridSearchCV should have `coef_` or `feature_importances_` attribute. Either pass a fitted estimator to feature selector or call fit before calling transform."
     ]
    }
   ],
   "source": [
    "\n",
    "# Definicja klasyfikatorów\n",
    "classifiers = {\n",
    "    'KNN': KNeighborsClassifier(),\n",
    "    'LDA': LinearDiscriminantAnalysis(),\n",
    "    'SVC': SVC(probability=True),\n",
    "    'Decision Tree': DecisionTreeClassifier(),\n",
    "    'Random Forest': RandomForestClassifier()\n",
    "}\n",
    "\n",
    "# Definicja siatek parametrów\n",
    "param_grids = {\n",
    "    'KNN': {'n_neighbors': [3, 5, 7, 9, 11], 'weights': ['uniform', 'distance']},\n",
    "    'LDA': {'solver': ['svd', 'lsqr', 'eigen']},\n",
    "    'SVC': {'C': [0.1, 0.6,  1, 1.5, 10, 100], 'kernel': ['linear', 'rbf', 'poly', 'sigmoid']},\n",
    "    'Decision Tree': {'criterion': ['gini', 'entropy'], 'max_depth': [10, 20, 30, 40, 50]},\n",
    "    'Random Forest': {'n_estimators': [5, 10, 50, 100, 200], 'criterion': ['gini', 'entropy'], 'max_depth': [5, 10, 20, 30, 40, 50]}\n",
    "}\n",
    "\n",
    "# Przygotowanie wyników\n",
    "results = {}\n",
    "\n",
    "# Przetwarzanie każdego klasyfikatora\n",
    "for name, model in classifiers.items():\n",
    "    print(f\"Processing {name}...\")\n",
    "    param_grid = param_grids[name]\n",
    "\n",
    "    # GridSearchCV to optymalizacja hiperparametrów\n",
    "    grid_search = GridSearchCV(estimator=model, param_grid=param_grid, cv=5, scoring='accuracy')\n",
    "\n",
    "    # RFECV z GridSearchCV jako estymatorem\n",
    "    rfecv = RFECV(estimator=grid_search, step=1, cv=5, scoring='accuracy')\n",
    "    \n",
    "    # Dopasowanie RFECV do danych\n",
    "    rfecv.fit(X_train_scaled, y_train)\n",
    "    \n",
    "    # Zapisanie wyników\n",
    "    results[name] = {\n",
    "        'best_score': rfecv.grid_scores_.max(),\n",
    "        'best_params': rfecv.estimator_.best_params_,\n",
    "        'n_features': rfecv.n_features_,\n",
    "        'support': rfecv.support_,\n",
    "        'ranking': rfecv.ranking_\n",
    "    }\n",
    "    \n",
    "    print(f\"Best score for {name}: {results[name]['best_score']}\")\n",
    "    print(f\"Best params for {name}: {results[name]['best_params']}\")\n",
    "    print(f\"Number of features selected: {results[name]['n_features']}\")\n",
    "\n",
    "y_pred_best =rfecv.predict(X_test_rfe)\n",
    "print(\"Best Model Classification Report:\\n\", classification_report(y_test, y_pred_best))"
   ]
  },
  {
   "cell_type": "code",
   "execution_count": null,
   "metadata": {},
   "outputs": [],
   "source": [
    "min_features_to_select=1\n",
    "n_scores = len(rfecv.cv_results_[\"mean_test_score\"])\n",
    "plt.figure()\n",
    "plt.xlabel(\"Number of features selected\")\n",
    "plt.ylabel(\"Mean test accuracy\")\n",
    "plt.errorbar(\n",
    "    range(min_features_to_select, n_scores + min_features_to_select),\n",
    "    rfecv.cv_results_[\"mean_test_score\"],\n",
    "    # yerr=rfecv.cv_results_[\"std_test_score\"],\n",
    ")\n",
    "plt.title(\"Recursive Feature Elimination \\nwith correlated features\")\n",
    "plt.show()"
   ]
  }
 ],
 "metadata": {
  "kernelspec": {
   "display_name": "Python 3",
   "language": "python",
   "name": "python3"
  },
  "language_info": {
   "codemirror_mode": {
    "name": "ipython",
    "version": 3
   },
   "file_extension": ".py",
   "mimetype": "text/x-python",
   "name": "python",
   "nbconvert_exporter": "python",
   "pygments_lexer": "ipython3",
   "version": "3.9.8"
  }
 },
 "nbformat": 4,
 "nbformat_minor": 2
}
