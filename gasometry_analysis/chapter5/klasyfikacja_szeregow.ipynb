{
 "cells": [
  {
   "cell_type": "code",
   "execution_count": 159,
   "metadata": {},
   "outputs": [],
   "source": [
    "import pandas as pd\n",
    "import numpy as np\n",
    "from sklearn.decomposition import PCA\n",
    "from sklearn.preprocessing import StandardScaler\n",
    "from sklearn.neighbors import KNeighborsClassifier\n",
    "from sklearn.discriminant_analysis import LinearDiscriminantAnalysis\n",
    "from sklearn.svm import SVC\n",
    "from sklearn.tree import DecisionTreeClassifier\n",
    "from sklearn.ensemble import RandomForestClassifier\n",
    "from sklearn.metrics import roc_curve, auc\n",
    "from sklearn.model_selection import train_test_split, GridSearchCV\n",
    "import matplotlib.pyplot as plt\n",
    "import seaborn as sns\n",
    "import time\n",
    "import pandas as pd\n",
    "import numpy as np\n",
    "from tsfresh import extract_features\n",
    "import plotly.graph_objs as go\n",
    "import plotly.express as px\n",
    "from sklearn.metrics import accuracy_score\n",
    "from sklearn.feature_selection import RFECV\n",
    "import random\n",
    "from sklearn.metrics import confusion_matrix, accuracy_score, precision_score, recall_score,  f1_score"
   ]
  },
  {
   "cell_type": "code",
   "execution_count": 160,
   "metadata": {},
   "outputs": [],
   "source": [
    "seed = 42\n",
    "np.random.seed(seed)\n",
    "random.seed(seed)"
   ]
  },
  {
   "cell_type": "code",
   "execution_count": 161,
   "metadata": {},
   "outputs": [
    {
     "data": {
      "text/plain": [
       "Index(['PACJENT_NR', 'BADANIE_NR', 'BETET', 'CO2TET', 'HCO3ACTE', 'HCO3STTE',\n",
       "       'O2SATTET', 'O2TET', 'IONH', 'ZGON', 'BETET_kw', 'O2TET_kw',\n",
       "       'HCO3ACTE_kw', 'HCO3STTE_kw', 'O2SATTET_kw', 'IONH_kw', 'CO2TET_kw',\n",
       "       'BETET_pn', 'O2TET_pn', 'HCO3ACTE_pn', 'HCO3STTE_pn', 'O2SATTET_pn',\n",
       "       'IONH_pn', 'CO2TET_pn', 'euclidean_kw', 'euclidean_kw_skum'],\n",
       "      dtype='object')"
      ]
     },
     "execution_count": 161,
     "metadata": {},
     "output_type": "execute_result"
    }
   ],
   "source": [
    "data_to_extract=pd.read_csv(\"..\\chapter4\\data_to_extraction.csv\").drop(columns=\"Unnamed: 0\")\n",
    "data_to_extract.columns"
   ]
  },
  {
   "cell_type": "code",
   "execution_count": 299,
   "metadata": {},
   "outputs": [
    {
     "data": {
      "text/plain": [
       "64"
      ]
     },
     "execution_count": 299,
     "metadata": {},
     "output_type": "execute_result"
    }
   ],
   "source": [
    "data_to_extract.groupby(\"PACJENT_NR\").last()[\"BADANIE_NR\"].max()"
   ]
  },
  {
   "cell_type": "code",
   "execution_count": 163,
   "metadata": {},
   "outputs": [],
   "source": [
    "y=data_to_extract.groupby(\"PACJENT_NR\").last()[\"ZGON\"].reset_index(drop=True)"
   ]
  },
  {
   "cell_type": "code",
   "execution_count": 164,
   "metadata": {},
   "outputs": [],
   "source": [
    "var_columns=['BETET', 'CO2TET', 'HCO3ACTE', 'HCO3STTE',\n",
    "       'O2SATTET', 'O2TET', 'IONH', 'BETET_kw', 'O2TET_kw',\n",
    "       'HCO3ACTE_kw', 'HCO3STTE_kw', 'O2SATTET_kw', 'IONH_kw', 'CO2TET_kw',\n",
    "       'BETET_pn', 'O2TET_pn', 'HCO3ACTE_pn', 'HCO3STTE_pn', 'O2SATTET_pn',\n",
    "       'IONH_pn', 'CO2TET_pn', 'euclidean_kw', 'euclidean_kw_skum']\n"
   ]
  },
  {
   "cell_type": "code",
   "execution_count": 165,
   "metadata": {},
   "outputs": [
    {
     "data": {
      "text/plain": [
       "23"
      ]
     },
     "execution_count": 165,
     "metadata": {},
     "output_type": "execute_result"
    }
   ],
   "source": [
    "len(var_columns)"
   ]
  },
  {
   "cell_type": "code",
   "execution_count": 166,
   "metadata": {},
   "outputs": [
    {
     "name": "stderr",
     "output_type": "stream",
     "text": [
      "Feature Extraction: 100%|██████████| 18/18 [00:03<00:00,  5.72it/s]\n",
      "Feature Extraction: 100%|██████████| 18/18 [00:03<00:00,  5.52it/s]\n",
      "Feature Extraction: 100%|██████████| 18/18 [00:03<00:00,  5.57it/s]\n",
      "Feature Extraction: 100%|██████████| 18/18 [00:03<00:00,  5.55it/s]\n",
      "Feature Extraction: 100%|██████████| 18/18 [00:03<00:00,  5.44it/s]\n",
      "Feature Extraction: 100%|██████████| 18/18 [00:03<00:00,  5.71it/s]\n",
      "Feature Extraction: 100%|██████████| 18/18 [00:03<00:00,  5.47it/s]\n",
      "Feature Extraction: 100%|██████████| 18/18 [00:03<00:00,  5.42it/s]\n",
      "Feature Extraction: 100%|██████████| 18/18 [00:03<00:00,  5.48it/s]\n",
      "Feature Extraction: 100%|██████████| 18/18 [00:03<00:00,  5.51it/s]\n",
      "Feature Extraction: 100%|██████████| 18/18 [00:03<00:00,  5.17it/s]\n",
      "Feature Extraction: 100%|██████████| 18/18 [00:03<00:00,  5.63it/s]\n",
      "Feature Extraction: 100%|██████████| 18/18 [00:03<00:00,  5.49it/s]\n",
      "Feature Extraction: 100%|██████████| 18/18 [00:03<00:00,  5.73it/s]\n",
      "Feature Extraction: 100%|██████████| 18/18 [00:03<00:00,  5.28it/s]\n",
      "Feature Extraction: 100%|██████████| 18/18 [00:03<00:00,  5.51it/s]\n",
      "Feature Extraction: 100%|██████████| 18/18 [00:03<00:00,  5.63it/s]\n",
      "Feature Extraction: 100%|██████████| 18/18 [00:03<00:00,  5.39it/s]\n",
      "Feature Extraction: 100%|██████████| 18/18 [00:03<00:00,  5.37it/s]\n",
      "Feature Extraction: 100%|██████████| 18/18 [00:03<00:00,  5.40it/s]\n",
      "Feature Extraction: 100%|██████████| 18/18 [00:03<00:00,  5.44it/s]\n",
      "Feature Extraction: 100%|██████████| 18/18 [00:03<00:00,  5.64it/s]\n",
      "Feature Extraction: 100%|██████████| 18/18 [00:03<00:00,  5.75it/s]\n"
     ]
    },
    {
     "data": {
      "text/html": [
       "<div>\n",
       "<style scoped>\n",
       "    .dataframe tbody tr th:only-of-type {\n",
       "        vertical-align: middle;\n",
       "    }\n",
       "\n",
       "    .dataframe tbody tr th {\n",
       "        vertical-align: top;\n",
       "    }\n",
       "\n",
       "    .dataframe thead th {\n",
       "        text-align: right;\n",
       "    }\n",
       "</style>\n",
       "<table border=\"1\" class=\"dataframe\">\n",
       "  <thead>\n",
       "    <tr style=\"text-align: right;\">\n",
       "      <th></th>\n",
       "      <th>BETET__minimum</th>\n",
       "      <th>BETET__maximum</th>\n",
       "      <th>BETET__mean</th>\n",
       "      <th>BETET__median</th>\n",
       "      <th>BETET__variance</th>\n",
       "      <th>BETET__number_peaks__n_2</th>\n",
       "      <th>BETET__number_peaks__n_4</th>\n",
       "      <th>BETET__first_location_of_minimum</th>\n",
       "      <th>BETET__first_location_of_maximum</th>\n",
       "      <th>BETET__linear_trend__attr_\"slope\"</th>\n",
       "      <th>...</th>\n",
       "      <th>euclidean_kw_skum__variance</th>\n",
       "      <th>euclidean_kw_skum__number_peaks__n_2</th>\n",
       "      <th>euclidean_kw_skum__number_peaks__n_4</th>\n",
       "      <th>euclidean_kw_skum__first_location_of_minimum</th>\n",
       "      <th>euclidean_kw_skum__first_location_of_maximum</th>\n",
       "      <th>euclidean_kw_skum__linear_trend__attr_\"slope\"</th>\n",
       "      <th>euclidean_kw_skum__agg_linear_trend__attr_\"slope\"__chunk_len_3__f_agg_\"mean\"</th>\n",
       "      <th>euclidean_kw_skum__agg_linear_trend__attr_\"slope\"__chunk_len_6__f_agg_\"mean\"</th>\n",
       "      <th>euclidean_kw_skum__agg_linear_trend__attr_\"slope\"__chunk_len_3__f_agg_\"max\"</th>\n",
       "      <th>euclidean_kw_skum__agg_linear_trend__attr_\"slope\"__chunk_len_6__f_agg_\"max\"</th>\n",
       "    </tr>\n",
       "  </thead>\n",
       "  <tbody>\n",
       "    <tr>\n",
       "      <th>1</th>\n",
       "      <td>0.086957</td>\n",
       "      <td>6.260870</td>\n",
       "      <td>3.212790</td>\n",
       "      <td>3.065217</td>\n",
       "      <td>2.015770</td>\n",
       "      <td>7.0</td>\n",
       "      <td>3.0</td>\n",
       "      <td>0.020000</td>\n",
       "      <td>0.220000</td>\n",
       "      <td>-0.005501</td>\n",
       "      <td>...</td>\n",
       "      <td>182.042449</td>\n",
       "      <td>0.0</td>\n",
       "      <td>0.0</td>\n",
       "      <td>0.0</td>\n",
       "      <td>0.980000</td>\n",
       "      <td>0.913771</td>\n",
       "      <td>2.751726</td>\n",
       "      <td>5.494292</td>\n",
       "      <td>2.717326</td>\n",
       "      <td>5.297220</td>\n",
       "    </tr>\n",
       "    <tr>\n",
       "      <th>2</th>\n",
       "      <td>-0.043478</td>\n",
       "      <td>2.304348</td>\n",
       "      <td>1.332609</td>\n",
       "      <td>1.173913</td>\n",
       "      <td>0.531479</td>\n",
       "      <td>0.0</td>\n",
       "      <td>0.0</td>\n",
       "      <td>0.000000</td>\n",
       "      <td>0.900000</td>\n",
       "      <td>0.243083</td>\n",
       "      <td>...</td>\n",
       "      <td>24.929782</td>\n",
       "      <td>0.0</td>\n",
       "      <td>0.0</td>\n",
       "      <td>0.0</td>\n",
       "      <td>0.800000</td>\n",
       "      <td>1.700442</td>\n",
       "      <td>4.159130</td>\n",
       "      <td>8.097602</td>\n",
       "      <td>3.299999</td>\n",
       "      <td>3.980000</td>\n",
       "    </tr>\n",
       "    <tr>\n",
       "      <th>3</th>\n",
       "      <td>0.478261</td>\n",
       "      <td>4.086957</td>\n",
       "      <td>2.179745</td>\n",
       "      <td>1.934783</td>\n",
       "      <td>0.734497</td>\n",
       "      <td>6.0</td>\n",
       "      <td>2.0</td>\n",
       "      <td>0.000000</td>\n",
       "      <td>0.243902</td>\n",
       "      <td>-0.033162</td>\n",
       "      <td>...</td>\n",
       "      <td>22.519226</td>\n",
       "      <td>0.0</td>\n",
       "      <td>0.0</td>\n",
       "      <td>0.0</td>\n",
       "      <td>0.926829</td>\n",
       "      <td>0.370867</td>\n",
       "      <td>1.079482</td>\n",
       "      <td>2.155931</td>\n",
       "      <td>1.016063</td>\n",
       "      <td>1.785982</td>\n",
       "    </tr>\n",
       "    <tr>\n",
       "      <th>4</th>\n",
       "      <td>-0.065217</td>\n",
       "      <td>3.500000</td>\n",
       "      <td>1.605499</td>\n",
       "      <td>1.456522</td>\n",
       "      <td>0.630021</td>\n",
       "      <td>4.0</td>\n",
       "      <td>1.0</td>\n",
       "      <td>0.705882</td>\n",
       "      <td>0.176471</td>\n",
       "      <td>-0.034773</td>\n",
       "      <td>...</td>\n",
       "      <td>23.542215</td>\n",
       "      <td>0.0</td>\n",
       "      <td>0.0</td>\n",
       "      <td>0.0</td>\n",
       "      <td>0.970588</td>\n",
       "      <td>0.397114</td>\n",
       "      <td>1.321238</td>\n",
       "      <td>2.571625</td>\n",
       "      <td>1.424427</td>\n",
       "      <td>3.092883</td>\n",
       "    </tr>\n",
       "    <tr>\n",
       "      <th>6</th>\n",
       "      <td>-0.043478</td>\n",
       "      <td>0.847826</td>\n",
       "      <td>0.478261</td>\n",
       "      <td>0.554348</td>\n",
       "      <td>0.067580</td>\n",
       "      <td>1.0</td>\n",
       "      <td>0.0</td>\n",
       "      <td>0.750000</td>\n",
       "      <td>0.375000</td>\n",
       "      <td>-0.054348</td>\n",
       "      <td>...</td>\n",
       "      <td>2.745903</td>\n",
       "      <td>0.0</td>\n",
       "      <td>0.0</td>\n",
       "      <td>0.0</td>\n",
       "      <td>0.750000</td>\n",
       "      <td>0.667426</td>\n",
       "      <td>1.736074</td>\n",
       "      <td>1.911147</td>\n",
       "      <td>1.322074</td>\n",
       "      <td>0.043478</td>\n",
       "    </tr>\n",
       "    <tr>\n",
       "      <th>...</th>\n",
       "      <td>...</td>\n",
       "      <td>...</td>\n",
       "      <td>...</td>\n",
       "      <td>...</td>\n",
       "      <td>...</td>\n",
       "      <td>...</td>\n",
       "      <td>...</td>\n",
       "      <td>...</td>\n",
       "      <td>...</td>\n",
       "      <td>...</td>\n",
       "      <td>...</td>\n",
       "      <td>...</td>\n",
       "      <td>...</td>\n",
       "      <td>...</td>\n",
       "      <td>...</td>\n",
       "      <td>...</td>\n",
       "      <td>...</td>\n",
       "      <td>...</td>\n",
       "      <td>...</td>\n",
       "      <td>...</td>\n",
       "      <td>...</td>\n",
       "    </tr>\n",
       "    <tr>\n",
       "      <th>139</th>\n",
       "      <td>0.652174</td>\n",
       "      <td>5.347826</td>\n",
       "      <td>3.311141</td>\n",
       "      <td>3.358696</td>\n",
       "      <td>1.228126</td>\n",
       "      <td>4.0</td>\n",
       "      <td>2.0</td>\n",
       "      <td>0.031250</td>\n",
       "      <td>0.343750</td>\n",
       "      <td>0.032322</td>\n",
       "      <td>...</td>\n",
       "      <td>149.693755</td>\n",
       "      <td>0.0</td>\n",
       "      <td>0.0</td>\n",
       "      <td>0.0</td>\n",
       "      <td>0.968750</td>\n",
       "      <td>1.314109</td>\n",
       "      <td>3.895106</td>\n",
       "      <td>7.393326</td>\n",
       "      <td>3.866095</td>\n",
       "      <td>7.175720</td>\n",
       "    </tr>\n",
       "    <tr>\n",
       "      <th>140</th>\n",
       "      <td>-0.347826</td>\n",
       "      <td>3.934783</td>\n",
       "      <td>2.571558</td>\n",
       "      <td>2.869565</td>\n",
       "      <td>1.115528</td>\n",
       "      <td>4.0</td>\n",
       "      <td>1.0</td>\n",
       "      <td>0.000000</td>\n",
       "      <td>0.583333</td>\n",
       "      <td>0.081749</td>\n",
       "      <td>...</td>\n",
       "      <td>17.831701</td>\n",
       "      <td>0.0</td>\n",
       "      <td>0.0</td>\n",
       "      <td>0.0</td>\n",
       "      <td>0.958333</td>\n",
       "      <td>0.604629</td>\n",
       "      <td>1.813145</td>\n",
       "      <td>3.614941</td>\n",
       "      <td>1.815859</td>\n",
       "      <td>3.562553</td>\n",
       "    </tr>\n",
       "    <tr>\n",
       "      <th>142</th>\n",
       "      <td>0.391304</td>\n",
       "      <td>4.565217</td>\n",
       "      <td>2.884058</td>\n",
       "      <td>2.913043</td>\n",
       "      <td>1.841675</td>\n",
       "      <td>2.0</td>\n",
       "      <td>1.0</td>\n",
       "      <td>0.047619</td>\n",
       "      <td>0.666667</td>\n",
       "      <td>0.148278</td>\n",
       "      <td>...</td>\n",
       "      <td>178.999056</td>\n",
       "      <td>0.0</td>\n",
       "      <td>0.0</td>\n",
       "      <td>0.0</td>\n",
       "      <td>0.952381</td>\n",
       "      <td>2.196274</td>\n",
       "      <td>6.576850</td>\n",
       "      <td>12.499477</td>\n",
       "      <td>6.791721</td>\n",
       "      <td>11.936108</td>\n",
       "    </tr>\n",
       "    <tr>\n",
       "      <th>144</th>\n",
       "      <td>0.739130</td>\n",
       "      <td>3.282609</td>\n",
       "      <td>2.029644</td>\n",
       "      <td>1.956522</td>\n",
       "      <td>0.518755</td>\n",
       "      <td>0.0</td>\n",
       "      <td>0.0</td>\n",
       "      <td>0.000000</td>\n",
       "      <td>0.909091</td>\n",
       "      <td>0.189921</td>\n",
       "      <td>...</td>\n",
       "      <td>115.582655</td>\n",
       "      <td>0.0</td>\n",
       "      <td>0.0</td>\n",
       "      <td>0.0</td>\n",
       "      <td>0.909091</td>\n",
       "      <td>3.392153</td>\n",
       "      <td>9.627781</td>\n",
       "      <td>18.755566</td>\n",
       "      <td>9.219570</td>\n",
       "      <td>15.212494</td>\n",
       "    </tr>\n",
       "    <tr>\n",
       "      <th>145</th>\n",
       "      <td>-1.065217</td>\n",
       "      <td>-0.478261</td>\n",
       "      <td>-0.743961</td>\n",
       "      <td>-0.717391</td>\n",
       "      <td>0.037364</td>\n",
       "      <td>1.0</td>\n",
       "      <td>0.0</td>\n",
       "      <td>0.666667</td>\n",
       "      <td>0.222222</td>\n",
       "      <td>-0.057609</td>\n",
       "      <td>...</td>\n",
       "      <td>15.393651</td>\n",
       "      <td>0.0</td>\n",
       "      <td>0.0</td>\n",
       "      <td>0.0</td>\n",
       "      <td>0.888889</td>\n",
       "      <td>1.514840</td>\n",
       "      <td>4.583390</td>\n",
       "      <td>7.117705</td>\n",
       "      <td>4.810736</td>\n",
       "      <td>5.037856</td>\n",
       "    </tr>\n",
       "  </tbody>\n",
       "</table>\n",
       "<p>107 rows × 322 columns</p>\n",
       "</div>"
      ],
      "text/plain": [
       "     BETET__minimum  BETET__maximum  BETET__mean  BETET__median  \\\n",
       "1          0.086957        6.260870     3.212790       3.065217   \n",
       "2         -0.043478        2.304348     1.332609       1.173913   \n",
       "3          0.478261        4.086957     2.179745       1.934783   \n",
       "4         -0.065217        3.500000     1.605499       1.456522   \n",
       "6         -0.043478        0.847826     0.478261       0.554348   \n",
       "..              ...             ...          ...            ...   \n",
       "139        0.652174        5.347826     3.311141       3.358696   \n",
       "140       -0.347826        3.934783     2.571558       2.869565   \n",
       "142        0.391304        4.565217     2.884058       2.913043   \n",
       "144        0.739130        3.282609     2.029644       1.956522   \n",
       "145       -1.065217       -0.478261    -0.743961      -0.717391   \n",
       "\n",
       "     BETET__variance  BETET__number_peaks__n_2  BETET__number_peaks__n_4  \\\n",
       "1           2.015770                       7.0                       3.0   \n",
       "2           0.531479                       0.0                       0.0   \n",
       "3           0.734497                       6.0                       2.0   \n",
       "4           0.630021                       4.0                       1.0   \n",
       "6           0.067580                       1.0                       0.0   \n",
       "..               ...                       ...                       ...   \n",
       "139         1.228126                       4.0                       2.0   \n",
       "140         1.115528                       4.0                       1.0   \n",
       "142         1.841675                       2.0                       1.0   \n",
       "144         0.518755                       0.0                       0.0   \n",
       "145         0.037364                       1.0                       0.0   \n",
       "\n",
       "     BETET__first_location_of_minimum  BETET__first_location_of_maximum  \\\n",
       "1                            0.020000                          0.220000   \n",
       "2                            0.000000                          0.900000   \n",
       "3                            0.000000                          0.243902   \n",
       "4                            0.705882                          0.176471   \n",
       "6                            0.750000                          0.375000   \n",
       "..                                ...                               ...   \n",
       "139                          0.031250                          0.343750   \n",
       "140                          0.000000                          0.583333   \n",
       "142                          0.047619                          0.666667   \n",
       "144                          0.000000                          0.909091   \n",
       "145                          0.666667                          0.222222   \n",
       "\n",
       "     BETET__linear_trend__attr_\"slope\"  ...  euclidean_kw_skum__variance  \\\n",
       "1                            -0.005501  ...                   182.042449   \n",
       "2                             0.243083  ...                    24.929782   \n",
       "3                            -0.033162  ...                    22.519226   \n",
       "4                            -0.034773  ...                    23.542215   \n",
       "6                            -0.054348  ...                     2.745903   \n",
       "..                                 ...  ...                          ...   \n",
       "139                           0.032322  ...                   149.693755   \n",
       "140                           0.081749  ...                    17.831701   \n",
       "142                           0.148278  ...                   178.999056   \n",
       "144                           0.189921  ...                   115.582655   \n",
       "145                          -0.057609  ...                    15.393651   \n",
       "\n",
       "     euclidean_kw_skum__number_peaks__n_2  \\\n",
       "1                                     0.0   \n",
       "2                                     0.0   \n",
       "3                                     0.0   \n",
       "4                                     0.0   \n",
       "6                                     0.0   \n",
       "..                                    ...   \n",
       "139                                   0.0   \n",
       "140                                   0.0   \n",
       "142                                   0.0   \n",
       "144                                   0.0   \n",
       "145                                   0.0   \n",
       "\n",
       "     euclidean_kw_skum__number_peaks__n_4  \\\n",
       "1                                     0.0   \n",
       "2                                     0.0   \n",
       "3                                     0.0   \n",
       "4                                     0.0   \n",
       "6                                     0.0   \n",
       "..                                    ...   \n",
       "139                                   0.0   \n",
       "140                                   0.0   \n",
       "142                                   0.0   \n",
       "144                                   0.0   \n",
       "145                                   0.0   \n",
       "\n",
       "     euclidean_kw_skum__first_location_of_minimum  \\\n",
       "1                                             0.0   \n",
       "2                                             0.0   \n",
       "3                                             0.0   \n",
       "4                                             0.0   \n",
       "6                                             0.0   \n",
       "..                                            ...   \n",
       "139                                           0.0   \n",
       "140                                           0.0   \n",
       "142                                           0.0   \n",
       "144                                           0.0   \n",
       "145                                           0.0   \n",
       "\n",
       "     euclidean_kw_skum__first_location_of_maximum  \\\n",
       "1                                        0.980000   \n",
       "2                                        0.800000   \n",
       "3                                        0.926829   \n",
       "4                                        0.970588   \n",
       "6                                        0.750000   \n",
       "..                                            ...   \n",
       "139                                      0.968750   \n",
       "140                                      0.958333   \n",
       "142                                      0.952381   \n",
       "144                                      0.909091   \n",
       "145                                      0.888889   \n",
       "\n",
       "     euclidean_kw_skum__linear_trend__attr_\"slope\"  \\\n",
       "1                                         0.913771   \n",
       "2                                         1.700442   \n",
       "3                                         0.370867   \n",
       "4                                         0.397114   \n",
       "6                                         0.667426   \n",
       "..                                             ...   \n",
       "139                                       1.314109   \n",
       "140                                       0.604629   \n",
       "142                                       2.196274   \n",
       "144                                       3.392153   \n",
       "145                                       1.514840   \n",
       "\n",
       "     euclidean_kw_skum__agg_linear_trend__attr_\"slope\"__chunk_len_3__f_agg_\"mean\"  \\\n",
       "1                                             2.751726                              \n",
       "2                                             4.159130                              \n",
       "3                                             1.079482                              \n",
       "4                                             1.321238                              \n",
       "6                                             1.736074                              \n",
       "..                                                 ...                              \n",
       "139                                           3.895106                              \n",
       "140                                           1.813145                              \n",
       "142                                           6.576850                              \n",
       "144                                           9.627781                              \n",
       "145                                           4.583390                              \n",
       "\n",
       "     euclidean_kw_skum__agg_linear_trend__attr_\"slope\"__chunk_len_6__f_agg_\"mean\"  \\\n",
       "1                                             5.494292                              \n",
       "2                                             8.097602                              \n",
       "3                                             2.155931                              \n",
       "4                                             2.571625                              \n",
       "6                                             1.911147                              \n",
       "..                                                 ...                              \n",
       "139                                           7.393326                              \n",
       "140                                           3.614941                              \n",
       "142                                          12.499477                              \n",
       "144                                          18.755566                              \n",
       "145                                           7.117705                              \n",
       "\n",
       "     euclidean_kw_skum__agg_linear_trend__attr_\"slope\"__chunk_len_3__f_agg_\"max\"  \\\n",
       "1                                             2.717326                             \n",
       "2                                             3.299999                             \n",
       "3                                             1.016063                             \n",
       "4                                             1.424427                             \n",
       "6                                             1.322074                             \n",
       "..                                                 ...                             \n",
       "139                                           3.866095                             \n",
       "140                                           1.815859                             \n",
       "142                                           6.791721                             \n",
       "144                                           9.219570                             \n",
       "145                                           4.810736                             \n",
       "\n",
       "     euclidean_kw_skum__agg_linear_trend__attr_\"slope\"__chunk_len_6__f_agg_\"max\"  \n",
       "1                                             5.297220                            \n",
       "2                                             3.980000                            \n",
       "3                                             1.785982                            \n",
       "4                                             3.092883                            \n",
       "6                                             0.043478                            \n",
       "..                                                 ...                            \n",
       "139                                           7.175720                            \n",
       "140                                           3.562553                            \n",
       "142                                          11.936108                            \n",
       "144                                          15.212494                            \n",
       "145                                           5.037856                            \n",
       "\n",
       "[107 rows x 322 columns]"
      ]
     },
     "execution_count": 166,
     "metadata": {},
     "output_type": "execute_result"
    }
   ],
   "source": [
    "selected_features = {\n",
    "    'minimum': None,\n",
    "    'maximum': None,\n",
    "    'mean': None,\n",
    "    'median': None,\n",
    "    'variance': None,\n",
    "    'number_peaks': [{'n': 2}, {'n': 4}],\n",
    "    'first_location_of_minimum': None,\n",
    "    'first_location_of_maximum': None,\n",
    "    'linear_trend': [{'attr': 'slope'}],\n",
    "    'agg_linear_trend': [\n",
    "        {'f_agg': 'mean', 'chunk_len': 3, 'attr': 'slope'},\n",
    "        {'f_agg': 'mean', 'chunk_len': 6, 'attr': 'slope'},\n",
    "        {'f_agg': 'max', 'chunk_len': 3, 'attr': 'slope'},\n",
    "        {'f_agg': 'max', 'chunk_len': 6, 'attr': 'slope'}\n",
    "    ]\n",
    "}\n",
    "\n",
    "extracted_features = pd.DataFrame()\n",
    "\n",
    "for col in var_columns:\n",
    "    features = extract_features(data_to_extract, column_id=\"PACJENT_NR\", column_sort=\"BADANIE_NR\", \n",
    "                                column_value=col, default_fc_parameters=selected_features)\n",
    "    features.columns = [f\"{col}\" for col in features.columns]\n",
    "    extracted_features = pd.concat([extracted_features, features], axis=1)\n",
    "\n",
    "extracted_features "
   ]
  },
  {
   "cell_type": "code",
   "execution_count": 167,
   "metadata": {},
   "outputs": [],
   "source": [
    "names=extracted_features.columns"
   ]
  },
  {
   "cell_type": "code",
   "execution_count": 168,
   "metadata": {},
   "outputs": [
    {
     "data": {
      "text/plain": [
       "322"
      ]
     },
     "execution_count": 168,
     "metadata": {},
     "output_type": "execute_result"
    }
   ],
   "source": [
    "len(names)"
   ]
  },
  {
   "cell_type": "code",
   "execution_count": 169,
   "metadata": {},
   "outputs": [
    {
     "data": {
      "text/html": [
       "<div>\n",
       "<style scoped>\n",
       "    .dataframe tbody tr th:only-of-type {\n",
       "        vertical-align: middle;\n",
       "    }\n",
       "\n",
       "    .dataframe tbody tr th {\n",
       "        vertical-align: top;\n",
       "    }\n",
       "\n",
       "    .dataframe thead th {\n",
       "        text-align: right;\n",
       "    }\n",
       "</style>\n",
       "<table border=\"1\" class=\"dataframe\">\n",
       "  <thead>\n",
       "    <tr style=\"text-align: right;\">\n",
       "      <th></th>\n",
       "      <th>PACJENT_NR</th>\n",
       "      <th>ZGON</th>\n",
       "      <th>BETET__minimum</th>\n",
       "      <th>BETET__maximum</th>\n",
       "      <th>BETET__mean</th>\n",
       "      <th>BETET__median</th>\n",
       "      <th>BETET__variance</th>\n",
       "      <th>BETET__number_peaks__n_2</th>\n",
       "      <th>BETET__number_peaks__n_4</th>\n",
       "      <th>BETET__first_location_of_minimum</th>\n",
       "      <th>...</th>\n",
       "      <th>euclidean_kw_skum__variance</th>\n",
       "      <th>euclidean_kw_skum__number_peaks__n_2</th>\n",
       "      <th>euclidean_kw_skum__number_peaks__n_4</th>\n",
       "      <th>euclidean_kw_skum__first_location_of_minimum</th>\n",
       "      <th>euclidean_kw_skum__first_location_of_maximum</th>\n",
       "      <th>euclidean_kw_skum__linear_trend__attr_\"slope\"</th>\n",
       "      <th>euclidean_kw_skum__agg_linear_trend__attr_\"slope\"__chunk_len_3__f_agg_\"mean\"</th>\n",
       "      <th>euclidean_kw_skum__agg_linear_trend__attr_\"slope\"__chunk_len_6__f_agg_\"mean\"</th>\n",
       "      <th>euclidean_kw_skum__agg_linear_trend__attr_\"slope\"__chunk_len_3__f_agg_\"max\"</th>\n",
       "      <th>euclidean_kw_skum__agg_linear_trend__attr_\"slope\"__chunk_len_6__f_agg_\"max\"</th>\n",
       "    </tr>\n",
       "  </thead>\n",
       "  <tbody>\n",
       "    <tr>\n",
       "      <th>0</th>\n",
       "      <td>1</td>\n",
       "      <td>0.0</td>\n",
       "      <td>0.086957</td>\n",
       "      <td>6.260870</td>\n",
       "      <td>3.212790</td>\n",
       "      <td>3.065217</td>\n",
       "      <td>2.015770</td>\n",
       "      <td>7.0</td>\n",
       "      <td>3.0</td>\n",
       "      <td>0.020000</td>\n",
       "      <td>...</td>\n",
       "      <td>182.042449</td>\n",
       "      <td>0.0</td>\n",
       "      <td>0.0</td>\n",
       "      <td>0.0</td>\n",
       "      <td>0.980000</td>\n",
       "      <td>0.913771</td>\n",
       "      <td>2.751726</td>\n",
       "      <td>5.494292</td>\n",
       "      <td>2.717326</td>\n",
       "      <td>5.297220</td>\n",
       "    </tr>\n",
       "    <tr>\n",
       "      <th>1</th>\n",
       "      <td>2</td>\n",
       "      <td>0.0</td>\n",
       "      <td>-0.043478</td>\n",
       "      <td>2.304348</td>\n",
       "      <td>1.332609</td>\n",
       "      <td>1.173913</td>\n",
       "      <td>0.531479</td>\n",
       "      <td>0.0</td>\n",
       "      <td>0.0</td>\n",
       "      <td>0.000000</td>\n",
       "      <td>...</td>\n",
       "      <td>24.929782</td>\n",
       "      <td>0.0</td>\n",
       "      <td>0.0</td>\n",
       "      <td>0.0</td>\n",
       "      <td>0.800000</td>\n",
       "      <td>1.700442</td>\n",
       "      <td>4.159130</td>\n",
       "      <td>8.097602</td>\n",
       "      <td>3.299999</td>\n",
       "      <td>3.980000</td>\n",
       "    </tr>\n",
       "    <tr>\n",
       "      <th>2</th>\n",
       "      <td>3</td>\n",
       "      <td>0.0</td>\n",
       "      <td>0.478261</td>\n",
       "      <td>4.086957</td>\n",
       "      <td>2.179745</td>\n",
       "      <td>1.934783</td>\n",
       "      <td>0.734497</td>\n",
       "      <td>6.0</td>\n",
       "      <td>2.0</td>\n",
       "      <td>0.000000</td>\n",
       "      <td>...</td>\n",
       "      <td>22.519226</td>\n",
       "      <td>0.0</td>\n",
       "      <td>0.0</td>\n",
       "      <td>0.0</td>\n",
       "      <td>0.926829</td>\n",
       "      <td>0.370867</td>\n",
       "      <td>1.079482</td>\n",
       "      <td>2.155931</td>\n",
       "      <td>1.016063</td>\n",
       "      <td>1.785982</td>\n",
       "    </tr>\n",
       "    <tr>\n",
       "      <th>3</th>\n",
       "      <td>4</td>\n",
       "      <td>0.0</td>\n",
       "      <td>-0.065217</td>\n",
       "      <td>3.500000</td>\n",
       "      <td>1.605499</td>\n",
       "      <td>1.456522</td>\n",
       "      <td>0.630021</td>\n",
       "      <td>4.0</td>\n",
       "      <td>1.0</td>\n",
       "      <td>0.705882</td>\n",
       "      <td>...</td>\n",
       "      <td>23.542215</td>\n",
       "      <td>0.0</td>\n",
       "      <td>0.0</td>\n",
       "      <td>0.0</td>\n",
       "      <td>0.970588</td>\n",
       "      <td>0.397114</td>\n",
       "      <td>1.321238</td>\n",
       "      <td>2.571625</td>\n",
       "      <td>1.424427</td>\n",
       "      <td>3.092883</td>\n",
       "    </tr>\n",
       "    <tr>\n",
       "      <th>4</th>\n",
       "      <td>6</td>\n",
       "      <td>0.0</td>\n",
       "      <td>-0.043478</td>\n",
       "      <td>0.847826</td>\n",
       "      <td>0.478261</td>\n",
       "      <td>0.554348</td>\n",
       "      <td>0.067580</td>\n",
       "      <td>1.0</td>\n",
       "      <td>0.0</td>\n",
       "      <td>0.750000</td>\n",
       "      <td>...</td>\n",
       "      <td>2.745903</td>\n",
       "      <td>0.0</td>\n",
       "      <td>0.0</td>\n",
       "      <td>0.0</td>\n",
       "      <td>0.750000</td>\n",
       "      <td>0.667426</td>\n",
       "      <td>1.736074</td>\n",
       "      <td>1.911147</td>\n",
       "      <td>1.322074</td>\n",
       "      <td>0.043478</td>\n",
       "    </tr>\n",
       "    <tr>\n",
       "      <th>...</th>\n",
       "      <td>...</td>\n",
       "      <td>...</td>\n",
       "      <td>...</td>\n",
       "      <td>...</td>\n",
       "      <td>...</td>\n",
       "      <td>...</td>\n",
       "      <td>...</td>\n",
       "      <td>...</td>\n",
       "      <td>...</td>\n",
       "      <td>...</td>\n",
       "      <td>...</td>\n",
       "      <td>...</td>\n",
       "      <td>...</td>\n",
       "      <td>...</td>\n",
       "      <td>...</td>\n",
       "      <td>...</td>\n",
       "      <td>...</td>\n",
       "      <td>...</td>\n",
       "      <td>...</td>\n",
       "      <td>...</td>\n",
       "      <td>...</td>\n",
       "    </tr>\n",
       "    <tr>\n",
       "      <th>102</th>\n",
       "      <td>139</td>\n",
       "      <td>0.0</td>\n",
       "      <td>0.652174</td>\n",
       "      <td>5.347826</td>\n",
       "      <td>3.311141</td>\n",
       "      <td>3.358696</td>\n",
       "      <td>1.228126</td>\n",
       "      <td>4.0</td>\n",
       "      <td>2.0</td>\n",
       "      <td>0.031250</td>\n",
       "      <td>...</td>\n",
       "      <td>149.693755</td>\n",
       "      <td>0.0</td>\n",
       "      <td>0.0</td>\n",
       "      <td>0.0</td>\n",
       "      <td>0.968750</td>\n",
       "      <td>1.314109</td>\n",
       "      <td>3.895106</td>\n",
       "      <td>7.393326</td>\n",
       "      <td>3.866095</td>\n",
       "      <td>7.175720</td>\n",
       "    </tr>\n",
       "    <tr>\n",
       "      <th>103</th>\n",
       "      <td>140</td>\n",
       "      <td>1.0</td>\n",
       "      <td>-0.347826</td>\n",
       "      <td>3.934783</td>\n",
       "      <td>2.571558</td>\n",
       "      <td>2.869565</td>\n",
       "      <td>1.115528</td>\n",
       "      <td>4.0</td>\n",
       "      <td>1.0</td>\n",
       "      <td>0.000000</td>\n",
       "      <td>...</td>\n",
       "      <td>17.831701</td>\n",
       "      <td>0.0</td>\n",
       "      <td>0.0</td>\n",
       "      <td>0.0</td>\n",
       "      <td>0.958333</td>\n",
       "      <td>0.604629</td>\n",
       "      <td>1.813145</td>\n",
       "      <td>3.614941</td>\n",
       "      <td>1.815859</td>\n",
       "      <td>3.562553</td>\n",
       "    </tr>\n",
       "    <tr>\n",
       "      <th>104</th>\n",
       "      <td>142</td>\n",
       "      <td>0.0</td>\n",
       "      <td>0.391304</td>\n",
       "      <td>4.565217</td>\n",
       "      <td>2.884058</td>\n",
       "      <td>2.913043</td>\n",
       "      <td>1.841675</td>\n",
       "      <td>2.0</td>\n",
       "      <td>1.0</td>\n",
       "      <td>0.047619</td>\n",
       "      <td>...</td>\n",
       "      <td>178.999056</td>\n",
       "      <td>0.0</td>\n",
       "      <td>0.0</td>\n",
       "      <td>0.0</td>\n",
       "      <td>0.952381</td>\n",
       "      <td>2.196274</td>\n",
       "      <td>6.576850</td>\n",
       "      <td>12.499477</td>\n",
       "      <td>6.791721</td>\n",
       "      <td>11.936108</td>\n",
       "    </tr>\n",
       "    <tr>\n",
       "      <th>105</th>\n",
       "      <td>144</td>\n",
       "      <td>0.0</td>\n",
       "      <td>0.739130</td>\n",
       "      <td>3.282609</td>\n",
       "      <td>2.029644</td>\n",
       "      <td>1.956522</td>\n",
       "      <td>0.518755</td>\n",
       "      <td>0.0</td>\n",
       "      <td>0.0</td>\n",
       "      <td>0.000000</td>\n",
       "      <td>...</td>\n",
       "      <td>115.582655</td>\n",
       "      <td>0.0</td>\n",
       "      <td>0.0</td>\n",
       "      <td>0.0</td>\n",
       "      <td>0.909091</td>\n",
       "      <td>3.392153</td>\n",
       "      <td>9.627781</td>\n",
       "      <td>18.755566</td>\n",
       "      <td>9.219570</td>\n",
       "      <td>15.212494</td>\n",
       "    </tr>\n",
       "    <tr>\n",
       "      <th>106</th>\n",
       "      <td>145</td>\n",
       "      <td>1.0</td>\n",
       "      <td>-1.065217</td>\n",
       "      <td>-0.478261</td>\n",
       "      <td>-0.743961</td>\n",
       "      <td>-0.717391</td>\n",
       "      <td>0.037364</td>\n",
       "      <td>1.0</td>\n",
       "      <td>0.0</td>\n",
       "      <td>0.666667</td>\n",
       "      <td>...</td>\n",
       "      <td>15.393651</td>\n",
       "      <td>0.0</td>\n",
       "      <td>0.0</td>\n",
       "      <td>0.0</td>\n",
       "      <td>0.888889</td>\n",
       "      <td>1.514840</td>\n",
       "      <td>4.583390</td>\n",
       "      <td>7.117705</td>\n",
       "      <td>4.810736</td>\n",
       "      <td>5.037856</td>\n",
       "    </tr>\n",
       "  </tbody>\n",
       "</table>\n",
       "<p>107 rows × 324 columns</p>\n",
       "</div>"
      ],
      "text/plain": [
       "     PACJENT_NR  ZGON  BETET__minimum  BETET__maximum  BETET__mean  \\\n",
       "0             1   0.0        0.086957        6.260870     3.212790   \n",
       "1             2   0.0       -0.043478        2.304348     1.332609   \n",
       "2             3   0.0        0.478261        4.086957     2.179745   \n",
       "3             4   0.0       -0.065217        3.500000     1.605499   \n",
       "4             6   0.0       -0.043478        0.847826     0.478261   \n",
       "..          ...   ...             ...             ...          ...   \n",
       "102         139   0.0        0.652174        5.347826     3.311141   \n",
       "103         140   1.0       -0.347826        3.934783     2.571558   \n",
       "104         142   0.0        0.391304        4.565217     2.884058   \n",
       "105         144   0.0        0.739130        3.282609     2.029644   \n",
       "106         145   1.0       -1.065217       -0.478261    -0.743961   \n",
       "\n",
       "     BETET__median  BETET__variance  BETET__number_peaks__n_2  \\\n",
       "0         3.065217         2.015770                       7.0   \n",
       "1         1.173913         0.531479                       0.0   \n",
       "2         1.934783         0.734497                       6.0   \n",
       "3         1.456522         0.630021                       4.0   \n",
       "4         0.554348         0.067580                       1.0   \n",
       "..             ...              ...                       ...   \n",
       "102       3.358696         1.228126                       4.0   \n",
       "103       2.869565         1.115528                       4.0   \n",
       "104       2.913043         1.841675                       2.0   \n",
       "105       1.956522         0.518755                       0.0   \n",
       "106      -0.717391         0.037364                       1.0   \n",
       "\n",
       "     BETET__number_peaks__n_4  BETET__first_location_of_minimum  ...  \\\n",
       "0                         3.0                          0.020000  ...   \n",
       "1                         0.0                          0.000000  ...   \n",
       "2                         2.0                          0.000000  ...   \n",
       "3                         1.0                          0.705882  ...   \n",
       "4                         0.0                          0.750000  ...   \n",
       "..                        ...                               ...  ...   \n",
       "102                       2.0                          0.031250  ...   \n",
       "103                       1.0                          0.000000  ...   \n",
       "104                       1.0                          0.047619  ...   \n",
       "105                       0.0                          0.000000  ...   \n",
       "106                       0.0                          0.666667  ...   \n",
       "\n",
       "     euclidean_kw_skum__variance  euclidean_kw_skum__number_peaks__n_2  \\\n",
       "0                     182.042449                                   0.0   \n",
       "1                      24.929782                                   0.0   \n",
       "2                      22.519226                                   0.0   \n",
       "3                      23.542215                                   0.0   \n",
       "4                       2.745903                                   0.0   \n",
       "..                           ...                                   ...   \n",
       "102                   149.693755                                   0.0   \n",
       "103                    17.831701                                   0.0   \n",
       "104                   178.999056                                   0.0   \n",
       "105                   115.582655                                   0.0   \n",
       "106                    15.393651                                   0.0   \n",
       "\n",
       "     euclidean_kw_skum__number_peaks__n_4  \\\n",
       "0                                     0.0   \n",
       "1                                     0.0   \n",
       "2                                     0.0   \n",
       "3                                     0.0   \n",
       "4                                     0.0   \n",
       "..                                    ...   \n",
       "102                                   0.0   \n",
       "103                                   0.0   \n",
       "104                                   0.0   \n",
       "105                                   0.0   \n",
       "106                                   0.0   \n",
       "\n",
       "     euclidean_kw_skum__first_location_of_minimum  \\\n",
       "0                                             0.0   \n",
       "1                                             0.0   \n",
       "2                                             0.0   \n",
       "3                                             0.0   \n",
       "4                                             0.0   \n",
       "..                                            ...   \n",
       "102                                           0.0   \n",
       "103                                           0.0   \n",
       "104                                           0.0   \n",
       "105                                           0.0   \n",
       "106                                           0.0   \n",
       "\n",
       "     euclidean_kw_skum__first_location_of_maximum  \\\n",
       "0                                        0.980000   \n",
       "1                                        0.800000   \n",
       "2                                        0.926829   \n",
       "3                                        0.970588   \n",
       "4                                        0.750000   \n",
       "..                                            ...   \n",
       "102                                      0.968750   \n",
       "103                                      0.958333   \n",
       "104                                      0.952381   \n",
       "105                                      0.909091   \n",
       "106                                      0.888889   \n",
       "\n",
       "     euclidean_kw_skum__linear_trend__attr_\"slope\"  \\\n",
       "0                                         0.913771   \n",
       "1                                         1.700442   \n",
       "2                                         0.370867   \n",
       "3                                         0.397114   \n",
       "4                                         0.667426   \n",
       "..                                             ...   \n",
       "102                                       1.314109   \n",
       "103                                       0.604629   \n",
       "104                                       2.196274   \n",
       "105                                       3.392153   \n",
       "106                                       1.514840   \n",
       "\n",
       "     euclidean_kw_skum__agg_linear_trend__attr_\"slope\"__chunk_len_3__f_agg_\"mean\"  \\\n",
       "0                                             2.751726                              \n",
       "1                                             4.159130                              \n",
       "2                                             1.079482                              \n",
       "3                                             1.321238                              \n",
       "4                                             1.736074                              \n",
       "..                                                 ...                              \n",
       "102                                           3.895106                              \n",
       "103                                           1.813145                              \n",
       "104                                           6.576850                              \n",
       "105                                           9.627781                              \n",
       "106                                           4.583390                              \n",
       "\n",
       "     euclidean_kw_skum__agg_linear_trend__attr_\"slope\"__chunk_len_6__f_agg_\"mean\"  \\\n",
       "0                                             5.494292                              \n",
       "1                                             8.097602                              \n",
       "2                                             2.155931                              \n",
       "3                                             2.571625                              \n",
       "4                                             1.911147                              \n",
       "..                                                 ...                              \n",
       "102                                           7.393326                              \n",
       "103                                           3.614941                              \n",
       "104                                          12.499477                              \n",
       "105                                          18.755566                              \n",
       "106                                           7.117705                              \n",
       "\n",
       "     euclidean_kw_skum__agg_linear_trend__attr_\"slope\"__chunk_len_3__f_agg_\"max\"  \\\n",
       "0                                             2.717326                             \n",
       "1                                             3.299999                             \n",
       "2                                             1.016063                             \n",
       "3                                             1.424427                             \n",
       "4                                             1.322074                             \n",
       "..                                                 ...                             \n",
       "102                                           3.866095                             \n",
       "103                                           1.815859                             \n",
       "104                                           6.791721                             \n",
       "105                                           9.219570                             \n",
       "106                                           4.810736                             \n",
       "\n",
       "     euclidean_kw_skum__agg_linear_trend__attr_\"slope\"__chunk_len_6__f_agg_\"max\"  \n",
       "0                                             5.297220                            \n",
       "1                                             3.980000                            \n",
       "2                                             1.785982                            \n",
       "3                                             3.092883                            \n",
       "4                                             0.043478                            \n",
       "..                                                 ...                            \n",
       "102                                           7.175720                            \n",
       "103                                           3.562553                            \n",
       "104                                          11.936108                            \n",
       "105                                          15.212494                            \n",
       "106                                           5.037856                            \n",
       "\n",
       "[107 rows x 324 columns]"
      ]
     },
     "execution_count": 169,
     "metadata": {},
     "output_type": "execute_result"
    }
   ],
   "source": [
    "data_with_features=pd.concat([data_to_extract[['PACJENT_NR', 'ZGON']].groupby(\"PACJENT_NR\").last()[\"ZGON\"], extracted_features], axis=1).rename_axis(\"PACJENT_NR\").reset_index()\n",
    "data_with_features"
   ]
  },
  {
   "cell_type": "code",
   "execution_count": 170,
   "metadata": {},
   "outputs": [],
   "source": [
    "X_data = data_with_features.drop(columns=[\"ZGON\", \"PACJENT_NR\"])\n",
    "y_data = data_with_features[\"ZGON\"]\n",
    "X_train, X_test, y_train, y_test = train_test_split(X_data, y_data, stratify=y_data, test_size=0.2, random_state=seed)"
   ]
  },
  {
   "cell_type": "code",
   "execution_count": 171,
   "metadata": {},
   "outputs": [
    {
     "data": {
      "text/plain": [
       "(107, 322)"
      ]
     },
     "execution_count": 171,
     "metadata": {},
     "output_type": "execute_result"
    }
   ],
   "source": [
    "X_data.shape"
   ]
  },
  {
   "cell_type": "code",
   "execution_count": 172,
   "metadata": {},
   "outputs": [],
   "source": [
    "# Standaryzacja danych\n",
    "scaler = StandardScaler()\n",
    "X_train_scaled = scaler.fit_transform(X_train)\n",
    "X_test_scaled = scaler.transform(X_test)"
   ]
  },
  {
   "cell_type": "code",
   "execution_count": 173,
   "metadata": {},
   "outputs": [],
   "source": [
    "def plot_confusion_matrix(model, X_train, X_test, y_train, y_test, ax, title):\n",
    "    model.fit(X_train, y_train)\n",
    "    y_pred = model.predict(X_test)\n",
    "    cm = confusion_matrix(y_test, y_pred)\n",
    "    accuracy = accuracy_score(y_test, y_pred)\n",
    "    precision = precision_score(y_test, y_pred)\n",
    "    recall = recall_score(y_test, y_pred)\n",
    "    f1 = f1_score(y_test, y_pred)\n",
    "    sns.heatmap(cm, annot=True, fmt='d', ax=ax, cmap=\"Reds\", annot_kws={\"fontsize\": 14})\n",
    "    ax.set_title(f'{title}\\ndokładność: {accuracy:.2f}, precyzja: {precision:.2f},\\nczułość: {recall:.2f}, F1-score: {f1:.2f}', fontsize=16)\n",
    "    ax.set_xlabel('Przewidywane', fontsize=14)\n",
    "    ax.set_ylabel('Prawdziwe', fontsize=14)\n",
    "\n",
    "    # Funkcja do trenowania i mierzenia czasu\n",
    "def model_evaluate(classifier, X_train, X_test, y_train, y_test):\n",
    "    y_proba = classifier.predict_proba(X_test)[:, 1]\n",
    "    fpr, tpr, _= roc_curve(y_test, y_proba)\n",
    "    roc_auc = auc(fpr, tpr)\n",
    "    return fpr, tpr, roc_auc\n"
   ]
  },
  {
   "cell_type": "markdown",
   "metadata": {},
   "source": [
    "### Klasyfikacja na wszystkich 324 zmiennych"
   ]
  },
  {
   "cell_type": "code",
   "execution_count": 174,
   "metadata": {},
   "outputs": [
    {
     "name": "stdout",
     "output_type": "stream",
     "text": [
      "Przetwarzanie KNN...\n",
      "Najlepsze parametry dla KNN: {'n_neighbors': 10, 'weights': 'uniform'}\n",
      "Najlepszy wynik dla KNN: 0.7884199134199135\n",
      "\n",
      "Przetwarzanie LDA...\n",
      "Najlepsze parametry dla LDA: {'solver': 'svd'}\n",
      "Najlepszy wynik dla LDA: 0.6958874458874459\n",
      "\n",
      "Przetwarzanie SVC...\n"
     ]
    },
    {
     "name": "stderr",
     "output_type": "stream",
     "text": [
      "c:\\Users\\dorot\\AppData\\Local\\Programs\\Python\\Python39\\lib\\site-packages\\sklearn\\model_selection\\_validation.py:547: FitFailedWarning:\n",
      "\n",
      "\n",
      "4 fits failed out of a total of 12.\n",
      "The score on these train-test partitions for these parameters will be set to nan.\n",
      "If these failures are not expected, you can try to debug them by setting error_score='raise'.\n",
      "\n",
      "Below are more details about the failures:\n",
      "--------------------------------------------------------------------------------\n",
      "1 fits failed with the following error:\n",
      "Traceback (most recent call last):\n",
      "  File \"c:\\Users\\dorot\\AppData\\Local\\Programs\\Python\\Python39\\lib\\site-packages\\sklearn\\model_selection\\_validation.py\", line 895, in _fit_and_score\n",
      "    estimator.fit(X_train, y_train, **fit_params)\n",
      "  File \"c:\\Users\\dorot\\AppData\\Local\\Programs\\Python\\Python39\\lib\\site-packages\\sklearn\\base.py\", line 1474, in wrapper\n",
      "    return fit_method(estimator, *args, **kwargs)\n",
      "  File \"c:\\Users\\dorot\\AppData\\Local\\Programs\\Python\\Python39\\lib\\site-packages\\sklearn\\discriminant_analysis.py\", line 637, in fit\n",
      "    self._solve_eigen(\n",
      "  File \"c:\\Users\\dorot\\AppData\\Local\\Programs\\Python\\Python39\\lib\\site-packages\\sklearn\\discriminant_analysis.py\", line 467, in _solve_eigen\n",
      "    evals, evecs = linalg.eigh(Sb, Sw)\n",
      "  File \"c:\\Users\\dorot\\AppData\\Local\\Programs\\Python\\Python39\\lib\\site-packages\\scipy\\_lib\\deprecation.py\", line 213, in inner_f\n",
      "    return f(*args, **kwargs)\n",
      "  File \"c:\\Users\\dorot\\AppData\\Local\\Programs\\Python\\Python39\\lib\\site-packages\\scipy\\linalg\\_decomp.py\", line 593, in eigh\n",
      "    raise LinAlgError(f'The leading minor of order {info-n} of B is not '\n",
      "numpy.linalg.LinAlgError: The leading minor of order 62 of B is not positive definite. The factorization of B could not be completed and no eigenvalues or eigenvectors were computed.\n",
      "\n",
      "--------------------------------------------------------------------------------\n",
      "1 fits failed with the following error:\n",
      "Traceback (most recent call last):\n",
      "  File \"c:\\Users\\dorot\\AppData\\Local\\Programs\\Python\\Python39\\lib\\site-packages\\sklearn\\model_selection\\_validation.py\", line 895, in _fit_and_score\n",
      "    estimator.fit(X_train, y_train, **fit_params)\n",
      "  File \"c:\\Users\\dorot\\AppData\\Local\\Programs\\Python\\Python39\\lib\\site-packages\\sklearn\\base.py\", line 1474, in wrapper\n",
      "    return fit_method(estimator, *args, **kwargs)\n",
      "  File \"c:\\Users\\dorot\\AppData\\Local\\Programs\\Python\\Python39\\lib\\site-packages\\sklearn\\discriminant_analysis.py\", line 637, in fit\n",
      "    self._solve_eigen(\n",
      "  File \"c:\\Users\\dorot\\AppData\\Local\\Programs\\Python\\Python39\\lib\\site-packages\\sklearn\\discriminant_analysis.py\", line 467, in _solve_eigen\n",
      "    evals, evecs = linalg.eigh(Sb, Sw)\n",
      "  File \"c:\\Users\\dorot\\AppData\\Local\\Programs\\Python\\Python39\\lib\\site-packages\\scipy\\_lib\\deprecation.py\", line 213, in inner_f\n",
      "    return f(*args, **kwargs)\n",
      "  File \"c:\\Users\\dorot\\AppData\\Local\\Programs\\Python\\Python39\\lib\\site-packages\\scipy\\linalg\\_decomp.py\", line 593, in eigh\n",
      "    raise LinAlgError(f'The leading minor of order {info-n} of B is not '\n",
      "numpy.linalg.LinAlgError: The leading minor of order 64 of B is not positive definite. The factorization of B could not be completed and no eigenvalues or eigenvectors were computed.\n",
      "\n",
      "--------------------------------------------------------------------------------\n",
      "1 fits failed with the following error:\n",
      "Traceback (most recent call last):\n",
      "  File \"c:\\Users\\dorot\\AppData\\Local\\Programs\\Python\\Python39\\lib\\site-packages\\sklearn\\model_selection\\_validation.py\", line 895, in _fit_and_score\n",
      "    estimator.fit(X_train, y_train, **fit_params)\n",
      "  File \"c:\\Users\\dorot\\AppData\\Local\\Programs\\Python\\Python39\\lib\\site-packages\\sklearn\\base.py\", line 1474, in wrapper\n",
      "    return fit_method(estimator, *args, **kwargs)\n",
      "  File \"c:\\Users\\dorot\\AppData\\Local\\Programs\\Python\\Python39\\lib\\site-packages\\sklearn\\discriminant_analysis.py\", line 637, in fit\n",
      "    self._solve_eigen(\n",
      "  File \"c:\\Users\\dorot\\AppData\\Local\\Programs\\Python\\Python39\\lib\\site-packages\\sklearn\\discriminant_analysis.py\", line 467, in _solve_eigen\n",
      "    evals, evecs = linalg.eigh(Sb, Sw)\n",
      "  File \"c:\\Users\\dorot\\AppData\\Local\\Programs\\Python\\Python39\\lib\\site-packages\\scipy\\_lib\\deprecation.py\", line 213, in inner_f\n",
      "    return f(*args, **kwargs)\n",
      "  File \"c:\\Users\\dorot\\AppData\\Local\\Programs\\Python\\Python39\\lib\\site-packages\\scipy\\linalg\\_decomp.py\", line 593, in eigh\n",
      "    raise LinAlgError(f'The leading minor of order {info-n} of B is not '\n",
      "numpy.linalg.LinAlgError: The leading minor of order 65 of B is not positive definite. The factorization of B could not be completed and no eigenvalues or eigenvectors were computed.\n",
      "\n",
      "--------------------------------------------------------------------------------\n",
      "1 fits failed with the following error:\n",
      "Traceback (most recent call last):\n",
      "  File \"c:\\Users\\dorot\\AppData\\Local\\Programs\\Python\\Python39\\lib\\site-packages\\sklearn\\model_selection\\_validation.py\", line 895, in _fit_and_score\n",
      "    estimator.fit(X_train, y_train, **fit_params)\n",
      "  File \"c:\\Users\\dorot\\AppData\\Local\\Programs\\Python\\Python39\\lib\\site-packages\\sklearn\\base.py\", line 1474, in wrapper\n",
      "    return fit_method(estimator, *args, **kwargs)\n",
      "  File \"c:\\Users\\dorot\\AppData\\Local\\Programs\\Python\\Python39\\lib\\site-packages\\sklearn\\discriminant_analysis.py\", line 637, in fit\n",
      "    self._solve_eigen(\n",
      "  File \"c:\\Users\\dorot\\AppData\\Local\\Programs\\Python\\Python39\\lib\\site-packages\\sklearn\\discriminant_analysis.py\", line 467, in _solve_eigen\n",
      "    evals, evecs = linalg.eigh(Sb, Sw)\n",
      "  File \"c:\\Users\\dorot\\AppData\\Local\\Programs\\Python\\Python39\\lib\\site-packages\\scipy\\_lib\\deprecation.py\", line 213, in inner_f\n",
      "    return f(*args, **kwargs)\n",
      "  File \"c:\\Users\\dorot\\AppData\\Local\\Programs\\Python\\Python39\\lib\\site-packages\\scipy\\linalg\\_decomp.py\", line 593, in eigh\n",
      "    raise LinAlgError(f'The leading minor of order {info-n} of B is not '\n",
      "numpy.linalg.LinAlgError: The leading minor of order 63 of B is not positive definite. The factorization of B could not be completed and no eigenvalues or eigenvectors were computed.\n",
      "\n",
      "\n",
      "c:\\Users\\dorot\\AppData\\Local\\Programs\\Python\\Python39\\lib\\site-packages\\sklearn\\model_selection\\_search.py:1051: UserWarning:\n",
      "\n",
      "One or more of the test scores are non-finite: [0.69588745 0.49350649        nan]\n",
      "\n"
     ]
    },
    {
     "name": "stdout",
     "output_type": "stream",
     "text": [
      "Najlepsze parametry dla SVC: {'C': 1, 'kernel': 'sigmoid', 'probability': True}\n",
      "Najlepszy wynik dla SVC: 0.8116883116883118\n",
      "\n",
      "Przetwarzanie DT...\n",
      "Najlepsze parametry dla DT: {'criterion': 'gini', 'max_depth': 10, 'random_state': 42}\n",
      "Najlepszy wynik dla DT: 0.7294372294372293\n",
      "\n",
      "Przetwarzanie RF...\n",
      "Najlepsze parametry dla RF: {'criterion': 'entropy', 'max_depth': 10, 'n_estimators': 10, 'random_state': 42}\n",
      "Najlepszy wynik dla RF: 0.8122294372294372\n",
      "\n",
      "Dokładność KNN na zbiorze testowym: 0.7272727272727273\n",
      "Dokładność LDA na zbiorze testowym: 0.7727272727272727\n",
      "Dokładność SVC na zbiorze testowym: 0.8181818181818182\n",
      "Dokładność DT na zbiorze testowym: 0.5909090909090909\n",
      "Dokładność RF na zbiorze testowym: 0.7727272727272727\n"
     ]
    }
   ],
   "source": [
    "# Klasyfikatory\n",
    "\n",
    "classifiers = {\n",
    "    'KNN': KNeighborsClassifier(),\n",
    "    'LDA': LinearDiscriminantAnalysis(),\n",
    "    'SVC': SVC(),\n",
    "    'DT': DecisionTreeClassifier(),\n",
    "    'RF': RandomForestClassifier()\n",
    "}\n",
    "\n",
    "param_grids = {\n",
    "    'KNN': {'n_neighbors': [5,10,15,20], 'weights': ['uniform', 'distance']},\n",
    "    'LDA': {'solver': ['svd', 'lsqr', 'eigen']},\n",
    "    'SVC': {'C': [0.1, 0.5, 1, 1.5], 'kernel': [ 'rbf', 'poly', 'sigmoid'], 'probability': [True]},\n",
    "    'DT': {'criterion': ['gini', 'entropy'], 'max_depth': [10, 20, 30, 40, 50, None], 'random_state': [seed]},\n",
    "    'RF': {'n_estimators': [5, 10, 50, 100, 200], 'criterion': ['gini', 'entropy'], \n",
    "                      'max_depth': [5, 10, 20, 30, 40, 50,], 'random_state': [seed]}\n",
    "}\n",
    "\n",
    "\n",
    "# Przechowywanie najlepszych modeli i ich wyników\n",
    "best_models_all = {}\n",
    "best_scores_all = {}\n",
    "test_scores_all={}\n",
    "\n",
    "# Przeszukiwanie hiperparametrów dla każdego klasyfikatora\n",
    "for name, classifier in classifiers.items():\n",
    "    print(f\"Przetwarzanie {name}...\")\n",
    "    grid_search = GridSearchCV(classifier, param_grids[name], cv=4, n_jobs=-1, scoring='accuracy',)\n",
    "    grid_search.fit(X_train_scaled, y_train)\n",
    "    best_models_all[name] = (type(grid_search.best_estimator_), grid_search.best_params_)\n",
    "    best_scores_all[name] = grid_search.best_score_\n",
    "    print(f\"Najlepsze parametry dla {name}: {grid_search.best_params_}\")\n",
    "    print(f\"Najlepszy wynik dla {name}: {grid_search.best_score_}\\n\")\n",
    "\n",
    "# Ocena najlepszych modeli na zbiorze testowym\n",
    "for name, (model_type, best_params) in best_models_all.items():\n",
    "    model = model_type(**best_params)\n",
    "    model.fit(X_train_scaled, y_train)\n",
    "    y_pred = model.predict(X_test_scaled)\n",
    "    test_score = accuracy_score(y_test, y_pred)\n",
    "    test_scores_all[name]=test_score\n",
    "    print(f\"Dokładność {name} na zbiorze testowym: {test_score}\")"
   ]
  },
  {
   "cell_type": "code",
   "execution_count": 258,
   "metadata": {},
   "outputs": [
    {
     "data": {
      "text/plain": [
       "{'KNN': 0.7884199134199135,\n",
       " 'LDA': 0.6958874458874459,\n",
       " 'SVC': 0.8116883116883118,\n",
       " 'DT': 0.7294372294372293,\n",
       " 'RF': 0.8122294372294372}"
      ]
     },
     "execution_count": 258,
     "metadata": {},
     "output_type": "execute_result"
    }
   ],
   "source": [
    "best_scores_all"
   ]
  },
  {
   "cell_type": "code",
   "execution_count": 259,
   "metadata": {},
   "outputs": [
    {
     "data": {
      "text/plain": [
       "{'KNN': 0.7272727272727273,\n",
       " 'LDA': 0.7727272727272727,\n",
       " 'SVC': 0.8181818181818182,\n",
       " 'DT': 0.5909090909090909,\n",
       " 'RF': 0.7727272727272727}"
      ]
     },
     "execution_count": 259,
     "metadata": {},
     "output_type": "execute_result"
    }
   ],
   "source": [
    "test_scores_all"
   ]
  },
  {
   "cell_type": "code",
   "execution_count": 177,
   "metadata": {},
   "outputs": [
    {
     "data": {
      "image/png": "[encoded data removed]",
      "text/plain": [
       "<Figure size 1080x576 with 10 Axes>"
      ]
     },
     "metadata": {
      "needs_background": "light"
     },
     "output_type": "display_data"
    }
   ],
   "source": [
    "fig, axes = plt.subplots(2, 3, figsize=(15, 8))\n",
    "\n",
    "# Lista tytułów\n",
    "titles = ['KNN', 'LDA', 'SVC', 'DT', 'RF']\n",
    "\n",
    "# Rysowanie macierzy pomyłek dla każdego klasyfikatora\n",
    "for ax, (title, (model_type, best_params)) in zip(axes.flatten(), best_models_all.items()):\n",
    "    model = model_type(**best_params)\n",
    "    plot_confusion_matrix(model, X_train_scaled, X_test_scaled, y_train, y_test, ax, title)\n",
    "\n",
    "# Usuwanie niepotrzebnych osi w przypadku parzystej liczby klasyfikatorów\n",
    "if len(classifiers) % 2 != 0:\n",
    "    fig.delaxes(axes.flatten()[-1])\n",
    "\n",
    "plt.tight_layout()\n",
    "\n",
    "plt.savefig(\"images5/conf_matr_all.png\")\n",
    "\n",
    "plt.show()"
   ]
  },
  {
   "cell_type": "code",
   "execution_count": 178,
   "metadata": {},
   "outputs": [
    {
     "name": "stdout",
     "output_type": "stream",
     "text": [
      "KNeighborsClassifier(n_neighbors=10)\n",
      "LinearDiscriminantAnalysis()\n",
      "SVC(C=1, kernel='sigmoid', probability=True)\n",
      "DecisionTreeClassifier(max_depth=10, random_state=42)\n",
      "RandomForestClassifier(criterion='entropy', max_depth=10, n_estimators=10,\n",
      "                       random_state=42)\n"
     ]
    },
    {
     "data": {
      "image/png": "[encoded data removed]",
      "text/plain": [
       "<Figure size 576x432 with 1 Axes>"
      ]
     },
     "metadata": {
      "needs_background": "light"
     },
     "output_type": "display_data"
    }
   ],
   "source": [
    "plt.figure(figsize=(8, 6))\n",
    "for name, (model_type, best_params) in best_models_all.items():\n",
    "    model = model_type(**best_params)\n",
    "    print(model)\n",
    "    model.fit(X_train_scaled, y_train)\n",
    "    y_pred = model.predict(X_test_scaled)\n",
    "    fpr, tpr, roc_auc= model_evaluate(model, X_train_scaled, X_test_scaled, y_train, y_test)\n",
    "    plt.plot(fpr, tpr, lw=2, label=f'{name} (AUC = {roc_auc:.2f})')  # Grubsze linie\n",
    "\n",
    "# Dodanie linii diagonalnej\n",
    "plt.plot([0, 1], [0, 1], 'k--', lw=2)\n",
    "\n",
    "# Ustawienia osi\n",
    "plt.xlim([0.0, 1.0])\n",
    "plt.ylim([0.0, 1.05])\n",
    "\n",
    "# Powiększenie napisów przy osiach\n",
    "plt.xlabel('Odsetek fałszywie pozytywnych', fontsize=14)\n",
    "plt.ylabel('Odsetek prawdziwie pozytywnych', fontsize=14)\n",
    "\n",
    "# Powiększenie legendy\n",
    "plt.legend(loc='lower right', fontsize=12)\n",
    "\n",
    "plt.savefig(\"images5/roc_all.png\")\n",
    "# Wyświetlenie wykresu\n",
    "plt.show()"
   ]
  },
  {
   "cell_type": "markdown",
   "metadata": {},
   "source": [
    "### Klasyfikacja na podstawie najważniejszych skłądowych"
   ]
  },
  {
   "cell_type": "code",
   "execution_count": 179,
   "metadata": {},
   "outputs": [
    {
     "data": {
      "application/vnd.plotly.v1+json": {
       "config": {
        "plotlyServerURL": "https://plot.ly"
       },
       "data": [
        {
         "mode": "lines+markers",
         "name": "Explained Variance Ratio",
         "type": "scatter",
         "x": [
          1,
          2,
          3,
          4,
          5,
          6,
          7,
          8,
          9,
          10,
          11,
          12,
          13,
          14,
          15,
          16,
          17,
          18,
          19,
          20,
          21,
          22,
          23,
          24,
          25,
          26,
          27,
          28,
          29,
          30,
          31,
          32,
          33
         ],
         "y": [
          0.18146673914001588,
          0.13557117617531253,
          0.1050566563867817,
          0.09534915396784636,
          0.06658744501306721,
          0.06394436568552161,
          0.03924840950075508,
          0.032896246485517054,
          0.02723208351603721,
          0.025657058577267088,
          0.01980542718040695,
          0.016734403226324555,
          0.014849664168110954,
          0.012845201271067431,
          0.011447444258905159,
          0.010940192367676332,
          0.00936548325493384,
          0.008752252127998909,
          0.008062330104419932,
          0.007731382785485872,
          0.007043486065204391,
          0.006406274023552648,
          0.0055098485088850135,
          0.005501492628115567,
          0.005192342809344724,
          0.004474030877824304,
          0.0041187585900747965,
          0.003980661884721854,
          0.0037207896423986525,
          0.0035443695248517076,
          0.003467146945061423,
          0.003259441802471245,
          0.0031064551173180695
         ]
        }
       ],
       "layout": {
        "template": {
         "data": {
          "bar": [
           {
            "error_x": {
             "color": "#2a3f5f"
            },
            "error_y": {
             "color": "#2a3f5f"
            },
            "marker": {
             "line": {
              "color": "white",
              "width": 0.5
             },
             "pattern": {
              "fillmode": "overlay",
              "size": 10,
              "solidity": 0.2
             }
            },
            "type": "bar"
           }
          ],
          "barpolar": [
           {
            "marker": {
             "line": {
              "color": "white",
              "width": 0.5
             },
             "pattern": {
              "fillmode": "overlay",
              "size": 10,
              "solidity": 0.2
             }
            },
            "type": "barpolar"
           }
          ],
          "carpet": [
           {
            "aaxis": {
             "endlinecolor": "#2a3f5f",
             "gridcolor": "#C8D4E3",
             "linecolor": "#C8D4E3",
             "minorgridcolor": "#C8D4E3",
             "startlinecolor": "#2a3f5f"
            },
            "baxis": {
             "endlinecolor": "#2a3f5f",
             "gridcolor": "#C8D4E3",
             "linecolor": "#C8D4E3",
             "minorgridcolor": "#C8D4E3",
             "startlinecolor": "#2a3f5f"
            },
            "type": "carpet"
           }
          ],
          "choropleth": [
           {
            "colorbar": {
             "outlinewidth": 0,
             "ticks": ""
            },
            "type": "choropleth"
           }
          ],
          "contour": [
           {
            "colorbar": {
             "outlinewidth": 0,
             "ticks": ""
            },
            "colorscale": [
             [
              0,
              "#0d0887"
             ],
             [
              0.1111111111111111,
              "#46039f"
             ],
             [
              0.2222222222222222,
              "#7201a8"
             ],
             [
              0.3333333333333333,
              "#9c179e"
             ],
             [
              0.4444444444444444,
              "#bd3786"
             ],
             [
              0.5555555555555556,
              "#d8576b"
             ],
             [
              0.6666666666666666,
              "#ed7953"
             ],
             [
              0.7777777777777778,
              "#fb9f3a"
             ],
             [
              0.8888888888888888,
              "#fdca26"
             ],
             [
              1,
              "#f0f921"
             ]
            ],
            "type": "contour"
           }
          ],
          "contourcarpet": [
           {
            "colorbar": {
             "outlinewidth": 0,
             "ticks": ""
            },
            "type": "contourcarpet"
           }
          ],
          "heatmap": [
           {
            "colorbar": {
             "outlinewidth": 0,
             "ticks": ""
            },
            "colorscale": [
             [
              0,
              "#0d0887"
             ],
             [
              0.1111111111111111,
              "#46039f"
             ],
             [
              0.2222222222222222,
              "#7201a8"
             ],
             [
              0.3333333333333333,
              "#9c179e"
             ],
             [
              0.4444444444444444,
              "#bd3786"
             ],
             [
              0.5555555555555556,
              "#d8576b"
             ],
             [
              0.6666666666666666,
              "#ed7953"
             ],
             [
              0.7777777777777778,
              "#fb9f3a"
             ],
             [
              0.8888888888888888,
              "#fdca26"
             ],
             [
              1,
              "#f0f921"
             ]
            ],
            "type": "heatmap"
           }
          ],
          "heatmapgl": [
           {
            "colorbar": {
             "outlinewidth": 0,
             "ticks": ""
            },
            "colorscale": [
             [
              0,
              "#0d0887"
             ],
             [
              0.1111111111111111,
              "#46039f"
             ],
             [
              0.2222222222222222,
              "#7201a8"
             ],
             [
              0.3333333333333333,
              "#9c179e"
             ],
             [
              0.4444444444444444,
              "#bd3786"
             ],
             [
              0.5555555555555556,
              "#d8576b"
             ],
             [
              0.6666666666666666,
              "#ed7953"
             ],
             [
              0.7777777777777778,
              "#fb9f3a"
             ],
             [
              0.8888888888888888,
              "#fdca26"
             ],
             [
              1,
              "#f0f921"
             ]
            ],
            "type": "heatmapgl"
           }
          ],
          "histogram": [
           {
            "marker": {
             "pattern": {
              "fillmode": "overlay",
              "size": 10,
              "solidity": 0.2
             }
            },
            "type": "histogram"
           }
          ],
          "histogram2d": [
           {
            "colorbar": {
             "outlinewidth": 0,
             "ticks": ""
            },
            "colorscale": [
             [
              0,
              "#0d0887"
             ],
             [
              0.1111111111111111,
              "#46039f"
             ],
             [
              0.2222222222222222,
              "#7201a8"
             ],
             [
              0.3333333333333333,
              "#9c179e"
             ],
             [
              0.4444444444444444,
              "#bd3786"
             ],
             [
              0.5555555555555556,
              "#d8576b"
             ],
             [
              0.6666666666666666,
              "#ed7953"
             ],
             [
              0.7777777777777778,
              "#fb9f3a"
             ],
             [
              0.8888888888888888,
              "#fdca26"
             ],
             [
              1,
              "#f0f921"
             ]
            ],
            "type": "histogram2d"
           }
          ],
          "histogram2dcontour": [
           {
            "colorbar": {
             "outlinewidth": 0,
             "ticks": ""
            },
            "colorscale": [
             [
              0,
              "#0d0887"
             ],
             [
              0.1111111111111111,
              "#46039f"
             ],
             [
              0.2222222222222222,
              "#7201a8"
             ],
             [
              0.3333333333333333,
              "#9c179e"
             ],
             [
              0.4444444444444444,
              "#bd3786"
             ],
             [
              0.5555555555555556,
              "#d8576b"
             ],
             [
              0.6666666666666666,
              "#ed7953"
             ],
             [
              0.7777777777777778,
              "#fb9f3a"
             ],
             [
              0.8888888888888888,
              "#fdca26"
             ],
             [
              1,
              "#f0f921"
             ]
            ],
            "type": "histogram2dcontour"
           }
          ],
          "mesh3d": [
           {
            "colorbar": {
             "outlinewidth": 0,
             "ticks": ""
            },
            "type": "mesh3d"
           }
          ],
          "parcoords": [
           {
            "line": {
             "colorbar": {
              "outlinewidth": 0,
              "ticks": ""
             }
            },
            "type": "parcoords"
           }
          ],
          "pie": [
           {
            "automargin": true,
            "type": "pie"
           }
          ],
          "scatter": [
           {
            "marker": {
             "colorbar": {
              "outlinewidth": 0,
              "ticks": ""
             }
            },
            "type": "scatter"
           }
          ],
          "scatter3d": [
           {
            "line": {
             "colorbar": {
              "outlinewidth": 0,
              "ticks": ""
             }
            },
            "marker": {
             "colorbar": {
              "outlinewidth": 0,
              "ticks": ""
             }
            },
            "type": "scatter3d"
           }
          ],
          "scattercarpet": [
           {
            "marker": {
             "colorbar": {
              "outlinewidth": 0,
              "ticks": ""
             }
            },
            "type": "scattercarpet"
           }
          ],
          "scattergeo": [
           {
            "marker": {
             "colorbar": {
              "outlinewidth": 0,
              "ticks": ""
             }
            },
            "type": "scattergeo"
           }
          ],
          "scattergl": [
           {
            "marker": {
             "colorbar": {
              "outlinewidth": 0,
              "ticks": ""
             }
            },
            "type": "scattergl"
           }
          ],
          "scattermapbox": [
           {
            "marker": {
             "colorbar": {
              "outlinewidth": 0,
              "ticks": ""
             }
            },
            "type": "scattermapbox"
           }
          ],
          "scatterpolar": [
           {
            "marker": {
             "colorbar": {
              "outlinewidth": 0,
              "ticks": ""
             }
            },
            "type": "scatterpolar"
           }
          ],
          "scatterpolargl": [
           {
            "marker": {
             "colorbar": {
              "outlinewidth": 0,
              "ticks": ""
             }
            },
            "type": "scatterpolargl"
           }
          ],
          "scatterternary": [
           {
            "marker": {
             "colorbar": {
              "outlinewidth": 0,
              "ticks": ""
             }
            },
            "type": "scatterternary"
           }
          ],
          "surface": [
           {
            "colorbar": {
             "outlinewidth": 0,
             "ticks": ""
            },
            "colorscale": [
             [
              0,
              "#0d0887"
             ],
             [
              0.1111111111111111,
              "#46039f"
             ],
             [
              0.2222222222222222,
              "#7201a8"
             ],
             [
              0.3333333333333333,
              "#9c179e"
             ],
             [
              0.4444444444444444,
              "#bd3786"
             ],
             [
              0.5555555555555556,
              "#d8576b"
             ],
             [
              0.6666666666666666,
              "#ed7953"
             ],
             [
              0.7777777777777778,
              "#fb9f3a"
             ],
             [
              0.8888888888888888,
              "#fdca26"
             ],
             [
              1,
              "#f0f921"
             ]
            ],
            "type": "surface"
           }
          ],
          "table": [
           {
            "cells": {
             "fill": {
              "color": "#EBF0F8"
             },
             "line": {
              "color": "white"
             }
            },
            "header": {
             "fill": {
              "color": "#C8D4E3"
             },
             "line": {
              "color": "white"
             }
            },
            "type": "table"
           }
          ]
         },
         "layout": {
          "annotationdefaults": {
           "arrowcolor": "#2a3f5f",
           "arrowhead": 0,
           "arrowwidth": 1
          },
          "autotypenumbers": "strict",
          "coloraxis": {
           "colorbar": {
            "outlinewidth": 0,
            "ticks": ""
           }
          },
          "colorscale": {
           "diverging": [
            [
             0,
             "#8e0152"
            ],
            [
             0.1,
             "#c51b7d"
            ],
            [
             0.2,
             "#de77ae"
            ],
            [
             0.3,
             "#f1b6da"
            ],
            [
             0.4,
             "#fde0ef"
            ],
            [
             0.5,
             "#f7f7f7"
            ],
            [
             0.6,
             "#e6f5d0"
            ],
            [
             0.7,
             "#b8e186"
            ],
            [
             0.8,
             "#7fbc41"
            ],
            [
             0.9,
             "#4d9221"
            ],
            [
             1,
             "#276419"
            ]
           ],
           "sequential": [
            [
             0,
             "#0d0887"
            ],
            [
             0.1111111111111111,
             "#46039f"
            ],
            [
             0.2222222222222222,
             "#7201a8"
            ],
            [
             0.3333333333333333,
             "#9c179e"
            ],
            [
             0.4444444444444444,
             "#bd3786"
            ],
            [
             0.5555555555555556,
             "#d8576b"
            ],
            [
             0.6666666666666666,
             "#ed7953"
            ],
            [
             0.7777777777777778,
             "#fb9f3a"
            ],
            [
             0.8888888888888888,
             "#fdca26"
            ],
            [
             1,
             "#f0f921"
            ]
           ],
           "sequentialminus": [
            [
             0,
             "#0d0887"
            ],
            [
             0.1111111111111111,
             "#46039f"
            ],
            [
             0.2222222222222222,
             "#7201a8"
            ],
            [
             0.3333333333333333,
             "#9c179e"
            ],
            [
             0.4444444444444444,
             "#bd3786"
            ],
            [
             0.5555555555555556,
             "#d8576b"
            ],
            [
             0.6666666666666666,
             "#ed7953"
            ],
            [
             0.7777777777777778,
             "#fb9f3a"
            ],
            [
             0.8888888888888888,
             "#fdca26"
            ],
            [
             1,
             "#f0f921"
            ]
           ]
          },
          "colorway": [
           "#636efa",
           "#EF553B",
           "#00cc96",
           "#ab63fa",
           "#FFA15A",
           "#19d3f3",
           "#FF6692",
           "#B6E880",
           "#FF97FF",
           "#FECB52"
          ],
          "font": {
           "color": "#2a3f5f"
          },
          "geo": {
           "bgcolor": "white",
           "lakecolor": "white",
           "landcolor": "white",
           "showlakes": true,
           "showland": true,
           "subunitcolor": "#C8D4E3"
          },
          "hoverlabel": {
           "align": "left"
          },
          "hovermode": "closest",
          "mapbox": {
           "style": "light"
          },
          "paper_bgcolor": "white",
          "plot_bgcolor": "white",
          "polar": {
           "angularaxis": {
            "gridcolor": "#EBF0F8",
            "linecolor": "#EBF0F8",
            "ticks": ""
           },
           "bgcolor": "white",
           "radialaxis": {
            "gridcolor": "#EBF0F8",
            "linecolor": "#EBF0F8",
            "ticks": ""
           }
          },
          "scene": {
           "xaxis": {
            "backgroundcolor": "white",
            "gridcolor": "#DFE8F3",
            "gridwidth": 2,
            "linecolor": "#EBF0F8",
            "showbackground": true,
            "ticks": "",
            "zerolinecolor": "#EBF0F8"
           },
           "yaxis": {
            "backgroundcolor": "white",
            "gridcolor": "#DFE8F3",
            "gridwidth": 2,
            "linecolor": "#EBF0F8",
            "showbackground": true,
            "ticks": "",
            "zerolinecolor": "#EBF0F8"
           },
           "zaxis": {
            "backgroundcolor": "white",
            "gridcolor": "#DFE8F3",
            "gridwidth": 2,
            "linecolor": "#EBF0F8",
            "showbackground": true,
            "ticks": "",
            "zerolinecolor": "#EBF0F8"
           }
          },
          "shapedefaults": {
           "line": {
            "color": "#2a3f5f"
           }
          },
          "ternary": {
           "aaxis": {
            "gridcolor": "#DFE8F3",
            "linecolor": "#A2B1C6",
            "ticks": ""
           },
           "baxis": {
            "gridcolor": "#DFE8F3",
            "linecolor": "#A2B1C6",
            "ticks": ""
           },
           "bgcolor": "white",
           "caxis": {
            "gridcolor": "#DFE8F3",
            "linecolor": "#A2B1C6",
            "ticks": ""
           }
          },
          "title": {
           "x": 0.05
          },
          "xaxis": {
           "automargin": true,
           "gridcolor": "#EBF0F8",
           "linecolor": "#EBF0F8",
           "ticks": "",
           "title": {
            "standoff": 15
           },
           "zerolinecolor": "#EBF0F8",
           "zerolinewidth": 2
          },
          "yaxis": {
           "automargin": true,
           "gridcolor": "#EBF0F8",
           "linecolor": "#EBF0F8",
           "ticks": "",
           "title": {
            "standoff": 15
           },
           "zerolinecolor": "#EBF0F8",
           "zerolinewidth": 2
          }
         }
        },
        "xaxis": {
         "tickfont": {
          "size": 16
         },
         "title": {
          "font": {
           "size": 20
          },
          "text": "Liczba składowych"
         }
        },
        "yaxis": {
         "tickfont": {
          "size": 16
         },
         "title": {
          "font": {
           "size": 20
          },
          "text": "Odsetek wariancji"
         }
        }
       }
      }
     },
     "metadata": {},
     "output_type": "display_data"
    }
   ],
   "source": [
    "# PCA\n",
    "pca = PCA(n_components=0.95)\n",
    "X_pca = pca.fit_transform(X_train_scaled)\n",
    "\n",
    "# Wyjaśniona wariancja\n",
    "explained_variance_ratio = pca.explained_variance_ratio_\n",
    "\n",
    "# Kumulatywna suma wyjaśnionej wariancji\n",
    "cumulative_explained_variance_ratio = explained_variance_ratio.cumsum()\n",
    "\n",
    "# Tworzenie osypiska (scree plot) za pomocą Plotly\n",
    "fig = go.Figure()\n",
    "fig.add_trace(go.Scatter(x=list(range(1, len(explained_variance_ratio) + 1)), y=explained_variance_ratio,\n",
    "                         mode='lines+markers', name='Explained Variance Ratio'))\n",
    "# fig.add_trace(go.Scatter(x=list(range(1, len(cumulative_explained_variance_ratio) + 1)), \n",
    "#                          y=cumulative_explained_variance_ratio,\n",
    "#                          mode='lines+markers', name='Cumulative Explained Variance Ratio'))\n",
    "\n",
    "# Dodajemy etykiety i tytuł\n",
    "fig.update_layout(\n",
    "    xaxis=dict(\n",
    "        title='Liczba składowych',\n",
    "        tickfont=dict(size=16),\n",
    "        title_font=dict(size=20),\n",
    "    ),\n",
    "    yaxis=dict(\n",
    "        title='Odsetek wariancji',\n",
    "        tickfont=dict(size=16),\n",
    "        title_font=dict(size=20)\n",
    "    )\n",
    ")\n",
    "fig.update_layout(template=\"plotly_white\")\n",
    "\n",
    "\n",
    "# Wyświetlenie wykresu\n",
    "fig.show()\n",
    "fig.write_image(\"images5/osypisko.png\", width=1000, height=600, scale=3, format=\"png\")"
   ]
  },
  {
   "cell_type": "code",
   "execution_count": null,
   "metadata": {},
   "outputs": [],
   "source": [
    "#PCA\n",
    "pca = PCA(n_components=3)\n",
    "X_train_pca = pca.fit_transform(X_train_scaled)\n",
    "X_test_pca = pca.transform(X_test_scaled)\n",
    "\n",
    "explained_variance_ratio = pca.explained_variance_ratio_\n",
    "print(sum(explained_variance_ratio))\n",
    "\n",
    "X_pca_df=pd.DataFrame(X_train_pca, columns=['Czynnik 1', 'Czynnik 2', 'Czynnik 3'])\n",
    "X_pca_df['ZGON'] = y\n",
    "X_pca_df['Czy pacjent zmarł?'] = X_pca_df['ZGON'].map({1: 'tak', 0: 'nie'})\n",
    "\n",
    "fig = px.scatter_3d(X_pca_df, x='Czynnik 1', y='Czynnik 2', z='Czynnik 3', color='Czy pacjent zmarł?', size_max=18, opacity=0.8)\n",
    "fig.update_traces(textposition='top center', marker_size=6)\n",
    "\n",
    "fig.update_layout(\n",
    "    scene=dict(\n",
    "        xaxis=dict(tickfont=dict(size=10)),\n",
    "        yaxis=dict(tickfont=dict(size=10)),\n",
    "        zaxis=dict(tickfont=dict(size=10)),\n",
    "    )\n",
    ")\n",
    "\n",
    "fig.update_layout(legend=dict(font=dict(size=14)), legend_title=dict(font=dict(size=14)))\n",
    "fig.update_layout(template=\"plotly_white\")\n",
    "fig.show()\n",
    "\n",
    "# fig.write_image(\"images5/\" + \"pca_miernik_3d\" + \".png\", width=1000, height=600, scale=3, format=\"png\")\n"
   ]
  },
  {
   "cell_type": "code",
   "execution_count": 211,
   "metadata": {},
   "outputs": [
    {
     "name": "stdout",
     "output_type": "stream",
     "text": [
      "0.6872239458693004\n"
     ]
    }
   ],
   "source": [
    "pca = PCA(n_components=7) #22\n",
    "X_train_pca = pca.fit_transform(X_train_scaled)\n",
    "X_test_pca = pca.transform(X_test_scaled)\n",
    "explained_variance_ratio = pca.explained_variance_ratio_\n",
    "print(sum(explained_variance_ratio))"
   ]
  },
  {
   "cell_type": "code",
   "execution_count": 207,
   "metadata": {},
   "outputs": [
    {
     "name": "stdout",
     "output_type": "stream",
     "text": [
      "Przetwarzanie KNN...\n",
      "Najlepsze parametry dla KNN: {'n_neighbors': 10, 'weights': 'uniform'}\n",
      "Najlepszy wynik dla KNN: 0.7532467532467533\n",
      "\n",
      "Przetwarzanie LDA...\n",
      "Najlepsze parametry dla LDA: {'solver': 'svd'}\n",
      "Najlepszy wynik dla LDA: 0.7305194805194806\n",
      "\n",
      "Przetwarzanie SVC...\n",
      "Najlepsze parametry dla SVC: {'C': 1, 'kernel': 'sigmoid', 'probability': True}\n",
      "Najlepszy wynik dla SVC: 0.8116883116883117\n",
      "\n",
      "Przetwarzanie DT...\n",
      "Najlepsze parametry dla DT: {'criterion': 'entropy', 'max_depth': 10, 'random_state': 42}\n",
      "Najlepszy wynik dla DT: 0.5876623376623377\n",
      "\n",
      "Przetwarzanie RF...\n",
      "Najlepsze parametry dla RF: {'criterion': 'entropy', 'max_depth': 5, 'n_estimators': 100, 'random_state': 42}\n",
      "Najlepszy wynik dla RF: 0.7418831168831169\n",
      "\n",
      "Dokładność KNN na zbiorze testowym: 0.8636363636363636\n",
      "Dokładność LDA na zbiorze testowym: 0.8181818181818182\n",
      "Dokładność SVC na zbiorze testowym: 0.8181818181818182\n",
      "Dokładność DT na zbiorze testowym: 0.6363636363636364\n",
      "Dokładność RF na zbiorze testowym: 0.6818181818181818\n"
     ]
    }
   ],
   "source": [
    "# Klasyfikatory\n",
    "\n",
    "classifiers = {\n",
    "    'KNN': KNeighborsClassifier(),\n",
    "    'LDA': LinearDiscriminantAnalysis(),\n",
    "    'SVC': SVC(),\n",
    "    'DT': DecisionTreeClassifier(),\n",
    "    'RF': RandomForestClassifier()\n",
    "}\n",
    "\n",
    "param_grids = {\n",
    "    'KNN': {'n_neighbors': [5,10,15,20], 'weights': ['uniform', 'distance']},\n",
    "    'LDA': {'solver': ['svd', 'lsqr', 'eigen']},\n",
    "    'SVC': {'C': [0.1, 0.5, 1, 1.5], 'kernel': ['linear', 'rbf', 'poly', 'sigmoid'], 'probability': [True]},\n",
    "    'DT': {'criterion': ['gini', 'entropy'], 'max_depth': [10, 20, 30, 40, 50], 'random_state': [seed]},\n",
    "    'RF': {'n_estimators': [5, 10, 50, 100, 200], 'criterion': ['gini', 'entropy'], \n",
    "                      'max_depth': [5, 10, 20, 30, 40, 50], 'random_state': [seed]}\n",
    "}\n",
    "\n",
    "\n",
    "# Przechowywanie najlepszych modeli i ich wyników\n",
    "best_models_pca = {}\n",
    "best_scores_pca = {}\n",
    "test_scores_pca= {}\n",
    "\n",
    "# Przeszukiwanie hiperparametrów dla każdego klasyfikatora\n",
    "for name, classifier in classifiers.items():\n",
    "    print(f\"Przetwarzanie {name}...\")\n",
    "    grid_search = GridSearchCV(classifier, param_grids[name], cv=4, n_jobs=-1, scoring='accuracy',)\n",
    "    grid_search.fit(X_train_pca, y_train)\n",
    "    best_models_pca[name] = (type(grid_search.best_estimator_), grid_search.best_params_)\n",
    "    best_scores_pca[name] = grid_search.best_score_\n",
    "    print(f\"Najlepsze parametry dla {name}: {grid_search.best_params_}\")\n",
    "    print(f\"Najlepszy wynik dla {name}: {grid_search.best_score_}\\n\")\n",
    "\n",
    "# Ocena najlepszych modeli na zbiorze testowym\n",
    "for name, (model_type, best_params) in best_models_pca.items():\n",
    "    model = model_type(**best_params)\n",
    "    model.fit(X_train_pca, y_train)\n",
    "    y_pred = model.predict(X_test_pca)\n",
    "    test_score = accuracy_score(y_test, y_pred)\n",
    "    test_scores_pca[name]=test_score\n",
    "    print(f\"Dokładność {name} na zbiorze testowym: {test_score}\")"
   ]
  },
  {
   "cell_type": "code",
   "execution_count": 260,
   "metadata": {},
   "outputs": [
    {
     "data": {
      "text/plain": [
       "{'KNN': 0.7532467532467533,\n",
       " 'LDA': 0.7305194805194806,\n",
       " 'SVC': 0.8116883116883117,\n",
       " 'DT': 0.5876623376623377,\n",
       " 'RF': 0.7418831168831169}"
      ]
     },
     "execution_count": 260,
     "metadata": {},
     "output_type": "execute_result"
    }
   ],
   "source": [
    "best_scores_pca"
   ]
  },
  {
   "cell_type": "code",
   "execution_count": 261,
   "metadata": {},
   "outputs": [
    {
     "data": {
      "text/plain": [
       "{'KNN': 0.8636363636363636,\n",
       " 'LDA': 0.8181818181818182,\n",
       " 'SVC': 0.8181818181818182,\n",
       " 'DT': 0.6363636363636364,\n",
       " 'RF': 0.6818181818181818}"
      ]
     },
     "execution_count": 261,
     "metadata": {},
     "output_type": "execute_result"
    }
   ],
   "source": [
    "test_scores_pca"
   ]
  },
  {
   "cell_type": "code",
   "execution_count": 210,
   "metadata": {},
   "outputs": [
    {
     "data": {
      "image/png": "[encoded data removed]",
      "text/plain": [
       "<Figure size 576x432 with 1 Axes>"
      ]
     },
     "metadata": {
      "needs_background": "light"
     },
     "output_type": "display_data"
    }
   ],
   "source": [
    "# Krzywe ROC\n",
    "plt.figure(figsize=(8, 6))\n",
    "for name, (model_type, best_params) in best_models_pca.items():\n",
    "    model = model_type(**best_params)\n",
    "    model.fit(X_train_pca, y_train)\n",
    "    y_pred = model.predict(X_test_pca)\n",
    "    fpr, tpr, roc_auc= model_evaluate(model, X_train_pca, X_test_pca, y_train, y_test)\n",
    "    plt.plot(fpr, tpr, lw=2, label=f'{name} (AUC = {roc_auc:.2f})')  # Grubsze linie\n",
    "\n",
    "# Dodanie linii diagonalnej\n",
    "plt.plot([0, 1], [0, 1], 'k--', lw=2)\n",
    "\n",
    "# Ustawienia osi\n",
    "plt.xlim([0.0, 1.0])\n",
    "plt.ylim([0.0, 1.05])\n",
    "\n",
    "# Powiększenie napisów przy osiach\n",
    "plt.xlabel('Odsetek fałszywie pozytywnych', fontsize=14)\n",
    "plt.ylabel('Odsetek prawdziwie pozytywnych', fontsize=14)\n",
    "\n",
    "# Powiększenie legendy\n",
    "plt.legend(loc='lower right', fontsize=12)\n",
    "\n",
    "plt.savefig(\"images5/roc_pca.png\")\n",
    "# Wyświetlenie wykresu\n",
    "plt.show()\n",
    "\n"
   ]
  },
  {
   "cell_type": "code",
   "execution_count": 212,
   "metadata": {},
   "outputs": [
    {
     "data": {
      "image/png": "[encoded data removed]",
      "text/plain": [
       "<Figure size 1080x576 with 10 Axes>"
      ]
     },
     "metadata": {
      "needs_background": "light"
     },
     "output_type": "display_data"
    }
   ],
   "source": [
    "fig, axes = plt.subplots(2, 3, figsize=(15, 8))\n",
    "\n",
    "# Lista tytułów\n",
    "titles = ['KNN', 'LDA', 'SVC', 'DT', 'RF']\n",
    "\n",
    "# Rysowanie macierzy pomyłek dla każdego klasyfikatora\n",
    "for ax, (title, (model_type, best_params)) in zip(axes.flatten(), best_models_all.items()):\n",
    "    model = model_type(**best_params)\n",
    "    plot_confusion_matrix(model, X_train_pca, X_test_pca, y_train, y_test, ax, title)\n",
    "\n",
    "# Usuwanie niepotrzebnych osi w przypadku parzystej liczby klasyfikatorów\n",
    "if len(classifiers) % 2 != 0:\n",
    "    fig.delaxes(axes.flatten()[-1])\n",
    "\n",
    "plt.tight_layout()\n",
    "\n",
    "plt.savefig(\"images5/conf_matr_pca.png\")\n",
    "\n",
    "plt.show()"
   ]
  },
  {
   "cell_type": "markdown",
   "metadata": {},
   "source": [
    "### Wyszukiwanie liczby cech ref"
   ]
  },
  {
   "cell_type": "code",
   "execution_count": 213,
   "metadata": {},
   "outputs": [
    {
     "name": "stderr",
     "output_type": "stream",
     "text": [
      "c:\\Users\\dorot\\AppData\\Local\\Programs\\Python\\Python39\\lib\\site-packages\\sklearn\\model_selection\\_validation.py:547: FitFailedWarning:\n",
      "\n",
      "\n",
      "4 fits failed out of a total of 12.\n",
      "The score on these train-test partitions for these parameters will be set to nan.\n",
      "If these failures are not expected, you can try to debug them by setting error_score='raise'.\n",
      "\n",
      "Below are more details about the failures:\n",
      "--------------------------------------------------------------------------------\n",
      "2 fits failed with the following error:\n",
      "Traceback (most recent call last):\n",
      "  File \"c:\\Users\\dorot\\AppData\\Local\\Programs\\Python\\Python39\\lib\\site-packages\\sklearn\\model_selection\\_validation.py\", line 895, in _fit_and_score\n",
      "    estimator.fit(X_train, y_train, **fit_params)\n",
      "  File \"c:\\Users\\dorot\\AppData\\Local\\Programs\\Python\\Python39\\lib\\site-packages\\sklearn\\base.py\", line 1474, in wrapper\n",
      "    return fit_method(estimator, *args, **kwargs)\n",
      "  File \"c:\\Users\\dorot\\AppData\\Local\\Programs\\Python\\Python39\\lib\\site-packages\\sklearn\\discriminant_analysis.py\", line 637, in fit\n",
      "    self._solve_eigen(\n",
      "  File \"c:\\Users\\dorot\\AppData\\Local\\Programs\\Python\\Python39\\lib\\site-packages\\sklearn\\discriminant_analysis.py\", line 467, in _solve_eigen\n",
      "    evals, evecs = linalg.eigh(Sb, Sw)\n",
      "  File \"c:\\Users\\dorot\\AppData\\Local\\Programs\\Python\\Python39\\lib\\site-packages\\scipy\\_lib\\deprecation.py\", line 213, in inner_f\n",
      "    return f(*args, **kwargs)\n",
      "  File \"c:\\Users\\dorot\\AppData\\Local\\Programs\\Python\\Python39\\lib\\site-packages\\scipy\\linalg\\_decomp.py\", line 593, in eigh\n",
      "    raise LinAlgError(f'The leading minor of order {info-n} of B is not '\n",
      "numpy.linalg.LinAlgError: The leading minor of order 63 of B is not positive definite. The factorization of B could not be completed and no eigenvalues or eigenvectors were computed.\n",
      "\n",
      "--------------------------------------------------------------------------------\n",
      "1 fits failed with the following error:\n",
      "Traceback (most recent call last):\n",
      "  File \"c:\\Users\\dorot\\AppData\\Local\\Programs\\Python\\Python39\\lib\\site-packages\\sklearn\\model_selection\\_validation.py\", line 895, in _fit_and_score\n",
      "    estimator.fit(X_train, y_train, **fit_params)\n",
      "  File \"c:\\Users\\dorot\\AppData\\Local\\Programs\\Python\\Python39\\lib\\site-packages\\sklearn\\base.py\", line 1474, in wrapper\n",
      "    return fit_method(estimator, *args, **kwargs)\n",
      "  File \"c:\\Users\\dorot\\AppData\\Local\\Programs\\Python\\Python39\\lib\\site-packages\\sklearn\\discriminant_analysis.py\", line 637, in fit\n",
      "    self._solve_eigen(\n",
      "  File \"c:\\Users\\dorot\\AppData\\Local\\Programs\\Python\\Python39\\lib\\site-packages\\sklearn\\discriminant_analysis.py\", line 467, in _solve_eigen\n",
      "    evals, evecs = linalg.eigh(Sb, Sw)\n",
      "  File \"c:\\Users\\dorot\\AppData\\Local\\Programs\\Python\\Python39\\lib\\site-packages\\scipy\\_lib\\deprecation.py\", line 213, in inner_f\n",
      "    return f(*args, **kwargs)\n",
      "  File \"c:\\Users\\dorot\\AppData\\Local\\Programs\\Python\\Python39\\lib\\site-packages\\scipy\\linalg\\_decomp.py\", line 593, in eigh\n",
      "    raise LinAlgError(f'The leading minor of order {info-n} of B is not '\n",
      "numpy.linalg.LinAlgError: The leading minor of order 64 of B is not positive definite. The factorization of B could not be completed and no eigenvalues or eigenvectors were computed.\n",
      "\n",
      "--------------------------------------------------------------------------------\n",
      "1 fits failed with the following error:\n",
      "Traceback (most recent call last):\n",
      "  File \"c:\\Users\\dorot\\AppData\\Local\\Programs\\Python\\Python39\\lib\\site-packages\\sklearn\\model_selection\\_validation.py\", line 895, in _fit_and_score\n",
      "    estimator.fit(X_train, y_train, **fit_params)\n",
      "  File \"c:\\Users\\dorot\\AppData\\Local\\Programs\\Python\\Python39\\lib\\site-packages\\sklearn\\base.py\", line 1474, in wrapper\n",
      "    return fit_method(estimator, *args, **kwargs)\n",
      "  File \"c:\\Users\\dorot\\AppData\\Local\\Programs\\Python\\Python39\\lib\\site-packages\\sklearn\\discriminant_analysis.py\", line 637, in fit\n",
      "    self._solve_eigen(\n",
      "  File \"c:\\Users\\dorot\\AppData\\Local\\Programs\\Python\\Python39\\lib\\site-packages\\sklearn\\discriminant_analysis.py\", line 467, in _solve_eigen\n",
      "    evals, evecs = linalg.eigh(Sb, Sw)\n",
      "  File \"c:\\Users\\dorot\\AppData\\Local\\Programs\\Python\\Python39\\lib\\site-packages\\scipy\\_lib\\deprecation.py\", line 213, in inner_f\n",
      "    return f(*args, **kwargs)\n",
      "  File \"c:\\Users\\dorot\\AppData\\Local\\Programs\\Python\\Python39\\lib\\site-packages\\scipy\\linalg\\_decomp.py\", line 593, in eigh\n",
      "    raise LinAlgError(f'The leading minor of order {info-n} of B is not '\n",
      "numpy.linalg.LinAlgError: The leading minor of order 66 of B is not positive definite. The factorization of B could not be completed and no eigenvalues or eigenvectors were computed.\n",
      "\n",
      "\n",
      "c:\\Users\\dorot\\AppData\\Local\\Programs\\Python\\Python39\\lib\\site-packages\\sklearn\\model_selection\\_search.py:1051: UserWarning:\n",
      "\n",
      "One or more of the test scores are non-finite: [0.58928571 0.50324675        nan]\n",
      "\n",
      "c:\\Users\\dorot\\AppData\\Local\\Programs\\Python\\Python39\\lib\\site-packages\\sklearn\\model_selection\\_validation.py:547: FitFailedWarning:\n",
      "\n",
      "\n",
      "4 fits failed out of a total of 12.\n",
      "The score on these train-test partitions for these parameters will be set to nan.\n",
      "If these failures are not expected, you can try to debug them by setting error_score='raise'.\n",
      "\n",
      "Below are more details about the failures:\n",
      "--------------------------------------------------------------------------------\n",
      "2 fits failed with the following error:\n",
      "Traceback (most recent call last):\n",
      "  File \"c:\\Users\\dorot\\AppData\\Local\\Programs\\Python\\Python39\\lib\\site-packages\\sklearn\\model_selection\\_validation.py\", line 895, in _fit_and_score\n",
      "    estimator.fit(X_train, y_train, **fit_params)\n",
      "  File \"c:\\Users\\dorot\\AppData\\Local\\Programs\\Python\\Python39\\lib\\site-packages\\sklearn\\base.py\", line 1474, in wrapper\n",
      "    return fit_method(estimator, *args, **kwargs)\n",
      "  File \"c:\\Users\\dorot\\AppData\\Local\\Programs\\Python\\Python39\\lib\\site-packages\\sklearn\\discriminant_analysis.py\", line 637, in fit\n",
      "    self._solve_eigen(\n",
      "  File \"c:\\Users\\dorot\\AppData\\Local\\Programs\\Python\\Python39\\lib\\site-packages\\sklearn\\discriminant_analysis.py\", line 467, in _solve_eigen\n",
      "    evals, evecs = linalg.eigh(Sb, Sw)\n",
      "  File \"c:\\Users\\dorot\\AppData\\Local\\Programs\\Python\\Python39\\lib\\site-packages\\scipy\\_lib\\deprecation.py\", line 213, in inner_f\n",
      "    return f(*args, **kwargs)\n",
      "  File \"c:\\Users\\dorot\\AppData\\Local\\Programs\\Python\\Python39\\lib\\site-packages\\scipy\\linalg\\_decomp.py\", line 593, in eigh\n",
      "    raise LinAlgError(f'The leading minor of order {info-n} of B is not '\n",
      "numpy.linalg.LinAlgError: The leading minor of order 63 of B is not positive definite. The factorization of B could not be completed and no eigenvalues or eigenvectors were computed.\n",
      "\n",
      "--------------------------------------------------------------------------------\n",
      "1 fits failed with the following error:\n",
      "Traceback (most recent call last):\n",
      "  File \"c:\\Users\\dorot\\AppData\\Local\\Programs\\Python\\Python39\\lib\\site-packages\\sklearn\\model_selection\\_validation.py\", line 895, in _fit_and_score\n",
      "    estimator.fit(X_train, y_train, **fit_params)\n",
      "  File \"c:\\Users\\dorot\\AppData\\Local\\Programs\\Python\\Python39\\lib\\site-packages\\sklearn\\base.py\", line 1474, in wrapper\n",
      "    return fit_method(estimator, *args, **kwargs)\n",
      "  File \"c:\\Users\\dorot\\AppData\\Local\\Programs\\Python\\Python39\\lib\\site-packages\\sklearn\\discriminant_analysis.py\", line 637, in fit\n",
      "    self._solve_eigen(\n",
      "  File \"c:\\Users\\dorot\\AppData\\Local\\Programs\\Python\\Python39\\lib\\site-packages\\sklearn\\discriminant_analysis.py\", line 467, in _solve_eigen\n",
      "    evals, evecs = linalg.eigh(Sb, Sw)\n",
      "  File \"c:\\Users\\dorot\\AppData\\Local\\Programs\\Python\\Python39\\lib\\site-packages\\scipy\\_lib\\deprecation.py\", line 213, in inner_f\n",
      "    return f(*args, **kwargs)\n",
      "  File \"c:\\Users\\dorot\\AppData\\Local\\Programs\\Python\\Python39\\lib\\site-packages\\scipy\\linalg\\_decomp.py\", line 593, in eigh\n",
      "    raise LinAlgError(f'The leading minor of order {info-n} of B is not '\n",
      "numpy.linalg.LinAlgError: The leading minor of order 64 of B is not positive definite. The factorization of B could not be completed and no eigenvalues or eigenvectors were computed.\n",
      "\n",
      "--------------------------------------------------------------------------------\n",
      "1 fits failed with the following error:\n",
      "Traceback (most recent call last):\n",
      "  File \"c:\\Users\\dorot\\AppData\\Local\\Programs\\Python\\Python39\\lib\\site-packages\\sklearn\\model_selection\\_validation.py\", line 895, in _fit_and_score\n",
      "    estimator.fit(X_train, y_train, **fit_params)\n",
      "  File \"c:\\Users\\dorot\\AppData\\Local\\Programs\\Python\\Python39\\lib\\site-packages\\sklearn\\base.py\", line 1474, in wrapper\n",
      "    return fit_method(estimator, *args, **kwargs)\n",
      "  File \"c:\\Users\\dorot\\AppData\\Local\\Programs\\Python\\Python39\\lib\\site-packages\\sklearn\\discriminant_analysis.py\", line 637, in fit\n",
      "    self._solve_eigen(\n",
      "  File \"c:\\Users\\dorot\\AppData\\Local\\Programs\\Python\\Python39\\lib\\site-packages\\sklearn\\discriminant_analysis.py\", line 467, in _solve_eigen\n",
      "    evals, evecs = linalg.eigh(Sb, Sw)\n",
      "  File \"c:\\Users\\dorot\\AppData\\Local\\Programs\\Python\\Python39\\lib\\site-packages\\scipy\\_lib\\deprecation.py\", line 213, in inner_f\n",
      "    return f(*args, **kwargs)\n",
      "  File \"c:\\Users\\dorot\\AppData\\Local\\Programs\\Python\\Python39\\lib\\site-packages\\scipy\\linalg\\_decomp.py\", line 593, in eigh\n",
      "    raise LinAlgError(f'The leading minor of order {info-n} of B is not '\n",
      "numpy.linalg.LinAlgError: The leading minor of order 66 of B is not positive definite. The factorization of B could not be completed and no eigenvalues or eigenvectors were computed.\n",
      "\n",
      "\n",
      "c:\\Users\\dorot\\AppData\\Local\\Programs\\Python\\Python39\\lib\\site-packages\\sklearn\\model_selection\\_search.py:1051: UserWarning:\n",
      "\n",
      "One or more of the test scores are non-finite: [0.58928571 0.50324675        nan]\n",
      "\n"
     ]
    }
   ],
   "source": [
    "# Ustawienie różnych wartości C dla SVC\n",
    "C_values = [0.05, 0.1, 0.5, 1, 1.2]\n",
    "\n",
    "# Przechowywanie wyników\n",
    "results = []\n",
    "\n",
    "# Iterowanie przez różne wartości C\n",
    "for C in C_values:\n",
    "    svc_linear = SVC(kernel='linear', C=C, random_state=42)\n",
    "    \n",
    "    # Definiowanie RFECV z SVC (liniowym) jako estymatora\n",
    "    rfecv = RFECV(estimator=svc_linear, step=1, cv=4, scoring='accuracy')\n",
    "    rfecv.fit(X_train_scaled, y_train)\n",
    "    \n",
    "    n_features=rfecv.n_features_\n",
    "\n",
    "    # Transformowanie danych na podstawie wybranych cech\n",
    "    X_train_rfecv = rfecv.transform(X_train_scaled)\n",
    "    X_test_rfecv = rfecv.transform(X_test_scaled)\n",
    "    \n",
    "    classifiers = {\n",
    "        'KNN': KNeighborsClassifier(),\n",
    "        'LDA': LinearDiscriminantAnalysis(),\n",
    "        'SVC': SVC(),\n",
    "        'DT': DecisionTreeClassifier(),\n",
    "        'RF': RandomForestClassifier()\n",
    "    }\n",
    "\n",
    "    param_grids = {\n",
    "        'KNN': {'n_neighbors': [5,10,15,20], 'weights': ['uniform', 'distance']},\n",
    "        'LDA': {'solver': ['svd', 'lsqr', 'eigen']},\n",
    "        'SVC': {'C': [0.1, 0.5, 1, 1.5], 'kernel': ['linear', 'rbf', 'poly', 'sigmoid'], 'probability': [True]},\n",
    "        'DT': {'criterion': ['gini', 'entropy'], 'max_depth': [10, 20, 30, 40, 50], 'random_state': [42]},\n",
    "        'RF': {'n_estimators': [5, 10, 50, 100, 200], 'criterion': ['gini', 'entropy'], \n",
    "                          'max_depth': [5, 10, 20, 30, 40, 50], 'random_state': [42]}\n",
    "    }\n",
    "\n",
    "    # Przeszukiwanie hiperparametrów dla każdego klasyfikatora\n",
    "    for name, classifier in classifiers.items():\n",
    "        grid_search = GridSearchCV(classifier, param_grids[name], cv=4, n_jobs=-1, scoring='accuracy')\n",
    "        grid_search.fit(X_train_rfecv, y_train)\n",
    "        results.append({'Model': name, 'C': C, 'Best Score': grid_search.best_score_, 'n_features': n_features})\n",
    "    \n",
    "# Konwertowanie wyników do ramki danych\n",
    "results_df = pd.DataFrame(results)\n"
   ]
  },
  {
   "cell_type": "code",
   "execution_count": 257,
   "metadata": {},
   "outputs": [
    {
     "data": {
      "image/png": "[encoded data removed]",
      "text/plain": [
       "<Figure size 864x576 with 1 Axes>"
      ]
     },
     "metadata": {
      "needs_background": "light"
     },
     "output_type": "display_data"
    }
   ],
   "source": [
    "# Rysowanie wykresu kolumnowego\n",
    "results_df['C_n_features'] = results_df['C'].astype(str) + ' (liczba cech=' + results_df['n_features'].astype(str) + ')'\n",
    "palette = sns.color_palette([\"#2ecc71\", \"#3498db\", \"#e74c3c\", \"#9b59b6\", \"#f1c40f\"])\n",
    "\n",
    "results_df['C'] = results_df['C'].astype(str).str.replace('.', ',')\n",
    "results_df['C_n_features'] = results_df['C'] + ' (liczba cech=' + results_df['n_features'].astype(str) + ')'\n",
    "\n",
    "\n",
    "# Rysowanie wykresu kolumnowego\n",
    "plt.figure(figsize=(12, 8))\n",
    "\n",
    "sns.barplot(data=results_df, x='C_n_features', y='Best Score', hue='Model', palette=palette)\n",
    "plt.xlabel('\\nKoszt C (wraz z liczbą wybranych cech)', fontsize=14)\n",
    "plt.ylabel('Dokładność', fontsize=14)\n",
    "plt.ylim([0,1])\n",
    "plt.legend(title='Model', bbox_to_anchor=(1.05, 1), loc='upper left', fontsize=14,  title_fontsize=16)\n",
    "plt.tick_params(axis='both', which='major', labelsize=12)\n",
    "\n",
    "plt.savefig(\"images5/comparision_cost.png\", bbox_inches='tight')\n",
    "plt.show()"
   ]
  },
  {
   "cell_type": "markdown",
   "metadata": {},
   "source": [
    "### Klasyfikacja na podstawie najważniejszych zmiennych"
   ]
  },
  {
   "cell_type": "code",
   "execution_count": 262,
   "metadata": {},
   "outputs": [],
   "source": [
    "# Użycie SVC z liniowym jądrem dla RFECV\n",
    "svc_linear = SVC(kernel='linear', C=0.05)\n",
    "\n",
    "# Definiowanie RFECV z SVC (liniowym) jako estymatora\n",
    "rfecv = RFECV(estimator=svc_linear, step=1, cv=4, scoring='accuracy')\n",
    "rfecv.fit(X_train_scaled, y_train)\n",
    "\n",
    "# Transformowanie danych na podstawie wybranych cech\n",
    "X_train_rfecv = rfecv.transform(X_train_scaled)\n",
    "X_test_rfecv = rfecv.transform(X_test_scaled)"
   ]
  },
  {
   "cell_type": "code",
   "execution_count": 263,
   "metadata": {},
   "outputs": [
    {
     "data": {
      "text/plain": [
       "6"
      ]
     },
     "execution_count": 263,
     "metadata": {},
     "output_type": "execute_result"
    }
   ],
   "source": [
    "rfecv.n_features_"
   ]
  },
  {
   "cell_type": "code",
   "execution_count": 271,
   "metadata": {},
   "outputs": [
    {
     "data": {
      "application/vnd.plotly.v1+json": {
       "config": {
        "plotlyServerURL": "https://plot.ly"
       },
       "data": [
        {
         "mode": "lines",
         "type": "scatter",
         "x": [
          1,
          2,
          3,
          4,
          5,
          6,
          7,
          8,
          9,
          10,
          11,
          12,
          13,
          14,
          15,
          16,
          17,
          18,
          19,
          20,
          21,
          22,
          23,
          24,
          25,
          26,
          27,
          28,
          29,
          30,
          31,
          32,
          33,
          34,
          35,
          36,
          37,
          38,
          39,
          40,
          41,
          42,
          43,
          44,
          45,
          46,
          47,
          48,
          49,
          50,
          51,
          52,
          53,
          54,
          55,
          56,
          57,
          58,
          59,
          60,
          61,
          62,
          63,
          64,
          65,
          66,
          67,
          68,
          69,
          70,
          71,
          72,
          73,
          74,
          75,
          76,
          77,
          78,
          79,
          80,
          81,
          82,
          83,
          84,
          85,
          86,
          87,
          88,
          89,
          90,
          91,
          92,
          93,
          94,
          95,
          96,
          97,
          98,
          99,
          100,
          101,
          102,
          103,
          104,
          105,
          106,
          107,
          108,
          109,
          110,
          111,
          112,
          113,
          114,
          115,
          116,
          117,
          118,
          119,
          120,
          121,
          122,
          123,
          124,
          125,
          126,
          127,
          128,
          129,
          130,
          131,
          132,
          133,
          134,
          135,
          136,
          137,
          138,
          139,
          140,
          141,
          142,
          143,
          144,
          145,
          146,
          147,
          148,
          149,
          150,
          151,
          152,
          153,
          154,
          155,
          156,
          157,
          158,
          159,
          160,
          161,
          162,
          163,
          164,
          165,
          166,
          167,
          168,
          169,
          170,
          171,
          172,
          173,
          174,
          175,
          176,
          177,
          178,
          179,
          180,
          181,
          182,
          183,
          184,
          185,
          186,
          187,
          188,
          189,
          190,
          191,
          192,
          193,
          194,
          195,
          196,
          197,
          198,
          199,
          200,
          201,
          202,
          203,
          204,
          205,
          206,
          207,
          208,
          209,
          210,
          211,
          212,
          213,
          214,
          215,
          216,
          217,
          218,
          219,
          220,
          221,
          222,
          223,
          224,
          225,
          226,
          227,
          228,
          229,
          230,
          231,
          232,
          233,
          234,
          235,
          236,
          237,
          238,
          239,
          240,
          241,
          242,
          243,
          244,
          245,
          246,
          247,
          248,
          249,
          250,
          251,
          252,
          253,
          254,
          255,
          256,
          257,
          258,
          259,
          260,
          261,
          262,
          263,
          264,
          265,
          266,
          267,
          268,
          269,
          270,
          271,
          272,
          273,
          274,
          275,
          276,
          277,
          278,
          279,
          280,
          281,
          282,
          283,
          284,
          285,
          286,
          287,
          288,
          289,
          290,
          291,
          292,
          293,
          294,
          295,
          296,
          297,
          298,
          299,
          300,
          301,
          302,
          303,
          304,
          305,
          306,
          307,
          308,
          309,
          310,
          311,
          312,
          313,
          314,
          315,
          316,
          317,
          318,
          319,
          320,
          321,
          322
         ],
         "y": [
          0.6948051948051948,
          0.718073593073593,
          0.7656926406926406,
          0.7656926406926406,
          0.8235930735930737,
          0.8246753246753247,
          0.824134199134199,
          0.800865800865801,
          0.8122294372294372,
          0.800865800865801,
          0.800865800865801,
          0.7656926406926406,
          0.777056277056277,
          0.7651515151515151,
          0.777056277056277,
          0.7656926406926406,
          0.7656926406926406,
          0.7537878787878788,
          0.7418831168831169,
          0.7537878787878788,
          0.7424242424242424,
          0.7537878787878788,
          0.7537878787878788,
          0.7072510822510822,
          0.7191558441558442,
          0.7072510822510822,
          0.6953463203463204,
          0.7191558441558441,
          0.7191558441558441,
          0.7191558441558441,
          0.7191558441558441,
          0.7191558441558441,
          0.7072510822510821,
          0.6953463203463203,
          0.7191558441558441,
          0.7191558441558441,
          0.7072510822510821,
          0.7191558441558441,
          0.7072510822510821,
          0.7072510822510821,
          0.6953463203463203,
          0.7072510822510821,
          0.6953463203463203,
          0.6953463203463203,
          0.6948051948051948,
          0.6715367965367964,
          0.6834415584415584,
          0.6715367965367964,
          0.6715367965367964,
          0.6834415584415584,
          0.6715367965367964,
          0.6715367965367964,
          0.6829004329004329,
          0.6715367965367964,
          0.6715367965367964,
          0.6829004329004329,
          0.6829004329004329,
          0.6829004329004329,
          0.6829004329004329,
          0.6829004329004329,
          0.6829004329004329,
          0.6829004329004329,
          0.6829004329004329,
          0.6829004329004329,
          0.7067099567099567,
          0.7067099567099567,
          0.7067099567099567,
          0.7067099567099567,
          0.7067099567099567,
          0.7067099567099567,
          0.7067099567099567,
          0.7067099567099567,
          0.7067099567099567,
          0.7067099567099567,
          0.7067099567099567,
          0.7067099567099567,
          0.7067099567099567,
          0.7067099567099567,
          0.6948051948051948,
          0.6948051948051948,
          0.6948051948051948,
          0.7067099567099567,
          0.7067099567099567,
          0.7067099567099567,
          0.6948051948051948,
          0.6948051948051948,
          0.6948051948051948,
          0.6948051948051948,
          0.6948051948051948,
          0.6948051948051948,
          0.6948051948051948,
          0.6948051948051948,
          0.6948051948051948,
          0.6948051948051948,
          0.6829004329004329,
          0.7067099567099567,
          0.6829004329004329,
          0.6829004329004329,
          0.6709956709956709,
          0.6829004329004329,
          0.6709956709956709,
          0.6709956709956709,
          0.6709956709956709,
          0.6709956709956709,
          0.6709956709956709,
          0.6709956709956709,
          0.6709956709956709,
          0.6829004329004329,
          0.6829004329004329,
          0.6829004329004329,
          0.6829004329004329,
          0.6829004329004329,
          0.6709956709956709,
          0.6829004329004329,
          0.6709956709956709,
          0.6829004329004329,
          0.6829004329004329,
          0.6709956709956709,
          0.6709956709956709,
          0.6709956709956709,
          0.6709956709956709,
          0.6709956709956709,
          0.6709956709956709,
          0.6709956709956709,
          0.6709956709956709,
          0.6709956709956709,
          0.6709956709956709,
          0.6709956709956709,
          0.6709956709956709,
          0.6709956709956709,
          0.6709956709956709,
          0.6709956709956709,
          0.6709956709956709,
          0.6709956709956709,
          0.6709956709956709,
          0.6709956709956709,
          0.6709956709956709,
          0.6709956709956709,
          0.6709956709956709,
          0.6709956709956709,
          0.6709956709956709,
          0.6829004329004329,
          0.6709956709956709,
          0.6709956709956709,
          0.6709956709956709,
          0.6829004329004329,
          0.6829004329004329,
          0.6829004329004329,
          0.6948051948051948,
          0.6948051948051948,
          0.7067099567099567,
          0.6948051948051948,
          0.6948051948051948,
          0.6948051948051948,
          0.6948051948051948,
          0.6948051948051948,
          0.6948051948051948,
          0.6948051948051948,
          0.6948051948051948,
          0.7067099567099567,
          0.6948051948051948,
          0.7067099567099567,
          0.7067099567099567,
          0.7067099567099567,
          0.7067099567099567,
          0.7067099567099567,
          0.7067099567099567,
          0.6948051948051949,
          0.6948051948051949,
          0.6948051948051949,
          0.6948051948051949,
          0.6948051948051949,
          0.6948051948051949,
          0.6948051948051949,
          0.6948051948051949,
          0.6948051948051949,
          0.6948051948051949,
          0.6948051948051949,
          0.6829004329004329,
          0.6948051948051949,
          0.6948051948051949,
          0.6948051948051949,
          0.6948051948051949,
          0.6948051948051949,
          0.6829004329004329,
          0.6829004329004329,
          0.6829004329004329,
          0.6829004329004329,
          0.6829004329004329,
          0.6829004329004329,
          0.6829004329004329,
          0.6829004329004329,
          0.6829004329004329,
          0.670995670995671,
          0.670995670995671,
          0.670995670995671,
          0.670995670995671,
          0.670995670995671,
          0.6829004329004329,
          0.670995670995671,
          0.6829004329004329,
          0.6829004329004329,
          0.670995670995671,
          0.6590909090909091,
          0.6590909090909091,
          0.6590909090909091,
          0.6590909090909091,
          0.6590909090909091,
          0.6590909090909091,
          0.6590909090909091,
          0.6590909090909091,
          0.6590909090909091,
          0.6590909090909091,
          0.670995670995671,
          0.6590909090909091,
          0.6590909090909091,
          0.6590909090909091,
          0.6590909090909091,
          0.6590909090909091,
          0.670995670995671,
          0.670995670995671,
          0.670995670995671,
          0.670995670995671,
          0.670995670995671,
          0.670995670995671,
          0.670995670995671,
          0.670995670995671,
          0.670995670995671,
          0.670995670995671,
          0.670995670995671,
          0.670995670995671,
          0.670995670995671,
          0.670995670995671,
          0.670995670995671,
          0.670995670995671,
          0.670995670995671,
          0.670995670995671,
          0.670995670995671,
          0.670995670995671,
          0.670995670995671,
          0.670995670995671,
          0.670995670995671,
          0.670995670995671,
          0.670995670995671,
          0.670995670995671,
          0.670995670995671,
          0.670995670995671,
          0.670995670995671,
          0.670995670995671,
          0.670995670995671,
          0.670995670995671,
          0.670995670995671,
          0.670995670995671,
          0.670995670995671,
          0.670995670995671,
          0.670995670995671,
          0.670995670995671,
          0.670995670995671,
          0.670995670995671,
          0.670995670995671,
          0.670995670995671,
          0.670995670995671,
          0.670995670995671,
          0.670995670995671,
          0.670995670995671,
          0.670995670995671,
          0.670995670995671,
          0.670995670995671,
          0.670995670995671,
          0.670995670995671,
          0.670995670995671,
          0.670995670995671,
          0.670995670995671,
          0.670995670995671,
          0.670995670995671,
          0.670995670995671,
          0.670995670995671,
          0.670995670995671,
          0.670995670995671,
          0.670995670995671,
          0.670995670995671,
          0.670995670995671,
          0.670995670995671,
          0.670995670995671,
          0.670995670995671,
          0.670995670995671,
          0.670995670995671,
          0.670995670995671,
          0.670995670995671,
          0.670995670995671,
          0.670995670995671,
          0.670995670995671,
          0.670995670995671,
          0.670995670995671,
          0.670995670995671,
          0.670995670995671,
          0.670995670995671,
          0.670995670995671,
          0.670995670995671,
          0.670995670995671,
          0.670995670995671,
          0.670995670995671,
          0.670995670995671,
          0.670995670995671,
          0.670995670995671,
          0.670995670995671,
          0.670995670995671,
          0.670995670995671,
          0.670995670995671,
          0.670995670995671,
          0.670995670995671,
          0.670995670995671,
          0.670995670995671,
          0.670995670995671,
          0.670995670995671,
          0.670995670995671,
          0.670995670995671,
          0.670995670995671,
          0.670995670995671,
          0.670995670995671,
          0.670995670995671,
          0.670995670995671
         ]
        }
       ],
       "layout": {
        "template": {
         "data": {
          "bar": [
           {
            "error_x": {
             "color": "#2a3f5f"
            },
            "error_y": {
             "color": "#2a3f5f"
            },
            "marker": {
             "line": {
              "color": "white",
              "width": 0.5
             },
             "pattern": {
              "fillmode": "overlay",
              "size": 10,
              "solidity": 0.2
             }
            },
            "type": "bar"
           }
          ],
          "barpolar": [
           {
            "marker": {
             "line": {
              "color": "white",
              "width": 0.5
             },
             "pattern": {
              "fillmode": "overlay",
              "size": 10,
              "solidity": 0.2
             }
            },
            "type": "barpolar"
           }
          ],
          "carpet": [
           {
            "aaxis": {
             "endlinecolor": "#2a3f5f",
             "gridcolor": "#C8D4E3",
             "linecolor": "#C8D4E3",
             "minorgridcolor": "#C8D4E3",
             "startlinecolor": "#2a3f5f"
            },
            "baxis": {
             "endlinecolor": "#2a3f5f",
             "gridcolor": "#C8D4E3",
             "linecolor": "#C8D4E3",
             "minorgridcolor": "#C8D4E3",
             "startlinecolor": "#2a3f5f"
            },
            "type": "carpet"
           }
          ],
          "choropleth": [
           {
            "colorbar": {
             "outlinewidth": 0,
             "ticks": ""
            },
            "type": "choropleth"
           }
          ],
          "contour": [
           {
            "colorbar": {
             "outlinewidth": 0,
             "ticks": ""
            },
            "colorscale": [
             [
              0,
              "#0d0887"
             ],
             [
              0.1111111111111111,
              "#46039f"
             ],
             [
              0.2222222222222222,
              "#7201a8"
             ],
             [
              0.3333333333333333,
              "#9c179e"
             ],
             [
              0.4444444444444444,
              "#bd3786"
             ],
             [
              0.5555555555555556,
              "#d8576b"
             ],
             [
              0.6666666666666666,
              "#ed7953"
             ],
             [
              0.7777777777777778,
              "#fb9f3a"
             ],
             [
              0.8888888888888888,
              "#fdca26"
             ],
             [
              1,
              "#f0f921"
             ]
            ],
            "type": "contour"
           }
          ],
          "contourcarpet": [
           {
            "colorbar": {
             "outlinewidth": 0,
             "ticks": ""
            },
            "type": "contourcarpet"
           }
          ],
          "heatmap": [
           {
            "colorbar": {
             "outlinewidth": 0,
             "ticks": ""
            },
            "colorscale": [
             [
              0,
              "#0d0887"
             ],
             [
              0.1111111111111111,
              "#46039f"
             ],
             [
              0.2222222222222222,
              "#7201a8"
             ],
             [
              0.3333333333333333,
              "#9c179e"
             ],
             [
              0.4444444444444444,
              "#bd3786"
             ],
             [
              0.5555555555555556,
              "#d8576b"
             ],
             [
              0.6666666666666666,
              "#ed7953"
             ],
             [
              0.7777777777777778,
              "#fb9f3a"
             ],
             [
              0.8888888888888888,
              "#fdca26"
             ],
             [
              1,
              "#f0f921"
             ]
            ],
            "type": "heatmap"
           }
          ],
          "heatmapgl": [
           {
            "colorbar": {
             "outlinewidth": 0,
             "ticks": ""
            },
            "colorscale": [
             [
              0,
              "#0d0887"
             ],
             [
              0.1111111111111111,
              "#46039f"
             ],
             [
              0.2222222222222222,
              "#7201a8"
             ],
             [
              0.3333333333333333,
              "#9c179e"
             ],
             [
              0.4444444444444444,
              "#bd3786"
             ],
             [
              0.5555555555555556,
              "#d8576b"
             ],
             [
              0.6666666666666666,
              "#ed7953"
             ],
             [
              0.7777777777777778,
              "#fb9f3a"
             ],
             [
              0.8888888888888888,
              "#fdca26"
             ],
             [
              1,
              "#f0f921"
             ]
            ],
            "type": "heatmapgl"
           }
          ],
          "histogram": [
           {
            "marker": {
             "pattern": {
              "fillmode": "overlay",
              "size": 10,
              "solidity": 0.2
             }
            },
            "type": "histogram"
           }
          ],
          "histogram2d": [
           {
            "colorbar": {
             "outlinewidth": 0,
             "ticks": ""
            },
            "colorscale": [
             [
              0,
              "#0d0887"
             ],
             [
              0.1111111111111111,
              "#46039f"
             ],
             [
              0.2222222222222222,
              "#7201a8"
             ],
             [
              0.3333333333333333,
              "#9c179e"
             ],
             [
              0.4444444444444444,
              "#bd3786"
             ],
             [
              0.5555555555555556,
              "#d8576b"
             ],
             [
              0.6666666666666666,
              "#ed7953"
             ],
             [
              0.7777777777777778,
              "#fb9f3a"
             ],
             [
              0.8888888888888888,
              "#fdca26"
             ],
             [
              1,
              "#f0f921"
             ]
            ],
            "type": "histogram2d"
           }
          ],
          "histogram2dcontour": [
           {
            "colorbar": {
             "outlinewidth": 0,
             "ticks": ""
            },
            "colorscale": [
             [
              0,
              "#0d0887"
             ],
             [
              0.1111111111111111,
              "#46039f"
             ],
             [
              0.2222222222222222,
              "#7201a8"
             ],
             [
              0.3333333333333333,
              "#9c179e"
             ],
             [
              0.4444444444444444,
              "#bd3786"
             ],
             [
              0.5555555555555556,
              "#d8576b"
             ],
             [
              0.6666666666666666,
              "#ed7953"
             ],
             [
              0.7777777777777778,
              "#fb9f3a"
             ],
             [
              0.8888888888888888,
              "#fdca26"
             ],
             [
              1,
              "#f0f921"
             ]
            ],
            "type": "histogram2dcontour"
           }
          ],
          "mesh3d": [
           {
            "colorbar": {
             "outlinewidth": 0,
             "ticks": ""
            },
            "type": "mesh3d"
           }
          ],
          "parcoords": [
           {
            "line": {
             "colorbar": {
              "outlinewidth": 0,
              "ticks": ""
             }
            },
            "type": "parcoords"
           }
          ],
          "pie": [
           {
            "automargin": true,
            "type": "pie"
           }
          ],
          "scatter": [
           {
            "marker": {
             "colorbar": {
              "outlinewidth": 0,
              "ticks": ""
             }
            },
            "type": "scatter"
           }
          ],
          "scatter3d": [
           {
            "line": {
             "colorbar": {
              "outlinewidth": 0,
              "ticks": ""
             }
            },
            "marker": {
             "colorbar": {
              "outlinewidth": 0,
              "ticks": ""
             }
            },
            "type": "scatter3d"
           }
          ],
          "scattercarpet": [
           {
            "marker": {
             "colorbar": {
              "outlinewidth": 0,
              "ticks": ""
             }
            },
            "type": "scattercarpet"
           }
          ],
          "scattergeo": [
           {
            "marker": {
             "colorbar": {
              "outlinewidth": 0,
              "ticks": ""
             }
            },
            "type": "scattergeo"
           }
          ],
          "scattergl": [
           {
            "marker": {
             "colorbar": {
              "outlinewidth": 0,
              "ticks": ""
             }
            },
            "type": "scattergl"
           }
          ],
          "scattermapbox": [
           {
            "marker": {
             "colorbar": {
              "outlinewidth": 0,
              "ticks": ""
             }
            },
            "type": "scattermapbox"
           }
          ],
          "scatterpolar": [
           {
            "marker": {
             "colorbar": {
              "outlinewidth": 0,
              "ticks": ""
             }
            },
            "type": "scatterpolar"
           }
          ],
          "scatterpolargl": [
           {
            "marker": {
             "colorbar": {
              "outlinewidth": 0,
              "ticks": ""
             }
            },
            "type": "scatterpolargl"
           }
          ],
          "scatterternary": [
           {
            "marker": {
             "colorbar": {
              "outlinewidth": 0,
              "ticks": ""
             }
            },
            "type": "scatterternary"
           }
          ],
          "surface": [
           {
            "colorbar": {
             "outlinewidth": 0,
             "ticks": ""
            },
            "colorscale": [
             [
              0,
              "#0d0887"
             ],
             [
              0.1111111111111111,
              "#46039f"
             ],
             [
              0.2222222222222222,
              "#7201a8"
             ],
             [
              0.3333333333333333,
              "#9c179e"
             ],
             [
              0.4444444444444444,
              "#bd3786"
             ],
             [
              0.5555555555555556,
              "#d8576b"
             ],
             [
              0.6666666666666666,
              "#ed7953"
             ],
             [
              0.7777777777777778,
              "#fb9f3a"
             ],
             [
              0.8888888888888888,
              "#fdca26"
             ],
             [
              1,
              "#f0f921"
             ]
            ],
            "type": "surface"
           }
          ],
          "table": [
           {
            "cells": {
             "fill": {
              "color": "#EBF0F8"
             },
             "line": {
              "color": "white"
             }
            },
            "header": {
             "fill": {
              "color": "#C8D4E3"
             },
             "line": {
              "color": "white"
             }
            },
            "type": "table"
           }
          ]
         },
         "layout": {
          "annotationdefaults": {
           "arrowcolor": "#2a3f5f",
           "arrowhead": 0,
           "arrowwidth": 1
          },
          "autotypenumbers": "strict",
          "coloraxis": {
           "colorbar": {
            "outlinewidth": 0,
            "ticks": ""
           }
          },
          "colorscale": {
           "diverging": [
            [
             0,
             "#8e0152"
            ],
            [
             0.1,
             "#c51b7d"
            ],
            [
             0.2,
             "#de77ae"
            ],
            [
             0.3,
             "#f1b6da"
            ],
            [
             0.4,
             "#fde0ef"
            ],
            [
             0.5,
             "#f7f7f7"
            ],
            [
             0.6,
             "#e6f5d0"
            ],
            [
             0.7,
             "#b8e186"
            ],
            [
             0.8,
             "#7fbc41"
            ],
            [
             0.9,
             "#4d9221"
            ],
            [
             1,
             "#276419"
            ]
           ],
           "sequential": [
            [
             0,
             "#0d0887"
            ],
            [
             0.1111111111111111,
             "#46039f"
            ],
            [
             0.2222222222222222,
             "#7201a8"
            ],
            [
             0.3333333333333333,
             "#9c179e"
            ],
            [
             0.4444444444444444,
             "#bd3786"
            ],
            [
             0.5555555555555556,
             "#d8576b"
            ],
            [
             0.6666666666666666,
             "#ed7953"
            ],
            [
             0.7777777777777778,
             "#fb9f3a"
            ],
            [
             0.8888888888888888,
             "#fdca26"
            ],
            [
             1,
             "#f0f921"
            ]
           ],
           "sequentialminus": [
            [
             0,
             "#0d0887"
            ],
            [
             0.1111111111111111,
             "#46039f"
            ],
            [
             0.2222222222222222,
             "#7201a8"
            ],
            [
             0.3333333333333333,
             "#9c179e"
            ],
            [
             0.4444444444444444,
             "#bd3786"
            ],
            [
             0.5555555555555556,
             "#d8576b"
            ],
            [
             0.6666666666666666,
             "#ed7953"
            ],
            [
             0.7777777777777778,
             "#fb9f3a"
            ],
            [
             0.8888888888888888,
             "#fdca26"
            ],
            [
             1,
             "#f0f921"
            ]
           ]
          },
          "colorway": [
           "#636efa",
           "#EF553B",
           "#00cc96",
           "#ab63fa",
           "#FFA15A",
           "#19d3f3",
           "#FF6692",
           "#B6E880",
           "#FF97FF",
           "#FECB52"
          ],
          "font": {
           "color": "#2a3f5f"
          },
          "geo": {
           "bgcolor": "white",
           "lakecolor": "white",
           "landcolor": "white",
           "showlakes": true,
           "showland": true,
           "subunitcolor": "#C8D4E3"
          },
          "hoverlabel": {
           "align": "left"
          },
          "hovermode": "closest",
          "mapbox": {
           "style": "light"
          },
          "paper_bgcolor": "white",
          "plot_bgcolor": "white",
          "polar": {
           "angularaxis": {
            "gridcolor": "#EBF0F8",
            "linecolor": "#EBF0F8",
            "ticks": ""
           },
           "bgcolor": "white",
           "radialaxis": {
            "gridcolor": "#EBF0F8",
            "linecolor": "#EBF0F8",
            "ticks": ""
           }
          },
          "scene": {
           "xaxis": {
            "backgroundcolor": "white",
            "gridcolor": "#DFE8F3",
            "gridwidth": 2,
            "linecolor": "#EBF0F8",
            "showbackground": true,
            "ticks": "",
            "zerolinecolor": "#EBF0F8"
           },
           "yaxis": {
            "backgroundcolor": "white",
            "gridcolor": "#DFE8F3",
            "gridwidth": 2,
            "linecolor": "#EBF0F8",
            "showbackground": true,
            "ticks": "",
            "zerolinecolor": "#EBF0F8"
           },
           "zaxis": {
            "backgroundcolor": "white",
            "gridcolor": "#DFE8F3",
            "gridwidth": 2,
            "linecolor": "#EBF0F8",
            "showbackground": true,
            "ticks": "",
            "zerolinecolor": "#EBF0F8"
           }
          },
          "shapedefaults": {
           "line": {
            "color": "#2a3f5f"
           }
          },
          "ternary": {
           "aaxis": {
            "gridcolor": "#DFE8F3",
            "linecolor": "#A2B1C6",
            "ticks": ""
           },
           "baxis": {
            "gridcolor": "#DFE8F3",
            "linecolor": "#A2B1C6",
            "ticks": ""
           },
           "bgcolor": "white",
           "caxis": {
            "gridcolor": "#DFE8F3",
            "linecolor": "#A2B1C6",
            "ticks": ""
           }
          },
          "title": {
           "x": 0.05
          },
          "xaxis": {
           "automargin": true,
           "gridcolor": "#EBF0F8",
           "linecolor": "#EBF0F8",
           "ticks": "",
           "title": {
            "standoff": 15
           },
           "zerolinecolor": "#EBF0F8",
           "zerolinewidth": 2
          },
          "yaxis": {
           "automargin": true,
           "gridcolor": "#EBF0F8",
           "linecolor": "#EBF0F8",
           "ticks": "",
           "title": {
            "standoff": 15
           },
           "zerolinecolor": "#EBF0F8",
           "zerolinewidth": 2
          }
         }
        },
        "xaxis": {
         "range": [
          0,
          100
         ],
         "title": {
          "text": "Liczba zmiennych"
         }
        },
        "yaxis": {
         "range": [
          0.5,
          0.9
         ],
         "title": {
          "text": "Dokładność"
         }
        }
       }
      }
     },
     "metadata": {},
     "output_type": "display_data"
    }
   ],
   "source": [
    "import plotly.graph_objects as go\n",
    "\n",
    "min_features_to_select = 1\n",
    "n_scores = len(rfecv.cv_results_[\"mean_test_score\"])\n",
    "\n",
    "fig = go.Figure()\n",
    "\n",
    "fig.add_trace(go.Scatter(\n",
    "    x=list(range(min_features_to_select, n_scores + min_features_to_select)),\n",
    "    y=rfecv.cv_results_[\"mean_test_score\"],\n",
    "    mode='lines'\n",
    "))\n",
    "\n",
    "fig.update_layout(\n",
    "    xaxis_title=\"Liczba zmiennych\",\n",
    "    yaxis_title=\"Dokładność\",\n",
    "    yaxis=dict(range=[0.5, 0.9]),\n",
    "    xaxis=dict(range=[0, 100])\n",
    ")\n",
    "\n",
    "fig.update_layout(template=\"plotly_white\")\n",
    "\n",
    "fig.write_image(\"images5/zmienne_rfecv.png\", width=1000, height=600, scale=4, format=\"png\")\n",
    "\n",
    "fig.show()"
   ]
  },
  {
   "cell_type": "code",
   "execution_count": 272,
   "metadata": {},
   "outputs": [
    {
     "name": "stdout",
     "output_type": "stream",
     "text": [
      "Przetwarzanie KNN...\n",
      "Najlepsze parametry dla KNN: {'n_neighbors': 10, 'weights': 'distance'}\n",
      "Najlepszy wynik dla KNN: 0.8587662337662338\n",
      "\n",
      "Przetwarzanie LDA...\n",
      "Najlepsze parametry dla LDA: {'solver': 'svd'}\n",
      "Najlepszy wynik dla LDA: 0.8587662337662338\n",
      "\n",
      "Przetwarzanie SVC...\n",
      "Najlepsze parametry dla SVC: {'C': 0.1, 'kernel': 'linear', 'probability': True}\n",
      "Najlepszy wynik dla SVC: 0.8706709956709957\n",
      "\n",
      "Przetwarzanie DT...\n",
      "Najlepsze parametry dla DT: {'criterion': 'gini', 'max_depth': 10, 'random_state': 42}\n",
      "Najlepszy wynik dla DT: 0.8344155844155844\n",
      "\n",
      "Przetwarzanie RF...\n",
      "Najlepsze parametry dla RF: {'criterion': 'entropy', 'max_depth': 5, 'n_estimators': 10, 'random_state': 42}\n",
      "Najlepszy wynik dla RF: 0.8468614718614719\n",
      "\n",
      "Dokładność KNN na zbiorze testowym: 0.8636363636363636\n",
      "Dokładność LDA na zbiorze testowym: 0.9090909090909091\n",
      "Dokładność SVC na zbiorze testowym: 0.9090909090909091\n",
      "Dokładność DT na zbiorze testowym: 0.6818181818181818\n",
      "Dokładność RF na zbiorze testowym: 0.8181818181818182\n"
     ]
    }
   ],
   "source": [
    "classifiers = {\n",
    "    'KNN': KNeighborsClassifier(),\n",
    "    'LDA': LinearDiscriminantAnalysis(),\n",
    "    'SVC': SVC(),\n",
    "    'DT': DecisionTreeClassifier(),\n",
    "    'RF': RandomForestClassifier()\n",
    "}\n",
    "\n",
    "param_grids = {\n",
    "    'KNN': {'n_neighbors': [5,10,15,20], 'weights': ['uniform', 'distance']},\n",
    "    'LDA': {'solver': ['svd', 'lsqr', 'eigen']},\n",
    "    'SVC': {'C': [0.1, 0.5, 1, 1.5], 'kernel': ['linear', 'rbf', 'poly', 'sigmoid'], 'probability': [True]},\n",
    "    'DT': {'criterion': ['gini', 'entropy'], 'max_depth': [10, 20, 30, 40, 50], 'random_state': [seed]},\n",
    "    'RF': {'n_estimators': [5, 10, 50, 100, 200], 'criterion': ['gini', 'entropy'], \n",
    "                      'max_depth': [5, 10, 20, 30, 40, 50], 'random_state': [seed]}\n",
    "}\n",
    "\n",
    "\n",
    "# Przechowywanie najlepszych modeli i ich wyników\n",
    "best_models_rfe = {}\n",
    "best_scores_rfe = {}\n",
    "test_scores_rfe = {}\n",
    "best_models_rfe_class={}\n",
    "\n",
    "# Przeszukiwanie hiperparametrów dla każdego klasyfikatora\n",
    "for name, classifier in classifiers.items():\n",
    "    print(f\"Przetwarzanie {name}...\")\n",
    "    grid_search = GridSearchCV(classifier, param_grids[name], cv=4, n_jobs=-1, scoring='accuracy')\n",
    "    grid_search.fit(X_train_rfecv, y_train)\n",
    "    best_models_rfe_class[name]=grid_search.best_estimator_\n",
    "    best_models_rfe[name] = (type(grid_search.best_estimator_), grid_search.best_params_)\n",
    "    best_scores_rfe[name] = grid_search.best_score_\n",
    "    print(f\"Najlepsze parametry dla {name}: {grid_search.best_params_}\")\n",
    "    print(f\"Najlepszy wynik dla {name}: {grid_search.best_score_}\\n\")\n",
    "\n",
    "# Ocena najlepszych modeli na zbiorze testowym\n",
    "for name, (model_type, best_params) in best_models_rfe.items():\n",
    "    model = model_type(**best_params)\n",
    "    model.fit(X_train_rfecv, y_train)\n",
    "    y_pred = model.predict(X_test_rfecv)\n",
    "    test_score = accuracy_score(y_test, y_pred)\n",
    "    test_scores_rfe[name]=test_score\n",
    "    print(f\"Dokładność {name} na zbiorze testowym: {test_score}\")"
   ]
  },
  {
   "cell_type": "code",
   "execution_count": 273,
   "metadata": {},
   "outputs": [
    {
     "data": {
      "text/plain": [
       "{'KNN': 0.8587662337662338,\n",
       " 'LDA': 0.8587662337662338,\n",
       " 'SVC': 0.8706709956709957,\n",
       " 'DT': 0.8344155844155844,\n",
       " 'RF': 0.8468614718614719}"
      ]
     },
     "execution_count": 273,
     "metadata": {},
     "output_type": "execute_result"
    }
   ],
   "source": [
    "best_scores_rfe"
   ]
  },
  {
   "cell_type": "code",
   "execution_count": 274,
   "metadata": {},
   "outputs": [
    {
     "data": {
      "text/plain": [
       "{'KNN': 0.8636363636363636,\n",
       " 'LDA': 0.9090909090909091,\n",
       " 'SVC': 0.9090909090909091,\n",
       " 'DT': 0.6818181818181818,\n",
       " 'RF': 0.8181818181818182}"
      ]
     },
     "execution_count": 274,
     "metadata": {},
     "output_type": "execute_result"
    }
   ],
   "source": [
    "test_scores_rfe"
   ]
  },
  {
   "cell_type": "code",
   "execution_count": 275,
   "metadata": {},
   "outputs": [
    {
     "data": {
      "image/png": "[encoded data removed]",
      "text/plain": [
       "<Figure size 1008x576 with 1 Axes>"
      ]
     },
     "metadata": {
      "needs_background": "light"
     },
     "output_type": "display_data"
    }
   ],
   "source": [
    "df = pd.DataFrame({\n",
    "    'Model': best_scores_all.keys(),\n",
    "    'Best Score all': best_scores_all.values(),\n",
    "    'Test Score all': test_scores_all.values(),\n",
    "    'Best Score pca': best_scores_pca.values(),\n",
    "    'Test Score pca': test_scores_pca.values(),\n",
    "    'Best Score rfe': best_scores_rfe.values(),\n",
    "    'Test Score rfe': test_scores_rfe.values(),\n",
    "})\n",
    "\n",
    "# Przekształcenie ramki danych do formatu długiego\n",
    "df_melted = df.melt(id_vars='Model', var_name='Score Type', value_name='Score')\n",
    "\n",
    "# Tworzenie wykresu kolumnowego\n",
    "plt.figure(figsize=(14, 8))\n",
    "sns.barplot(x='Score Type', y='Score', hue='Model', data=df_melted)\n",
    "\n",
    "# Dostosowanie wyglądu wykresu\n",
    "plt.title('Porównanie wyników różnych modeli')\n",
    "plt.ylabel('Score')\n",
    "plt.xlabel('Score Type')\n",
    "plt.ylim(0, 1)\n",
    "plt.legend(title='Model', bbox_to_anchor=(1.05, 1), loc='upper left')\n",
    "plt.tight_layout()\n",
    "plt.show()"
   ]
  },
  {
   "cell_type": "code",
   "execution_count": 279,
   "metadata": {},
   "outputs": [
    {
     "data": {
      "image/png": "[encoded data removed]",
      "text/plain": [
       "<Figure size 1080x576 with 10 Axes>"
      ]
     },
     "metadata": {
      "needs_background": "light"
     },
     "output_type": "display_data"
    }
   ],
   "source": [
    "fig, axes = plt.subplots(2, 3, figsize=(15, 8))\n",
    "\n",
    "# Lista tytułów\n",
    "titles = ['KNN', 'LDA', 'SVC', 'DT', 'RF']\n",
    "\n",
    "# Rysowanie macierzy pomyłek dla każdego klasyfikatora\n",
    "for ax, (title, (model_type, best_params)) in zip(axes.flatten(), best_models_rfe.items()):\n",
    "    model = model_type(**best_params)\n",
    "    plot_confusion_matrix(model, X_train_rfecv, X_test_rfecv, y_train, y_test, ax, title)\n",
    "\n",
    "# Usuwanie niepotrzebnych osi w przypadku parzystej liczby klasyfikatorów\n",
    "if len(classifiers) % 2 != 0:\n",
    "    fig.delaxes(axes.flatten()[-1])\n",
    "\n",
    "plt.tight_layout()\n",
    "\n",
    "plt.savefig(\"images5/conf_matr_rfe.png\")\n",
    "\n",
    "plt.show()"
   ]
  },
  {
   "cell_type": "code",
   "execution_count": 330,
   "metadata": {},
   "outputs": [],
   "source": [
    "import shap"
   ]
  },
  {
   "cell_type": "code",
   "execution_count": 334,
   "metadata": {},
   "outputs": [
    {
     "data": {
      "image/png": "[encoded data removed]",
      "text/plain": [
       "<Figure size 720x432 with 1 Axes>"
      ]
     },
     "metadata": {
      "needs_background": "light"
     },
     "output_type": "display_data"
    }
   ],
   "source": [
    "(model_type, best_params)=best_models_rfe[\"SVC\"]\n",
    "model = model_type(**best_params)\n",
    "model.fit(X_train_rfecv,  y_train)\n",
    "\n",
    "# Uzyskanie współczynników cech\n",
    "coefs = model.coef_[0]\n",
    "\n",
    "# Stworzenie wykresu współczynników cech\n",
    "feature_names = names[rfecv.support_]\n",
    "\n",
    "# Posortowanie cech według ich współczynników\n",
    "sorted_idx = np.argsort(coefs)\n",
    "sorted_coefs = coefs[sorted_idx]\n",
    "sorted_features = feature_names[sorted_idx]\n",
    "\n",
    "plt.figure(figsize=(10, 6))\n",
    "plt.barh(sorted_features, sorted_coefs, color='skyblue')\n",
    "plt.xlabel(\"Współczynniki cech\")\n",
    "plt.title(\"Istotność cech w modelu SVC z liniową funkcją jądra\")\n",
    "plt.show()\n",
    "# y_pred = model.predict(X_test_rfecv)\n",
    "# y_pred!=y_test"
   ]
  },
  {
   "cell_type": "code",
   "execution_count": 337,
   "metadata": {},
   "outputs": [
    {
     "data": {
      "text/plain": [
       "Index(['BETET_kw__number_peaks__n_2', 'BETET_kw__first_location_of_minimum',\n",
       "       'HCO3STTE_kw__first_location_of_maximum', 'IONH_kw__number_peaks__n_2',\n",
       "       'IONH_kw__first_location_of_maximum',\n",
       "       'euclidean_kw__agg_linear_trend__attr_\"slope\"__chunk_len_6__f_agg_\"mean\"'],\n",
       "      dtype='object')"
      ]
     },
     "execution_count": 337,
     "metadata": {},
     "output_type": "execute_result"
    }
   ],
   "source": [
    "feature_names"
   ]
  },
  {
   "cell_type": "code",
   "execution_count": 336,
   "metadata": {},
   "outputs": [
    {
     "data": {
      "text/plain": [
       "array([[0.29041801, 0.35581356, 0.38829795, 0.39663056, 0.4034219 ,\n",
       "        0.57895974]])"
      ]
     },
     "execution_count": 336,
     "metadata": {},
     "output_type": "execute_result"
    }
   ],
   "source": [
    "model.coef_"
   ]
  },
  {
   "cell_type": "code",
   "execution_count": 345,
   "metadata": {},
   "outputs": [
    {
     "data": {
      "image/png": "[encoded data removed]",
      "text/plain": [
       "<Figure size 576x280.8 with 2 Axes>"
      ]
     },
     "metadata": {
      "needs_background": "light"
     },
     "output_type": "display_data"
    },
    {
     "ename": "ValueError",
     "evalue": "Could not find feature named: BETET_kw__number_peaks__n_2",
     "output_type": "error",
     "traceback": [
      "\u001b[1;31m---------------------------------------------------------------------------\u001b[0m",
      "\u001b[1;31mValueError\u001b[0m                                Traceback (most recent call last)",
      "Input \u001b[1;32mIn [345]\u001b[0m, in \u001b[0;36m<cell line: 25>\u001b[1;34m()\u001b[0m\n\u001b[0;32m     22\u001b[0m top_features \u001b[38;5;241m=\u001b[39m sorted_features\n\u001b[0;32m     25\u001b[0m \u001b[38;5;28;01mfor\u001b[39;00m feature \u001b[38;5;129;01min\u001b[39;00m top_features:\n\u001b[1;32m---> 26\u001b[0m     \u001b[43mshap\u001b[49m\u001b[38;5;241;43m.\u001b[39;49m\u001b[43mdependence_plot\u001b[49m\u001b[43m(\u001b[49m\u001b[43mfeature\u001b[49m\u001b[43m,\u001b[49m\u001b[43m \u001b[49m\u001b[43mshap_values\u001b[49m\u001b[43m,\u001b[49m\u001b[43m \u001b[49m\u001b[43mX_train_rfecv\u001b[49m\u001b[43m)\u001b[49m\n",
      "File \u001b[1;32mc:\\Users\\dorot\\AppData\\Local\\Programs\\Python\\Python39\\lib\\site-packages\\shap\\plots\\_scatter.py:567\u001b[0m, in \u001b[0;36mdependence_legacy\u001b[1;34m(ind, shap_values, features, feature_names, display_features, interaction_index, color, axis_color, cmap, dot_size, x_jitter, alpha, title, xmin, xmax, ax, show, ymin, ymax)\u001b[0m\n\u001b[0;32m    564\u001b[0m \u001b[38;5;28;01mif\u001b[39;00m \u001b[38;5;28mlen\u001b[39m(features\u001b[38;5;241m.\u001b[39mshape) \u001b[38;5;241m==\u001b[39m \u001b[38;5;241m1\u001b[39m:\n\u001b[0;32m    565\u001b[0m     features \u001b[38;5;241m=\u001b[39m np\u001b[38;5;241m.\u001b[39mreshape(features, (\u001b[38;5;28mlen\u001b[39m(features), \u001b[38;5;241m1\u001b[39m))\n\u001b[1;32m--> 567\u001b[0m ind \u001b[38;5;241m=\u001b[39m \u001b[43mconvert_name\u001b[49m\u001b[43m(\u001b[49m\u001b[43mind\u001b[49m\u001b[43m,\u001b[49m\u001b[43m \u001b[49m\u001b[43mshap_values\u001b[49m\u001b[43m,\u001b[49m\u001b[43m \u001b[49m\u001b[43mfeature_names\u001b[49m\u001b[43m)\u001b[49m\n\u001b[0;32m    569\u001b[0m \u001b[38;5;66;03m# guess what other feature as the stongest interaction with the plotted feature\u001b[39;00m\n\u001b[0;32m    570\u001b[0m \u001b[38;5;28;01mif\u001b[39;00m \u001b[38;5;129;01mnot\u001b[39;00m \u001b[38;5;28mhasattr\u001b[39m(ind, \u001b[38;5;124m\"\u001b[39m\u001b[38;5;124m__len__\u001b[39m\u001b[38;5;124m\"\u001b[39m):\n",
      "File \u001b[1;32mc:\\Users\\dorot\\AppData\\Local\\Programs\\Python\\Python39\\lib\\site-packages\\shap\\utils\\_general.py:46\u001b[0m, in \u001b[0;36mconvert_name\u001b[1;34m(ind, shap_values, input_names)\u001b[0m\n\u001b[0;32m     44\u001b[0m         \u001b[38;5;28;01mreturn\u001b[39;00m \u001b[38;5;124m\"\u001b[39m\u001b[38;5;124msum()\u001b[39m\u001b[38;5;124m\"\u001b[39m\n\u001b[0;32m     45\u001b[0m     \u001b[38;5;28;01melse\u001b[39;00m:\n\u001b[1;32m---> 46\u001b[0m         \u001b[38;5;28;01mraise\u001b[39;00m \u001b[38;5;167;01mValueError\u001b[39;00m(\u001b[38;5;124m\"\u001b[39m\u001b[38;5;124mCould not find feature named: \u001b[39m\u001b[38;5;124m\"\u001b[39m \u001b[38;5;241m+\u001b[39m ind)\n\u001b[0;32m     47\u001b[0m \u001b[38;5;28;01melse\u001b[39;00m:\n\u001b[0;32m     48\u001b[0m     \u001b[38;5;28;01mreturn\u001b[39;00m nzinds[\u001b[38;5;241m0\u001b[39m]\n",
      "\u001b[1;31mValueError\u001b[0m: Could not find feature named: BETET_kw__number_peaks__n_2"
     ]
    }
   ],
   "source": [
    "# Tworzenie obiektu explainer dla SHAP\n",
    "explainer = shap.LinearExplainer(model, X_train_rfecv)\n",
    "\n",
    "# Obliczanie wartości SHAP dla danych treningowych\n",
    "shap_values = explainer.shap_values(X_train_rfecv)\n",
    "\n",
    "# Tworzenie wykresu wartości SHAP z kolorami wskazującymi wartości cech\n",
    "shap.summary_plot(shap_values, X_train_rfecv, plot_type=\"dot\")\n",
    "\n",
    "# Stworzenie wykresu współczynników cech\n",
    "feature_names = names[rfecv.support_]\n",
    "\n",
    "# Uzyskanie współczynników cech\n",
    "coefs = model.coef_[0]\n",
    "\n",
    "# Posortowanie cech według ich współczynników\n",
    "sorted_idx = np.argsort(coefs)\n",
    "sorted_coefs = coefs[sorted_idx]\n",
    "sorted_features = feature_names[sorted_idx]\n",
    "\n",
    "# Tworzenie wykresów zależności dla najważniejszych cech\n",
    "top_features = sorted_features\n",
    "\n"
   ]
  },
  {
   "cell_type": "code",
   "execution_count": 415,
   "metadata": {},
   "outputs": [
    {
     "data": {
      "text/html": [
       "<div>\n",
       "<style scoped>\n",
       "    .dataframe tbody tr th:only-of-type {\n",
       "        vertical-align: middle;\n",
       "    }\n",
       "\n",
       "    .dataframe tbody tr th {\n",
       "        vertical-align: top;\n",
       "    }\n",
       "\n",
       "    .dataframe thead th {\n",
       "        text-align: right;\n",
       "    }\n",
       "</style>\n",
       "<table border=\"1\" class=\"dataframe\">\n",
       "  <thead>\n",
       "    <tr style=\"text-align: right;\">\n",
       "      <th></th>\n",
       "      <th>0</th>\n",
       "      <th>1</th>\n",
       "      <th>2</th>\n",
       "      <th>3</th>\n",
       "      <th>4</th>\n",
       "      <th>5</th>\n",
       "      <th>ZGON</th>\n",
       "    </tr>\n",
       "  </thead>\n",
       "  <tbody>\n",
       "    <tr>\n",
       "      <th>0</th>\n",
       "      <td>-0.533745</td>\n",
       "      <td>-0.501839</td>\n",
       "      <td>-0.623985</td>\n",
       "      <td>-0.987935</td>\n",
       "      <td>-0.755434</td>\n",
       "      <td>-0.053396</td>\n",
       "      <td>0.0</td>\n",
       "    </tr>\n",
       "    <tr>\n",
       "      <th>1</th>\n",
       "      <td>0.762493</td>\n",
       "      <td>0.227663</td>\n",
       "      <td>-0.623985</td>\n",
       "      <td>1.202703</td>\n",
       "      <td>0.958038</td>\n",
       "      <td>0.056642</td>\n",
       "      <td>1.0</td>\n",
       "    </tr>\n",
       "    <tr>\n",
       "      <th>2</th>\n",
       "      <td>-0.533745</td>\n",
       "      <td>0.573217</td>\n",
       "      <td>-0.623985</td>\n",
       "      <td>0.472490</td>\n",
       "      <td>-0.838153</td>\n",
       "      <td>1.786529</td>\n",
       "      <td>1.0</td>\n",
       "    </tr>\n",
       "    <tr>\n",
       "      <th>3</th>\n",
       "      <td>3.354969</td>\n",
       "      <td>1.011203</td>\n",
       "      <td>1.942238</td>\n",
       "      <td>1.932916</td>\n",
       "      <td>-0.642078</td>\n",
       "      <td>-1.146171</td>\n",
       "      <td>1.0</td>\n",
       "    </tr>\n",
       "    <tr>\n",
       "      <th>4</th>\n",
       "      <td>-0.533745</td>\n",
       "      <td>-0.501839</td>\n",
       "      <td>-0.623985</td>\n",
       "      <td>-0.257722</td>\n",
       "      <td>-0.507276</td>\n",
       "      <td>-0.937335</td>\n",
       "      <td>1.0</td>\n",
       "    </tr>\n",
       "    <tr>\n",
       "      <th>...</th>\n",
       "      <td>...</td>\n",
       "      <td>...</td>\n",
       "      <td>...</td>\n",
       "      <td>...</td>\n",
       "      <td>...</td>\n",
       "      <td>...</td>\n",
       "      <td>...</td>\n",
       "    </tr>\n",
       "    <tr>\n",
       "      <th>80</th>\n",
       "      <td>-0.533745</td>\n",
       "      <td>-0.501839</td>\n",
       "      <td>-0.623985</td>\n",
       "      <td>0.472490</td>\n",
       "      <td>-0.705802</td>\n",
       "      <td>-0.209600</td>\n",
       "      <td>0.0</td>\n",
       "    </tr>\n",
       "    <tr>\n",
       "      <th>81</th>\n",
       "      <td>-0.533745</td>\n",
       "      <td>0.136475</td>\n",
       "      <td>-0.623985</td>\n",
       "      <td>-0.257722</td>\n",
       "      <td>-0.341837</td>\n",
       "      <td>-2.844536</td>\n",
       "      <td>0.0</td>\n",
       "    </tr>\n",
       "    <tr>\n",
       "      <th>82</th>\n",
       "      <td>-0.533745</td>\n",
       "      <td>-0.501839</td>\n",
       "      <td>-0.623985</td>\n",
       "      <td>-0.987935</td>\n",
       "      <td>-0.698837</td>\n",
       "      <td>-0.262347</td>\n",
       "      <td>0.0</td>\n",
       "    </tr>\n",
       "    <tr>\n",
       "      <th>83</th>\n",
       "      <td>0.762493</td>\n",
       "      <td>-0.501839</td>\n",
       "      <td>-0.390220</td>\n",
       "      <td>0.472490</td>\n",
       "      <td>-0.791714</td>\n",
       "      <td>-0.396241</td>\n",
       "      <td>0.0</td>\n",
       "    </tr>\n",
       "    <tr>\n",
       "      <th>84</th>\n",
       "      <td>-0.533745</td>\n",
       "      <td>-0.501839</td>\n",
       "      <td>-0.553856</td>\n",
       "      <td>-0.987935</td>\n",
       "      <td>-0.768495</td>\n",
       "      <td>-0.207105</td>\n",
       "      <td>0.0</td>\n",
       "    </tr>\n",
       "  </tbody>\n",
       "</table>\n",
       "<p>85 rows × 7 columns</p>\n",
       "</div>"
      ],
      "text/plain": [
       "           0         1         2         3         4         5  ZGON\n",
       "0  -0.533745 -0.501839 -0.623985 -0.987935 -0.755434 -0.053396   0.0\n",
       "1   0.762493  0.227663 -0.623985  1.202703  0.958038  0.056642   1.0\n",
       "2  -0.533745  0.573217 -0.623985  0.472490 -0.838153  1.786529   1.0\n",
       "3   3.354969  1.011203  1.942238  1.932916 -0.642078 -1.146171   1.0\n",
       "4  -0.533745 -0.501839 -0.623985 -0.257722 -0.507276 -0.937335   1.0\n",
       "..       ...       ...       ...       ...       ...       ...   ...\n",
       "80 -0.533745 -0.501839 -0.623985  0.472490 -0.705802 -0.209600   0.0\n",
       "81 -0.533745  0.136475 -0.623985 -0.257722 -0.341837 -2.844536   0.0\n",
       "82 -0.533745 -0.501839 -0.623985 -0.987935 -0.698837 -0.262347   0.0\n",
       "83  0.762493 -0.501839 -0.390220  0.472490 -0.791714 -0.396241   0.0\n",
       "84 -0.533745 -0.501839 -0.553856 -0.987935 -0.768495 -0.207105   0.0\n",
       "\n",
       "[85 rows x 7 columns]"
      ]
     },
     "execution_count": 415,
     "metadata": {},
     "output_type": "execute_result"
    }
   ],
   "source": [
    "X_train_df = pd.DataFrame(X_train_rfecv).reset_index(drop=True)\n",
    "# columns=feature_names\n",
    "# Przekształcenie y_train do DataFrame i nadanie kolumnie nazwy \"ZGON\"\n",
    "y_train_df = pd.DataFrame(y_train, columns=[\"ZGON\"]).reset_index(drop=True)\n",
    "\n",
    "# Połączenie X_train_df i y_train_df wzdłuż osi kolumn (axis=1)\n",
    "data_6_vars = pd.concat([X_train_df, y_train_df], axis=1)\n",
    "\n",
    "# Wyświetlenie wynikowej ramki danych\n",
    "data_6_vars\n",
    "# X_train_df"
   ]
  },
  {
   "cell_type": "code",
   "execution_count": 395,
   "metadata": {},
   "outputs": [],
   "source": [
    "feature_names_skr=['BETET_piki', 'BETET_loc_min',\n",
    "       'HCO3STTE_loc_max', 'IONH_piki',\n",
    "       'IONH_loc_max',\n",
    "       'mean_slope_miernik2']"
   ]
  },
  {
   "cell_type": "code",
   "execution_count": 416,
   "metadata": {},
   "outputs": [
    {
     "data": {
      "text/plain": [
       "Index(['BETET_piki', 'BETET_loc_min', 'HCO3STTE_loc_max', 'IONH_piki',\n",
       "       'IONH_loc_max', 'mean_slope_miernik2', 'ZGON'],\n",
       "      dtype='object')"
      ]
     },
     "execution_count": 416,
     "metadata": {},
     "output_type": "execute_result"
    }
   ],
   "source": [
    "# Wyświetlenie wynikowej ramki danych\n",
    "data_6_vars=data_with_features[[*feature_names, \"ZGON\"]]\n",
    "# data_6_vars.columns=[0,1,2,3,4,5,\"ZGON\"]\n",
    "data_6_vars.columns=[*feature_names_skr, \"ZGON\"]\n",
    "data_6_vars.columns"
   ]
  },
  {
   "cell_type": "code",
   "execution_count": 417,
   "metadata": {},
   "outputs": [
    {
     "data": {
      "application/vnd.plotly.v1+json": {
       "config": {
        "plotlyServerURL": "https://plot.ly"
       },
       "data": [
        {
         "alignmentgroup": "True",
         "hovertemplate": "Klasa ZGON=0.0<br>Cecha=%{x}<br>Wartość=%{y}<extra></extra>",
         "legendgroup": "0.0",
         "marker": {
          "color": "#636efa"
         },
         "name": "0.0",
         "notched": false,
         "offsetgroup": "0.0",
         "orientation": "v",
         "showlegend": true,
         "type": "box",
         "x": [
          "BETET_piki",
          "BETET_piki",
          "BETET_piki",
          "BETET_piki",
          "BETET_piki",
          "BETET_piki",
          "BETET_piki",
          "BETET_piki",
          "BETET_piki",
          "BETET_piki",
          "BETET_piki",
          "BETET_piki",
          "BETET_piki",
          "BETET_piki",
          "BETET_piki",
          "BETET_piki",
          "BETET_piki",
          "BETET_piki",
          "BETET_piki",
          "BETET_piki",
          "BETET_piki",
          "BETET_piki",
          "BETET_piki",
          "BETET_piki",
          "BETET_piki",
          "BETET_piki",
          "BETET_piki",
          "BETET_piki",
          "BETET_piki",
          "BETET_piki",
          "BETET_piki",
          "BETET_piki",
          "BETET_piki",
          "BETET_piki",
          "BETET_piki",
          "BETET_piki",
          "BETET_piki",
          "BETET_piki",
          "BETET_piki",
          "BETET_piki",
          "BETET_piki",
          "BETET_piki",
          "BETET_piki",
          "BETET_piki",
          "BETET_piki",
          "BETET_piki",
          "BETET_piki",
          "BETET_piki",
          "BETET_piki",
          "BETET_piki",
          "BETET_piki",
          "BETET_piki",
          "BETET_loc_min",
          "BETET_loc_min",
          "BETET_loc_min",
          "BETET_loc_min",
          "BETET_loc_min",
          "BETET_loc_min",
          "BETET_loc_min",
          "BETET_loc_min",
          "BETET_loc_min",
          "BETET_loc_min",
          "BETET_loc_min",
          "BETET_loc_min",
          "BETET_loc_min",
          "BETET_loc_min",
          "BETET_loc_min",
          "BETET_loc_min",
          "BETET_loc_min",
          "BETET_loc_min",
          "BETET_loc_min",
          "BETET_loc_min",
          "BETET_loc_min",
          "BETET_loc_min",
          "BETET_loc_min",
          "BETET_loc_min",
          "BETET_loc_min",
          "BETET_loc_min",
          "BETET_loc_min",
          "BETET_loc_min",
          "BETET_loc_min",
          "BETET_loc_min",
          "BETET_loc_min",
          "BETET_loc_min",
          "BETET_loc_min",
          "BETET_loc_min",
          "BETET_loc_min",
          "BETET_loc_min",
          "BETET_loc_min",
          "BETET_loc_min",
          "BETET_loc_min",
          "BETET_loc_min",
          "BETET_loc_min",
          "BETET_loc_min",
          "BETET_loc_min",
          "BETET_loc_min",
          "BETET_loc_min",
          "BETET_loc_min",
          "BETET_loc_min",
          "BETET_loc_min",
          "BETET_loc_min",
          "BETET_loc_min",
          "BETET_loc_min",
          "BETET_loc_min",
          "HCO3STTE_loc_max",
          "HCO3STTE_loc_max",
          "HCO3STTE_loc_max",
          "HCO3STTE_loc_max",
          "HCO3STTE_loc_max",
          "HCO3STTE_loc_max",
          "HCO3STTE_loc_max",
          "HCO3STTE_loc_max",
          "HCO3STTE_loc_max",
          "HCO3STTE_loc_max",
          "HCO3STTE_loc_max",
          "HCO3STTE_loc_max",
          "HCO3STTE_loc_max",
          "HCO3STTE_loc_max",
          "HCO3STTE_loc_max",
          "HCO3STTE_loc_max",
          "HCO3STTE_loc_max",
          "HCO3STTE_loc_max",
          "HCO3STTE_loc_max",
          "HCO3STTE_loc_max",
          "HCO3STTE_loc_max",
          "HCO3STTE_loc_max",
          "HCO3STTE_loc_max",
          "HCO3STTE_loc_max",
          "HCO3STTE_loc_max",
          "HCO3STTE_loc_max",
          "HCO3STTE_loc_max",
          "HCO3STTE_loc_max",
          "HCO3STTE_loc_max",
          "HCO3STTE_loc_max",
          "HCO3STTE_loc_max",
          "HCO3STTE_loc_max",
          "HCO3STTE_loc_max",
          "HCO3STTE_loc_max",
          "HCO3STTE_loc_max",
          "HCO3STTE_loc_max",
          "HCO3STTE_loc_max",
          "HCO3STTE_loc_max",
          "HCO3STTE_loc_max",
          "HCO3STTE_loc_max",
          "HCO3STTE_loc_max",
          "HCO3STTE_loc_max",
          "HCO3STTE_loc_max",
          "HCO3STTE_loc_max",
          "HCO3STTE_loc_max",
          "HCO3STTE_loc_max",
          "HCO3STTE_loc_max",
          "HCO3STTE_loc_max",
          "HCO3STTE_loc_max",
          "HCO3STTE_loc_max",
          "HCO3STTE_loc_max",
          "HCO3STTE_loc_max",
          "IONH_piki",
          "IONH_piki",
          "IONH_piki",
          "IONH_piki",
          "IONH_piki",
          "IONH_piki",
          "IONH_piki",
          "IONH_piki",
          "IONH_piki",
          "IONH_piki",
          "IONH_piki",
          "IONH_piki",
          "IONH_piki",
          "IONH_piki",
          "IONH_piki",
          "IONH_piki",
          "IONH_piki",
          "IONH_piki",
          "IONH_piki",
          "IONH_piki",
          "IONH_piki",
          "IONH_piki",
          "IONH_piki",
          "IONH_piki",
          "IONH_piki",
          "IONH_piki",
          "IONH_piki",
          "IONH_piki",
          "IONH_piki",
          "IONH_piki",
          "IONH_piki",
          "IONH_piki",
          "IONH_piki",
          "IONH_piki",
          "IONH_piki",
          "IONH_piki",
          "IONH_piki",
          "IONH_piki",
          "IONH_piki",
          "IONH_piki",
          "IONH_piki",
          "IONH_piki",
          "IONH_piki",
          "IONH_piki",
          "IONH_piki",
          "IONH_piki",
          "IONH_piki",
          "IONH_piki",
          "IONH_piki",
          "IONH_piki",
          "IONH_piki",
          "IONH_piki",
          "IONH_loc_max",
          "IONH_loc_max",
          "IONH_loc_max",
          "IONH_loc_max",
          "IONH_loc_max",
          "IONH_loc_max",
          "IONH_loc_max",
          "IONH_loc_max",
          "IONH_loc_max",
          "IONH_loc_max",
          "IONH_loc_max",
          "IONH_loc_max",
          "IONH_loc_max",
          "IONH_loc_max",
          "IONH_loc_max",
          "IONH_loc_max",
          "IONH_loc_max",
          "IONH_loc_max",
          "IONH_loc_max",
          "IONH_loc_max",
          "IONH_loc_max",
          "IONH_loc_max",
          "IONH_loc_max",
          "IONH_loc_max",
          "IONH_loc_max",
          "IONH_loc_max",
          "IONH_loc_max",
          "IONH_loc_max",
          "IONH_loc_max",
          "IONH_loc_max",
          "IONH_loc_max",
          "IONH_loc_max",
          "IONH_loc_max",
          "IONH_loc_max",
          "IONH_loc_max",
          "IONH_loc_max",
          "IONH_loc_max",
          "IONH_loc_max",
          "IONH_loc_max",
          "IONH_loc_max",
          "IONH_loc_max",
          "IONH_loc_max",
          "IONH_loc_max",
          "IONH_loc_max",
          "IONH_loc_max",
          "IONH_loc_max",
          "IONH_loc_max",
          "IONH_loc_max",
          "IONH_loc_max",
          "IONH_loc_max",
          "IONH_loc_max",
          "IONH_loc_max",
          "mean_slope_miernik2",
          "mean_slope_miernik2",
          "mean_slope_miernik2",
          "mean_slope_miernik2",
          "mean_slope_miernik2",
          "mean_slope_miernik2",
          "mean_slope_miernik2",
          "mean_slope_miernik2",
          "mean_slope_miernik2",
          "mean_slope_miernik2",
          "mean_slope_miernik2",
          "mean_slope_miernik2",
          "mean_slope_miernik2",
          "mean_slope_miernik2",
          "mean_slope_miernik2",
          "mean_slope_miernik2",
          "mean_slope_miernik2",
          "mean_slope_miernik2",
          "mean_slope_miernik2",
          "mean_slope_miernik2",
          "mean_slope_miernik2",
          "mean_slope_miernik2",
          "mean_slope_miernik2",
          "mean_slope_miernik2",
          "mean_slope_miernik2",
          "mean_slope_miernik2",
          "mean_slope_miernik2",
          "mean_slope_miernik2",
          "mean_slope_miernik2",
          "mean_slope_miernik2",
          "mean_slope_miernik2",
          "mean_slope_miernik2",
          "mean_slope_miernik2",
          "mean_slope_miernik2",
          "mean_slope_miernik2",
          "mean_slope_miernik2",
          "mean_slope_miernik2",
          "mean_slope_miernik2",
          "mean_slope_miernik2",
          "mean_slope_miernik2",
          "mean_slope_miernik2",
          "mean_slope_miernik2",
          "mean_slope_miernik2",
          "mean_slope_miernik2",
          "mean_slope_miernik2",
          "mean_slope_miernik2",
          "mean_slope_miernik2",
          "mean_slope_miernik2",
          "mean_slope_miernik2",
          "mean_slope_miernik2",
          "mean_slope_miernik2",
          "mean_slope_miernik2"
         ],
         "x0": " ",
         "xaxis": "x",
         "y": [
          0,
          0,
          0,
          1,
          0,
          0,
          0,
          1,
          0,
          0,
          2,
          0,
          0,
          0,
          0,
          0,
          0,
          0,
          0,
          0,
          1,
          0,
          1,
          0,
          0,
          0,
          0,
          0,
          0,
          1,
          1,
          0,
          0,
          0,
          0,
          1,
          0,
          0,
          0,
          0,
          0,
          0,
          0,
          1,
          0,
          0,
          0,
          0,
          0,
          0,
          0,
          0,
          0,
          0.1,
          0,
          0,
          0,
          0,
          0,
          0,
          0,
          0,
          0,
          0.0625,
          0.025,
          0.09375,
          0,
          0.05714285714285714,
          0,
          0,
          0,
          0.2608695652173913,
          0.05263157894736842,
          0,
          0.08,
          0,
          0,
          0,
          0,
          0,
          0,
          0,
          0.05263157894736842,
          0.045454545454545456,
          0.06896551724137931,
          0.05,
          0,
          0,
          0,
          0,
          0,
          0,
          0,
          0,
          0,
          0,
          0,
          0.04878048780487805,
          0,
          0,
          0,
          0,
          0,
          0,
          0,
          0,
          0,
          0,
          0,
          0,
          0,
          0.11538461538461539,
          0,
          0,
          0.5,
          0,
          0,
          0,
          0,
          0,
          0,
          0,
          0,
          0,
          0.15789473684210525,
          0,
          0,
          0,
          0,
          0,
          0,
          0,
          0,
          0.9166666666666666,
          0.10526315789473684,
          0,
          0,
          0.025,
          0,
          0.5178571428571429,
          0,
          0.05555555555555555,
          0,
          0.02631578947368421,
          0,
          0,
          0,
          0.08771929824561403,
          0,
          0,
          0,
          0,
          0,
          0,
          0,
          0,
          2,
          0,
          0,
          1,
          0,
          0,
          0,
          1,
          1,
          0,
          0,
          1,
          1,
          0,
          2,
          3,
          0,
          2,
          2,
          0,
          1,
          3,
          0,
          0,
          0,
          1,
          0,
          0,
          0,
          1,
          1,
          1,
          0,
          0,
          3,
          2,
          2,
          2,
          1,
          0,
          0,
          0,
          1,
          2,
          0,
          1,
          0,
          0,
          0,
          0,
          3,
          1,
          0.02,
          0,
          0,
          0.8235294117647058,
          0,
          0,
          0,
          0.07692307692307693,
          0.1111111111111111,
          0,
          0,
          0.1875,
          0,
          0,
          0.0392156862745098,
          0.05714285714285714,
          0.038461538461538464,
          0.05,
          0.41379310344827586,
          0,
          0.15789473684210525,
          0.7631578947368421,
          0,
          0.05263157894736842,
          0,
          0.02702702702702703,
          0,
          0,
          0,
          0.1111111111111111,
          0.10526315789473684,
          0.022727272727272728,
          0,
          0.025,
          0.01818181818181818,
          0.5178571428571429,
          0.02564102564102564,
          0.2222222222222222,
          0.02857142857142857,
          0.02631578947368421,
          0,
          0,
          0.07142857142857142,
          0.017543859649122806,
          0,
          0,
          0,
          0,
          0,
          0.03125,
          0.8095238095238095,
          0,
          -0.03236089537972129,
          -1.267216893121088,
          -0.15024801347957314,
          0.20795278460239902,
          -0.7023726287900314,
          0.21359021905026748,
          0.10910000000000002,
          -0.042219832207464385,
          -0.2935953563021772,
          -0.20572132367942444,
          -0.021956107660455484,
          -1.9262668508013663,
          -0.11426080930857827,
          -0.37848640939691824,
          -0.01434109677238845,
          -0.590499915284367,
          -0.41271566085985256,
          -0.04174711285951123,
          0.07588806776185908,
          -0.41316022081779946,
          -0.21716875801241686,
          0.24452149339989548,
          0.29924057971014495,
          -0.07947212310826712,
          0.22829422396813812,
          -0.15893798364351924,
          -0.11724874167697039,
          -0.0576,
          0,
          -0.19458097046137193,
          -0.5487458014249507,
          -0.19380747298430168,
          -0.18619429059637166,
          -0.15886574859924654,
          -0.0797206272321672,
          -0.09460082657353507,
          -0.3258419952647854,
          -0.039549629505347905,
          -0.19451621091134041,
          -0.03996227146620917,
          0.017499999999999922,
          -0.08523015873015874,
          -0.15389810298966433,
          -0.1752335962514957,
          -0.07033333333333334,
          -0.11604165388868397,
          0.537498733848638,
          -0.03599999999999999,
          -0.050925678800253074,
          0.06997055440487115,
          0.19803487281988222,
          -0.6996344074022316
         ],
         "y0": " ",
         "yaxis": "y"
        },
        {
         "alignmentgroup": "True",
         "hovertemplate": "Klasa ZGON=1.0<br>Cecha=%{x}<br>Wartość=%{y}<extra></extra>",
         "legendgroup": "1.0",
         "marker": {
          "color": "#EF553B"
         },
         "name": "1.0",
         "notched": false,
         "offsetgroup": "1.0",
         "orientation": "v",
         "showlegend": true,
         "type": "box",
         "x": [
          "BETET_piki",
          "BETET_piki",
          "BETET_piki",
          "BETET_piki",
          "BETET_piki",
          "BETET_piki",
          "BETET_piki",
          "BETET_piki",
          "BETET_piki",
          "BETET_piki",
          "BETET_piki",
          "BETET_piki",
          "BETET_piki",
          "BETET_piki",
          "BETET_piki",
          "BETET_piki",
          "BETET_piki",
          "BETET_piki",
          "BETET_piki",
          "BETET_piki",
          "BETET_piki",
          "BETET_piki",
          "BETET_piki",
          "BETET_piki",
          "BETET_piki",
          "BETET_piki",
          "BETET_piki",
          "BETET_piki",
          "BETET_piki",
          "BETET_piki",
          "BETET_piki",
          "BETET_piki",
          "BETET_piki",
          "BETET_piki",
          "BETET_piki",
          "BETET_piki",
          "BETET_piki",
          "BETET_piki",
          "BETET_piki",
          "BETET_piki",
          "BETET_piki",
          "BETET_piki",
          "BETET_piki",
          "BETET_piki",
          "BETET_piki",
          "BETET_piki",
          "BETET_piki",
          "BETET_piki",
          "BETET_piki",
          "BETET_piki",
          "BETET_piki",
          "BETET_piki",
          "BETET_piki",
          "BETET_piki",
          "BETET_piki",
          "BETET_loc_min",
          "BETET_loc_min",
          "BETET_loc_min",
          "BETET_loc_min",
          "BETET_loc_min",
          "BETET_loc_min",
          "BETET_loc_min",
          "BETET_loc_min",
          "BETET_loc_min",
          "BETET_loc_min",
          "BETET_loc_min",
          "BETET_loc_min",
          "BETET_loc_min",
          "BETET_loc_min",
          "BETET_loc_min",
          "BETET_loc_min",
          "BETET_loc_min",
          "BETET_loc_min",
          "BETET_loc_min",
          "BETET_loc_min",
          "BETET_loc_min",
          "BETET_loc_min",
          "BETET_loc_min",
          "BETET_loc_min",
          "BETET_loc_min",
          "BETET_loc_min",
          "BETET_loc_min",
          "BETET_loc_min",
          "BETET_loc_min",
          "BETET_loc_min",
          "BETET_loc_min",
          "BETET_loc_min",
          "BETET_loc_min",
          "BETET_loc_min",
          "BETET_loc_min",
          "BETET_loc_min",
          "BETET_loc_min",
          "BETET_loc_min",
          "BETET_loc_min",
          "BETET_loc_min",
          "BETET_loc_min",
          "BETET_loc_min",
          "BETET_loc_min",
          "BETET_loc_min",
          "BETET_loc_min",
          "BETET_loc_min",
          "BETET_loc_min",
          "BETET_loc_min",
          "BETET_loc_min",
          "BETET_loc_min",
          "BETET_loc_min",
          "BETET_loc_min",
          "BETET_loc_min",
          "BETET_loc_min",
          "BETET_loc_min",
          "HCO3STTE_loc_max",
          "HCO3STTE_loc_max",
          "HCO3STTE_loc_max",
          "HCO3STTE_loc_max",
          "HCO3STTE_loc_max",
          "HCO3STTE_loc_max",
          "HCO3STTE_loc_max",
          "HCO3STTE_loc_max",
          "HCO3STTE_loc_max",
          "HCO3STTE_loc_max",
          "HCO3STTE_loc_max",
          "HCO3STTE_loc_max",
          "HCO3STTE_loc_max",
          "HCO3STTE_loc_max",
          "HCO3STTE_loc_max",
          "HCO3STTE_loc_max",
          "HCO3STTE_loc_max",
          "HCO3STTE_loc_max",
          "HCO3STTE_loc_max",
          "HCO3STTE_loc_max",
          "HCO3STTE_loc_max",
          "HCO3STTE_loc_max",
          "HCO3STTE_loc_max",
          "HCO3STTE_loc_max",
          "HCO3STTE_loc_max",
          "HCO3STTE_loc_max",
          "HCO3STTE_loc_max",
          "HCO3STTE_loc_max",
          "HCO3STTE_loc_max",
          "HCO3STTE_loc_max",
          "HCO3STTE_loc_max",
          "HCO3STTE_loc_max",
          "HCO3STTE_loc_max",
          "HCO3STTE_loc_max",
          "HCO3STTE_loc_max",
          "HCO3STTE_loc_max",
          "HCO3STTE_loc_max",
          "HCO3STTE_loc_max",
          "HCO3STTE_loc_max",
          "HCO3STTE_loc_max",
          "HCO3STTE_loc_max",
          "HCO3STTE_loc_max",
          "HCO3STTE_loc_max",
          "HCO3STTE_loc_max",
          "HCO3STTE_loc_max",
          "HCO3STTE_loc_max",
          "HCO3STTE_loc_max",
          "HCO3STTE_loc_max",
          "HCO3STTE_loc_max",
          "HCO3STTE_loc_max",
          "HCO3STTE_loc_max",
          "HCO3STTE_loc_max",
          "HCO3STTE_loc_max",
          "HCO3STTE_loc_max",
          "HCO3STTE_loc_max",
          "IONH_piki",
          "IONH_piki",
          "IONH_piki",
          "IONH_piki",
          "IONH_piki",
          "IONH_piki",
          "IONH_piki",
          "IONH_piki",
          "IONH_piki",
          "IONH_piki",
          "IONH_piki",
          "IONH_piki",
          "IONH_piki",
          "IONH_piki",
          "IONH_piki",
          "IONH_piki",
          "IONH_piki",
          "IONH_piki",
          "IONH_piki",
          "IONH_piki",
          "IONH_piki",
          "IONH_piki",
          "IONH_piki",
          "IONH_piki",
          "IONH_piki",
          "IONH_piki",
          "IONH_piki",
          "IONH_piki",
          "IONH_piki",
          "IONH_piki",
          "IONH_piki",
          "IONH_piki",
          "IONH_piki",
          "IONH_piki",
          "IONH_piki",
          "IONH_piki",
          "IONH_piki",
          "IONH_piki",
          "IONH_piki",
          "IONH_piki",
          "IONH_piki",
          "IONH_piki",
          "IONH_piki",
          "IONH_piki",
          "IONH_piki",
          "IONH_piki",
          "IONH_piki",
          "IONH_piki",
          "IONH_piki",
          "IONH_piki",
          "IONH_piki",
          "IONH_piki",
          "IONH_piki",
          "IONH_piki",
          "IONH_piki",
          "IONH_loc_max",
          "IONH_loc_max",
          "IONH_loc_max",
          "IONH_loc_max",
          "IONH_loc_max",
          "IONH_loc_max",
          "IONH_loc_max",
          "IONH_loc_max",
          "IONH_loc_max",
          "IONH_loc_max",
          "IONH_loc_max",
          "IONH_loc_max",
          "IONH_loc_max",
          "IONH_loc_max",
          "IONH_loc_max",
          "IONH_loc_max",
          "IONH_loc_max",
          "IONH_loc_max",
          "IONH_loc_max",
          "IONH_loc_max",
          "IONH_loc_max",
          "IONH_loc_max",
          "IONH_loc_max",
          "IONH_loc_max",
          "IONH_loc_max",
          "IONH_loc_max",
          "IONH_loc_max",
          "IONH_loc_max",
          "IONH_loc_max",
          "IONH_loc_max",
          "IONH_loc_max",
          "IONH_loc_max",
          "IONH_loc_max",
          "IONH_loc_max",
          "IONH_loc_max",
          "IONH_loc_max",
          "IONH_loc_max",
          "IONH_loc_max",
          "IONH_loc_max",
          "IONH_loc_max",
          "IONH_loc_max",
          "IONH_loc_max",
          "IONH_loc_max",
          "IONH_loc_max",
          "IONH_loc_max",
          "IONH_loc_max",
          "IONH_loc_max",
          "IONH_loc_max",
          "IONH_loc_max",
          "IONH_loc_max",
          "IONH_loc_max",
          "IONH_loc_max",
          "IONH_loc_max",
          "IONH_loc_max",
          "IONH_loc_max",
          "mean_slope_miernik2",
          "mean_slope_miernik2",
          "mean_slope_miernik2",
          "mean_slope_miernik2",
          "mean_slope_miernik2",
          "mean_slope_miernik2",
          "mean_slope_miernik2",
          "mean_slope_miernik2",
          "mean_slope_miernik2",
          "mean_slope_miernik2",
          "mean_slope_miernik2",
          "mean_slope_miernik2",
          "mean_slope_miernik2",
          "mean_slope_miernik2",
          "mean_slope_miernik2",
          "mean_slope_miernik2",
          "mean_slope_miernik2",
          "mean_slope_miernik2",
          "mean_slope_miernik2",
          "mean_slope_miernik2",
          "mean_slope_miernik2",
          "mean_slope_miernik2",
          "mean_slope_miernik2",
          "mean_slope_miernik2",
          "mean_slope_miernik2",
          "mean_slope_miernik2",
          "mean_slope_miernik2",
          "mean_slope_miernik2",
          "mean_slope_miernik2",
          "mean_slope_miernik2",
          "mean_slope_miernik2",
          "mean_slope_miernik2",
          "mean_slope_miernik2",
          "mean_slope_miernik2",
          "mean_slope_miernik2",
          "mean_slope_miernik2",
          "mean_slope_miernik2",
          "mean_slope_miernik2",
          "mean_slope_miernik2",
          "mean_slope_miernik2",
          "mean_slope_miernik2",
          "mean_slope_miernik2",
          "mean_slope_miernik2",
          "mean_slope_miernik2",
          "mean_slope_miernik2",
          "mean_slope_miernik2",
          "mean_slope_miernik2",
          "mean_slope_miernik2",
          "mean_slope_miernik2",
          "mean_slope_miernik2",
          "mean_slope_miernik2",
          "mean_slope_miernik2",
          "mean_slope_miernik2",
          "mean_slope_miernik2",
          "mean_slope_miernik2"
         ],
         "x0": " ",
         "xaxis": "x",
         "y": [
          0,
          2,
          4,
          0,
          0,
          0,
          2,
          2,
          1,
          0,
          0,
          1,
          0,
          1,
          0,
          1,
          1,
          1,
          0,
          4,
          0,
          2,
          1,
          0,
          2,
          0,
          0,
          0,
          0,
          0,
          0,
          2,
          1,
          3,
          0,
          1,
          1,
          3,
          1,
          0,
          1,
          0,
          1,
          0,
          1,
          0,
          3,
          0,
          0,
          0,
          1,
          0,
          1,
          0,
          1,
          0,
          0.7647058823529411,
          0.02040816326530612,
          0.015625,
          0,
          0,
          0.9230769230769231,
          0.5,
          0.18181818181818182,
          0,
          0,
          0.0392156862745098,
          0.10526315789473684,
          0.2631578947368421,
          0.5714285714285714,
          0.07142857142857142,
          0,
          0,
          0,
          0,
          0.18181818181818182,
          0,
          0.0967741935483871,
          0.043478260869565216,
          0.06666666666666667,
          0,
          0.02702702702702703,
          0,
          0.1111111111111111,
          0,
          0.05128205128205128,
          0.47058823529411764,
          0,
          0.14814814814814814,
          0.25925925925925924,
          0.07142857142857142,
          0.32,
          0,
          0,
          0.21428571428571427,
          0,
          0.05128205128205128,
          0,
          0.3181818181818182,
          0,
          0,
          0.34615384615384615,
          0.10526315789473684,
          0,
          0.08333333333333333,
          0.375,
          0,
          0.14285714285714285,
          0.041666666666666664,
          0.2222222222222222,
          0.9166666666666666,
          0,
          0.061224489795918366,
          0,
          0,
          0,
          0.3076923076923077,
          0.25,
          0.9090909090909091,
          0.8709677419354839,
          0.875,
          0,
          0.05263157894736842,
          0.13157894736842105,
          0,
          0,
          0.1,
          0.96,
          0.9333333333333333,
          0.6470588235294118,
          0.09090909090909091,
          0.8108108108108109,
          0.967741935483871,
          0,
          0.26666666666666666,
          0,
          0,
          0,
          0.9444444444444444,
          0,
          0.9743589743589743,
          0.9411764705882353,
          0,
          0.9629629629629629,
          0.9259259259259259,
          0,
          0.12,
          0.25,
          0,
          0,
          0.9615384615384616,
          0,
          0.6842105263157895,
          0,
          0.3333333333333333,
          0.6756756756756757,
          0.9615384615384616,
          0,
          0.9523809523809523,
          0.9166666666666666,
          0.1875,
          0.9696969696969697,
          0.45714285714285713,
          0,
          0.6666666666666666,
          1,
          2,
          4,
          5,
          2,
          1,
          3,
          2,
          1,
          5,
          0,
          3,
          3,
          2,
          0,
          3,
          2,
          0,
          0,
          1,
          0,
          2,
          1,
          1,
          2,
          3,
          2,
          0,
          1,
          5,
          1,
          2,
          2,
          4,
          0,
          2,
          3,
          4,
          3,
          1,
          3,
          0,
          3,
          0,
          1,
          2,
          3,
          2,
          0,
          0,
          2,
          0,
          4,
          1,
          1,
          0.8333333333333334,
          0.9411764705882353,
          0.04081632653061224,
          0.28125,
          0.9696969696969697,
          0.125,
          0.9615384615384616,
          0.25,
          0.9090909090909091,
          0.8709677419354839,
          0.875,
          0,
          0,
          0.05263157894736842,
          0.14285714285714285,
          0.6785714285714286,
          0.1,
          0.96,
          0.9333333333333333,
          0.8529411764705882,
          0.8181818181818182,
          0.8108108108108109,
          0.22580645161290322,
          0.13043478260869565,
          0.26666666666666666,
          0.02631578947368421,
          0.05405405405405406,
          0,
          0.8888888888888888,
          0.7391304347826086,
          0.9743589743589743,
          0.9411764705882353,
          0.9473684210526315,
          0.07407407407407407,
          0.9259259259259259,
          0.10714285714285714,
          0.12,
          0.4,
          0.6764705882352942,
          0.5,
          0.9615384615384616,
          0,
          0.6842105263157895,
          0,
          0.3333333333333333,
          0.9459459459459459,
          0.9615384615384616,
          0,
          0.9523809523809523,
          0.9166666666666666,
          0.1875,
          0.9696969696969697,
          0.4,
          0,
          0.6666666666666666,
          1.3561093371959307,
          0.07196575846120545,
          -0.31656908677049095,
          0.2569204342561732,
          0.09074523747234155,
          -0.5622269613285025,
          -0.15773273495823187,
          -1.0089368522123683,
          0.6500621659563279,
          0.0528566272182622,
          0.6903186222717874,
          0.182423686073089,
          0.10942342642062948,
          -0.43605736454356153,
          -0.04350933509867971,
          0.1486708847968865,
          0.7882094449960453,
          0.42115226852357357,
          3.528583382343459,
          0.018516754102097657,
          1.5177876389358576,
          -0.06948077789911121,
          -0.08674732677396013,
          -0.1547214930774768,
          0.7549984031397781,
          0.3045278361458612,
          -0.10513974603309091,
          -0.2823492742865647,
          2.3215653367673523,
          -0.05874184830477452,
          -0.06848279417660191,
          0.8844686243615975,
          1.7361468220180325,
          -0.7115869681225222,
          -0.09320626294225187,
          0.050585457724010276,
          -0.5817992415452221,
          -0.9690298056525902,
          0.19882766534689042,
          1.8875586497263448,
          0.10999073227159131,
          -0.002899585921325044,
          -0.11855745796860288,
          0.06300609352957505,
          0.35844972946751574,
          0.07118274494820274,
          0.19761939316801144,
          1.3858948656608079,
          0.23068242288829915,
          0.12103527699943473,
          -0.3411564053941578,
          -0.019532665616232812,
          0.08419625935374953,
          -0.07274246266151842,
          0.38634318199709483
         ],
         "y0": " ",
         "yaxis": "y"
        }
       ],
       "layout": {
        "boxmode": "group",
        "height": 600,
        "legend": {
         "title": {
          "text": "Klasa ZGON"
         },
         "tracegroupgap": 0
        },
        "showlegend": false,
        "template": {
         "data": {
          "bar": [
           {
            "error_x": {
             "color": "#2a3f5f"
            },
            "error_y": {
             "color": "#2a3f5f"
            },
            "marker": {
             "line": {
              "color": "white",
              "width": 0.5
             },
             "pattern": {
              "fillmode": "overlay",
              "size": 10,
              "solidity": 0.2
             }
            },
            "type": "bar"
           }
          ],
          "barpolar": [
           {
            "marker": {
             "line": {
              "color": "white",
              "width": 0.5
             },
             "pattern": {
              "fillmode": "overlay",
              "size": 10,
              "solidity": 0.2
             }
            },
            "type": "barpolar"
           }
          ],
          "carpet": [
           {
            "aaxis": {
             "endlinecolor": "#2a3f5f",
             "gridcolor": "#C8D4E3",
             "linecolor": "#C8D4E3",
             "minorgridcolor": "#C8D4E3",
             "startlinecolor": "#2a3f5f"
            },
            "baxis": {
             "endlinecolor": "#2a3f5f",
             "gridcolor": "#C8D4E3",
             "linecolor": "#C8D4E3",
             "minorgridcolor": "#C8D4E3",
             "startlinecolor": "#2a3f5f"
            },
            "type": "carpet"
           }
          ],
          "choropleth": [
           {
            "colorbar": {
             "outlinewidth": 0,
             "ticks": ""
            },
            "type": "choropleth"
           }
          ],
          "contour": [
           {
            "colorbar": {
             "outlinewidth": 0,
             "ticks": ""
            },
            "colorscale": [
             [
              0,
              "#0d0887"
             ],
             [
              0.1111111111111111,
              "#46039f"
             ],
             [
              0.2222222222222222,
              "#7201a8"
             ],
             [
              0.3333333333333333,
              "#9c179e"
             ],
             [
              0.4444444444444444,
              "#bd3786"
             ],
             [
              0.5555555555555556,
              "#d8576b"
             ],
             [
              0.6666666666666666,
              "#ed7953"
             ],
             [
              0.7777777777777778,
              "#fb9f3a"
             ],
             [
              0.8888888888888888,
              "#fdca26"
             ],
             [
              1,
              "#f0f921"
             ]
            ],
            "type": "contour"
           }
          ],
          "contourcarpet": [
           {
            "colorbar": {
             "outlinewidth": 0,
             "ticks": ""
            },
            "type": "contourcarpet"
           }
          ],
          "heatmap": [
           {
            "colorbar": {
             "outlinewidth": 0,
             "ticks": ""
            },
            "colorscale": [
             [
              0,
              "#0d0887"
             ],
             [
              0.1111111111111111,
              "#46039f"
             ],
             [
              0.2222222222222222,
              "#7201a8"
             ],
             [
              0.3333333333333333,
              "#9c179e"
             ],
             [
              0.4444444444444444,
              "#bd3786"
             ],
             [
              0.5555555555555556,
              "#d8576b"
             ],
             [
              0.6666666666666666,
              "#ed7953"
             ],
             [
              0.7777777777777778,
              "#fb9f3a"
             ],
             [
              0.8888888888888888,
              "#fdca26"
             ],
             [
              1,
              "#f0f921"
             ]
            ],
            "type": "heatmap"
           }
          ],
          "heatmapgl": [
           {
            "colorbar": {
             "outlinewidth": 0,
             "ticks": ""
            },
            "colorscale": [
             [
              0,
              "#0d0887"
             ],
             [
              0.1111111111111111,
              "#46039f"
             ],
             [
              0.2222222222222222,
              "#7201a8"
             ],
             [
              0.3333333333333333,
              "#9c179e"
             ],
             [
              0.4444444444444444,
              "#bd3786"
             ],
             [
              0.5555555555555556,
              "#d8576b"
             ],
             [
              0.6666666666666666,
              "#ed7953"
             ],
             [
              0.7777777777777778,
              "#fb9f3a"
             ],
             [
              0.8888888888888888,
              "#fdca26"
             ],
             [
              1,
              "#f0f921"
             ]
            ],
            "type": "heatmapgl"
           }
          ],
          "histogram": [
           {
            "marker": {
             "pattern": {
              "fillmode": "overlay",
              "size": 10,
              "solidity": 0.2
             }
            },
            "type": "histogram"
           }
          ],
          "histogram2d": [
           {
            "colorbar": {
             "outlinewidth": 0,
             "ticks": ""
            },
            "colorscale": [
             [
              0,
              "#0d0887"
             ],
             [
              0.1111111111111111,
              "#46039f"
             ],
             [
              0.2222222222222222,
              "#7201a8"
             ],
             [
              0.3333333333333333,
              "#9c179e"
             ],
             [
              0.4444444444444444,
              "#bd3786"
             ],
             [
              0.5555555555555556,
              "#d8576b"
             ],
             [
              0.6666666666666666,
              "#ed7953"
             ],
             [
              0.7777777777777778,
              "#fb9f3a"
             ],
             [
              0.8888888888888888,
              "#fdca26"
             ],
             [
              1,
              "#f0f921"
             ]
            ],
            "type": "histogram2d"
           }
          ],
          "histogram2dcontour": [
           {
            "colorbar": {
             "outlinewidth": 0,
             "ticks": ""
            },
            "colorscale": [
             [
              0,
              "#0d0887"
             ],
             [
              0.1111111111111111,
              "#46039f"
             ],
             [
              0.2222222222222222,
              "#7201a8"
             ],
             [
              0.3333333333333333,
              "#9c179e"
             ],
             [
              0.4444444444444444,
              "#bd3786"
             ],
             [
              0.5555555555555556,
              "#d8576b"
             ],
             [
              0.6666666666666666,
              "#ed7953"
             ],
             [
              0.7777777777777778,
              "#fb9f3a"
             ],
             [
              0.8888888888888888,
              "#fdca26"
             ],
             [
              1,
              "#f0f921"
             ]
            ],
            "type": "histogram2dcontour"
           }
          ],
          "mesh3d": [
           {
            "colorbar": {
             "outlinewidth": 0,
             "ticks": ""
            },
            "type": "mesh3d"
           }
          ],
          "parcoords": [
           {
            "line": {
             "colorbar": {
              "outlinewidth": 0,
              "ticks": ""
             }
            },
            "type": "parcoords"
           }
          ],
          "pie": [
           {
            "automargin": true,
            "type": "pie"
           }
          ],
          "scatter": [
           {
            "marker": {
             "colorbar": {
              "outlinewidth": 0,
              "ticks": ""
             }
            },
            "type": "scatter"
           }
          ],
          "scatter3d": [
           {
            "line": {
             "colorbar": {
              "outlinewidth": 0,
              "ticks": ""
             }
            },
            "marker": {
             "colorbar": {
              "outlinewidth": 0,
              "ticks": ""
             }
            },
            "type": "scatter3d"
           }
          ],
          "scattercarpet": [
           {
            "marker": {
             "colorbar": {
              "outlinewidth": 0,
              "ticks": ""
             }
            },
            "type": "scattercarpet"
           }
          ],
          "scattergeo": [
           {
            "marker": {
             "colorbar": {
              "outlinewidth": 0,
              "ticks": ""
             }
            },
            "type": "scattergeo"
           }
          ],
          "scattergl": [
           {
            "marker": {
             "colorbar": {
              "outlinewidth": 0,
              "ticks": ""
             }
            },
            "type": "scattergl"
           }
          ],
          "scattermapbox": [
           {
            "marker": {
             "colorbar": {
              "outlinewidth": 0,
              "ticks": ""
             }
            },
            "type": "scattermapbox"
           }
          ],
          "scatterpolar": [
           {
            "marker": {
             "colorbar": {
              "outlinewidth": 0,
              "ticks": ""
             }
            },
            "type": "scatterpolar"
           }
          ],
          "scatterpolargl": [
           {
            "marker": {
             "colorbar": {
              "outlinewidth": 0,
              "ticks": ""
             }
            },
            "type": "scatterpolargl"
           }
          ],
          "scatterternary": [
           {
            "marker": {
             "colorbar": {
              "outlinewidth": 0,
              "ticks": ""
             }
            },
            "type": "scatterternary"
           }
          ],
          "surface": [
           {
            "colorbar": {
             "outlinewidth": 0,
             "ticks": ""
            },
            "colorscale": [
             [
              0,
              "#0d0887"
             ],
             [
              0.1111111111111111,
              "#46039f"
             ],
             [
              0.2222222222222222,
              "#7201a8"
             ],
             [
              0.3333333333333333,
              "#9c179e"
             ],
             [
              0.4444444444444444,
              "#bd3786"
             ],
             [
              0.5555555555555556,
              "#d8576b"
             ],
             [
              0.6666666666666666,
              "#ed7953"
             ],
             [
              0.7777777777777778,
              "#fb9f3a"
             ],
             [
              0.8888888888888888,
              "#fdca26"
             ],
             [
              1,
              "#f0f921"
             ]
            ],
            "type": "surface"
           }
          ],
          "table": [
           {
            "cells": {
             "fill": {
              "color": "#EBF0F8"
             },
             "line": {
              "color": "white"
             }
            },
            "header": {
             "fill": {
              "color": "#C8D4E3"
             },
             "line": {
              "color": "white"
             }
            },
            "type": "table"
           }
          ]
         },
         "layout": {
          "annotationdefaults": {
           "arrowcolor": "#2a3f5f",
           "arrowhead": 0,
           "arrowwidth": 1
          },
          "autotypenumbers": "strict",
          "coloraxis": {
           "colorbar": {
            "outlinewidth": 0,
            "ticks": ""
           }
          },
          "colorscale": {
           "diverging": [
            [
             0,
             "#8e0152"
            ],
            [
             0.1,
             "#c51b7d"
            ],
            [
             0.2,
             "#de77ae"
            ],
            [
             0.3,
             "#f1b6da"
            ],
            [
             0.4,
             "#fde0ef"
            ],
            [
             0.5,
             "#f7f7f7"
            ],
            [
             0.6,
             "#e6f5d0"
            ],
            [
             0.7,
             "#b8e186"
            ],
            [
             0.8,
             "#7fbc41"
            ],
            [
             0.9,
             "#4d9221"
            ],
            [
             1,
             "#276419"
            ]
           ],
           "sequential": [
            [
             0,
             "#0d0887"
            ],
            [
             0.1111111111111111,
             "#46039f"
            ],
            [
             0.2222222222222222,
             "#7201a8"
            ],
            [
             0.3333333333333333,
             "#9c179e"
            ],
            [
             0.4444444444444444,
             "#bd3786"
            ],
            [
             0.5555555555555556,
             "#d8576b"
            ],
            [
             0.6666666666666666,
             "#ed7953"
            ],
            [
             0.7777777777777778,
             "#fb9f3a"
            ],
            [
             0.8888888888888888,
             "#fdca26"
            ],
            [
             1,
             "#f0f921"
            ]
           ],
           "sequentialminus": [
            [
             0,
             "#0d0887"
            ],
            [
             0.1111111111111111,
             "#46039f"
            ],
            [
             0.2222222222222222,
             "#7201a8"
            ],
            [
             0.3333333333333333,
             "#9c179e"
            ],
            [
             0.4444444444444444,
             "#bd3786"
            ],
            [
             0.5555555555555556,
             "#d8576b"
            ],
            [
             0.6666666666666666,
             "#ed7953"
            ],
            [
             0.7777777777777778,
             "#fb9f3a"
            ],
            [
             0.8888888888888888,
             "#fdca26"
            ],
            [
             1,
             "#f0f921"
            ]
           ]
          },
          "colorway": [
           "#636efa",
           "#EF553B",
           "#00cc96",
           "#ab63fa",
           "#FFA15A",
           "#19d3f3",
           "#FF6692",
           "#B6E880",
           "#FF97FF",
           "#FECB52"
          ],
          "font": {
           "color": "#2a3f5f"
          },
          "geo": {
           "bgcolor": "white",
           "lakecolor": "white",
           "landcolor": "white",
           "showlakes": true,
           "showland": true,
           "subunitcolor": "#C8D4E3"
          },
          "hoverlabel": {
           "align": "left"
          },
          "hovermode": "closest",
          "mapbox": {
           "style": "light"
          },
          "paper_bgcolor": "white",
          "plot_bgcolor": "white",
          "polar": {
           "angularaxis": {
            "gridcolor": "#EBF0F8",
            "linecolor": "#EBF0F8",
            "ticks": ""
           },
           "bgcolor": "white",
           "radialaxis": {
            "gridcolor": "#EBF0F8",
            "linecolor": "#EBF0F8",
            "ticks": ""
           }
          },
          "scene": {
           "xaxis": {
            "backgroundcolor": "white",
            "gridcolor": "#DFE8F3",
            "gridwidth": 2,
            "linecolor": "#EBF0F8",
            "showbackground": true,
            "ticks": "",
            "zerolinecolor": "#EBF0F8"
           },
           "yaxis": {
            "backgroundcolor": "white",
            "gridcolor": "#DFE8F3",
            "gridwidth": 2,
            "linecolor": "#EBF0F8",
            "showbackground": true,
            "ticks": "",
            "zerolinecolor": "#EBF0F8"
           },
           "zaxis": {
            "backgroundcolor": "white",
            "gridcolor": "#DFE8F3",
            "gridwidth": 2,
            "linecolor": "#EBF0F8",
            "showbackground": true,
            "ticks": "",
            "zerolinecolor": "#EBF0F8"
           }
          },
          "shapedefaults": {
           "line": {
            "color": "#2a3f5f"
           }
          },
          "ternary": {
           "aaxis": {
            "gridcolor": "#DFE8F3",
            "linecolor": "#A2B1C6",
            "ticks": ""
           },
           "baxis": {
            "gridcolor": "#DFE8F3",
            "linecolor": "#A2B1C6",
            "ticks": ""
           },
           "bgcolor": "white",
           "caxis": {
            "gridcolor": "#DFE8F3",
            "linecolor": "#A2B1C6",
            "ticks": ""
           }
          },
          "title": {
           "x": 0.05
          },
          "xaxis": {
           "automargin": true,
           "gridcolor": "#EBF0F8",
           "linecolor": "#EBF0F8",
           "ticks": "",
           "title": {
            "standoff": 15
           },
           "zerolinecolor": "#EBF0F8",
           "zerolinewidth": 2
          },
          "yaxis": {
           "automargin": true,
           "gridcolor": "#EBF0F8",
           "linecolor": "#EBF0F8",
           "ticks": "",
           "title": {
            "standoff": 15
           },
           "zerolinecolor": "#EBF0F8",
           "zerolinewidth": 2
          }
         }
        },
        "title": {
         "text": "Boxplot cech w zależności od klasy ZGON"
        },
        "width": 1000,
        "xaxis": {
         "anchor": "y",
         "domain": [
          0,
          1
         ],
         "tickfont": {
          "size": 14
         },
         "title": {
          "text": "Cecha"
         }
        },
        "yaxis": {
         "anchor": "x",
         "domain": [
          0,
          1
         ],
         "tickfont": {
          "size": 14
         },
         "title": {
          "text": "Wartość"
         }
        }
       }
      }
     },
     "metadata": {},
     "output_type": "display_data"
    }
   ],
   "source": [
    "# cols = names[rfecv.support_]\n",
    "# cols=[0, 1, 2, 3, 4, 5]\n",
    "cols=feature_names_skr\n",
    "my_blue=\"#0064B2\"\n",
    "my_red=\"#D61600\"\n",
    "fig = go.Figure()\n",
    "\n",
    "# for col in data_6_vars[cols]:  # Iteracja po wszystkich kolumnach oprócz ZGON\n",
    "#     for zgon in data_6_vars['ZGON'].unique():\n",
    "#         subset = data_6_vars[data_6_vars['ZGON'] == zgon]\n",
    "#         side = \"negative\" if zgon == 0 else \"positive\"\n",
    "#         color = my_blue if zgon == 0 else my_red\n",
    "\n",
    "#         fig.add_trace(go.Violin(y=subset[col], box_visible=True, name=f\"{col}\",\n",
    "#                                 side=side, line_color=color, box={'visible': True}, opacity=0.8))\n",
    "\n",
    "\n",
    "# for col in cols:\n",
    "#     fig.add_trace(go.Box(y=data_6_vars[col][data_6_vars[\"ZGON\"] == 1], \n",
    "#                          name=f\"{col}\",\n",
    "#                          marker_color=my_red))\n",
    "    \n",
    "#     fig.add_trace(go.Box(y=data_6_vars[col][data_6_vars[\"ZGON\"] == 0], \n",
    "#                          name=f\"{col}\",\n",
    "#                          marker_color=my_blue))     \n",
    "\n",
    "\n",
    "# Użycie pd.melt() do przekształcenia ramki danych do długiego formatu\n",
    "melted_data = pd.melt(data_6_vars, id_vars=[\"ZGON\"], value_vars=cols,\n",
    "                      var_name=\"Cecha\", value_name=\"Wartość\")\n",
    "\n",
    "# Tworzenie wykresu boxplot za pomocą Plotly Express\n",
    "fig = px.box(melted_data, x=\"Cecha\", y=\"Wartość\", color=\"ZGON\",\n",
    "             title=\"Boxplot cech w zależności od klasy ZGON\",\n",
    "             labels={\"Cecha\": \"Cecha\", \"Wartość\": \"Wartość\", \"ZGON\": \"Klasa ZGON\"})\n",
    "\n",
    "# Dostosowanie rozmiaru czcionki osi x i y\n",
    "fig.update_layout(xaxis=dict(tickfont=dict(size=14)), yaxis=dict(tickfont=dict(size=14)))\n",
    "fig.update_layout(showlegend=False)\n",
    "fig.update_layout(height=600, width=1000)\n",
    "fig.update_layout(template=\"plotly_white\")\n",
    "fig.show()\n",
    "# fig.write_image(\"images1/rozklad_parametrow.png\", format=\"png\", scale=3)"
   ]
  },
  {
   "cell_type": "code",
   "execution_count": 297,
   "metadata": {},
   "outputs": [
    {
     "data": {
      "text/plain": [
       "PACJENT_NR                                                                      80.000000\n",
       "ZGON                                                                             1.000000\n",
       "BETET__minimum                                                                   2.000000\n",
       "BETET__maximum                                                                   3.978261\n",
       "BETET__mean                                                                      2.875362\n",
       "                                                                                  ...    \n",
       "euclidean_kw_skum__linear_trend__attr_\"slope\"                                    0.631768\n",
       "euclidean_kw_skum__agg_linear_trend__attr_\"slope\"__chunk_len_3__f_agg_\"mean\"     1.871573\n",
       "euclidean_kw_skum__agg_linear_trend__attr_\"slope\"__chunk_len_6__f_agg_\"mean\"     3.167514\n",
       "euclidean_kw_skum__agg_linear_trend__attr_\"slope\"__chunk_len_3__f_agg_\"max\"      1.697348\n",
       "euclidean_kw_skum__agg_linear_trend__attr_\"slope\"__chunk_len_6__f_agg_\"max\"      2.603618\n",
       "Name: 59, Length: 324, dtype: float64"
      ]
     },
     "execution_count": 297,
     "metadata": {},
     "output_type": "execute_result"
    }
   ],
   "source": [
    "data_with_features.iloc[59, :]"
   ]
  },
  {
   "cell_type": "code",
   "execution_count": 277,
   "metadata": {},
   "outputs": [
    {
     "data": {
      "text/plain": [
       "Index(['BETET_kw__number_peaks__n_2', 'BETET_kw__first_location_of_minimum',\n",
       "       'HCO3STTE_kw__first_location_of_maximum', 'IONH_kw__number_peaks__n_2',\n",
       "       'IONH_kw__first_location_of_maximum',\n",
       "       'euclidean_kw__agg_linear_trend__attr_\"slope\"__chunk_len_6__f_agg_\"mean\"'],\n",
       "      dtype='object')"
      ]
     },
     "execution_count": 277,
     "metadata": {},
     "output_type": "execute_result"
    }
   ],
   "source": [
    "names[rfecv.support_]"
   ]
  },
  {
   "cell_type": "code",
   "execution_count": 278,
   "metadata": {},
   "outputs": [
    {
     "data": {
      "image/png": "[encoded data removed]",
      "text/plain": [
       "<Figure size 576x432 with 1 Axes>"
      ]
     },
     "metadata": {
      "needs_background": "light"
     },
     "output_type": "display_data"
    }
   ],
   "source": [
    "# Krzywe ROC\n",
    "plt.figure(figsize=(8, 6))\n",
    "for name, (model_type, best_params) in best_models_rfe.items():\n",
    "    model = model_type(**best_params)\n",
    "    model.fit(X_train_rfecv, y_train)\n",
    "    y_pred = model.predict(X_test_rfecv)\n",
    "    fpr, tpr, roc_auc= model_evaluate(model, X_train_rfecv, X_test_rfecv, y_train, y_test)\n",
    "    plt.plot(fpr, tpr, lw=2, label=f'{name} (AUC = {roc_auc:.2f})')  # Grubsze linie\n",
    "\n",
    "# Dodanie linii diagonalnej\n",
    "plt.plot([0, 1], [0, 1], 'k--', lw=2)\n",
    "\n",
    "# Ustawienia osi\n",
    "plt.xlim([0.0, 1.0])\n",
    "plt.ylim([0.0, 1.05])\n",
    "\n",
    "# Powiększenie napisów przy osiach\n",
    "plt.xlabel('Odsetek fałszywie pozytywnych', fontsize=14)\n",
    "plt.ylabel('Odsetek prawdziwie pozytywnych', fontsize=14)\n",
    "\n",
    "# Powiększenie legendy\n",
    "plt.legend(loc='lower right', fontsize=12)\n",
    "\n",
    "plt.savefig(\"images5/roc_rfe.png\")\n",
    "# Wyświetlenie wykresu\n",
    "plt.show()\n",
    "\n"
   ]
  },
  {
   "cell_type": "markdown",
   "metadata": {},
   "source": [
    "### Klasyfikacja w czasie"
   ]
  },
  {
   "cell_type": "code",
   "execution_count": 300,
   "metadata": {},
   "outputs": [],
   "source": [
    "chosen_vars=['BETET_kw', 'HCO3STTE_kw', 'IONH_kw', 'euclidean_kw']\n",
    "\n",
    "data_to_extract2=data_to_extract[['PACJENT_NR', 'BADANIE_NR', *chosen_vars]]\n",
    "\n",
    "selected_features_dict = {\n",
    "    'BETET_kw': {\n",
    "        'number_peaks': [{'n': 2}],\n",
    "        'first_location_of_minimum': None\n",
    "    },\n",
    "    'IONH_kw': {\n",
    "        'number_peaks': [{'n': 2}],\n",
    "        'first_location_of_maximum': None\n",
    "    },\n",
    "    'HCO3STTE_kw': {\n",
    "        'first_location_of_maximum': None\n",
    "    },\n",
    "    'euclidean_kw': {\n",
    "        'agg_linear_trend': [{'f_agg': 'mean', 'chunk_len': 6, 'attr': 'slope'}]\n",
    "    }\n",
    "}"
   ]
  },
  {
   "cell_type": "code",
   "execution_count": null,
   "metadata": {},
   "outputs": [],
   "source": [
    "from sklearn.utils import resample"
   ]
  },
  {
   "cell_type": "code",
   "execution_count": null,
   "metadata": {},
   "outputs": [],
   "source": [
    "X_data.shape"
   ]
  },
  {
   "cell_type": "code",
   "execution_count": 302,
   "metadata": {},
   "outputs": [
    {
     "name": "stderr",
     "output_type": "stream",
     "text": [
      "Feature Extraction: 100%|██████████| 18/18 [00:03<00:00,  5.88it/s]\n",
      "Feature Extraction: 100%|██████████| 18/18 [00:02<00:00,  6.23it/s]\n",
      "Feature Extraction: 100%|██████████| 18/18 [00:02<00:00,  6.03it/s]\n",
      "Feature Extraction: 100%|██████████| 18/18 [00:03<00:00,  5.94it/s]\n",
      "c:\\Users\\dorot\\AppData\\Local\\Programs\\Python\\Python39\\lib\\site-packages\\sklearn\\metrics\\_classification.py:1509: UndefinedMetricWarning:\n",
      "\n",
      "Precision is ill-defined and being set to 0.0 due to no predicted samples. Use `zero_division` parameter to control this behavior.\n",
      "\n",
      "c:\\Users\\dorot\\AppData\\Local\\Programs\\Python\\Python39\\lib\\site-packages\\sklearn\\metrics\\_classification.py:1509: UndefinedMetricWarning:\n",
      "\n",
      "Precision is ill-defined and being set to 0.0 due to no predicted samples. Use `zero_division` parameter to control this behavior.\n",
      "\n",
      "c:\\Users\\dorot\\AppData\\Local\\Programs\\Python\\Python39\\lib\\site-packages\\sklearn\\metrics\\_classification.py:1509: UndefinedMetricWarning:\n",
      "\n",
      "Precision is ill-defined and being set to 0.0 due to no predicted samples. Use `zero_division` parameter to control this behavior.\n",
      "\n",
      "c:\\Users\\dorot\\AppData\\Local\\Programs\\Python\\Python39\\lib\\site-packages\\sklearn\\metrics\\_classification.py:1509: UndefinedMetricWarning:\n",
      "\n",
      "Precision is ill-defined and being set to 0.0 due to no predicted samples. Use `zero_division` parameter to control this behavior.\n",
      "\n",
      "c:\\Users\\dorot\\AppData\\Local\\Programs\\Python\\Python39\\lib\\site-packages\\sklearn\\metrics\\_classification.py:1509: UndefinedMetricWarning:\n",
      "\n",
      "Precision is ill-defined and being set to 0.0 due to no predicted samples. Use `zero_division` parameter to control this behavior.\n",
      "\n",
      "c:\\Users\\dorot\\AppData\\Local\\Programs\\Python\\Python39\\lib\\site-packages\\sklearn\\metrics\\_classification.py:1509: UndefinedMetricWarning:\n",
      "\n",
      "Precision is ill-defined and being set to 0.0 due to no predicted samples. Use `zero_division` parameter to control this behavior.\n",
      "\n",
      "c:\\Users\\dorot\\AppData\\Local\\Programs\\Python\\Python39\\lib\\site-packages\\sklearn\\metrics\\_classification.py:1509: UndefinedMetricWarning:\n",
      "\n",
      "Precision is ill-defined and being set to 0.0 due to no predicted samples. Use `zero_division` parameter to control this behavior.\n",
      "\n",
      "c:\\Users\\dorot\\AppData\\Local\\Programs\\Python\\Python39\\lib\\site-packages\\sklearn\\metrics\\_classification.py:1509: UndefinedMetricWarning:\n",
      "\n",
      "Precision is ill-defined and being set to 0.0 due to no predicted samples. Use `zero_division` parameter to control this behavior.\n",
      "\n",
      "c:\\Users\\dorot\\AppData\\Local\\Programs\\Python\\Python39\\lib\\site-packages\\sklearn\\metrics\\_classification.py:1509: UndefinedMetricWarning:\n",
      "\n",
      "Precision is ill-defined and being set to 0.0 due to no predicted samples. Use `zero_division` parameter to control this behavior.\n",
      "\n",
      "c:\\Users\\dorot\\AppData\\Local\\Programs\\Python\\Python39\\lib\\site-packages\\sklearn\\metrics\\_classification.py:1509: UndefinedMetricWarning:\n",
      "\n",
      "Precision is ill-defined and being set to 0.0 due to no predicted samples. Use `zero_division` parameter to control this behavior.\n",
      "\n",
      "c:\\Users\\dorot\\AppData\\Local\\Programs\\Python\\Python39\\lib\\site-packages\\sklearn\\metrics\\_classification.py:1509: UndefinedMetricWarning:\n",
      "\n",
      "Precision is ill-defined and being set to 0.0 due to no predicted samples. Use `zero_division` parameter to control this behavior.\n",
      "\n",
      "c:\\Users\\dorot\\AppData\\Local\\Programs\\Python\\Python39\\lib\\site-packages\\sklearn\\metrics\\_classification.py:1509: UndefinedMetricWarning:\n",
      "\n",
      "Precision is ill-defined and being set to 0.0 due to no predicted samples. Use `zero_division` parameter to control this behavior.\n",
      "\n",
      "c:\\Users\\dorot\\AppData\\Local\\Programs\\Python\\Python39\\lib\\site-packages\\sklearn\\metrics\\_classification.py:1509: UndefinedMetricWarning:\n",
      "\n",
      "Precision is ill-defined and being set to 0.0 due to no predicted samples. Use `zero_division` parameter to control this behavior.\n",
      "\n",
      "c:\\Users\\dorot\\AppData\\Local\\Programs\\Python\\Python39\\lib\\site-packages\\sklearn\\metrics\\_classification.py:1509: UndefinedMetricWarning:\n",
      "\n",
      "Precision is ill-defined and being set to 0.0 due to no predicted samples. Use `zero_division` parameter to control this behavior.\n",
      "\n",
      "c:\\Users\\dorot\\AppData\\Local\\Programs\\Python\\Python39\\lib\\site-packages\\sklearn\\metrics\\_classification.py:1509: UndefinedMetricWarning:\n",
      "\n",
      "Precision is ill-defined and being set to 0.0 due to no predicted samples. Use `zero_division` parameter to control this behavior.\n",
      "\n",
      "c:\\Users\\dorot\\AppData\\Local\\Programs\\Python\\Python39\\lib\\site-packages\\sklearn\\metrics\\_classification.py:1509: UndefinedMetricWarning:\n",
      "\n",
      "Precision is ill-defined and being set to 0.0 due to no predicted samples. Use `zero_division` parameter to control this behavior.\n",
      "\n",
      "c:\\Users\\dorot\\AppData\\Local\\Programs\\Python\\Python39\\lib\\site-packages\\sklearn\\metrics\\_classification.py:1509: UndefinedMetricWarning:\n",
      "\n",
      "Precision is ill-defined and being set to 0.0 due to no predicted samples. Use `zero_division` parameter to control this behavior.\n",
      "\n",
      "c:\\Users\\dorot\\AppData\\Local\\Programs\\Python\\Python39\\lib\\site-packages\\sklearn\\metrics\\_classification.py:1509: UndefinedMetricWarning:\n",
      "\n",
      "Precision is ill-defined and being set to 0.0 due to no predicted samples. Use `zero_division` parameter to control this behavior.\n",
      "\n",
      "c:\\Users\\dorot\\AppData\\Local\\Programs\\Python\\Python39\\lib\\site-packages\\sklearn\\metrics\\_classification.py:1509: UndefinedMetricWarning:\n",
      "\n",
      "Precision is ill-defined and being set to 0.0 due to no predicted samples. Use `zero_division` parameter to control this behavior.\n",
      "\n",
      "c:\\Users\\dorot\\AppData\\Local\\Programs\\Python\\Python39\\lib\\site-packages\\sklearn\\metrics\\_classification.py:1509: UndefinedMetricWarning:\n",
      "\n",
      "Precision is ill-defined and being set to 0.0 due to no predicted samples. Use `zero_division` parameter to control this behavior.\n",
      "\n",
      "c:\\Users\\dorot\\AppData\\Local\\Programs\\Python\\Python39\\lib\\site-packages\\sklearn\\metrics\\_classification.py:1509: UndefinedMetricWarning:\n",
      "\n",
      "Precision is ill-defined and being set to 0.0 due to no predicted samples. Use `zero_division` parameter to control this behavior.\n",
      "\n",
      "c:\\Users\\dorot\\AppData\\Local\\Programs\\Python\\Python39\\lib\\site-packages\\sklearn\\metrics\\_classification.py:1509: UndefinedMetricWarning:\n",
      "\n",
      "Precision is ill-defined and being set to 0.0 due to no predicted samples. Use `zero_division` parameter to control this behavior.\n",
      "\n",
      "c:\\Users\\dorot\\AppData\\Local\\Programs\\Python\\Python39\\lib\\site-packages\\sklearn\\metrics\\_classification.py:1509: UndefinedMetricWarning:\n",
      "\n",
      "Precision is ill-defined and being set to 0.0 due to no predicted samples. Use `zero_division` parameter to control this behavior.\n",
      "\n",
      "c:\\Users\\dorot\\AppData\\Local\\Programs\\Python\\Python39\\lib\\site-packages\\sklearn\\metrics\\_classification.py:1509: UndefinedMetricWarning:\n",
      "\n",
      "Precision is ill-defined and being set to 0.0 due to no predicted samples. Use `zero_division` parameter to control this behavior.\n",
      "\n",
      "c:\\Users\\dorot\\AppData\\Local\\Programs\\Python\\Python39\\lib\\site-packages\\sklearn\\metrics\\_classification.py:1509: UndefinedMetricWarning:\n",
      "\n",
      "Precision is ill-defined and being set to 0.0 due to no predicted samples. Use `zero_division` parameter to control this behavior.\n",
      "\n",
      "c:\\Users\\dorot\\AppData\\Local\\Programs\\Python\\Python39\\lib\\site-packages\\sklearn\\metrics\\_classification.py:1509: UndefinedMetricWarning:\n",
      "\n",
      "Precision is ill-defined and being set to 0.0 due to no predicted samples. Use `zero_division` parameter to control this behavior.\n",
      "\n",
      "c:\\Users\\dorot\\AppData\\Local\\Programs\\Python\\Python39\\lib\\site-packages\\sklearn\\metrics\\_classification.py:1509: UndefinedMetricWarning:\n",
      "\n",
      "Precision is ill-defined and being set to 0.0 due to no predicted samples. Use `zero_division` parameter to control this behavior.\n",
      "\n",
      "c:\\Users\\dorot\\AppData\\Local\\Programs\\Python\\Python39\\lib\\site-packages\\sklearn\\metrics\\_classification.py:1509: UndefinedMetricWarning:\n",
      "\n",
      "Precision is ill-defined and being set to 0.0 due to no predicted samples. Use `zero_division` parameter to control this behavior.\n",
      "\n",
      "c:\\Users\\dorot\\AppData\\Local\\Programs\\Python\\Python39\\lib\\site-packages\\sklearn\\metrics\\_classification.py:1509: UndefinedMetricWarning:\n",
      "\n",
      "Precision is ill-defined and being set to 0.0 due to no predicted samples. Use `zero_division` parameter to control this behavior.\n",
      "\n",
      "c:\\Users\\dorot\\AppData\\Local\\Programs\\Python\\Python39\\lib\\site-packages\\sklearn\\metrics\\_classification.py:1509: UndefinedMetricWarning:\n",
      "\n",
      "Precision is ill-defined and being set to 0.0 due to no predicted samples. Use `zero_division` parameter to control this behavior.\n",
      "\n",
      "c:\\Users\\dorot\\AppData\\Local\\Programs\\Python\\Python39\\lib\\site-packages\\sklearn\\metrics\\_classification.py:1509: UndefinedMetricWarning:\n",
      "\n",
      "Precision is ill-defined and being set to 0.0 due to no predicted samples. Use `zero_division` parameter to control this behavior.\n",
      "\n",
      "c:\\Users\\dorot\\AppData\\Local\\Programs\\Python\\Python39\\lib\\site-packages\\sklearn\\metrics\\_classification.py:1509: UndefinedMetricWarning:\n",
      "\n",
      "Precision is ill-defined and being set to 0.0 due to no predicted samples. Use `zero_division` parameter to control this behavior.\n",
      "\n",
      "c:\\Users\\dorot\\AppData\\Local\\Programs\\Python\\Python39\\lib\\site-packages\\sklearn\\metrics\\_classification.py:1509: UndefinedMetricWarning:\n",
      "\n",
      "Precision is ill-defined and being set to 0.0 due to no predicted samples. Use `zero_division` parameter to control this behavior.\n",
      "\n",
      "c:\\Users\\dorot\\AppData\\Local\\Programs\\Python\\Python39\\lib\\site-packages\\sklearn\\metrics\\_classification.py:1509: UndefinedMetricWarning:\n",
      "\n",
      "Precision is ill-defined and being set to 0.0 due to no predicted samples. Use `zero_division` parameter to control this behavior.\n",
      "\n",
      "c:\\Users\\dorot\\AppData\\Local\\Programs\\Python\\Python39\\lib\\site-packages\\sklearn\\metrics\\_classification.py:1509: UndefinedMetricWarning:\n",
      "\n",
      "Precision is ill-defined and being set to 0.0 due to no predicted samples. Use `zero_division` parameter to control this behavior.\n",
      "\n",
      "c:\\Users\\dorot\\AppData\\Local\\Programs\\Python\\Python39\\lib\\site-packages\\sklearn\\metrics\\_classification.py:1509: UndefinedMetricWarning:\n",
      "\n",
      "Precision is ill-defined and being set to 0.0 due to no predicted samples. Use `zero_division` parameter to control this behavior.\n",
      "\n",
      "c:\\Users\\dorot\\AppData\\Local\\Programs\\Python\\Python39\\lib\\site-packages\\sklearn\\metrics\\_classification.py:1509: UndefinedMetricWarning:\n",
      "\n",
      "Precision is ill-defined and being set to 0.0 due to no predicted samples. Use `zero_division` parameter to control this behavior.\n",
      "\n",
      "c:\\Users\\dorot\\AppData\\Local\\Programs\\Python\\Python39\\lib\\site-packages\\sklearn\\metrics\\_classification.py:1509: UndefinedMetricWarning:\n",
      "\n",
      "Precision is ill-defined and being set to 0.0 due to no predicted samples. Use `zero_division` parameter to control this behavior.\n",
      "\n",
      "c:\\Users\\dorot\\AppData\\Local\\Programs\\Python\\Python39\\lib\\site-packages\\sklearn\\metrics\\_classification.py:1509: UndefinedMetricWarning:\n",
      "\n",
      "Precision is ill-defined and being set to 0.0 due to no predicted samples. Use `zero_division` parameter to control this behavior.\n",
      "\n",
      "c:\\Users\\dorot\\AppData\\Local\\Programs\\Python\\Python39\\lib\\site-packages\\sklearn\\metrics\\_classification.py:1509: UndefinedMetricWarning:\n",
      "\n",
      "Precision is ill-defined and being set to 0.0 due to no predicted samples. Use `zero_division` parameter to control this behavior.\n",
      "\n",
      "c:\\Users\\dorot\\AppData\\Local\\Programs\\Python\\Python39\\lib\\site-packages\\sklearn\\metrics\\_classification.py:1509: UndefinedMetricWarning:\n",
      "\n",
      "Precision is ill-defined and being set to 0.0 due to no predicted samples. Use `zero_division` parameter to control this behavior.\n",
      "\n",
      "c:\\Users\\dorot\\AppData\\Local\\Programs\\Python\\Python39\\lib\\site-packages\\sklearn\\metrics\\_classification.py:1509: UndefinedMetricWarning:\n",
      "\n",
      "Precision is ill-defined and being set to 0.0 due to no predicted samples. Use `zero_division` parameter to control this behavior.\n",
      "\n",
      "c:\\Users\\dorot\\AppData\\Local\\Programs\\Python\\Python39\\lib\\site-packages\\sklearn\\model_selection\\_validation.py:547: FitFailedWarning:\n",
      "\n",
      "\n",
      "8 fits failed out of a total of 12.\n",
      "The score on these train-test partitions for these parameters will be set to nan.\n",
      "If these failures are not expected, you can try to debug them by setting error_score='raise'.\n",
      "\n",
      "Below are more details about the failures:\n",
      "--------------------------------------------------------------------------------\n",
      "4 fits failed with the following error:\n",
      "Traceback (most recent call last):\n",
      "  File \"c:\\Users\\dorot\\AppData\\Local\\Programs\\Python\\Python39\\lib\\site-packages\\sklearn\\model_selection\\_validation.py\", line 895, in _fit_and_score\n",
      "    estimator.fit(X_train, y_train, **fit_params)\n",
      "  File \"c:\\Users\\dorot\\AppData\\Local\\Programs\\Python\\Python39\\lib\\site-packages\\sklearn\\base.py\", line 1474, in wrapper\n",
      "    return fit_method(estimator, *args, **kwargs)\n",
      "  File \"c:\\Users\\dorot\\AppData\\Local\\Programs\\Python\\Python39\\lib\\site-packages\\sklearn\\discriminant_analysis.py\", line 628, in fit\n",
      "    self._solve_svd(X, y)\n",
      "  File \"c:\\Users\\dorot\\AppData\\Local\\Programs\\Python\\Python39\\lib\\site-packages\\sklearn\\discriminant_analysis.py\", line 537, in _solve_svd\n",
      "    _, S, Vt = svd(X, full_matrices=False)\n",
      "  File \"c:\\Users\\dorot\\AppData\\Local\\Programs\\Python\\Python39\\lib\\site-packages\\scipy\\linalg\\_decomp_svd.py\", line 123, in svd\n",
      "    lwork = _compute_lwork(gesXd_lwork, a1.shape[0], a1.shape[1],\n",
      "  File \"c:\\Users\\dorot\\AppData\\Local\\Programs\\Python\\Python39\\lib\\site-packages\\scipy\\linalg\\lapack.py\", line 1007, in _compute_lwork\n",
      "    raise ValueError(\"Internal work array size computation failed: \"\n",
      "ValueError: Internal work array size computation failed: -10\n",
      "\n",
      "--------------------------------------------------------------------------------\n",
      "4 fits failed with the following error:\n",
      "Traceback (most recent call last):\n",
      "  File \"c:\\Users\\dorot\\AppData\\Local\\Programs\\Python\\Python39\\lib\\site-packages\\sklearn\\model_selection\\_validation.py\", line 895, in _fit_and_score\n",
      "    estimator.fit(X_train, y_train, **fit_params)\n",
      "  File \"c:\\Users\\dorot\\AppData\\Local\\Programs\\Python\\Python39\\lib\\site-packages\\sklearn\\base.py\", line 1474, in wrapper\n",
      "    return fit_method(estimator, *args, **kwargs)\n",
      "  File \"c:\\Users\\dorot\\AppData\\Local\\Programs\\Python\\Python39\\lib\\site-packages\\sklearn\\discriminant_analysis.py\", line 637, in fit\n",
      "    self._solve_eigen(\n",
      "  File \"c:\\Users\\dorot\\AppData\\Local\\Programs\\Python\\Python39\\lib\\site-packages\\sklearn\\discriminant_analysis.py\", line 467, in _solve_eigen\n",
      "    evals, evecs = linalg.eigh(Sb, Sw)\n",
      "  File \"c:\\Users\\dorot\\AppData\\Local\\Programs\\Python\\Python39\\lib\\site-packages\\scipy\\_lib\\deprecation.py\", line 213, in inner_f\n",
      "    return f(*args, **kwargs)\n",
      "  File \"c:\\Users\\dorot\\AppData\\Local\\Programs\\Python\\Python39\\lib\\site-packages\\scipy\\linalg\\_decomp.py\", line 593, in eigh\n",
      "    raise LinAlgError(f'The leading minor of order {info-n} of B is not '\n",
      "numpy.linalg.LinAlgError: The leading minor of order 1 of B is not positive definite. The factorization of B could not be completed and no eigenvalues or eigenvectors were computed.\n",
      "\n",
      "\n",
      "c:\\Users\\dorot\\AppData\\Local\\Programs\\Python\\Python39\\lib\\site-packages\\sklearn\\model_selection\\_search.py:1051: UserWarning:\n",
      "\n",
      "One or more of the test scores are non-finite: [       nan 0.51785714        nan]\n",
      "\n",
      "c:\\Users\\dorot\\AppData\\Local\\Programs\\Python\\Python39\\lib\\site-packages\\sklearn\\metrics\\_classification.py:1509: UndefinedMetricWarning:\n",
      "\n",
      "Precision is ill-defined and being set to 0.0 due to no predicted samples. Use `zero_division` parameter to control this behavior.\n",
      "\n",
      "c:\\Users\\dorot\\AppData\\Local\\Programs\\Python\\Python39\\lib\\site-packages\\sklearn\\metrics\\_classification.py:1509: UndefinedMetricWarning:\n",
      "\n",
      "Precision is ill-defined and being set to 0.0 due to no predicted samples. Use `zero_division` parameter to control this behavior.\n",
      "\n",
      "c:\\Users\\dorot\\AppData\\Local\\Programs\\Python\\Python39\\lib\\site-packages\\sklearn\\metrics\\_classification.py:1509: UndefinedMetricWarning:\n",
      "\n",
      "Precision is ill-defined and being set to 0.0 due to no predicted samples. Use `zero_division` parameter to control this behavior.\n",
      "\n",
      "c:\\Users\\dorot\\AppData\\Local\\Programs\\Python\\Python39\\lib\\site-packages\\sklearn\\metrics\\_classification.py:1509: UndefinedMetricWarning:\n",
      "\n",
      "Precision is ill-defined and being set to 0.0 due to no predicted samples. Use `zero_division` parameter to control this behavior.\n",
      "\n",
      "c:\\Users\\dorot\\AppData\\Local\\Programs\\Python\\Python39\\lib\\site-packages\\sklearn\\metrics\\_classification.py:1509: UndefinedMetricWarning:\n",
      "\n",
      "Precision is ill-defined and being set to 0.0 due to no predicted samples. Use `zero_division` parameter to control this behavior.\n",
      "\n",
      "c:\\Users\\dorot\\AppData\\Local\\Programs\\Python\\Python39\\lib\\site-packages\\sklearn\\metrics\\_classification.py:1509: UndefinedMetricWarning:\n",
      "\n",
      "Precision is ill-defined and being set to 0.0 due to no predicted samples. Use `zero_division` parameter to control this behavior.\n",
      "\n",
      "c:\\Users\\dorot\\AppData\\Local\\Programs\\Python\\Python39\\lib\\site-packages\\sklearn\\metrics\\_classification.py:1509: UndefinedMetricWarning:\n",
      "\n",
      "Precision is ill-defined and being set to 0.0 due to no predicted samples. Use `zero_division` parameter to control this behavior.\n",
      "\n",
      "c:\\Users\\dorot\\AppData\\Local\\Programs\\Python\\Python39\\lib\\site-packages\\sklearn\\metrics\\_classification.py:1509: UndefinedMetricWarning:\n",
      "\n",
      "Precision is ill-defined and being set to 0.0 due to no predicted samples. Use `zero_division` parameter to control this behavior.\n",
      "\n",
      "c:\\Users\\dorot\\AppData\\Local\\Programs\\Python\\Python39\\lib\\site-packages\\sklearn\\metrics\\_classification.py:1509: UndefinedMetricWarning:\n",
      "\n",
      "Precision is ill-defined and being set to 0.0 due to no predicted samples. Use `zero_division` parameter to control this behavior.\n",
      "\n",
      "c:\\Users\\dorot\\AppData\\Local\\Programs\\Python\\Python39\\lib\\site-packages\\sklearn\\metrics\\_classification.py:1509: UndefinedMetricWarning:\n",
      "\n",
      "Precision is ill-defined and being set to 0.0 due to no predicted samples. Use `zero_division` parameter to control this behavior.\n",
      "\n",
      "c:\\Users\\dorot\\AppData\\Local\\Programs\\Python\\Python39\\lib\\site-packages\\sklearn\\metrics\\_classification.py:1509: UndefinedMetricWarning:\n",
      "\n",
      "Precision is ill-defined and being set to 0.0 due to no predicted samples. Use `zero_division` parameter to control this behavior.\n",
      "\n",
      "c:\\Users\\dorot\\AppData\\Local\\Programs\\Python\\Python39\\lib\\site-packages\\sklearn\\metrics\\_classification.py:1509: UndefinedMetricWarning:\n",
      "\n",
      "Precision is ill-defined and being set to 0.0 due to no predicted samples. Use `zero_division` parameter to control this behavior.\n",
      "\n",
      "c:\\Users\\dorot\\AppData\\Local\\Programs\\Python\\Python39\\lib\\site-packages\\sklearn\\metrics\\_classification.py:1509: UndefinedMetricWarning:\n",
      "\n",
      "Precision is ill-defined and being set to 0.0 due to no predicted samples. Use `zero_division` parameter to control this behavior.\n",
      "\n",
      "c:\\Users\\dorot\\AppData\\Local\\Programs\\Python\\Python39\\lib\\site-packages\\sklearn\\metrics\\_classification.py:1509: UndefinedMetricWarning:\n",
      "\n",
      "Precision is ill-defined and being set to 0.0 due to no predicted samples. Use `zero_division` parameter to control this behavior.\n",
      "\n",
      "c:\\Users\\dorot\\AppData\\Local\\Programs\\Python\\Python39\\lib\\site-packages\\sklearn\\metrics\\_classification.py:1509: UndefinedMetricWarning:\n",
      "\n",
      "Precision is ill-defined and being set to 0.0 due to no predicted samples. Use `zero_division` parameter to control this behavior.\n",
      "\n",
      "c:\\Users\\dorot\\AppData\\Local\\Programs\\Python\\Python39\\lib\\site-packages\\sklearn\\metrics\\_classification.py:1509: UndefinedMetricWarning:\n",
      "\n",
      "Precision is ill-defined and being set to 0.0 due to no predicted samples. Use `zero_division` parameter to control this behavior.\n",
      "\n",
      "Feature Extraction: 100%|██████████| 18/18 [00:02<00:00,  6.04it/s]\n",
      "Feature Extraction: 100%|██████████| 18/18 [00:03<00:00,  5.91it/s]\n",
      "Feature Extraction: 100%|██████████| 18/18 [00:02<00:00,  6.06it/s]\n",
      "Feature Extraction: 100%|██████████| 18/18 [00:02<00:00,  6.22it/s]\n",
      "c:\\Users\\dorot\\AppData\\Local\\Programs\\Python\\Python39\\lib\\site-packages\\sklearn\\model_selection\\_validation.py:547: FitFailedWarning:\n",
      "\n",
      "\n",
      "4 fits failed out of a total of 12.\n",
      "The score on these train-test partitions for these parameters will be set to nan.\n",
      "If these failures are not expected, you can try to debug them by setting error_score='raise'.\n",
      "\n",
      "Below are more details about the failures:\n",
      "--------------------------------------------------------------------------------\n",
      "4 fits failed with the following error:\n",
      "Traceback (most recent call last):\n",
      "  File \"c:\\Users\\dorot\\AppData\\Local\\Programs\\Python\\Python39\\lib\\site-packages\\sklearn\\model_selection\\_validation.py\", line 895, in _fit_and_score\n",
      "    estimator.fit(X_train, y_train, **fit_params)\n",
      "  File \"c:\\Users\\dorot\\AppData\\Local\\Programs\\Python\\Python39\\lib\\site-packages\\sklearn\\base.py\", line 1474, in wrapper\n",
      "    return fit_method(estimator, *args, **kwargs)\n",
      "  File \"c:\\Users\\dorot\\AppData\\Local\\Programs\\Python\\Python39\\lib\\site-packages\\sklearn\\discriminant_analysis.py\", line 637, in fit\n",
      "    self._solve_eigen(\n",
      "  File \"c:\\Users\\dorot\\AppData\\Local\\Programs\\Python\\Python39\\lib\\site-packages\\sklearn\\discriminant_analysis.py\", line 467, in _solve_eigen\n",
      "    evals, evecs = linalg.eigh(Sb, Sw)\n",
      "  File \"c:\\Users\\dorot\\AppData\\Local\\Programs\\Python\\Python39\\lib\\site-packages\\scipy\\_lib\\deprecation.py\", line 213, in inner_f\n",
      "    return f(*args, **kwargs)\n",
      "  File \"c:\\Users\\dorot\\AppData\\Local\\Programs\\Python\\Python39\\lib\\site-packages\\scipy\\linalg\\_decomp.py\", line 593, in eigh\n",
      "    raise LinAlgError(f'The leading minor of order {info-n} of B is not '\n",
      "numpy.linalg.LinAlgError: The leading minor of order 1 of B is not positive definite. The factorization of B could not be completed and no eigenvalues or eigenvectors were computed.\n",
      "\n",
      "\n",
      "c:\\Users\\dorot\\AppData\\Local\\Programs\\Python\\Python39\\lib\\site-packages\\sklearn\\model_selection\\_search.py:1051: UserWarning:\n",
      "\n",
      "One or more of the test scores are non-finite: [0.61147186 0.61147186        nan]\n",
      "\n",
      "Feature Extraction: 100%|██████████| 18/18 [00:03<00:00,  5.28it/s]\n",
      "Feature Extraction: 100%|██████████| 18/18 [00:03<00:00,  5.52it/s]\n",
      "Feature Extraction: 100%|██████████| 18/18 [00:03<00:00,  5.13it/s]\n",
      "Feature Extraction: 100%|██████████| 18/18 [00:03<00:00,  5.34it/s]\n",
      "c:\\Users\\dorot\\AppData\\Local\\Programs\\Python\\Python39\\lib\\site-packages\\sklearn\\model_selection\\_validation.py:547: FitFailedWarning:\n",
      "\n",
      "\n",
      "4 fits failed out of a total of 12.\n",
      "The score on these train-test partitions for these parameters will be set to nan.\n",
      "If these failures are not expected, you can try to debug them by setting error_score='raise'.\n",
      "\n",
      "Below are more details about the failures:\n",
      "--------------------------------------------------------------------------------\n",
      "4 fits failed with the following error:\n",
      "Traceback (most recent call last):\n",
      "  File \"c:\\Users\\dorot\\AppData\\Local\\Programs\\Python\\Python39\\lib\\site-packages\\sklearn\\model_selection\\_validation.py\", line 895, in _fit_and_score\n",
      "    estimator.fit(X_train, y_train, **fit_params)\n",
      "  File \"c:\\Users\\dorot\\AppData\\Local\\Programs\\Python\\Python39\\lib\\site-packages\\sklearn\\base.py\", line 1474, in wrapper\n",
      "    return fit_method(estimator, *args, **kwargs)\n",
      "  File \"c:\\Users\\dorot\\AppData\\Local\\Programs\\Python\\Python39\\lib\\site-packages\\sklearn\\discriminant_analysis.py\", line 637, in fit\n",
      "    self._solve_eigen(\n",
      "  File \"c:\\Users\\dorot\\AppData\\Local\\Programs\\Python\\Python39\\lib\\site-packages\\sklearn\\discriminant_analysis.py\", line 467, in _solve_eigen\n",
      "    evals, evecs = linalg.eigh(Sb, Sw)\n",
      "  File \"c:\\Users\\dorot\\AppData\\Local\\Programs\\Python\\Python39\\lib\\site-packages\\scipy\\_lib\\deprecation.py\", line 213, in inner_f\n",
      "    return f(*args, **kwargs)\n",
      "  File \"c:\\Users\\dorot\\AppData\\Local\\Programs\\Python\\Python39\\lib\\site-packages\\scipy\\linalg\\_decomp.py\", line 593, in eigh\n",
      "    raise LinAlgError(f'The leading minor of order {info-n} of B is not '\n",
      "numpy.linalg.LinAlgError: The leading minor of order 1 of B is not positive definite. The factorization of B could not be completed and no eigenvalues or eigenvectors were computed.\n",
      "\n",
      "\n",
      "c:\\Users\\dorot\\AppData\\Local\\Programs\\Python\\Python39\\lib\\site-packages\\sklearn\\model_selection\\_search.py:1051: UserWarning:\n",
      "\n",
      "One or more of the test scores are non-finite: [0.62391775 0.62391775        nan]\n",
      "\n",
      "Feature Extraction: 100%|██████████| 18/18 [00:03<00:00,  5.53it/s]\n",
      "Feature Extraction: 100%|██████████| 18/18 [00:03<00:00,  5.53it/s]\n",
      "Feature Extraction: 100%|██████████| 18/18 [00:03<00:00,  5.19it/s]\n",
      "Feature Extraction: 100%|██████████| 18/18 [00:03<00:00,  5.50it/s]\n",
      "c:\\Users\\dorot\\AppData\\Local\\Programs\\Python\\Python39\\lib\\site-packages\\sklearn\\model_selection\\_validation.py:547: FitFailedWarning:\n",
      "\n",
      "\n",
      "4 fits failed out of a total of 12.\n",
      "The score on these train-test partitions for these parameters will be set to nan.\n",
      "If these failures are not expected, you can try to debug them by setting error_score='raise'.\n",
      "\n",
      "Below are more details about the failures:\n",
      "--------------------------------------------------------------------------------\n",
      "4 fits failed with the following error:\n",
      "Traceback (most recent call last):\n",
      "  File \"c:\\Users\\dorot\\AppData\\Local\\Programs\\Python\\Python39\\lib\\site-packages\\sklearn\\model_selection\\_validation.py\", line 895, in _fit_and_score\n",
      "    estimator.fit(X_train, y_train, **fit_params)\n",
      "  File \"c:\\Users\\dorot\\AppData\\Local\\Programs\\Python\\Python39\\lib\\site-packages\\sklearn\\base.py\", line 1474, in wrapper\n",
      "    return fit_method(estimator, *args, **kwargs)\n",
      "  File \"c:\\Users\\dorot\\AppData\\Local\\Programs\\Python\\Python39\\lib\\site-packages\\sklearn\\discriminant_analysis.py\", line 637, in fit\n",
      "    self._solve_eigen(\n",
      "  File \"c:\\Users\\dorot\\AppData\\Local\\Programs\\Python\\Python39\\lib\\site-packages\\sklearn\\discriminant_analysis.py\", line 467, in _solve_eigen\n",
      "    evals, evecs = linalg.eigh(Sb, Sw)\n",
      "  File \"c:\\Users\\dorot\\AppData\\Local\\Programs\\Python\\Python39\\lib\\site-packages\\scipy\\_lib\\deprecation.py\", line 213, in inner_f\n",
      "    return f(*args, **kwargs)\n",
      "  File \"c:\\Users\\dorot\\AppData\\Local\\Programs\\Python\\Python39\\lib\\site-packages\\scipy\\linalg\\_decomp.py\", line 593, in eigh\n",
      "    raise LinAlgError(f'The leading minor of order {info-n} of B is not '\n",
      "numpy.linalg.LinAlgError: The leading minor of order 1 of B is not positive definite. The factorization of B could not be completed and no eigenvalues or eigenvectors were computed.\n",
      "\n",
      "\n",
      "c:\\Users\\dorot\\AppData\\Local\\Programs\\Python\\Python39\\lib\\site-packages\\sklearn\\model_selection\\_search.py:1051: UserWarning:\n",
      "\n",
      "One or more of the test scores are non-finite: [0.6228355 0.6228355       nan]\n",
      "\n",
      "Feature Extraction: 100%|██████████| 18/18 [00:03<00:00,  5.58it/s]\n",
      "Feature Extraction: 100%|██████████| 18/18 [00:03<00:00,  5.67it/s]\n",
      "Feature Extraction: 100%|██████████| 18/18 [00:03<00:00,  5.70it/s]\n",
      "Feature Extraction: 100%|██████████| 18/18 [00:03<00:00,  5.34it/s]\n",
      "Feature Extraction: 100%|██████████| 18/18 [00:03<00:00,  5.48it/s]\n",
      "Feature Extraction: 100%|██████████| 18/18 [00:03<00:00,  5.28it/s]\n",
      "Feature Extraction: 100%|██████████| 18/18 [00:03<00:00,  5.34it/s]\n",
      "Feature Extraction: 100%|██████████| 18/18 [00:03<00:00,  5.65it/s]\n",
      "Feature Extraction: 100%|██████████| 18/18 [00:03<00:00,  5.59it/s]\n",
      "Feature Extraction: 100%|██████████| 18/18 [00:03<00:00,  5.44it/s]\n",
      "Feature Extraction: 100%|██████████| 18/18 [00:03<00:00,  5.28it/s]\n",
      "Feature Extraction: 100%|██████████| 18/18 [00:03<00:00,  5.65it/s]\n",
      "Feature Extraction: 100%|██████████| 18/18 [00:03<00:00,  5.53it/s]\n",
      "Feature Extraction: 100%|██████████| 18/18 [00:03<00:00,  5.53it/s]\n",
      "Feature Extraction: 100%|██████████| 18/18 [00:03<00:00,  4.98it/s]\n",
      "Feature Extraction: 100%|██████████| 18/18 [00:03<00:00,  4.87it/s]\n",
      "Feature Extraction: 100%|██████████| 18/18 [00:03<00:00,  5.67it/s]\n",
      "Feature Extraction: 100%|██████████| 18/18 [00:03<00:00,  5.49it/s]\n",
      "Feature Extraction: 100%|██████████| 18/18 [00:03<00:00,  5.70it/s]\n",
      "Feature Extraction: 100%|██████████| 18/18 [00:03<00:00,  5.64it/s]\n",
      "Feature Extraction: 100%|██████████| 18/18 [00:03<00:00,  5.54it/s]\n",
      "Feature Extraction: 100%|██████████| 18/18 [00:03<00:00,  5.57it/s]\n",
      "Feature Extraction: 100%|██████████| 18/18 [00:03<00:00,  5.42it/s]\n",
      "Feature Extraction: 100%|██████████| 18/18 [00:03<00:00,  5.49it/s]\n",
      "Feature Extraction: 100%|██████████| 18/18 [00:03<00:00,  5.21it/s]\n",
      "Feature Extraction: 100%|██████████| 18/18 [00:03<00:00,  5.32it/s]\n",
      "Feature Extraction: 100%|██████████| 18/18 [00:03<00:00,  5.58it/s]\n",
      "Feature Extraction: 100%|██████████| 18/18 [00:03<00:00,  5.23it/s]\n",
      "Feature Extraction: 100%|██████████| 18/18 [00:03<00:00,  5.56it/s]\n",
      "Feature Extraction: 100%|██████████| 18/18 [00:03<00:00,  5.47it/s]\n",
      "Feature Extraction: 100%|██████████| 18/18 [00:03<00:00,  5.58it/s]\n",
      "Feature Extraction: 100%|██████████| 18/18 [00:03<00:00,  5.75it/s]\n",
      "Feature Extraction: 100%|██████████| 18/18 [00:03<00:00,  5.37it/s]\n",
      "Feature Extraction: 100%|██████████| 18/18 [00:03<00:00,  5.70it/s]\n",
      "Feature Extraction: 100%|██████████| 18/18 [00:03<00:00,  5.21it/s]\n",
      "Feature Extraction: 100%|██████████| 18/18 [00:03<00:00,  5.54it/s]\n",
      "Feature Extraction: 100%|██████████| 18/18 [00:03<00:00,  5.32it/s]\n",
      "Feature Extraction: 100%|██████████| 18/18 [00:03<00:00,  5.53it/s]\n",
      "Feature Extraction: 100%|██████████| 18/18 [00:03<00:00,  5.67it/s]\n",
      "Feature Extraction: 100%|██████████| 18/18 [00:03<00:00,  5.34it/s]\n",
      "Feature Extraction: 100%|██████████| 18/18 [00:03<00:00,  5.41it/s]\n",
      "Feature Extraction: 100%|██████████| 18/18 [00:03<00:00,  5.53it/s]\n",
      "Feature Extraction: 100%|██████████| 18/18 [00:03<00:00,  5.20it/s]\n",
      "Feature Extraction: 100%|██████████| 18/18 [00:03<00:00,  5.36it/s]\n",
      "Feature Extraction: 100%|██████████| 18/18 [00:03<00:00,  4.93it/s]\n",
      "Feature Extraction: 100%|██████████| 18/18 [00:03<00:00,  5.20it/s]\n",
      "Feature Extraction: 100%|██████████| 18/18 [00:03<00:00,  5.53it/s]\n",
      "Feature Extraction: 100%|██████████| 18/18 [00:03<00:00,  5.00it/s]\n",
      "Feature Extraction: 100%|██████████| 18/18 [00:03<00:00,  5.45it/s]\n",
      "Feature Extraction: 100%|██████████| 18/18 [00:03<00:00,  5.63it/s]\n",
      "Feature Extraction: 100%|██████████| 18/18 [00:03<00:00,  5.06it/s]\n",
      "Feature Extraction: 100%|██████████| 18/18 [00:03<00:00,  5.69it/s]\n",
      "Feature Extraction: 100%|██████████| 18/18 [00:03<00:00,  5.28it/s]\n",
      "Feature Extraction: 100%|██████████| 18/18 [00:03<00:00,  5.55it/s]\n",
      "Feature Extraction: 100%|██████████| 18/18 [00:03<00:00,  5.28it/s]\n",
      "Feature Extraction: 100%|██████████| 18/18 [00:03<00:00,  5.10it/s]\n",
      "Feature Extraction: 100%|██████████| 18/18 [00:03<00:00,  5.39it/s]\n",
      "Feature Extraction: 100%|██████████| 18/18 [00:03<00:00,  5.43it/s]\n",
      "Feature Extraction: 100%|██████████| 18/18 [00:03<00:00,  5.24it/s]\n",
      "Feature Extraction: 100%|██████████| 18/18 [00:03<00:00,  5.03it/s]\n",
      "Feature Extraction: 100%|██████████| 18/18 [00:04<00:00,  4.28it/s]\n",
      "Feature Extraction: 100%|██████████| 18/18 [00:04<00:00,  4.35it/s]\n",
      "Feature Extraction: 100%|██████████| 18/18 [00:03<00:00,  5.09it/s]\n",
      "Feature Extraction: 100%|██████████| 18/18 [00:03<00:00,  5.53it/s]\n",
      "Feature Extraction: 100%|██████████| 18/18 [00:03<00:00,  5.35it/s]\n",
      "Feature Extraction: 100%|██████████| 18/18 [00:03<00:00,  5.41it/s]\n",
      "Feature Extraction: 100%|██████████| 18/18 [00:03<00:00,  5.24it/s]\n",
      "Feature Extraction: 100%|██████████| 18/18 [00:03<00:00,  5.28it/s]\n",
      "Feature Extraction: 100%|██████████| 18/18 [00:03<00:00,  5.30it/s]\n",
      "Feature Extraction: 100%|██████████| 18/18 [00:03<00:00,  5.30it/s]\n",
      "Feature Extraction: 100%|██████████| 18/18 [00:03<00:00,  5.53it/s]\n",
      "Feature Extraction: 100%|██████████| 18/18 [00:03<00:00,  5.30it/s]\n",
      "Feature Extraction: 100%|██████████| 18/18 [00:03<00:00,  5.69it/s]\n",
      "Feature Extraction: 100%|██████████| 18/18 [00:03<00:00,  5.66it/s]\n",
      "Feature Extraction: 100%|██████████| 18/18 [00:03<00:00,  5.22it/s]\n",
      "Feature Extraction: 100%|██████████| 18/18 [00:03<00:00,  5.55it/s]\n",
      "Feature Extraction: 100%|██████████| 18/18 [00:03<00:00,  5.47it/s]\n",
      "Feature Extraction: 100%|██████████| 18/18 [00:03<00:00,  5.25it/s]\n",
      "Feature Extraction: 100%|██████████| 18/18 [00:03<00:00,  5.60it/s]\n",
      "Feature Extraction: 100%|██████████| 18/18 [00:03<00:00,  5.67it/s]\n",
      "Feature Extraction: 100%|██████████| 18/18 [00:03<00:00,  5.61it/s]\n",
      "Feature Extraction: 100%|██████████| 18/18 [00:03<00:00,  5.55it/s]\n",
      "Feature Extraction: 100%|██████████| 18/18 [00:03<00:00,  5.13it/s]\n",
      "Feature Extraction: 100%|██████████| 18/18 [00:03<00:00,  5.64it/s]\n",
      "Feature Extraction: 100%|██████████| 18/18 [00:03<00:00,  5.51it/s]\n",
      "Feature Extraction: 100%|██████████| 18/18 [00:03<00:00,  5.66it/s]\n",
      "Feature Extraction: 100%|██████████| 18/18 [00:03<00:00,  5.69it/s]\n",
      "Feature Extraction: 100%|██████████| 18/18 [00:03<00:00,  5.51it/s]\n",
      "Feature Extraction: 100%|██████████| 18/18 [00:03<00:00,  5.66it/s]\n",
      "Feature Extraction: 100%|██████████| 18/18 [00:03<00:00,  5.53it/s]\n",
      "Feature Extraction: 100%|██████████| 18/18 [00:03<00:00,  5.63it/s]\n",
      "Feature Extraction: 100%|██████████| 18/18 [00:03<00:00,  5.50it/s]\n",
      "Feature Extraction: 100%|██████████| 18/18 [00:03<00:00,  5.68it/s]\n",
      "Feature Extraction: 100%|██████████| 18/18 [00:03<00:00,  5.49it/s]\n",
      "Feature Extraction: 100%|██████████| 18/18 [00:03<00:00,  5.71it/s]\n",
      "Feature Extraction: 100%|██████████| 18/18 [00:03<00:00,  5.70it/s]\n",
      "Feature Extraction: 100%|██████████| 18/18 [00:03<00:00,  5.66it/s]\n",
      "Feature Extraction: 100%|██████████| 18/18 [00:03<00:00,  5.64it/s]\n",
      "Feature Extraction: 100%|██████████| 18/18 [00:03<00:00,  5.06it/s]\n",
      "Feature Extraction: 100%|██████████| 18/18 [00:03<00:00,  5.45it/s]\n",
      "Feature Extraction: 100%|██████████| 18/18 [00:03<00:00,  5.35it/s]\n",
      "Feature Extraction: 100%|██████████| 18/18 [00:03<00:00,  5.59it/s]\n",
      "Feature Extraction: 100%|██████████| 18/18 [00:03<00:00,  5.41it/s]\n",
      "Feature Extraction: 100%|██████████| 18/18 [00:03<00:00,  5.27it/s]\n",
      "Feature Extraction: 100%|██████████| 18/18 [00:03<00:00,  5.43it/s]\n",
      "Feature Extraction: 100%|██████████| 18/18 [00:03<00:00,  5.63it/s]\n",
      "Feature Extraction: 100%|██████████| 18/18 [00:03<00:00,  5.03it/s]\n",
      "Feature Extraction: 100%|██████████| 18/18 [00:03<00:00,  5.49it/s]\n",
      "Feature Extraction: 100%|██████████| 18/18 [00:03<00:00,  4.95it/s]\n",
      "Feature Extraction: 100%|██████████| 18/18 [00:03<00:00,  5.52it/s]\n",
      "Feature Extraction: 100%|██████████| 18/18 [00:03<00:00,  5.48it/s]\n",
      "Feature Extraction: 100%|██████████| 18/18 [00:03<00:00,  4.73it/s]\n",
      "Feature Extraction: 100%|██████████| 18/18 [00:03<00:00,  4.80it/s]\n",
      "Feature Extraction: 100%|██████████| 18/18 [00:03<00:00,  4.64it/s]\n",
      "Feature Extraction: 100%|██████████| 18/18 [00:04<00:00,  4.45it/s]\n",
      "Feature Extraction: 100%|██████████| 18/18 [00:03<00:00,  4.99it/s]\n",
      "Feature Extraction: 100%|██████████| 18/18 [00:03<00:00,  5.09it/s]\n",
      "Feature Extraction: 100%|██████████| 18/18 [00:03<00:00,  5.43it/s]\n",
      "Feature Extraction: 100%|██████████| 18/18 [00:03<00:00,  5.26it/s]\n",
      "Feature Extraction: 100%|██████████| 18/18 [00:03<00:00,  4.86it/s]\n",
      "Feature Extraction: 100%|██████████| 18/18 [00:03<00:00,  5.00it/s]\n",
      "Feature Extraction: 100%|██████████| 18/18 [00:03<00:00,  5.13it/s]\n",
      "Feature Extraction: 100%|██████████| 18/18 [00:03<00:00,  4.62it/s]\n",
      "Feature Extraction: 100%|██████████| 18/18 [00:03<00:00,  5.11it/s]\n",
      "Feature Extraction: 100%|██████████| 18/18 [00:03<00:00,  5.36it/s]\n",
      "Feature Extraction: 100%|██████████| 18/18 [00:03<00:00,  5.55it/s]\n",
      "Feature Extraction: 100%|██████████| 18/18 [00:03<00:00,  5.52it/s]\n",
      "Feature Extraction: 100%|██████████| 18/18 [00:03<00:00,  5.15it/s]\n",
      "Feature Extraction: 100%|██████████| 18/18 [00:03<00:00,  4.59it/s]\n",
      "Feature Extraction: 100%|██████████| 18/18 [00:03<00:00,  5.06it/s]\n",
      "Feature Extraction: 100%|██████████| 18/18 [00:03<00:00,  5.15it/s]\n",
      "Feature Extraction: 100%|██████████| 18/18 [00:04<00:00,  4.35it/s]\n",
      "Feature Extraction: 100%|██████████| 18/18 [00:03<00:00,  5.16it/s]\n",
      "Feature Extraction: 100%|██████████| 18/18 [00:03<00:00,  4.57it/s]\n",
      "Feature Extraction: 100%|██████████| 18/18 [00:03<00:00,  5.05it/s]\n",
      "Feature Extraction: 100%|██████████| 18/18 [00:04<00:00,  4.41it/s]\n",
      "Feature Extraction: 100%|██████████| 18/18 [00:03<00:00,  5.27it/s]\n",
      "Feature Extraction: 100%|██████████| 18/18 [00:03<00:00,  5.31it/s]\n",
      "Feature Extraction: 100%|██████████| 18/18 [00:03<00:00,  5.04it/s]\n",
      "Feature Extraction: 100%|██████████| 18/18 [00:03<00:00,  4.93it/s]\n",
      "Feature Extraction: 100%|██████████| 18/18 [00:03<00:00,  5.05it/s]\n",
      "Feature Extraction: 100%|██████████| 18/18 [00:03<00:00,  5.25it/s]\n",
      "Feature Extraction: 100%|██████████| 18/18 [00:03<00:00,  5.33it/s]\n",
      "Feature Extraction: 100%|██████████| 18/18 [00:03<00:00,  5.72it/s]\n",
      "Feature Extraction: 100%|██████████| 18/18 [00:03<00:00,  4.97it/s]\n",
      "Feature Extraction: 100%|██████████| 18/18 [00:03<00:00,  5.38it/s]\n",
      "Feature Extraction: 100%|██████████| 18/18 [00:03<00:00,  5.53it/s]\n",
      "Feature Extraction: 100%|██████████| 18/18 [00:03<00:00,  5.43it/s]\n",
      "Feature Extraction: 100%|██████████| 18/18 [00:03<00:00,  5.54it/s]\n",
      "Feature Extraction: 100%|██████████| 18/18 [00:03<00:00,  5.49it/s]\n",
      "Feature Extraction: 100%|██████████| 18/18 [00:03<00:00,  5.25it/s]\n",
      "Feature Extraction: 100%|██████████| 18/18 [00:03<00:00,  5.32it/s]\n",
      "Feature Extraction: 100%|██████████| 18/18 [00:03<00:00,  5.30it/s]\n",
      "Feature Extraction: 100%|██████████| 18/18 [00:03<00:00,  5.81it/s]\n",
      "Feature Extraction: 100%|██████████| 18/18 [00:03<00:00,  5.71it/s]\n",
      "Feature Extraction: 100%|██████████| 18/18 [00:03<00:00,  5.50it/s]\n",
      "Feature Extraction: 100%|██████████| 18/18 [00:03<00:00,  4.87it/s]\n",
      "Feature Extraction: 100%|██████████| 18/18 [00:03<00:00,  5.25it/s]\n",
      "Feature Extraction: 100%|██████████| 18/18 [00:03<00:00,  5.16it/s]\n",
      "Feature Extraction: 100%|██████████| 18/18 [00:03<00:00,  4.81it/s]\n",
      "Feature Extraction: 100%|██████████| 18/18 [00:03<00:00,  5.01it/s]\n",
      "Feature Extraction: 100%|██████████| 18/18 [00:03<00:00,  5.03it/s]\n",
      "Feature Extraction: 100%|██████████| 18/18 [00:03<00:00,  5.13it/s]\n",
      "Feature Extraction: 100%|██████████| 18/18 [00:03<00:00,  5.19it/s]\n",
      "Feature Extraction: 100%|██████████| 18/18 [00:03<00:00,  4.96it/s]\n",
      "Feature Extraction: 100%|██████████| 18/18 [00:03<00:00,  5.09it/s]\n",
      "Feature Extraction: 100%|██████████| 18/18 [00:03<00:00,  5.29it/s]\n",
      "Feature Extraction: 100%|██████████| 18/18 [00:03<00:00,  4.98it/s]\n",
      "Feature Extraction: 100%|██████████| 18/18 [00:03<00:00,  5.54it/s]\n",
      "Feature Extraction: 100%|██████████| 18/18 [00:03<00:00,  5.21it/s]\n",
      "Feature Extraction: 100%|██████████| 18/18 [00:03<00:00,  5.63it/s]\n",
      "Feature Extraction: 100%|██████████| 18/18 [00:03<00:00,  5.70it/s]\n",
      "Feature Extraction: 100%|██████████| 18/18 [00:03<00:00,  5.39it/s]\n",
      "Feature Extraction: 100%|██████████| 18/18 [00:03<00:00,  5.23it/s]\n",
      "Feature Extraction: 100%|██████████| 18/18 [00:03<00:00,  5.22it/s]\n",
      "Feature Extraction: 100%|██████████| 18/18 [00:03<00:00,  5.42it/s]\n",
      "Feature Extraction: 100%|██████████| 18/18 [00:03<00:00,  5.56it/s]\n",
      "Feature Extraction: 100%|██████████| 18/18 [00:03<00:00,  5.71it/s]\n",
      "Feature Extraction: 100%|██████████| 18/18 [00:03<00:00,  5.65it/s]\n",
      "Feature Extraction: 100%|██████████| 18/18 [00:03<00:00,  5.40it/s]\n",
      "Feature Extraction: 100%|██████████| 18/18 [00:03<00:00,  5.71it/s]\n",
      "Feature Extraction: 100%|██████████| 18/18 [00:03<00:00,  5.45it/s]\n",
      "Feature Extraction: 100%|██████████| 18/18 [00:03<00:00,  5.71it/s]\n",
      "Feature Extraction: 100%|██████████| 18/18 [00:03<00:00,  5.67it/s]\n",
      "Feature Extraction: 100%|██████████| 18/18 [00:03<00:00,  5.57it/s]\n",
      "Feature Extraction: 100%|██████████| 18/18 [00:03<00:00,  5.69it/s]\n",
      "Feature Extraction: 100%|██████████| 18/18 [00:03<00:00,  5.45it/s]\n",
      "Feature Extraction: 100%|██████████| 18/18 [00:03<00:00,  5.66it/s]\n",
      "Feature Extraction: 100%|██████████| 18/18 [00:03<00:00,  5.39it/s]\n",
      "Feature Extraction: 100%|██████████| 18/18 [00:03<00:00,  5.74it/s]\n",
      "Feature Extraction: 100%|██████████| 18/18 [00:03<00:00,  5.69it/s]\n",
      "Feature Extraction: 100%|██████████| 18/18 [00:03<00:00,  5.38it/s]\n",
      "Feature Extraction: 100%|██████████| 18/18 [00:03<00:00,  5.54it/s]\n",
      "Feature Extraction: 100%|██████████| 18/18 [00:03<00:00,  5.52it/s]\n",
      "Feature Extraction: 100%|██████████| 18/18 [00:03<00:00,  5.74it/s]\n",
      "Feature Extraction: 100%|██████████| 18/18 [00:03<00:00,  5.58it/s]\n",
      "Feature Extraction: 100%|██████████| 18/18 [00:03<00:00,  5.31it/s]\n",
      "Feature Extraction: 100%|██████████| 18/18 [00:03<00:00,  5.67it/s]\n",
      "Feature Extraction: 100%|██████████| 18/18 [00:03<00:00,  5.69it/s]\n",
      "Feature Extraction: 100%|██████████| 18/18 [00:03<00:00,  5.35it/s]\n",
      "Feature Extraction: 100%|██████████| 18/18 [00:03<00:00,  5.48it/s]\n",
      "Feature Extraction: 100%|██████████| 18/18 [00:03<00:00,  4.92it/s]\n",
      "Feature Extraction: 100%|██████████| 18/18 [00:03<00:00,  5.14it/s]\n",
      "Feature Extraction: 100%|██████████| 18/18 [00:03<00:00,  5.63it/s]\n",
      "Feature Extraction: 100%|██████████| 18/18 [00:03<00:00,  5.62it/s]\n",
      "Feature Extraction: 100%|██████████| 18/18 [00:03<00:00,  5.54it/s]\n",
      "Feature Extraction: 100%|██████████| 18/18 [00:03<00:00,  5.43it/s]\n",
      "Feature Extraction: 100%|██████████| 18/18 [00:03<00:00,  5.62it/s]\n",
      "Feature Extraction: 100%|██████████| 18/18 [00:03<00:00,  5.47it/s]\n",
      "Feature Extraction: 100%|██████████| 18/18 [00:03<00:00,  5.66it/s]\n",
      "Feature Extraction: 100%|██████████| 18/18 [00:03<00:00,  5.65it/s]\n",
      "Feature Extraction: 100%|██████████| 18/18 [00:03<00:00,  5.44it/s]\n",
      "Feature Extraction: 100%|██████████| 18/18 [00:03<00:00,  5.61it/s]\n",
      "Feature Extraction: 100%|██████████| 18/18 [00:03<00:00,  5.56it/s]\n",
      "Feature Extraction: 100%|██████████| 18/18 [00:03<00:00,  5.63it/s]\n",
      "Feature Extraction: 100%|██████████| 18/18 [00:03<00:00,  5.69it/s]\n",
      "Feature Extraction: 100%|██████████| 18/18 [00:03<00:00,  5.53it/s]\n",
      "Feature Extraction: 100%|██████████| 18/18 [00:03<00:00,  5.63it/s]\n",
      "Feature Extraction: 100%|██████████| 18/18 [00:03<00:00,  5.49it/s]\n",
      "Feature Extraction: 100%|██████████| 18/18 [00:03<00:00,  5.61it/s]\n",
      "Feature Extraction: 100%|██████████| 18/18 [00:03<00:00,  5.67it/s]\n",
      "Feature Extraction: 100%|██████████| 18/18 [00:03<00:00,  5.45it/s]\n",
      "Feature Extraction: 100%|██████████| 18/18 [00:03<00:00,  5.52it/s]\n",
      "Feature Extraction: 100%|██████████| 18/18 [00:03<00:00,  5.68it/s]\n",
      "Feature Extraction: 100%|██████████| 18/18 [00:03<00:00,  5.66it/s]\n",
      "Feature Extraction: 100%|██████████| 18/18 [00:03<00:00,  5.64it/s]\n",
      "Feature Extraction: 100%|██████████| 18/18 [00:03<00:00,  5.52it/s]\n",
      "Feature Extraction: 100%|██████████| 18/18 [00:03<00:00,  5.64it/s]\n",
      "Feature Extraction: 100%|██████████| 18/18 [00:03<00:00,  5.26it/s]\n",
      "Feature Extraction: 100%|██████████| 18/18 [00:03<00:00,  5.63it/s]\n",
      "Feature Extraction: 100%|██████████| 18/18 [00:03<00:00,  5.62it/s]\n",
      "Feature Extraction: 100%|██████████| 18/18 [00:03<00:00,  5.45it/s]\n",
      "Feature Extraction: 100%|██████████| 18/18 [00:03<00:00,  5.54it/s]\n",
      "Feature Extraction: 100%|██████████| 18/18 [00:03<00:00,  5.51it/s]\n",
      "Feature Extraction: 100%|██████████| 18/18 [00:03<00:00,  5.57it/s]\n",
      "Feature Extraction: 100%|██████████| 18/18 [00:03<00:00,  5.63it/s]\n",
      "Feature Extraction: 100%|██████████| 18/18 [00:03<00:00,  5.67it/s]\n",
      "Feature Extraction: 100%|██████████| 18/18 [00:03<00:00,  5.61it/s]\n",
      "Feature Extraction: 100%|██████████| 18/18 [00:03<00:00,  5.49it/s]\n",
      "Feature Extraction: 100%|██████████| 18/18 [00:03<00:00,  5.67it/s]\n"
     ]
    }
   ],
   "source": [
    "results2 = []\n",
    "\n",
    "for n_badan in range(1, 65):\n",
    "    # Filtrowanie danych do n_badan\n",
    "    data_subset = data_to_extract2[data_to_extract2['BADANIE_NR'] <= n_badan]\n",
    "\n",
    "    extracted_features_6 = pd.DataFrame()\n",
    "\n",
    "    # Iteracja po wybranych zmiennych\n",
    "    for col in chosen_vars:\n",
    "        selected_features = selected_features_dict.get(col, {})\n",
    "        features = extract_features(data_subset, column_id=\"PACJENT_NR\", column_sort=\"BADANIE_NR\", \n",
    "                                    column_value=col, default_fc_parameters=selected_features)\n",
    "        features.columns = [f\"{col}_{feature}\" for feature in features.columns]\n",
    "        extracted_features_6 = pd.concat([extracted_features_6, features], axis=1)\n",
    "\n",
    "    # Przygotowanie danych do modelowania\n",
    "    X = extracted_features_6.dropna(axis=1, how='all')\n",
    "\n",
    "    # Podział danych na zbiory treningowy i testowy\n",
    "    X_train, X_test, y_train, y_test = train_test_split(X, y, test_size=0.2, random_state=seed, stratify=y)\n",
    "    \n",
    "    # Standaryzacja danych\n",
    "    scaler = StandardScaler()\n",
    "    X_train_scaled = scaler.fit_transform(X_train)\n",
    "    X_test_scaled = scaler.transform(X_test)\n",
    "\n",
    "    classifiers = {\n",
    "    'KNN': KNeighborsClassifier(),\n",
    "    'LDA': LinearDiscriminantAnalysis(),\n",
    "    'SVC': SVC(),\n",
    "    'DT': DecisionTreeClassifier(),\n",
    "    'RF': RandomForestClassifier()\n",
    "    }\n",
    "\n",
    "    param_grids = {\n",
    "    'KNN': {'n_neighbors': [5,10,15,20], 'weights': ['uniform', 'distance']},\n",
    "    'LDA': {'solver': ['svd', 'lsqr', 'eigen']},\n",
    "    'SVC': {'C': [0.1, 0.5, 1, 1.5], 'kernel': ['linear', 'rbf', 'poly', 'sigmoid'], 'probability': [True]},\n",
    "    'DT': {'criterion': ['gini', 'entropy'], 'max_depth': [10, 20, 30, 40, 50], 'random_state': [seed]},\n",
    "    'RF': {'n_estimators': [5, 10, 50, 100, 200], 'criterion': ['gini', 'entropy'], \n",
    "                      'max_depth': [5, 10, 20, 30, 40, 50], 'random_state': [seed]}\n",
    "    }\n",
    "\n",
    "    best_models_for_n={}\n",
    "    test_scores_for_n={}\n",
    "\n",
    "    # Przeszukiwanie hiperparametrów dla każdego klasyfikatora\n",
    "    for name, classifier in classifiers.items():\n",
    "        grid_search = GridSearchCV(classifier, param_grids[name], cv=4, n_jobs=-1, scoring='accuracy')\n",
    "        grid_search.fit(X_train_scaled, y_train)\n",
    "        \n",
    "        model_type=type(classifier)\n",
    "        best_params=grid_search.best_params_\n",
    "\n",
    "        test_scores=[]\n",
    "        recalls=[]\n",
    "        precisions=[]\n",
    "        f1_scores=[]\n",
    "        \n",
    "        for i in range(100):\n",
    "            X_btrain, X_btest, y_btrain, y_btest = train_test_split(X, y, test_size=0.2, random_state=i, stratify=y)\n",
    "\n",
    "            scaler2 = StandardScaler()\n",
    "            X_btrain_scaled = scaler2.fit_transform(X_btrain)\n",
    "            X_btest_scaled = scaler2.transform(X_btest)\n",
    "\n",
    "            best_model=model_type(**best_params)\n",
    "            best_model.fit(X_btrain_scaled, y_btrain)\n",
    "            y_bpred = best_model.predict(X_btest_scaled)\n",
    "            test_scores.append(accuracy_score(y_btest, y_bpred))\n",
    "            precisions.append(precision_score(y_btest, y_bpred))\n",
    "            recalls.append(recall_score(y_btest, y_bpred))\n",
    "            f1_scores.append(f1_score(y_btest, y_bpred))\n",
    "        \n",
    "        mean_test_score=np.mean(test_scores)\n",
    "        mean_recall=np.mean(recalls)\n",
    "        mean_precision=np.mean(precisions)\n",
    "        mean_f1_score=np.mean(f1_scores)\n",
    "\n",
    "        best_model=model_type(**best_params)\n",
    "        best_model.fit(X_train_scaled, y_train)\n",
    "        y_pred = best_model.predict(X_test_scaled)\n",
    "        test_acc=accuracy_score(y_test, y_pred)\n",
    "        test_prec=precision_score(y_test, y_pred)\n",
    "        test_recall=recall_score(y_test, y_pred)\n",
    "        test_f1=f1_score(y_test, y_pred)\n",
    "    \n",
    "        results2.append({'n_badan': n_badan, 'Model': name, 'parameters': best_params, 'Dokładność test': test_acc, 'Czułość test': test_recall, \n",
    "                         'Precyzja test': test_prec, 'F1-score test': test_f1, 'Dokładność 100 test': mean_test_score, 'Czułość 100 test': mean_recall, \n",
    "                         'Precyzja 100 test': mean_precision, 'F1-score 100 test': mean_f1_score})\n",
    "\n",
    "    # # Ocena najlepszych modeli na zbiorze testowym\n",
    "    # for name, (model_type, best_params) in best_models_for_n.items():\n",
    "    #     model = model_type(**best_params)\n",
    "    #     model.fit(X_train_scaled, y_train)\n",
    "    #     y_pred = model.predict(X_test_scaled)\n",
    "    #     test_score = accuracy_score(y_test, y_pred)\n",
    "    #     results2.append({'n_badan': n_badan, 'Model': name, 'Dokładność': test_score, 'parameters': best_models_for_n[name]})"
   ]
  },
  {
   "cell_type": "code",
   "execution_count": 303,
   "metadata": {},
   "outputs": [
    {
     "data": {
      "text/html": [
       "<div>\n",
       "<style scoped>\n",
       "    .dataframe tbody tr th:only-of-type {\n",
       "        vertical-align: middle;\n",
       "    }\n",
       "\n",
       "    .dataframe tbody tr th {\n",
       "        vertical-align: top;\n",
       "    }\n",
       "\n",
       "    .dataframe thead th {\n",
       "        text-align: right;\n",
       "    }\n",
       "</style>\n",
       "<table border=\"1\" class=\"dataframe\">\n",
       "  <thead>\n",
       "    <tr style=\"text-align: right;\">\n",
       "      <th></th>\n",
       "      <th>n_badan</th>\n",
       "      <th>Model</th>\n",
       "      <th>parameters</th>\n",
       "      <th>Dokładność test</th>\n",
       "      <th>Czułość test</th>\n",
       "      <th>Precyzja test</th>\n",
       "      <th>F1-score test</th>\n",
       "      <th>Dokładność 100 test</th>\n",
       "      <th>Czułość 100 test</th>\n",
       "      <th>Precyzja 100 test</th>\n",
       "      <th>F1-score 100 test</th>\n",
       "    </tr>\n",
       "  </thead>\n",
       "  <tbody>\n",
       "    <tr>\n",
       "      <th>0</th>\n",
       "      <td>1</td>\n",
       "      <td>KNN</td>\n",
       "      <td>{'n_neighbors': 5, 'weights': 'uniform'}</td>\n",
       "      <td>0.500000</td>\n",
       "      <td>1.000000</td>\n",
       "      <td>0.500000</td>\n",
       "      <td>0.666667</td>\n",
       "      <td>0.500000</td>\n",
       "      <td>0.580000</td>\n",
       "      <td>0.290000</td>\n",
       "      <td>0.386667</td>\n",
       "    </tr>\n",
       "    <tr>\n",
       "      <th>1</th>\n",
       "      <td>1</td>\n",
       "      <td>LDA</td>\n",
       "      <td>{'solver': 'lsqr'}</td>\n",
       "      <td>0.500000</td>\n",
       "      <td>1.000000</td>\n",
       "      <td>0.500000</td>\n",
       "      <td>0.666667</td>\n",
       "      <td>0.500000</td>\n",
       "      <td>1.000000</td>\n",
       "      <td>0.500000</td>\n",
       "      <td>0.666667</td>\n",
       "    </tr>\n",
       "    <tr>\n",
       "      <th>2</th>\n",
       "      <td>1</td>\n",
       "      <td>SVC</td>\n",
       "      <td>{'C': 0.1, 'kernel': 'linear', 'probability': ...</td>\n",
       "      <td>0.500000</td>\n",
       "      <td>1.000000</td>\n",
       "      <td>0.500000</td>\n",
       "      <td>0.666667</td>\n",
       "      <td>0.500000</td>\n",
       "      <td>1.000000</td>\n",
       "      <td>0.500000</td>\n",
       "      <td>0.666667</td>\n",
       "    </tr>\n",
       "    <tr>\n",
       "      <th>3</th>\n",
       "      <td>1</td>\n",
       "      <td>DT</td>\n",
       "      <td>{'criterion': 'gini', 'max_depth': 10, 'random...</td>\n",
       "      <td>0.500000</td>\n",
       "      <td>1.000000</td>\n",
       "      <td>0.500000</td>\n",
       "      <td>0.666667</td>\n",
       "      <td>0.500000</td>\n",
       "      <td>1.000000</td>\n",
       "      <td>0.500000</td>\n",
       "      <td>0.666667</td>\n",
       "    </tr>\n",
       "    <tr>\n",
       "      <th>4</th>\n",
       "      <td>1</td>\n",
       "      <td>RF</td>\n",
       "      <td>{'criterion': 'gini', 'max_depth': 5, 'n_estim...</td>\n",
       "      <td>0.500000</td>\n",
       "      <td>1.000000</td>\n",
       "      <td>0.500000</td>\n",
       "      <td>0.666667</td>\n",
       "      <td>0.500000</td>\n",
       "      <td>0.840000</td>\n",
       "      <td>0.420000</td>\n",
       "      <td>0.560000</td>\n",
       "    </tr>\n",
       "    <tr>\n",
       "      <th>5</th>\n",
       "      <td>2</td>\n",
       "      <td>KNN</td>\n",
       "      <td>{'n_neighbors': 15, 'weights': 'uniform'}</td>\n",
       "      <td>0.772727</td>\n",
       "      <td>0.727273</td>\n",
       "      <td>0.800000</td>\n",
       "      <td>0.761905</td>\n",
       "      <td>0.610000</td>\n",
       "      <td>0.605455</td>\n",
       "      <td>0.624096</td>\n",
       "      <td>0.599804</td>\n",
       "    </tr>\n",
       "    <tr>\n",
       "      <th>6</th>\n",
       "      <td>2</td>\n",
       "      <td>LDA</td>\n",
       "      <td>{'solver': 'svd'}</td>\n",
       "      <td>0.772727</td>\n",
       "      <td>0.727273</td>\n",
       "      <td>0.800000</td>\n",
       "      <td>0.761905</td>\n",
       "      <td>0.645909</td>\n",
       "      <td>0.607273</td>\n",
       "      <td>0.668385</td>\n",
       "      <td>0.626982</td>\n",
       "    </tr>\n",
       "    <tr>\n",
       "      <th>7</th>\n",
       "      <td>2</td>\n",
       "      <td>SVC</td>\n",
       "      <td>{'C': 0.5, 'kernel': 'linear', 'probability': ...</td>\n",
       "      <td>0.772727</td>\n",
       "      <td>0.727273</td>\n",
       "      <td>0.800000</td>\n",
       "      <td>0.761905</td>\n",
       "      <td>0.647727</td>\n",
       "      <td>0.602727</td>\n",
       "      <td>0.671095</td>\n",
       "      <td>0.626504</td>\n",
       "    </tr>\n",
       "    <tr>\n",
       "      <th>8</th>\n",
       "      <td>2</td>\n",
       "      <td>DT</td>\n",
       "      <td>{'criterion': 'gini', 'max_depth': 10, 'random...</td>\n",
       "      <td>0.636364</td>\n",
       "      <td>0.454545</td>\n",
       "      <td>0.714286</td>\n",
       "      <td>0.555556</td>\n",
       "      <td>0.617273</td>\n",
       "      <td>0.577273</td>\n",
       "      <td>0.635645</td>\n",
       "      <td>0.592836</td>\n",
       "    </tr>\n",
       "    <tr>\n",
       "      <th>9</th>\n",
       "      <td>2</td>\n",
       "      <td>RF</td>\n",
       "      <td>{'criterion': 'gini', 'max_depth': 5, 'n_estim...</td>\n",
       "      <td>0.636364</td>\n",
       "      <td>0.454545</td>\n",
       "      <td>0.714286</td>\n",
       "      <td>0.555556</td>\n",
       "      <td>0.617273</td>\n",
       "      <td>0.590000</td>\n",
       "      <td>0.632313</td>\n",
       "      <td>0.598367</td>\n",
       "    </tr>\n",
       "    <tr>\n",
       "      <th>10</th>\n",
       "      <td>3</td>\n",
       "      <td>KNN</td>\n",
       "      <td>{'n_neighbors': 20, 'weights': 'uniform'}</td>\n",
       "      <td>0.772727</td>\n",
       "      <td>0.727273</td>\n",
       "      <td>0.800000</td>\n",
       "      <td>0.761905</td>\n",
       "      <td>0.621818</td>\n",
       "      <td>0.520909</td>\n",
       "      <td>0.660955</td>\n",
       "      <td>0.569375</td>\n",
       "    </tr>\n",
       "    <tr>\n",
       "      <th>11</th>\n",
       "      <td>3</td>\n",
       "      <td>LDA</td>\n",
       "      <td>{'solver': 'svd'}</td>\n",
       "      <td>0.772727</td>\n",
       "      <td>0.818182</td>\n",
       "      <td>0.750000</td>\n",
       "      <td>0.782609</td>\n",
       "      <td>0.639545</td>\n",
       "      <td>0.590909</td>\n",
       "      <td>0.663056</td>\n",
       "      <td>0.613467</td>\n",
       "    </tr>\n",
       "    <tr>\n",
       "      <th>12</th>\n",
       "      <td>3</td>\n",
       "      <td>SVC</td>\n",
       "      <td>{'C': 1.5, 'kernel': 'linear', 'probability': ...</td>\n",
       "      <td>0.772727</td>\n",
       "      <td>0.727273</td>\n",
       "      <td>0.800000</td>\n",
       "      <td>0.761905</td>\n",
       "      <td>0.613636</td>\n",
       "      <td>0.481818</td>\n",
       "      <td>0.669727</td>\n",
       "      <td>0.545301</td>\n",
       "    </tr>\n",
       "    <tr>\n",
       "      <th>13</th>\n",
       "      <td>3</td>\n",
       "      <td>DT</td>\n",
       "      <td>{'criterion': 'gini', 'max_depth': 10, 'random...</td>\n",
       "      <td>0.727273</td>\n",
       "      <td>0.636364</td>\n",
       "      <td>0.777778</td>\n",
       "      <td>0.700000</td>\n",
       "      <td>0.584091</td>\n",
       "      <td>0.441818</td>\n",
       "      <td>0.640881</td>\n",
       "      <td>0.507280</td>\n",
       "    </tr>\n",
       "    <tr>\n",
       "      <th>14</th>\n",
       "      <td>3</td>\n",
       "      <td>RF</td>\n",
       "      <td>{'criterion': 'gini', 'max_depth': 5, 'n_estim...</td>\n",
       "      <td>0.727273</td>\n",
       "      <td>0.727273</td>\n",
       "      <td>0.727273</td>\n",
       "      <td>0.727273</td>\n",
       "      <td>0.587273</td>\n",
       "      <td>0.505455</td>\n",
       "      <td>0.616526</td>\n",
       "      <td>0.543024</td>\n",
       "    </tr>\n",
       "    <tr>\n",
       "      <th>15</th>\n",
       "      <td>4</td>\n",
       "      <td>KNN</td>\n",
       "      <td>{'n_neighbors': 15, 'weights': 'uniform'}</td>\n",
       "      <td>0.772727</td>\n",
       "      <td>0.818182</td>\n",
       "      <td>0.750000</td>\n",
       "      <td>0.782609</td>\n",
       "      <td>0.664091</td>\n",
       "      <td>0.599091</td>\n",
       "      <td>0.700139</td>\n",
       "      <td>0.636505</td>\n",
       "    </tr>\n",
       "    <tr>\n",
       "      <th>16</th>\n",
       "      <td>4</td>\n",
       "      <td>LDA</td>\n",
       "      <td>{'solver': 'svd'}</td>\n",
       "      <td>0.727273</td>\n",
       "      <td>0.818182</td>\n",
       "      <td>0.692308</td>\n",
       "      <td>0.750000</td>\n",
       "      <td>0.672727</td>\n",
       "      <td>0.628182</td>\n",
       "      <td>0.700042</td>\n",
       "      <td>0.654488</td>\n",
       "    </tr>\n",
       "    <tr>\n",
       "      <th>17</th>\n",
       "      <td>4</td>\n",
       "      <td>SVC</td>\n",
       "      <td>{'C': 0.5, 'kernel': 'sigmoid', 'probability':...</td>\n",
       "      <td>0.727273</td>\n",
       "      <td>0.818182</td>\n",
       "      <td>0.692308</td>\n",
       "      <td>0.750000</td>\n",
       "      <td>0.662727</td>\n",
       "      <td>0.645455</td>\n",
       "      <td>0.679846</td>\n",
       "      <td>0.652288</td>\n",
       "    </tr>\n",
       "    <tr>\n",
       "      <th>18</th>\n",
       "      <td>4</td>\n",
       "      <td>DT</td>\n",
       "      <td>{'criterion': 'gini', 'max_depth': 10, 'random...</td>\n",
       "      <td>0.681818</td>\n",
       "      <td>0.727273</td>\n",
       "      <td>0.666667</td>\n",
       "      <td>0.695652</td>\n",
       "      <td>0.540455</td>\n",
       "      <td>0.360909</td>\n",
       "      <td>0.577720</td>\n",
       "      <td>0.431502</td>\n",
       "    </tr>\n",
       "    <tr>\n",
       "      <th>19</th>\n",
       "      <td>4</td>\n",
       "      <td>RF</td>\n",
       "      <td>{'criterion': 'gini', 'max_depth': 5, 'n_estim...</td>\n",
       "      <td>0.727273</td>\n",
       "      <td>0.818182</td>\n",
       "      <td>0.692308</td>\n",
       "      <td>0.750000</td>\n",
       "      <td>0.596818</td>\n",
       "      <td>0.514545</td>\n",
       "      <td>0.625091</td>\n",
       "      <td>0.552710</td>\n",
       "    </tr>\n",
       "  </tbody>\n",
       "</table>\n",
       "</div>"
      ],
      "text/plain": [
       "    n_badan Model                                         parameters  \\\n",
       "0         1   KNN           {'n_neighbors': 5, 'weights': 'uniform'}   \n",
       "1         1   LDA                                 {'solver': 'lsqr'}   \n",
       "2         1   SVC  {'C': 0.1, 'kernel': 'linear', 'probability': ...   \n",
       "3         1    DT  {'criterion': 'gini', 'max_depth': 10, 'random...   \n",
       "4         1    RF  {'criterion': 'gini', 'max_depth': 5, 'n_estim...   \n",
       "5         2   KNN          {'n_neighbors': 15, 'weights': 'uniform'}   \n",
       "6         2   LDA                                  {'solver': 'svd'}   \n",
       "7         2   SVC  {'C': 0.5, 'kernel': 'linear', 'probability': ...   \n",
       "8         2    DT  {'criterion': 'gini', 'max_depth': 10, 'random...   \n",
       "9         2    RF  {'criterion': 'gini', 'max_depth': 5, 'n_estim...   \n",
       "10        3   KNN          {'n_neighbors': 20, 'weights': 'uniform'}   \n",
       "11        3   LDA                                  {'solver': 'svd'}   \n",
       "12        3   SVC  {'C': 1.5, 'kernel': 'linear', 'probability': ...   \n",
       "13        3    DT  {'criterion': 'gini', 'max_depth': 10, 'random...   \n",
       "14        3    RF  {'criterion': 'gini', 'max_depth': 5, 'n_estim...   \n",
       "15        4   KNN          {'n_neighbors': 15, 'weights': 'uniform'}   \n",
       "16        4   LDA                                  {'solver': 'svd'}   \n",
       "17        4   SVC  {'C': 0.5, 'kernel': 'sigmoid', 'probability':...   \n",
       "18        4    DT  {'criterion': 'gini', 'max_depth': 10, 'random...   \n",
       "19        4    RF  {'criterion': 'gini', 'max_depth': 5, 'n_estim...   \n",
       "\n",
       "    Dokładność test  Czułość test  Precyzja test  F1-score test  \\\n",
       "0          0.500000      1.000000       0.500000       0.666667   \n",
       "1          0.500000      1.000000       0.500000       0.666667   \n",
       "2          0.500000      1.000000       0.500000       0.666667   \n",
       "3          0.500000      1.000000       0.500000       0.666667   \n",
       "4          0.500000      1.000000       0.500000       0.666667   \n",
       "5          0.772727      0.727273       0.800000       0.761905   \n",
       "6          0.772727      0.727273       0.800000       0.761905   \n",
       "7          0.772727      0.727273       0.800000       0.761905   \n",
       "8          0.636364      0.454545       0.714286       0.555556   \n",
       "9          0.636364      0.454545       0.714286       0.555556   \n",
       "10         0.772727      0.727273       0.800000       0.761905   \n",
       "11         0.772727      0.818182       0.750000       0.782609   \n",
       "12         0.772727      0.727273       0.800000       0.761905   \n",
       "13         0.727273      0.636364       0.777778       0.700000   \n",
       "14         0.727273      0.727273       0.727273       0.727273   \n",
       "15         0.772727      0.818182       0.750000       0.782609   \n",
       "16         0.727273      0.818182       0.692308       0.750000   \n",
       "17         0.727273      0.818182       0.692308       0.750000   \n",
       "18         0.681818      0.727273       0.666667       0.695652   \n",
       "19         0.727273      0.818182       0.692308       0.750000   \n",
       "\n",
       "    Dokładność 100 test  Czułość 100 test  Precyzja 100 test  \\\n",
       "0              0.500000          0.580000           0.290000   \n",
       "1              0.500000          1.000000           0.500000   \n",
       "2              0.500000          1.000000           0.500000   \n",
       "3              0.500000          1.000000           0.500000   \n",
       "4              0.500000          0.840000           0.420000   \n",
       "5              0.610000          0.605455           0.624096   \n",
       "6              0.645909          0.607273           0.668385   \n",
       "7              0.647727          0.602727           0.671095   \n",
       "8              0.617273          0.577273           0.635645   \n",
       "9              0.617273          0.590000           0.632313   \n",
       "10             0.621818          0.520909           0.660955   \n",
       "11             0.639545          0.590909           0.663056   \n",
       "12             0.613636          0.481818           0.669727   \n",
       "13             0.584091          0.441818           0.640881   \n",
       "14             0.587273          0.505455           0.616526   \n",
       "15             0.664091          0.599091           0.700139   \n",
       "16             0.672727          0.628182           0.700042   \n",
       "17             0.662727          0.645455           0.679846   \n",
       "18             0.540455          0.360909           0.577720   \n",
       "19             0.596818          0.514545           0.625091   \n",
       "\n",
       "    F1-score 100 test  \n",
       "0            0.386667  \n",
       "1            0.666667  \n",
       "2            0.666667  \n",
       "3            0.666667  \n",
       "4            0.560000  \n",
       "5            0.599804  \n",
       "6            0.626982  \n",
       "7            0.626504  \n",
       "8            0.592836  \n",
       "9            0.598367  \n",
       "10           0.569375  \n",
       "11           0.613467  \n",
       "12           0.545301  \n",
       "13           0.507280  \n",
       "14           0.543024  \n",
       "15           0.636505  \n",
       "16           0.654488  \n",
       "17           0.652288  \n",
       "18           0.431502  \n",
       "19           0.552710  "
      ]
     },
     "execution_count": 303,
     "metadata": {},
     "output_type": "execute_result"
    }
   ],
   "source": [
    "results_df=pd.DataFrame(results2)\n",
    "results_df.head(20)"
   ]
  },
  {
   "cell_type": "code",
   "execution_count": null,
   "metadata": {},
   "outputs": [],
   "source": [
    "df=results_df[['n_badan', 'Model', 'Dokładność 100 test', 'Precyzja 100 test', 'Czułość 100 test', 'F1-score 100 test']]\n",
    "df"
   ]
  },
  {
   "cell_type": "code",
   "execution_count": null,
   "metadata": {},
   "outputs": [],
   "source": [
    "df2=df[df[\"n_badan\"]==3]\n",
    "df2.drop(columns='n_badan', inplace=True)\n",
    "\n",
    "# Przekształcenie za pomocą melt\n",
    "df_melted = df2.melt(id_vars=['Model'], var_name='Metryka', value_name='Wartość')\n",
    "\n",
    "# Generowanie wykresu słupkowego\n",
    "plt.figure(figsize=(10, 6))\n",
    "ax = sns.barplot(x='Model', y='Wartość', hue='Metryka', data=df_melted)\n",
    "\n",
    "# Dodanie etykiet i tytułów\n",
    "ax.set_xlabel('Numer badania')\n",
    "ax.set_ylabel('Wartości')\n",
    "ax.set_title('Porównanie metryk dla różnych badań')\n",
    "plt.legend(title='Model', bbox_to_anchor=(1.05, 1), loc='upper left')\n"
   ]
  },
  {
   "cell_type": "code",
   "execution_count": null,
   "metadata": {},
   "outputs": [],
   "source": [
    "x_label='Numer badania'\n",
    "title='klasyfikacja_obserwacje_accuracy'\n",
    "# results_df = results_df[results_df['Model'].isin(['LDA', 'KNN'])]\n",
    "fig = px.line(results_df, x='n_badan', y='Precyzja 100 test', color='Model', markers=True, line_shape='linear')\n",
    "\n",
    "# Dodajemy etykiety i tytuł\n",
    "fig.update_layout(\n",
    "    xaxis=dict(\n",
    "        title=x_label,\n",
    "        tickfont=dict(size=16),\n",
    "        title_font=dict(size=20),\n",
    "    ),\n",
    "    yaxis=dict(\n",
    "        title='Dokładność',\n",
    "        tickfont=dict(size=16),\n",
    "        title_font=dict(size=20),\n",
    "        range=[0, 1]\n",
    "    )\n",
    ")\n",
    "\n",
    "fig.update_layout(template=\"plotly_white\")\n",
    "fig.show()\n",
    "# fig.write_image(\"images5/wykresy_w_czasie_lda_knn.png\", width=1000, height=600, scale=4, format=\"png\")\n",
    "# fig.write_image(\"images5/wykresy_w_czasie_10_czułość.png\", width=1000, height=600, scale=4, format=\"png\")"
   ]
  },
  {
   "cell_type": "code",
   "execution_count": 309,
   "metadata": {},
   "outputs": [
    {
     "data": {
      "application/vnd.plotly.v1+json": {
       "config": {
        "plotlyServerURL": "https://plot.ly"
       },
       "data": [
        {
         "hovertemplate": "Model=KNN<br>n_badan=%{x}<br>F1-score 100 test=%{y}<extra></extra>",
         "legendgroup": "KNN",
         "line": {
          "color": "#636efa",
          "dash": "solid",
          "shape": "linear"
         },
         "marker": {
          "symbol": "circle"
         },
         "mode": "lines+markers",
         "name": "KNN",
         "orientation": "v",
         "showlegend": true,
         "type": "scatter",
         "x": [
          1,
          2,
          3,
          4,
          5,
          6,
          7,
          8,
          9,
          10,
          11,
          12,
          13,
          14,
          15,
          16,
          17,
          18,
          19,
          20,
          21,
          22,
          23,
          24,
          25,
          26,
          27,
          28,
          29,
          30,
          31,
          32,
          33,
          34,
          35,
          36,
          37,
          38,
          39,
          40,
          41,
          42,
          43,
          44,
          45,
          46,
          47,
          48,
          49,
          50,
          51,
          52,
          53,
          54,
          55,
          56,
          57,
          58,
          59,
          60,
          61,
          62,
          63,
          64
         ],
         "xaxis": "x",
         "y": [
          0.38666666666666655,
          0.59980439030581,
          0.5693746910774572,
          0.6365053147186341,
          0.6357476126287677,
          0.6032485169367656,
          0.5431301187072153,
          0.5886922997561508,
          0.5690951487228912,
          0.5890533314802933,
          0.5898289715287628,
          0.5891211811363581,
          0.6262775145284164,
          0.6095947509856918,
          0.6099858390738051,
          0.6130144962827961,
          0.616522179410455,
          0.6155911841183748,
          0.651431584497374,
          0.6398300535108988,
          0.6612231307452067,
          0.6663125470908148,
          0.6885933040905043,
          0.6943593648084765,
          0.7236755579600848,
          0.7110602385118807,
          0.710659487302306,
          0.7086878015001855,
          0.7122942639575766,
          0.7393901844143801,
          0.7475593466150068,
          0.7435600282967357,
          0.7558673209315624,
          0.7466842662729053,
          0.7464673339552864,
          0.7605088369998856,
          0.7804310772086379,
          0.759224684201397,
          0.7951231706814893,
          0.7854577189311338,
          0.7848787715627128,
          0.7847387646827678,
          0.8126645759267578,
          0.8006773872700039,
          0.8051837005712761,
          0.8081489769723852,
          0.808021292565289,
          0.814774254583603,
          0.8134976463964685,
          0.8131309797298018,
          0.8121624219717704,
          0.8121624219717704,
          0.811530843024402,
          0.8120546525482115,
          0.8120546525482115,
          0.8126260811196402,
          0.81238433370297,
          0.81238433370297,
          0.81238433370297,
          0.81238433370297,
          0.81238433370297,
          0.81238433370297,
          0.81238433370297,
          0.81238433370297
         ],
         "yaxis": "y"
        },
        {
         "hovertemplate": "Model=LDA<br>n_badan=%{x}<br>F1-score 100 test=%{y}<extra></extra>",
         "legendgroup": "LDA",
         "line": {
          "color": "#EF553B",
          "dash": "solid",
          "shape": "linear"
         },
         "marker": {
          "symbol": "circle"
         },
         "mode": "lines+markers",
         "name": "LDA",
         "orientation": "v",
         "showlegend": true,
         "type": "scatter",
         "x": [
          1,
          2,
          3,
          4,
          5,
          6,
          7,
          8,
          9,
          10,
          11,
          12,
          13,
          14,
          15,
          16,
          17,
          18,
          19,
          20,
          21,
          22,
          23,
          24,
          25,
          26,
          27,
          28,
          29,
          30,
          31,
          32,
          33,
          34,
          35,
          36,
          37,
          38,
          39,
          40,
          41,
          42,
          43,
          44,
          45,
          46,
          47,
          48,
          49,
          50,
          51,
          52,
          53,
          54,
          55,
          56,
          57,
          58,
          59,
          60,
          61,
          62,
          63,
          64
         ],
         "xaxis": "x",
         "y": [
          0.6666666666666669,
          0.6269823172198793,
          0.6134674352882725,
          0.6544878789417757,
          0.6230824723949168,
          0.623974742345344,
          0.6603528092911859,
          0.637036538441741,
          0.643227432003243,
          0.6422846416494621,
          0.6554797714467522,
          0.6591433720031782,
          0.6639314678718031,
          0.6566162879006399,
          0.6576282573441277,
          0.6679743529223205,
          0.6748613817980825,
          0.6626944202616905,
          0.6860956945083005,
          0.6947870955191591,
          0.7111959921601261,
          0.7124704098604018,
          0.7208881241064913,
          0.7226341878683378,
          0.7327313012244631,
          0.7475833157576932,
          0.7753482430695041,
          0.7639387036431657,
          0.768712027591917,
          0.7762349982393729,
          0.807158245547396,
          0.7996485181248609,
          0.8155503867783851,
          0.8050866744575923,
          0.8182906066996521,
          0.8218739678577205,
          0.8263055507675644,
          0.8256891679131952,
          0.828942117888692,
          0.8338911928934947,
          0.8338911928934947,
          0.8338911928934947,
          0.838858750709215,
          0.8375201257186449,
          0.8367291717196816,
          0.836511499739996,
          0.836511499739996,
          0.8491689992199212,
          0.8503770192700465,
          0.8503770192700465,
          0.8503770192700465,
          0.8503770192700465,
          0.8503770192700465,
          0.8503770192700465,
          0.8503770192700465,
          0.8503770192700465,
          0.8510983631435641,
          0.8510983631435641,
          0.8510983631435641,
          0.8510983631435641,
          0.8510983631435641,
          0.8510983631435641,
          0.8510983631435641,
          0.8510983631435641
         ],
         "yaxis": "y"
        },
        {
         "hovertemplate": "Model=SVC<br>n_badan=%{x}<br>F1-score 100 test=%{y}<extra></extra>",
         "legendgroup": "SVC",
         "line": {
          "color": "#00cc96",
          "dash": "solid",
          "shape": "linear"
         },
         "marker": {
          "symbol": "circle"
         },
         "mode": "lines+markers",
         "name": "SVC",
         "orientation": "v",
         "showlegend": true,
         "type": "scatter",
         "x": [
          1,
          2,
          3,
          4,
          5,
          6,
          7,
          8,
          9,
          10,
          11,
          12,
          13,
          14,
          15,
          16,
          17,
          18,
          19,
          20,
          21,
          22,
          23,
          24,
          25,
          26,
          27,
          28,
          29,
          30,
          31,
          32,
          33,
          34,
          35,
          36,
          37,
          38,
          39,
          40,
          41,
          42,
          43,
          44,
          45,
          46,
          47,
          48,
          49,
          50,
          51,
          52,
          53,
          54,
          55,
          56,
          57,
          58,
          59,
          60,
          61,
          62,
          63,
          64
         ],
         "xaxis": "x",
         "y": [
          0.6666666666666669,
          0.6265043798254659,
          0.545301009702073,
          0.6522881267209979,
          0.6541554260033798,
          0.6183024595205575,
          0.5835722936334391,
          0.6211426518359819,
          0.6511849699462231,
          0.6566325408771095,
          0.5945664339960005,
          0.6545863014514985,
          0.6886732031776722,
          0.6713660184097323,
          0.6552107441697562,
          0.6818465333293707,
          0.6801921874359619,
          0.6623875596435093,
          0.675245585006071,
          0.6808765079306809,
          0.701951390430661,
          0.7450248115915434,
          0.7499699935053954,
          0.7603392684131949,
          0.7411703855289804,
          0.7507124077631885,
          0.7555622207805207,
          0.7562692323791731,
          0.7607492618238613,
          0.7616266793465877,
          0.7962805748341486,
          0.7879998610369452,
          0.8115137955290398,
          0.7970087696280926,
          0.8134733763626482,
          0.814843216504409,
          0.8286130897833414,
          0.8120524150189111,
          0.8297728752051404,
          0.8157234817699214,
          0.816221770209171,
          0.818344146383721,
          0.827566944924476,
          0.8334170279220487,
          0.813371774853226,
          0.8354341417657137,
          0.8356658901963114,
          0.8418979010534939,
          0.8291445553060978,
          0.8280868891397359,
          0.8291220489216988,
          0.8280435621910383,
          0.8294022823758453,
          0.829141789245787,
          0.843278224501552,
          0.8422293857127751,
          0.8525578612111926,
          0.8525578612111926,
          0.8525578612111926,
          0.8525578612111926,
          0.8531206317739631,
          0.8531206317739631,
          0.8531206317739631,
          0.8531206317739631
         ],
         "yaxis": "y"
        },
        {
         "hovertemplate": "Model=DT<br>n_badan=%{x}<br>F1-score 100 test=%{y}<extra></extra>",
         "legendgroup": "DT",
         "line": {
          "color": "#ab63fa",
          "dash": "solid",
          "shape": "linear"
         },
         "marker": {
          "symbol": "circle"
         },
         "mode": "lines+markers",
         "name": "DT",
         "orientation": "v",
         "showlegend": true,
         "type": "scatter",
         "x": [
          1,
          2,
          3,
          4,
          5,
          6,
          7,
          8,
          9,
          10,
          11,
          12,
          13,
          14,
          15,
          16,
          17,
          18,
          19,
          20,
          21,
          22,
          23,
          24,
          25,
          26,
          27,
          28,
          29,
          30,
          31,
          32,
          33,
          34,
          35,
          36,
          37,
          38,
          39,
          40,
          41,
          42,
          43,
          44,
          45,
          46,
          47,
          48,
          49,
          50,
          51,
          52,
          53,
          54,
          55,
          56,
          57,
          58,
          59,
          60,
          61,
          62,
          63,
          64
         ],
         "xaxis": "x",
         "y": [
          0.6666666666666669,
          0.5928356104157455,
          0.5072804382497745,
          0.43150209132262574,
          0.41427488525817374,
          0.42783786525763917,
          0.6004144758095088,
          0.6150439756499775,
          0.6667967020041984,
          0.6616959773193485,
          0.6707915323425621,
          0.6578777231122028,
          0.6376677533314563,
          0.6910766334043354,
          0.6087694365918354,
          0.5838068904898962,
          0.5868614465723027,
          0.5945879067717403,
          0.5877740583412999,
          0.6005476558887783,
          0.6312649458220396,
          0.6288614507977478,
          0.6284250675514641,
          0.6167154051979938,
          0.6186964726057806,
          0.6654826894813219,
          0.6687161402999269,
          0.6802794671031446,
          0.6896096938318906,
          0.6926617988986681,
          0.6961723205263252,
          0.6928120733885847,
          0.7018951667776544,
          0.6776045305858002,
          0.7207647818788552,
          0.7321878544796165,
          0.720179389201357,
          0.7210564162678577,
          0.7343788388097449,
          0.7312060470506694,
          0.741539860649364,
          0.7253875212357376,
          0.7270105536467091,
          0.7132503719549619,
          0.7321401584929381,
          0.7274062677519805,
          0.7317302975233787,
          0.7333781001851132,
          0.7284578907225696,
          0.7280353884854222,
          0.7274293278793615,
          0.7274293278793615,
          0.7274293278793615,
          0.7305300886746305,
          0.7225478356111417,
          0.722824515453039,
          0.724651810964545,
          0.724651810964545,
          0.724651810964545,
          0.724651810964545,
          0.724651810964545,
          0.7267436743516028,
          0.724651810964545,
          0.724651810964545
         ],
         "yaxis": "y"
        },
        {
         "hovertemplate": "Model=RF<br>n_badan=%{x}<br>F1-score 100 test=%{y}<extra></extra>",
         "legendgroup": "RF",
         "line": {
          "color": "#FFA15A",
          "dash": "solid",
          "shape": "linear"
         },
         "marker": {
          "symbol": "circle"
         },
         "mode": "lines+markers",
         "name": "RF",
         "orientation": "v",
         "showlegend": true,
         "type": "scatter",
         "x": [
          1,
          2,
          3,
          4,
          5,
          6,
          7,
          8,
          9,
          10,
          11,
          12,
          13,
          14,
          15,
          16,
          17,
          18,
          19,
          20,
          21,
          22,
          23,
          24,
          25,
          26,
          27,
          28,
          29,
          30,
          31,
          32,
          33,
          34,
          35,
          36,
          37,
          38,
          39,
          40,
          41,
          42,
          43,
          44,
          45,
          46,
          47,
          48,
          49,
          50,
          51,
          52,
          53,
          54,
          55,
          56,
          57,
          58,
          59,
          60,
          61,
          62,
          63,
          64
         ],
         "xaxis": "x",
         "y": [
          0.5599999999999999,
          0.59836662974697,
          0.5430236337748788,
          0.5527099778795161,
          0.5490300309500403,
          0.5588854216121344,
          0.6264215547789582,
          0.6521893922308378,
          0.6382902361207988,
          0.6426874516757677,
          0.6403529269634062,
          0.6447726676249222,
          0.629013513290078,
          0.620844656006313,
          0.6315853835206238,
          0.6074692684137427,
          0.63221866175757,
          0.6063510372459087,
          0.6547623581799513,
          0.6561500900544245,
          0.6647846296171038,
          0.663287635451251,
          0.6698670026074791,
          0.6869795821421815,
          0.6531040147121989,
          0.7074229479775247,
          0.6805998307901996,
          0.6974449342793132,
          0.7072890474700811,
          0.7224623501871115,
          0.7583499721731181,
          0.7356682006511458,
          0.7568121692533993,
          0.7339415531926234,
          0.7760201722837068,
          0.776352934706818,
          0.761591535194887,
          0.752355153724396,
          0.7835200440829866,
          0.7785321981192554,
          0.7872122574887012,
          0.783497243043023,
          0.7841092663387722,
          0.7809505161520102,
          0.7845434475362459,
          0.7863953303044702,
          0.7858929665131038,
          0.7735121028587781,
          0.7742232072726284,
          0.7835581751950307,
          0.7886373074012728,
          0.7886373074012728,
          0.789280582255074,
          0.7854933860035758,
          0.7853704909957702,
          0.7873142139394932,
          0.7780943973534431,
          0.7780943973534431,
          0.7776490532238886,
          0.7773157198905553,
          0.775498520028154,
          0.7746059922660611,
          0.775498520028154,
          0.775498520028154
         ],
         "yaxis": "y"
        }
       ],
       "layout": {
        "legend": {
         "title": {
          "text": "Model"
         },
         "tracegroupgap": 0
        },
        "margin": {
         "t": 60
        },
        "template": {
         "data": {
          "bar": [
           {
            "error_x": {
             "color": "#2a3f5f"
            },
            "error_y": {
             "color": "#2a3f5f"
            },
            "marker": {
             "line": {
              "color": "white",
              "width": 0.5
             },
             "pattern": {
              "fillmode": "overlay",
              "size": 10,
              "solidity": 0.2
             }
            },
            "type": "bar"
           }
          ],
          "barpolar": [
           {
            "marker": {
             "line": {
              "color": "white",
              "width": 0.5
             },
             "pattern": {
              "fillmode": "overlay",
              "size": 10,
              "solidity": 0.2
             }
            },
            "type": "barpolar"
           }
          ],
          "carpet": [
           {
            "aaxis": {
             "endlinecolor": "#2a3f5f",
             "gridcolor": "#C8D4E3",
             "linecolor": "#C8D4E3",
             "minorgridcolor": "#C8D4E3",
             "startlinecolor": "#2a3f5f"
            },
            "baxis": {
             "endlinecolor": "#2a3f5f",
             "gridcolor": "#C8D4E3",
             "linecolor": "#C8D4E3",
             "minorgridcolor": "#C8D4E3",
             "startlinecolor": "#2a3f5f"
            },
            "type": "carpet"
           }
          ],
          "choropleth": [
           {
            "colorbar": {
             "outlinewidth": 0,
             "ticks": ""
            },
            "type": "choropleth"
           }
          ],
          "contour": [
           {
            "colorbar": {
             "outlinewidth": 0,
             "ticks": ""
            },
            "colorscale": [
             [
              0,
              "#0d0887"
             ],
             [
              0.1111111111111111,
              "#46039f"
             ],
             [
              0.2222222222222222,
              "#7201a8"
             ],
             [
              0.3333333333333333,
              "#9c179e"
             ],
             [
              0.4444444444444444,
              "#bd3786"
             ],
             [
              0.5555555555555556,
              "#d8576b"
             ],
             [
              0.6666666666666666,
              "#ed7953"
             ],
             [
              0.7777777777777778,
              "#fb9f3a"
             ],
             [
              0.8888888888888888,
              "#fdca26"
             ],
             [
              1,
              "#f0f921"
             ]
            ],
            "type": "contour"
           }
          ],
          "contourcarpet": [
           {
            "colorbar": {
             "outlinewidth": 0,
             "ticks": ""
            },
            "type": "contourcarpet"
           }
          ],
          "heatmap": [
           {
            "colorbar": {
             "outlinewidth": 0,
             "ticks": ""
            },
            "colorscale": [
             [
              0,
              "#0d0887"
             ],
             [
              0.1111111111111111,
              "#46039f"
             ],
             [
              0.2222222222222222,
              "#7201a8"
             ],
             [
              0.3333333333333333,
              "#9c179e"
             ],
             [
              0.4444444444444444,
              "#bd3786"
             ],
             [
              0.5555555555555556,
              "#d8576b"
             ],
             [
              0.6666666666666666,
              "#ed7953"
             ],
             [
              0.7777777777777778,
              "#fb9f3a"
             ],
             [
              0.8888888888888888,
              "#fdca26"
             ],
             [
              1,
              "#f0f921"
             ]
            ],
            "type": "heatmap"
           }
          ],
          "heatmapgl": [
           {
            "colorbar": {
             "outlinewidth": 0,
             "ticks": ""
            },
            "colorscale": [
             [
              0,
              "#0d0887"
             ],
             [
              0.1111111111111111,
              "#46039f"
             ],
             [
              0.2222222222222222,
              "#7201a8"
             ],
             [
              0.3333333333333333,
              "#9c179e"
             ],
             [
              0.4444444444444444,
              "#bd3786"
             ],
             [
              0.5555555555555556,
              "#d8576b"
             ],
             [
              0.6666666666666666,
              "#ed7953"
             ],
             [
              0.7777777777777778,
              "#fb9f3a"
             ],
             [
              0.8888888888888888,
              "#fdca26"
             ],
             [
              1,
              "#f0f921"
             ]
            ],
            "type": "heatmapgl"
           }
          ],
          "histogram": [
           {
            "marker": {
             "pattern": {
              "fillmode": "overlay",
              "size": 10,
              "solidity": 0.2
             }
            },
            "type": "histogram"
           }
          ],
          "histogram2d": [
           {
            "colorbar": {
             "outlinewidth": 0,
             "ticks": ""
            },
            "colorscale": [
             [
              0,
              "#0d0887"
             ],
             [
              0.1111111111111111,
              "#46039f"
             ],
             [
              0.2222222222222222,
              "#7201a8"
             ],
             [
              0.3333333333333333,
              "#9c179e"
             ],
             [
              0.4444444444444444,
              "#bd3786"
             ],
             [
              0.5555555555555556,
              "#d8576b"
             ],
             [
              0.6666666666666666,
              "#ed7953"
             ],
             [
              0.7777777777777778,
              "#fb9f3a"
             ],
             [
              0.8888888888888888,
              "#fdca26"
             ],
             [
              1,
              "#f0f921"
             ]
            ],
            "type": "histogram2d"
           }
          ],
          "histogram2dcontour": [
           {
            "colorbar": {
             "outlinewidth": 0,
             "ticks": ""
            },
            "colorscale": [
             [
              0,
              "#0d0887"
             ],
             [
              0.1111111111111111,
              "#46039f"
             ],
             [
              0.2222222222222222,
              "#7201a8"
             ],
             [
              0.3333333333333333,
              "#9c179e"
             ],
             [
              0.4444444444444444,
              "#bd3786"
             ],
             [
              0.5555555555555556,
              "#d8576b"
             ],
             [
              0.6666666666666666,
              "#ed7953"
             ],
             [
              0.7777777777777778,
              "#fb9f3a"
             ],
             [
              0.8888888888888888,
              "#fdca26"
             ],
             [
              1,
              "#f0f921"
             ]
            ],
            "type": "histogram2dcontour"
           }
          ],
          "mesh3d": [
           {
            "colorbar": {
             "outlinewidth": 0,
             "ticks": ""
            },
            "type": "mesh3d"
           }
          ],
          "parcoords": [
           {
            "line": {
             "colorbar": {
              "outlinewidth": 0,
              "ticks": ""
             }
            },
            "type": "parcoords"
           }
          ],
          "pie": [
           {
            "automargin": true,
            "type": "pie"
           }
          ],
          "scatter": [
           {
            "marker": {
             "colorbar": {
              "outlinewidth": 0,
              "ticks": ""
             }
            },
            "type": "scatter"
           }
          ],
          "scatter3d": [
           {
            "line": {
             "colorbar": {
              "outlinewidth": 0,
              "ticks": ""
             }
            },
            "marker": {
             "colorbar": {
              "outlinewidth": 0,
              "ticks": ""
             }
            },
            "type": "scatter3d"
           }
          ],
          "scattercarpet": [
           {
            "marker": {
             "colorbar": {
              "outlinewidth": 0,
              "ticks": ""
             }
            },
            "type": "scattercarpet"
           }
          ],
          "scattergeo": [
           {
            "marker": {
             "colorbar": {
              "outlinewidth": 0,
              "ticks": ""
             }
            },
            "type": "scattergeo"
           }
          ],
          "scattergl": [
           {
            "marker": {
             "colorbar": {
              "outlinewidth": 0,
              "ticks": ""
             }
            },
            "type": "scattergl"
           }
          ],
          "scattermapbox": [
           {
            "marker": {
             "colorbar": {
              "outlinewidth": 0,
              "ticks": ""
             }
            },
            "type": "scattermapbox"
           }
          ],
          "scatterpolar": [
           {
            "marker": {
             "colorbar": {
              "outlinewidth": 0,
              "ticks": ""
             }
            },
            "type": "scatterpolar"
           }
          ],
          "scatterpolargl": [
           {
            "marker": {
             "colorbar": {
              "outlinewidth": 0,
              "ticks": ""
             }
            },
            "type": "scatterpolargl"
           }
          ],
          "scatterternary": [
           {
            "marker": {
             "colorbar": {
              "outlinewidth": 0,
              "ticks": ""
             }
            },
            "type": "scatterternary"
           }
          ],
          "surface": [
           {
            "colorbar": {
             "outlinewidth": 0,
             "ticks": ""
            },
            "colorscale": [
             [
              0,
              "#0d0887"
             ],
             [
              0.1111111111111111,
              "#46039f"
             ],
             [
              0.2222222222222222,
              "#7201a8"
             ],
             [
              0.3333333333333333,
              "#9c179e"
             ],
             [
              0.4444444444444444,
              "#bd3786"
             ],
             [
              0.5555555555555556,
              "#d8576b"
             ],
             [
              0.6666666666666666,
              "#ed7953"
             ],
             [
              0.7777777777777778,
              "#fb9f3a"
             ],
             [
              0.8888888888888888,
              "#fdca26"
             ],
             [
              1,
              "#f0f921"
             ]
            ],
            "type": "surface"
           }
          ],
          "table": [
           {
            "cells": {
             "fill": {
              "color": "#EBF0F8"
             },
             "line": {
              "color": "white"
             }
            },
            "header": {
             "fill": {
              "color": "#C8D4E3"
             },
             "line": {
              "color": "white"
             }
            },
            "type": "table"
           }
          ]
         },
         "layout": {
          "annotationdefaults": {
           "arrowcolor": "#2a3f5f",
           "arrowhead": 0,
           "arrowwidth": 1
          },
          "autotypenumbers": "strict",
          "coloraxis": {
           "colorbar": {
            "outlinewidth": 0,
            "ticks": ""
           }
          },
          "colorscale": {
           "diverging": [
            [
             0,
             "#8e0152"
            ],
            [
             0.1,
             "#c51b7d"
            ],
            [
             0.2,
             "#de77ae"
            ],
            [
             0.3,
             "#f1b6da"
            ],
            [
             0.4,
             "#fde0ef"
            ],
            [
             0.5,
             "#f7f7f7"
            ],
            [
             0.6,
             "#e6f5d0"
            ],
            [
             0.7,
             "#b8e186"
            ],
            [
             0.8,
             "#7fbc41"
            ],
            [
             0.9,
             "#4d9221"
            ],
            [
             1,
             "#276419"
            ]
           ],
           "sequential": [
            [
             0,
             "#0d0887"
            ],
            [
             0.1111111111111111,
             "#46039f"
            ],
            [
             0.2222222222222222,
             "#7201a8"
            ],
            [
             0.3333333333333333,
             "#9c179e"
            ],
            [
             0.4444444444444444,
             "#bd3786"
            ],
            [
             0.5555555555555556,
             "#d8576b"
            ],
            [
             0.6666666666666666,
             "#ed7953"
            ],
            [
             0.7777777777777778,
             "#fb9f3a"
            ],
            [
             0.8888888888888888,
             "#fdca26"
            ],
            [
             1,
             "#f0f921"
            ]
           ],
           "sequentialminus": [
            [
             0,
             "#0d0887"
            ],
            [
             0.1111111111111111,
             "#46039f"
            ],
            [
             0.2222222222222222,
             "#7201a8"
            ],
            [
             0.3333333333333333,
             "#9c179e"
            ],
            [
             0.4444444444444444,
             "#bd3786"
            ],
            [
             0.5555555555555556,
             "#d8576b"
            ],
            [
             0.6666666666666666,
             "#ed7953"
            ],
            [
             0.7777777777777778,
             "#fb9f3a"
            ],
            [
             0.8888888888888888,
             "#fdca26"
            ],
            [
             1,
             "#f0f921"
            ]
           ]
          },
          "colorway": [
           "#636efa",
           "#EF553B",
           "#00cc96",
           "#ab63fa",
           "#FFA15A",
           "#19d3f3",
           "#FF6692",
           "#B6E880",
           "#FF97FF",
           "#FECB52"
          ],
          "font": {
           "color": "#2a3f5f"
          },
          "geo": {
           "bgcolor": "white",
           "lakecolor": "white",
           "landcolor": "white",
           "showlakes": true,
           "showland": true,
           "subunitcolor": "#C8D4E3"
          },
          "hoverlabel": {
           "align": "left"
          },
          "hovermode": "closest",
          "mapbox": {
           "style": "light"
          },
          "paper_bgcolor": "white",
          "plot_bgcolor": "white",
          "polar": {
           "angularaxis": {
            "gridcolor": "#EBF0F8",
            "linecolor": "#EBF0F8",
            "ticks": ""
           },
           "bgcolor": "white",
           "radialaxis": {
            "gridcolor": "#EBF0F8",
            "linecolor": "#EBF0F8",
            "ticks": ""
           }
          },
          "scene": {
           "xaxis": {
            "backgroundcolor": "white",
            "gridcolor": "#DFE8F3",
            "gridwidth": 2,
            "linecolor": "#EBF0F8",
            "showbackground": true,
            "ticks": "",
            "zerolinecolor": "#EBF0F8"
           },
           "yaxis": {
            "backgroundcolor": "white",
            "gridcolor": "#DFE8F3",
            "gridwidth": 2,
            "linecolor": "#EBF0F8",
            "showbackground": true,
            "ticks": "",
            "zerolinecolor": "#EBF0F8"
           },
           "zaxis": {
            "backgroundcolor": "white",
            "gridcolor": "#DFE8F3",
            "gridwidth": 2,
            "linecolor": "#EBF0F8",
            "showbackground": true,
            "ticks": "",
            "zerolinecolor": "#EBF0F8"
           }
          },
          "shapedefaults": {
           "line": {
            "color": "#2a3f5f"
           }
          },
          "ternary": {
           "aaxis": {
            "gridcolor": "#DFE8F3",
            "linecolor": "#A2B1C6",
            "ticks": ""
           },
           "baxis": {
            "gridcolor": "#DFE8F3",
            "linecolor": "#A2B1C6",
            "ticks": ""
           },
           "bgcolor": "white",
           "caxis": {
            "gridcolor": "#DFE8F3",
            "linecolor": "#A2B1C6",
            "ticks": ""
           }
          },
          "title": {
           "x": 0.05
          },
          "xaxis": {
           "automargin": true,
           "gridcolor": "#EBF0F8",
           "linecolor": "#EBF0F8",
           "ticks": "",
           "title": {
            "standoff": 15
           },
           "zerolinecolor": "#EBF0F8",
           "zerolinewidth": 2
          },
          "yaxis": {
           "automargin": true,
           "gridcolor": "#EBF0F8",
           "linecolor": "#EBF0F8",
           "ticks": "",
           "title": {
            "standoff": 15
           },
           "zerolinecolor": "#EBF0F8",
           "zerolinewidth": 2
          }
         }
        },
        "xaxis": {
         "anchor": "y",
         "domain": [
          0,
          1
         ],
         "tickfont": {
          "size": 16
         },
         "title": {
          "font": {
           "size": 20
          },
          "text": "Numer badania"
         }
        },
        "yaxis": {
         "anchor": "x",
         "domain": [
          0,
          1
         ],
         "range": [
          0,
          1
         ],
         "tickfont": {
          "size": 16
         },
         "title": {
          "font": {
           "size": 20
          },
          "text": "F1-score"
         }
        }
       }
      }
     },
     "metadata": {},
     "output_type": "display_data"
    }
   ],
   "source": [
    "x_label='Numer badania'\n",
    "title='klasyfikacja_obserwacje_accuracy'\n",
    "# results_df = results_df[results_df['Model'].isin(['LDA', 'KNN'])]\n",
    "fig = px.line(results_df, x='n_badan', y='F1-score 100 test', color='Model', markers=True, line_shape='linear')\n",
    "\n",
    "# Dodajemy etykiety i tytuł\n",
    "fig.update_layout(\n",
    "    xaxis=dict(\n",
    "        title=x_label,\n",
    "        tickfont=dict(size=16),\n",
    "        title_font=dict(size=20),\n",
    "    ),\n",
    "    yaxis=dict(\n",
    "        title='F1-score',\n",
    "        tickfont=dict(size=16),\n",
    "        title_font=dict(size=20),\n",
    "        range=[0, 1]\n",
    "    )\n",
    ")\n",
    "\n",
    "fig.update_layout(template=\"plotly_white\")\n",
    "fig.show()\n",
    "# fig.write_image(\"images5/wykresy_w_czasie_lda_knn.png\", width=1000, height=600, scale=4, format=\"png\")\n",
    "fig.write_image(\"images5/wykresy_w_czasie_100_fscore.png\", width=1000, height=600, scale=4, format=\"png\")"
   ]
  },
  {
   "cell_type": "code",
   "execution_count": 310,
   "metadata": {},
   "outputs": [
    {
     "data": {
      "application/vnd.plotly.v1+json": {
       "config": {
        "plotlyServerURL": "https://plot.ly"
       },
       "data": [
        {
         "hovertemplate": "Model=KNN<br>n_badan=%{x}<br>Dokładność 100 test=%{y}<extra></extra>",
         "legendgroup": "KNN",
         "line": {
          "color": "#636efa",
          "dash": "solid",
          "shape": "linear"
         },
         "marker": {
          "symbol": "circle"
         },
         "mode": "lines+markers",
         "name": "KNN",
         "orientation": "v",
         "showlegend": true,
         "type": "scatter",
         "x": [
          1,
          2,
          3,
          4,
          5,
          6,
          7,
          8,
          9,
          10,
          11,
          12,
          13,
          14,
          15,
          16,
          17,
          18,
          19,
          20,
          21,
          22,
          23,
          24,
          25,
          26,
          27,
          28,
          29,
          30,
          31,
          32,
          33,
          34,
          35,
          36,
          37,
          38,
          39,
          40,
          41,
          42,
          43,
          44,
          45,
          46,
          47,
          48,
          49,
          50,
          51,
          52,
          53,
          54,
          55,
          56,
          57,
          58,
          59,
          60,
          61,
          62,
          63,
          64
         ],
         "xaxis": "x",
         "y": [
          0.5,
          0.6099999999999999,
          0.6218181818181818,
          0.6640909090909091,
          0.6713636363636364,
          0.6690909090909091,
          0.6295454545454546,
          0.6395454545454545,
          0.6704545454545457,
          0.6500000000000001,
          0.685909090909091,
          0.6622727272727272,
          0.6627272727272728,
          0.6663636363636364,
          0.6895454545454548,
          0.6918181818181819,
          0.6927272727272729,
          0.6890909090909092,
          0.7209090909090909,
          0.7090909090909093,
          0.727727272727273,
          0.731818181818182,
          0.7431818181818183,
          0.7522727272727274,
          0.7713636363636364,
          0.7722727272727272,
          0.7636363636363638,
          0.7595454545454544,
          0.770909090909091,
          0.7763636363636363,
          0.7881818181818181,
          0.7886363636363636,
          0.7999999999999998,
          0.7895454545454544,
          0.79,
          0.7968181818181819,
          0.808181818181818,
          0.7972727272727272,
          0.822272727272727,
          0.8163636363636361,
          0.8159090909090908,
          0.8159090909090908,
          0.836363636363636,
          0.8268181818181816,
          0.8304545454545452,
          0.832272727272727,
          0.832272727272727,
          0.8377272727272724,
          0.8368181818181816,
          0.836363636363636,
          0.835454545454545,
          0.835454545454545,
          0.8349999999999997,
          0.8354545454545452,
          0.8354545454545452,
          0.8359090909090906,
          0.8359090909090906,
          0.8359090909090906,
          0.8359090909090906,
          0.8359090909090906,
          0.8359090909090906,
          0.8359090909090906,
          0.8359090909090906,
          0.8359090909090906
         ],
         "yaxis": "y"
        },
        {
         "hovertemplate": "Model=LDA<br>n_badan=%{x}<br>Dokładność 100 test=%{y}<extra></extra>",
         "legendgroup": "LDA",
         "line": {
          "color": "#EF553B",
          "dash": "solid",
          "shape": "linear"
         },
         "marker": {
          "symbol": "circle"
         },
         "mode": "lines+markers",
         "name": "LDA",
         "orientation": "v",
         "showlegend": true,
         "type": "scatter",
         "x": [
          1,
          2,
          3,
          4,
          5,
          6,
          7,
          8,
          9,
          10,
          11,
          12,
          13,
          14,
          15,
          16,
          17,
          18,
          19,
          20,
          21,
          22,
          23,
          24,
          25,
          26,
          27,
          28,
          29,
          30,
          31,
          32,
          33,
          34,
          35,
          36,
          37,
          38,
          39,
          40,
          41,
          42,
          43,
          44,
          45,
          46,
          47,
          48,
          49,
          50,
          51,
          52,
          53,
          54,
          55,
          56,
          57,
          58,
          59,
          60,
          61,
          62,
          63,
          64
         ],
         "xaxis": "x",
         "y": [
          0.5,
          0.6459090909090908,
          0.6395454545454545,
          0.6727272727272728,
          0.649090909090909,
          0.6527272727272727,
          0.6881818181818181,
          0.6809090909090909,
          0.6909090909090909,
          0.6877272727272729,
          0.695909090909091,
          0.7031818181818185,
          0.7059090909090909,
          0.6963636363636365,
          0.7004545454545454,
          0.7168181818181819,
          0.7245454545454545,
          0.7068181818181819,
          0.720909090909091,
          0.7322727272727273,
          0.746818181818182,
          0.7477272727272728,
          0.7559090909090908,
          0.7595454545454544,
          0.7645454545454545,
          0.7799999999999998,
          0.803181818181818,
          0.793181818181818,
          0.7927272727272724,
          0.7995454545454543,
          0.8268181818181816,
          0.8213636363636361,
          0.8345454545454543,
          0.8236363636363633,
          0.8327272727272725,
          0.8349999999999999,
          0.8390909090909089,
          0.838181818181818,
          0.841363636363636,
          0.8449999999999998,
          0.8449999999999998,
          0.8449999999999998,
          0.8490909090909088,
          0.8472727272727272,
          0.8472727272727271,
          0.8472727272727271,
          0.8472727272727271,
          0.8577272727272726,
          0.8586363636363634,
          0.8586363636363634,
          0.8586363636363634,
          0.8586363636363634,
          0.8586363636363634,
          0.8586363636363634,
          0.8586363636363634,
          0.8586363636363634,
          0.8595454545454543,
          0.8595454545454543,
          0.8595454545454543,
          0.8595454545454543,
          0.8595454545454543,
          0.8595454545454543,
          0.8595454545454543,
          0.8595454545454543
         ],
         "yaxis": "y"
        },
        {
         "hovertemplate": "Model=SVC<br>n_badan=%{x}<br>Dokładność 100 test=%{y}<extra></extra>",
         "legendgroup": "SVC",
         "line": {
          "color": "#00cc96",
          "dash": "solid",
          "shape": "linear"
         },
         "marker": {
          "symbol": "circle"
         },
         "mode": "lines+markers",
         "name": "SVC",
         "orientation": "v",
         "showlegend": true,
         "type": "scatter",
         "x": [
          1,
          2,
          3,
          4,
          5,
          6,
          7,
          8,
          9,
          10,
          11,
          12,
          13,
          14,
          15,
          16,
          17,
          18,
          19,
          20,
          21,
          22,
          23,
          24,
          25,
          26,
          27,
          28,
          29,
          30,
          31,
          32,
          33,
          34,
          35,
          36,
          37,
          38,
          39,
          40,
          41,
          42,
          43,
          44,
          45,
          46,
          47,
          48,
          49,
          50,
          51,
          52,
          53,
          54,
          55,
          56,
          57,
          58,
          59,
          60,
          61,
          62,
          63,
          64
         ],
         "xaxis": "x",
         "y": [
          0.5,
          0.6477272727272727,
          0.6136363636363635,
          0.6627272727272728,
          0.6786363636363637,
          0.6549999999999998,
          0.6636363636363636,
          0.6640909090909092,
          0.6904545454545454,
          0.7036363636363637,
          0.6872727272727275,
          0.6950000000000002,
          0.7218181818181819,
          0.7104545454545456,
          0.7031818181818185,
          0.7404545454545456,
          0.7272727272727275,
          0.7031818181818185,
          0.7040909090909092,
          0.721818181818182,
          0.7336363636363639,
          0.7622727272727273,
          0.7704545454545453,
          0.7827272727272728,
          0.7627272727272728,
          0.7854545454545453,
          0.773181818181818,
          0.7718181818181817,
          0.7799999999999997,
          0.7781818181818181,
          0.812272727272727,
          0.807272727272727,
          0.818181818181818,
          0.8090909090909091,
          0.8154545454545453,
          0.8277272727272725,
          0.8299999999999998,
          0.813181818181818,
          0.8409090909090908,
          0.8159090909090908,
          0.8163636363636363,
          0.8181818181818181,
          0.8299999999999998,
          0.8399999999999997,
          0.8127272727272726,
          0.8422727272727271,
          0.8422727272727271,
          0.8477272727272726,
          0.8299999999999997,
          0.8286363636363633,
          0.8295454545454543,
          0.8286363636363633,
          0.8299999999999998,
          0.8295454545454543,
          0.8486363636363634,
          0.8481818181818178,
          0.8595454545454544,
          0.8595454545454544,
          0.8595454545454544,
          0.8595454545454544,
          0.8599999999999999,
          0.8599999999999999,
          0.8599999999999999,
          0.8599999999999999
         ],
         "yaxis": "y"
        },
        {
         "hovertemplate": "Model=DT<br>n_badan=%{x}<br>Dokładność 100 test=%{y}<extra></extra>",
         "legendgroup": "DT",
         "line": {
          "color": "#ab63fa",
          "dash": "solid",
          "shape": "linear"
         },
         "marker": {
          "symbol": "circle"
         },
         "mode": "lines+markers",
         "name": "DT",
         "orientation": "v",
         "showlegend": true,
         "type": "scatter",
         "x": [
          1,
          2,
          3,
          4,
          5,
          6,
          7,
          8,
          9,
          10,
          11,
          12,
          13,
          14,
          15,
          16,
          17,
          18,
          19,
          20,
          21,
          22,
          23,
          24,
          25,
          26,
          27,
          28,
          29,
          30,
          31,
          32,
          33,
          34,
          35,
          36,
          37,
          38,
          39,
          40,
          41,
          42,
          43,
          44,
          45,
          46,
          47,
          48,
          49,
          50,
          51,
          52,
          53,
          54,
          55,
          56,
          57,
          58,
          59,
          60,
          61,
          62,
          63,
          64
         ],
         "xaxis": "x",
         "y": [
          0.5,
          0.6172727272727272,
          0.584090909090909,
          0.5404545454545454,
          0.5131818181818181,
          0.5259090909090909,
          0.6081818181818182,
          0.6263636363636365,
          0.6595454545454547,
          0.6545454545454547,
          0.6745454545454547,
          0.6663636363636363,
          0.6336363636363636,
          0.6872727272727271,
          0.6209090909090909,
          0.6263636363636363,
          0.6181818181818182,
          0.6127272727272726,
          0.5977272727272728,
          0.6154545454545454,
          0.6463636363636363,
          0.635,
          0.6331818181818182,
          0.6327272727272727,
          0.6286363636363635,
          0.6609090909090908,
          0.67,
          0.6804545454545454,
          0.6831818181818181,
          0.6872727272727274,
          0.6909090909090909,
          0.6945454545454547,
          0.71,
          0.6895454545454548,
          0.7227272727272728,
          0.7295454545454545,
          0.7195454545454545,
          0.7231818181818181,
          0.7368181818181817,
          0.7340909090909089,
          0.7436363636363638,
          0.7304545454545454,
          0.7318181818181817,
          0.7209090909090906,
          0.7381818181818183,
          0.735,
          0.7381818181818182,
          0.7381818181818183,
          0.734090909090909,
          0.7322727272727272,
          0.7318181818181819,
          0.7318181818181819,
          0.7318181818181819,
          0.7345454545454545,
          0.7281818181818182,
          0.7286363636363637,
          0.73,
          0.73,
          0.73,
          0.73,
          0.73,
          0.7313636363636365,
          0.73,
          0.73
         ],
         "yaxis": "y"
        },
        {
         "hovertemplate": "Model=RF<br>n_badan=%{x}<br>Dokładność 100 test=%{y}<extra></extra>",
         "legendgroup": "RF",
         "line": {
          "color": "#FFA15A",
          "dash": "solid",
          "shape": "linear"
         },
         "marker": {
          "symbol": "circle"
         },
         "mode": "lines+markers",
         "name": "RF",
         "orientation": "v",
         "showlegend": true,
         "type": "scatter",
         "x": [
          1,
          2,
          3,
          4,
          5,
          6,
          7,
          8,
          9,
          10,
          11,
          12,
          13,
          14,
          15,
          16,
          17,
          18,
          19,
          20,
          21,
          22,
          23,
          24,
          25,
          26,
          27,
          28,
          29,
          30,
          31,
          32,
          33,
          34,
          35,
          36,
          37,
          38,
          39,
          40,
          41,
          42,
          43,
          44,
          45,
          46,
          47,
          48,
          49,
          50,
          51,
          52,
          53,
          54,
          55,
          56,
          57,
          58,
          59,
          60,
          61,
          62,
          63,
          64
         ],
         "xaxis": "x",
         "y": [
          0.5,
          0.6172727272727272,
          0.5872727272727273,
          0.5968181818181818,
          0.5854545454545453,
          0.5913636363636363,
          0.645,
          0.6463636363636364,
          0.6609090909090909,
          0.6681818181818183,
          0.6681818181818183,
          0.6763636363636364,
          0.6536363636363636,
          0.649090909090909,
          0.6577272727272727,
          0.6490909090909092,
          0.6709090909090911,
          0.6413636363636364,
          0.6795454545454546,
          0.6781818181818182,
          0.691818181818182,
          0.6963636363636365,
          0.7031818181818182,
          0.7086363636363637,
          0.6772727272727275,
          0.7181818181818184,
          0.6990909090909091,
          0.7086363636363637,
          0.7154545454545455,
          0.7145454545454547,
          0.765909090909091,
          0.7486363636363638,
          0.7590909090909089,
          0.7495454545454545,
          0.7759090909090907,
          0.7768181818181814,
          0.7672727272727272,
          0.759090909090909,
          0.7836363636363635,
          0.7822727272727269,
          0.7881818181818181,
          0.7845454545454542,
          0.7854545454545452,
          0.782272727272727,
          0.7854545454545453,
          0.787272727272727,
          0.787272727272727,
          0.7781818181818184,
          0.7786363636363636,
          0.7854545454545452,
          0.7899999999999998,
          0.7899999999999998,
          0.7904545454545453,
          0.787272727272727,
          0.7868181818181816,
          0.789090909090909,
          0.7822727272727273,
          0.7822727272727273,
          0.7818181818181819,
          0.7813636363636364,
          0.78,
          0.7790909090909092,
          0.78,
          0.78
         ],
         "yaxis": "y"
        }
       ],
       "layout": {
        "legend": {
         "title": {
          "text": "Model"
         },
         "tracegroupgap": 0
        },
        "margin": {
         "t": 60
        },
        "template": {
         "data": {
          "bar": [
           {
            "error_x": {
             "color": "#2a3f5f"
            },
            "error_y": {
             "color": "#2a3f5f"
            },
            "marker": {
             "line": {
              "color": "white",
              "width": 0.5
             },
             "pattern": {
              "fillmode": "overlay",
              "size": 10,
              "solidity": 0.2
             }
            },
            "type": "bar"
           }
          ],
          "barpolar": [
           {
            "marker": {
             "line": {
              "color": "white",
              "width": 0.5
             },
             "pattern": {
              "fillmode": "overlay",
              "size": 10,
              "solidity": 0.2
             }
            },
            "type": "barpolar"
           }
          ],
          "carpet": [
           {
            "aaxis": {
             "endlinecolor": "#2a3f5f",
             "gridcolor": "#C8D4E3",
             "linecolor": "#C8D4E3",
             "minorgridcolor": "#C8D4E3",
             "startlinecolor": "#2a3f5f"
            },
            "baxis": {
             "endlinecolor": "#2a3f5f",
             "gridcolor": "#C8D4E3",
             "linecolor": "#C8D4E3",
             "minorgridcolor": "#C8D4E3",
             "startlinecolor": "#2a3f5f"
            },
            "type": "carpet"
           }
          ],
          "choropleth": [
           {
            "colorbar": {
             "outlinewidth": 0,
             "ticks": ""
            },
            "type": "choropleth"
           }
          ],
          "contour": [
           {
            "colorbar": {
             "outlinewidth": 0,
             "ticks": ""
            },
            "colorscale": [
             [
              0,
              "#0d0887"
             ],
             [
              0.1111111111111111,
              "#46039f"
             ],
             [
              0.2222222222222222,
              "#7201a8"
             ],
             [
              0.3333333333333333,
              "#9c179e"
             ],
             [
              0.4444444444444444,
              "#bd3786"
             ],
             [
              0.5555555555555556,
              "#d8576b"
             ],
             [
              0.6666666666666666,
              "#ed7953"
             ],
             [
              0.7777777777777778,
              "#fb9f3a"
             ],
             [
              0.8888888888888888,
              "#fdca26"
             ],
             [
              1,
              "#f0f921"
             ]
            ],
            "type": "contour"
           }
          ],
          "contourcarpet": [
           {
            "colorbar": {
             "outlinewidth": 0,
             "ticks": ""
            },
            "type": "contourcarpet"
           }
          ],
          "heatmap": [
           {
            "colorbar": {
             "outlinewidth": 0,
             "ticks": ""
            },
            "colorscale": [
             [
              0,
              "#0d0887"
             ],
             [
              0.1111111111111111,
              "#46039f"
             ],
             [
              0.2222222222222222,
              "#7201a8"
             ],
             [
              0.3333333333333333,
              "#9c179e"
             ],
             [
              0.4444444444444444,
              "#bd3786"
             ],
             [
              0.5555555555555556,
              "#d8576b"
             ],
             [
              0.6666666666666666,
              "#ed7953"
             ],
             [
              0.7777777777777778,
              "#fb9f3a"
             ],
             [
              0.8888888888888888,
              "#fdca26"
             ],
             [
              1,
              "#f0f921"
             ]
            ],
            "type": "heatmap"
           }
          ],
          "heatmapgl": [
           {
            "colorbar": {
             "outlinewidth": 0,
             "ticks": ""
            },
            "colorscale": [
             [
              0,
              "#0d0887"
             ],
             [
              0.1111111111111111,
              "#46039f"
             ],
             [
              0.2222222222222222,
              "#7201a8"
             ],
             [
              0.3333333333333333,
              "#9c179e"
             ],
             [
              0.4444444444444444,
              "#bd3786"
             ],
             [
              0.5555555555555556,
              "#d8576b"
             ],
             [
              0.6666666666666666,
              "#ed7953"
             ],
             [
              0.7777777777777778,
              "#fb9f3a"
             ],
             [
              0.8888888888888888,
              "#fdca26"
             ],
             [
              1,
              "#f0f921"
             ]
            ],
            "type": "heatmapgl"
           }
          ],
          "histogram": [
           {
            "marker": {
             "pattern": {
              "fillmode": "overlay",
              "size": 10,
              "solidity": 0.2
             }
            },
            "type": "histogram"
           }
          ],
          "histogram2d": [
           {
            "colorbar": {
             "outlinewidth": 0,
             "ticks": ""
            },
            "colorscale": [
             [
              0,
              "#0d0887"
             ],
             [
              0.1111111111111111,
              "#46039f"
             ],
             [
              0.2222222222222222,
              "#7201a8"
             ],
             [
              0.3333333333333333,
              "#9c179e"
             ],
             [
              0.4444444444444444,
              "#bd3786"
             ],
             [
              0.5555555555555556,
              "#d8576b"
             ],
             [
              0.6666666666666666,
              "#ed7953"
             ],
             [
              0.7777777777777778,
              "#fb9f3a"
             ],
             [
              0.8888888888888888,
              "#fdca26"
             ],
             [
              1,
              "#f0f921"
             ]
            ],
            "type": "histogram2d"
           }
          ],
          "histogram2dcontour": [
           {
            "colorbar": {
             "outlinewidth": 0,
             "ticks": ""
            },
            "colorscale": [
             [
              0,
              "#0d0887"
             ],
             [
              0.1111111111111111,
              "#46039f"
             ],
             [
              0.2222222222222222,
              "#7201a8"
             ],
             [
              0.3333333333333333,
              "#9c179e"
             ],
             [
              0.4444444444444444,
              "#bd3786"
             ],
             [
              0.5555555555555556,
              "#d8576b"
             ],
             [
              0.6666666666666666,
              "#ed7953"
             ],
             [
              0.7777777777777778,
              "#fb9f3a"
             ],
             [
              0.8888888888888888,
              "#fdca26"
             ],
             [
              1,
              "#f0f921"
             ]
            ],
            "type": "histogram2dcontour"
           }
          ],
          "mesh3d": [
           {
            "colorbar": {
             "outlinewidth": 0,
             "ticks": ""
            },
            "type": "mesh3d"
           }
          ],
          "parcoords": [
           {
            "line": {
             "colorbar": {
              "outlinewidth": 0,
              "ticks": ""
             }
            },
            "type": "parcoords"
           }
          ],
          "pie": [
           {
            "automargin": true,
            "type": "pie"
           }
          ],
          "scatter": [
           {
            "marker": {
             "colorbar": {
              "outlinewidth": 0,
              "ticks": ""
             }
            },
            "type": "scatter"
           }
          ],
          "scatter3d": [
           {
            "line": {
             "colorbar": {
              "outlinewidth": 0,
              "ticks": ""
             }
            },
            "marker": {
             "colorbar": {
              "outlinewidth": 0,
              "ticks": ""
             }
            },
            "type": "scatter3d"
           }
          ],
          "scattercarpet": [
           {
            "marker": {
             "colorbar": {
              "outlinewidth": 0,
              "ticks": ""
             }
            },
            "type": "scattercarpet"
           }
          ],
          "scattergeo": [
           {
            "marker": {
             "colorbar": {
              "outlinewidth": 0,
              "ticks": ""
             }
            },
            "type": "scattergeo"
           }
          ],
          "scattergl": [
           {
            "marker": {
             "colorbar": {
              "outlinewidth": 0,
              "ticks": ""
             }
            },
            "type": "scattergl"
           }
          ],
          "scattermapbox": [
           {
            "marker": {
             "colorbar": {
              "outlinewidth": 0,
              "ticks": ""
             }
            },
            "type": "scattermapbox"
           }
          ],
          "scatterpolar": [
           {
            "marker": {
             "colorbar": {
              "outlinewidth": 0,
              "ticks": ""
             }
            },
            "type": "scatterpolar"
           }
          ],
          "scatterpolargl": [
           {
            "marker": {
             "colorbar": {
              "outlinewidth": 0,
              "ticks": ""
             }
            },
            "type": "scatterpolargl"
           }
          ],
          "scatterternary": [
           {
            "marker": {
             "colorbar": {
              "outlinewidth": 0,
              "ticks": ""
             }
            },
            "type": "scatterternary"
           }
          ],
          "surface": [
           {
            "colorbar": {
             "outlinewidth": 0,
             "ticks": ""
            },
            "colorscale": [
             [
              0,
              "#0d0887"
             ],
             [
              0.1111111111111111,
              "#46039f"
             ],
             [
              0.2222222222222222,
              "#7201a8"
             ],
             [
              0.3333333333333333,
              "#9c179e"
             ],
             [
              0.4444444444444444,
              "#bd3786"
             ],
             [
              0.5555555555555556,
              "#d8576b"
             ],
             [
              0.6666666666666666,
              "#ed7953"
             ],
             [
              0.7777777777777778,
              "#fb9f3a"
             ],
             [
              0.8888888888888888,
              "#fdca26"
             ],
             [
              1,
              "#f0f921"
             ]
            ],
            "type": "surface"
           }
          ],
          "table": [
           {
            "cells": {
             "fill": {
              "color": "#EBF0F8"
             },
             "line": {
              "color": "white"
             }
            },
            "header": {
             "fill": {
              "color": "#C8D4E3"
             },
             "line": {
              "color": "white"
             }
            },
            "type": "table"
           }
          ]
         },
         "layout": {
          "annotationdefaults": {
           "arrowcolor": "#2a3f5f",
           "arrowhead": 0,
           "arrowwidth": 1
          },
          "autotypenumbers": "strict",
          "coloraxis": {
           "colorbar": {
            "outlinewidth": 0,
            "ticks": ""
           }
          },
          "colorscale": {
           "diverging": [
            [
             0,
             "#8e0152"
            ],
            [
             0.1,
             "#c51b7d"
            ],
            [
             0.2,
             "#de77ae"
            ],
            [
             0.3,
             "#f1b6da"
            ],
            [
             0.4,
             "#fde0ef"
            ],
            [
             0.5,
             "#f7f7f7"
            ],
            [
             0.6,
             "#e6f5d0"
            ],
            [
             0.7,
             "#b8e186"
            ],
            [
             0.8,
             "#7fbc41"
            ],
            [
             0.9,
             "#4d9221"
            ],
            [
             1,
             "#276419"
            ]
           ],
           "sequential": [
            [
             0,
             "#0d0887"
            ],
            [
             0.1111111111111111,
             "#46039f"
            ],
            [
             0.2222222222222222,
             "#7201a8"
            ],
            [
             0.3333333333333333,
             "#9c179e"
            ],
            [
             0.4444444444444444,
             "#bd3786"
            ],
            [
             0.5555555555555556,
             "#d8576b"
            ],
            [
             0.6666666666666666,
             "#ed7953"
            ],
            [
             0.7777777777777778,
             "#fb9f3a"
            ],
            [
             0.8888888888888888,
             "#fdca26"
            ],
            [
             1,
             "#f0f921"
            ]
           ],
           "sequentialminus": [
            [
             0,
             "#0d0887"
            ],
            [
             0.1111111111111111,
             "#46039f"
            ],
            [
             0.2222222222222222,
             "#7201a8"
            ],
            [
             0.3333333333333333,
             "#9c179e"
            ],
            [
             0.4444444444444444,
             "#bd3786"
            ],
            [
             0.5555555555555556,
             "#d8576b"
            ],
            [
             0.6666666666666666,
             "#ed7953"
            ],
            [
             0.7777777777777778,
             "#fb9f3a"
            ],
            [
             0.8888888888888888,
             "#fdca26"
            ],
            [
             1,
             "#f0f921"
            ]
           ]
          },
          "colorway": [
           "#636efa",
           "#EF553B",
           "#00cc96",
           "#ab63fa",
           "#FFA15A",
           "#19d3f3",
           "#FF6692",
           "#B6E880",
           "#FF97FF",
           "#FECB52"
          ],
          "font": {
           "color": "#2a3f5f"
          },
          "geo": {
           "bgcolor": "white",
           "lakecolor": "white",
           "landcolor": "white",
           "showlakes": true,
           "showland": true,
           "subunitcolor": "#C8D4E3"
          },
          "hoverlabel": {
           "align": "left"
          },
          "hovermode": "closest",
          "mapbox": {
           "style": "light"
          },
          "paper_bgcolor": "white",
          "plot_bgcolor": "white",
          "polar": {
           "angularaxis": {
            "gridcolor": "#EBF0F8",
            "linecolor": "#EBF0F8",
            "ticks": ""
           },
           "bgcolor": "white",
           "radialaxis": {
            "gridcolor": "#EBF0F8",
            "linecolor": "#EBF0F8",
            "ticks": ""
           }
          },
          "scene": {
           "xaxis": {
            "backgroundcolor": "white",
            "gridcolor": "#DFE8F3",
            "gridwidth": 2,
            "linecolor": "#EBF0F8",
            "showbackground": true,
            "ticks": "",
            "zerolinecolor": "#EBF0F8"
           },
           "yaxis": {
            "backgroundcolor": "white",
            "gridcolor": "#DFE8F3",
            "gridwidth": 2,
            "linecolor": "#EBF0F8",
            "showbackground": true,
            "ticks": "",
            "zerolinecolor": "#EBF0F8"
           },
           "zaxis": {
            "backgroundcolor": "white",
            "gridcolor": "#DFE8F3",
            "gridwidth": 2,
            "linecolor": "#EBF0F8",
            "showbackground": true,
            "ticks": "",
            "zerolinecolor": "#EBF0F8"
           }
          },
          "shapedefaults": {
           "line": {
            "color": "#2a3f5f"
           }
          },
          "ternary": {
           "aaxis": {
            "gridcolor": "#DFE8F3",
            "linecolor": "#A2B1C6",
            "ticks": ""
           },
           "baxis": {
            "gridcolor": "#DFE8F3",
            "linecolor": "#A2B1C6",
            "ticks": ""
           },
           "bgcolor": "white",
           "caxis": {
            "gridcolor": "#DFE8F3",
            "linecolor": "#A2B1C6",
            "ticks": ""
           }
          },
          "title": {
           "x": 0.05
          },
          "xaxis": {
           "automargin": true,
           "gridcolor": "#EBF0F8",
           "linecolor": "#EBF0F8",
           "ticks": "",
           "title": {
            "standoff": 15
           },
           "zerolinecolor": "#EBF0F8",
           "zerolinewidth": 2
          },
          "yaxis": {
           "automargin": true,
           "gridcolor": "#EBF0F8",
           "linecolor": "#EBF0F8",
           "ticks": "",
           "title": {
            "standoff": 15
           },
           "zerolinecolor": "#EBF0F8",
           "zerolinewidth": 2
          }
         }
        },
        "xaxis": {
         "anchor": "y",
         "domain": [
          0,
          1
         ],
         "tickfont": {
          "size": 16
         },
         "title": {
          "font": {
           "size": 20
          },
          "text": "Numer badania"
         }
        },
        "yaxis": {
         "anchor": "x",
         "domain": [
          0,
          1
         ],
         "range": [
          0,
          1
         ],
         "tickfont": {
          "size": 16
         },
         "title": {
          "font": {
           "size": 20
          },
          "text": "Dokładność"
         }
        }
       }
      }
     },
     "metadata": {},
     "output_type": "display_data"
    }
   ],
   "source": [
    "results_df2=results_df[results_df['n_badan']>=1]\n",
    "\n",
    "x_label='Numer badania'\n",
    "title='klasyfikacja_obserwacje_accuracy'\n",
    "# results_df = results_df[results_df['Model'].isin(['LDA', 'KNN'])]\n",
    "fig = px.line(results_df2, x='n_badan', y='Dokładność 100 test', color='Model', markers=True, line_shape='linear')\n",
    "\n",
    "# Dodajemy etykiety i tytuł\n",
    "fig.update_layout(\n",
    "    xaxis=dict(\n",
    "        title=x_label,\n",
    "        tickfont=dict(size=16),\n",
    "        title_font=dict(size=20),\n",
    "    ),\n",
    "    yaxis=dict(\n",
    "        title='Dokładność',\n",
    "        tickfont=dict(size=16),\n",
    "        title_font=dict(size=20),\n",
    "        range=[0, 1]\n",
    "    )\n",
    ")\n",
    "\n",
    "fig.update_layout(template=\"plotly_white\")\n",
    "fig.show()\n",
    "# fig.write_image(\"images5/wykresy_w_czasie_lda_knn.png\", width=1000, height=600, scale=4, format=\"png\")\n",
    "fig.write_image(\"images5/wykresy_w_czasie_100_dokladnosc_test.png\", width=1000, height=600, scale=4, format=\"png\")"
   ]
  },
  {
   "cell_type": "code",
   "execution_count": 328,
   "metadata": {},
   "outputs": [
    {
     "ename": "TypeError",
     "evalue": "n_neighbors argument after ** must be a mapping, not str",
     "output_type": "error",
     "traceback": [
      "\u001b[1;31m---------------------------------------------------------------------------\u001b[0m",
      "\u001b[1;31mTypeError\u001b[0m                                 Traceback (most recent call last)",
      "Input \u001b[1;32mIn [328]\u001b[0m, in \u001b[0;36m<cell line: 10>\u001b[1;34m()\u001b[0m\n\u001b[0;32m      9\u001b[0m \u001b[38;5;66;03m# Rysowanie macierzy pomyłek dla każdego klasyfikatora\u001b[39;00m\n\u001b[0;32m     10\u001b[0m \u001b[38;5;28;01mfor\u001b[39;00m ax, (title, (model_type, best_params)) \u001b[38;5;129;01min\u001b[39;00m \u001b[38;5;28mzip\u001b[39m(axes\u001b[38;5;241m.\u001b[39mflatten(), best_models_for_n\u001b[38;5;241m.\u001b[39mitems()):\n\u001b[1;32m---> 11\u001b[0m     model \u001b[38;5;241m=\u001b[39m model_type(\u001b[38;5;241m*\u001b[39m\u001b[38;5;241m*\u001b[39mbest_params)\n\u001b[0;32m     12\u001b[0m     plot_confusion_matrix(model, X_train_scaled, X_test_scaled, y_train, y_test, ax, title)\n\u001b[0;32m     14\u001b[0m \u001b[38;5;66;03m# Usuwanie niepotrzebnych osi w przypadku parzystej liczby klasyfikatorów\u001b[39;00m\n",
      "\u001b[1;31mTypeError\u001b[0m: n_neighbors argument after ** must be a mapping, not str"
     ]
    },
    {
     "data": {
      "image/png": "[encoded data removed]",
      "text/plain": [
       "<Figure size 1080x576 with 6 Axes>"
      ]
     },
     "metadata": {
      "needs_background": "light"
     },
     "output_type": "display_data"
    }
   ],
   "source": [
    "best_models_for_n=results_df[results_df[\"n_badan\"]==2][\"parameters\"]\n",
    "\n",
    "# Ocena najlepszych modeli na zbiorze testowym\n",
    "fig, axes = plt.subplots(2, 3, figsize=(15, 8))\n",
    "\n",
    "# Lista tytułów\n",
    "titles = ['KNN', 'LDA', 'SVC', 'DT', 'RF']\n",
    "\n",
    "# Rysowanie macierzy pomyłek dla każdego klasyfikatora\n",
    "for ax, (title, (model_type, best_params)) in zip(axes.flatten(), best_models_for_n.items()):\n",
    "    model = model_type(**best_params)\n",
    "    plot_confusion_matrix(model, X_train_scaled, X_test_scaled, y_train, y_test, ax, title)\n",
    "\n",
    "# Usuwanie niepotrzebnych osi w przypadku parzystej liczby klasyfikatorów\n",
    "if len(classifiers) % 2 != 0:\n",
    "    fig.delaxes(axes.flatten()[-1])\n",
    "\n",
    "plt.tight_layout()\n",
    "\n",
    "plt.savefig(\"images5/conf_matr_n_badan2.png\")\n",
    "\n",
    "plt.show()"
   ]
  },
  {
   "cell_type": "code",
   "execution_count": null,
   "metadata": {},
   "outputs": [],
   "source": [
    "y_pred"
   ]
  },
  {
   "cell_type": "code",
   "execution_count": null,
   "metadata": {},
   "outputs": [],
   "source": [
    "y_pred<=y_test"
   ]
  },
  {
   "cell_type": "code",
   "execution_count": null,
   "metadata": {},
   "outputs": [],
   "source": [
    "data_to_extract.iloc[34, :]"
   ]
  }
 ],
 "metadata": {
  "kernelspec": {
   "display_name": "Python 3",
   "language": "python",
   "name": "python3"
  },
  "language_info": {
   "codemirror_mode": {
    "name": "ipython",
    "version": 3
   },
   "file_extension": ".py",
   "mimetype": "text/x-python",
   "name": "python",
   "nbconvert_exporter": "python",
   "pygments_lexer": "ipython3",
   "version": "3.9.8"
  }
 },
 "nbformat": 4,
 "nbformat_minor": 2
}
