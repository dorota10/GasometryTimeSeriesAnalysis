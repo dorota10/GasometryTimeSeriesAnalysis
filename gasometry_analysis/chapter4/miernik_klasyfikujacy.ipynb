{
 "cells": [
  {
   "cell_type": "code",
   "execution_count": 80,
   "metadata": {},
   "outputs": [],
   "source": [
    "import pandas as pd\n",
    "import numpy as np\n",
    "import matplotlib.pyplot as plt\n",
    "import seaborn as sns\n",
    "from plotly.subplots import make_subplots\n",
    "from sklearn.decomposition import PCA\n",
    "from sklearn.model_selection import train_test_split\n",
    "import plotly.express as px\n",
    "from sklearn.discriminant_analysis import LinearDiscriminantAnalysis\n",
    "from my_functions import *\n",
    "from sklearn.tree import DecisionTreeClassifier\n",
    "from sklearn.tree import plot_tree\n",
    "from sklearn.metrics import confusion_matrix\n",
    "from sklearn.tree import plot_tree\n",
    "from sklearn.ensemble import RandomForestClassifier"
   ]
  },
  {
   "cell_type": "code",
   "execution_count": 82,
   "metadata": {},
   "outputs": [],
   "source": [
    "df_prep = pd.read_csv(\"..\\chapter3\\gasometry_prepared_data.csv\")\n",
    "cols=[\"BETET\",\t\"CO2TET\",\t\"HCO3ACTE\",\t\"HCO3STTE\",\t\"O2SATTET\",\t\"O2TET\", \"IONH\"]\n",
    "my_blue=\"#0064B2\";\n",
    "my_red=\"#D61600\";"
   ]
  },
  {
   "cell_type": "code",
   "execution_count": 83,
   "metadata": {},
   "outputs": [],
   "source": [
    "cols2=[\"BETET\",\t\"CO2TET\",\t\"O2TET\", \"IONH\"]"
   ]
  },
  {
   "cell_type": "code",
   "execution_count": 85,
   "metadata": {},
   "outputs": [
    {
     "name": "stderr",
     "output_type": "stream",
     "text": [
      "C:\\Users\\dorot\\AppData\\Local\\Temp\\ipykernel_52004\\447075210.py:6: FutureWarning:\n",
      "\n",
      "DataFrame.applymap has been deprecated. Use DataFrame.map instead.\n",
      "\n",
      "C:\\Users\\dorot\\AppData\\Local\\Temp\\ipykernel_52004\\447075210.py:6: SettingWithCopyWarning:\n",
      "\n",
      "\n",
      "A value is trying to be set on a copy of a slice from a DataFrame.\n",
      "Try using .loc[row_indexer,col_indexer] = value instead\n",
      "\n",
      "See the caveats in the documentation: https://pandas.pydata.org/pandas-docs/stable/user_guide/indexing.html#returning-a-view-versus-a-copy\n",
      "\n",
      "C:\\Users\\dorot\\AppData\\Local\\Temp\\ipykernel_52004\\447075210.py:6: SettingWithCopyWarning:\n",
      "\n",
      "\n",
      "A value is trying to be set on a copy of a slice from a DataFrame.\n",
      "Try using .loc[row_indexer,col_indexer] = value instead\n",
      "\n",
      "See the caveats in the documentation: https://pandas.pydata.org/pandas-docs/stable/user_guide/indexing.html#returning-a-view-versus-a-copy\n",
      "\n",
      "C:\\Users\\dorot\\AppData\\Local\\Temp\\ipykernel_52004\\447075210.py:7: FutureWarning:\n",
      "\n",
      "DataFrame.applymap has been deprecated. Use DataFrame.map instead.\n",
      "\n",
      "C:\\Users\\dorot\\AppData\\Local\\Temp\\ipykernel_52004\\447075210.py:7: SettingWithCopyWarning:\n",
      "\n",
      "\n",
      "A value is trying to be set on a copy of a slice from a DataFrame.\n",
      "Try using .loc[row_indexer,col_indexer] = value instead\n",
      "\n",
      "See the caveats in the documentation: https://pandas.pydata.org/pandas-docs/stable/user_guide/indexing.html#returning-a-view-versus-a-copy\n",
      "\n",
      "C:\\Users\\dorot\\AppData\\Local\\Temp\\ipykernel_52004\\447075210.py:7: SettingWithCopyWarning:\n",
      "\n",
      "\n",
      "A value is trying to be set on a copy of a slice from a DataFrame.\n",
      "Try using .loc[row_indexer,col_indexer] = value instead\n",
      "\n",
      "See the caveats in the documentation: https://pandas.pydata.org/pandas-docs/stable/user_guide/indexing.html#returning-a-view-versus-a-copy\n",
      "\n",
      "C:\\Users\\dorot\\AppData\\Local\\Temp\\ipykernel_52004\\447075210.py:9: FutureWarning:\n",
      "\n",
      "DataFrame.applymap has been deprecated. Use DataFrame.map instead.\n",
      "\n",
      "C:\\Users\\dorot\\AppData\\Local\\Temp\\ipykernel_52004\\447075210.py:9: SettingWithCopyWarning:\n",
      "\n",
      "\n",
      "A value is trying to be set on a copy of a slice from a DataFrame.\n",
      "Try using .loc[row_indexer,col_indexer] = value instead\n",
      "\n",
      "See the caveats in the documentation: https://pandas.pydata.org/pandas-docs/stable/user_guide/indexing.html#returning-a-view-versus-a-copy\n",
      "\n",
      "C:\\Users\\dorot\\AppData\\Local\\Temp\\ipykernel_52004\\447075210.py:9: SettingWithCopyWarning:\n",
      "\n",
      "\n",
      "A value is trying to be set on a copy of a slice from a DataFrame.\n",
      "Try using .loc[row_indexer,col_indexer] = value instead\n",
      "\n",
      "See the caveats in the documentation: https://pandas.pydata.org/pandas-docs/stable/user_guide/indexing.html#returning-a-view-versus-a-copy\n",
      "\n",
      "C:\\Users\\dorot\\AppData\\Local\\Temp\\ipykernel_52004\\447075210.py:10: FutureWarning:\n",
      "\n",
      "DataFrame.applymap has been deprecated. Use DataFrame.map instead.\n",
      "\n"
     ]
    }
   ],
   "source": [
    "df_miernik=df_prep[cols2]\n",
    "vars1=[\"BETET\", \"O2TET\"]\n",
    "vars2=[\"IONH\", \"CO2TET\"]\n",
    "\n",
    "#wyliczenie wartości poza normą świadczące o zakwaszeniu organizmu\n",
    "df_miernik[[\"BETET_neg\", \"O2TET_neg\"]]=df_miernik[vars1].applymap(lambda x: 0 if x >= 0 else abs(x))\n",
    "df_miernik[[\"IONH_neg\", \"CO2TET_neg\"]]=df_miernik[vars2].applymap(lambda x: 0 if x <= 1 else x-1)\n",
    "#wszystkie odchylenia od normy\n",
    "df_miernik[[\"BETET_all\", \"O2TET_all\"]] = df_miernik[vars1].applymap(lambda x: 0 if (x >= 0) and (x <= 1) else (abs(x) if x < 0 else x - 1))\n",
    "df_miernik[[\"IONH_all\", \"CO2TET_all\"]] = df_miernik[vars2].applymap(lambda x: 0 if (x >= 0) and (x <= 1) else (abs(x) if x < 0 else x - 1))"
   ]
  },
  {
   "cell_type": "code",
   "execution_count": 88,
   "metadata": {},
   "outputs": [],
   "source": [
    "col_neg=[\"BETET_neg\", \"O2TET_neg\", \"CO2TET_neg\", \"IONH_neg\"]\n",
    "col_all=[\"BETET_all\", \"O2TET_all\", \"IONH_all\", \"CO2TET_all\"]\n",
    "\n",
    "df_miernik_df=pd.concat([df_miernik, df_prep[[\"PACJENT_NR\", \"BADANIE_NR\", \"ZGON\"]]], axis=1)     \n",
    "df_miernik_df['Miernik neg_sum'] = df_miernik[col_neg].sum(axis=1)\n",
    "df_miernik_df[\"Miernik neg_sum skum.\"]=df_miernik_df.groupby('PACJENT_NR')['Miernik neg_sum'].cumsum()\n",
    "\n",
    "df_miernik_df['Miernik all_sum'] = df_miernik[col_all].sum(axis=1)\n",
    "df_miernik_df[\"Miernik all_sum skum.\"]=df_miernik_df.groupby('PACJENT_NR')['Miernik all_sum'].cumsum()\n",
    "df_miernik_df.to_excel(\"miernik_skum.xlsx\")"
   ]
  },
  {
   "cell_type": "markdown",
   "metadata": {},
   "source": [
    "### Klasyfikacja na podstawie ostatniej skumulowanej wartości miernika"
   ]
  },
  {
   "cell_type": "code",
   "execution_count": 50,
   "metadata": {},
   "outputs": [],
   "source": [
    "df_miernik_last = df_miernik_df.groupby('PACJENT_NR').last()\n",
    "df_miernik_last[\"PACJENT_NR\"]=df_miernik_last.index\n",
    "df_miernik_last=df_miernik_last.reset_index(drop=True)\n",
    "mierniki=[\"Miernik neg_sum skum.\", \"Miernik all_sum skum.\"]\n",
    "df_mierniki_sum_klas=df_miernik_last[[*mierniki, \"ZGON\"]]\n",
    "odsetek=0.2"
   ]
  },
  {
   "cell_type": "markdown",
   "metadata": {},
   "source": [
    "#### Miernik zliczający odchylenia świadczące o kwasicy"
   ]
  },
  {
   "cell_type": "code",
   "execution_count": 51,
   "metadata": {},
   "outputs": [
    {
     "name": "stdout",
     "output_type": "stream",
     "text": [
      "Dokładność klasyfikacji: 0.6818181818181818\n"
     ]
    },
    {
     "data": {
      "image/png": "[encoded data removed]",
      "text/plain": [
       "<Figure size 864x576 with 1 Axes>"
      ]
     },
     "metadata": {
      "needs_background": "light"
     },
     "output_type": "display_data"
    },
    {
     "name": "stdout",
     "output_type": "stream",
     "text": [
      "Accuracy: 0.6818181818181818\n",
      "Balanced accuracy: 0.6818181818181818\n",
      "Precision: 0.7291666666666667\n",
      "Sensivity (recall): 0.6818181818181818\n",
      "F1-Score: 0.6644880174291938\n"
     ]
    },
    {
     "data": {
      "text/plain": [
       "array([[ 5,  6],\n",
       "       [ 1, 10]], dtype=int64)"
      ]
     },
     "execution_count": 51,
     "metadata": {},
     "output_type": "execute_result"
    }
   ],
   "source": [
    "X_train, X_test, y_train, y_test = train_test_split(df_mierniki_sum_klas[[\"Miernik neg_sum skum.\"]], df_mierniki_sum_klas[\"ZGON\"], \n",
    "                                                    stratify=df_mierniki_sum_klas[\"ZGON\"], test_size=odsetek, random_state=42)\n",
    "\n",
    "# Utworzenie i dopasowanie modelu drzewa decyzyjnego\n",
    "clf = DecisionTreeClassifier(random_state=42, max_depth=1)\n",
    "clf.fit(X_train[[\"Miernik neg_sum skum.\"]], y_train.values.reshape(-1, 1))\n",
    "\n",
    "# Przewidywanie na zbiorze testowym\n",
    "y_pred = clf.predict(X_test[[\"Miernik neg_sum skum.\"]])\n",
    "\n",
    "# Ocena dokładności\n",
    "accuracy = accuracy_score(y_test, y_pred)\n",
    "\n",
    "print(f'Dokładność klasyfikacji: {accuracy}')\n",
    "\n",
    "\n",
    "plt.figure(figsize=(12, 8))\n",
    "plot_tree(clf, feature_names=mierniki, class_names=['0', '1'], filled=True, rounded=True)\n",
    "plt.show()\n",
    "\n",
    "accuracy_assessment(y_test, y_pred)\n",
    "\n",
    "confusion_matrix(y_test, y_pred)"
   ]
  },
  {
   "cell_type": "markdown",
   "metadata": {},
   "source": [
    "#### Miernik sumujący wszystkie odchylenia od normy"
   ]
  },
  {
   "cell_type": "code",
   "execution_count": 52,
   "metadata": {},
   "outputs": [
    {
     "name": "stdout",
     "output_type": "stream",
     "text": [
      "Dokładność klasyfikacji: 0.5454545454545454\n"
     ]
    },
    {
     "data": {
      "image/png": "[encoded data removed]",
      "text/plain": [
       "<Figure size 864x576 with 1 Axes>"
      ]
     },
     "metadata": {
      "needs_background": "light"
     },
     "output_type": "display_data"
    },
    {
     "name": "stdout",
     "output_type": "stream",
     "text": [
      "Accuracy: 0.5454545454545454\n",
      "Balanced accuracy: 0.5454545454545454\n",
      "Precision: 0.761904761904762\n",
      "Sensivity (recall): 0.5454545454545454\n",
      "F1-Score: 0.42708333333333337\n"
     ]
    },
    {
     "data": {
      "text/plain": [
       "array([[ 1, 10],\n",
       "       [ 0, 11]], dtype=int64)"
      ]
     },
     "execution_count": 52,
     "metadata": {},
     "output_type": "execute_result"
    }
   ],
   "source": [
    "X_train, X_test, y_train, y_test = train_test_split(df_mierniki_sum_klas[[\"Miernik all_sum skum.\"]], df_mierniki_sum_klas[\"ZGON\"], \n",
    "                                                    stratify=df_mierniki_sum_klas[\"ZGON\"],  test_size=odsetek, random_state=42)\n",
    "\n",
    "# Utworzenie i dopasowanie modelu drzewa decyzyjnego\n",
    "clf = DecisionTreeClassifier(random_state=42, max_depth=1)\n",
    "clf.fit(X_train[[\"Miernik all_sum skum.\"]], y_train.values.reshape(-1, 1))\n",
    "\n",
    "# Przewidywanie na zbiorze testowym\n",
    "y_pred = clf.predict(X_test[[\"Miernik all_sum skum.\"]])\n",
    "\n",
    "# Ocena dokładności\n",
    "accuracy = accuracy_score(y_test, y_pred)\n",
    "print(f'Dokładność klasyfikacji: {accuracy}')\n",
    "\n",
    "plt.figure(figsize=(12, 8))\n",
    "plot_tree(clf, feature_names=[\"Miernik all_sum skum.\"], class_names=['0', '1'], filled=True, rounded=True)\n",
    "plt.show()\n",
    "accuracy_assessment(y_test, y_pred)\n",
    "confusion_matrix(y_test, y_pred)"
   ]
  },
  {
   "cell_type": "markdown",
   "metadata": {},
   "source": [
    "#### Miernik na podstawie odchyleń świadczących o kwasicy z wagami PCA"
   ]
  },
  {
   "cell_type": "code",
   "execution_count": 89,
   "metadata": {},
   "outputs": [
    {
     "data": {
      "text/plain": [
       "array([0.73044788])"
      ]
     },
     "execution_count": 89,
     "metadata": {},
     "output_type": "execute_result"
    }
   ],
   "source": [
    "X_train, X_test, y_train, y_test = train_test_split(df_miernik_last, df_miernik_last[\"ZGON\"], \n",
    "                                                    stratify=df_miernik_last[\"ZGON\"], test_size=odsetek, random_state=42)\n",
    "\n",
    "X_data=X_train[col_neg].reset_index(drop=True)\n",
    "y_data=y_train\n",
    "\n",
    "pca_neg = PCA(n_components=1)\n",
    "components = pca_neg.fit_transform(X_data)\n",
    "\n",
    "kolumny_pca=col_neg\n",
    "\n",
    "czynniki=pca_neg.components_\n",
    "df_czynniki = pd.DataFrame(czynniki, columns=kolumny_pca)\n",
    "\n",
    "def suma_iloczynow(wiersz):\n",
    "    wagi = pca_neg.components_\n",
    "    wartosci = wiersz[kolumny_pca].values\n",
    "    return np.sum(wagi * wartosci)\n",
    "\n",
    "df_miernik_df[\"Miernik neg PCA\"]=df_miernik_df.apply(suma_iloczynow, axis=1)\n",
    "df_miernik_df[\"Miernik neg PCA skum\"]=df_miernik_df.groupby('PACJENT_NR')['Miernik neg PCA'].cumsum()\n",
    "pca_neg.components_\n",
    "pca_neg.explained_variance_ratio_"
   ]
  },
  {
   "cell_type": "markdown",
   "metadata": {},
   "source": [
    "#### Miernik na podstawie wszystkich odchyleń z wagami PCA"
   ]
  },
  {
   "cell_type": "code",
   "execution_count": 94,
   "metadata": {},
   "outputs": [
    {
     "data": {
      "text/plain": [
       "array([0.67549653])"
      ]
     },
     "execution_count": 94,
     "metadata": {},
     "output_type": "execute_result"
    }
   ],
   "source": [
    "X_train, X_test, y_train, y_test = train_test_split(df_miernik_last, df_miernik_last[\"ZGON\"], \n",
    "                                                    stratify=df_miernik_last[\"ZGON\"], test_size=odsetek, random_state=42)\n",
    "\n",
    "X_data=X_train[col_all].reset_index(drop=True)\n",
    "y_data=y_train\n",
    "\n",
    "pca_all = PCA(n_components=1)\n",
    "components = pca_all.fit_transform(X_data)\n",
    "\n",
    "kolumny_pca=col_all\n",
    "\n",
    "czynniki=pca_all.components_\n",
    "df_czynniki = pd.DataFrame(czynniki, columns=kolumny_pca)\n",
    "\n",
    "def suma_iloczynow(wiersz):\n",
    "    wagi = pca_all.components_\n",
    "    wartosci = wiersz[kolumny_pca].values\n",
    "    return np.sum(wagi * wartosci)\n",
    "\n",
    "df_miernik_df[\"Miernik all PCA\"]=df_miernik_df.apply(suma_iloczynow, axis=1)\n",
    "df_miernik_df[\"Miernik all PCA skum\"]=df_miernik_df.groupby('PACJENT_NR')['Miernik all PCA'].cumsum()\n",
    "\n",
    "pca_all.components_\n",
    "pca_all.explained_variance_ratio_"
   ]
  },
  {
   "cell_type": "code",
   "execution_count": 96,
   "metadata": {},
   "outputs": [],
   "source": [
    "df_miernik_last = df_miernik_df.groupby('PACJENT_NR').last()\n",
    "df_miernik_last[\"PACJENT_NR\"]=df_miernik_last.index\n",
    "df_miernik_last=df_miernik_last.reset_index(drop=True)\n",
    "mierniki_pca=[\"Miernik neg PCA skum\", \"Miernik all PCA skum\"]\n",
    "df_mierniki_sum_klas=df_miernik_last[[*mierniki_pca, \"ZGON\"]]"
   ]
  },
  {
   "cell_type": "markdown",
   "metadata": {},
   "source": [
    "#### Klasyfikacja na podstawie ostatniej wartości mierników z wagami PCA"
   ]
  },
  {
   "cell_type": "code",
   "execution_count": 56,
   "metadata": {},
   "outputs": [
    {
     "name": "stdout",
     "output_type": "stream",
     "text": [
      "Dokładność klasyfikacji: 0.5909090909090909\n"
     ]
    },
    {
     "data": {
      "image/png": "[encoded data removed]",
      "text/plain": [
       "<Figure size 864x576 with 1 Axes>"
      ]
     },
     "metadata": {
      "needs_background": "light"
     },
     "output_type": "display_data"
    },
    {
     "name": "stdout",
     "output_type": "stream",
     "text": [
      "Accuracy: 0.5909090909090909\n",
      "Balanced accuracy: 0.5909090909090908\n",
      "Precision: 0.6527777777777778\n",
      "Sensivity (recall): 0.5909090909090909\n",
      "F1-Score: 0.5448275862068965\n"
     ]
    }
   ],
   "source": [
    "X_train, X_test, y_train, y_test = train_test_split(df_mierniki_sum_klas[mierniki_pca], df_mierniki_sum_klas[\"ZGON\"], test_size=odsetek, \n",
    "                                                    stratify= df_mierniki_sum_klas[\"ZGON\"], random_state=42)\n",
    "\n",
    "# Utworzenie i dopasowanie modelu drzewa decyzyjnego\n",
    "clf = DecisionTreeClassifier(random_state=42, max_depth=1)\n",
    "clf.fit(X_train[[\"Miernik neg PCA skum\"]], y_train.values.reshape(-1, 1))\n",
    "\n",
    "# Przewidywanie na zbiorze testowym\n",
    "y_pred = clf.predict(X_test[[\"Miernik neg PCA skum\"]])\n",
    "\n",
    "# Ocena dokładności\n",
    "accuracy = accuracy_score(y_test, y_pred)\n",
    "print(f'Dokładność klasyfikacji: {accuracy}')\n",
    "\n",
    "plt.figure(figsize=(12, 8))\n",
    "plot_tree(clf, feature_names=mierniki_pca, class_names=['0', '1'], filled=True, rounded=True)\n",
    "plt.show()\n",
    "accuracy_assessment(y_test, y_pred)"
   ]
  },
  {
   "cell_type": "code",
   "execution_count": 57,
   "metadata": {},
   "outputs": [
    {
     "name": "stdout",
     "output_type": "stream",
     "text": [
      "Dokładność klasyfikacji: 0.5454545454545454\n"
     ]
    },
    {
     "data": {
      "image/png": "[encoded data removed]",
      "text/plain": [
       "<Figure size 864x576 with 1 Axes>"
      ]
     },
     "metadata": {
      "needs_background": "light"
     },
     "output_type": "display_data"
    },
    {
     "name": "stdout",
     "output_type": "stream",
     "text": [
      "Accuracy: 0.5454545454545454\n",
      "Balanced accuracy: 0.5454545454545454\n",
      "Precision: 0.761904761904762\n",
      "Sensivity (recall): 0.5454545454545454\n",
      "F1-Score: 0.42708333333333337\n"
     ]
    }
   ],
   "source": [
    "X_train, X_test, y_train, y_test = train_test_split(df_mierniki_sum_klas[mierniki_pca], df_mierniki_sum_klas[\"ZGON\"],  \n",
    "                                                    stratify=df_mierniki_sum_klas[\"ZGON\"], test_size=odsetek, random_state=42)\n",
    "\n",
    "# Utworzenie i dopasowanie modelu drzewa decyzyjnego\n",
    "clf = DecisionTreeClassifier(random_state=42, max_depth=1)\n",
    "clf.fit(X_train[[\"Miernik all PCA skum\"]], y_train.values.reshape(-1, 1))\n",
    "\n",
    "# Przewidywanie na zbiorze testowym\n",
    "y_pred = clf.predict(X_test[[\"Miernik all PCA skum\"]])\n",
    "\n",
    "# Ocena dokładności\n",
    "accuracy = accuracy_score(y_test, y_pred)\n",
    "print(f'Dokładność klasyfikacji: {accuracy}')\n",
    "\n",
    "plt.figure(figsize=(12, 8))\n",
    "plot_tree(clf, feature_names=[\"Miernik all PCA skum\"], class_names=['0', '1'], filled=True, rounded=True)\n",
    "plt.show()\n",
    "accuracy_assessment(y_test, y_pred)\n"
   ]
  },
  {
   "cell_type": "markdown",
   "metadata": {},
   "source": [
    "### Wizualizacja zmian miernika neg skum w czasie"
   ]
  },
  {
   "cell_type": "code",
   "execution_count": 61,
   "metadata": {},
   "outputs": [
    {
     "data": {
      "application/vnd.plotly.v1+json": {
       "config": {
        "plotlyServerURL": "https://plot.ly"
       },
       "data": [
        {
         "hovertemplate": "Pacjent=1<br>BADANIE_NR=%{x}<br>Miernik=%{y}<extra></extra>",
         "legendgroup": "1",
         "line": {
          "color": "#636efa",
          "dash": "solid"
         },
         "marker": {
          "symbol": "circle"
         },
         "mode": "lines",
         "name": "1",
         "showlegend": true,
         "type": "scattergl",
         "x": [
          1,
          2,
          3,
          4,
          5,
          6,
          7,
          8,
          9,
          10,
          11,
          12,
          13,
          14,
          15,
          16,
          17,
          18,
          19,
          20,
          21,
          22,
          23,
          24,
          25,
          26,
          27,
          28,
          29,
          30,
          31,
          32,
          33,
          34,
          35,
          36,
          37,
          38,
          39,
          40,
          41,
          42,
          43,
          44,
          45,
          46,
          47,
          48,
          49,
          50
         ],
         "xaxis": "x",
         "y": [
          2.8126978251628816,
          9.329823154532223,
          12.631465877339702,
          15.264163702502584,
          17.844323331442304,
          19.572111525126772,
          20.442111525126773,
          21.88211152512677,
          23.602111525126773,
          24.872111525126773,
          26.352111525126773,
          27.15211152512677,
          28.18211152512677,
          28.70211152512677,
          28.75211152512677,
          29.08211152512677,
          29.72211152512677,
          29.782111525126773,
          30.302111525126772,
          30.54211152512677,
          30.558111525126773,
          30.668111525126772,
          31.178111525126774,
          31.70811152512677,
          32.51811152512677,
          33.208111525126775,
          33.80411152512677,
          34.66411152512677,
          35.56411152512677,
          36.55811152512677,
          37.71011152512677,
          38.59011152512677,
          40.43211152512677,
          42.07611152512677,
          42.626111525126774,
          43.848111525126775,
          45.42537457820688,
          46.743374578206875,
          48.383374578206876,
          50.07947457820688,
          51.809474578206874,
          55.87055717087482,
          57.52055717087482,
          59.19055717087482,
          60.48055717087482,
          61.18055717087482,
          61.770557170874824,
          61.840557170874824,
          63.51855717087482,
          64.50855717087482
         ],
         "yaxis": "y"
        },
        {
         "hovertemplate": "Pacjent=2<br>BADANIE_NR=%{x}<br>Miernik=%{y}<extra></extra>",
         "legendgroup": "2",
         "line": {
          "color": "#EF553B",
          "dash": "solid"
         },
         "marker": {
          "symbol": "circle"
         },
         "mode": "lines",
         "name": "2",
         "showlegend": true,
         "type": "scattergl",
         "x": [
          1,
          2,
          3,
          4,
          5,
          6,
          7,
          8,
          9,
          10
         ],
         "xaxis": "x",
         "y": [
          4.1610741216131455,
          7.043843770821681,
          11.06813073509049,
          14.571631827247863,
          15.883050694393193,
          17.929351617619574,
          19.449351617619573,
          20.799351617619575,
          21.909351617619574,
          21.909351617619574
         ],
         "yaxis": "y"
        },
        {
         "hovertemplate": "Pacjent=3<br>BADANIE_NR=%{x}<br>Miernik=%{y}<extra></extra>",
         "legendgroup": "3",
         "line": {
          "color": "#00cc96",
          "dash": "solid"
         },
         "marker": {
          "symbol": "circle"
         },
         "mode": "lines",
         "name": "3",
         "showlegend": true,
         "type": "scattergl",
         "x": [
          1,
          2,
          3,
          4,
          5,
          6,
          7,
          8,
          9,
          10,
          11,
          12,
          13,
          14,
          15,
          16,
          17,
          18,
          19,
          20,
          21,
          22,
          23,
          24,
          25,
          26,
          27,
          28,
          29,
          30,
          31,
          32,
          33,
          34,
          35,
          36,
          37,
          38,
          39,
          40,
          41
         ],
         "xaxis": "x",
         "y": [
          0.42816704541460116,
          1.4881670454146012,
          1.728167045414601,
          2.908167045414601,
          4.218167045414601,
          5.448167045414601,
          6.548167045414601,
          8.118167045414602,
          8.628167045414601,
          8.9081670454146,
          9.078167045414602,
          9.524167045414602,
          10.724167045414601,
          11.734167045414601,
          11.826167045414602,
          12.166167045414602,
          12.3661670454146,
          13.086167045414602,
          13.086167045414602,
          13.2861670454146,
          13.2861670454146,
          13.336167045414602,
          15.366167045414603,
          15.366167045414603,
          15.366167045414603,
          15.366167045414603,
          15.366167045414603,
          15.778167045414602,
          15.848167045414602,
          15.848167045414602,
          15.848167045414602,
          16.0161670454146,
          16.486167045414604,
          16.486167045414604,
          16.486167045414604,
          16.486167045414604,
          16.486167045414604,
          16.486167045414604,
          16.706167045414603,
          16.706167045414603,
          16.706167045414603
         ],
         "yaxis": "y"
        },
        {
         "hovertemplate": "Pacjent=4<br>BADANIE_NR=%{x}<br>Miernik=%{y}<extra></extra>",
         "legendgroup": "4",
         "line": {
          "color": "#ab63fa",
          "dash": "solid"
         },
         "marker": {
          "symbol": "circle"
         },
         "mode": "lines",
         "name": "4",
         "showlegend": true,
         "type": "scattergl",
         "x": [
          1,
          2,
          3,
          4,
          5,
          6,
          7,
          8,
          9,
          10,
          11,
          12,
          13,
          14,
          15,
          16,
          17,
          18,
          19,
          20,
          21,
          22,
          23,
          24,
          25,
          26,
          27,
          28,
          29,
          30,
          31,
          32,
          33,
          34
         ],
         "xaxis": "x",
         "y": [
          0.5799999999999996,
          2.1281338214526553,
          2.478133821452655,
          2.478133821452655,
          2.8181338214526552,
          3.048133821452655,
          3.3721338214526546,
          3.6481338214526544,
          3.6481338214526544,
          3.6481338214526544,
          3.6481338214526544,
          3.6481338214526544,
          3.6481338214526544,
          3.6481338214526544,
          3.6481338214526544,
          3.6481338214526544,
          3.6481338214526544,
          3.6481338214526544,
          3.6481338214526544,
          3.6481338214526544,
          3.6481338214526544,
          3.6481338214526544,
          3.6481338214526544,
          4.268133821452655,
          5.183746569571513,
          6.483746569571513,
          9.26717246479538,
          11.071641662158264,
          14.103236087763873,
          15.893236087763873,
          16.813236087763872,
          17.303236087763874,
          20.349236087763874,
          20.499236087763872
         ],
         "yaxis": "y"
        },
        {
         "hovertemplate": "Pacjent=6<br>BADANIE_NR=%{x}<br>Miernik=%{y}<extra></extra>",
         "legendgroup": "6",
         "line": {
          "color": "#FFA15A",
          "dash": "solid"
         },
         "marker": {
          "symbol": "circle"
         },
         "mode": "lines",
         "name": "6",
         "showlegend": true,
         "type": "scattergl",
         "x": [
          1,
          2,
          3,
          4,
          5,
          6,
          7,
          8
         ],
         "xaxis": "x",
         "y": [
          0,
          1.004,
          1.744,
          4.038,
          4.662,
          4.81,
          4.853478260869565,
          4.853478260869565
         ],
         "yaxis": "y"
        },
        {
         "hovertemplate": "Pacjent=8<br>BADANIE_NR=%{x}<br>Miernik=%{y}<extra></extra>",
         "legendgroup": "8",
         "line": {
          "color": "#19d3f3",
          "dash": "solid"
         },
         "marker": {
          "symbol": "circle"
         },
         "mode": "lines",
         "name": "8",
         "showlegend": true,
         "type": "scattergl",
         "x": [
          1,
          2,
          3,
          4,
          5,
          6,
          7,
          8,
          9,
          10
         ],
         "xaxis": "x",
         "y": [
          0,
          2.1460000000000004,
          2.4340000000000006,
          2.4340000000000006,
          2.4340000000000006,
          2.4340000000000006,
          2.4340000000000006,
          2.4340000000000006,
          2.604000000000001,
          5.316000000000001
         ],
         "yaxis": "y"
        },
        {
         "hovertemplate": "Pacjent=10<br>BADANIE_NR=%{x}<br>Miernik=%{y}<extra></extra>",
         "legendgroup": "10",
         "line": {
          "color": "#FF6692",
          "dash": "solid"
         },
         "marker": {
          "symbol": "circle"
         },
         "mode": "lines",
         "name": "10",
         "showlegend": true,
         "type": "scattergl",
         "x": [
          1,
          2,
          3,
          4,
          5,
          6,
          7,
          8,
          9,
          10,
          11,
          12,
          13,
          14,
          15,
          16,
          17,
          18,
          19,
          20,
          21,
          22,
          23,
          24
         ],
         "xaxis": "x",
         "y": [
          0.1719999999999998,
          0.1719999999999998,
          0.1719999999999998,
          0.1719999999999998,
          0.1719999999999998,
          0.1719999999999998,
          0.1719999999999998,
          0.1719999999999998,
          0.5019999999999994,
          0.5019999999999994,
          0.5019999999999994,
          0.5019999999999994,
          0.5019999999999994,
          0.5019999999999994,
          0.5019999999999994,
          0.5019999999999994,
          0.5019999999999994,
          0.5019999999999994,
          0.5019999999999994,
          1.4419999999999993,
          1.4419999999999993,
          1.4419999999999993,
          1.4419999999999993,
          2.9659999999999993
         ],
         "yaxis": "y"
        },
        {
         "hovertemplate": "Pacjent=16<br>BADANIE_NR=%{x}<br>Miernik=%{y}<extra></extra>",
         "legendgroup": "16",
         "line": {
          "color": "#B6E880",
          "dash": "solid"
         },
         "marker": {
          "symbol": "circle"
         },
         "mode": "lines",
         "name": "16",
         "showlegend": true,
         "type": "scattergl",
         "x": [
          1,
          2,
          3,
          4,
          5,
          6,
          7,
          8,
          9,
          10,
          11,
          12,
          13,
          14,
          15,
          16,
          17,
          18,
          19,
          20,
          21,
          22,
          23,
          24,
          25,
          26
         ],
         "xaxis": "x",
         "y": [
          1.76639348449729,
          3.4016783855311497,
          8.49606561128937,
          11.73267202601837,
          12.30267202601837,
          13.497824778245864,
          13.697824778245863,
          14.767824778245863,
          16.403824778245863,
          17.713824778245865,
          18.203824778245863,
          19.193824778245865,
          19.573824778245864,
          20.043824778245863,
          20.773824778245864,
          22.653824778245863,
          24.253824778245864,
          25.873824778245865,
          27.213824778245865,
          29.213824778245865,
          31.573824778245864,
          33.563824778245866,
          35.48382477824586,
          37.521824778245865,
          37.521824778245865,
          39.25582477824587
         ],
         "yaxis": "y"
        },
        {
         "hovertemplate": "Pacjent=17<br>BADANIE_NR=%{x}<br>Miernik=%{y}<extra></extra>",
         "legendgroup": "17",
         "line": {
          "color": "#FF97FF",
          "dash": "solid"
         },
         "marker": {
          "symbol": "circle"
         },
         "mode": "lines",
         "name": "17",
         "showlegend": true,
         "type": "scattergl",
         "x": [
          1,
          2,
          3,
          4,
          5,
          6,
          7,
          8,
          9,
          10,
          11,
          12,
          13,
          14,
          15,
          16,
          17,
          18
         ],
         "xaxis": "x",
         "y": [
          0.1399999999999999,
          0.2699999999999996,
          3.559907082747044,
          4.903717296739647,
          6.903195272990919,
          8.602968536960448,
          10.662968536960449,
          12.822968536960449,
          14.55296853696045,
          17.12296853696045,
          17.92296853696045,
          18.80296853696045,
          20.01296853696045,
          20.01296853696045,
          20.84296853696045,
          21.312968536960447,
          21.792968536960448,
          22.01296853696045
         ],
         "yaxis": "y"
        },
        {
         "hovertemplate": "Pacjent=18<br>BADANIE_NR=%{x}<br>Miernik=%{y}<extra></extra>",
         "legendgroup": "18",
         "line": {
          "color": "#FECB52",
          "dash": "solid"
         },
         "marker": {
          "symbol": "circle"
         },
         "mode": "lines",
         "name": "18",
         "showlegend": true,
         "type": "scattergl",
         "x": [
          1,
          2,
          3,
          4,
          5,
          6,
          7,
          8,
          9,
          10,
          11,
          12,
          13,
          14,
          15,
          16,
          17,
          18,
          19,
          20,
          21,
          22,
          23,
          24,
          25,
          26,
          27,
          28,
          29,
          30,
          31,
          32,
          33,
          34,
          35
         ],
         "xaxis": "x",
         "y": [
          1.3924198526024483,
          2.7423004541029377,
          3.812300454102938,
          5.0423004541029375,
          5.912300454102938,
          6.852300454102938,
          7.172300454102938,
          7.712300454102938,
          8.672300454102938,
          9.13230045410294,
          10.056300454102939,
          10.288300454102938,
          10.288300454102938,
          10.358300454102938,
          10.72830045410294,
          10.888300454102938,
          11.408300454102939,
          12.088300454102939,
          12.598300454102938,
          13.038300454102938,
          13.038300454102938,
          13.218300454102938,
          13.218300454102938,
          13.218300454102938,
          13.218300454102938,
          13.218300454102938,
          13.218300454102938,
          13.218300454102938,
          13.218300454102938,
          13.218300454102938,
          13.218300454102938,
          13.218300454102938,
          13.218300454102938,
          13.218300454102938,
          13.218300454102938
         ],
         "yaxis": "y"
        },
        {
         "hovertemplate": "Pacjent=19<br>BADANIE_NR=%{x}<br>Miernik=%{y}<extra></extra>",
         "legendgroup": "19",
         "line": {
          "color": "#636efa",
          "dash": "solid"
         },
         "marker": {
          "symbol": "circle"
         },
         "mode": "lines",
         "name": "19",
         "showlegend": true,
         "type": "scattergl",
         "x": [
          1,
          2,
          3,
          4,
          5,
          6,
          7,
          8,
          9,
          10,
          11,
          12,
          13,
          14,
          15,
          16,
          17,
          18,
          19,
          20,
          21,
          22,
          23,
          24,
          25,
          26,
          27,
          28,
          29,
          30,
          31,
          32
         ],
         "xaxis": "x",
         "y": [
          0,
          0,
          0,
          0,
          0,
          0,
          0,
          0,
          0,
          1.392,
          1.392,
          1.392,
          1.392,
          1.392,
          1.392,
          1.392,
          2.000695652173913,
          2.000695652173913,
          2.000695652173913,
          2.000695652173913,
          2.1746086956521737,
          2.1746086956521737,
          2.1746086956521737,
          2.1746086956521737,
          2.1746086956521737,
          2.1746086956521737,
          2.1746086956521737,
          2.1746086956521737,
          2.1746086956521737,
          2.1746086956521737,
          2.1746086956521737,
          2.1746086956521737
         ],
         "yaxis": "y"
        },
        {
         "hovertemplate": "Pacjent=26<br>BADANIE_NR=%{x}<br>Miernik=%{y}<extra></extra>",
         "legendgroup": "26",
         "line": {
          "color": "#EF553B",
          "dash": "solid"
         },
         "marker": {
          "symbol": "circle"
         },
         "mode": "lines",
         "name": "26",
         "showlegend": true,
         "type": "scattergl",
         "x": [
          1,
          2,
          3,
          4,
          5,
          6,
          7,
          8,
          9,
          10,
          11,
          12,
          13,
          14,
          15,
          16
         ],
         "xaxis": "x",
         "y": [
          4.467955209079162,
          10.50323548605838,
          19.36523915736097,
          30.11919057381292,
          31.299778594210647,
          33.60423111196245,
          33.60423111196245,
          33.60423111196245,
          33.70423111196245,
          34.26423111196245,
          35.34423111196245,
          35.34423111196245,
          35.34423111196245,
          35.34423111196245,
          35.83823111196245,
          36.08823111196245
         ],
         "yaxis": "y"
        },
        {
         "hovertemplate": "Pacjent=28<br>BADANIE_NR=%{x}<br>Miernik=%{y}<extra></extra>",
         "legendgroup": "28",
         "line": {
          "color": "#00cc96",
          "dash": "solid"
         },
         "marker": {
          "symbol": "circle"
         },
         "mode": "lines",
         "name": "28",
         "showlegend": true,
         "type": "scattergl",
         "x": [
          1,
          2,
          3,
          4,
          5,
          6,
          7,
          8,
          9,
          10,
          11,
          12,
          13,
          14,
          15,
          16,
          17,
          18,
          19,
          20,
          21,
          22,
          23,
          24,
          25,
          26,
          27,
          28,
          29,
          30,
          31,
          32,
          33,
          34,
          35,
          36,
          37,
          38,
          39,
          40
         ],
         "xaxis": "x",
         "y": [
          4.810061849002746,
          5.266061849002746,
          5.90653104636563,
          6.841883305793678,
          8.150728180393806,
          9.525734268272853,
          9.525734268272853,
          11.183522461957319,
          12.145522461957318,
          12.225522461957318,
          12.965522461957319,
          13.311522461957317,
          13.831522461957318,
          14.251522461957318,
          14.461522461957319,
          15.911522461957318,
          17.69152246195732,
          18.251522461957318,
          18.271522461957318,
          18.28352246195732,
          18.60352246195732,
          18.90952246195732,
          20.099522461957317,
          21.42952246195732,
          22.72952246195732,
          23.169522461957317,
          23.88952246195732,
          24.149522461957318,
          24.669522461957317,
          26.28952246195732,
          27.20952246195732,
          28.02952246195732,
          28.26952246195732,
          28.649522461957318,
          28.65952246195732,
          28.65952246195732,
          28.689522461957317,
          28.689522461957317,
          28.689522461957317,
          28.689522461957317
         ],
         "yaxis": "y"
        },
        {
         "hovertemplate": "Pacjent=29<br>BADANIE_NR=%{x}<br>Miernik=%{y}<extra></extra>",
         "legendgroup": "29",
         "line": {
          "color": "#ab63fa",
          "dash": "solid"
         },
         "marker": {
          "symbol": "circle"
         },
         "mode": "lines",
         "name": "29",
         "showlegend": true,
         "type": "scattergl",
         "x": [
          1,
          2,
          3,
          4,
          5,
          6,
          7,
          8,
          9,
          10,
          11,
          12,
          13,
          14,
          15,
          16,
          17,
          18,
          19,
          20,
          21,
          22,
          23,
          24,
          25,
          26,
          27,
          28,
          29,
          30,
          31,
          32
         ],
         "xaxis": "x",
         "y": [
          6.821825617442868,
          9.935861471938514,
          13.535961168098188,
          16.31865899326107,
          18.266659382550678,
          19.870969250604837,
          20.460969250604837,
          21.746969250604835,
          22.696969250604834,
          23.458969250604834,
          25.302969250604836,
          26.798969250604838,
          27.718969250604836,
          28.678969250604837,
          29.888969250604838,
          31.078969250604835,
          32.590969250604836,
          33.37096925060484,
          33.880969250604835,
          34.22096925060484,
          34.22096925060484,
          34.270969250604836,
          34.270969250604836,
          34.270969250604836,
          34.270969250604836,
          34.270969250604836,
          34.270969250604836,
          34.270969250604836,
          34.74296925060484,
          34.770969250604836,
          35.58366490277875,
          35.58766490277875
         ],
         "yaxis": "y"
        },
        {
         "hovertemplate": "Pacjent=33<br>BADANIE_NR=%{x}<br>Miernik=%{y}<extra></extra>",
         "legendgroup": "33",
         "line": {
          "color": "#FFA15A",
          "dash": "solid"
         },
         "marker": {
          "symbol": "circle"
         },
         "mode": "lines",
         "name": "33",
         "showlegend": true,
         "type": "scattergl",
         "x": [
          1,
          2,
          3,
          4,
          5,
          6,
          7,
          8,
          9,
          10,
          11,
          12,
          13,
          14,
          15,
          16,
          17,
          18,
          19,
          20,
          21,
          22,
          23,
          24,
          25,
          26,
          27,
          28,
          29,
          30,
          31,
          32,
          33,
          34,
          35,
          36,
          37,
          38,
          39,
          40,
          41,
          42,
          43,
          44,
          45,
          46,
          47,
          48,
          49,
          50,
          51
         ],
         "xaxis": "x",
         "y": [
          2.136004365857506,
          4.661110591008784,
          7.4591875550628135,
          8.079187555062814,
          8.259187555062812,
          8.779187555062814,
          9.029187555062814,
          9.879187555062813,
          10.239187555062815,
          12.279187555062816,
          13.889187555062815,
          15.889187555062815,
          18.031187555062814,
          20.051187555062814,
          21.881187555062816,
          23.541187555062816,
          24.981187555062814,
          26.671187555062815,
          28.271187555062816,
          29.611187555062813,
          31.101187555062815,
          32.86118755506281,
          37.02292559461217,
          39.66292559461217,
          42.51292559461217,
          44.14292559461217,
          46.39892559461217,
          47.34892559461217,
          49.38692559461217,
          50.08692559461217,
          50.306925594612174,
          50.96292559461217,
          51.63492559461217,
          52.504925594612175,
          53.86092559461217,
          55.22092559461217,
          56.61092559461217,
          58.81692559461217,
          59.93692559461217,
          61.61892559461217,
          62.93892559461217,
          64.18892559461217,
          64.80492559461217,
          65.39492559461218,
          66.88492559461217,
          67.84492559461218,
          69.37492559461218,
          70.87492559461218,
          72.44492559461217,
          73.93492559461217,
          75.15492559461218
         ],
         "yaxis": "y"
        },
        {
         "hovertemplate": "Pacjent=39<br>BADANIE_NR=%{x}<br>Miernik=%{y}<extra></extra>",
         "legendgroup": "39",
         "line": {
          "color": "#19d3f3",
          "dash": "solid"
         },
         "marker": {
          "symbol": "circle"
         },
         "mode": "lines",
         "name": "39",
         "showlegend": true,
         "type": "scattergl",
         "x": [
          1,
          2,
          3,
          4,
          5,
          6,
          7,
          8,
          9,
          10,
          11,
          12,
          13,
          14,
          15,
          16,
          17,
          18,
          19,
          20,
          21,
          22,
          23,
          24,
          25,
          26,
          27,
          28,
          29,
          30,
          31,
          32,
          33,
          34,
          35
         ],
         "xaxis": "x",
         "y": [
          4.5356727251291575,
          9.428957808569724,
          18.28360568991763,
          20.480240128834208,
          23.122187239885008,
          27.506638282622458,
          29.854009132411818,
          32.38930186898873,
          35.09918247048922,
          37.94918247048922,
          39.859182470489216,
          41.69918247048922,
          43.79918247048922,
          45.34918247048922,
          46.31918247048922,
          46.43918247048922,
          46.59518247048922,
          46.67518247048922,
          48.045182470489216,
          48.045182470489216,
          48.045182470489216,
          48.045182470489216,
          48.045182470489216,
          48.045182470489216,
          48.045182470489216,
          52.306491181061176,
          52.306491181061176,
          52.306491181061176,
          52.306491181061176,
          52.306491181061176,
          52.306491181061176,
          52.306491181061176,
          52.41449118106117,
          53.8934477028003,
          54.013447702800306
         ],
         "yaxis": "y"
        },
        {
         "hovertemplate": "Pacjent=44<br>BADANIE_NR=%{x}<br>Miernik=%{y}<extra></extra>",
         "legendgroup": "44",
         "line": {
          "color": "#FF6692",
          "dash": "solid"
         },
         "marker": {
          "symbol": "circle"
         },
         "mode": "lines",
         "name": "44",
         "showlegend": true,
         "type": "scattergl",
         "x": [
          1,
          2,
          3,
          4,
          5,
          6,
          7,
          8,
          9,
          10,
          11,
          12,
          13,
          14,
          15,
          16,
          17,
          18,
          19,
          20,
          21,
          22,
          23,
          24,
          25,
          26
         ],
         "xaxis": "x",
         "y": [
          0.3400000000000001,
          5.777348354826483,
          9.418430947494425,
          11.543723684071336,
          12.963723684071336,
          13.243723684071337,
          13.373723684071336,
          13.943723684071337,
          14.223723684071336,
          15.003723684071335,
          16.095723684071338,
          17.845723684071338,
          20.383723684071335,
          21.381723684071336,
          23.451723684071336,
          24.711723684071337,
          26.201723684071336,
          26.821723684071337,
          27.061723684071335,
          27.421723684071335,
          27.951723684071336,
          27.951723684071336,
          27.951723684071336,
          28.201723684071336,
          28.201723684071336,
          28.201723684071336
         ],
         "yaxis": "y"
        },
        {
         "hovertemplate": "Pacjent=46<br>BADANIE_NR=%{x}<br>Miernik=%{y}<extra></extra>",
         "legendgroup": "46",
         "line": {
          "color": "#B6E880",
          "dash": "solid"
         },
         "marker": {
          "symbol": "circle"
         },
         "mode": "lines",
         "name": "46",
         "showlegend": true,
         "type": "scattergl",
         "x": [
          1,
          2,
          3,
          4,
          5,
          6,
          7,
          8,
          9,
          10,
          11,
          12,
          13,
          14,
          15,
          16,
          17,
          18,
          19,
          20,
          21,
          22,
          23,
          24,
          25,
          26,
          27,
          28,
          29,
          30,
          31,
          32,
          33,
          34,
          35,
          36,
          37,
          38,
          39,
          40
         ],
         "xaxis": "x",
         "y": [
          2.610501908047906,
          2.750501908047906,
          4.920674571954969,
          6.412187161569771,
          7.1521871615697705,
          7.482187161569771,
          7.8221871615697705,
          8.52218716156977,
          8.962187161569771,
          9.25218716156977,
          9.56218716156977,
          10.32218716156977,
          11.44218716156977,
          13.522187161569772,
          15.31218716156977,
          17.072187161569772,
          18.35218716156977,
          19.69218716156977,
          20.54218716156977,
          22.08218716156977,
          23.31218716156977,
          24.12218716156977,
          24.12218716156977,
          25.29018716156977,
          26.96218716156977,
          28.12218716156977,
          29.67018716156977,
          29.67018716156977,
          31.83018716156977,
          34.14055632108273,
          34.25055632108273,
          36.84197518822806,
          38.24197518822806,
          38.62197518822806,
          39.73197518822806,
          40.41997518822806,
          40.90997518822806,
          41.34197518822806,
          41.79197518822806,
          41.79197518822806
         ],
         "yaxis": "y"
        },
        {
         "hovertemplate": "Pacjent=47<br>BADANIE_NR=%{x}<br>Miernik=%{y}<extra></extra>",
         "legendgroup": "47",
         "line": {
          "color": "#FF97FF",
          "dash": "solid"
         },
         "marker": {
          "symbol": "circle"
         },
         "mode": "lines",
         "name": "47",
         "showlegend": true,
         "type": "scattergl",
         "x": [
          1,
          2,
          3,
          4,
          5,
          6,
          7,
          8,
          9,
          10,
          11,
          12,
          13,
          14,
          15,
          16,
          17,
          18,
          19,
          20,
          21,
          22,
          23,
          24,
          25,
          26,
          27,
          28,
          29
         ],
         "xaxis": "x",
         "y": [
          0,
          0,
          0.0700000000000005,
          1.2133522594280488,
          1.2733522594280489,
          1.4233522594280488,
          1.943352259428049,
          1.943352259428049,
          1.943352259428049,
          2.153352259428049,
          3.2233522594280495,
          4.58335225942805,
          9.217854167475956,
          10.123854167475956,
          11.301854167475955,
          12.491854167475957,
          13.391854167475955,
          14.171854167475956,
          15.171854167475956,
          15.641854167475955,
          16.571854167475955,
          16.941854167475956,
          16.951854167475958,
          16.951854167475958,
          17.701854167475958,
          18.221854167475957,
          18.591854167475958,
          19.39185416747596,
          20.011854167475956
         ],
         "yaxis": "y"
        },
        {
         "hovertemplate": "Pacjent=49<br>BADANIE_NR=%{x}<br>Miernik=%{y}<extra></extra>",
         "legendgroup": "49",
         "line": {
          "color": "#FECB52",
          "dash": "solid"
         },
         "marker": {
          "symbol": "circle"
         },
         "mode": "lines",
         "name": "49",
         "showlegend": true,
         "type": "scattergl",
         "x": [
          1,
          2,
          3,
          4,
          5,
          6,
          7,
          8,
          9,
          10,
          11,
          12,
          13,
          14,
          15,
          16,
          17,
          18,
          19,
          20,
          21,
          22,
          23
         ],
         "xaxis": "x",
         "y": [
          3.4236629714728437,
          6.366522544222525,
          8.381290903384096,
          10.105166053590303,
          10.822557357938129,
          10.93125301011204,
          10.93125301011204,
          10.93125301011204,
          10.93125301011204,
          10.93125301011204,
          10.93125301011204,
          10.93125301011204,
          10.93125301011204,
          10.93125301011204,
          10.93125301011204,
          10.93125301011204,
          10.93125301011204,
          10.93125301011204,
          10.93125301011204,
          10.93125301011204,
          10.93125301011204,
          11.08342692315552,
          11.148644314459867
         ],
         "yaxis": "y"
        },
        {
         "hovertemplate": "Pacjent=50<br>BADANIE_NR=%{x}<br>Miernik=%{y}<extra></extra>",
         "legendgroup": "50",
         "line": {
          "color": "#636efa",
          "dash": "solid"
         },
         "marker": {
          "symbol": "circle"
         },
         "mode": "lines",
         "name": "50",
         "showlegend": true,
         "type": "scattergl",
         "x": [
          1,
          2,
          3,
          4,
          5,
          6,
          7,
          8,
          9,
          10,
          11,
          12,
          13,
          14,
          15,
          16,
          17,
          18,
          19
         ],
         "xaxis": "x",
         "y": [
          0.6008127472364575,
          0.780812747236457,
          1.0608127472364568,
          3.3388301814648793,
          4.1391993409778385,
          5.059199340977839,
          5.169199340977839,
          5.169199340977839,
          5.169199340977839,
          5.319199340977839,
          5.689199340977839,
          6.3391993409778395,
          6.87919934097784,
          6.87919934097784,
          6.87919934097784,
          6.87919934097784,
          7.019199340977839,
          7.019199340977839,
          7.019199340977839
         ],
         "yaxis": "y"
        },
        {
         "hovertemplate": "Pacjent=54<br>BADANIE_NR=%{x}<br>Miernik=%{y}<extra></extra>",
         "legendgroup": "54",
         "line": {
          "color": "#EF553B",
          "dash": "solid"
         },
         "marker": {
          "symbol": "circle"
         },
         "mode": "lines",
         "name": "54",
         "showlegend": true,
         "type": "scattergl",
         "x": [
          1,
          2,
          3,
          4,
          5,
          6,
          7,
          8,
          9,
          10,
          11,
          12,
          13,
          14,
          15,
          16,
          17,
          18,
          19,
          20,
          21,
          22,
          23,
          24,
          25,
          26,
          27,
          28,
          29,
          30,
          31,
          32,
          33,
          34,
          35,
          36,
          37,
          38
         ],
         "xaxis": "x",
         "y": [
          0,
          0.12999999999999967,
          0.9939999999999997,
          1.2099999999999997,
          1.8999999999999997,
          2.34,
          3.1999999999999997,
          3.6499999999999995,
          4.294,
          5.282,
          5.808,
          6.037999999999999,
          6.747999999999999,
          8.35941886714533,
          9.739418867145329,
          11.469418867145329,
          13.297418867145328,
          14.66541886714533,
          18.515299468645818,
          22.005299468645816,
          25.25129946864582,
          27.09129946864582,
          29.14129946864582,
          32.75129946864582,
          33.93129946864582,
          36.341299468645815,
          38.24129946864582,
          39.96129946864582,
          41.481299468645815,
          43.84281205826062,
          45.697964810488116,
          47.90996481048811,
          47.90996481048811,
          50.265964810488114,
          51.74596481048811,
          53.75796481048811,
          55.67796481048811,
          58.29396481048811
         ],
         "yaxis": "y"
        },
        {
         "hovertemplate": "Pacjent=58<br>BADANIE_NR=%{x}<br>Miernik=%{y}<extra></extra>",
         "legendgroup": "58",
         "line": {
          "color": "#00cc96",
          "dash": "solid"
         },
         "marker": {
          "symbol": "circle"
         },
         "mode": "lines",
         "name": "58",
         "showlegend": true,
         "type": "scattergl",
         "x": [
          1,
          2,
          3,
          4,
          5,
          6,
          7,
          8,
          9,
          10,
          11,
          12,
          13,
          14,
          15,
          16,
          17,
          18,
          19,
          20,
          21,
          22,
          23,
          24,
          25
         ],
         "xaxis": "x",
         "y": [
          0.8695652173913044,
          1.4347826086956523,
          1.9347826086956523,
          2.0307826086956524,
          2.0307826086956524,
          2.0307826086956524,
          2.0307826086956524,
          2.0307826086956524,
          2.0307826086956524,
          2.0307826086956524,
          2.0307826086956524,
          2.0307826086956524,
          2.0307826086956524,
          2.0307826086956524,
          2.0307826086956524,
          2.1394782608695655,
          2.1394782608695655,
          2.1394782608695655,
          3.819478260869566,
          3.819478260869566,
          3.819478260869566,
          3.819478260869566,
          5.335478260869566,
          7.067478260869565,
          8.491478260869567
         ],
         "yaxis": "y"
        },
        {
         "hovertemplate": "Pacjent=59<br>BADANIE_NR=%{x}<br>Miernik=%{y}<extra></extra>",
         "legendgroup": "59",
         "line": {
          "color": "#ab63fa",
          "dash": "solid"
         },
         "marker": {
          "symbol": "circle"
         },
         "mode": "lines",
         "name": "59",
         "showlegend": true,
         "type": "scattergl",
         "x": [
          1,
          2,
          3,
          4,
          5,
          6,
          7,
          8,
          9,
          10,
          11,
          12,
          13,
          14,
          15,
          16,
          17,
          18,
          19
         ],
         "xaxis": "x",
         "y": [
          0,
          1.938300923226381,
          1.938300923226381,
          1.938300923226381,
          1.938300923226381,
          1.938300923226381,
          1.938300923226381,
          1.938300923226381,
          1.938300923226381,
          3.302300923226381,
          3.302300923226381,
          3.302300923226381,
          3.302300923226381,
          3.302300923226381,
          3.302300923226381,
          3.302300923226381,
          3.302300923226381,
          3.302300923226381,
          3.302300923226381
         ],
         "yaxis": "y"
        },
        {
         "hovertemplate": "Pacjent=60<br>BADANIE_NR=%{x}<br>Miernik=%{y}<extra></extra>",
         "legendgroup": "60",
         "line": {
          "color": "#FFA15A",
          "dash": "solid"
         },
         "marker": {
          "symbol": "circle"
         },
         "mode": "lines",
         "name": "60",
         "showlegend": true,
         "type": "scattergl",
         "x": [
          1,
          2,
          3,
          4,
          5,
          6,
          7,
          8,
          9,
          10,
          11,
          12,
          13,
          14,
          15,
          16,
          17,
          18,
          19,
          20
         ],
         "xaxis": "x",
         "y": [
          0,
          0,
          0,
          0,
          0.5799999999999996,
          3.2339999999999995,
          3.574,
          3.694,
          3.914,
          4.184,
          4.744000000000001,
          7.338,
          9.7,
          12.49,
          15.52,
          17.842,
          21.432000000000002,
          24.234,
          26.138,
          26.178
         ],
         "yaxis": "y"
        },
        {
         "hovertemplate": "Pacjent=67<br>BADANIE_NR=%{x}<br>Miernik=%{y}<extra></extra>",
         "legendgroup": "67",
         "line": {
          "color": "#19d3f3",
          "dash": "solid"
         },
         "marker": {
          "symbol": "circle"
         },
         "mode": "lines",
         "name": "67",
         "showlegend": true,
         "type": "scattergl",
         "x": [
          1,
          2,
          3,
          4,
          5,
          6,
          7,
          8,
          9,
          10,
          11,
          12,
          13,
          14,
          15,
          16,
          17,
          18,
          19,
          20,
          21,
          22,
          23,
          24,
          25,
          26,
          27,
          28,
          29,
          30,
          31,
          32,
          33,
          34,
          35,
          36,
          37
         ],
         "xaxis": "x",
         "y": [
          0.5980000000000006,
          3.8013489548762136,
          6.964233956497424,
          9.556233956497422,
          12.531526693074335,
          15.817827616300717,
          19.163112517334575,
          20.413112517334575,
          20.863112517334578,
          21.663112517334575,
          22.123112517334576,
          23.013112517334577,
          23.093112517334575,
          24.613112517334578,
          25.543112517334578,
          26.193112517334576,
          26.193112517334576,
          26.193112517334576,
          26.213112517334576,
          26.213112517334576,
          26.213112517334576,
          26.213112517334576,
          26.213112517334576,
          26.213112517334576,
          26.213112517334576,
          26.213112517334576,
          26.213112517334576,
          26.213112517334576,
          26.345112517334577,
          26.345112517334577,
          26.345112517334577,
          26.345112517334577,
          27.313112517334577,
          29.083112517334577,
          29.749112517334577,
          31.227112517334575,
          32.483112517334575
         ],
         "yaxis": "y"
        },
        {
         "hovertemplate": "Pacjent=68<br>BADANIE_NR=%{x}<br>Miernik=%{y}<extra></extra>",
         "legendgroup": "68",
         "line": {
          "color": "#FF6692",
          "dash": "solid"
         },
         "marker": {
          "symbol": "circle"
         },
         "mode": "lines",
         "name": "68",
         "showlegend": true,
         "type": "scattergl",
         "x": [
          1,
          2,
          3,
          4,
          5,
          6,
          7,
          8,
          9,
          10,
          11,
          12,
          13,
          14,
          15,
          16,
          17,
          18,
          19
         ],
         "xaxis": "x",
         "y": [
          0.1360000000000002,
          1.706,
          2.5340000000000003,
          2.8440000000000003,
          2.8440000000000003,
          2.894,
          2.894,
          2.894,
          2.894,
          2.894,
          2.894,
          2.894,
          2.894,
          2.894,
          2.894,
          2.894,
          2.894,
          2.894,
          2.894
         ],
         "yaxis": "y"
        },
        {
         "hovertemplate": "Pacjent=69<br>BADANIE_NR=%{x}<br>Miernik=%{y}<extra></extra>",
         "legendgroup": "69",
         "line": {
          "color": "#B6E880",
          "dash": "solid"
         },
         "marker": {
          "symbol": "circle"
         },
         "mode": "lines",
         "name": "69",
         "showlegend": true,
         "type": "scattergl",
         "x": [
          1,
          2,
          3,
          4,
          5,
          6,
          7,
          8,
          9,
          10,
          11,
          12,
          13,
          14,
          15,
          16,
          17,
          18,
          19,
          20,
          21,
          22,
          23
         ],
         "xaxis": "x",
         "y": [
          0,
          0,
          0,
          0,
          1.152,
          1.152,
          1.152,
          1.152,
          1.152,
          1.152,
          1.152,
          1.152,
          1.152,
          1.152,
          1.152,
          1.152,
          1.152,
          1.152,
          1.152,
          1.152,
          1.152,
          1.152,
          1.152
         ],
         "yaxis": "y"
        },
        {
         "hovertemplate": "Pacjent=71<br>BADANIE_NR=%{x}<br>Miernik=%{y}<extra></extra>",
         "legendgroup": "71",
         "line": {
          "color": "#FF97FF",
          "dash": "solid"
         },
         "marker": {
          "symbol": "circle"
         },
         "mode": "lines",
         "name": "71",
         "showlegend": true,
         "type": "scattergl",
         "x": [
          1,
          2,
          3,
          4,
          5,
          6,
          7,
          8
         ],
         "xaxis": "x",
         "y": [
          0,
          0,
          0,
          0,
          0,
          0,
          0,
          0
         ],
         "yaxis": "y"
        },
        {
         "hovertemplate": "Pacjent=72<br>BADANIE_NR=%{x}<br>Miernik=%{y}<extra></extra>",
         "legendgroup": "72",
         "line": {
          "color": "#FECB52",
          "dash": "solid"
         },
         "marker": {
          "symbol": "circle"
         },
         "mode": "lines",
         "name": "72",
         "showlegend": true,
         "type": "scattergl",
         "x": [
          1,
          2,
          3,
          4,
          5,
          6,
          7,
          8,
          9,
          10,
          11,
          12,
          13,
          14,
          15,
          16,
          17,
          18,
          19,
          20,
          21,
          22,
          23,
          24,
          25,
          26,
          27,
          28,
          29,
          30,
          31,
          32,
          33,
          34,
          35,
          36
         ],
         "xaxis": "x",
         "y": [
          3.207334486366892,
          6.353072525916247,
          8.627236218636957,
          10.936081093237085,
          13.864081482526695,
          16.51581952207605,
          18.40581952207605,
          19.94581952207605,
          21.55581952207605,
          24.57181952207605,
          26.95381952207605,
          29.32581952207605,
          32.42981952207605,
          34.94981952207605,
          37.64381952207605,
          40.29581952207605,
          42.45981952207605,
          45.12581952207605,
          47.41581952207605,
          49.21981952207605,
          50.13981952207605,
          52.50381952207605,
          54.26781952207605,
          55.75581952207605,
          55.75581952207605,
          57.39781952207605,
          58.76581952207605,
          60.00381952207605,
          60.00381952207605,
          61.45181952207605,
          63.03181952207605,
          65.02781952207606,
          66.25581952207605,
          68.33077604381518,
          69.68877604381518,
          71.66477604381518
         ],
         "yaxis": "y"
        },
        {
         "hovertemplate": "Pacjent=76<br>BADANIE_NR=%{x}<br>Miernik=%{y}<extra></extra>",
         "legendgroup": "76",
         "line": {
          "color": "#636efa",
          "dash": "solid"
         },
         "marker": {
          "symbol": "circle"
         },
         "mode": "lines",
         "name": "76",
         "showlegend": true,
         "type": "scattergl",
         "x": [
          1,
          2,
          3,
          4,
          5,
          6,
          7,
          8,
          9,
          10,
          11,
          12,
          13,
          14,
          15,
          16,
          17,
          18,
          19
         ],
         "xaxis": "x",
         "y": [
          1.0265880203977282,
          3.327362413205301,
          8.634127328223698,
          12.449809098800637,
          14.953310190958009,
          16.78131058024762,
          17.12131058024762,
          18.081310580247617,
          18.485310580247617,
          19.08531058024762,
          19.285310580247618,
          20.415310580247617,
          20.895310580247617,
          21.785310580247618,
          22.115310580247616,
          22.725310580247616,
          23.205310580247616,
          23.695310580247618,
          23.695310580247618
         ],
         "yaxis": "y"
        },
        {
         "hovertemplate": "Pacjent=79<br>BADANIE_NR=%{x}<br>Miernik=%{y}<extra></extra>",
         "legendgroup": "79",
         "line": {
          "color": "#EF553B",
          "dash": "solid"
         },
         "marker": {
          "symbol": "circle"
         },
         "mode": "lines",
         "name": "79",
         "showlegend": true,
         "type": "scattergl",
         "x": [
          1,
          2,
          3,
          4,
          5,
          6,
          7,
          8,
          9,
          10,
          11,
          12,
          13,
          14,
          15,
          16,
          17,
          18,
          19,
          20,
          21,
          22,
          23,
          24,
          25,
          26,
          27,
          28,
          29,
          30,
          31,
          32,
          33,
          34,
          35,
          36,
          37,
          38,
          39,
          40,
          41,
          42,
          43,
          44
         ],
         "xaxis": "x",
         "y": [
          3.3138772113199604,
          11.263797746356683,
          14.645655235675989,
          15.745655235675988,
          16.68365523567599,
          18.153655235675988,
          19.77365523567599,
          21.23365523567599,
          22.75365523567599,
          24.27365523567599,
          25.25365523567599,
          27.14965523567599,
          28.32965523567599,
          30.14965523567599,
          31.73965523567599,
          35.6443571830443,
          36.3943571830443,
          37.314357183044294,
          38.304357183044296,
          38.78435718304429,
          40.3543571830443,
          41.7143571830443,
          43.0843571830443,
          44.0143571830443,
          44.1543571830443,
          44.1543571830443,
          44.1543571830443,
          44.1543571830443,
          44.1543571830443,
          44.1543571830443,
          44.1543571830443,
          44.1543571830443,
          44.1543571830443,
          45.5783571830443,
          45.5783571830443,
          45.5783571830443,
          45.5783571830443,
          45.5783571830443,
          45.5783571830443,
          45.5783571830443,
          45.5783571830443,
          45.5783571830443,
          47.7943571830443,
          49.9863571830443
         ],
         "yaxis": "y"
        },
        {
         "hovertemplate": "Pacjent=81<br>BADANIE_NR=%{x}<br>Miernik=%{y}<extra></extra>",
         "legendgroup": "81",
         "line": {
          "color": "#00cc96",
          "dash": "solid"
         },
         "marker": {
          "symbol": "circle"
         },
         "mode": "lines",
         "name": "81",
         "showlegend": true,
         "type": "scattergl",
         "x": [
          1,
          2,
          3,
          4,
          5,
          6,
          7,
          8,
          9,
          10,
          11,
          12,
          13,
          14,
          15,
          16,
          17,
          18,
          19,
          20,
          21,
          22,
          23,
          24,
          25,
          26,
          27,
          28,
          29
         ],
         "xaxis": "x",
         "y": [
          3.7444975294991045,
          5.0895702159742795,
          5.61957021597428,
          5.66957021597428,
          6.20957021597428,
          7.53957021597428,
          7.53957021597428,
          7.53957021597428,
          7.53957021597428,
          7.70957021597428,
          7.70957021597428,
          8.13957021597428,
          8.13957021597428,
          8.13957021597428,
          8.13957021597428,
          8.13957021597428,
          8.13957021597428,
          8.53557021597428,
          8.53557021597428,
          8.53557021597428,
          8.53557021597428,
          8.53557021597428,
          8.53557021597428,
          8.66557021597428,
          8.66557021597428,
          8.66557021597428,
          8.66557021597428,
          8.795570215974278,
          8.795570215974278
         ],
         "yaxis": "y"
        },
        {
         "hovertemplate": "Pacjent=83<br>BADANIE_NR=%{x}<br>Miernik=%{y}<extra></extra>",
         "legendgroup": "83",
         "line": {
          "color": "#ab63fa",
          "dash": "solid"
         },
         "marker": {
          "symbol": "circle"
         },
         "mode": "lines",
         "name": "83",
         "showlegend": true,
         "type": "scattergl",
         "x": [
          1,
          2,
          3,
          4,
          5,
          6,
          7,
          8,
          9,
          10,
          11,
          12,
          13,
          14,
          15,
          16,
          17,
          18,
          19,
          20,
          21,
          22,
          23,
          24,
          25,
          26,
          27,
          28,
          29,
          30,
          31,
          32,
          33,
          34,
          35,
          36,
          37,
          38,
          39,
          40
         ],
         "xaxis": "x",
         "y": [
          3.5327315066695593,
          8.877020035929082,
          13.510523953176815,
          14.870523953176814,
          15.410523953176815,
          15.940523953176815,
          16.650523953176815,
          16.660523953176813,
          16.970523953176816,
          17.780523953176814,
          18.346523953176817,
          18.716523953176814,
          18.716523953176814,
          19.156523953176816,
          19.156523953176816,
          19.156523953176816,
          19.156523953176816,
          19.156523953176816,
          19.156523953176816,
          19.156523953176816,
          19.788523953176817,
          19.788523953176817,
          19.788523953176817,
          19.940523953176815,
          19.940523953176815,
          19.940523953176815,
          19.940523953176815,
          19.940523953176815,
          19.940523953176815,
          20.320523953176817,
          20.320523953176817,
          20.892523953176816,
          20.892523953176816,
          20.892523953176816,
          20.892523953176816,
          21.276523953176817,
          21.276523953176817,
          21.276523953176817,
          23.012523953176814,
          24.354523953176816
         ],
         "yaxis": "y"
        },
        {
         "hovertemplate": "Pacjent=90<br>BADANIE_NR=%{x}<br>Miernik=%{y}<extra></extra>",
         "legendgroup": "90",
         "line": {
          "color": "#FFA15A",
          "dash": "solid"
         },
         "marker": {
          "symbol": "circle"
         },
         "mode": "lines",
         "name": "90",
         "showlegend": true,
         "type": "scattergl",
         "x": [
          1,
          2,
          3,
          4,
          5,
          6,
          7,
          8,
          9,
          10,
          11,
          12,
          13,
          14,
          15,
          16,
          17,
          18,
          19,
          20,
          21,
          22,
          23,
          24,
          25,
          26,
          27,
          28,
          29,
          30,
          31,
          32,
          33,
          34,
          35,
          36,
          37,
          38,
          39,
          40,
          41,
          42,
          43,
          44,
          45,
          46,
          47,
          48,
          49,
          50,
          51,
          52,
          53,
          54,
          55
         ],
         "xaxis": "x",
         "y": [
          2.154501908047906,
          5.852146083261031,
          9.577554821837278,
          9.577554821837278,
          12.047554821837279,
          14.41755482183728,
          15.09755482183728,
          15.91755482183728,
          16.46755482183728,
          17.90843671798603,
          19.138436717986032,
          20.05843671798603,
          21.06843671798603,
          24.528343800733076,
          24.798343800733075,
          26.22834380073308,
          26.79834380073308,
          27.898343800733077,
          27.948343800733078,
          27.948343800733078,
          27.968343800733077,
          27.968343800733077,
          28.918343800733076,
          29.828343800733077,
          30.648343800733077,
          31.20834380073308,
          31.558343800733077,
          32.05834380073308,
          32.73834380073308,
          32.93834380073308,
          32.93834380073308,
          32.93834380073308,
          32.97834380073308,
          33.97834380073308,
          34.94834380073308,
          35.97834380073308,
          36.818343800733075,
          37.47834380073308,
          38.748343800733075,
          39.51834380073308,
          40.47834380073308,
          44.477922411645785,
          45.25792241164579,
          46.117922411645786,
          47.56792241164579,
          48.687922411645786,
          49.37792241164579,
          49.78792241164579,
          50.13792241164579,
          50.727922411645785,
          51.32792241164579,
          51.907922411645785,
          52.797922411645786,
          53.55792241164579,
          54.23792241164579
         ],
         "yaxis": "y"
        },
        {
         "hovertemplate": "Pacjent=95<br>BADANIE_NR=%{x}<br>Miernik=%{y}<extra></extra>",
         "legendgroup": "95",
         "line": {
          "color": "#19d3f3",
          "dash": "solid"
         },
         "marker": {
          "symbol": "circle"
         },
         "mode": "lines",
         "name": "95",
         "showlegend": true,
         "type": "scattergl",
         "x": [
          1,
          2,
          3,
          4,
          5,
          6,
          7,
          8,
          9,
          10,
          11,
          12,
          13,
          14,
          15,
          16,
          17,
          18,
          19,
          20,
          21,
          22,
          23,
          24,
          25,
          26,
          27,
          28,
          29,
          30,
          31,
          32,
          33,
          34,
          35,
          36,
          37,
          38,
          39,
          40,
          41,
          42,
          43,
          44,
          45,
          46,
          47,
          48,
          49,
          50,
          51,
          52,
          53,
          54,
          55,
          56
         ],
         "xaxis": "x",
         "y": [
          0,
          0.3400000000000001,
          1.93,
          3.6819999999999995,
          5.382,
          6.322,
          7.4719999999999995,
          8.602,
          9.491999999999999,
          9.562,
          10.102,
          11.116,
          12.266,
          13.29,
          14.799999999999999,
          15.94,
          17.38,
          18.96,
          19.05,
          19.189999999999998,
          19.189999999999998,
          19.869999999999997,
          19.869999999999997,
          20.424,
          21.676,
          22.7561670454146,
          22.7561670454146,
          22.7561670454146,
          26.082609860917522,
          30.10564589478321,
          31.652148996897584,
          33.73350125632563,
          33.793501256325634,
          34.37350125632563,
          34.713501256325635,
          34.713501256325635,
          35.173501256325636,
          35.293501256325634,
          36.30350125632563,
          37.143501256325635,
          38.097501256325636,
          39.07750125632563,
          39.817501256325635,
          39.87750125632564,
          39.87750125632564,
          41.049501256325634,
          41.049501256325634,
          41.049501256325634,
          41.049501256325634,
          41.049501256325634,
          41.049501256325634,
          41.049501256325634,
          41.049501256325634,
          43.329501256325635,
          43.329501256325635,
          43.329501256325635
         ],
         "yaxis": "y"
        },
        {
         "hovertemplate": "Pacjent=98<br>BADANIE_NR=%{x}<br>Miernik=%{y}<extra></extra>",
         "legendgroup": "98",
         "line": {
          "color": "#FF6692",
          "dash": "solid"
         },
         "marker": {
          "symbol": "circle"
         },
         "mode": "lines",
         "name": "98",
         "showlegend": true,
         "type": "scattergl",
         "x": [
          1,
          2,
          3,
          4,
          5,
          6,
          7,
          8,
          9,
          10,
          11,
          12,
          13,
          14,
          15,
          16,
          17,
          18,
          19,
          20,
          21,
          22,
          23,
          24,
          25,
          26,
          27,
          28,
          29,
          30,
          31,
          32,
          33,
          34,
          35,
          36,
          37,
          38,
          39
         ],
         "xaxis": "x",
         "y": [
          0.5641338214526554,
          8.148410082251674,
          12.126846635807558,
          14.162131536841418,
          15.191547703343451,
          17.1039675559459,
          17.6939675559459,
          18.3039675559459,
          19.773967555945898,
          21.6859675559459,
          22.6359675559459,
          23.4159675559459,
          25.8239675559459,
          28.85690864199805,
          30.97690864199805,
          32.926908641998054,
          34.176908641998054,
          34.27690864199805,
          35.426908641998054,
          37.07690864199805,
          37.11690864199805,
          37.19690864199805,
          38.234908641998054,
          38.234908641998054,
          38.234908641998054,
          38.234908641998054,
          39.87076957722764,
          39.87076957722764,
          41.00876957722764,
          41.63076957722764,
          41.63076957722764,
          41.63076957722764,
          41.63076957722764,
          41.63076957722764,
          41.63076957722764,
          41.63076957722764,
          41.63076957722764,
          42.39971066327979,
          42.39971066327979
         ],
         "yaxis": "y"
        },
        {
         "hovertemplate": "Pacjent=99<br>BADANIE_NR=%{x}<br>Miernik=%{y}<extra></extra>",
         "legendgroup": "99",
         "line": {
          "color": "#B6E880",
          "dash": "solid"
         },
         "marker": {
          "symbol": "circle"
         },
         "mode": "lines",
         "name": "99",
         "showlegend": true,
         "type": "scattergl",
         "x": [
          1,
          2,
          3,
          4,
          5,
          6,
          7,
          8,
          9,
          10,
          11,
          12,
          13,
          14,
          15,
          16,
          17,
          18
         ],
         "xaxis": "x",
         "y": [
          0.8565938031428826,
          3.090698193893044,
          3.982001450833703,
          5.6791067627088,
          9.126998249962258,
          11.501611225597545,
          12.804004710094834,
          14.052598513237717,
          15.327891249814629,
          17.547814464317987,
          18.875814464317987,
          19.977981509732587,
          21.047981509732587,
          21.86598150973259,
          23.067981509732586,
          23.699981509732588,
          26.960145202453297,
          28.248145202453298
         ],
         "yaxis": "y"
        },
        {
         "hovertemplate": "Pacjent=101<br>BADANIE_NR=%{x}<br>Miernik=%{y}<extra></extra>",
         "legendgroup": "101",
         "line": {
          "color": "#FF97FF",
          "dash": "solid"
         },
         "marker": {
          "symbol": "circle"
         },
         "mode": "lines",
         "name": "101",
         "showlegend": true,
         "type": "scattergl",
         "x": [
          1,
          2,
          3,
          4,
          5,
          6,
          7,
          8,
          9,
          10,
          11,
          12,
          13,
          14,
          15,
          16,
          17,
          18,
          19,
          20,
          21,
          22,
          23,
          24,
          25,
          26,
          27,
          28,
          29,
          30,
          31,
          32,
          33,
          34,
          35
         ],
         "xaxis": "x",
         "y": [
          1.2134258952238661,
          3.587589587944577,
          5.585836207975714,
          7.2449149695017425,
          7.914914969501743,
          7.914914969501743,
          8.294914969501743,
          8.584914969501742,
          9.634914969501743,
          13.284914969501743,
          13.792914969501743,
          14.042914969501743,
          14.222914969501744,
          14.594914969501744,
          15.118914969501743,
          16.126914969501744,
          17.706914969501746,
          19.166914969501743,
          21.185082014916347,
          23.105963911065096,
          24.9159639110651,
          25.395963911065095,
          26.783963911065097,
          27.203963911065095,
          27.203963911065095,
          27.203963911065095,
          27.203963911065095,
          27.203963911065095,
          27.203963911065095,
          27.203963911065095,
          27.203963911065095,
          27.459963911065095,
          27.459963911065095,
          27.459963911065095,
          27.459963911065095
         ],
         "yaxis": "y"
        },
        {
         "hovertemplate": "Pacjent=104<br>BADANIE_NR=%{x}<br>Miernik=%{y}<extra></extra>",
         "legendgroup": "104",
         "line": {
          "color": "#FECB52",
          "dash": "solid"
         },
         "marker": {
          "symbol": "circle"
         },
         "mode": "lines",
         "name": "104",
         "showlegend": true,
         "type": "scattergl",
         "x": [
          1,
          2,
          3,
          4,
          5,
          6,
          7,
          8,
          9,
          10,
          11,
          12,
          13,
          14,
          15,
          16,
          17,
          18,
          19,
          20,
          21,
          22,
          23,
          24,
          25,
          26,
          27,
          28,
          29,
          30,
          31,
          32,
          33,
          34,
          35,
          36,
          37,
          38
         ],
         "xaxis": "x",
         "y": [
          1.1703453497697838,
          3.9337272030120447,
          6.701842891706376,
          6.701842891706376,
          7.021842891706377,
          7.021842891706377,
          8.121842891706377,
          8.961842891706377,
          9.641842891706377,
          10.741842891706376,
          10.831842891706376,
          10.971842891706377,
          11.737842891706377,
          11.737842891706377,
          12.501842891706378,
          12.881842891706377,
          13.711842891706377,
          13.771842891706378,
          13.771842891706378,
          14.849842891706377,
          16.375842891706377,
          17.217842891706375,
          17.397842891706375,
          17.397842891706375,
          17.397842891706375,
          17.887842891706377,
          17.887842891706377,
          17.887842891706377,
          18.231842891706375,
          18.231842891706375,
          18.461842891706375,
          18.783842891706374,
          19.223842891706376,
          19.733842891706377,
          20.60384289170638,
          21.333842891706375,
          22.193842891706375,
          22.563842891706376
         ],
         "yaxis": "y"
        },
        {
         "hovertemplate": "Pacjent=107<br>BADANIE_NR=%{x}<br>Miernik=%{y}<extra></extra>",
         "legendgroup": "107",
         "line": {
          "color": "#636efa",
          "dash": "solid"
         },
         "marker": {
          "symbol": "circle"
         },
         "mode": "lines",
         "name": "107",
         "showlegend": true,
         "type": "scattergl",
         "x": [
          1,
          2,
          3,
          4,
          5,
          6,
          7,
          8,
          9,
          10,
          11,
          12,
          13,
          14,
          15,
          16,
          17,
          18,
          19,
          20,
          21,
          22,
          23,
          24,
          25,
          26,
          27
         ],
         "xaxis": "x",
         "y": [
          0.7119999999999999,
          0.8439999999999998,
          1.912,
          2.652,
          2.652,
          3.172,
          3.242000000000001,
          3.7820000000000005,
          3.7820000000000005,
          3.7820000000000005,
          3.7820000000000005,
          3.7820000000000005,
          3.9180000000000006,
          4.03,
          4.03,
          4.03,
          4.03,
          4.03,
          4.622,
          4.626,
          4.9559999999999995,
          4.9559999999999995,
          5.385999999999999,
          5.385999999999999,
          5.725999999999999,
          5.855999999999999,
          7.047999999999999
         ],
         "yaxis": "y"
        },
        {
         "hovertemplate": "Pacjent=108<br>BADANIE_NR=%{x}<br>Miernik=%{y}<extra></extra>",
         "legendgroup": "108",
         "line": {
          "color": "#EF553B",
          "dash": "solid"
         },
         "marker": {
          "symbol": "circle"
         },
         "mode": "lines",
         "name": "108",
         "showlegend": true,
         "type": "scattergl",
         "x": [
          1,
          2,
          3,
          4,
          5,
          6,
          7,
          8,
          9,
          10,
          11,
          12,
          13,
          14,
          15,
          16,
          17,
          18,
          19,
          20,
          21,
          22,
          23,
          24,
          25,
          26,
          27,
          28,
          29,
          30,
          31,
          32,
          33,
          34,
          35,
          36,
          37,
          38,
          39,
          40,
          41,
          42,
          43,
          44,
          45,
          46,
          47
         ],
         "xaxis": "x",
         "y": [
          0.1799999999999995,
          0.2799999999999996,
          0.5399999999999998,
          1.0899999999999999,
          1.69,
          3.0100000000000002,
          4.29,
          4.619999999999999,
          5.119999999999999,
          5.58,
          6.1899999999999995,
          6.42,
          6.779999999999999,
          7.13,
          7.4399999999999995,
          8.25,
          8.81,
          9.32,
          9.32,
          9.32,
          9.32,
          9.32,
          9.32,
          9.32,
          9.32,
          9.32,
          9.32,
          9.32,
          9.32,
          9.32,
          9.32,
          9.32,
          9.32,
          9.32,
          9.32,
          9.32,
          9.32,
          9.32,
          9.32,
          9.32,
          9.32,
          9.32,
          9.780000000000001,
          9.780000000000001,
          9.780000000000001,
          9.780000000000001,
          9.780000000000001
         ],
         "yaxis": "y"
        },
        {
         "hovertemplate": "Pacjent=109<br>BADANIE_NR=%{x}<br>Miernik=%{y}<extra></extra>",
         "legendgroup": "109",
         "line": {
          "color": "#00cc96",
          "dash": "solid"
         },
         "marker": {
          "symbol": "circle"
         },
         "mode": "lines",
         "name": "109",
         "showlegend": true,
         "type": "scattergl",
         "x": [
          1,
          2,
          3,
          4,
          5,
          6,
          7,
          8,
          9,
          10,
          11,
          12,
          13,
          14,
          15,
          16,
          17,
          18,
          19,
          20,
          21,
          22,
          23,
          24,
          25,
          26,
          27,
          28
         ],
         "xaxis": "x",
         "y": [
          0.3080000000000001,
          1.7839999999999996,
          3.6468818961487512,
          4.559048941563352,
          5.509048941563352,
          6.789048941563352,
          8.559048941563352,
          10.901048941563353,
          14.613048941563353,
          18.32304894156335,
          22.669048941563354,
          26.62504894156335,
          30.86704894156335,
          35.495048941563354,
          39.38104894156335,
          40.931048941563354,
          42.641048941563355,
          44.98104894156335,
          46.16104894156335,
          47.48104894156335,
          48.47104894156335,
          49.54104894156335,
          50.851048941563356,
          52.31104894156335,
          53.04104894156335,
          54.171048941563356,
          54.931048941563354,
          55.79104894156335
         ],
         "yaxis": "y"
        },
        {
         "hovertemplate": "Pacjent=110<br>BADANIE_NR=%{x}<br>Miernik=%{y}<extra></extra>",
         "legendgroup": "110",
         "line": {
          "color": "#ab63fa",
          "dash": "solid"
         },
         "marker": {
          "symbol": "circle"
         },
         "mode": "lines",
         "name": "110",
         "showlegend": true,
         "type": "scattergl",
         "x": [
          1,
          2,
          3,
          4,
          5,
          6,
          7,
          8,
          9,
          10,
          11,
          12,
          13,
          14,
          15,
          16,
          17,
          18,
          19,
          20,
          21,
          22,
          23,
          24,
          25,
          26,
          27,
          28,
          29,
          30,
          31,
          32,
          33,
          34,
          35,
          36,
          37,
          38,
          39,
          40,
          41,
          42,
          43,
          44,
          45,
          46,
          47,
          48,
          49,
          50,
          51,
          52,
          53,
          54,
          55,
          56,
          57
         ],
         "xaxis": "x",
         "y": [
          1.9399599653351625,
          5.654306035820116,
          8.507602384946283,
          12.057600629344279,
          13.661251554120907,
          15.955187428886976,
          19.02485586292877,
          20.583725817435774,
          21.888227725483677,
          25.551039066351922,
          25.551039066351922,
          26.531039066351923,
          28.97703906635192,
          28.97703906635192,
          30.01703906635192,
          30.01703906635192,
          33.28503906635192,
          34.46503906635192,
          35.853039066351926,
          36.90303906635192,
          37.143039066351925,
          37.66303906635192,
          37.92303906635192,
          38.17303906635192,
          38.34303906635192,
          38.34303906635192,
          38.34303906635192,
          38.34303906635192,
          39.08303906635192,
          39.08303906635192,
          39.08303906635192,
          39.08303906635192,
          39.08303906635192,
          40.42303906635192,
          40.42303906635192,
          40.42303906635192,
          40.42303906635192,
          40.42303906635192,
          40.42303906635192,
          40.42303906635192,
          40.42303906635192,
          40.42303906635192,
          40.42303906635192,
          40.42303906635192,
          41.20303906635192,
          41.38303906635192,
          41.573039066351924,
          41.573039066351924,
          41.573039066351924,
          41.60303906635192,
          41.70303906635192,
          41.70303906635192,
          41.70303906635192,
          41.70303906635192,
          41.70303906635192,
          41.81303906635192,
          41.91303906635192
         ],
         "yaxis": "y"
        },
        {
         "hovertemplate": "Pacjent=114<br>BADANIE_NR=%{x}<br>Miernik=%{y}<extra></extra>",
         "legendgroup": "114",
         "line": {
          "color": "#FFA15A",
          "dash": "solid"
         },
         "marker": {
          "symbol": "circle"
         },
         "mode": "lines",
         "name": "114",
         "showlegend": true,
         "type": "scattergl",
         "x": [
          1,
          2,
          3,
          4,
          5,
          6,
          7,
          8,
          9,
          10,
          11,
          12,
          13,
          14,
          15,
          16,
          17,
          18
         ],
         "xaxis": "x",
         "y": [
          0,
          0,
          0,
          0,
          0.8440000000000001,
          0.8440000000000001,
          0.8440000000000001,
          0.8440000000000001,
          0.8440000000000001,
          0.8440000000000001,
          0.8440000000000001,
          0.8440000000000001,
          0.8440000000000001,
          0.8440000000000001,
          0.8440000000000001,
          0.8440000000000001,
          0.8440000000000001,
          0.8440000000000001
         ],
         "yaxis": "y"
        },
        {
         "hovertemplate": "Pacjent=118<br>BADANIE_NR=%{x}<br>Miernik=%{y}<extra></extra>",
         "legendgroup": "118",
         "line": {
          "color": "#19d3f3",
          "dash": "solid"
         },
         "marker": {
          "symbol": "circle"
         },
         "mode": "lines",
         "name": "118",
         "showlegend": true,
         "type": "scattergl",
         "x": [
          1,
          2,
          3,
          4,
          5,
          6,
          7,
          8,
          9,
          10,
          11,
          12,
          13,
          14,
          15,
          16,
          17,
          18,
          19,
          20,
          21,
          22,
          23,
          24,
          25,
          26,
          27,
          28,
          29,
          30,
          31,
          32,
          33,
          34,
          35,
          36,
          37,
          38,
          39,
          40,
          41
         ],
         "xaxis": "x",
         "y": [
          4.246099696159675,
          6.571582322886746,
          7.334467324507956,
          7.508277538500559,
          8.863283626379607,
          8.983283626379606,
          9.233283626379606,
          9.723283626379606,
          9.793283626379607,
          10.053283626379608,
          10.163283626379608,
          11.033283626379609,
          11.143283626379608,
          11.383283626379608,
          11.383283626379608,
          11.745283626379608,
          13.605283626379608,
          13.661283626379609,
          14.181283626379608,
          14.551283626379607,
          14.991283626379609,
          14.991283626379609,
          14.991283626379609,
          14.991283626379609,
          15.241283626379609,
          15.241283626379609,
          15.241283626379609,
          15.241283626379609,
          15.373283626379608,
          15.373283626379608,
          15.373283626379608,
          15.413283626379608,
          15.603283626379607,
          15.643283626379608,
          15.643283626379608,
          15.643283626379608,
          16.16328362637961,
          16.16328362637961,
          16.16328362637961,
          16.16328362637961,
          16.16328362637961
         ],
         "yaxis": "y"
        },
        {
         "hovertemplate": "Pacjent=124<br>BADANIE_NR=%{x}<br>Miernik=%{y}<extra></extra>",
         "legendgroup": "124",
         "line": {
          "color": "#FF6692",
          "dash": "solid"
         },
         "marker": {
          "symbol": "circle"
         },
         "mode": "lines",
         "name": "124",
         "showlegend": true,
         "type": "scattergl",
         "x": [
          1,
          2,
          3,
          4,
          5,
          6,
          7,
          8,
          9
         ],
         "xaxis": "x",
         "y": [
          0,
          0,
          0,
          0,
          0,
          0,
          0,
          0,
          1.652
         ],
         "yaxis": "y"
        },
        {
         "hovertemplate": "Pacjent=132<br>BADANIE_NR=%{x}<br>Miernik=%{y}<extra></extra>",
         "legendgroup": "132",
         "line": {
          "color": "#B6E880",
          "dash": "solid"
         },
         "marker": {
          "symbol": "circle"
         },
         "mode": "lines",
         "name": "132",
         "showlegend": true,
         "type": "scattergl",
         "x": [
          1,
          2,
          3,
          4,
          5,
          6,
          7,
          8,
          9,
          10,
          11,
          12,
          13
         ],
         "xaxis": "x",
         "y": [
          0,
          0,
          0.4319999999999999,
          0.4319999999999999,
          0.4319999999999999,
          0.4319999999999999,
          0.4319999999999999,
          0.4319999999999999,
          0.4319999999999999,
          0.4319999999999999,
          0.4319999999999999,
          0.4319999999999999,
          0.4319999999999999
         ],
         "yaxis": "y"
        },
        {
         "hovertemplate": "Pacjent=133<br>BADANIE_NR=%{x}<br>Miernik=%{y}<extra></extra>",
         "legendgroup": "133",
         "line": {
          "color": "#FF97FF",
          "dash": "solid"
         },
         "marker": {
          "symbol": "circle"
         },
         "mode": "lines",
         "name": "133",
         "showlegend": true,
         "type": "scattergl",
         "x": [
          1,
          2,
          3,
          4,
          5,
          6,
          7,
          8,
          9,
          10,
          11,
          12,
          13,
          14,
          15,
          16,
          17,
          18,
          19,
          20,
          21,
          22,
          23,
          24,
          25,
          26,
          27
         ],
         "xaxis": "x",
         "y": [
          0.380630412635909,
          0.5472242157787912,
          0.5472242157787912,
          0.5472242157787912,
          0.8772242157787908,
          1.0272242157787908,
          1.5072242157787905,
          2.5612242157787906,
          3.41122421577879,
          4.061224215778791,
          4.561224215778791,
          5.081224215778791,
          5.201224215778791,
          5.53122421577879,
          5.53122421577879,
          6.88722421577879,
          6.88722421577879,
          6.88722421577879,
          6.88722421577879,
          6.88722421577879,
          6.88722421577879,
          6.88722421577879,
          6.88722421577879,
          6.88722421577879,
          6.979224215778791,
          6.979224215778791,
          7.566180737517921
         ],
         "yaxis": "y"
        },
        {
         "hovertemplate": "Pacjent=139<br>BADANIE_NR=%{x}<br>Miernik=%{y}<extra></extra>",
         "legendgroup": "139",
         "line": {
          "color": "#FECB52",
          "dash": "solid"
         },
         "marker": {
          "symbol": "circle"
         },
         "mode": "lines",
         "name": "139",
         "showlegend": true,
         "type": "scattergl",
         "x": [
          1,
          2,
          3,
          4,
          5,
          6,
          7,
          8,
          9,
          10,
          11,
          12,
          13,
          14,
          15,
          16,
          17,
          18,
          19,
          20,
          21,
          22,
          23,
          24,
          25,
          26,
          27,
          28,
          29,
          30,
          31,
          32
         ],
         "xaxis": "x",
         "y": [
          0.7194161665020316,
          2.506234521905105,
          3.246234521905105,
          3.4862345219051045,
          3.4862345219051045,
          4.082234521905105,
          4.702234521905105,
          5.322234521905106,
          7.602234521905105,
          9.422234521905105,
          11.602234521905105,
          13.272234521905105,
          15.552234521905106,
          17.262234521905107,
          19.032234521905107,
          21.006464521905105,
          22.486464521905106,
          22.826464521905105,
          23.846464521905105,
          25.704464521905106,
          27.404464521905105,
          29.06446452190511,
          30.604464521905108,
          32.194464521905104,
          32.49446452190511,
          32.88446452190511,
          32.98846452190511,
          34.2864645219051,
          35.328464521905104,
          36.9264645219051,
          38.666464521905105,
          40.23846452190511
         ],
         "yaxis": "y"
        },
        {
         "hovertemplate": "Pacjent=142<br>BADANIE_NR=%{x}<br>Miernik=%{y}<extra></extra>",
         "legendgroup": "142",
         "line": {
          "color": "#636efa",
          "dash": "solid"
         },
         "marker": {
          "symbol": "circle"
         },
         "mode": "lines",
         "name": "142",
         "showlegend": true,
         "type": "scattergl",
         "x": [
          1,
          2,
          3,
          4,
          5,
          6,
          7,
          8,
          9,
          10,
          11,
          12,
          13,
          14,
          15,
          16,
          17,
          18,
          19,
          20,
          21
         ],
         "xaxis": "x",
         "y": [
          1.4505880203977282,
          3.6852224593143084,
          7.06723326103275,
          10.339090750352053,
          12.996461600141416,
          16.091567825292692,
          18.125567825292695,
          19.685567825292694,
          22.254508911344843,
          24.664508911344846,
          26.464508911344844,
          28.004508911344843,
          28.904508911344845,
          30.504508911344843,
          33.174508911344844,
          35.38650891134485,
          39.006508911344845,
          45.60991765888398,
          47.60991765888398,
          51.04165569843333,
          53.38202485794629
         ],
         "yaxis": "y"
        },
        {
         "hovertemplate": "Pacjent=144<br>BADANIE_NR=%{x}<br>Miernik=%{y}<extra></extra>",
         "legendgroup": "144",
         "line": {
          "color": "#EF553B",
          "dash": "solid"
         },
         "marker": {
          "symbol": "circle"
         },
         "mode": "lines",
         "name": "144",
         "showlegend": true,
         "type": "scattergl",
         "x": [
          1,
          2,
          3,
          4,
          5,
          6,
          7,
          8,
          9,
          10,
          11
         ],
         "xaxis": "x",
         "y": [
          7.369457843841374,
          9.99288373906524,
          13.360958341562963,
          19.728913550642126,
          24.90191640233371,
          29.270445710772126,
          33.99582735591241,
          37.80467179822229,
          42.11130623713887,
          44.85716717236846,
          47.28716717236846
         ],
         "yaxis": "y"
        }
       ],
       "layout": {
        "height": 800,
        "legend": {
         "title": {
          "text": "Pacjent"
         },
         "tracegroupgap": 0
        },
        "margin": {
         "t": 60
        },
        "showlegend": false,
        "template": {
         "data": {
          "bar": [
           {
            "error_x": {
             "color": "#2a3f5f"
            },
            "error_y": {
             "color": "#2a3f5f"
            },
            "marker": {
             "line": {
              "color": "white",
              "width": 0.5
             },
             "pattern": {
              "fillmode": "overlay",
              "size": 10,
              "solidity": 0.2
             }
            },
            "type": "bar"
           }
          ],
          "barpolar": [
           {
            "marker": {
             "line": {
              "color": "white",
              "width": 0.5
             },
             "pattern": {
              "fillmode": "overlay",
              "size": 10,
              "solidity": 0.2
             }
            },
            "type": "barpolar"
           }
          ],
          "carpet": [
           {
            "aaxis": {
             "endlinecolor": "#2a3f5f",
             "gridcolor": "#C8D4E3",
             "linecolor": "#C8D4E3",
             "minorgridcolor": "#C8D4E3",
             "startlinecolor": "#2a3f5f"
            },
            "baxis": {
             "endlinecolor": "#2a3f5f",
             "gridcolor": "#C8D4E3",
             "linecolor": "#C8D4E3",
             "minorgridcolor": "#C8D4E3",
             "startlinecolor": "#2a3f5f"
            },
            "type": "carpet"
           }
          ],
          "choropleth": [
           {
            "colorbar": {
             "outlinewidth": 0,
             "ticks": ""
            },
            "type": "choropleth"
           }
          ],
          "contour": [
           {
            "colorbar": {
             "outlinewidth": 0,
             "ticks": ""
            },
            "colorscale": [
             [
              0,
              "#0d0887"
             ],
             [
              0.1111111111111111,
              "#46039f"
             ],
             [
              0.2222222222222222,
              "#7201a8"
             ],
             [
              0.3333333333333333,
              "#9c179e"
             ],
             [
              0.4444444444444444,
              "#bd3786"
             ],
             [
              0.5555555555555556,
              "#d8576b"
             ],
             [
              0.6666666666666666,
              "#ed7953"
             ],
             [
              0.7777777777777778,
              "#fb9f3a"
             ],
             [
              0.8888888888888888,
              "#fdca26"
             ],
             [
              1,
              "#f0f921"
             ]
            ],
            "type": "contour"
           }
          ],
          "contourcarpet": [
           {
            "colorbar": {
             "outlinewidth": 0,
             "ticks": ""
            },
            "type": "contourcarpet"
           }
          ],
          "heatmap": [
           {
            "colorbar": {
             "outlinewidth": 0,
             "ticks": ""
            },
            "colorscale": [
             [
              0,
              "#0d0887"
             ],
             [
              0.1111111111111111,
              "#46039f"
             ],
             [
              0.2222222222222222,
              "#7201a8"
             ],
             [
              0.3333333333333333,
              "#9c179e"
             ],
             [
              0.4444444444444444,
              "#bd3786"
             ],
             [
              0.5555555555555556,
              "#d8576b"
             ],
             [
              0.6666666666666666,
              "#ed7953"
             ],
             [
              0.7777777777777778,
              "#fb9f3a"
             ],
             [
              0.8888888888888888,
              "#fdca26"
             ],
             [
              1,
              "#f0f921"
             ]
            ],
            "type": "heatmap"
           }
          ],
          "heatmapgl": [
           {
            "colorbar": {
             "outlinewidth": 0,
             "ticks": ""
            },
            "colorscale": [
             [
              0,
              "#0d0887"
             ],
             [
              0.1111111111111111,
              "#46039f"
             ],
             [
              0.2222222222222222,
              "#7201a8"
             ],
             [
              0.3333333333333333,
              "#9c179e"
             ],
             [
              0.4444444444444444,
              "#bd3786"
             ],
             [
              0.5555555555555556,
              "#d8576b"
             ],
             [
              0.6666666666666666,
              "#ed7953"
             ],
             [
              0.7777777777777778,
              "#fb9f3a"
             ],
             [
              0.8888888888888888,
              "#fdca26"
             ],
             [
              1,
              "#f0f921"
             ]
            ],
            "type": "heatmapgl"
           }
          ],
          "histogram": [
           {
            "marker": {
             "pattern": {
              "fillmode": "overlay",
              "size": 10,
              "solidity": 0.2
             }
            },
            "type": "histogram"
           }
          ],
          "histogram2d": [
           {
            "colorbar": {
             "outlinewidth": 0,
             "ticks": ""
            },
            "colorscale": [
             [
              0,
              "#0d0887"
             ],
             [
              0.1111111111111111,
              "#46039f"
             ],
             [
              0.2222222222222222,
              "#7201a8"
             ],
             [
              0.3333333333333333,
              "#9c179e"
             ],
             [
              0.4444444444444444,
              "#bd3786"
             ],
             [
              0.5555555555555556,
              "#d8576b"
             ],
             [
              0.6666666666666666,
              "#ed7953"
             ],
             [
              0.7777777777777778,
              "#fb9f3a"
             ],
             [
              0.8888888888888888,
              "#fdca26"
             ],
             [
              1,
              "#f0f921"
             ]
            ],
            "type": "histogram2d"
           }
          ],
          "histogram2dcontour": [
           {
            "colorbar": {
             "outlinewidth": 0,
             "ticks": ""
            },
            "colorscale": [
             [
              0,
              "#0d0887"
             ],
             [
              0.1111111111111111,
              "#46039f"
             ],
             [
              0.2222222222222222,
              "#7201a8"
             ],
             [
              0.3333333333333333,
              "#9c179e"
             ],
             [
              0.4444444444444444,
              "#bd3786"
             ],
             [
              0.5555555555555556,
              "#d8576b"
             ],
             [
              0.6666666666666666,
              "#ed7953"
             ],
             [
              0.7777777777777778,
              "#fb9f3a"
             ],
             [
              0.8888888888888888,
              "#fdca26"
             ],
             [
              1,
              "#f0f921"
             ]
            ],
            "type": "histogram2dcontour"
           }
          ],
          "mesh3d": [
           {
            "colorbar": {
             "outlinewidth": 0,
             "ticks": ""
            },
            "type": "mesh3d"
           }
          ],
          "parcoords": [
           {
            "line": {
             "colorbar": {
              "outlinewidth": 0,
              "ticks": ""
             }
            },
            "type": "parcoords"
           }
          ],
          "pie": [
           {
            "automargin": true,
            "type": "pie"
           }
          ],
          "scatter": [
           {
            "marker": {
             "colorbar": {
              "outlinewidth": 0,
              "ticks": ""
             }
            },
            "type": "scatter"
           }
          ],
          "scatter3d": [
           {
            "line": {
             "colorbar": {
              "outlinewidth": 0,
              "ticks": ""
             }
            },
            "marker": {
             "colorbar": {
              "outlinewidth": 0,
              "ticks": ""
             }
            },
            "type": "scatter3d"
           }
          ],
          "scattercarpet": [
           {
            "marker": {
             "colorbar": {
              "outlinewidth": 0,
              "ticks": ""
             }
            },
            "type": "scattercarpet"
           }
          ],
          "scattergeo": [
           {
            "marker": {
             "colorbar": {
              "outlinewidth": 0,
              "ticks": ""
             }
            },
            "type": "scattergeo"
           }
          ],
          "scattergl": [
           {
            "marker": {
             "colorbar": {
              "outlinewidth": 0,
              "ticks": ""
             }
            },
            "type": "scattergl"
           }
          ],
          "scattermapbox": [
           {
            "marker": {
             "colorbar": {
              "outlinewidth": 0,
              "ticks": ""
             }
            },
            "type": "scattermapbox"
           }
          ],
          "scatterpolar": [
           {
            "marker": {
             "colorbar": {
              "outlinewidth": 0,
              "ticks": ""
             }
            },
            "type": "scatterpolar"
           }
          ],
          "scatterpolargl": [
           {
            "marker": {
             "colorbar": {
              "outlinewidth": 0,
              "ticks": ""
             }
            },
            "type": "scatterpolargl"
           }
          ],
          "scatterternary": [
           {
            "marker": {
             "colorbar": {
              "outlinewidth": 0,
              "ticks": ""
             }
            },
            "type": "scatterternary"
           }
          ],
          "surface": [
           {
            "colorbar": {
             "outlinewidth": 0,
             "ticks": ""
            },
            "colorscale": [
             [
              0,
              "#0d0887"
             ],
             [
              0.1111111111111111,
              "#46039f"
             ],
             [
              0.2222222222222222,
              "#7201a8"
             ],
             [
              0.3333333333333333,
              "#9c179e"
             ],
             [
              0.4444444444444444,
              "#bd3786"
             ],
             [
              0.5555555555555556,
              "#d8576b"
             ],
             [
              0.6666666666666666,
              "#ed7953"
             ],
             [
              0.7777777777777778,
              "#fb9f3a"
             ],
             [
              0.8888888888888888,
              "#fdca26"
             ],
             [
              1,
              "#f0f921"
             ]
            ],
            "type": "surface"
           }
          ],
          "table": [
           {
            "cells": {
             "fill": {
              "color": "#EBF0F8"
             },
             "line": {
              "color": "white"
             }
            },
            "header": {
             "fill": {
              "color": "#C8D4E3"
             },
             "line": {
              "color": "white"
             }
            },
            "type": "table"
           }
          ]
         },
         "layout": {
          "annotationdefaults": {
           "arrowcolor": "#2a3f5f",
           "arrowhead": 0,
           "arrowwidth": 1
          },
          "autotypenumbers": "strict",
          "coloraxis": {
           "colorbar": {
            "outlinewidth": 0,
            "ticks": ""
           }
          },
          "colorscale": {
           "diverging": [
            [
             0,
             "#8e0152"
            ],
            [
             0.1,
             "#c51b7d"
            ],
            [
             0.2,
             "#de77ae"
            ],
            [
             0.3,
             "#f1b6da"
            ],
            [
             0.4,
             "#fde0ef"
            ],
            [
             0.5,
             "#f7f7f7"
            ],
            [
             0.6,
             "#e6f5d0"
            ],
            [
             0.7,
             "#b8e186"
            ],
            [
             0.8,
             "#7fbc41"
            ],
            [
             0.9,
             "#4d9221"
            ],
            [
             1,
             "#276419"
            ]
           ],
           "sequential": [
            [
             0,
             "#0d0887"
            ],
            [
             0.1111111111111111,
             "#46039f"
            ],
            [
             0.2222222222222222,
             "#7201a8"
            ],
            [
             0.3333333333333333,
             "#9c179e"
            ],
            [
             0.4444444444444444,
             "#bd3786"
            ],
            [
             0.5555555555555556,
             "#d8576b"
            ],
            [
             0.6666666666666666,
             "#ed7953"
            ],
            [
             0.7777777777777778,
             "#fb9f3a"
            ],
            [
             0.8888888888888888,
             "#fdca26"
            ],
            [
             1,
             "#f0f921"
            ]
           ],
           "sequentialminus": [
            [
             0,
             "#0d0887"
            ],
            [
             0.1111111111111111,
             "#46039f"
            ],
            [
             0.2222222222222222,
             "#7201a8"
            ],
            [
             0.3333333333333333,
             "#9c179e"
            ],
            [
             0.4444444444444444,
             "#bd3786"
            ],
            [
             0.5555555555555556,
             "#d8576b"
            ],
            [
             0.6666666666666666,
             "#ed7953"
            ],
            [
             0.7777777777777778,
             "#fb9f3a"
            ],
            [
             0.8888888888888888,
             "#fdca26"
            ],
            [
             1,
             "#f0f921"
            ]
           ]
          },
          "colorway": [
           "#636efa",
           "#EF553B",
           "#00cc96",
           "#ab63fa",
           "#FFA15A",
           "#19d3f3",
           "#FF6692",
           "#B6E880",
           "#FF97FF",
           "#FECB52"
          ],
          "font": {
           "color": "#2a3f5f"
          },
          "geo": {
           "bgcolor": "white",
           "lakecolor": "white",
           "landcolor": "white",
           "showlakes": true,
           "showland": true,
           "subunitcolor": "#C8D4E3"
          },
          "hoverlabel": {
           "align": "left"
          },
          "hovermode": "closest",
          "mapbox": {
           "style": "light"
          },
          "paper_bgcolor": "white",
          "plot_bgcolor": "white",
          "polar": {
           "angularaxis": {
            "gridcolor": "#EBF0F8",
            "linecolor": "#EBF0F8",
            "ticks": ""
           },
           "bgcolor": "white",
           "radialaxis": {
            "gridcolor": "#EBF0F8",
            "linecolor": "#EBF0F8",
            "ticks": ""
           }
          },
          "scene": {
           "xaxis": {
            "backgroundcolor": "white",
            "gridcolor": "#DFE8F3",
            "gridwidth": 2,
            "linecolor": "#EBF0F8",
            "showbackground": true,
            "ticks": "",
            "zerolinecolor": "#EBF0F8"
           },
           "yaxis": {
            "backgroundcolor": "white",
            "gridcolor": "#DFE8F3",
            "gridwidth": 2,
            "linecolor": "#EBF0F8",
            "showbackground": true,
            "ticks": "",
            "zerolinecolor": "#EBF0F8"
           },
           "zaxis": {
            "backgroundcolor": "white",
            "gridcolor": "#DFE8F3",
            "gridwidth": 2,
            "linecolor": "#EBF0F8",
            "showbackground": true,
            "ticks": "",
            "zerolinecolor": "#EBF0F8"
           }
          },
          "shapedefaults": {
           "line": {
            "color": "#2a3f5f"
           }
          },
          "ternary": {
           "aaxis": {
            "gridcolor": "#DFE8F3",
            "linecolor": "#A2B1C6",
            "ticks": ""
           },
           "baxis": {
            "gridcolor": "#DFE8F3",
            "linecolor": "#A2B1C6",
            "ticks": ""
           },
           "bgcolor": "white",
           "caxis": {
            "gridcolor": "#DFE8F3",
            "linecolor": "#A2B1C6",
            "ticks": ""
           }
          },
          "title": {
           "x": 0.05
          },
          "xaxis": {
           "automargin": true,
           "gridcolor": "#EBF0F8",
           "linecolor": "#EBF0F8",
           "ticks": "",
           "title": {
            "standoff": 15
           },
           "zerolinecolor": "#EBF0F8",
           "zerolinewidth": 2
          },
          "yaxis": {
           "automargin": true,
           "gridcolor": "#EBF0F8",
           "linecolor": "#EBF0F8",
           "ticks": "",
           "title": {
            "standoff": 15
           },
           "zerolinecolor": "#EBF0F8",
           "zerolinewidth": 2
          }
         }
        },
        "width": 800,
        "xaxis": {
         "anchor": "y",
         "domain": [
          0,
          1
         ],
         "range": [
          0,
          65
         ],
         "tickfont": {
          "size": 18
         },
         "title": {
          "font": {
           "size": 20
          },
          "text": "Numer badania"
         }
        },
        "yaxis": {
         "anchor": "x",
         "domain": [
          0,
          1
         ],
         "range": [
          0,
          180
         ],
         "tickfont": {
          "size": 18
         },
         "title": {
          "font": {
           "size": 20
          },
          "text": "Miernik sumy negatywnych wyników"
         }
        }
       }
      }
     },
     "metadata": {},
     "output_type": "display_data"
    },
    {
     "data": {
      "application/vnd.plotly.v1+json": {
       "config": {
        "plotlyServerURL": "https://plot.ly"
       },
       "data": [
        {
         "hovertemplate": "Pacjent=7<br>BADANIE_NR=%{x}<br>Miernik=%{y}<extra></extra>",
         "legendgroup": "7",
         "line": {
          "color": "#636efa",
          "dash": "solid"
         },
         "marker": {
          "symbol": "circle"
         },
         "mode": "lines",
         "name": "7",
         "showlegend": true,
         "type": "scattergl",
         "x": [
          1,
          2,
          3,
          4,
          5,
          6,
          7,
          8,
          9,
          10,
          11,
          12
         ],
         "xaxis": "x",
         "y": [
          0,
          0,
          0,
          0.1439999999999997,
          0.6559999999999996,
          1.3439999999999999,
          3.998634438916581,
          4.418050605418612,
          7.540054971276119,
          10.389019062323227,
          13.743470105060675,
          15.096428481097707
         ],
         "yaxis": "y"
        },
        {
         "hovertemplate": "Pacjent=11<br>BADANIE_NR=%{x}<br>Miernik=%{y}<extra></extra>",
         "legendgroup": "11",
         "line": {
          "color": "#EF553B",
          "dash": "solid"
         },
         "marker": {
          "symbol": "circle"
         },
         "mode": "lines",
         "name": "11",
         "showlegend": true,
         "type": "scattergl",
         "x": [
          1,
          2,
          3,
          4,
          5,
          6,
          7,
          8,
          9,
          10,
          11,
          12,
          13,
          14,
          15,
          16,
          17
         ],
         "xaxis": "x",
         "y": [
          7.9146390284276915,
          19.447084531001884,
          23.45008505974141,
          25.869070313653133,
          30.005618219036876,
          37.78382596128186,
          44.15031965882402,
          50.27116118245313,
          56.91138047359408,
          65.87088936068038,
          73.960266601042,
          81.43246362842775,
          87.40301523679355,
          92.0927033205501,
          96.40968039350534,
          100.87572087474408,
          113.70157134517176
         ],
         "yaxis": "y"
        },
        {
         "hovertemplate": "Pacjent=12<br>BADANIE_NR=%{x}<br>Miernik=%{y}<extra></extra>",
         "legendgroup": "12",
         "line": {
          "color": "#00cc96",
          "dash": "solid"
         },
         "marker": {
          "symbol": "circle"
         },
         "mode": "lines",
         "name": "12",
         "showlegend": true,
         "type": "scattergl",
         "x": [
          1,
          2,
          3,
          4,
          5,
          6,
          7,
          8,
          9,
          10,
          11,
          12,
          13,
          14,
          15,
          16,
          17,
          18,
          19,
          20,
          21,
          22,
          23,
          24,
          25,
          26,
          27,
          28,
          29,
          30,
          31,
          32,
          33,
          34,
          35,
          36,
          37,
          38,
          39,
          40,
          41,
          42,
          43,
          44,
          45,
          46,
          47,
          48,
          49
         ],
         "xaxis": "x",
         "y": [
          5.170491417032459,
          12.83952610767675,
          31.330905491631587,
          41.9015494637012,
          51.2033276696077,
          57.806292438135365,
          61.10811624416871,
          63.09799942526255,
          63.984523018690886,
          65.03617271628676,
          66.27328331998683,
          66.75483360737189,
          68.54470430137854,
          68.54470430137854,
          68.78470430137854,
          68.79470430137854,
          68.79470430137854,
          68.79470430137854,
          68.79470430137854,
          68.79470430137854,
          68.79470430137854,
          69.03470430137854,
          69.53470430137854,
          70.18470430137855,
          70.18470430137855,
          70.51470430137854,
          70.68470430137855,
          70.68470430137855,
          70.79470430137854,
          70.79470430137854,
          70.79470430137854,
          70.79470430137854,
          70.79470430137854,
          70.79470430137854,
          70.79470430137854,
          70.79470430137854,
          70.79470430137854,
          71.4619927762407,
          71.98373190667549,
          72.50547103711027,
          73.63590581971897,
          75.59458283487683,
          77.31197413922465,
          78.68558501502629,
          79.4247154498089,
          79.4247154498089,
          80.31601979763498,
          81.20732414546107,
          82.62853466913654
         ],
         "yaxis": "y"
        },
        {
         "hovertemplate": "Pacjent=21<br>BADANIE_NR=%{x}<br>Miernik=%{y}<extra></extra>",
         "legendgroup": "21",
         "line": {
          "color": "#ab63fa",
          "dash": "solid"
         },
         "marker": {
          "symbol": "circle"
         },
         "mode": "lines",
         "name": "21",
         "showlegend": true,
         "type": "scattergl",
         "x": [
          1,
          2,
          3,
          4,
          5,
          6,
          7,
          8,
          9,
          10,
          11,
          12,
          13,
          14,
          15,
          16,
          17,
          18,
          19,
          20,
          21,
          22,
          23,
          24,
          25,
          26,
          27,
          28,
          29,
          30,
          31,
          32,
          33,
          34,
          35,
          36,
          37,
          38,
          39,
          40,
          41,
          42,
          43,
          44,
          45,
          46,
          47,
          48,
          49,
          50,
          51,
          52,
          53,
          54,
          55,
          56,
          57,
          58,
          59,
          60,
          61,
          62,
          63,
          64
         ],
         "xaxis": "x",
         "y": [
          0.1304347826086956,
          0.1304347826086956,
          0.1304347826086956,
          0.1304347826086956,
          0.1304347826086956,
          0.1304347826086956,
          0.1304347826086956,
          0.1304347826086956,
          0.1304347826086956,
          1.2024347826086954,
          1.2024347826086954,
          1.2024347826086954,
          1.7224347826086954,
          1.7224347826086954,
          1.7224347826086954,
          2.934434782608695,
          6.414594411548416,
          9.039096319596322,
          14.58321483335852,
          15.213214833358519,
          15.543214833358519,
          16.57321483335852,
          17.833214833358518,
          18.84321483335852,
          19.833214833358518,
          20.15321483335852,
          23.6235601831283,
          25.763560183128302,
          28.1235601831283,
          30.1935601831283,
          32.303560183128305,
          33.8535601831283,
          35.6535601831283,
          37.8235601831283,
          39.8235601831283,
          42.693560183128305,
          47.165154608733914,
          49.54515460873391,
          54.194506021605896,
          56.378506021605894,
          57.838506021605895,
          62.4091364342418,
          68.8191408000993,
          70.91914080009931,
          72.9891408000993,
          74.88914080009931,
          76.08314080009932,
          77.3431408000993,
          79.40914080009931,
          82.0691408000993,
          83.69914080009931,
          85.30914080009931,
          88.59727462155196,
          90.28727462155196,
          94.35232462130602,
          98.98019695757876,
          101.10019695757875,
          103.69019695757875,
          105.48019695757876,
          107.61819695757875,
          109.96019695757875,
          112.11019695757875,
          117.38870027250309,
          120.01648846618755
         ],
         "yaxis": "y"
        },
        {
         "hovertemplate": "Pacjent=22<br>BADANIE_NR=%{x}<br>Miernik=%{y}<extra></extra>",
         "legendgroup": "22",
         "line": {
          "color": "#FFA15A",
          "dash": "solid"
         },
         "marker": {
          "symbol": "circle"
         },
         "mode": "lines",
         "name": "22",
         "showlegend": true,
         "type": "scattergl",
         "x": [
          1,
          2,
          3,
          4,
          5,
          6,
          7,
          8,
          9,
          10,
          11,
          12,
          13,
          14,
          15,
          16,
          17,
          18,
          19,
          20,
          21,
          22,
          23,
          24,
          25,
          26,
          27,
          28,
          29,
          30,
          31,
          32,
          33
         ],
         "xaxis": "x",
         "y": [
          2.2280746024977223,
          5.263520656583188,
          8.071597620637217,
          10.56494657551343,
          12.472734769197896,
          13.082734769197895,
          13.942734769197894,
          14.642734769197896,
          14.942734769197894,
          15.902734769197895,
          16.324734769197896,
          16.934734769197895,
          17.894734769197896,
          18.754734769197896,
          20.354734769197897,
          21.404734769197894,
          23.164734769197896,
          24.778734769197897,
          26.228734769197896,
          27.91329421294712,
          29.61329421294712,
          30.603294212947123,
          31.27929421294712,
          33.043294212947124,
          34.25529421294712,
          34.915294212947124,
          36.28529421294712,
          38.78388801609,
          40.61988801609,
          41.831888016090005,
          42.93188801609001,
          43.587888016090005,
          50.64931872010909
         ],
         "yaxis": "y"
        },
        {
         "hovertemplate": "Pacjent=25<br>BADANIE_NR=%{x}<br>Miernik=%{y}<extra></extra>",
         "legendgroup": "25",
         "line": {
          "color": "#19d3f3",
          "dash": "solid"
         },
         "marker": {
          "symbol": "circle"
         },
         "mode": "lines",
         "name": "25",
         "showlegend": true,
         "type": "scattergl",
         "x": [
          1,
          2,
          3,
          4,
          5,
          6,
          7,
          8,
          9,
          10,
          11,
          12,
          13,
          14,
          15,
          16
         ],
         "xaxis": "x",
         "y": [
          1.2959999999999998,
          2.8549410860521514,
          8.298445003299886,
          9.288445003299884,
          10.738445003299885,
          12.278445003299884,
          13.358445003299884,
          14.968445003299886,
          16.072445003299887,
          17.082445003299885,
          18.372445003299884,
          19.962445003299884,
          21.022445003299886,
          21.022445003299886,
          21.702445003299886,
          22.412445003299883
         ],
         "yaxis": "y"
        },
        {
         "hovertemplate": "Pacjent=27<br>BADANIE_NR=%{x}<br>Miernik=%{y}<extra></extra>",
         "legendgroup": "27",
         "line": {
          "color": "#FF6692",
          "dash": "solid"
         },
         "marker": {
          "symbol": "circle"
         },
         "mode": "lines",
         "name": "27",
         "showlegend": true,
         "type": "scattergl",
         "x": [
          1,
          2,
          3,
          4,
          5,
          6,
          7,
          8,
          9,
          10,
          11,
          12,
          13,
          14,
          15,
          16,
          17,
          18,
          19,
          20,
          21,
          22,
          23,
          24,
          25,
          26
         ],
         "xaxis": "x",
         "y": [
          2.481898759374504,
          7.061852284091495,
          12.15978587878587,
          16.526504602002994,
          20.75911447630381,
          23.792470845068234,
          28.901344681828093,
          32.81430881152003,
          37.18948711764096,
          41.806403828082516,
          45.64288261769161,
          50.878305167108714,
          54.87400367097422,
          58.70272548940144,
          61.82315851640813,
          65.56546155157424,
          69.07936928517924,
          71.54869558056099,
          76.06259974801338,
          79.28599908525544,
          82.18320847785986,
          84.00450424574262,
          85.5030157645503,
          87.91334516643116,
          89.13934516643116,
          95.14774635593336
         ],
         "yaxis": "y"
        },
        {
         "hovertemplate": "Pacjent=30<br>BADANIE_NR=%{x}<br>Miernik=%{y}<extra></extra>",
         "legendgroup": "30",
         "line": {
          "color": "#B6E880",
          "dash": "solid"
         },
         "marker": {
          "symbol": "circle"
         },
         "mode": "lines",
         "name": "30",
         "showlegend": true,
         "type": "scattergl",
         "x": [
          1,
          2,
          3,
          4,
          5,
          6,
          7,
          8,
          9,
          10,
          11,
          12
         ],
         "xaxis": "x",
         "y": [
          5.095777679633888,
          8.740043588950515,
          13.504258915018367,
          19.22683958889711,
          22.40466392025163,
          25.051406838805573,
          26.77416475688396,
          30.90801650021865,
          34.40024153762557,
          36.19777333015029,
          40.45395547060439,
          44.452540134415685
         ],
         "yaxis": "y"
        },
        {
         "hovertemplate": "Pacjent=31<br>BADANIE_NR=%{x}<br>Miernik=%{y}<extra></extra>",
         "legendgroup": "31",
         "line": {
          "color": "#FF97FF",
          "dash": "solid"
         },
         "marker": {
          "symbol": "circle"
         },
         "mode": "lines",
         "name": "31",
         "showlegend": true,
         "type": "scattergl",
         "x": [
          1,
          2,
          3,
          4,
          5,
          6,
          7,
          8,
          9,
          10,
          11
         ],
         "xaxis": "x",
         "y": [
          3.44580375501039,
          9.434680059243787,
          13.929659652026128,
          20.09588636656158,
          25.531826956704265,
          31.144130624050685,
          35.84148211710094,
          42.46030134565365,
          49.73960574851974,
          55.77522371649342,
          63.4520088015905
         ],
         "yaxis": "y"
        },
        {
         "hovertemplate": "Pacjent=32<br>BADANIE_NR=%{x}<br>Miernik=%{y}<extra></extra>",
         "legendgroup": "32",
         "line": {
          "color": "#FECB52",
          "dash": "solid"
         },
         "marker": {
          "symbol": "circle"
         },
         "mode": "lines",
         "name": "32",
         "showlegend": true,
         "type": "scattergl",
         "x": [
          1,
          2,
          3,
          4,
          5,
          6,
          7,
          8,
          9,
          10,
          11,
          12,
          13,
          14,
          15,
          16,
          17,
          18,
          19,
          20,
          21,
          22,
          23,
          24,
          25,
          26,
          27,
          28,
          29,
          30,
          31
         ],
         "xaxis": "x",
         "y": [
          2.0940720569146185,
          4.584417406684403,
          5.465570158911895,
          7.703213752881608,
          12.125071242200912,
          16.31591568451079,
          18.33591568451079,
          21.011915684510793,
          22.517915684510793,
          24.601915684510793,
          27.216384881873676,
          29.960265483374165,
          32.110265483374164,
          34.57407569736677,
          37.19725144297056,
          39.66713204447105,
          42.89747739424084,
          45.67782274401062,
          48.42189480092524,
          50.641668064894766,
          54.31792519447387,
          57.22550380538658,
          60.99394035894247,
          63.61148358839827,
          66.45392594031495,
          69.85096713765265,
          74.07796582499267,
          78.27397463432256,
          81.69165575294349,
          85.47893776882344,
          89.93679541302042
         ],
         "yaxis": "y"
        },
        {
         "hovertemplate": "Pacjent=36<br>BADANIE_NR=%{x}<br>Miernik=%{y}<extra></extra>",
         "legendgroup": "36",
         "line": {
          "color": "#636efa",
          "dash": "solid"
         },
         "marker": {
          "symbol": "circle"
         },
         "mode": "lines",
         "name": "36",
         "showlegend": true,
         "type": "scattergl",
         "x": [
          1,
          2,
          3,
          4,
          5,
          6,
          7,
          8
         ],
         "xaxis": "x",
         "y": [
          2.7160043658575055,
          9.444850460022764,
          14.0882592075619,
          18.423628179963597,
          26.37854742140787,
          34.467283309249154,
          41.874742694241505,
          50.44255431831169
         ],
         "yaxis": "y"
        },
        {
         "hovertemplate": "Pacjent=37<br>BADANIE_NR=%{x}<br>Miernik=%{y}<extra></extra>",
         "legendgroup": "37",
         "line": {
          "color": "#EF553B",
          "dash": "solid"
         },
         "marker": {
          "symbol": "circle"
         },
         "mode": "lines",
         "name": "37",
         "showlegend": true,
         "type": "scattergl",
         "x": [
          1,
          2,
          3,
          4,
          5,
          6,
          7,
          8,
          9,
          10,
          11,
          12,
          13,
          14,
          15,
          16,
          17,
          18,
          19,
          20,
          21,
          22,
          23,
          24,
          25,
          26,
          27,
          28,
          29,
          30,
          31,
          32,
          33,
          34,
          35,
          36,
          37,
          38,
          39,
          40,
          41,
          42,
          43,
          44,
          45,
          46,
          47,
          48,
          49,
          50,
          51
         ],
         "xaxis": "x",
         "y": [
          10.27874919236477,
          16.09439700334668,
          20.33880775411449,
          25.026427805762435,
          27.289780065190484,
          29.943780065190484,
          32.50378006519048,
          34.788249262553364,
          37.05824926255337,
          38.61824926255337,
          40.59824926255337,
          41.89024926255337,
          43.02024926255337,
          44.39024926255337,
          45.67024926255337,
          46.88024926255337,
          48.272249262553366,
          49.190249262553365,
          50.10424926255337,
          51.12424926255337,
          52.82824926255337,
          55.16824926255337,
          57.886808706302595,
          59.746808706302595,
          61.48880870630259,
          62.828808706302596,
          64.17663479325911,
          66.00663479325912,
          68.05263479325912,
          69.93263479325911,
          73.04663479325912,
          75.51063479325911,
          77.39063479325911,
          79.89063479325911,
          82.24463479325911,
          84.63663479325912,
          86.59663479325911,
          87.83263479325912,
          90.79263479325911,
          93.10263479325911,
          96.60263479325911,
          99.82463479325912,
          103.73263479325911,
          109.06322281365685,
          114.07922281365684,
          120.65109514992957,
          124.60109514992956,
          129.91740501798373,
          134.49940501798372,
          137.92740501798372,
          142.04740501798372
         ],
         "yaxis": "y"
        },
        {
         "hovertemplate": "Pacjent=42<br>BADANIE_NR=%{x}<br>Miernik=%{y}<extra></extra>",
         "legendgroup": "42",
         "line": {
          "color": "#00cc96",
          "dash": "solid"
         },
         "marker": {
          "symbol": "circle"
         },
         "mode": "lines",
         "name": "42",
         "showlegend": true,
         "type": "scattergl",
         "x": [
          1,
          2,
          3,
          4,
          5,
          6,
          7,
          8,
          9,
          10,
          11,
          12,
          13,
          14,
          15,
          16,
          17,
          18,
          19
         ],
         "xaxis": "x",
         "y": [
          2.1916439580249643,
          3.132146250363172,
          4.515572145587038,
          6.705532110922201,
          8.40725578676319,
          10.05713638826368,
          11.65713638826368,
          13.35713638826368,
          15.910946602256285,
          17.560946602256283,
          18.390946602256285,
          19.250946602256285,
          19.722946602256282,
          21.564459191871087,
          21.564459191871087,
          21.564459191871087,
          22.974459191871087,
          24.444459191871086,
          26.324459191871085
         ],
         "yaxis": "y"
        },
        {
         "hovertemplate": "Pacjent=48<br>BADANIE_NR=%{x}<br>Miernik=%{y}<extra></extra>",
         "legendgroup": "48",
         "line": {
          "color": "#ab63fa",
          "dash": "solid"
         },
         "marker": {
          "symbol": "circle"
         },
         "mode": "lines",
         "name": "48",
         "showlegend": true,
         "type": "scattergl",
         "x": [
          1,
          2,
          3,
          4,
          5,
          6,
          7,
          8,
          9,
          10,
          11,
          12,
          13,
          14,
          15,
          16,
          17,
          18,
          19,
          20,
          21,
          22,
          23,
          24,
          25,
          26,
          27,
          28,
          29,
          30,
          31,
          32,
          33,
          34,
          35,
          36,
          37,
          38
         ],
         "xaxis": "x",
         "y": [
          3.7726716203330297,
          11.549233595130842,
          20.020192586914675,
          26.600959214035946,
          31.156650787620254,
          36.532351801157446,
          39.468114891672606,
          40.832318012930386,
          43.752570883795684,
          45.24170305179386,
          46.01551326578647,
          47.310666018013954,
          47.810666018013954,
          49.27595875459087,
          50.88595875459087,
          52.16595875459087,
          53.87595875459087,
          55.425958754590866,
          57.16595875459087,
          58.36595875459087,
          59.93595875459087,
          61.19595875459087,
          62.15795875459087,
          63.08795875459087,
          64.05795875459087,
          64.44795875459087,
          64.63995875459086,
          64.63995875459086,
          64.75995875459087,
          64.82395875459086,
          64.82395875459086,
          64.82395875459086,
          65.46795875459087,
          65.46795875459087,
          65.46795875459087,
          65.56795875459088,
          65.56795875459088,
          68.34656962323201
         ],
         "yaxis": "y"
        },
        {
         "hovertemplate": "Pacjent=51<br>BADANIE_NR=%{x}<br>Miernik=%{y}<extra></extra>",
         "legendgroup": "51",
         "line": {
          "color": "#FFA15A",
          "dash": "solid"
         },
         "marker": {
          "symbol": "circle"
         },
         "mode": "lines",
         "name": "51",
         "showlegend": true,
         "type": "scattergl",
         "x": [
          1,
          2,
          3,
          4,
          5,
          6,
          7
         ],
         "xaxis": "x",
         "y": [
          4.932757501176659,
          11.314375744202273,
          15.763049354713019,
          17.6521712095523,
          19.43101565186218,
          21.58117660541854,
          24.95427491793605
         ],
         "yaxis": "y"
        },
        {
         "hovertemplate": "Pacjent=52<br>BADANIE_NR=%{x}<br>Miernik=%{y}<extra></extra>",
         "legendgroup": "52",
         "line": {
          "color": "#19d3f3",
          "dash": "solid"
         },
         "marker": {
          "symbol": "circle"
         },
         "mode": "lines",
         "name": "52",
         "showlegend": true,
         "type": "scattergl",
         "x": [
          1,
          2,
          3,
          4,
          5,
          6,
          7,
          8,
          9,
          10,
          11,
          12,
          13,
          14,
          15,
          16,
          17,
          18,
          19,
          20,
          21,
          22,
          23,
          24,
          25,
          26,
          27,
          28
         ],
         "xaxis": "x",
         "y": [
          1.044762154137187,
          4.862083945154584,
          8.32304441921176,
          10.384768095052749,
          12.311069018279131,
          14.377662821422012,
          17.27674158294804,
          19.586741582948044,
          21.27674158294804,
          22.826741582948042,
          24.85674158294804,
          25.716741582948043,
          25.79674158294804,
          25.92674158294804,
          26.08674158294804,
          26.08674158294804,
          26.416741582948042,
          26.47674158294804,
          26.47674158294804,
          32.168978381666385,
          35.03831286803328,
          39.315977501955786,
          44.61223463153489,
          50.593961559291756,
          53.21194168766044,
          55.62329310053242,
          58.32501677637341,
          60.214826990366014
         ],
         "yaxis": "y"
        },
        {
         "hovertemplate": "Pacjent=53<br>BADANIE_NR=%{x}<br>Miernik=%{y}<extra></extra>",
         "legendgroup": "53",
         "line": {
          "color": "#FF6692",
          "dash": "solid"
         },
         "marker": {
          "symbol": "circle"
         },
         "mode": "lines",
         "name": "53",
         "showlegend": true,
         "type": "scattergl",
         "x": [
          1,
          2,
          3,
          4,
          5,
          6,
          7,
          8,
          9,
          10,
          11,
          12,
          13,
          14,
          15,
          16,
          17,
          18,
          19,
          20
         ],
         "xaxis": "x",
         "y": [
          0.48813382145265516,
          2.256208423950379,
          6.530544047359415,
          7.234544047359415,
          8.020544047359415,
          9.320544047359414,
          10.118544047359414,
          10.588544047359415,
          15.14454841321692,
          17.044548413216923,
          21.19279503324806,
          25.59886335275374,
          30.846937955251462,
          34.61293795525146,
          38.31101255774919,
          43.01688489402191,
          45.77688489402191,
          47.56088489402191,
          50.09688489402191,
          56.75452906923503
         ],
         "yaxis": "y"
        },
        {
         "hovertemplate": "Pacjent=55<br>BADANIE_NR=%{x}<br>Miernik=%{y}<extra></extra>",
         "legendgroup": "55",
         "line": {
          "color": "#B6E880",
          "dash": "solid"
         },
         "marker": {
          "symbol": "circle"
         },
         "mode": "lines",
         "name": "55",
         "showlegend": true,
         "type": "scattergl",
         "x": [
          1,
          2,
          3,
          4,
          5,
          6,
          7,
          8,
          9,
          10,
          11,
          12,
          13,
          14,
          15,
          16,
          17,
          18,
          19,
          20,
          21,
          22,
          23,
          24,
          25
         ],
         "xaxis": "x",
         "y": [
          0,
          1.2679999999999998,
          2.0639999999999996,
          2.888,
          3.356,
          3.356,
          3.356,
          4.1,
          4.604,
          4.604,
          4.604,
          4.604,
          4.604,
          5.228,
          5.46,
          5.46,
          5.704,
          5.704,
          6.159999999999999,
          7.10991304347826,
          7.61391304347826,
          8.02191304347826,
          8.48991304347826,
          11.046757485788142,
          15.30993008617165
         ],
         "yaxis": "y"
        },
        {
         "hovertemplate": "Pacjent=57<br>BADANIE_NR=%{x}<br>Miernik=%{y}<extra></extra>",
         "legendgroup": "57",
         "line": {
          "color": "#FF97FF",
          "dash": "solid"
         },
         "marker": {
          "symbol": "circle"
         },
         "mode": "lines",
         "name": "57",
         "showlegend": true,
         "type": "scattergl",
         "x": [
          1,
          2,
          3,
          4,
          5,
          6,
          7,
          8,
          9,
          10,
          11,
          12,
          13,
          14,
          15
         ],
         "xaxis": "x",
         "y": [
          0.2919999999999998,
          0.4999999999999999,
          0.96,
          0.96,
          0.96,
          1.5719999999999998,
          1.5719999999999998,
          1.5719999999999998,
          1.5719999999999998,
          1.5719999999999998,
          1.5719999999999998,
          1.5719999999999998,
          3.8432366686014214,
          13.265700688710812,
          32.96212242593823
         ],
         "yaxis": "y"
        },
        {
         "hovertemplate": "Pacjent=61<br>BADANIE_NR=%{x}<br>Miernik=%{y}<extra></extra>",
         "legendgroup": "61",
         "line": {
          "color": "#FECB52",
          "dash": "solid"
         },
         "marker": {
          "symbol": "circle"
         },
         "mode": "lines",
         "name": "61",
         "showlegend": true,
         "type": "scattergl",
         "x": [
          1,
          2,
          3,
          4,
          5,
          6,
          7,
          8,
          9,
          10,
          11,
          12,
          13,
          14,
          15,
          16,
          17,
          18,
          19,
          20,
          21,
          22,
          23,
          24,
          25,
          26,
          27,
          28,
          29,
          30,
          31,
          32,
          33,
          34
         ],
         "xaxis": "x",
         "y": [
          0,
          0.2173913043478261,
          0.720695652173913,
          1.5793043478260869,
          1.5793043478260869,
          1.5793043478260869,
          1.9313043478260867,
          2.0913043478260867,
          2.0913043478260867,
          2.0913043478260867,
          2.0913043478260867,
          2.0913043478260867,
          2.0913043478260867,
          2.0913043478260867,
          2.439304347826087,
          2.9353043478260865,
          3.0833043478260866,
          3.3753043478260865,
          3.3753043478260865,
          3.3753043478260865,
          4.093739130434782,
          4.093739130434782,
          4.84295652173913,
          4.92991304347826,
          4.995130434782609,
          6.7871304347826085,
          7.254782608695652,
          7.254782608695652,
          7.254782608695652,
          8.638762737064337,
          8.790936650107815,
          8.790936650107815,
          8.790936650107815,
          8.834414910977381
         ],
         "yaxis": "y"
        },
        {
         "hovertemplate": "Pacjent=62<br>BADANIE_NR=%{x}<br>Miernik=%{y}<extra></extra>",
         "legendgroup": "62",
         "line": {
          "color": "#636efa",
          "dash": "solid"
         },
         "marker": {
          "symbol": "circle"
         },
         "mode": "lines",
         "name": "62",
         "showlegend": true,
         "type": "scattergl",
         "x": [
          1,
          2,
          3,
          4,
          5,
          6,
          7,
          8,
          9,
          10,
          11
         ],
         "xaxis": "x",
         "y": [
          1.2257391304347829,
          2.7223779646277624,
          3.7226878326819186,
          4.382687832681919,
          4.382687832681919,
          5.606687832681919,
          5.606687832681919,
          6.276687832681919,
          7.2466878326819195,
          13.842637851296741,
          19.13437522612952
         ],
         "yaxis": "y"
        },
        {
         "hovertemplate": "Pacjent=65<br>BADANIE_NR=%{x}<br>Miernik=%{y}<extra></extra>",
         "legendgroup": "65",
         "line": {
          "color": "#EF553B",
          "dash": "solid"
         },
         "marker": {
          "symbol": "circle"
         },
         "mode": "lines",
         "name": "65",
         "showlegend": true,
         "type": "scattergl",
         "x": [
          1,
          2,
          3,
          4,
          5,
          6,
          7,
          8,
          9,
          10,
          11,
          12,
          13,
          14,
          15,
          16,
          17,
          18,
          19,
          20,
          21,
          22,
          23,
          24,
          25,
          26,
          27,
          28,
          29,
          30,
          31,
          32,
          33,
          34,
          35,
          36,
          37
         ],
         "xaxis": "x",
         "y": [
          0.82,
          1.960567988446638,
          2.945413988749775,
          5.386653327609787,
          8.34061791837266,
          8.778751739825314,
          9.257692825877465,
          9.257692825877465,
          10.047692825877466,
          10.741692825877465,
          10.951692825877466,
          11.579692825877466,
          12.099692825877465,
          12.099692825877465,
          13.369692825877465,
          14.269692825877465,
          15.799692825877464,
          17.019692825877467,
          18.329692825877466,
          19.039692825877466,
          19.979692825877464,
          21.489692825877466,
          21.489692825877466,
          21.489692825877466,
          21.489692825877466,
          21.489692825877466,
          21.489692825877466,
          21.805692825877465,
          21.995692825877466,
          22.187692825877466,
          27.56043358589839,
          27.730433585898393,
          28.160433585898392,
          28.26043358589839,
          28.500433585898392,
          28.95043358589839,
          29.462433585898392
         ],
         "yaxis": "y"
        },
        {
         "hovertemplate": "Pacjent=70<br>BADANIE_NR=%{x}<br>Miernik=%{y}<extra></extra>",
         "legendgroup": "70",
         "line": {
          "color": "#00cc96",
          "dash": "solid"
         },
         "marker": {
          "symbol": "circle"
         },
         "mode": "lines",
         "name": "70",
         "showlegend": true,
         "type": "scattergl",
         "x": [
          1,
          2,
          3,
          4,
          5,
          6,
          7,
          8,
          9,
          10,
          11,
          12,
          13,
          14,
          15,
          16,
          17,
          18,
          19,
          20,
          21,
          22,
          23,
          24,
          25,
          26,
          27,
          28,
          29,
          30,
          31
         ],
         "xaxis": "x",
         "y": [
          0.9523478260869568,
          1.86,
          2.7266086956521742,
          2.918608695652174,
          3.7266086956521742,
          4.010608695652174,
          7.022208100334149,
          14.940605602647988,
          22.42471002509327,
          28.65214072911236,
          34.69083784168163,
          37.80426373690549,
          41.77470025272976,
          44.526212842344556,
          46.62477228609379,
          48.19477228609379,
          49.884772286093785,
          51.384772286093785,
          52.674772286093784,
          53.79477228609379,
          54.414772286093786,
          54.96477228609378,
          55.90477228609379,
          56.784772286093784,
          57.43477228609378,
          57.97477228609379,
          58.57477228609378,
          58.57477228609378,
          58.78293933150839,
          59.25530887457908,
          63.8875446366253
         ],
         "yaxis": "y"
        },
        {
         "hovertemplate": "Pacjent=73<br>BADANIE_NR=%{x}<br>Miernik=%{y}<extra></extra>",
         "legendgroup": "73",
         "line": {
          "color": "#ab63fa",
          "dash": "solid"
         },
         "marker": {
          "symbol": "circle"
         },
         "mode": "lines",
         "name": "73",
         "showlegend": true,
         "type": "scattergl",
         "x": [
          1,
          2,
          3,
          4,
          5,
          6,
          7,
          8,
          9,
          10,
          11,
          12,
          13,
          14,
          15,
          16,
          17,
          18,
          19,
          20,
          21,
          22,
          23
         ],
         "xaxis": "x",
         "y": [
          0.1521739130434783,
          0.7281739130434782,
          1.5681757673413794,
          3.943819361311093,
          4.643819361311093,
          4.753819361311093,
          5.383819361311093,
          6.453819361311093,
          7.043819361311093,
          7.793819361311093,
          7.963819361311094,
          8.313819361311094,
          8.773819361311094,
          8.773819361311094,
          8.773819361311094,
          8.773819361311094,
          8.773819361311094,
          8.773819361311094,
          8.883819361311094,
          8.923819361311093,
          8.973819361311094,
          9.313819361311094,
          10.637819361311093
         ],
         "yaxis": "y"
        },
        {
         "hovertemplate": "Pacjent=74<br>BADANIE_NR=%{x}<br>Miernik=%{y}<extra></extra>",
         "legendgroup": "74",
         "line": {
          "color": "#FFA15A",
          "dash": "solid"
         },
         "marker": {
          "symbol": "circle"
         },
         "mode": "lines",
         "name": "74",
         "showlegend": true,
         "type": "scattergl",
         "x": [
          1,
          2,
          3,
          4,
          5,
          6,
          7,
          8,
          9,
          10,
          11,
          12,
          13,
          14,
          15
         ],
         "xaxis": "x",
         "y": [
          2.905947230768932,
          3.077366097914262,
          5.676747951156523,
          8.757728432976032,
          13.02790380641486,
          13.856773371632253,
          16.231578811615712,
          19.678031037415717,
          22.645609648328428,
          25.187204073934037,
          27.157204073934036,
          29.645204073934035,
          31.833204073934038,
          35.76970598198194,
          40.87767255711536
         ],
         "yaxis": "y"
        },
        {
         "hovertemplate": "Pacjent=77<br>BADANIE_NR=%{x}<br>Miernik=%{y}<extra></extra>",
         "legendgroup": "77",
         "line": {
          "color": "#19d3f3",
          "dash": "solid"
         },
         "marker": {
          "symbol": "circle"
         },
         "mode": "lines",
         "name": "77",
         "showlegend": true,
         "type": "scattergl",
         "x": [
          1,
          2,
          3,
          4,
          5,
          6,
          7,
          8,
          9,
          10,
          11,
          12,
          13,
          14,
          15,
          16,
          17,
          18,
          19,
          20,
          21,
          22,
          23,
          24,
          25,
          26,
          27,
          28,
          29,
          30,
          31,
          32,
          33,
          34,
          35,
          36,
          37,
          38
         ],
         "xaxis": "x",
         "y": [
          0.69,
          2.8510825926679417,
          3.911082592667942,
          3.911082592667942,
          3.911082592667942,
          4.007082592667942,
          4.287082592667942,
          4.287082592667942,
          4.457082592667942,
          4.717082592667943,
          4.9770825926679425,
          4.9770825926679425,
          5.507082592667943,
          5.507082592667943,
          5.507082592667943,
          7.257082592667943,
          7.807082592667943,
          7.807082592667943,
          7.807082592667943,
          7.807082592667943,
          8.067082592667942,
          8.067082592667942,
          8.307082592667943,
          8.871082592667943,
          13.231255256575004,
          13.731255256575004,
          14.521255256575005,
          16.75725962243251,
          17.95725962243251,
          19.88725962243251,
          22.1256531069298,
          23.1456531069298,
          26.377441300614265,
          29.73917934016362,
          30.759179340163623,
          30.759179340163623,
          32.91917934016362,
          34.81917934016362
         ],
         "yaxis": "y"
        },
        {
         "hovertemplate": "Pacjent=78<br>BADANIE_NR=%{x}<br>Miernik=%{y}<extra></extra>",
         "legendgroup": "78",
         "line": {
          "color": "#FF6692",
          "dash": "solid"
         },
         "marker": {
          "symbol": "circle"
         },
         "mode": "lines",
         "name": "78",
         "showlegend": true,
         "type": "scattergl",
         "x": [
          1,
          2,
          3,
          4,
          5,
          6,
          7,
          8,
          9,
          10,
          11,
          12,
          13,
          14,
          15,
          16,
          17,
          18,
          19,
          20,
          21,
          22,
          23,
          24,
          25,
          26,
          27,
          28,
          29,
          30,
          31,
          32,
          33,
          34,
          35,
          36,
          37
         ],
         "xaxis": "x",
         "y": [
          0.2417391304347826,
          0.8117391304347831,
          1.9734771699841374,
          2.5041075826200467,
          2.5041075826200467,
          2.5041075826200467,
          2.5041075826200467,
          3.1161075826200464,
          3.3301075826200464,
          5.852107582620047,
          6.422107582620047,
          7.092107582620047,
          7.572107582620046,
          8.592107582620047,
          9.672107582620047,
          11.292107582620048,
          14.077400319196958,
          14.489400319196958,
          15.697400319196959,
          16.83140031919696,
          18.103400319196957,
          20.12740031919696,
          21.99540031919696,
          23.07940031919696,
          24.26540031919696,
          24.96940031919696,
          25.28140031919696,
          25.40140031919696,
          25.40140031919696,
          25.40140031919696,
          25.711400319196958,
          25.711400319196958,
          25.77140031919696,
          25.77140031919696,
          25.96740031919696,
          25.96740031919696,
          25.96740031919696
         ],
         "yaxis": "y"
        },
        {
         "hovertemplate": "Pacjent=80<br>BADANIE_NR=%{x}<br>Miernik=%{y}<extra></extra>",
         "legendgroup": "80",
         "line": {
          "color": "#B6E880",
          "dash": "solid"
         },
         "marker": {
          "symbol": "circle"
         },
         "mode": "lines",
         "name": "80",
         "showlegend": true,
         "type": "scattergl",
         "x": [
          1,
          2,
          3,
          4,
          5,
          6,
          7,
          8,
          9,
          10,
          11,
          12,
          13,
          14,
          15
         ],
         "xaxis": "x",
         "y": [
          3.747370849789361,
          5.407370849789361,
          6.887370849789361,
          7.547370849789361,
          7.697370849789361,
          8.807370849789361,
          9.211370849789361,
          10.26737084978936,
          11.03937084978936,
          11.54937084978936,
          11.94937084978936,
          11.94937084978936,
          12.259370849789361,
          14.159370849789362,
          15.221370849789361
         ],
         "yaxis": "y"
        },
        {
         "hovertemplate": "Pacjent=82<br>BADANIE_NR=%{x}<br>Miernik=%{y}<extra></extra>",
         "legendgroup": "82",
         "line": {
          "color": "#FF97FF",
          "dash": "solid"
         },
         "marker": {
          "symbol": "circle"
         },
         "mode": "lines",
         "name": "82",
         "showlegend": true,
         "type": "scattergl",
         "x": [
          1,
          2,
          3,
          4,
          5,
          6,
          7,
          8,
          9,
          10,
          11,
          12,
          13,
          14,
          15,
          16,
          17,
          18
         ],
         "xaxis": "x",
         "y": [
          0.947545386308775,
          2.8339378194458575,
          4.208943907324905,
          8.336844748769717,
          8.646844748769716,
          9.306844748769716,
          9.866844748769717,
          9.996844748769716,
          11.256844748769716,
          11.776844748769717,
          12.186844748769715,
          12.186844748769715,
          12.186844748769715,
          12.186844748769715,
          12.406844748769716,
          29.037029291789345,
          46.053203944034884,
          61.98551091684982
         ],
         "yaxis": "y"
        },
        {
         "hovertemplate": "Pacjent=84<br>BADANIE_NR=%{x}<br>Miernik=%{y}<extra></extra>",
         "legendgroup": "84",
         "line": {
          "color": "#FECB52",
          "dash": "solid"
         },
         "marker": {
          "symbol": "circle"
         },
         "mode": "lines",
         "name": "84",
         "showlegend": true,
         "type": "scattergl",
         "x": [
          1,
          2,
          3,
          4,
          5,
          6,
          7,
          8,
          9,
          10,
          11,
          12,
          13,
          14,
          15,
          16,
          17,
          18,
          19,
          20,
          21,
          22,
          23,
          24,
          25,
          26,
          27,
          28,
          29,
          30,
          31,
          32,
          33,
          34,
          35,
          36,
          37,
          38,
          39,
          40,
          41,
          42,
          43,
          44,
          45,
          46
         ],
         "xaxis": "x",
         "y": [
          2.3720003892896084,
          4.464299003517841,
          4.794299003517841,
          4.804299003517841,
          5.334299003517841,
          5.5142990035178405,
          5.99429900351784,
          5.99429900351784,
          6.164299003517841,
          7.0142990035178405,
          7.594299003517841,
          9.274299003517841,
          12.33337776504387,
          13.573377765043869,
          15.12337776504387,
          16.67337776504387,
          18.09337776504387,
          19.73937776504387,
          21.21937776504387,
          22.787937208793096,
          23.617937208793094,
          24.997937208793097,
          25.937937208793095,
          27.177937208793097,
          28.54881910494185,
          28.738819104941847,
          28.918819104941846,
          28.918819104941846,
          28.918819104941846,
          28.918819104941846,
          29.796819104941846,
          30.24081910494185,
          31.143238957544295,
          31.423238957544296,
          34.330782187000096,
          36.94306863281766,
          37.91306863281766,
          37.91306863281766,
          38.00306863281766,
          38.00306863281766,
          38.46306863281766,
          38.69306863281766,
          38.793068632817665,
          41.05565665321539,
          41.56565665321539,
          41.60565665321539
         ],
         "yaxis": "y"
        },
        {
         "hovertemplate": "Pacjent=85<br>BADANIE_NR=%{x}<br>Miernik=%{y}<extra></extra>",
         "legendgroup": "85",
         "line": {
          "color": "#636efa",
          "dash": "solid"
         },
         "marker": {
          "symbol": "circle"
         },
         "mode": "lines",
         "name": "85",
         "showlegend": true,
         "type": "scattergl",
         "x": [
          1,
          2,
          3,
          4,
          5,
          6,
          7,
          8,
          9,
          10,
          11,
          12,
          13,
          14,
          15,
          16,
          17,
          18,
          19,
          20,
          21,
          22,
          23,
          24,
          25,
          26,
          27,
          28,
          29,
          30,
          31,
          32,
          33,
          34,
          35,
          36,
          37,
          38,
          39
         ],
         "xaxis": "x",
         "y": [
          3.010273329574683,
          6.222959322541055,
          7.951573162454704,
          9.299051138705975,
          10.257992224758127,
          12.345344484186175,
          12.883344484186175,
          13.670695897058156,
          15.08243393660751,
          17.110508539105233,
          19.543986515356504,
          21.647986515356507,
          23.301986515356507,
          24.677986515356505,
          25.727986515356505,
          26.485986515356505,
          27.295986515356507,
          28.055986515356505,
          28.815986515356506,
          29.595986515356508,
          30.973986515356508,
          31.75398651535651,
          33.57398651535651,
          34.90998651535651,
          36.663986515356505,
          38.13798651535651,
          38.75798651535651,
          39.907986515356505,
          40.727986515356505,
          41.83598651535651,
          42.831986515356505,
          43.611986515356506,
          44.09598651535651,
          44.34598651535651,
          44.34598651535651,
          44.553986515356506,
          44.95798651535651,
          45.38198651535651,
          50.16699090843396
         ],
         "yaxis": "y"
        },
        {
         "hovertemplate": "Pacjent=86<br>BADANIE_NR=%{x}<br>Miernik=%{y}<extra></extra>",
         "legendgroup": "86",
         "line": {
          "color": "#EF553B",
          "dash": "solid"
         },
         "marker": {
          "symbol": "circle"
         },
         "mode": "lines",
         "name": "86",
         "showlegend": true,
         "type": "scattergl",
         "x": [
          1,
          2,
          3,
          4,
          5,
          6,
          7,
          8,
          9,
          10,
          11,
          12,
          13,
          14,
          15,
          16,
          17
         ],
         "xaxis": "x",
         "y": [
          1.6760683195056816,
          3.3758062008040493,
          4.762764455758748,
          9.988621856283391,
          11.510473519492257,
          12.482125408787006,
          14.205816697107123,
          15.272249003398645,
          15.562249003398644,
          17.690325967452672,
          20.006767045255764,
          22.388985936015246,
          25.12143317863341,
          25.82143317863341,
          29.25136366530298,
          33.171569135586914,
          45.976491522629736
         ],
         "yaxis": "y"
        },
        {
         "hovertemplate": "Pacjent=88<br>BADANIE_NR=%{x}<br>Miernik=%{y}<extra></extra>",
         "legendgroup": "88",
         "line": {
          "color": "#00cc96",
          "dash": "solid"
         },
         "marker": {
          "symbol": "circle"
         },
         "mode": "lines",
         "name": "88",
         "showlegend": true,
         "type": "scattergl",
         "x": [
          1,
          2,
          3,
          4,
          5,
          6,
          7,
          8,
          9,
          10,
          11,
          12,
          13,
          14,
          15,
          16,
          17,
          18,
          19
         ],
         "xaxis": "x",
         "y": [
          1.9733489548762129,
          2.968633855910073,
          4.258979205679856,
          5.752405100903722,
          8.09998775252345,
          8.96998775252345,
          10.138547196272675,
          10.948547196272676,
          11.628547196272676,
          12.728547196272675,
          15.068547196272675,
          16.788547196272678,
          18.818547196272675,
          21.616714241687276,
          24.096714241687277,
          29.725756814391314,
          35.18078334281552,
          41.07104047239463,
          49.3847331275464
         ],
         "yaxis": "y"
        },
        {
         "hovertemplate": "Pacjent=91<br>BADANIE_NR=%{x}<br>Miernik=%{y}<extra></extra>",
         "legendgroup": "91",
         "line": {
          "color": "#ab63fa",
          "dash": "solid"
         },
         "marker": {
          "symbol": "circle"
         },
         "mode": "lines",
         "name": "91",
         "showlegend": true,
         "type": "scattergl",
         "x": [
          1,
          2,
          3,
          4,
          5,
          6,
          7,
          8,
          9,
          10,
          11,
          12,
          13,
          14,
          15,
          16,
          17,
          18,
          19,
          20,
          21,
          22,
          23,
          24,
          25,
          26,
          27
         ],
         "xaxis": "x",
         "y": [
          9.443435134899655,
          20.527277617346147,
          42.54148151015849,
          54.30989027116847,
          58.247253567053534,
          62.64934933290515,
          67.97151436992277,
          73.60167837130693,
          77.02284299338021,
          81.90792695287982,
          85.59221391714863,
          88.7429883099562,
          92.25394878401337,
          94.26056175964867,
          98.40445324690212,
          104.74517644574046,
          112.32814045903805,
          118.48788632848884,
          131.387697216349,
          134.0799161071085,
          140.0144140609237,
          143.8639003546875,
          146.51197731874151,
          149.68626428301033,
          152.60479359144875,
          157.2218719228476,
          165.0277766831879
         ],
         "yaxis": "y"
        },
        {
         "hovertemplate": "Pacjent=93<br>BADANIE_NR=%{x}<br>Miernik=%{y}<extra></extra>",
         "legendgroup": "93",
         "line": {
          "color": "#FFA15A",
          "dash": "solid"
         },
         "marker": {
          "symbol": "circle"
         },
         "mode": "lines",
         "name": "93",
         "showlegend": true,
         "type": "scattergl",
         "x": [
          1,
          2,
          3,
          4,
          5,
          6,
          7,
          8,
          9,
          10,
          11,
          12,
          13,
          14,
          15,
          16,
          17,
          18,
          19,
          20,
          21,
          22,
          23,
          24,
          25,
          26,
          27
         ],
         "xaxis": "x",
         "y": [
          10.024532917709918,
          19.52882517601352,
          28.05799468626784,
          35.424995038558805,
          41.07401809979148,
          44.778830305151025,
          49.421201202281196,
          51.711519165983724,
          54.67909518093483,
          55.64909518093483,
          56.75909518093483,
          60.02909518093483,
          61.45909518093483,
          62.39909518093483,
          65.73909518093483,
          69.18109518093483,
          70.02109518093484,
          71.18109518093483,
          72.15109518093483,
          72.88109518093484,
          73.52109518093484,
          74.33109518093484,
          74.89109518093483,
          74.89109518093483,
          74.89109518093483,
          90.44150542471503,
          96.47194143163605
         ],
         "yaxis": "y"
        },
        {
         "hovertemplate": "Pacjent=97<br>BADANIE_NR=%{x}<br>Miernik=%{y}<extra></extra>",
         "legendgroup": "97",
         "line": {
          "color": "#19d3f3",
          "dash": "solid"
         },
         "marker": {
          "symbol": "circle"
         },
         "mode": "lines",
         "name": "97",
         "showlegend": true,
         "type": "scattergl",
         "x": [
          1,
          2,
          3,
          4,
          5,
          6,
          7,
          8,
          9,
          10,
          11,
          12,
          13,
          14,
          15,
          16,
          17,
          18,
          19,
          20,
          21,
          22,
          23,
          24,
          25,
          26,
          27,
          28
         ],
         "xaxis": "x",
         "y": [
          2.474392803802962,
          4.32426349780961,
          6.247572208381563,
          9.216793552003955,
          10.657402636945738,
          13.822104584314044,
          14.162104584314045,
          14.452104584314045,
          14.992104584314044,
          15.182104584314045,
          15.774104584314044,
          17.510104584314046,
          19.598104584314044,
          19.748104584314046,
          22.302104584314044,
          23.022104584314043,
          24.582104584314045,
          25.082104584314045,
          26.801520750816078,
          28.151520750816076,
          31.643443965319435,
          32.313443965319436,
          34.563839322133944,
          35.8247212182827,
          36.7007212182827,
          37.5707212182827,
          40.495771218036765,
          41.59577121803677
         ],
         "yaxis": "y"
        },
        {
         "hovertemplate": "Pacjent=100<br>BADANIE_NR=%{x}<br>Miernik=%{y}<extra></extra>",
         "legendgroup": "100",
         "line": {
          "color": "#FF6692",
          "dash": "solid"
         },
         "marker": {
          "symbol": "circle"
         },
         "mode": "lines",
         "name": "100",
         "showlegend": true,
         "type": "scattergl",
         "x": [
          1,
          2,
          3,
          4,
          5,
          6,
          7,
          8,
          9,
          10,
          11,
          12,
          13,
          14,
          15,
          16,
          17,
          18,
          19,
          20,
          21,
          22,
          23,
          24,
          25
         ],
         "xaxis": "x",
         "y": [
          1.9908784692336299,
          7.12334957801417,
          12.572294847721706,
          18.996192353023794,
          24.202094144470458,
          28.730629798186683,
          33.58565401206204,
          36.5350283665732,
          39.11299494170662,
          40.717066998621235,
          41.747066998621236,
          42.37706699862124,
          43.30706699862124,
          44.43706699862123,
          45.99769741125714,
          46.63769741125714,
          47.405697411257144,
          47.905697411257144,
          48.23569741125714,
          48.98569741125714,
          49.73304882412913,
          50.637344976959504,
          51.27101886785628,
          51.83967462855435,
          52.47739388735781
         ],
         "yaxis": "y"
        },
        {
         "hovertemplate": "Pacjent=103<br>BADANIE_NR=%{x}<br>Miernik=%{y}<extra></extra>",
         "legendgroup": "103",
         "line": {
          "color": "#B6E880",
          "dash": "solid"
         },
         "marker": {
          "symbol": "circle"
         },
         "mode": "lines",
         "name": "103",
         "showlegend": true,
         "type": "scattergl",
         "x": [
          1,
          2,
          3,
          4,
          5,
          6,
          7,
          8,
          9,
          10,
          11,
          12,
          13,
          14,
          15,
          16,
          17,
          18,
          19,
          20
         ],
         "xaxis": "x",
         "y": [
          3.6179603098582933,
          7.388920783915469,
          17.984793218106912,
          25.950810902417995,
          33.753325122081804,
          42.025153679083026,
          44.28269690853883,
          50.21893399278881,
          60.857916178053685,
          69.5273527639574,
          74.01712345163263,
          76.86538058121174,
          80.30302475642486,
          84.71895615021424,
          84.93634745456205,
          86.57794188016767,
          86.8565013239169,
          88.53693783974116,
          92.4122008960066,
          95.81405307766671
         ],
         "yaxis": "y"
        },
        {
         "hovertemplate": "Pacjent=105<br>BADANIE_NR=%{x}<br>Miernik=%{y}<extra></extra>",
         "legendgroup": "105",
         "line": {
          "color": "#FF97FF",
          "dash": "solid"
         },
         "marker": {
          "symbol": "circle"
         },
         "mode": "lines",
         "name": "105",
         "showlegend": true,
         "type": "scattergl",
         "x": [
          1,
          2,
          3,
          4,
          5,
          6,
          7,
          8,
          9,
          10,
          11,
          12,
          13,
          14,
          15,
          16,
          17,
          18,
          19,
          20,
          21,
          22,
          23,
          24,
          25,
          26,
          27,
          28,
          29,
          30,
          31,
          32,
          33,
          34
         ],
         "xaxis": "x",
         "y": [
          0.0319999999999998,
          0.5679999999999997,
          2.4179999999999997,
          4.366,
          4.366,
          4.414,
          4.414,
          4.414,
          4.414,
          5.013999999999999,
          5.618,
          6.1979999999999995,
          6.609999999999999,
          7.033999999999999,
          8.985478260869565,
          10.802994266402145,
          12.549295189628525,
          13.139295189628525,
          14.639295189628525,
          15.289295189628525,
          16.029295189628524,
          16.099295189628528,
          17.109295189628526,
          26.242397602637702,
          28.12437773100639,
          30.514965751404116,
          30.764965751404116,
          31.174965751404116,
          31.174965751404116,
          31.554965751404115,
          33.52438191790615,
          35.55438191790615,
          37.47438191790615,
          38.21438191790615
         ],
         "yaxis": "y"
        },
        {
         "hovertemplate": "Pacjent=106<br>BADANIE_NR=%{x}<br>Miernik=%{y}<extra></extra>",
         "legendgroup": "106",
         "line": {
          "color": "#FECB52",
          "dash": "solid"
         },
         "marker": {
          "symbol": "circle"
         },
         "mode": "lines",
         "name": "106",
         "showlegend": true,
         "type": "scattergl",
         "x": [
          1,
          2,
          3,
          4,
          5,
          6,
          7,
          8,
          9,
          10,
          11,
          12,
          13,
          14
         ],
         "xaxis": "x",
         "y": [
          2.1126175996684124,
          3.9450901269401233,
          5.909137657667678,
          6.744998592897269,
          7.907393949711779,
          9.50169487293816,
          11.528576769086913,
          19.336519681800528,
          28.183450371471995,
          30.053450371471996,
          34.09145037147199,
          37.888044174614876,
          44.71257348305329,
          50.022480565800336
         ],
         "yaxis": "y"
        },
        {
         "hovertemplate": "Pacjent=111<br>BADANIE_NR=%{x}<br>Miernik=%{y}<extra></extra>",
         "legendgroup": "111",
         "line": {
          "color": "#636efa",
          "dash": "solid"
         },
         "marker": {
          "symbol": "circle"
         },
         "mode": "lines",
         "name": "111",
         "showlegend": true,
         "type": "scattergl",
         "x": [
          1,
          2,
          3,
          4,
          5,
          6,
          7,
          8,
          9,
          10,
          11,
          12,
          13,
          14,
          15,
          16,
          17,
          18,
          19,
          20,
          21,
          22,
          23,
          24,
          25,
          26
         ],
         "xaxis": "x",
         "y": [
          1.528,
          2.82,
          3.208,
          4.647048622522344,
          5.560155492390698,
          6.517943686075164,
          7.180828687696374,
          7.688962509149029,
          8.035556312291911,
          8.760025509654795,
          9.348584953404021,
          10.933869854437882,
          11.891221267309863,
          12.171221267309862,
          12.571221267309863,
          12.961221267309861,
          13.261221267309862,
          13.761221267309862,
          14.723201395678547,
          16.41354674544833,
          16.87754674544833,
          17.81043174706954,
          18.13043174706954,
          18.888534139995098,
          19.459953007140427,
          23.946128691131094
         ],
         "yaxis": "y"
        },
        {
         "hovertemplate": "Pacjent=115<br>BADANIE_NR=%{x}<br>Miernik=%{y}<extra></extra>",
         "legendgroup": "115",
         "line": {
          "color": "#EF553B",
          "dash": "solid"
         },
         "marker": {
          "symbol": "circle"
         },
         "mode": "lines",
         "name": "115",
         "showlegend": true,
         "type": "scattergl",
         "x": [
          1,
          2,
          3,
          4,
          5,
          6,
          7,
          8,
          9,
          10,
          11,
          12,
          13,
          14,
          15,
          16,
          17,
          18,
          19,
          20,
          21,
          22,
          23,
          24,
          25,
          26,
          27,
          28,
          29,
          30,
          31,
          32,
          33,
          34,
          35,
          36,
          37,
          38,
          39
         ],
         "xaxis": "x",
         "y": [
          0.2608695652173913,
          0.4130434782608696,
          0.4130434782608696,
          0.5450434782608695,
          0.7410434782608697,
          0.7530434782608695,
          1.6010434782608696,
          2.0250434782608693,
          2.0250434782608693,
          3.349043478260869,
          4.37704347826087,
          4.37704347826087,
          4.37704347826087,
          4.37704347826087,
          4.37704347826087,
          4.7410434782608695,
          4.7410434782608695,
          5.6930434782608685,
          5.6930434782608685,
          6.157043478260869,
          7.229043478260869,
          7.229043478260869,
          7.229043478260869,
          7.229043478260869,
          7.229043478260869,
          7.229043478260869,
          7.229043478260869,
          7.229043478260869,
          7.229043478260869,
          7.229043478260869,
          7.229043478260869,
          7.229043478260869,
          7.561043478260869,
          7.561043478260869,
          7.561043478260869,
          7.561043478260869,
          8.173043478260869,
          8.373043478260868,
          9.173043478260869
         ],
         "yaxis": "y"
        },
        {
         "hovertemplate": "Pacjent=116<br>BADANIE_NR=%{x}<br>Miernik=%{y}<extra></extra>",
         "legendgroup": "116",
         "line": {
          "color": "#00cc96",
          "dash": "solid"
         },
         "marker": {
          "symbol": "circle"
         },
         "mode": "lines",
         "name": "116",
         "showlegend": true,
         "type": "scattergl",
         "x": [
          1,
          2,
          3,
          4,
          5,
          6,
          7,
          8,
          9,
          10,
          11,
          12,
          13,
          14,
          15,
          16,
          17,
          18,
          19,
          20,
          21,
          22,
          23,
          24,
          25,
          26,
          27,
          28,
          29,
          30,
          31,
          32,
          33,
          34,
          35,
          36,
          37,
          38
         ],
         "xaxis": "x",
         "y": [
          2.611857489319304,
          4.257780703822662,
          6.761742593813859,
          8.974308329627423,
          9.98430832962742,
          10.874308329627421,
          11.354308329627422,
          11.354308329627422,
          14.700312695484927,
          14.750312695484928,
          15.310312695484928,
          15.610312695484927,
          15.610312695484927,
          16.050312695484926,
          16.340312695484926,
          16.340312695484926,
          16.340312695484926,
          16.580312695484928,
          16.690312695484927,
          16.780312695484927,
          16.840312695484926,
          18.000312695484926,
          18.000312695484926,
          18.73231269548493,
          18.740312695484928,
          19.389843130267536,
          31.036811011078743,
          31.036811011078743,
          32.0349448325314,
          33.69023756910831,
          34.13023756910831,
          34.69023756910831,
          34.94023756910831,
          35.50023756910831,
          36.19023756910831,
          36.19023756910831,
          36.24023756910831,
          36.24023756910831
         ],
         "yaxis": "y"
        },
        {
         "hovertemplate": "Pacjent=119<br>BADANIE_NR=%{x}<br>Miernik=%{y}<extra></extra>",
         "legendgroup": "119",
         "line": {
          "color": "#ab63fa",
          "dash": "solid"
         },
         "marker": {
          "symbol": "circle"
         },
         "mode": "lines",
         "name": "119",
         "showlegend": true,
         "type": "scattergl",
         "x": [
          1,
          2,
          3,
          4,
          5,
          6,
          7,
          8,
          9,
          10,
          11,
          12,
          13,
          14,
          15,
          16,
          17,
          18,
          19,
          20,
          21,
          22
         ],
         "xaxis": "x",
         "y": [
          4.593866568195253,
          7.762775247819716,
          10.63684924485434,
          12.757534676705486,
          14.4679552097801,
          15.177829208338585,
          16.243391949412715,
          16.443391949412717,
          18.037391949412715,
          18.037391949412715,
          18.037391949412715,
          18.037391949412715,
          18.109391949412714,
          18.381391949412716,
          19.209391949412716,
          20.189391949412716,
          20.817044123325758,
          21.034435427673586,
          22.123304992890976,
          24.845398470905913,
          29.235516829790434,
          34.698778228092884
         ],
         "yaxis": "y"
        },
        {
         "hovertemplate": "Pacjent=120<br>BADANIE_NR=%{x}<br>Miernik=%{y}<extra></extra>",
         "legendgroup": "120",
         "line": {
          "color": "#FFA15A",
          "dash": "solid"
         },
         "marker": {
          "symbol": "circle"
         },
         "mode": "lines",
         "name": "120",
         "showlegend": true,
         "type": "scattergl",
         "x": [
          1,
          2,
          3,
          4,
          5,
          6,
          7,
          8,
          9,
          10,
          11,
          12
         ],
         "xaxis": "x",
         "y": [
          0,
          0.916,
          1.048,
          4.517122436082689,
          12.781423541315283,
          16.911853014050703,
          21.051273263106417,
          23.240118137706546,
          26.092887786915078,
          29.36289669093132,
          34.708513032686064,
          34.708513032686064
         ],
         "yaxis": "y"
        },
        {
         "hovertemplate": "Pacjent=121<br>BADANIE_NR=%{x}<br>Miernik=%{y}<extra></extra>",
         "legendgroup": "121",
         "line": {
          "color": "#19d3f3",
          "dash": "solid"
         },
         "marker": {
          "symbol": "circle"
         },
         "mode": "lines",
         "name": "121",
         "showlegend": true,
         "type": "scattergl",
         "x": [
          1,
          2,
          3,
          4,
          5,
          6,
          7,
          8,
          9,
          10,
          11,
          12,
          13,
          14,
          15,
          16,
          17,
          18,
          19,
          20,
          21,
          22,
          23,
          24,
          25,
          26,
          27,
          28,
          29,
          30,
          31,
          32,
          33,
          34,
          35,
          36,
          37
         ],
         "xaxis": "x",
         "y": [
          0.4719999999999998,
          1.5119999999999998,
          2.2164691973628843,
          2.4064691973628842,
          2.4064691973628842,
          2.4064691973628842,
          2.4064691973628842,
          3.0464691973628844,
          4.406814547132668,
          4.886814547132667,
          5.586814547132668,
          6.036814547132668,
          6.936814547132667,
          7.846814547132667,
          9.296814547132668,
          10.986814547132667,
          12.676814547132667,
          14.286814547132668,
          16.016814547132668,
          16.72681454713267,
          18.186814547132666,
          19.686814547132666,
          20.476814547132665,
          21.606814547132668,
          23.226814547132665,
          24.726814547132665,
          25.742814547132667,
          26.34281454713267,
          27.572814547132666,
          27.91281454713267,
          28.192814547132667,
          28.322814547132666,
          28.582814547132667,
          29.922292523383938,
          30.36229252338394,
          33.21023963443474,
          34.49087004707065
         ],
         "yaxis": "y"
        },
        {
         "hovertemplate": "Pacjent=122<br>BADANIE_NR=%{x}<br>Miernik=%{y}<extra></extra>",
         "legendgroup": "122",
         "line": {
          "color": "#FF6692",
          "dash": "solid"
         },
         "marker": {
          "symbol": "circle"
         },
         "mode": "lines",
         "name": "122",
         "showlegend": true,
         "type": "scattergl",
         "x": [
          1,
          2,
          3,
          4,
          5,
          6,
          7,
          8,
          9,
          10,
          11,
          12,
          13,
          14,
          15,
          16,
          17,
          18,
          19,
          20,
          21,
          22,
          23,
          24,
          25,
          26
         ],
         "xaxis": "x",
         "y": [
          3.047292145792638,
          5.095023060339342,
          8.166692677443695,
          12.269423182755613,
          16.125639261399993,
          19.92098577482698,
          23.14581404848372,
          24.722448487400303,
          26.274727092108627,
          27.103805853634658,
          29.112692853080468,
          31.086330742889757,
          31.728750595492205,
          33.25871056082737,
          33.82765164687952,
          34.12963177524821,
          34.89857286130035,
          35.08857286130036,
          35.35857286130035,
          40.58698385859381,
          44.904572147028325,
          48.47021211826345,
          49.55702393517341,
          51.2429815857018,
          54.197887005414835,
          59.92535568623026
         ],
         "yaxis": "y"
        },
        {
         "hovertemplate": "Pacjent=123<br>BADANIE_NR=%{x}<br>Miernik=%{y}<extra></extra>",
         "legendgroup": "123",
         "line": {
          "color": "#B6E880",
          "dash": "solid"
         },
         "marker": {
          "symbol": "circle"
         },
         "mode": "lines",
         "name": "123",
         "showlegend": true,
         "type": "scattergl",
         "x": [
          1,
          2,
          3,
          4,
          5,
          6,
          7,
          8,
          9,
          10,
          11,
          12,
          13,
          14,
          15,
          16,
          17,
          18,
          19
         ],
         "xaxis": "x",
         "y": [
          3.2170954991992047,
          5.119513331971239,
          5.719882491484198,
          7.201882491484199,
          8.629882491484198,
          10.665882491484197,
          13.174441935233425,
          16.234441935233423,
          20.79442206360211,
          23.23042206360211,
          29.387830802178357,
          32.37983080217836,
          38.73252862734124,
          45.2847012912483,
          49.9287012912483,
          53.6467012912483,
          59.801808161116654,
          64.05180816111665,
          71.12869316273786
         ],
         "yaxis": "y"
        },
        {
         "hovertemplate": "Pacjent=125<br>BADANIE_NR=%{x}<br>Miernik=%{y}<extra></extra>",
         "legendgroup": "125",
         "line": {
          "color": "#FF97FF",
          "dash": "solid"
         },
         "marker": {
          "symbol": "circle"
         },
         "mode": "lines",
         "name": "125",
         "showlegend": true,
         "type": "scattergl",
         "x": [
          1,
          2,
          3,
          4,
          5,
          6,
          7,
          8,
          9,
          10,
          11,
          12,
          13,
          14,
          15,
          16,
          17,
          18,
          19,
          20,
          21
         ],
         "xaxis": "x",
         "y": [
          0.4663009232263804,
          3.013743774858816,
          5.3170927297350286,
          7.595339349766166,
          9.761862943194503,
          10.301862943194502,
          10.621862943194502,
          11.271862943194503,
          11.901862943194502,
          12.161862943194503,
          12.731862943194503,
          13.261862943194503,
          13.711862943194502,
          15.737862943194504,
          17.1398629431945,
          19.243862943194504,
          20.713862943194503,
          24.051862943194504,
          26.0298629431945,
          28.123862943194503,
          31.24726228043656
         ],
         "yaxis": "y"
        },
        {
         "hovertemplate": "Pacjent=127<br>BADANIE_NR=%{x}<br>Miernik=%{y}<extra></extra>",
         "legendgroup": "127",
         "line": {
          "color": "#FECB52",
          "dash": "solid"
         },
         "marker": {
          "symbol": "circle"
         },
         "mode": "lines",
         "name": "127",
         "showlegend": true,
         "type": "scattergl",
         "x": [
          1,
          2,
          3,
          4,
          5,
          6,
          7,
          8,
          9,
          10,
          11,
          12
         ],
         "xaxis": "x",
         "y": [
          6.631139717155627,
          7.811727737553355,
          10.832759915262065,
          10.832759915262065,
          10.972759915262065,
          11.044759915262064,
          11.044759915262064,
          11.205641811410816,
          13.53158358706167,
          13.634149322875233,
          17.432676032697017,
          24.309562774232482
         ],
         "yaxis": "y"
        },
        {
         "hovertemplate": "Pacjent=129<br>BADANIE_NR=%{x}<br>Miernik=%{y}<extra></extra>",
         "legendgroup": "129",
         "line": {
          "color": "#636efa",
          "dash": "solid"
         },
         "marker": {
          "symbol": "circle"
         },
         "mode": "lines",
         "name": "129",
         "showlegend": true,
         "type": "scattergl",
         "x": [
          1,
          2,
          3,
          4,
          5,
          6,
          7,
          8,
          9,
          10,
          11,
          12,
          13,
          14,
          15,
          16
         ],
         "xaxis": "x",
         "y": [
          2.7110321777087094,
          5.704388546473132,
          8.209740160679251,
          13.195441174216441,
          17.203622695212722,
          21.777251398073634,
          22.405620557586595,
          25.544314454158503,
          26.474314454158506,
          27.264314454158505,
          28.254314454158504,
          29.554314454158504,
          31.274314454158503,
          33.58166586703049,
          35.311665867030484,
          35.88966586703049
         ],
         "yaxis": "y"
        },
        {
         "hovertemplate": "Pacjent=131<br>BADANIE_NR=%{x}<br>Miernik=%{y}<extra></extra>",
         "legendgroup": "131",
         "line": {
          "color": "#EF553B",
          "dash": "solid"
         },
         "marker": {
          "symbol": "circle"
         },
         "mode": "lines",
         "name": "131",
         "showlegend": true,
         "type": "scattergl",
         "x": [
          1,
          2,
          3,
          4,
          5,
          6,
          7,
          8,
          9,
          10,
          11,
          12,
          13,
          14,
          15,
          16,
          17,
          18,
          19,
          20,
          21,
          22,
          23,
          24,
          25,
          26,
          27,
          28,
          29,
          30,
          31,
          32,
          33
         ],
         "xaxis": "x",
         "y": [
          0.5559999999999999,
          1.5679999999999996,
          1.956,
          2.336,
          2.924,
          2.924,
          3.184,
          3.688,
          3.688,
          4.904,
          6.854000000000001,
          7.652000000000001,
          7.812000000000001,
          8.148000000000001,
          10.896,
          12.674000000000001,
          12.764000000000003,
          12.764000000000003,
          12.764000000000003,
          12.764000000000003,
          12.764000000000003,
          12.764000000000003,
          12.764000000000003,
          12.764000000000003,
          12.764000000000003,
          15.270000000000003,
          15.934000000000003,
          16.930000000000003,
          19.904000000000003,
          20.574,
          20.574,
          20.574,
          21.812240415006755
         ],
         "yaxis": "y"
        },
        {
         "hovertemplate": "Pacjent=134<br>BADANIE_NR=%{x}<br>Miernik=%{y}<extra></extra>",
         "legendgroup": "134",
         "line": {
          "color": "#00cc96",
          "dash": "solid"
         },
         "marker": {
          "symbol": "circle"
         },
         "mode": "lines",
         "name": "134",
         "showlegend": true,
         "type": "scattergl",
         "x": [
          1,
          2,
          3,
          4,
          5,
          6,
          7,
          8,
          9,
          10,
          11,
          12,
          13,
          14,
          15,
          16,
          17,
          18,
          19,
          20,
          21,
          22,
          23,
          24,
          25,
          26,
          27,
          28,
          29,
          30,
          31,
          32,
          33,
          34,
          35
         ],
         "xaxis": "x",
         "y": [
          3.039649892989871,
          7.574930169969088,
          10.451850859549918,
          12.354777518904625,
          15.376434732569077,
          15.396434732569078,
          15.75158748479657,
          15.75158748479657,
          16.08958748479657,
          16.09758748479657,
          16.465721306249225,
          17.456351718885134,
          17.848917454698697,
          18.560917454698696,
          31.416526308968105,
          38.818597283915466,
          48.93044232192755,
          49.81044232192755,
          50.00044232192755,
          55.50044232192755,
          55.50044232192755,
          55.99044232192755,
          56.48044232192755,
          58.13044232192755,
          59.68044232192755,
          60.35044232192755,
          61.62044232192755,
          63.48044232192755,
          66.13844232192756,
          67.48844232192755,
          68.63844232192756,
          71.64244232192755,
          73.77644232192755,
          75.55644232192755,
          78.51844232192755
         ],
         "yaxis": "y"
        },
        {
         "hovertemplate": "Pacjent=140<br>BADANIE_NR=%{x}<br>Miernik=%{y}<extra></extra>",
         "legendgroup": "140",
         "line": {
          "color": "#ab63fa",
          "dash": "solid"
         },
         "marker": {
          "symbol": "circle"
         },
         "mode": "lines",
         "name": "140",
         "showlegend": true,
         "type": "scattergl",
         "x": [
          1,
          2,
          3,
          4,
          5,
          6,
          7,
          8,
          9,
          10,
          11,
          12,
          13,
          14,
          15,
          16,
          17,
          18,
          19,
          20,
          21,
          22,
          23,
          24
         ],
         "xaxis": "x",
         "y": [
          3.6342254603280884,
          3.714225460328088,
          5.180225460328089,
          6.540661976152352,
          7.200661976152352,
          7.690661976152352,
          8.784661976152352,
          9.774661976152352,
          10.892661976152352,
          11.852661976152353,
          12.692661976152353,
          13.530661976152352,
          13.790661976152354,
          14.444661976152354,
          14.554661976152353,
          14.994661976152353,
          15.184661976152352,
          15.348661976152352,
          16.670661976152353,
          17.912661976152354,
          18.742661976152352,
          19.26266197615235,
          20.228661976152353,
          21.746661976152353
         ],
         "yaxis": "y"
        },
        {
         "hovertemplate": "Pacjent=145<br>BADANIE_NR=%{x}<br>Miernik=%{y}<extra></extra>",
         "legendgroup": "145",
         "line": {
          "color": "#FFA15A",
          "dash": "solid"
         },
         "marker": {
          "symbol": "circle"
         },
         "mode": "lines",
         "name": "145",
         "showlegend": true,
         "type": "scattergl",
         "x": [
          1,
          2,
          3,
          4,
          5,
          6,
          7,
          8,
          9
         ],
         "xaxis": "x",
         "y": [
          1.3012857108100295,
          3.3537992340523854,
          5.037703697587316,
          7.247888408190595,
          9.88956667680723,
          12.425270398004884,
          15.909178131609869,
          17.61279688065633,
          20.905344714490354
         ],
         "yaxis": "y"
        }
       ],
       "layout": {
        "height": 800,
        "legend": {
         "title": {
          "text": "Pacjent"
         },
         "tracegroupgap": 0
        },
        "margin": {
         "t": 60
        },
        "showlegend": false,
        "template": {
         "data": {
          "bar": [
           {
            "error_x": {
             "color": "#2a3f5f"
            },
            "error_y": {
             "color": "#2a3f5f"
            },
            "marker": {
             "line": {
              "color": "white",
              "width": 0.5
             },
             "pattern": {
              "fillmode": "overlay",
              "size": 10,
              "solidity": 0.2
             }
            },
            "type": "bar"
           }
          ],
          "barpolar": [
           {
            "marker": {
             "line": {
              "color": "white",
              "width": 0.5
             },
             "pattern": {
              "fillmode": "overlay",
              "size": 10,
              "solidity": 0.2
             }
            },
            "type": "barpolar"
           }
          ],
          "carpet": [
           {
            "aaxis": {
             "endlinecolor": "#2a3f5f",
             "gridcolor": "#C8D4E3",
             "linecolor": "#C8D4E3",
             "minorgridcolor": "#C8D4E3",
             "startlinecolor": "#2a3f5f"
            },
            "baxis": {
             "endlinecolor": "#2a3f5f",
             "gridcolor": "#C8D4E3",
             "linecolor": "#C8D4E3",
             "minorgridcolor": "#C8D4E3",
             "startlinecolor": "#2a3f5f"
            },
            "type": "carpet"
           }
          ],
          "choropleth": [
           {
            "colorbar": {
             "outlinewidth": 0,
             "ticks": ""
            },
            "type": "choropleth"
           }
          ],
          "contour": [
           {
            "colorbar": {
             "outlinewidth": 0,
             "ticks": ""
            },
            "colorscale": [
             [
              0,
              "#0d0887"
             ],
             [
              0.1111111111111111,
              "#46039f"
             ],
             [
              0.2222222222222222,
              "#7201a8"
             ],
             [
              0.3333333333333333,
              "#9c179e"
             ],
             [
              0.4444444444444444,
              "#bd3786"
             ],
             [
              0.5555555555555556,
              "#d8576b"
             ],
             [
              0.6666666666666666,
              "#ed7953"
             ],
             [
              0.7777777777777778,
              "#fb9f3a"
             ],
             [
              0.8888888888888888,
              "#fdca26"
             ],
             [
              1,
              "#f0f921"
             ]
            ],
            "type": "contour"
           }
          ],
          "contourcarpet": [
           {
            "colorbar": {
             "outlinewidth": 0,
             "ticks": ""
            },
            "type": "contourcarpet"
           }
          ],
          "heatmap": [
           {
            "colorbar": {
             "outlinewidth": 0,
             "ticks": ""
            },
            "colorscale": [
             [
              0,
              "#0d0887"
             ],
             [
              0.1111111111111111,
              "#46039f"
             ],
             [
              0.2222222222222222,
              "#7201a8"
             ],
             [
              0.3333333333333333,
              "#9c179e"
             ],
             [
              0.4444444444444444,
              "#bd3786"
             ],
             [
              0.5555555555555556,
              "#d8576b"
             ],
             [
              0.6666666666666666,
              "#ed7953"
             ],
             [
              0.7777777777777778,
              "#fb9f3a"
             ],
             [
              0.8888888888888888,
              "#fdca26"
             ],
             [
              1,
              "#f0f921"
             ]
            ],
            "type": "heatmap"
           }
          ],
          "heatmapgl": [
           {
            "colorbar": {
             "outlinewidth": 0,
             "ticks": ""
            },
            "colorscale": [
             [
              0,
              "#0d0887"
             ],
             [
              0.1111111111111111,
              "#46039f"
             ],
             [
              0.2222222222222222,
              "#7201a8"
             ],
             [
              0.3333333333333333,
              "#9c179e"
             ],
             [
              0.4444444444444444,
              "#bd3786"
             ],
             [
              0.5555555555555556,
              "#d8576b"
             ],
             [
              0.6666666666666666,
              "#ed7953"
             ],
             [
              0.7777777777777778,
              "#fb9f3a"
             ],
             [
              0.8888888888888888,
              "#fdca26"
             ],
             [
              1,
              "#f0f921"
             ]
            ],
            "type": "heatmapgl"
           }
          ],
          "histogram": [
           {
            "marker": {
             "pattern": {
              "fillmode": "overlay",
              "size": 10,
              "solidity": 0.2
             }
            },
            "type": "histogram"
           }
          ],
          "histogram2d": [
           {
            "colorbar": {
             "outlinewidth": 0,
             "ticks": ""
            },
            "colorscale": [
             [
              0,
              "#0d0887"
             ],
             [
              0.1111111111111111,
              "#46039f"
             ],
             [
              0.2222222222222222,
              "#7201a8"
             ],
             [
              0.3333333333333333,
              "#9c179e"
             ],
             [
              0.4444444444444444,
              "#bd3786"
             ],
             [
              0.5555555555555556,
              "#d8576b"
             ],
             [
              0.6666666666666666,
              "#ed7953"
             ],
             [
              0.7777777777777778,
              "#fb9f3a"
             ],
             [
              0.8888888888888888,
              "#fdca26"
             ],
             [
              1,
              "#f0f921"
             ]
            ],
            "type": "histogram2d"
           }
          ],
          "histogram2dcontour": [
           {
            "colorbar": {
             "outlinewidth": 0,
             "ticks": ""
            },
            "colorscale": [
             [
              0,
              "#0d0887"
             ],
             [
              0.1111111111111111,
              "#46039f"
             ],
             [
              0.2222222222222222,
              "#7201a8"
             ],
             [
              0.3333333333333333,
              "#9c179e"
             ],
             [
              0.4444444444444444,
              "#bd3786"
             ],
             [
              0.5555555555555556,
              "#d8576b"
             ],
             [
              0.6666666666666666,
              "#ed7953"
             ],
             [
              0.7777777777777778,
              "#fb9f3a"
             ],
             [
              0.8888888888888888,
              "#fdca26"
             ],
             [
              1,
              "#f0f921"
             ]
            ],
            "type": "histogram2dcontour"
           }
          ],
          "mesh3d": [
           {
            "colorbar": {
             "outlinewidth": 0,
             "ticks": ""
            },
            "type": "mesh3d"
           }
          ],
          "parcoords": [
           {
            "line": {
             "colorbar": {
              "outlinewidth": 0,
              "ticks": ""
             }
            },
            "type": "parcoords"
           }
          ],
          "pie": [
           {
            "automargin": true,
            "type": "pie"
           }
          ],
          "scatter": [
           {
            "marker": {
             "colorbar": {
              "outlinewidth": 0,
              "ticks": ""
             }
            },
            "type": "scatter"
           }
          ],
          "scatter3d": [
           {
            "line": {
             "colorbar": {
              "outlinewidth": 0,
              "ticks": ""
             }
            },
            "marker": {
             "colorbar": {
              "outlinewidth": 0,
              "ticks": ""
             }
            },
            "type": "scatter3d"
           }
          ],
          "scattercarpet": [
           {
            "marker": {
             "colorbar": {
              "outlinewidth": 0,
              "ticks": ""
             }
            },
            "type": "scattercarpet"
           }
          ],
          "scattergeo": [
           {
            "marker": {
             "colorbar": {
              "outlinewidth": 0,
              "ticks": ""
             }
            },
            "type": "scattergeo"
           }
          ],
          "scattergl": [
           {
            "marker": {
             "colorbar": {
              "outlinewidth": 0,
              "ticks": ""
             }
            },
            "type": "scattergl"
           }
          ],
          "scattermapbox": [
           {
            "marker": {
             "colorbar": {
              "outlinewidth": 0,
              "ticks": ""
             }
            },
            "type": "scattermapbox"
           }
          ],
          "scatterpolar": [
           {
            "marker": {
             "colorbar": {
              "outlinewidth": 0,
              "ticks": ""
             }
            },
            "type": "scatterpolar"
           }
          ],
          "scatterpolargl": [
           {
            "marker": {
             "colorbar": {
              "outlinewidth": 0,
              "ticks": ""
             }
            },
            "type": "scatterpolargl"
           }
          ],
          "scatterternary": [
           {
            "marker": {
             "colorbar": {
              "outlinewidth": 0,
              "ticks": ""
             }
            },
            "type": "scatterternary"
           }
          ],
          "surface": [
           {
            "colorbar": {
             "outlinewidth": 0,
             "ticks": ""
            },
            "colorscale": [
             [
              0,
              "#0d0887"
             ],
             [
              0.1111111111111111,
              "#46039f"
             ],
             [
              0.2222222222222222,
              "#7201a8"
             ],
             [
              0.3333333333333333,
              "#9c179e"
             ],
             [
              0.4444444444444444,
              "#bd3786"
             ],
             [
              0.5555555555555556,
              "#d8576b"
             ],
             [
              0.6666666666666666,
              "#ed7953"
             ],
             [
              0.7777777777777778,
              "#fb9f3a"
             ],
             [
              0.8888888888888888,
              "#fdca26"
             ],
             [
              1,
              "#f0f921"
             ]
            ],
            "type": "surface"
           }
          ],
          "table": [
           {
            "cells": {
             "fill": {
              "color": "#EBF0F8"
             },
             "line": {
              "color": "white"
             }
            },
            "header": {
             "fill": {
              "color": "#C8D4E3"
             },
             "line": {
              "color": "white"
             }
            },
            "type": "table"
           }
          ]
         },
         "layout": {
          "annotationdefaults": {
           "arrowcolor": "#2a3f5f",
           "arrowhead": 0,
           "arrowwidth": 1
          },
          "autotypenumbers": "strict",
          "coloraxis": {
           "colorbar": {
            "outlinewidth": 0,
            "ticks": ""
           }
          },
          "colorscale": {
           "diverging": [
            [
             0,
             "#8e0152"
            ],
            [
             0.1,
             "#c51b7d"
            ],
            [
             0.2,
             "#de77ae"
            ],
            [
             0.3,
             "#f1b6da"
            ],
            [
             0.4,
             "#fde0ef"
            ],
            [
             0.5,
             "#f7f7f7"
            ],
            [
             0.6,
             "#e6f5d0"
            ],
            [
             0.7,
             "#b8e186"
            ],
            [
             0.8,
             "#7fbc41"
            ],
            [
             0.9,
             "#4d9221"
            ],
            [
             1,
             "#276419"
            ]
           ],
           "sequential": [
            [
             0,
             "#0d0887"
            ],
            [
             0.1111111111111111,
             "#46039f"
            ],
            [
             0.2222222222222222,
             "#7201a8"
            ],
            [
             0.3333333333333333,
             "#9c179e"
            ],
            [
             0.4444444444444444,
             "#bd3786"
            ],
            [
             0.5555555555555556,
             "#d8576b"
            ],
            [
             0.6666666666666666,
             "#ed7953"
            ],
            [
             0.7777777777777778,
             "#fb9f3a"
            ],
            [
             0.8888888888888888,
             "#fdca26"
            ],
            [
             1,
             "#f0f921"
            ]
           ],
           "sequentialminus": [
            [
             0,
             "#0d0887"
            ],
            [
             0.1111111111111111,
             "#46039f"
            ],
            [
             0.2222222222222222,
             "#7201a8"
            ],
            [
             0.3333333333333333,
             "#9c179e"
            ],
            [
             0.4444444444444444,
             "#bd3786"
            ],
            [
             0.5555555555555556,
             "#d8576b"
            ],
            [
             0.6666666666666666,
             "#ed7953"
            ],
            [
             0.7777777777777778,
             "#fb9f3a"
            ],
            [
             0.8888888888888888,
             "#fdca26"
            ],
            [
             1,
             "#f0f921"
            ]
           ]
          },
          "colorway": [
           "#636efa",
           "#EF553B",
           "#00cc96",
           "#ab63fa",
           "#FFA15A",
           "#19d3f3",
           "#FF6692",
           "#B6E880",
           "#FF97FF",
           "#FECB52"
          ],
          "font": {
           "color": "#2a3f5f"
          },
          "geo": {
           "bgcolor": "white",
           "lakecolor": "white",
           "landcolor": "white",
           "showlakes": true,
           "showland": true,
           "subunitcolor": "#C8D4E3"
          },
          "hoverlabel": {
           "align": "left"
          },
          "hovermode": "closest",
          "mapbox": {
           "style": "light"
          },
          "paper_bgcolor": "white",
          "plot_bgcolor": "white",
          "polar": {
           "angularaxis": {
            "gridcolor": "#EBF0F8",
            "linecolor": "#EBF0F8",
            "ticks": ""
           },
           "bgcolor": "white",
           "radialaxis": {
            "gridcolor": "#EBF0F8",
            "linecolor": "#EBF0F8",
            "ticks": ""
           }
          },
          "scene": {
           "xaxis": {
            "backgroundcolor": "white",
            "gridcolor": "#DFE8F3",
            "gridwidth": 2,
            "linecolor": "#EBF0F8",
            "showbackground": true,
            "ticks": "",
            "zerolinecolor": "#EBF0F8"
           },
           "yaxis": {
            "backgroundcolor": "white",
            "gridcolor": "#DFE8F3",
            "gridwidth": 2,
            "linecolor": "#EBF0F8",
            "showbackground": true,
            "ticks": "",
            "zerolinecolor": "#EBF0F8"
           },
           "zaxis": {
            "backgroundcolor": "white",
            "gridcolor": "#DFE8F3",
            "gridwidth": 2,
            "linecolor": "#EBF0F8",
            "showbackground": true,
            "ticks": "",
            "zerolinecolor": "#EBF0F8"
           }
          },
          "shapedefaults": {
           "line": {
            "color": "#2a3f5f"
           }
          },
          "ternary": {
           "aaxis": {
            "gridcolor": "#DFE8F3",
            "linecolor": "#A2B1C6",
            "ticks": ""
           },
           "baxis": {
            "gridcolor": "#DFE8F3",
            "linecolor": "#A2B1C6",
            "ticks": ""
           },
           "bgcolor": "white",
           "caxis": {
            "gridcolor": "#DFE8F3",
            "linecolor": "#A2B1C6",
            "ticks": ""
           }
          },
          "title": {
           "x": 0.05
          },
          "xaxis": {
           "automargin": true,
           "gridcolor": "#EBF0F8",
           "linecolor": "#EBF0F8",
           "ticks": "",
           "title": {
            "standoff": 15
           },
           "zerolinecolor": "#EBF0F8",
           "zerolinewidth": 2
          },
          "yaxis": {
           "automargin": true,
           "gridcolor": "#EBF0F8",
           "linecolor": "#EBF0F8",
           "ticks": "",
           "title": {
            "standoff": 15
           },
           "zerolinecolor": "#EBF0F8",
           "zerolinewidth": 2
          }
         }
        },
        "width": 800,
        "xaxis": {
         "anchor": "y",
         "domain": [
          0,
          1
         ],
         "range": [
          0,
          65
         ],
         "tickfont": {
          "size": 18
         },
         "title": {
          "font": {
           "size": 24
          },
          "text": "Numer badania"
         }
        },
        "yaxis": {
         "anchor": "x",
         "domain": [
          0,
          1
         ],
         "range": [
          0,
          180
         ],
         "tickfont": {
          "size": 18
         },
         "title": {
          "font": {
           "size": 24
          },
          "text": "Miernik sumy negatywnych wyników"
         }
        }
       }
      }
     },
     "metadata": {},
     "output_type": "display_data"
    }
   ],
   "source": [
    "# Podziel dane na dwie ramki danych\n",
    "df_zgon_0 = df_miernik_df[df_miernik_df['ZGON'] == 0]\n",
    "df_zgon_1 = df_miernik_df[df_miernik_df['ZGON'] == 1]\n",
    "\n",
    "# fig0 = make_subplots(rows=1, cols=2, subplot_titles=['Zgon: nie', 'Zgon: tak'])\n",
    "# Wykres dla ZGON=0\n",
    "fig1 = px.line(df_zgon_0, x='BADANIE_NR', y='Miernik neg_sum skum.', color='PACJENT_NR', \n",
    "              labels={'BADANIE_NR': 'BADANIE_NR', 'Miernik neg_sum skum.': 'Miernik', 'PACJENT_NR': 'Pacjent'}, width=800, height=800)\n",
    "fig1.update_xaxes(title_text='Numer badania')\n",
    "fig1.update_yaxes(title_text='Miernik sumy negatywnych wyników')\n",
    "fig1.update_layout(showlegend=False)\n",
    "\n",
    "# Wykres dla ZGON=1\n",
    "fig2 = px.line(df_zgon_1, x='BADANIE_NR', y='Miernik neg_sum skum.', color='PACJENT_NR', \n",
    "               labels={'BADANIE_NR': 'BADANIE_NR', 'Miernik neg_sum skum.': 'Miernik', 'PACJENT_NR': 'Pacjent'}, width=800, height=800)\n",
    "fig2.update_xaxes(title_text='Numer badania')\n",
    "fig2.update_yaxes(title_text='Miernik sumy negatywnych wyników')\n",
    "fig2.update_layout(showlegend=False)\n",
    "\n",
    "fig1.update_yaxes(range=[0, 180])\n",
    "fig2.update_yaxes(range=[0, 180])\n",
    "\n",
    "fig1.update_xaxes(range=[0, 65])\n",
    "fig2.update_xaxes(range=[0, 65])\n",
    "\n",
    "fig1.update_layout(\n",
    "    xaxis=dict(\n",
    "        tickfont=dict(size=18),\n",
    "        title_font=dict(size=20),\n",
    "    ),\n",
    "    yaxis=dict(\n",
    "        tickfont=dict(size=18),\n",
    "        title_font=dict(size=20)\n",
    "    )\n",
    ")\n",
    "fig2.update_layout(\n",
    "    xaxis=dict(\n",
    "        tickfont=dict(size=18),\n",
    "        title_font=dict(size=24),\n",
    "    ),\n",
    "    yaxis=dict(\n",
    "        tickfont=dict(size=18),\n",
    "        title_font=dict(size=24)\n",
    "    )\n",
    ")\n",
    "fig1.update_layout(template=\"plotly_white\")\n",
    "fig2.update_layout(template=\"plotly_white\")\n",
    "# Wyświetl oba wykresy\n",
    "fig1.show()\n",
    "fig2.show()\n",
    "fig1.write_image(\"images4/\"+\"miernik_pacjenci_wyleczeni\"+ \".png\", width=1000, height=800, scale=4, format=\"png\")\n",
    "fig2.write_image(\"images4/\"+\"miernik_pacjenci_zmarli\"+ \".png\", width=1000, height=800, scale=4, format=\"png\")\n",
    "fig1.write_html(\"images4/miernik_pacjenci_wyleczeni.html\")\n",
    "fig2.write_html(\"images4/miernik_pacjenci_zmarli.html\")\n",
    "# fig0.write_html(\"ph_skumulowane.html\")\n"
   ]
  },
  {
   "cell_type": "markdown",
   "metadata": {},
   "source": [
    "### PCA na podstawie ostatnich wartości cols2=[\"BETET\",\t\"CO2TET\",\t\"O2TET\", \"IONH\"]"
   ]
  },
  {
   "cell_type": "code",
   "execution_count": 98,
   "metadata": {},
   "outputs": [
    {
     "data": {
      "text/plain": [
       "array([0.56480056, 0.28938469])"
      ]
     },
     "execution_count": 98,
     "metadata": {},
     "output_type": "execute_result"
    }
   ],
   "source": [
    "X_train, X_test, y_train, y_test = train_test_split(df_miernik_last, df_miernik_last[\"ZGON\"], \n",
    "                                                    stratify=df_miernik_last[\"ZGON\"], test_size=odsetek, random_state=42)\n",
    "\n",
    "X_data=X_train[cols2].reset_index(drop=True)\n",
    "y_data=y_train\n",
    "\n",
    "pca = PCA(n_components=2)\n",
    "components = pca.fit_transform(X_data)\n",
    "\n",
    "components_df = pd.DataFrame(components, columns=['Czynnik 1', 'Czynnik 2'])\n",
    "\n",
    "train_data_reset_index = df_miernik_last.reset_index(drop=True)\n",
    "components_df_reset_index = components_df.reset_index(drop=True)\n",
    "\n",
    "merged_data = pd.concat([train_data_reset_index, components_df_reset_index], axis=1)\n",
    "merged_data\n",
    "\n",
    "pca.explained_variance_ratio_.sum()\n",
    "pca.explained_variance_ratio_\n"
   ]
  },
  {
   "cell_type": "code",
   "execution_count": 99,
   "metadata": {},
   "outputs": [
    {
     "data": {
      "application/vnd.plotly.v1+json": {
       "config": {
        "plotlyServerURL": "https://plot.ly"
       },
       "data": [
        {
         "hovertemplate": "Czy pacjent zmarł?=nie<br>Czynnik 1=%{x}<br>Czynnik 2=%{y}<extra></extra>",
         "legendgroup": "nie",
         "marker": {
          "color": "#636efa",
          "opacity": 0.8,
          "size": 14,
          "symbol": "circle"
         },
         "mode": "markers",
         "name": "nie",
         "orientation": "v",
         "showlegend": true,
         "textposition": "top center",
         "type": "scatter",
         "x": [
          -0.31910189186503485,
          0.4052961323646595,
          2.0918222116447747,
          3.8537757297075927,
          -0.3338020644111319,
          -1.8426156584591662,
          -0.6088027958226008,
          -1.4784839127165879,
          1.1825726701126942,
          -1.9148066993231974,
          -1.4895750050138696,
          6.189900500329008,
          -1.8352714697037689,
          -0.5766865925291438,
          -2.157040709550932,
          -1.4906069200218937,
          -2.15654555299714,
          9.95509836700382,
          -0.2939053484600909,
          -0.14576529703368796,
          -1.8588474091310012,
          -1.1781696206936993,
          -0.6603881715252394,
          1.034289008727125,
          1.1618716986493336,
          -2.0955856357166667,
          3.326737628923032,
          0.0769300975784178,
          -0.8190366892266918,
          0.8704210950140722,
          2.6612807880134395,
          -1.1019817839464405,
          -1.3062616925802193,
          -0.5734316236082833,
          -1.1911170521776975,
          3.5359384171941635,
          -0.18696540952590293,
          -2.9950682941179023,
          3.0250908611279543,
          -1.5426708102904303,
          -2.1673112344329186,
          -1.059044059252755,
          -1.7934320812461666,
          -1.7570519296215117,
          null,
          null,
          null,
          null,
          null,
          null,
          null,
          null
         ],
         "xaxis": "x",
         "y": [
          -1.8180148786696744,
          -0.9943376932146037,
          -6.135362717292645,
          2.6866966508007972,
          0.06842515732661593,
          0.41970371902980014,
          -1.211756933964227,
          -0.9659101391551483,
          2.6739456308292935,
          0.8481982968012579,
          0.05712845915936902,
          6.821690939266861,
          0.9606571947457415,
          1.8219367905674113,
          0.5756021989107153,
          1.4781410728609583,
          1.0199884584104404,
          -1.5478608406363303,
          -2.2786594697794373,
          -1.11031348601171,
          0.23879629102444774,
          -1.4331112767881988,
          -0.8845093377840689,
          1.965709282459963,
          2.24096117687606,
          0.10447616146384245,
          2.5531027868089438,
          -0.27285543290075814,
          -1.5274902226725398,
          -4.218929563491527,
          -1.265050258597291,
          0.27848609951068215,
          -0.3658678433807164,
          0.4292027840498834,
          3.1436672246734916,
          -0.4965049372670619,
          -1.5993687260431948,
          1.4545974905254189,
          -2.3114232524084026,
          -0.2181549385579414,
          -0.7709765091093431,
          -0.29025744018947836,
          0.30328250801061724,
          -0.8422038318319894,
          null,
          null,
          null,
          null,
          null,
          null,
          null,
          null
         ],
         "yaxis": "y"
        },
        {
         "hovertemplate": "Czy pacjent zmarł?=tak<br>Czynnik 1=%{x}<br>Czynnik 2=%{y}<extra></extra>",
         "legendgroup": "tak",
         "marker": {
          "color": "#EF553B",
          "opacity": 0.8,
          "size": 14,
          "symbol": "circle"
         },
         "mode": "markers",
         "name": "tak",
         "orientation": "v",
         "showlegend": true,
         "textposition": "top center",
         "type": "scatter",
         "x": [
          -1.3532547377095037,
          3.96391709326005,
          -1.7352240510786374,
          0.3007500466574518,
          1.8301870510507894,
          -2.371049204436731,
          2.228947264160041,
          -0.4298260487156822,
          1.79583131466539,
          -1.9426024900195147,
          4.339623532235025,
          12.61944353395617,
          -0.8313681619786849,
          2.039121314838088,
          0.7555292519317569,
          -1.9383785255076666,
          -0.926843795565371,
          -0.1547852975416249,
          -2.4383890768137917,
          1.8327444758438975,
          1.7194299826334232,
          -1.3958040010590231,
          -2.291176861875792,
          -1.689808625260389,
          -2.116747201307371,
          3.565623036435589,
          -1.5355869686833856,
          -1.1126404533007361,
          -1.11061671477366,
          -1.5210480663929264,
          -0.23755995345576877,
          -2.456564163875028,
          -1.7653019859800225,
          -2.023665900254671,
          -1.6765927040426685,
          -0.9374926762071225,
          1.820385120676185,
          -0.5572986033293196,
          1.4185451126117747,
          -2.0954348286104625,
          -2.02666882456838,
          null,
          null,
          null,
          null,
          null,
          null,
          null,
          null,
          null,
          null,
          null,
          null,
          null,
          null
         ],
         "xaxis": "x",
         "y": [
          1.2367302090075403,
          2.8319375150176334,
          -0.48096498729784204,
          -2.2965470229773484,
          1.8620857365532708,
          -0.3608136706458926,
          -2.408955778494049,
          2.227664908281094,
          1.9572612496045632,
          -0.014555983081015383,
          -3.022016226018194,
          -2.511602285334055,
          -0.11950928263448735,
          -3.107677433979389,
          -1.5090926544021548,
          1.2067938481666316,
          -1.3079917519660857,
          1.8356670828519703,
          -0.625482449465243,
          1.7879662265272909,
          1.0338101542794702,
          -1.088041647554939,
          -0.0891700391213222,
          -0.015579762338996514,
          0.7111263666274804,
          2.924232982617929,
          -1.541770248697116,
          -0.25257406770356783,
          0.09549611731231501,
          0.5164802834544362,
          -0.627064698355775,
          1.9505513963565477,
          0.49077836633033517,
          -0.10574843002630459,
          0.5690193248227663,
          -2.5374188100497426,
          2.9378609767089796,
          -0.316642330771356,
          1.0362923317353163,
          -0.6307592823272598,
          -1.8272528773797725,
          null,
          null,
          null,
          null,
          null,
          null,
          null,
          null,
          null,
          null,
          null,
          null,
          null,
          null
         ],
         "yaxis": "y"
        }
       ],
       "layout": {
        "legend": {
         "font": {
          "size": 18
         },
         "title": {
          "font": {
           "size": 18
          },
          "text": "Czy pacjent zmarł?"
         },
         "tracegroupgap": 0
        },
        "margin": {
         "t": 60
        },
        "template": {
         "data": {
          "bar": [
           {
            "error_x": {
             "color": "#2a3f5f"
            },
            "error_y": {
             "color": "#2a3f5f"
            },
            "marker": {
             "line": {
              "color": "white",
              "width": 0.5
             },
             "pattern": {
              "fillmode": "overlay",
              "size": 10,
              "solidity": 0.2
             }
            },
            "type": "bar"
           }
          ],
          "barpolar": [
           {
            "marker": {
             "line": {
              "color": "white",
              "width": 0.5
             },
             "pattern": {
              "fillmode": "overlay",
              "size": 10,
              "solidity": 0.2
             }
            },
            "type": "barpolar"
           }
          ],
          "carpet": [
           {
            "aaxis": {
             "endlinecolor": "#2a3f5f",
             "gridcolor": "#C8D4E3",
             "linecolor": "#C8D4E3",
             "minorgridcolor": "#C8D4E3",
             "startlinecolor": "#2a3f5f"
            },
            "baxis": {
             "endlinecolor": "#2a3f5f",
             "gridcolor": "#C8D4E3",
             "linecolor": "#C8D4E3",
             "minorgridcolor": "#C8D4E3",
             "startlinecolor": "#2a3f5f"
            },
            "type": "carpet"
           }
          ],
          "choropleth": [
           {
            "colorbar": {
             "outlinewidth": 0,
             "ticks": ""
            },
            "type": "choropleth"
           }
          ],
          "contour": [
           {
            "colorbar": {
             "outlinewidth": 0,
             "ticks": ""
            },
            "colorscale": [
             [
              0,
              "#0d0887"
             ],
             [
              0.1111111111111111,
              "#46039f"
             ],
             [
              0.2222222222222222,
              "#7201a8"
             ],
             [
              0.3333333333333333,
              "#9c179e"
             ],
             [
              0.4444444444444444,
              "#bd3786"
             ],
             [
              0.5555555555555556,
              "#d8576b"
             ],
             [
              0.6666666666666666,
              "#ed7953"
             ],
             [
              0.7777777777777778,
              "#fb9f3a"
             ],
             [
              0.8888888888888888,
              "#fdca26"
             ],
             [
              1,
              "#f0f921"
             ]
            ],
            "type": "contour"
           }
          ],
          "contourcarpet": [
           {
            "colorbar": {
             "outlinewidth": 0,
             "ticks": ""
            },
            "type": "contourcarpet"
           }
          ],
          "heatmap": [
           {
            "colorbar": {
             "outlinewidth": 0,
             "ticks": ""
            },
            "colorscale": [
             [
              0,
              "#0d0887"
             ],
             [
              0.1111111111111111,
              "#46039f"
             ],
             [
              0.2222222222222222,
              "#7201a8"
             ],
             [
              0.3333333333333333,
              "#9c179e"
             ],
             [
              0.4444444444444444,
              "#bd3786"
             ],
             [
              0.5555555555555556,
              "#d8576b"
             ],
             [
              0.6666666666666666,
              "#ed7953"
             ],
             [
              0.7777777777777778,
              "#fb9f3a"
             ],
             [
              0.8888888888888888,
              "#fdca26"
             ],
             [
              1,
              "#f0f921"
             ]
            ],
            "type": "heatmap"
           }
          ],
          "heatmapgl": [
           {
            "colorbar": {
             "outlinewidth": 0,
             "ticks": ""
            },
            "colorscale": [
             [
              0,
              "#0d0887"
             ],
             [
              0.1111111111111111,
              "#46039f"
             ],
             [
              0.2222222222222222,
              "#7201a8"
             ],
             [
              0.3333333333333333,
              "#9c179e"
             ],
             [
              0.4444444444444444,
              "#bd3786"
             ],
             [
              0.5555555555555556,
              "#d8576b"
             ],
             [
              0.6666666666666666,
              "#ed7953"
             ],
             [
              0.7777777777777778,
              "#fb9f3a"
             ],
             [
              0.8888888888888888,
              "#fdca26"
             ],
             [
              1,
              "#f0f921"
             ]
            ],
            "type": "heatmapgl"
           }
          ],
          "histogram": [
           {
            "marker": {
             "pattern": {
              "fillmode": "overlay",
              "size": 10,
              "solidity": 0.2
             }
            },
            "type": "histogram"
           }
          ],
          "histogram2d": [
           {
            "colorbar": {
             "outlinewidth": 0,
             "ticks": ""
            },
            "colorscale": [
             [
              0,
              "#0d0887"
             ],
             [
              0.1111111111111111,
              "#46039f"
             ],
             [
              0.2222222222222222,
              "#7201a8"
             ],
             [
              0.3333333333333333,
              "#9c179e"
             ],
             [
              0.4444444444444444,
              "#bd3786"
             ],
             [
              0.5555555555555556,
              "#d8576b"
             ],
             [
              0.6666666666666666,
              "#ed7953"
             ],
             [
              0.7777777777777778,
              "#fb9f3a"
             ],
             [
              0.8888888888888888,
              "#fdca26"
             ],
             [
              1,
              "#f0f921"
             ]
            ],
            "type": "histogram2d"
           }
          ],
          "histogram2dcontour": [
           {
            "colorbar": {
             "outlinewidth": 0,
             "ticks": ""
            },
            "colorscale": [
             [
              0,
              "#0d0887"
             ],
             [
              0.1111111111111111,
              "#46039f"
             ],
             [
              0.2222222222222222,
              "#7201a8"
             ],
             [
              0.3333333333333333,
              "#9c179e"
             ],
             [
              0.4444444444444444,
              "#bd3786"
             ],
             [
              0.5555555555555556,
              "#d8576b"
             ],
             [
              0.6666666666666666,
              "#ed7953"
             ],
             [
              0.7777777777777778,
              "#fb9f3a"
             ],
             [
              0.8888888888888888,
              "#fdca26"
             ],
             [
              1,
              "#f0f921"
             ]
            ],
            "type": "histogram2dcontour"
           }
          ],
          "mesh3d": [
           {
            "colorbar": {
             "outlinewidth": 0,
             "ticks": ""
            },
            "type": "mesh3d"
           }
          ],
          "parcoords": [
           {
            "line": {
             "colorbar": {
              "outlinewidth": 0,
              "ticks": ""
             }
            },
            "type": "parcoords"
           }
          ],
          "pie": [
           {
            "automargin": true,
            "type": "pie"
           }
          ],
          "scatter": [
           {
            "marker": {
             "colorbar": {
              "outlinewidth": 0,
              "ticks": ""
             }
            },
            "type": "scatter"
           }
          ],
          "scatter3d": [
           {
            "line": {
             "colorbar": {
              "outlinewidth": 0,
              "ticks": ""
             }
            },
            "marker": {
             "colorbar": {
              "outlinewidth": 0,
              "ticks": ""
             }
            },
            "type": "scatter3d"
           }
          ],
          "scattercarpet": [
           {
            "marker": {
             "colorbar": {
              "outlinewidth": 0,
              "ticks": ""
             }
            },
            "type": "scattercarpet"
           }
          ],
          "scattergeo": [
           {
            "marker": {
             "colorbar": {
              "outlinewidth": 0,
              "ticks": ""
             }
            },
            "type": "scattergeo"
           }
          ],
          "scattergl": [
           {
            "marker": {
             "colorbar": {
              "outlinewidth": 0,
              "ticks": ""
             }
            },
            "type": "scattergl"
           }
          ],
          "scattermapbox": [
           {
            "marker": {
             "colorbar": {
              "outlinewidth": 0,
              "ticks": ""
             }
            },
            "type": "scattermapbox"
           }
          ],
          "scatterpolar": [
           {
            "marker": {
             "colorbar": {
              "outlinewidth": 0,
              "ticks": ""
             }
            },
            "type": "scatterpolar"
           }
          ],
          "scatterpolargl": [
           {
            "marker": {
             "colorbar": {
              "outlinewidth": 0,
              "ticks": ""
             }
            },
            "type": "scatterpolargl"
           }
          ],
          "scatterternary": [
           {
            "marker": {
             "colorbar": {
              "outlinewidth": 0,
              "ticks": ""
             }
            },
            "type": "scatterternary"
           }
          ],
          "surface": [
           {
            "colorbar": {
             "outlinewidth": 0,
             "ticks": ""
            },
            "colorscale": [
             [
              0,
              "#0d0887"
             ],
             [
              0.1111111111111111,
              "#46039f"
             ],
             [
              0.2222222222222222,
              "#7201a8"
             ],
             [
              0.3333333333333333,
              "#9c179e"
             ],
             [
              0.4444444444444444,
              "#bd3786"
             ],
             [
              0.5555555555555556,
              "#d8576b"
             ],
             [
              0.6666666666666666,
              "#ed7953"
             ],
             [
              0.7777777777777778,
              "#fb9f3a"
             ],
             [
              0.8888888888888888,
              "#fdca26"
             ],
             [
              1,
              "#f0f921"
             ]
            ],
            "type": "surface"
           }
          ],
          "table": [
           {
            "cells": {
             "fill": {
              "color": "#EBF0F8"
             },
             "line": {
              "color": "white"
             }
            },
            "header": {
             "fill": {
              "color": "#C8D4E3"
             },
             "line": {
              "color": "white"
             }
            },
            "type": "table"
           }
          ]
         },
         "layout": {
          "annotationdefaults": {
           "arrowcolor": "#2a3f5f",
           "arrowhead": 0,
           "arrowwidth": 1
          },
          "autotypenumbers": "strict",
          "coloraxis": {
           "colorbar": {
            "outlinewidth": 0,
            "ticks": ""
           }
          },
          "colorscale": {
           "diverging": [
            [
             0,
             "#8e0152"
            ],
            [
             0.1,
             "#c51b7d"
            ],
            [
             0.2,
             "#de77ae"
            ],
            [
             0.3,
             "#f1b6da"
            ],
            [
             0.4,
             "#fde0ef"
            ],
            [
             0.5,
             "#f7f7f7"
            ],
            [
             0.6,
             "#e6f5d0"
            ],
            [
             0.7,
             "#b8e186"
            ],
            [
             0.8,
             "#7fbc41"
            ],
            [
             0.9,
             "#4d9221"
            ],
            [
             1,
             "#276419"
            ]
           ],
           "sequential": [
            [
             0,
             "#0d0887"
            ],
            [
             0.1111111111111111,
             "#46039f"
            ],
            [
             0.2222222222222222,
             "#7201a8"
            ],
            [
             0.3333333333333333,
             "#9c179e"
            ],
            [
             0.4444444444444444,
             "#bd3786"
            ],
            [
             0.5555555555555556,
             "#d8576b"
            ],
            [
             0.6666666666666666,
             "#ed7953"
            ],
            [
             0.7777777777777778,
             "#fb9f3a"
            ],
            [
             0.8888888888888888,
             "#fdca26"
            ],
            [
             1,
             "#f0f921"
            ]
           ],
           "sequentialminus": [
            [
             0,
             "#0d0887"
            ],
            [
             0.1111111111111111,
             "#46039f"
            ],
            [
             0.2222222222222222,
             "#7201a8"
            ],
            [
             0.3333333333333333,
             "#9c179e"
            ],
            [
             0.4444444444444444,
             "#bd3786"
            ],
            [
             0.5555555555555556,
             "#d8576b"
            ],
            [
             0.6666666666666666,
             "#ed7953"
            ],
            [
             0.7777777777777778,
             "#fb9f3a"
            ],
            [
             0.8888888888888888,
             "#fdca26"
            ],
            [
             1,
             "#f0f921"
            ]
           ]
          },
          "colorway": [
           "#636efa",
           "#EF553B",
           "#00cc96",
           "#ab63fa",
           "#FFA15A",
           "#19d3f3",
           "#FF6692",
           "#B6E880",
           "#FF97FF",
           "#FECB52"
          ],
          "font": {
           "color": "#2a3f5f"
          },
          "geo": {
           "bgcolor": "white",
           "lakecolor": "white",
           "landcolor": "white",
           "showlakes": true,
           "showland": true,
           "subunitcolor": "#C8D4E3"
          },
          "hoverlabel": {
           "align": "left"
          },
          "hovermode": "closest",
          "mapbox": {
           "style": "light"
          },
          "paper_bgcolor": "white",
          "plot_bgcolor": "white",
          "polar": {
           "angularaxis": {
            "gridcolor": "#EBF0F8",
            "linecolor": "#EBF0F8",
            "ticks": ""
           },
           "bgcolor": "white",
           "radialaxis": {
            "gridcolor": "#EBF0F8",
            "linecolor": "#EBF0F8",
            "ticks": ""
           }
          },
          "scene": {
           "xaxis": {
            "backgroundcolor": "white",
            "gridcolor": "#DFE8F3",
            "gridwidth": 2,
            "linecolor": "#EBF0F8",
            "showbackground": true,
            "ticks": "",
            "zerolinecolor": "#EBF0F8"
           },
           "yaxis": {
            "backgroundcolor": "white",
            "gridcolor": "#DFE8F3",
            "gridwidth": 2,
            "linecolor": "#EBF0F8",
            "showbackground": true,
            "ticks": "",
            "zerolinecolor": "#EBF0F8"
           },
           "zaxis": {
            "backgroundcolor": "white",
            "gridcolor": "#DFE8F3",
            "gridwidth": 2,
            "linecolor": "#EBF0F8",
            "showbackground": true,
            "ticks": "",
            "zerolinecolor": "#EBF0F8"
           }
          },
          "shapedefaults": {
           "line": {
            "color": "#2a3f5f"
           }
          },
          "ternary": {
           "aaxis": {
            "gridcolor": "#DFE8F3",
            "linecolor": "#A2B1C6",
            "ticks": ""
           },
           "baxis": {
            "gridcolor": "#DFE8F3",
            "linecolor": "#A2B1C6",
            "ticks": ""
           },
           "bgcolor": "white",
           "caxis": {
            "gridcolor": "#DFE8F3",
            "linecolor": "#A2B1C6",
            "ticks": ""
           }
          },
          "title": {
           "x": 0.05
          },
          "xaxis": {
           "automargin": true,
           "gridcolor": "#EBF0F8",
           "linecolor": "#EBF0F8",
           "ticks": "",
           "title": {
            "standoff": 15
           },
           "zerolinecolor": "#EBF0F8",
           "zerolinewidth": 2
          },
          "yaxis": {
           "automargin": true,
           "gridcolor": "#EBF0F8",
           "linecolor": "#EBF0F8",
           "ticks": "",
           "title": {
            "standoff": 15
           },
           "zerolinecolor": "#EBF0F8",
           "zerolinewidth": 2
          }
         }
        },
        "width": 800,
        "xaxis": {
         "anchor": "y",
         "domain": [
          0,
          1
         ],
         "tickfont": {
          "size": 18
         },
         "title": {
          "font": {
           "size": 20
          },
          "text": "Czynnik 1"
         }
        },
        "yaxis": {
         "anchor": "x",
         "domain": [
          0,
          1
         ],
         "tickfont": {
          "size": 18
         },
         "title": {
          "font": {
           "size": 20
          },
          "text": "Czynnik 2"
         }
        }
       }
      }
     },
     "metadata": {},
     "output_type": "display_data"
    }
   ],
   "source": [
    "merged_data['ZGON'] = merged_data['ZGON'].astype(str)\n",
    "\n",
    "merged_data['Czy pacjent zmarł?'] = merged_data['ZGON'].map({'1.0': 'tak', '0.0': 'nie'})\n",
    "\n",
    "fig = px.scatter(merged_data, x='Czynnik 1', y='Czynnik 2', color='Czy pacjent zmarł?', width=800, opacity=0.8) #text=\"PACJENT_NR\")\n",
    "fig.update_traces(textposition='top center', showlegend=True, marker_size=14) \n",
    "\n",
    "fig.update_layout(\n",
    "    xaxis=dict(\n",
    "        tickfont=dict(size=18),\n",
    "        title_font=dict(size=20),\n",
    "    ),\n",
    "    yaxis=dict(\n",
    "        tickfont=dict(size=18),\n",
    "        title_font=dict(size=20)\n",
    "    )\n",
    ")\n",
    "fig.update_layout(legend = dict(font = dict( size = 18)),\n",
    "                  legend_title = dict(font = dict(size = 18)))\n",
    "fig.update_layout(template=\"plotly_white\")\n",
    "fig.show()\n",
    "fig.write_image(\"images4/\"+\"pca_miernik\"+ \".png\", width=1000, height=600, scale=4, format=\"png\")\n"
   ]
  },
  {
   "cell_type": "markdown",
   "metadata": {},
   "source": [
    "### PCA 3D na podsyawie ostatnich wartości negatywnych odchyleń"
   ]
  },
  {
   "cell_type": "code",
   "execution_count": 121,
   "metadata": {},
   "outputs": [
    {
     "data": {
      "text/html": [
       "<div>\n",
       "<style scoped>\n",
       "    .dataframe tbody tr th:only-of-type {\n",
       "        vertical-align: middle;\n",
       "    }\n",
       "\n",
       "    .dataframe tbody tr th {\n",
       "        vertical-align: top;\n",
       "    }\n",
       "\n",
       "    .dataframe thead th {\n",
       "        text-align: right;\n",
       "    }\n",
       "</style>\n",
       "<table border=\"1\" class=\"dataframe\">\n",
       "  <thead>\n",
       "    <tr style=\"text-align: right;\">\n",
       "      <th></th>\n",
       "      <th>BETET</th>\n",
       "      <th>CO2TET</th>\n",
       "      <th>O2TET</th>\n",
       "      <th>IONH</th>\n",
       "      <th>BETET_neg</th>\n",
       "      <th>O2TET_neg</th>\n",
       "      <th>IONH_neg</th>\n",
       "      <th>CO2TET_neg</th>\n",
       "      <th>BETET_all</th>\n",
       "      <th>O2TET_all</th>\n",
       "      <th>IONH_all</th>\n",
       "      <th>CO2TET_all</th>\n",
       "      <th>Miernik</th>\n",
       "    </tr>\n",
       "  </thead>\n",
       "  <tbody>\n",
       "    <tr>\n",
       "      <th>0</th>\n",
       "      <td>0.326087</td>\n",
       "      <td>2.21</td>\n",
       "      <td>-0.720</td>\n",
       "      <td>1.882698</td>\n",
       "      <td>0.000000</td>\n",
       "      <td>0.72</td>\n",
       "      <td>0.882698</td>\n",
       "      <td>1.21</td>\n",
       "      <td>0.000000</td>\n",
       "      <td>0.72</td>\n",
       "      <td>0.882698</td>\n",
       "      <td>1.21</td>\n",
       "      <td>3.698785</td>\n",
       "    </tr>\n",
       "    <tr>\n",
       "      <th>1</th>\n",
       "      <td>0.086957</td>\n",
       "      <td>5.22</td>\n",
       "      <td>4.880</td>\n",
       "      <td>3.297125</td>\n",
       "      <td>0.000000</td>\n",
       "      <td>0.00</td>\n",
       "      <td>2.297125</td>\n",
       "      <td>4.22</td>\n",
       "      <td>0.000000</td>\n",
       "      <td>3.88</td>\n",
       "      <td>2.297125</td>\n",
       "      <td>4.22</td>\n",
       "      <td>13.484082</td>\n",
       "    </tr>\n",
       "    <tr>\n",
       "      <th>2</th>\n",
       "      <td>0.760870</td>\n",
       "      <td>3.10</td>\n",
       "      <td>6.000</td>\n",
       "      <td>2.201643</td>\n",
       "      <td>0.000000</td>\n",
       "      <td>0.00</td>\n",
       "      <td>1.201643</td>\n",
       "      <td>2.10</td>\n",
       "      <td>0.000000</td>\n",
       "      <td>5.00</td>\n",
       "      <td>1.201643</td>\n",
       "      <td>2.10</td>\n",
       "      <td>12.062512</td>\n",
       "    </tr>\n",
       "    <tr>\n",
       "      <th>3</th>\n",
       "      <td>0.869565</td>\n",
       "      <td>2.75</td>\n",
       "      <td>1.440</td>\n",
       "      <td>1.882698</td>\n",
       "      <td>0.000000</td>\n",
       "      <td>0.00</td>\n",
       "      <td>0.882698</td>\n",
       "      <td>1.75</td>\n",
       "      <td>0.000000</td>\n",
       "      <td>0.44</td>\n",
       "      <td>0.882698</td>\n",
       "      <td>1.75</td>\n",
       "      <td>6.942263</td>\n",
       "    </tr>\n",
       "    <tr>\n",
       "      <th>4</th>\n",
       "      <td>0.608696</td>\n",
       "      <td>2.61</td>\n",
       "      <td>2.800</td>\n",
       "      <td>1.970160</td>\n",
       "      <td>0.000000</td>\n",
       "      <td>0.00</td>\n",
       "      <td>0.970160</td>\n",
       "      <td>1.61</td>\n",
       "      <td>0.000000</td>\n",
       "      <td>1.80</td>\n",
       "      <td>0.970160</td>\n",
       "      <td>1.61</td>\n",
       "      <td>7.988855</td>\n",
       "    </tr>\n",
       "    <tr>\n",
       "      <th>...</th>\n",
       "      <td>...</td>\n",
       "      <td>...</td>\n",
       "      <td>...</td>\n",
       "      <td>...</td>\n",
       "      <td>...</td>\n",
       "      <td>...</td>\n",
       "      <td>...</td>\n",
       "      <td>...</td>\n",
       "      <td>...</td>\n",
       "      <td>...</td>\n",
       "      <td>...</td>\n",
       "      <td>...</td>\n",
       "      <td>...</td>\n",
       "    </tr>\n",
       "    <tr>\n",
       "      <th>2929</th>\n",
       "      <td>-0.717391</td>\n",
       "      <td>1.63</td>\n",
       "      <td>0.420</td>\n",
       "      <td>2.294287</td>\n",
       "      <td>0.717391</td>\n",
       "      <td>0.00</td>\n",
       "      <td>1.294287</td>\n",
       "      <td>0.63</td>\n",
       "      <td>0.717391</td>\n",
       "      <td>0.00</td>\n",
       "      <td>1.294287</td>\n",
       "      <td>0.63</td>\n",
       "      <td>3.626896</td>\n",
       "    </tr>\n",
       "    <tr>\n",
       "      <th>2930</th>\n",
       "      <td>-0.891304</td>\n",
       "      <td>1.39</td>\n",
       "      <td>1.640</td>\n",
       "      <td>2.254399</td>\n",
       "      <td>0.891304</td>\n",
       "      <td>0.00</td>\n",
       "      <td>1.254399</td>\n",
       "      <td>0.39</td>\n",
       "      <td>0.891304</td>\n",
       "      <td>0.64</td>\n",
       "      <td>1.254399</td>\n",
       "      <td>0.39</td>\n",
       "      <td>4.393095</td>\n",
       "    </tr>\n",
       "    <tr>\n",
       "      <th>2931</th>\n",
       "      <td>-1.065217</td>\n",
       "      <td>1.71</td>\n",
       "      <td>0.316</td>\n",
       "      <td>2.708690</td>\n",
       "      <td>1.065217</td>\n",
       "      <td>0.00</td>\n",
       "      <td>1.708690</td>\n",
       "      <td>0.71</td>\n",
       "      <td>1.065217</td>\n",
       "      <td>0.00</td>\n",
       "      <td>1.708690</td>\n",
       "      <td>0.71</td>\n",
       "      <td>3.669473</td>\n",
       "    </tr>\n",
       "    <tr>\n",
       "      <th>2932</th>\n",
       "      <td>-0.695652</td>\n",
       "      <td>1.15</td>\n",
       "      <td>1.600</td>\n",
       "      <td>1.857967</td>\n",
       "      <td>0.695652</td>\n",
       "      <td>0.00</td>\n",
       "      <td>0.857967</td>\n",
       "      <td>0.15</td>\n",
       "      <td>0.695652</td>\n",
       "      <td>0.60</td>\n",
       "      <td>0.857967</td>\n",
       "      <td>0.15</td>\n",
       "      <td>3.912314</td>\n",
       "    </tr>\n",
       "    <tr>\n",
       "      <th>2933</th>\n",
       "      <td>-0.978261</td>\n",
       "      <td>1.36</td>\n",
       "      <td>-0.660</td>\n",
       "      <td>2.294287</td>\n",
       "      <td>0.978261</td>\n",
       "      <td>0.66</td>\n",
       "      <td>1.294287</td>\n",
       "      <td>0.36</td>\n",
       "      <td>0.978261</td>\n",
       "      <td>0.66</td>\n",
       "      <td>1.294287</td>\n",
       "      <td>0.36</td>\n",
       "      <td>2.016026</td>\n",
       "    </tr>\n",
       "  </tbody>\n",
       "</table>\n",
       "<p>2934 rows × 13 columns</p>\n",
       "</div>"
      ],
      "text/plain": [
       "         BETET  CO2TET  O2TET      IONH  BETET_neg  O2TET_neg  IONH_neg  \\\n",
       "0     0.326087    2.21 -0.720  1.882698   0.000000       0.72  0.882698   \n",
       "1     0.086957    5.22  4.880  3.297125   0.000000       0.00  2.297125   \n",
       "2     0.760870    3.10  6.000  2.201643   0.000000       0.00  1.201643   \n",
       "3     0.869565    2.75  1.440  1.882698   0.000000       0.00  0.882698   \n",
       "4     0.608696    2.61  2.800  1.970160   0.000000       0.00  0.970160   \n",
       "...        ...     ...    ...       ...        ...        ...       ...   \n",
       "2929 -0.717391    1.63  0.420  2.294287   0.717391       0.00  1.294287   \n",
       "2930 -0.891304    1.39  1.640  2.254399   0.891304       0.00  1.254399   \n",
       "2931 -1.065217    1.71  0.316  2.708690   1.065217       0.00  1.708690   \n",
       "2932 -0.695652    1.15  1.600  1.857967   0.695652       0.00  0.857967   \n",
       "2933 -0.978261    1.36 -0.660  2.294287   0.978261       0.66  1.294287   \n",
       "\n",
       "      CO2TET_neg  BETET_all  O2TET_all  IONH_all  CO2TET_all    Miernik  \n",
       "0           1.21   0.000000       0.72  0.882698        1.21   3.698785  \n",
       "1           4.22   0.000000       3.88  2.297125        4.22  13.484082  \n",
       "2           2.10   0.000000       5.00  1.201643        2.10  12.062512  \n",
       "3           1.75   0.000000       0.44  0.882698        1.75   6.942263  \n",
       "4           1.61   0.000000       1.80  0.970160        1.61   7.988855  \n",
       "...          ...        ...        ...       ...         ...        ...  \n",
       "2929        0.63   0.717391       0.00  1.294287        0.63   3.626896  \n",
       "2930        0.39   0.891304       0.64  1.254399        0.39   4.393095  \n",
       "2931        0.71   1.065217       0.00  1.708690        0.71   3.669473  \n",
       "2932        0.15   0.695652       0.60  0.857967        0.15   3.912314  \n",
       "2933        0.36   0.978261       0.66  1.294287        0.36   2.016026  \n",
       "\n",
       "[2934 rows x 13 columns]"
      ]
     },
     "execution_count": 121,
     "metadata": {},
     "output_type": "execute_result"
    }
   ],
   "source": [
    "df_miernik"
   ]
  },
  {
   "cell_type": "code",
   "execution_count": 100,
   "metadata": {},
   "outputs": [
    {
     "name": "stdout",
     "output_type": "stream",
     "text": [
      "Accuracy: 0.8636363636363636\n",
      "Balanced accuracy: 0.8928571428571428\n",
      "Precision: 0.9008264462809918\n",
      "Sensivity (recall): 0.8636363636363636\n",
      "F1-Score: 0.8662200956937799\n"
     ]
    },
    {
     "data": {
      "text/plain": [
       "array([[ 0.10609772,  0.01654745,  0.77360133,  0.62450815],\n",
       "       [ 0.51439963, -0.0598182 , -0.57822057,  0.6304568 ],\n",
       "       [ 0.13711839,  0.98994907, -0.01464623, -0.03138269]])"
      ]
     },
     "execution_count": 100,
     "metadata": {},
     "output_type": "execute_result"
    }
   ],
   "source": [
    "train_data, test_data = train_test_split(df_miernik_last, test_size=0.2, stratify=df_miernik_last[\"ZGON\"], random_state=42)\n",
    "\n",
    "X_train=train_data[col_neg].reset_index(drop=True)\n",
    "y_train=train_data[\"ZGON\"].reset_index(drop=True)\n",
    "\n",
    "X_test=test_data[col_neg].reset_index(drop=True)\n",
    "y_test=test_data[\"ZGON\"].reset_index(drop=True)\n",
    "\n",
    "pca = PCA(n_components=3)\n",
    "X_train_pca = pca.fit_transform(X_train)\n",
    "\n",
    "# model = RandomForestClassifier(random_state=42)\n",
    "# model.fit(X_train_pca, y_train)\n",
    "lda = LinearDiscriminantAnalysis()\n",
    "lda.fit(X_train_pca, y_train)\n",
    "X_test_pca = pca.transform(X_test)\n",
    "y_pred=lda.predict(X_test_pca)\n",
    "\n",
    "# w = lda.coef_[0]\n",
    "# b = lda.intercept_\n",
    "\n",
    "# print(w)\n",
    "\n",
    "# Przewidywanie na danych testowych po redukcji wymiarowości\n",
    "# y_pred = model.predict(X_test_pca)\n",
    "\n",
    "accuracy_assessment(y_pred, y_test)\n",
    "pca.explained_variance_ratio_\n",
    "# confusion_matrix(y_pred, y_test)\n",
    "pca.components_"
   ]
  },
  {
   "cell_type": "code",
   "execution_count": null,
   "metadata": {},
   "outputs": [
    {
     "data": {
      "text/plain": [
       "['BETET_neg', 'O2TET_neg', 'CO2TET_neg', 'IONH_neg']"
      ]
     },
     "execution_count": 620,
     "metadata": {},
     "output_type": "execute_result"
    }
   ],
   "source": [
    "col_neg"
   ]
  },
  {
   "cell_type": "code",
   "execution_count": 101,
   "metadata": {},
   "outputs": [],
   "source": [
    "components_df2 = pd.DataFrame(X_train_pca, columns=['Czynnik 1', 'Czynnik 2', 'Czynnik 3'])\n",
    "\n",
    "train_data_reset_index = train_data.reset_index(drop=True)\n",
    "components_df_reset_index = components_df2.reset_index(drop=True)\n",
    "\n",
    "merged_data = pd.concat([train_data_reset_index, components_df_reset_index], axis=1)\n",
    "# merged_data"
   ]
  },
  {
   "cell_type": "code",
   "execution_count": 102,
   "metadata": {},
   "outputs": [
    {
     "data": {
      "application/vnd.plotly.v1+json": {
       "config": {
        "plotlyServerURL": "https://plot.ly"
       },
       "data": [
        {
         "hovertemplate": "Czy pacjent zmarł?=nie<br>Czynnik 1=%{x}<br>Czynnik 2=%{y}<br>Czynnik 3=%{z}<extra></extra>",
         "legendgroup": "nie",
         "marker": {
          "color": "#636efa",
          "opacity": 0.8,
          "size": 6,
          "symbol": "circle"
         },
         "mode": "markers",
         "name": "nie",
         "scene": "scene",
         "showlegend": true,
         "textposition": "top center",
         "type": "scatter3d",
         "x": [
          -0.18812001040096618,
          -1.3345723502658104,
          -1.3345723502658104,
          -0.5259231948386236,
          -1.3036282969068516,
          -1.3345723502658104,
          0.46693972340864076,
          -1.3345723502658104,
          -1.3345723502658104,
          -1.3345723502658104,
          -1.3345723502658104,
          -1.334506160457839,
          -1.213948665033756,
          -1.3345723502658104,
          -0.47207746792144206,
          -1.3345723502658104,
          -1.3325866560266582,
          -1.3345723502658104,
          -0.5687070296315706,
          -1.2769538042942399,
          -1.3345723502658104,
          -0.6775161522728396,
          -1.3345723502658104,
          -0.8085234431635046,
          -1.2185321501697137,
          -1.3137887505626842,
          -1.3148477874902318,
          -1.3093540334285771,
          -1.3345723502658104,
          -1.3276529336047396,
          -1.3345723502658104,
          -1.3345723502658104,
          -0.3979606351146593,
          -1.3345723502658104,
          -1.0293351876145944,
          -1.164380056791535,
          -1.3345723502658104,
          -1.1563130944119366,
          -1.3345723502658104,
          -1.2572122168684126,
          -1.0483398566954376
         ],
         "y": [
          -0.8410561225297041,
          0.020213590225489117,
          0.020213590225489117,
          -0.595970712375426,
          -0.0029152324342992864,
          0.020213590225489117,
          -1.2600691542294524,
          0.020213590225489117,
          0.020213590225489117,
          0.020213590225489117,
          0.020213590225489117,
          0.0199743174279663,
          -0.1274547410682406,
          0.020213590225489117,
          -0.7018879229781136,
          0.020213590225489117,
          0.01303540629980425,
          0.020213590225489117,
          -0.552224770604275,
          -0.09934216983599972,
          0.020213590225489117,
          -0.535997843850505,
          0.020213590225489117,
          -0.37297639499091423,
          -0.0665194947487175,
          -0.05491806819667944,
          -0.05108970343631424,
          -0.07094934563070932,
          0.020213590225489117,
          0.053761392366797396,
          0.020213590225489117,
          0.020213590225489117,
          -0.7479856125489661,
          0.020213590225489117,
          -0.28461202391183027,
          -0.10699493440334744,
          0.020213590225489117,
          -0.11397350405590846,
          0.020213590225489117,
          -0.03760846642398209,
          -0.19372801937755427
         ],
         "z": [
          -0.2702772492297449,
          -0.3396761504098669,
          -0.3396761504098669,
          -0.10940085524741998,
          -0.34026199941668805,
          -0.3396761504098669,
          -0.37496409031196354,
          -0.3396761504098669,
          -0.3396761504098669,
          -0.3396761504098669,
          -0.3396761504098669,
          -0.335716354130193,
          0.85823811305923,
          -0.3396761504098669,
          1.2601028085130126,
          -0.3396761504098669,
          -0.22088226201964256,
          -0.3396761504098669,
          -0.3541759133286906,
          1.2555359012919922,
          -0.3396761504098669,
          1.0065240688785309,
          -0.3396761504098669,
          -0.34963558352582663,
          -0.3418730841854462,
          0.9036998814078144,
          0.8403431409330282,
          1.169006232145982,
          -0.3396761504098669,
          -0.3307336464627751,
          -0.3396761504098669,
          -0.3396761504098669,
          1.0646081682919266,
          -0.3396761504098669,
          1.2548089055170975,
          -0.34289831994738323,
          -0.3396761504098669,
          -0.32324580080071774,
          -0.3396761504098669,
          -0.3411407729269198,
          -0.3450952537229626
         ]
        },
        {
         "hovertemplate": "Czy pacjent zmarł?=tak<br>Czynnik 1=%{x}<br>Czynnik 2=%{y}<br>Czynnik 3=%{z}<extra></extra>",
         "legendgroup": "tak",
         "marker": {
          "color": "#EF553B",
          "opacity": 0.8,
          "size": 6,
          "symbol": "circle"
         },
         "mode": "markers",
         "name": "tak",
         "scene": "scene",
         "showlegend": true,
         "textposition": "top center",
         "type": "scatter3d",
         "x": [
          0.09681523129527772,
          2.9488935409228536,
          2.785068451955462,
          -0.7853154031442847,
          2.570043455025605,
          -0.7621073631250658,
          -0.008658941801675382,
          -1.3345723502658104,
          0.7467716527903061,
          4.333480709910966,
          2.1862188861985006,
          -1.221377538189086,
          -0.9557238355814162,
          0.6130236613159129,
          4.359242342492742,
          12.477412473695834,
          9.773998940362087,
          0.1352701842847509,
          2.1431307965056328,
          0.6389805940142094,
          -0.8325093724924771,
          -0.9038544275574003,
          -1.0207375771708913,
          -0.13307054226493137,
          0.0685754361084397,
          0.7118781774324449,
          0.6298102890785572,
          2.1133148531027723,
          -0.37676944509809746,
          -1.3345723502658104,
          1.5498435929145689,
          -1.3213343886714628,
          2.533733005634326,
          2.222534454998869,
          -1.1746892784492187,
          -0.48361088289443266,
          -1.1795512695076886,
          -1.3345723502658104,
          2.7314387881624183,
          0.11979815760527146,
          0.5120119565314234,
          2.803211040610047,
          0.4577251057798882,
          -1.3036282969068516
         ],
         "y": [
          -0.914572500952303,
          -2.865585589693061,
          2.2386372024744134,
          -0.390323011985756,
          2.5233751297688007,
          -0.407669628980597,
          1.7418294186725989,
          0.020213590225489117,
          1.1323134464150582,
          7.161951275464615,
          -1.688952008671196,
          0.3451498680080388,
          0.7125663137984882,
          1.1922165928317776,
          -2.1331603193036557,
          -1.035334466111766,
          -0.6430980286261477,
          -1.078405486114462,
          -1.9880003946891673,
          -1.0184300012066465,
          -0.39718392771624694,
          -0.3389229839961295,
          0.5680965239480136,
          1.091783225185745,
          1.3575831996245455,
          1.070626393761026,
          0.32556246835731506,
          2.128444514814568,
          -0.45360226622430067,
          0.020213590225489117,
          -2.1546941968871196,
          -0.02764096927907679,
          -1.2123750426516495,
          2.5192925387957574,
          -0.11409380128023382,
          -0.6158290329186932,
          0.7522316059418006,
          0.020213590225489117,
          -0.7411817855632928,
          -1.0668410747845678,
          2.1280695542040413,
          -1.688978721193074,
          0.2950789259979508,
          -0.0029152324342992864
         ],
         "z": [
          -0.3533533566882726,
          1.061679475361245,
          -0.20617574313877823,
          -0.3500749702809425,
          0.7499241924348863,
          -0.3505143570360584,
          -0.17018674158351346,
          -0.3396761504098669,
          0.02966240043927088,
          0.03690113250209233,
          -0.027009786910733163,
          -0.2472639248494576,
          -0.25032811825538415,
          0.5036101498310718,
          0.10078298221005803,
          -0.7240734730086077,
          -0.6406088662600898,
          -0.36750397823387193,
          0.29632413843304023,
          -0.3848208954145859,
          0.5301715018203602,
          0.42853495881417986,
          0.0672607924683795,
          0.40193694956750253,
          -0.23302925011417913,
          0.31428803515244647,
          0.9123340242355438,
          0.02377721555433699,
          -0.36212512455024093,
          -0.3396761504098669,
          0.0018195199231797012,
          0.4522831055249621,
          -0.4424812643142528,
          0.3780157872534206,
          -0.033741285629389536,
          -0.35578699809744885,
          -0.14617820206309928,
          -0.3396761504098669,
          0.9516712156035854,
          -0.36721105373046137,
          0.2111418513779016,
          0.625892074123103,
          0.17535101077044937,
          -0.34026199941668805
         ]
        }
       ],
       "layout": {
        "legend": {
         "font": {
          "size": 14
         },
         "title": {
          "font": {
           "size": 14
          },
          "text": "Czy pacjent zmarł?"
         },
         "tracegroupgap": 0
        },
        "margin": {
         "t": 60
        },
        "scene": {
         "domain": {
          "x": [
           0,
           1
          ],
          "y": [
           0,
           1
          ]
         },
         "xaxis": {
          "tickfont": {
           "size": 14
          },
          "title": {
           "text": "Czynnik 1"
          }
         },
         "yaxis": {
          "tickfont": {
           "size": 14
          },
          "title": {
           "text": "Czynnik 2"
          }
         },
         "zaxis": {
          "tickfont": {
           "size": 14
          },
          "title": {
           "text": "Czynnik 3"
          }
         }
        },
        "template": {
         "data": {
          "bar": [
           {
            "error_x": {
             "color": "#2a3f5f"
            },
            "error_y": {
             "color": "#2a3f5f"
            },
            "marker": {
             "line": {
              "color": "white",
              "width": 0.5
             },
             "pattern": {
              "fillmode": "overlay",
              "size": 10,
              "solidity": 0.2
             }
            },
            "type": "bar"
           }
          ],
          "barpolar": [
           {
            "marker": {
             "line": {
              "color": "white",
              "width": 0.5
             },
             "pattern": {
              "fillmode": "overlay",
              "size": 10,
              "solidity": 0.2
             }
            },
            "type": "barpolar"
           }
          ],
          "carpet": [
           {
            "aaxis": {
             "endlinecolor": "#2a3f5f",
             "gridcolor": "#C8D4E3",
             "linecolor": "#C8D4E3",
             "minorgridcolor": "#C8D4E3",
             "startlinecolor": "#2a3f5f"
            },
            "baxis": {
             "endlinecolor": "#2a3f5f",
             "gridcolor": "#C8D4E3",
             "linecolor": "#C8D4E3",
             "minorgridcolor": "#C8D4E3",
             "startlinecolor": "#2a3f5f"
            },
            "type": "carpet"
           }
          ],
          "choropleth": [
           {
            "colorbar": {
             "outlinewidth": 0,
             "ticks": ""
            },
            "type": "choropleth"
           }
          ],
          "contour": [
           {
            "colorbar": {
             "outlinewidth": 0,
             "ticks": ""
            },
            "colorscale": [
             [
              0,
              "#0d0887"
             ],
             [
              0.1111111111111111,
              "#46039f"
             ],
             [
              0.2222222222222222,
              "#7201a8"
             ],
             [
              0.3333333333333333,
              "#9c179e"
             ],
             [
              0.4444444444444444,
              "#bd3786"
             ],
             [
              0.5555555555555556,
              "#d8576b"
             ],
             [
              0.6666666666666666,
              "#ed7953"
             ],
             [
              0.7777777777777778,
              "#fb9f3a"
             ],
             [
              0.8888888888888888,
              "#fdca26"
             ],
             [
              1,
              "#f0f921"
             ]
            ],
            "type": "contour"
           }
          ],
          "contourcarpet": [
           {
            "colorbar": {
             "outlinewidth": 0,
             "ticks": ""
            },
            "type": "contourcarpet"
           }
          ],
          "heatmap": [
           {
            "colorbar": {
             "outlinewidth": 0,
             "ticks": ""
            },
            "colorscale": [
             [
              0,
              "#0d0887"
             ],
             [
              0.1111111111111111,
              "#46039f"
             ],
             [
              0.2222222222222222,
              "#7201a8"
             ],
             [
              0.3333333333333333,
              "#9c179e"
             ],
             [
              0.4444444444444444,
              "#bd3786"
             ],
             [
              0.5555555555555556,
              "#d8576b"
             ],
             [
              0.6666666666666666,
              "#ed7953"
             ],
             [
              0.7777777777777778,
              "#fb9f3a"
             ],
             [
              0.8888888888888888,
              "#fdca26"
             ],
             [
              1,
              "#f0f921"
             ]
            ],
            "type": "heatmap"
           }
          ],
          "heatmapgl": [
           {
            "colorbar": {
             "outlinewidth": 0,
             "ticks": ""
            },
            "colorscale": [
             [
              0,
              "#0d0887"
             ],
             [
              0.1111111111111111,
              "#46039f"
             ],
             [
              0.2222222222222222,
              "#7201a8"
             ],
             [
              0.3333333333333333,
              "#9c179e"
             ],
             [
              0.4444444444444444,
              "#bd3786"
             ],
             [
              0.5555555555555556,
              "#d8576b"
             ],
             [
              0.6666666666666666,
              "#ed7953"
             ],
             [
              0.7777777777777778,
              "#fb9f3a"
             ],
             [
              0.8888888888888888,
              "#fdca26"
             ],
             [
              1,
              "#f0f921"
             ]
            ],
            "type": "heatmapgl"
           }
          ],
          "histogram": [
           {
            "marker": {
             "pattern": {
              "fillmode": "overlay",
              "size": 10,
              "solidity": 0.2
             }
            },
            "type": "histogram"
           }
          ],
          "histogram2d": [
           {
            "colorbar": {
             "outlinewidth": 0,
             "ticks": ""
            },
            "colorscale": [
             [
              0,
              "#0d0887"
             ],
             [
              0.1111111111111111,
              "#46039f"
             ],
             [
              0.2222222222222222,
              "#7201a8"
             ],
             [
              0.3333333333333333,
              "#9c179e"
             ],
             [
              0.4444444444444444,
              "#bd3786"
             ],
             [
              0.5555555555555556,
              "#d8576b"
             ],
             [
              0.6666666666666666,
              "#ed7953"
             ],
             [
              0.7777777777777778,
              "#fb9f3a"
             ],
             [
              0.8888888888888888,
              "#fdca26"
             ],
             [
              1,
              "#f0f921"
             ]
            ],
            "type": "histogram2d"
           }
          ],
          "histogram2dcontour": [
           {
            "colorbar": {
             "outlinewidth": 0,
             "ticks": ""
            },
            "colorscale": [
             [
              0,
              "#0d0887"
             ],
             [
              0.1111111111111111,
              "#46039f"
             ],
             [
              0.2222222222222222,
              "#7201a8"
             ],
             [
              0.3333333333333333,
              "#9c179e"
             ],
             [
              0.4444444444444444,
              "#bd3786"
             ],
             [
              0.5555555555555556,
              "#d8576b"
             ],
             [
              0.6666666666666666,
              "#ed7953"
             ],
             [
              0.7777777777777778,
              "#fb9f3a"
             ],
             [
              0.8888888888888888,
              "#fdca26"
             ],
             [
              1,
              "#f0f921"
             ]
            ],
            "type": "histogram2dcontour"
           }
          ],
          "mesh3d": [
           {
            "colorbar": {
             "outlinewidth": 0,
             "ticks": ""
            },
            "type": "mesh3d"
           }
          ],
          "parcoords": [
           {
            "line": {
             "colorbar": {
              "outlinewidth": 0,
              "ticks": ""
             }
            },
            "type": "parcoords"
           }
          ],
          "pie": [
           {
            "automargin": true,
            "type": "pie"
           }
          ],
          "scatter": [
           {
            "marker": {
             "colorbar": {
              "outlinewidth": 0,
              "ticks": ""
             }
            },
            "type": "scatter"
           }
          ],
          "scatter3d": [
           {
            "line": {
             "colorbar": {
              "outlinewidth": 0,
              "ticks": ""
             }
            },
            "marker": {
             "colorbar": {
              "outlinewidth": 0,
              "ticks": ""
             }
            },
            "type": "scatter3d"
           }
          ],
          "scattercarpet": [
           {
            "marker": {
             "colorbar": {
              "outlinewidth": 0,
              "ticks": ""
             }
            },
            "type": "scattercarpet"
           }
          ],
          "scattergeo": [
           {
            "marker": {
             "colorbar": {
              "outlinewidth": 0,
              "ticks": ""
             }
            },
            "type": "scattergeo"
           }
          ],
          "scattergl": [
           {
            "marker": {
             "colorbar": {
              "outlinewidth": 0,
              "ticks": ""
             }
            },
            "type": "scattergl"
           }
          ],
          "scattermapbox": [
           {
            "marker": {
             "colorbar": {
              "outlinewidth": 0,
              "ticks": ""
             }
            },
            "type": "scattermapbox"
           }
          ],
          "scatterpolar": [
           {
            "marker": {
             "colorbar": {
              "outlinewidth": 0,
              "ticks": ""
             }
            },
            "type": "scatterpolar"
           }
          ],
          "scatterpolargl": [
           {
            "marker": {
             "colorbar": {
              "outlinewidth": 0,
              "ticks": ""
             }
            },
            "type": "scatterpolargl"
           }
          ],
          "scatterternary": [
           {
            "marker": {
             "colorbar": {
              "outlinewidth": 0,
              "ticks": ""
             }
            },
            "type": "scatterternary"
           }
          ],
          "surface": [
           {
            "colorbar": {
             "outlinewidth": 0,
             "ticks": ""
            },
            "colorscale": [
             [
              0,
              "#0d0887"
             ],
             [
              0.1111111111111111,
              "#46039f"
             ],
             [
              0.2222222222222222,
              "#7201a8"
             ],
             [
              0.3333333333333333,
              "#9c179e"
             ],
             [
              0.4444444444444444,
              "#bd3786"
             ],
             [
              0.5555555555555556,
              "#d8576b"
             ],
             [
              0.6666666666666666,
              "#ed7953"
             ],
             [
              0.7777777777777778,
              "#fb9f3a"
             ],
             [
              0.8888888888888888,
              "#fdca26"
             ],
             [
              1,
              "#f0f921"
             ]
            ],
            "type": "surface"
           }
          ],
          "table": [
           {
            "cells": {
             "fill": {
              "color": "#EBF0F8"
             },
             "line": {
              "color": "white"
             }
            },
            "header": {
             "fill": {
              "color": "#C8D4E3"
             },
             "line": {
              "color": "white"
             }
            },
            "type": "table"
           }
          ]
         },
         "layout": {
          "annotationdefaults": {
           "arrowcolor": "#2a3f5f",
           "arrowhead": 0,
           "arrowwidth": 1
          },
          "autotypenumbers": "strict",
          "coloraxis": {
           "colorbar": {
            "outlinewidth": 0,
            "ticks": ""
           }
          },
          "colorscale": {
           "diverging": [
            [
             0,
             "#8e0152"
            ],
            [
             0.1,
             "#c51b7d"
            ],
            [
             0.2,
             "#de77ae"
            ],
            [
             0.3,
             "#f1b6da"
            ],
            [
             0.4,
             "#fde0ef"
            ],
            [
             0.5,
             "#f7f7f7"
            ],
            [
             0.6,
             "#e6f5d0"
            ],
            [
             0.7,
             "#b8e186"
            ],
            [
             0.8,
             "#7fbc41"
            ],
            [
             0.9,
             "#4d9221"
            ],
            [
             1,
             "#276419"
            ]
           ],
           "sequential": [
            [
             0,
             "#0d0887"
            ],
            [
             0.1111111111111111,
             "#46039f"
            ],
            [
             0.2222222222222222,
             "#7201a8"
            ],
            [
             0.3333333333333333,
             "#9c179e"
            ],
            [
             0.4444444444444444,
             "#bd3786"
            ],
            [
             0.5555555555555556,
             "#d8576b"
            ],
            [
             0.6666666666666666,
             "#ed7953"
            ],
            [
             0.7777777777777778,
             "#fb9f3a"
            ],
            [
             0.8888888888888888,
             "#fdca26"
            ],
            [
             1,
             "#f0f921"
            ]
           ],
           "sequentialminus": [
            [
             0,
             "#0d0887"
            ],
            [
             0.1111111111111111,
             "#46039f"
            ],
            [
             0.2222222222222222,
             "#7201a8"
            ],
            [
             0.3333333333333333,
             "#9c179e"
            ],
            [
             0.4444444444444444,
             "#bd3786"
            ],
            [
             0.5555555555555556,
             "#d8576b"
            ],
            [
             0.6666666666666666,
             "#ed7953"
            ],
            [
             0.7777777777777778,
             "#fb9f3a"
            ],
            [
             0.8888888888888888,
             "#fdca26"
            ],
            [
             1,
             "#f0f921"
            ]
           ]
          },
          "colorway": [
           "#636efa",
           "#EF553B",
           "#00cc96",
           "#ab63fa",
           "#FFA15A",
           "#19d3f3",
           "#FF6692",
           "#B6E880",
           "#FF97FF",
           "#FECB52"
          ],
          "font": {
           "color": "#2a3f5f"
          },
          "geo": {
           "bgcolor": "white",
           "lakecolor": "white",
           "landcolor": "white",
           "showlakes": true,
           "showland": true,
           "subunitcolor": "#C8D4E3"
          },
          "hoverlabel": {
           "align": "left"
          },
          "hovermode": "closest",
          "mapbox": {
           "style": "light"
          },
          "paper_bgcolor": "white",
          "plot_bgcolor": "white",
          "polar": {
           "angularaxis": {
            "gridcolor": "#EBF0F8",
            "linecolor": "#EBF0F8",
            "ticks": ""
           },
           "bgcolor": "white",
           "radialaxis": {
            "gridcolor": "#EBF0F8",
            "linecolor": "#EBF0F8",
            "ticks": ""
           }
          },
          "scene": {
           "xaxis": {
            "backgroundcolor": "white",
            "gridcolor": "#DFE8F3",
            "gridwidth": 2,
            "linecolor": "#EBF0F8",
            "showbackground": true,
            "ticks": "",
            "zerolinecolor": "#EBF0F8"
           },
           "yaxis": {
            "backgroundcolor": "white",
            "gridcolor": "#DFE8F3",
            "gridwidth": 2,
            "linecolor": "#EBF0F8",
            "showbackground": true,
            "ticks": "",
            "zerolinecolor": "#EBF0F8"
           },
           "zaxis": {
            "backgroundcolor": "white",
            "gridcolor": "#DFE8F3",
            "gridwidth": 2,
            "linecolor": "#EBF0F8",
            "showbackground": true,
            "ticks": "",
            "zerolinecolor": "#EBF0F8"
           }
          },
          "shapedefaults": {
           "line": {
            "color": "#2a3f5f"
           }
          },
          "ternary": {
           "aaxis": {
            "gridcolor": "#DFE8F3",
            "linecolor": "#A2B1C6",
            "ticks": ""
           },
           "baxis": {
            "gridcolor": "#DFE8F3",
            "linecolor": "#A2B1C6",
            "ticks": ""
           },
           "bgcolor": "white",
           "caxis": {
            "gridcolor": "#DFE8F3",
            "linecolor": "#A2B1C6",
            "ticks": ""
           }
          },
          "title": {
           "x": 0.05
          },
          "xaxis": {
           "automargin": true,
           "gridcolor": "#EBF0F8",
           "linecolor": "#EBF0F8",
           "ticks": "",
           "title": {
            "standoff": 15
           },
           "zerolinecolor": "#EBF0F8",
           "zerolinewidth": 2
          },
          "yaxis": {
           "automargin": true,
           "gridcolor": "#EBF0F8",
           "linecolor": "#EBF0F8",
           "ticks": "",
           "title": {
            "standoff": 15
           },
           "zerolinecolor": "#EBF0F8",
           "zerolinewidth": 2
          }
         }
        }
       }
      }
     },
     "metadata": {},
     "output_type": "display_data"
    }
   ],
   "source": [
    "merged_data['ZGON'] = merged_data['ZGON'].astype(str)\n",
    "merged_data['Czy pacjent zmarł?'] = merged_data['ZGON'].map({'1.0': 'tak', '0.0': 'nie'})\n",
    "\n",
    "fig = px.scatter_3d(merged_data, x='Czynnik 1', y='Czynnik 2', z='Czynnik 3', color='Czy pacjent zmarł?', size_max=18, opacity=0.8)\n",
    "fig.update_traces(textposition='top center', marker_size=6)\n",
    "\n",
    "fig.update_layout(\n",
    "    scene=dict(\n",
    "        xaxis=dict(tickfont=dict(size=14)),\n",
    "        yaxis=dict(tickfont=dict(size=14)),\n",
    "        zaxis=dict(tickfont=dict(size=14)),\n",
    "    )\n",
    ")\n",
    "\n",
    "fig.update_layout(legend=dict(font=dict(size=14)), legend_title=dict(font=dict(size=14)))\n",
    "fig.update_layout(template=\"plotly_white\")\n",
    "fig.show()\n",
    "\n",
    "fig.write_image(\"images4/\" + \"pca_miernik_3d\" + \".png\", width=1000, height=600, scale=4, format=\"png\")\n",
    "fig.write_html(\"pca_miernik_3d.html\")"
   ]
  },
  {
   "cell_type": "code",
   "execution_count": 66,
   "metadata": {},
   "outputs": [
    {
     "data": {
      "text/html": [
       "<div>\n",
       "<style scoped>\n",
       "    .dataframe tbody tr th:only-of-type {\n",
       "        vertical-align: middle;\n",
       "    }\n",
       "\n",
       "    .dataframe tbody tr th {\n",
       "        vertical-align: top;\n",
       "    }\n",
       "\n",
       "    .dataframe thead th {\n",
       "        text-align: right;\n",
       "    }\n",
       "</style>\n",
       "<table border=\"1\" class=\"dataframe\">\n",
       "  <thead>\n",
       "    <tr style=\"text-align: right;\">\n",
       "      <th></th>\n",
       "      <th>Czynnik 1</th>\n",
       "      <th>Czynnik 2</th>\n",
       "      <th>Czynnik 3</th>\n",
       "    </tr>\n",
       "  </thead>\n",
       "  <tbody>\n",
       "    <tr>\n",
       "      <th>0</th>\n",
       "      <td>-0.188120</td>\n",
       "      <td>-0.841056</td>\n",
       "      <td>-0.270277</td>\n",
       "    </tr>\n",
       "    <tr>\n",
       "      <th>1</th>\n",
       "      <td>0.096815</td>\n",
       "      <td>-0.914573</td>\n",
       "      <td>-0.353353</td>\n",
       "    </tr>\n",
       "    <tr>\n",
       "      <th>2</th>\n",
       "      <td>2.948894</td>\n",
       "      <td>-2.865586</td>\n",
       "      <td>1.061679</td>\n",
       "    </tr>\n",
       "    <tr>\n",
       "      <th>3</th>\n",
       "      <td>2.785068</td>\n",
       "      <td>2.238637</td>\n",
       "      <td>-0.206176</td>\n",
       "    </tr>\n",
       "    <tr>\n",
       "      <th>4</th>\n",
       "      <td>-0.785315</td>\n",
       "      <td>-0.390323</td>\n",
       "      <td>-0.350075</td>\n",
       "    </tr>\n",
       "    <tr>\n",
       "      <th>...</th>\n",
       "      <td>...</td>\n",
       "      <td>...</td>\n",
       "      <td>...</td>\n",
       "    </tr>\n",
       "    <tr>\n",
       "      <th>80</th>\n",
       "      <td>-1.334572</td>\n",
       "      <td>0.020214</td>\n",
       "      <td>-0.339676</td>\n",
       "    </tr>\n",
       "    <tr>\n",
       "      <th>81</th>\n",
       "      <td>-1.156313</td>\n",
       "      <td>-0.113974</td>\n",
       "      <td>-0.323246</td>\n",
       "    </tr>\n",
       "    <tr>\n",
       "      <th>82</th>\n",
       "      <td>-1.334572</td>\n",
       "      <td>0.020214</td>\n",
       "      <td>-0.339676</td>\n",
       "    </tr>\n",
       "    <tr>\n",
       "      <th>83</th>\n",
       "      <td>-1.257212</td>\n",
       "      <td>-0.037608</td>\n",
       "      <td>-0.341141</td>\n",
       "    </tr>\n",
       "    <tr>\n",
       "      <th>84</th>\n",
       "      <td>-1.048340</td>\n",
       "      <td>-0.193728</td>\n",
       "      <td>-0.345095</td>\n",
       "    </tr>\n",
       "  </tbody>\n",
       "</table>\n",
       "<p>85 rows × 3 columns</p>\n",
       "</div>"
      ],
      "text/plain": [
       "    Czynnik 1  Czynnik 2  Czynnik 3\n",
       "0   -0.188120  -0.841056  -0.270277\n",
       "1    0.096815  -0.914573  -0.353353\n",
       "2    2.948894  -2.865586   1.061679\n",
       "3    2.785068   2.238637  -0.206176\n",
       "4   -0.785315  -0.390323  -0.350075\n",
       "..        ...        ...        ...\n",
       "80  -1.334572   0.020214  -0.339676\n",
       "81  -1.156313  -0.113974  -0.323246\n",
       "82  -1.334572   0.020214  -0.339676\n",
       "83  -1.257212  -0.037608  -0.341141\n",
       "84  -1.048340  -0.193728  -0.345095\n",
       "\n",
       "[85 rows x 3 columns]"
      ]
     },
     "execution_count": 66,
     "metadata": {},
     "output_type": "execute_result"
    }
   ],
   "source": [
    "dane_pca3=merged_data[['Czynnik 1', 'Czynnik 2', 'Czynnik 3']]\n",
    "dane_pca3"
   ]
  },
  {
   "cell_type": "markdown",
   "metadata": {},
   "source": [
    "### LDA - klasyfikacja na podstawie ostatnich wartości ocdchyleń świadczących o kwasicy"
   ]
  },
  {
   "cell_type": "code",
   "execution_count": 67,
   "metadata": {},
   "outputs": [
    {
     "name": "stdout",
     "output_type": "stream",
     "text": [
      "[0.54672764 0.25295341 0.20495296]\n",
      "Accuracy: 0.8636363636363636\n",
      "Balanced accuracy: 0.8928571428571428\n",
      "Precision: 0.9008264462809918\n",
      "Sensivity (recall): 0.8636363636363636\n",
      "F1-Score: 0.8662200956937799\n"
     ]
    }
   ],
   "source": [
    "lda = LinearDiscriminantAnalysis()\n",
    "lda.fit(X_train_pca, y_train)\n",
    "X_test_pca = pca.transform(X_test)\n",
    "y_pred=lda.predict(X_test_pca)\n",
    "\n",
    "w = lda.coef_[0]\n",
    "b = lda.intercept_\n",
    "\n",
    "print(w)\n",
    "accuracy_assessment(y_pred, y_test)\n",
    "\n",
    "# comps=pd.DataFrame(components, columns=[\"Czynnik 1\", \"Czynnik 2\"])\n",
    "# comps[\"PACJENT_NR\"]=train_data.index\n",
    "# comps\n",
    "# color_map = {1.0: 'red', 0.0: 'blue'}\n",
    "# fig = px.scatter(comps, x='Czynnik 1', y='Czynnik 2', color=y_data, color_discrete_map=color_map, width=800)\n",
    "# # # # # fig.write_image(\"images/pca.png\")\n",
    "# fig.show()\n"
   ]
  },
  {
   "cell_type": "code",
   "execution_count": 105,
   "metadata": {},
   "outputs": [],
   "source": [
    "# def suma_iloczynow_wiersza(wiersz):\n",
    "#     return np.sum(wiersz)#* wagi)\n",
    "\n",
    "# df_miernik['Miernik'] = df_miernik[cols2].apply(suma_iloczynow_wiersza, axis=1)"
   ]
  },
  {
   "cell_type": "code",
   "execution_count": 107,
   "metadata": {},
   "outputs": [],
   "source": [
    "# df_miernik_all=pd.DataFrame()\n",
    "# df_miernik_all[[\"PACJENT_NR\", \"BADANIE_NR\", \"ZGON\"]]=df_prep[[\"PACJENT_NR\", \"BADANIE_NR\", \"ZGON\"]]\n",
    "# df_miernik_all[\"Miernik\"]=df_miernik[\"Miernik\"]"
   ]
  },
  {
   "cell_type": "code",
   "execution_count": 114,
   "metadata": {},
   "outputs": [
    {
     "name": "stderr",
     "output_type": "stream",
     "text": [
      "C:\\Users\\dorot\\AppData\\Local\\Temp\\ipykernel_52004\\1603519563.py:2: FutureWarning:\n",
      "\n",
      "A value is trying to be set on a copy of a DataFrame or Series through chained assignment using an inplace method.\n",
      "The behavior will change in pandas 3.0. This inplace method will never work because the intermediate object on which we are setting values always behaves as a copy.\n",
      "\n",
      "For example, when doing 'df[col].method(value, inplace=True)', try using 'df.method({col: value}, inplace=True)' or df[col] = df[col].method(value) instead, to perform the operation inplace on the original object.\n",
      "\n",
      "\n",
      "\n",
      "c:\\Users\\dorot\\AppData\\Local\\Programs\\Python\\Python39\\lib\\site-packages\\seaborn\\_core.py:1006: FutureWarning:\n",
      "\n",
      "When grouping with a length-1 list-like, you will need to pass a length-1 tuple to get_group in a future version of pandas. Pass `(name,)` instead of `name` to silence this warning.\n",
      "\n",
      "c:\\Users\\dorot\\AppData\\Local\\Programs\\Python\\Python39\\lib\\site-packages\\seaborn\\_core.py:1006: FutureWarning:\n",
      "\n",
      "When grouping with a length-1 list-like, you will need to pass a length-1 tuple to get_group in a future version of pandas. Pass `(name,)` instead of `name` to silence this warning.\n",
      "\n"
     ]
    },
    {
     "data": {
      "image/png": "[encoded data removed]",
      "text/plain": [
       "<Figure size 720x540 with 1 Axes>"
      ]
     },
     "metadata": {},
     "output_type": "display_data"
    }
   ],
   "source": [
    "df_line = df_miernik_df.copy()\n",
    "df_line[\"ZGON\"].replace({0: \"nie\", 1: \"tak\"}, inplace=True)\n",
    "\n",
    "plt.figure(figsize=(10, 7.5), facecolor='white')\n",
    "\n",
    "sns.lineplot(data=df_line, x=\"BADANIE_NR\", y='Miernik neg_sum', hue=\"ZGON\", ci='sd',\n",
    "                palette={'nie': my_blue, 'tak': my_red})\n",
    "\n",
    "plt.xlabel('Pomiar')\n",
    "plt.xlim(0, 50)\n",
    "plt.xticks(ticks=[1, 10, 20, 30, 40, 50])\n",
    "plt.legend(title=\"Zgon\")\n",
    "plt.tight_layout()\n",
    "\n",
    "# Pokazywanie obrazu\n",
    "plt.show()"
   ]
  },
  {
   "cell_type": "markdown",
   "metadata": {},
   "source": [
    "### Klasyfikacja w czasie na podstawie ochyleń świadczących o kwasicy"
   ]
  },
  {
   "cell_type": "code",
   "execution_count": 115,
   "metadata": {},
   "outputs": [],
   "source": [
    "from sklearn.model_selection import cross_val_score\n",
    "from sklearn.neighbors import KNeighborsClassifier\n",
    "from sklearn.svm import SVC\n",
    "import pandas as pd\n",
    "from sklearn.model_selection import StratifiedKFold, cross_val_score"
   ]
  },
  {
   "cell_type": "code",
   "execution_count": 116,
   "metadata": {},
   "outputs": [
    {
     "name": "stderr",
     "output_type": "stream",
     "text": [
      "C:\\Users\\dorot\\AppData\\Local\\Temp\\ipykernel_52004\\1819610018.py:34: FutureWarning:\n",
      "\n",
      "The behavior of DataFrame concatenation with empty or all-NA entries is deprecated. In a future version, this will no longer exclude empty or all-NA columns when determining the result dtypes. To retain the old behavior, exclude the relevant entries before the concat operation.\n",
      "\n"
     ]
    },
    {
     "data": {
      "text/html": [
       "<div>\n",
       "<style scoped>\n",
       "    .dataframe tbody tr th:only-of-type {\n",
       "        vertical-align: middle;\n",
       "    }\n",
       "\n",
       "    .dataframe tbody tr th {\n",
       "        vertical-align: top;\n",
       "    }\n",
       "\n",
       "    .dataframe thead th {\n",
       "        text-align: right;\n",
       "    }\n",
       "</style>\n",
       "<table border=\"1\" class=\"dataframe\">\n",
       "  <thead>\n",
       "    <tr style=\"text-align: right;\">\n",
       "      <th></th>\n",
       "      <th>Badanie_NR</th>\n",
       "      <th>LDA</th>\n",
       "      <th>RandomForest</th>\n",
       "      <th>KNeighbors</th>\n",
       "      <th>SVC</th>\n",
       "    </tr>\n",
       "  </thead>\n",
       "  <tbody>\n",
       "    <tr>\n",
       "      <th>0</th>\n",
       "      <td>2</td>\n",
       "      <td>0.542857</td>\n",
       "      <td>0.597835</td>\n",
       "      <td>0.681385</td>\n",
       "      <td>0.606926</td>\n",
       "    </tr>\n",
       "    <tr>\n",
       "      <th>1</th>\n",
       "      <td>3</td>\n",
       "      <td>0.541991</td>\n",
       "      <td>0.673160</td>\n",
       "      <td>0.625541</td>\n",
       "      <td>0.671429</td>\n",
       "    </tr>\n",
       "    <tr>\n",
       "      <th>2</th>\n",
       "      <td>4</td>\n",
       "      <td>0.551082</td>\n",
       "      <td>0.635931</td>\n",
       "      <td>0.569697</td>\n",
       "      <td>0.643723</td>\n",
       "    </tr>\n",
       "    <tr>\n",
       "      <th>3</th>\n",
       "      <td>5</td>\n",
       "      <td>0.598701</td>\n",
       "      <td>0.587446</td>\n",
       "      <td>0.624242</td>\n",
       "      <td>0.634632</td>\n",
       "    </tr>\n",
       "    <tr>\n",
       "      <th>4</th>\n",
       "      <td>6</td>\n",
       "      <td>0.570996</td>\n",
       "      <td>0.625541</td>\n",
       "      <td>0.578788</td>\n",
       "      <td>0.615584</td>\n",
       "    </tr>\n",
       "    <tr>\n",
       "      <th>5</th>\n",
       "      <td>7</td>\n",
       "      <td>0.589177</td>\n",
       "      <td>0.635498</td>\n",
       "      <td>0.579221</td>\n",
       "      <td>0.570996</td>\n",
       "    </tr>\n",
       "    <tr>\n",
       "      <th>6</th>\n",
       "      <td>8</td>\n",
       "      <td>0.644156</td>\n",
       "      <td>0.625541</td>\n",
       "      <td>0.597403</td>\n",
       "      <td>0.589177</td>\n",
       "    </tr>\n",
       "    <tr>\n",
       "      <th>7</th>\n",
       "      <td>9</td>\n",
       "      <td>0.671861</td>\n",
       "      <td>0.568831</td>\n",
       "      <td>0.541126</td>\n",
       "      <td>0.588312</td>\n",
       "    </tr>\n",
       "    <tr>\n",
       "      <th>8</th>\n",
       "      <td>10</td>\n",
       "      <td>0.652814</td>\n",
       "      <td>0.587013</td>\n",
       "      <td>0.578788</td>\n",
       "      <td>0.579221</td>\n",
       "    </tr>\n",
       "    <tr>\n",
       "      <th>9</th>\n",
       "      <td>11</td>\n",
       "      <td>0.635931</td>\n",
       "      <td>0.613853</td>\n",
       "      <td>0.505195</td>\n",
       "      <td>0.569697</td>\n",
       "    </tr>\n",
       "    <tr>\n",
       "      <th>10</th>\n",
       "      <td>12</td>\n",
       "      <td>0.654113</td>\n",
       "      <td>0.634199</td>\n",
       "      <td>0.514286</td>\n",
       "      <td>0.607359</td>\n",
       "    </tr>\n",
       "    <tr>\n",
       "      <th>11</th>\n",
       "      <td>13</td>\n",
       "      <td>0.644589</td>\n",
       "      <td>0.587879</td>\n",
       "      <td>0.504762</td>\n",
       "      <td>0.598268</td>\n",
       "    </tr>\n",
       "    <tr>\n",
       "      <th>12</th>\n",
       "      <td>14</td>\n",
       "      <td>0.681385</td>\n",
       "      <td>0.662771</td>\n",
       "      <td>0.587446</td>\n",
       "      <td>0.616883</td>\n",
       "    </tr>\n",
       "    <tr>\n",
       "      <th>13</th>\n",
       "      <td>15</td>\n",
       "      <td>0.671861</td>\n",
       "      <td>0.652814</td>\n",
       "      <td>0.540260</td>\n",
       "      <td>0.635065</td>\n",
       "    </tr>\n",
       "    <tr>\n",
       "      <th>14</th>\n",
       "      <td>16</td>\n",
       "      <td>0.671861</td>\n",
       "      <td>0.633766</td>\n",
       "      <td>0.615584</td>\n",
       "      <td>0.644589</td>\n",
       "    </tr>\n",
       "    <tr>\n",
       "      <th>15</th>\n",
       "      <td>17</td>\n",
       "      <td>0.681385</td>\n",
       "      <td>0.718182</td>\n",
       "      <td>0.652814</td>\n",
       "      <td>0.635065</td>\n",
       "    </tr>\n",
       "    <tr>\n",
       "      <th>16</th>\n",
       "      <td>18</td>\n",
       "      <td>0.700433</td>\n",
       "      <td>0.690909</td>\n",
       "      <td>0.651515</td>\n",
       "      <td>0.634632</td>\n",
       "    </tr>\n",
       "    <tr>\n",
       "      <th>17</th>\n",
       "      <td>19</td>\n",
       "      <td>0.709524</td>\n",
       "      <td>0.709524</td>\n",
       "      <td>0.585714</td>\n",
       "      <td>0.635065</td>\n",
       "    </tr>\n",
       "    <tr>\n",
       "      <th>18</th>\n",
       "      <td>20</td>\n",
       "      <td>0.709524</td>\n",
       "      <td>0.708225</td>\n",
       "      <td>0.614719</td>\n",
       "      <td>0.662771</td>\n",
       "    </tr>\n",
       "    <tr>\n",
       "      <th>19</th>\n",
       "      <td>21</td>\n",
       "      <td>0.709524</td>\n",
       "      <td>0.708658</td>\n",
       "      <td>0.632468</td>\n",
       "      <td>0.662338</td>\n",
       "    </tr>\n",
       "    <tr>\n",
       "      <th>20</th>\n",
       "      <td>22</td>\n",
       "      <td>0.709524</td>\n",
       "      <td>0.708658</td>\n",
       "      <td>0.641991</td>\n",
       "      <td>0.671861</td>\n",
       "    </tr>\n",
       "    <tr>\n",
       "      <th>21</th>\n",
       "      <td>23</td>\n",
       "      <td>0.700433</td>\n",
       "      <td>0.736797</td>\n",
       "      <td>0.651948</td>\n",
       "      <td>0.662338</td>\n",
       "    </tr>\n",
       "    <tr>\n",
       "      <th>22</th>\n",
       "      <td>24</td>\n",
       "      <td>0.709957</td>\n",
       "      <td>0.727273</td>\n",
       "      <td>0.642424</td>\n",
       "      <td>0.662338</td>\n",
       "    </tr>\n",
       "    <tr>\n",
       "      <th>23</th>\n",
       "      <td>25</td>\n",
       "      <td>0.719048</td>\n",
       "      <td>0.736797</td>\n",
       "      <td>0.651082</td>\n",
       "      <td>0.662338</td>\n",
       "    </tr>\n",
       "    <tr>\n",
       "      <th>24</th>\n",
       "      <td>26</td>\n",
       "      <td>0.729004</td>\n",
       "      <td>0.709091</td>\n",
       "      <td>0.631602</td>\n",
       "      <td>0.671861</td>\n",
       "    </tr>\n",
       "    <tr>\n",
       "      <th>25</th>\n",
       "      <td>27</td>\n",
       "      <td>0.756710</td>\n",
       "      <td>0.690476</td>\n",
       "      <td>0.650649</td>\n",
       "      <td>0.671429</td>\n",
       "    </tr>\n",
       "    <tr>\n",
       "      <th>26</th>\n",
       "      <td>28</td>\n",
       "      <td>0.765801</td>\n",
       "      <td>0.680952</td>\n",
       "      <td>0.632900</td>\n",
       "      <td>0.690476</td>\n",
       "    </tr>\n",
       "    <tr>\n",
       "      <th>27</th>\n",
       "      <td>29</td>\n",
       "      <td>0.756710</td>\n",
       "      <td>0.727273</td>\n",
       "      <td>0.680087</td>\n",
       "      <td>0.671861</td>\n",
       "    </tr>\n",
       "    <tr>\n",
       "      <th>28</th>\n",
       "      <td>30</td>\n",
       "      <td>0.756710</td>\n",
       "      <td>0.709524</td>\n",
       "      <td>0.661472</td>\n",
       "      <td>0.662771</td>\n",
       "    </tr>\n",
       "    <tr>\n",
       "      <th>29</th>\n",
       "      <td>31</td>\n",
       "      <td>0.756710</td>\n",
       "      <td>0.728571</td>\n",
       "      <td>0.670996</td>\n",
       "      <td>0.662338</td>\n",
       "    </tr>\n",
       "    <tr>\n",
       "      <th>30</th>\n",
       "      <td>32</td>\n",
       "      <td>0.747619</td>\n",
       "      <td>0.653680</td>\n",
       "      <td>0.661905</td>\n",
       "      <td>0.662771</td>\n",
       "    </tr>\n",
       "    <tr>\n",
       "      <th>31</th>\n",
       "      <td>33</td>\n",
       "      <td>0.738528</td>\n",
       "      <td>0.671861</td>\n",
       "      <td>0.680519</td>\n",
       "      <td>0.672294</td>\n",
       "    </tr>\n",
       "    <tr>\n",
       "      <th>32</th>\n",
       "      <td>34</td>\n",
       "      <td>0.738528</td>\n",
       "      <td>0.681818</td>\n",
       "      <td>0.670996</td>\n",
       "      <td>0.653680</td>\n",
       "    </tr>\n",
       "    <tr>\n",
       "      <th>33</th>\n",
       "      <td>35</td>\n",
       "      <td>0.738961</td>\n",
       "      <td>0.681818</td>\n",
       "      <td>0.690476</td>\n",
       "      <td>0.635498</td>\n",
       "    </tr>\n",
       "    <tr>\n",
       "      <th>34</th>\n",
       "      <td>36</td>\n",
       "      <td>0.738961</td>\n",
       "      <td>0.634632</td>\n",
       "      <td>0.699567</td>\n",
       "      <td>0.635498</td>\n",
       "    </tr>\n",
       "    <tr>\n",
       "      <th>35</th>\n",
       "      <td>37</td>\n",
       "      <td>0.719913</td>\n",
       "      <td>0.663203</td>\n",
       "      <td>0.680952</td>\n",
       "      <td>0.616883</td>\n",
       "    </tr>\n",
       "    <tr>\n",
       "      <th>36</th>\n",
       "      <td>38</td>\n",
       "      <td>0.729437</td>\n",
       "      <td>0.664069</td>\n",
       "      <td>0.670996</td>\n",
       "      <td>0.607792</td>\n",
       "    </tr>\n",
       "    <tr>\n",
       "      <th>37</th>\n",
       "      <td>39</td>\n",
       "      <td>0.729437</td>\n",
       "      <td>0.654545</td>\n",
       "      <td>0.689610</td>\n",
       "      <td>0.607792</td>\n",
       "    </tr>\n",
       "    <tr>\n",
       "      <th>38</th>\n",
       "      <td>40</td>\n",
       "      <td>0.719913</td>\n",
       "      <td>0.644589</td>\n",
       "      <td>0.680519</td>\n",
       "      <td>0.607359</td>\n",
       "    </tr>\n",
       "  </tbody>\n",
       "</table>\n",
       "</div>"
      ],
      "text/plain": [
       "   Badanie_NR       LDA  RandomForest  KNeighbors       SVC\n",
       "0           2  0.542857      0.597835    0.681385  0.606926\n",
       "1           3  0.541991      0.673160    0.625541  0.671429\n",
       "2           4  0.551082      0.635931    0.569697  0.643723\n",
       "3           5  0.598701      0.587446    0.624242  0.634632\n",
       "4           6  0.570996      0.625541    0.578788  0.615584\n",
       "5           7  0.589177      0.635498    0.579221  0.570996\n",
       "6           8  0.644156      0.625541    0.597403  0.589177\n",
       "7           9  0.671861      0.568831    0.541126  0.588312\n",
       "8          10  0.652814      0.587013    0.578788  0.579221\n",
       "9          11  0.635931      0.613853    0.505195  0.569697\n",
       "10         12  0.654113      0.634199    0.514286  0.607359\n",
       "11         13  0.644589      0.587879    0.504762  0.598268\n",
       "12         14  0.681385      0.662771    0.587446  0.616883\n",
       "13         15  0.671861      0.652814    0.540260  0.635065\n",
       "14         16  0.671861      0.633766    0.615584  0.644589\n",
       "15         17  0.681385      0.718182    0.652814  0.635065\n",
       "16         18  0.700433      0.690909    0.651515  0.634632\n",
       "17         19  0.709524      0.709524    0.585714  0.635065\n",
       "18         20  0.709524      0.708225    0.614719  0.662771\n",
       "19         21  0.709524      0.708658    0.632468  0.662338\n",
       "20         22  0.709524      0.708658    0.641991  0.671861\n",
       "21         23  0.700433      0.736797    0.651948  0.662338\n",
       "22         24  0.709957      0.727273    0.642424  0.662338\n",
       "23         25  0.719048      0.736797    0.651082  0.662338\n",
       "24         26  0.729004      0.709091    0.631602  0.671861\n",
       "25         27  0.756710      0.690476    0.650649  0.671429\n",
       "26         28  0.765801      0.680952    0.632900  0.690476\n",
       "27         29  0.756710      0.727273    0.680087  0.671861\n",
       "28         30  0.756710      0.709524    0.661472  0.662771\n",
       "29         31  0.756710      0.728571    0.670996  0.662338\n",
       "30         32  0.747619      0.653680    0.661905  0.662771\n",
       "31         33  0.738528      0.671861    0.680519  0.672294\n",
       "32         34  0.738528      0.681818    0.670996  0.653680\n",
       "33         35  0.738961      0.681818    0.690476  0.635498\n",
       "34         36  0.738961      0.634632    0.699567  0.635498\n",
       "35         37  0.719913      0.663203    0.680952  0.616883\n",
       "36         38  0.729437      0.664069    0.670996  0.607792\n",
       "37         39  0.729437      0.654545    0.689610  0.607792\n",
       "38         40  0.719913      0.644589    0.680519  0.607359"
      ]
     },
     "execution_count": 116,
     "metadata": {},
     "output_type": "execute_result"
    }
   ],
   "source": [
    "results_df = pd.DataFrame(columns=['Badanie_NR',  'LDA', 'RandomForest','KNeighbors', 'SVC'])\n",
    "merged_data=df_miernik_df[[*col_neg, \"ZGON\", \"PACJENT_NR\", \"BADANIE_NR\"]]\n",
    "\n",
    "\n",
    "for i in range(2, 41):\n",
    "    filtered_data = merged_data[merged_data['BADANIE_NR'] < i]\n",
    "    X_data=filtered_data.groupby(\"PACJENT_NR\").sum()[col_neg]\n",
    "    y_data=filtered_data.groupby(\"PACJENT_NR\")[\"ZGON\"].first()\n",
    "\n",
    "    # Przygotowanie danych do klasyfikacji\n",
    "    X = X_data\n",
    "    y = y_data\n",
    "\n",
    "   # Klasyfikatory\n",
    "    classifiers = {\n",
    "        'LDA': LinearDiscriminantAnalysis(),\n",
    "         'RandomForest': RandomForestClassifier(),\n",
    "        'KNeighbors': KNeighborsClassifier(),\n",
    "        'SVC': SVC()\n",
    "    }\n",
    "\n",
    "    # Pętla dla każdego klasyfikatora\n",
    "    results = {'Badanie_NR': i}\n",
    "    for clf_name, clf in classifiers.items():\n",
    "        skf = StratifiedKFold(n_splits=5, shuffle=True, random_state=42)\n",
    "        scores = cross_val_score(clf, X, y, cv=skf, scoring='accuracy')\n",
    "        mean_accuracy = scores.mean()\n",
    "        results[clf_name] = mean_accuracy\n",
    "\n",
    "    # Dodanie wyników do tymczasowej ramki danych\n",
    "    temp_df = pd.DataFrame([results])\n",
    "\n",
    "    # Konkatenacja wyników z ramką główną\n",
    "    results_df = pd.concat([results_df, temp_df], ignore_index=True)\n",
    "\n",
    "results_df"
   ]
  },
  {
   "cell_type": "code",
   "execution_count": null,
   "metadata": {},
   "outputs": [],
   "source": [
    "from sklearn.preprocessing import StandardScaler"
   ]
  },
  {
   "cell_type": "code",
   "execution_count": null,
   "metadata": {},
   "outputs": [
    {
     "name": "stderr",
     "output_type": "stream",
     "text": [
      "C:\\Users\\dorot\\AppData\\Local\\Temp\\ipykernel_62548\\532676112.py:44: FutureWarning:\n",
      "\n",
      "The behavior of DataFrame concatenation with empty or all-NA entries is deprecated. In a future version, this will no longer exclude empty or all-NA columns when determining the result dtypes. To retain the old behavior, exclude the relevant entries before the concat operation.\n",
      "\n"
     ]
    },
    {
     "data": {
      "text/html": [
       "<div>\n",
       "<style scoped>\n",
       "    .dataframe tbody tr th:only-of-type {\n",
       "        vertical-align: middle;\n",
       "    }\n",
       "\n",
       "    .dataframe tbody tr th {\n",
       "        vertical-align: top;\n",
       "    }\n",
       "\n",
       "    .dataframe thead th {\n",
       "        text-align: right;\n",
       "    }\n",
       "</style>\n",
       "<table border=\"1\" class=\"dataframe\">\n",
       "  <thead>\n",
       "    <tr style=\"text-align: right;\">\n",
       "      <th></th>\n",
       "      <th>Badanie_NR</th>\n",
       "      <th>LDA</th>\n",
       "      <th>DecisionTree</th>\n",
       "      <th>RandomForest</th>\n",
       "      <th>KNeighbors</th>\n",
       "      <th>SVC</th>\n",
       "    </tr>\n",
       "  </thead>\n",
       "  <tbody>\n",
       "    <tr>\n",
       "      <th>0</th>\n",
       "      <td>1</td>\n",
       "      <td>0.624675</td>\n",
       "      <td>0.568831</td>\n",
       "      <td>0.652381</td>\n",
       "      <td>0.653247</td>\n",
       "      <td>0.680952</td>\n",
       "    </tr>\n",
       "    <tr>\n",
       "      <th>1</th>\n",
       "      <td>2</td>\n",
       "      <td>0.596537</td>\n",
       "      <td>0.641991</td>\n",
       "      <td>0.644156</td>\n",
       "      <td>0.596970</td>\n",
       "      <td>0.643723</td>\n",
       "    </tr>\n",
       "    <tr>\n",
       "      <th>2</th>\n",
       "      <td>3</td>\n",
       "      <td>0.615152</td>\n",
       "      <td>0.644589</td>\n",
       "      <td>0.634199</td>\n",
       "      <td>0.615152</td>\n",
       "      <td>0.606494</td>\n",
       "    </tr>\n",
       "    <tr>\n",
       "      <th>3</th>\n",
       "      <td>4</td>\n",
       "      <td>0.643723</td>\n",
       "      <td>0.522078</td>\n",
       "      <td>0.625974</td>\n",
       "      <td>0.559307</td>\n",
       "      <td>0.596537</td>\n",
       "    </tr>\n",
       "    <tr>\n",
       "      <th>4</th>\n",
       "      <td>5</td>\n",
       "      <td>0.653247</td>\n",
       "      <td>0.504762</td>\n",
       "      <td>0.549784</td>\n",
       "      <td>0.652814</td>\n",
       "      <td>0.670996</td>\n",
       "    </tr>\n",
       "    <tr>\n",
       "      <th>5</th>\n",
       "      <td>6</td>\n",
       "      <td>0.643290</td>\n",
       "      <td>0.578788</td>\n",
       "      <td>0.625541</td>\n",
       "      <td>0.577922</td>\n",
       "      <td>0.634632</td>\n",
       "    </tr>\n",
       "    <tr>\n",
       "      <th>6</th>\n",
       "      <td>7</td>\n",
       "      <td>0.670996</td>\n",
       "      <td>0.513420</td>\n",
       "      <td>0.540693</td>\n",
       "      <td>0.633333</td>\n",
       "      <td>0.634632</td>\n",
       "    </tr>\n",
       "    <tr>\n",
       "      <th>7</th>\n",
       "      <td>8</td>\n",
       "      <td>0.680952</td>\n",
       "      <td>0.589177</td>\n",
       "      <td>0.579654</td>\n",
       "      <td>0.615584</td>\n",
       "      <td>0.643290</td>\n",
       "    </tr>\n",
       "    <tr>\n",
       "      <th>8</th>\n",
       "      <td>9</td>\n",
       "      <td>0.671429</td>\n",
       "      <td>0.475325</td>\n",
       "      <td>0.570130</td>\n",
       "      <td>0.588312</td>\n",
       "      <td>0.633766</td>\n",
       "    </tr>\n",
       "    <tr>\n",
       "      <th>9</th>\n",
       "      <td>10</td>\n",
       "      <td>0.671861</td>\n",
       "      <td>0.635065</td>\n",
       "      <td>0.634632</td>\n",
       "      <td>0.597403</td>\n",
       "      <td>0.625541</td>\n",
       "    </tr>\n",
       "    <tr>\n",
       "      <th>10</th>\n",
       "      <td>11</td>\n",
       "      <td>0.672294</td>\n",
       "      <td>0.662338</td>\n",
       "      <td>0.663636</td>\n",
       "      <td>0.633766</td>\n",
       "      <td>0.662338</td>\n",
       "    </tr>\n",
       "    <tr>\n",
       "      <th>11</th>\n",
       "      <td>12</td>\n",
       "      <td>0.680952</td>\n",
       "      <td>0.606926</td>\n",
       "      <td>0.636364</td>\n",
       "      <td>0.588745</td>\n",
       "      <td>0.662338</td>\n",
       "    </tr>\n",
       "    <tr>\n",
       "      <th>12</th>\n",
       "      <td>13</td>\n",
       "      <td>0.662338</td>\n",
       "      <td>0.504329</td>\n",
       "      <td>0.588312</td>\n",
       "      <td>0.588312</td>\n",
       "      <td>0.700000</td>\n",
       "    </tr>\n",
       "    <tr>\n",
       "      <th>13</th>\n",
       "      <td>14</td>\n",
       "      <td>0.671429</td>\n",
       "      <td>0.523810</td>\n",
       "      <td>0.607359</td>\n",
       "      <td>0.633333</td>\n",
       "      <td>0.718615</td>\n",
       "    </tr>\n",
       "    <tr>\n",
       "      <th>14</th>\n",
       "      <td>15</td>\n",
       "      <td>0.671861</td>\n",
       "      <td>0.578788</td>\n",
       "      <td>0.635065</td>\n",
       "      <td>0.651948</td>\n",
       "      <td>0.736797</td>\n",
       "    </tr>\n",
       "    <tr>\n",
       "      <th>15</th>\n",
       "      <td>16</td>\n",
       "      <td>0.672294</td>\n",
       "      <td>0.596970</td>\n",
       "      <td>0.690043</td>\n",
       "      <td>0.726840</td>\n",
       "      <td>0.755844</td>\n",
       "    </tr>\n",
       "    <tr>\n",
       "      <th>16</th>\n",
       "      <td>17</td>\n",
       "      <td>0.700433</td>\n",
       "      <td>0.672727</td>\n",
       "      <td>0.689610</td>\n",
       "      <td>0.736797</td>\n",
       "      <td>0.727706</td>\n",
       "    </tr>\n",
       "    <tr>\n",
       "      <th>17</th>\n",
       "      <td>18</td>\n",
       "      <td>0.691342</td>\n",
       "      <td>0.643723</td>\n",
       "      <td>0.708225</td>\n",
       "      <td>0.708658</td>\n",
       "      <td>0.727273</td>\n",
       "    </tr>\n",
       "    <tr>\n",
       "      <th>18</th>\n",
       "      <td>19</td>\n",
       "      <td>0.700433</td>\n",
       "      <td>0.625974</td>\n",
       "      <td>0.727273</td>\n",
       "      <td>0.718615</td>\n",
       "      <td>0.764935</td>\n",
       "    </tr>\n",
       "    <tr>\n",
       "      <th>19</th>\n",
       "      <td>20</td>\n",
       "      <td>0.700433</td>\n",
       "      <td>0.663203</td>\n",
       "      <td>0.709091</td>\n",
       "      <td>0.736797</td>\n",
       "      <td>0.765368</td>\n",
       "    </tr>\n",
       "    <tr>\n",
       "      <th>20</th>\n",
       "      <td>21</td>\n",
       "      <td>0.700433</td>\n",
       "      <td>0.700433</td>\n",
       "      <td>0.700866</td>\n",
       "      <td>0.718182</td>\n",
       "      <td>0.747186</td>\n",
       "    </tr>\n",
       "    <tr>\n",
       "      <th>21</th>\n",
       "      <td>22</td>\n",
       "      <td>0.690909</td>\n",
       "      <td>0.690909</td>\n",
       "      <td>0.727706</td>\n",
       "      <td>0.690476</td>\n",
       "      <td>0.728571</td>\n",
       "    </tr>\n",
       "    <tr>\n",
       "      <th>22</th>\n",
       "      <td>23</td>\n",
       "      <td>0.690909</td>\n",
       "      <td>0.710390</td>\n",
       "      <td>0.708658</td>\n",
       "      <td>0.746320</td>\n",
       "      <td>0.728139</td>\n",
       "    </tr>\n",
       "    <tr>\n",
       "      <th>23</th>\n",
       "      <td>24</td>\n",
       "      <td>0.719048</td>\n",
       "      <td>0.681385</td>\n",
       "      <td>0.719048</td>\n",
       "      <td>0.783117</td>\n",
       "      <td>0.728571</td>\n",
       "    </tr>\n",
       "    <tr>\n",
       "      <th>24</th>\n",
       "      <td>25</td>\n",
       "      <td>0.746753</td>\n",
       "      <td>0.683117</td>\n",
       "      <td>0.673160</td>\n",
       "      <td>0.765368</td>\n",
       "      <td>0.729004</td>\n",
       "    </tr>\n",
       "    <tr>\n",
       "      <th>25</th>\n",
       "      <td>26</td>\n",
       "      <td>0.756710</td>\n",
       "      <td>0.645022</td>\n",
       "      <td>0.635931</td>\n",
       "      <td>0.784416</td>\n",
       "      <td>0.738528</td>\n",
       "    </tr>\n",
       "    <tr>\n",
       "      <th>26</th>\n",
       "      <td>27</td>\n",
       "      <td>0.747186</td>\n",
       "      <td>0.579654</td>\n",
       "      <td>0.616017</td>\n",
       "      <td>0.737662</td>\n",
       "      <td>0.757143</td>\n",
       "    </tr>\n",
       "    <tr>\n",
       "      <th>27</th>\n",
       "      <td>28</td>\n",
       "      <td>0.756710</td>\n",
       "      <td>0.645022</td>\n",
       "      <td>0.663203</td>\n",
       "      <td>0.719048</td>\n",
       "      <td>0.757143</td>\n",
       "    </tr>\n",
       "    <tr>\n",
       "      <th>28</th>\n",
       "      <td>29</td>\n",
       "      <td>0.765801</td>\n",
       "      <td>0.674026</td>\n",
       "      <td>0.663203</td>\n",
       "      <td>0.690476</td>\n",
       "      <td>0.757143</td>\n",
       "    </tr>\n",
       "  </tbody>\n",
       "</table>\n",
       "</div>"
      ],
      "text/plain": [
       "   Badanie_NR       LDA  DecisionTree  RandomForest  KNeighbors       SVC\n",
       "0           1  0.624675      0.568831      0.652381    0.653247  0.680952\n",
       "1           2  0.596537      0.641991      0.644156    0.596970  0.643723\n",
       "2           3  0.615152      0.644589      0.634199    0.615152  0.606494\n",
       "3           4  0.643723      0.522078      0.625974    0.559307  0.596537\n",
       "4           5  0.653247      0.504762      0.549784    0.652814  0.670996\n",
       "5           6  0.643290      0.578788      0.625541    0.577922  0.634632\n",
       "6           7  0.670996      0.513420      0.540693    0.633333  0.634632\n",
       "7           8  0.680952      0.589177      0.579654    0.615584  0.643290\n",
       "8           9  0.671429      0.475325      0.570130    0.588312  0.633766\n",
       "9          10  0.671861      0.635065      0.634632    0.597403  0.625541\n",
       "10         11  0.672294      0.662338      0.663636    0.633766  0.662338\n",
       "11         12  0.680952      0.606926      0.636364    0.588745  0.662338\n",
       "12         13  0.662338      0.504329      0.588312    0.588312  0.700000\n",
       "13         14  0.671429      0.523810      0.607359    0.633333  0.718615\n",
       "14         15  0.671861      0.578788      0.635065    0.651948  0.736797\n",
       "15         16  0.672294      0.596970      0.690043    0.726840  0.755844\n",
       "16         17  0.700433      0.672727      0.689610    0.736797  0.727706\n",
       "17         18  0.691342      0.643723      0.708225    0.708658  0.727273\n",
       "18         19  0.700433      0.625974      0.727273    0.718615  0.764935\n",
       "19         20  0.700433      0.663203      0.709091    0.736797  0.765368\n",
       "20         21  0.700433      0.700433      0.700866    0.718182  0.747186\n",
       "21         22  0.690909      0.690909      0.727706    0.690476  0.728571\n",
       "22         23  0.690909      0.710390      0.708658    0.746320  0.728139\n",
       "23         24  0.719048      0.681385      0.719048    0.783117  0.728571\n",
       "24         25  0.746753      0.683117      0.673160    0.765368  0.729004\n",
       "25         26  0.756710      0.645022      0.635931    0.784416  0.738528\n",
       "26         27  0.747186      0.579654      0.616017    0.737662  0.757143\n",
       "27         28  0.756710      0.645022      0.663203    0.719048  0.757143\n",
       "28         29  0.765801      0.674026      0.663203    0.690476  0.757143"
      ]
     },
     "execution_count": 690,
     "metadata": {},
     "output_type": "execute_result"
    }
   ],
   "source": [
    "\n",
    "results_df = pd.DataFrame(columns=['Badanie_NR',  'LDA', 'DecisionTree', 'RandomForest', 'KNeighbors', 'SVC'])\n",
    "merged_data = df_miernik_df[[*col_neg, \"ZGON\", \"PACJENT_NR\", \"BADANIE_NR\"]]\n",
    "\n",
    "for i in range(2, 31):\n",
    "    filtered_data = merged_data[merged_data['BADANIE_NR'] < i]\n",
    "    \n",
    "    # Grupowanie i sumowanie danych\n",
    "    X_data = filtered_data.groupby(\"PACJENT_NR\").sum()[col_neg]\n",
    "    y_data = filtered_data.groupby(\"PACJENT_NR\")[\"ZGON\"].first()\n",
    "\n",
    "        # Standaryzacja danych\n",
    "    scaler = StandardScaler()\n",
    "    X_scaled = scaler.fit_transform(X_data)\n",
    "\n",
    "    # PCA\n",
    "    pca = PCA(n_components=3)  # Ustaw liczbę komponentów zgodnie z wymaganiami\n",
    "    X_pca = pca.fit_transform(X_scaled)\n",
    "\n",
    "    # Przygotowanie danych do klasyfikacji\n",
    "    X = X_pca\n",
    "    y = y_data\n",
    "\n",
    "    # Klasyfikatory\n",
    "    classifiers = {\n",
    "        'LDA': LinearDiscriminantAnalysis(),\n",
    "        'DecisionTree': DecisionTreeClassifier(),\n",
    "        'RandomForest': RandomForestClassifier(),\n",
    "        'KNeighbors': KNeighborsClassifier(),\n",
    "        'SVC': SVC()\n",
    "    }\n",
    "\n",
    "    # Pętla dla każdego klasyfikatora\n",
    "    results = {'Badanie_NR': i-1}\n",
    "    for clf_name, clf in classifiers.items():\n",
    "        skf = StratifiedKFold(n_splits=5, shuffle=True, random_state=42)\n",
    "        scores = cross_val_score(clf, X, y, cv=skf, scoring='accuracy')\n",
    "        mean_accuracy = scores.mean()\n",
    "        results[clf_name] = mean_accuracy\n",
    "\n",
    "    # Dodanie wyników do tymczasowej ramki danych\n",
    "    temp_df = pd.DataFrame([results])\n",
    "\n",
    "    # Konkatenacja wyników z ramką główną\n",
    "    results_df = pd.concat([results_df, temp_df], ignore_index=True)\n",
    "\n",
    "results_df"
   ]
  },
  {
   "cell_type": "code",
   "execution_count": null,
   "metadata": {},
   "outputs": [
    {
     "data": {
      "application/vnd.plotly.v1+json": {
       "config": {
        "plotlyServerURL": "https://plot.ly"
       },
       "data": [
        {
         "hovertemplate": "Klasyfikator=LDA<br>Badanie_NR=%{x}<br>Dokładność=%{y}<extra></extra>",
         "legendgroup": "LDA",
         "line": {
          "color": "#636efa",
          "dash": "solid",
          "shape": "linear"
         },
         "marker": {
          "symbol": "circle"
         },
         "mode": "markers+lines",
         "name": "LDA",
         "orientation": "v",
         "showlegend": true,
         "type": "scatter",
         "x": [
          1,
          2,
          3,
          4,
          5,
          6,
          7,
          8,
          9,
          10,
          11,
          12,
          13,
          14,
          15,
          16,
          17,
          18,
          19,
          20,
          21,
          22,
          23,
          24,
          25,
          26,
          27,
          28,
          29
         ],
         "xaxis": "x",
         "y": [
          0.6246753246753246,
          0.5965367965367966,
          0.6151515151515152,
          0.6437229437229437,
          0.6532467532467532,
          0.6432900432900432,
          0.670995670995671,
          0.680952380952381,
          0.6714285714285715,
          0.6718614718614718,
          0.6722943722943723,
          0.680952380952381,
          0.6623376623376623,
          0.6714285714285715,
          0.6718614718614718,
          0.6722943722943724,
          0.7004329004329005,
          0.6913419913419914,
          0.7004329004329005,
          0.7004329004329005,
          0.7004329004329003,
          0.6909090909090908,
          0.6909090909090908,
          0.719047619047619,
          0.7467532467532467,
          0.7567099567099567,
          0.7471861471861472,
          0.7567099567099567,
          0.7658008658008657
         ],
         "yaxis": "y"
        },
        {
         "hovertemplate": "Klasyfikator=RandomForest<br>Badanie_NR=%{x}<br>Dokładność=%{y}<extra></extra>",
         "legendgroup": "RandomForest",
         "line": {
          "color": "#EF553B",
          "dash": "solid",
          "shape": "linear"
         },
         "marker": {
          "symbol": "circle"
         },
         "mode": "markers+lines",
         "name": "RandomForest",
         "orientation": "v",
         "showlegend": true,
         "type": "scatter",
         "x": [
          1,
          2,
          3,
          4,
          5,
          6,
          7,
          8,
          9,
          10,
          11,
          12,
          13,
          14,
          15,
          16,
          17,
          18,
          19,
          20,
          21,
          22,
          23,
          24,
          25,
          26,
          27,
          28,
          29
         ],
         "xaxis": "x",
         "y": [
          0.6523809523809524,
          0.6441558441558441,
          0.6341991341991342,
          0.625974025974026,
          0.5497835497835497,
          0.6255411255411255,
          0.5406926406926407,
          0.5796536796536796,
          0.5701298701298702,
          0.6346320346320347,
          0.6636363636363637,
          0.6363636363636362,
          0.5883116883116883,
          0.6073593073593073,
          0.6350649350649351,
          0.6900432900432901,
          0.6896103896103896,
          0.7082251082251082,
          0.7272727272727272,
          0.709090909090909,
          0.7008658008658009,
          0.7277056277056276,
          0.7086580086580085,
          0.719047619047619,
          0.6731601731601733,
          0.6359307359307359,
          0.616017316017316,
          0.6632034632034631,
          0.6632034632034631
         ],
         "yaxis": "y"
        },
        {
         "hovertemplate": "Klasyfikator=KNeighbors<br>Badanie_NR=%{x}<br>Dokładność=%{y}<extra></extra>",
         "legendgroup": "KNeighbors",
         "line": {
          "color": "#00cc96",
          "dash": "solid",
          "shape": "linear"
         },
         "marker": {
          "symbol": "circle"
         },
         "mode": "markers+lines",
         "name": "KNeighbors",
         "orientation": "v",
         "showlegend": true,
         "type": "scatter",
         "x": [
          1,
          2,
          3,
          4,
          5,
          6,
          7,
          8,
          9,
          10,
          11,
          12,
          13,
          14,
          15,
          16,
          17,
          18,
          19,
          20,
          21,
          22,
          23,
          24,
          25,
          26,
          27,
          28,
          29
         ],
         "xaxis": "x",
         "y": [
          0.6532467532467532,
          0.5969696969696969,
          0.6151515151515152,
          0.5593073593073592,
          0.6528138528138527,
          0.577922077922078,
          0.6333333333333333,
          0.6155844155844156,
          0.5883116883116883,
          0.5974025974025974,
          0.6337662337662338,
          0.5887445887445887,
          0.5883116883116883,
          0.6333333333333333,
          0.6519480519480518,
          0.7268398268398268,
          0.7367965367965368,
          0.7086580086580085,
          0.7186147186147187,
          0.7367965367965368,
          0.7181818181818181,
          0.6904761904761905,
          0.7463203463203463,
          0.7831168831168831,
          0.7653679653679654,
          0.7844155844155843,
          0.7376623376623377,
          0.719047619047619,
          0.6904761904761905
         ],
         "yaxis": "y"
        },
        {
         "hovertemplate": "Klasyfikator=SVC<br>Badanie_NR=%{x}<br>Dokładność=%{y}<extra></extra>",
         "legendgroup": "SVC",
         "line": {
          "color": "#ab63fa",
          "dash": "solid",
          "shape": "linear"
         },
         "marker": {
          "symbol": "circle"
         },
         "mode": "markers+lines",
         "name": "SVC",
         "orientation": "v",
         "showlegend": true,
         "type": "scatter",
         "x": [
          1,
          2,
          3,
          4,
          5,
          6,
          7,
          8,
          9,
          10,
          11,
          12,
          13,
          14,
          15,
          16,
          17,
          18,
          19,
          20,
          21,
          22,
          23,
          24,
          25,
          26,
          27,
          28,
          29
         ],
         "xaxis": "x",
         "y": [
          0.6809523809523809,
          0.6437229437229437,
          0.6064935064935065,
          0.5965367965367965,
          0.670995670995671,
          0.6346320346320347,
          0.6346320346320347,
          0.6432900432900432,
          0.6337662337662338,
          0.6255411255411255,
          0.6623376623376622,
          0.6623376623376622,
          0.7,
          0.7186147186147186,
          0.7367965367965368,
          0.7558441558441558,
          0.7277056277056276,
          0.7272727272727272,
          0.7649350649350649,
          0.7653679653679654,
          0.7471861471861472,
          0.7285714285714284,
          0.7281385281385282,
          0.7285714285714285,
          0.729004329004329,
          0.7385281385281386,
          0.7571428571428571,
          0.7571428571428571,
          0.7571428571428571
         ],
         "yaxis": "y"
        }
       ],
       "layout": {
        "legend": {
         "title": {
          "text": "Klasyfikator"
         },
         "tracegroupgap": 0
        },
        "margin": {
         "t": 60
        },
        "template": {
         "data": {
          "bar": [
           {
            "error_x": {
             "color": "#2a3f5f"
            },
            "error_y": {
             "color": "#2a3f5f"
            },
            "marker": {
             "line": {
              "color": "white",
              "width": 0.5
             },
             "pattern": {
              "fillmode": "overlay",
              "size": 10,
              "solidity": 0.2
             }
            },
            "type": "bar"
           }
          ],
          "barpolar": [
           {
            "marker": {
             "line": {
              "color": "white",
              "width": 0.5
             },
             "pattern": {
              "fillmode": "overlay",
              "size": 10,
              "solidity": 0.2
             }
            },
            "type": "barpolar"
           }
          ],
          "carpet": [
           {
            "aaxis": {
             "endlinecolor": "#2a3f5f",
             "gridcolor": "#C8D4E3",
             "linecolor": "#C8D4E3",
             "minorgridcolor": "#C8D4E3",
             "startlinecolor": "#2a3f5f"
            },
            "baxis": {
             "endlinecolor": "#2a3f5f",
             "gridcolor": "#C8D4E3",
             "linecolor": "#C8D4E3",
             "minorgridcolor": "#C8D4E3",
             "startlinecolor": "#2a3f5f"
            },
            "type": "carpet"
           }
          ],
          "choropleth": [
           {
            "colorbar": {
             "outlinewidth": 0,
             "ticks": ""
            },
            "type": "choropleth"
           }
          ],
          "contour": [
           {
            "colorbar": {
             "outlinewidth": 0,
             "ticks": ""
            },
            "colorscale": [
             [
              0,
              "#0d0887"
             ],
             [
              0.1111111111111111,
              "#46039f"
             ],
             [
              0.2222222222222222,
              "#7201a8"
             ],
             [
              0.3333333333333333,
              "#9c179e"
             ],
             [
              0.4444444444444444,
              "#bd3786"
             ],
             [
              0.5555555555555556,
              "#d8576b"
             ],
             [
              0.6666666666666666,
              "#ed7953"
             ],
             [
              0.7777777777777778,
              "#fb9f3a"
             ],
             [
              0.8888888888888888,
              "#fdca26"
             ],
             [
              1,
              "#f0f921"
             ]
            ],
            "type": "contour"
           }
          ],
          "contourcarpet": [
           {
            "colorbar": {
             "outlinewidth": 0,
             "ticks": ""
            },
            "type": "contourcarpet"
           }
          ],
          "heatmap": [
           {
            "colorbar": {
             "outlinewidth": 0,
             "ticks": ""
            },
            "colorscale": [
             [
              0,
              "#0d0887"
             ],
             [
              0.1111111111111111,
              "#46039f"
             ],
             [
              0.2222222222222222,
              "#7201a8"
             ],
             [
              0.3333333333333333,
              "#9c179e"
             ],
             [
              0.4444444444444444,
              "#bd3786"
             ],
             [
              0.5555555555555556,
              "#d8576b"
             ],
             [
              0.6666666666666666,
              "#ed7953"
             ],
             [
              0.7777777777777778,
              "#fb9f3a"
             ],
             [
              0.8888888888888888,
              "#fdca26"
             ],
             [
              1,
              "#f0f921"
             ]
            ],
            "type": "heatmap"
           }
          ],
          "heatmapgl": [
           {
            "colorbar": {
             "outlinewidth": 0,
             "ticks": ""
            },
            "colorscale": [
             [
              0,
              "#0d0887"
             ],
             [
              0.1111111111111111,
              "#46039f"
             ],
             [
              0.2222222222222222,
              "#7201a8"
             ],
             [
              0.3333333333333333,
              "#9c179e"
             ],
             [
              0.4444444444444444,
              "#bd3786"
             ],
             [
              0.5555555555555556,
              "#d8576b"
             ],
             [
              0.6666666666666666,
              "#ed7953"
             ],
             [
              0.7777777777777778,
              "#fb9f3a"
             ],
             [
              0.8888888888888888,
              "#fdca26"
             ],
             [
              1,
              "#f0f921"
             ]
            ],
            "type": "heatmapgl"
           }
          ],
          "histogram": [
           {
            "marker": {
             "pattern": {
              "fillmode": "overlay",
              "size": 10,
              "solidity": 0.2
             }
            },
            "type": "histogram"
           }
          ],
          "histogram2d": [
           {
            "colorbar": {
             "outlinewidth": 0,
             "ticks": ""
            },
            "colorscale": [
             [
              0,
              "#0d0887"
             ],
             [
              0.1111111111111111,
              "#46039f"
             ],
             [
              0.2222222222222222,
              "#7201a8"
             ],
             [
              0.3333333333333333,
              "#9c179e"
             ],
             [
              0.4444444444444444,
              "#bd3786"
             ],
             [
              0.5555555555555556,
              "#d8576b"
             ],
             [
              0.6666666666666666,
              "#ed7953"
             ],
             [
              0.7777777777777778,
              "#fb9f3a"
             ],
             [
              0.8888888888888888,
              "#fdca26"
             ],
             [
              1,
              "#f0f921"
             ]
            ],
            "type": "histogram2d"
           }
          ],
          "histogram2dcontour": [
           {
            "colorbar": {
             "outlinewidth": 0,
             "ticks": ""
            },
            "colorscale": [
             [
              0,
              "#0d0887"
             ],
             [
              0.1111111111111111,
              "#46039f"
             ],
             [
              0.2222222222222222,
              "#7201a8"
             ],
             [
              0.3333333333333333,
              "#9c179e"
             ],
             [
              0.4444444444444444,
              "#bd3786"
             ],
             [
              0.5555555555555556,
              "#d8576b"
             ],
             [
              0.6666666666666666,
              "#ed7953"
             ],
             [
              0.7777777777777778,
              "#fb9f3a"
             ],
             [
              0.8888888888888888,
              "#fdca26"
             ],
             [
              1,
              "#f0f921"
             ]
            ],
            "type": "histogram2dcontour"
           }
          ],
          "mesh3d": [
           {
            "colorbar": {
             "outlinewidth": 0,
             "ticks": ""
            },
            "type": "mesh3d"
           }
          ],
          "parcoords": [
           {
            "line": {
             "colorbar": {
              "outlinewidth": 0,
              "ticks": ""
             }
            },
            "type": "parcoords"
           }
          ],
          "pie": [
           {
            "automargin": true,
            "type": "pie"
           }
          ],
          "scatter": [
           {
            "marker": {
             "colorbar": {
              "outlinewidth": 0,
              "ticks": ""
             }
            },
            "type": "scatter"
           }
          ],
          "scatter3d": [
           {
            "line": {
             "colorbar": {
              "outlinewidth": 0,
              "ticks": ""
             }
            },
            "marker": {
             "colorbar": {
              "outlinewidth": 0,
              "ticks": ""
             }
            },
            "type": "scatter3d"
           }
          ],
          "scattercarpet": [
           {
            "marker": {
             "colorbar": {
              "outlinewidth": 0,
              "ticks": ""
             }
            },
            "type": "scattercarpet"
           }
          ],
          "scattergeo": [
           {
            "marker": {
             "colorbar": {
              "outlinewidth": 0,
              "ticks": ""
             }
            },
            "type": "scattergeo"
           }
          ],
          "scattergl": [
           {
            "marker": {
             "colorbar": {
              "outlinewidth": 0,
              "ticks": ""
             }
            },
            "type": "scattergl"
           }
          ],
          "scattermapbox": [
           {
            "marker": {
             "colorbar": {
              "outlinewidth": 0,
              "ticks": ""
             }
            },
            "type": "scattermapbox"
           }
          ],
          "scatterpolar": [
           {
            "marker": {
             "colorbar": {
              "outlinewidth": 0,
              "ticks": ""
             }
            },
            "type": "scatterpolar"
           }
          ],
          "scatterpolargl": [
           {
            "marker": {
             "colorbar": {
              "outlinewidth": 0,
              "ticks": ""
             }
            },
            "type": "scatterpolargl"
           }
          ],
          "scatterternary": [
           {
            "marker": {
             "colorbar": {
              "outlinewidth": 0,
              "ticks": ""
             }
            },
            "type": "scatterternary"
           }
          ],
          "surface": [
           {
            "colorbar": {
             "outlinewidth": 0,
             "ticks": ""
            },
            "colorscale": [
             [
              0,
              "#0d0887"
             ],
             [
              0.1111111111111111,
              "#46039f"
             ],
             [
              0.2222222222222222,
              "#7201a8"
             ],
             [
              0.3333333333333333,
              "#9c179e"
             ],
             [
              0.4444444444444444,
              "#bd3786"
             ],
             [
              0.5555555555555556,
              "#d8576b"
             ],
             [
              0.6666666666666666,
              "#ed7953"
             ],
             [
              0.7777777777777778,
              "#fb9f3a"
             ],
             [
              0.8888888888888888,
              "#fdca26"
             ],
             [
              1,
              "#f0f921"
             ]
            ],
            "type": "surface"
           }
          ],
          "table": [
           {
            "cells": {
             "fill": {
              "color": "#EBF0F8"
             },
             "line": {
              "color": "white"
             }
            },
            "header": {
             "fill": {
              "color": "#C8D4E3"
             },
             "line": {
              "color": "white"
             }
            },
            "type": "table"
           }
          ]
         },
         "layout": {
          "annotationdefaults": {
           "arrowcolor": "#2a3f5f",
           "arrowhead": 0,
           "arrowwidth": 1
          },
          "autotypenumbers": "strict",
          "coloraxis": {
           "colorbar": {
            "outlinewidth": 0,
            "ticks": ""
           }
          },
          "colorscale": {
           "diverging": [
            [
             0,
             "#8e0152"
            ],
            [
             0.1,
             "#c51b7d"
            ],
            [
             0.2,
             "#de77ae"
            ],
            [
             0.3,
             "#f1b6da"
            ],
            [
             0.4,
             "#fde0ef"
            ],
            [
             0.5,
             "#f7f7f7"
            ],
            [
             0.6,
             "#e6f5d0"
            ],
            [
             0.7,
             "#b8e186"
            ],
            [
             0.8,
             "#7fbc41"
            ],
            [
             0.9,
             "#4d9221"
            ],
            [
             1,
             "#276419"
            ]
           ],
           "sequential": [
            [
             0,
             "#0d0887"
            ],
            [
             0.1111111111111111,
             "#46039f"
            ],
            [
             0.2222222222222222,
             "#7201a8"
            ],
            [
             0.3333333333333333,
             "#9c179e"
            ],
            [
             0.4444444444444444,
             "#bd3786"
            ],
            [
             0.5555555555555556,
             "#d8576b"
            ],
            [
             0.6666666666666666,
             "#ed7953"
            ],
            [
             0.7777777777777778,
             "#fb9f3a"
            ],
            [
             0.8888888888888888,
             "#fdca26"
            ],
            [
             1,
             "#f0f921"
            ]
           ],
           "sequentialminus": [
            [
             0,
             "#0d0887"
            ],
            [
             0.1111111111111111,
             "#46039f"
            ],
            [
             0.2222222222222222,
             "#7201a8"
            ],
            [
             0.3333333333333333,
             "#9c179e"
            ],
            [
             0.4444444444444444,
             "#bd3786"
            ],
            [
             0.5555555555555556,
             "#d8576b"
            ],
            [
             0.6666666666666666,
             "#ed7953"
            ],
            [
             0.7777777777777778,
             "#fb9f3a"
            ],
            [
             0.8888888888888888,
             "#fdca26"
            ],
            [
             1,
             "#f0f921"
            ]
           ]
          },
          "colorway": [
           "#636efa",
           "#EF553B",
           "#00cc96",
           "#ab63fa",
           "#FFA15A",
           "#19d3f3",
           "#FF6692",
           "#B6E880",
           "#FF97FF",
           "#FECB52"
          ],
          "font": {
           "color": "#2a3f5f"
          },
          "geo": {
           "bgcolor": "white",
           "lakecolor": "white",
           "landcolor": "white",
           "showlakes": true,
           "showland": true,
           "subunitcolor": "#C8D4E3"
          },
          "hoverlabel": {
           "align": "left"
          },
          "hovermode": "closest",
          "mapbox": {
           "style": "light"
          },
          "paper_bgcolor": "white",
          "plot_bgcolor": "white",
          "polar": {
           "angularaxis": {
            "gridcolor": "#EBF0F8",
            "linecolor": "#EBF0F8",
            "ticks": ""
           },
           "bgcolor": "white",
           "radialaxis": {
            "gridcolor": "#EBF0F8",
            "linecolor": "#EBF0F8",
            "ticks": ""
           }
          },
          "scene": {
           "xaxis": {
            "backgroundcolor": "white",
            "gridcolor": "#DFE8F3",
            "gridwidth": 2,
            "linecolor": "#EBF0F8",
            "showbackground": true,
            "ticks": "",
            "zerolinecolor": "#EBF0F8"
           },
           "yaxis": {
            "backgroundcolor": "white",
            "gridcolor": "#DFE8F3",
            "gridwidth": 2,
            "linecolor": "#EBF0F8",
            "showbackground": true,
            "ticks": "",
            "zerolinecolor": "#EBF0F8"
           },
           "zaxis": {
            "backgroundcolor": "white",
            "gridcolor": "#DFE8F3",
            "gridwidth": 2,
            "linecolor": "#EBF0F8",
            "showbackground": true,
            "ticks": "",
            "zerolinecolor": "#EBF0F8"
           }
          },
          "shapedefaults": {
           "line": {
            "color": "#2a3f5f"
           }
          },
          "ternary": {
           "aaxis": {
            "gridcolor": "#DFE8F3",
            "linecolor": "#A2B1C6",
            "ticks": ""
           },
           "baxis": {
            "gridcolor": "#DFE8F3",
            "linecolor": "#A2B1C6",
            "ticks": ""
           },
           "bgcolor": "white",
           "caxis": {
            "gridcolor": "#DFE8F3",
            "linecolor": "#A2B1C6",
            "ticks": ""
           }
          },
          "title": {
           "x": 0.05
          },
          "xaxis": {
           "automargin": true,
           "gridcolor": "#EBF0F8",
           "linecolor": "#EBF0F8",
           "ticks": "",
           "title": {
            "standoff": 15
           },
           "zerolinecolor": "#EBF0F8",
           "zerolinewidth": 2
          },
          "yaxis": {
           "automargin": true,
           "gridcolor": "#EBF0F8",
           "linecolor": "#EBF0F8",
           "ticks": "",
           "title": {
            "standoff": 15
           },
           "zerolinecolor": "#EBF0F8",
           "zerolinewidth": 2
          }
         }
        },
        "xaxis": {
         "anchor": "y",
         "domain": [
          0,
          1
         ],
         "tickfont": {
          "size": 16
         },
         "title": {
          "font": {
           "size": 20
          },
          "text": "Numer badania"
         }
        },
        "yaxis": {
         "anchor": "x",
         "domain": [
          0,
          1
         ],
         "tickfont": {
          "size": 16
         },
         "title": {
          "font": {
           "size": 20
          },
          "text": "Czułość"
         }
        }
       }
      }
     },
     "metadata": {},
     "output_type": "display_data"
    }
   ],
   "source": [
    "melted_results_df = pd.melt(results_df, id_vars=['Badanie_NR'], value_vars=['LDA', 'RandomForest', 'KNeighbors', 'SVC'],\n",
    "                            var_name='Klasyfikator', value_name='Dokładność')\n",
    "x_label='Numer badania'\n",
    "title='klasyfikacja_obserwacje_accuracy'\n",
    "# Tworzymy wykres\n",
    "fig = px.line(melted_results_df, x='Badanie_NR', y='Dokładność', color='Klasyfikator', markers=True, line_shape='linear')\n",
    "\n",
    "# Dodajemy etykiety i tytuł\n",
    "fig.update_layout(\n",
    "    xaxis=dict(\n",
    "        title=x_label,\n",
    "        tickfont=dict(size=16),\n",
    "        title_font=dict(size=20),\n",
    "    ),\n",
    "    yaxis=dict(\n",
    "        title='Dokładność',\n",
    "        tickfont=dict(size=16),\n",
    "        title_font=dict(size=20)\n",
    "    )\n",
    ")\n",
    "\n",
    "fig.update_layout(template=\"plotly_white\")\n",
    "fig.show()\n",
    "fig.write_image(\"images4/\"+title+\".png\", width=1000, height=600, scale=4, format=\"png\")\n"
   ]
  }
 ],
 "metadata": {
  "kernelspec": {
   "display_name": "Python 3",
   "language": "python",
   "name": "python3"
  },
  "language_info": {
   "codemirror_mode": {
    "name": "ipython",
    "version": 3
   },
   "file_extension": ".py",
   "mimetype": "text/x-python",
   "name": "python",
   "nbconvert_exporter": "python",
   "pygments_lexer": "ipython3",
   "version": "3.9.8"
  }
 },
 "nbformat": 4,
 "nbformat_minor": 2
}
