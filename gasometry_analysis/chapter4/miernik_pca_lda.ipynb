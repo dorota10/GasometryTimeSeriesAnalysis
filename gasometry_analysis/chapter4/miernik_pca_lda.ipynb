{
 "cells": [
  {
   "cell_type": "code",
   "execution_count": null,
   "metadata": {},
   "outputs": [],
   "source": [
    "#podział na odchylenia wszystkie i odchylenia złe, bez odchyleń\n",
    "\n",
    "#pca\n",
    "#miernik na podstawie ostatniej wartości\n",
    "#użycie wag do LDA w czasie\n",
    "\n",
    "#granica LDA\n",
    "\n",
    "#50 pacjentów zmarłych i 50 zywych"
   ]
  },
  {
   "cell_type": "code",
   "execution_count": 74,
   "metadata": {},
   "outputs": [],
   "source": [
    "import pandas as pd\n",
    "import numpy as np\n",
    "import matplotlib.pyplot as plt\n",
    "import seaborn as sns\n",
    "from plotly.subplots import make_subplots\n",
    "from sklearn.decomposition import PCA\n",
    "from sklearn.model_selection import train_test_split\n",
    "import plotly.express as px\n",
    "from sklearn.discriminant_analysis import LinearDiscriminantAnalysis\n",
    "from sklearn.tree import DecisionTreeClassifier\n",
    "from sklearn.tree import plot_tree\n",
    "from sklearn.metrics import confusion_matrix\n",
    "from sklearn.tree import plot_tree\n",
    "from sklearn.ensemble import RandomForestClassifier\n",
    "import random\n",
    "import plotly.graph_objs as go"
   ]
  },
  {
   "cell_type": "markdown",
   "metadata": {},
   "source": [
    "### dane"
   ]
  },
  {
   "cell_type": "code",
   "execution_count": 3,
   "metadata": {},
   "outputs": [],
   "source": [
    "df_prep = pd.read_csv(\"..\\chapter3\\gasometry_prepared_data.csv\")\n",
    "cols=[\"BETET\",\t\"CO2TET\",\t\"HCO3ACTE\",\t\"HCO3STTE\",\t\"O2SATTET\",\t\"O2TET\", \"IONH\"]\n",
    "my_blue=\"#0064B2\";\n",
    "my_red=\"#D61600\";"
   ]
  },
  {
   "cell_type": "code",
   "execution_count": 239,
   "metadata": {},
   "outputs": [
    {
     "name": "stderr",
     "output_type": "stream",
     "text": [
      "C:\\Users\\dorot\\AppData\\Local\\Temp\\ipykernel_43564\\991917892.py:6: FutureWarning:\n",
      "\n",
      "DataFrame.applymap has been deprecated. Use DataFrame.map instead.\n",
      "\n",
      "C:\\Users\\dorot\\AppData\\Local\\Temp\\ipykernel_43564\\991917892.py:7: FutureWarning:\n",
      "\n",
      "DataFrame.applymap has been deprecated. Use DataFrame.map instead.\n",
      "\n"
     ]
    }
   ],
   "source": [
    "df_miernik=df_prep.copy()\n",
    "vars1=[\"BETET\", \"O2TET\"]\n",
    "vars2=[\"IONH\", \"CO2TET\"]\n",
    "\n",
    "#wyliczenie wartości poza normą świadczące o zakwaszeniu organizmu\n",
    "df_miernik[[\"BETET_kw\", \"O2TET_kw\"]]=df_miernik[vars1].applymap(lambda x: 0 if x >= 0 else abs(x))\n",
    "df_miernik[[\"IONH_kw\", \"CO2TET_kw\"]]=df_miernik[vars2].applymap(lambda x: 0 if x <= 1 else x-1)\n",
    "\n",
    "df_prep=df_miernik"
   ]
  },
  {
   "cell_type": "code",
   "execution_count": 240,
   "metadata": {},
   "outputs": [],
   "source": [
    "random.seed(42)  \n",
    "df_zgon = df_prep.groupby('PACJENT_NR').last()\n",
    "sample_zgon = random.sample(list(df_zgon[df_zgon['ZGON'] ==1 ].index), 40)\n",
    "sample_nzgon = random.sample(list(df_zgon[df_zgon['ZGON'] == 0].index), 40)\n",
    "indexes=[*sample_zgon, *sample_nzgon]\n",
    "pacjenci_80 = df_zgon.loc[df_zgon.index.isin(indexes)].index\n",
    "data80=df_prep.loc[df_prep[\"PACJENT_NR\"].isin(pacjenci_80)].reset_index(drop=True)\n",
    "data27=df_prep.loc[~df_prep[\"PACJENT_NR\"].isin(pacjenci_80)].reset_index(drop=True)"
   ]
  },
  {
   "cell_type": "code",
   "execution_count": 241,
   "metadata": {},
   "outputs": [
    {
     "data": {
      "text/html": [
       "<div>\n",
       "<style scoped>\n",
       "    .dataframe tbody tr th:only-of-type {\n",
       "        vertical-align: middle;\n",
       "    }\n",
       "\n",
       "    .dataframe tbody tr th {\n",
       "        vertical-align: top;\n",
       "    }\n",
       "\n",
       "    .dataframe thead th {\n",
       "        text-align: right;\n",
       "    }\n",
       "</style>\n",
       "<table border=\"1\" class=\"dataframe\">\n",
       "  <thead>\n",
       "    <tr style=\"text-align: right;\">\n",
       "      <th></th>\n",
       "      <th>Unnamed: 0</th>\n",
       "      <th>PACJENT_NR</th>\n",
       "      <th>BADANIE_NR</th>\n",
       "      <th>BETET</th>\n",
       "      <th>CO2TET</th>\n",
       "      <th>HCO3ACTE</th>\n",
       "      <th>HCO3STTE</th>\n",
       "      <th>O2SATTET</th>\n",
       "      <th>O2TET</th>\n",
       "      <th>IONH</th>\n",
       "      <th>ZGON</th>\n",
       "      <th>BETET_kw</th>\n",
       "      <th>O2TET_kw</th>\n",
       "      <th>IONH_kw</th>\n",
       "      <th>CO2TET_kw</th>\n",
       "    </tr>\n",
       "  </thead>\n",
       "  <tbody>\n",
       "    <tr>\n",
       "      <th>0</th>\n",
       "      <td>60</td>\n",
       "      <td>3</td>\n",
       "      <td>1</td>\n",
       "      <td>0.478261</td>\n",
       "      <td>1.42</td>\n",
       "      <td>0.883333</td>\n",
       "      <td>0.750</td>\n",
       "      <td>0.74</td>\n",
       "      <td>2.148</td>\n",
       "      <td>1.008167</td>\n",
       "      <td>0.0</td>\n",
       "      <td>0.000000</td>\n",
       "      <td>0.00</td>\n",
       "      <td>0.008167</td>\n",
       "      <td>0.42</td>\n",
       "    </tr>\n",
       "    <tr>\n",
       "      <th>1</th>\n",
       "      <td>61</td>\n",
       "      <td>3</td>\n",
       "      <td>2</td>\n",
       "      <td>1.782609</td>\n",
       "      <td>2.06</td>\n",
       "      <td>1.700000</td>\n",
       "      <td>1.675</td>\n",
       "      <td>0.90</td>\n",
       "      <td>3.924</td>\n",
       "      <td>0.795364</td>\n",
       "      <td>0.0</td>\n",
       "      <td>0.000000</td>\n",
       "      <td>0.00</td>\n",
       "      <td>0.000000</td>\n",
       "      <td>1.06</td>\n",
       "    </tr>\n",
       "    <tr>\n",
       "      <th>2</th>\n",
       "      <td>62</td>\n",
       "      <td>3</td>\n",
       "      <td>3</td>\n",
       "      <td>1.804348</td>\n",
       "      <td>1.24</td>\n",
       "      <td>1.716667</td>\n",
       "      <td>2.050</td>\n",
       "      <td>0.92</td>\n",
       "      <td>3.984</td>\n",
       "      <td>0.147539</td>\n",
       "      <td>0.0</td>\n",
       "      <td>0.000000</td>\n",
       "      <td>0.00</td>\n",
       "      <td>0.000000</td>\n",
       "      <td>0.24</td>\n",
       "    </tr>\n",
       "    <tr>\n",
       "      <th>3</th>\n",
       "      <td>63</td>\n",
       "      <td>3</td>\n",
       "      <td>4</td>\n",
       "      <td>2.826087</td>\n",
       "      <td>2.18</td>\n",
       "      <td>2.383333</td>\n",
       "      <td>2.600</td>\n",
       "      <td>0.56</td>\n",
       "      <td>0.936</td>\n",
       "      <td>0.381504</td>\n",
       "      <td>0.0</td>\n",
       "      <td>0.000000</td>\n",
       "      <td>0.00</td>\n",
       "      <td>0.000000</td>\n",
       "      <td>1.18</td>\n",
       "    </tr>\n",
       "    <tr>\n",
       "      <th>4</th>\n",
       "      <td>64</td>\n",
       "      <td>3</td>\n",
       "      <td>5</td>\n",
       "      <td>2.652174</td>\n",
       "      <td>2.31</td>\n",
       "      <td>2.633333</td>\n",
       "      <td>2.875</td>\n",
       "      <td>0.76</td>\n",
       "      <td>1.708</td>\n",
       "      <td>0.301894</td>\n",
       "      <td>0.0</td>\n",
       "      <td>0.000000</td>\n",
       "      <td>0.00</td>\n",
       "      <td>0.000000</td>\n",
       "      <td>1.31</td>\n",
       "    </tr>\n",
       "    <tr>\n",
       "      <th>...</th>\n",
       "      <td>...</td>\n",
       "      <td>...</td>\n",
       "      <td>...</td>\n",
       "      <td>...</td>\n",
       "      <td>...</td>\n",
       "      <td>...</td>\n",
       "      <td>...</td>\n",
       "      <td>...</td>\n",
       "      <td>...</td>\n",
       "      <td>...</td>\n",
       "      <td>...</td>\n",
       "      <td>...</td>\n",
       "      <td>...</td>\n",
       "      <td>...</td>\n",
       "      <td>...</td>\n",
       "    </tr>\n",
       "    <tr>\n",
       "      <th>2165</th>\n",
       "      <td>2929</td>\n",
       "      <td>145</td>\n",
       "      <td>5</td>\n",
       "      <td>-0.717391</td>\n",
       "      <td>1.63</td>\n",
       "      <td>0.133333</td>\n",
       "      <td>-0.350</td>\n",
       "      <td>0.18</td>\n",
       "      <td>0.420</td>\n",
       "      <td>2.294287</td>\n",
       "      <td>1.0</td>\n",
       "      <td>0.717391</td>\n",
       "      <td>0.00</td>\n",
       "      <td>1.294287</td>\n",
       "      <td>0.63</td>\n",
       "    </tr>\n",
       "    <tr>\n",
       "      <th>2166</th>\n",
       "      <td>2930</td>\n",
       "      <td>145</td>\n",
       "      <td>6</td>\n",
       "      <td>-0.891304</td>\n",
       "      <td>1.39</td>\n",
       "      <td>-0.016667</td>\n",
       "      <td>-0.450</td>\n",
       "      <td>0.76</td>\n",
       "      <td>1.640</td>\n",
       "      <td>2.254399</td>\n",
       "      <td>1.0</td>\n",
       "      <td>0.891304</td>\n",
       "      <td>0.00</td>\n",
       "      <td>1.254399</td>\n",
       "      <td>0.39</td>\n",
       "    </tr>\n",
       "    <tr>\n",
       "      <th>2167</th>\n",
       "      <td>2931</td>\n",
       "      <td>145</td>\n",
       "      <td>7</td>\n",
       "      <td>-1.065217</td>\n",
       "      <td>1.71</td>\n",
       "      <td>-0.050000</td>\n",
       "      <td>-0.650</td>\n",
       "      <td>-0.06</td>\n",
       "      <td>0.316</td>\n",
       "      <td>2.708690</td>\n",
       "      <td>1.0</td>\n",
       "      <td>1.065217</td>\n",
       "      <td>0.00</td>\n",
       "      <td>1.708690</td>\n",
       "      <td>0.71</td>\n",
       "    </tr>\n",
       "    <tr>\n",
       "      <th>2168</th>\n",
       "      <td>2932</td>\n",
       "      <td>145</td>\n",
       "      <td>8</td>\n",
       "      <td>-0.695652</td>\n",
       "      <td>1.15</td>\n",
       "      <td>0.066667</td>\n",
       "      <td>-0.275</td>\n",
       "      <td>0.62</td>\n",
       "      <td>1.600</td>\n",
       "      <td>1.857967</td>\n",
       "      <td>1.0</td>\n",
       "      <td>0.695652</td>\n",
       "      <td>0.00</td>\n",
       "      <td>0.857967</td>\n",
       "      <td>0.15</td>\n",
       "    </tr>\n",
       "    <tr>\n",
       "      <th>2169</th>\n",
       "      <td>2933</td>\n",
       "      <td>145</td>\n",
       "      <td>9</td>\n",
       "      <td>-0.978261</td>\n",
       "      <td>1.36</td>\n",
       "      <td>-0.066667</td>\n",
       "      <td>-0.550</td>\n",
       "      <td>-1.36</td>\n",
       "      <td>-0.660</td>\n",
       "      <td>2.294287</td>\n",
       "      <td>1.0</td>\n",
       "      <td>0.978261</td>\n",
       "      <td>0.66</td>\n",
       "      <td>1.294287</td>\n",
       "      <td>0.36</td>\n",
       "    </tr>\n",
       "  </tbody>\n",
       "</table>\n",
       "<p>2170 rows × 15 columns</p>\n",
       "</div>"
      ],
      "text/plain": [
       "      Unnamed: 0  PACJENT_NR  BADANIE_NR     BETET  CO2TET  HCO3ACTE  \\\n",
       "0             60           3           1  0.478261    1.42  0.883333   \n",
       "1             61           3           2  1.782609    2.06  1.700000   \n",
       "2             62           3           3  1.804348    1.24  1.716667   \n",
       "3             63           3           4  2.826087    2.18  2.383333   \n",
       "4             64           3           5  2.652174    2.31  2.633333   \n",
       "...          ...         ...         ...       ...     ...       ...   \n",
       "2165        2929         145           5 -0.717391    1.63  0.133333   \n",
       "2166        2930         145           6 -0.891304    1.39 -0.016667   \n",
       "2167        2931         145           7 -1.065217    1.71 -0.050000   \n",
       "2168        2932         145           8 -0.695652    1.15  0.066667   \n",
       "2169        2933         145           9 -0.978261    1.36 -0.066667   \n",
       "\n",
       "      HCO3STTE  O2SATTET  O2TET      IONH  ZGON  BETET_kw  O2TET_kw   IONH_kw  \\\n",
       "0        0.750      0.74  2.148  1.008167   0.0  0.000000      0.00  0.008167   \n",
       "1        1.675      0.90  3.924  0.795364   0.0  0.000000      0.00  0.000000   \n",
       "2        2.050      0.92  3.984  0.147539   0.0  0.000000      0.00  0.000000   \n",
       "3        2.600      0.56  0.936  0.381504   0.0  0.000000      0.00  0.000000   \n",
       "4        2.875      0.76  1.708  0.301894   0.0  0.000000      0.00  0.000000   \n",
       "...        ...       ...    ...       ...   ...       ...       ...       ...   \n",
       "2165    -0.350      0.18  0.420  2.294287   1.0  0.717391      0.00  1.294287   \n",
       "2166    -0.450      0.76  1.640  2.254399   1.0  0.891304      0.00  1.254399   \n",
       "2167    -0.650     -0.06  0.316  2.708690   1.0  1.065217      0.00  1.708690   \n",
       "2168    -0.275      0.62  1.600  1.857967   1.0  0.695652      0.00  0.857967   \n",
       "2169    -0.550     -1.36 -0.660  2.294287   1.0  0.978261      0.66  1.294287   \n",
       "\n",
       "      CO2TET_kw  \n",
       "0          0.42  \n",
       "1          1.06  \n",
       "2          0.24  \n",
       "3          1.18  \n",
       "4          1.31  \n",
       "...         ...  \n",
       "2165       0.63  \n",
       "2166       0.39  \n",
       "2167       0.71  \n",
       "2168       0.15  \n",
       "2169       0.36  \n",
       "\n",
       "[2170 rows x 15 columns]"
      ]
     },
     "execution_count": 241,
     "metadata": {},
     "output_type": "execute_result"
    }
   ],
   "source": [
    "data80"
   ]
  },
  {
   "cell_type": "code",
   "execution_count": 243,
   "metadata": {},
   "outputs": [],
   "source": [
    "cols=data80.columns[3:-1]\n",
    "cols=[\"BETET_kw\", \"O2TET_kw\", \"IONH_kw\", \"CO2TET_kw\"]"
   ]
  },
  {
   "cell_type": "markdown",
   "metadata": {},
   "source": [
    "### PCA"
   ]
  },
  {
   "cell_type": "code",
   "execution_count": 244,
   "metadata": {},
   "outputs": [
    {
     "data": {
      "text/plain": [
       "array([0.71926015, 0.20923469, 0.05056287, 0.02094229])"
      ]
     },
     "execution_count": 244,
     "metadata": {},
     "output_type": "execute_result"
    }
   ],
   "source": [
    "X_data=data80[cols].reset_index(drop=True)\n",
    "\n",
    "pca = PCA()\n",
    "components = pca.fit_transform(X_data)\n",
    "\n",
    "pca.explained_variance_ratio_\n"
   ]
  },
  {
   "cell_type": "code",
   "execution_count": 246,
   "metadata": {},
   "outputs": [
    {
     "data": {
      "application/vnd.plotly.v1+json": {
       "config": {
        "plotlyServerURL": "https://plot.ly"
       },
       "data": [
        {
         "mode": "lines+markers",
         "name": "Explained Variance Ratio",
         "type": "scatter",
         "x": [
          1,
          2,
          3,
          4
         ],
         "y": [
          0.719260147966792,
          0.20923469018532165,
          0.050562874639717655,
          0.020942287208168715
         ]
        }
       ],
       "layout": {
        "template": {
         "data": {
          "bar": [
           {
            "error_x": {
             "color": "#2a3f5f"
            },
            "error_y": {
             "color": "#2a3f5f"
            },
            "marker": {
             "line": {
              "color": "#E5ECF6",
              "width": 0.5
             },
             "pattern": {
              "fillmode": "overlay",
              "size": 10,
              "solidity": 0.2
             }
            },
            "type": "bar"
           }
          ],
          "barpolar": [
           {
            "marker": {
             "line": {
              "color": "#E5ECF6",
              "width": 0.5
             },
             "pattern": {
              "fillmode": "overlay",
              "size": 10,
              "solidity": 0.2
             }
            },
            "type": "barpolar"
           }
          ],
          "carpet": [
           {
            "aaxis": {
             "endlinecolor": "#2a3f5f",
             "gridcolor": "white",
             "linecolor": "white",
             "minorgridcolor": "white",
             "startlinecolor": "#2a3f5f"
            },
            "baxis": {
             "endlinecolor": "#2a3f5f",
             "gridcolor": "white",
             "linecolor": "white",
             "minorgridcolor": "white",
             "startlinecolor": "#2a3f5f"
            },
            "type": "carpet"
           }
          ],
          "choropleth": [
           {
            "colorbar": {
             "outlinewidth": 0,
             "ticks": ""
            },
            "type": "choropleth"
           }
          ],
          "contour": [
           {
            "colorbar": {
             "outlinewidth": 0,
             "ticks": ""
            },
            "colorscale": [
             [
              0,
              "#0d0887"
             ],
             [
              0.1111111111111111,
              "#46039f"
             ],
             [
              0.2222222222222222,
              "#7201a8"
             ],
             [
              0.3333333333333333,
              "#9c179e"
             ],
             [
              0.4444444444444444,
              "#bd3786"
             ],
             [
              0.5555555555555556,
              "#d8576b"
             ],
             [
              0.6666666666666666,
              "#ed7953"
             ],
             [
              0.7777777777777778,
              "#fb9f3a"
             ],
             [
              0.8888888888888888,
              "#fdca26"
             ],
             [
              1,
              "#f0f921"
             ]
            ],
            "type": "contour"
           }
          ],
          "contourcarpet": [
           {
            "colorbar": {
             "outlinewidth": 0,
             "ticks": ""
            },
            "type": "contourcarpet"
           }
          ],
          "heatmap": [
           {
            "colorbar": {
             "outlinewidth": 0,
             "ticks": ""
            },
            "colorscale": [
             [
              0,
              "#0d0887"
             ],
             [
              0.1111111111111111,
              "#46039f"
             ],
             [
              0.2222222222222222,
              "#7201a8"
             ],
             [
              0.3333333333333333,
              "#9c179e"
             ],
             [
              0.4444444444444444,
              "#bd3786"
             ],
             [
              0.5555555555555556,
              "#d8576b"
             ],
             [
              0.6666666666666666,
              "#ed7953"
             ],
             [
              0.7777777777777778,
              "#fb9f3a"
             ],
             [
              0.8888888888888888,
              "#fdca26"
             ],
             [
              1,
              "#f0f921"
             ]
            ],
            "type": "heatmap"
           }
          ],
          "heatmapgl": [
           {
            "colorbar": {
             "outlinewidth": 0,
             "ticks": ""
            },
            "colorscale": [
             [
              0,
              "#0d0887"
             ],
             [
              0.1111111111111111,
              "#46039f"
             ],
             [
              0.2222222222222222,
              "#7201a8"
             ],
             [
              0.3333333333333333,
              "#9c179e"
             ],
             [
              0.4444444444444444,
              "#bd3786"
             ],
             [
              0.5555555555555556,
              "#d8576b"
             ],
             [
              0.6666666666666666,
              "#ed7953"
             ],
             [
              0.7777777777777778,
              "#fb9f3a"
             ],
             [
              0.8888888888888888,
              "#fdca26"
             ],
             [
              1,
              "#f0f921"
             ]
            ],
            "type": "heatmapgl"
           }
          ],
          "histogram": [
           {
            "marker": {
             "pattern": {
              "fillmode": "overlay",
              "size": 10,
              "solidity": 0.2
             }
            },
            "type": "histogram"
           }
          ],
          "histogram2d": [
           {
            "colorbar": {
             "outlinewidth": 0,
             "ticks": ""
            },
            "colorscale": [
             [
              0,
              "#0d0887"
             ],
             [
              0.1111111111111111,
              "#46039f"
             ],
             [
              0.2222222222222222,
              "#7201a8"
             ],
             [
              0.3333333333333333,
              "#9c179e"
             ],
             [
              0.4444444444444444,
              "#bd3786"
             ],
             [
              0.5555555555555556,
              "#d8576b"
             ],
             [
              0.6666666666666666,
              "#ed7953"
             ],
             [
              0.7777777777777778,
              "#fb9f3a"
             ],
             [
              0.8888888888888888,
              "#fdca26"
             ],
             [
              1,
              "#f0f921"
             ]
            ],
            "type": "histogram2d"
           }
          ],
          "histogram2dcontour": [
           {
            "colorbar": {
             "outlinewidth": 0,
             "ticks": ""
            },
            "colorscale": [
             [
              0,
              "#0d0887"
             ],
             [
              0.1111111111111111,
              "#46039f"
             ],
             [
              0.2222222222222222,
              "#7201a8"
             ],
             [
              0.3333333333333333,
              "#9c179e"
             ],
             [
              0.4444444444444444,
              "#bd3786"
             ],
             [
              0.5555555555555556,
              "#d8576b"
             ],
             [
              0.6666666666666666,
              "#ed7953"
             ],
             [
              0.7777777777777778,
              "#fb9f3a"
             ],
             [
              0.8888888888888888,
              "#fdca26"
             ],
             [
              1,
              "#f0f921"
             ]
            ],
            "type": "histogram2dcontour"
           }
          ],
          "mesh3d": [
           {
            "colorbar": {
             "outlinewidth": 0,
             "ticks": ""
            },
            "type": "mesh3d"
           }
          ],
          "parcoords": [
           {
            "line": {
             "colorbar": {
              "outlinewidth": 0,
              "ticks": ""
             }
            },
            "type": "parcoords"
           }
          ],
          "pie": [
           {
            "automargin": true,
            "type": "pie"
           }
          ],
          "scatter": [
           {
            "marker": {
             "colorbar": {
              "outlinewidth": 0,
              "ticks": ""
             }
            },
            "type": "scatter"
           }
          ],
          "scatter3d": [
           {
            "line": {
             "colorbar": {
              "outlinewidth": 0,
              "ticks": ""
             }
            },
            "marker": {
             "colorbar": {
              "outlinewidth": 0,
              "ticks": ""
             }
            },
            "type": "scatter3d"
           }
          ],
          "scattercarpet": [
           {
            "marker": {
             "colorbar": {
              "outlinewidth": 0,
              "ticks": ""
             }
            },
            "type": "scattercarpet"
           }
          ],
          "scattergeo": [
           {
            "marker": {
             "colorbar": {
              "outlinewidth": 0,
              "ticks": ""
             }
            },
            "type": "scattergeo"
           }
          ],
          "scattergl": [
           {
            "marker": {
             "colorbar": {
              "outlinewidth": 0,
              "ticks": ""
             }
            },
            "type": "scattergl"
           }
          ],
          "scattermapbox": [
           {
            "marker": {
             "colorbar": {
              "outlinewidth": 0,
              "ticks": ""
             }
            },
            "type": "scattermapbox"
           }
          ],
          "scatterpolar": [
           {
            "marker": {
             "colorbar": {
              "outlinewidth": 0,
              "ticks": ""
             }
            },
            "type": "scatterpolar"
           }
          ],
          "scatterpolargl": [
           {
            "marker": {
             "colorbar": {
              "outlinewidth": 0,
              "ticks": ""
             }
            },
            "type": "scatterpolargl"
           }
          ],
          "scatterternary": [
           {
            "marker": {
             "colorbar": {
              "outlinewidth": 0,
              "ticks": ""
             }
            },
            "type": "scatterternary"
           }
          ],
          "surface": [
           {
            "colorbar": {
             "outlinewidth": 0,
             "ticks": ""
            },
            "colorscale": [
             [
              0,
              "#0d0887"
             ],
             [
              0.1111111111111111,
              "#46039f"
             ],
             [
              0.2222222222222222,
              "#7201a8"
             ],
             [
              0.3333333333333333,
              "#9c179e"
             ],
             [
              0.4444444444444444,
              "#bd3786"
             ],
             [
              0.5555555555555556,
              "#d8576b"
             ],
             [
              0.6666666666666666,
              "#ed7953"
             ],
             [
              0.7777777777777778,
              "#fb9f3a"
             ],
             [
              0.8888888888888888,
              "#fdca26"
             ],
             [
              1,
              "#f0f921"
             ]
            ],
            "type": "surface"
           }
          ],
          "table": [
           {
            "cells": {
             "fill": {
              "color": "#EBF0F8"
             },
             "line": {
              "color": "white"
             }
            },
            "header": {
             "fill": {
              "color": "#C8D4E3"
             },
             "line": {
              "color": "white"
             }
            },
            "type": "table"
           }
          ]
         },
         "layout": {
          "annotationdefaults": {
           "arrowcolor": "#2a3f5f",
           "arrowhead": 0,
           "arrowwidth": 1
          },
          "autotypenumbers": "strict",
          "coloraxis": {
           "colorbar": {
            "outlinewidth": 0,
            "ticks": ""
           }
          },
          "colorscale": {
           "diverging": [
            [
             0,
             "#8e0152"
            ],
            [
             0.1,
             "#c51b7d"
            ],
            [
             0.2,
             "#de77ae"
            ],
            [
             0.3,
             "#f1b6da"
            ],
            [
             0.4,
             "#fde0ef"
            ],
            [
             0.5,
             "#f7f7f7"
            ],
            [
             0.6,
             "#e6f5d0"
            ],
            [
             0.7,
             "#b8e186"
            ],
            [
             0.8,
             "#7fbc41"
            ],
            [
             0.9,
             "#4d9221"
            ],
            [
             1,
             "#276419"
            ]
           ],
           "sequential": [
            [
             0,
             "#0d0887"
            ],
            [
             0.1111111111111111,
             "#46039f"
            ],
            [
             0.2222222222222222,
             "#7201a8"
            ],
            [
             0.3333333333333333,
             "#9c179e"
            ],
            [
             0.4444444444444444,
             "#bd3786"
            ],
            [
             0.5555555555555556,
             "#d8576b"
            ],
            [
             0.6666666666666666,
             "#ed7953"
            ],
            [
             0.7777777777777778,
             "#fb9f3a"
            ],
            [
             0.8888888888888888,
             "#fdca26"
            ],
            [
             1,
             "#f0f921"
            ]
           ],
           "sequentialminus": [
            [
             0,
             "#0d0887"
            ],
            [
             0.1111111111111111,
             "#46039f"
            ],
            [
             0.2222222222222222,
             "#7201a8"
            ],
            [
             0.3333333333333333,
             "#9c179e"
            ],
            [
             0.4444444444444444,
             "#bd3786"
            ],
            [
             0.5555555555555556,
             "#d8576b"
            ],
            [
             0.6666666666666666,
             "#ed7953"
            ],
            [
             0.7777777777777778,
             "#fb9f3a"
            ],
            [
             0.8888888888888888,
             "#fdca26"
            ],
            [
             1,
             "#f0f921"
            ]
           ]
          },
          "colorway": [
           "#636efa",
           "#EF553B",
           "#00cc96",
           "#ab63fa",
           "#FFA15A",
           "#19d3f3",
           "#FF6692",
           "#B6E880",
           "#FF97FF",
           "#FECB52"
          ],
          "font": {
           "color": "#2a3f5f"
          },
          "geo": {
           "bgcolor": "white",
           "lakecolor": "white",
           "landcolor": "#E5ECF6",
           "showlakes": true,
           "showland": true,
           "subunitcolor": "white"
          },
          "hoverlabel": {
           "align": "left"
          },
          "hovermode": "closest",
          "mapbox": {
           "style": "light"
          },
          "paper_bgcolor": "white",
          "plot_bgcolor": "#E5ECF6",
          "polar": {
           "angularaxis": {
            "gridcolor": "white",
            "linecolor": "white",
            "ticks": ""
           },
           "bgcolor": "#E5ECF6",
           "radialaxis": {
            "gridcolor": "white",
            "linecolor": "white",
            "ticks": ""
           }
          },
          "scene": {
           "xaxis": {
            "backgroundcolor": "#E5ECF6",
            "gridcolor": "white",
            "gridwidth": 2,
            "linecolor": "white",
            "showbackground": true,
            "ticks": "",
            "zerolinecolor": "white"
           },
           "yaxis": {
            "backgroundcolor": "#E5ECF6",
            "gridcolor": "white",
            "gridwidth": 2,
            "linecolor": "white",
            "showbackground": true,
            "ticks": "",
            "zerolinecolor": "white"
           },
           "zaxis": {
            "backgroundcolor": "#E5ECF6",
            "gridcolor": "white",
            "gridwidth": 2,
            "linecolor": "white",
            "showbackground": true,
            "ticks": "",
            "zerolinecolor": "white"
           }
          },
          "shapedefaults": {
           "line": {
            "color": "#2a3f5f"
           }
          },
          "ternary": {
           "aaxis": {
            "gridcolor": "white",
            "linecolor": "white",
            "ticks": ""
           },
           "baxis": {
            "gridcolor": "white",
            "linecolor": "white",
            "ticks": ""
           },
           "bgcolor": "#E5ECF6",
           "caxis": {
            "gridcolor": "white",
            "linecolor": "white",
            "ticks": ""
           }
          },
          "title": {
           "x": 0.05
          },
          "xaxis": {
           "automargin": true,
           "gridcolor": "white",
           "linecolor": "white",
           "ticks": "",
           "title": {
            "standoff": 15
           },
           "zerolinecolor": "white",
           "zerolinewidth": 2
          },
          "yaxis": {
           "automargin": true,
           "gridcolor": "white",
           "linecolor": "white",
           "ticks": "",
           "title": {
            "standoff": 15
           },
           "zerolinecolor": "white",
           "zerolinewidth": 2
          }
         }
        },
        "title": {
         "text": "Scree Plot - Explained Variance Ratio"
        },
        "xaxis": {
         "title": {
          "text": "Principal Component"
         }
        },
        "yaxis": {
         "title": {
          "text": "Explained Variance Ratio"
         }
        }
       }
      }
     },
     "metadata": {},
     "output_type": "display_data"
    }
   ],
   "source": [
    "# Wyjaśniona wariancja\n",
    "explained_variance_ratio = pca.explained_variance_ratio_\n",
    "\n",
    "# Kumulatywna suma wyjaśnionej wariancji\n",
    "cumulative_explained_variance_ratio = explained_variance_ratio.cumsum()\n",
    "\n",
    "# Tworzenie osypiska (scree plot) za pomocą Plotly\n",
    "fig = go.Figure()\n",
    "fig.add_trace(go.Scatter(x=list(range(1, len(explained_variance_ratio) + 1)), y=explained_variance_ratio,\n",
    "                         mode='lines+markers', name='Explained Variance Ratio'))\n",
    "fig.add_trace(go.Scatter(x=list(range(1, len(cumulative_explained_variance_ratio) + 1)), \n",
    "                         y=cumulative_explained_variance_ratio,\n",
    "                         mode='lines+markers', name='Cumulative Explained Variance Ratio'))\n",
    "\n",
    "# Dodanie pionowej linii dla 95% wyjaśnionej wariancji\n",
    "fig.add_shape(type=\"line\",\n",
    "              x0=1, y0=0.95, x1=len(explained_variance_ratio), y1=0.95,\n",
    "              line=dict(color=\"red\", width=2, dash=\"dash\"))\n",
    "\n",
    "# Dodanie tekstu dla 95% wyjaśnionej wariancji\n",
    "fig.add_annotation(\n",
    "            x=len(explained_variance_ratio),\n",
    "            y=0.95,\n",
    "            text=\"95% Explained Variance\",\n",
    "            showarrow=True,\n",
    "            arrowhead=1,\n",
    "            arrowcolor=\"red\",\n",
    "            arrowsize=1,\n",
    "            arrowwidth=2,\n",
    "            ax=50,\n",
    "            ay=-50,\n",
    "            font=dict(color=\"red\", size=12),\n",
    "            align=\"center\"\n",
    "        )\n",
    "\n",
    "# Konfiguracja osi i tytułu\n",
    "fig.update_layout(title='Scree Plot - Explained Variance Ratio',\n",
    "                  xaxis_title='Principal Component',\n",
    "                  yaxis_title='Explained Variance Ratio')\n",
    "\n",
    "# Wyświetlenie wykresu\n",
    "fig.show()\n"
   ]
  },
  {
   "cell_type": "code",
   "execution_count": 248,
   "metadata": {},
   "outputs": [
    {
     "data": {
      "text/plain": [
       "array([0.71926015, 0.20923469, 0.05056287])"
      ]
     },
     "execution_count": 248,
     "metadata": {},
     "output_type": "execute_result"
    }
   ],
   "source": [
    "X_data=data80[cols].reset_index(drop=True)\n",
    "y_data=data80['ZGON']\n",
    "\n",
    "pca = PCA(n_components=3)\n",
    "components = pca.fit_transform(X_data)\n",
    "components_test=pca.transform(data27[cols])\n",
    "\n",
    "pca.explained_variance_ratio_"
   ]
  },
  {
   "cell_type": "code",
   "execution_count": 249,
   "metadata": {},
   "outputs": [
    {
     "data": {
      "text/html": [
       "<div>\n",
       "<style scoped>\n",
       "    .dataframe tbody tr th:only-of-type {\n",
       "        vertical-align: middle;\n",
       "    }\n",
       "\n",
       "    .dataframe tbody tr th {\n",
       "        vertical-align: top;\n",
       "    }\n",
       "\n",
       "    .dataframe thead th {\n",
       "        text-align: right;\n",
       "    }\n",
       "</style>\n",
       "<table border=\"1\" class=\"dataframe\">\n",
       "  <thead>\n",
       "    <tr style=\"text-align: right;\">\n",
       "      <th></th>\n",
       "      <th>BETET_kw</th>\n",
       "      <th>O2TET_kw</th>\n",
       "      <th>IONH_kw</th>\n",
       "      <th>CO2TET_kw</th>\n",
       "    </tr>\n",
       "  </thead>\n",
       "  <tbody>\n",
       "    <tr>\n",
       "      <th>0</th>\n",
       "      <td>0.115341</td>\n",
       "      <td>0.006166</td>\n",
       "      <td>0.546195</td>\n",
       "      <td>0.829656</td>\n",
       "    </tr>\n",
       "    <tr>\n",
       "      <th>1</th>\n",
       "      <td>0.472885</td>\n",
       "      <td>-0.060875</td>\n",
       "      <td>0.702797</td>\n",
       "      <td>-0.527968</td>\n",
       "    </tr>\n",
       "    <tr>\n",
       "      <th>2</th>\n",
       "      <td>0.132447</td>\n",
       "      <td>0.990948</td>\n",
       "      <td>-0.015154</td>\n",
       "      <td>-0.015801</td>\n",
       "    </tr>\n",
       "  </tbody>\n",
       "</table>\n",
       "</div>"
      ],
      "text/plain": [
       "   BETET_kw  O2TET_kw   IONH_kw  CO2TET_kw\n",
       "0  0.115341  0.006166  0.546195   0.829656\n",
       "1  0.472885 -0.060875  0.702797  -0.527968\n",
       "2  0.132447  0.990948 -0.015154  -0.015801"
      ]
     },
     "execution_count": 249,
     "metadata": {},
     "output_type": "execute_result"
    }
   ],
   "source": [
    "# Wagi (współczynniki) PCA\n",
    "weights_pca = pca.components_\n",
    "weights_df = pd.DataFrame(weights_pca, columns=X_data.columns)\n",
    "weights_df "
   ]
  },
  {
   "cell_type": "code",
   "execution_count": 250,
   "metadata": {},
   "outputs": [
    {
     "data": {
      "text/html": [
       "<div>\n",
       "<style scoped>\n",
       "    .dataframe tbody tr th:only-of-type {\n",
       "        vertical-align: middle;\n",
       "    }\n",
       "\n",
       "    .dataframe tbody tr th {\n",
       "        vertical-align: top;\n",
       "    }\n",
       "\n",
       "    .dataframe thead th {\n",
       "        text-align: right;\n",
       "    }\n",
       "</style>\n",
       "<table border=\"1\" class=\"dataframe\">\n",
       "  <thead>\n",
       "    <tr style=\"text-align: right;\">\n",
       "      <th></th>\n",
       "      <th>PC1</th>\n",
       "      <th>PC2</th>\n",
       "      <th>PC3</th>\n",
       "      <th>PACJENT_NR</th>\n",
       "      <th>BADANIE_NR</th>\n",
       "      <th>ZGON</th>\n",
       "    </tr>\n",
       "  </thead>\n",
       "  <tbody>\n",
       "    <tr>\n",
       "      <th>0</th>\n",
       "      <td>-0.519466</td>\n",
       "      <td>-0.054108</td>\n",
       "      <td>-0.135803</td>\n",
       "      <td>3</td>\n",
       "      <td>1</td>\n",
       "      <td>0.0</td>\n",
       "    </tr>\n",
       "    <tr>\n",
       "      <th>1</th>\n",
       "      <td>0.007053</td>\n",
       "      <td>-0.397747</td>\n",
       "      <td>-0.145792</td>\n",
       "      <td>3</td>\n",
       "      <td>2</td>\n",
       "      <td>0.0</td>\n",
       "    </tr>\n",
       "    <tr>\n",
       "      <th>2</th>\n",
       "      <td>-0.673265</td>\n",
       "      <td>0.035186</td>\n",
       "      <td>-0.132835</td>\n",
       "      <td>3</td>\n",
       "      <td>3</td>\n",
       "      <td>0.0</td>\n",
       "    </tr>\n",
       "    <tr>\n",
       "      <th>3</th>\n",
       "      <td>0.106612</td>\n",
       "      <td>-0.461104</td>\n",
       "      <td>-0.147688</td>\n",
       "      <td>3</td>\n",
       "      <td>4</td>\n",
       "      <td>0.0</td>\n",
       "    </tr>\n",
       "    <tr>\n",
       "      <th>4</th>\n",
       "      <td>0.214468</td>\n",
       "      <td>-0.529739</td>\n",
       "      <td>-0.149742</td>\n",
       "      <td>3</td>\n",
       "      <td>5</td>\n",
       "      <td>0.0</td>\n",
       "    </tr>\n",
       "    <tr>\n",
       "      <th>...</th>\n",
       "      <td>...</td>\n",
       "      <td>...</td>\n",
       "      <td>...</td>\n",
       "      <td>...</td>\n",
       "      <td>...</td>\n",
       "      <td>...</td>\n",
       "    </tr>\n",
       "    <tr>\n",
       "      <th>2165</th>\n",
       "      <td>0.439979</td>\n",
       "      <td>1.078144</td>\n",
       "      <td>-0.063595</td>\n",
       "      <td>145</td>\n",
       "      <td>5</td>\n",
       "      <td>1.0</td>\n",
       "    </tr>\n",
       "    <tr>\n",
       "      <th>2166</th>\n",
       "      <td>0.239134</td>\n",
       "      <td>1.259064</td>\n",
       "      <td>-0.036164</td>\n",
       "      <td>145</td>\n",
       "      <td>6</td>\n",
       "      <td>1.0</td>\n",
       "    </tr>\n",
       "    <tr>\n",
       "      <th>2167</th>\n",
       "      <td>0.772815</td>\n",
       "      <td>1.491629</td>\n",
       "      <td>-0.025071</td>\n",
       "      <td>145</td>\n",
       "      <td>7</td>\n",
       "      <td>1.0</td>\n",
       "    </tr>\n",
       "    <tr>\n",
       "      <th>2168</th>\n",
       "      <td>-0.199080</td>\n",
       "      <td>1.014643</td>\n",
       "      <td>-0.052278</td>\n",
       "      <td>145</td>\n",
       "      <td>8</td>\n",
       "      <td>1.0</td>\n",
       "    </tr>\n",
       "    <tr>\n",
       "      <th>2169</th>\n",
       "      <td>0.250130</td>\n",
       "      <td>1.303879</td>\n",
       "      <td>0.629248</td>\n",
       "      <td>145</td>\n",
       "      <td>9</td>\n",
       "      <td>1.0</td>\n",
       "    </tr>\n",
       "  </tbody>\n",
       "</table>\n",
       "<p>2170 rows × 6 columns</p>\n",
       "</div>"
      ],
      "text/plain": [
       "           PC1       PC2       PC3  PACJENT_NR  BADANIE_NR  ZGON\n",
       "0    -0.519466 -0.054108 -0.135803           3           1   0.0\n",
       "1     0.007053 -0.397747 -0.145792           3           2   0.0\n",
       "2    -0.673265  0.035186 -0.132835           3           3   0.0\n",
       "3     0.106612 -0.461104 -0.147688           3           4   0.0\n",
       "4     0.214468 -0.529739 -0.149742           3           5   0.0\n",
       "...        ...       ...       ...         ...         ...   ...\n",
       "2165  0.439979  1.078144 -0.063595         145           5   1.0\n",
       "2166  0.239134  1.259064 -0.036164         145           6   1.0\n",
       "2167  0.772815  1.491629 -0.025071         145           7   1.0\n",
       "2168 -0.199080  1.014643 -0.052278         145           8   1.0\n",
       "2169  0.250130  1.303879  0.629248         145           9   1.0\n",
       "\n",
       "[2170 rows x 6 columns]"
      ]
     },
     "execution_count": 250,
     "metadata": {},
     "output_type": "execute_result"
    }
   ],
   "source": [
    "transformed_df = pd.DataFrame(components, columns=[f'PC{i+1}' for i in range(components.shape[1])])\n",
    "transformed_df[['PACJENT_NR', 'BADANIE_NR', 'ZGON']] = data80[['PACJENT_NR', 'BADANIE_NR', 'ZGON']]\n",
    "transformed_df"
   ]
  },
  {
   "cell_type": "code",
   "execution_count": 153,
   "metadata": {},
   "outputs": [
    {
     "data": {
      "text/plain": [
       "['PC1', 'PC2', 'PC3']"
      ]
     },
     "execution_count": 153,
     "metadata": {},
     "output_type": "execute_result"
    }
   ],
   "source": [
    "pc_comp=columns=[f'PC{i+1}' for i in range(components.shape[1])]\n",
    "pc_comp"
   ]
  },
  {
   "cell_type": "code",
   "execution_count": 251,
   "metadata": {},
   "outputs": [
    {
     "data": {
      "text/html": [
       "<div>\n",
       "<style scoped>\n",
       "    .dataframe tbody tr th:only-of-type {\n",
       "        vertical-align: middle;\n",
       "    }\n",
       "\n",
       "    .dataframe tbody tr th {\n",
       "        vertical-align: top;\n",
       "    }\n",
       "\n",
       "    .dataframe thead th {\n",
       "        text-align: right;\n",
       "    }\n",
       "</style>\n",
       "<table border=\"1\" class=\"dataframe\">\n",
       "  <thead>\n",
       "    <tr style=\"text-align: right;\">\n",
       "      <th></th>\n",
       "      <th>PC1</th>\n",
       "      <th>PC2</th>\n",
       "      <th>PC3</th>\n",
       "      <th>PACJENT_NR</th>\n",
       "      <th>BADANIE_NR</th>\n",
       "      <th>ZGON</th>\n",
       "    </tr>\n",
       "  </thead>\n",
       "  <tbody>\n",
       "    <tr>\n",
       "      <th>0</th>\n",
       "      <td>0.618066</td>\n",
       "      <td>0.099585</td>\n",
       "      <td>0.551944</td>\n",
       "      <td>1</td>\n",
       "      <td>1</td>\n",
       "      <td>0.0</td>\n",
       "    </tr>\n",
       "    <tr>\n",
       "      <th>1</th>\n",
       "      <td>3.883445</td>\n",
       "      <td>-0.451713</td>\n",
       "      <td>-0.230533</td>\n",
       "      <td>1</td>\n",
       "      <td>2</td>\n",
       "      <td>0.0</td>\n",
       "    </tr>\n",
       "    <tr>\n",
       "      <th>2</th>\n",
       "      <td>1.526227</td>\n",
       "      <td>-0.102323</td>\n",
       "      <td>-0.180434</td>\n",
       "      <td>1</td>\n",
       "      <td>3</td>\n",
       "      <td>0.0</td>\n",
       "    </tr>\n",
       "    <tr>\n",
       "      <th>3</th>\n",
       "      <td>1.061641</td>\n",
       "      <td>-0.141688</td>\n",
       "      <td>-0.170071</td>\n",
       "      <td>1</td>\n",
       "      <td>4</td>\n",
       "      <td>0.0</td>\n",
       "    </tr>\n",
       "    <tr>\n",
       "      <th>4</th>\n",
       "      <td>0.993261</td>\n",
       "      <td>-0.006304</td>\n",
       "      <td>-0.169184</td>\n",
       "      <td>1</td>\n",
       "      <td>5</td>\n",
       "      <td>0.0</td>\n",
       "    </tr>\n",
       "    <tr>\n",
       "      <th>...</th>\n",
       "      <td>...</td>\n",
       "      <td>...</td>\n",
       "      <td>...</td>\n",
       "      <td>...</td>\n",
       "      <td>...</td>\n",
       "      <td>...</td>\n",
       "    </tr>\n",
       "    <tr>\n",
       "      <th>759</th>\n",
       "      <td>-0.329456</td>\n",
       "      <td>-0.217319</td>\n",
       "      <td>0.447328</td>\n",
       "      <td>140</td>\n",
       "      <td>20</td>\n",
       "      <td>1.0</td>\n",
       "    </tr>\n",
       "    <tr>\n",
       "      <th>760</th>\n",
       "      <td>-0.183767</td>\n",
       "      <td>-0.276315</td>\n",
       "      <td>-0.142157</td>\n",
       "      <td>140</td>\n",
       "      <td>21</td>\n",
       "      <td>1.0</td>\n",
       "    </tr>\n",
       "    <tr>\n",
       "      <th>761</th>\n",
       "      <td>-0.539780</td>\n",
       "      <td>-0.056594</td>\n",
       "      <td>-0.016449</td>\n",
       "      <td>140</td>\n",
       "      <td>22</td>\n",
       "      <td>1.0</td>\n",
       "    </tr>\n",
       "    <tr>\n",
       "      <th>762</th>\n",
       "      <td>-0.462916</td>\n",
       "      <td>-0.125782</td>\n",
       "      <td>0.334906</td>\n",
       "      <td>140</td>\n",
       "      <td>23</td>\n",
       "      <td>1.0</td>\n",
       "    </tr>\n",
       "    <tr>\n",
       "      <th>763</th>\n",
       "      <td>-0.344224</td>\n",
       "      <td>-0.224778</td>\n",
       "      <td>0.740965</td>\n",
       "      <td>140</td>\n",
       "      <td>24</td>\n",
       "      <td>1.0</td>\n",
       "    </tr>\n",
       "  </tbody>\n",
       "</table>\n",
       "<p>764 rows × 6 columns</p>\n",
       "</div>"
      ],
      "text/plain": [
       "          PC1       PC2       PC3  PACJENT_NR  BADANIE_NR  ZGON\n",
       "0    0.618066  0.099585  0.551944           1           1   0.0\n",
       "1    3.883445 -0.451713 -0.230533           1           2   0.0\n",
       "2    1.526227 -0.102323 -0.180434           1           3   0.0\n",
       "3    1.061641 -0.141688 -0.170071           1           4   0.0\n",
       "4    0.993261 -0.006304 -0.169184           1           5   0.0\n",
       "..        ...       ...       ...         ...         ...   ...\n",
       "759 -0.329456 -0.217319  0.447328         140          20   1.0\n",
       "760 -0.183767 -0.276315 -0.142157         140          21   1.0\n",
       "761 -0.539780 -0.056594 -0.016449         140          22   1.0\n",
       "762 -0.462916 -0.125782  0.334906         140          23   1.0\n",
       "763 -0.344224 -0.224778  0.740965         140          24   1.0\n",
       "\n",
       "[764 rows x 6 columns]"
      ]
     },
     "execution_count": 251,
     "metadata": {},
     "output_type": "execute_result"
    }
   ],
   "source": [
    "transformed_test_df = pd.DataFrame(components_test, columns=pc_comp)\n",
    "transformed_test_df[['PACJENT_NR', 'BADANIE_NR', 'ZGON']] = data27[['PACJENT_NR', 'BADANIE_NR', 'ZGON']]\n",
    "transformed_test_df"
   ]
  },
  {
   "cell_type": "markdown",
   "metadata": {},
   "source": [
    "### LDA z ostatnich wartości"
   ]
  },
  {
   "cell_type": "code",
   "execution_count": 252,
   "metadata": {},
   "outputs": [],
   "source": [
    "from sklearn.discriminant_analysis import LinearDiscriminantAnalysis\n",
    "from sklearn.metrics import accuracy_score, confusion_matrix"
   ]
  },
  {
   "cell_type": "code",
   "execution_count": 253,
   "metadata": {},
   "outputs": [],
   "source": [
    "X_train_data_lda=transformed_df.groupby(\"PACJENT_NR\").last().reset_index()\n",
    "X_test_data_lda=transformed_test_df.groupby(\"PACJENT_NR\").last().reset_index()"
   ]
  },
  {
   "cell_type": "code",
   "execution_count": 254,
   "metadata": {},
   "outputs": [
    {
     "data": {
      "text/html": [
       "<div>\n",
       "<style scoped>\n",
       "    .dataframe tbody tr th:only-of-type {\n",
       "        vertical-align: middle;\n",
       "    }\n",
       "\n",
       "    .dataframe tbody tr th {\n",
       "        vertical-align: top;\n",
       "    }\n",
       "\n",
       "    .dataframe thead th {\n",
       "        text-align: right;\n",
       "    }\n",
       "</style>\n",
       "<table border=\"1\" class=\"dataframe\">\n",
       "  <thead>\n",
       "    <tr style=\"text-align: right;\">\n",
       "      <th></th>\n",
       "      <th>PACJENT_NR</th>\n",
       "      <th>PC1</th>\n",
       "      <th>PC2</th>\n",
       "      <th>PC3</th>\n",
       "      <th>BADANIE_NR</th>\n",
       "      <th>ZGON</th>\n",
       "    </tr>\n",
       "  </thead>\n",
       "  <tbody>\n",
       "    <tr>\n",
       "      <th>0</th>\n",
       "      <td>3</td>\n",
       "      <td>-0.872382</td>\n",
       "      <td>0.161899</td>\n",
       "      <td>-0.129043</td>\n",
       "      <td>41</td>\n",
       "      <td>0.0</td>\n",
       "    </tr>\n",
       "    <tr>\n",
       "      <th>1</th>\n",
       "      <td>4</td>\n",
       "      <td>-0.747934</td>\n",
       "      <td>0.082703</td>\n",
       "      <td>-0.131413</td>\n",
       "      <td>34</td>\n",
       "      <td>0.0</td>\n",
       "    </tr>\n",
       "    <tr>\n",
       "      <th>2</th>\n",
       "      <td>6</td>\n",
       "      <td>-0.872382</td>\n",
       "      <td>0.161899</td>\n",
       "      <td>-0.129043</td>\n",
       "      <td>8</td>\n",
       "      <td>0.0</td>\n",
       "    </tr>\n",
       "    <tr>\n",
       "      <th>3</th>\n",
       "      <td>7</td>\n",
       "      <td>-0.586478</td>\n",
       "      <td>0.711215</td>\n",
       "      <td>0.281557</td>\n",
       "      <td>12</td>\n",
       "      <td>1.0</td>\n",
       "    </tr>\n",
       "    <tr>\n",
       "      <th>4</th>\n",
       "      <td>8</td>\n",
       "      <td>0.033709</td>\n",
       "      <td>-0.507655</td>\n",
       "      <td>1.471120</td>\n",
       "      <td>10</td>\n",
       "      <td>0.0</td>\n",
       "    </tr>\n",
       "    <tr>\n",
       "      <th>...</th>\n",
       "      <td>...</td>\n",
       "      <td>...</td>\n",
       "      <td>...</td>\n",
       "      <td>...</td>\n",
       "      <td>...</td>\n",
       "      <td>...</td>\n",
       "    </tr>\n",
       "    <tr>\n",
       "      <th>75</th>\n",
       "      <td>134</td>\n",
       "      <td>0.702278</td>\n",
       "      <td>-0.901219</td>\n",
       "      <td>0.903390</td>\n",
       "      <td>35</td>\n",
       "      <td>1.0</td>\n",
       "    </tr>\n",
       "    <tr>\n",
       "      <th>76</th>\n",
       "      <td>139</td>\n",
       "      <td>0.356076</td>\n",
       "      <td>-0.625095</td>\n",
       "      <td>-0.061261</td>\n",
       "      <td>32</td>\n",
       "      <td>0.0</td>\n",
       "    </tr>\n",
       "    <tr>\n",
       "      <th>77</th>\n",
       "      <td>142</td>\n",
       "      <td>1.052207</td>\n",
       "      <td>-0.999441</td>\n",
       "      <td>-0.165983</td>\n",
       "      <td>21</td>\n",
       "      <td>0.0</td>\n",
       "    </tr>\n",
       "    <tr>\n",
       "      <th>78</th>\n",
       "      <td>144</td>\n",
       "      <td>1.143683</td>\n",
       "      <td>-1.121064</td>\n",
       "      <td>-0.167438</td>\n",
       "      <td>11</td>\n",
       "      <td>0.0</td>\n",
       "    </tr>\n",
       "    <tr>\n",
       "      <th>79</th>\n",
       "      <td>145</td>\n",
       "      <td>0.250130</td>\n",
       "      <td>1.303879</td>\n",
       "      <td>0.629248</td>\n",
       "      <td>9</td>\n",
       "      <td>1.0</td>\n",
       "    </tr>\n",
       "  </tbody>\n",
       "</table>\n",
       "<p>80 rows × 6 columns</p>\n",
       "</div>"
      ],
      "text/plain": [
       "    PACJENT_NR       PC1       PC2       PC3  BADANIE_NR  ZGON\n",
       "0            3 -0.872382  0.161899 -0.129043          41   0.0\n",
       "1            4 -0.747934  0.082703 -0.131413          34   0.0\n",
       "2            6 -0.872382  0.161899 -0.129043           8   0.0\n",
       "3            7 -0.586478  0.711215  0.281557          12   1.0\n",
       "4            8  0.033709 -0.507655  1.471120          10   0.0\n",
       "..         ...       ...       ...       ...         ...   ...\n",
       "75         134  0.702278 -0.901219  0.903390          35   1.0\n",
       "76         139  0.356076 -0.625095 -0.061261          32   0.0\n",
       "77         142  1.052207 -0.999441 -0.165983          21   0.0\n",
       "78         144  1.143683 -1.121064 -0.167438          11   0.0\n",
       "79         145  0.250130  1.303879  0.629248           9   1.0\n",
       "\n",
       "[80 rows x 6 columns]"
      ]
     },
     "execution_count": 254,
     "metadata": {},
     "output_type": "execute_result"
    }
   ],
   "source": [
    "X_train_data_lda"
   ]
  },
  {
   "cell_type": "code",
   "execution_count": 255,
   "metadata": {},
   "outputs": [
    {
     "name": "stdout",
     "output_type": "stream",
     "text": [
      "Accuracy: 0.5925925925925926\n",
      "Confusion Matrix:\n",
      "[[10  2]\n",
      " [ 9  6]]\n"
     ]
    }
   ],
   "source": [
    "# Definiowanie zmiennych niezależnych i celu\n",
    "X_train = X_train_data_lda.drop(columns=[\"ZGON\", \"BADANIE_NR\", \"PACJENT_NR\"])\n",
    "y_train = X_train_data_lda['ZGON']\n",
    "\n",
    "X_test = X_test_data_lda.drop(columns=[\"ZGON\", \"BADANIE_NR\", \"PACJENT_NR\"])\n",
    "y_test = X_test_data_lda['ZGON']\n",
    "\n",
    "# Tworzenie i trenowanie modelu LDA\n",
    "lda = LinearDiscriminantAnalysis()\n",
    "lda.fit(X_train, y_train)\n",
    "\n",
    "# Predykcje na zbiorze testowym\n",
    "y_pred = lda.predict(X_test)\n",
    "\n",
    "# Ocena modelu\n",
    "accuracy = accuracy_score(y_test, y_pred)\n",
    "conf_matrix = confusion_matrix(y_test, y_pred)\n",
    "\n",
    "print(f\"Accuracy: {accuracy}\")\n",
    "print(\"Confusion Matrix:\")\n",
    "print(conf_matrix)"
   ]
  },
  {
   "cell_type": "code",
   "execution_count": 256,
   "metadata": {},
   "outputs": [
    {
     "name": "stdout",
     "output_type": "stream",
     "text": [
      "[[0.52929258 0.42146241 0.71145023]]\n",
      "[-0.57297069]\n"
     ]
    }
   ],
   "source": [
    "lda_weights = lda.coef_\n",
    "print(lda_weights)\n",
    "print(lda.intercept_)"
   ]
  },
  {
   "cell_type": "code",
   "execution_count": 213,
   "metadata": {},
   "outputs": [
    {
     "data": {
      "text/html": [
       "<div>\n",
       "<style scoped>\n",
       "    .dataframe tbody tr th:only-of-type {\n",
       "        vertical-align: middle;\n",
       "    }\n",
       "\n",
       "    .dataframe tbody tr th {\n",
       "        vertical-align: top;\n",
       "    }\n",
       "\n",
       "    .dataframe thead th {\n",
       "        text-align: right;\n",
       "    }\n",
       "</style>\n",
       "<table border=\"1\" class=\"dataframe\">\n",
       "  <thead>\n",
       "    <tr style=\"text-align: right;\">\n",
       "      <th></th>\n",
       "      <th>LDA</th>\n",
       "      <th>ZGON</th>\n",
       "      <th>BADANIE_NR</th>\n",
       "      <th>PACJENT_NR</th>\n",
       "    </tr>\n",
       "  </thead>\n",
       "  <tbody>\n",
       "    <tr>\n",
       "      <th>0</th>\n",
       "      <td>-0.520343</td>\n",
       "      <td>0.0</td>\n",
       "      <td>1.0</td>\n",
       "      <td>3.0</td>\n",
       "    </tr>\n",
       "    <tr>\n",
       "      <th>1</th>\n",
       "      <td>-0.989835</td>\n",
       "      <td>0.0</td>\n",
       "      <td>2.0</td>\n",
       "      <td>3.0</td>\n",
       "    </tr>\n",
       "    <tr>\n",
       "      <th>2</th>\n",
       "      <td>-1.370449</td>\n",
       "      <td>0.0</td>\n",
       "      <td>3.0</td>\n",
       "      <td>3.0</td>\n",
       "    </tr>\n",
       "    <tr>\n",
       "      <th>3</th>\n",
       "      <td>-0.985555</td>\n",
       "      <td>0.0</td>\n",
       "      <td>4.0</td>\n",
       "      <td>3.0</td>\n",
       "    </tr>\n",
       "    <tr>\n",
       "      <th>4</th>\n",
       "      <td>-1.115386</td>\n",
       "      <td>0.0</td>\n",
       "      <td>5.0</td>\n",
       "      <td>3.0</td>\n",
       "    </tr>\n",
       "    <tr>\n",
       "      <th>...</th>\n",
       "      <td>...</td>\n",
       "      <td>...</td>\n",
       "      <td>...</td>\n",
       "      <td>...</td>\n",
       "    </tr>\n",
       "    <tr>\n",
       "      <th>2165</th>\n",
       "      <td>0.430300</td>\n",
       "      <td>1.0</td>\n",
       "      <td>5.0</td>\n",
       "      <td>145.0</td>\n",
       "    </tr>\n",
       "    <tr>\n",
       "      <th>2166</th>\n",
       "      <td>0.195590</td>\n",
       "      <td>1.0</td>\n",
       "      <td>6.0</td>\n",
       "      <td>145.0</td>\n",
       "    </tr>\n",
       "    <tr>\n",
       "      <th>2167</th>\n",
       "      <td>0.685028</td>\n",
       "      <td>1.0</td>\n",
       "      <td>7.0</td>\n",
       "      <td>145.0</td>\n",
       "    </tr>\n",
       "    <tr>\n",
       "      <th>2168</th>\n",
       "      <td>0.028346</td>\n",
       "      <td>1.0</td>\n",
       "      <td>8.0</td>\n",
       "      <td>145.0</td>\n",
       "    </tr>\n",
       "    <tr>\n",
       "      <th>2169</th>\n",
       "      <td>0.799813</td>\n",
       "      <td>1.0</td>\n",
       "      <td>9.0</td>\n",
       "      <td>145.0</td>\n",
       "    </tr>\n",
       "  </tbody>\n",
       "</table>\n",
       "<p>2170 rows × 4 columns</p>\n",
       "</div>"
      ],
      "text/plain": [
       "           LDA  ZGON  BADANIE_NR  PACJENT_NR\n",
       "0    -0.520343   0.0         1.0         3.0\n",
       "1    -0.989835   0.0         2.0         3.0\n",
       "2    -1.370449   0.0         3.0         3.0\n",
       "3    -0.985555   0.0         4.0         3.0\n",
       "4    -1.115386   0.0         5.0         3.0\n",
       "...        ...   ...         ...         ...\n",
       "2165  0.430300   1.0         5.0       145.0\n",
       "2166  0.195590   1.0         6.0       145.0\n",
       "2167  0.685028   1.0         7.0       145.0\n",
       "2168  0.028346   1.0         8.0       145.0\n",
       "2169  0.799813   1.0         9.0       145.0\n",
       "\n",
       "[2170 rows x 4 columns]"
      ]
     },
     "execution_count": 213,
     "metadata": {},
     "output_type": "execute_result"
    }
   ],
   "source": [
    "train_data_after_lda= lda.transform(transformed_df[pc_comp])\n",
    "X_lda_with_zgon = pd.DataFrame(np.column_stack((train_data_after_lda, transformed_df[['ZGON', \"BADANIE_NR\", \"PACJENT_NR\"]])), columns=[\"LDA\", \"ZGON\", \"BADANIE_NR\", \"PACJENT_NR\"])\n",
    "X_lda_with_zgon"
   ]
  },
  {
   "cell_type": "code",
   "execution_count": 258,
   "metadata": {},
   "outputs": [
    {
     "data": {
      "text/html": [
       "<div>\n",
       "<style scoped>\n",
       "    .dataframe tbody tr th:only-of-type {\n",
       "        vertical-align: middle;\n",
       "    }\n",
       "\n",
       "    .dataframe tbody tr th {\n",
       "        vertical-align: top;\n",
       "    }\n",
       "\n",
       "    .dataframe thead th {\n",
       "        text-align: right;\n",
       "    }\n",
       "</style>\n",
       "<table border=\"1\" class=\"dataframe\">\n",
       "  <thead>\n",
       "    <tr style=\"text-align: right;\">\n",
       "      <th></th>\n",
       "      <th>LDA</th>\n",
       "      <th>ZGON</th>\n",
       "      <th>BADANIE_NR</th>\n",
       "      <th>PACJENT_NR</th>\n",
       "    </tr>\n",
       "  </thead>\n",
       "  <tbody>\n",
       "    <tr>\n",
       "      <th>0</th>\n",
       "      <td>0.148926</td>\n",
       "      <td>0.0</td>\n",
       "      <td>1.0</td>\n",
       "      <td>1.0</td>\n",
       "    </tr>\n",
       "    <tr>\n",
       "      <th>1</th>\n",
       "      <td>0.889771</td>\n",
       "      <td>0.0</td>\n",
       "      <td>2.0</td>\n",
       "      <td>1.0</td>\n",
       "    </tr>\n",
       "    <tr>\n",
       "      <th>2</th>\n",
       "      <td>0.049969</td>\n",
       "      <td>0.0</td>\n",
       "      <td>3.0</td>\n",
       "      <td>1.0</td>\n",
       "    </tr>\n",
       "    <tr>\n",
       "      <th>3</th>\n",
       "      <td>-0.151249</td>\n",
       "      <td>0.0</td>\n",
       "      <td>4.0</td>\n",
       "      <td>1.0</td>\n",
       "    </tr>\n",
       "    <tr>\n",
       "      <th>4</th>\n",
       "      <td>-0.134295</td>\n",
       "      <td>0.0</td>\n",
       "      <td>5.0</td>\n",
       "      <td>1.0</td>\n",
       "    </tr>\n",
       "    <tr>\n",
       "      <th>...</th>\n",
       "      <td>...</td>\n",
       "      <td>...</td>\n",
       "      <td>...</td>\n",
       "      <td>...</td>\n",
       "    </tr>\n",
       "    <tr>\n",
       "      <th>759</th>\n",
       "      <td>-0.410680</td>\n",
       "      <td>1.0</td>\n",
       "      <td>20.0</td>\n",
       "      <td>140.0</td>\n",
       "    </tr>\n",
       "    <tr>\n",
       "      <th>760</th>\n",
       "      <td>-0.700254</td>\n",
       "      <td>1.0</td>\n",
       "      <td>21.0</td>\n",
       "      <td>140.0</td>\n",
       "    </tr>\n",
       "    <tr>\n",
       "      <th>761</th>\n",
       "      <td>-0.705298</td>\n",
       "      <td>1.0</td>\n",
       "      <td>22.0</td>\n",
       "      <td>140.0</td>\n",
       "    </tr>\n",
       "    <tr>\n",
       "      <th>762</th>\n",
       "      <td>-0.499051</td>\n",
       "      <td>1.0</td>\n",
       "      <td>23.0</td>\n",
       "      <td>140.0</td>\n",
       "    </tr>\n",
       "    <tr>\n",
       "      <th>763</th>\n",
       "      <td>-0.254554</td>\n",
       "      <td>1.0</td>\n",
       "      <td>24.0</td>\n",
       "      <td>140.0</td>\n",
       "    </tr>\n",
       "  </tbody>\n",
       "</table>\n",
       "<p>764 rows × 4 columns</p>\n",
       "</div>"
      ],
      "text/plain": [
       "          LDA  ZGON  BADANIE_NR  PACJENT_NR\n",
       "0    0.148926   0.0         1.0         1.0\n",
       "1    0.889771   0.0         2.0         1.0\n",
       "2    0.049969   0.0         3.0         1.0\n",
       "3   -0.151249   0.0         4.0         1.0\n",
       "4   -0.134295   0.0         5.0         1.0\n",
       "..        ...   ...         ...         ...\n",
       "759 -0.410680   1.0        20.0       140.0\n",
       "760 -0.700254   1.0        21.0       140.0\n",
       "761 -0.705298   1.0        22.0       140.0\n",
       "762 -0.499051   1.0        23.0       140.0\n",
       "763 -0.254554   1.0        24.0       140.0\n",
       "\n",
       "[764 rows x 4 columns]"
      ]
     },
     "execution_count": 258,
     "metadata": {},
     "output_type": "execute_result"
    }
   ],
   "source": [
    "test_data_after_lda= lda.transform(transformed_test_df[pc_comp])\n",
    "X_lda_with_zgon_test = pd.DataFrame(np.column_stack((test_data_after_lda, transformed_test_df[['ZGON', \"BADANIE_NR\", \"PACJENT_NR\"]])), columns=[\"LDA\", \"ZGON\", \"BADANIE_NR\", \"PACJENT_NR\"])\n",
    "X_lda_with_zgon_test"
   ]
  },
  {
   "cell_type": "code",
   "execution_count": 259,
   "metadata": {},
   "outputs": [
    {
     "data": {
      "text/plain": [
       "array([0.52929258, 0.42146241, 0.71145023])"
      ]
     },
     "execution_count": 259,
     "metadata": {},
     "output_type": "execute_result"
    }
   ],
   "source": [
    "decision_boundary = lda.coef_[0]\n",
    "decision_boundary"
   ]
  },
  {
   "cell_type": "code",
   "execution_count": 260,
   "metadata": {},
   "outputs": [
    {
     "data": {
      "text/html": [
       "<div>\n",
       "<style scoped>\n",
       "    .dataframe tbody tr th:only-of-type {\n",
       "        vertical-align: middle;\n",
       "    }\n",
       "\n",
       "    .dataframe tbody tr th {\n",
       "        vertical-align: top;\n",
       "    }\n",
       "\n",
       "    .dataframe thead th {\n",
       "        text-align: right;\n",
       "    }\n",
       "</style>\n",
       "<table border=\"1\" class=\"dataframe\">\n",
       "  <thead>\n",
       "    <tr style=\"text-align: right;\">\n",
       "      <th></th>\n",
       "      <th>PACJENT_NR</th>\n",
       "      <th>PC1</th>\n",
       "      <th>PC2</th>\n",
       "      <th>PC3</th>\n",
       "      <th>BADANIE_NR</th>\n",
       "      <th>ZGON</th>\n",
       "    </tr>\n",
       "  </thead>\n",
       "  <tbody>\n",
       "    <tr>\n",
       "      <th>0</th>\n",
       "      <td>1</td>\n",
       "      <td>-0.051022</td>\n",
       "      <td>-0.360790</td>\n",
       "      <td>-0.144685</td>\n",
       "      <td>50</td>\n",
       "      <td>0.0</td>\n",
       "    </tr>\n",
       "    <tr>\n",
       "      <th>1</th>\n",
       "      <td>2</td>\n",
       "      <td>-0.872382</td>\n",
       "      <td>0.161899</td>\n",
       "      <td>-0.129043</td>\n",
       "      <td>10</td>\n",
       "      <td>0.0</td>\n",
       "    </tr>\n",
       "    <tr>\n",
       "      <th>2</th>\n",
       "      <td>29</td>\n",
       "      <td>-0.872358</td>\n",
       "      <td>0.161655</td>\n",
       "      <td>-0.125079</td>\n",
       "      <td>32</td>\n",
       "      <td>0.0</td>\n",
       "    </tr>\n",
       "    <tr>\n",
       "      <th>3</th>\n",
       "      <td>32</td>\n",
       "      <td>1.091690</td>\n",
       "      <td>1.352484</td>\n",
       "      <td>0.549165</td>\n",
       "      <td>31</td>\n",
       "      <td>1.0</td>\n",
       "    </tr>\n",
       "    <tr>\n",
       "      <th>4</th>\n",
       "      <td>37</td>\n",
       "      <td>2.216406</td>\n",
       "      <td>-1.826492</td>\n",
       "      <td>0.208558</td>\n",
       "      <td>51</td>\n",
       "      <td>1.0</td>\n",
       "    </tr>\n",
       "    <tr>\n",
       "      <th>5</th>\n",
       "      <td>46</td>\n",
       "      <td>-0.872382</td>\n",
       "      <td>0.161899</td>\n",
       "      <td>-0.129043</td>\n",
       "      <td>40</td>\n",
       "      <td>0.0</td>\n",
       "    </tr>\n",
       "    <tr>\n",
       "      <th>6</th>\n",
       "      <td>53</td>\n",
       "      <td>3.391138</td>\n",
       "      <td>-1.239261</td>\n",
       "      <td>0.853896</td>\n",
       "      <td>20</td>\n",
       "      <td>1.0</td>\n",
       "    </tr>\n",
       "    <tr>\n",
       "      <th>7</th>\n",
       "      <td>61</td>\n",
       "      <td>-0.867367</td>\n",
       "      <td>0.182459</td>\n",
       "      <td>-0.123284</td>\n",
       "      <td>34</td>\n",
       "      <td>1.0</td>\n",
       "    </tr>\n",
       "    <tr>\n",
       "      <th>8</th>\n",
       "      <td>62</td>\n",
       "      <td>3.089422</td>\n",
       "      <td>-0.771376</td>\n",
       "      <td>-0.211679</td>\n",
       "      <td>11</td>\n",
       "      <td>1.0</td>\n",
       "    </tr>\n",
       "    <tr>\n",
       "      <th>9</th>\n",
       "      <td>67</td>\n",
       "      <td>-0.864638</td>\n",
       "      <td>0.085440</td>\n",
       "      <td>1.115588</td>\n",
       "      <td>37</td>\n",
       "      <td>0.0</td>\n",
       "    </tr>\n",
       "    <tr>\n",
       "      <th>10</th>\n",
       "      <td>68</td>\n",
       "      <td>-0.872382</td>\n",
       "      <td>0.161899</td>\n",
       "      <td>-0.129043</td>\n",
       "      <td>19</td>\n",
       "      <td>0.0</td>\n",
       "    </tr>\n",
       "    <tr>\n",
       "      <th>11</th>\n",
       "      <td>71</td>\n",
       "      <td>-0.872382</td>\n",
       "      <td>0.161899</td>\n",
       "      <td>-0.129043</td>\n",
       "      <td>8</td>\n",
       "      <td>0.0</td>\n",
       "    </tr>\n",
       "    <tr>\n",
       "      <th>12</th>\n",
       "      <td>73</td>\n",
       "      <td>-0.419534</td>\n",
       "      <td>-0.170930</td>\n",
       "      <td>0.639328</td>\n",
       "      <td>23</td>\n",
       "      <td>1.0</td>\n",
       "    </tr>\n",
       "    <tr>\n",
       "      <th>13</th>\n",
       "      <td>79</td>\n",
       "      <td>-0.183605</td>\n",
       "      <td>-0.354556</td>\n",
       "      <td>1.217582</td>\n",
       "      <td>44</td>\n",
       "      <td>0.0</td>\n",
       "    </tr>\n",
       "    <tr>\n",
       "      <th>14</th>\n",
       "      <td>84</td>\n",
       "      <td>-0.839196</td>\n",
       "      <td>0.140780</td>\n",
       "      <td>-0.129675</td>\n",
       "      <td>46</td>\n",
       "      <td>1.0</td>\n",
       "    </tr>\n",
       "    <tr>\n",
       "      <th>15</th>\n",
       "      <td>85</td>\n",
       "      <td>0.836809</td>\n",
       "      <td>2.367789</td>\n",
       "      <td>0.448431</td>\n",
       "      <td>39</td>\n",
       "      <td>1.0</td>\n",
       "    </tr>\n",
       "    <tr>\n",
       "      <th>16</th>\n",
       "      <td>91</td>\n",
       "      <td>3.088984</td>\n",
       "      <td>2.667285</td>\n",
       "      <td>0.052965</td>\n",
       "      <td>27</td>\n",
       "      <td>1.0</td>\n",
       "    </tr>\n",
       "    <tr>\n",
       "      <th>17</th>\n",
       "      <td>97</td>\n",
       "      <td>0.040240</td>\n",
       "      <td>-0.418866</td>\n",
       "      <td>-0.146424</td>\n",
       "      <td>28</td>\n",
       "      <td>1.0</td>\n",
       "    </tr>\n",
       "    <tr>\n",
       "      <th>18</th>\n",
       "      <td>99</td>\n",
       "      <td>-0.008011</td>\n",
       "      <td>-0.402285</td>\n",
       "      <td>0.100280</td>\n",
       "      <td>18</td>\n",
       "      <td>0.0</td>\n",
       "    </tr>\n",
       "    <tr>\n",
       "      <th>19</th>\n",
       "      <td>110</td>\n",
       "      <td>-0.789417</td>\n",
       "      <td>0.109102</td>\n",
       "      <td>-0.130623</td>\n",
       "      <td>57</td>\n",
       "      <td>0.0</td>\n",
       "    </tr>\n",
       "    <tr>\n",
       "      <th>20</th>\n",
       "      <td>115</td>\n",
       "      <td>-0.867450</td>\n",
       "      <td>0.113199</td>\n",
       "      <td>0.663716</td>\n",
       "      <td>39</td>\n",
       "      <td>1.0</td>\n",
       "    </tr>\n",
       "    <tr>\n",
       "      <th>21</th>\n",
       "      <td>120</td>\n",
       "      <td>-0.872382</td>\n",
       "      <td>0.161899</td>\n",
       "      <td>-0.129043</td>\n",
       "      <td>12</td>\n",
       "      <td>1.0</td>\n",
       "    </tr>\n",
       "    <tr>\n",
       "      <th>22</th>\n",
       "      <td>124</td>\n",
       "      <td>-0.829257</td>\n",
       "      <td>0.042649</td>\n",
       "      <td>1.467734</td>\n",
       "      <td>9</td>\n",
       "      <td>0.0</td>\n",
       "    </tr>\n",
       "    <tr>\n",
       "      <th>23</th>\n",
       "      <td>127</td>\n",
       "      <td>2.415463</td>\n",
       "      <td>2.512650</td>\n",
       "      <td>0.278382</td>\n",
       "      <td>12</td>\n",
       "      <td>1.0</td>\n",
       "    </tr>\n",
       "    <tr>\n",
       "      <th>24</th>\n",
       "      <td>129</td>\n",
       "      <td>-0.827644</td>\n",
       "      <td>0.103358</td>\n",
       "      <td>0.393388</td>\n",
       "      <td>16</td>\n",
       "      <td>1.0</td>\n",
       "    </tr>\n",
       "    <tr>\n",
       "      <th>25</th>\n",
       "      <td>133</td>\n",
       "      <td>-0.804682</td>\n",
       "      <td>0.439461</td>\n",
       "      <td>-0.051302</td>\n",
       "      <td>27</td>\n",
       "      <td>0.0</td>\n",
       "    </tr>\n",
       "    <tr>\n",
       "      <th>26</th>\n",
       "      <td>140</td>\n",
       "      <td>-0.344224</td>\n",
       "      <td>-0.224778</td>\n",
       "      <td>0.740965</td>\n",
       "      <td>24</td>\n",
       "      <td>1.0</td>\n",
       "    </tr>\n",
       "  </tbody>\n",
       "</table>\n",
       "</div>"
      ],
      "text/plain": [
       "    PACJENT_NR       PC1       PC2       PC3  BADANIE_NR  ZGON\n",
       "0            1 -0.051022 -0.360790 -0.144685          50   0.0\n",
       "1            2 -0.872382  0.161899 -0.129043          10   0.0\n",
       "2           29 -0.872358  0.161655 -0.125079          32   0.0\n",
       "3           32  1.091690  1.352484  0.549165          31   1.0\n",
       "4           37  2.216406 -1.826492  0.208558          51   1.0\n",
       "5           46 -0.872382  0.161899 -0.129043          40   0.0\n",
       "6           53  3.391138 -1.239261  0.853896          20   1.0\n",
       "7           61 -0.867367  0.182459 -0.123284          34   1.0\n",
       "8           62  3.089422 -0.771376 -0.211679          11   1.0\n",
       "9           67 -0.864638  0.085440  1.115588          37   0.0\n",
       "10          68 -0.872382  0.161899 -0.129043          19   0.0\n",
       "11          71 -0.872382  0.161899 -0.129043           8   0.0\n",
       "12          73 -0.419534 -0.170930  0.639328          23   1.0\n",
       "13          79 -0.183605 -0.354556  1.217582          44   0.0\n",
       "14          84 -0.839196  0.140780 -0.129675          46   1.0\n",
       "15          85  0.836809  2.367789  0.448431          39   1.0\n",
       "16          91  3.088984  2.667285  0.052965          27   1.0\n",
       "17          97  0.040240 -0.418866 -0.146424          28   1.0\n",
       "18          99 -0.008011 -0.402285  0.100280          18   0.0\n",
       "19         110 -0.789417  0.109102 -0.130623          57   0.0\n",
       "20         115 -0.867450  0.113199  0.663716          39   1.0\n",
       "21         120 -0.872382  0.161899 -0.129043          12   1.0\n",
       "22         124 -0.829257  0.042649  1.467734           9   0.0\n",
       "23         127  2.415463  2.512650  0.278382          12   1.0\n",
       "24         129 -0.827644  0.103358  0.393388          16   1.0\n",
       "25         133 -0.804682  0.439461 -0.051302          27   0.0\n",
       "26         140 -0.344224 -0.224778  0.740965          24   1.0"
      ]
     },
     "execution_count": 260,
     "metadata": {},
     "output_type": "execute_result"
    }
   ],
   "source": [
    "X_test_data_lda"
   ]
  },
  {
   "cell_type": "code",
   "execution_count": 261,
   "metadata": {},
   "outputs": [
    {
     "data": {
      "text/plain": [
       "0     0.0\n",
       "1     0.0\n",
       "2     0.0\n",
       "3     1.0\n",
       "4     1.0\n",
       "5     0.0\n",
       "6     1.0\n",
       "7     1.0\n",
       "8     1.0\n",
       "9     0.0\n",
       "10    0.0\n",
       "11    0.0\n",
       "12    1.0\n",
       "13    0.0\n",
       "14    1.0\n",
       "15    1.0\n",
       "16    1.0\n",
       "17    1.0\n",
       "18    0.0\n",
       "19    0.0\n",
       "20    1.0\n",
       "21    1.0\n",
       "22    0.0\n",
       "23    1.0\n",
       "24    1.0\n",
       "25    0.0\n",
       "26    1.0\n",
       "Name: ZGON, dtype: float64"
      ]
     },
     "execution_count": 261,
     "metadata": {},
     "output_type": "execute_result"
    }
   ],
   "source": [
    "X_test_data_lda[\"ZGON\"]"
   ]
  },
  {
   "cell_type": "code",
   "execution_count": 262,
   "metadata": {},
   "outputs": [
    {
     "data": {
      "text/plain": [
       "array([[0.70160916, 0.29839084],\n",
       "       [0.74236352, 0.25763648],\n",
       "       [0.74184095, 0.25815905],\n",
       "       [0.27576297, 0.72423703],\n",
       "       [0.50531554, 0.49468446],\n",
       "       [0.74236352, 0.25763648],\n",
       "       [0.21296654, 0.78703346],\n",
       "       [0.73940395, 0.26059605],\n",
       "       [0.35743086, 0.64256914],\n",
       "       [0.55006222, 0.44993778],\n",
       "       [0.74236352, 0.25763648],\n",
       "       [0.74236352, 0.25763648],\n",
       "       [0.60161941, 0.39838059],\n",
       "       [0.48833572, 0.51166428],\n",
       "       [0.74078923, 0.25921077],\n",
       "       [0.23381091, 0.76618909],\n",
       "       [0.0976293 , 0.9023707 ],\n",
       "       [0.69685826, 0.30314174],\n",
       "       [0.66271454, 0.33728546],\n",
       "       [0.73841609, 0.26158391],\n",
       "       [0.62532103, 0.37467897],\n",
       "       [0.74236352, 0.25763648],\n",
       "       [0.48742653, 0.51257347],\n",
       "       [0.12319041, 0.87680959],\n",
       "       [0.66543259, 0.33456741],\n",
       "       [0.70060183, 0.29939817],\n",
       "       [0.57999227, 0.42000773]])"
      ]
     },
     "execution_count": 262,
     "metadata": {},
     "output_type": "execute_result"
    }
   ],
   "source": [
    "log_probabilities = lda.predict_proba(X_test_data_lda.drop(columns=[\"ZGON\", \"BADANIE_NR\", \"PACJENT_NR\"]))\n",
    "log_probabilities "
   ]
  },
  {
   "cell_type": "code",
   "execution_count": 263,
   "metadata": {},
   "outputs": [
    {
     "data": {
      "text/plain": [
       "-0.2231435513142097"
      ]
     },
     "execution_count": 263,
     "metadata": {},
     "output_type": "execute_result"
    }
   ],
   "source": [
    "np.log(12/15)"
   ]
  },
  {
   "cell_type": "code",
   "execution_count": 266,
   "metadata": {},
   "outputs": [
    {
     "data": {
      "application/vnd.plotly.v1+json": {
       "config": {
        "plotlyServerURL": "https://plot.ly"
       },
       "data": [
        {
         "hovertemplate": "Pacjent=3.0<br>BADANIE_NR=%{x}<br>LDA=%{y}<extra></extra>",
         "legendgroup": "3.0",
         "line": {
          "color": "#636efa",
          "dash": "solid"
         },
         "marker": {
          "symbol": "circle"
         },
         "mode": "lines",
         "name": "3.0",
         "showlegend": true,
         "type": "scattergl",
         "x": [
          1,
          2,
          3,
          4,
          5,
          6,
          7,
          8,
          9,
          10,
          11,
          12,
          13,
          14,
          15,
          16,
          17,
          18,
          19,
          20,
          21,
          22,
          23,
          24,
          25,
          26,
          27,
          28,
          29,
          30,
          31,
          32,
          33,
          34,
          35,
          36,
          37,
          38,
          39,
          40,
          41
         ],
         "xaxis": "x",
         "y": [
          -0.5203432789249148,
          -0.9898352579475853,
          -1.3704490557491857,
          -0.9855554653431184,
          -1.1153860521663286,
          -1.178234879543685,
          -1.6414532683169891,
          -1.3276636080167035,
          -1.5093124322384601,
          -1.7313007683645139,
          -1.9621469232143356,
          -1.3488706251967926,
          -0.9602210009726535,
          -0.9902019004196978,
          -1.2791284869169484,
          -1.1333302479051481,
          -1.156543169795477,
          -1.0503496364614286,
          -1.4529115896506601,
          -1.111145132479351,
          -1.571570933091094,
          -0.7583771613378051,
          -1.2941171602650194,
          -1.021826188866088,
          -1.3666292452737896,
          -1.4447808472618993,
          -1.403137614061407,
          -0.6471221868871739,
          -0.9327006369750356,
          -1.0521906305736488,
          -1.2773261201099013,
          -0.7931586579129429,
          -0.8292898878279421,
          -0.9747657670771307,
          -1.2514513156836864,
          -0.9694921912544894,
          -1.2123818987355266,
          -0.9740595383891169,
          -1.3977850747690728,
          -1.321367431971919,
          -1.197793684887664
         ],
         "yaxis": "y"
        },
        {
         "hovertemplate": "Pacjent=4.0<br>BADANIE_NR=%{x}<br>LDA=%{y}<extra></extra>",
         "legendgroup": "4.0",
         "line": {
          "color": "#EF553B",
          "dash": "solid"
         },
         "marker": {
          "symbol": "circle"
         },
         "mode": "lines",
         "name": "4.0",
         "showlegend": true,
         "type": "scattergl",
         "x": [
          1,
          2,
          3,
          4,
          5,
          6,
          7,
          8,
          9,
          10,
          11,
          12,
          13,
          14,
          15,
          16,
          17,
          18,
          19,
          20,
          21,
          22,
          23,
          24,
          25,
          26,
          27,
          28,
          29,
          30,
          31,
          32,
          33,
          34
         ],
         "xaxis": "x",
         "y": [
          -0.5533905156599871,
          -0.45262957642704404,
          -1.5737172489671942,
          -1.645006990961793,
          -1.796520198750622,
          -1.4038394908128378,
          -1.4303556210332222,
          -1.1424484643069144,
          -1.424561251865166,
          -1.3506806505006126,
          -1.4084488711927874,
          -1.2141095690504267,
          -1.1073629157944445,
          -1.4375703455790534,
          -1.2218441629044503,
          -1.0060637661551821,
          -0.9375024774208403,
          -1.2670326803272238,
          -1.08498299147975,
          -1.427616274524795,
          -0.3774221149468867,
          -0.7034139756800103,
          -0.7551511764867282,
          -0.5189604186728118,
          -0.030632090214569384,
          -0.35975050103555856,
          -0.14288128346646917,
          -0.315431904973444,
          -0.06818787811946658,
          -0.36142414629722996,
          -0.8526954771999486,
          -0.7468463350286927,
          0.4003570586298295,
          -0.6824479536589673
         ],
         "yaxis": "y"
        },
        {
         "hovertemplate": "Pacjent=6.0<br>BADANIE_NR=%{x}<br>LDA=%{y}<extra></extra>",
         "legendgroup": "6.0",
         "line": {
          "color": "#00cc96",
          "dash": "solid"
         },
         "marker": {
          "symbol": "circle"
         },
         "mode": "lines",
         "name": "6.0",
         "showlegend": true,
         "type": "scattergl",
         "x": [
          1,
          2,
          3,
          4,
          5,
          6,
          7,
          8
         ],
         "xaxis": "x",
         "y": [
          -1.3000558815258603,
          -0.29935369297972714,
          -0.27353634378598257,
          1.0525126306195722,
          -0.5018459929048901,
          -0.7127726884521495,
          -0.8229422068109609,
          -0.5898516935080081
         ],
         "yaxis": "y"
        },
        {
         "hovertemplate": "Pacjent=8.0<br>BADANIE_NR=%{x}<br>LDA=%{y}<extra></extra>",
         "legendgroup": "8.0",
         "line": {
          "color": "#ab63fa",
          "dash": "solid"
         },
         "marker": {
          "symbol": "circle"
         },
         "mode": "lines",
         "name": "8.0",
         "showlegend": true,
         "type": "scattergl",
         "x": [
          1,
          2,
          3,
          4,
          5,
          6,
          7,
          8,
          9,
          10
         ],
         "xaxis": "x",
         "y": [
          -0.7009402652415799,
          0.49733237986334117,
          -0.9695209478204474,
          -1.248615139089733,
          -1.1845496067563157,
          -0.9394167440629215,
          -1.3175353116198087,
          -1.508817779002517,
          -1.1410192605593357,
          0.5867810161431593
         ],
         "yaxis": "y"
        },
        {
         "hovertemplate": "Pacjent=10.0<br>BADANIE_NR=%{x}<br>LDA=%{y}<extra></extra>",
         "legendgroup": "10.0",
         "line": {
          "color": "#FFA15A",
          "dash": "solid"
         },
         "marker": {
          "symbol": "circle"
         },
         "mode": "lines",
         "name": "10.0",
         "showlegend": true,
         "type": "scattergl",
         "x": [
          1,
          2,
          3,
          4,
          5,
          6,
          7,
          8,
          9,
          10,
          11,
          12,
          13,
          14,
          15,
          16,
          17,
          18,
          19,
          20,
          21,
          22,
          23,
          24
         ],
         "xaxis": "x",
         "y": [
          -0.8740913501053205,
          -1.3409536063391163,
          -1.2780168610203138,
          -1.4414930308941396,
          -1.5293870466778097,
          -1.2894859826942324,
          -0.8845051144087623,
          -0.942481622988613,
          -0.6211534778140827,
          -1.3337403531082943,
          -1.204403441095637,
          -1.0728917488405192,
          -1.0637394854483824,
          -1.1970264050380552,
          -1.167456138582359,
          -1.4855859202957573,
          -1.594585938851719,
          -1.5754675894699264,
          -1.6630265082631583,
          -0.7072246710140095,
          -1.1354811463559047,
          -0.8576167848989982,
          -0.997745929028887,
          0.22990340068157222
         ],
         "yaxis": "y"
        },
        {
         "hovertemplate": "Pacjent=16.0<br>BADANIE_NR=%{x}<br>LDA=%{y}<extra></extra>",
         "legendgroup": "16.0",
         "line": {
          "color": "#19d3f3",
          "dash": "solid"
         },
         "marker": {
          "symbol": "circle"
         },
         "mode": "lines",
         "name": "16.0",
         "showlegend": true,
         "type": "scattergl",
         "x": [
          1,
          2,
          3,
          4,
          5,
          6,
          7,
          8,
          9,
          10,
          11,
          12,
          13,
          14,
          15,
          16,
          17,
          18,
          19,
          20,
          21,
          22,
          23,
          24,
          25,
          26
         ],
         "xaxis": "x",
         "y": [
          0.6233969826525225,
          -0.046464806875382535,
          0.8107541950794142,
          0.5235882115206795,
          -0.41103315658258516,
          -0.16022925304180455,
          -0.9506132753696908,
          -0.7037167409114539,
          -0.13763578399657467,
          -0.7640938243739394,
          -1.0486643030434553,
          -0.8389364400786974,
          -1.082452076368451,
          -0.8962255410981643,
          -0.671786260035201,
          -0.869348045496295,
          -0.674700731177944,
          -0.850471955219975,
          -0.4933246243596634,
          -1.0894889127051144,
          -0.7709234334756916,
          -0.9905244018332329,
          -0.593898448091843,
          -0.8088864607332799,
          -1.0804050451862874,
          -0.7287991713041211
         ],
         "yaxis": "y"
        },
        {
         "hovertemplate": "Pacjent=17.0<br>BADANIE_NR=%{x}<br>LDA=%{y}<extra></extra>",
         "legendgroup": "17.0",
         "line": {
          "color": "#FF6692",
          "dash": "solid"
         },
         "marker": {
          "symbol": "circle"
         },
         "mode": "lines",
         "name": "17.0",
         "showlegend": true,
         "type": "scattergl",
         "x": [
          1,
          2,
          3,
          4,
          5,
          6,
          7,
          8,
          9,
          10,
          11,
          12,
          13,
          14,
          15,
          16,
          17,
          18
         ],
         "xaxis": "x",
         "y": [
          -0.5651229997530036,
          -0.5271488392326885,
          0.8063839459892469,
          -0.20168950382791578,
          -0.35232840182624825,
          -0.30905055760977884,
          -0.87805242908946,
          -1.0597469987605366,
          -1.5299207134723387,
          -1.1723832865925157,
          -1.9218464148917518,
          -1.6184653972041183,
          -1.2890076099567733,
          -1.3284220288609137,
          -0.9734080465473118,
          -1.546717728569609,
          -0.9530497747033575,
          -1.0327838658312911
         ],
         "yaxis": "y"
        },
        {
         "hovertemplate": "Pacjent=18.0<br>BADANIE_NR=%{x}<br>LDA=%{y}<extra></extra>",
         "legendgroup": "18.0",
         "line": {
          "color": "#B6E880",
          "dash": "solid"
         },
         "marker": {
          "symbol": "circle"
         },
         "mode": "lines",
         "name": "18.0",
         "showlegend": true,
         "type": "scattergl",
         "x": [
          1,
          2,
          3,
          4,
          5,
          6,
          7,
          8,
          9,
          10,
          11,
          12,
          13,
          14,
          15,
          16,
          17,
          18,
          19,
          20,
          21,
          22,
          23,
          24,
          25,
          26,
          27,
          28,
          29,
          30,
          31,
          32,
          33,
          34,
          35
         ],
         "xaxis": "x",
         "y": [
          -0.8899385520194243,
          -0.7720703280773,
          -0.9107136330838834,
          -1.0287374088382641,
          -0.740507638452154,
          -0.7852492939464749,
          -1.1993350319564158,
          -1.0321989149711406,
          -0.8643974680050173,
          -1.8129363791890345,
          -1.120147689910398,
          -1.218164357982217,
          -0.8871717513760069,
          -1.093937848674813,
          -0.924402306826205,
          -0.7437366166738674,
          -1.0202859158593505,
          -1.2804759319314016,
          -1.4251862795167902,
          -1.5510142787676464,
          -1.3181166792679755,
          -1.2974208641180323,
          -1.4543325643279559,
          -1.3562357625815424,
          -1.7830032612685411,
          -1.7266421399008272,
          -1.5178416171702855,
          -1.0426077534224816,
          -1.247495896163099,
          -1.3725192687066206,
          -1.5714723807755608,
          -0.9482631695464713,
          -1.4292633049700598,
          -1.2151790880370132,
          -1.4149300450104842
         ],
         "yaxis": "y"
        },
        {
         "hovertemplate": "Pacjent=19.0<br>BADANIE_NR=%{x}<br>LDA=%{y}<extra></extra>",
         "legendgroup": "19.0",
         "line": {
          "color": "#FF97FF",
          "dash": "solid"
         },
         "marker": {
          "symbol": "circle"
         },
         "mode": "lines",
         "name": "19.0",
         "showlegend": true,
         "type": "scattergl",
         "x": [
          1,
          2,
          3,
          4,
          5,
          6,
          7,
          8,
          9,
          10,
          11,
          12,
          13,
          14,
          15,
          16,
          17,
          18,
          19,
          20,
          21,
          22,
          23,
          24,
          25,
          26,
          27,
          28,
          29,
          30,
          31,
          32
         ],
         "xaxis": "x",
         "y": [
          -1.0021530137340682,
          -0.9533872766921161,
          -0.96989505199343,
          -1.0147595728423737,
          -0.8734227904682892,
          -1.3953812014573144,
          -1.1712314418542025,
          -0.9075904269856885,
          -1.0517451588688194,
          0.27206035030374276,
          -1.3644580453598585,
          -1.064630500609931,
          -1.0011724210723074,
          -0.967105889532426,
          -0.7233421620840583,
          -0.7891877572498237,
          -0.5071126838549467,
          -0.8985990790590555,
          -0.9568065324785504,
          -0.9829303623808952,
          -0.8703574047702197,
          -0.7883435518778441,
          -1.1022511763959888,
          -1.195638540997201,
          -0.6837286119919728,
          -0.9913030443398863,
          -0.9566870679885453,
          -0.9165300734593278,
          -1.0448606581585553,
          -0.8715368871540252,
          -1.0165479893222409,
          -1.0785967746682852
         ],
         "yaxis": "y"
        },
        {
         "hovertemplate": "Pacjent=26.0<br>BADANIE_NR=%{x}<br>LDA=%{y}<extra></extra>",
         "legendgroup": "26.0",
         "line": {
          "color": "#FECB52",
          "dash": "solid"
         },
         "marker": {
          "symbol": "circle"
         },
         "mode": "lines",
         "name": "26.0",
         "showlegend": true,
         "type": "scattergl",
         "x": [
          1,
          2,
          3,
          4,
          5,
          6,
          7,
          8,
          9,
          10,
          11,
          12,
          13,
          14,
          15,
          16
         ],
         "xaxis": "x",
         "y": [
          0.594415175118082,
          0.9899381998718212,
          1.6556585968691744,
          2.166692408600374,
          -0.778221569034093,
          -0.4986891704028338,
          -1.4308595777745126,
          -1.152447465201316,
          -0.6716031143074007,
          -0.4865321565186174,
          -0.966194952121413,
          -1.4715638172369387,
          -1.6495615394780248,
          -1.0634579370177504,
          -0.7658729790987356,
          -0.5696858943157386
         ],
         "yaxis": "y"
        },
        {
         "hovertemplate": "Pacjent=28.0<br>BADANIE_NR=%{x}<br>LDA=%{y}<extra></extra>",
         "legendgroup": "28.0",
         "line": {
          "color": "#636efa",
          "dash": "solid"
         },
         "marker": {
          "symbol": "circle"
         },
         "mode": "lines",
         "name": "28.0",
         "showlegend": true,
         "type": "scattergl",
         "x": [
          1,
          2,
          3,
          4,
          5,
          6,
          7,
          8,
          9,
          10,
          11,
          12,
          13,
          14,
          15,
          16,
          17,
          18,
          19,
          20,
          21,
          22,
          23,
          24,
          25,
          26,
          27,
          28,
          29,
          30,
          31,
          32,
          33,
          34,
          35,
          36,
          37,
          38,
          39,
          40
         ],
         "xaxis": "x",
         "y": [
          1.2451424249314342,
          -0.2005722316970989,
          -0.04973090122180489,
          0.10291134392484966,
          0.0171140795826905,
          -0.04077510362459255,
          -0.9270993855250016,
          0.07298127384934133,
          -0.7096477477716052,
          -0.9212707521542634,
          -0.6822652112969944,
          -1.0728990992550473,
          -0.8647376397836894,
          -0.6865910237146339,
          -1.0296699883984963,
          -0.3707152029927115,
          -0.5304474197859699,
          -1.1577338760677922,
          -1.309844162012468,
          -1.504868298010868,
          -1.53828047588084,
          -1.4006230667269375,
          -0.7027220388306282,
          -0.43467380406905465,
          -0.4842954298147675,
          -0.9750869131767873,
          -1.1364721985981048,
          -1.2621858146348133,
          -1.4538576381772794,
          -1.2743328930509443,
          -1.3714125451152384,
          -1.3484628097286862,
          -1.4414774748530486,
          -1.1998312746538622,
          -1.336488416641308,
          -1.8310123402642964,
          -1.1235822981305679,
          -1.0849697718262548,
          -1.255254071511425,
          -1.1788506011747895
         ],
         "yaxis": "y"
        },
        {
         "hovertemplate": "Pacjent=33.0<br>BADANIE_NR=%{x}<br>LDA=%{y}<extra></extra>",
         "legendgroup": "33.0",
         "line": {
          "color": "#EF553B",
          "dash": "solid"
         },
         "marker": {
          "symbol": "circle"
         },
         "mode": "lines",
         "name": "33.0",
         "showlegend": true,
         "type": "scattergl",
         "x": [
          1,
          2,
          3,
          4,
          5,
          6,
          7,
          8,
          9,
          10,
          11,
          12,
          13,
          14,
          15,
          16,
          17,
          18,
          19,
          20,
          21,
          22,
          23,
          24,
          25,
          26,
          27,
          28,
          29,
          30,
          31,
          32,
          33,
          34,
          35,
          36,
          37,
          38,
          39,
          40,
          41,
          42,
          43,
          44,
          45,
          46,
          47,
          48,
          49,
          50,
          51
         ],
         "xaxis": "x",
         "y": [
          -0.7083598116143119,
          -0.5213056812100569,
          -0.2867015536501486,
          -1.13305071526645,
          -0.7202329216763105,
          -1.2730241052535747,
          -1.3380907880625401,
          -1.0728827762331652,
          -1.5084094248620248,
          -0.5921354449157259,
          -0.6595340516818573,
          -0.8461295200302876,
          -0.6075389084757415,
          -0.8406522419987552,
          -0.8576613968341411,
          -0.8580815366130292,
          -0.9120383471765221,
          -0.7253261624260081,
          -0.9274748948543192,
          -1.143972154616329,
          -1.2056186933510689,
          -0.9840128154933961,
          -0.22870267223849694,
          -0.4633693973832638,
          -0.9815858772046018,
          -1.3660449391934948,
          -0.7910723104051918,
          -0.9229105574342659,
          -0.6960341540893431,
          -1.0298599779270767,
          -0.7622933584820504,
          -0.8028816637907008,
          -0.6436002688864497,
          -0.7445401817474133,
          -0.5486682545376425,
          -0.39828484865497354,
          -0.8508103837083327,
          -0.30881264179914886,
          -1.071197736895671,
          -0.5271793205673904,
          -0.8186149884620137,
          -0.8121966677285302,
          -1.3377337679774068,
          -0.9005703989632873,
          -0.4775173054538903,
          -0.6368455869555617,
          -0.6828657430705184,
          -0.693016444938514,
          -0.73525831446141,
          -0.733928677796967,
          -0.9219642401359466
         ],
         "yaxis": "y"
        },
        {
         "hovertemplate": "Pacjent=39.0<br>BADANIE_NR=%{x}<br>LDA=%{y}<extra></extra>",
         "legendgroup": "39.0",
         "line": {
          "color": "#00cc96",
          "dash": "solid"
         },
         "marker": {
          "symbol": "circle"
         },
         "mode": "lines",
         "name": "39.0",
         "showlegend": true,
         "type": "scattergl",
         "x": [
          1,
          2,
          3,
          4,
          5,
          6,
          7,
          8,
          9,
          10,
          11,
          12,
          13,
          14,
          15,
          16,
          17,
          18,
          19,
          20,
          21,
          22,
          23,
          24,
          25,
          26,
          27,
          28,
          29,
          30,
          31,
          32,
          33,
          34,
          35
         ],
         "xaxis": "x",
         "y": [
          0.89858534938367,
          1.0371887994796927,
          1.8165180269308703,
          -0.057363061953955685,
          -0.03069740936725207,
          0.34179946446589293,
          -0.34059418395771796,
          -0.5210558109713339,
          -0.5546161293144236,
          -0.9088293622566963,
          -0.8902304207444799,
          -0.7503610330641475,
          -1.1303648267774027,
          -1.2626089350654877,
          -1.331353456492642,
          -1.403419952221432,
          -1.1245947265899414,
          -1.0241946237861974,
          -0.38591124346883604,
          -1.1578920327031808,
          -1.0030097714582018,
          -0.935394643996003,
          -0.7193204802888175,
          -0.8795280140235235,
          -0.9271992671377252,
          0.10653153877442406,
          -1.139394959176385,
          -1.0904207204932292,
          -1.023636121519587,
          -1.129476706808912,
          -0.8519180437558114,
          -0.9589204015089603,
          -0.8557243616611027,
          -0.008606762212312158,
          -0.6604788109523959
         ],
         "yaxis": "y"
        },
        {
         "hovertemplate": "Pacjent=44.0<br>BADANIE_NR=%{x}<br>LDA=%{y}<extra></extra>",
         "legendgroup": "44.0",
         "line": {
          "color": "#ab63fa",
          "dash": "solid"
         },
         "marker": {
          "symbol": "circle"
         },
         "mode": "lines",
         "name": "44.0",
         "showlegend": true,
         "type": "scattergl",
         "x": [
          1,
          2,
          3,
          4,
          5,
          6,
          7,
          8,
          9,
          10,
          11,
          12,
          13,
          14,
          15,
          16,
          17,
          18,
          19,
          20,
          21,
          22,
          23,
          24,
          25,
          26
         ],
         "xaxis": "x",
         "y": [
          -0.46968484588039217,
          0.8407934617860837,
          -0.7801932132752526,
          -0.9937661167345618,
          -0.9773504140411888,
          -1.026120799186365,
          -1.3436244047044243,
          -1.1803989060897486,
          -1.3288852206228463,
          -1.6659952228663235,
          -1.44744752009635,
          -1.379607132112499,
          -0.6047316758046268,
          -1.0152730227163442,
          -0.8951452732118694,
          -1.0664225448473152,
          -0.9804773720279537,
          -1.0825893612571127,
          -0.8407451297892556,
          -1.0569965996451904,
          -0.8837866652023577,
          -1.1100407307968267,
          -1.2199444235146506,
          -1.06418877703741,
          -1.212343094440236,
          -1.4337543153186634
         ],
         "yaxis": "y"
        },
        {
         "hovertemplate": "Pacjent=47.0<br>BADANIE_NR=%{x}<br>LDA=%{y}<extra></extra>",
         "legendgroup": "47.0",
         "line": {
          "color": "#FFA15A",
          "dash": "solid"
         },
         "marker": {
          "symbol": "circle"
         },
         "mode": "lines",
         "name": "47.0",
         "showlegend": true,
         "type": "scattergl",
         "x": [
          1,
          2,
          3,
          4,
          5,
          6,
          7,
          8,
          9,
          10,
          11,
          12,
          13,
          14,
          15,
          16,
          17,
          18,
          19,
          20,
          21,
          22,
          23,
          24,
          25,
          26,
          27,
          28,
          29
         ],
         "xaxis": "x",
         "y": [
          -0.653669413453354,
          -0.9889669643576178,
          -0.2012956950678356,
          -0.2956539593522399,
          -0.6855521934566136,
          -0.5785403323558445,
          -0.9055869840851842,
          -1.3347091831758882,
          -1.4814715578995523,
          -1.6598681458381594,
          -1.1956548914167278,
          -1.3991060063858476,
          -0.4581830549778356,
          -1.4019664992643854,
          -1.5309611604744056,
          -0.8800462858475315,
          -1.445650805361415,
          -1.2623963097163506,
          -1.8046007371958526,
          -1.614809739233903,
          -0.9581193678332196,
          -1.4842543113264641,
          -1.1842084248432574,
          -1.3867990741226661,
          -0.9154964120775989,
          -1.0451549434700202,
          -0.9460138327557203,
          -0.724152443619653,
          -0.6785199849962544
         ],
         "yaxis": "y"
        },
        {
         "hovertemplate": "Pacjent=49.0<br>BADANIE_NR=%{x}<br>LDA=%{y}<extra></extra>",
         "legendgroup": "49.0",
         "line": {
          "color": "#19d3f3",
          "dash": "solid"
         },
         "marker": {
          "symbol": "circle"
         },
         "mode": "lines",
         "name": "49.0",
         "showlegend": true,
         "type": "scattergl",
         "x": [
          1,
          2,
          3,
          4,
          5,
          6,
          7,
          8,
          9,
          10,
          11,
          12,
          13,
          14,
          15,
          16,
          17,
          18,
          19,
          20,
          21,
          22,
          23
         ],
         "xaxis": "x",
         "y": [
          -0.3336659696187787,
          -0.5477190300473531,
          -0.5902876436328177,
          -0.2990047805814972,
          -0.4602787965303901,
          -0.5531777005584237,
          -0.9201497886793557,
          -1.2352965243386014,
          -1.0047844681384297,
          -1.0876420651824488,
          -1.0377077334690032,
          -1.0436044456919278,
          -1.3730113949141782,
          -1.4288945204924675,
          -1.2650557418832158,
          -1.2702677908227877,
          -1.140049714681969,
          -1.0385575315975166,
          -1.0659603418756154,
          -1.1179342357031101,
          -0.99206524464119,
          -1.0598893761110717,
          -0.891042261829583
         ],
         "yaxis": "y"
        },
        {
         "hovertemplate": "Pacjent=50.0<br>BADANIE_NR=%{x}<br>LDA=%{y}<extra></extra>",
         "legendgroup": "50.0",
         "line": {
          "color": "#FF6692",
          "dash": "solid"
         },
         "marker": {
          "symbol": "circle"
         },
         "mode": "lines",
         "name": "50.0",
         "showlegend": true,
         "type": "scattergl",
         "x": [
          1,
          2,
          3,
          4,
          5,
          6,
          7,
          8,
          9,
          10,
          11,
          12,
          13,
          14,
          15,
          16,
          17,
          18,
          19
         ],
         "xaxis": "x",
         "y": [
          -0.417361280867809,
          -0.692328672256811,
          -0.6915549103601618,
          0.2961410686177719,
          -0.2653984983456449,
          -0.8753307308417194,
          -1.3709645832233082,
          -1.387364198057794,
          -1.4636411434367096,
          -1.3527008311149196,
          -1.3485618395710066,
          -1.780166740579592,
          -1.1463071841112271,
          -1.5159808660877527,
          -1.280544182923447,
          -1.4326875373038,
          -1.3368544810748866,
          -0.9911212267374494,
          -1.0334667626576284
         ],
         "yaxis": "y"
        },
        {
         "hovertemplate": "Pacjent=54.0<br>BADANIE_NR=%{x}<br>LDA=%{y}<extra></extra>",
         "legendgroup": "54.0",
         "line": {
          "color": "#B6E880",
          "dash": "solid"
         },
         "marker": {
          "symbol": "circle"
         },
         "mode": "lines",
         "name": "54.0",
         "showlegend": true,
         "type": "scattergl",
         "x": [
          1,
          2,
          3,
          4,
          5,
          6,
          7,
          8,
          9,
          10,
          11,
          12,
          13,
          14,
          15,
          16,
          17,
          18,
          19,
          20,
          21,
          22,
          23,
          24,
          25,
          26,
          27,
          28,
          29,
          30,
          31,
          32,
          33,
          34,
          35,
          36,
          37,
          38
         ],
         "xaxis": "x",
         "y": [
          -0.6727855289910132,
          -0.8287320833223912,
          -0.23769522106734317,
          -0.8722675738155812,
          -0.9809521542886525,
          -0.8600334084549832,
          -0.8891666534823347,
          -0.8041609919604724,
          -0.3977053417296942,
          -0.283885309431505,
          -0.3695682893928408,
          -0.6157158793833635,
          -0.4782078261886841,
          -0.28661781102149786,
          -0.5428193087387181,
          -0.6812353498352937,
          -0.613745066597484,
          -0.8479847459657311,
          0.25957264787693723,
          0.17291709704676245,
          -0.2803448738091603,
          -1.003388989792839,
          -1.1246000798834466,
          -0.4522145273204595,
          -1.4384995227329904,
          -1.322664432625025,
          -0.9698191122709549,
          -0.954344045039091,
          -0.826698531454529,
          -0.550050011834627,
          -0.6727537064165444,
          -0.5844770904524441,
          -0.9851756357210324,
          -0.39978570684210857,
          -0.9740038635814676,
          -0.5953848550113163,
          -0.619750015654026,
          -0.6393956054437429
         ],
         "yaxis": "y"
        },
        {
         "hovertemplate": "Pacjent=58.0<br>BADANIE_NR=%{x}<br>LDA=%{y}<extra></extra>",
         "legendgroup": "58.0",
         "line": {
          "color": "#FF97FF",
          "dash": "solid"
         },
         "marker": {
          "symbol": "circle"
         },
         "mode": "lines",
         "name": "58.0",
         "showlegend": true,
         "type": "scattergl",
         "x": [
          1,
          2,
          3,
          4,
          5,
          6,
          7,
          8,
          9,
          10,
          11,
          12,
          13,
          14,
          15,
          16,
          17,
          18,
          19,
          20,
          21,
          22,
          23,
          24,
          25
         ],
         "xaxis": "x",
         "y": [
          -0.6188076880558422,
          -0.67122319527122,
          -0.6691083146212031,
          -0.6888024572049962,
          -0.8879709855141502,
          -1.3097540910285643,
          -1.452724845834629,
          -1.2404765526100516,
          -0.6302074665784771,
          -1.0710165038937873,
          -0.7796401019418621,
          -0.7766336916430749,
          -0.8884165627168535,
          -1.1822014464683757,
          -0.9524116585644422,
          -1.093297329614361,
          -0.8944309003454829,
          -0.960992776697775,
          -1.1086251169355754,
          -1.048225088168343,
          -1.198209747291349,
          -1.1817990616553353,
          0.40058851853428656,
          0.6900056292094608,
          0.41120748970052484
         ],
         "yaxis": "y"
        },
        {
         "hovertemplate": "Pacjent=59.0<br>BADANIE_NR=%{x}<br>LDA=%{y}<extra></extra>",
         "legendgroup": "59.0",
         "line": {
          "color": "#FECB52",
          "dash": "solid"
         },
         "marker": {
          "symbol": "circle"
         },
         "mode": "lines",
         "name": "59.0",
         "showlegend": true,
         "type": "scattergl",
         "x": [
          1,
          2,
          3,
          4,
          5,
          6,
          7,
          8,
          9,
          10,
          11,
          12,
          13,
          14,
          15,
          16,
          17,
          18,
          19
         ],
         "xaxis": "x",
         "y": [
          -1.140898723344955,
          0.4286702093187019,
          -1.3051284635535854,
          -1.1138795767610865,
          -1.4857406843037833,
          -1.2966856182601707,
          -1.0156563219229484,
          -1.2557810488054875,
          -1.5862801085858902,
          -0.1366405503709754,
          -1.1019061083250132,
          -1.5360172699243473,
          -1.0675736398679379,
          -1.6990189136572904,
          -1.2272428334750602,
          -0.9540906579660365,
          -1.2170135894153287,
          -0.8108236460959384,
          -0.9918821373990692
         ],
         "yaxis": "y"
        },
        {
         "hovertemplate": "Pacjent=60.0<br>BADANIE_NR=%{x}<br>LDA=%{y}<extra></extra>",
         "legendgroup": "60.0",
         "line": {
          "color": "#636efa",
          "dash": "solid"
         },
         "marker": {
          "symbol": "circle"
         },
         "mode": "lines",
         "name": "60.0",
         "showlegend": true,
         "type": "scattergl",
         "x": [
          1,
          2,
          3,
          4,
          5,
          6,
          7,
          8,
          9,
          10,
          11,
          12,
          13,
          14,
          15,
          16,
          17,
          18,
          19,
          20
         ],
         "xaxis": "x",
         "y": [
          -0.9705487633862436,
          -0.8828418648120668,
          -1.3955784767817945,
          -1.698911551641721,
          -1.5387087984523353,
          0.32758393888784376,
          -1.5343301428312732,
          -1.4758432437707374,
          -1.3093583796421926,
          -1.555485885457233,
          -1.0093222003650422,
          0.4735282997246198,
          0.08405257300424493,
          0.657652609057229,
          0.2109730529284798,
          -0.2236953260958015,
          0.4622478095839584,
          0.6183672579077515,
          -0.12735602091557904,
          -1.0894628190134654
         ],
         "yaxis": "y"
        },
        {
         "hovertemplate": "Pacjent=69.0<br>BADANIE_NR=%{x}<br>LDA=%{y}<extra></extra>",
         "legendgroup": "69.0",
         "line": {
          "color": "#EF553B",
          "dash": "solid"
         },
         "marker": {
          "symbol": "circle"
         },
         "mode": "lines",
         "name": "69.0",
         "showlegend": true,
         "type": "scattergl",
         "x": [
          1,
          2,
          3,
          4,
          5,
          6,
          7,
          8,
          9,
          10,
          11,
          12,
          13,
          14,
          15,
          16,
          17,
          18,
          19,
          20,
          21,
          22,
          23
         ],
         "xaxis": "x",
         "y": [
          -0.7641722861342299,
          -0.9202424638032581,
          -0.6945042422537295,
          -1.0374296802415626,
          -0.2208487003186413,
          -1.0326786765035485,
          -1.137004906525017,
          -1.0051391595820327,
          -1.200378064362908,
          -1.261735103445822,
          -1.194009418142536,
          -1.2348722970163533,
          -1.2733974757168007,
          -1.3071178891039952,
          -1.3080105245992848,
          -1.691909322293033,
          -1.1277144444192149,
          -1.1605576391516452,
          -1.74033941660836,
          -1.2474496116065437,
          -1.1519756628453643,
          -1.2021529301373712,
          -1.0634669768176042
         ],
         "yaxis": "y"
        },
        {
         "hovertemplate": "Pacjent=72.0<br>BADANIE_NR=%{x}<br>LDA=%{y}<extra></extra>",
         "legendgroup": "72.0",
         "line": {
          "color": "#00cc96",
          "dash": "solid"
         },
         "marker": {
          "symbol": "circle"
         },
         "mode": "lines",
         "name": "72.0",
         "showlegend": true,
         "type": "scattergl",
         "x": [
          1,
          2,
          3,
          4,
          5,
          6,
          7,
          8,
          9,
          10,
          11,
          12,
          13,
          14,
          15,
          16,
          17,
          18,
          19,
          20,
          21,
          22,
          23,
          24,
          25,
          26,
          27,
          28,
          29,
          30,
          31,
          32,
          33,
          34,
          35,
          36
         ],
         "xaxis": "x",
         "y": [
          0.5400917864620626,
          0.5387796952329001,
          -0.12735684858394286,
          -0.24835816177988385,
          -0.29583354652055166,
          -0.3305073912540536,
          -0.9468811265825314,
          -0.9443876972882421,
          -0.9775975289535687,
          -0.1330335341315912,
          -0.35487423036034577,
          -0.5056736472702232,
          -0.01654823647405873,
          -0.3391262012963646,
          -0.31117099319839114,
          -0.4517877054043298,
          -0.7221538404947254,
          -0.5688445228858925,
          -0.5541566233219662,
          -0.43960614433968415,
          -0.6364888872311828,
          0.12490679249934993,
          -0.11889659208860329,
          -0.23763047667931064,
          -1.8560120680922343,
          0.10410703794904907,
          -0.19238329157182193,
          -0.21117760118517753,
          -0.7841634844632368,
          0.054824962527100396,
          -0.2454674177404303,
          -0.1309203927442925,
          -0.27747663284595325,
          -0.05689646104313706,
          0.05980211853130829,
          0.5467112067748627
         ],
         "yaxis": "y"
        },
        {
         "hovertemplate": "Pacjent=76.0<br>BADANIE_NR=%{x}<br>LDA=%{y}<extra></extra>",
         "legendgroup": "76.0",
         "line": {
          "color": "#ab63fa",
          "dash": "solid"
         },
         "marker": {
          "symbol": "circle"
         },
         "mode": "lines",
         "name": "76.0",
         "showlegend": true,
         "type": "scattergl",
         "x": [
          1,
          2,
          3,
          4,
          5,
          6,
          7,
          8,
          9,
          10,
          11,
          12,
          13,
          14,
          15,
          16,
          17,
          18,
          19
         ],
         "xaxis": "x",
         "y": [
          0.1755124066615422,
          0.0011082028503627828,
          0.36066752093052723,
          0.36451768794755013,
          0.09301956016982602,
          -0.016229145026502315,
          -0.755555231936044,
          -0.7206115905254045,
          -0.6762273765797412,
          -1.3194945388085664,
          -1.2189567202688398,
          -0.851724496542012,
          -1.1363686635418189,
          -1.1095860859792874,
          -1.2326467120597009,
          -0.8718337463611185,
          -1.4654127896209328,
          -1.6612426907390043,
          -1.3487438943073946
         ],
         "yaxis": "y"
        },
        {
         "hovertemplate": "Pacjent=81.0<br>BADANIE_NR=%{x}<br>LDA=%{y}<extra></extra>",
         "legendgroup": "81.0",
         "line": {
          "color": "#FFA15A",
          "dash": "solid"
         },
         "marker": {
          "symbol": "circle"
         },
         "mode": "lines",
         "name": "81.0",
         "showlegend": true,
         "type": "scattergl",
         "x": [
          1,
          2,
          3,
          4,
          5,
          6,
          7,
          8,
          9,
          10,
          11,
          12,
          13,
          14,
          15,
          16,
          17,
          18,
          19,
          20,
          21,
          22,
          23,
          24,
          25,
          26,
          27,
          28,
          29
         ],
         "xaxis": "x",
         "y": [
          1.7762256747831624,
          0.08387995621098321,
          -1.2932490532682388,
          -1.8101952631907272,
          -0.9890609580255021,
          -1.4799111020345754,
          -2.0521474133511464,
          -1.5813302675982068,
          -1.7119933362419784,
          -1.399674192490639,
          -1.9068334248484533,
          -1.1714153032665984,
          -1.6345608095178152,
          -1.733466145087601,
          -1.4504636972277556,
          -1.4850315729059398,
          -0.9991020868221884,
          -0.6958268116133658,
          -1.15990892435931,
          -0.943982237702584,
          -0.83227095716534,
          -0.9970578029277278,
          -1.2875206086527495,
          -0.7978301120370174,
          -0.9479359439425896,
          -1.2629552780896645,
          -1.230101718821362,
          -1.3494988528179985,
          -1.0986700295835043
         ],
         "yaxis": "y"
        },
        {
         "hovertemplate": "Pacjent=83.0<br>BADANIE_NR=%{x}<br>LDA=%{y}<extra></extra>",
         "legendgroup": "83.0",
         "line": {
          "color": "#19d3f3",
          "dash": "solid"
         },
         "marker": {
          "symbol": "circle"
         },
         "mode": "lines",
         "name": "83.0",
         "showlegend": true,
         "type": "scattergl",
         "x": [
          1,
          2,
          3,
          4,
          5,
          6,
          7,
          8,
          9,
          10,
          11,
          12,
          13,
          14,
          15,
          16,
          17,
          18,
          19,
          20,
          21,
          22,
          23,
          24,
          25,
          26,
          27,
          28,
          29,
          30,
          31,
          32,
          33,
          34,
          35,
          36,
          37,
          38,
          39,
          40
         ],
         "xaxis": "x",
         "y": [
          -0.09914541227129403,
          0.38561947314042333,
          0.2583174842338577,
          -0.8293817806114081,
          -1.3382438416150293,
          -1.4661879708346561,
          -1.3688166312912837,
          -1.4013158744213108,
          -1.2314380891944257,
          -0.6362109533709773,
          -0.900110043245476,
          -1.2606327857800204,
          -1.357504542809703,
          -1.270381014161583,
          -1.2971732548287394,
          -1.4757830325139643,
          -1.1999847543178446,
          -0.9850263787423106,
          -1.1916597931313584,
          -1.1357065444645833,
          -0.9093727610914688,
          -1.235719807863616,
          -1.1565559495073403,
          -0.7176630829101299,
          -1.1085847739511467,
          -1.2791860872758325,
          -1.2054944190610088,
          -1.0416197817938604,
          -0.9769503972961355,
          -0.8100409247638434,
          -1.0369252651787328,
          -0.6050891818129793,
          -0.8346625118947689,
          -0.9560258787143545,
          -0.9665630937932178,
          -0.8790138328838598,
          -1.0592541469551924,
          -1.2621517797551536,
          0.3069497069785358,
          0.0007997475593961578
         ],
         "yaxis": "y"
        },
        {
         "hovertemplate": "Pacjent=90.0<br>BADANIE_NR=%{x}<br>LDA=%{y}<extra></extra>",
         "legendgroup": "90.0",
         "line": {
          "color": "#FF6692",
          "dash": "solid"
         },
         "marker": {
          "symbol": "circle"
         },
         "mode": "lines",
         "name": "90.0",
         "showlegend": true,
         "type": "scattergl",
         "x": [
          1,
          2,
          3,
          4,
          5,
          6,
          7,
          8,
          9,
          10,
          11,
          12,
          13,
          14,
          15,
          16,
          17,
          18,
          19,
          20,
          21,
          22,
          23,
          24,
          25,
          26,
          27,
          28,
          29,
          30,
          31,
          32,
          33,
          34,
          35,
          36,
          37,
          38,
          39,
          40,
          41,
          42,
          43,
          44,
          45,
          46,
          47,
          48,
          49,
          50,
          51,
          52,
          53,
          54,
          55
         ],
         "xaxis": "x",
         "y": [
          -0.4583168605972704,
          0.33675189375261394,
          0.24493963680117603,
          -1.135568800347773,
          -0.8545978042634118,
          -1.0964696647593357,
          -0.9334282616342398,
          -1.0824924962768816,
          -1.273076965293804,
          -0.24463518873705592,
          -0.44555392509832326,
          -0.8196831204818077,
          -1.0438606001993573,
          0.019520775961198,
          -1.4197882480080077,
          -0.9336631007140718,
          -1.1889247882996856,
          -1.065193394688042,
          -1.1119220964113357,
          -1.065851248949623,
          -1.4239835215121077,
          -0.5180416633396034,
          -1.089481161844352,
          -0.6532834964268603,
          -1.0442336053409849,
          -1.106803003424446,
          -1.7813147801388438,
          -1.2935231856989577,
          -1.197610837791015,
          -1.1560377459862026,
          -1.4720937757377184,
          -1.4998054508001588,
          -1.4983608916455413,
          -0.9459729972021682,
          -1.1384605205153402,
          -1.313599059108672,
          -1.179585064461326,
          -1.6949411773159477,
          -1.2645793821396332,
          -1.2486836334931415,
          -1.4438215949577673,
          0.4275008440307333,
          -1.2695251576973103,
          -1.2488728937898823,
          -1.0182186982486547,
          -0.7952072110744411,
          -1.227189063950845,
          -1.244296253748436,
          -1.3373182208705787,
          -1.184929250842744,
          -0.9965988529679697,
          -1.5157233815004858,
          -0.9937519692654908,
          -1.313020895110227,
          -1.2135124892697318
         ],
         "yaxis": "y"
        },
        {
         "hovertemplate": "Pacjent=95.0<br>BADANIE_NR=%{x}<br>LDA=%{y}<extra></extra>",
         "legendgroup": "95.0",
         "line": {
          "color": "#B6E880",
          "dash": "solid"
         },
         "marker": {
          "symbol": "circle"
         },
         "mode": "lines",
         "name": "95.0",
         "showlegend": true,
         "type": "scattergl",
         "x": [
          1,
          2,
          3,
          4,
          5,
          6,
          7,
          8,
          9,
          10,
          11,
          12,
          13,
          14,
          15,
          16,
          17,
          18,
          19,
          20,
          21,
          22,
          23,
          24,
          25,
          26,
          27,
          28,
          29,
          30,
          31,
          32,
          33,
          34,
          35,
          36,
          37,
          38,
          39,
          40,
          41,
          42,
          43,
          44,
          45,
          46,
          47,
          48,
          49,
          50,
          51,
          52,
          53,
          54,
          55,
          56
         ],
         "xaxis": "x",
         "y": [
          -0.4719513217893828,
          -0.5814702081408423,
          -0.43965735338033535,
          -0.3332449910736877,
          -0.5284560953498663,
          -1.0905792490713735,
          -1.1583716933104389,
          -0.9214556303106961,
          -0.8994189797881632,
          -1.4899756666223862,
          -0.8580338072706397,
          -0.5496905562986801,
          -0.591381049938351,
          -0.5948059209573152,
          -0.7013361001574967,
          -0.8528842527204676,
          -0.7844683066068934,
          -0.8081943940217022,
          -1.1690107888321262,
          -0.9559301019111814,
          -0.7893379671545613,
          -0.6261273820175352,
          -0.9126190561814415,
          -0.1377612166413821,
          0.21568031916476532,
          0.2072482551181662,
          -0.8991652562033313,
          -0.8605548148876964,
          0.24979671713979512,
          0.42840182955094713,
          -0.11528687746134997,
          0.4144483354299144,
          -1.268396111459277,
          -0.8354831489762381,
          -1.1735208562262238,
          -1.3947552099473395,
          -0.966742152871596,
          -1.5415359853565977,
          -1.3767256338692138,
          -0.41702937459092904,
          -0.5566916082759328,
          -0.9216056640726036,
          -0.974346528167876,
          -1.206357688894972,
          -0.8567718906954236,
          -0.5263578126406241,
          -1.2610437752592325,
          -1.1139899398437658,
          -1.1211240922553956,
          -1.1279710849811055,
          -1.2253598939351718,
          -1.21916035695279,
          -1.2049202325219235,
          -0.7044284478840341,
          -1.2050597658741509,
          -0.9457097694380765
         ],
         "yaxis": "y"
        },
        {
         "hovertemplate": "Pacjent=98.0<br>BADANIE_NR=%{x}<br>LDA=%{y}<extra></extra>",
         "legendgroup": "98.0",
         "line": {
          "color": "#FF97FF",
          "dash": "solid"
         },
         "marker": {
          "symbol": "circle"
         },
         "mode": "lines",
         "name": "98.0",
         "showlegend": true,
         "type": "scattergl",
         "x": [
          1,
          2,
          3,
          4,
          5,
          6,
          7,
          8,
          9,
          10,
          11,
          12,
          13,
          14,
          15,
          16,
          17,
          18,
          19,
          20,
          21,
          22,
          23,
          24,
          25,
          26,
          27,
          28,
          29,
          30,
          31,
          32,
          33,
          34,
          35,
          36,
          37,
          38,
          39
         ],
         "xaxis": "x",
         "y": [
          -0.00867595844976507,
          1.6269771323638214,
          0.038414124132126415,
          -0.40228500938854667,
          -0.6658315111313738,
          -0.580679095903226,
          -1.013629822471383,
          -0.9372365589170424,
          -0.5759437507828972,
          -0.3955184839681476,
          -1.365791875007541,
          -1.5918775970023886,
          -0.23137625586894334,
          -0.19781027214235047,
          -0.45299591830750313,
          -1.482097659523254,
          -1.124023965747286,
          -1.8558038212818937,
          -1.0055104323061643,
          -0.5833525911230621,
          -1.1579146154384306,
          -1.0363176567573746,
          -0.3599337226841324,
          -0.8832814651503034,
          -0.9629553176632355,
          -0.6855971136695125,
          -0.39666661063162534,
          -1.1577632643393576,
          -0.20801660629938995,
          -0.4134478981004458,
          -1.0912572677969168,
          -1.009039135483773,
          -1.0043867723159696,
          -0.8745932698691619,
          -1.053205454104108,
          -0.7355266056780474,
          -0.7714612961945791,
          -0.020006814851216748,
          -0.7800871614804922
         ],
         "yaxis": "y"
        },
        {
         "hovertemplate": "Pacjent=101.0<br>BADANIE_NR=%{x}<br>LDA=%{y}<extra></extra>",
         "legendgroup": "101.0",
         "line": {
          "color": "#FECB52",
          "dash": "solid"
         },
         "marker": {
          "symbol": "circle"
         },
         "mode": "lines",
         "name": "101.0",
         "showlegend": true,
         "type": "scattergl",
         "x": [
          1,
          2,
          3,
          4,
          5,
          6,
          7,
          8,
          9,
          10,
          11,
          12,
          13,
          14,
          15,
          16,
          17,
          18,
          19,
          20,
          21,
          22,
          23,
          24,
          25,
          26,
          27,
          28,
          29,
          30,
          31,
          32,
          33,
          34,
          35
         ],
         "xaxis": "x",
         "y": [
          0.09067270857574433,
          0.025070861116710086,
          -0.018679658110190095,
          -0.5789559385845382,
          -1.0000980476510106,
          -1.4531525354931996,
          -0.9530675096919672,
          -1.0393170440440476,
          -0.503940856055112,
          1.053938005114214,
          -0.608886032412115,
          -0.9157414429539109,
          -0.7132929995799744,
          -1.0204959902508104,
          -0.6225425275663882,
          -0.30612963932364745,
          -0.18636002672435198,
          -0.432267432314533,
          -0.5815015442485956,
          -0.7148552819763505,
          -1.1314838629681314,
          -1.3256341804808407,
          0.00322151614768712,
          -1.2063526511919949,
          -1.4884606182671443,
          -1.4988059701574963,
          -1.444549264994673,
          -1.0691986296961242,
          -1.0802639464106842,
          -1.0746682575261066,
          -0.919907024249791,
          -0.7941266583158646,
          -1.0683219467031932,
          -0.998088081929039,
          -0.9833150534161574
         ],
         "yaxis": "y"
        },
        {
         "hovertemplate": "Pacjent=104.0<br>BADANIE_NR=%{x}<br>LDA=%{y}<extra></extra>",
         "legendgroup": "104.0",
         "line": {
          "color": "#636efa",
          "dash": "solid"
         },
         "marker": {
          "symbol": "circle"
         },
         "mode": "lines",
         "name": "104.0",
         "showlegend": true,
         "type": "scattergl",
         "x": [
          1,
          2,
          3,
          4,
          5,
          6,
          7,
          8,
          9,
          10,
          11,
          12,
          13,
          14,
          15,
          16,
          17,
          18,
          19,
          20,
          21,
          22,
          23,
          24,
          25,
          26,
          27,
          28,
          29,
          30,
          31,
          32,
          33,
          34,
          35,
          36,
          37,
          38
         ],
         "xaxis": "x",
         "y": [
          -0.1573248696082854,
          0.1051372111346448,
          0.14951978884032052,
          -1.0730508672926566,
          -1.0839688181223035,
          -1.4704910741612935,
          -0.9934836831337995,
          -1.275178237770375,
          -1.4775095603432626,
          -1.1708132745800832,
          -1.6624194143997673,
          -1.8675903080434553,
          -1.1279697500514674,
          -1.7898790235511148,
          -0.856087106582653,
          -1.2446083646404964,
          -1.2914544920012616,
          -1.43720758597958,
          -1.18308034848549,
          -0.5059269519458183,
          -0.4853175403971711,
          -0.6348497034982988,
          -0.8089284084536578,
          -0.9844543525777527,
          -1.107600334140502,
          -0.9379312934859163,
          -1.6460347377587234,
          -1.5211529396291472,
          -0.7469257420685321,
          -0.6780280536343637,
          -0.7230623903936405,
          -0.6188758902126686,
          -1.2334801625366023,
          -1.0036020191172996,
          -1.0258345387410446,
          -1.2890578116836744,
          -1.5362740746557795,
          -1.4516781374052
         ],
         "yaxis": "y"
        },
        {
         "hovertemplate": "Pacjent=107.0<br>BADANIE_NR=%{x}<br>LDA=%{y}<extra></extra>",
         "legendgroup": "107.0",
         "line": {
          "color": "#EF553B",
          "dash": "solid"
         },
         "marker": {
          "symbol": "circle"
         },
         "mode": "lines",
         "name": "107.0",
         "showlegend": true,
         "type": "scattergl",
         "x": [
          1,
          2,
          3,
          4,
          5,
          6,
          7,
          8,
          9,
          10,
          11,
          12,
          13,
          14,
          15,
          16,
          17,
          18,
          19,
          20,
          21,
          22,
          23,
          24,
          25,
          26,
          27
         ],
         "xaxis": "x",
         "y": [
          -0.27706223541952885,
          -0.5644345040191465,
          -0.47326963902594604,
          -0.5360306427937109,
          -0.824443601205991,
          -0.7498360471580633,
          -1.485460672774575,
          -0.6865886376503687,
          -0.6981928619629283,
          -0.8323630193463811,
          -0.7367659936859894,
          -1.086448482030043,
          -0.7606283853340834,
          -0.9745543651246941,
          -0.8714428409815747,
          -0.9003273482350843,
          -1.0473919293446365,
          -1.1073309982032467,
          -0.5780177800350776,
          -0.9230558752882816,
          -0.6486187991309684,
          -1.0443344939199366,
          -0.8594716492772119,
          -1.269786541670817,
          -0.7026899634349556,
          -0.9289923828363771,
          -0.30663553697654367
         ],
         "yaxis": "y"
        },
        {
         "hovertemplate": "Pacjent=108.0<br>BADANIE_NR=%{x}<br>LDA=%{y}<extra></extra>",
         "legendgroup": "108.0",
         "line": {
          "color": "#00cc96",
          "dash": "solid"
         },
         "marker": {
          "symbol": "circle"
         },
         "mode": "lines",
         "name": "108.0",
         "showlegend": true,
         "type": "scattergl",
         "x": [
          1,
          2,
          3,
          4,
          5,
          6,
          7,
          8,
          9,
          10,
          11,
          12,
          13,
          14,
          15,
          16,
          17,
          18,
          19,
          20,
          21,
          22,
          23,
          24,
          25,
          26,
          27,
          28,
          29,
          30,
          31,
          32,
          33,
          34,
          35,
          36,
          37,
          38,
          39,
          40,
          41,
          42,
          43,
          44,
          45,
          46,
          47
         ],
         "xaxis": "x",
         "y": [
          -0.39397059650067806,
          -0.9128528016850186,
          -0.6706449130630755,
          -0.8139872561694658,
          -1.2870698019050515,
          -1.2702445345106648,
          -1.5022497024857486,
          -1.225984428357891,
          -1.3002801348339819,
          -1.2476722032474614,
          -1.3282605331237205,
          -1.2018689086154994,
          -1.1642909751673043,
          -1.0561217559182687,
          -1.1300704258712322,
          -1.0086982538364562,
          -0.8576774098880292,
          -1.0119906813187642,
          -1.1475971549054689,
          -1.1399269095531177,
          -1.2196511494857964,
          -1.1958197009323137,
          -0.9207065442653317,
          -1.17336429872803,
          -1.0023054405358514,
          -1.0528425926423273,
          -1.2900209036743058,
          -1.4868475392579497,
          -1.078578982881698,
          -1.1009703842426535,
          -1.0914912469640285,
          -1.3793339442866772,
          -1.1425064690689213,
          -1.5943438446740752,
          -1.4387883342044334,
          -1.1264522890313147,
          -1.2819532775126186,
          -1.2402758401413938,
          -1.0448993483740576,
          -0.983102055305995,
          -1.1862379738110227,
          -0.9185207965277307,
          -0.6937205246945628,
          -1.466513159950091,
          -1.3980053949841675,
          -1.1115139733979875,
          -1.0883723071294764
         ],
         "yaxis": "y"
        },
        {
         "hovertemplate": "Pacjent=109.0<br>BADANIE_NR=%{x}<br>LDA=%{y}<extra></extra>",
         "legendgroup": "109.0",
         "line": {
          "color": "#ab63fa",
          "dash": "solid"
         },
         "marker": {
          "symbol": "circle"
         },
         "mode": "lines",
         "name": "109.0",
         "showlegend": true,
         "type": "scattergl",
         "x": [
          1,
          2,
          3,
          4,
          5,
          6,
          7,
          8,
          9,
          10,
          11,
          12,
          13,
          14,
          15,
          16,
          17,
          18,
          19,
          20,
          21,
          22,
          23,
          24,
          25,
          26,
          27,
          28
         ],
         "xaxis": "x",
         "y": [
          -0.27768107627101984,
          0.09783812647344459,
          0.3198329914108988,
          -0.17022640319740298,
          -0.3049183511538649,
          -0.7395170144521221,
          -0.753314682708109,
          -0.5878216413489485,
          -0.06342495812229457,
          -0.1391065505059526,
          -0.23187024491375496,
          -0.41548142410140876,
          -0.18423085046368826,
          -0.08071846183958359,
          -0.13716892515156848,
          -1.015578675268121,
          -1.168274371554316,
          -0.9073561604629188,
          -1.0854469780852007,
          -1.2103309699712788,
          -1.2014831077174715,
          -1.4362514818770131,
          -1.2510831623164853,
          -0.9820284064428072,
          -1.3102492890258672,
          -1.0495924440517923,
          -1.143648877945821,
          -0.8755417736147723
         ],
         "yaxis": "y"
        },
        {
         "hovertemplate": "Pacjent=114.0<br>BADANIE_NR=%{x}<br>LDA=%{y}<extra></extra>",
         "legendgroup": "114.0",
         "line": {
          "color": "#FFA15A",
          "dash": "solid"
         },
         "marker": {
          "symbol": "circle"
         },
         "mode": "lines",
         "name": "114.0",
         "showlegend": true,
         "type": "scattergl",
         "x": [
          1,
          2,
          3,
          4,
          5,
          6,
          7,
          8,
          9,
          10,
          11,
          12,
          13,
          14,
          15,
          16,
          17,
          18
         ],
         "xaxis": "x",
         "y": [
          -1.012941620573439,
          -1.214544690009856,
          -1.042375018578102,
          -0.8475601949468338,
          -0.42518602337997197,
          -1.6253802937660038,
          -0.9562759849556723,
          -1.1853549165503912,
          -0.9107777053833392,
          -1.2463525049397008,
          -0.9480465054331215,
          -1.0844229070552038,
          -0.9660842720024001,
          -1.0870374920764991,
          -0.7908543589697357,
          -1.1478422584525672,
          -1.3681738669458312,
          -1.01526377932892
         ],
         "yaxis": "y"
        },
        {
         "hovertemplate": "Pacjent=118.0<br>BADANIE_NR=%{x}<br>LDA=%{y}<extra></extra>",
         "legendgroup": "118.0",
         "line": {
          "color": "#19d3f3",
          "dash": "solid"
         },
         "marker": {
          "symbol": "circle"
         },
         "mode": "lines",
         "name": "118.0",
         "showlegend": true,
         "type": "scattergl",
         "x": [
          1,
          2,
          3,
          4,
          5,
          6,
          7,
          8,
          9,
          10,
          11,
          12,
          13,
          14,
          15,
          16,
          17,
          18,
          19,
          20,
          21,
          22,
          23,
          24,
          25,
          26,
          27,
          28,
          29,
          30,
          31,
          32,
          33,
          34,
          35,
          36,
          37,
          38,
          39,
          40,
          41
         ],
         "xaxis": "x",
         "y": [
          1.2220257525755511,
          0.7011559658401451,
          -0.16525736507235608,
          -0.14390609661538178,
          -0.048973862302576956,
          -0.62439069479539,
          -0.7573139717893025,
          -0.6979690128783045,
          -0.653895882872105,
          -0.7870836274281782,
          -1.2405389192624499,
          -0.8823131808272933,
          -1.1713717287139345,
          -1.3159702399175945,
          -1.3011035406124267,
          -0.8378504983371533,
          -0.010100437899830061,
          -1.0064130240123907,
          -1.7121337906483451,
          -0.8004932105727289,
          -0.7257569073719129,
          -1.3924223791461754,
          -0.8425431370091512,
          -1.0437953140454332,
          -0.6797335657748955,
          -1.1242498279548991,
          -0.8308482004434317,
          -1.1863859300482646,
          -0.7505879878713099,
          -1.343239677736348,
          -1.6639627367503773,
          -1.2389703752419992,
          -1.2127562401078393,
          -1.4303964570749588,
          -1.3292528911167945,
          -1.072333966897764,
          -0.9268710189223349,
          -1.51361057039418,
          -0.9312085921610914,
          -1.3199588220179088,
          -0.8157116605320368
         ],
         "yaxis": "y"
        },
        {
         "hovertemplate": "Pacjent=132.0<br>BADANIE_NR=%{x}<br>LDA=%{y}<extra></extra>",
         "legendgroup": "132.0",
         "line": {
          "color": "#FF6692",
          "dash": "solid"
         },
         "marker": {
          "symbol": "circle"
         },
         "mode": "lines",
         "name": "132.0",
         "showlegend": true,
         "type": "scattergl",
         "x": [
          1,
          2,
          3,
          4,
          5,
          6,
          7,
          8,
          9,
          10,
          11,
          12,
          13
         ],
         "xaxis": "x",
         "y": [
          -0.8555424571073909,
          -1.126438122825141,
          -0.8951528781036172,
          -1.0098961995015603,
          -1.056604042849201,
          -1.116758103299234,
          -1.0334824907790998,
          -0.9214802146680017,
          -1.0375788568545703,
          -1.0295299385871988,
          -1.1905190018180838,
          -1.0702947211632148,
          -1.0104378603051885
         ],
         "yaxis": "y"
        },
        {
         "hovertemplate": "Pacjent=139.0<br>BADANIE_NR=%{x}<br>LDA=%{y}<extra></extra>",
         "legendgroup": "139.0",
         "line": {
          "color": "#B6E880",
          "dash": "solid"
         },
         "marker": {
          "symbol": "circle"
         },
         "mode": "lines",
         "name": "139.0",
         "showlegend": true,
         "type": "scattergl",
         "x": [
          1,
          2,
          3,
          4,
          5,
          6,
          7,
          8,
          9,
          10,
          11,
          12,
          13,
          14,
          15,
          16,
          17,
          18,
          19,
          20,
          21,
          22,
          23,
          24,
          25,
          26,
          27,
          28,
          29,
          30,
          31,
          32
         ],
         "xaxis": "x",
         "y": [
          -0.5527434662919181,
          -0.14664816889418567,
          -0.9333844608069769,
          -1.1157481529351885,
          -1.5649459619495747,
          -1.0692145623070217,
          -1.1071287146025004,
          -1.3219479305675628,
          -0.597030426298707,
          -1.4137518744184792,
          -1.4611560105543084,
          -1.9162365990128718,
          -1.4415646131845192,
          -1.4867973422460388,
          -1.4299404167473402,
          -1.2428802721697054,
          -1.7605249506289493,
          -1.8830183628199317,
          -1.3275449571171762,
          -0.7520788321114492,
          -1.1379425984585725,
          -1.05952202328652,
          -1.2044047061077303,
          -0.9061233807852667,
          -1.6304338046276718,
          -1.7094421664509576,
          -1.6772643934273828,
          -0.658614462182295,
          -0.7242996045744352,
          -0.48688210804460885,
          -0.847967482304907,
          -0.5640869223107218
         ],
         "yaxis": "y"
        },
        {
         "hovertemplate": "Pacjent=142.0<br>BADANIE_NR=%{x}<br>LDA=%{y}<extra></extra>",
         "legendgroup": "142.0",
         "line": {
          "color": "#FF97FF",
          "dash": "solid"
         },
         "marker": {
          "symbol": "circle"
         },
         "mode": "lines",
         "name": "142.0",
         "showlegend": true,
         "type": "scattergl",
         "x": [
          1,
          2,
          3,
          4,
          5,
          6,
          7,
          8,
          9,
          10,
          11,
          12,
          13,
          14,
          15,
          16,
          17,
          18,
          19,
          20,
          21
         ],
         "xaxis": "x",
         "y": [
          -0.2546037941717073,
          0.4175188540015996,
          0.41520953266617855,
          0.09733619228750112,
          -0.6216972190854037,
          -0.10884173259842816,
          -0.441375566421351,
          -1.3481800843095295,
          -0.7259170603142406,
          -1.1981799862227283,
          -1.7725969162594202,
          -1.7173380740481803,
          -1.5448672049775676,
          -1.5913675925731332,
          -1.0085694026283631,
          -0.9755611887202698,
          -0.5220689294084635,
          0.4590675733910228,
          -0.6290599315092991,
          0.09585045597376829,
          -0.5482407289330747
         ],
         "yaxis": "y"
        },
        {
         "hovertemplate": "Pacjent=144.0<br>BADANIE_NR=%{x}<br>LDA=%{y}<extra></extra>",
         "legendgroup": "144.0",
         "line": {
          "color": "#FECB52",
          "dash": "solid"
         },
         "marker": {
          "symbol": "circle"
         },
         "mode": "lines",
         "name": "144.0",
         "showlegend": true,
         "type": "scattergl",
         "x": [
          1,
          2,
          3,
          4,
          5,
          6,
          7,
          8,
          9,
          10,
          11
         ],
         "xaxis": "x",
         "y": [
          1.1404816924284518,
          -0.16791341360400078,
          -0.24383054420106492,
          0.20585189553097683,
          0.31106046047098873,
          0.2627687842006268,
          0.5217560648754553,
          -0.06223790349233965,
          0.004992113640103435,
          -0.5831484295695823,
          -0.7005408724666886
         ],
         "yaxis": "y"
        }
       ],
       "layout": {
        "height": 800,
        "legend": {
         "title": {
          "text": "Pacjent"
         },
         "tracegroupgap": 0
        },
        "margin": {
         "t": 60
        },
        "showlegend": false,
        "template": {
         "data": {
          "bar": [
           {
            "error_x": {
             "color": "#2a3f5f"
            },
            "error_y": {
             "color": "#2a3f5f"
            },
            "marker": {
             "line": {
              "color": "white",
              "width": 0.5
             },
             "pattern": {
              "fillmode": "overlay",
              "size": 10,
              "solidity": 0.2
             }
            },
            "type": "bar"
           }
          ],
          "barpolar": [
           {
            "marker": {
             "line": {
              "color": "white",
              "width": 0.5
             },
             "pattern": {
              "fillmode": "overlay",
              "size": 10,
              "solidity": 0.2
             }
            },
            "type": "barpolar"
           }
          ],
          "carpet": [
           {
            "aaxis": {
             "endlinecolor": "#2a3f5f",
             "gridcolor": "#C8D4E3",
             "linecolor": "#C8D4E3",
             "minorgridcolor": "#C8D4E3",
             "startlinecolor": "#2a3f5f"
            },
            "baxis": {
             "endlinecolor": "#2a3f5f",
             "gridcolor": "#C8D4E3",
             "linecolor": "#C8D4E3",
             "minorgridcolor": "#C8D4E3",
             "startlinecolor": "#2a3f5f"
            },
            "type": "carpet"
           }
          ],
          "choropleth": [
           {
            "colorbar": {
             "outlinewidth": 0,
             "ticks": ""
            },
            "type": "choropleth"
           }
          ],
          "contour": [
           {
            "colorbar": {
             "outlinewidth": 0,
             "ticks": ""
            },
            "colorscale": [
             [
              0,
              "#0d0887"
             ],
             [
              0.1111111111111111,
              "#46039f"
             ],
             [
              0.2222222222222222,
              "#7201a8"
             ],
             [
              0.3333333333333333,
              "#9c179e"
             ],
             [
              0.4444444444444444,
              "#bd3786"
             ],
             [
              0.5555555555555556,
              "#d8576b"
             ],
             [
              0.6666666666666666,
              "#ed7953"
             ],
             [
              0.7777777777777778,
              "#fb9f3a"
             ],
             [
              0.8888888888888888,
              "#fdca26"
             ],
             [
              1,
              "#f0f921"
             ]
            ],
            "type": "contour"
           }
          ],
          "contourcarpet": [
           {
            "colorbar": {
             "outlinewidth": 0,
             "ticks": ""
            },
            "type": "contourcarpet"
           }
          ],
          "heatmap": [
           {
            "colorbar": {
             "outlinewidth": 0,
             "ticks": ""
            },
            "colorscale": [
             [
              0,
              "#0d0887"
             ],
             [
              0.1111111111111111,
              "#46039f"
             ],
             [
              0.2222222222222222,
              "#7201a8"
             ],
             [
              0.3333333333333333,
              "#9c179e"
             ],
             [
              0.4444444444444444,
              "#bd3786"
             ],
             [
              0.5555555555555556,
              "#d8576b"
             ],
             [
              0.6666666666666666,
              "#ed7953"
             ],
             [
              0.7777777777777778,
              "#fb9f3a"
             ],
             [
              0.8888888888888888,
              "#fdca26"
             ],
             [
              1,
              "#f0f921"
             ]
            ],
            "type": "heatmap"
           }
          ],
          "heatmapgl": [
           {
            "colorbar": {
             "outlinewidth": 0,
             "ticks": ""
            },
            "colorscale": [
             [
              0,
              "#0d0887"
             ],
             [
              0.1111111111111111,
              "#46039f"
             ],
             [
              0.2222222222222222,
              "#7201a8"
             ],
             [
              0.3333333333333333,
              "#9c179e"
             ],
             [
              0.4444444444444444,
              "#bd3786"
             ],
             [
              0.5555555555555556,
              "#d8576b"
             ],
             [
              0.6666666666666666,
              "#ed7953"
             ],
             [
              0.7777777777777778,
              "#fb9f3a"
             ],
             [
              0.8888888888888888,
              "#fdca26"
             ],
             [
              1,
              "#f0f921"
             ]
            ],
            "type": "heatmapgl"
           }
          ],
          "histogram": [
           {
            "marker": {
             "pattern": {
              "fillmode": "overlay",
              "size": 10,
              "solidity": 0.2
             }
            },
            "type": "histogram"
           }
          ],
          "histogram2d": [
           {
            "colorbar": {
             "outlinewidth": 0,
             "ticks": ""
            },
            "colorscale": [
             [
              0,
              "#0d0887"
             ],
             [
              0.1111111111111111,
              "#46039f"
             ],
             [
              0.2222222222222222,
              "#7201a8"
             ],
             [
              0.3333333333333333,
              "#9c179e"
             ],
             [
              0.4444444444444444,
              "#bd3786"
             ],
             [
              0.5555555555555556,
              "#d8576b"
             ],
             [
              0.6666666666666666,
              "#ed7953"
             ],
             [
              0.7777777777777778,
              "#fb9f3a"
             ],
             [
              0.8888888888888888,
              "#fdca26"
             ],
             [
              1,
              "#f0f921"
             ]
            ],
            "type": "histogram2d"
           }
          ],
          "histogram2dcontour": [
           {
            "colorbar": {
             "outlinewidth": 0,
             "ticks": ""
            },
            "colorscale": [
             [
              0,
              "#0d0887"
             ],
             [
              0.1111111111111111,
              "#46039f"
             ],
             [
              0.2222222222222222,
              "#7201a8"
             ],
             [
              0.3333333333333333,
              "#9c179e"
             ],
             [
              0.4444444444444444,
              "#bd3786"
             ],
             [
              0.5555555555555556,
              "#d8576b"
             ],
             [
              0.6666666666666666,
              "#ed7953"
             ],
             [
              0.7777777777777778,
              "#fb9f3a"
             ],
             [
              0.8888888888888888,
              "#fdca26"
             ],
             [
              1,
              "#f0f921"
             ]
            ],
            "type": "histogram2dcontour"
           }
          ],
          "mesh3d": [
           {
            "colorbar": {
             "outlinewidth": 0,
             "ticks": ""
            },
            "type": "mesh3d"
           }
          ],
          "parcoords": [
           {
            "line": {
             "colorbar": {
              "outlinewidth": 0,
              "ticks": ""
             }
            },
            "type": "parcoords"
           }
          ],
          "pie": [
           {
            "automargin": true,
            "type": "pie"
           }
          ],
          "scatter": [
           {
            "marker": {
             "colorbar": {
              "outlinewidth": 0,
              "ticks": ""
             }
            },
            "type": "scatter"
           }
          ],
          "scatter3d": [
           {
            "line": {
             "colorbar": {
              "outlinewidth": 0,
              "ticks": ""
             }
            },
            "marker": {
             "colorbar": {
              "outlinewidth": 0,
              "ticks": ""
             }
            },
            "type": "scatter3d"
           }
          ],
          "scattercarpet": [
           {
            "marker": {
             "colorbar": {
              "outlinewidth": 0,
              "ticks": ""
             }
            },
            "type": "scattercarpet"
           }
          ],
          "scattergeo": [
           {
            "marker": {
             "colorbar": {
              "outlinewidth": 0,
              "ticks": ""
             }
            },
            "type": "scattergeo"
           }
          ],
          "scattergl": [
           {
            "marker": {
             "colorbar": {
              "outlinewidth": 0,
              "ticks": ""
             }
            },
            "type": "scattergl"
           }
          ],
          "scattermapbox": [
           {
            "marker": {
             "colorbar": {
              "outlinewidth": 0,
              "ticks": ""
             }
            },
            "type": "scattermapbox"
           }
          ],
          "scatterpolar": [
           {
            "marker": {
             "colorbar": {
              "outlinewidth": 0,
              "ticks": ""
             }
            },
            "type": "scatterpolar"
           }
          ],
          "scatterpolargl": [
           {
            "marker": {
             "colorbar": {
              "outlinewidth": 0,
              "ticks": ""
             }
            },
            "type": "scatterpolargl"
           }
          ],
          "scatterternary": [
           {
            "marker": {
             "colorbar": {
              "outlinewidth": 0,
              "ticks": ""
             }
            },
            "type": "scatterternary"
           }
          ],
          "surface": [
           {
            "colorbar": {
             "outlinewidth": 0,
             "ticks": ""
            },
            "colorscale": [
             [
              0,
              "#0d0887"
             ],
             [
              0.1111111111111111,
              "#46039f"
             ],
             [
              0.2222222222222222,
              "#7201a8"
             ],
             [
              0.3333333333333333,
              "#9c179e"
             ],
             [
              0.4444444444444444,
              "#bd3786"
             ],
             [
              0.5555555555555556,
              "#d8576b"
             ],
             [
              0.6666666666666666,
              "#ed7953"
             ],
             [
              0.7777777777777778,
              "#fb9f3a"
             ],
             [
              0.8888888888888888,
              "#fdca26"
             ],
             [
              1,
              "#f0f921"
             ]
            ],
            "type": "surface"
           }
          ],
          "table": [
           {
            "cells": {
             "fill": {
              "color": "#EBF0F8"
             },
             "line": {
              "color": "white"
             }
            },
            "header": {
             "fill": {
              "color": "#C8D4E3"
             },
             "line": {
              "color": "white"
             }
            },
            "type": "table"
           }
          ]
         },
         "layout": {
          "annotationdefaults": {
           "arrowcolor": "#2a3f5f",
           "arrowhead": 0,
           "arrowwidth": 1
          },
          "autotypenumbers": "strict",
          "coloraxis": {
           "colorbar": {
            "outlinewidth": 0,
            "ticks": ""
           }
          },
          "colorscale": {
           "diverging": [
            [
             0,
             "#8e0152"
            ],
            [
             0.1,
             "#c51b7d"
            ],
            [
             0.2,
             "#de77ae"
            ],
            [
             0.3,
             "#f1b6da"
            ],
            [
             0.4,
             "#fde0ef"
            ],
            [
             0.5,
             "#f7f7f7"
            ],
            [
             0.6,
             "#e6f5d0"
            ],
            [
             0.7,
             "#b8e186"
            ],
            [
             0.8,
             "#7fbc41"
            ],
            [
             0.9,
             "#4d9221"
            ],
            [
             1,
             "#276419"
            ]
           ],
           "sequential": [
            [
             0,
             "#0d0887"
            ],
            [
             0.1111111111111111,
             "#46039f"
            ],
            [
             0.2222222222222222,
             "#7201a8"
            ],
            [
             0.3333333333333333,
             "#9c179e"
            ],
            [
             0.4444444444444444,
             "#bd3786"
            ],
            [
             0.5555555555555556,
             "#d8576b"
            ],
            [
             0.6666666666666666,
             "#ed7953"
            ],
            [
             0.7777777777777778,
             "#fb9f3a"
            ],
            [
             0.8888888888888888,
             "#fdca26"
            ],
            [
             1,
             "#f0f921"
            ]
           ],
           "sequentialminus": [
            [
             0,
             "#0d0887"
            ],
            [
             0.1111111111111111,
             "#46039f"
            ],
            [
             0.2222222222222222,
             "#7201a8"
            ],
            [
             0.3333333333333333,
             "#9c179e"
            ],
            [
             0.4444444444444444,
             "#bd3786"
            ],
            [
             0.5555555555555556,
             "#d8576b"
            ],
            [
             0.6666666666666666,
             "#ed7953"
            ],
            [
             0.7777777777777778,
             "#fb9f3a"
            ],
            [
             0.8888888888888888,
             "#fdca26"
            ],
            [
             1,
             "#f0f921"
            ]
           ]
          },
          "colorway": [
           "#636efa",
           "#EF553B",
           "#00cc96",
           "#ab63fa",
           "#FFA15A",
           "#19d3f3",
           "#FF6692",
           "#B6E880",
           "#FF97FF",
           "#FECB52"
          ],
          "font": {
           "color": "#2a3f5f"
          },
          "geo": {
           "bgcolor": "white",
           "lakecolor": "white",
           "landcolor": "white",
           "showlakes": true,
           "showland": true,
           "subunitcolor": "#C8D4E3"
          },
          "hoverlabel": {
           "align": "left"
          },
          "hovermode": "closest",
          "mapbox": {
           "style": "light"
          },
          "paper_bgcolor": "white",
          "plot_bgcolor": "white",
          "polar": {
           "angularaxis": {
            "gridcolor": "#EBF0F8",
            "linecolor": "#EBF0F8",
            "ticks": ""
           },
           "bgcolor": "white",
           "radialaxis": {
            "gridcolor": "#EBF0F8",
            "linecolor": "#EBF0F8",
            "ticks": ""
           }
          },
          "scene": {
           "xaxis": {
            "backgroundcolor": "white",
            "gridcolor": "#DFE8F3",
            "gridwidth": 2,
            "linecolor": "#EBF0F8",
            "showbackground": true,
            "ticks": "",
            "zerolinecolor": "#EBF0F8"
           },
           "yaxis": {
            "backgroundcolor": "white",
            "gridcolor": "#DFE8F3",
            "gridwidth": 2,
            "linecolor": "#EBF0F8",
            "showbackground": true,
            "ticks": "",
            "zerolinecolor": "#EBF0F8"
           },
           "zaxis": {
            "backgroundcolor": "white",
            "gridcolor": "#DFE8F3",
            "gridwidth": 2,
            "linecolor": "#EBF0F8",
            "showbackground": true,
            "ticks": "",
            "zerolinecolor": "#EBF0F8"
           }
          },
          "shapedefaults": {
           "line": {
            "color": "#2a3f5f"
           }
          },
          "ternary": {
           "aaxis": {
            "gridcolor": "#DFE8F3",
            "linecolor": "#A2B1C6",
            "ticks": ""
           },
           "baxis": {
            "gridcolor": "#DFE8F3",
            "linecolor": "#A2B1C6",
            "ticks": ""
           },
           "bgcolor": "white",
           "caxis": {
            "gridcolor": "#DFE8F3",
            "linecolor": "#A2B1C6",
            "ticks": ""
           }
          },
          "title": {
           "x": 0.05
          },
          "xaxis": {
           "automargin": true,
           "gridcolor": "#EBF0F8",
           "linecolor": "#EBF0F8",
           "ticks": "",
           "title": {
            "standoff": 15
           },
           "zerolinecolor": "#EBF0F8",
           "zerolinewidth": 2
          },
          "yaxis": {
           "automargin": true,
           "gridcolor": "#EBF0F8",
           "linecolor": "#EBF0F8",
           "ticks": "",
           "title": {
            "standoff": 15
           },
           "zerolinecolor": "#EBF0F8",
           "zerolinewidth": 2
          }
         }
        },
        "width": 800,
        "xaxis": {
         "anchor": "y",
         "domain": [
          0,
          1
         ],
         "range": [
          0,
          65
         ],
         "tickfont": {
          "size": 18
         },
         "title": {
          "font": {
           "size": 20
          },
          "text": "Numer badania"
         }
        },
        "yaxis": {
         "anchor": "x",
         "domain": [
          0,
          1
         ],
         "range": [
          -3,
          5
         ],
         "tickfont": {
          "size": 18
         },
         "title": {
          "font": {
           "size": 20
          },
          "text": "LDA"
         }
        }
       }
      }
     },
     "metadata": {},
     "output_type": "display_data"
    },
    {
     "data": {
      "application/vnd.plotly.v1+json": {
       "config": {
        "plotlyServerURL": "https://plot.ly"
       },
       "data": [
        {
         "hovertemplate": "Pacjent=7.0<br>BADANIE_NR=%{x}<br>LDA=%{y}<extra></extra>",
         "legendgroup": "7.0",
         "line": {
          "color": "#636efa",
          "dash": "solid"
         },
         "marker": {
          "symbol": "circle"
         },
         "mode": "lines",
         "name": "7.0",
         "orientation": "v",
         "showlegend": true,
         "type": "scatter",
         "x": [
          1,
          2,
          3,
          4,
          5,
          6,
          7,
          8,
          9,
          10,
          11,
          12
         ],
         "xaxis": "x",
         "y": [
          -1.1789164276958555,
          -1.0631807066938124,
          -0.8107404488962359,
          -0.7473214722309484,
          -0.5838189490245884,
          -0.7264284218807038,
          0.3706293087755257,
          -0.3733843049751366,
          0.6086541373278339,
          0.388300116846722,
          0.058992489383942415,
          0.2666825956729086
         ],
         "yaxis": "y"
        },
        {
         "hovertemplate": "Pacjent=11.0<br>BADANIE_NR=%{x}<br>LDA=%{y}<extra></extra>",
         "legendgroup": "11.0",
         "line": {
          "color": "#EF553B",
          "dash": "solid"
         },
         "marker": {
          "symbol": "circle"
         },
         "mode": "lines",
         "name": "11.0",
         "orientation": "v",
         "showlegend": true,
         "type": "scatter",
         "x": [
          1,
          2,
          3,
          4,
          5,
          6,
          7,
          8,
          9,
          10,
          11,
          12,
          13,
          14,
          15,
          16,
          17
         ],
         "xaxis": "x",
         "y": [
          1.2585279735605903,
          2.432826305615211,
          0.15693348261342427,
          -0.18420765062879085,
          0.2701488898656331,
          1.30252878873937,
          1.1487465936623869,
          0.9119604765658309,
          1.1910492870988985,
          1.6428242347672368,
          1.5891919788458662,
          1.2378631497340893,
          1.135440853726579,
          0.9208610575234905,
          0.5324914888148072,
          0.710507709016293,
          2.5660233394767835
         ],
         "yaxis": "y"
        },
        {
         "hovertemplate": "Pacjent=12.0<br>BADANIE_NR=%{x}<br>LDA=%{y}<extra></extra>",
         "legendgroup": "12.0",
         "line": {
          "color": "#00cc96",
          "dash": "solid"
         },
         "marker": {
          "symbol": "circle"
         },
         "mode": "lines",
         "name": "12.0",
         "orientation": "v",
         "showlegend": true,
         "type": "scatter",
         "x": [
          1,
          2,
          3,
          4,
          5,
          6,
          7,
          8,
          9,
          10,
          11,
          12,
          13,
          14,
          15,
          16,
          17,
          18,
          19,
          20,
          21,
          22,
          23,
          24,
          25,
          26,
          27,
          28,
          29,
          30,
          31,
          32,
          33,
          34,
          35,
          36,
          37,
          38,
          39,
          40,
          41,
          42,
          43,
          44,
          45,
          46,
          47,
          48,
          49
         ],
         "xaxis": "x",
         "y": [
          1.0742598984243803,
          1.1603515246299887,
          3.459320236711702,
          1.7195903739632277,
          1.2325594639841708,
          0.48346422100722286,
          0.05204245384901973,
          -0.28061898635391413,
          -0.1443155552557531,
          -0.27162895855611,
          -0.31820333503889714,
          -0.15880267441883672,
          0.1656767657424051,
          -0.33343917388266764,
          -0.6176802748546353,
          -0.6751688264551091,
          -0.6120064518215262,
          -0.7310308818340272,
          -0.7744699651602802,
          -0.7842450920322175,
          -0.8442552194006472,
          -0.8699182557919654,
          -0.7244946136299012,
          -0.994562910821037,
          -1.1965836911750487,
          -0.7377877658779903,
          -1.5124042025371938,
          -1.3547874427841262,
          -1.209160531853404,
          -1.2980193548344634,
          -0.6376143164690526,
          -0.6926358100614203,
          -0.6583607465877631,
          -0.8288037350346622,
          -0.6304702601532541,
          -0.8529238780845487,
          -0.4348037922995835,
          -0.23025348613276206,
          -0.3930452852821535,
          -0.4189447497465617,
          -0.39849520341735917,
          -0.12759154987283755,
          -0.3778734968983247,
          -0.31510995078655996,
          -0.5266807090338724,
          -0.5934026253240379,
          -0.7206444871308413,
          -0.39579395578139615,
          -0.02330170379508234
         ],
         "yaxis": "y"
        },
        {
         "hovertemplate": "Pacjent=21.0<br>BADANIE_NR=%{x}<br>LDA=%{y}<extra></extra>",
         "legendgroup": "21.0",
         "line": {
          "color": "#ab63fa",
          "dash": "solid"
         },
         "marker": {
          "symbol": "circle"
         },
         "mode": "lines",
         "name": "21.0",
         "orientation": "v",
         "showlegend": true,
         "type": "scatter",
         "x": [
          1,
          2,
          3,
          4,
          5,
          6,
          7,
          8,
          9,
          10,
          11,
          12,
          13,
          14,
          15,
          16,
          17,
          18,
          19,
          20,
          21,
          22,
          23,
          24,
          25,
          26,
          27,
          28,
          29,
          30,
          31,
          32,
          33,
          34,
          35,
          36,
          37,
          38,
          39,
          40,
          41,
          42,
          43,
          44,
          45,
          46,
          47,
          48,
          49,
          50,
          51,
          52,
          53,
          54,
          55,
          56,
          57,
          58,
          59,
          60,
          61,
          62,
          63,
          64
         ],
         "xaxis": "x",
         "y": [
          -1.1591239637805344,
          -1.1302771264109313,
          -1.6190713177100062,
          -1.4222949838063332,
          -1.0892899715671043,
          -0.9477153367973832,
          -0.7601834470328499,
          -1.4815306302131874,
          -0.9195235408459218,
          -0.5337905805619064,
          -1.3887091892139178,
          -1.5120801287589807,
          -0.9427424015494322,
          -0.96443977017019,
          -0.8241635515322141,
          -0.20058152461419082,
          0.1368776217702476,
          -0.5344751430145067,
          0.6459222725034295,
          -1.1519964540529777,
          -1.1028186826451547,
          -1.0695246558089075,
          -0.7507865681823255,
          -0.783373102612007,
          -1.0694266196060456,
          -0.7112052983218279,
          -0.5834894585644667,
          -1.0325185186002745,
          -1.1034575312827575,
          -1.332673706633261,
          -1.4682860686379882,
          -1.5967210795547824,
          -1.7037785781425452,
          -1.1616130602752417,
          -1.269756864048301,
          -0.9138591491128626,
          -0.061508915570205436,
          -1.0382956197668094,
          0.24176835783138645,
          -0.9748076554567464,
          -1.3903772023556156,
          -0.5816420695190254,
          0.26265871435751365,
          -1.0597311762423165,
          -1.1441310744319362,
          -1.3975094428522885,
          -1.2402971516724448,
          -1.3983311374939174,
          -0.8635081115118577,
          -0.6094640086819642,
          -1.1910765324679464,
          -1.2218347396894416,
          -0.35244111190374783,
          -1.194245538751408,
          0.08612673733733234,
          0.1105108636456224,
          -0.765343887978352,
          -0.9510895549557479,
          -0.7221565186060801,
          -0.4714322519968336,
          -0.4658415188972037,
          -0.4411493444824095,
          1.0748759367361622,
          -0.10934036941619296
         ],
         "yaxis": "y"
        },
        {
         "hovertemplate": "Pacjent=22.0<br>BADANIE_NR=%{x}<br>LDA=%{y}<extra></extra>",
         "legendgroup": "22.0",
         "line": {
          "color": "#FFA15A",
          "dash": "solid"
         },
         "marker": {
          "symbol": "circle"
         },
         "mode": "lines",
         "name": "22.0",
         "orientation": "v",
         "showlegend": true,
         "type": "scatter",
         "x": [
          1,
          2,
          3,
          4,
          5,
          6,
          7,
          8,
          9,
          10,
          11,
          12,
          13,
          14,
          15,
          16,
          17,
          18,
          19,
          20,
          21,
          22,
          23,
          24,
          25,
          26,
          27,
          28,
          29,
          30,
          31,
          32,
          33
         ],
         "xaxis": "x",
         "y": [
          0.12615763536654792,
          0.23516922583868094,
          -0.0480738168605514,
          0.08236154731391068,
          -0.2182336203191908,
          -0.46103071293524367,
          -0.473698850584572,
          -0.7051226718137654,
          -0.9435584218544769,
          -0.7010225696963338,
          -0.8446003759109167,
          -0.9293078754855201,
          -0.7921306249351396,
          -0.968647227636383,
          -0.41802091190893553,
          -0.530293754540795,
          -0.39289055298250697,
          -0.3610228237482833,
          -0.49770787032340397,
          -0.21561109979789372,
          -0.4684297785069746,
          -0.7228485238843271,
          -1.0817691921388874,
          -0.1980270371297212,
          -0.23807045207780209,
          -0.6756396071117845,
          -1.2016391878471984,
          0.4494011007104122,
          -0.002715231821919642,
          -0.42843190779300677,
          -0.5658154493265231,
          -0.6840488777827782,
          2.3179300455028438
         ],
         "yaxis": "y"
        },
        {
         "hovertemplate": "Pacjent=25.0<br>BADANIE_NR=%{x}<br>LDA=%{y}<extra></extra>",
         "legendgroup": "25.0",
         "line": {
          "color": "#19d3f3",
          "dash": "solid"
         },
         "marker": {
          "symbol": "circle"
         },
         "mode": "lines",
         "name": "25.0",
         "orientation": "v",
         "showlegend": true,
         "type": "scatter",
         "x": [
          1,
          2,
          3,
          4,
          5,
          6,
          7,
          8,
          9,
          10,
          11,
          12,
          13,
          14,
          15,
          16
         ],
         "xaxis": "x",
         "y": [
          -0.11985751474816458,
          -0.3646062379513527,
          0.5714663765535821,
          -1.1832453604069586,
          -1.1484568045298058,
          -1.2647641600120307,
          -1.2995432757719025,
          -1.105672980751736,
          -1.462348382505426,
          -1.5944708903128646,
          -1.4466873521221766,
          -1.1769803504801197,
          -1.1669898041395936,
          -1.8977025065143196,
          -0.9749633751794047,
          -0.3347644078430716
         ],
         "yaxis": "y"
        },
        {
         "hovertemplate": "Pacjent=27.0<br>BADANIE_NR=%{x}<br>LDA=%{y}<extra></extra>",
         "legendgroup": "27.0",
         "line": {
          "color": "#FF6692",
          "dash": "solid"
         },
         "marker": {
          "symbol": "circle"
         },
         "mode": "lines",
         "name": "27.0",
         "orientation": "v",
         "showlegend": true,
         "type": "scatter",
         "x": [
          1,
          2,
          3,
          4,
          5,
          6,
          7,
          8,
          9,
          10,
          11,
          12,
          13,
          14,
          15,
          16,
          17,
          18,
          19,
          20,
          21,
          22,
          23,
          24,
          25,
          26
         ],
         "xaxis": "x",
         "y": [
          0.7313991228365913,
          1.1312517893387606,
          1.4274441446247357,
          0.9659491113228758,
          0.43856275732725114,
          0.46535526876660455,
          1.0561097626626277,
          0.4802438726546735,
          0.8895026151441869,
          0.8459357657688819,
          0.8070134361680047,
          0.8194967454011086,
          1.1230480213697072,
          0.644300433853163,
          0.5317258895501431,
          0.5566352539456888,
          0.7258496649564079,
          0.624062665700062,
          1.0793694433807013,
          0.6637637509815053,
          0.36354040579411895,
          0.23599858755311123,
          0.15907217548452524,
          0.546661101054663,
          -0.04053260033606575,
          1.560047502555494
         ],
         "yaxis": "y"
        },
        {
         "hovertemplate": "Pacjent=30.0<br>BADANIE_NR=%{x}<br>LDA=%{y}<extra></extra>",
         "legendgroup": "30.0",
         "line": {
          "color": "#B6E880",
          "dash": "solid"
         },
         "marker": {
          "symbol": "circle"
         },
         "mode": "lines",
         "name": "30.0",
         "orientation": "v",
         "showlegend": true,
         "type": "scatter",
         "x": [
          1,
          2,
          3,
          4,
          5,
          6,
          7,
          8,
          9,
          10,
          11,
          12
         ],
         "xaxis": "x",
         "y": [
          0.7094546520710241,
          0.5262860342148227,
          1.01018215443343,
          1.5730784536146416,
          0.7477759246965933,
          0.6314580104350761,
          0.4811963074122361,
          1.2454919858877702,
          1.0127421958881544,
          0.3054623319264006,
          1.1641415959622208,
          1.0786849784151313
         ],
         "yaxis": "y"
        },
        {
         "hovertemplate": "Pacjent=31.0<br>BADANIE_NR=%{x}<br>LDA=%{y}<extra></extra>",
         "legendgroup": "31.0",
         "line": {
          "color": "#FF97FF",
          "dash": "solid"
         },
         "marker": {
          "symbol": "circle"
         },
         "mode": "lines",
         "name": "31.0",
         "orientation": "v",
         "showlegend": true,
         "type": "scatter",
         "x": [
          1,
          2,
          3,
          4,
          5,
          6,
          7,
          8,
          9,
          10,
          11
         ],
         "xaxis": "x",
         "y": [
          0.12140182891118045,
          0.783298011883389,
          0.7008399911295423,
          1.2790542367704143,
          0.838369416071773,
          1.200420910752541,
          0.9589696091952232,
          1.816747715879476,
          2.10073809752437,
          1.3944565381560177,
          1.8944511483866546
         ],
         "yaxis": "y"
        },
        {
         "hovertemplate": "Pacjent=36.0<br>BADANIE_NR=%{x}<br>LDA=%{y}<extra></extra>",
         "legendgroup": "36.0",
         "line": {
          "color": "#FECB52",
          "dash": "solid"
         },
         "marker": {
          "symbol": "circle"
         },
         "mode": "lines",
         "name": "36.0",
         "orientation": "v",
         "showlegend": true,
         "type": "scatter",
         "x": [
          1,
          2,
          3,
          4,
          5,
          6,
          7,
          8
         ],
         "xaxis": "x",
         "y": [
          0.1260848556928143,
          0.8503683025325203,
          0.33943443266449935,
          0.5448579245259626,
          1.621253303975047,
          1.4850289663651588,
          1.4932460730981376,
          2.4619800143208725
         ],
         "yaxis": "y"
        },
        {
         "hovertemplate": "Pacjent=42.0<br>BADANIE_NR=%{x}<br>LDA=%{y}<extra></extra>",
         "legendgroup": "42.0",
         "line": {
          "color": "#636efa",
          "dash": "solid"
         },
         "marker": {
          "symbol": "circle"
         },
         "mode": "lines",
         "name": "42.0",
         "orientation": "v",
         "showlegend": true,
         "type": "scatter",
         "x": [
          1,
          2,
          3,
          4,
          5,
          6,
          7,
          8,
          9,
          10,
          11,
          12,
          13,
          14,
          15,
          16,
          17,
          18,
          19
         ],
         "xaxis": "x",
         "y": [
          -0.17989591919783682,
          -0.2359955096580566,
          0.045914653764087,
          0.0020217164615169148,
          -0.2053181339797634,
          -0.5434031642827544,
          -0.9266773995331254,
          -0.8233273853191516,
          -0.5105078505769963,
          -0.6260269813431936,
          -1.2176091049988507,
          -1.18851853418146,
          -0.9296965876678053,
          -0.07741729620670283,
          -1.5334583625670053,
          -0.5261817198603531,
          -0.5229620569849754,
          -0.3897246043359447,
          -0.7205076181566942
         ],
         "yaxis": "y"
        },
        {
         "hovertemplate": "Pacjent=48.0<br>BADANIE_NR=%{x}<br>LDA=%{y}<extra></extra>",
         "legendgroup": "48.0",
         "line": {
          "color": "#EF553B",
          "dash": "solid"
         },
         "marker": {
          "symbol": "circle"
         },
         "mode": "lines",
         "name": "48.0",
         "orientation": "v",
         "showlegend": true,
         "type": "scatter",
         "x": [
          1,
          2,
          3,
          4,
          5,
          6,
          7,
          8,
          9,
          10,
          11,
          12,
          13,
          14,
          15,
          16,
          17,
          18,
          19,
          20,
          21,
          22,
          23,
          24,
          25,
          26,
          27,
          28,
          29,
          30,
          31,
          32,
          33,
          34,
          35,
          36,
          37,
          38
         ],
         "xaxis": "x",
         "y": [
          0.5656389816653492,
          1.211096714598353,
          1.2378922423053604,
          0.7491340343657799,
          0.5044071591268424,
          0.6241358003172726,
          0.27669473358627156,
          -0.1790754234313951,
          0.12165605957658815,
          -0.08728022773504253,
          -0.4191172448107685,
          -0.4974603058136814,
          -0.5615703546143911,
          -0.1820931692242706,
          -0.570926875112153,
          -0.6729593954005377,
          -0.7371114922076575,
          -0.7978518484161871,
          -1.0018252449249567,
          -1.1527444778027813,
          -1.2708203393928488,
          -1.393233450165363,
          -1.3876322598402244,
          -1.3043120460304716,
          -0.9809535354228096,
          -1.2655257632239187,
          -0.9085286745200895,
          -1.0158179451440208,
          -0.6171796248779008,
          -0.8384215241585866,
          -0.7673159952939901,
          -0.7971261303395503,
          -0.3881139559541778,
          -0.8117957728564423,
          -0.8440017735385834,
          -0.6044482584343296,
          -0.893610209205472,
          0.7248519298545814
         ],
         "yaxis": "y"
        },
        {
         "hovertemplate": "Pacjent=51.0<br>BADANIE_NR=%{x}<br>LDA=%{y}<extra></extra>",
         "legendgroup": "51.0",
         "line": {
          "color": "#00cc96",
          "dash": "solid"
         },
         "marker": {
          "symbol": "circle"
         },
         "mode": "lines",
         "name": "51.0",
         "orientation": "v",
         "showlegend": true,
         "type": "scatter",
         "x": [
          1,
          2,
          3,
          4,
          5,
          6,
          7
         ],
         "xaxis": "x",
         "y": [
          -0.055355619671233786,
          0.6324794203866957,
          0.18233615271622505,
          -0.3316584146008793,
          -0.26339234221524227,
          0.43005091165346254,
          0.8565130559284724
         ],
         "yaxis": "y"
        },
        {
         "hovertemplate": "Pacjent=52.0<br>BADANIE_NR=%{x}<br>LDA=%{y}<extra></extra>",
         "legendgroup": "52.0",
         "line": {
          "color": "#ab63fa",
          "dash": "solid"
         },
         "marker": {
          "symbol": "circle"
         },
         "mode": "lines",
         "name": "52.0",
         "orientation": "v",
         "showlegend": true,
         "type": "scatter",
         "x": [
          1,
          2,
          3,
          4,
          5,
          6,
          7,
          8,
          9,
          10,
          11,
          12,
          13,
          14,
          15,
          16,
          17,
          18,
          19,
          20,
          21,
          22,
          23,
          24,
          25,
          26,
          27,
          28
         ],
         "xaxis": "x",
         "y": [
          -0.05526634263158054,
          0.1867718591771545,
          0.10205974836784815,
          -0.42671461389988613,
          -0.20271759603884362,
          -0.4146758862125013,
          -0.3336104094621491,
          -0.7781607389025174,
          -1.2120529809624638,
          -1.4178971422183477,
          -1.2166209255741964,
          -1.2677712356120439,
          -1.404524726790683,
          -1.386586317008423,
          -1.1979965120338023,
          -1.0293229877466998,
          -0.9819172203567317,
          -0.7901090305179598,
          -0.7708519149712145,
          1.202124491759371,
          0.6436767884398094,
          0.36795205361269817,
          1.0741466821956023,
          0.7223074397177776,
          0.10756672088653307,
          -0.2150243036131595,
          -0.13410763622245653,
          -0.15444431039628437
         ],
         "yaxis": "y"
        },
        {
         "hovertemplate": "Pacjent=55.0<br>BADANIE_NR=%{x}<br>LDA=%{y}<extra></extra>",
         "legendgroup": "55.0",
         "line": {
          "color": "#FFA15A",
          "dash": "solid"
         },
         "marker": {
          "symbol": "circle"
         },
         "mode": "lines",
         "name": "55.0",
         "orientation": "v",
         "showlegend": true,
         "type": "scatter",
         "x": [
          1,
          2,
          3,
          4,
          5,
          6,
          7,
          8,
          9,
          10,
          11,
          12,
          13,
          14,
          15,
          16,
          17,
          18,
          19,
          20,
          21,
          22,
          23,
          24,
          25
         ],
         "xaxis": "x",
         "y": [
          -0.8617113989769132,
          0.09031408664160923,
          -0.68166928144487,
          -0.5354636461987904,
          -0.7905373141841465,
          -1.1732032574910372,
          -0.7483257427934054,
          -0.4940224266007336,
          -0.6297035360723499,
          -0.9829301002989225,
          -0.8118067123456775,
          -1.0751573196199449,
          -0.6452951131200024,
          -0.3860532360266068,
          -0.6886638308912103,
          -0.6066395251743284,
          -0.6201006339741535,
          -1.3603287067522705,
          -0.5994718628418132,
          -0.124897194544769,
          -0.3183835252298048,
          -0.11931553421011284,
          -0.3399132304173377,
          0.5223722763023149,
          1.062155464782463
         ],
         "yaxis": "y"
        },
        {
         "hovertemplate": "Pacjent=57.0<br>BADANIE_NR=%{x}<br>LDA=%{y}<extra></extra>",
         "legendgroup": "57.0",
         "line": {
          "color": "#19d3f3",
          "dash": "solid"
         },
         "marker": {
          "symbol": "circle"
         },
         "mode": "lines",
         "name": "57.0",
         "orientation": "v",
         "showlegend": true,
         "type": "scatter",
         "x": [
          1,
          2,
          3,
          4,
          5,
          6,
          7,
          8,
          9,
          10,
          11,
          12,
          13,
          14,
          15
         ],
         "xaxis": "x",
         "y": [
          -0.8270359786172177,
          -0.6005586839872867,
          -0.6628590801606394,
          -1.2077884805989454,
          -1.305224193600347,
          -0.3477563219168793,
          -1.2745780265498226,
          -0.8037521621934598,
          -1.400630277765062,
          -1.170900884778408,
          -1.0534305894601392,
          -0.9513970150362386,
          1.3797709996397858,
          1.8896732788736945,
          4.599331517180823
         ],
         "yaxis": "y"
        },
        {
         "hovertemplate": "Pacjent=65.0<br>BADANIE_NR=%{x}<br>LDA=%{y}<extra></extra>",
         "legendgroup": "65.0",
         "line": {
          "color": "#FF6692",
          "dash": "solid"
         },
         "marker": {
          "symbol": "circle"
         },
         "mode": "lines",
         "name": "65.0",
         "orientation": "v",
         "showlegend": true,
         "type": "scatter",
         "x": [
          1,
          2,
          3,
          4,
          5,
          6,
          7,
          8,
          9,
          10,
          11,
          12,
          13,
          14,
          15,
          16,
          17,
          18,
          19,
          20,
          21,
          22,
          23,
          24,
          25,
          26,
          27,
          28,
          29,
          30,
          31,
          32,
          33,
          34,
          35,
          36,
          37
         ],
         "xaxis": "x",
         "y": [
          -0.2894846469537224,
          -0.24098645118017165,
          -0.02248887177550722,
          0.0001584779128684377,
          0.08480005716408129,
          -0.3628625572900139,
          -0.3669153669171605,
          -0.8957823519916801,
          -0.7375691487759771,
          -0.3467862779230259,
          -1.3143593485578797,
          -1.3168190994160105,
          -1.317928432232868,
          -1.5707869491735011,
          -1.0946022327828542,
          -1.2670673685108744,
          -1.027417313142978,
          -1.2526355641886753,
          -1.181801553079785,
          -1.6554906903915705,
          -1.2731505054474945,
          -0.8814036401853615,
          -1.0261151265048394,
          -1.0572936560253352,
          -1.3057016794228293,
          -0.6813572088783614,
          -0.5055420966692964,
          -0.5231405355567643,
          -0.5243329011019887,
          -0.4882926141671492,
          1.3742470452867583,
          -0.6386834237098347,
          -0.5377316588066199,
          -0.5428870954546355,
          -0.7275353612337276,
          -0.43752969763272,
          -0.20130585245245255
         ],
         "yaxis": "y"
        },
        {
         "hovertemplate": "Pacjent=70.0<br>BADANIE_NR=%{x}<br>LDA=%{y}<extra></extra>",
         "legendgroup": "70.0",
         "line": {
          "color": "#B6E880",
          "dash": "solid"
         },
         "marker": {
          "symbol": "circle"
         },
         "mode": "lines",
         "name": "70.0",
         "orientation": "v",
         "showlegend": true,
         "type": "scatter",
         "x": [
          1,
          2,
          3,
          4,
          5,
          6,
          7,
          8,
          9,
          10,
          11,
          12,
          13,
          14,
          15,
          16,
          17,
          18,
          19,
          20,
          21,
          22,
          23,
          24,
          25,
          26,
          27,
          28,
          29,
          30,
          31
         ],
         "xaxis": "x",
         "y": [
          -0.09165305677241198,
          -0.03932829912907598,
          -0.008989755958523749,
          -0.47628692080320356,
          -0.2359030059939008,
          -0.28013410984707593,
          0.47364152735438286,
          1.1337785131220517,
          1.4530402227677148,
          1.000276915497726,
          0.6616958969320162,
          -0.054413426704901624,
          -0.012287894152805068,
          -0.2835787642269579,
          -0.7659953062821494,
          -1.1135121158124566,
          -0.8768998748440564,
          -0.9172583813605584,
          -0.9793086374469657,
          -0.7176771724833673,
          -1.0127916894596316,
          -0.6299482481388667,
          -0.6011487921267461,
          -0.4776769159694904,
          -0.6545198065778106,
          -0.4747295218685481,
          -0.5941299875873838,
          -0.5492215761060747,
          -0.41232951063631074,
          0.030167444109590713,
          1.3508651493120063
         ],
         "yaxis": "y"
        },
        {
         "hovertemplate": "Pacjent=74.0<br>BADANIE_NR=%{x}<br>LDA=%{y}<extra></extra>",
         "legendgroup": "74.0",
         "line": {
          "color": "#FF97FF",
          "dash": "solid"
         },
         "marker": {
          "symbol": "circle"
         },
         "mode": "lines",
         "name": "74.0",
         "orientation": "v",
         "showlegend": true,
         "type": "scatter",
         "x": [
          1,
          2,
          3,
          4,
          5,
          6,
          7,
          8,
          9,
          10,
          11,
          12,
          13,
          14,
          15
         ],
         "xaxis": "x",
         "y": [
          0.6045548401951174,
          -0.3075509710248966,
          0.635066391318286,
          0.6361383281692042,
          1.053907465668416,
          0.08998367297615995,
          0.4905848234928878,
          0.6129424167605118,
          0.11727108280171925,
          0.14256700830586297,
          -0.14451037895804497,
          -0.17472297930484398,
          -0.27814925156863846,
          0.13210615864936576,
          0.4600519644645767
         ],
         "yaxis": "y"
        },
        {
         "hovertemplate": "Pacjent=77.0<br>BADANIE_NR=%{x}<br>LDA=%{y}<extra></extra>",
         "legendgroup": "77.0",
         "line": {
          "color": "#FECB52",
          "dash": "solid"
         },
         "marker": {
          "symbol": "circle"
         },
         "mode": "lines",
         "name": "77.0",
         "orientation": "v",
         "showlegend": true,
         "type": "scatter",
         "x": [
          1,
          2,
          3,
          4,
          5,
          6,
          7,
          8,
          9,
          10,
          11,
          12,
          13,
          14,
          15,
          16,
          17,
          18,
          19,
          20,
          21,
          22,
          23,
          24,
          25,
          26,
          27,
          28,
          29,
          30,
          31,
          32,
          33,
          34,
          35,
          36,
          37,
          38
         ],
         "xaxis": "x",
         "y": [
          -0.8096398957062254,
          -0.5673676017279367,
          -0.7668064265982816,
          -1.46785567332921,
          -1.2689410098897516,
          -1.3329304267494948,
          -1.2788114306042757,
          -1.2662097547275335,
          -1.3616634936492282,
          -1.1893065203512299,
          -1.4765288399163792,
          -1.1476488911798213,
          -1.063512406884226,
          -1.3226813253204184,
          -1.2069223705896897,
          -0.48431915319963265,
          -0.8311613552150839,
          -1.3403726649406151,
          -1.2754864376080022,
          -1.120189336717037,
          -1.1487789307706204,
          -1.5850181880717338,
          -1.3221036814600098,
          -1.0177361949546826,
          0.08708995820527643,
          -0.658379160457591,
          -0.9331445610881729,
          0.05586647493561078,
          -0.5043647614054539,
          -0.6111457017619231,
          -0.19032075714314062,
          -1.0097121001676093,
          0.0014325258343773628,
          -0.344062920977954,
          -1.237578998170013,
          -1.0077415689996763,
          -0.42343461129553395,
          -0.7517919783251519
         ],
         "yaxis": "y"
        },
        {
         "hovertemplate": "Pacjent=78.0<br>BADANIE_NR=%{x}<br>LDA=%{y}<extra></extra>",
         "legendgroup": "78.0",
         "line": {
          "color": "#636efa",
          "dash": "solid"
         },
         "marker": {
          "symbol": "circle"
         },
         "mode": "lines",
         "name": "78.0",
         "orientation": "v",
         "showlegend": true,
         "type": "scatter",
         "x": [
          1,
          2,
          3,
          4,
          5,
          6,
          7,
          8,
          9,
          10,
          11,
          12,
          13,
          14,
          15,
          16,
          17,
          18,
          19,
          20,
          21,
          22,
          23,
          24,
          25,
          26,
          27,
          28,
          29,
          30,
          31,
          32,
          33,
          34,
          35,
          36,
          37
         ],
         "xaxis": "x",
         "y": [
          -0.18733007402363508,
          -0.33513867748859927,
          -0.05387124445417326,
          -0.522505512427655,
          -1.0106181713594653,
          -0.6531693228692734,
          -0.7864528654700693,
          -0.5831390905913638,
          -0.8196238034868479,
          0.17322872755418678,
          -0.6882350228294855,
          -1.1846904570798187,
          -1.376480513212516,
          -1.3778329067270856,
          -0.8497551845593623,
          -0.8613326409853308,
          -0.429359745896577,
          -1.9028430315941973,
          -1.1952634865162222,
          -1.0379167310993394,
          -1.1141878021806269,
          -0.7494349021183557,
          -0.8764821744331938,
          -1.1610960653757778,
          -0.9710978722230008,
          -1.082126390984913,
          -1.4717928549408363,
          -1.6715928604364458,
          -1.5027171605558376,
          -1.3313804482195555,
          -1.2218018706165668,
          -1.349732749909324,
          -1.3216167618898604,
          -1.2538128954564705,
          -0.9840304014801398,
          -0.8801320758303057,
          -1.0002714420835188
         ],
         "yaxis": "y"
        },
        {
         "hovertemplate": "Pacjent=80.0<br>BADANIE_NR=%{x}<br>LDA=%{y}<extra></extra>",
         "legendgroup": "80.0",
         "line": {
          "color": "#EF553B",
          "dash": "solid"
         },
         "marker": {
          "symbol": "circle"
         },
         "mode": "lines",
         "name": "80.0",
         "orientation": "v",
         "showlegend": true,
         "type": "scatter",
         "x": [
          1,
          2,
          3,
          4,
          5,
          6,
          7,
          8,
          9,
          10,
          11,
          12,
          13,
          14,
          15
         ],
         "xaxis": "x",
         "y": [
          -0.15105909981639465,
          -1.3079803118676265,
          -1.68923309683601,
          -1.6795720637864486,
          -1.6249387003230413,
          -1.2642474638911216,
          -1.209689868411826,
          -1.1701799597816647,
          -0.9850939109359578,
          -1.2482571819461696,
          -1.3097607919210532,
          -1.5497501313562596,
          -1.292315775439794,
          0.0003449219109870061,
          -0.6478335076144116
         ],
         "yaxis": "y"
        },
        {
         "hovertemplate": "Pacjent=82.0<br>BADANIE_NR=%{x}<br>LDA=%{y}<extra></extra>",
         "legendgroup": "82.0",
         "line": {
          "color": "#00cc96",
          "dash": "solid"
         },
         "marker": {
          "symbol": "circle"
         },
         "mode": "lines",
         "name": "82.0",
         "orientation": "v",
         "showlegend": true,
         "type": "scatter",
         "x": [
          1,
          2,
          3,
          4,
          5,
          6,
          7,
          8,
          9,
          10,
          11,
          12,
          13,
          14,
          15,
          16,
          17,
          18
         ],
         "xaxis": "x",
         "y": [
          -0.8586879500361648,
          -0.20772324860362196,
          -0.15440375928156008,
          0.1613483528749527,
          -0.5589485535573229,
          -0.6018096733394915,
          -0.5010896800054403,
          -0.9145990118397938,
          -0.45660021225012953,
          -1.0949387706579425,
          -0.9395243817681784,
          -0.7208079581052949,
          -1.1307567284668292,
          -0.6200004897974942,
          -1.2844249442627564,
          3.3243981070527084,
          3.567243709817591,
          3.4681871303316294
         ],
         "yaxis": "y"
        },
        {
         "hovertemplate": "Pacjent=86.0<br>BADANIE_NR=%{x}<br>LDA=%{y}<extra></extra>",
         "legendgroup": "86.0",
         "line": {
          "color": "#ab63fa",
          "dash": "solid"
         },
         "marker": {
          "symbol": "circle"
         },
         "mode": "lines",
         "name": "86.0",
         "orientation": "v",
         "showlegend": true,
         "type": "scatter",
         "x": [
          1,
          2,
          3,
          4,
          5,
          6,
          7,
          8,
          9,
          10,
          11,
          12,
          13,
          14,
          15,
          16,
          17
         ],
         "xaxis": "x",
         "y": [
          -0.5070944288040833,
          -0.030934637452109635,
          -0.18146406875542861,
          0.7605533659614212,
          -0.05748633164145117,
          -0.3358149572110945,
          -0.22409159066097548,
          -0.24062721141984672,
          -0.3762206477088699,
          0.3665544759740858,
          -0.45255778306949296,
          -0.12507566882291332,
          0.303442875615261,
          -1.015630604003891,
          0.5739762228788867,
          0.546394049050666,
          3.018107991458022
         ],
         "yaxis": "y"
        },
        {
         "hovertemplate": "Pacjent=88.0<br>BADANIE_NR=%{x}<br>LDA=%{y}<extra></extra>",
         "legendgroup": "88.0",
         "line": {
          "color": "#FFA15A",
          "dash": "solid"
         },
         "marker": {
          "symbol": "circle"
         },
         "mode": "lines",
         "name": "88.0",
         "orientation": "v",
         "showlegend": true,
         "type": "scatter",
         "x": [
          1,
          2,
          3,
          4,
          5,
          6,
          7,
          8,
          9,
          10,
          11,
          12,
          13,
          14,
          15,
          16,
          17,
          18,
          19
         ],
         "xaxis": "x",
         "y": [
          -0.04821739733227079,
          -0.4194401418316766,
          -0.4028874362529218,
          -0.39451692270489847,
          0.0015052941389465668,
          -0.5580535686718702,
          -0.23338142823964758,
          -0.920021240989553,
          -1.0319666141791184,
          -1.1047958080642963,
          -0.7241057904766919,
          -1.1239988451655714,
          -0.36440388068536234,
          -0.7320543197071887,
          -0.47480094020968255,
          0.2687544506375752,
          0.26488422286816804,
          0.2797140277289466,
          1.3677131844074528
         ],
         "yaxis": "y"
        },
        {
         "hovertemplate": "Pacjent=93.0<br>BADANIE_NR=%{x}<br>LDA=%{y}<extra></extra>",
         "legendgroup": "93.0",
         "line": {
          "color": "#19d3f3",
          "dash": "solid"
         },
         "marker": {
          "symbol": "circle"
         },
         "mode": "lines",
         "name": "93.0",
         "orientation": "v",
         "showlegend": true,
         "type": "scatter",
         "x": [
          1,
          2,
          3,
          4,
          5,
          6,
          7,
          8,
          9,
          10,
          11,
          12,
          13,
          14,
          15,
          16,
          17,
          18,
          19,
          20,
          21,
          22,
          23,
          24,
          25,
          26,
          27
         ],
         "xaxis": "x",
         "y": [
          3.2445333756308794,
          1.8567475593293543,
          0.7737832942182334,
          0.8262956564915032,
          0.6353282103202481,
          0.32106502865246744,
          0.4158903215728102,
          -0.20682813121364702,
          -0.06839185995547942,
          -0.7583738086098718,
          -0.6973926687090436,
          0.1869948071240165,
          -0.7947250812745335,
          -1.4744119654802839,
          -0.13196147914948309,
          -0.05399363024569152,
          -1.197499005365763,
          -1.2234565426506292,
          -1.060041977288675,
          -1.1586760203593343,
          -0.8623197976258556,
          -0.9135487202549606,
          -0.5853747186145868,
          -0.6193938662735032,
          -0.5732102951420198,
          3.570857234312228,
          0.8452409590579426
         ],
         "yaxis": "y"
        },
        {
         "hovertemplate": "Pacjent=100.0<br>BADANIE_NR=%{x}<br>LDA=%{y}<extra></extra>",
         "legendgroup": "100.0",
         "line": {
          "color": "#FF6692",
          "dash": "solid"
         },
         "marker": {
          "symbol": "circle"
         },
         "mode": "lines",
         "name": "100.0",
         "orientation": "v",
         "showlegend": true,
         "type": "scatter",
         "x": [
          1,
          2,
          3,
          4,
          5,
          6,
          7,
          8,
          9,
          10,
          11,
          12,
          13,
          14,
          15,
          16,
          17,
          18,
          19,
          20,
          21,
          22,
          23,
          24,
          25
         ],
         "xaxis": "x",
         "y": [
          -0.14883998702357085,
          0.5492786204746085,
          0.7551140767316935,
          1.2059035169641168,
          0.9501249415176092,
          0.9948816086609424,
          0.9246799690737671,
          0.4404490472499474,
          0.14926186410527034,
          -0.17265219405122145,
          -0.6961859689407097,
          -0.8487129957980194,
          -0.6051615392283985,
          -0.6726611867950204,
          -0.11003868883168137,
          -0.5886449751816651,
          -0.37085953253572757,
          -0.5721942759631691,
          -0.7195358860616844,
          -0.36872098602259495,
          -0.312326125205506,
          0.003915706818829079,
          -0.22676352831049432,
          -0.10369860760283284,
          0.01784364455496512
         ],
         "yaxis": "y"
        },
        {
         "hovertemplate": "Pacjent=103.0<br>BADANIE_NR=%{x}<br>LDA=%{y}<extra></extra>",
         "legendgroup": "103.0",
         "line": {
          "color": "#B6E880",
          "dash": "solid"
         },
         "marker": {
          "symbol": "circle"
         },
         "mode": "lines",
         "name": "103.0",
         "orientation": "v",
         "showlegend": true,
         "type": "scatter",
         "x": [
          1,
          2,
          3,
          4,
          5,
          6,
          7,
          8,
          9,
          10,
          11,
          12,
          13,
          14,
          15,
          16,
          17,
          18,
          19,
          20
         ],
         "xaxis": "x",
         "y": [
          0.2734890037329975,
          0.5330804590968552,
          2.21190090627126,
          1.1473753691313155,
          1.2623071715260976,
          1.508359738425201,
          0.02374684238580571,
          1.1874300096799804,
          2.0835721784577497,
          1.6857639715145623,
          0.6981727204838334,
          0.4942003197605969,
          0.32662763323152494,
          0.43560400104927294,
          -0.731704974247439,
          -0.26688165300492717,
          -0.3739051345252333,
          0.20754523969794839,
          0.42307722464540604,
          0.8609511254174426
         ],
         "yaxis": "y"
        },
        {
         "hovertemplate": "Pacjent=105.0<br>BADANIE_NR=%{x}<br>LDA=%{y}<extra></extra>",
         "legendgroup": "105.0",
         "line": {
          "color": "#FF97FF",
          "dash": "solid"
         },
         "marker": {
          "symbol": "circle"
         },
         "mode": "lines",
         "name": "105.0",
         "orientation": "v",
         "showlegend": true,
         "type": "scatter",
         "x": [
          1,
          2,
          3,
          4,
          5,
          6,
          7,
          8,
          9,
          10,
          11,
          12,
          13,
          14,
          15,
          16,
          17,
          18,
          19,
          20,
          21,
          22,
          23,
          24,
          25,
          26,
          27,
          28,
          29,
          30,
          31,
          32,
          33,
          34
         ],
         "xaxis": "x",
         "y": [
          -0.6416605626003552,
          -0.3862786242508861,
          -0.7585587337155206,
          1.0595434785398146,
          -0.663527603164371,
          -0.6784142480177304,
          -0.7386761424312639,
          -0.6398941212668394,
          -0.5651231392061659,
          -0.5625179873751965,
          -0.4721868206833932,
          -0.3067493219785441,
          -0.30079840689273757,
          -0.6160938028968912,
          1.4203401703944634,
          -0.20264563635553662,
          -0.4591606326040762,
          -1.1614615015800835,
          -0.5805932424032925,
          -1.3006998678758883,
          -0.7337752010741,
          -1.2043442101994202,
          -0.5322749178786549,
          1.4534679215755604,
          -0.42872914313698246,
          -0.5594459403103582,
          -1.1627168696926762,
          -1.1532075357960976,
          -1.4203737272231585,
          -0.9454533012827275,
          -0.4913613213988616,
          -0.7123126698131238,
          -1.077900634959333,
          -1.2046062280505099
         ],
         "yaxis": "y"
        },
        {
         "hovertemplate": "Pacjent=106.0<br>BADANIE_NR=%{x}<br>LDA=%{y}<extra></extra>",
         "legendgroup": "106.0",
         "line": {
          "color": "#FECB52",
          "dash": "solid"
         },
         "marker": {
          "symbol": "circle"
         },
         "mode": "lines",
         "name": "106.0",
         "orientation": "v",
         "showlegend": true,
         "type": "scatter",
         "x": [
          1,
          2,
          3,
          4,
          5,
          6,
          7,
          8,
          9,
          10,
          11,
          12,
          13,
          14
         ],
         "xaxis": "x",
         "y": [
          0.36612554526863106,
          0.3608863872707154,
          0.6942054918783462,
          0.06597087483613209,
          0.15734620424550022,
          0.21455550061818734,
          0.2332047455874121,
          1.4789248884302375,
          1.4518108976024628,
          -0.8987478614487452,
          -0.5559603483354517,
          -0.30007969222698794,
          0.6614866375648952,
          0.3542873897272353
         ],
         "yaxis": "y"
        },
        {
         "hovertemplate": "Pacjent=111.0<br>BADANIE_NR=%{x}<br>LDA=%{y}<extra></extra>",
         "legendgroup": "111.0",
         "line": {
          "color": "#636efa",
          "dash": "solid"
         },
         "marker": {
          "symbol": "circle"
         },
         "mode": "lines",
         "name": "111.0",
         "orientation": "v",
         "showlegend": true,
         "type": "scatter",
         "x": [
          1,
          2,
          3,
          4,
          5,
          6,
          7,
          8,
          9,
          10,
          11,
          12,
          13,
          14,
          15,
          16,
          17,
          18,
          19,
          20,
          21,
          22,
          23,
          24,
          25,
          26
         ],
         "xaxis": "x",
         "y": [
          0.41242443276154894,
          0.08558156479023837,
          -0.6956273183463675,
          -0.5012830376377198,
          -0.45046852104651475,
          -0.04090623654219762,
          -0.008926827303635032,
          -0.313192048767504,
          -0.6977202670474287,
          -0.17628337768754598,
          -0.3762845863087797,
          -0.17884526537775636,
          -0.23673957171452664,
          -0.6162618291978544,
          -0.5985040156678245,
          -0.7106653613476379,
          -0.5684028142372594,
          -0.6495960151112272,
          -0.3838755291136754,
          0.023064788471581804,
          -0.6097445690693497,
          -0.01295565423409787,
          -0.6733679784507612,
          0.08482675318621186,
          -0.2511549380177898,
          1.569151978720276
         ],
         "yaxis": "y"
        },
        {
         "hovertemplate": "Pacjent=116.0<br>BADANIE_NR=%{x}<br>LDA=%{y}<extra></extra>",
         "legendgroup": "116.0",
         "line": {
          "color": "#EF553B",
          "dash": "solid"
         },
         "marker": {
          "symbol": "circle"
         },
         "mode": "lines",
         "name": "116.0",
         "orientation": "v",
         "showlegend": true,
         "type": "scatter",
         "x": [
          1,
          2,
          3,
          4,
          5,
          6,
          7,
          8,
          9,
          10,
          11,
          12,
          13,
          14,
          15,
          16,
          17,
          18,
          19,
          20,
          21,
          22,
          23,
          24,
          25,
          26,
          27,
          28,
          29,
          30,
          31,
          32,
          33,
          34,
          35,
          36,
          37,
          38
         ],
         "xaxis": "x",
         "y": [
          -0.08475519164343398,
          -0.12695578771972327,
          -0.15941239843256633,
          -0.517733968987383,
          -1.1325257531011017,
          -1.3228232947225806,
          -1.320341472198323,
          -1.433449543747596,
          -0.07157245571585347,
          -1.4889522003216713,
          -1.1878718558108938,
          -1.413603332011984,
          -1.5307898440595222,
          -0.9646295663743513,
          -0.7458919560230193,
          -0.8799760904247067,
          -1.1981787339346965,
          -0.9506451700398775,
          -1.2595667159748256,
          -1.303659994527361,
          -1.349293302282836,
          -0.33428112484500844,
          -0.9486076655986979,
          -0.6138363552376832,
          -0.9034685710191165,
          -0.06926272326809496,
          2.325140242173156,
          -0.9598249839086266,
          -0.3231496201614553,
          -0.2856613985884132,
          -0.799218163060977,
          -0.8339399828329721,
          -1.1154936831415099,
          -1.0978405279375907,
          -0.8752005129990239,
          -1.2689528378663093,
          -1.0813867574388976,
          -1.1497629433811345
         ],
         "yaxis": "y"
        },
        {
         "hovertemplate": "Pacjent=119.0<br>BADANIE_NR=%{x}<br>LDA=%{y}<extra></extra>",
         "legendgroup": "119.0",
         "line": {
          "color": "#00cc96",
          "dash": "solid"
         },
         "marker": {
          "symbol": "circle"
         },
         "mode": "lines",
         "name": "119.0",
         "orientation": "v",
         "showlegend": true,
         "type": "scatter",
         "x": [
          1,
          2,
          3,
          4,
          5,
          6,
          7,
          8,
          9,
          10,
          11,
          12,
          13,
          14,
          15,
          16,
          17,
          18,
          19,
          20,
          21,
          22
         ],
         "xaxis": "x",
         "y": [
          0.34480302582737643,
          -0.17528422538584748,
          0.14662815444777888,
          0.07039586214381219,
          -0.037970627370934706,
          -0.009655053383396034,
          0.01345707801572088,
          -0.17764726595070188,
          0.40548164738714376,
          -0.39909849382547824,
          -0.3777697763105866,
          -0.8659037865650105,
          -0.46807713782874094,
          -0.07569196099796552,
          -0.15025042467068783,
          0.19747027292820013,
          -0.17189398446447976,
          -0.2397756190600634,
          0.12963174616004597,
          0.9982462267069029,
          2.2843372783736746,
          2.2251697163380006
         ],
         "yaxis": "y"
        },
        {
         "hovertemplate": "Pacjent=121.0<br>BADANIE_NR=%{x}<br>LDA=%{y}<extra></extra>",
         "legendgroup": "121.0",
         "line": {
          "color": "#ab63fa",
          "dash": "solid"
         },
         "marker": {
          "symbol": "circle"
         },
         "mode": "lines",
         "name": "121.0",
         "orientation": "v",
         "showlegend": true,
         "type": "scatter",
         "x": [
          1,
          2,
          3,
          4,
          5,
          6,
          7,
          8,
          9,
          10,
          11,
          12,
          13,
          14,
          15,
          16,
          17,
          18,
          19,
          20,
          21,
          22,
          23,
          24,
          25,
          26,
          27,
          28,
          29,
          30,
          31,
          32,
          33,
          34,
          35,
          36,
          37
         ],
         "xaxis": "x",
         "y": [
          -1.1969599227939383,
          -0.996386042382387,
          -0.19668471566024048,
          -0.5728208753551695,
          -0.8812488119180049,
          -1.1214529017349522,
          -0.9129389783055715,
          -0.4291664085195664,
          -0.30075883900976624,
          -0.54473326051499,
          -1.0338495284056466,
          -1.2735796449140335,
          -0.9646224353057073,
          -1.4052500715549776,
          -1.0425924016771178,
          -1.1242858534239022,
          -1.4056322944706565,
          -1.4820053134892286,
          -1.8375230726953022,
          -2.290389825557069,
          -1.834237313526283,
          -1.5450698993739627,
          -1.3738898176234193,
          -1.7111731974725675,
          -0.7967628890658591,
          -0.5217281175085031,
          -0.9627092863454974,
          -1.1091157515489363,
          -1.067583694007151,
          -1.278208004274935,
          -1.1110834656026467,
          -1.267035380675169,
          -0.4865736921798448,
          -0.2221749163624724,
          -0.5643833333131467,
          0.30956052626750746,
          -0.21849572251089602
         ],
         "yaxis": "y"
        },
        {
         "hovertemplate": "Pacjent=122.0<br>BADANIE_NR=%{x}<br>LDA=%{y}<extra></extra>",
         "legendgroup": "122.0",
         "line": {
          "color": "#FFA15A",
          "dash": "solid"
         },
         "marker": {
          "symbol": "circle"
         },
         "mode": "lines",
         "name": "122.0",
         "orientation": "v",
         "showlegend": true,
         "type": "scatter",
         "x": [
          1,
          2,
          3,
          4,
          5,
          6,
          7,
          8,
          9,
          10,
          11,
          12,
          13,
          14,
          15,
          16,
          17,
          18,
          19,
          20,
          21,
          22,
          23,
          24,
          25,
          26
         ],
         "xaxis": "x",
         "y": [
          0.8130804060934071,
          0.3000559331520516,
          0.38959323215643554,
          0.505966045582403,
          0.2714391839435677,
          0.26271694282113084,
          0.07128234901971764,
          -0.4009281047869852,
          -0.32307981141526143,
          -0.4073800624698171,
          -0.14416900385302567,
          -0.016913450121198353,
          -0.37950401861017236,
          -0.21618611648108316,
          -0.36907099930011544,
          -0.5149325583157534,
          -0.39359213559166395,
          -0.732648769649197,
          -0.5309796502340901,
          1.2113532400938607,
          0.42448224101612986,
          0.3725559350914332,
          -0.045194686880344344,
          0.18469200261478502,
          0.29752092253380835,
          1.0341302792796747
         ],
         "yaxis": "y"
        },
        {
         "hovertemplate": "Pacjent=123.0<br>BADANIE_NR=%{x}<br>LDA=%{y}<extra></extra>",
         "legendgroup": "123.0",
         "line": {
          "color": "#19d3f3",
          "dash": "solid"
         },
         "marker": {
          "symbol": "circle"
         },
         "mode": "lines",
         "name": "123.0",
         "orientation": "v",
         "showlegend": true,
         "type": "scatter",
         "x": [
          1,
          2,
          3,
          4,
          5,
          6,
          7,
          8,
          9,
          10,
          11,
          12,
          13,
          14,
          15,
          16,
          17,
          18,
          19
         ],
         "xaxis": "x",
         "y": [
          0.8117432394695657,
          0.3026646094027592,
          -0.14277242554804104,
          -0.09659492093805394,
          -0.5138224848064012,
          -0.26997352542564634,
          -0.1629752326055329,
          -0.06005486054794062,
          0.7585807619752581,
          -0.24977557981306914,
          1.4903923097475993,
          -0.07980874023302466,
          0.9428584720882942,
          1.508849454554384,
          -0.2362463182434955,
          -0.4026484082629528,
          0.7216594731876977,
          -0.14415368434213377,
          0.6966700858580113
         ],
         "yaxis": "y"
        },
        {
         "hovertemplate": "Pacjent=125.0<br>BADANIE_NR=%{x}<br>LDA=%{y}<extra></extra>",
         "legendgroup": "125.0",
         "line": {
          "color": "#FF6692",
          "dash": "solid"
         },
         "marker": {
          "symbol": "circle"
         },
         "mode": "lines",
         "name": "125.0",
         "orientation": "v",
         "showlegend": true,
         "type": "scatter",
         "x": [
          1,
          2,
          3,
          4,
          5,
          6,
          7,
          8,
          9,
          10,
          11,
          12,
          13,
          14,
          15,
          16,
          17,
          18,
          19,
          20,
          21
         ],
         "xaxis": "x",
         "y": [
          -0.3256454529520097,
          0.044472865399163286,
          -0.24302501648691155,
          -0.4754914473409883,
          -0.49880030839135414,
          -1.0472567252774434,
          -1.5092113405045189,
          -1.3155892315050906,
          -1.4615453549648327,
          -1.4198874355919993,
          -1.4000208137550607,
          -1.3110542194879105,
          -1.439746254377356,
          -1.1625896669879332,
          -1.544644287227969,
          -1.4160539037903208,
          -1.5403269767410432,
          -0.715019233440118,
          -1.0585068730999971,
          -0.8466888028353204,
          0.7392058602462486
         ],
         "yaxis": "y"
        },
        {
         "hovertemplate": "Pacjent=131.0<br>BADANIE_NR=%{x}<br>LDA=%{y}<extra></extra>",
         "legendgroup": "131.0",
         "line": {
          "color": "#B6E880",
          "dash": "solid"
         },
         "marker": {
          "symbol": "circle"
         },
         "mode": "lines",
         "name": "131.0",
         "orientation": "v",
         "showlegend": true,
         "type": "scatter",
         "x": [
          1,
          2,
          3,
          4,
          5,
          6,
          7,
          8,
          9,
          10,
          11,
          12,
          13,
          14,
          15,
          16,
          17,
          18,
          19,
          20,
          21,
          22,
          23,
          24,
          25,
          26,
          27,
          28,
          29,
          30,
          31,
          32,
          33
         ],
         "xaxis": "x",
         "y": [
          -0.6736014042792227,
          -0.40671950983251426,
          -0.8304858446813768,
          -0.6400494833455395,
          -0.8176255563060841,
          -1.3147259488840533,
          -1.2842331402915563,
          -1.166375741391182,
          -1.8181094968816047,
          -1.064637329853487,
          -0.43552950619226893,
          -1.0022520298423538,
          -1.130421869228647,
          -1.4071552258479798,
          0.2715862173879376,
          0.11820403075724578,
          -1.0441377453958625,
          -1.401245133431959,
          -1.2863211887064503,
          -0.8218336741740552,
          -1.3704246864017837,
          -1.559768034147937,
          -2.105273397068869,
          -2.1401839843677815,
          -2.0468342529622285,
          -0.5718100753432378,
          -1.5254926743674626,
          -0.2743391579364167,
          -0.07018801468067994,
          -1.1273452292874142,
          -1.78728226863817,
          -1.0365179506838733,
          -0.09155191175829408
         ],
         "yaxis": "y"
        },
        {
         "hovertemplate": "Pacjent=134.0<br>BADANIE_NR=%{x}<br>LDA=%{y}<extra></extra>",
         "legendgroup": "134.0",
         "line": {
          "color": "#FF97FF",
          "dash": "solid"
         },
         "marker": {
          "symbol": "circle"
         },
         "mode": "lines",
         "name": "134.0",
         "orientation": "v",
         "showlegend": true,
         "type": "scatter",
         "x": [
          1,
          2,
          3,
          4,
          5,
          6,
          7,
          8,
          9,
          10,
          11,
          12,
          13,
          14,
          15,
          16,
          17,
          18,
          19,
          20,
          21,
          22,
          23,
          24,
          25,
          26,
          27,
          28,
          29,
          30,
          31,
          32,
          33,
          34,
          35
         ],
         "xaxis": "x",
         "y": [
          0.5964210577575215,
          0.7863263937180803,
          0.4703600433436179,
          0.16032583530378156,
          0.45420780457507576,
          -0.8937684313185537,
          -0.19302644189432594,
          -0.8531064748605588,
          -0.2720448573257819,
          -0.3424058551643687,
          -0.14124222978642065,
          -0.1975495170579668,
          -0.29674352624778416,
          -0.25879742041058806,
          2.710903896145858,
          1.216544837499917,
          1.800454474218975,
          -1.0134845721041372,
          -1.4242494893932345,
          -1.0248560377580058,
          -2.085258099098818,
          -1.6699402847966642,
          -1.5819998501139614,
          -0.7489702574844859,
          -1.411625011085511,
          -1.2425600529829617,
          -1.8981048536173661,
          -1.6586715967603214,
          -1.0550757027853686,
          -1.8006456324909603,
          -1.8574328639342426,
          -0.911942888712689,
          -1.3132265110112729,
          -1.2968754399727258,
          -0.7397445595011487
         ],
         "yaxis": "y"
        },
        {
         "hovertemplate": "Pacjent=145.0<br>BADANIE_NR=%{x}<br>LDA=%{y}<extra></extra>",
         "legendgroup": "145.0",
         "line": {
          "color": "#FECB52",
          "dash": "solid"
         },
         "marker": {
          "symbol": "circle"
         },
         "mode": "lines",
         "name": "145.0",
         "orientation": "v",
         "showlegend": true,
         "type": "scatter",
         "x": [
          1,
          2,
          3,
          4,
          5,
          6,
          7,
          8,
          9
         ],
         "xaxis": "x",
         "y": [
          0.02271294208272165,
          0.2312243651487565,
          0.08799226117151315,
          0.10674497260806626,
          0.43030038835590606,
          0.19558960730373698,
          0.6850275539137101,
          0.028346396450589378,
          0.7998132185965023
         ],
         "yaxis": "y"
        }
       ],
       "layout": {
        "height": 800,
        "legend": {
         "title": {
          "text": "Pacjent"
         },
         "tracegroupgap": 0
        },
        "margin": {
         "t": 60
        },
        "showlegend": false,
        "template": {
         "data": {
          "bar": [
           {
            "error_x": {
             "color": "#2a3f5f"
            },
            "error_y": {
             "color": "#2a3f5f"
            },
            "marker": {
             "line": {
              "color": "white",
              "width": 0.5
             },
             "pattern": {
              "fillmode": "overlay",
              "size": 10,
              "solidity": 0.2
             }
            },
            "type": "bar"
           }
          ],
          "barpolar": [
           {
            "marker": {
             "line": {
              "color": "white",
              "width": 0.5
             },
             "pattern": {
              "fillmode": "overlay",
              "size": 10,
              "solidity": 0.2
             }
            },
            "type": "barpolar"
           }
          ],
          "carpet": [
           {
            "aaxis": {
             "endlinecolor": "#2a3f5f",
             "gridcolor": "#C8D4E3",
             "linecolor": "#C8D4E3",
             "minorgridcolor": "#C8D4E3",
             "startlinecolor": "#2a3f5f"
            },
            "baxis": {
             "endlinecolor": "#2a3f5f",
             "gridcolor": "#C8D4E3",
             "linecolor": "#C8D4E3",
             "minorgridcolor": "#C8D4E3",
             "startlinecolor": "#2a3f5f"
            },
            "type": "carpet"
           }
          ],
          "choropleth": [
           {
            "colorbar": {
             "outlinewidth": 0,
             "ticks": ""
            },
            "type": "choropleth"
           }
          ],
          "contour": [
           {
            "colorbar": {
             "outlinewidth": 0,
             "ticks": ""
            },
            "colorscale": [
             [
              0,
              "#0d0887"
             ],
             [
              0.1111111111111111,
              "#46039f"
             ],
             [
              0.2222222222222222,
              "#7201a8"
             ],
             [
              0.3333333333333333,
              "#9c179e"
             ],
             [
              0.4444444444444444,
              "#bd3786"
             ],
             [
              0.5555555555555556,
              "#d8576b"
             ],
             [
              0.6666666666666666,
              "#ed7953"
             ],
             [
              0.7777777777777778,
              "#fb9f3a"
             ],
             [
              0.8888888888888888,
              "#fdca26"
             ],
             [
              1,
              "#f0f921"
             ]
            ],
            "type": "contour"
           }
          ],
          "contourcarpet": [
           {
            "colorbar": {
             "outlinewidth": 0,
             "ticks": ""
            },
            "type": "contourcarpet"
           }
          ],
          "heatmap": [
           {
            "colorbar": {
             "outlinewidth": 0,
             "ticks": ""
            },
            "colorscale": [
             [
              0,
              "#0d0887"
             ],
             [
              0.1111111111111111,
              "#46039f"
             ],
             [
              0.2222222222222222,
              "#7201a8"
             ],
             [
              0.3333333333333333,
              "#9c179e"
             ],
             [
              0.4444444444444444,
              "#bd3786"
             ],
             [
              0.5555555555555556,
              "#d8576b"
             ],
             [
              0.6666666666666666,
              "#ed7953"
             ],
             [
              0.7777777777777778,
              "#fb9f3a"
             ],
             [
              0.8888888888888888,
              "#fdca26"
             ],
             [
              1,
              "#f0f921"
             ]
            ],
            "type": "heatmap"
           }
          ],
          "heatmapgl": [
           {
            "colorbar": {
             "outlinewidth": 0,
             "ticks": ""
            },
            "colorscale": [
             [
              0,
              "#0d0887"
             ],
             [
              0.1111111111111111,
              "#46039f"
             ],
             [
              0.2222222222222222,
              "#7201a8"
             ],
             [
              0.3333333333333333,
              "#9c179e"
             ],
             [
              0.4444444444444444,
              "#bd3786"
             ],
             [
              0.5555555555555556,
              "#d8576b"
             ],
             [
              0.6666666666666666,
              "#ed7953"
             ],
             [
              0.7777777777777778,
              "#fb9f3a"
             ],
             [
              0.8888888888888888,
              "#fdca26"
             ],
             [
              1,
              "#f0f921"
             ]
            ],
            "type": "heatmapgl"
           }
          ],
          "histogram": [
           {
            "marker": {
             "pattern": {
              "fillmode": "overlay",
              "size": 10,
              "solidity": 0.2
             }
            },
            "type": "histogram"
           }
          ],
          "histogram2d": [
           {
            "colorbar": {
             "outlinewidth": 0,
             "ticks": ""
            },
            "colorscale": [
             [
              0,
              "#0d0887"
             ],
             [
              0.1111111111111111,
              "#46039f"
             ],
             [
              0.2222222222222222,
              "#7201a8"
             ],
             [
              0.3333333333333333,
              "#9c179e"
             ],
             [
              0.4444444444444444,
              "#bd3786"
             ],
             [
              0.5555555555555556,
              "#d8576b"
             ],
             [
              0.6666666666666666,
              "#ed7953"
             ],
             [
              0.7777777777777778,
              "#fb9f3a"
             ],
             [
              0.8888888888888888,
              "#fdca26"
             ],
             [
              1,
              "#f0f921"
             ]
            ],
            "type": "histogram2d"
           }
          ],
          "histogram2dcontour": [
           {
            "colorbar": {
             "outlinewidth": 0,
             "ticks": ""
            },
            "colorscale": [
             [
              0,
              "#0d0887"
             ],
             [
              0.1111111111111111,
              "#46039f"
             ],
             [
              0.2222222222222222,
              "#7201a8"
             ],
             [
              0.3333333333333333,
              "#9c179e"
             ],
             [
              0.4444444444444444,
              "#bd3786"
             ],
             [
              0.5555555555555556,
              "#d8576b"
             ],
             [
              0.6666666666666666,
              "#ed7953"
             ],
             [
              0.7777777777777778,
              "#fb9f3a"
             ],
             [
              0.8888888888888888,
              "#fdca26"
             ],
             [
              1,
              "#f0f921"
             ]
            ],
            "type": "histogram2dcontour"
           }
          ],
          "mesh3d": [
           {
            "colorbar": {
             "outlinewidth": 0,
             "ticks": ""
            },
            "type": "mesh3d"
           }
          ],
          "parcoords": [
           {
            "line": {
             "colorbar": {
              "outlinewidth": 0,
              "ticks": ""
             }
            },
            "type": "parcoords"
           }
          ],
          "pie": [
           {
            "automargin": true,
            "type": "pie"
           }
          ],
          "scatter": [
           {
            "marker": {
             "colorbar": {
              "outlinewidth": 0,
              "ticks": ""
             }
            },
            "type": "scatter"
           }
          ],
          "scatter3d": [
           {
            "line": {
             "colorbar": {
              "outlinewidth": 0,
              "ticks": ""
             }
            },
            "marker": {
             "colorbar": {
              "outlinewidth": 0,
              "ticks": ""
             }
            },
            "type": "scatter3d"
           }
          ],
          "scattercarpet": [
           {
            "marker": {
             "colorbar": {
              "outlinewidth": 0,
              "ticks": ""
             }
            },
            "type": "scattercarpet"
           }
          ],
          "scattergeo": [
           {
            "marker": {
             "colorbar": {
              "outlinewidth": 0,
              "ticks": ""
             }
            },
            "type": "scattergeo"
           }
          ],
          "scattergl": [
           {
            "marker": {
             "colorbar": {
              "outlinewidth": 0,
              "ticks": ""
             }
            },
            "type": "scattergl"
           }
          ],
          "scattermapbox": [
           {
            "marker": {
             "colorbar": {
              "outlinewidth": 0,
              "ticks": ""
             }
            },
            "type": "scattermapbox"
           }
          ],
          "scatterpolar": [
           {
            "marker": {
             "colorbar": {
              "outlinewidth": 0,
              "ticks": ""
             }
            },
            "type": "scatterpolar"
           }
          ],
          "scatterpolargl": [
           {
            "marker": {
             "colorbar": {
              "outlinewidth": 0,
              "ticks": ""
             }
            },
            "type": "scatterpolargl"
           }
          ],
          "scatterternary": [
           {
            "marker": {
             "colorbar": {
              "outlinewidth": 0,
              "ticks": ""
             }
            },
            "type": "scatterternary"
           }
          ],
          "surface": [
           {
            "colorbar": {
             "outlinewidth": 0,
             "ticks": ""
            },
            "colorscale": [
             [
              0,
              "#0d0887"
             ],
             [
              0.1111111111111111,
              "#46039f"
             ],
             [
              0.2222222222222222,
              "#7201a8"
             ],
             [
              0.3333333333333333,
              "#9c179e"
             ],
             [
              0.4444444444444444,
              "#bd3786"
             ],
             [
              0.5555555555555556,
              "#d8576b"
             ],
             [
              0.6666666666666666,
              "#ed7953"
             ],
             [
              0.7777777777777778,
              "#fb9f3a"
             ],
             [
              0.8888888888888888,
              "#fdca26"
             ],
             [
              1,
              "#f0f921"
             ]
            ],
            "type": "surface"
           }
          ],
          "table": [
           {
            "cells": {
             "fill": {
              "color": "#EBF0F8"
             },
             "line": {
              "color": "white"
             }
            },
            "header": {
             "fill": {
              "color": "#C8D4E3"
             },
             "line": {
              "color": "white"
             }
            },
            "type": "table"
           }
          ]
         },
         "layout": {
          "annotationdefaults": {
           "arrowcolor": "#2a3f5f",
           "arrowhead": 0,
           "arrowwidth": 1
          },
          "autotypenumbers": "strict",
          "coloraxis": {
           "colorbar": {
            "outlinewidth": 0,
            "ticks": ""
           }
          },
          "colorscale": {
           "diverging": [
            [
             0,
             "#8e0152"
            ],
            [
             0.1,
             "#c51b7d"
            ],
            [
             0.2,
             "#de77ae"
            ],
            [
             0.3,
             "#f1b6da"
            ],
            [
             0.4,
             "#fde0ef"
            ],
            [
             0.5,
             "#f7f7f7"
            ],
            [
             0.6,
             "#e6f5d0"
            ],
            [
             0.7,
             "#b8e186"
            ],
            [
             0.8,
             "#7fbc41"
            ],
            [
             0.9,
             "#4d9221"
            ],
            [
             1,
             "#276419"
            ]
           ],
           "sequential": [
            [
             0,
             "#0d0887"
            ],
            [
             0.1111111111111111,
             "#46039f"
            ],
            [
             0.2222222222222222,
             "#7201a8"
            ],
            [
             0.3333333333333333,
             "#9c179e"
            ],
            [
             0.4444444444444444,
             "#bd3786"
            ],
            [
             0.5555555555555556,
             "#d8576b"
            ],
            [
             0.6666666666666666,
             "#ed7953"
            ],
            [
             0.7777777777777778,
             "#fb9f3a"
            ],
            [
             0.8888888888888888,
             "#fdca26"
            ],
            [
             1,
             "#f0f921"
            ]
           ],
           "sequentialminus": [
            [
             0,
             "#0d0887"
            ],
            [
             0.1111111111111111,
             "#46039f"
            ],
            [
             0.2222222222222222,
             "#7201a8"
            ],
            [
             0.3333333333333333,
             "#9c179e"
            ],
            [
             0.4444444444444444,
             "#bd3786"
            ],
            [
             0.5555555555555556,
             "#d8576b"
            ],
            [
             0.6666666666666666,
             "#ed7953"
            ],
            [
             0.7777777777777778,
             "#fb9f3a"
            ],
            [
             0.8888888888888888,
             "#fdca26"
            ],
            [
             1,
             "#f0f921"
            ]
           ]
          },
          "colorway": [
           "#636efa",
           "#EF553B",
           "#00cc96",
           "#ab63fa",
           "#FFA15A",
           "#19d3f3",
           "#FF6692",
           "#B6E880",
           "#FF97FF",
           "#FECB52"
          ],
          "font": {
           "color": "#2a3f5f"
          },
          "geo": {
           "bgcolor": "white",
           "lakecolor": "white",
           "landcolor": "white",
           "showlakes": true,
           "showland": true,
           "subunitcolor": "#C8D4E3"
          },
          "hoverlabel": {
           "align": "left"
          },
          "hovermode": "closest",
          "mapbox": {
           "style": "light"
          },
          "paper_bgcolor": "white",
          "plot_bgcolor": "white",
          "polar": {
           "angularaxis": {
            "gridcolor": "#EBF0F8",
            "linecolor": "#EBF0F8",
            "ticks": ""
           },
           "bgcolor": "white",
           "radialaxis": {
            "gridcolor": "#EBF0F8",
            "linecolor": "#EBF0F8",
            "ticks": ""
           }
          },
          "scene": {
           "xaxis": {
            "backgroundcolor": "white",
            "gridcolor": "#DFE8F3",
            "gridwidth": 2,
            "linecolor": "#EBF0F8",
            "showbackground": true,
            "ticks": "",
            "zerolinecolor": "#EBF0F8"
           },
           "yaxis": {
            "backgroundcolor": "white",
            "gridcolor": "#DFE8F3",
            "gridwidth": 2,
            "linecolor": "#EBF0F8",
            "showbackground": true,
            "ticks": "",
            "zerolinecolor": "#EBF0F8"
           },
           "zaxis": {
            "backgroundcolor": "white",
            "gridcolor": "#DFE8F3",
            "gridwidth": 2,
            "linecolor": "#EBF0F8",
            "showbackground": true,
            "ticks": "",
            "zerolinecolor": "#EBF0F8"
           }
          },
          "shapedefaults": {
           "line": {
            "color": "#2a3f5f"
           }
          },
          "ternary": {
           "aaxis": {
            "gridcolor": "#DFE8F3",
            "linecolor": "#A2B1C6",
            "ticks": ""
           },
           "baxis": {
            "gridcolor": "#DFE8F3",
            "linecolor": "#A2B1C6",
            "ticks": ""
           },
           "bgcolor": "white",
           "caxis": {
            "gridcolor": "#DFE8F3",
            "linecolor": "#A2B1C6",
            "ticks": ""
           }
          },
          "title": {
           "x": 0.05
          },
          "xaxis": {
           "automargin": true,
           "gridcolor": "#EBF0F8",
           "linecolor": "#EBF0F8",
           "ticks": "",
           "title": {
            "standoff": 15
           },
           "zerolinecolor": "#EBF0F8",
           "zerolinewidth": 2
          },
          "yaxis": {
           "automargin": true,
           "gridcolor": "#EBF0F8",
           "linecolor": "#EBF0F8",
           "ticks": "",
           "title": {
            "standoff": 15
           },
           "zerolinecolor": "#EBF0F8",
           "zerolinewidth": 2
          }
         }
        },
        "width": 800,
        "xaxis": {
         "anchor": "y",
         "domain": [
          0,
          1
         ],
         "range": [
          0,
          65
         ],
         "tickfont": {
          "size": 18
         },
         "title": {
          "font": {
           "size": 24
          },
          "text": "Numer badania"
         }
        },
        "yaxis": {
         "anchor": "x",
         "domain": [
          0,
          1
         ],
         "range": [
          -3,
          5
         ],
         "tickfont": {
          "size": 18
         },
         "title": {
          "font": {
           "size": 24
          },
          "text": "LDA zmarli"
         }
        }
       }
      }
     },
     "metadata": {},
     "output_type": "display_data"
    }
   ],
   "source": [
    "# Podziel dane na dwie ramki danych\n",
    "df_zgon_0 = X_lda_with_zgon[X_lda_with_zgon['ZGON'] == 0]\n",
    "df_zgon_1 = X_lda_with_zgon[X_lda_with_zgon['ZGON'] == 1]\n",
    "\n",
    "# fig0 = make_subplots(rows=1, cols=2, subplot_titles=['Zgon: nie', 'Zgon: tak'])\n",
    "# Wykres dla ZGON=0\n",
    "fig1 = px.line(df_zgon_0, x='BADANIE_NR', y='LDA', color='PACJENT_NR', \n",
    "              labels={'BADANIE_NR': 'BADANIE_NR', 'LDA': 'LDA', 'PACJENT_NR': 'Pacjent'}, width=800, height=800)\n",
    "fig1.update_xaxes(title_text='Numer badania')\n",
    "fig1.update_yaxes(title_text='LDA')\n",
    "fig1.update_layout(showlegend=False)\n",
    "\n",
    "# Wykres dla ZGON=1\n",
    "fig2 = px.line(df_zgon_1, x='BADANIE_NR', y='LDA', color='PACJENT_NR', \n",
    "               labels={'BADANIE_NR': 'BADANIE_NR', 'LDA': 'LDA', 'PACJENT_NR': 'Pacjent'}, width=800, height=800)\n",
    "fig2.update_xaxes(title_text='Numer badania')\n",
    "fig2.update_yaxes(title_text='LDA zmarli')\n",
    "fig2.update_layout(showlegend=False)\n",
    "\n",
    "fig1.update_yaxes(range=[-3, 5])\n",
    "fig2.update_yaxes(range=[-3, 5])\n",
    "\n",
    "fig1.update_xaxes(range=[0, 65])\n",
    "fig2.update_xaxes(range=[0, 65])\n",
    "\n",
    "fig1.update_layout(\n",
    "    xaxis=dict(\n",
    "        tickfont=dict(size=18),\n",
    "        title_font=dict(size=20),\n",
    "    ),\n",
    "    yaxis=dict(\n",
    "        tickfont=dict(size=18),\n",
    "        title_font=dict(size=20)\n",
    "    )\n",
    ")\n",
    "fig2.update_layout(\n",
    "    xaxis=dict(\n",
    "        tickfont=dict(size=18),\n",
    "        title_font=dict(size=24),\n",
    "    ),\n",
    "    yaxis=dict(\n",
    "        tickfont=dict(size=18),\n",
    "        title_font=dict(size=24)\n",
    "    )\n",
    ")\n",
    "fig1.update_layout(template=\"plotly_white\")\n",
    "fig2.update_layout(template=\"plotly_white\")\n",
    "# Wyświetl oba wykresy\n",
    "fig1.show()\n",
    "fig2.show()"
   ]
  }
 ],
 "metadata": {
  "kernelspec": {
   "display_name": "Python 3",
   "language": "python",
   "name": "python3"
  },
  "language_info": {
   "codemirror_mode": {
    "name": "ipython",
    "version": 3
   },
   "file_extension": ".py",
   "mimetype": "text/x-python",
   "name": "python",
   "nbconvert_exporter": "python",
   "pygments_lexer": "ipython3",
   "version": "3.9.8"
  }
 },
 "nbformat": 4,
 "nbformat_minor": 2
}
