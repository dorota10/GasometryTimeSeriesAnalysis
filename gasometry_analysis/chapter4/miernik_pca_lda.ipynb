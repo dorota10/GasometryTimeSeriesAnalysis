{
 "cells": [
  {
   "cell_type": "code",
   "execution_count": null,
   "metadata": {},
   "outputs": [],
   "source": [
    "#podział na odchylenia wszystkie i odchylenia złe, bez odchyleń\n",
    "\n",
    "#pca\n",
    "#miernik na podstawie ostatniej wartości\n",
    "#użycie wag do LDA w czasie\n",
    "\n",
    "#granica LDA\n",
    "\n",
    "#50 pacjentów zmarłych i 50 zywych"
   ]
  },
  {
   "cell_type": "code",
   "execution_count": 74,
   "metadata": {},
   "outputs": [],
   "source": [
    "import pandas as pd\n",
    "import numpy as np\n",
    "import matplotlib.pyplot as plt\n",
    "import seaborn as sns\n",
    "from plotly.subplots import make_subplots\n",
    "from sklearn.decomposition import PCA\n",
    "from sklearn.model_selection import train_test_split\n",
    "import plotly.express as px\n",
    "from sklearn.discriminant_analysis import LinearDiscriminantAnalysis\n",
    "from sklearn.tree import DecisionTreeClassifier\n",
    "from sklearn.tree import plot_tree\n",
    "from sklearn.metrics import confusion_matrix\n",
    "from sklearn.tree import plot_tree\n",
    "from sklearn.ensemble import RandomForestClassifier\n",
    "import random\n",
    "import plotly.graph_objs as go"
   ]
  },
  {
   "cell_type": "markdown",
   "metadata": {},
   "source": [
    "### dane"
   ]
  },
  {
   "cell_type": "code",
   "execution_count": 3,
   "metadata": {},
   "outputs": [],
   "source": [
    "df_prep = pd.read_csv(\"..\\chapter3\\gasometry_prepared_data.csv\")\n",
    "cols=[\"BETET\",\t\"CO2TET\",\t\"HCO3ACTE\",\t\"HCO3STTE\",\t\"O2SATTET\",\t\"O2TET\", \"IONH\"]\n",
    "my_blue=\"#0064B2\";\n",
    "my_red=\"#D61600\";"
   ]
  },
  {
   "cell_type": "code",
   "execution_count": 131,
   "metadata": {},
   "outputs": [],
   "source": [
    "random.seed(42)  \n",
    "df_zgon = df_prep.groupby('PACJENT_NR').last()\n",
    "sample_zgon = random.sample(list(df_zgon[df_zgon['ZGON'] ==1 ].index), 40)\n",
    "sample_nzgon = random.sample(list(df_zgon[df_zgon['ZGON'] == 0].index), 40)\n",
    "indexes=[*sample_zgon, *sample_nzgon]\n",
    "pacjenci_80 = df_zgon.loc[df_zgon.index.isin(indexes)].index\n",
    "data80=df_prep.loc[df_prep[\"PACJENT_NR\"].isin(pacjenci_80)].reset_index(drop=True)\n",
    "data27=df_prep.loc[~df_prep[\"PACJENT_NR\"].isin(pacjenci_80)].reset_index(drop=True)"
   ]
  },
  {
   "cell_type": "code",
   "execution_count": 128,
   "metadata": {},
   "outputs": [
    {
     "data": {
      "text/html": [
       "<div>\n",
       "<style scoped>\n",
       "    .dataframe tbody tr th:only-of-type {\n",
       "        vertical-align: middle;\n",
       "    }\n",
       "\n",
       "    .dataframe tbody tr th {\n",
       "        vertical-align: top;\n",
       "    }\n",
       "\n",
       "    .dataframe thead th {\n",
       "        text-align: right;\n",
       "    }\n",
       "</style>\n",
       "<table border=\"1\" class=\"dataframe\">\n",
       "  <thead>\n",
       "    <tr style=\"text-align: right;\">\n",
       "      <th></th>\n",
       "      <th>Unnamed: 0</th>\n",
       "      <th>PACJENT_NR</th>\n",
       "      <th>BADANIE_NR</th>\n",
       "      <th>BETET</th>\n",
       "      <th>CO2TET</th>\n",
       "      <th>HCO3ACTE</th>\n",
       "      <th>HCO3STTE</th>\n",
       "      <th>O2SATTET</th>\n",
       "      <th>O2TET</th>\n",
       "      <th>IONH</th>\n",
       "      <th>ZGON</th>\n",
       "    </tr>\n",
       "  </thead>\n",
       "  <tbody>\n",
       "    <tr>\n",
       "      <th>0</th>\n",
       "      <td>60</td>\n",
       "      <td>3</td>\n",
       "      <td>1</td>\n",
       "      <td>0.478261</td>\n",
       "      <td>1.42</td>\n",
       "      <td>0.883333</td>\n",
       "      <td>0.750</td>\n",
       "      <td>0.74</td>\n",
       "      <td>2.148</td>\n",
       "      <td>1.008167</td>\n",
       "      <td>0.0</td>\n",
       "    </tr>\n",
       "    <tr>\n",
       "      <th>1</th>\n",
       "      <td>61</td>\n",
       "      <td>3</td>\n",
       "      <td>2</td>\n",
       "      <td>1.782609</td>\n",
       "      <td>2.06</td>\n",
       "      <td>1.700000</td>\n",
       "      <td>1.675</td>\n",
       "      <td>0.90</td>\n",
       "      <td>3.924</td>\n",
       "      <td>0.795364</td>\n",
       "      <td>0.0</td>\n",
       "    </tr>\n",
       "    <tr>\n",
       "      <th>2</th>\n",
       "      <td>62</td>\n",
       "      <td>3</td>\n",
       "      <td>3</td>\n",
       "      <td>1.804348</td>\n",
       "      <td>1.24</td>\n",
       "      <td>1.716667</td>\n",
       "      <td>2.050</td>\n",
       "      <td>0.92</td>\n",
       "      <td>3.984</td>\n",
       "      <td>0.147539</td>\n",
       "      <td>0.0</td>\n",
       "    </tr>\n",
       "    <tr>\n",
       "      <th>3</th>\n",
       "      <td>63</td>\n",
       "      <td>3</td>\n",
       "      <td>4</td>\n",
       "      <td>2.826087</td>\n",
       "      <td>2.18</td>\n",
       "      <td>2.383333</td>\n",
       "      <td>2.600</td>\n",
       "      <td>0.56</td>\n",
       "      <td>0.936</td>\n",
       "      <td>0.381504</td>\n",
       "      <td>0.0</td>\n",
       "    </tr>\n",
       "    <tr>\n",
       "      <th>4</th>\n",
       "      <td>64</td>\n",
       "      <td>3</td>\n",
       "      <td>5</td>\n",
       "      <td>2.652174</td>\n",
       "      <td>2.31</td>\n",
       "      <td>2.633333</td>\n",
       "      <td>2.875</td>\n",
       "      <td>0.76</td>\n",
       "      <td>1.708</td>\n",
       "      <td>0.301894</td>\n",
       "      <td>0.0</td>\n",
       "    </tr>\n",
       "    <tr>\n",
       "      <th>...</th>\n",
       "      <td>...</td>\n",
       "      <td>...</td>\n",
       "      <td>...</td>\n",
       "      <td>...</td>\n",
       "      <td>...</td>\n",
       "      <td>...</td>\n",
       "      <td>...</td>\n",
       "      <td>...</td>\n",
       "      <td>...</td>\n",
       "      <td>...</td>\n",
       "      <td>...</td>\n",
       "    </tr>\n",
       "    <tr>\n",
       "      <th>2165</th>\n",
       "      <td>2929</td>\n",
       "      <td>145</td>\n",
       "      <td>5</td>\n",
       "      <td>-0.717391</td>\n",
       "      <td>1.63</td>\n",
       "      <td>0.133333</td>\n",
       "      <td>-0.350</td>\n",
       "      <td>0.18</td>\n",
       "      <td>0.420</td>\n",
       "      <td>2.294287</td>\n",
       "      <td>1.0</td>\n",
       "    </tr>\n",
       "    <tr>\n",
       "      <th>2166</th>\n",
       "      <td>2930</td>\n",
       "      <td>145</td>\n",
       "      <td>6</td>\n",
       "      <td>-0.891304</td>\n",
       "      <td>1.39</td>\n",
       "      <td>-0.016667</td>\n",
       "      <td>-0.450</td>\n",
       "      <td>0.76</td>\n",
       "      <td>1.640</td>\n",
       "      <td>2.254399</td>\n",
       "      <td>1.0</td>\n",
       "    </tr>\n",
       "    <tr>\n",
       "      <th>2167</th>\n",
       "      <td>2931</td>\n",
       "      <td>145</td>\n",
       "      <td>7</td>\n",
       "      <td>-1.065217</td>\n",
       "      <td>1.71</td>\n",
       "      <td>-0.050000</td>\n",
       "      <td>-0.650</td>\n",
       "      <td>-0.06</td>\n",
       "      <td>0.316</td>\n",
       "      <td>2.708690</td>\n",
       "      <td>1.0</td>\n",
       "    </tr>\n",
       "    <tr>\n",
       "      <th>2168</th>\n",
       "      <td>2932</td>\n",
       "      <td>145</td>\n",
       "      <td>8</td>\n",
       "      <td>-0.695652</td>\n",
       "      <td>1.15</td>\n",
       "      <td>0.066667</td>\n",
       "      <td>-0.275</td>\n",
       "      <td>0.62</td>\n",
       "      <td>1.600</td>\n",
       "      <td>1.857967</td>\n",
       "      <td>1.0</td>\n",
       "    </tr>\n",
       "    <tr>\n",
       "      <th>2169</th>\n",
       "      <td>2933</td>\n",
       "      <td>145</td>\n",
       "      <td>9</td>\n",
       "      <td>-0.978261</td>\n",
       "      <td>1.36</td>\n",
       "      <td>-0.066667</td>\n",
       "      <td>-0.550</td>\n",
       "      <td>-1.36</td>\n",
       "      <td>-0.660</td>\n",
       "      <td>2.294287</td>\n",
       "      <td>1.0</td>\n",
       "    </tr>\n",
       "  </tbody>\n",
       "</table>\n",
       "<p>2170 rows × 11 columns</p>\n",
       "</div>"
      ],
      "text/plain": [
       "      Unnamed: 0  PACJENT_NR  BADANIE_NR     BETET  CO2TET  HCO3ACTE  \\\n",
       "0             60           3           1  0.478261    1.42  0.883333   \n",
       "1             61           3           2  1.782609    2.06  1.700000   \n",
       "2             62           3           3  1.804348    1.24  1.716667   \n",
       "3             63           3           4  2.826087    2.18  2.383333   \n",
       "4             64           3           5  2.652174    2.31  2.633333   \n",
       "...          ...         ...         ...       ...     ...       ...   \n",
       "2165        2929         145           5 -0.717391    1.63  0.133333   \n",
       "2166        2930         145           6 -0.891304    1.39 -0.016667   \n",
       "2167        2931         145           7 -1.065217    1.71 -0.050000   \n",
       "2168        2932         145           8 -0.695652    1.15  0.066667   \n",
       "2169        2933         145           9 -0.978261    1.36 -0.066667   \n",
       "\n",
       "      HCO3STTE  O2SATTET  O2TET      IONH  ZGON  \n",
       "0        0.750      0.74  2.148  1.008167   0.0  \n",
       "1        1.675      0.90  3.924  0.795364   0.0  \n",
       "2        2.050      0.92  3.984  0.147539   0.0  \n",
       "3        2.600      0.56  0.936  0.381504   0.0  \n",
       "4        2.875      0.76  1.708  0.301894   0.0  \n",
       "...        ...       ...    ...       ...   ...  \n",
       "2165    -0.350      0.18  0.420  2.294287   1.0  \n",
       "2166    -0.450      0.76  1.640  2.254399   1.0  \n",
       "2167    -0.650     -0.06  0.316  2.708690   1.0  \n",
       "2168    -0.275      0.62  1.600  1.857967   1.0  \n",
       "2169    -0.550     -1.36 -0.660  2.294287   1.0  \n",
       "\n",
       "[2170 rows x 11 columns]"
      ]
     },
     "execution_count": 128,
     "metadata": {},
     "output_type": "execute_result"
    }
   ],
   "source": [
    "data80"
   ]
  },
  {
   "cell_type": "code",
   "execution_count": 114,
   "metadata": {},
   "outputs": [],
   "source": [
    "cols=data80.columns[3:-1]"
   ]
  },
  {
   "cell_type": "markdown",
   "metadata": {},
   "source": [
    "### PCA"
   ]
  },
  {
   "cell_type": "code",
   "execution_count": 136,
   "metadata": {},
   "outputs": [
    {
     "data": {
      "text/plain": [
       "array([0.45236006, 0.27342346, 0.20820373, 0.05506843, 0.00674966,\n",
       "       0.00301134, 0.00118333])"
      ]
     },
     "execution_count": 136,
     "metadata": {},
     "output_type": "execute_result"
    }
   ],
   "source": [
    "X_data=data80[cols].reset_index(drop=True)\n",
    "\n",
    "pca = PCA()\n",
    "components = pca.fit_transform(X_data)\n",
    "\n",
    "pca.explained_variance_ratio_\n"
   ]
  },
  {
   "cell_type": "code",
   "execution_count": 116,
   "metadata": {},
   "outputs": [
    {
     "data": {
      "application/vnd.plotly.v1+json": {
       "config": {
        "plotlyServerURL": "https://plot.ly"
       },
       "data": [
        {
         "mode": "lines+markers",
         "name": "Explained Variance Ratio",
         "type": "scatter",
         "x": [
          1,
          2,
          3,
          4,
          5,
          6,
          7
         ],
         "y": [
          0.45236005795499024,
          0.27342345521604444,
          0.20820372663090073,
          0.05506842610131247,
          0.006749659490567068,
          0.0030113438829134282,
          0.0011833307232716305
         ]
        }
       ],
       "layout": {
        "template": {
         "data": {
          "bar": [
           {
            "error_x": {
             "color": "#2a3f5f"
            },
            "error_y": {
             "color": "#2a3f5f"
            },
            "marker": {
             "line": {
              "color": "#E5ECF6",
              "width": 0.5
             },
             "pattern": {
              "fillmode": "overlay",
              "size": 10,
              "solidity": 0.2
             }
            },
            "type": "bar"
           }
          ],
          "barpolar": [
           {
            "marker": {
             "line": {
              "color": "#E5ECF6",
              "width": 0.5
             },
             "pattern": {
              "fillmode": "overlay",
              "size": 10,
              "solidity": 0.2
             }
            },
            "type": "barpolar"
           }
          ],
          "carpet": [
           {
            "aaxis": {
             "endlinecolor": "#2a3f5f",
             "gridcolor": "white",
             "linecolor": "white",
             "minorgridcolor": "white",
             "startlinecolor": "#2a3f5f"
            },
            "baxis": {
             "endlinecolor": "#2a3f5f",
             "gridcolor": "white",
             "linecolor": "white",
             "minorgridcolor": "white",
             "startlinecolor": "#2a3f5f"
            },
            "type": "carpet"
           }
          ],
          "choropleth": [
           {
            "colorbar": {
             "outlinewidth": 0,
             "ticks": ""
            },
            "type": "choropleth"
           }
          ],
          "contour": [
           {
            "colorbar": {
             "outlinewidth": 0,
             "ticks": ""
            },
            "colorscale": [
             [
              0,
              "#0d0887"
             ],
             [
              0.1111111111111111,
              "#46039f"
             ],
             [
              0.2222222222222222,
              "#7201a8"
             ],
             [
              0.3333333333333333,
              "#9c179e"
             ],
             [
              0.4444444444444444,
              "#bd3786"
             ],
             [
              0.5555555555555556,
              "#d8576b"
             ],
             [
              0.6666666666666666,
              "#ed7953"
             ],
             [
              0.7777777777777778,
              "#fb9f3a"
             ],
             [
              0.8888888888888888,
              "#fdca26"
             ],
             [
              1,
              "#f0f921"
             ]
            ],
            "type": "contour"
           }
          ],
          "contourcarpet": [
           {
            "colorbar": {
             "outlinewidth": 0,
             "ticks": ""
            },
            "type": "contourcarpet"
           }
          ],
          "heatmap": [
           {
            "colorbar": {
             "outlinewidth": 0,
             "ticks": ""
            },
            "colorscale": [
             [
              0,
              "#0d0887"
             ],
             [
              0.1111111111111111,
              "#46039f"
             ],
             [
              0.2222222222222222,
              "#7201a8"
             ],
             [
              0.3333333333333333,
              "#9c179e"
             ],
             [
              0.4444444444444444,
              "#bd3786"
             ],
             [
              0.5555555555555556,
              "#d8576b"
             ],
             [
              0.6666666666666666,
              "#ed7953"
             ],
             [
              0.7777777777777778,
              "#fb9f3a"
             ],
             [
              0.8888888888888888,
              "#fdca26"
             ],
             [
              1,
              "#f0f921"
             ]
            ],
            "type": "heatmap"
           }
          ],
          "heatmapgl": [
           {
            "colorbar": {
             "outlinewidth": 0,
             "ticks": ""
            },
            "colorscale": [
             [
              0,
              "#0d0887"
             ],
             [
              0.1111111111111111,
              "#46039f"
             ],
             [
              0.2222222222222222,
              "#7201a8"
             ],
             [
              0.3333333333333333,
              "#9c179e"
             ],
             [
              0.4444444444444444,
              "#bd3786"
             ],
             [
              0.5555555555555556,
              "#d8576b"
             ],
             [
              0.6666666666666666,
              "#ed7953"
             ],
             [
              0.7777777777777778,
              "#fb9f3a"
             ],
             [
              0.8888888888888888,
              "#fdca26"
             ],
             [
              1,
              "#f0f921"
             ]
            ],
            "type": "heatmapgl"
           }
          ],
          "histogram": [
           {
            "marker": {
             "pattern": {
              "fillmode": "overlay",
              "size": 10,
              "solidity": 0.2
             }
            },
            "type": "histogram"
           }
          ],
          "histogram2d": [
           {
            "colorbar": {
             "outlinewidth": 0,
             "ticks": ""
            },
            "colorscale": [
             [
              0,
              "#0d0887"
             ],
             [
              0.1111111111111111,
              "#46039f"
             ],
             [
              0.2222222222222222,
              "#7201a8"
             ],
             [
              0.3333333333333333,
              "#9c179e"
             ],
             [
              0.4444444444444444,
              "#bd3786"
             ],
             [
              0.5555555555555556,
              "#d8576b"
             ],
             [
              0.6666666666666666,
              "#ed7953"
             ],
             [
              0.7777777777777778,
              "#fb9f3a"
             ],
             [
              0.8888888888888888,
              "#fdca26"
             ],
             [
              1,
              "#f0f921"
             ]
            ],
            "type": "histogram2d"
           }
          ],
          "histogram2dcontour": [
           {
            "colorbar": {
             "outlinewidth": 0,
             "ticks": ""
            },
            "colorscale": [
             [
              0,
              "#0d0887"
             ],
             [
              0.1111111111111111,
              "#46039f"
             ],
             [
              0.2222222222222222,
              "#7201a8"
             ],
             [
              0.3333333333333333,
              "#9c179e"
             ],
             [
              0.4444444444444444,
              "#bd3786"
             ],
             [
              0.5555555555555556,
              "#d8576b"
             ],
             [
              0.6666666666666666,
              "#ed7953"
             ],
             [
              0.7777777777777778,
              "#fb9f3a"
             ],
             [
              0.8888888888888888,
              "#fdca26"
             ],
             [
              1,
              "#f0f921"
             ]
            ],
            "type": "histogram2dcontour"
           }
          ],
          "mesh3d": [
           {
            "colorbar": {
             "outlinewidth": 0,
             "ticks": ""
            },
            "type": "mesh3d"
           }
          ],
          "parcoords": [
           {
            "line": {
             "colorbar": {
              "outlinewidth": 0,
              "ticks": ""
             }
            },
            "type": "parcoords"
           }
          ],
          "pie": [
           {
            "automargin": true,
            "type": "pie"
           }
          ],
          "scatter": [
           {
            "marker": {
             "colorbar": {
              "outlinewidth": 0,
              "ticks": ""
             }
            },
            "type": "scatter"
           }
          ],
          "scatter3d": [
           {
            "line": {
             "colorbar": {
              "outlinewidth": 0,
              "ticks": ""
             }
            },
            "marker": {
             "colorbar": {
              "outlinewidth": 0,
              "ticks": ""
             }
            },
            "type": "scatter3d"
           }
          ],
          "scattercarpet": [
           {
            "marker": {
             "colorbar": {
              "outlinewidth": 0,
              "ticks": ""
             }
            },
            "type": "scattercarpet"
           }
          ],
          "scattergeo": [
           {
            "marker": {
             "colorbar": {
              "outlinewidth": 0,
              "ticks": ""
             }
            },
            "type": "scattergeo"
           }
          ],
          "scattergl": [
           {
            "marker": {
             "colorbar": {
              "outlinewidth": 0,
              "ticks": ""
             }
            },
            "type": "scattergl"
           }
          ],
          "scattermapbox": [
           {
            "marker": {
             "colorbar": {
              "outlinewidth": 0,
              "ticks": ""
             }
            },
            "type": "scattermapbox"
           }
          ],
          "scatterpolar": [
           {
            "marker": {
             "colorbar": {
              "outlinewidth": 0,
              "ticks": ""
             }
            },
            "type": "scatterpolar"
           }
          ],
          "scatterpolargl": [
           {
            "marker": {
             "colorbar": {
              "outlinewidth": 0,
              "ticks": ""
             }
            },
            "type": "scatterpolargl"
           }
          ],
          "scatterternary": [
           {
            "marker": {
             "colorbar": {
              "outlinewidth": 0,
              "ticks": ""
             }
            },
            "type": "scatterternary"
           }
          ],
          "surface": [
           {
            "colorbar": {
             "outlinewidth": 0,
             "ticks": ""
            },
            "colorscale": [
             [
              0,
              "#0d0887"
             ],
             [
              0.1111111111111111,
              "#46039f"
             ],
             [
              0.2222222222222222,
              "#7201a8"
             ],
             [
              0.3333333333333333,
              "#9c179e"
             ],
             [
              0.4444444444444444,
              "#bd3786"
             ],
             [
              0.5555555555555556,
              "#d8576b"
             ],
             [
              0.6666666666666666,
              "#ed7953"
             ],
             [
              0.7777777777777778,
              "#fb9f3a"
             ],
             [
              0.8888888888888888,
              "#fdca26"
             ],
             [
              1,
              "#f0f921"
             ]
            ],
            "type": "surface"
           }
          ],
          "table": [
           {
            "cells": {
             "fill": {
              "color": "#EBF0F8"
             },
             "line": {
              "color": "white"
             }
            },
            "header": {
             "fill": {
              "color": "#C8D4E3"
             },
             "line": {
              "color": "white"
             }
            },
            "type": "table"
           }
          ]
         },
         "layout": {
          "annotationdefaults": {
           "arrowcolor": "#2a3f5f",
           "arrowhead": 0,
           "arrowwidth": 1
          },
          "autotypenumbers": "strict",
          "coloraxis": {
           "colorbar": {
            "outlinewidth": 0,
            "ticks": ""
           }
          },
          "colorscale": {
           "diverging": [
            [
             0,
             "#8e0152"
            ],
            [
             0.1,
             "#c51b7d"
            ],
            [
             0.2,
             "#de77ae"
            ],
            [
             0.3,
             "#f1b6da"
            ],
            [
             0.4,
             "#fde0ef"
            ],
            [
             0.5,
             "#f7f7f7"
            ],
            [
             0.6,
             "#e6f5d0"
            ],
            [
             0.7,
             "#b8e186"
            ],
            [
             0.8,
             "#7fbc41"
            ],
            [
             0.9,
             "#4d9221"
            ],
            [
             1,
             "#276419"
            ]
           ],
           "sequential": [
            [
             0,
             "#0d0887"
            ],
            [
             0.1111111111111111,
             "#46039f"
            ],
            [
             0.2222222222222222,
             "#7201a8"
            ],
            [
             0.3333333333333333,
             "#9c179e"
            ],
            [
             0.4444444444444444,
             "#bd3786"
            ],
            [
             0.5555555555555556,
             "#d8576b"
            ],
            [
             0.6666666666666666,
             "#ed7953"
            ],
            [
             0.7777777777777778,
             "#fb9f3a"
            ],
            [
             0.8888888888888888,
             "#fdca26"
            ],
            [
             1,
             "#f0f921"
            ]
           ],
           "sequentialminus": [
            [
             0,
             "#0d0887"
            ],
            [
             0.1111111111111111,
             "#46039f"
            ],
            [
             0.2222222222222222,
             "#7201a8"
            ],
            [
             0.3333333333333333,
             "#9c179e"
            ],
            [
             0.4444444444444444,
             "#bd3786"
            ],
            [
             0.5555555555555556,
             "#d8576b"
            ],
            [
             0.6666666666666666,
             "#ed7953"
            ],
            [
             0.7777777777777778,
             "#fb9f3a"
            ],
            [
             0.8888888888888888,
             "#fdca26"
            ],
            [
             1,
             "#f0f921"
            ]
           ]
          },
          "colorway": [
           "#636efa",
           "#EF553B",
           "#00cc96",
           "#ab63fa",
           "#FFA15A",
           "#19d3f3",
           "#FF6692",
           "#B6E880",
           "#FF97FF",
           "#FECB52"
          ],
          "font": {
           "color": "#2a3f5f"
          },
          "geo": {
           "bgcolor": "white",
           "lakecolor": "white",
           "landcolor": "#E5ECF6",
           "showlakes": true,
           "showland": true,
           "subunitcolor": "white"
          },
          "hoverlabel": {
           "align": "left"
          },
          "hovermode": "closest",
          "mapbox": {
           "style": "light"
          },
          "paper_bgcolor": "white",
          "plot_bgcolor": "#E5ECF6",
          "polar": {
           "angularaxis": {
            "gridcolor": "white",
            "linecolor": "white",
            "ticks": ""
           },
           "bgcolor": "#E5ECF6",
           "radialaxis": {
            "gridcolor": "white",
            "linecolor": "white",
            "ticks": ""
           }
          },
          "scene": {
           "xaxis": {
            "backgroundcolor": "#E5ECF6",
            "gridcolor": "white",
            "gridwidth": 2,
            "linecolor": "white",
            "showbackground": true,
            "ticks": "",
            "zerolinecolor": "white"
           },
           "yaxis": {
            "backgroundcolor": "#E5ECF6",
            "gridcolor": "white",
            "gridwidth": 2,
            "linecolor": "white",
            "showbackground": true,
            "ticks": "",
            "zerolinecolor": "white"
           },
           "zaxis": {
            "backgroundcolor": "#E5ECF6",
            "gridcolor": "white",
            "gridwidth": 2,
            "linecolor": "white",
            "showbackground": true,
            "ticks": "",
            "zerolinecolor": "white"
           }
          },
          "shapedefaults": {
           "line": {
            "color": "#2a3f5f"
           }
          },
          "ternary": {
           "aaxis": {
            "gridcolor": "white",
            "linecolor": "white",
            "ticks": ""
           },
           "baxis": {
            "gridcolor": "white",
            "linecolor": "white",
            "ticks": ""
           },
           "bgcolor": "#E5ECF6",
           "caxis": {
            "gridcolor": "white",
            "linecolor": "white",
            "ticks": ""
           }
          },
          "title": {
           "x": 0.05
          },
          "xaxis": {
           "automargin": true,
           "gridcolor": "white",
           "linecolor": "white",
           "ticks": "",
           "title": {
            "standoff": 15
           },
           "zerolinecolor": "white",
           "zerolinewidth": 2
          },
          "yaxis": {
           "automargin": true,
           "gridcolor": "white",
           "linecolor": "white",
           "ticks": "",
           "title": {
            "standoff": 15
           },
           "zerolinecolor": "white",
           "zerolinewidth": 2
          }
         }
        },
        "title": {
         "text": "Scree Plot - Explained Variance Ratio"
        },
        "xaxis": {
         "title": {
          "text": "Principal Component"
         }
        },
        "yaxis": {
         "title": {
          "text": "Explained Variance Ratio"
         }
        }
       }
      }
     },
     "metadata": {},
     "output_type": "display_data"
    }
   ],
   "source": [
    "# Wyjaśniona wariancja\n",
    "explained_variance_ratio = pca.explained_variance_ratio_\n",
    "\n",
    "# Kumulatywna suma wyjaśnionej wariancji\n",
    "cumulative_explained_variance_ratio = explained_variance_ratio.cumsum()\n",
    "\n",
    "# Tworzenie osypiska (scree plot) za pomocą Plotly\n",
    "fig = go.Figure()\n",
    "fig.add_trace(go.Scatter(x=list(range(1, len(explained_variance_ratio) + 1)), y=explained_variance_ratio,\n",
    "                         mode='lines+markers', name='Explained Variance Ratio'))\n",
    "\n",
    "# Konfiguracja osi i tytułu\n",
    "fig.update_layout(title='Scree Plot - Explained Variance Ratio',\n",
    "                  xaxis_title='Principal Component',\n",
    "                  yaxis_title='Explained Variance Ratio')\n",
    "\n",
    "# Wyświetlenie wykresu\n",
    "fig.show()\n"
   ]
  },
  {
   "cell_type": "code",
   "execution_count": 137,
   "metadata": {},
   "outputs": [
    {
     "data": {
      "text/plain": [
       "array([0.45236006, 0.27342346, 0.20820373])"
      ]
     },
     "execution_count": 137,
     "metadata": {},
     "output_type": "execute_result"
    }
   ],
   "source": [
    "X_data=data80[cols].reset_index(drop=True)\n",
    "y_data=data80['ZGON']\n",
    "\n",
    "pca = PCA(n_components=3)\n",
    "components = pca.fit_transform(X_data)\n",
    "components_test=pca.transform(data27[cols])\n",
    "\n",
    "pca.explained_variance_ratio_"
   ]
  },
  {
   "cell_type": "code",
   "execution_count": 118,
   "metadata": {},
   "outputs": [
    {
     "data": {
      "text/html": [
       "<div>\n",
       "<style scoped>\n",
       "    .dataframe tbody tr th:only-of-type {\n",
       "        vertical-align: middle;\n",
       "    }\n",
       "\n",
       "    .dataframe tbody tr th {\n",
       "        vertical-align: top;\n",
       "    }\n",
       "\n",
       "    .dataframe thead th {\n",
       "        text-align: right;\n",
       "    }\n",
       "</style>\n",
       "<table border=\"1\" class=\"dataframe\">\n",
       "  <thead>\n",
       "    <tr style=\"text-align: right;\">\n",
       "      <th></th>\n",
       "      <th>BETET</th>\n",
       "      <th>CO2TET</th>\n",
       "      <th>HCO3ACTE</th>\n",
       "      <th>HCO3STTE</th>\n",
       "      <th>O2SATTET</th>\n",
       "      <th>O2TET</th>\n",
       "      <th>IONH</th>\n",
       "    </tr>\n",
       "  </thead>\n",
       "  <tbody>\n",
       "    <tr>\n",
       "      <th>0</th>\n",
       "      <td>-0.597659</td>\n",
       "      <td>-0.096732</td>\n",
       "      <td>-0.412235</td>\n",
       "      <td>-0.550879</td>\n",
       "      <td>0.064767</td>\n",
       "      <td>0.254929</td>\n",
       "      <td>0.301425</td>\n",
       "    </tr>\n",
       "    <tr>\n",
       "      <th>1</th>\n",
       "      <td>-0.118911</td>\n",
       "      <td>0.314074</td>\n",
       "      <td>-0.007447</td>\n",
       "      <td>-0.135389</td>\n",
       "      <td>-0.585908</td>\n",
       "      <td>-0.662740</td>\n",
       "      <td>0.293801</td>\n",
       "    </tr>\n",
       "    <tr>\n",
       "      <th>2</th>\n",
       "      <td>0.092540</td>\n",
       "      <td>0.743590</td>\n",
       "      <td>0.236178</td>\n",
       "      <td>0.038823</td>\n",
       "      <td>0.154694</td>\n",
       "      <td>0.389459</td>\n",
       "      <td>0.453447</td>\n",
       "    </tr>\n",
       "  </tbody>\n",
       "</table>\n",
       "</div>"
      ],
      "text/plain": [
       "      BETET    CO2TET  HCO3ACTE  HCO3STTE  O2SATTET     O2TET      IONH\n",
       "0 -0.597659 -0.096732 -0.412235 -0.550879  0.064767  0.254929  0.301425\n",
       "1 -0.118911  0.314074 -0.007447 -0.135389 -0.585908 -0.662740  0.293801\n",
       "2  0.092540  0.743590  0.236178  0.038823  0.154694  0.389459  0.453447"
      ]
     },
     "execution_count": 118,
     "metadata": {},
     "output_type": "execute_result"
    }
   ],
   "source": [
    "# Wagi (współczynniki) PCA\n",
    "weights_pca = pca.components_\n",
    "weights_df = pd.DataFrame(weights_pca, columns=X_data.columns)\n",
    "weights_df "
   ]
  },
  {
   "cell_type": "code",
   "execution_count": 129,
   "metadata": {},
   "outputs": [
    {
     "data": {
      "text/html": [
       "<div>\n",
       "<style scoped>\n",
       "    .dataframe tbody tr th:only-of-type {\n",
       "        vertical-align: middle;\n",
       "    }\n",
       "\n",
       "    .dataframe tbody tr th {\n",
       "        vertical-align: top;\n",
       "    }\n",
       "\n",
       "    .dataframe thead th {\n",
       "        text-align: right;\n",
       "    }\n",
       "</style>\n",
       "<table border=\"1\" class=\"dataframe\">\n",
       "  <thead>\n",
       "    <tr style=\"text-align: right;\">\n",
       "      <th></th>\n",
       "      <th>PC1</th>\n",
       "      <th>PC2</th>\n",
       "      <th>PC3</th>\n",
       "      <th>PACJENT_NR</th>\n",
       "      <th>BADANIE_NR</th>\n",
       "      <th>ZGON</th>\n",
       "    </tr>\n",
       "  </thead>\n",
       "  <tbody>\n",
       "    <tr>\n",
       "      <th>0</th>\n",
       "      <td>1.748440</td>\n",
       "      <td>-0.766392</td>\n",
       "      <td>0.228144</td>\n",
       "      <td>3</td>\n",
       "      <td>1</td>\n",
       "      <td>0.0</td>\n",
       "    </tr>\n",
       "    <tr>\n",
       "      <th>1</th>\n",
       "      <td>0.459727</td>\n",
       "      <td>-2.185096</td>\n",
       "      <td>1.673471</td>\n",
       "      <td>3</td>\n",
       "      <td>2</td>\n",
       "      <td>0.0</td>\n",
       "    </tr>\n",
       "    <tr>\n",
       "      <th>2</th>\n",
       "      <td>0.133925</td>\n",
       "      <td>-2.737931</td>\n",
       "      <td>0.816941</td>\n",
       "      <td>3</td>\n",
       "      <td>3</td>\n",
       "      <td>0.0</td>\n",
       "    </tr>\n",
       "    <tr>\n",
       "      <th>3</th>\n",
       "      <td>-1.875280</td>\n",
       "      <td>-0.343929</td>\n",
       "      <td>0.652603</td>\n",
       "      <td>3</td>\n",
       "      <td>4</td>\n",
       "      <td>0.0</td>\n",
       "    </tr>\n",
       "    <tr>\n",
       "      <th>4</th>\n",
       "      <td>-1.852702</td>\n",
       "      <td>-0.973719</td>\n",
       "      <td>1.098398</td>\n",
       "      <td>3</td>\n",
       "      <td>5</td>\n",
       "      <td>0.0</td>\n",
       "    </tr>\n",
       "    <tr>\n",
       "      <th>...</th>\n",
       "      <td>...</td>\n",
       "      <td>...</td>\n",
       "      <td>...</td>\n",
       "      <td>...</td>\n",
       "      <td>...</td>\n",
       "      <td>...</td>\n",
       "    </tr>\n",
       "    <tr>\n",
       "      <th>2165</th>\n",
       "      <td>3.268744</td>\n",
       "      <td>1.447440</td>\n",
       "      <td>-0.122612</td>\n",
       "      <td>145</td>\n",
       "      <td>5</td>\n",
       "      <td>1.0</td>\n",
       "    </tr>\n",
       "    <tr>\n",
       "      <th>2166</th>\n",
       "      <td>3.849379</td>\n",
       "      <td>0.247309</td>\n",
       "      <td>0.190299</td>\n",
       "      <td>145</td>\n",
       "      <td>6</td>\n",
       "      <td>1.0</td>\n",
       "    </tr>\n",
       "    <tr>\n",
       "      <th>2167</th>\n",
       "      <td>3.792582</td>\n",
       "      <td>1.887203</td>\n",
       "      <td>-0.039979</td>\n",
       "      <td>145</td>\n",
       "      <td>7</td>\n",
       "      <td>1.0</td>\n",
       "    </tr>\n",
       "    <tr>\n",
       "      <th>2168</th>\n",
       "      <td>3.486145</td>\n",
       "      <td>0.116417</td>\n",
       "      <td>-0.160578</td>\n",
       "      <td>145</td>\n",
       "      <td>8</td>\n",
       "      <td>1.0</td>\n",
       "    </tr>\n",
       "    <tr>\n",
       "      <th>2169</th>\n",
       "      <td>3.268331</td>\n",
       "      <td>3.040285</td>\n",
       "      <td>-1.061367</td>\n",
       "      <td>145</td>\n",
       "      <td>9</td>\n",
       "      <td>1.0</td>\n",
       "    </tr>\n",
       "  </tbody>\n",
       "</table>\n",
       "<p>2170 rows × 6 columns</p>\n",
       "</div>"
      ],
      "text/plain": [
       "           PC1       PC2       PC3  PACJENT_NR  BADANIE_NR  ZGON\n",
       "0     1.748440 -0.766392  0.228144           3           1   0.0\n",
       "1     0.459727 -2.185096  1.673471           3           2   0.0\n",
       "2     0.133925 -2.737931  0.816941           3           3   0.0\n",
       "3    -1.875280 -0.343929  0.652603           3           4   0.0\n",
       "4    -1.852702 -0.973719  1.098398           3           5   0.0\n",
       "...        ...       ...       ...         ...         ...   ...\n",
       "2165  3.268744  1.447440 -0.122612         145           5   1.0\n",
       "2166  3.849379  0.247309  0.190299         145           6   1.0\n",
       "2167  3.792582  1.887203 -0.039979         145           7   1.0\n",
       "2168  3.486145  0.116417 -0.160578         145           8   1.0\n",
       "2169  3.268331  3.040285 -1.061367         145           9   1.0\n",
       "\n",
       "[2170 rows x 6 columns]"
      ]
     },
     "execution_count": 129,
     "metadata": {},
     "output_type": "execute_result"
    }
   ],
   "source": [
    "transformed_df = pd.DataFrame(components, columns=[f'PC{i+1}' for i in range(components.shape[1])])\n",
    "transformed_df[['PACJENT_NR', 'BADANIE_NR', 'ZGON']] = data80[['PACJENT_NR', 'BADANIE_NR', 'ZGON']]\n",
    "transformed_df"
   ]
  },
  {
   "cell_type": "code",
   "execution_count": 138,
   "metadata": {},
   "outputs": [
    {
     "data": {
      "text/html": [
       "<div>\n",
       "<style scoped>\n",
       "    .dataframe tbody tr th:only-of-type {\n",
       "        vertical-align: middle;\n",
       "    }\n",
       "\n",
       "    .dataframe tbody tr th {\n",
       "        vertical-align: top;\n",
       "    }\n",
       "\n",
       "    .dataframe thead th {\n",
       "        text-align: right;\n",
       "    }\n",
       "</style>\n",
       "<table border=\"1\" class=\"dataframe\">\n",
       "  <thead>\n",
       "    <tr style=\"text-align: right;\">\n",
       "      <th></th>\n",
       "      <th>PC1</th>\n",
       "      <th>PC2</th>\n",
       "      <th>PC3</th>\n",
       "      <th>PACJENT_NR</th>\n",
       "      <th>BADANIE_NR</th>\n",
       "      <th>ZGON</th>\n",
       "    </tr>\n",
       "  </thead>\n",
       "  <tbody>\n",
       "    <tr>\n",
       "      <th>0</th>\n",
       "      <td>1.389841</td>\n",
       "      <td>3.615450</td>\n",
       "      <td>-0.445285</td>\n",
       "      <td>1</td>\n",
       "      <td>1</td>\n",
       "      <td>0.0</td>\n",
       "    </tr>\n",
       "    <tr>\n",
       "      <th>1</th>\n",
       "      <td>3.318768</td>\n",
       "      <td>-0.660209</td>\n",
       "      <td>5.112773</td>\n",
       "      <td>1</td>\n",
       "      <td>2</td>\n",
       "      <td>0.0</td>\n",
       "    </tr>\n",
       "    <tr>\n",
       "      <th>2</th>\n",
       "      <td>2.591719</td>\n",
       "      <td>-2.589547</td>\n",
       "      <td>3.661287</td>\n",
       "      <td>1</td>\n",
       "      <td>3</td>\n",
       "      <td>0.0</td>\n",
       "    </tr>\n",
       "    <tr>\n",
       "      <th>3</th>\n",
       "      <td>1.344556</td>\n",
       "      <td>0.408562</td>\n",
       "      <td>1.443207</td>\n",
       "      <td>1</td>\n",
       "      <td>4</td>\n",
       "      <td>0.0</td>\n",
       "    </tr>\n",
       "    <tr>\n",
       "      <th>4</th>\n",
       "      <td>1.948062</td>\n",
       "      <td>-0.602604</td>\n",
       "      <td>1.873868</td>\n",
       "      <td>1</td>\n",
       "      <td>5</td>\n",
       "      <td>0.0</td>\n",
       "    </tr>\n",
       "    <tr>\n",
       "      <th>...</th>\n",
       "      <td>...</td>\n",
       "      <td>...</td>\n",
       "      <td>...</td>\n",
       "      <td>...</td>\n",
       "      <td>...</td>\n",
       "      <td>...</td>\n",
       "    </tr>\n",
       "    <tr>\n",
       "      <th>759</th>\n",
       "      <td>-2.095276</td>\n",
       "      <td>1.556205</td>\n",
       "      <td>-0.756072</td>\n",
       "      <td>140</td>\n",
       "      <td>20</td>\n",
       "      <td>1.0</td>\n",
       "    </tr>\n",
       "    <tr>\n",
       "      <th>760</th>\n",
       "      <td>-2.018273</td>\n",
       "      <td>-0.018412</td>\n",
       "      <td>0.093890</td>\n",
       "      <td>140</td>\n",
       "      <td>21</td>\n",
       "      <td>1.0</td>\n",
       "    </tr>\n",
       "    <tr>\n",
       "      <th>761</th>\n",
       "      <td>-2.613907</td>\n",
       "      <td>0.289425</td>\n",
       "      <td>-0.619470</td>\n",
       "      <td>140</td>\n",
       "      <td>22</td>\n",
       "      <td>1.0</td>\n",
       "    </tr>\n",
       "    <tr>\n",
       "      <th>762</th>\n",
       "      <td>-2.445426</td>\n",
       "      <td>0.935426</td>\n",
       "      <td>-0.755629</td>\n",
       "      <td>140</td>\n",
       "      <td>23</td>\n",
       "      <td>1.0</td>\n",
       "    </tr>\n",
       "    <tr>\n",
       "      <th>763</th>\n",
       "      <td>-1.874230</td>\n",
       "      <td>2.104498</td>\n",
       "      <td>-0.988100</td>\n",
       "      <td>140</td>\n",
       "      <td>24</td>\n",
       "      <td>1.0</td>\n",
       "    </tr>\n",
       "  </tbody>\n",
       "</table>\n",
       "<p>764 rows × 6 columns</p>\n",
       "</div>"
      ],
      "text/plain": [
       "          PC1       PC2       PC3  PACJENT_NR  BADANIE_NR  ZGON\n",
       "0    1.389841  3.615450 -0.445285           1           1   0.0\n",
       "1    3.318768 -0.660209  5.112773           1           2   0.0\n",
       "2    2.591719 -2.589547  3.661287           1           3   0.0\n",
       "3    1.344556  0.408562  1.443207           1           4   0.0\n",
       "4    1.948062 -0.602604  1.873868           1           5   0.0\n",
       "..        ...       ...       ...         ...         ...   ...\n",
       "759 -2.095276  1.556205 -0.756072         140          20   1.0\n",
       "760 -2.018273 -0.018412  0.093890         140          21   1.0\n",
       "761 -2.613907  0.289425 -0.619470         140          22   1.0\n",
       "762 -2.445426  0.935426 -0.755629         140          23   1.0\n",
       "763 -1.874230  2.104498 -0.988100         140          24   1.0\n",
       "\n",
       "[764 rows x 6 columns]"
      ]
     },
     "execution_count": 138,
     "metadata": {},
     "output_type": "execute_result"
    }
   ],
   "source": [
    "transformed_test_df = pd.DataFrame(components_test, columns=[f'PC{i+1}' for i in range(components.shape[1])])\n",
    "transformed_test_df[['PACJENT_NR', 'BADANIE_NR', 'ZGON']] = data27[['PACJENT_NR', 'BADANIE_NR', 'ZGON']]\n",
    "transformed_test_df"
   ]
  },
  {
   "cell_type": "markdown",
   "metadata": {},
   "source": [
    "### LDA z ostatnich wartości"
   ]
  },
  {
   "cell_type": "code",
   "execution_count": 142,
   "metadata": {},
   "outputs": [],
   "source": [
    "from sklearn.discriminant_analysis import LinearDiscriminantAnalysis\n",
    "from sklearn.metrics import accuracy_score, confusion_matrix"
   ]
  },
  {
   "cell_type": "code",
   "execution_count": 144,
   "metadata": {},
   "outputs": [],
   "source": [
    "X_train_data_lda=transformed_df.groupby(\"PACJENT_NR\").last()\n",
    "X_test_data_lda=transformed_test_df.groupby(\"PACJENT_NR\").last()"
   ]
  },
  {
   "cell_type": "code",
   "execution_count": 145,
   "metadata": {},
   "outputs": [
    {
     "name": "stdout",
     "output_type": "stream",
     "text": [
      "Accuracy: 0.5925925925925926\n",
      "Confusion Matrix:\n",
      "[[10  2]\n",
      " [ 9  6]]\n"
     ]
    }
   ],
   "source": [
    "# Definiowanie zmiennych niezależnych i celu\n",
    "X_train = X_train_data_lda.drop(columns=\"ZGON\")\n",
    "y_train = X_train_data_lda['ZGON']\n",
    "\n",
    "X_test = X_test_data_lda.drop(columns=\"ZGON\")\n",
    "y_test = X_test_data_lda['ZGON']\n",
    "\n",
    "# Tworzenie i trenowanie modelu LDA\n",
    "lda = LinearDiscriminantAnalysis()\n",
    "lda.fit(X_train, y_train)\n",
    "\n",
    "# Predykcje na zbiorze testowym\n",
    "y_pred = lda.predict(X_test)\n",
    "\n",
    "# Ocena modelu\n",
    "accuracy = accuracy_score(y_test, y_pred)\n",
    "conf_matrix = confusion_matrix(y_test, y_pred)\n",
    "\n",
    "print(f\"Accuracy: {accuracy}\")\n",
    "print(\"Confusion Matrix:\")\n",
    "print(conf_matrix)"
   ]
  }
 ],
 "metadata": {
  "kernelspec": {
   "display_name": "Python 3",
   "language": "python",
   "name": "python3"
  },
  "language_info": {
   "codemirror_mode": {
    "name": "ipython",
    "version": 3
   },
   "file_extension": ".py",
   "mimetype": "text/x-python",
   "name": "python",
   "nbconvert_exporter": "python",
   "pygments_lexer": "ipython3",
   "version": "3.9.8"
  }
 },
 "nbformat": 4,
 "nbformat_minor": 2
}
