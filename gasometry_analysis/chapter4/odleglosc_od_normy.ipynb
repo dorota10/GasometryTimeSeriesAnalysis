{
 "cells": [
  {
   "cell_type": "markdown",
   "metadata": {},
   "source": [
    "### Miara odległości od normy"
   ]
  },
  {
   "cell_type": "code",
   "execution_count": 1,
   "metadata": {},
   "outputs": [],
   "source": [
    "import pandas as pd\n",
    "import numpy as np\n",
    "import matplotlib.pyplot as plt\n",
    "import seaborn as sns\n",
    "from plotly.subplots import make_subplots\n",
    "from sklearn.decomposition import PCA\n",
    "from sklearn.model_selection import train_test_split\n",
    "import plotly.express as px\n",
    "from sklearn.discriminant_analysis import LinearDiscriminantAnalysis\n",
    "from sklearn.tree import DecisionTreeClassifier\n",
    "from sklearn.tree import plot_tree\n",
    "from sklearn.metrics import confusion_matrix\n",
    "from sklearn.tree import plot_tree\n",
    "from sklearn.ensemble import RandomForestClassifier\n",
    "import random\n",
    "import plotly.graph_objs as go"
   ]
  },
  {
   "cell_type": "code",
   "execution_count": 11,
   "metadata": {},
   "outputs": [],
   "source": [
    "df_prep = pd.read_csv(\"..\\chapter3\\gasometry_prepared_data.csv\")\n",
    "cols=[\"BETET\",\t\"CO2TET\", \"O2TET\", \"IONH\"]\n",
    "my_blue=\"#0064B2\";\n",
    "my_red=\"#D61600\";"
   ]
  },
  {
   "cell_type": "code",
   "execution_count": 14,
   "metadata": {},
   "outputs": [
    {
     "data": {
      "text/html": [
       "<div>\n",
       "<style scoped>\n",
       "    .dataframe tbody tr th:only-of-type {\n",
       "        vertical-align: middle;\n",
       "    }\n",
       "\n",
       "    .dataframe tbody tr th {\n",
       "        vertical-align: top;\n",
       "    }\n",
       "\n",
       "    .dataframe thead th {\n",
       "        text-align: right;\n",
       "    }\n",
       "</style>\n",
       "<table border=\"1\" class=\"dataframe\">\n",
       "  <thead>\n",
       "    <tr style=\"text-align: right;\">\n",
       "      <th></th>\n",
       "      <th>Unnamed: 0</th>\n",
       "      <th>PACJENT_NR</th>\n",
       "      <th>BADANIE_NR</th>\n",
       "      <th>BETET</th>\n",
       "      <th>CO2TET</th>\n",
       "      <th>HCO3ACTE</th>\n",
       "      <th>HCO3STTE</th>\n",
       "      <th>O2SATTET</th>\n",
       "      <th>O2TET</th>\n",
       "      <th>IONH</th>\n",
       "      <th>ZGON</th>\n",
       "    </tr>\n",
       "  </thead>\n",
       "  <tbody>\n",
       "    <tr>\n",
       "      <th>0</th>\n",
       "      <td>0</td>\n",
       "      <td>1</td>\n",
       "      <td>1</td>\n",
       "      <td>0.326087</td>\n",
       "      <td>2.21</td>\n",
       "      <td>0.850000</td>\n",
       "      <td>0.225</td>\n",
       "      <td>-2.48</td>\n",
       "      <td>-0.720</td>\n",
       "      <td>1.882698</td>\n",
       "      <td>0.0</td>\n",
       "    </tr>\n",
       "    <tr>\n",
       "      <th>1</th>\n",
       "      <td>1</td>\n",
       "      <td>1</td>\n",
       "      <td>2</td>\n",
       "      <td>0.086957</td>\n",
       "      <td>5.22</td>\n",
       "      <td>0.866667</td>\n",
       "      <td>0.200</td>\n",
       "      <td>0.86</td>\n",
       "      <td>4.880</td>\n",
       "      <td>3.297125</td>\n",
       "      <td>0.0</td>\n",
       "    </tr>\n",
       "    <tr>\n",
       "      <th>2</th>\n",
       "      <td>2</td>\n",
       "      <td>1</td>\n",
       "      <td>3</td>\n",
       "      <td>0.760870</td>\n",
       "      <td>3.10</td>\n",
       "      <td>1.250000</td>\n",
       "      <td>0.800</td>\n",
       "      <td>0.92</td>\n",
       "      <td>6.000</td>\n",
       "      <td>2.201643</td>\n",
       "      <td>0.0</td>\n",
       "    </tr>\n",
       "    <tr>\n",
       "      <th>3</th>\n",
       "      <td>3</td>\n",
       "      <td>1</td>\n",
       "      <td>4</td>\n",
       "      <td>0.869565</td>\n",
       "      <td>2.75</td>\n",
       "      <td>1.266667</td>\n",
       "      <td>0.675</td>\n",
       "      <td>0.62</td>\n",
       "      <td>1.440</td>\n",
       "      <td>1.882698</td>\n",
       "      <td>0.0</td>\n",
       "    </tr>\n",
       "    <tr>\n",
       "      <th>4</th>\n",
       "      <td>4</td>\n",
       "      <td>1</td>\n",
       "      <td>5</td>\n",
       "      <td>0.608696</td>\n",
       "      <td>2.61</td>\n",
       "      <td>1.083333</td>\n",
       "      <td>0.725</td>\n",
       "      <td>0.82</td>\n",
       "      <td>2.800</td>\n",
       "      <td>1.970160</td>\n",
       "      <td>0.0</td>\n",
       "    </tr>\n",
       "    <tr>\n",
       "      <th>...</th>\n",
       "      <td>...</td>\n",
       "      <td>...</td>\n",
       "      <td>...</td>\n",
       "      <td>...</td>\n",
       "      <td>...</td>\n",
       "      <td>...</td>\n",
       "      <td>...</td>\n",
       "      <td>...</td>\n",
       "      <td>...</td>\n",
       "      <td>...</td>\n",
       "      <td>...</td>\n",
       "    </tr>\n",
       "    <tr>\n",
       "      <th>2929</th>\n",
       "      <td>2929</td>\n",
       "      <td>145</td>\n",
       "      <td>5</td>\n",
       "      <td>-0.717391</td>\n",
       "      <td>1.63</td>\n",
       "      <td>0.133333</td>\n",
       "      <td>-0.350</td>\n",
       "      <td>0.18</td>\n",
       "      <td>0.420</td>\n",
       "      <td>2.294287</td>\n",
       "      <td>1.0</td>\n",
       "    </tr>\n",
       "    <tr>\n",
       "      <th>2930</th>\n",
       "      <td>2930</td>\n",
       "      <td>145</td>\n",
       "      <td>6</td>\n",
       "      <td>-0.891304</td>\n",
       "      <td>1.39</td>\n",
       "      <td>-0.016667</td>\n",
       "      <td>-0.450</td>\n",
       "      <td>0.76</td>\n",
       "      <td>1.640</td>\n",
       "      <td>2.254399</td>\n",
       "      <td>1.0</td>\n",
       "    </tr>\n",
       "    <tr>\n",
       "      <th>2931</th>\n",
       "      <td>2931</td>\n",
       "      <td>145</td>\n",
       "      <td>7</td>\n",
       "      <td>-1.065217</td>\n",
       "      <td>1.71</td>\n",
       "      <td>-0.050000</td>\n",
       "      <td>-0.650</td>\n",
       "      <td>-0.06</td>\n",
       "      <td>0.316</td>\n",
       "      <td>2.708690</td>\n",
       "      <td>1.0</td>\n",
       "    </tr>\n",
       "    <tr>\n",
       "      <th>2932</th>\n",
       "      <td>2932</td>\n",
       "      <td>145</td>\n",
       "      <td>8</td>\n",
       "      <td>-0.695652</td>\n",
       "      <td>1.15</td>\n",
       "      <td>0.066667</td>\n",
       "      <td>-0.275</td>\n",
       "      <td>0.62</td>\n",
       "      <td>1.600</td>\n",
       "      <td>1.857967</td>\n",
       "      <td>1.0</td>\n",
       "    </tr>\n",
       "    <tr>\n",
       "      <th>2933</th>\n",
       "      <td>2933</td>\n",
       "      <td>145</td>\n",
       "      <td>9</td>\n",
       "      <td>-0.978261</td>\n",
       "      <td>1.36</td>\n",
       "      <td>-0.066667</td>\n",
       "      <td>-0.550</td>\n",
       "      <td>-1.36</td>\n",
       "      <td>-0.660</td>\n",
       "      <td>2.294287</td>\n",
       "      <td>1.0</td>\n",
       "    </tr>\n",
       "  </tbody>\n",
       "</table>\n",
       "<p>2934 rows × 11 columns</p>\n",
       "</div>"
      ],
      "text/plain": [
       "      Unnamed: 0  PACJENT_NR  BADANIE_NR     BETET  CO2TET  HCO3ACTE  \\\n",
       "0              0           1           1  0.326087    2.21  0.850000   \n",
       "1              1           1           2  0.086957    5.22  0.866667   \n",
       "2              2           1           3  0.760870    3.10  1.250000   \n",
       "3              3           1           4  0.869565    2.75  1.266667   \n",
       "4              4           1           5  0.608696    2.61  1.083333   \n",
       "...          ...         ...         ...       ...     ...       ...   \n",
       "2929        2929         145           5 -0.717391    1.63  0.133333   \n",
       "2930        2930         145           6 -0.891304    1.39 -0.016667   \n",
       "2931        2931         145           7 -1.065217    1.71 -0.050000   \n",
       "2932        2932         145           8 -0.695652    1.15  0.066667   \n",
       "2933        2933         145           9 -0.978261    1.36 -0.066667   \n",
       "\n",
       "      HCO3STTE  O2SATTET  O2TET      IONH  ZGON  \n",
       "0        0.225     -2.48 -0.720  1.882698   0.0  \n",
       "1        0.200      0.86  4.880  3.297125   0.0  \n",
       "2        0.800      0.92  6.000  2.201643   0.0  \n",
       "3        0.675      0.62  1.440  1.882698   0.0  \n",
       "4        0.725      0.82  2.800  1.970160   0.0  \n",
       "...        ...       ...    ...       ...   ...  \n",
       "2929    -0.350      0.18  0.420  2.294287   1.0  \n",
       "2930    -0.450      0.76  1.640  2.254399   1.0  \n",
       "2931    -0.650     -0.06  0.316  2.708690   1.0  \n",
       "2932    -0.275      0.62  1.600  1.857967   1.0  \n",
       "2933    -0.550     -1.36 -0.660  2.294287   1.0  \n",
       "\n",
       "[2934 rows x 11 columns]"
      ]
     },
     "execution_count": 14,
     "metadata": {},
     "output_type": "execute_result"
    }
   ],
   "source": [
    "df_prep"
   ]
  },
  {
   "cell_type": "code",
   "execution_count": 18,
   "metadata": {},
   "outputs": [],
   "source": [
    "df_dist=df_prep[[\"PACJENT_NR\", \"BADANIE_NR\", \"ZGON\"]]"
   ]
  },
  {
   "cell_type": "code",
   "execution_count": 34,
   "metadata": {},
   "outputs": [
    {
     "name": "stderr",
     "output_type": "stream",
     "text": [
      "C:\\Users\\dorot\\AppData\\Local\\Temp\\ipykernel_38724\\2419190386.py:6: FutureWarning:\n",
      "\n",
      "DataFrame.applymap has been deprecated. Use DataFrame.map instead.\n",
      "\n",
      "C:\\Users\\dorot\\AppData\\Local\\Temp\\ipykernel_38724\\2419190386.py:7: FutureWarning:\n",
      "\n",
      "DataFrame.applymap has been deprecated. Use DataFrame.map instead.\n",
      "\n",
      "C:\\Users\\dorot\\AppData\\Local\\Temp\\ipykernel_38724\\2419190386.py:10: FutureWarning:\n",
      "\n",
      "DataFrame.applymap has been deprecated. Use DataFrame.map instead.\n",
      "\n",
      "C:\\Users\\dorot\\AppData\\Local\\Temp\\ipykernel_38724\\2419190386.py:11: FutureWarning:\n",
      "\n",
      "DataFrame.applymap has been deprecated. Use DataFrame.map instead.\n",
      "\n",
      "C:\\Users\\dorot\\AppData\\Local\\Temp\\ipykernel_38724\\2419190386.py:14: SettingWithCopyWarning:\n",
      "\n",
      "\n",
      "A value is trying to be set on a copy of a slice from a DataFrame.\n",
      "Try using .loc[row_indexer,col_indexer] = value instead\n",
      "\n",
      "See the caveats in the documentation: https://pandas.pydata.org/pandas-docs/stable/user_guide/indexing.html#returning-a-view-versus-a-copy\n",
      "\n",
      "C:\\Users\\dorot\\AppData\\Local\\Temp\\ipykernel_38724\\2419190386.py:15: SettingWithCopyWarning:\n",
      "\n",
      "\n",
      "A value is trying to be set on a copy of a slice from a DataFrame.\n",
      "Try using .loc[row_indexer,col_indexer] = value instead\n",
      "\n",
      "See the caveats in the documentation: https://pandas.pydata.org/pandas-docs/stable/user_guide/indexing.html#returning-a-view-versus-a-copy\n",
      "\n",
      "C:\\Users\\dorot\\AppData\\Local\\Temp\\ipykernel_38724\\2419190386.py:17: SettingWithCopyWarning:\n",
      "\n",
      "\n",
      "A value is trying to be set on a copy of a slice from a DataFrame.\n",
      "Try using .loc[row_indexer,col_indexer] = value instead\n",
      "\n",
      "See the caveats in the documentation: https://pandas.pydata.org/pandas-docs/stable/user_guide/indexing.html#returning-a-view-versus-a-copy\n",
      "\n",
      "C:\\Users\\dorot\\AppData\\Local\\Temp\\ipykernel_38724\\2419190386.py:18: SettingWithCopyWarning:\n",
      "\n",
      "\n",
      "A value is trying to be set on a copy of a slice from a DataFrame.\n",
      "Try using .loc[row_indexer,col_indexer] = value instead\n",
      "\n",
      "See the caveats in the documentation: https://pandas.pydata.org/pandas-docs/stable/user_guide/indexing.html#returning-a-view-versus-a-copy\n",
      "\n"
     ]
    }
   ],
   "source": [
    "df_miernik=df_prep.copy()\n",
    "vars1=[\"BETET\", \"O2TET\"]\n",
    "vars2=[\"IONH\", \"CO2TET\"]\n",
    "\n",
    "#wyliczenie wartości poza normą świadczące o zakwaszeniu organizmu\n",
    "df_miernik[[\"BETET_kw\", \"O2TET_kw\"]]=df_miernik[vars1].applymap(lambda x: 0 if x >= 0 else abs(x))\n",
    "df_miernik[[\"IONH_kw\", \"CO2TET_kw\"]]=df_miernik[vars2].applymap(lambda x: 0 if x <= 1 else x-1)\n",
    "\n",
    "#całe odchylenia\n",
    "df_miernik[[\"BETET_all\", \"O2TET_all\"]] = df_miernik[vars1].applymap(lambda x: 0 if (x >= 0) and (x <= 1) else (abs(x) if x < 0 else x - 1))\n",
    "df_miernik[[\"IONH_all\", \"CO2TET_all\"]] = df_miernik[vars2].applymap(lambda x: 0 if (x >= 0) and (x <= 1) else (abs(x) if x < 0 else x - 1))\n",
    "\n",
    "# Oblicz pierwiastek z sumy kwadratów elementów z każdego wiersza\n",
    "df_dist['euclidean_kw'] = np.sqrt((df_miernik[[\"BETET_kw\", \"O2TET_kw\", \"IONH_kw\", \"CO2TET_kw\"]]**2).sum(axis=1))\n",
    "df_dist['euclidean_kw_skum']=df_dist.groupby('PACJENT_NR')['euclidean_norm'].cumsum()\n",
    "\n",
    "df_dist['euclidean_all'] = np.sqrt((df_miernik[[\"BETET_all\", \"O2TET_all\", \"IONH_all\", \"CO2TET_all\"]]**2).sum(axis=1))\n",
    "df_dist['euclidean_all_skum']=df_dist.groupby('PACJENT_NR')['euclidean_all'].cumsum()"
   ]
  },
  {
   "cell_type": "code",
   "execution_count": 56,
   "metadata": {},
   "outputs": [
    {
     "data": {
      "text/html": [
       "<div>\n",
       "<style scoped>\n",
       "    .dataframe tbody tr th:only-of-type {\n",
       "        vertical-align: middle;\n",
       "    }\n",
       "\n",
       "    .dataframe tbody tr th {\n",
       "        vertical-align: top;\n",
       "    }\n",
       "\n",
       "    .dataframe thead th {\n",
       "        text-align: right;\n",
       "    }\n",
       "</style>\n",
       "<table border=\"1\" class=\"dataframe\">\n",
       "  <thead>\n",
       "    <tr style=\"text-align: right;\">\n",
       "      <th></th>\n",
       "      <th>PACJENT_NR</th>\n",
       "      <th>BADANIE_NR</th>\n",
       "      <th>ZGON</th>\n",
       "      <th>euclidean_norm_kw</th>\n",
       "      <th>euclidean_norm</th>\n",
       "      <th>euclidean_kw</th>\n",
       "      <th>euclidean_kw_skum</th>\n",
       "      <th>euclidean_all</th>\n",
       "      <th>euclidean_all_skum</th>\n",
       "    </tr>\n",
       "  </thead>\n",
       "  <tbody>\n",
       "    <tr>\n",
       "      <th>0</th>\n",
       "      <td>1</td>\n",
       "      <td>1</td>\n",
       "      <td>0.0</td>\n",
       "      <td>1.661823</td>\n",
       "      <td>1.661823</td>\n",
       "      <td>1.661823</td>\n",
       "      <td>1.661823</td>\n",
       "      <td>1.661823</td>\n",
       "      <td>1.661823</td>\n",
       "    </tr>\n",
       "    <tr>\n",
       "      <th>1</th>\n",
       "      <td>1</td>\n",
       "      <td>2</td>\n",
       "      <td>0.0</td>\n",
       "      <td>6.466527</td>\n",
       "      <td>4.804704</td>\n",
       "      <td>4.804704</td>\n",
       "      <td>6.466527</td>\n",
       "      <td>6.175725</td>\n",
       "      <td>7.837548</td>\n",
       "    </tr>\n",
       "    <tr>\n",
       "      <th>2</th>\n",
       "      <td>1</td>\n",
       "      <td>3</td>\n",
       "      <td>0.0</td>\n",
       "      <td>8.886020</td>\n",
       "      <td>2.419493</td>\n",
       "      <td>2.419493</td>\n",
       "      <td>8.886020</td>\n",
       "      <td>5.554633</td>\n",
       "      <td>13.392181</td>\n",
       "    </tr>\n",
       "    <tr>\n",
       "      <th>3</th>\n",
       "      <td>1</td>\n",
       "      <td>4</td>\n",
       "      <td>0.0</td>\n",
       "      <td>10.846034</td>\n",
       "      <td>1.960014</td>\n",
       "      <td>1.960014</td>\n",
       "      <td>10.846034</td>\n",
       "      <td>2.008795</td>\n",
       "      <td>15.400976</td>\n",
       "    </tr>\n",
       "    <tr>\n",
       "      <th>4</th>\n",
       "      <td>1</td>\n",
       "      <td>5</td>\n",
       "      <td>0.0</td>\n",
       "      <td>12.725744</td>\n",
       "      <td>1.879710</td>\n",
       "      <td>1.879710</td>\n",
       "      <td>12.725744</td>\n",
       "      <td>2.602558</td>\n",
       "      <td>18.003534</td>\n",
       "    </tr>\n",
       "    <tr>\n",
       "      <th>...</th>\n",
       "      <td>...</td>\n",
       "      <td>...</td>\n",
       "      <td>...</td>\n",
       "      <td>...</td>\n",
       "      <td>...</td>\n",
       "      <td>...</td>\n",
       "      <td>...</td>\n",
       "      <td>...</td>\n",
       "      <td>...</td>\n",
       "    </tr>\n",
       "    <tr>\n",
       "      <th>2929</th>\n",
       "      <td>145</td>\n",
       "      <td>5</td>\n",
       "      <td>1.0</td>\n",
       "      <td>6.170188</td>\n",
       "      <td>1.608331</td>\n",
       "      <td>1.608331</td>\n",
       "      <td>6.170188</td>\n",
       "      <td>1.608331</td>\n",
       "      <td>6.433502</td>\n",
       "    </tr>\n",
       "    <tr>\n",
       "      <th>2930</th>\n",
       "      <td>145</td>\n",
       "      <td>6</td>\n",
       "      <td>1.0</td>\n",
       "      <td>7.757652</td>\n",
       "      <td>1.587464</td>\n",
       "      <td>1.587464</td>\n",
       "      <td>7.757652</td>\n",
       "      <td>1.711619</td>\n",
       "      <td>8.145122</td>\n",
       "    </tr>\n",
       "    <tr>\n",
       "      <th>2931</th>\n",
       "      <td>145</td>\n",
       "      <td>7</td>\n",
       "      <td>1.0</td>\n",
       "      <td>9.892696</td>\n",
       "      <td>2.135044</td>\n",
       "      <td>2.135044</td>\n",
       "      <td>9.892696</td>\n",
       "      <td>2.135044</td>\n",
       "      <td>10.280165</td>\n",
       "    </tr>\n",
       "    <tr>\n",
       "      <th>2932</th>\n",
       "      <td>145</td>\n",
       "      <td>8</td>\n",
       "      <td>1.0</td>\n",
       "      <td>11.007388</td>\n",
       "      <td>1.114692</td>\n",
       "      <td>1.114692</td>\n",
       "      <td>11.007388</td>\n",
       "      <td>1.265914</td>\n",
       "      <td>11.546080</td>\n",
       "    </tr>\n",
       "    <tr>\n",
       "      <th>2933</th>\n",
       "      <td>145</td>\n",
       "      <td>9</td>\n",
       "      <td>1.0</td>\n",
       "      <td>12.795508</td>\n",
       "      <td>1.788120</td>\n",
       "      <td>1.788120</td>\n",
       "      <td>12.795508</td>\n",
       "      <td>1.788120</td>\n",
       "      <td>13.334200</td>\n",
       "    </tr>\n",
       "  </tbody>\n",
       "</table>\n",
       "<p>2934 rows × 9 columns</p>\n",
       "</div>"
      ],
      "text/plain": [
       "      PACJENT_NR  BADANIE_NR  ZGON  euclidean_norm_kw  euclidean_norm  \\\n",
       "0              1           1   0.0           1.661823        1.661823   \n",
       "1              1           2   0.0           6.466527        4.804704   \n",
       "2              1           3   0.0           8.886020        2.419493   \n",
       "3              1           4   0.0          10.846034        1.960014   \n",
       "4              1           5   0.0          12.725744        1.879710   \n",
       "...          ...         ...   ...                ...             ...   \n",
       "2929         145           5   1.0           6.170188        1.608331   \n",
       "2930         145           6   1.0           7.757652        1.587464   \n",
       "2931         145           7   1.0           9.892696        2.135044   \n",
       "2932         145           8   1.0          11.007388        1.114692   \n",
       "2933         145           9   1.0          12.795508        1.788120   \n",
       "\n",
       "      euclidean_kw  euclidean_kw_skum  euclidean_all  euclidean_all_skum  \n",
       "0         1.661823           1.661823       1.661823            1.661823  \n",
       "1         4.804704           6.466527       6.175725            7.837548  \n",
       "2         2.419493           8.886020       5.554633           13.392181  \n",
       "3         1.960014          10.846034       2.008795           15.400976  \n",
       "4         1.879710          12.725744       2.602558           18.003534  \n",
       "...            ...                ...            ...                 ...  \n",
       "2929      1.608331           6.170188       1.608331            6.433502  \n",
       "2930      1.587464           7.757652       1.711619            8.145122  \n",
       "2931      2.135044           9.892696       2.135044           10.280165  \n",
       "2932      1.114692          11.007388       1.265914           11.546080  \n",
       "2933      1.788120          12.795508       1.788120           13.334200  \n",
       "\n",
       "[2934 rows x 9 columns]"
      ]
     },
     "execution_count": 56,
     "metadata": {},
     "output_type": "execute_result"
    }
   ],
   "source": [
    "df_dist"
   ]
  },
  {
   "cell_type": "code",
   "execution_count": 54,
   "metadata": {},
   "outputs": [
    {
     "data": {
      "application/vnd.plotly.v1+json": {
       "config": {
        "plotlyServerURL": "https://plot.ly"
       },
       "data": [
        {
         "hovertemplate": "Pacjent=1<br>BADANIE_NR=%{x}<br>euclidean_all=%{y}<extra></extra>",
         "legendgroup": "1",
         "line": {
          "color": "#636efa",
          "dash": "solid"
         },
         "marker": {
          "symbol": "circle"
         },
         "mode": "lines",
         "name": "1",
         "showlegend": true,
         "type": "scattergl",
         "x": [
          1,
          2,
          3,
          4,
          5,
          6,
          7,
          8,
          9,
          10,
          11,
          12,
          13,
          14,
          15,
          16,
          17,
          18,
          19,
          20,
          21,
          22,
          23,
          24,
          25,
          26,
          27,
          28,
          29,
          30,
          31,
          32,
          33,
          34,
          35,
          36,
          37,
          38,
          39,
          40,
          41,
          42,
          43,
          44,
          45,
          46,
          47,
          48,
          49,
          50
         ],
         "xaxis": "x",
         "y": [
          1.6618229299619383,
          6.1757254455513335,
          5.554632772135001,
          2.008794526711799,
          2.6025583001393953,
          5.229903665159208,
          2.4211920777800193,
          3.1309009314767717,
          3.1633568349189387,
          4.445533730418633,
          5.01648254628428,
          5.572612695536096,
          5.561982390018056,
          5.282456011780344,
          4.264010318417991,
          4.282509742998806,
          4.000125935046025,
          2.7297793345729096,
          2.8225017622825788,
          2.960951402969837,
          3.4340951398397768,
          2.7250177739959853,
          3.015777340400812,
          2.3395187377174373,
          2.1981590940253857,
          2.5403341603486953,
          2.6964855583149205,
          2.2170709060935567,
          2.5797750521064238,
          2.956111165166562,
          3.5701527653920824,
          2.9824950827172256,
          2.450715583935831,
          2.3739626941773833,
          2.137217064103124,
          2.2393764474393176,
          1.2322629384360657,
          2.3029853051398272,
          2.5529546246829344,
          2.813931015853956,
          2.645619020191683,
          3.6459885080101198,
          2.6264621456717214,
          2.592156884852841,
          2.0790424671805687,
          1.544355904796731,
          1.960452524821602,
          1.7260685294121845,
          1.866008768976695,
          1.378924884621752
         ],
         "yaxis": "y"
        },
        {
         "hovertemplate": "Pacjent=2<br>BADANIE_NR=%{x}<br>euclidean_all=%{y}<extra></extra>",
         "legendgroup": "2",
         "line": {
          "color": "#EF553B",
          "dash": "solid"
         },
         "marker": {
          "symbol": "circle"
         },
         "mode": "lines",
         "name": "2",
         "showlegend": true,
         "type": "scattergl",
         "x": [
          1,
          2,
          3,
          4,
          5,
          6,
          7,
          8,
          9,
          10
         ],
         "xaxis": "x",
         "y": [
          2.719580314954164,
          2.139120422838665,
          3.0443613751572163,
          2.6775034094264907,
          1.2378884346857515,
          1.7990974357937364,
          1.7197021327342752,
          1.7331977614084404,
          1.6798488207250954,
          2.2919012907570755
         ],
         "yaxis": "y"
        },
        {
         "hovertemplate": "Pacjent=3<br>BADANIE_NR=%{x}<br>euclidean_all=%{y}<extra></extra>",
         "legendgroup": "3",
         "line": {
          "color": "#00cc96",
          "dash": "solid"
         },
         "marker": {
          "symbol": "circle"
         },
         "mode": "lines",
         "name": "3",
         "showlegend": true,
         "type": "scattergl",
         "x": [
          1,
          2,
          3,
          4,
          5,
          6,
          7,
          8,
          9,
          10,
          11,
          12,
          13,
          14,
          15,
          16,
          17,
          18,
          19,
          20,
          21,
          22,
          23,
          24,
          25,
          26,
          27,
          28,
          29,
          30,
          31,
          32,
          33,
          34,
          35,
          36,
          37,
          38,
          39,
          40,
          41
         ],
         "xaxis": "x",
         "y": [
          1.2224445593280724,
          3.2071564306267315,
          3.09981151448452,
          2.174165028874034,
          2.224194829357671,
          2.2516770998113262,
          3.620793548169609,
          3.277035777318019,
          2.6285120456237294,
          3.0827030117762395,
          3.295332723147728,
          2.1954685771884628,
          2.1308828277755882,
          1.8810983498717868,
          1.6996784524761634,
          1.347711927844258,
          1.2132363527964358,
          1.5784354053690304,
          2.2182407531926778,
          1.237718848151689,
          1.8720389682566727,
          0.41605878783392797,
          3.550594641216903,
          0.8936293661131328,
          1.3743750812277706,
          1.6556792071561883,
          2.2626923901148515,
          0.6749167504498663,
          0.6516990096999198,
          1.0877147353029322,
          1.928680040709939,
          0.4258439768595996,
          2.4181157954076564,
          0.8405967994264844,
          1.4324420559268731,
          0.5052034156097623,
          1.1531562291707658,
          0.5434782608695652,
          2.253064393371954,
          2.200238687859541,
          1.5655895692782613
         ],
         "yaxis": "y"
        },
        {
         "hovertemplate": "Pacjent=4<br>BADANIE_NR=%{x}<br>euclidean_all=%{y}<extra></extra>",
         "legendgroup": "4",
         "line": {
          "color": "#ab63fa",
          "dash": "solid"
         },
         "marker": {
          "symbol": "circle"
         },
         "mode": "lines",
         "name": "4",
         "showlegend": true,
         "type": "scattergl",
         "x": [
          1,
          2,
          3,
          4,
          5,
          6,
          7,
          8,
          9,
          10,
          11,
          12,
          13,
          14,
          15,
          16,
          17,
          18,
          19,
          20,
          21,
          22,
          23,
          24,
          25,
          26,
          27,
          28,
          29,
          30,
          31,
          32,
          33,
          34
         ],
         "xaxis": "x",
         "y": [
          0.6550019841526099,
          1.7529950493093027,
          5.150738166489862,
          3.6119950896796107,
          3.37168664268083,
          1.7237174470793424,
          2.557464046813754,
          1.5711990623207182,
          1.3676927484958514,
          1.3191792755340013,
          1.5042131480091536,
          1.3034483963590604,
          0.5974640103276073,
          1.3195706062705053,
          0.5897077829316506,
          0.10821940768199256,
          0.04347826086956519,
          0.567062654104084,
          0.7407502308544086,
          3.421028656227747,
          0,
          0,
          0.021739130434782483,
          0.9084580342536468,
          0.6048847527915908,
          1.345727679275226,
          2.3559240792170617,
          1.7309008873599945,
          2.5451731818878263,
          1.9900360969833655,
          1.41912447782211,
          0.7317572138611323,
          2.680694152971752,
          0.16308280105516937
         ],
         "yaxis": "y"
        },
        {
         "hovertemplate": "Pacjent=6<br>BADANIE_NR=%{x}<br>euclidean_all=%{y}<extra></extra>",
         "legendgroup": "6",
         "line": {
          "color": "#FFA15A",
          "dash": "solid"
         },
         "marker": {
          "symbol": "circle"
         },
         "mode": "lines",
         "name": "6",
         "showlegend": true,
         "type": "scattergl",
         "x": [
          1,
          2,
          3,
          4,
          5,
          6,
          7,
          8
         ],
         "xaxis": "x",
         "y": [
          1.5617964927663708,
          1.004,
          0.74,
          1.8286705553488851,
          0.6240000000000001,
          0.15969971822141718,
          0.9325954960046943,
          0
         ],
         "yaxis": "y"
        },
        {
         "hovertemplate": "Pacjent=8<br>BADANIE_NR=%{x}<br>euclidean_all=%{y}<extra></extra>",
         "legendgroup": "8",
         "line": {
          "color": "#19d3f3",
          "dash": "solid"
         },
         "marker": {
          "symbol": "circle"
         },
         "mode": "lines",
         "name": "8",
         "showlegend": true,
         "type": "scattergl",
         "x": [
          1,
          2,
          3,
          4,
          5,
          6,
          7,
          8,
          9,
          10
         ],
         "xaxis": "x",
         "y": [
          0,
          2.001386477831904,
          0.8838913033785349,
          1.034122306576934,
          1.2275711029730387,
          0.3913043478260869,
          2.441107616836141,
          4.5727413741494525,
          2.3038478883441065,
          2.0919220347856964
         ],
         "yaxis": "y"
        },
        {
         "hovertemplate": "Pacjent=10<br>BADANIE_NR=%{x}<br>euclidean_all=%{y}<extra></extra>",
         "legendgroup": "10",
         "line": {
          "color": "#FF6692",
          "dash": "solid"
         },
         "marker": {
          "symbol": "circle"
         },
         "mode": "lines",
         "name": "10",
         "showlegend": true,
         "type": "scattergl",
         "x": [
          1,
          2,
          3,
          4,
          5,
          6,
          7,
          8,
          9,
          10,
          11,
          12,
          13,
          14,
          15,
          16,
          17,
          18,
          19,
          20,
          21,
          22,
          23,
          24
         ],
         "xaxis": "x",
         "y": [
          0.3898678753617315,
          1.326669926801265,
          2.0807672450896346,
          2.542287300228976,
          3.372691139695093,
          1.368449021492838,
          0.370559521761676,
          0.48410329476259484,
          0.33285185769083775,
          1.4360169312138509,
          1.1741381105828483,
          0.39793163203164617,
          0.47691919318077,
          0.43333185214070874,
          0.6710412637108988,
          2.252131478148625,
          1.4877130495932962,
          1.2597042764796405,
          2.136404140023433,
          1.0041443096720735,
          0.2638668448842101,
          0.088070883780712,
          0.15167004309255444,
          1.5241550412579623
         ],
         "yaxis": "y"
        },
        {
         "hovertemplate": "Pacjent=16<br>BADANIE_NR=%{x}<br>euclidean_all=%{y}<extra></extra>",
         "legendgroup": "16",
         "line": {
          "color": "#B6E880",
          "dash": "solid"
         },
         "marker": {
          "symbol": "circle"
         },
         "mode": "lines",
         "name": "16",
         "showlegend": true,
         "type": "scattergl",
         "x": [
          1,
          2,
          3,
          4,
          5,
          6,
          7,
          8,
          9,
          10,
          11,
          12,
          13,
          14,
          15,
          16,
          17,
          18,
          19,
          20,
          21,
          22,
          23,
          24,
          25,
          26
         ],
         "xaxis": "x",
         "y": [
          1.189853159545488,
          1.3147010142781488,
          3.2720678435655395,
          1.9671956439885951,
          0.5700000000000005,
          1.0599855289008502,
          0.8288398067967133,
          1.6207842508803267,
          1.2969943908535158,
          1.7022263304717233,
          1.2121493510080918,
          2.0390668850762954,
          1.233884854290867,
          1.325271381417609,
          1.038852154842992,
          2.8905515855644355,
          2.0371038413619207,
          2.7111432866237295,
          1.4543282639874988,
          3.587483492252385,
          3.150394820277212,
          3.5638631839551382,
          2.44991632124373,
          3.0829635522740593,
          0.4516645796552144,
          2.7367660754958356
         ],
         "yaxis": "y"
        },
        {
         "hovertemplate": "Pacjent=17<br>BADANIE_NR=%{x}<br>euclidean_all=%{y}<extra></extra>",
         "legendgroup": "17",
         "line": {
          "color": "#FF97FF",
          "dash": "solid"
         },
         "marker": {
          "symbol": "circle"
         },
         "mode": "lines",
         "name": "17",
         "showlegend": true,
         "type": "scattergl",
         "x": [
          1,
          2,
          3,
          4,
          5,
          6,
          7,
          8,
          9,
          10,
          11,
          12,
          13,
          14,
          15,
          16,
          17,
          18
         ],
         "xaxis": "x",
         "y": [
          0.2917807395973903,
          0.3752385907659285,
          2.022076675837305,
          1.2270368080286493,
          1.940603877617425,
          1.5215038793215772,
          2.835127154308323,
          3.238576666990812,
          3.9298254568384534,
          4.117827923225182,
          3.7651156842963553,
          2.8852251907476814,
          2.4953680932088793,
          1.6209924933107716,
          1.473411547362685,
          2.530927270428477,
          1.0291271982462284,
          1.0609684059443518
         ],
         "yaxis": "y"
        },
        {
         "hovertemplate": "Pacjent=18<br>BADANIE_NR=%{x}<br>euclidean_all=%{y}<extra></extra>",
         "legendgroup": "18",
         "line": {
          "color": "#FECB52",
          "dash": "solid"
         },
         "marker": {
          "symbol": "circle"
         },
         "mode": "lines",
         "name": "18",
         "showlegend": true,
         "type": "scattergl",
         "x": [
          1,
          2,
          3,
          4,
          5,
          6,
          7,
          8,
          9,
          10,
          11,
          12,
          13,
          14,
          15,
          16,
          17,
          18,
          19,
          20,
          21,
          22,
          23,
          24,
          25,
          26,
          27,
          28,
          29,
          30,
          31,
          32,
          33,
          34,
          35
         ],
         "xaxis": "x",
         "y": [
          4.915364973387914,
          3.2698334901967256,
          3.2415247934833826,
          2.477299354284265,
          1.0930575523980626,
          1.263258797780618,
          1.5188311494341604,
          1.1863736871322832,
          1.594664316887374,
          3.4600152379463194,
          2.118012595165,
          1.7120806296464475,
          0.4653002215921066,
          0.9157230442989764,
          0.7875953256434588,
          0.38286157650969055,
          1.5670530298900904,
          2.1383247913969683,
          2.006865020691661,
          2.56817847787517,
          1.3464866381046652,
          1.4380819425287543,
          1.8894641737539886,
          0.97429740042196,
          3.2980962275198995,
          2.856523746814191,
          2.685594757076841,
          0.5978674801139306,
          0.816141667018215,
          1.671677187385591,
          3.758955971965964,
          0.41633869114896793,
          2.9412714444142134,
          1.090910397528146,
          3.0218498281265753
         ],
         "yaxis": "y"
        },
        {
         "hovertemplate": "Pacjent=19<br>BADANIE_NR=%{x}<br>euclidean_all=%{y}<extra></extra>",
         "legendgroup": "19",
         "line": {
          "color": "#636efa",
          "dash": "solid"
         },
         "marker": {
          "symbol": "circle"
         },
         "mode": "lines",
         "name": "19",
         "showlegend": true,
         "type": "scattergl",
         "x": [
          1,
          2,
          3,
          4,
          5,
          6,
          7,
          8,
          9,
          10,
          11,
          12,
          13,
          14,
          15,
          16,
          17,
          18,
          19,
          20,
          21,
          22,
          23,
          24,
          25,
          26,
          27,
          28,
          29,
          30,
          31,
          32
         ],
         "xaxis": "x",
         "y": [
          0.7323086780859556,
          0.056500692366616,
          0.1426238575704545,
          0.22500062044454705,
          0.11725555527948009,
          3.0024858620250936,
          1.2478041595712333,
          0.4277095882845386,
          0.531962100132719,
          1.392,
          2.4227683791885855,
          0.7833825087195626,
          0.6617745263892993,
          0.4424301197447933,
          0.25,
          0.1799999999999997,
          0.8203721088478236,
          0.585631518240079,
          0.45973677876327895,
          0.4237550936442733,
          1.2650082002468885,
          0.43,
          0.7794029511357208,
          2.1942798363016514,
          0.0600000000000001,
          0.41282012078985103,
          0.34598187474270187,
          0.27993480827209327,
          0.4366146856767557,
          0.33189829853422814,
          0.6421513269968465,
          1.4325585502868639
         ],
         "yaxis": "y"
        },
        {
         "hovertemplate": "Pacjent=26<br>BADANIE_NR=%{x}<br>euclidean_all=%{y}<extra></extra>",
         "legendgroup": "26",
         "line": {
          "color": "#EF553B",
          "dash": "solid"
         },
         "marker": {
          "symbol": "circle"
         },
         "mode": "lines",
         "name": "26",
         "showlegend": true,
         "type": "scattergl",
         "x": [
          1,
          2,
          3,
          4,
          5,
          6,
          7,
          8,
          9,
          10,
          11,
          12,
          13,
          14,
          15,
          16
         ],
         "xaxis": "x",
         "y": [
          2.9791207869312677,
          4.405154199593003,
          6.3782557228220975,
          7.8806481770439545,
          5.058889644895458,
          5.095661463697048,
          3.9720000000000004,
          1.7210738196334285,
          0.2997793769728384,
          0.5252310680626417,
          4.39046122254734,
          3.2064708894167113,
          3.525260861822834,
          0.6521739130434785,
          0.9800916627013957,
          0.5115780471234833
         ],
         "yaxis": "y"
        },
        {
         "hovertemplate": "Pacjent=28<br>BADANIE_NR=%{x}<br>euclidean_all=%{y}<extra></extra>",
         "legendgroup": "28",
         "line": {
          "color": "#00cc96",
          "dash": "solid"
         },
         "marker": {
          "symbol": "circle"
         },
         "mode": "lines",
         "name": "28",
         "showlegend": true,
         "type": "scattergl",
         "x": [
          1,
          2,
          3,
          4,
          5,
          6,
          7,
          8,
          9,
          10,
          11,
          12,
          13,
          14,
          15,
          16,
          17,
          18,
          19,
          20,
          21,
          22,
          23,
          24,
          25,
          26,
          27,
          28,
          29,
          30,
          31,
          32,
          33,
          34,
          35,
          36,
          37,
          38,
          39,
          40
         ],
         "xaxis": "x",
         "y": [
          2.719037060131222,
          0.33072042573751015,
          0.4901815633409915,
          0.5661372336786347,
          0.9546566458276056,
          0.9968788863586403,
          1.024,
          1.321300664888484,
          1.4904598673755323,
          1.0031948963187562,
          1.3511042882514912,
          1.6534430328322363,
          1.43771873489933,
          0.9461548888654586,
          1.2996865261141133,
          1.6039161078146738,
          2.2391589698477254,
          2.07915238385958,
          1.709212300160381,
          2.1685907494428758,
          2.6476466675929102,
          2.67714017042153,
          2.036118522812805,
          1.462672347785185,
          1.5640152388313824,
          1.5840738559475092,
          2.1052116444797018,
          1.663578661827831,
          2.4016006320851924,
          3.1673697841768407,
          2.3507464841098447,
          2.516587536160008,
          1.9324500876839703,
          1.7674563647926005,
          1.5030205056592887,
          2.7916720764332212,
          0.9575482504427787,
          0.7453281707430136,
          1.4447685027101516,
          0.8491712348643757
         ],
         "yaxis": "y"
        },
        {
         "hovertemplate": "Pacjent=29<br>BADANIE_NR=%{x}<br>euclidean_all=%{y}<extra></extra>",
         "legendgroup": "29",
         "line": {
          "color": "#ab63fa",
          "dash": "solid"
         },
         "marker": {
          "symbol": "circle"
         },
         "mode": "lines",
         "name": "29",
         "showlegend": true,
         "type": "scattergl",
         "x": [
          1,
          2,
          3,
          4,
          5,
          6,
          7,
          8,
          9,
          10,
          11,
          12,
          13,
          14,
          15,
          16,
          17,
          18,
          19,
          20,
          21,
          22,
          23,
          24,
          25,
          26,
          27,
          28,
          29,
          30,
          31,
          32
         ],
         "xaxis": "x",
         "y": [
          4.441369883415752,
          3.984579872138845,
          2.5560978785865887,
          2.095168597165221,
          1.435599016321289,
          1.365818328457634,
          1.1238477821436104,
          1.2207669379632609,
          1.8872205966288798,
          2.111247024864689,
          2.5747155564445086,
          2.8465055132041157,
          3.320181169428487,
          2.6580535858488448,
          3.014382317514431,
          3.424689202533155,
          2.9759816176844502,
          2.02575272481105,
          2.608274737342802,
          1.5728671903526097,
          1.2489372310479763,
          0.7842042913108783,
          0.43748627817110713,
          0.939014666909963,
          0.6988797456086834,
          0.39877538777222044,
          0,
          0.1362714414234905,
          0.7152152786649908,
          0.7526387358696223,
          0.7123417331600841,
          0.0039999999999997
         ],
         "yaxis": "y"
        },
        {
         "hovertemplate": "Pacjent=33<br>BADANIE_NR=%{x}<br>euclidean_all=%{y}<extra></extra>",
         "legendgroup": "33",
         "line": {
          "color": "#FFA15A",
          "dash": "solid"
         },
         "marker": {
          "symbol": "circle"
         },
         "mode": "lines",
         "name": "33",
         "showlegend": true,
         "type": "scattergl",
         "x": [
          1,
          2,
          3,
          4,
          5,
          6,
          7,
          8,
          9,
          10,
          11,
          12,
          13,
          14,
          15,
          16,
          17,
          18,
          19,
          20,
          21,
          22,
          23,
          24,
          25,
          26,
          27,
          28,
          29,
          30,
          31,
          32,
          33,
          34,
          35,
          36,
          37,
          38,
          39,
          40,
          41,
          42,
          43,
          44,
          45,
          46,
          47,
          48,
          49,
          50,
          51
         ],
         "xaxis": "x",
         "y": [
          6.639157056928334,
          5.885505174095472,
          4.5358852681098965,
          2.4017098760929674,
          0.5110121910065138,
          1.9273087851677244,
          2.274441987430811,
          1.8967699636213218,
          2.1668454405863953,
          2.6251244997030905,
          2.1859780419757193,
          3.2356269351574003,
          2.4379537873362462,
          3.1752836826066995,
          2.480178396230129,
          2.3265204894652665,
          2.268473560545952,
          2.348279706581025,
          2.493939724555597,
          2.389496195446423,
          3.118162205330628,
          3.0930376110736306,
          4.111116954298501,
          3.0691212882585126,
          4.242440091287838,
          3.743109636953386,
          3.4465935578653735,
          1.7207850342839168,
          2.4785611244504446,
          1.9151223882077997,
          0.5863178489844969,
          1.4921431434954655,
          0.8507854882812376,
          1.2611694545915342,
          1.6936775927784413,
          1.4151745802647815,
          2.3823273794571462,
          2.484839599179069,
          2.5621121957462525,
          2.0925668592643567,
          1.9980990966416057,
          1.9193633258347798,
          2.6289211764109703,
          1.2938862345282531,
          1.782440554106222,
          1.295277447999766,
          1.9964931921152578,
          1.9877935635819355,
          2.041132835319096,
          1.994644483675497,
          1.8061790100256092
         ],
         "yaxis": "y"
        },
        {
         "hovertemplate": "Pacjent=39<br>BADANIE_NR=%{x}<br>euclidean_all=%{y}<extra></extra>",
         "legendgroup": "39",
         "line": {
          "color": "#19d3f3",
          "dash": "solid"
         },
         "marker": {
          "symbol": "circle"
         },
         "mode": "lines",
         "name": "39",
         "showlegend": true,
         "type": "scattergl",
         "x": [
          1,
          2,
          3,
          4,
          5,
          6,
          7,
          8,
          9,
          10,
          11,
          12,
          13,
          14,
          15,
          16,
          17,
          18,
          19,
          20,
          21,
          22,
          23,
          24,
          25,
          26,
          27,
          28,
          29,
          30,
          31,
          32,
          33,
          34,
          35
         ],
         "xaxis": "x",
         "y": [
          2.785672545999699,
          3.4322544815053284,
          6.348663639658475,
          1.9550678835446955,
          2.1096901879028542,
          3.3752622987648024,
          2.3326334959713013,
          2.8493469692726956,
          3.421979051132681,
          4.026044155092237,
          2.7033008248651216,
          2.607692705752933,
          3.2000598954697037,
          3.434830076722083,
          2.3132609749283377,
          1.9089665953258943,
          1.3596647160365936,
          0.9314058044612853,
          1.4771953320902889,
          0.8349119729003137,
          0.6769850764206001,
          0.45652173913043503,
          0.23913043478260865,
          0.1521739130434785,
          0.28260869565217406,
          3.950340912898524,
          0.5096748098701476,
          0.6549022055406885,
          0.1798810226015036,
          1.1167384945652674,
          0.0485626066414354,
          0.17991214352974338,
          0.21919184914458592,
          1.1474240534397464,
          0.20000000000000007
         ],
         "yaxis": "y"
        },
        {
         "hovertemplate": "Pacjent=44<br>BADANIE_NR=%{x}<br>euclidean_all=%{y}<extra></extra>",
         "legendgroup": "44",
         "line": {
          "color": "#FF6692",
          "dash": "solid"
         },
         "marker": {
          "symbol": "circle"
         },
         "mode": "lines",
         "name": "44",
         "showlegend": true,
         "type": "scattergl",
         "x": [
          1,
          2,
          3,
          4,
          5,
          6,
          7,
          8,
          9,
          10,
          11,
          12,
          13,
          14,
          15,
          16,
          17,
          18,
          19,
          20,
          21,
          22,
          23,
          24,
          25,
          26
         ],
         "xaxis": "x",
         "y": [
          0.6112806229547932,
          4.016407695884815,
          7.127749735455018,
          6.424154814259966,
          4.256799809720656,
          1.3128157015219508,
          1.7031955742833556,
          1.6454487515282528,
          1.7770164966668762,
          3.151157972504172,
          3.0517968791760657,
          3.2924559756520373,
          3.416037245849108,
          1.9367540082773953,
          2.7842394963039423,
          2.1829552816800315,
          2.467859038600977,
          1.406903003227832,
          1.6614258936227038,
          1.2898152737712818,
          1.0745783012511692,
          0.5708937148646696,
          1.4574444734516327,
          1.4349885616690663,
          0.976457540981502,
          1.9419381469848245
         ],
         "yaxis": "y"
        },
        {
         "hovertemplate": "Pacjent=46<br>BADANIE_NR=%{x}<br>euclidean_all=%{y}<extra></extra>",
         "legendgroup": "46",
         "line": {
          "color": "#B6E880",
          "dash": "solid"
         },
         "marker": {
          "symbol": "circle"
         },
         "mode": "lines",
         "name": "46",
         "showlegend": true,
         "type": "scattergl",
         "x": [
          1,
          2,
          3,
          4,
          5,
          6,
          7,
          8,
          9,
          10,
          11,
          12,
          13,
          14,
          15,
          16,
          17,
          18,
          19,
          20,
          21,
          22,
          23,
          24,
          25,
          26,
          27,
          28,
          29,
          30,
          31,
          32,
          33,
          34,
          35,
          36,
          37,
          38,
          39,
          40
         ],
         "xaxis": "x",
         "y": [
          1.5910336213981109,
          0.1399999999999999,
          1.606654436694948,
          1.536327464816714,
          1.1253484232556634,
          1.0212925610588293,
          1.6444174504567404,
          2.346677956645875,
          2.224762241184721,
          1.1459956584338957,
          0.8215975263315379,
          1.3984533719965047,
          1.5456675227024863,
          2.6428616271648173,
          2.588314915554016,
          3.6102355017466436,
          2.680677458266669,
          2.0936813753107826,
          2.328988722976892,
          2.2427477745703515,
          1.836975547110121,
          1.6340724845269536,
          2.2792024410846428,
          1.5078550320675954,
          2.514867104239283,
          2.6382644521485523,
          2.1768779850544555,
          1.170077394725038,
          2.7504858288847864,
          2.752221451041237,
          1.006169196571306,
          2.8100749264777125,
          2.020261264430803,
          1.7935575469678962,
          2.7149416790282626,
          1.5599454123883572,
          1.5586635392824502,
          0.8202112503947395,
          2.16141184309443,
          1.4482964767417577
         ],
         "yaxis": "y"
        },
        {
         "hovertemplate": "Pacjent=47<br>BADANIE_NR=%{x}<br>euclidean_all=%{y}<extra></extra>",
         "legendgroup": "47",
         "line": {
          "color": "#FF97FF",
          "dash": "solid"
         },
         "marker": {
          "symbol": "circle"
         },
         "mode": "lines",
         "name": "47",
         "showlegend": true,
         "type": "scattergl",
         "x": [
          1,
          2,
          3,
          4,
          5,
          6,
          7,
          8,
          9,
          10,
          11,
          12,
          13,
          14,
          15,
          16,
          17,
          18,
          19,
          20,
          21,
          22,
          23,
          24,
          25,
          26,
          27,
          28,
          29
         ],
         "xaxis": "x",
         "y": [
          0,
          0.15217490094112784,
          0.0700000000000005,
          1.0614553063399783,
          0.24654282556853982,
          0.1499999999999999,
          1.0609876056924004,
          1.4575481666117531,
          1.9885095681337384,
          3.0607160107239153,
          2.384056683197066,
          2.9425603364942217,
          5.147878085033681,
          2.8281921998073134,
          3.6976763103563735,
          1.7656226242936996,
          2.5834773487928877,
          2.2315798833434077,
          4.192079120273808,
          3.089285258085569,
          1.7834208648259136,
          2.570068851888114,
          1.2179646134522661,
          1.5083497844649207,
          1.4670692078056484,
          1.773594174239426,
          0.8312387139816868,
          1.2469698622777987,
          0.8998504391588877
         ],
         "yaxis": "y"
        },
        {
         "hovertemplate": "Pacjent=49<br>BADANIE_NR=%{x}<br>euclidean_all=%{y}<extra></extra>",
         "legendgroup": "49",
         "line": {
          "color": "#FECB52",
          "dash": "solid"
         },
         "marker": {
          "symbol": "circle"
         },
         "mode": "lines",
         "name": "49",
         "showlegend": true,
         "type": "scattergl",
         "x": [
          1,
          2,
          3,
          4,
          5,
          6,
          7,
          8,
          9,
          10,
          11,
          12,
          13,
          14,
          15,
          16,
          17,
          18,
          19,
          20,
          21,
          22,
          23
         ],
         "xaxis": "x",
         "y": [
          5.82115260390041,
          7.059047167172603,
          5.36797828473027,
          2.3554952904414472,
          1.1075424522580952,
          0.108695652173913,
          0.8720000000000001,
          2.56,
          1.1083551100813287,
          1.7679999999999998,
          1.536,
          0.36009572927082933,
          2.520543860292966,
          2.1380821310788356,
          2.4923843608022613,
          1.9693443240661155,
          2.7057302156719176,
          0.9707177062585698,
          1.0227181329132025,
          2.1572797685974807,
          0.7942243913080307,
          1.8001586670554282,
          0.7001044017662249
         ],
         "yaxis": "y"
        },
        {
         "hovertemplate": "Pacjent=50<br>BADANIE_NR=%{x}<br>euclidean_all=%{y}<extra></extra>",
         "legendgroup": "50",
         "line": {
          "color": "#636efa",
          "dash": "solid"
         },
         "marker": {
          "symbol": "circle"
         },
         "mode": "lines",
         "name": "50",
         "showlegend": true,
         "type": "scattergl",
         "x": [
          1,
          2,
          3,
          4,
          5,
          6,
          7,
          8,
          9,
          10,
          11,
          12,
          13,
          14,
          15,
          16,
          17,
          18,
          19
         ],
         "xaxis": "x",
         "y": [
          1.8785084923820032,
          1.6856381580873163,
          1.6243152403397563,
          1.623552778013862,
          0.7424583728535229,
          1.5631213114805063,
          1.6828574166530081,
          1.9885095681337384,
          2.3004989227622414,
          1.6073131485102168,
          1.9884665410450701,
          3.247994405034161,
          1.45705826847507,
          2.265804990508004,
          2.5534322000006187,
          2.00415691363276,
          2.972780313136195,
          0.42497636985347487,
          0.8043478260869568
         ],
         "yaxis": "y"
        },
        {
         "hovertemplate": "Pacjent=54<br>BADANIE_NR=%{x}<br>euclidean_all=%{y}<extra></extra>",
         "legendgroup": "54",
         "line": {
          "color": "#EF553B",
          "dash": "solid"
         },
         "marker": {
          "symbol": "circle"
         },
         "mode": "lines",
         "name": "54",
         "showlegend": true,
         "type": "scattergl",
         "x": [
          1,
          2,
          3,
          4,
          5,
          6,
          7,
          8,
          9,
          10,
          11,
          12,
          13,
          14,
          15,
          16,
          17,
          18,
          19,
          20,
          21,
          22,
          23,
          24,
          25,
          26,
          27,
          28,
          29,
          30,
          31,
          32,
          33,
          34,
          35,
          36,
          37,
          38
         ],
         "xaxis": "x",
         "y": [
          0,
          0.47467051551436906,
          0.6662852242095725,
          1.0555675634024437,
          1.5335608513156855,
          1.0862554260677486,
          1.8708753751084404,
          0.7396066240996618,
          0.4997328284303167,
          0.825778267267837,
          0.3838176650442236,
          0.22999999999999976,
          0.9426027795418388,
          1.7204666234593524,
          1.5758561150289394,
          2.1666156215207555,
          2.247218089500202,
          2.038887023573408,
          3.240238208984888,
          2.967663691909812,
          3.633089600514777,
          3.1078796423696295,
          3.4559168461693424,
          3.8493886534969524,
          3.283290612729408,
          4.521840487994439,
          2.6790053680078256,
          2.5640797831221054,
          2.130697275754436,
          2.841171742313422,
          3.021045749368568,
          2.575771602785551,
          0.828309302534674,
          2.4917939817804067,
          2.191313664576467,
          2.286002121898239,
          2.3458548890927866,
          2.9774446307699107
         ],
         "yaxis": "y"
        },
        {
         "hovertemplate": "Pacjent=58<br>BADANIE_NR=%{x}<br>euclidean_all=%{y}<extra></extra>",
         "legendgroup": "58",
         "line": {
          "color": "#00cc96",
          "dash": "solid"
         },
         "marker": {
          "symbol": "circle"
         },
         "mode": "lines",
         "name": "58",
         "showlegend": true,
         "type": "scattergl",
         "x": [
          1,
          2,
          3,
          4,
          5,
          6,
          7,
          8,
          9,
          10,
          11,
          12,
          13,
          14,
          15,
          16,
          17,
          18,
          19,
          20,
          21,
          22,
          23,
          24,
          25
         ],
         "xaxis": "x",
         "y": [
          1.3865582091267523,
          1.0291116068886272,
          0.9520407650831013,
          0.5107493174189264,
          0.5625864001648767,
          2.338534017640232,
          3.030238706636176,
          2.2644065302500547,
          0.2,
          1.2410680898025193,
          0.3100000000000001,
          0.35039470904816367,
          0.24220820485052563,
          1.8461866785657102,
          0.32384255978186915,
          1.5380813491854204,
          0.5505488170907282,
          0.8985410396860015,
          4.08083333718714,
          0.5714728779377585,
          2.7059933481071234,
          0.745980228857731,
          1.516,
          1.732,
          1.4240000000000002
         ],
         "yaxis": "y"
        },
        {
         "hovertemplate": "Pacjent=59<br>BADANIE_NR=%{x}<br>euclidean_all=%{y}<extra></extra>",
         "legendgroup": "59",
         "line": {
          "color": "#ab63fa",
          "dash": "solid"
         },
         "marker": {
          "symbol": "circle"
         },
         "mode": "lines",
         "name": "59",
         "showlegend": true,
         "type": "scattergl",
         "x": [
          1,
          2,
          3,
          4,
          5,
          6,
          7,
          8,
          9,
          10,
          11,
          12,
          13,
          14,
          15,
          16,
          17,
          18,
          19
         ],
         "xaxis": "x",
         "y": [
          3.9960000000000004,
          1.2063300620643913,
          3.7879999999999994,
          3.604,
          3.9154799178092445,
          3.7879999999999994,
          0.3507319486601762,
          3.348,
          3.50028829203396,
          1.2008159670688452,
          1.2131727405026365,
          4.272462171146643,
          1.96,
          4.070697217454057,
          3.1578712362605152,
          0.6000000000000001,
          1.2406075245529595,
          0.10869565217391308,
          0.4888596661178953
         ],
         "yaxis": "y"
        },
        {
         "hovertemplate": "Pacjent=60<br>BADANIE_NR=%{x}<br>euclidean_all=%{y}<extra></extra>",
         "legendgroup": "60",
         "line": {
          "color": "#FFA15A",
          "dash": "solid"
         },
         "marker": {
          "symbol": "circle"
         },
         "mode": "lines",
         "name": "60",
         "showlegend": true,
         "type": "scattergl",
         "x": [
          1,
          2,
          3,
          4,
          5,
          6,
          7,
          8,
          9,
          10,
          11,
          12,
          13,
          14,
          15,
          16,
          17,
          18,
          19,
          20
         ],
         "xaxis": "x",
         "y": [
          0.9042613503805524,
          0.44458681567604774,
          2.5906214532288976,
          4.622183135082284,
          4.308297086817456,
          2.346793397684971,
          4.228781660114707,
          4.148858010365037,
          2.548301282291953,
          3.281404193680989,
          1.479841865561974,
          1.9850931439532333,
          1.8895257784155226,
          2.6891952471891525,
          2.521945006588583,
          2.335188579392091,
          2.931209967139096,
          2.2254645342477843,
          1.5337360540698897,
          0.8487691521986458
         ],
         "yaxis": "y"
        },
        {
         "hovertemplate": "Pacjent=67<br>BADANIE_NR=%{x}<br>euclidean_all=%{y}<extra></extra>",
         "legendgroup": "67",
         "line": {
          "color": "#19d3f3",
          "dash": "solid"
         },
         "marker": {
          "symbol": "circle"
         },
         "mode": "lines",
         "name": "67",
         "showlegend": true,
         "type": "scattergl",
         "x": [
          1,
          2,
          3,
          4,
          5,
          6,
          7,
          8,
          9,
          10,
          11,
          12,
          13,
          14,
          15,
          16,
          17,
          18,
          19,
          20,
          21,
          22,
          23,
          24,
          25,
          26,
          27,
          28,
          29,
          30,
          31,
          32,
          33,
          34,
          35,
          36,
          37
         ],
         "xaxis": "x",
         "y": [
          0.5752764372074085,
          5.446062291288384,
          3.300910195577158,
          2.0344223464054547,
          4.101421309741192,
          3.8255952262226285,
          4.0607415030601945,
          2.2743106959641506,
          2.8749076177785686,
          1.9706621074595558,
          2.3611172430247875,
          2.831139317318574,
          1.818838918660256,
          1.7620509188027704,
          2.279065952612048,
          2.8300414972020738,
          1.6152099371151485,
          0.4384384164989463,
          0.9507939324234244,
          0.5601679248006399,
          0.5122941393619965,
          0.5063533516021138,
          0.1037472740959181,
          0.5392092403448199,
          0.33529296937913255,
          5.20165820482409,
          0.8222049013542575,
          0.27969155345109803,
          0.1319999999999999,
          0.45999999999999996,
          0.20017269842899735,
          0.59532187540912,
          1.0611597037318166,
          1.3952742953155275,
          0.49050586133093216,
          1.25648505738544,
          1.3092419371168502
         ],
         "yaxis": "y"
        },
        {
         "hovertemplate": "Pacjent=68<br>BADANIE_NR=%{x}<br>euclidean_all=%{y}<extra></extra>",
         "legendgroup": "68",
         "line": {
          "color": "#FF6692",
          "dash": "solid"
         },
         "marker": {
          "symbol": "circle"
         },
         "mode": "lines",
         "name": "68",
         "showlegend": true,
         "type": "scattergl",
         "x": [
          1,
          2,
          3,
          4,
          5,
          6,
          7,
          8,
          9,
          10,
          11,
          12,
          13,
          14,
          15,
          16,
          17,
          18,
          19
         ],
         "xaxis": "x",
         "y": [
          0.27509882740447933,
          1.580790941269591,
          0.7488851146429856,
          0.7025297254372043,
          0.7173913043478262,
          2.379437879003738,
          2.601298045630016,
          3.230979381884743,
          2.410161136358648,
          1.9748869461074177,
          2.625065880610493,
          3.557577396214551,
          1.024,
          2.3445176979584206,
          2.0226232755839226,
          3.8121683592469857,
          1.6662320621615467,
          1.4910277243761174,
          0.4130434782608696
         ],
         "yaxis": "y"
        },
        {
         "hovertemplate": "Pacjent=69<br>BADANIE_NR=%{x}<br>euclidean_all=%{y}<extra></extra>",
         "legendgroup": "69",
         "line": {
          "color": "#B6E880",
          "dash": "solid"
         },
         "marker": {
          "symbol": "circle"
         },
         "mode": "lines",
         "name": "69",
         "showlegend": true,
         "type": "scattergl",
         "x": [
          1,
          2,
          3,
          4,
          5,
          6,
          7,
          8,
          9,
          10,
          11,
          12,
          13,
          14,
          15,
          16,
          17,
          18,
          19,
          20,
          21,
          22,
          23
         ],
         "xaxis": "x",
         "y": [
          0,
          0.1519999999999999,
          0,
          0.1810554244738966,
          1.216644193109719,
          1.4,
          3.0520000000000005,
          0.1748780339659923,
          1.4574244417897193,
          3.0360000000000005,
          1.808020438420881,
          2.92,
          2.536702744607045,
          3.712366361231067,
          3.3811980125393424,
          4.801218367236891,
          1.6720000000000006,
          0.9894541408687588,
          5.782227530350582,
          2.8560700271526955,
          3.16,
          3.04,
          1.2920000000000003
         ],
         "yaxis": "y"
        },
        {
         "hovertemplate": "Pacjent=71<br>BADANIE_NR=%{x}<br>euclidean_all=%{y}<extra></extra>",
         "legendgroup": "71",
         "line": {
          "color": "#FF97FF",
          "dash": "solid"
         },
         "marker": {
          "symbol": "circle"
         },
         "mode": "lines",
         "name": "71",
         "showlegend": true,
         "type": "scattergl",
         "x": [
          1,
          2,
          3,
          4,
          5,
          6,
          7,
          8
         ],
         "xaxis": "x",
         "y": [
          0.33511758395521646,
          0,
          1.564,
          0.0755187455922748,
          1.5497629620831261,
          0.5710593507404426,
          0.94,
          0.7554847453631622
         ],
         "yaxis": "y"
        },
        {
         "hovertemplate": "Pacjent=72<br>BADANIE_NR=%{x}<br>euclidean_all=%{y}<extra></extra>",
         "legendgroup": "72",
         "line": {
          "color": "#FECB52",
          "dash": "solid"
         },
         "marker": {
          "symbol": "circle"
         },
         "mode": "lines",
         "name": "72",
         "showlegend": true,
         "type": "scattergl",
         "x": [
          1,
          2,
          3,
          4,
          5,
          6,
          7,
          8,
          9,
          10,
          11,
          12,
          13,
          14,
          15,
          16,
          17,
          18,
          19,
          20,
          21,
          22,
          23,
          24,
          25,
          26,
          27,
          28,
          29,
          30,
          31,
          32,
          33,
          34,
          35,
          36
         ],
         "xaxis": "x",
         "y": [
          2.1509940659242384,
          2.110138818441241,
          1.990605287526488,
          2.12041347652358,
          3.272535850809109,
          2.5661260003608084,
          2.925389444611863,
          2.42683090354572,
          2.587978094238259,
          2.7514652236811306,
          2.4448692451149383,
          3.1564338998438055,
          2.8718212422845983,
          2.5865950788786782,
          3.627921797270133,
          2.9047561337567314,
          2.6407162774013635,
          2.96873347700108,
          3.166751569186504,
          1.7430487077909123,
          1.1222048241282812,
          1.782393446177197,
          1.6840102375434745,
          1.1586181848644863,
          4.062397680496906,
          1.6952824323751627,
          1.5760394571553076,
          0.9691526866581502,
          0.17391304347826098,
          1.3607911742945011,
          1.757226290039088,
          1.709006844104115,
          1.6263549481896784,
          1.9615347257061828,
          1.29447238085697,
          1.6671339997603374
         ],
         "yaxis": "y"
        },
        {
         "hovertemplate": "Pacjent=76<br>BADANIE_NR=%{x}<br>euclidean_all=%{y}<extra></extra>",
         "legendgroup": "76",
         "line": {
          "color": "#636efa",
          "dash": "solid"
         },
         "marker": {
          "symbol": "circle"
         },
         "mode": "lines",
         "name": "76",
         "showlegend": true,
         "type": "scattergl",
         "x": [
          1,
          2,
          3,
          4,
          5,
          6,
          7,
          8,
          9,
          10,
          11,
          12,
          13,
          14,
          15,
          16,
          17,
          18,
          19
         ],
         "xaxis": "x",
         "y": [
          0.6306381206607231,
          2.1777227465891222,
          5.778817456672694,
          2.8172793113199335,
          2.080223186941844,
          1.3949912313927475,
          0.7162737012643097,
          1.1865226281322845,
          0.6333140606625532,
          2.08858015826655,
          1.2902279220111619,
          1.5702238314671486,
          1.3872966844684813,
          2.127282795196079,
          1.7327077076067967,
          0.9807336515456693,
          2.8803216634063786,
          4.08613873501803,
          4.16287393093273
         ],
         "yaxis": "y"
        },
        {
         "hovertemplate": "Pacjent=79<br>BADANIE_NR=%{x}<br>euclidean_all=%{y}<extra></extra>",
         "legendgroup": "79",
         "line": {
          "color": "#EF553B",
          "dash": "solid"
         },
         "marker": {
          "symbol": "circle"
         },
         "mode": "lines",
         "name": "79",
         "showlegend": true,
         "type": "scattergl",
         "x": [
          1,
          2,
          3,
          4,
          5,
          6,
          7,
          8,
          9,
          10,
          11,
          12,
          13,
          14,
          15,
          16,
          17,
          18,
          19,
          20,
          21,
          22,
          23,
          24,
          25,
          26,
          27,
          28,
          29,
          30,
          31,
          32,
          33,
          34,
          35,
          36,
          37,
          38,
          39,
          40,
          41,
          42,
          43,
          44
         ],
         "xaxis": "x",
         "y": [
          3.603753471923455,
          6.354185251838619,
          2.95549970012008,
          1.5929547155829384,
          2.008202704429858,
          2.150996992208844,
          2.222631319201727,
          2.4762067765031257,
          2.747160188989669,
          2.833502511721483,
          2.8593804377628658,
          3.4541884181802107,
          3.319163970331022,
          3.145272685261214,
          3.036518408534455,
          5.086594372920313,
          2.505557741227865,
          3.701160856670432,
          2.709108440544869,
          3.1501079279621034,
          3.135319195467492,
          2.2249183413574727,
          2.623042521205657,
          2.822377694757985,
          2.410014855615632,
          2.4811105079877778,
          2.4195419935037523,
          3.2849060038455473,
          2.531982242317574,
          1.4283333470751531,
          2.474237453841818,
          1.1679591692455062,
          0.8219385381223767,
          1.4240970655573122,
          1.495739173779176,
          0.9496808811759978,
          2.2545398641804018,
          1.4960000000000004,
          0.7280000000000002,
          1.6972534601904763,
          0.5241653845993313,
          3.482759147115249,
          1.9210373221764088,
          2.090793906792473
         ],
         "yaxis": "y"
        },
        {
         "hovertemplate": "Pacjent=81<br>BADANIE_NR=%{x}<br>euclidean_all=%{y}<extra></extra>",
         "legendgroup": "81",
         "line": {
          "color": "#00cc96",
          "dash": "solid"
         },
         "marker": {
          "symbol": "circle"
         },
         "mode": "lines",
         "name": "81",
         "showlegend": true,
         "type": "scattergl",
         "x": [
          1,
          2,
          3,
          4,
          5,
          6,
          7,
          8,
          9,
          10,
          11,
          12,
          13,
          14,
          15,
          16,
          17,
          18,
          19,
          20,
          21,
          22,
          23,
          24,
          25,
          26,
          27,
          28,
          29
         ],
         "xaxis": "x",
         "y": [
          2.1302530679500546,
          0.9265756499410944,
          5.394832198493803,
          6.984766480718603,
          1.6969094558411923,
          4.648486607801635,
          3.810781389540953,
          3.1386654022346994,
          2.6065085844660048,
          3.6861371125955746,
          3.1116694183621796,
          2.005901496228645,
          2.953467459362848,
          4.322449392891387,
          1.144514314057821,
          2.211559032218208,
          0.48490561902011203,
          0.49038708882099846,
          0.5214149486383843,
          0.32533909045453085,
          1.1,
          0.6743632850426592,
          3.4400000000000004,
          1.1513626709251956,
          0.30165747548200683,
          1.5357123867195177,
          1.2008021434004792,
          1.9871205887928738,
          1.8681128838193561
         ],
         "yaxis": "y"
        },
        {
         "hovertemplate": "Pacjent=83<br>BADANIE_NR=%{x}<br>euclidean_all=%{y}<extra></extra>",
         "legendgroup": "83",
         "line": {
          "color": "#ab63fa",
          "dash": "solid"
         },
         "marker": {
          "symbol": "circle"
         },
         "mode": "lines",
         "name": "83",
         "showlegend": true,
         "type": "scattergl",
         "x": [
          1,
          2,
          3,
          4,
          5,
          6,
          7,
          8,
          9,
          10,
          11,
          12,
          13,
          14,
          15,
          16,
          17,
          18,
          19,
          20,
          21,
          22,
          23,
          24,
          25,
          26,
          27,
          28,
          29,
          30,
          31,
          32,
          33,
          34,
          35,
          36,
          37,
          38,
          39,
          40
         ],
         "xaxis": "x",
         "y": [
          5.176006105077356,
          5.304152872119193,
          4.006945091877194,
          1.9147415388716387,
          2.9801644643214806,
          2.9930374011508927,
          2.392979746686739,
          1.709124538183084,
          1.7687371624289074,
          1.1113156596008635,
          1.4972231410900316,
          1.5695073997846405,
          1.523067483231933,
          1.9861370102490585,
          1.3131151588806806,
          1.6287833314948683,
          0.6498619681195251,
          0.6218292764810236,
          0.641655701488779,
          0.4501227384637604,
          0.9380140461341616,
          0.7583208334297156,
          1.003687103619299,
          0.4445637572262165,
          0.8493276329967243,
          1.4843336438343138,
          1.8783328583517385,
          0.31401176739644854,
          0.25827079194461255,
          0.41781468283958895,
          0.1684291524334993,
          0.582236245408159,
          0,
          0.4191931471282618,
          0.5708797015764202,
          1.0944586720843854,
          0.804,
          0.7567353964621525,
          1.5114416208232788,
          1.22591077673466
         ],
         "yaxis": "y"
        },
        {
         "hovertemplate": "Pacjent=90<br>BADANIE_NR=%{x}<br>euclidean_all=%{y}<extra></extra>",
         "legendgroup": "90",
         "line": {
          "color": "#FFA15A",
          "dash": "solid"
         },
         "marker": {
          "symbol": "circle"
         },
         "mode": "lines",
         "name": "90",
         "showlegend": true,
         "type": "scattergl",
         "x": [
          1,
          2,
          3,
          4,
          5,
          6,
          7,
          8,
          9,
          10,
          11,
          12,
          13,
          14,
          15,
          16,
          17,
          18,
          19,
          20,
          21,
          22,
          23,
          24,
          25,
          26,
          27,
          28,
          29,
          30,
          31,
          32,
          33,
          34,
          35,
          36,
          37,
          38,
          39,
          40,
          41,
          42,
          43,
          44,
          45,
          46,
          47,
          48,
          49,
          50,
          51,
          52,
          53,
          54,
          55
         ],
         "xaxis": "x",
         "y": [
          3.070313987920321,
          2.764926271886615,
          2.905811170195675,
          0.9803850329612558,
          3.5153919453313556,
          3.7628302514125167,
          1.3439824127933815,
          1.6143189238504585,
          1.8608768407009342,
          1.3964158310683654,
          1.3447187884601768,
          1.596158905440737,
          1.8810983498717868,
          3.04233735444302,
          1.790457648546297,
          2.4487978440262017,
          2.0380099032471306,
          1.9716661105313371,
          1.181023559090757,
          1.2205728443938186,
          1.8067541008700743,
          0,
          2.8657844249891506,
          2.0563161235568814,
          1.642641434065077,
          1.3701343855273969,
          3.605769530023438,
          1.9044529571933702,
          1.6862656586242801,
          1.235391270581015,
          1.6684744383842731,
          1.865336962056879,
          2.2112370160722685,
          1.5599711693327343,
          1.9027467341229367,
          2.784464822193683,
          1.9711872694946493,
          5.616392887446762,
          2.711984867325944,
          1.92383189020687,
          2.8440155056886303,
          3.1695636491691133,
          2.589275108578017,
          2.2222843813192714,
          2.785032266581111,
          1.6224893940018204,
          1.8242677667184963,
          1.6428561370719617,
          2.1465397376726325,
          1.5548018795615377,
          1.5351520678602424,
          2.5086990673596508,
          1.706914050724156,
          2.3044639769956046,
          1.8472790645413923
         ],
         "yaxis": "y"
        },
        {
         "hovertemplate": "Pacjent=95<br>BADANIE_NR=%{x}<br>euclidean_all=%{y}<extra></extra>",
         "legendgroup": "95",
         "line": {
          "color": "#19d3f3",
          "dash": "solid"
         },
         "marker": {
          "symbol": "circle"
         },
         "mode": "lines",
         "name": "95",
         "showlegend": true,
         "type": "scattergl",
         "x": [
          1,
          2,
          3,
          4,
          5,
          6,
          7,
          8,
          9,
          10,
          11,
          12,
          13,
          14,
          15,
          16,
          17,
          18,
          19,
          20,
          21,
          22,
          23,
          24,
          25,
          26,
          27,
          28,
          29,
          30,
          31,
          32,
          33,
          34,
          35,
          36,
          37,
          38,
          39,
          40,
          41,
          42,
          43,
          44,
          45,
          46,
          47,
          48,
          49,
          50,
          51,
          52,
          53,
          54,
          55,
          56
         ],
         "xaxis": "x",
         "y": [
          0,
          0.3445809048685085,
          1.8899869974848043,
          1.6999273730733346,
          1.9834189801102606,
          1.8120132616764957,
          2.388911886194215,
          1.7923804808912016,
          1.561148636793618,
          1.9156117917779212,
          1.0607772589920594,
          1.1409112565287898,
          1.2698425099200294,
          1.1295419751934885,
          1.8487628541100776,
          2.576030562582144,
          1.8524239471976247,
          2.07564947086398,
          1.0392360969281909,
          0.6088223222236576,
          0.13043478260869557,
          0.8246922047128717,
          1.6560000000000001,
          0.489035786011617,
          1.2519999999999998,
          0.8659622974649669,
          1.2639999999999998,
          0.7280000000000002,
          2.771634270396765,
          3.5670327174296164,
          1.5265705372348222,
          1.3172134858698106,
          3.3803000907040204,
          2.361400622471961,
          2.5121398646239608,
          1.946421816360219,
          1.9321068042977356,
          3.6151326809213353,
          3.177029284961775,
          0.9888436277930112,
          1.201831308992282,
          2.3067149712116795,
          2.655394338441581,
          1.7727161349957028,
          0.21739130434782616,
          1.2147657961290808,
          1.6165295549329426,
          0.6202309982125778,
          0.46057918134905146,
          1.4242188612847815,
          1.8408810334201522,
          2.3768762903884935,
          1.7009143854679676,
          3.3515517383475397,
          2.0520000000000005,
          1.2679999999999998
         ],
         "yaxis": "y"
        },
        {
         "hovertemplate": "Pacjent=98<br>BADANIE_NR=%{x}<br>euclidean_all=%{y}<extra></extra>",
         "legendgroup": "98",
         "line": {
          "color": "#FF6692",
          "dash": "solid"
         },
         "marker": {
          "symbol": "circle"
         },
         "mode": "lines",
         "name": "98",
         "showlegend": true,
         "type": "scattergl",
         "x": [
          1,
          2,
          3,
          4,
          5,
          6,
          7,
          8,
          9,
          10,
          11,
          12,
          13,
          14,
          15,
          16,
          17,
          18,
          19,
          20,
          21,
          22,
          23,
          24,
          25,
          26,
          27,
          28,
          29,
          30,
          31,
          32,
          33,
          34,
          35,
          36,
          37,
          38,
          39
         ],
         "xaxis": "x",
         "y": [
          0.406509944250297,
          5.421877449825384,
          4.2947968593695025,
          2.1229799037856747,
          2.1139396867037235,
          2.894900818642171,
          1.8525011121482218,
          1.2678449482702696,
          1.6862145948055811,
          1.8226546708439695,
          2.617552329294938,
          3.039131378435347,
          2.3333124089438964,
          3.4262413259682316,
          2.5121773744464244,
          4.533896053236123,
          2.1733690188850874,
          3.1180489559996154,
          2.4018945342160976,
          1.886046763257663,
          1.6689192907928383,
          0.8515920817645076,
          0.8223545383637679,
          0.32608695652173925,
          0.45652173913043503,
          0,
          1.5727528764356753,
          4.096,
          1.0264001327524161,
          0.6409543274723106,
          1.7920000000000003,
          0.072322134535495,
          0.7411190435233521,
          0,
          0.9464512167817397,
          0,
          0.051999999999999824,
          0.6037197658844788,
          0
         ],
         "yaxis": "y"
        },
        {
         "hovertemplate": "Pacjent=99<br>BADANIE_NR=%{x}<br>euclidean_all=%{y}<extra></extra>",
         "legendgroup": "99",
         "line": {
          "color": "#B6E880",
          "dash": "solid"
         },
         "marker": {
          "symbol": "circle"
         },
         "mode": "lines",
         "name": "99",
         "showlegend": true,
         "type": "scattergl",
         "x": [
          1,
          2,
          3,
          4,
          5,
          6,
          7,
          8,
          9,
          10,
          11,
          12,
          13,
          14,
          15,
          16,
          17,
          18
         ],
         "xaxis": "x",
         "y": [
          0.6906905929905299,
          1.3259898015480296,
          0.6962328523557344,
          1.0408951874290022,
          1.8053329100747755,
          1.4299824282601739,
          0.7951996864186882,
          0.8046350074696037,
          0.7593326614942918,
          1.352715950158474,
          1.0097140436309093,
          0.8843657052547912,
          0.7605918747922568,
          1.0842750542158144,
          0.9463947269538483,
          0.585288347659068,
          2.71059123367195,
          1.4939715127496147
         ],
         "yaxis": "y"
        },
        {
         "hovertemplate": "Pacjent=101<br>BADANIE_NR=%{x}<br>euclidean_all=%{y}<extra></extra>",
         "legendgroup": "101",
         "line": {
          "color": "#FF97FF",
          "dash": "solid"
         },
         "marker": {
          "symbol": "circle"
         },
         "mode": "lines",
         "name": "101",
         "showlegend": true,
         "type": "scattergl",
         "x": [
          1,
          2,
          3,
          4,
          5,
          6,
          7,
          8,
          9,
          10,
          11,
          12,
          13,
          14,
          15,
          16,
          17,
          18,
          19,
          20,
          21,
          22,
          23,
          24,
          25,
          26,
          27,
          28,
          29,
          30,
          31,
          32,
          33,
          34,
          35
         ],
         "xaxis": "x",
         "y": [
          0.8660685121807082,
          1.8344518011461655,
          1.5444219918067046,
          3.6791223726768956,
          2.7688949035251387,
          2.813926879254985,
          1.3470376375496809,
          1.120681405598595,
          1.239495979644095,
          2.792129669398834,
          0.6972199941387535,
          0.8630872839611007,
          0.5161395160225576,
          0.8703129608206037,
          0.6628609356703767,
          0.7955673226316676,
          1.351798354108383,
          1.7820075338397494,
          2.5030824794877446,
          2.991152318132861,
          3.145646409657889,
          1.791757278306137,
          1.4209755801011699,
          1.4580836168232583,
          2.3851300719093143,
          1.3668119412553077,
          0.943894475218556,
          0.47669970093680336,
          0.6968362880288618,
          0.3841669981677221,
          0.12946705818147872,
          0.26914963130413333,
          1.028,
          0.5160000000000002,
          0.16799999999999993
         ],
         "yaxis": "y"
        },
        {
         "hovertemplate": "Pacjent=104<br>BADANIE_NR=%{x}<br>euclidean_all=%{y}<extra></extra>",
         "legendgroup": "104",
         "line": {
          "color": "#FECB52",
          "dash": "solid"
         },
         "marker": {
          "symbol": "circle"
         },
         "mode": "lines",
         "name": "104",
         "showlegend": true,
         "type": "scattergl",
         "x": [
          1,
          2,
          3,
          4,
          5,
          6,
          7,
          8,
          9,
          10,
          11,
          12,
          13,
          14,
          15,
          16,
          17,
          18,
          19,
          20,
          21,
          22,
          23,
          24,
          25,
          26,
          27,
          28,
          29,
          30,
          31,
          32,
          33,
          34,
          35,
          36,
          37,
          38
         ],
         "xaxis": "x",
         "y": [
          0.96818875692514,
          2.3849018750261015,
          2.2377498233613777,
          1.5815908910625,
          2.3435533810659153,
          1.5278078773045431,
          2.076213290032815,
          2.3711955205333353,
          3.049355618616283,
          2.514734482542857,
          2.75719923606625,
          2.9860290308891964,
          1.9387059357436158,
          3.144289614956117,
          1.3620353278841695,
          1.4766231951623583,
          2.6026537641909058,
          1.6413377238636118,
          0.8068811461357873,
          1.1354004947831737,
          1.4820917650402081,
          1.019764860401846,
          0.5314132102234569,
          0.6521739130434785,
          0.8299714416619646,
          1.0362183134816267,
          2.900846575329454,
          1.519685398931533,
          0.35509503033683176,
          0,
          0.4584632916516439,
          0.4400255105166995,
          1.878787491448335,
          1.141950458934899,
          1.8288799034718635,
          2.3221377996836456,
          2.894075517933256,
          2.2119750907737057
         ],
         "yaxis": "y"
        },
        {
         "hovertemplate": "Pacjent=107<br>BADANIE_NR=%{x}<br>euclidean_all=%{y}<extra></extra>",
         "legendgroup": "107",
         "line": {
          "color": "#636efa",
          "dash": "solid"
         },
         "marker": {
          "symbol": "circle"
         },
         "mode": "lines",
         "name": "107",
         "showlegend": true,
         "type": "scattergl",
         "x": [
          1,
          2,
          3,
          4,
          5,
          6,
          7,
          8,
          9,
          10,
          11,
          12,
          13,
          14,
          15,
          16,
          17,
          18,
          19,
          20,
          21,
          22,
          23,
          24,
          25,
          26,
          27
         ],
         "xaxis": "x",
         "y": [
          0.7119999999999999,
          0.1319999999999999,
          1.075147393264237,
          0.74,
          0.36956521739130443,
          0.7521759235962072,
          2.928198178592415,
          0.7213414305010338,
          0,
          0.26086956521739135,
          0.21739130434782616,
          0.7687907070734497,
          0.27509882740447933,
          0.8288472746654115,
          0.32608695652173925,
          0.4838775017222521,
          0.826086956521739,
          1.3219965881975826,
          0.7096358873588617,
          0.6777944240799733,
          0.43447402092440796,
          0.957753707480646,
          0.7324438261137151,
          1.2535739675244584,
          0.47109733942531523,
          0.8792290186844304,
          1.2926190467419238
         ],
         "yaxis": "y"
        },
        {
         "hovertemplate": "Pacjent=108<br>BADANIE_NR=%{x}<br>euclidean_all=%{y}<extra></extra>",
         "legendgroup": "108",
         "line": {
          "color": "#EF553B",
          "dash": "solid"
         },
         "marker": {
          "symbol": "circle"
         },
         "mode": "lines",
         "name": "108",
         "showlegend": true,
         "type": "scattergl",
         "x": [
          1,
          2,
          3,
          4,
          5,
          6,
          7,
          8,
          9,
          10,
          11,
          12,
          13,
          14,
          15,
          16,
          17,
          18,
          19,
          20,
          21,
          22,
          23,
          24,
          25,
          26,
          27,
          28,
          29,
          30,
          31,
          32,
          33,
          34,
          35,
          36,
          37,
          38,
          39,
          40,
          41,
          42,
          43,
          44,
          45,
          46,
          47
         ],
         "xaxis": "x",
         "y": [
          0.1799999999999995,
          1.4241805921891515,
          0.27665247114757646,
          1.4433224771882753,
          2.756444854228819,
          4.78002677816767,
          3.661739543431776,
          1.4317829023366444,
          1.85688861447396,
          1.7746026707241822,
          1.9314681311833592,
          1.3829742721501048,
          1.4411071568169773,
          1.1006120483201027,
          1.4101529794071328,
          1.5353902602979383,
          1.0525385785600818,
          1.1138087077362577,
          0.9189740248987489,
          1.1651497050140236,
          0.7151953536931138,
          0.503633166320935,
          0.08438513087038618,
          0.4957015778144046,
          0.39081927027587826,
          0.47669970093680336,
          0.9113206519932857,
          1.7235799060581467,
          0.6609708389221738,
          0.2990137849233795,
          0.9605677060983404,
          1.1372096646225152,
          0.6022555391885724,
          2.8868949855583854,
          1.9733295365767298,
          0.5951948826020887,
          1.4567661773271257,
          0.973663032430034,
          0.41433696193005676,
          0.2623310566530855,
          0.643192942741789,
          0.24181890692957012,
          0.46345693245209635,
          1.5103970606438863,
          1.6433652390659634,
          1.762581317219425,
          1.1644756756771935
         ],
         "yaxis": "y"
        },
        {
         "hovertemplate": "Pacjent=109<br>BADANIE_NR=%{x}<br>euclidean_all=%{y}<extra></extra>",
         "legendgroup": "109",
         "line": {
          "color": "#00cc96",
          "dash": "solid"
         },
         "marker": {
          "symbol": "circle"
         },
         "mode": "lines",
         "name": "109",
         "showlegend": true,
         "type": "scattergl",
         "x": [
          1,
          2,
          3,
          4,
          5,
          6,
          7,
          8,
          9,
          10,
          11,
          12,
          13,
          14,
          15,
          16,
          17,
          18,
          19,
          20,
          21,
          22,
          23,
          24,
          25,
          26,
          27,
          28
         ],
         "xaxis": "x",
         "y": [
          0.3080000000000001,
          1.0781339897299238,
          1.2708810339169772,
          0.8114457081676951,
          0.9657876302230587,
          1.98848937163275,
          2.2784865885529157,
          3.093378096089875,
          3.5101591947914312,
          3.552752786635873,
          4.455575586518914,
          4.2100267172908135,
          4.241450770988874,
          4.571495942590247,
          4.616284253598223,
          2.4960924092849575,
          2.854610736592105,
          3.4084273408154315,
          2.034211395111137,
          2.4246517556354075,
          2.115508000949038,
          3.375306841501323,
          3.0986109760820915,
          2.214202310416909,
          1.972555908423926,
          1.8998976810575121,
          1.650399083317578,
          1.3028347281687325
         ],
         "yaxis": "y"
        },
        {
         "hovertemplate": "Pacjent=110<br>BADANIE_NR=%{x}<br>euclidean_all=%{y}<extra></extra>",
         "legendgroup": "110",
         "line": {
          "color": "#ab63fa",
          "dash": "solid"
         },
         "marker": {
          "symbol": "circle"
         },
         "mode": "lines",
         "name": "110",
         "showlegend": true,
         "type": "scattergl",
         "x": [
          1,
          2,
          3,
          4,
          5,
          6,
          7,
          8,
          9,
          10,
          11,
          12,
          13,
          14,
          15,
          16,
          17,
          18,
          19,
          20,
          21,
          22,
          23,
          24,
          25,
          26,
          27,
          28,
          29,
          30,
          31,
          32,
          33,
          34,
          35,
          36,
          37,
          38,
          39,
          40,
          41,
          42,
          43,
          44,
          45,
          46,
          47,
          48,
          49,
          50,
          51,
          52,
          53,
          54,
          55,
          56,
          57
         ],
         "xaxis": "x",
         "y": [
          1.4239185205172389,
          2.551194536942357,
          1.901938238252155,
          4.180823286127217,
          4.431818682902066,
          3.8799351183509962,
          3.195050278930827,
          0.955770613546663,
          1.0767878084465794,
          2.082743602721178,
          0.28,
          1.1313137051379216,
          1.9221530559532445,
          1.3238835531402158,
          3.0394460245422787,
          1.4361536809246283,
          2.8291450263887614,
          2.378554786702619,
          2.851581492027026,
          1.6567688073196487,
          1.6848213702938337,
          2.209721205241411,
          2.9245243577800477,
          2.0263891944554255,
          1.7811071535537413,
          1.3920125644086851,
          0.5,
          0.5218330640078985,
          0.8692157384677291,
          0.1120000000000001,
          1.1400000000000001,
          0.6160000000000003,
          0.10000000000000009,
          0.9602083107326241,
          0.8563702363261235,
          0.7667658049378103,
          0.9521552353746061,
          1.061758408706948,
          0.9409803558131067,
          1.6604531241827283,
          0.6639999999999997,
          0.6519999999999999,
          1.008,
          2.3093931961099843,
          1.5643324454859333,
          1.6203781770540384,
          0.4488840942344813,
          0.6257453415840807,
          0.9700040964191562,
          1.149214670620003,
          0.9553154448892031,
          1.1327557756170963,
          1.1472204998153865,
          0.5518776155263101,
          1.5578246686456947,
          1.062416552043835,
          1.1598539591120236
         ],
         "yaxis": "y"
        },
        {
         "hovertemplate": "Pacjent=114<br>BADANIE_NR=%{x}<br>euclidean_all=%{y}<extra></extra>",
         "legendgroup": "114",
         "line": {
          "color": "#FFA15A",
          "dash": "solid"
         },
         "marker": {
          "symbol": "circle"
         },
         "mode": "lines",
         "name": "114",
         "showlegend": true,
         "type": "scattergl",
         "x": [
          1,
          2,
          3,
          4,
          5,
          6,
          7,
          8,
          9,
          10,
          11,
          12,
          13,
          14,
          15,
          16,
          17,
          18
         ],
         "xaxis": "x",
         "y": [
          0.3639630602085138,
          2.27081638404416,
          0.6866559023542338,
          0.36577831547430417,
          0.8440000000000001,
          3.3551812491837225,
          0.0485626066414354,
          0.9379137069088761,
          0.13600779980408997,
          0.8009136622993575,
          0.13660928869618222,
          0.22522196508178643,
          0.06518194483177644,
          0.69047997229596,
          0.04347826086956519,
          0.4348026406747506,
          2.241582138501693,
          1.484
         ],
         "yaxis": "y"
        },
        {
         "hovertemplate": "Pacjent=118<br>BADANIE_NR=%{x}<br>euclidean_all=%{y}<extra></extra>",
         "legendgroup": "118",
         "line": {
          "color": "#19d3f3",
          "dash": "solid"
         },
         "marker": {
          "symbol": "circle"
         },
         "mode": "lines",
         "name": "118",
         "showlegend": true,
         "type": "scattergl",
         "x": [
          1,
          2,
          3,
          4,
          5,
          6,
          7,
          8,
          9,
          10,
          11,
          12,
          13,
          14,
          15,
          16,
          17,
          18,
          19,
          20,
          21,
          22,
          23,
          24,
          25,
          26,
          27,
          28,
          29,
          30,
          31,
          32,
          33,
          34,
          35,
          36,
          37,
          38,
          39,
          40,
          41
         ],
         "xaxis": "x",
         "y": [
          2.254318217507108,
          1.318585903811182,
          0.5854945126721521,
          0.13352516275554302,
          0.9864235976838974,
          0.36432952117554257,
          0.937931767241093,
          0.8044162086090556,
          0.14803118764023257,
          0.5253685356953508,
          1.5552655338903942,
          1.5860033468618815,
          1.0509608125843575,
          1.4924038071410384,
          1.4903646472737697,
          0.9274197757508118,
          1.6898945728348815,
          1.0285185207588434,
          7.260463470028752,
          0.8996160701788335,
          0.7510728306731813,
          1.645622120814803,
          0.23913043478260865,
          1.3022730048672777,
          0.3045418636113457,
          1.8979930022718654,
          0.28260869565217406,
          1.1129728160899248,
          0.5515003354829506,
          1.611211152818242,
          2.9414956991501073,
          1.6870595127682746,
          1.3352070391625082,
          3.0174557868062974,
          1.2776479966971284,
          0.5947421633727484,
          1.759010797797298,
          2.1524637074679602,
          0.26524880783277954,
          4.54,
          0
         ],
         "yaxis": "y"
        },
        {
         "hovertemplate": "Pacjent=124<br>BADANIE_NR=%{x}<br>euclidean_all=%{y}<extra></extra>",
         "legendgroup": "124",
         "line": {
          "color": "#FF6692",
          "dash": "solid"
         },
         "marker": {
          "symbol": "circle"
         },
         "mode": "lines",
         "name": "124",
         "showlegend": true,
         "type": "scattergl",
         "x": [
          1,
          2,
          3,
          4,
          5,
          6,
          7,
          8,
          9
         ],
         "xaxis": "x",
         "y": [
          1.0347619192602433,
          1.791669530826007,
          1.4755151328634395,
          1.328511903288945,
          1.7897249877300228,
          0.8612260851187572,
          1.3005699068383065,
          0.3188286746902208,
          2.033614573709713
         ],
         "yaxis": "y"
        },
        {
         "hovertemplate": "Pacjent=132<br>BADANIE_NR=%{x}<br>euclidean_all=%{y}<extra></extra>",
         "legendgroup": "132",
         "line": {
          "color": "#B6E880",
          "dash": "solid"
         },
         "marker": {
          "symbol": "circle"
         },
         "mode": "lines",
         "name": "132",
         "showlegend": true,
         "type": "scattergl",
         "x": [
          1,
          2,
          3,
          4,
          5,
          6,
          7,
          8,
          9,
          10,
          11,
          12,
          13
         ],
         "xaxis": "x",
         "y": [
          0,
          1.1218971914255533,
          0.5289770632040395,
          0.12702429943615887,
          1.08,
          0.20610935624425897,
          0.1524165527710163,
          0.0652173913043479,
          0.06291523475129683,
          1.56,
          1.5238814733441417,
          1,
          0.8824133431269862
         ],
         "yaxis": "y"
        },
        {
         "hovertemplate": "Pacjent=133<br>BADANIE_NR=%{x}<br>euclidean_all=%{y}<extra></extra>",
         "legendgroup": "133",
         "line": {
          "color": "#FF97FF",
          "dash": "solid"
         },
         "marker": {
          "symbol": "circle"
         },
         "mode": "lines",
         "name": "133",
         "showlegend": true,
         "type": "scattergl",
         "x": [
          1,
          2,
          3,
          4,
          5,
          6,
          7,
          8,
          9,
          10,
          11,
          12,
          13,
          14,
          15,
          16,
          17,
          18,
          19,
          20,
          21,
          22,
          23,
          24,
          25,
          26,
          27
         ],
         "xaxis": "x",
         "y": [
          0.2725394998525746,
          3.0845021470645158,
          3.05688042919773,
          4.594498349945027,
          0.3858756276314944,
          4.037764757189866,
          3.1962478001556764,
          1.5861150860396518,
          2.8996815221773424,
          2.9370223015836974,
          1.2759591818112341,
          2.808101296650377,
          2.9614021958481223,
          3.3747490279856898,
          3.3290206111664693,
          3.1957997778014775,
          3.1370891899034272,
          2.671269647601047,
          3.169499216860103,
          1.4561102984594005,
          1.211159443097008,
          1.0438175772148113,
          0,
          1.3071073006586023,
          0.0919999999999998,
          0.849754554894272,
          2.601022483257709
         ],
         "yaxis": "y"
        },
        {
         "hovertemplate": "Pacjent=139<br>BADANIE_NR=%{x}<br>euclidean_all=%{y}<extra></extra>",
         "legendgroup": "139",
         "line": {
          "color": "#FECB52",
          "dash": "solid"
         },
         "marker": {
          "symbol": "circle"
         },
         "mode": "lines",
         "name": "139",
         "showlegend": true,
         "type": "scattergl",
         "x": [
          1,
          2,
          3,
          4,
          5,
          6,
          7,
          8,
          9,
          10,
          11,
          12,
          13,
          14,
          15,
          16,
          17,
          18,
          19,
          20,
          21,
          22,
          23,
          24,
          25,
          26,
          27,
          28,
          29,
          30,
          31,
          32
         ],
         "xaxis": "x",
         "y": [
          1.0509168492196592,
          1.3939027525484526,
          3.4863819324919136,
          1.9597571316678177,
          2.2455926943176965,
          1.9547092203460503,
          1.8054462869041634,
          2.4293863064027796,
          3.076283938999445,
          4.061090581454081,
          4.203407925154922,
          4.672009497973125,
          4.254605244261688,
          4.210693470345565,
          3.634091909619436,
          3.90532378262716,
          4.047338036238648,
          3.276955577087482,
          3.004701699057533,
          2.691057246505498,
          2.977388002842542,
          3.258829042720505,
          3.333559778067712,
          2.746234713925551,
          2.6475175890808402,
          2.8140935602848307,
          2.8818247638132086,
          1.9542941695976201,
          1.7462914937364866,
          1.9166856810651038,
          2.7005041887295675,
          2.2039014452421104
         ],
         "yaxis": "y"
        },
        {
         "hovertemplate": "Pacjent=142<br>BADANIE_NR=%{x}<br>euclidean_all=%{y}<extra></extra>",
         "legendgroup": "142",
         "line": {
          "color": "#636efa",
          "dash": "solid"
         },
         "marker": {
          "symbol": "circle"
         },
         "mode": "lines",
         "name": "142",
         "showlegend": true,
         "type": "scattergl",
         "x": [
          1,
          2,
          3,
          4,
          5,
          6,
          7,
          8,
          9,
          10,
          11,
          12,
          13,
          14,
          15,
          16,
          17,
          18,
          19,
          20,
          21
         ],
         "xaxis": "x",
         "y": [
          1.1679730429348743,
          1.4283103406710795,
          2.4261150607782778,
          2.4554736950743217,
          3.337016220690441,
          2.4760215728387336,
          2.3620596904177527,
          3.2532619663270426,
          3.1578020600752734,
          3.934781383617393,
          4.619301087078141,
          3.9811352884893534,
          3.156879321161703,
          3.8095091448092937,
          4.454175013092659,
          3.763887970947727,
          4.478629701991608,
          5.619191586576093,
          2.7676226891894866,
          3.5958005336371306,
          2.949121655255967
         ],
         "yaxis": "y"
        },
        {
         "hovertemplate": "Pacjent=144<br>BADANIE_NR=%{x}<br>euclidean_all=%{y}<extra></extra>",
         "legendgroup": "144",
         "line": {
          "color": "#EF553B",
          "dash": "solid"
         },
         "marker": {
          "symbol": "circle"
         },
         "mode": "lines",
         "name": "144",
         "showlegend": true,
         "type": "scattergl",
         "x": [
          1,
          2,
          3,
          4,
          5,
          6,
          7,
          8,
          9,
          10,
          11
         ],
         "xaxis": "x",
         "y": [
          5.440377079592443,
          2.3014019723423598,
          3.0074157425156964,
          5.586393335646451,
          4.047133770583085,
          3.483888386204054,
          3.526999671556231,
          3.345096944224504,
          3.997411799959454,
          3.2893497446549884,
          3.3339469788025906
         ],
         "yaxis": "y"
        }
       ],
       "layout": {
        "height": 800,
        "legend": {
         "title": {
          "text": "Pacjent"
         },
         "tracegroupgap": 0
        },
        "margin": {
         "t": 60
        },
        "showlegend": false,
        "template": {
         "data": {
          "bar": [
           {
            "error_x": {
             "color": "#2a3f5f"
            },
            "error_y": {
             "color": "#2a3f5f"
            },
            "marker": {
             "line": {
              "color": "white",
              "width": 0.5
             },
             "pattern": {
              "fillmode": "overlay",
              "size": 10,
              "solidity": 0.2
             }
            },
            "type": "bar"
           }
          ],
          "barpolar": [
           {
            "marker": {
             "line": {
              "color": "white",
              "width": 0.5
             },
             "pattern": {
              "fillmode": "overlay",
              "size": 10,
              "solidity": 0.2
             }
            },
            "type": "barpolar"
           }
          ],
          "carpet": [
           {
            "aaxis": {
             "endlinecolor": "#2a3f5f",
             "gridcolor": "#C8D4E3",
             "linecolor": "#C8D4E3",
             "minorgridcolor": "#C8D4E3",
             "startlinecolor": "#2a3f5f"
            },
            "baxis": {
             "endlinecolor": "#2a3f5f",
             "gridcolor": "#C8D4E3",
             "linecolor": "#C8D4E3",
             "minorgridcolor": "#C8D4E3",
             "startlinecolor": "#2a3f5f"
            },
            "type": "carpet"
           }
          ],
          "choropleth": [
           {
            "colorbar": {
             "outlinewidth": 0,
             "ticks": ""
            },
            "type": "choropleth"
           }
          ],
          "contour": [
           {
            "colorbar": {
             "outlinewidth": 0,
             "ticks": ""
            },
            "colorscale": [
             [
              0,
              "#0d0887"
             ],
             [
              0.1111111111111111,
              "#46039f"
             ],
             [
              0.2222222222222222,
              "#7201a8"
             ],
             [
              0.3333333333333333,
              "#9c179e"
             ],
             [
              0.4444444444444444,
              "#bd3786"
             ],
             [
              0.5555555555555556,
              "#d8576b"
             ],
             [
              0.6666666666666666,
              "#ed7953"
             ],
             [
              0.7777777777777778,
              "#fb9f3a"
             ],
             [
              0.8888888888888888,
              "#fdca26"
             ],
             [
              1,
              "#f0f921"
             ]
            ],
            "type": "contour"
           }
          ],
          "contourcarpet": [
           {
            "colorbar": {
             "outlinewidth": 0,
             "ticks": ""
            },
            "type": "contourcarpet"
           }
          ],
          "heatmap": [
           {
            "colorbar": {
             "outlinewidth": 0,
             "ticks": ""
            },
            "colorscale": [
             [
              0,
              "#0d0887"
             ],
             [
              0.1111111111111111,
              "#46039f"
             ],
             [
              0.2222222222222222,
              "#7201a8"
             ],
             [
              0.3333333333333333,
              "#9c179e"
             ],
             [
              0.4444444444444444,
              "#bd3786"
             ],
             [
              0.5555555555555556,
              "#d8576b"
             ],
             [
              0.6666666666666666,
              "#ed7953"
             ],
             [
              0.7777777777777778,
              "#fb9f3a"
             ],
             [
              0.8888888888888888,
              "#fdca26"
             ],
             [
              1,
              "#f0f921"
             ]
            ],
            "type": "heatmap"
           }
          ],
          "heatmapgl": [
           {
            "colorbar": {
             "outlinewidth": 0,
             "ticks": ""
            },
            "colorscale": [
             [
              0,
              "#0d0887"
             ],
             [
              0.1111111111111111,
              "#46039f"
             ],
             [
              0.2222222222222222,
              "#7201a8"
             ],
             [
              0.3333333333333333,
              "#9c179e"
             ],
             [
              0.4444444444444444,
              "#bd3786"
             ],
             [
              0.5555555555555556,
              "#d8576b"
             ],
             [
              0.6666666666666666,
              "#ed7953"
             ],
             [
              0.7777777777777778,
              "#fb9f3a"
             ],
             [
              0.8888888888888888,
              "#fdca26"
             ],
             [
              1,
              "#f0f921"
             ]
            ],
            "type": "heatmapgl"
           }
          ],
          "histogram": [
           {
            "marker": {
             "pattern": {
              "fillmode": "overlay",
              "size": 10,
              "solidity": 0.2
             }
            },
            "type": "histogram"
           }
          ],
          "histogram2d": [
           {
            "colorbar": {
             "outlinewidth": 0,
             "ticks": ""
            },
            "colorscale": [
             [
              0,
              "#0d0887"
             ],
             [
              0.1111111111111111,
              "#46039f"
             ],
             [
              0.2222222222222222,
              "#7201a8"
             ],
             [
              0.3333333333333333,
              "#9c179e"
             ],
             [
              0.4444444444444444,
              "#bd3786"
             ],
             [
              0.5555555555555556,
              "#d8576b"
             ],
             [
              0.6666666666666666,
              "#ed7953"
             ],
             [
              0.7777777777777778,
              "#fb9f3a"
             ],
             [
              0.8888888888888888,
              "#fdca26"
             ],
             [
              1,
              "#f0f921"
             ]
            ],
            "type": "histogram2d"
           }
          ],
          "histogram2dcontour": [
           {
            "colorbar": {
             "outlinewidth": 0,
             "ticks": ""
            },
            "colorscale": [
             [
              0,
              "#0d0887"
             ],
             [
              0.1111111111111111,
              "#46039f"
             ],
             [
              0.2222222222222222,
              "#7201a8"
             ],
             [
              0.3333333333333333,
              "#9c179e"
             ],
             [
              0.4444444444444444,
              "#bd3786"
             ],
             [
              0.5555555555555556,
              "#d8576b"
             ],
             [
              0.6666666666666666,
              "#ed7953"
             ],
             [
              0.7777777777777778,
              "#fb9f3a"
             ],
             [
              0.8888888888888888,
              "#fdca26"
             ],
             [
              1,
              "#f0f921"
             ]
            ],
            "type": "histogram2dcontour"
           }
          ],
          "mesh3d": [
           {
            "colorbar": {
             "outlinewidth": 0,
             "ticks": ""
            },
            "type": "mesh3d"
           }
          ],
          "parcoords": [
           {
            "line": {
             "colorbar": {
              "outlinewidth": 0,
              "ticks": ""
             }
            },
            "type": "parcoords"
           }
          ],
          "pie": [
           {
            "automargin": true,
            "type": "pie"
           }
          ],
          "scatter": [
           {
            "marker": {
             "colorbar": {
              "outlinewidth": 0,
              "ticks": ""
             }
            },
            "type": "scatter"
           }
          ],
          "scatter3d": [
           {
            "line": {
             "colorbar": {
              "outlinewidth": 0,
              "ticks": ""
             }
            },
            "marker": {
             "colorbar": {
              "outlinewidth": 0,
              "ticks": ""
             }
            },
            "type": "scatter3d"
           }
          ],
          "scattercarpet": [
           {
            "marker": {
             "colorbar": {
              "outlinewidth": 0,
              "ticks": ""
             }
            },
            "type": "scattercarpet"
           }
          ],
          "scattergeo": [
           {
            "marker": {
             "colorbar": {
              "outlinewidth": 0,
              "ticks": ""
             }
            },
            "type": "scattergeo"
           }
          ],
          "scattergl": [
           {
            "marker": {
             "colorbar": {
              "outlinewidth": 0,
              "ticks": ""
             }
            },
            "type": "scattergl"
           }
          ],
          "scattermapbox": [
           {
            "marker": {
             "colorbar": {
              "outlinewidth": 0,
              "ticks": ""
             }
            },
            "type": "scattermapbox"
           }
          ],
          "scatterpolar": [
           {
            "marker": {
             "colorbar": {
              "outlinewidth": 0,
              "ticks": ""
             }
            },
            "type": "scatterpolar"
           }
          ],
          "scatterpolargl": [
           {
            "marker": {
             "colorbar": {
              "outlinewidth": 0,
              "ticks": ""
             }
            },
            "type": "scatterpolargl"
           }
          ],
          "scatterternary": [
           {
            "marker": {
             "colorbar": {
              "outlinewidth": 0,
              "ticks": ""
             }
            },
            "type": "scatterternary"
           }
          ],
          "surface": [
           {
            "colorbar": {
             "outlinewidth": 0,
             "ticks": ""
            },
            "colorscale": [
             [
              0,
              "#0d0887"
             ],
             [
              0.1111111111111111,
              "#46039f"
             ],
             [
              0.2222222222222222,
              "#7201a8"
             ],
             [
              0.3333333333333333,
              "#9c179e"
             ],
             [
              0.4444444444444444,
              "#bd3786"
             ],
             [
              0.5555555555555556,
              "#d8576b"
             ],
             [
              0.6666666666666666,
              "#ed7953"
             ],
             [
              0.7777777777777778,
              "#fb9f3a"
             ],
             [
              0.8888888888888888,
              "#fdca26"
             ],
             [
              1,
              "#f0f921"
             ]
            ],
            "type": "surface"
           }
          ],
          "table": [
           {
            "cells": {
             "fill": {
              "color": "#EBF0F8"
             },
             "line": {
              "color": "white"
             }
            },
            "header": {
             "fill": {
              "color": "#C8D4E3"
             },
             "line": {
              "color": "white"
             }
            },
            "type": "table"
           }
          ]
         },
         "layout": {
          "annotationdefaults": {
           "arrowcolor": "#2a3f5f",
           "arrowhead": 0,
           "arrowwidth": 1
          },
          "autotypenumbers": "strict",
          "coloraxis": {
           "colorbar": {
            "outlinewidth": 0,
            "ticks": ""
           }
          },
          "colorscale": {
           "diverging": [
            [
             0,
             "#8e0152"
            ],
            [
             0.1,
             "#c51b7d"
            ],
            [
             0.2,
             "#de77ae"
            ],
            [
             0.3,
             "#f1b6da"
            ],
            [
             0.4,
             "#fde0ef"
            ],
            [
             0.5,
             "#f7f7f7"
            ],
            [
             0.6,
             "#e6f5d0"
            ],
            [
             0.7,
             "#b8e186"
            ],
            [
             0.8,
             "#7fbc41"
            ],
            [
             0.9,
             "#4d9221"
            ],
            [
             1,
             "#276419"
            ]
           ],
           "sequential": [
            [
             0,
             "#0d0887"
            ],
            [
             0.1111111111111111,
             "#46039f"
            ],
            [
             0.2222222222222222,
             "#7201a8"
            ],
            [
             0.3333333333333333,
             "#9c179e"
            ],
            [
             0.4444444444444444,
             "#bd3786"
            ],
            [
             0.5555555555555556,
             "#d8576b"
            ],
            [
             0.6666666666666666,
             "#ed7953"
            ],
            [
             0.7777777777777778,
             "#fb9f3a"
            ],
            [
             0.8888888888888888,
             "#fdca26"
            ],
            [
             1,
             "#f0f921"
            ]
           ],
           "sequentialminus": [
            [
             0,
             "#0d0887"
            ],
            [
             0.1111111111111111,
             "#46039f"
            ],
            [
             0.2222222222222222,
             "#7201a8"
            ],
            [
             0.3333333333333333,
             "#9c179e"
            ],
            [
             0.4444444444444444,
             "#bd3786"
            ],
            [
             0.5555555555555556,
             "#d8576b"
            ],
            [
             0.6666666666666666,
             "#ed7953"
            ],
            [
             0.7777777777777778,
             "#fb9f3a"
            ],
            [
             0.8888888888888888,
             "#fdca26"
            ],
            [
             1,
             "#f0f921"
            ]
           ]
          },
          "colorway": [
           "#636efa",
           "#EF553B",
           "#00cc96",
           "#ab63fa",
           "#FFA15A",
           "#19d3f3",
           "#FF6692",
           "#B6E880",
           "#FF97FF",
           "#FECB52"
          ],
          "font": {
           "color": "#2a3f5f"
          },
          "geo": {
           "bgcolor": "white",
           "lakecolor": "white",
           "landcolor": "white",
           "showlakes": true,
           "showland": true,
           "subunitcolor": "#C8D4E3"
          },
          "hoverlabel": {
           "align": "left"
          },
          "hovermode": "closest",
          "mapbox": {
           "style": "light"
          },
          "paper_bgcolor": "white",
          "plot_bgcolor": "white",
          "polar": {
           "angularaxis": {
            "gridcolor": "#EBF0F8",
            "linecolor": "#EBF0F8",
            "ticks": ""
           },
           "bgcolor": "white",
           "radialaxis": {
            "gridcolor": "#EBF0F8",
            "linecolor": "#EBF0F8",
            "ticks": ""
           }
          },
          "scene": {
           "xaxis": {
            "backgroundcolor": "white",
            "gridcolor": "#DFE8F3",
            "gridwidth": 2,
            "linecolor": "#EBF0F8",
            "showbackground": true,
            "ticks": "",
            "zerolinecolor": "#EBF0F8"
           },
           "yaxis": {
            "backgroundcolor": "white",
            "gridcolor": "#DFE8F3",
            "gridwidth": 2,
            "linecolor": "#EBF0F8",
            "showbackground": true,
            "ticks": "",
            "zerolinecolor": "#EBF0F8"
           },
           "zaxis": {
            "backgroundcolor": "white",
            "gridcolor": "#DFE8F3",
            "gridwidth": 2,
            "linecolor": "#EBF0F8",
            "showbackground": true,
            "ticks": "",
            "zerolinecolor": "#EBF0F8"
           }
          },
          "shapedefaults": {
           "line": {
            "color": "#2a3f5f"
           }
          },
          "ternary": {
           "aaxis": {
            "gridcolor": "#DFE8F3",
            "linecolor": "#A2B1C6",
            "ticks": ""
           },
           "baxis": {
            "gridcolor": "#DFE8F3",
            "linecolor": "#A2B1C6",
            "ticks": ""
           },
           "bgcolor": "white",
           "caxis": {
            "gridcolor": "#DFE8F3",
            "linecolor": "#A2B1C6",
            "ticks": ""
           }
          },
          "title": {
           "x": 0.05
          },
          "xaxis": {
           "automargin": true,
           "gridcolor": "#EBF0F8",
           "linecolor": "#EBF0F8",
           "ticks": "",
           "title": {
            "standoff": 15
           },
           "zerolinecolor": "#EBF0F8",
           "zerolinewidth": 2
          },
          "yaxis": {
           "automargin": true,
           "gridcolor": "#EBF0F8",
           "linecolor": "#EBF0F8",
           "ticks": "",
           "title": {
            "standoff": 15
           },
           "zerolinecolor": "#EBF0F8",
           "zerolinewidth": 2
          }
         }
        },
        "width": 800,
        "xaxis": {
         "anchor": "y",
         "domain": [
          0,
          1
         ],
         "range": [
          0,
          65
         ],
         "tickfont": {
          "size": 18
         },
         "title": {
          "font": {
           "size": 24
          },
          "text": "Numer badania"
         }
        },
        "yaxis": {
         "anchor": "x",
         "domain": [
          0,
          1
         ],
         "range": [
          0,
          15
         ],
         "tickfont": {
          "size": 18
         },
         "title": {
          "font": {
           "size": 24
          },
          "text": "Odległość od normy (Miernik 1)"
         }
        }
       }
      }
     },
     "metadata": {},
     "output_type": "display_data"
    },
    {
     "data": {
      "application/vnd.plotly.v1+json": {
       "config": {
        "plotlyServerURL": "https://plot.ly"
       },
       "data": [
        {
         "hovertemplate": "Pacjent=7<br>BADANIE_NR=%{x}<br>euclidean_all=%{y}<extra></extra>",
         "legendgroup": "7",
         "line": {
          "color": "#636efa",
          "dash": "solid"
         },
         "marker": {
          "symbol": "circle"
         },
         "mode": "lines",
         "name": "7",
         "showlegend": true,
         "type": "scattergl",
         "x": [
          1,
          2,
          3,
          4,
          5,
          6,
          7,
          8,
          9,
          10,
          11,
          12
         ],
         "xaxis": "x",
         "y": [
          0.9531763473314336,
          0.5382139789449496,
          0,
          0.22984413901143314,
          0.5119999999999999,
          0.7510477178307445,
          1.943005514471829,
          0.45988002150747515,
          1.9806005217007565,
          1.9417814371167703,
          3.364231797225492,
          0.812246577955012
         ],
         "yaxis": "y"
        },
        {
         "hovertemplate": "Pacjent=11<br>BADANIE_NR=%{x}<br>euclidean_all=%{y}<extra></extra>",
         "legendgroup": "11",
         "line": {
          "color": "#EF553B",
          "dash": "solid"
         },
         "marker": {
          "symbol": "circle"
         },
         "mode": "lines",
         "name": "11",
         "showlegend": true,
         "type": "scattergl",
         "x": [
          1,
          2,
          3,
          4,
          5,
          6,
          7,
          8,
          9,
          10,
          11,
          12,
          13,
          14,
          15,
          16,
          17
         ],
         "xaxis": "x",
         "y": [
          5.338394026718338,
          7.261697573874208,
          4.816275625475119,
          4.092215543281196,
          4.0885677023757685,
          4.955611509709111,
          3.904652613229628,
          4.042446023425322,
          4.157830960501724,
          5.544611746025628,
          5.036774426021183,
          4.757134895734581,
          3.586684724075376,
          2.9633209641410865,
          2.9541740862119292,
          2.735530989113661,
          8.169206439911873
         ],
         "yaxis": "y"
        },
        {
         "hovertemplate": "Pacjent=12<br>BADANIE_NR=%{x}<br>euclidean_all=%{y}<extra></extra>",
         "legendgroup": "12",
         "line": {
          "color": "#00cc96",
          "dash": "solid"
         },
         "marker": {
          "symbol": "circle"
         },
         "mode": "lines",
         "name": "12",
         "showlegend": true,
         "type": "scattergl",
         "x": [
          1,
          2,
          3,
          4,
          5,
          6,
          7,
          8,
          9,
          10,
          11,
          12,
          13,
          14,
          15,
          16,
          17,
          18,
          19,
          20,
          21,
          22,
          23,
          24,
          25,
          26,
          27,
          28,
          29,
          30,
          31,
          32,
          33,
          34,
          35,
          36,
          37,
          38,
          39,
          40,
          41,
          42,
          43,
          44,
          45,
          46,
          47,
          48,
          49
         ],
         "xaxis": "x",
         "y": [
          3.5873142444180814,
          5.756227900783507,
          12.430631323405283,
          7.190894025487819,
          7.461880645636034,
          7.132695086087473,
          3.8197573743983053,
          3.6342421228983635,
          0.7415824217689856,
          1.810637611910193,
          2.228080868130595,
          0.3405154178229119,
          1.2708974459107185,
          0,
          0.2731542284391323,
          0.7080706179471086,
          0,
          0,
          0,
          0.7039999999999995,
          0,
          2.0620145489302444,
          1.1439730587597952,
          3.190488203897023,
          1.7814009821927457,
          0.5347085491313724,
          2.1421517118372924,
          1.4101391747137004,
          1.3742943912146364,
          0.994181229863504,
          0,
          0.17391304347826098,
          1.036,
          0,
          0,
          0.3999999999999999,
          0,
          0.5625598538170864,
          0.7653833812063359,
          0.5785427557465768,
          1.2317787129722486,
          2.1444238011181014,
          2.067534012356152,
          1.9237927726284922,
          1.8207717593432542,
          0,
          1.5010421181478175,
          1.0473411289802794,
          1.5512442013062873
         ],
         "yaxis": "y"
        },
        {
         "hovertemplate": "Pacjent=21<br>BADANIE_NR=%{x}<br>euclidean_all=%{y}<extra></extra>",
         "legendgroup": "21",
         "line": {
          "color": "#ab63fa",
          "dash": "solid"
         },
         "marker": {
          "symbol": "circle"
         },
         "mode": "lines",
         "name": "21",
         "showlegend": true,
         "type": "scattergl",
         "x": [
          1,
          2,
          3,
          4,
          5,
          6,
          7,
          8,
          9,
          10,
          11,
          12,
          13,
          14,
          15,
          16,
          17,
          18,
          19,
          20,
          21,
          22,
          23,
          24,
          25,
          26,
          27,
          28,
          29,
          30,
          31,
          32,
          33,
          34,
          35,
          36,
          37,
          38,
          39,
          40,
          41,
          42,
          43,
          44,
          45,
          46,
          47,
          48,
          49,
          50,
          51,
          52,
          53,
          54,
          55,
          56,
          57,
          58,
          59,
          60,
          61,
          62,
          63,
          64
         ],
         "xaxis": "x",
         "y": [
          1.8160156041341633,
          1.3379296229539177,
          5.226415634423712,
          2.7052939659017823,
          1.548129193575265,
          0.25564913567214653,
          0.3703733955469091,
          4.176033099980045,
          0.27870483266102886,
          1.1114993055004263,
          2.008415832826773,
          2.4114263369185953,
          0.7153502983838942,
          0.5,
          0,
          1.2739477187742565,
          2.6996232525344084,
          3.6808063080046454,
          4.188120384164,
          3.337784852297531,
          2.6084437863920864,
          2.767016900114607,
          1.9558870004200393,
          1.3471909443184682,
          1.8520273977567363,
          0.3551760176674002,
          4.627154402246694,
          3.3884628497199074,
          4.055599246429195,
          3.594180329639287,
          3.8772925375253924,
          3.96128039556083,
          4.153452240909234,
          3.426879406257005,
          3.587483492252385,
          4.360323365161266,
          4.2252428590168,
          3.6263027107118964,
          4.061316642834456,
          3.391271611882136,
          2.995167016678707,
          5.69814134872237,
          5.890082958205141,
          3.1500906867253153,
          3.2336142221387743,
          3.9491718794047563,
          2.7472089931626043,
          3.5593044571117085,
          2.7871815699680837,
          3.7603147115206514,
          2.781955663861303,
          2.937304229409318,
          3.4976129054110077,
          3.2000654163918503,
          3.696645807769566,
          4.327119189433956,
          2.656036423327359,
          3.828867279329766,
          2.406657786500451,
          2.4855461324545045,
          2.815142216891227,
          2.492447002544185,
          3.5315780250871867,
          2.4674135802409056
         ],
         "yaxis": "y"
        },
        {
         "hovertemplate": "Pacjent=22<br>BADANIE_NR=%{x}<br>euclidean_all=%{y}<extra></extra>",
         "legendgroup": "22",
         "line": {
          "color": "#FFA15A",
          "dash": "solid"
         },
         "marker": {
          "symbol": "circle"
         },
         "mode": "lines",
         "name": "22",
         "showlegend": true,
         "type": "scattergl",
         "x": [
          1,
          2,
          3,
          4,
          5,
          6,
          7,
          8,
          9,
          10,
          11,
          12,
          13,
          14,
          15,
          16,
          17,
          18,
          19,
          20,
          21,
          22,
          23,
          24,
          25,
          26,
          27,
          28,
          29,
          30,
          31,
          32,
          33
         ],
         "xaxis": "x",
         "y": [
          1.6583171020351097,
          2.2377974497405013,
          2.873363737060866,
          1.877830258727683,
          1.5862707246476149,
          0.6161667279827497,
          0.8643850048866929,
          0.94204459295878,
          1.0024638833539652,
          1.2524278124230608,
          1.0738361141254282,
          1.7204655478454811,
          1.8547320566298409,
          1.6935499923413975,
          1.8729366971298251,
          1.2783490800678805,
          1.6164005848370713,
          1.4690580061150795,
          1.617760885778203,
          1.7073520879962558,
          2.0061625284949476,
          1.4863734554779087,
          2.0980169482292714,
          1.6792063477762638,
          0.9398124093878097,
          1.0406016901099866,
          2.927327116222002,
          1.6606677859360102,
          1.3414427692650963,
          1.128495808663077,
          1.4519200507081629,
          0.8518829849444154,
          4.341242450553015
         ],
         "yaxis": "y"
        },
        {
         "hovertemplate": "Pacjent=25<br>BADANIE_NR=%{x}<br>euclidean_all=%{y}<extra></extra>",
         "legendgroup": "25",
         "line": {
          "color": "#19d3f3",
          "dash": "solid"
         },
         "marker": {
          "symbol": "circle"
         },
         "mode": "lines",
         "name": "25",
         "showlegend": true,
         "type": "scattergl",
         "x": [
          1,
          2,
          3,
          4,
          5,
          6,
          7,
          8,
          9,
          10,
          11,
          12,
          13,
          14,
          15,
          16
         ],
         "xaxis": "x",
         "y": [
          0.9206831358686699,
          1.447162965373012,
          4.157848117634739,
          2.462722118795488,
          2.652814675269129,
          2.7763157428451386,
          2.666594758061355,
          2.900841055276438,
          3.0999693723349195,
          3.228904618223025,
          3.132761006465301,
          3.395305582712697,
          2.055813581539335,
          2.6634352796435903,
          1.3191977856756614,
          0.7100000000000002
         ],
         "yaxis": "y"
        },
        {
         "hovertemplate": "Pacjent=27<br>BADANIE_NR=%{x}<br>euclidean_all=%{y}<extra></extra>",
         "legendgroup": "27",
         "line": {
          "color": "#FF6692",
          "dash": "solid"
         },
         "marker": {
          "symbol": "circle"
         },
         "mode": "lines",
         "name": "27",
         "showlegend": true,
         "type": "scattergl",
         "x": [
          1,
          2,
          3,
          4,
          5,
          6,
          7,
          8,
          9,
          10,
          11,
          12,
          13,
          14,
          15,
          16,
          17,
          18,
          19,
          20,
          21,
          22,
          23,
          24,
          25,
          26
         ],
         "xaxis": "x",
         "y": [
          1.4824508613394525,
          2.736220719610833,
          2.742773052490562,
          2.724196935663485,
          3.452018240126571,
          2.159037170019481,
          3.1622393185933384,
          3.089374242992129,
          2.9805596362851396,
          2.9662550040392643,
          2.5815703454970786,
          3.438589003654926,
          2.410795828820972,
          2.6546132667567046,
          2.207544244582553,
          2.7196035999076598,
          2.329619747493796,
          1.6298077089647016,
          2.75248513627892,
          2.0020464236213344,
          1.7638630775277309,
          1.1302411402404167,
          0.9025746561765775,
          1.3472362150389077,
          0.8677952464677715,
          3.5596611146856842
         ],
         "yaxis": "y"
        },
        {
         "hovertemplate": "Pacjent=30<br>BADANIE_NR=%{x}<br>euclidean_all=%{y}<extra></extra>",
         "legendgroup": "30",
         "line": {
          "color": "#B6E880",
          "dash": "solid"
         },
         "marker": {
          "symbol": "circle"
         },
         "mode": "lines",
         "name": "30",
         "showlegend": true,
         "type": "scattergl",
         "x": [
          1,
          2,
          3,
          4,
          5,
          6,
          7,
          8,
          9,
          10,
          11,
          12
         ],
         "xaxis": "x",
         "y": [
          4.085319787003887,
          2.6246636871576543,
          3.3704523058504328,
          3.8722762468857983,
          2.039474566334033,
          1.6162057567361656,
          1.0033584113331317,
          2.2582480423408997,
          2.001871797395041,
          1.2235809377981302,
          2.371694988461816,
          2.2143975519801002
         ],
         "yaxis": "y"
        },
        {
         "hovertemplate": "Pacjent=31<br>BADANIE_NR=%{x}<br>euclidean_all=%{y}<extra></extra>",
         "legendgroup": "31",
         "line": {
          "color": "#FF97FF",
          "dash": "solid"
         },
         "marker": {
          "symbol": "circle"
         },
         "mode": "lines",
         "name": "31",
         "showlegend": true,
         "type": "scattergl",
         "x": [
          1,
          2,
          3,
          4,
          5,
          6,
          7,
          8,
          9,
          10,
          11
         ],
         "xaxis": "x",
         "y": [
          3.8420657146688164,
          4.273520619394837,
          2.7375410459579936,
          3.731792681457992,
          3.496798734725828,
          3.3954563081369247,
          2.862377814469763,
          3.8509930317783736,
          4.076489640824878,
          3.6735943755721236,
          4.427938012962445
         ],
         "yaxis": "y"
        },
        {
         "hovertemplate": "Pacjent=32<br>BADANIE_NR=%{x}<br>euclidean_all=%{y}<extra></extra>",
         "legendgroup": "32",
         "line": {
          "color": "#FECB52",
          "dash": "solid"
         },
         "marker": {
          "symbol": "circle"
         },
         "mode": "lines",
         "name": "32",
         "showlegend": true,
         "type": "scattergl",
         "x": [
          1,
          2,
          3,
          4,
          5,
          6,
          7,
          8,
          9,
          10,
          11,
          12,
          13,
          14,
          15,
          16,
          17,
          18,
          19,
          20,
          21,
          22,
          23,
          24,
          25,
          26,
          27,
          28,
          29,
          30,
          31
         ],
         "xaxis": "x",
         "y": [
          1.8432743102568547,
          2.1401149895435854,
          0.6975710153663318,
          1.5535691449118103,
          3.65080440537868,
          3.4080930236355793,
          2.7971027408572526,
          2.9194278332142316,
          2.1061000986916287,
          2.046060267014901,
          2.728802807600979,
          3.4144950763459785,
          3.167519617824106,
          2.565107375919431,
          2.7919438277470188,
          3.058457483190742,
          2.8666872435949693,
          2.3633289908393476,
          2.4850342741164386,
          2.294685011592584,
          2.8304688624316476,
          2.1724310797071373,
          2.7617929073792156,
          1.9359066902438944,
          1.9061079884699508,
          2.0336298709943,
          2.5235017448618264,
          2.50325429220367,
          2.0581855764223627,
          2.116884028885482,
          2.4004631225893958
         ],
         "yaxis": "y"
        },
        {
         "hovertemplate": "Pacjent=36<br>BADANIE_NR=%{x}<br>euclidean_all=%{y}<extra></extra>",
         "legendgroup": "36",
         "line": {
          "color": "#636efa",
          "dash": "solid"
         },
         "marker": {
          "symbol": "circle"
         },
         "mode": "lines",
         "name": "36",
         "showlegend": true,
         "type": "scattergl",
         "x": [
          1,
          2,
          3,
          4,
          5,
          6,
          7,
          8
         ],
         "xaxis": "x",
         "y": [
          2.11236891346216,
          5.050332523283124,
          3.763433902293371,
          3.170615422611522,
          5.431118723211893,
          5.360844541292111,
          4.787583560243843,
          4.777804333021406
         ],
         "yaxis": "y"
        },
        {
         "hovertemplate": "Pacjent=37<br>BADANIE_NR=%{x}<br>euclidean_all=%{y}<extra></extra>",
         "legendgroup": "37",
         "line": {
          "color": "#EF553B",
          "dash": "solid"
         },
         "marker": {
          "symbol": "circle"
         },
         "mode": "lines",
         "name": "37",
         "showlegend": true,
         "type": "scattergl",
         "x": [
          1,
          2,
          3,
          4,
          5,
          6,
          7,
          8,
          9,
          10,
          11,
          12,
          13,
          14,
          15,
          16,
          17,
          18,
          19,
          20,
          21,
          22,
          23,
          24,
          25,
          26,
          27,
          28,
          29,
          30,
          31,
          32,
          33,
          34,
          35,
          36,
          37,
          38,
          39,
          40,
          41,
          42,
          43,
          44,
          45,
          46,
          47,
          48,
          49,
          50,
          51
         ],
         "xaxis": "x",
         "y": [
          6.838781644650086,
          3.6830118570136157,
          3.0616217585321572,
          3.4618346918302465,
          2.2592669978020075,
          3.199423129714005,
          2.735432977204675,
          2.3240066778654973,
          3.1430555070830235,
          2.712311545638686,
          2.9690402489693537,
          3.1588496778204362,
          2.731947757864844,
          2.8375735622792644,
          3.3865612331807764,
          2.621970682540965,
          3.02356583883817,
          2.3598814549495257,
          2.6828425821364927,
          1.6870487893467163,
          1.6558171181994992,
          3.2236218919220967,
          3.124444580240442,
          2.6995513174766628,
          2.966682322056071,
          1.9473807720770937,
          2.0272700792345195,
          2.85828418265383,
          2.8718110065717974,
          2.5172176856852597,
          4.037611846320805,
          4.541168956183719,
          4.321657486793446,
          4.790951221895922,
          3.446981903341817,
          3.238432984731559,
          4.357194685506973,
          2.7569784931310353,
          3.711509814613152,
          4.413642473805333,
          4.735852476244228,
          3.725013197221011,
          4.496581456390049,
          5.8181018582679815,
          6.514787968613594,
          7.750314272509713,
          5.771573206490826,
          5.865555751457705,
          6.9674918117962665,
          5.864892403662334,
          4.8505361113084975
         ],
         "yaxis": "y"
        },
        {
         "hovertemplate": "Pacjent=42<br>BADANIE_NR=%{x}<br>euclidean_all=%{y}<extra></extra>",
         "legendgroup": "42",
         "line": {
          "color": "#00cc96",
          "dash": "solid"
         },
         "marker": {
          "symbol": "circle"
         },
         "mode": "lines",
         "name": "42",
         "showlegend": true,
         "type": "scattergl",
         "x": [
          1,
          2,
          3,
          4,
          5,
          6,
          7,
          8,
          9,
          10,
          11,
          12,
          13,
          14,
          15,
          16,
          17,
          18,
          19
         ],
         "xaxis": "x",
         "y": [
          3.3000298924507305,
          1.2250344715055517,
          1.0067644549699328,
          1.6466146947819948,
          1.409246277493852,
          1.9013952967245005,
          2.6297124412432415,
          2.2282486107828228,
          2.756022318167658,
          1.9758477876980374,
          1.8790470194551416,
          2.237123794819129,
          0.6863322719087598,
          1.6382850339019315,
          2.758580871749144,
          0,
          1.528215953325969,
          1.7902097225357778,
          2.301105183637326
         ],
         "yaxis": "y"
        },
        {
         "hovertemplate": "Pacjent=48<br>BADANIE_NR=%{x}<br>euclidean_all=%{y}<extra></extra>",
         "legendgroup": "48",
         "line": {
          "color": "#ab63fa",
          "dash": "solid"
         },
         "marker": {
          "symbol": "circle"
         },
         "mode": "lines",
         "name": "48",
         "showlegend": true,
         "type": "scattergl",
         "x": [
          1,
          2,
          3,
          4,
          5,
          6,
          7,
          8,
          9,
          10,
          11,
          12,
          13,
          14,
          15,
          16,
          17,
          18,
          19,
          20,
          21,
          22,
          23,
          24,
          25,
          26,
          27,
          28,
          29,
          30,
          31,
          32,
          33,
          34,
          35,
          36,
          37,
          38
         ],
         "xaxis": "x",
         "y": [
          2.272610420032443,
          5.251210194774252,
          6.083994286706155,
          5.379112595473855,
          3.477585993675216,
          4.099934565021891,
          2.025159426114356,
          1.7589839244307823,
          2.681276871096905,
          1.2813952066410403,
          1.010705184061551,
          1.7476937150082144,
          1.3,
          1.2214278901400626,
          1.8149709804113536,
          1.7815286229540452,
          2.1349009459807116,
          2.113651816170298,
          3.0103320505918307,
          2.812344513660457,
          3.204107124462034,
          3.0288272766482676,
          3.258007715801946,
          2.2280507009554573,
          1.827884386184094,
          1.637979330490775,
          0.6072725785489915,
          0.673913043478261,
          0.12,
          0.170005191258571,
          0.0299999999999997,
          0,
          0.644,
          0.8560000000000003,
          0,
          0.1,
          0.13445462807613562,
          1.532698664852016
         ],
         "yaxis": "y"
        },
        {
         "hovertemplate": "Pacjent=51<br>BADANIE_NR=%{x}<br>euclidean_all=%{y}<extra></extra>",
         "legendgroup": "51",
         "line": {
          "color": "#FFA15A",
          "dash": "solid"
         },
         "marker": {
          "symbol": "circle"
         },
         "mode": "lines",
         "name": "51",
         "showlegend": true,
         "type": "scattergl",
         "x": [
          1,
          2,
          3,
          4,
          5,
          6,
          7
         ],
         "xaxis": "x",
         "y": [
          6.7404313135289105,
          6.350166477990866,
          5.558021130261145,
          3.985405588903069,
          3.1933169795458114,
          1.297299682787036,
          2.25758024781764
         ],
         "yaxis": "y"
        },
        {
         "hovertemplate": "Pacjent=52<br>BADANIE_NR=%{x}<br>euclidean_all=%{y}<extra></extra>",
         "legendgroup": "52",
         "line": {
          "color": "#19d3f3",
          "dash": "solid"
         },
         "marker": {
          "symbol": "circle"
         },
         "mode": "lines",
         "name": "52",
         "showlegend": true,
         "type": "scattergl",
         "x": [
          1,
          2,
          3,
          4,
          5,
          6,
          7,
          8,
          9,
          10,
          11,
          12,
          13,
          14,
          15,
          16,
          17,
          18,
          19,
          20,
          21,
          22,
          23,
          24,
          25,
          26,
          27,
          28
         ],
         "xaxis": "x",
         "y": [
          0.632412766660087,
          3.03238527954859,
          3.2614198957044436,
          2.1781018549801767,
          1.6717431377012566,
          2.1847236864150235,
          2.7812839163418404,
          3.2491379237633256,
          2.858190400051921,
          3.505069565336043,
          3.270946688951988,
          2.079365778754065,
          2.024749361902826,
          2.0470971694713627,
          1.3870517966751594,
          0.6521739130434785,
          0.9300772372748332,
          0.460447715054247,
          0,
          4.042084234508829,
          1.847612458494222,
          3.2868909434301847,
          3.504083940882264,
          4.578573750481337,
          2.014302435690038,
          2.6459518882820343,
          2.478010060673767,
          1.8303815693225656
         ],
         "yaxis": "y"
        },
        {
         "hovertemplate": "Pacjent=53<br>BADANIE_NR=%{x}<br>euclidean_all=%{y}<extra></extra>",
         "legendgroup": "53",
         "line": {
          "color": "#FF6692",
          "dash": "solid"
         },
         "marker": {
          "symbol": "circle"
         },
         "mode": "lines",
         "name": "53",
         "showlegend": true,
         "type": "scattergl",
         "x": [
          1,
          2,
          3,
          4,
          5,
          6,
          7,
          8,
          9,
          10,
          11,
          12,
          13,
          14,
          15,
          16,
          17,
          18,
          19,
          20
         ],
         "xaxis": "x",
         "y": [
          0.3541106250515219,
          2.956281382227025,
          3.5581476788192363,
          0.9343117762685549,
          0.7188545867031777,
          1.3924248205585004,
          2.403635742834328,
          1.406913862415567,
          4.076290472287642,
          1.9602355091717352,
          4.21170887547147,
          3.994966887613805,
          5.287667403967963,
          4.32612817196884,
          3.08417178686631,
          4.2013463306379,
          3.7828486680501268,
          2.5733696488682787,
          2.8119745512942784,
          4.64363996011092
         ],
         "yaxis": "y"
        },
        {
         "hovertemplate": "Pacjent=55<br>BADANIE_NR=%{x}<br>euclidean_all=%{y}<extra></extra>",
         "legendgroup": "55",
         "line": {
          "color": "#B6E880",
          "dash": "solid"
         },
         "marker": {
          "symbol": "circle"
         },
         "mode": "lines",
         "name": "55",
         "showlegend": true,
         "type": "scattergl",
         "x": [
          1,
          2,
          3,
          4,
          5,
          6,
          7,
          8,
          9,
          10,
          11,
          12,
          13,
          14,
          15,
          16,
          17,
          18,
          19,
          20,
          21,
          22,
          23,
          24,
          25
         ],
         "xaxis": "x",
         "y": [
          0.056500692366616,
          1.1906905559380239,
          0.8257974035201165,
          0.8379337084823383,
          0.5735510300353138,
          1.0520775661917336,
          0,
          0.7440000000000001,
          0.504073313861819,
          0.33465852010428493,
          0.17999999999999994,
          1.426101083607147,
          0,
          0.6240000000000001,
          0.2319999999999998,
          0,
          0.37139736132611345,
          2.6159866907571327,
          0.672741267857863,
          0.8003260252496299,
          0.504,
          0.4080000000000001,
          0.4680000000000001,
          1.6061797321145541,
          2.4030906670084704
         ],
         "yaxis": "y"
        },
        {
         "hovertemplate": "Pacjent=57<br>BADANIE_NR=%{x}<br>euclidean_all=%{y}<extra></extra>",
         "legendgroup": "57",
         "line": {
          "color": "#FF97FF",
          "dash": "solid"
         },
         "marker": {
          "symbol": "circle"
         },
         "mode": "lines",
         "name": "57",
         "showlegend": true,
         "type": "scattergl",
         "x": [
          1,
          2,
          3,
          4,
          5,
          6,
          7,
          8,
          9,
          10,
          11,
          12,
          13,
          14,
          15
         ],
         "xaxis": "x",
         "y": [
          0.5173409994640618,
          0.2080000000000001,
          0.5406075106488216,
          2.13609370128407,
          3.5214201680571997,
          0.6119999999999999,
          2.428056929342668,
          0,
          2.247081992623428,
          1.2256810182148121,
          1.7639999999999998,
          1.624,
          1.8279138536285195,
          6.2543710387362355,
          13.875215401696002
         ],
         "yaxis": "y"
        },
        {
         "hovertemplate": "Pacjent=61<br>BADANIE_NR=%{x}<br>euclidean_all=%{y}<extra></extra>",
         "legendgroup": "61",
         "line": {
          "color": "#FECB52",
          "dash": "solid"
         },
         "marker": {
          "symbol": "circle"
         },
         "mode": "lines",
         "name": "61",
         "showlegend": true,
         "type": "scattergl",
         "x": [
          1,
          2,
          3,
          4,
          5,
          6,
          7,
          8,
          9,
          10,
          11,
          12,
          13,
          14,
          15,
          16,
          17,
          18,
          19,
          20,
          21,
          22,
          23,
          24,
          25,
          26,
          27,
          28,
          29,
          30,
          31,
          32,
          33,
          34
         ],
         "xaxis": "x",
         "y": [
          0.7518746185000473,
          1.0294440146049955,
          1.027534606611271,
          0.9091062457171841,
          0.9165589316329747,
          0.6198235637812298,
          0.507067017502687,
          0.34386743590954466,
          0.29763741656023746,
          0,
          0.19288197855288278,
          0.2824728873856492,
          0.19799863042575513,
          0.16720743632928176,
          0.5742257441842198,
          0.5884437131332727,
          0.6474921207939993,
          0.5098703776173872,
          2.0439412907419823,
          0.6878688079004118,
          0.8357156989051429,
          0.2969781136716978,
          0.9336630545506727,
          0.4779763976107689,
          0.2583666157392329,
          1.7919999999999998,
          0.7850883855699943,
          0.9359999999999999,
          0.1700000000000003,
          1.2368849356406277,
          0.5332182614163533,
          0.6325285197031887,
          0.8286019854058184,
          0.44214291713001774
         ],
         "yaxis": "y"
        },
        {
         "hovertemplate": "Pacjent=62<br>BADANIE_NR=%{x}<br>euclidean_all=%{y}<extra></extra>",
         "legendgroup": "62",
         "line": {
          "color": "#636efa",
          "dash": "solid"
         },
         "marker": {
          "symbol": "circle"
         },
         "mode": "lines",
         "name": "62",
         "showlegend": true,
         "type": "scattergl",
         "x": [
          1,
          2,
          3,
          4,
          5,
          6,
          7,
          8,
          9,
          10,
          11
         ],
         "xaxis": "x",
         "y": [
          0.8762577932474229,
          0.9887847274491804,
          0.5980265097391635,
          0.6614305399422089,
          0,
          1.62154398173102,
          0,
          1.965543499299126,
          1.4731279812525926,
          5.244124472173176,
          4.07131922718356
         ],
         "yaxis": "y"
        },
        {
         "hovertemplate": "Pacjent=65<br>BADANIE_NR=%{x}<br>euclidean_all=%{y}<extra></extra>",
         "legendgroup": "65",
         "line": {
          "color": "#EF553B",
          "dash": "solid"
         },
         "marker": {
          "symbol": "circle"
         },
         "mode": "lines",
         "name": "65",
         "showlegend": true,
         "type": "scattergl",
         "x": [
          1,
          2,
          3,
          4,
          5,
          6,
          7,
          8,
          9,
          10,
          11,
          12,
          13,
          14,
          15,
          16,
          17,
          18,
          19,
          20,
          21,
          22,
          23,
          24,
          25,
          26,
          27,
          28,
          29,
          30,
          31,
          32,
          33,
          34,
          35,
          36,
          37
         ],
         "xaxis": "x",
         "y": [
          0.82,
          1.5966477487043944,
          0.6835322142493294,
          2.6868878667105527,
          2.8207183903786746,
          0.9982977185060474,
          1.0573445775713843,
          1.6520000000000006,
          0.9877620960596221,
          0.5615669476322191,
          3.390054085030635,
          2.4108833978278317,
          1.86179685730908,
          2.4565370743937365,
          2.3856972064116877,
          2.2738992974125436,
          2.4326800315918784,
          2.76322410035124,
          2.880354190833184,
          3.3236891346122697,
          2.6505949124200585,
          2.0702964163176656,
          0.9809305888115964,
          0.743782007619318,
          1.7957548732153819,
          0,
          0,
          0.4378572675741329,
          0.18999999999999995,
          0.13588230201170415,
          3.2433281898418405,
          0.23621176939348307,
          0.4299999999999995,
          0.5806754687430835,
          1.5388307249337076,
          0.44999999999999996,
          0.3705995143008149
         ],
         "yaxis": "y"
        },
        {
         "hovertemplate": "Pacjent=70<br>BADANIE_NR=%{x}<br>euclidean_all=%{y}<extra></extra>",
         "legendgroup": "70",
         "line": {
          "color": "#00cc96",
          "dash": "solid"
         },
         "marker": {
          "symbol": "circle"
         },
         "mode": "lines",
         "name": "70",
         "showlegend": true,
         "type": "scattergl",
         "x": [
          1,
          2,
          3,
          4,
          5,
          6,
          7,
          8,
          9,
          10,
          11,
          12,
          13,
          14,
          15,
          16,
          17,
          18,
          19,
          20,
          21,
          22,
          23,
          24,
          25,
          26,
          27,
          28,
          29,
          30,
          31
         ],
         "xaxis": "x",
         "y": [
          0.849576026810322,
          0.7383926957635074,
          0.6487863090866076,
          0.1919999999999999,
          0.8080000000000002,
          0.2839999999999997,
          2.060850031322145,
          5.860893396899432,
          5.272633807127566,
          4.614835859972004,
          4.625102536025118,
          2.8826341068003805,
          3.791344778003862,
          2.7290930599398364,
          3.194058304563691,
          3.138330049715164,
          2.350676339145347,
          2.1201093812064924,
          2.361697708863886,
          1.6702826809868254,
          1.5630102796256657,
          0.8203721088478236,
          1.4370367010453242,
          1.034296195505817,
          1.103142529528114,
          0.5610319953540653,
          0.7046832266383827,
          0,
          0.40493295819283986,
          0.2947038662317683,
          2.4457305729193104
         ],
         "yaxis": "y"
        },
        {
         "hovertemplate": "Pacjent=73<br>BADANIE_NR=%{x}<br>euclidean_all=%{y}<extra></extra>",
         "legendgroup": "73",
         "line": {
          "color": "#ab63fa",
          "dash": "solid"
         },
         "marker": {
          "symbol": "circle"
         },
         "mode": "lines",
         "name": "73",
         "showlegend": true,
         "type": "scattergl",
         "x": [
          1,
          2,
          3,
          4,
          5,
          6,
          7,
          8,
          9,
          10,
          11,
          12,
          13,
          14,
          15,
          16,
          17,
          18,
          19,
          20,
          21,
          22,
          23
         ],
         "xaxis": "x",
         "y": [
          0.4940211532019292,
          0.9073953312265578,
          0.5651467485927842,
          3.2975186258794675,
          1.849075105235456,
          1.8392922551894795,
          0.7363552042102272,
          2.4849525355567166,
          2.7445212941814643,
          2.717361494921031,
          1.7895669568079817,
          1.0641898326896382,
          1.7186401380644083,
          3.9455795671586893,
          0.7755812641147279,
          1.005886320198046,
          0.7133804195852005,
          0.3657883029883236,
          0.8205695334145925,
          0.8004241030863026,
          0.8059003817661419,
          0.47109733942531523,
          1.7765854890772919
         ],
         "yaxis": "y"
        },
        {
         "hovertemplate": "Pacjent=74<br>BADANIE_NR=%{x}<br>euclidean_all=%{y}<extra></extra>",
         "legendgroup": "74",
         "line": {
          "color": "#FFA15A",
          "dash": "solid"
         },
         "marker": {
          "symbol": "circle"
         },
         "mode": "lines",
         "name": "74",
         "showlegend": true,
         "type": "scattergl",
         "x": [
          1,
          2,
          3,
          4,
          5,
          6,
          7,
          8,
          9,
          10,
          11,
          12,
          13,
          14,
          15
         ],
         "xaxis": "x",
         "y": [
          1.8006736339243998,
          0.18832161832150032,
          1.6139368277407256,
          1.8295223053138971,
          2.438236648210735,
          0.6250415426647343,
          1.4573069683900095,
          2.051128257843915,
          2.290994717601399,
          2.0444686536837673,
          1.6053133067580432,
          2.188338821510867,
          1.9553334053040472,
          3.400999957412101,
          4.099689442500924
         ],
         "yaxis": "y"
        },
        {
         "hovertemplate": "Pacjent=77<br>BADANIE_NR=%{x}<br>euclidean_all=%{y}<extra></extra>",
         "legendgroup": "77",
         "line": {
          "color": "#19d3f3",
          "dash": "solid"
         },
         "marker": {
          "symbol": "circle"
         },
         "mode": "lines",
         "name": "77",
         "showlegend": true,
         "type": "scattergl",
         "x": [
          1,
          2,
          3,
          4,
          5,
          6,
          7,
          8,
          9,
          10,
          11,
          12,
          13,
          14,
          15,
          16,
          17,
          18,
          19,
          20,
          21,
          22,
          23,
          24,
          25,
          26,
          27,
          28,
          29,
          30,
          31,
          32,
          33,
          34,
          35,
          36,
          37,
          38
         ],
         "xaxis": "x",
         "y": [
          1.3805140299060659,
          5.874127733032566,
          1.3990169381371718,
          1.4578417203768608,
          1.270136549194858,
          1.9421612143682034,
          1.5545718970405025,
          1.400709318315033,
          1.6580958523247216,
          1.2393048749649678,
          2.3637821792161997,
          1.2060529826506794,
          1.6322652836698612,
          1.5086150448194091,
          0.9730969483164871,
          1.877597356636506,
          1.7364495097211912,
          2.2527089913306444,
          1.5754543303634223,
          0.638287979486177,
          1.47957070878927,
          2.3137489482991946,
          1.9380069250719865,
          1.1649511095524894,
          4.069697427099305,
          0.7071067811865476,
          1.969713450607658,
          1.6748607185558175,
          1.2572123872947985,
          2.3093177332698738,
          1.9891166358928938,
          1.9400945468357018,
          3.0019836401881417,
          3.275543403079182,
          2.413561595766628,
          1.94,
          2.490189598083756,
          2.6655720027940335
         ],
         "yaxis": "y"
        },
        {
         "hovertemplate": "Pacjent=78<br>BADANIE_NR=%{x}<br>euclidean_all=%{y}<extra></extra>",
         "legendgroup": "78",
         "line": {
          "color": "#FF6692",
          "dash": "solid"
         },
         "marker": {
          "symbol": "circle"
         },
         "mode": "lines",
         "name": "78",
         "showlegend": true,
         "type": "scattergl",
         "x": [
          1,
          2,
          3,
          4,
          5,
          6,
          7,
          8,
          9,
          10,
          11,
          12,
          13,
          14,
          15,
          16,
          17,
          18,
          19,
          20,
          21,
          22,
          23,
          24,
          25,
          26,
          27,
          28,
          29,
          30,
          31,
          32,
          33,
          34,
          35,
          36,
          37
         ],
         "xaxis": "x",
         "y": [
          0.22107145856500898,
          0.5700000000000005,
          0.8481142227282358,
          2.354942415215262,
          2.612000000000001,
          0,
          0.6239999999999997,
          0.613542467289952,
          0.8103038754136604,
          1.924685502505247,
          0.9281284907134906,
          2.0091529640592816,
          2.269585793507924,
          3.005815025312141,
          1.7785083276317764,
          2.7286055905551967,
          2.8344308924379704,
          3.0569294496650183,
          3.0609447799541583,
          2.4886958014679186,
          2.8582734153956144,
          2.5332263720140364,
          2.526977713188021,
          2.313775900601294,
          2.0091947465673092,
          2.216191119063585,
          2.532418426244065,
          2.794814130700985,
          2.208651997704609,
          1.5987674710833573,
          1.9004514376399286,
          1.3524772533459022,
          1.6208347105654315,
          1.4255111378131375,
          0.7330076001179653,
          0.4130434782608696,
          0.5935080169334827
         ],
         "yaxis": "y"
        },
        {
         "hovertemplate": "Pacjent=80<br>BADANIE_NR=%{x}<br>euclidean_all=%{y}<extra></extra>",
         "legendgroup": "80",
         "line": {
          "color": "#B6E880",
          "dash": "solid"
         },
         "marker": {
          "symbol": "circle"
         },
         "mode": "lines",
         "name": "80",
         "showlegend": true,
         "type": "scattergl",
         "x": [
          1,
          2,
          3,
          4,
          5,
          6,
          7,
          8,
          9,
          10,
          11,
          12,
          13,
          14,
          15
         ],
         "xaxis": "x",
         "y": [
          3.5217644038365656,
          3.5783339841439337,
          4.329482856783633,
          2.775647857563559,
          2.1895272480879977,
          2.538653340696743,
          1.8251190195715379,
          2.7601495405577205,
          1.6484216560922307,
          1.7309568374689446,
          1.649916198168656,
          2.214452001367417,
          1.5058415880211846,
          2.2624038272387903,
          1.2890321950983226
         ],
         "yaxis": "y"
        },
        {
         "hovertemplate": "Pacjent=82<br>BADANIE_NR=%{x}<br>euclidean_all=%{y}<extra></extra>",
         "legendgroup": "82",
         "line": {
          "color": "#FF97FF",
          "dash": "solid"
         },
         "marker": {
          "symbol": "circle"
         },
         "mode": "lines",
         "name": "82",
         "showlegend": true,
         "type": "scattergl",
         "x": [
          1,
          2,
          3,
          4,
          5,
          6,
          7,
          8,
          9,
          10,
          11,
          12,
          13,
          14,
          15,
          16,
          17,
          18
         ],
         "xaxis": "x",
         "y": [
          6.752462728468261,
          2.8823218757673676,
          1.1795149486410264,
          3.3971857525804907,
          0.7291776189653656,
          0.8150665367669548,
          0.5749897673125824,
          0.7076948120976608,
          1.363749141237802,
          1.6699793417555677,
          0.9417585007442236,
          0.17391304347826098,
          0.8721618448165889,
          0,
          6.016023936122595,
          12.00866505038091,
          11.323889979596514,
          11.147814860313497
         ],
         "yaxis": "y"
        },
        {
         "hovertemplate": "Pacjent=84<br>BADANIE_NR=%{x}<br>euclidean_all=%{y}<extra></extra>",
         "legendgroup": "84",
         "line": {
          "color": "#FECB52",
          "dash": "solid"
         },
         "marker": {
          "symbol": "circle"
         },
         "mode": "lines",
         "name": "84",
         "showlegend": true,
         "type": "scattergl",
         "x": [
          1,
          2,
          3,
          4,
          5,
          6,
          7,
          8,
          9,
          10,
          11,
          12,
          13,
          14,
          15,
          16,
          17,
          18,
          19,
          20,
          21,
          22,
          23,
          24,
          25,
          26,
          27,
          28,
          29,
          30,
          31,
          32,
          33,
          34,
          35,
          36,
          37,
          38,
          39,
          40,
          41,
          42,
          43,
          44,
          45,
          46
         ],
         "xaxis": "x",
         "y": [
          1.496903649425257,
          1.529328332811123,
          0.8694109645793598,
          0.8292789999362998,
          0.9272661404764556,
          0.4705697789108395,
          1.109234105437386,
          0.673913043478261,
          0.40679042504154667,
          1.263784112716201,
          1.2512418028300278,
          1.95509590557599,
          2.8190503469187074,
          1.9294701859546088,
          1.9575709746987429,
          2.0257895377895925,
          1.7103900968942365,
          1.528599247590862,
          1.9302446048116637,
          1.9609458057152627,
          1.871283216706294,
          1.7942109891882858,
          1.175487948395983,
          1.4248173988402189,
          1.6484441198774502,
          1.2700415693597205,
          0.5314132102234569,
          0.1521739130434785,
          0.45652173913043503,
          0,
          0.7281236158785129,
          0.444,
          0.7031126402901549,
          0.29472699231661814,
          2.196277467291205,
          2.096825602523325,
          1.0044664902607308,
          0.7291315829422694,
          2.3737068058208033,
          3.1239999999999997,
          0.4781351613447581,
          0.22999999999999976,
          0.34107580273835125,
          1.6995310374803496,
          1.5674945777953333,
          1.581494716834971
         ],
         "yaxis": "y"
        },
        {
         "hovertemplate": "Pacjent=85<br>BADANIE_NR=%{x}<br>euclidean_all=%{y}<extra></extra>",
         "legendgroup": "85",
         "line": {
          "color": "#636efa",
          "dash": "solid"
         },
         "marker": {
          "symbol": "circle"
         },
         "mode": "lines",
         "name": "85",
         "showlegend": true,
         "type": "scattergl",
         "x": [
          1,
          2,
          3,
          4,
          5,
          6,
          7,
          8,
          9,
          10,
          11,
          12,
          13,
          14,
          15,
          16,
          17,
          18,
          19,
          20,
          21,
          22,
          23,
          24,
          25,
          26,
          27,
          28,
          29,
          30,
          31,
          32,
          33,
          34,
          35,
          36,
          37,
          38,
          39
         ],
         "xaxis": "x",
         "y": [
          1.990688649426653,
          2.1142031776422217,
          1.2669472600432041,
          0.9966996424749073,
          0.7301900819099156,
          1.3214777210975965,
          0.397295859530401,
          0.6352586273697414,
          1.0708864247873906,
          1.4825706090780721,
          1.7250452950392945,
          1.727809710869639,
          1.4784068495696452,
          1.3001716798082572,
          1.9028744051803206,
          0.9572462434036485,
          1.4262439600742904,
          0.8865732334661798,
          1.3441748581004402,
          0.7955994280449691,
          1.4276872489825536,
          1.6237614154226911,
          2.837105609942283,
          1.6137345665932084,
          2.7918601415621445,
          1.6255702992278032,
          1.0155665538657788,
          1.213332753415318,
          0.8824583294488253,
          1.013684231024062,
          0.76974135051449,
          0.7803028833677729,
          0.5426425296029029,
          0.3773164121241258,
          0.04347826086956519,
          0.2080000000000001,
          0.40910390309317896,
          0.4239999999999997,
          2.920730171720833
         ],
         "yaxis": "y"
        },
        {
         "hovertemplate": "Pacjent=86<br>BADANIE_NR=%{x}<br>euclidean_all=%{y}<extra></extra>",
         "legendgroup": "86",
         "line": {
          "color": "#EF553B",
          "dash": "solid"
         },
         "marker": {
          "symbol": "circle"
         },
         "mode": "lines",
         "name": "86",
         "showlegend": true,
         "type": "scattergl",
         "x": [
          1,
          2,
          3,
          4,
          5,
          6,
          7,
          8,
          9,
          10,
          11,
          12,
          13,
          14,
          15,
          16,
          17
         ],
         "xaxis": "x",
         "y": [
          4.899037902755931,
          1.3839931101190652,
          1.8062865301772584,
          4.149789016142557,
          1.364037123649534,
          1.7389068376897168,
          2.979019468632709,
          1.5736499522606222,
          0.2922259399848,
          1.4249979527902448,
          5.981533752713549,
          3.406408815500225,
          1.7281520595486048,
          1.3172774955371354,
          2.0431379234795237,
          2.5307546243180306,
          9.130666767795292
         ],
         "yaxis": "y"
        },
        {
         "hovertemplate": "Pacjent=88<br>BADANIE_NR=%{x}<br>euclidean_all=%{y}<extra></extra>",
         "legendgroup": "88",
         "line": {
          "color": "#00cc96",
          "dash": "solid"
         },
         "marker": {
          "symbol": "circle"
         },
         "mode": "lines",
         "name": "88",
         "showlegend": true,
         "type": "scattergl",
         "x": [
          1,
          2,
          3,
          4,
          5,
          6,
          7,
          8,
          9,
          10,
          11,
          12,
          13,
          14,
          15,
          16,
          17,
          18,
          19
         ],
         "xaxis": "x",
         "y": [
          1.8687553292481274,
          2.2707581898881255,
          2.7705792659724153,
          2.8350341563711203,
          2.2249484166256357,
          1.2867027628788246,
          1.1575222181308047,
          1.572493294319734,
          2.4255854180048586,
          2.158964016770286,
          2.963935186248137,
          3.044102574476089,
          2.262940564840358,
          3.729208922085589,
          2.8871534767808433,
          4.85759850453813,
          4.819737234630233,
          5.490938791242571,
          6.178673789123452
         ],
         "yaxis": "y"
        },
        {
         "hovertemplate": "Pacjent=91<br>BADANIE_NR=%{x}<br>euclidean_all=%{y}<extra></extra>",
         "legendgroup": "91",
         "line": {
          "color": "#ab63fa",
          "dash": "solid"
         },
         "marker": {
          "symbol": "circle"
         },
         "mode": "lines",
         "name": "91",
         "showlegend": true,
         "type": "scattergl",
         "x": [
          1,
          2,
          3,
          4,
          5,
          6,
          7,
          8,
          9,
          10,
          11,
          12,
          13,
          14,
          15,
          16,
          17,
          18,
          19,
          20,
          21,
          22,
          23,
          24,
          25,
          26,
          27
         ],
         "xaxis": "x",
         "y": [
          5.809039397319877,
          7.689084791416272,
          14.658046120427045,
          7.963575751284372,
          3.151828628159798,
          3.1394601793600927,
          3.9037418516520757,
          3.476528594956073,
          2.554073142861478,
          3.277734788886434,
          2.9710736688739603,
          2.4430015065512483,
          6.107811370376199,
          1.5589694497112068,
          2.2013874979655577,
          6.153219962681211,
          6.264392840706793,
          4.8777028585456375,
          8.316441485465177,
          1.9156048360460112,
          3.798323769276084,
          2.776338244646459,
          2.878440405055555,
          2.283995347166051,
          2.1337661345651475,
          4.813038233952573,
          4.7110362391525165
         ],
         "yaxis": "y"
        },
        {
         "hovertemplate": "Pacjent=93<br>BADANIE_NR=%{x}<br>euclidean_all=%{y}<extra></extra>",
         "legendgroup": "93",
         "line": {
          "color": "#FFA15A",
          "dash": "solid"
         },
         "marker": {
          "symbol": "circle"
         },
         "mode": "lines",
         "name": "93",
         "showlegend": true,
         "type": "scattergl",
         "x": [
          1,
          2,
          3,
          4,
          5,
          6,
          7,
          8,
          9,
          10,
          11,
          12,
          13,
          14,
          15,
          16,
          17,
          18,
          19,
          20,
          21,
          22,
          23,
          24,
          25,
          26,
          27
         ],
         "xaxis": "x",
         "y": [
          5.544456442933567,
          5.822803819000268,
          9.471619684628754,
          6.712823624846047,
          4.542753311907095,
          2.902780102077298,
          3.9142157054626914,
          2.898316297084106,
          3.373222362755819,
          1.5061224139816525,
          1.4100509449295748,
          2.7083583082557445,
          1.8528374990083643,
          3.0861006690793364,
          3.196341244844981,
          3.2602877730269393,
          2.0695987983542263,
          2.950448744921705,
          1.897160399212535,
          2.2693016620884388,
          1.2613780084301567,
          1.7566314236094316,
          0.6391118837887464,
          0.06399999999999983,
          0,
          9.57177488741637,
          4.39934513328194
         ],
         "yaxis": "y"
        },
        {
         "hovertemplate": "Pacjent=97<br>BADANIE_NR=%{x}<br>euclidean_all=%{y}<extra></extra>",
         "legendgroup": "97",
         "line": {
          "color": "#19d3f3",
          "dash": "solid"
         },
         "marker": {
          "symbol": "circle"
         },
         "mode": "lines",
         "name": "97",
         "showlegend": true,
         "type": "scattergl",
         "x": [
          1,
          2,
          3,
          4,
          5,
          6,
          7,
          8,
          9,
          10,
          11,
          12,
          13,
          14,
          15,
          16,
          17,
          18,
          19,
          20,
          21,
          22,
          23,
          24,
          25,
          26,
          27,
          28
         ],
         "xaxis": "x",
         "y": [
          2.7978248852029566,
          1.1029426906652735,
          2.8450046091422334,
          2.9209746995573345,
          5.981067480853303,
          3.597910826385862,
          0.974293792033341,
          2.387634331469545,
          2.6558752871329707,
          1.0178899744078433,
          2.5052678169562896,
          2.1563400975395997,
          2.457862180788528,
          1.7939650276816235,
          2.3915846491846158,
          2.079582079579666,
          2.075887493263566,
          0.7877248231301495,
          1.7800201101655606,
          1.4552898749176424,
          3.295549359908008,
          2.2129838908865223,
          1.9488057820773326,
          1.3182646471306931,
          0.7560613091632256,
          1.1415838995106444,
          2.40949556277693,
          1.1828084869598277
         ],
         "yaxis": "y"
        },
        {
         "hovertemplate": "Pacjent=100<br>BADANIE_NR=%{x}<br>euclidean_all=%{y}<extra></extra>",
         "legendgroup": "100",
         "line": {
          "color": "#FF6692",
          "dash": "solid"
         },
         "marker": {
          "symbol": "circle"
         },
         "mode": "lines",
         "name": "100",
         "showlegend": true,
         "type": "scattergl",
         "x": [
          1,
          2,
          3,
          4,
          5,
          6,
          7,
          8,
          9,
          10,
          11,
          12,
          13,
          14,
          15,
          16,
          17,
          18,
          19,
          20,
          21,
          22,
          23,
          24,
          25
         ],
         "xaxis": "x",
         "y": [
          2.8705231019351274,
          4.065834885755064,
          3.6449135591945985,
          3.901404333763281,
          3.331320942886025,
          2.6988888638821558,
          2.9055106260063996,
          1.5642578875202668,
          1.9221099458787902,
          1.2948159956634928,
          1.4056435669931093,
          1.0937585050168919,
          1.0558882516630252,
          1.327952856908005,
          1.3580418914672299,
          0.6759134406165105,
          0.6179512708595232,
          0.5853440007754894,
          0.9097851799870164,
          0.75,
          0.7119673613640505,
          0.5970751554538286,
          0.5626959160272349,
          0.4296191525936514,
          0.5303282608362135
         ],
         "yaxis": "y"
        },
        {
         "hovertemplate": "Pacjent=103<br>BADANIE_NR=%{x}<br>euclidean_all=%{y}<extra></extra>",
         "legendgroup": "103",
         "line": {
          "color": "#B6E880",
          "dash": "solid"
         },
         "marker": {
          "symbol": "circle"
         },
         "mode": "lines",
         "name": "103",
         "showlegend": true,
         "type": "scattergl",
         "x": [
          1,
          2,
          3,
          4,
          5,
          6,
          7,
          8,
          9,
          10,
          11,
          12,
          13,
          14,
          15,
          16,
          17,
          18,
          19,
          20
         ],
         "xaxis": "x",
         "y": [
          2.7415182878447624,
          2.8001713762012472,
          7.406825284478174,
          5.770217138798066,
          5.105000074916207,
          5.177686987561592,
          1.915797148273029,
          3.78741223443704,
          7.02650015765815,
          5.71473355406687,
          3.079121323593292,
          1.9596576183596734,
          2.50351139181926,
          3.4559276465882345,
          2.286358453787605,
          1.9831883611738752,
          0.3058503767404591,
          1.221375835196162,
          2.8056574291302696,
          1.8853756113256723
         ],
         "yaxis": "y"
        },
        {
         "hovertemplate": "Pacjent=105<br>BADANIE_NR=%{x}<br>euclidean_all=%{y}<extra></extra>",
         "legendgroup": "105",
         "line": {
          "color": "#FF97FF",
          "dash": "solid"
         },
         "marker": {
          "symbol": "circle"
         },
         "mode": "lines",
         "name": "105",
         "showlegend": true,
         "type": "scattergl",
         "x": [
          1,
          2,
          3,
          4,
          5,
          6,
          7,
          8,
          9,
          10,
          11,
          12,
          13,
          14,
          15,
          16,
          17,
          18,
          19,
          20,
          21,
          22,
          23,
          24,
          25,
          26,
          27,
          28,
          29,
          30,
          31,
          32,
          33,
          34
         ],
         "xaxis": "x",
         "y": [
          0.0319999999999998,
          0.5359999999999999,
          2.4545546398789395,
          1.948,
          0,
          0.343371518912096,
          0,
          0,
          0,
          0.6264773784803691,
          0.6040000000000001,
          0.58,
          0.4119999999999998,
          0.4239999999999997,
          1.9084953128494295,
          2.564897358115407,
          2.135996858098935,
          1.7024699703665849,
          1.6896851621145117,
          2.5889320402815423,
          1.0306552690176647,
          1.1103609228381057,
          1.0911942608600163,
          6.868374310466772,
          1.9065819523404035,
          3.2729467389578284,
          1.286656282279537,
          1.4089044015863805,
          1.724689970481435,
          1.213220806736317,
          2.122201049362917,
          2.5253398955193536,
          3.1807345824403446,
          1.9748792961607895
         ],
         "yaxis": "y"
        },
        {
         "hovertemplate": "Pacjent=106<br>BADANIE_NR=%{x}<br>euclidean_all=%{y}<extra></extra>",
         "legendgroup": "106",
         "line": {
          "color": "#FECB52",
          "dash": "solid"
         },
         "marker": {
          "symbol": "circle"
         },
         "mode": "lines",
         "name": "106",
         "showlegend": true,
         "type": "scattergl",
         "x": [
          1,
          2,
          3,
          4,
          5,
          6,
          7,
          8,
          9,
          10,
          11,
          12,
          13,
          14
         ],
         "xaxis": "x",
         "y": [
          1.3245316373448326,
          1.1810106050962506,
          1.1975124338344465,
          0.5054627890662604,
          0.7795487515423265,
          1.0032906949834022,
          1.3897626571474866,
          5.786905757289736,
          6.804251533031231,
          2.69077753500938,
          5.202874244907097,
          4.201339173256876,
          5.6512095093800445,
          4.4503459371257765
         ],
         "yaxis": "y"
        },
        {
         "hovertemplate": "Pacjent=111<br>BADANIE_NR=%{x}<br>euclidean_all=%{y}<extra></extra>",
         "legendgroup": "111",
         "line": {
          "color": "#636efa",
          "dash": "solid"
         },
         "marker": {
          "symbol": "circle"
         },
         "mode": "lines",
         "name": "111",
         "showlegend": true,
         "type": "scattergl",
         "x": [
          1,
          2,
          3,
          4,
          5,
          6,
          7,
          8,
          9,
          10,
          11,
          12,
          13,
          14,
          15,
          16,
          17,
          18,
          19,
          20,
          21,
          22,
          23,
          24,
          25,
          26
         ],
         "xaxis": "x",
         "y": [
          1.528,
          1.3637847386882596,
          0.8877890242960691,
          4.279432741876563,
          2.71787484960668,
          0.6869027930025837,
          0.46971036221186463,
          0.560530404861663,
          3.6362807228328236,
          0.6051297092685322,
          0.5819797702259774,
          1.2754774623426295,
          0.7999084470410897,
          0.2808426424032867,
          0.48976287615357605,
          0.4692045716494147,
          0.30000000000000004,
          0.80464154449225,
          0.9490965936166458,
          1.2909087764192506,
          0.6544738344655195,
          0.678916654950518,
          0.7364319025340658,
          0.49434920096804597,
          0.49671826212374026,
          2.3494475485690214
         ],
         "yaxis": "y"
        },
        {
         "hovertemplate": "Pacjent=115<br>BADANIE_NR=%{x}<br>euclidean_all=%{y}<extra></extra>",
         "legendgroup": "115",
         "line": {
          "color": "#EF553B",
          "dash": "solid"
         },
         "marker": {
          "symbol": "circle"
         },
         "mode": "lines",
         "name": "115",
         "showlegend": true,
         "type": "scattergl",
         "x": [
          1,
          2,
          3,
          4,
          5,
          6,
          7,
          8,
          9,
          10,
          11,
          12,
          13,
          14,
          15,
          16,
          17,
          18,
          19,
          20,
          21,
          22,
          23,
          24,
          25,
          26,
          27,
          28,
          29,
          30,
          31,
          32,
          33,
          34,
          35,
          36,
          37,
          38,
          39
         ],
         "xaxis": "x",
         "y": [
          1.2536368735110763,
          0.5996306361510927,
          0.5315532572037343,
          0.6630197739458992,
          0.6788243952954792,
          0.6441534848746502,
          1.0875822341610821,
          0.6099215072959006,
          0.3362062009205638,
          1.64177980131445,
          1.252920607305038,
          1.9201152582262446,
          0.2866409615127128,
          0.4240344295160901,
          0.21558382070232496,
          0.5609461783966295,
          0.2194004917692237,
          1.2747992287901682,
          0.7280000000000002,
          0.5222602961821498,
          1.1488206626509803,
          0.76408185754176,
          1.3922589898040794,
          0.4447970821488891,
          0.5586271342820539,
          0.8009136622993575,
          2.7197590538788834,
          0.10869565217391308,
          0.0869565217391306,
          0.7400261784568923,
          0.7414698044072496,
          0.07682560362563785,
          0.7706758817434702,
          0.41803698216773943,
          0.7800582245282042,
          0.9898775793382021,
          0.7039367775357994,
          1.1837095888030136,
          0.8410918451099915
         ],
         "yaxis": "y"
        },
        {
         "hovertemplate": "Pacjent=116<br>BADANIE_NR=%{x}<br>euclidean_all=%{y}<extra></extra>",
         "legendgroup": "116",
         "line": {
          "color": "#00cc96",
          "dash": "solid"
         },
         "marker": {
          "symbol": "circle"
         },
         "mode": "lines",
         "name": "116",
         "showlegend": true,
         "type": "scattergl",
         "x": [
          1,
          2,
          3,
          4,
          5,
          6,
          7,
          8,
          9,
          10,
          11,
          12,
          13,
          14,
          15,
          16,
          17,
          18,
          19,
          20,
          21,
          22,
          23,
          24,
          25,
          26,
          27,
          28,
          29,
          30,
          31,
          32,
          33,
          34,
          35,
          36,
          37,
          38
         ],
         "xaxis": "x",
         "y": [
          3.229065263727242,
          1.2739467970889296,
          2.4181697248455545,
          2.398872109442219,
          1.9739889297805167,
          2.2500216364492385,
          1.757589261740247,
          1.96922906308583,
          2.810965332660567,
          1.8903265239048699,
          1.5215870830871858,
          1.9191573311701664,
          2.0405868468868404,
          1.011571029176866,
          0.45286089118788514,
          1.8239999999999998,
          1.194007463365214,
          0.7771189095768603,
          1.358382089364042,
          2.071731239548821,
          1.5653566893038395,
          1.40118052429163,
          0.39769872410680424,
          0.9322019007428658,
          0.7831664328094722,
          0.4749858154085442,
          8.321287216380222,
          1.2218428704215614,
          0.8468142268374922,
          1.454513695642638,
          0.7162895360347604,
          0.8598434816025778,
          1.340136665998612,
          1.759120539850527,
          1.2381251788135554,
          0.7626951764602018,
          0.9581445023964321,
          0.7246116326269981
         ],
         "yaxis": "y"
        },
        {
         "hovertemplate": "Pacjent=119<br>BADANIE_NR=%{x}<br>euclidean_all=%{y}<extra></extra>",
         "legendgroup": "119",
         "line": {
          "color": "#ab63fa",
          "dash": "solid"
         },
         "marker": {
          "symbol": "circle"
         },
         "mode": "lines",
         "name": "119",
         "showlegend": true,
         "type": "scattergl",
         "x": [
          1,
          2,
          3,
          4,
          5,
          6,
          7,
          8,
          9,
          10,
          11,
          12,
          13,
          14,
          15,
          16,
          17,
          18,
          19,
          20,
          21,
          22
         ],
         "xaxis": "x",
         "y": [
          4.075415663720537,
          3.833277965211482,
          2.253229752934957,
          1.631693901222885,
          1.3942195001771098,
          0.5221105875731443,
          0.7548616883039829,
          0.2,
          1.416797797852608,
          0,
          0,
          0.3720000000000001,
          0.0719999999999998,
          0.2719999999999999,
          0.8280000000000001,
          0.98,
          0.4742402061792101,
          0.2173913043478261,
          0.8681226468977242,
          1.6276823693205935,
          2.5922449104777106,
          3.1863743073617767
         ],
         "yaxis": "y"
        },
        {
         "hovertemplate": "Pacjent=120<br>BADANIE_NR=%{x}<br>euclidean_all=%{y}<extra></extra>",
         "legendgroup": "120",
         "line": {
          "color": "#FFA15A",
          "dash": "solid"
         },
         "marker": {
          "symbol": "circle"
         },
         "mode": "lines",
         "name": "120",
         "showlegend": true,
         "type": "scattergl",
         "x": [
          1,
          2,
          3,
          4,
          5,
          6,
          7,
          8,
          9,
          10,
          11,
          12
         ],
         "xaxis": "x",
         "y": [
          0,
          0.916,
          0.1319999999999999,
          1.8833018634851446,
          4.915862709716226,
          2.946200141820567,
          2.99852189221132,
          1.8164730183398408,
          2.664603569652617,
          2.523671211443591,
          3.5404617816102864,
          0.4130434782608696
         ],
         "yaxis": "y"
        },
        {
         "hovertemplate": "Pacjent=121<br>BADANIE_NR=%{x}<br>euclidean_all=%{y}<extra></extra>",
         "legendgroup": "121",
         "line": {
          "color": "#19d3f3",
          "dash": "solid"
         },
         "marker": {
          "symbol": "circle"
         },
         "mode": "lines",
         "name": "121",
         "showlegend": true,
         "type": "scattergl",
         "x": [
          1,
          2,
          3,
          4,
          5,
          6,
          7,
          8,
          9,
          10,
          11,
          12,
          13,
          14,
          15,
          16,
          17,
          18,
          19,
          20,
          21,
          22,
          23,
          24,
          25,
          26,
          27,
          28,
          29,
          30,
          31,
          32,
          33,
          34,
          35,
          36,
          37
         ],
         "xaxis": "x",
         "y": [
          1.3606836659540043,
          1.8408147093159388,
          0.5856466212994136,
          0.24839484696748432,
          2.08,
          1.293900479134884,
          0.7359054965217776,
          0.6399999999999999,
          1.5588282358990833,
          0.5768882040742381,
          1.4671722219707184,
          2.1796082355532365,
          1.694166796456447,
          2.373325593494046,
          2.4178262433250146,
          2.822699273908979,
          3.615009379882044,
          3.7366068841084688,
          4.38645655116005,
          4.614496784734166,
          4.407209163973976,
          3.8281226410558595,
          2.464706986499728,
          3.6500603874125197,
          2.6591347001416015,
          2.2966442191134324,
          1.8900666446717258,
          1.5573463931572116,
          2.516344942859698,
          1.9446769099147387,
          1.3034315622345165,
          1.3901025380030683,
          0.26000000000000023,
          1.0688620946172658,
          0.4448070459519997,
          1.8680249673721283,
          1.0933593548284368
         ],
         "yaxis": "y"
        },
        {
         "hovertemplate": "Pacjent=122<br>BADANIE_NR=%{x}<br>euclidean_all=%{y}<extra></extra>",
         "legendgroup": "122",
         "line": {
          "color": "#FF6692",
          "dash": "solid"
         },
         "marker": {
          "symbol": "circle"
         },
         "mode": "lines",
         "name": "122",
         "showlegend": true,
         "type": "scattergl",
         "x": [
          1,
          2,
          3,
          4,
          5,
          6,
          7,
          8,
          9,
          10,
          11,
          12,
          13,
          14,
          15,
          16,
          17,
          18,
          19,
          20,
          21,
          22,
          23,
          24,
          25,
          26
         ],
         "xaxis": "x",
         "y": [
          1.7008383115162673,
          1.2570196177561301,
          2.2499630964571,
          2.644417617335249,
          3.647787136340122,
          3.588007560057208,
          3.835089926435803,
          3.9634109589175757,
          3.186588887725341,
          1.9311513232089477,
          2.63651833219536,
          1.7410054752334068,
          0.8923941869688489,
          1.9336090486631474,
          0.732446281797928,
          1.2217038691985551,
          0.7712830581048763,
          0.5235087742081959,
          0.41868842830916664,
          3.245112063262005,
          3.229027720813658,
          2.5286002181200744,
          0.7321921769754601,
          1.0484455901244947,
          1.9178104149523645,
          3.809508856194594
         ],
         "yaxis": "y"
        },
        {
         "hovertemplate": "Pacjent=123<br>BADANIE_NR=%{x}<br>euclidean_all=%{y}<extra></extra>",
         "legendgroup": "123",
         "line": {
          "color": "#B6E880",
          "dash": "solid"
         },
         "marker": {
          "symbol": "circle"
         },
         "mode": "lines",
         "name": "123",
         "showlegend": true,
         "type": "scattergl",
         "x": [
          1,
          2,
          3,
          4,
          5,
          6,
          7,
          8,
          9,
          10,
          11,
          12,
          13,
          14,
          15,
          16,
          17,
          18,
          19
         ],
         "xaxis": "x",
         "y": [
          1.8983391239955203,
          1.2198090500695427,
          0.4069943923696016,
          1.4942825604651873,
          1.7384233867086516,
          2.107326738096494,
          2.520820190741238,
          2.9676253132765935,
          4.1190267396112965,
          3.7973567525633127,
          4.356811643692082,
          2.8954028669279768,
          5.039928010809178,
          5.077363780829921,
          5.300248662711822,
          4.636764376866529,
          5.575438818558194,
          4.687218210811782,
          7.090707900581122
         ],
         "yaxis": "y"
        },
        {
         "hovertemplate": "Pacjent=125<br>BADANIE_NR=%{x}<br>euclidean_all=%{y}<extra></extra>",
         "legendgroup": "125",
         "line": {
          "color": "#FF97FF",
          "dash": "solid"
         },
         "marker": {
          "symbol": "circle"
         },
         "mode": "lines",
         "name": "125",
         "showlegend": true,
         "type": "scattergl",
         "x": [
          1,
          2,
          3,
          4,
          5,
          6,
          7,
          8,
          9,
          10,
          11,
          12,
          13,
          14,
          15,
          16,
          17,
          18,
          19,
          20,
          21
         ],
         "xaxis": "x",
         "y": [
          0.9055209653234307,
          2.6864783976629494,
          3.0674045185780887,
          2.8664214609840264,
          2.4417942743906345,
          1.4727215910307319,
          2.537454967034189,
          2.3316263757512052,
          2.407418725718071,
          2.2448245269589395,
          2.6557197711767513,
          2.004753189227154,
          2.5496042081821284,
          4.072034181713443,
          3.9399920930803325,
          4.554100047128324,
          4.141573221339427,
          4.6608928527971125,
          3.4409336766505327,
          3.2468502823726983,
          1.9789365533879493
         ],
         "yaxis": "y"
        },
        {
         "hovertemplate": "Pacjent=127<br>BADANIE_NR=%{x}<br>euclidean_all=%{y}<extra></extra>",
         "legendgroup": "127",
         "line": {
          "color": "#FECB52",
          "dash": "solid"
         },
         "marker": {
          "symbol": "circle"
         },
         "mode": "lines",
         "name": "127",
         "showlegend": true,
         "type": "scattergl",
         "x": [
          1,
          2,
          3,
          4,
          5,
          6,
          7,
          8,
          9,
          10,
          11,
          12
         ],
         "xaxis": "x",
         "y": [
          4.496165188233617,
          3.0973195571704397,
          2.2245732207643374,
          2.8,
          0.14,
          0.0719999999999998,
          0.0652173913043479,
          0.11456108938746361,
          1.4492515765274498,
          0.6087033186725515,
          2.3116754791364644,
          4.07158419284463
         ],
         "yaxis": "y"
        },
        {
         "hovertemplate": "Pacjent=129<br>BADANIE_NR=%{x}<br>euclidean_all=%{y}<extra></extra>",
         "legendgroup": "129",
         "line": {
          "color": "#636efa",
          "dash": "solid"
         },
         "marker": {
          "symbol": "circle"
         },
         "mode": "lines",
         "name": "129",
         "showlegend": true,
         "type": "scattergl",
         "x": [
          1,
          2,
          3,
          4,
          5,
          6,
          7,
          8,
          9,
          10,
          11,
          12,
          13,
          14,
          15,
          16
         ],
         "xaxis": "x",
         "y": [
          1.7265068822746743,
          3.7179928347049076,
          2.8117142113204086,
          3.1740137739873218,
          2.7314792843691946,
          3.1962388320251764,
          0.5256885346098975,
          1.9265170253279364,
          1.3816116859167145,
          1.949818904876744,
          2.488051940267108,
          2.421942072520832,
          3.2528142824550668,
          2.58924875209147,
          2.986815419741703,
          1.489755052028214
         ],
         "yaxis": "y"
        },
        {
         "hovertemplate": "Pacjent=131<br>BADANIE_NR=%{x}<br>euclidean_all=%{y}<extra></extra>",
         "legendgroup": "131",
         "line": {
          "color": "#EF553B",
          "dash": "solid"
         },
         "marker": {
          "symbol": "circle"
         },
         "mode": "lines",
         "name": "131",
         "showlegend": true,
         "type": "scattergl",
         "x": [
          1,
          2,
          3,
          4,
          5,
          6,
          7,
          8,
          9,
          10,
          11,
          12,
          13,
          14,
          15,
          16,
          17,
          18,
          19,
          20,
          21,
          22,
          23,
          24,
          25,
          26,
          27,
          28,
          29,
          30,
          31,
          32,
          33
         ],
         "xaxis": "x",
         "y": [
          0.55695674382928,
          1.0157290173431925,
          0.43433565090891957,
          0.38,
          0.887263244459011,
          0.6833922730461267,
          1.768778771182632,
          1.811081582305556,
          2.5018460350677763,
          2.69707339441029,
          2.2576522676919817,
          2.0867426270771965,
          1.509055620328124,
          2.495299093709635,
          2.858304895098831,
          2.3652863415228342,
          1.0690126709900312,
          3.0404860094506527,
          2.961995061576152,
          0.6000000000000001,
          1.856345905111904,
          2.0763525750801697,
          3.2826803609857027,
          3.1583801729115772,
          2.8358338777254746,
          3.0681726376776077,
          3.044954468897086,
          2.4184113029746395,
          3.3002481215078467,
          2.0888544612392392,
          2.9467760934022973,
          1.8399999999999999,
          0.9408535611362262
         ],
         "yaxis": "y"
        },
        {
         "hovertemplate": "Pacjent=134<br>BADANIE_NR=%{x}<br>euclidean_all=%{y}<extra></extra>",
         "legendgroup": "134",
         "line": {
          "color": "#00cc96",
          "dash": "solid"
         },
         "marker": {
          "symbol": "circle"
         },
         "mode": "lines",
         "name": "134",
         "showlegend": true,
         "type": "scattergl",
         "x": [
          1,
          2,
          3,
          4,
          5,
          6,
          7,
          8,
          9,
          10,
          11,
          12,
          13,
          14,
          15,
          16,
          17,
          18,
          19,
          20,
          21,
          22,
          23,
          24,
          25,
          26,
          27,
          28,
          29,
          30,
          31,
          32,
          33,
          34,
          35
         ],
         "xaxis": "x",
         "y": [
          1.886289347698277,
          2.8315690918979652,
          1.7672840936014695,
          1.1831403267582197,
          1.8417277188913628,
          3.7200537630523565,
          0.2552828264478749,
          0.24831226148953903,
          0.2540944706206727,
          0.0080000000000001,
          0.2603734525146128,
          0.8009855048500515,
          0.3076032024589106,
          0.5430874699346321,
          8.546872325403383,
          5.366847330196392,
          6.53175606025741,
          1.8527594502094071,
          2.107802631767709,
          6.897446496216289,
          3.4425443937538853,
          2.928978474328628,
          2.7085403338670337,
          2.305822210850813,
          3.947551615979004,
          2.432286542687218,
          4.459476568128678,
          4.7701066415876525,
          4.628002765282574,
          3.909597874632861,
          4.582089911435841,
          4.49812689098587,
          4.37985056499016,
          3.3742506554526015,
          4.119621827304055
         ],
         "yaxis": "y"
        },
        {
         "hovertemplate": "Pacjent=140<br>BADANIE_NR=%{x}<br>euclidean_all=%{y}<extra></extra>",
         "legendgroup": "140",
         "line": {
          "color": "#ab63fa",
          "dash": "solid"
         },
         "marker": {
          "symbol": "circle"
         },
         "mode": "lines",
         "name": "140",
         "showlegend": true,
         "type": "scattergl",
         "x": [
          1,
          2,
          3,
          4,
          5,
          6,
          7,
          8,
          9,
          10,
          11,
          12,
          13,
          14,
          15,
          16,
          17,
          18,
          19,
          20,
          21,
          22,
          23,
          24
         ],
         "xaxis": "x",
         "y": [
          1.9394856984990803,
          0.25215742075005326,
          1.2378960778001087,
          0.9710607245693356,
          1.1398942013056002,
          2.3183589218965297,
          1.7159154935766534,
          2.309867425552707,
          2.7975488154705306,
          2.206309906302037,
          2.432262826560263,
          2.821403433322574,
          2.825640358916263,
          2.5382061869250543,
          2.9876780738892488,
          2.0092391918800754,
          2.138856118414655,
          2.0679693209457866,
          1.7742996360501548,
          1.7763133568649812,
          1.9074414518536416,
          2.0228855804466557,
          1.9090232481074572,
          1.7157944562962921
         ],
         "yaxis": "y"
        },
        {
         "hovertemplate": "Pacjent=145<br>BADANIE_NR=%{x}<br>euclidean_all=%{y}<extra></extra>",
         "legendgroup": "145",
         "line": {
          "color": "#FFA15A",
          "dash": "solid"
         },
         "marker": {
          "symbol": "circle"
         },
         "mode": "lines",
         "name": "145",
         "showlegend": true,
         "type": "scattergl",
         "x": [
          1,
          2,
          3,
          4,
          5,
          6,
          7,
          8,
          9
         ],
         "xaxis": "x",
         "y": [
          0.8841600941413996,
          1.254707966515919,
          1.0429988242463613,
          1.643304438960214,
          1.6083311317729458,
          1.7116194753416034,
          2.135043506959216,
          1.2659141325998808,
          1.7881199833340786
         ],
         "yaxis": "y"
        }
       ],
       "layout": {
        "height": 800,
        "legend": {
         "title": {
          "text": "Pacjent"
         },
         "tracegroupgap": 0
        },
        "margin": {
         "t": 60
        },
        "showlegend": false,
        "template": {
         "data": {
          "bar": [
           {
            "error_x": {
             "color": "#2a3f5f"
            },
            "error_y": {
             "color": "#2a3f5f"
            },
            "marker": {
             "line": {
              "color": "white",
              "width": 0.5
             },
             "pattern": {
              "fillmode": "overlay",
              "size": 10,
              "solidity": 0.2
             }
            },
            "type": "bar"
           }
          ],
          "barpolar": [
           {
            "marker": {
             "line": {
              "color": "white",
              "width": 0.5
             },
             "pattern": {
              "fillmode": "overlay",
              "size": 10,
              "solidity": 0.2
             }
            },
            "type": "barpolar"
           }
          ],
          "carpet": [
           {
            "aaxis": {
             "endlinecolor": "#2a3f5f",
             "gridcolor": "#C8D4E3",
             "linecolor": "#C8D4E3",
             "minorgridcolor": "#C8D4E3",
             "startlinecolor": "#2a3f5f"
            },
            "baxis": {
             "endlinecolor": "#2a3f5f",
             "gridcolor": "#C8D4E3",
             "linecolor": "#C8D4E3",
             "minorgridcolor": "#C8D4E3",
             "startlinecolor": "#2a3f5f"
            },
            "type": "carpet"
           }
          ],
          "choropleth": [
           {
            "colorbar": {
             "outlinewidth": 0,
             "ticks": ""
            },
            "type": "choropleth"
           }
          ],
          "contour": [
           {
            "colorbar": {
             "outlinewidth": 0,
             "ticks": ""
            },
            "colorscale": [
             [
              0,
              "#0d0887"
             ],
             [
              0.1111111111111111,
              "#46039f"
             ],
             [
              0.2222222222222222,
              "#7201a8"
             ],
             [
              0.3333333333333333,
              "#9c179e"
             ],
             [
              0.4444444444444444,
              "#bd3786"
             ],
             [
              0.5555555555555556,
              "#d8576b"
             ],
             [
              0.6666666666666666,
              "#ed7953"
             ],
             [
              0.7777777777777778,
              "#fb9f3a"
             ],
             [
              0.8888888888888888,
              "#fdca26"
             ],
             [
              1,
              "#f0f921"
             ]
            ],
            "type": "contour"
           }
          ],
          "contourcarpet": [
           {
            "colorbar": {
             "outlinewidth": 0,
             "ticks": ""
            },
            "type": "contourcarpet"
           }
          ],
          "heatmap": [
           {
            "colorbar": {
             "outlinewidth": 0,
             "ticks": ""
            },
            "colorscale": [
             [
              0,
              "#0d0887"
             ],
             [
              0.1111111111111111,
              "#46039f"
             ],
             [
              0.2222222222222222,
              "#7201a8"
             ],
             [
              0.3333333333333333,
              "#9c179e"
             ],
             [
              0.4444444444444444,
              "#bd3786"
             ],
             [
              0.5555555555555556,
              "#d8576b"
             ],
             [
              0.6666666666666666,
              "#ed7953"
             ],
             [
              0.7777777777777778,
              "#fb9f3a"
             ],
             [
              0.8888888888888888,
              "#fdca26"
             ],
             [
              1,
              "#f0f921"
             ]
            ],
            "type": "heatmap"
           }
          ],
          "heatmapgl": [
           {
            "colorbar": {
             "outlinewidth": 0,
             "ticks": ""
            },
            "colorscale": [
             [
              0,
              "#0d0887"
             ],
             [
              0.1111111111111111,
              "#46039f"
             ],
             [
              0.2222222222222222,
              "#7201a8"
             ],
             [
              0.3333333333333333,
              "#9c179e"
             ],
             [
              0.4444444444444444,
              "#bd3786"
             ],
             [
              0.5555555555555556,
              "#d8576b"
             ],
             [
              0.6666666666666666,
              "#ed7953"
             ],
             [
              0.7777777777777778,
              "#fb9f3a"
             ],
             [
              0.8888888888888888,
              "#fdca26"
             ],
             [
              1,
              "#f0f921"
             ]
            ],
            "type": "heatmapgl"
           }
          ],
          "histogram": [
           {
            "marker": {
             "pattern": {
              "fillmode": "overlay",
              "size": 10,
              "solidity": 0.2
             }
            },
            "type": "histogram"
           }
          ],
          "histogram2d": [
           {
            "colorbar": {
             "outlinewidth": 0,
             "ticks": ""
            },
            "colorscale": [
             [
              0,
              "#0d0887"
             ],
             [
              0.1111111111111111,
              "#46039f"
             ],
             [
              0.2222222222222222,
              "#7201a8"
             ],
             [
              0.3333333333333333,
              "#9c179e"
             ],
             [
              0.4444444444444444,
              "#bd3786"
             ],
             [
              0.5555555555555556,
              "#d8576b"
             ],
             [
              0.6666666666666666,
              "#ed7953"
             ],
             [
              0.7777777777777778,
              "#fb9f3a"
             ],
             [
              0.8888888888888888,
              "#fdca26"
             ],
             [
              1,
              "#f0f921"
             ]
            ],
            "type": "histogram2d"
           }
          ],
          "histogram2dcontour": [
           {
            "colorbar": {
             "outlinewidth": 0,
             "ticks": ""
            },
            "colorscale": [
             [
              0,
              "#0d0887"
             ],
             [
              0.1111111111111111,
              "#46039f"
             ],
             [
              0.2222222222222222,
              "#7201a8"
             ],
             [
              0.3333333333333333,
              "#9c179e"
             ],
             [
              0.4444444444444444,
              "#bd3786"
             ],
             [
              0.5555555555555556,
              "#d8576b"
             ],
             [
              0.6666666666666666,
              "#ed7953"
             ],
             [
              0.7777777777777778,
              "#fb9f3a"
             ],
             [
              0.8888888888888888,
              "#fdca26"
             ],
             [
              1,
              "#f0f921"
             ]
            ],
            "type": "histogram2dcontour"
           }
          ],
          "mesh3d": [
           {
            "colorbar": {
             "outlinewidth": 0,
             "ticks": ""
            },
            "type": "mesh3d"
           }
          ],
          "parcoords": [
           {
            "line": {
             "colorbar": {
              "outlinewidth": 0,
              "ticks": ""
             }
            },
            "type": "parcoords"
           }
          ],
          "pie": [
           {
            "automargin": true,
            "type": "pie"
           }
          ],
          "scatter": [
           {
            "marker": {
             "colorbar": {
              "outlinewidth": 0,
              "ticks": ""
             }
            },
            "type": "scatter"
           }
          ],
          "scatter3d": [
           {
            "line": {
             "colorbar": {
              "outlinewidth": 0,
              "ticks": ""
             }
            },
            "marker": {
             "colorbar": {
              "outlinewidth": 0,
              "ticks": ""
             }
            },
            "type": "scatter3d"
           }
          ],
          "scattercarpet": [
           {
            "marker": {
             "colorbar": {
              "outlinewidth": 0,
              "ticks": ""
             }
            },
            "type": "scattercarpet"
           }
          ],
          "scattergeo": [
           {
            "marker": {
             "colorbar": {
              "outlinewidth": 0,
              "ticks": ""
             }
            },
            "type": "scattergeo"
           }
          ],
          "scattergl": [
           {
            "marker": {
             "colorbar": {
              "outlinewidth": 0,
              "ticks": ""
             }
            },
            "type": "scattergl"
           }
          ],
          "scattermapbox": [
           {
            "marker": {
             "colorbar": {
              "outlinewidth": 0,
              "ticks": ""
             }
            },
            "type": "scattermapbox"
           }
          ],
          "scatterpolar": [
           {
            "marker": {
             "colorbar": {
              "outlinewidth": 0,
              "ticks": ""
             }
            },
            "type": "scatterpolar"
           }
          ],
          "scatterpolargl": [
           {
            "marker": {
             "colorbar": {
              "outlinewidth": 0,
              "ticks": ""
             }
            },
            "type": "scatterpolargl"
           }
          ],
          "scatterternary": [
           {
            "marker": {
             "colorbar": {
              "outlinewidth": 0,
              "ticks": ""
             }
            },
            "type": "scatterternary"
           }
          ],
          "surface": [
           {
            "colorbar": {
             "outlinewidth": 0,
             "ticks": ""
            },
            "colorscale": [
             [
              0,
              "#0d0887"
             ],
             [
              0.1111111111111111,
              "#46039f"
             ],
             [
              0.2222222222222222,
              "#7201a8"
             ],
             [
              0.3333333333333333,
              "#9c179e"
             ],
             [
              0.4444444444444444,
              "#bd3786"
             ],
             [
              0.5555555555555556,
              "#d8576b"
             ],
             [
              0.6666666666666666,
              "#ed7953"
             ],
             [
              0.7777777777777778,
              "#fb9f3a"
             ],
             [
              0.8888888888888888,
              "#fdca26"
             ],
             [
              1,
              "#f0f921"
             ]
            ],
            "type": "surface"
           }
          ],
          "table": [
           {
            "cells": {
             "fill": {
              "color": "#EBF0F8"
             },
             "line": {
              "color": "white"
             }
            },
            "header": {
             "fill": {
              "color": "#C8D4E3"
             },
             "line": {
              "color": "white"
             }
            },
            "type": "table"
           }
          ]
         },
         "layout": {
          "annotationdefaults": {
           "arrowcolor": "#2a3f5f",
           "arrowhead": 0,
           "arrowwidth": 1
          },
          "autotypenumbers": "strict",
          "coloraxis": {
           "colorbar": {
            "outlinewidth": 0,
            "ticks": ""
           }
          },
          "colorscale": {
           "diverging": [
            [
             0,
             "#8e0152"
            ],
            [
             0.1,
             "#c51b7d"
            ],
            [
             0.2,
             "#de77ae"
            ],
            [
             0.3,
             "#f1b6da"
            ],
            [
             0.4,
             "#fde0ef"
            ],
            [
             0.5,
             "#f7f7f7"
            ],
            [
             0.6,
             "#e6f5d0"
            ],
            [
             0.7,
             "#b8e186"
            ],
            [
             0.8,
             "#7fbc41"
            ],
            [
             0.9,
             "#4d9221"
            ],
            [
             1,
             "#276419"
            ]
           ],
           "sequential": [
            [
             0,
             "#0d0887"
            ],
            [
             0.1111111111111111,
             "#46039f"
            ],
            [
             0.2222222222222222,
             "#7201a8"
            ],
            [
             0.3333333333333333,
             "#9c179e"
            ],
            [
             0.4444444444444444,
             "#bd3786"
            ],
            [
             0.5555555555555556,
             "#d8576b"
            ],
            [
             0.6666666666666666,
             "#ed7953"
            ],
            [
             0.7777777777777778,
             "#fb9f3a"
            ],
            [
             0.8888888888888888,
             "#fdca26"
            ],
            [
             1,
             "#f0f921"
            ]
           ],
           "sequentialminus": [
            [
             0,
             "#0d0887"
            ],
            [
             0.1111111111111111,
             "#46039f"
            ],
            [
             0.2222222222222222,
             "#7201a8"
            ],
            [
             0.3333333333333333,
             "#9c179e"
            ],
            [
             0.4444444444444444,
             "#bd3786"
            ],
            [
             0.5555555555555556,
             "#d8576b"
            ],
            [
             0.6666666666666666,
             "#ed7953"
            ],
            [
             0.7777777777777778,
             "#fb9f3a"
            ],
            [
             0.8888888888888888,
             "#fdca26"
            ],
            [
             1,
             "#f0f921"
            ]
           ]
          },
          "colorway": [
           "#636efa",
           "#EF553B",
           "#00cc96",
           "#ab63fa",
           "#FFA15A",
           "#19d3f3",
           "#FF6692",
           "#B6E880",
           "#FF97FF",
           "#FECB52"
          ],
          "font": {
           "color": "#2a3f5f"
          },
          "geo": {
           "bgcolor": "white",
           "lakecolor": "white",
           "landcolor": "white",
           "showlakes": true,
           "showland": true,
           "subunitcolor": "#C8D4E3"
          },
          "hoverlabel": {
           "align": "left"
          },
          "hovermode": "closest",
          "mapbox": {
           "style": "light"
          },
          "paper_bgcolor": "white",
          "plot_bgcolor": "white",
          "polar": {
           "angularaxis": {
            "gridcolor": "#EBF0F8",
            "linecolor": "#EBF0F8",
            "ticks": ""
           },
           "bgcolor": "white",
           "radialaxis": {
            "gridcolor": "#EBF0F8",
            "linecolor": "#EBF0F8",
            "ticks": ""
           }
          },
          "scene": {
           "xaxis": {
            "backgroundcolor": "white",
            "gridcolor": "#DFE8F3",
            "gridwidth": 2,
            "linecolor": "#EBF0F8",
            "showbackground": true,
            "ticks": "",
            "zerolinecolor": "#EBF0F8"
           },
           "yaxis": {
            "backgroundcolor": "white",
            "gridcolor": "#DFE8F3",
            "gridwidth": 2,
            "linecolor": "#EBF0F8",
            "showbackground": true,
            "ticks": "",
            "zerolinecolor": "#EBF0F8"
           },
           "zaxis": {
            "backgroundcolor": "white",
            "gridcolor": "#DFE8F3",
            "gridwidth": 2,
            "linecolor": "#EBF0F8",
            "showbackground": true,
            "ticks": "",
            "zerolinecolor": "#EBF0F8"
           }
          },
          "shapedefaults": {
           "line": {
            "color": "#2a3f5f"
           }
          },
          "ternary": {
           "aaxis": {
            "gridcolor": "#DFE8F3",
            "linecolor": "#A2B1C6",
            "ticks": ""
           },
           "baxis": {
            "gridcolor": "#DFE8F3",
            "linecolor": "#A2B1C6",
            "ticks": ""
           },
           "bgcolor": "white",
           "caxis": {
            "gridcolor": "#DFE8F3",
            "linecolor": "#A2B1C6",
            "ticks": ""
           }
          },
          "title": {
           "x": 0.05
          },
          "xaxis": {
           "automargin": true,
           "gridcolor": "#EBF0F8",
           "linecolor": "#EBF0F8",
           "ticks": "",
           "title": {
            "standoff": 15
           },
           "zerolinecolor": "#EBF0F8",
           "zerolinewidth": 2
          },
          "yaxis": {
           "automargin": true,
           "gridcolor": "#EBF0F8",
           "linecolor": "#EBF0F8",
           "ticks": "",
           "title": {
            "standoff": 15
           },
           "zerolinecolor": "#EBF0F8",
           "zerolinewidth": 2
          }
         }
        },
        "width": 800,
        "xaxis": {
         "anchor": "y",
         "domain": [
          0,
          1
         ],
         "range": [
          0,
          65
         ],
         "tickfont": {
          "size": 18
         },
         "title": {
          "font": {
           "size": 24
          },
          "text": "Numer badania"
         }
        },
        "yaxis": {
         "anchor": "x",
         "domain": [
          0,
          1
         ],
         "range": [
          0,
          15
         ],
         "tickfont": {
          "size": 18
         },
         "title": {
          "font": {
           "size": 24
          },
          "text": "Odległość od normy (Miernik 1)"
         }
        }
       }
      }
     },
     "metadata": {},
     "output_type": "display_data"
    }
   ],
   "source": [
    "# Podziel dane na dwie ramki danych\n",
    "df_zgon_0 = df_dist[df_dist['ZGON'] == 0]\n",
    "df_zgon_1 = df_dist[df_dist['ZGON'] == 1]\n",
    "\n",
    "y='euclidean_all'\n",
    "\n",
    "# fig0 = make_subplots(rows=1, cols=2, subplot_titles=['Zgon: nie', 'Zgon: tak'])\n",
    "# Wykres dla ZGON=0\n",
    "fig1 = px.line(df_zgon_0, x='BADANIE_NR', y=y, color='PACJENT_NR', \n",
    "              labels={'BADANIE_NR': 'BADANIE_NR', y: y, 'PACJENT_NR': 'Pacjent'}, width=800, height=800)\n",
    "fig1.update_xaxes(title_text='Numer badania')\n",
    "fig1.update_yaxes(title_text='Odległość od normy (Miernik 1)')\n",
    "fig1.update_layout(showlegend=False)\n",
    "\n",
    "# Wykres dla ZGON=1\n",
    "fig2 = px.line(df_zgon_1, x='BADANIE_NR', y=y, color='PACJENT_NR', \n",
    "               labels={'BADANIE_NR': 'BADANIE_NR', y: y, 'PACJENT_NR': 'Pacjent'}, width=800, height=800)\n",
    "fig2.update_xaxes(title_text='Numer badania')\n",
    "fig2.update_yaxes(title_text='Odległość od normy (Miernik 1)')\n",
    "fig2.update_layout(showlegend=False)\n",
    "\n",
    "fig1.update_yaxes(range=[0, 15])\n",
    "fig2.update_yaxes(range=[0, 15])\n",
    "\n",
    "\n",
    "fig1.update_xaxes(range=[0, 65])\n",
    "fig2.update_xaxes(range=[0, 65])\n",
    "\n",
    "fig1.update_layout(\n",
    "    xaxis=dict(\n",
    "        tickfont=dict(size=18),\n",
    "        title_font=dict(size=24),\n",
    "    ),\n",
    "    yaxis=dict(\n",
    "        tickfont=dict(size=18),\n",
    "        title_font=dict(size=24)\n",
    "    )\n",
    ")\n",
    "fig2.update_layout(\n",
    "    xaxis=dict(\n",
    "        tickfont=dict(size=18),\n",
    "        title_font=dict(size=24),\n",
    "    ),\n",
    "    yaxis=dict(\n",
    "        tickfont=dict(size=18),\n",
    "        title_font=dict(size=24)\n",
    "    )\n",
    ")\n",
    "fig1.update_layout(template=\"plotly_white\")\n",
    "fig2.update_layout(template=\"plotly_white\")\n",
    "\n",
    "fig1.write_image(\"images4/\"+\"miernik1_pacjenci_wyleczeni\"+ \".png\", width=1000, height=800, scale=4, format=\"png\")\n",
    "fig2.write_image(\"images4/\"+\"miernik1_pacjenci_zmarli\"+ \".png\", width=1000, height=800, scale=4, format=\"png\")\n",
    "fig1.write_html(\"images4/miernik1_pacjenci_wyleczeni.html\")\n",
    "fig2.write_html(\"images4/miernik1_pacjenci_zmarli.html\")\n",
    "\n",
    "# Wyświetl oba wykresy\n",
    "fig1.show()\n",
    "fig2.show()"
   ]
  },
  {
   "cell_type": "code",
   "execution_count": 55,
   "metadata": {},
   "outputs": [
    {
     "data": {
      "application/vnd.plotly.v1+json": {
       "config": {
        "plotlyServerURL": "https://plot.ly"
       },
       "data": [
        {
         "hovertemplate": "Pacjent=1<br>BADANIE_NR=%{x}<br>euclidean_all_skum=%{y}<extra></extra>",
         "legendgroup": "1",
         "line": {
          "color": "#636efa",
          "dash": "solid"
         },
         "marker": {
          "symbol": "circle"
         },
         "mode": "lines",
         "name": "1",
         "showlegend": true,
         "type": "scattergl",
         "x": [
          1,
          2,
          3,
          4,
          5,
          6,
          7,
          8,
          9,
          10,
          11,
          12,
          13,
          14,
          15,
          16,
          17,
          18,
          19,
          20,
          21,
          22,
          23,
          24,
          25,
          26,
          27,
          28,
          29,
          30,
          31,
          32,
          33,
          34,
          35,
          36,
          37,
          38,
          39,
          40,
          41,
          42,
          43,
          44,
          45,
          46,
          47,
          48,
          49,
          50
         ],
         "xaxis": "x",
         "y": [
          1.6618229299619383,
          7.837548375513272,
          13.392181147648273,
          15.400975674360073,
          18.00353397449947,
          23.233437639658675,
          25.654629717438695,
          28.785530648915465,
          31.948887483834405,
          36.394421214253036,
          41.410903760537316,
          46.98351645607342,
          52.54549884609147,
          57.827954857871816,
          62.091965176289804,
          66.37447491928862,
          70.37460085433463,
          73.10438018890754,
          75.92688195119013,
          78.88783335415997,
          82.32192849399974,
          85.04694626799572,
          88.06272360839654,
          90.40224234611397,
          92.60040144013936,
          95.14073560048806,
          97.83722115880298,
          100.05429206489653,
          102.63406711700296,
          105.59017828216952,
          109.1603310475616,
          112.14282613027882,
          114.59354171421465,
          116.96750440839205,
          119.10472147249516,
          121.34409791993448,
          122.57636085837055,
          124.87934616351038,
          127.4323007881933,
          130.24623180404726,
          132.89185082423896,
          136.53783933224906,
          139.1643014779208,
          141.75645836277363,
          143.83550082995419,
          145.37985673475092,
          147.34030925957254,
          149.0663777889847,
          150.93238655796142,
          152.31131144258316
         ],
         "yaxis": "y"
        },
        {
         "hovertemplate": "Pacjent=2<br>BADANIE_NR=%{x}<br>euclidean_all_skum=%{y}<extra></extra>",
         "legendgroup": "2",
         "line": {
          "color": "#EF553B",
          "dash": "solid"
         },
         "marker": {
          "symbol": "circle"
         },
         "mode": "lines",
         "name": "2",
         "showlegend": true,
         "type": "scattergl",
         "x": [
          1,
          2,
          3,
          4,
          5,
          6,
          7,
          8,
          9,
          10
         ],
         "xaxis": "x",
         "y": [
          2.719580314954164,
          4.858700737792829,
          7.903062112950046,
          10.580565522376537,
          11.818453957062287,
          13.617551392856024,
          15.337253525590299,
          17.07045128699874,
          18.750300107723834,
          21.042201398480913
         ],
         "yaxis": "y"
        },
        {
         "hovertemplate": "Pacjent=3<br>BADANIE_NR=%{x}<br>euclidean_all_skum=%{y}<extra></extra>",
         "legendgroup": "3",
         "line": {
          "color": "#00cc96",
          "dash": "solid"
         },
         "marker": {
          "symbol": "circle"
         },
         "mode": "lines",
         "name": "3",
         "showlegend": true,
         "type": "scattergl",
         "x": [
          1,
          2,
          3,
          4,
          5,
          6,
          7,
          8,
          9,
          10,
          11,
          12,
          13,
          14,
          15,
          16,
          17,
          18,
          19,
          20,
          21,
          22,
          23,
          24,
          25,
          26,
          27,
          28,
          29,
          30,
          31,
          32,
          33,
          34,
          35,
          36,
          37,
          38,
          39,
          40,
          41
         ],
         "xaxis": "x",
         "y": [
          1.2224445593280724,
          4.429600989954804,
          7.529412504439324,
          9.703577533313357,
          11.927772362671028,
          14.179449462482356,
          17.800243010651965,
          21.077278787969984,
          23.705790833593714,
          26.788493845369953,
          30.08382656851768,
          32.27929514570614,
          34.41017797348173,
          36.29127632335352,
          37.990954775829685,
          39.33866670367394,
          40.55190305647037,
          42.13033846183941,
          44.34857921503208,
          45.586298063183776,
          47.45833703144044,
          47.874395819274376,
          51.42499046049127,
          52.31861982660441,
          53.69299490783218,
          55.34867411498837,
          57.61136650510322,
          58.28628325555309,
          58.937982265253005,
          60.02569700055594,
          61.95437704126588,
          62.380221018125475,
          64.79833681353313,
          65.63893361295962,
          67.07137566888649,
          67.57657908449626,
          68.72973531366702,
          69.27321357453658,
          71.52627796790854,
          73.72651665576808,
          75.29210622504634
         ],
         "yaxis": "y"
        },
        {
         "hovertemplate": "Pacjent=4<br>BADANIE_NR=%{x}<br>euclidean_all_skum=%{y}<extra></extra>",
         "legendgroup": "4",
         "line": {
          "color": "#ab63fa",
          "dash": "solid"
         },
         "marker": {
          "symbol": "circle"
         },
         "mode": "lines",
         "name": "4",
         "showlegend": true,
         "type": "scattergl",
         "x": [
          1,
          2,
          3,
          4,
          5,
          6,
          7,
          8,
          9,
          10,
          11,
          12,
          13,
          14,
          15,
          16,
          17,
          18,
          19,
          20,
          21,
          22,
          23,
          24,
          25,
          26,
          27,
          28,
          29,
          30,
          31,
          32,
          33,
          34
         ],
         "xaxis": "x",
         "y": [
          0.6550019841526099,
          2.4079970334619127,
          7.558735199951775,
          11.170730289631386,
          14.542416932312214,
          16.26613437939156,
          18.82359842620531,
          20.39479748852603,
          21.762490237021883,
          23.081669512555884,
          24.585882660565037,
          25.889331056924096,
          26.486795067251705,
          27.80636567352221,
          28.39607345645386,
          28.504292864135852,
          28.54777112500542,
          29.114833779109503,
          29.85558400996391,
          33.27661266619166,
          33.27661266619166,
          33.27661266619166,
          33.29835179662644,
          34.20680983088009,
          34.811694583671674,
          36.1574222629469,
          38.51334634216396,
          40.24424722952396,
          42.78942041141178,
          44.77945650839515,
          46.19858098621726,
          46.930338200078396,
          49.61103235305015,
          49.77411515410532
         ],
         "yaxis": "y"
        },
        {
         "hovertemplate": "Pacjent=6<br>BADANIE_NR=%{x}<br>euclidean_all_skum=%{y}<extra></extra>",
         "legendgroup": "6",
         "line": {
          "color": "#FFA15A",
          "dash": "solid"
         },
         "marker": {
          "symbol": "circle"
         },
         "mode": "lines",
         "name": "6",
         "showlegend": true,
         "type": "scattergl",
         "x": [
          1,
          2,
          3,
          4,
          5,
          6,
          7,
          8
         ],
         "xaxis": "x",
         "y": [
          1.5617964927663708,
          2.5657964927663706,
          3.3057964927663708,
          5.134467048115256,
          5.758467048115256,
          5.9181667663366735,
          6.850762262341368,
          6.850762262341368
         ],
         "yaxis": "y"
        },
        {
         "hovertemplate": "Pacjent=8<br>BADANIE_NR=%{x}<br>euclidean_all_skum=%{y}<extra></extra>",
         "legendgroup": "8",
         "line": {
          "color": "#19d3f3",
          "dash": "solid"
         },
         "marker": {
          "symbol": "circle"
         },
         "mode": "lines",
         "name": "8",
         "showlegend": true,
         "type": "scattergl",
         "x": [
          1,
          2,
          3,
          4,
          5,
          6,
          7,
          8,
          9,
          10
         ],
         "xaxis": "x",
         "y": [
          0,
          2.001386477831904,
          2.885277781210439,
          3.919400087787373,
          5.146971190760412,
          5.538275538586499,
          7.9793831554226395,
          12.552124529572092,
          14.855972417916199,
          16.947894452701895
         ],
         "yaxis": "y"
        },
        {
         "hovertemplate": "Pacjent=10<br>BADANIE_NR=%{x}<br>euclidean_all_skum=%{y}<extra></extra>",
         "legendgroup": "10",
         "line": {
          "color": "#FF6692",
          "dash": "solid"
         },
         "marker": {
          "symbol": "circle"
         },
         "mode": "lines",
         "name": "10",
         "showlegend": true,
         "type": "scattergl",
         "x": [
          1,
          2,
          3,
          4,
          5,
          6,
          7,
          8,
          9,
          10,
          11,
          12,
          13,
          14,
          15,
          16,
          17,
          18,
          19,
          20,
          21,
          22,
          23,
          24
         ],
         "xaxis": "x",
         "y": [
          0.3898678753617315,
          1.7165378021629965,
          3.797305047252631,
          6.339592347481607,
          9.7122834871767,
          11.080732508669538,
          11.451292030431214,
          11.935395325193808,
          12.268247182884647,
          13.704264114098496,
          14.878402224681345,
          15.276333856712991,
          15.753253049893761,
          16.186584902034472,
          16.85762616574537,
          19.109757643893992,
          20.597470693487292,
          21.85717496996693,
          23.993579109990364,
          24.99772341966244,
          25.261590264546648,
          25.34966114832736,
          25.501331191419915,
          27.025486232677878
         ],
         "yaxis": "y"
        },
        {
         "hovertemplate": "Pacjent=16<br>BADANIE_NR=%{x}<br>euclidean_all_skum=%{y}<extra></extra>",
         "legendgroup": "16",
         "line": {
          "color": "#B6E880",
          "dash": "solid"
         },
         "marker": {
          "symbol": "circle"
         },
         "mode": "lines",
         "name": "16",
         "showlegend": true,
         "type": "scattergl",
         "x": [
          1,
          2,
          3,
          4,
          5,
          6,
          7,
          8,
          9,
          10,
          11,
          12,
          13,
          14,
          15,
          16,
          17,
          18,
          19,
          20,
          21,
          22,
          23,
          24,
          25,
          26
         ],
         "xaxis": "x",
         "y": [
          1.189853159545488,
          2.504554173823637,
          5.776622017389176,
          7.743817661377771,
          8.313817661377772,
          9.373803190278622,
          10.202642997075335,
          11.823427247955662,
          13.120421638809178,
          14.8226479692809,
          16.034797320288995,
          18.07386420536529,
          19.307749059656157,
          20.633020441073764,
          21.671872595916756,
          24.56242418148119,
          26.599528022843113,
          29.31067130946684,
          30.76499957345434,
          34.35248306570673,
          37.502877885983935,
          41.06674106993908,
          43.516657391182804,
          46.59962094345686,
          47.05128552311208,
          49.788051598607915
         ],
         "yaxis": "y"
        },
        {
         "hovertemplate": "Pacjent=17<br>BADANIE_NR=%{x}<br>euclidean_all_skum=%{y}<extra></extra>",
         "legendgroup": "17",
         "line": {
          "color": "#FF97FF",
          "dash": "solid"
         },
         "marker": {
          "symbol": "circle"
         },
         "mode": "lines",
         "name": "17",
         "showlegend": true,
         "type": "scattergl",
         "x": [
          1,
          2,
          3,
          4,
          5,
          6,
          7,
          8,
          9,
          10,
          11,
          12,
          13,
          14,
          15,
          16,
          17,
          18
         ],
         "xaxis": "x",
         "y": [
          0.2917807395973903,
          0.6670193303633188,
          2.6890960062006237,
          3.916132814229273,
          5.856736691846698,
          7.378240571168275,
          10.213367725476598,
          13.45194439246741,
          17.381769849305865,
          21.499597772531047,
          25.2647134568274,
          28.14993864757508,
          30.645306740783962,
          32.26629923409473,
          33.73971078145742,
          36.270638051885896,
          37.299765250132126,
          38.36073365607648
         ],
         "yaxis": "y"
        },
        {
         "hovertemplate": "Pacjent=18<br>BADANIE_NR=%{x}<br>euclidean_all_skum=%{y}<extra></extra>",
         "legendgroup": "18",
         "line": {
          "color": "#FECB52",
          "dash": "solid"
         },
         "marker": {
          "symbol": "circle"
         },
         "mode": "lines",
         "name": "18",
         "showlegend": true,
         "type": "scattergl",
         "x": [
          1,
          2,
          3,
          4,
          5,
          6,
          7,
          8,
          9,
          10,
          11,
          12,
          13,
          14,
          15,
          16,
          17,
          18,
          19,
          20,
          21,
          22,
          23,
          24,
          25,
          26,
          27,
          28,
          29,
          30,
          31,
          32,
          33,
          34,
          35
         ],
         "xaxis": "x",
         "y": [
          4.915364973387914,
          8.185198463584639,
          11.426723257068023,
          13.904022611352287,
          14.997080163750349,
          16.260338961530966,
          17.77917011096513,
          18.96554379809741,
          20.560208114984786,
          24.020223352931104,
          26.138235948096103,
          27.850316577742554,
          28.31561679933466,
          29.231339843633634,
          30.018935169277093,
          30.401796745786786,
          31.968849775676876,
          34.10717456707384,
          36.114039587765504,
          38.682218065640676,
          40.02870470374534,
          41.466786646274095,
          43.35625082002808,
          44.33054822045004,
          47.62864444796994,
          50.48516819478413,
          53.17076295186097,
          53.768630431974906,
          54.58477209899312,
          56.25644928637871,
          60.01540525834467,
          60.431743949493644,
          63.373015393907856,
          64.463925791436,
          67.48577561956257
         ],
         "yaxis": "y"
        },
        {
         "hovertemplate": "Pacjent=19<br>BADANIE_NR=%{x}<br>euclidean_all_skum=%{y}<extra></extra>",
         "legendgroup": "19",
         "line": {
          "color": "#636efa",
          "dash": "solid"
         },
         "marker": {
          "symbol": "circle"
         },
         "mode": "lines",
         "name": "19",
         "showlegend": true,
         "type": "scattergl",
         "x": [
          1,
          2,
          3,
          4,
          5,
          6,
          7,
          8,
          9,
          10,
          11,
          12,
          13,
          14,
          15,
          16,
          17,
          18,
          19,
          20,
          21,
          22,
          23,
          24,
          25,
          26,
          27,
          28,
          29,
          30,
          31,
          32
         ],
         "xaxis": "x",
         "y": [
          0.7323086780859556,
          0.7888093704525716,
          0.9314332280230261,
          1.1564338484675731,
          1.2736894037470532,
          4.276175265772147,
          5.52397942534338,
          5.951689013627918,
          6.483651113760637,
          7.875651113760638,
          10.298419492949222,
          11.081802001668786,
          11.743576528058085,
          12.186006647802879,
          12.436006647802879,
          12.616006647802879,
          13.4363787566507,
          14.02201027489078,
          14.48174705365406,
          14.905502147298332,
          16.17051034754522,
          16.60051034754522,
          17.379913298680943,
          19.574193134982593,
          19.634193134982592,
          20.047013255772445,
          20.392995130515146,
          20.672929938787238,
          21.109544624463997,
          21.441442922998224,
          22.08359424999507,
          23.516152800281933
         ],
         "yaxis": "y"
        },
        {
         "hovertemplate": "Pacjent=26<br>BADANIE_NR=%{x}<br>euclidean_all_skum=%{y}<extra></extra>",
         "legendgroup": "26",
         "line": {
          "color": "#EF553B",
          "dash": "solid"
         },
         "marker": {
          "symbol": "circle"
         },
         "mode": "lines",
         "name": "26",
         "showlegend": true,
         "type": "scattergl",
         "x": [
          1,
          2,
          3,
          4,
          5,
          6,
          7,
          8,
          9,
          10,
          11,
          12,
          13,
          14,
          15,
          16
         ],
         "xaxis": "x",
         "y": [
          2.9791207869312677,
          7.384274986524271,
          13.762530709346368,
          21.643178886390324,
          26.702068531285782,
          31.797729994982827,
          35.769729994982825,
          37.49080381461626,
          37.79058319158909,
          38.31581425965174,
          42.706275482199075,
          45.91274637161579,
          49.438007233438626,
          50.0901811464821,
          51.07027280918349,
          51.58185085630698
         ],
         "yaxis": "y"
        },
        {
         "hovertemplate": "Pacjent=28<br>BADANIE_NR=%{x}<br>euclidean_all_skum=%{y}<extra></extra>",
         "legendgroup": "28",
         "line": {
          "color": "#00cc96",
          "dash": "solid"
         },
         "marker": {
          "symbol": "circle"
         },
         "mode": "lines",
         "name": "28",
         "showlegend": true,
         "type": "scattergl",
         "x": [
          1,
          2,
          3,
          4,
          5,
          6,
          7,
          8,
          9,
          10,
          11,
          12,
          13,
          14,
          15,
          16,
          17,
          18,
          19,
          20,
          21,
          22,
          23,
          24,
          25,
          26,
          27,
          28,
          29,
          30,
          31,
          32,
          33,
          34,
          35,
          36,
          37,
          38,
          39,
          40
         ],
         "xaxis": "x",
         "y": [
          2.719037060131222,
          3.049757485868732,
          3.539939049209724,
          4.106076282888358,
          5.0607329287159635,
          6.057611815074604,
          7.081611815074604,
          8.402912479963089,
          9.89337234733862,
          10.896567243657376,
          12.247671531908868,
          13.901114564741103,
          15.338833299640434,
          16.284988188505892,
          17.584674714620007,
          19.18859082243468,
          21.427749792282405,
          23.506902176141985,
          25.216114476302366,
          27.384705225745243,
          30.032351893338152,
          32.70949206375968,
          34.74561058657249,
          36.20828293435767,
          37.77229817318906,
          39.356372029136566,
          41.46158367361627,
          43.125162335444095,
          45.52676296752929,
          48.69413275170613,
          51.044879235815976,
          53.56146677197598,
          55.493916859659954,
          57.261373224452555,
          58.76439373011184,
          61.556065806545064,
          62.51361405698784,
          63.258942227730856,
          64.703710730441,
          65.55288196530539
         ],
         "yaxis": "y"
        },
        {
         "hovertemplate": "Pacjent=29<br>BADANIE_NR=%{x}<br>euclidean_all_skum=%{y}<extra></extra>",
         "legendgroup": "29",
         "line": {
          "color": "#ab63fa",
          "dash": "solid"
         },
         "marker": {
          "symbol": "circle"
         },
         "mode": "lines",
         "name": "29",
         "showlegend": true,
         "type": "scattergl",
         "x": [
          1,
          2,
          3,
          4,
          5,
          6,
          7,
          8,
          9,
          10,
          11,
          12,
          13,
          14,
          15,
          16,
          17,
          18,
          19,
          20,
          21,
          22,
          23,
          24,
          25,
          26,
          27,
          28,
          29,
          30,
          31,
          32
         ],
         "xaxis": "x",
         "y": [
          4.441369883415752,
          8.425949755554598,
          10.982047634141185,
          13.077216231306407,
          14.512815247627696,
          15.87863357608533,
          17.00248135822894,
          18.2232482961922,
          20.110468892821082,
          22.22171591768577,
          24.79643147413028,
          27.642936987334394,
          30.96311815676288,
          33.62117174261173,
          36.635554060126154,
          40.06024326265931,
          43.03622488034376,
          45.06197760515481,
          47.67025234249761,
          49.24311953285022,
          50.4920567638982,
          51.276261055209076,
          51.713747333380184,
          52.652762000290146,
          53.35164174589883,
          53.75041713367105,
          53.75041713367105,
          53.886688575094546,
          54.60190385375953,
          55.354542589629155,
          56.06688432278924,
          56.07088432278924
         ],
         "yaxis": "y"
        },
        {
         "hovertemplate": "Pacjent=33<br>BADANIE_NR=%{x}<br>euclidean_all_skum=%{y}<extra></extra>",
         "legendgroup": "33",
         "line": {
          "color": "#FFA15A",
          "dash": "solid"
         },
         "marker": {
          "symbol": "circle"
         },
         "mode": "lines",
         "name": "33",
         "showlegend": true,
         "type": "scattergl",
         "x": [
          1,
          2,
          3,
          4,
          5,
          6,
          7,
          8,
          9,
          10,
          11,
          12,
          13,
          14,
          15,
          16,
          17,
          18,
          19,
          20,
          21,
          22,
          23,
          24,
          25,
          26,
          27,
          28,
          29,
          30,
          31,
          32,
          33,
          34,
          35,
          36,
          37,
          38,
          39,
          40,
          41,
          42,
          43,
          44,
          45,
          46,
          47,
          48,
          49,
          50,
          51
         ],
         "xaxis": "x",
         "y": [
          6.639157056928334,
          12.524662231023806,
          17.0605474991337,
          19.46225737522667,
          19.973269566233185,
          21.90057835140091,
          24.175020338831718,
          26.07179030245304,
          28.238635743039435,
          30.863760242742526,
          33.049738284718245,
          36.285365219875644,
          38.72331900721189,
          41.89860268981859,
          44.37878108604872,
          46.705301575513985,
          48.97377513605994,
          51.322054842640966,
          53.81599456719656,
          56.20549076264298,
          59.323652967973615,
          62.41669057904724,
          66.52780753334574,
          69.59692882160425,
          73.8393689128921,
          77.58247854984548,
          81.02907210771086,
          82.74985714199477,
          85.22841826644522,
          87.14354065465301,
          87.72985850363752,
          89.22200164713298,
          90.07278713541422,
          91.33395659000576,
          93.0276341827842,
          94.44280876304897,
          96.82513614250612,
          99.3099757416852,
          101.87208793743144,
          103.9646547966958,
          105.9627538933374,
          107.88211721917219,
          110.51103839558316,
          111.8049246301114,
          113.58736518421763,
          114.8826426322174,
          116.87913582433265,
          118.86692938791458,
          120.90806222323369,
          122.90270670690919,
          124.70888571693479
         ],
         "yaxis": "y"
        },
        {
         "hovertemplate": "Pacjent=39<br>BADANIE_NR=%{x}<br>euclidean_all_skum=%{y}<extra></extra>",
         "legendgroup": "39",
         "line": {
          "color": "#19d3f3",
          "dash": "solid"
         },
         "marker": {
          "symbol": "circle"
         },
         "mode": "lines",
         "name": "39",
         "showlegend": true,
         "type": "scattergl",
         "x": [
          1,
          2,
          3,
          4,
          5,
          6,
          7,
          8,
          9,
          10,
          11,
          12,
          13,
          14,
          15,
          16,
          17,
          18,
          19,
          20,
          21,
          22,
          23,
          24,
          25,
          26,
          27,
          28,
          29,
          30,
          31,
          32,
          33,
          34,
          35
         ],
         "xaxis": "x",
         "y": [
          2.785672545999699,
          6.217927027505027,
          12.566590667163503,
          14.521658550708198,
          16.631348738611052,
          20.006611037375855,
          22.339244533347156,
          25.18859150261985,
          28.61057055375253,
          32.63661470884477,
          35.33991553370989,
          37.947608239462824,
          41.14766813493253,
          44.58249821165461,
          46.89575918658295,
          48.80472578190884,
          50.16439049794543,
          51.09579630240672,
          52.57299163449701,
          53.40790360739732,
          54.08488868381792,
          54.54141042294836,
          54.78054085773097,
          54.932714770774446,
          55.21532346642662,
          59.16566437932514,
          59.67533918919529,
          60.33024139473598,
          60.510122417337485,
          61.62686091190275,
          61.675423518544186,
          61.855335662073934,
          62.07452751121852,
          63.22195156465826,
          63.421951564658265
         ],
         "yaxis": "y"
        },
        {
         "hovertemplate": "Pacjent=44<br>BADANIE_NR=%{x}<br>euclidean_all_skum=%{y}<extra></extra>",
         "legendgroup": "44",
         "line": {
          "color": "#FF6692",
          "dash": "solid"
         },
         "marker": {
          "symbol": "circle"
         },
         "mode": "lines",
         "name": "44",
         "showlegend": true,
         "type": "scattergl",
         "x": [
          1,
          2,
          3,
          4,
          5,
          6,
          7,
          8,
          9,
          10,
          11,
          12,
          13,
          14,
          15,
          16,
          17,
          18,
          19,
          20,
          21,
          22,
          23,
          24,
          25,
          26
         ],
         "xaxis": "x",
         "y": [
          0.6112806229547932,
          4.627688318839608,
          11.755438054294626,
          18.179592868554593,
          22.436392678275247,
          23.7492083797972,
          25.452403954080555,
          27.09785270560881,
          28.874869202275683,
          32.026027174779855,
          35.07782405395592,
          38.37028002960796,
          41.786317275457066,
          43.72307128373446,
          46.5073107800384,
          48.69026606171843,
          51.15812510031941,
          52.56502810354724,
          54.22645399716995,
          55.51626927094123,
          56.5908475721924,
          57.16174128705707,
          58.6191857605087,
          60.054174322177765,
          61.03063186315927,
          62.972570010144096
         ],
         "yaxis": "y"
        },
        {
         "hovertemplate": "Pacjent=46<br>BADANIE_NR=%{x}<br>euclidean_all_skum=%{y}<extra></extra>",
         "legendgroup": "46",
         "line": {
          "color": "#B6E880",
          "dash": "solid"
         },
         "marker": {
          "symbol": "circle"
         },
         "mode": "lines",
         "name": "46",
         "showlegend": true,
         "type": "scattergl",
         "x": [
          1,
          2,
          3,
          4,
          5,
          6,
          7,
          8,
          9,
          10,
          11,
          12,
          13,
          14,
          15,
          16,
          17,
          18,
          19,
          20,
          21,
          22,
          23,
          24,
          25,
          26,
          27,
          28,
          29,
          30,
          31,
          32,
          33,
          34,
          35,
          36,
          37,
          38,
          39,
          40
         ],
         "xaxis": "x",
         "y": [
          1.5910336213981109,
          1.7310336213981108,
          3.337688058093059,
          4.874015522909772,
          5.9993639461654364,
          7.020656507224265,
          8.665073957681006,
          11.011751914326881,
          13.236514155511603,
          14.382509813945498,
          15.204107340277035,
          16.60256071227354,
          18.148228234976028,
          20.791089862140844,
          23.37940477769486,
          26.989640279441502,
          29.670317737708174,
          31.763999113018954,
          34.09298783599585,
          36.335735610566196,
          38.17271115767632,
          39.80678364220327,
          42.085986083287914,
          43.59384111535551,
          46.108708219594796,
          48.74697267174335,
          50.9238506567978,
          52.09392805152284,
          54.84441388040763,
          57.596635331448866,
          58.60280452802017,
          61.41287945449788,
          63.433140718928684,
          65.22669826589659,
          67.94163994492484,
          69.5015853573132,
          71.06024889659565,
          71.88046014699039,
          74.04187199008481,
          75.49016846682657
         ],
         "yaxis": "y"
        },
        {
         "hovertemplate": "Pacjent=47<br>BADANIE_NR=%{x}<br>euclidean_all_skum=%{y}<extra></extra>",
         "legendgroup": "47",
         "line": {
          "color": "#FF97FF",
          "dash": "solid"
         },
         "marker": {
          "symbol": "circle"
         },
         "mode": "lines",
         "name": "47",
         "showlegend": true,
         "type": "scattergl",
         "x": [
          1,
          2,
          3,
          4,
          5,
          6,
          7,
          8,
          9,
          10,
          11,
          12,
          13,
          14,
          15,
          16,
          17,
          18,
          19,
          20,
          21,
          22,
          23,
          24,
          25,
          26,
          27,
          28,
          29
         ],
         "xaxis": "x",
         "y": [
          0,
          0.15217490094112784,
          0.22217490094112835,
          1.2836302072811065,
          1.5301730328496463,
          1.6801730328496463,
          2.7411606385420466,
          4.1987088051537995,
          6.187218373287538,
          9.247934384011455,
          11.63199106720852,
          14.574551403702742,
          19.722429488736424,
          22.550621688543735,
          26.24829799890011,
          28.01392062319381,
          30.597397971986695,
          32.8289778553301,
          37.02105697560391,
          40.11034223368948,
          41.89376309851539,
          44.46383195040351,
          45.68179656385578,
          47.190146348320695,
          48.657215556126346,
          50.43080973036577,
          51.26204844434746,
          52.50901830662526,
          53.40886874578414
         ],
         "yaxis": "y"
        },
        {
         "hovertemplate": "Pacjent=49<br>BADANIE_NR=%{x}<br>euclidean_all_skum=%{y}<extra></extra>",
         "legendgroup": "49",
         "line": {
          "color": "#FECB52",
          "dash": "solid"
         },
         "marker": {
          "symbol": "circle"
         },
         "mode": "lines",
         "name": "49",
         "showlegend": true,
         "type": "scattergl",
         "x": [
          1,
          2,
          3,
          4,
          5,
          6,
          7,
          8,
          9,
          10,
          11,
          12,
          13,
          14,
          15,
          16,
          17,
          18,
          19,
          20,
          21,
          22,
          23
         ],
         "xaxis": "x",
         "y": [
          5.82115260390041,
          12.880199771073013,
          18.248178055803283,
          20.603673346244733,
          21.711215798502828,
          21.819911450676738,
          22.691911450676738,
          25.25191145067674,
          26.360266560758067,
          28.128266560758068,
          29.66426656075807,
          30.024362290028897,
          32.544906150321864,
          34.6829882814007,
          37.17537264220296,
          39.14471696626907,
          41.85044718194099,
          42.82116488819956,
          43.84388302111277,
          46.00116278971025,
          46.79538718101828,
          48.595545848073705,
          49.29565024983993
         ],
         "yaxis": "y"
        },
        {
         "hovertemplate": "Pacjent=50<br>BADANIE_NR=%{x}<br>euclidean_all_skum=%{y}<extra></extra>",
         "legendgroup": "50",
         "line": {
          "color": "#636efa",
          "dash": "solid"
         },
         "marker": {
          "symbol": "circle"
         },
         "mode": "lines",
         "name": "50",
         "showlegend": true,
         "type": "scattergl",
         "x": [
          1,
          2,
          3,
          4,
          5,
          6,
          7,
          8,
          9,
          10,
          11,
          12,
          13,
          14,
          15,
          16,
          17,
          18,
          19
         ],
         "xaxis": "x",
         "y": [
          1.8785084923820032,
          3.5641466504693193,
          5.188461890809076,
          6.812014668822938,
          7.554473041676461,
          9.117594353156967,
          10.800451769809975,
          12.788961337943714,
          15.089460260705955,
          16.69677340921617,
          18.68523995026124,
          21.933234355295404,
          23.390292623770474,
          25.65609761427848,
          28.209529814279097,
          30.213686727911856,
          33.186467041048054,
          33.61144341090153,
          34.41579123698848
         ],
         "yaxis": "y"
        },
        {
         "hovertemplate": "Pacjent=54<br>BADANIE_NR=%{x}<br>euclidean_all_skum=%{y}<extra></extra>",
         "legendgroup": "54",
         "line": {
          "color": "#EF553B",
          "dash": "solid"
         },
         "marker": {
          "symbol": "circle"
         },
         "mode": "lines",
         "name": "54",
         "showlegend": true,
         "type": "scattergl",
         "x": [
          1,
          2,
          3,
          4,
          5,
          6,
          7,
          8,
          9,
          10,
          11,
          12,
          13,
          14,
          15,
          16,
          17,
          18,
          19,
          20,
          21,
          22,
          23,
          24,
          25,
          26,
          27,
          28,
          29,
          30,
          31,
          32,
          33,
          34,
          35,
          36,
          37,
          38
         ],
         "xaxis": "x",
         "y": [
          0,
          0.47467051551436906,
          1.1409557397239416,
          2.1965233031263853,
          3.730084154442071,
          4.816339580509819,
          6.68721495561826,
          7.426821579717922,
          7.926554408148238,
          8.752332675416076,
          9.136150340460299,
          9.3661503404603,
          10.308753120002137,
          12.02921974346149,
          13.60507585849043,
          15.771691480011185,
          18.018909569511386,
          20.057796593084795,
          23.298034802069683,
          26.265698493979496,
          29.89878809449427,
          33.0066677368639,
          36.46258458303324,
          40.31197323653019,
          43.5952638492596,
          48.11710433725404,
          50.79610970526187,
          53.36018948838397,
          55.49088676413841,
          58.33205850645183,
          61.3531042558204,
          63.92887585860595,
          64.75718516114063,
          67.24897914292103,
          69.4402928074975,
          71.72629492939573,
          74.07214981848853,
          77.04959444925844
         ],
         "yaxis": "y"
        },
        {
         "hovertemplate": "Pacjent=58<br>BADANIE_NR=%{x}<br>euclidean_all_skum=%{y}<extra></extra>",
         "legendgroup": "58",
         "line": {
          "color": "#00cc96",
          "dash": "solid"
         },
         "marker": {
          "symbol": "circle"
         },
         "mode": "lines",
         "name": "58",
         "showlegend": true,
         "type": "scattergl",
         "x": [
          1,
          2,
          3,
          4,
          5,
          6,
          7,
          8,
          9,
          10,
          11,
          12,
          13,
          14,
          15,
          16,
          17,
          18,
          19,
          20,
          21,
          22,
          23,
          24,
          25
         ],
         "xaxis": "x",
         "y": [
          1.3865582091267523,
          2.4156698160153796,
          3.367710581098481,
          3.8784598985174075,
          4.441046298682284,
          6.779580316322516,
          9.809819022958692,
          12.074225553208747,
          12.274225553208746,
          13.515293643011265,
          13.825293643011266,
          14.17568835205943,
          14.417896556909955,
          16.264083235475667,
          16.587925795257533,
          18.126007144442955,
          18.676555961533683,
          19.575097001219685,
          23.655930338406826,
          24.227403216344584,
          26.933396564451705,
          27.679376793309437,
          29.195376793309435,
          30.92737679330944,
          32.351376793309434
         ],
         "yaxis": "y"
        },
        {
         "hovertemplate": "Pacjent=59<br>BADANIE_NR=%{x}<br>euclidean_all_skum=%{y}<extra></extra>",
         "legendgroup": "59",
         "line": {
          "color": "#ab63fa",
          "dash": "solid"
         },
         "marker": {
          "symbol": "circle"
         },
         "mode": "lines",
         "name": "59",
         "showlegend": true,
         "type": "scattergl",
         "x": [
          1,
          2,
          3,
          4,
          5,
          6,
          7,
          8,
          9,
          10,
          11,
          12,
          13,
          14,
          15,
          16,
          17,
          18,
          19
         ],
         "xaxis": "x",
         "y": [
          3.9960000000000004,
          5.202330062064392,
          8.990330062064391,
          12.59433006206439,
          16.509809979873637,
          20.297809979873634,
          20.64854192853381,
          23.996541928533812,
          27.496830220567773,
          28.697646187636618,
          29.910818928139253,
          34.18328109928589,
          36.14328109928589,
          40.213978316739954,
          43.371849553000466,
          43.97184955300047,
          45.21245707755343,
          45.321152729727345,
          45.810012395845234
         ],
         "yaxis": "y"
        },
        {
         "hovertemplate": "Pacjent=60<br>BADANIE_NR=%{x}<br>euclidean_all_skum=%{y}<extra></extra>",
         "legendgroup": "60",
         "line": {
          "color": "#FFA15A",
          "dash": "solid"
         },
         "marker": {
          "symbol": "circle"
         },
         "mode": "lines",
         "name": "60",
         "showlegend": true,
         "type": "scattergl",
         "x": [
          1,
          2,
          3,
          4,
          5,
          6,
          7,
          8,
          9,
          10,
          11,
          12,
          13,
          14,
          15,
          16,
          17,
          18,
          19,
          20
         ],
         "xaxis": "x",
         "y": [
          0.9042613503805524,
          1.3488481660566003,
          3.939469619285498,
          8.561652754367781,
          12.869949841185239,
          15.216743238870208,
          19.445524898984914,
          23.594382909349953,
          26.142684191641905,
          29.424088385322896,
          30.90393025088487,
          32.889023394838105,
          34.77854917325362,
          37.46774442044278,
          39.98968942703136,
          42.324878006423454,
          45.25608797356254,
          47.481552507810335,
          49.01528856188022,
          49.86405771407887
         ],
         "yaxis": "y"
        },
        {
         "hovertemplate": "Pacjent=67<br>BADANIE_NR=%{x}<br>euclidean_all_skum=%{y}<extra></extra>",
         "legendgroup": "67",
         "line": {
          "color": "#19d3f3",
          "dash": "solid"
         },
         "marker": {
          "symbol": "circle"
         },
         "mode": "lines",
         "name": "67",
         "showlegend": true,
         "type": "scattergl",
         "x": [
          1,
          2,
          3,
          4,
          5,
          6,
          7,
          8,
          9,
          10,
          11,
          12,
          13,
          14,
          15,
          16,
          17,
          18,
          19,
          20,
          21,
          22,
          23,
          24,
          25,
          26,
          27,
          28,
          29,
          30,
          31,
          32,
          33,
          34,
          35,
          36,
          37
         ],
         "xaxis": "x",
         "y": [
          0.5752764372074085,
          6.021338728495793,
          9.322248924072952,
          11.356671270478405,
          15.458092580219597,
          19.283687806442227,
          23.34442930950242,
          25.61874000546657,
          28.49364762324514,
          30.464309730704695,
          32.825426973729485,
          35.65656629104806,
          37.47540520970831,
          39.237456128511084,
          41.51652208112313,
          44.3465635783252,
          45.961773515440356,
          46.400211931939296,
          47.351005864362726,
          47.911173789163364,
          48.42346792852536,
          48.92982128012748,
          49.03356855422339,
          49.57277779456821,
          49.90807076394734,
          55.109728968771435,
          55.93193387012569,
          56.21162542357679,
          56.34362542357679,
          56.80362542357679,
          57.00379812200579,
          57.59911999741491,
          58.66027970114673,
          60.05555399646225,
          60.54605985779318,
          61.80254491517862,
          63.111786852295474
         ],
         "yaxis": "y"
        },
        {
         "hovertemplate": "Pacjent=68<br>BADANIE_NR=%{x}<br>euclidean_all_skum=%{y}<extra></extra>",
         "legendgroup": "68",
         "line": {
          "color": "#FF6692",
          "dash": "solid"
         },
         "marker": {
          "symbol": "circle"
         },
         "mode": "lines",
         "name": "68",
         "showlegend": true,
         "type": "scattergl",
         "x": [
          1,
          2,
          3,
          4,
          5,
          6,
          7,
          8,
          9,
          10,
          11,
          12,
          13,
          14,
          15,
          16,
          17,
          18,
          19
         ],
         "xaxis": "x",
         "y": [
          0.27509882740447933,
          1.8558897686740705,
          2.604774883317056,
          3.3073046087542606,
          4.024695913102087,
          6.404133792105824,
          9.005431837735841,
          12.236411219620583,
          14.646572355979231,
          16.62145930208665,
          19.24652518269714,
          22.804102578911692,
          23.828102578911693,
          26.172620276870113,
          28.195243552454038,
          32.00741191170102,
          33.67364397386257,
          35.164671698238685,
          35.57771517649955
         ],
         "yaxis": "y"
        },
        {
         "hovertemplate": "Pacjent=69<br>BADANIE_NR=%{x}<br>euclidean_all_skum=%{y}<extra></extra>",
         "legendgroup": "69",
         "line": {
          "color": "#B6E880",
          "dash": "solid"
         },
         "marker": {
          "symbol": "circle"
         },
         "mode": "lines",
         "name": "69",
         "showlegend": true,
         "type": "scattergl",
         "x": [
          1,
          2,
          3,
          4,
          5,
          6,
          7,
          8,
          9,
          10,
          11,
          12,
          13,
          14,
          15,
          16,
          17,
          18,
          19,
          20,
          21,
          22,
          23
         ],
         "xaxis": "x",
         "y": [
          0,
          0.1519999999999999,
          0.1519999999999999,
          0.3330554244738965,
          1.5496996175836155,
          2.949699617583615,
          6.001699617583616,
          6.176577651549608,
          7.634002093339327,
          10.670002093339328,
          12.478022531760208,
          15.398022531760208,
          17.934725276367253,
          21.647091637598322,
          25.028289650137662,
          29.829508017374554,
          31.501508017374555,
          32.49096215824331,
          38.273189688593895,
          41.12925971574659,
          44.28925971574659,
          47.32925971574659,
          48.62125971574659
         ],
         "yaxis": "y"
        },
        {
         "hovertemplate": "Pacjent=71<br>BADANIE_NR=%{x}<br>euclidean_all_skum=%{y}<extra></extra>",
         "legendgroup": "71",
         "line": {
          "color": "#FF97FF",
          "dash": "solid"
         },
         "marker": {
          "symbol": "circle"
         },
         "mode": "lines",
         "name": "71",
         "showlegend": true,
         "type": "scattergl",
         "x": [
          1,
          2,
          3,
          4,
          5,
          6,
          7,
          8
         ],
         "xaxis": "x",
         "y": [
          0.33511758395521646,
          0.33511758395521646,
          1.8991175839552166,
          1.9746363295474914,
          3.5243992916306173,
          4.09545864237106,
          5.03545864237106,
          5.790943387734222
         ],
         "yaxis": "y"
        },
        {
         "hovertemplate": "Pacjent=72<br>BADANIE_NR=%{x}<br>euclidean_all_skum=%{y}<extra></extra>",
         "legendgroup": "72",
         "line": {
          "color": "#FECB52",
          "dash": "solid"
         },
         "marker": {
          "symbol": "circle"
         },
         "mode": "lines",
         "name": "72",
         "showlegend": true,
         "type": "scattergl",
         "x": [
          1,
          2,
          3,
          4,
          5,
          6,
          7,
          8,
          9,
          10,
          11,
          12,
          13,
          14,
          15,
          16,
          17,
          18,
          19,
          20,
          21,
          22,
          23,
          24,
          25,
          26,
          27,
          28,
          29,
          30,
          31,
          32,
          33,
          34,
          35,
          36
         ],
         "xaxis": "x",
         "y": [
          2.1509940659242384,
          4.261132884365479,
          6.251738171891967,
          8.372151648415548,
          11.644687499224656,
          14.210813499585464,
          17.13620294419733,
          19.563033847743046,
          22.151011941981306,
          24.902477165662436,
          27.347346410777376,
          30.50378031062118,
          33.37560155290578,
          35.96219663178446,
          39.59011842905459,
          42.49487456281132,
          45.135590840212686,
          48.10432431721377,
          51.27107588640027,
          53.01412459419118,
          54.13632941831946,
          55.91872286449666,
          57.60273310204013,
          58.76135128690462,
          62.82374896740153,
          64.5190313997767,
          66.095070856932,
          67.06422354359015,
          67.23813658706841,
          68.59892776136292,
          70.356154051402,
          72.06516089550611,
          73.6915158436958,
          75.65305056940197,
          76.94752295025894,
          78.61465695001928
         ],
         "yaxis": "y"
        },
        {
         "hovertemplate": "Pacjent=76<br>BADANIE_NR=%{x}<br>euclidean_all_skum=%{y}<extra></extra>",
         "legendgroup": "76",
         "line": {
          "color": "#636efa",
          "dash": "solid"
         },
         "marker": {
          "symbol": "circle"
         },
         "mode": "lines",
         "name": "76",
         "showlegend": true,
         "type": "scattergl",
         "x": [
          1,
          2,
          3,
          4,
          5,
          6,
          7,
          8,
          9,
          10,
          11,
          12,
          13,
          14,
          15,
          16,
          17,
          18,
          19
         ],
         "xaxis": "x",
         "y": [
          0.6306381206607231,
          2.8083608672498452,
          8.58717832392254,
          11.404457635242473,
          13.484680822184318,
          14.879672053577066,
          15.595945754841374,
          16.782468382973658,
          17.415782443636214,
          19.504362601902763,
          20.794590523913925,
          22.36481435538107,
          23.752111039849552,
          25.879393835045633,
          27.61210154265243,
          28.5928351941981,
          31.47315685760448,
          35.559295592622505,
          39.72216952355524
         ],
         "yaxis": "y"
        },
        {
         "hovertemplate": "Pacjent=79<br>BADANIE_NR=%{x}<br>euclidean_all_skum=%{y}<extra></extra>",
         "legendgroup": "79",
         "line": {
          "color": "#EF553B",
          "dash": "solid"
         },
         "marker": {
          "symbol": "circle"
         },
         "mode": "lines",
         "name": "79",
         "showlegend": true,
         "type": "scattergl",
         "x": [
          1,
          2,
          3,
          4,
          5,
          6,
          7,
          8,
          9,
          10,
          11,
          12,
          13,
          14,
          15,
          16,
          17,
          18,
          19,
          20,
          21,
          22,
          23,
          24,
          25,
          26,
          27,
          28,
          29,
          30,
          31,
          32,
          33,
          34,
          35,
          36,
          37,
          38,
          39,
          40,
          41,
          42,
          43,
          44
         ],
         "xaxis": "x",
         "y": [
          3.603753471923455,
          9.957938723762073,
          12.913438423882154,
          14.506393139465093,
          16.51459584389495,
          18.665592836103794,
          20.888224155305522,
          23.36443093180865,
          26.111591120798316,
          28.9450936325198,
          31.804474070282666,
          35.258662488462875,
          38.57782645879389,
          41.72309914405511,
          44.75961755258957,
          49.84621192550988,
          52.351769666737745,
          56.05293052340818,
          58.762038963953046,
          61.91214689191515,
          65.04746608738265,
          67.27238442874011,
          69.89542694994577,
          72.71780464470376,
          75.12781950031939,
          77.60893000830717,
          80.02847200181091,
          83.31337800565646,
          85.84536024797404,
          87.2736935950492,
          89.747931048891,
          90.91589021813651,
          91.73782875625889,
          93.16192582181621,
          94.65766499559538,
          95.60734587677138,
          97.86188574095178,
          99.35788574095179,
          100.08588574095178,
          101.78313920114226,
          102.30730458574159,
          105.79006373285684,
          107.71110105503325,
          109.80189496182572
         ],
         "yaxis": "y"
        },
        {
         "hovertemplate": "Pacjent=81<br>BADANIE_NR=%{x}<br>euclidean_all_skum=%{y}<extra></extra>",
         "legendgroup": "81",
         "line": {
          "color": "#00cc96",
          "dash": "solid"
         },
         "marker": {
          "symbol": "circle"
         },
         "mode": "lines",
         "name": "81",
         "showlegend": true,
         "type": "scattergl",
         "x": [
          1,
          2,
          3,
          4,
          5,
          6,
          7,
          8,
          9,
          10,
          11,
          12,
          13,
          14,
          15,
          16,
          17,
          18,
          19,
          20,
          21,
          22,
          23,
          24,
          25,
          26,
          27,
          28,
          29
         ],
         "xaxis": "x",
         "y": [
          2.1302530679500546,
          3.056828717891149,
          8.451660916384952,
          15.436427397103554,
          17.133336852944748,
          21.78182346074638,
          25.592604850287334,
          28.731270252522034,
          31.33777883698804,
          35.02391594958361,
          38.135585367945794,
          40.14148686417444,
          43.09495432353729,
          47.41740371642867,
          48.561918030486495,
          50.7734770627047,
          51.25838268172481,
          51.74876977054581,
          52.27018471918419,
          52.59552380963873,
          53.69552380963873,
          54.36988709468139,
          57.809887094681386,
          58.96124976560658,
          59.26290724108859,
          60.79861962780811,
          61.99942177120859,
          63.98654236000146,
          65.85465524382082
         ],
         "yaxis": "y"
        },
        {
         "hovertemplate": "Pacjent=83<br>BADANIE_NR=%{x}<br>euclidean_all_skum=%{y}<extra></extra>",
         "legendgroup": "83",
         "line": {
          "color": "#ab63fa",
          "dash": "solid"
         },
         "marker": {
          "symbol": "circle"
         },
         "mode": "lines",
         "name": "83",
         "showlegend": true,
         "type": "scattergl",
         "x": [
          1,
          2,
          3,
          4,
          5,
          6,
          7,
          8,
          9,
          10,
          11,
          12,
          13,
          14,
          15,
          16,
          17,
          18,
          19,
          20,
          21,
          22,
          23,
          24,
          25,
          26,
          27,
          28,
          29,
          30,
          31,
          32,
          33,
          34,
          35,
          36,
          37,
          38,
          39,
          40
         ],
         "xaxis": "x",
         "y": [
          5.176006105077356,
          10.480158977196549,
          14.487104069073743,
          16.401845607945383,
          19.382010072266862,
          22.375047473417755,
          24.768027220104493,
          26.477151758287576,
          28.245888920716485,
          29.357204580317347,
          30.85442772140738,
          32.423935121192024,
          33.94700260442396,
          35.93313961467301,
          37.246254773553694,
          38.87503810504856,
          39.524900073168084,
          40.14672934964911,
          40.78838505113789,
          41.23850778960165,
          42.17652183573581,
          42.934842669165526,
          43.938529772784825,
          44.383093530011045,
          45.232421163007764,
          46.71675480684208,
          48.595087665193816,
          48.90909943259027,
          49.16737022453488,
          49.58518490737447,
          49.753614059807965,
          50.33585030521613,
          50.33585030521613,
          50.75504345234439,
          51.32592315392081,
          52.4203818260052,
          53.22438182600519,
          53.98111722246735,
          55.492558843290624,
          56.71846962002529
         ],
         "yaxis": "y"
        },
        {
         "hovertemplate": "Pacjent=90<br>BADANIE_NR=%{x}<br>euclidean_all_skum=%{y}<extra></extra>",
         "legendgroup": "90",
         "line": {
          "color": "#FFA15A",
          "dash": "solid"
         },
         "marker": {
          "symbol": "circle"
         },
         "mode": "lines",
         "name": "90",
         "showlegend": true,
         "type": "scattergl",
         "x": [
          1,
          2,
          3,
          4,
          5,
          6,
          7,
          8,
          9,
          10,
          11,
          12,
          13,
          14,
          15,
          16,
          17,
          18,
          19,
          20,
          21,
          22,
          23,
          24,
          25,
          26,
          27,
          28,
          29,
          30,
          31,
          32,
          33,
          34,
          35,
          36,
          37,
          38,
          39,
          40,
          41,
          42,
          43,
          44,
          45,
          46,
          47,
          48,
          49,
          50,
          51,
          52,
          53,
          54,
          55
         ],
         "xaxis": "x",
         "y": [
          3.070313987920321,
          5.835240259806936,
          8.74105143000261,
          9.721436462963867,
          13.236828408295223,
          16.99965865970774,
          18.34364107250112,
          19.95795999635158,
          21.818836837052512,
          23.21525266812088,
          24.559971456581057,
          26.15613036202179,
          28.03722871189358,
          31.0795660663366,
          32.8700237148829,
          35.3188215589091,
          37.35683146215623,
          39.32849757268757,
          40.50952113177832,
          41.73009397617214,
          43.536848077042215,
          43.536848077042215,
          46.402632502031366,
          48.45894862558825,
          50.101590059653326,
          51.47172444518072,
          55.07749397520416,
          56.98194693239753,
          58.66821259102181,
          59.903603861602825,
          61.5720782999871,
          63.43741526204398,
          65.64865227811624,
          67.20862344744899,
          69.11137018157191,
          71.8958350037656,
          73.86702227326025,
          79.48341516070701,
          82.19540002803295,
          84.11923191823982,
          86.96324742392845,
          90.13281107309757,
          92.72208618167559,
          94.94437056299486,
          97.72940282957597,
          99.35189222357779,
          101.17615999029628,
          102.81901612736824,
          104.96555586504088,
          106.52035774460242,
          108.05550981246266,
          110.56420887982232,
          112.27112293054647,
          114.57558690754207,
          116.42286597208346
         ],
         "yaxis": "y"
        },
        {
         "hovertemplate": "Pacjent=95<br>BADANIE_NR=%{x}<br>euclidean_all_skum=%{y}<extra></extra>",
         "legendgroup": "95",
         "line": {
          "color": "#19d3f3",
          "dash": "solid"
         },
         "marker": {
          "symbol": "circle"
         },
         "mode": "lines",
         "name": "95",
         "showlegend": true,
         "type": "scattergl",
         "x": [
          1,
          2,
          3,
          4,
          5,
          6,
          7,
          8,
          9,
          10,
          11,
          12,
          13,
          14,
          15,
          16,
          17,
          18,
          19,
          20,
          21,
          22,
          23,
          24,
          25,
          26,
          27,
          28,
          29,
          30,
          31,
          32,
          33,
          34,
          35,
          36,
          37,
          38,
          39,
          40,
          41,
          42,
          43,
          44,
          45,
          46,
          47,
          48,
          49,
          50,
          51,
          52,
          53,
          54,
          55,
          56
         ],
         "xaxis": "x",
         "y": [
          0,
          0.3445809048685085,
          2.2345679023533127,
          3.9344952754266473,
          5.917914255536908,
          7.729927517213404,
          10.11883940340762,
          11.91121988429882,
          13.472368521092438,
          15.38798031287036,
          16.44875757186242,
          17.589668828391208,
          18.85951133831124,
          19.989053313504726,
          21.837816167614804,
          24.413846730196948,
          26.266270677394573,
          28.341920148258552,
          29.381156245186745,
          29.9899785674104,
          30.120413350019096,
          30.94510555473197,
          32.601105554731966,
          33.090141340743585,
          34.34214134074359,
          35.208103638208556,
          36.47210363820855,
          37.20010363820855,
          39.97173790860532,
          43.53877062603493,
          45.06534116326976,
          46.382554649139564,
          49.76285473984359,
          52.12425536231555,
          54.636395226939506,
          56.58281704329973,
          58.514923847597466,
          62.1300565285188,
          65.30708581348057,
          66.29592944127359,
          67.49776075026587,
          69.80447572147754,
          72.45987005991913,
          74.23258619491483,
          74.44997749926266,
          75.66474329539173,
          77.28127285032468,
          77.90150384853726,
          78.3620830298863,
          79.78630189117109,
          81.62718292459124,
          84.00405921497973,
          85.7049736004477,
          89.05652533879524,
          91.10852533879525,
          92.37652533879525
         ],
         "yaxis": "y"
        },
        {
         "hovertemplate": "Pacjent=98<br>BADANIE_NR=%{x}<br>euclidean_all_skum=%{y}<extra></extra>",
         "legendgroup": "98",
         "line": {
          "color": "#FF6692",
          "dash": "solid"
         },
         "marker": {
          "symbol": "circle"
         },
         "mode": "lines",
         "name": "98",
         "showlegend": true,
         "type": "scattergl",
         "x": [
          1,
          2,
          3,
          4,
          5,
          6,
          7,
          8,
          9,
          10,
          11,
          12,
          13,
          14,
          15,
          16,
          17,
          18,
          19,
          20,
          21,
          22,
          23,
          24,
          25,
          26,
          27,
          28,
          29,
          30,
          31,
          32,
          33,
          34,
          35,
          36,
          37,
          38,
          39
         ],
         "xaxis": "x",
         "y": [
          0.406509944250297,
          5.828387394075682,
          10.123184253445185,
          12.246164157230858,
          14.360103843934581,
          17.255004662576752,
          19.107505774724974,
          20.375350722995243,
          22.061565317800827,
          23.884219988644794,
          26.501772317939732,
          29.54090369637508,
          31.874216105318975,
          35.30045743128721,
          37.81263480573363,
          42.34653085896976,
          44.51989987785484,
          47.63794883385446,
          50.03984336807056,
          51.92589013132822,
          53.59480942212106,
          54.44640150388557,
          55.26875604224933,
          55.59484299877107,
          56.05136473790151,
          56.05136473790151,
          57.62411761433718,
          61.720117614337184,
          62.7465177470896,
          63.387472074561906,
          65.17947207456191,
          65.2517942090974,
          65.99291325262075,
          65.99291325262075,
          66.93936446940249,
          66.93936446940249,
          66.9913644694025,
          67.59508423528698,
          67.59508423528698
         ],
         "yaxis": "y"
        },
        {
         "hovertemplate": "Pacjent=99<br>BADANIE_NR=%{x}<br>euclidean_all_skum=%{y}<extra></extra>",
         "legendgroup": "99",
         "line": {
          "color": "#B6E880",
          "dash": "solid"
         },
         "marker": {
          "symbol": "circle"
         },
         "mode": "lines",
         "name": "99",
         "showlegend": true,
         "type": "scattergl",
         "x": [
          1,
          2,
          3,
          4,
          5,
          6,
          7,
          8,
          9,
          10,
          11,
          12,
          13,
          14,
          15,
          16,
          17,
          18
         ],
         "xaxis": "x",
         "y": [
          0.6906905929905299,
          2.0166803945385596,
          2.712913246894294,
          3.7538084343232963,
          5.559141344398071,
          6.989123772658246,
          7.7843234590769335,
          8.588958466546538,
          9.34829112804083,
          10.701007078199304,
          11.710721121830213,
          12.595086827085003,
          13.35567870187726,
          14.439953756093075,
          15.386348483046923,
          15.971636830705991,
          18.68222806437794,
          20.176199577127555
         ],
         "yaxis": "y"
        },
        {
         "hovertemplate": "Pacjent=101<br>BADANIE_NR=%{x}<br>euclidean_all_skum=%{y}<extra></extra>",
         "legendgroup": "101",
         "line": {
          "color": "#FF97FF",
          "dash": "solid"
         },
         "marker": {
          "symbol": "circle"
         },
         "mode": "lines",
         "name": "101",
         "showlegend": true,
         "type": "scattergl",
         "x": [
          1,
          2,
          3,
          4,
          5,
          6,
          7,
          8,
          9,
          10,
          11,
          12,
          13,
          14,
          15,
          16,
          17,
          18,
          19,
          20,
          21,
          22,
          23,
          24,
          25,
          26,
          27,
          28,
          29,
          30,
          31,
          32,
          33,
          34,
          35
         ],
         "xaxis": "x",
         "y": [
          0.8660685121807082,
          2.700520313326874,
          4.244942305133579,
          7.924064677810474,
          10.692959581335613,
          13.506886460590598,
          14.85392409814028,
          15.974605503738873,
          17.21410148338297,
          20.0062311527818,
          20.703451146920557,
          21.566538430881657,
          22.082677946904216,
          22.952990907724818,
          23.615851843395195,
          24.411419166026864,
          25.763217520135246,
          27.545225053974995,
          30.04830753346274,
          33.0394598515956,
          36.18510626125349,
          37.97686353955962,
          39.397839119660794,
          40.855922736484054,
          43.24105280839337,
          44.60786474964868,
          45.55175922486723,
          46.02845892580404,
          46.7252952138329,
          47.10946221200062,
          47.2389292701821,
          47.50807890148623,
          48.536078901486235,
          49.05207890148623,
          49.22007890148623
         ],
         "yaxis": "y"
        },
        {
         "hovertemplate": "Pacjent=104<br>BADANIE_NR=%{x}<br>euclidean_all_skum=%{y}<extra></extra>",
         "legendgroup": "104",
         "line": {
          "color": "#FECB52",
          "dash": "solid"
         },
         "marker": {
          "symbol": "circle"
         },
         "mode": "lines",
         "name": "104",
         "showlegend": true,
         "type": "scattergl",
         "x": [
          1,
          2,
          3,
          4,
          5,
          6,
          7,
          8,
          9,
          10,
          11,
          12,
          13,
          14,
          15,
          16,
          17,
          18,
          19,
          20,
          21,
          22,
          23,
          24,
          25,
          26,
          27,
          28,
          29,
          30,
          31,
          32,
          33,
          34,
          35,
          36,
          37,
          38
         ],
         "xaxis": "x",
         "y": [
          0.96818875692514,
          3.3530906319512415,
          5.59084045531262,
          7.172431346375119,
          9.515984727441035,
          11.043792604745578,
          13.120005894778393,
          15.491201415311728,
          18.54055703392801,
          21.055291516470866,
          23.81249075253712,
          26.798519783426315,
          28.73722571916993,
          31.881515334126046,
          33.243550662010215,
          34.720173857172576,
          37.32282762136348,
          38.964165345227094,
          39.77104649136288,
          40.90644698614605,
          42.38853875118626,
          43.40830361158811,
          43.939716821811565,
          44.59189073485504,
          45.42186217651701,
          46.458080489998636,
          49.35892706532809,
          50.87861246425962,
          51.23370749459645,
          51.23370749459645,
          51.6921707862481,
          52.132196296764796,
          54.01098378821313,
          55.15293424714803,
          56.9818141506199,
          59.30395195030354,
          62.198027468236795,
          64.41000255901051
         ],
         "yaxis": "y"
        },
        {
         "hovertemplate": "Pacjent=107<br>BADANIE_NR=%{x}<br>euclidean_all_skum=%{y}<extra></extra>",
         "legendgroup": "107",
         "line": {
          "color": "#636efa",
          "dash": "solid"
         },
         "marker": {
          "symbol": "circle"
         },
         "mode": "lines",
         "name": "107",
         "showlegend": true,
         "type": "scattergl",
         "x": [
          1,
          2,
          3,
          4,
          5,
          6,
          7,
          8,
          9,
          10,
          11,
          12,
          13,
          14,
          15,
          16,
          17,
          18,
          19,
          20,
          21,
          22,
          23,
          24,
          25,
          26,
          27
         ],
         "xaxis": "x",
         "y": [
          0.7119999999999999,
          0.8439999999999998,
          1.919147393264237,
          2.659147393264237,
          3.0287126106555413,
          3.7808885342517486,
          6.709086712844163,
          7.430428143345198,
          7.430428143345198,
          7.691297708562589,
          7.908689012910415,
          8.677479719983864,
          8.952578547388343,
          9.781425822053755,
          10.107512778575495,
          10.591390280297746,
          11.417477236819487,
          12.739473825017068,
          13.44910971237593,
          14.126904136455904,
          14.561378157380311,
          15.519131864860958,
          16.251575690974672,
          17.505149658499132,
          17.976246997924445,
          18.855476016608876,
          20.1480950633508
         ],
         "yaxis": "y"
        },
        {
         "hovertemplate": "Pacjent=108<br>BADANIE_NR=%{x}<br>euclidean_all_skum=%{y}<extra></extra>",
         "legendgroup": "108",
         "line": {
          "color": "#EF553B",
          "dash": "solid"
         },
         "marker": {
          "symbol": "circle"
         },
         "mode": "lines",
         "name": "108",
         "showlegend": true,
         "type": "scattergl",
         "x": [
          1,
          2,
          3,
          4,
          5,
          6,
          7,
          8,
          9,
          10,
          11,
          12,
          13,
          14,
          15,
          16,
          17,
          18,
          19,
          20,
          21,
          22,
          23,
          24,
          25,
          26,
          27,
          28,
          29,
          30,
          31,
          32,
          33,
          34,
          35,
          36,
          37,
          38,
          39,
          40,
          41,
          42,
          43,
          44,
          45,
          46,
          47
         ],
         "xaxis": "x",
         "y": [
          0.1799999999999995,
          1.604180592189151,
          1.8808330633367274,
          3.3241555405250027,
          6.080600394753821,
          10.860627172921491,
          14.522366716353268,
          15.954149618689911,
          17.81103823316387,
          19.585640903888056,
          21.517109035071414,
          22.900083307221518,
          24.341190464038494,
          25.4418025123586,
          26.851955491765732,
          28.38734575206367,
          29.43988433062375,
          30.55369303836001,
          31.472667063258758,
          32.637816768272785,
          33.3530121219659,
          33.85664528828683,
          33.941030419157215,
          34.43673199697162,
          34.8275512672475,
          35.304250968184306,
          36.21557162017759,
          37.93915152623573,
          38.60012236515791,
          38.89913615008129,
          39.85970385617963,
          40.996913520802146,
          41.599169059990714,
          44.4860640455491,
          46.459393582125834,
          47.05458846472792,
          48.511354642055046,
          49.48501767448508,
          49.89935463641514,
          50.16168569306822,
          50.80487863581001,
          51.04669754273958,
          51.510154475191676,
          53.020551535835565,
          54.66391677490153,
          56.42649809212095,
          57.59097376779815
         ],
         "yaxis": "y"
        },
        {
         "hovertemplate": "Pacjent=109<br>BADANIE_NR=%{x}<br>euclidean_all_skum=%{y}<extra></extra>",
         "legendgroup": "109",
         "line": {
          "color": "#00cc96",
          "dash": "solid"
         },
         "marker": {
          "symbol": "circle"
         },
         "mode": "lines",
         "name": "109",
         "showlegend": true,
         "type": "scattergl",
         "x": [
          1,
          2,
          3,
          4,
          5,
          6,
          7,
          8,
          9,
          10,
          11,
          12,
          13,
          14,
          15,
          16,
          17,
          18,
          19,
          20,
          21,
          22,
          23,
          24,
          25,
          26,
          27,
          28
         ],
         "xaxis": "x",
         "y": [
          0.3080000000000001,
          1.3861339897299239,
          2.657015023646901,
          3.468460731814596,
          4.434248362037655,
          6.422737733670405,
          8.701224322223322,
          11.794602418313197,
          15.304761613104628,
          18.8575143997405,
          23.313089986259413,
          27.523116703550226,
          31.7645674745391,
          36.336063417129346,
          40.95234767072757,
          43.44844008001253,
          46.30305081660463,
          49.71147815742007,
          51.7456895525312,
          54.17034130816661,
          56.28584930911565,
          59.66115615061697,
          62.75976712669906,
          64.97396943711597,
          66.9465253455399,
          68.8464230265974,
          70.49682210991499,
          71.79965683808372
         ],
         "yaxis": "y"
        },
        {
         "hovertemplate": "Pacjent=110<br>BADANIE_NR=%{x}<br>euclidean_all_skum=%{y}<extra></extra>",
         "legendgroup": "110",
         "line": {
          "color": "#ab63fa",
          "dash": "solid"
         },
         "marker": {
          "symbol": "circle"
         },
         "mode": "lines",
         "name": "110",
         "showlegend": true,
         "type": "scattergl",
         "x": [
          1,
          2,
          3,
          4,
          5,
          6,
          7,
          8,
          9,
          10,
          11,
          12,
          13,
          14,
          15,
          16,
          17,
          18,
          19,
          20,
          21,
          22,
          23,
          24,
          25,
          26,
          27,
          28,
          29,
          30,
          31,
          32,
          33,
          34,
          35,
          36,
          37,
          38,
          39,
          40,
          41,
          42,
          43,
          44,
          45,
          46,
          47,
          48,
          49,
          50,
          51,
          52,
          53,
          54,
          55,
          56,
          57
         ],
         "xaxis": "x",
         "y": [
          1.4239185205172389,
          3.9751130574595956,
          5.877051295711751,
          10.057874581838968,
          14.489693264741035,
          18.36962838309203,
          21.564678662022857,
          22.520449275569522,
          23.5972370840161,
          25.679980686737277,
          25.95998068673728,
          27.0912943918752,
          29.013447447828444,
          30.33733100096866,
          33.37677702551094,
          34.812930706435566,
          37.64207573282433,
          40.02063051952695,
          42.87221201155398,
          44.52898081887362,
          46.21380218916745,
          48.42352339440887,
          51.34804775218891,
          53.37443694664434,
          55.15554410019808,
          56.547556664606766,
          57.047556664606766,
          57.56938972861467,
          58.4386054670824,
          58.55060546708239,
          59.69060546708239,
          60.30660546708239,
          60.40660546708239,
          61.36681377781502,
          62.22318401414114,
          62.98994981907895,
          63.942105054453556,
          65.00386346316051,
          65.94484381897361,
          67.60529694315635,
          68.26929694315635,
          68.92129694315634,
          69.92929694315634,
          72.23869013926632,
          73.80302258475226,
          75.42340076180629,
          75.87228485604078,
          76.49803019762486,
          77.46803429404402,
          78.61724896466401,
          79.57256440955322,
          80.70532018517032,
          81.8525406849857,
          82.40441830051202,
          83.96224296915771,
          85.02465952120154,
          86.18451348031357
         ],
         "yaxis": "y"
        },
        {
         "hovertemplate": "Pacjent=114<br>BADANIE_NR=%{x}<br>euclidean_all_skum=%{y}<extra></extra>",
         "legendgroup": "114",
         "line": {
          "color": "#FFA15A",
          "dash": "solid"
         },
         "marker": {
          "symbol": "circle"
         },
         "mode": "lines",
         "name": "114",
         "showlegend": true,
         "type": "scattergl",
         "x": [
          1,
          2,
          3,
          4,
          5,
          6,
          7,
          8,
          9,
          10,
          11,
          12,
          13,
          14,
          15,
          16,
          17,
          18
         ],
         "xaxis": "x",
         "y": [
          0.3639630602085138,
          2.6347794442526737,
          3.3214353466069078,
          3.687213662081212,
          4.531213662081212,
          7.886394911264935,
          7.93495751790637,
          8.872871224815245,
          9.008879024619336,
          9.809792686918692,
          9.946401975614876,
          10.171623940696662,
          10.236805885528439,
          10.927285857824398,
          10.970764118693964,
          11.405566759368714,
          13.647148897870407,
          15.131148897870407
         ],
         "yaxis": "y"
        },
        {
         "hovertemplate": "Pacjent=118<br>BADANIE_NR=%{x}<br>euclidean_all_skum=%{y}<extra></extra>",
         "legendgroup": "118",
         "line": {
          "color": "#19d3f3",
          "dash": "solid"
         },
         "marker": {
          "symbol": "circle"
         },
         "mode": "lines",
         "name": "118",
         "showlegend": true,
         "type": "scattergl",
         "x": [
          1,
          2,
          3,
          4,
          5,
          6,
          7,
          8,
          9,
          10,
          11,
          12,
          13,
          14,
          15,
          16,
          17,
          18,
          19,
          20,
          21,
          22,
          23,
          24,
          25,
          26,
          27,
          28,
          29,
          30,
          31,
          32,
          33,
          34,
          35,
          36,
          37,
          38,
          39,
          40,
          41
         ],
         "xaxis": "x",
         "y": [
          2.254318217507108,
          3.57290412131829,
          4.158398633990442,
          4.291923796745985,
          5.278347394429883,
          5.642676915605425,
          6.580608682846518,
          7.385024891455574,
          7.5330560790958065,
          8.058424614791157,
          9.61369014868155,
          11.199693495543432,
          12.25065430812779,
          13.743058115268829,
          15.233422762542599,
          16.16084253829341,
          17.850737111128293,
          18.879255631887133,
          26.139719101915887,
          27.03933517209472,
          27.7904080027679,
          29.436030123582704,
          29.675160558365313,
          30.97743356323259,
          31.281975426843935,
          33.1799684291158,
          33.462577124767975,
          34.575549940857904,
          35.12705027634085,
          36.738261429159095,
          39.6797571283092,
          41.36681664107748,
          42.70202368023998,
          45.719479467046284,
          46.99712746374341,
          47.59186962711616,
          49.350880424913456,
          51.503344132381415,
          51.7685929402142,
          56.3085929402142,
          56.3085929402142
         ],
         "yaxis": "y"
        },
        {
         "hovertemplate": "Pacjent=124<br>BADANIE_NR=%{x}<br>euclidean_all_skum=%{y}<extra></extra>",
         "legendgroup": "124",
         "line": {
          "color": "#FF6692",
          "dash": "solid"
         },
         "marker": {
          "symbol": "circle"
         },
         "mode": "lines",
         "name": "124",
         "showlegend": true,
         "type": "scattergl",
         "x": [
          1,
          2,
          3,
          4,
          5,
          6,
          7,
          8,
          9
         ],
         "xaxis": "x",
         "y": [
          1.0347619192602433,
          2.8264314500862504,
          4.3019465829496895,
          5.630458486238635,
          7.420183473968658,
          8.281409559087415,
          9.581979465925722,
          9.900808140615942,
          11.934422714325656
         ],
         "yaxis": "y"
        },
        {
         "hovertemplate": "Pacjent=132<br>BADANIE_NR=%{x}<br>euclidean_all_skum=%{y}<extra></extra>",
         "legendgroup": "132",
         "line": {
          "color": "#B6E880",
          "dash": "solid"
         },
         "marker": {
          "symbol": "circle"
         },
         "mode": "lines",
         "name": "132",
         "showlegend": true,
         "type": "scattergl",
         "x": [
          1,
          2,
          3,
          4,
          5,
          6,
          7,
          8,
          9,
          10,
          11,
          12,
          13
         ],
         "xaxis": "x",
         "y": [
          0,
          1.1218971914255533,
          1.650874254629593,
          1.7778985540657517,
          2.857898554065752,
          3.0640079103100106,
          3.216424463081027,
          3.281641854385375,
          3.344557089136672,
          4.904557089136672,
          6.428438562480814,
          7.428438562480814,
          8.3108519056078
         ],
         "yaxis": "y"
        },
        {
         "hovertemplate": "Pacjent=133<br>BADANIE_NR=%{x}<br>euclidean_all_skum=%{y}<extra></extra>",
         "legendgroup": "133",
         "line": {
          "color": "#FF97FF",
          "dash": "solid"
         },
         "marker": {
          "symbol": "circle"
         },
         "mode": "lines",
         "name": "133",
         "showlegend": true,
         "type": "scattergl",
         "x": [
          1,
          2,
          3,
          4,
          5,
          6,
          7,
          8,
          9,
          10,
          11,
          12,
          13,
          14,
          15,
          16,
          17,
          18,
          19,
          20,
          21,
          22,
          23,
          24,
          25,
          26,
          27
         ],
         "xaxis": "x",
         "y": [
          0.2725394998525746,
          3.3570416469170903,
          6.413922076114821,
          11.008420426059848,
          11.394296053691342,
          15.432060810881207,
          18.628308611036886,
          20.214423697076537,
          23.11410521925388,
          26.051127520837575,
          27.32708670264881,
          30.135187999299188,
          33.09659019514731,
          36.471339223133,
          39.80035983429947,
          42.996159612100946,
          46.133248802004374,
          48.80451844960542,
          51.97401766646552,
          53.43012796492492,
          54.64128740802193,
          55.68510498523674,
          55.68510498523674,
          56.99221228589535,
          57.08421228589535,
          57.933966840789616,
          60.534989324047324
         ],
         "yaxis": "y"
        },
        {
         "hovertemplate": "Pacjent=139<br>BADANIE_NR=%{x}<br>euclidean_all_skum=%{y}<extra></extra>",
         "legendgroup": "139",
         "line": {
          "color": "#FECB52",
          "dash": "solid"
         },
         "marker": {
          "symbol": "circle"
         },
         "mode": "lines",
         "name": "139",
         "showlegend": true,
         "type": "scattergl",
         "x": [
          1,
          2,
          3,
          4,
          5,
          6,
          7,
          8,
          9,
          10,
          11,
          12,
          13,
          14,
          15,
          16,
          17,
          18,
          19,
          20,
          21,
          22,
          23,
          24,
          25,
          26,
          27,
          28,
          29,
          30,
          31,
          32
         ],
         "xaxis": "x",
         "y": [
          1.0509168492196592,
          2.4448196017681116,
          5.931201534260025,
          7.890958665927843,
          10.136551360245539,
          12.09126058059159,
          13.896706867495753,
          16.326093173898535,
          19.402377112897977,
          23.46346769435206,
          27.666875619506982,
          32.3388851174801,
          36.59349036174179,
          40.80418383208736,
          44.438275741706796,
          48.34359952433395,
          52.3909375605726,
          55.66789313766009,
          58.67259483671762,
          61.363652083223116,
          64.34104008606566,
          67.59986912878617,
          70.93342890685388,
          73.67966362077942,
          76.32718120986027,
          79.1412747701451,
          82.0230995339583,
          83.97739370355593,
          85.72368519729241,
          87.64037087835752,
          90.34087506708708,
          92.5447765123292
         ],
         "yaxis": "y"
        },
        {
         "hovertemplate": "Pacjent=142<br>BADANIE_NR=%{x}<br>euclidean_all_skum=%{y}<extra></extra>",
         "legendgroup": "142",
         "line": {
          "color": "#636efa",
          "dash": "solid"
         },
         "marker": {
          "symbol": "circle"
         },
         "mode": "lines",
         "name": "142",
         "showlegend": true,
         "type": "scattergl",
         "x": [
          1,
          2,
          3,
          4,
          5,
          6,
          7,
          8,
          9,
          10,
          11,
          12,
          13,
          14,
          15,
          16,
          17,
          18,
          19,
          20,
          21
         ],
         "xaxis": "x",
         "y": [
          1.1679730429348743,
          2.596283383605954,
          5.0223984443842316,
          7.477872139458553,
          10.814888360148995,
          13.290909932987727,
          15.65296962340548,
          18.906231589732524,
          22.064033649807797,
          25.99881503342519,
          30.61811612050333,
          34.599251408992686,
          37.75613073015439,
          41.56563987496368,
          46.01981488805634,
          49.783702859004066,
          54.262332560995674,
          59.88152414757177,
          62.649146836761254,
          66.24494737039838,
          69.19406902565436
         ],
         "yaxis": "y"
        },
        {
         "hovertemplate": "Pacjent=144<br>BADANIE_NR=%{x}<br>euclidean_all_skum=%{y}<extra></extra>",
         "legendgroup": "144",
         "line": {
          "color": "#EF553B",
          "dash": "solid"
         },
         "marker": {
          "symbol": "circle"
         },
         "mode": "lines",
         "name": "144",
         "showlegend": true,
         "type": "scattergl",
         "x": [
          1,
          2,
          3,
          4,
          5,
          6,
          7,
          8,
          9,
          10,
          11
         ],
         "xaxis": "x",
         "y": [
          5.440377079592443,
          7.741779051934802,
          10.7491947944505,
          16.33558813009695,
          20.382721900680036,
          23.86661028688409,
          27.39360995844032,
          30.738706902664823,
          34.736118702624275,
          38.025468447279266,
          41.35941542608186
         ],
         "yaxis": "y"
        }
       ],
       "layout": {
        "height": 800,
        "legend": {
         "title": {
          "text": "Pacjent"
         },
         "tracegroupgap": 0
        },
        "margin": {
         "t": 60
        },
        "showlegend": false,
        "template": {
         "data": {
          "bar": [
           {
            "error_x": {
             "color": "#2a3f5f"
            },
            "error_y": {
             "color": "#2a3f5f"
            },
            "marker": {
             "line": {
              "color": "white",
              "width": 0.5
             },
             "pattern": {
              "fillmode": "overlay",
              "size": 10,
              "solidity": 0.2
             }
            },
            "type": "bar"
           }
          ],
          "barpolar": [
           {
            "marker": {
             "line": {
              "color": "white",
              "width": 0.5
             },
             "pattern": {
              "fillmode": "overlay",
              "size": 10,
              "solidity": 0.2
             }
            },
            "type": "barpolar"
           }
          ],
          "carpet": [
           {
            "aaxis": {
             "endlinecolor": "#2a3f5f",
             "gridcolor": "#C8D4E3",
             "linecolor": "#C8D4E3",
             "minorgridcolor": "#C8D4E3",
             "startlinecolor": "#2a3f5f"
            },
            "baxis": {
             "endlinecolor": "#2a3f5f",
             "gridcolor": "#C8D4E3",
             "linecolor": "#C8D4E3",
             "minorgridcolor": "#C8D4E3",
             "startlinecolor": "#2a3f5f"
            },
            "type": "carpet"
           }
          ],
          "choropleth": [
           {
            "colorbar": {
             "outlinewidth": 0,
             "ticks": ""
            },
            "type": "choropleth"
           }
          ],
          "contour": [
           {
            "colorbar": {
             "outlinewidth": 0,
             "ticks": ""
            },
            "colorscale": [
             [
              0,
              "#0d0887"
             ],
             [
              0.1111111111111111,
              "#46039f"
             ],
             [
              0.2222222222222222,
              "#7201a8"
             ],
             [
              0.3333333333333333,
              "#9c179e"
             ],
             [
              0.4444444444444444,
              "#bd3786"
             ],
             [
              0.5555555555555556,
              "#d8576b"
             ],
             [
              0.6666666666666666,
              "#ed7953"
             ],
             [
              0.7777777777777778,
              "#fb9f3a"
             ],
             [
              0.8888888888888888,
              "#fdca26"
             ],
             [
              1,
              "#f0f921"
             ]
            ],
            "type": "contour"
           }
          ],
          "contourcarpet": [
           {
            "colorbar": {
             "outlinewidth": 0,
             "ticks": ""
            },
            "type": "contourcarpet"
           }
          ],
          "heatmap": [
           {
            "colorbar": {
             "outlinewidth": 0,
             "ticks": ""
            },
            "colorscale": [
             [
              0,
              "#0d0887"
             ],
             [
              0.1111111111111111,
              "#46039f"
             ],
             [
              0.2222222222222222,
              "#7201a8"
             ],
             [
              0.3333333333333333,
              "#9c179e"
             ],
             [
              0.4444444444444444,
              "#bd3786"
             ],
             [
              0.5555555555555556,
              "#d8576b"
             ],
             [
              0.6666666666666666,
              "#ed7953"
             ],
             [
              0.7777777777777778,
              "#fb9f3a"
             ],
             [
              0.8888888888888888,
              "#fdca26"
             ],
             [
              1,
              "#f0f921"
             ]
            ],
            "type": "heatmap"
           }
          ],
          "heatmapgl": [
           {
            "colorbar": {
             "outlinewidth": 0,
             "ticks": ""
            },
            "colorscale": [
             [
              0,
              "#0d0887"
             ],
             [
              0.1111111111111111,
              "#46039f"
             ],
             [
              0.2222222222222222,
              "#7201a8"
             ],
             [
              0.3333333333333333,
              "#9c179e"
             ],
             [
              0.4444444444444444,
              "#bd3786"
             ],
             [
              0.5555555555555556,
              "#d8576b"
             ],
             [
              0.6666666666666666,
              "#ed7953"
             ],
             [
              0.7777777777777778,
              "#fb9f3a"
             ],
             [
              0.8888888888888888,
              "#fdca26"
             ],
             [
              1,
              "#f0f921"
             ]
            ],
            "type": "heatmapgl"
           }
          ],
          "histogram": [
           {
            "marker": {
             "pattern": {
              "fillmode": "overlay",
              "size": 10,
              "solidity": 0.2
             }
            },
            "type": "histogram"
           }
          ],
          "histogram2d": [
           {
            "colorbar": {
             "outlinewidth": 0,
             "ticks": ""
            },
            "colorscale": [
             [
              0,
              "#0d0887"
             ],
             [
              0.1111111111111111,
              "#46039f"
             ],
             [
              0.2222222222222222,
              "#7201a8"
             ],
             [
              0.3333333333333333,
              "#9c179e"
             ],
             [
              0.4444444444444444,
              "#bd3786"
             ],
             [
              0.5555555555555556,
              "#d8576b"
             ],
             [
              0.6666666666666666,
              "#ed7953"
             ],
             [
              0.7777777777777778,
              "#fb9f3a"
             ],
             [
              0.8888888888888888,
              "#fdca26"
             ],
             [
              1,
              "#f0f921"
             ]
            ],
            "type": "histogram2d"
           }
          ],
          "histogram2dcontour": [
           {
            "colorbar": {
             "outlinewidth": 0,
             "ticks": ""
            },
            "colorscale": [
             [
              0,
              "#0d0887"
             ],
             [
              0.1111111111111111,
              "#46039f"
             ],
             [
              0.2222222222222222,
              "#7201a8"
             ],
             [
              0.3333333333333333,
              "#9c179e"
             ],
             [
              0.4444444444444444,
              "#bd3786"
             ],
             [
              0.5555555555555556,
              "#d8576b"
             ],
             [
              0.6666666666666666,
              "#ed7953"
             ],
             [
              0.7777777777777778,
              "#fb9f3a"
             ],
             [
              0.8888888888888888,
              "#fdca26"
             ],
             [
              1,
              "#f0f921"
             ]
            ],
            "type": "histogram2dcontour"
           }
          ],
          "mesh3d": [
           {
            "colorbar": {
             "outlinewidth": 0,
             "ticks": ""
            },
            "type": "mesh3d"
           }
          ],
          "parcoords": [
           {
            "line": {
             "colorbar": {
              "outlinewidth": 0,
              "ticks": ""
             }
            },
            "type": "parcoords"
           }
          ],
          "pie": [
           {
            "automargin": true,
            "type": "pie"
           }
          ],
          "scatter": [
           {
            "marker": {
             "colorbar": {
              "outlinewidth": 0,
              "ticks": ""
             }
            },
            "type": "scatter"
           }
          ],
          "scatter3d": [
           {
            "line": {
             "colorbar": {
              "outlinewidth": 0,
              "ticks": ""
             }
            },
            "marker": {
             "colorbar": {
              "outlinewidth": 0,
              "ticks": ""
             }
            },
            "type": "scatter3d"
           }
          ],
          "scattercarpet": [
           {
            "marker": {
             "colorbar": {
              "outlinewidth": 0,
              "ticks": ""
             }
            },
            "type": "scattercarpet"
           }
          ],
          "scattergeo": [
           {
            "marker": {
             "colorbar": {
              "outlinewidth": 0,
              "ticks": ""
             }
            },
            "type": "scattergeo"
           }
          ],
          "scattergl": [
           {
            "marker": {
             "colorbar": {
              "outlinewidth": 0,
              "ticks": ""
             }
            },
            "type": "scattergl"
           }
          ],
          "scattermapbox": [
           {
            "marker": {
             "colorbar": {
              "outlinewidth": 0,
              "ticks": ""
             }
            },
            "type": "scattermapbox"
           }
          ],
          "scatterpolar": [
           {
            "marker": {
             "colorbar": {
              "outlinewidth": 0,
              "ticks": ""
             }
            },
            "type": "scatterpolar"
           }
          ],
          "scatterpolargl": [
           {
            "marker": {
             "colorbar": {
              "outlinewidth": 0,
              "ticks": ""
             }
            },
            "type": "scatterpolargl"
           }
          ],
          "scatterternary": [
           {
            "marker": {
             "colorbar": {
              "outlinewidth": 0,
              "ticks": ""
             }
            },
            "type": "scatterternary"
           }
          ],
          "surface": [
           {
            "colorbar": {
             "outlinewidth": 0,
             "ticks": ""
            },
            "colorscale": [
             [
              0,
              "#0d0887"
             ],
             [
              0.1111111111111111,
              "#46039f"
             ],
             [
              0.2222222222222222,
              "#7201a8"
             ],
             [
              0.3333333333333333,
              "#9c179e"
             ],
             [
              0.4444444444444444,
              "#bd3786"
             ],
             [
              0.5555555555555556,
              "#d8576b"
             ],
             [
              0.6666666666666666,
              "#ed7953"
             ],
             [
              0.7777777777777778,
              "#fb9f3a"
             ],
             [
              0.8888888888888888,
              "#fdca26"
             ],
             [
              1,
              "#f0f921"
             ]
            ],
            "type": "surface"
           }
          ],
          "table": [
           {
            "cells": {
             "fill": {
              "color": "#EBF0F8"
             },
             "line": {
              "color": "white"
             }
            },
            "header": {
             "fill": {
              "color": "#C8D4E3"
             },
             "line": {
              "color": "white"
             }
            },
            "type": "table"
           }
          ]
         },
         "layout": {
          "annotationdefaults": {
           "arrowcolor": "#2a3f5f",
           "arrowhead": 0,
           "arrowwidth": 1
          },
          "autotypenumbers": "strict",
          "coloraxis": {
           "colorbar": {
            "outlinewidth": 0,
            "ticks": ""
           }
          },
          "colorscale": {
           "diverging": [
            [
             0,
             "#8e0152"
            ],
            [
             0.1,
             "#c51b7d"
            ],
            [
             0.2,
             "#de77ae"
            ],
            [
             0.3,
             "#f1b6da"
            ],
            [
             0.4,
             "#fde0ef"
            ],
            [
             0.5,
             "#f7f7f7"
            ],
            [
             0.6,
             "#e6f5d0"
            ],
            [
             0.7,
             "#b8e186"
            ],
            [
             0.8,
             "#7fbc41"
            ],
            [
             0.9,
             "#4d9221"
            ],
            [
             1,
             "#276419"
            ]
           ],
           "sequential": [
            [
             0,
             "#0d0887"
            ],
            [
             0.1111111111111111,
             "#46039f"
            ],
            [
             0.2222222222222222,
             "#7201a8"
            ],
            [
             0.3333333333333333,
             "#9c179e"
            ],
            [
             0.4444444444444444,
             "#bd3786"
            ],
            [
             0.5555555555555556,
             "#d8576b"
            ],
            [
             0.6666666666666666,
             "#ed7953"
            ],
            [
             0.7777777777777778,
             "#fb9f3a"
            ],
            [
             0.8888888888888888,
             "#fdca26"
            ],
            [
             1,
             "#f0f921"
            ]
           ],
           "sequentialminus": [
            [
             0,
             "#0d0887"
            ],
            [
             0.1111111111111111,
             "#46039f"
            ],
            [
             0.2222222222222222,
             "#7201a8"
            ],
            [
             0.3333333333333333,
             "#9c179e"
            ],
            [
             0.4444444444444444,
             "#bd3786"
            ],
            [
             0.5555555555555556,
             "#d8576b"
            ],
            [
             0.6666666666666666,
             "#ed7953"
            ],
            [
             0.7777777777777778,
             "#fb9f3a"
            ],
            [
             0.8888888888888888,
             "#fdca26"
            ],
            [
             1,
             "#f0f921"
            ]
           ]
          },
          "colorway": [
           "#636efa",
           "#EF553B",
           "#00cc96",
           "#ab63fa",
           "#FFA15A",
           "#19d3f3",
           "#FF6692",
           "#B6E880",
           "#FF97FF",
           "#FECB52"
          ],
          "font": {
           "color": "#2a3f5f"
          },
          "geo": {
           "bgcolor": "white",
           "lakecolor": "white",
           "landcolor": "white",
           "showlakes": true,
           "showland": true,
           "subunitcolor": "#C8D4E3"
          },
          "hoverlabel": {
           "align": "left"
          },
          "hovermode": "closest",
          "mapbox": {
           "style": "light"
          },
          "paper_bgcolor": "white",
          "plot_bgcolor": "white",
          "polar": {
           "angularaxis": {
            "gridcolor": "#EBF0F8",
            "linecolor": "#EBF0F8",
            "ticks": ""
           },
           "bgcolor": "white",
           "radialaxis": {
            "gridcolor": "#EBF0F8",
            "linecolor": "#EBF0F8",
            "ticks": ""
           }
          },
          "scene": {
           "xaxis": {
            "backgroundcolor": "white",
            "gridcolor": "#DFE8F3",
            "gridwidth": 2,
            "linecolor": "#EBF0F8",
            "showbackground": true,
            "ticks": "",
            "zerolinecolor": "#EBF0F8"
           },
           "yaxis": {
            "backgroundcolor": "white",
            "gridcolor": "#DFE8F3",
            "gridwidth": 2,
            "linecolor": "#EBF0F8",
            "showbackground": true,
            "ticks": "",
            "zerolinecolor": "#EBF0F8"
           },
           "zaxis": {
            "backgroundcolor": "white",
            "gridcolor": "#DFE8F3",
            "gridwidth": 2,
            "linecolor": "#EBF0F8",
            "showbackground": true,
            "ticks": "",
            "zerolinecolor": "#EBF0F8"
           }
          },
          "shapedefaults": {
           "line": {
            "color": "#2a3f5f"
           }
          },
          "ternary": {
           "aaxis": {
            "gridcolor": "#DFE8F3",
            "linecolor": "#A2B1C6",
            "ticks": ""
           },
           "baxis": {
            "gridcolor": "#DFE8F3",
            "linecolor": "#A2B1C6",
            "ticks": ""
           },
           "bgcolor": "white",
           "caxis": {
            "gridcolor": "#DFE8F3",
            "linecolor": "#A2B1C6",
            "ticks": ""
           }
          },
          "title": {
           "x": 0.05
          },
          "xaxis": {
           "automargin": true,
           "gridcolor": "#EBF0F8",
           "linecolor": "#EBF0F8",
           "ticks": "",
           "title": {
            "standoff": 15
           },
           "zerolinecolor": "#EBF0F8",
           "zerolinewidth": 2
          },
          "yaxis": {
           "automargin": true,
           "gridcolor": "#EBF0F8",
           "linecolor": "#EBF0F8",
           "ticks": "",
           "title": {
            "standoff": 15
           },
           "zerolinecolor": "#EBF0F8",
           "zerolinewidth": 2
          }
         }
        },
        "width": 800,
        "xaxis": {
         "anchor": "y",
         "domain": [
          0,
          1
         ],
         "range": [
          0,
          65
         ],
         "tickfont": {
          "size": 18
         },
         "title": {
          "font": {
           "size": 24
          },
          "text": "Numer badania"
         }
        },
        "yaxis": {
         "anchor": "x",
         "domain": [
          0,
          1
         ],
         "range": [
          0,
          120
         ],
         "tickfont": {
          "size": 18
         },
         "title": {
          "font": {
           "size": 24
          },
          "text": "Skumulowana odległość od normy (Miernik 1)"
         }
        }
       }
      }
     },
     "metadata": {},
     "output_type": "display_data"
    },
    {
     "data": {
      "application/vnd.plotly.v1+json": {
       "config": {
        "plotlyServerURL": "https://plot.ly"
       },
       "data": [
        {
         "hovertemplate": "Pacjent=7<br>BADANIE_NR=%{x}<br>euclidean_all_skum=%{y}<extra></extra>",
         "legendgroup": "7",
         "line": {
          "color": "#636efa",
          "dash": "solid"
         },
         "marker": {
          "symbol": "circle"
         },
         "mode": "lines",
         "name": "7",
         "showlegend": true,
         "type": "scattergl",
         "x": [
          1,
          2,
          3,
          4,
          5,
          6,
          7,
          8,
          9,
          10,
          11,
          12
         ],
         "xaxis": "x",
         "y": [
          0.9531763473314336,
          1.4913903262763832,
          1.4913903262763832,
          1.7212344652878164,
          2.233234465287816,
          2.9842821831185606,
          4.92728769759039,
          5.387167719097865,
          7.367768240798622,
          9.309549677915392,
          12.673781475140885,
          13.486028053095897
         ],
         "yaxis": "y"
        },
        {
         "hovertemplate": "Pacjent=11<br>BADANIE_NR=%{x}<br>euclidean_all_skum=%{y}<extra></extra>",
         "legendgroup": "11",
         "line": {
          "color": "#EF553B",
          "dash": "solid"
         },
         "marker": {
          "symbol": "circle"
         },
         "mode": "lines",
         "name": "11",
         "showlegend": true,
         "type": "scattergl",
         "x": [
          1,
          2,
          3,
          4,
          5,
          6,
          7,
          8,
          9,
          10,
          11,
          12,
          13,
          14,
          15,
          16,
          17
         ],
         "xaxis": "x",
         "y": [
          5.338394026718338,
          12.600091600592545,
          17.416367226067663,
          21.508582769348862,
          25.59715047172463,
          30.55276198143374,
          34.45741459466337,
          38.49986061808869,
          42.657691578590416,
          48.20230332461604,
          53.23907775063722,
          57.9962126463718,
          61.582897370447185,
          64.54621833458827,
          67.5003924208002,
          70.23592340991385,
          78.40512984982573
         ],
         "yaxis": "y"
        },
        {
         "hovertemplate": "Pacjent=12<br>BADANIE_NR=%{x}<br>euclidean_all_skum=%{y}<extra></extra>",
         "legendgroup": "12",
         "line": {
          "color": "#00cc96",
          "dash": "solid"
         },
         "marker": {
          "symbol": "circle"
         },
         "mode": "lines",
         "name": "12",
         "showlegend": true,
         "type": "scattergl",
         "x": [
          1,
          2,
          3,
          4,
          5,
          6,
          7,
          8,
          9,
          10,
          11,
          12,
          13,
          14,
          15,
          16,
          17,
          18,
          19,
          20,
          21,
          22,
          23,
          24,
          25,
          26,
          27,
          28,
          29,
          30,
          31,
          32,
          33,
          34,
          35,
          36,
          37,
          38,
          39,
          40,
          41,
          42,
          43,
          44,
          45,
          46,
          47,
          48,
          49
         ],
         "xaxis": "x",
         "y": [
          3.5873142444180814,
          9.343542145201589,
          21.77417346860687,
          28.96506749409469,
          36.426948139730726,
          43.5596432258182,
          47.379400600216506,
          51.01364272311487,
          51.75522514488385,
          53.56586275679405,
          55.79394362492464,
          56.13445904274755,
          57.40535648865827,
          57.40535648865827,
          57.6785107170974,
          58.38658133504451,
          58.38658133504451,
          58.38658133504451,
          58.38658133504451,
          59.09058133504451,
          59.09058133504451,
          61.152595883974755,
          62.29656894273455,
          65.48705714663157,
          67.26845812882432,
          67.80316667795569,
          69.94531838979299,
          71.35545756450668,
          72.72975195572133,
          73.72393318558483,
          73.72393318558483,
          73.89784622906309,
          74.93384622906309,
          74.93384622906309,
          74.93384622906309,
          75.33384622906308,
          75.33384622906308,
          75.89640608288018,
          76.66178946408651,
          77.24033221983308,
          78.47211093280534,
          80.61653473392343,
          82.68406874627959,
          84.60786151890808,
          86.42863327825134,
          86.42863327825134,
          87.92967539639915,
          88.97701652537943,
          90.52826072668572
         ],
         "yaxis": "y"
        },
        {
         "hovertemplate": "Pacjent=21<br>BADANIE_NR=%{x}<br>euclidean_all_skum=%{y}<extra></extra>",
         "legendgroup": "21",
         "line": {
          "color": "#ab63fa",
          "dash": "solid"
         },
         "marker": {
          "symbol": "circle"
         },
         "mode": "lines",
         "name": "21",
         "showlegend": true,
         "type": "scattergl",
         "x": [
          1,
          2,
          3,
          4,
          5,
          6,
          7,
          8,
          9,
          10,
          11,
          12,
          13,
          14,
          15,
          16,
          17,
          18,
          19,
          20,
          21,
          22,
          23,
          24,
          25,
          26,
          27,
          28,
          29,
          30,
          31,
          32,
          33,
          34,
          35,
          36,
          37,
          38,
          39,
          40,
          41,
          42,
          43,
          44,
          45,
          46,
          47,
          48,
          49,
          50,
          51,
          52,
          53,
          54,
          55,
          56,
          57,
          58,
          59,
          60,
          61,
          62,
          63,
          64
         ],
         "xaxis": "x",
         "y": [
          1.8160156041341633,
          3.153945227088081,
          8.380360861511793,
          11.085654827413576,
          12.633784020988841,
          12.889433156660987,
          13.259806552207897,
          17.43583965218794,
          17.714544484848968,
          18.826043790349395,
          20.83445962317617,
          23.245885960094764,
          23.96123625847866,
          24.46123625847866,
          24.46123625847866,
          25.735183977252916,
          28.434807229787324,
          32.11561353779197,
          36.30373392195597,
          39.6415187742535,
          42.249962560645585,
          45.01697946076019,
          46.97286646118023,
          48.3200574054987,
          50.17208480325544,
          50.527260820922834,
          55.15441522316953,
          58.54287807288944,
          62.59847731931863,
          66.19265764895792,
          70.06995018648331,
          74.03123058204415,
          78.18468282295338,
          81.61156222921038,
          85.19904572146277,
          89.55936908662403,
          93.78461194564083,
          97.41091465635273,
          101.47223129918719,
          104.86350291106932,
          107.85866992774802,
          113.5568112764704,
          119.44689423467554,
          122.59698492140086,
          125.83059914353963,
          129.77977102294437,
          132.526980016107,
          136.08628447321868,
          138.87346604318677,
          142.63378075470743,
          145.41573641856874,
          148.35304064797805,
          151.85065355338907,
          155.05071896978092,
          158.74736477755047,
          163.07448396698445,
          165.7305203903118,
          169.55938766964155,
          171.966045456142,
          174.4515915885965,
          177.26673380548775,
          179.7591808080319,
          183.2907588331191,
          185.75817241336003
         ],
         "yaxis": "y"
        },
        {
         "hovertemplate": "Pacjent=22<br>BADANIE_NR=%{x}<br>euclidean_all_skum=%{y}<extra></extra>",
         "legendgroup": "22",
         "line": {
          "color": "#FFA15A",
          "dash": "solid"
         },
         "marker": {
          "symbol": "circle"
         },
         "mode": "lines",
         "name": "22",
         "showlegend": true,
         "type": "scattergl",
         "x": [
          1,
          2,
          3,
          4,
          5,
          6,
          7,
          8,
          9,
          10,
          11,
          12,
          13,
          14,
          15,
          16,
          17,
          18,
          19,
          20,
          21,
          22,
          23,
          24,
          25,
          26,
          27,
          28,
          29,
          30,
          31,
          32,
          33
         ],
         "xaxis": "x",
         "y": [
          1.6583171020351097,
          3.896114551775611,
          6.769478288836477,
          8.64730854756416,
          10.233579272211774,
          10.849746000194525,
          11.714131005081217,
          12.656175598039997,
          13.658639481393962,
          14.911067293817023,
          15.98490340794245,
          17.705368955787932,
          19.560101012417775,
          21.25365100475917,
          23.126587701888997,
          24.404936781956877,
          26.021337366793947,
          27.490395372909028,
          29.10815625868723,
          30.815508346683487,
          32.821670875178434,
          34.308044330656344,
          36.406061278885616,
          38.085267626661874,
          39.02508003604969,
          40.065681726159674,
          42.99300884238168,
          44.65367662831768,
          45.99511939758278,
          47.12361520624586,
          48.57553525695402,
          49.42741824189844,
          53.768660692451455
         ],
         "yaxis": "y"
        },
        {
         "hovertemplate": "Pacjent=25<br>BADANIE_NR=%{x}<br>euclidean_all_skum=%{y}<extra></extra>",
         "legendgroup": "25",
         "line": {
          "color": "#19d3f3",
          "dash": "solid"
         },
         "marker": {
          "symbol": "circle"
         },
         "mode": "lines",
         "name": "25",
         "showlegend": true,
         "type": "scattergl",
         "x": [
          1,
          2,
          3,
          4,
          5,
          6,
          7,
          8,
          9,
          10,
          11,
          12,
          13,
          14,
          15,
          16
         ],
         "xaxis": "x",
         "y": [
          0.9206831358686699,
          2.367846101241682,
          6.525694218876421,
          8.988416337671909,
          11.641231012941038,
          14.417546755786177,
          17.08414151384753,
          19.984982569123968,
          23.08495194145889,
          26.313856559681913,
          29.446617566147214,
          32.84192314885991,
          34.897736730399245,
          37.56117201004284,
          38.8803697957185,
          39.5903697957185
         ],
         "yaxis": "y"
        },
        {
         "hovertemplate": "Pacjent=27<br>BADANIE_NR=%{x}<br>euclidean_all_skum=%{y}<extra></extra>",
         "legendgroup": "27",
         "line": {
          "color": "#FF6692",
          "dash": "solid"
         },
         "marker": {
          "symbol": "circle"
         },
         "mode": "lines",
         "name": "27",
         "showlegend": true,
         "type": "scattergl",
         "x": [
          1,
          2,
          3,
          4,
          5,
          6,
          7,
          8,
          9,
          10,
          11,
          12,
          13,
          14,
          15,
          16,
          17,
          18,
          19,
          20,
          21,
          22,
          23,
          24,
          25,
          26
         ],
         "xaxis": "x",
         "y": [
          1.4824508613394525,
          4.218671580950286,
          6.961444633440847,
          9.685641569104332,
          13.137659809230904,
          15.296696979250385,
          18.45893629784372,
          21.54831054083585,
          24.52887017712099,
          27.495125181160255,
          30.076695526657332,
          33.51528453031226,
          35.92608035913323,
          38.580693625889936,
          40.788237870472486,
          43.50784147038015,
          45.837461217873944,
          47.46726892683865,
          50.21975406311757,
          52.2218004867389,
          53.98566356426663,
          55.115904704507045,
          56.01847936068363,
          57.36571557572253,
          58.233510822190304,
          61.79317193687599
         ],
         "yaxis": "y"
        },
        {
         "hovertemplate": "Pacjent=30<br>BADANIE_NR=%{x}<br>euclidean_all_skum=%{y}<extra></extra>",
         "legendgroup": "30",
         "line": {
          "color": "#B6E880",
          "dash": "solid"
         },
         "marker": {
          "symbol": "circle"
         },
         "mode": "lines",
         "name": "30",
         "showlegend": true,
         "type": "scattergl",
         "x": [
          1,
          2,
          3,
          4,
          5,
          6,
          7,
          8,
          9,
          10,
          11,
          12
         ],
         "xaxis": "x",
         "y": [
          4.085319787003887,
          6.709983474161541,
          10.080435780011975,
          13.952712026897773,
          15.992186593231805,
          17.60839234996797,
          18.611750761301103,
          20.869998803642,
          22.871870601037045,
          24.095451538835174,
          26.46714652729699,
          28.68154407927709
         ],
         "yaxis": "y"
        },
        {
         "hovertemplate": "Pacjent=31<br>BADANIE_NR=%{x}<br>euclidean_all_skum=%{y}<extra></extra>",
         "legendgroup": "31",
         "line": {
          "color": "#FF97FF",
          "dash": "solid"
         },
         "marker": {
          "symbol": "circle"
         },
         "mode": "lines",
         "name": "31",
         "showlegend": true,
         "type": "scattergl",
         "x": [
          1,
          2,
          3,
          4,
          5,
          6,
          7,
          8,
          9,
          10,
          11
         ],
         "xaxis": "x",
         "y": [
          3.8420657146688164,
          8.115586334063654,
          10.853127380021647,
          14.58492006147964,
          18.081718796205468,
          21.477175104342393,
          24.339552918812153,
          28.19054595059053,
          32.26703559141541,
          35.94062996698753,
          40.36856797994997
         ],
         "yaxis": "y"
        },
        {
         "hovertemplate": "Pacjent=32<br>BADANIE_NR=%{x}<br>euclidean_all_skum=%{y}<extra></extra>",
         "legendgroup": "32",
         "line": {
          "color": "#FECB52",
          "dash": "solid"
         },
         "marker": {
          "symbol": "circle"
         },
         "mode": "lines",
         "name": "32",
         "showlegend": true,
         "type": "scattergl",
         "x": [
          1,
          2,
          3,
          4,
          5,
          6,
          7,
          8,
          9,
          10,
          11,
          12,
          13,
          14,
          15,
          16,
          17,
          18,
          19,
          20,
          21,
          22,
          23,
          24,
          25,
          26,
          27,
          28,
          29,
          30,
          31
         ],
         "xaxis": "x",
         "y": [
          1.8432743102568547,
          3.9833892998004403,
          4.6809603151667725,
          6.2345294600785826,
          9.885333865457262,
          13.293426889092842,
          16.090529629950094,
          19.009957463164326,
          21.116057561855953,
          23.162117828870855,
          25.890920636471833,
          29.305415712817812,
          32.47293533064192,
          35.03804270656135,
          37.82998653430837,
          40.88844401749911,
          43.75513126109408,
          46.11846025193343,
          48.603494526049865,
          50.89817953764245,
          53.7286484000741,
          55.90107947978124,
          58.66287238716045,
          60.598779077404345,
          62.50488706587429,
          64.5385169368686,
          67.06201868173042,
          69.5652729739341,
          71.62345855035646,
          73.74034257924194,
          76.14080570183134
         ],
         "yaxis": "y"
        },
        {
         "hovertemplate": "Pacjent=36<br>BADANIE_NR=%{x}<br>euclidean_all_skum=%{y}<extra></extra>",
         "legendgroup": "36",
         "line": {
          "color": "#636efa",
          "dash": "solid"
         },
         "marker": {
          "symbol": "circle"
         },
         "mode": "lines",
         "name": "36",
         "showlegend": true,
         "type": "scattergl",
         "x": [
          1,
          2,
          3,
          4,
          5,
          6,
          7,
          8
         ],
         "xaxis": "x",
         "y": [
          2.11236891346216,
          7.162701436745285,
          10.926135339038655,
          14.096750761650178,
          19.52786948486207,
          24.888714026154183,
          29.676297586398025,
          34.45410191941943
         ],
         "yaxis": "y"
        },
        {
         "hovertemplate": "Pacjent=37<br>BADANIE_NR=%{x}<br>euclidean_all_skum=%{y}<extra></extra>",
         "legendgroup": "37",
         "line": {
          "color": "#EF553B",
          "dash": "solid"
         },
         "marker": {
          "symbol": "circle"
         },
         "mode": "lines",
         "name": "37",
         "showlegend": true,
         "type": "scattergl",
         "x": [
          1,
          2,
          3,
          4,
          5,
          6,
          7,
          8,
          9,
          10,
          11,
          12,
          13,
          14,
          15,
          16,
          17,
          18,
          19,
          20,
          21,
          22,
          23,
          24,
          25,
          26,
          27,
          28,
          29,
          30,
          31,
          32,
          33,
          34,
          35,
          36,
          37,
          38,
          39,
          40,
          41,
          42,
          43,
          44,
          45,
          46,
          47,
          48,
          49,
          50,
          51
         ],
         "xaxis": "x",
         "y": [
          6.838781644650086,
          10.521793501663701,
          13.58341526019586,
          17.045249952026104,
          19.304516949828113,
          22.50394007954212,
          25.239373056746793,
          27.56337973461229,
          30.706435241695313,
          33.418746787334,
          36.38778703630335,
          39.54663671412379,
          42.27858447198864,
          45.1161580342679,
          48.502719267448676,
          51.12468994998964,
          54.14825578882781,
          56.508137243777334,
          59.19097982591383,
          60.87802861526055,
          62.53384573346004,
          65.75746762538213,
          68.88191220562258,
          71.58146352309925,
          74.54814584515532,
          76.49552661723241,
          78.52279669646693,
          81.38108087912076,
          84.25289188569256,
          86.77010957137782,
          90.80772141769862,
          95.34889037388234,
          99.67054786067578,
          104.4614990825717,
          107.90848098591353,
          111.14691397064509,
          115.50410865615206,
          118.26108714928309,
          121.97259696389624,
          126.38623943770158,
          131.1220919139458,
          134.84710511116683,
          139.34368656755686,
          145.16178842582485,
          151.67657639443843,
          159.42689066694814,
          165.19846387343898,
          171.06401962489667,
          178.03151143669294,
          183.89640384035528,
          188.7469399516638
         ],
         "yaxis": "y"
        },
        {
         "hovertemplate": "Pacjent=42<br>BADANIE_NR=%{x}<br>euclidean_all_skum=%{y}<extra></extra>",
         "legendgroup": "42",
         "line": {
          "color": "#00cc96",
          "dash": "solid"
         },
         "marker": {
          "symbol": "circle"
         },
         "mode": "lines",
         "name": "42",
         "showlegend": true,
         "type": "scattergl",
         "x": [
          1,
          2,
          3,
          4,
          5,
          6,
          7,
          8,
          9,
          10,
          11,
          12,
          13,
          14,
          15,
          16,
          17,
          18,
          19
         ],
         "xaxis": "x",
         "y": [
          3.3000298924507305,
          4.525064363956282,
          5.531828818926215,
          7.17844351370821,
          8.587689791202061,
          10.489085087926561,
          13.118797529169804,
          15.347046139952626,
          18.103068458120283,
          20.078916245818323,
          21.957963265273463,
          24.195087060092593,
          24.881419332001354,
          26.519704365903284,
          29.27828523765243,
          29.27828523765243,
          30.8065011909784,
          32.59671091351417,
          34.8978160971515
         ],
         "yaxis": "y"
        },
        {
         "hovertemplate": "Pacjent=48<br>BADANIE_NR=%{x}<br>euclidean_all_skum=%{y}<extra></extra>",
         "legendgroup": "48",
         "line": {
          "color": "#ab63fa",
          "dash": "solid"
         },
         "marker": {
          "symbol": "circle"
         },
         "mode": "lines",
         "name": "48",
         "showlegend": true,
         "type": "scattergl",
         "x": [
          1,
          2,
          3,
          4,
          5,
          6,
          7,
          8,
          9,
          10,
          11,
          12,
          13,
          14,
          15,
          16,
          17,
          18,
          19,
          20,
          21,
          22,
          23,
          24,
          25,
          26,
          27,
          28,
          29,
          30,
          31,
          32,
          33,
          34,
          35,
          36,
          37,
          38
         ],
         "xaxis": "x",
         "y": [
          2.272610420032443,
          7.523820614806695,
          13.60781490151285,
          18.986927496986706,
          22.464513490661922,
          26.564448055683812,
          28.58960748179817,
          30.34859140622895,
          33.02986827732585,
          34.3112634839669,
          35.32196866802845,
          37.06966238303666,
          38.36966238303666,
          39.591090273176725,
          41.40606125358808,
          43.18758987654212,
          45.32249082252284,
          47.436142638693134,
          50.44647468928496,
          53.25881920294542,
          56.46292632740745,
          59.491753604055724,
          62.74976131985767,
          64.97781202081312,
          66.80569640699721,
          68.443675737488,
          69.05094831603698,
          69.72486135951524,
          69.84486135951525,
          70.01486655077382,
          70.04486655077382,
          70.04486655077382,
          70.68886655077381,
          71.54486655077382,
          71.54486655077382,
          71.64486655077381,
          71.77932117884995,
          73.31201984370198
         ],
         "yaxis": "y"
        },
        {
         "hovertemplate": "Pacjent=51<br>BADANIE_NR=%{x}<br>euclidean_all_skum=%{y}<extra></extra>",
         "legendgroup": "51",
         "line": {
          "color": "#FFA15A",
          "dash": "solid"
         },
         "marker": {
          "symbol": "circle"
         },
         "mode": "lines",
         "name": "51",
         "showlegend": true,
         "type": "scattergl",
         "x": [
          1,
          2,
          3,
          4,
          5,
          6,
          7
         ],
         "xaxis": "x",
         "y": [
          6.7404313135289105,
          13.090597791519777,
          18.648618921780923,
          22.63402451068399,
          25.827341490229802,
          27.124641173016837,
          29.38222142083448
         ],
         "yaxis": "y"
        },
        {
         "hovertemplate": "Pacjent=52<br>BADANIE_NR=%{x}<br>euclidean_all_skum=%{y}<extra></extra>",
         "legendgroup": "52",
         "line": {
          "color": "#19d3f3",
          "dash": "solid"
         },
         "marker": {
          "symbol": "circle"
         },
         "mode": "lines",
         "name": "52",
         "showlegend": true,
         "type": "scattergl",
         "x": [
          1,
          2,
          3,
          4,
          5,
          6,
          7,
          8,
          9,
          10,
          11,
          12,
          13,
          14,
          15,
          16,
          17,
          18,
          19,
          20,
          21,
          22,
          23,
          24,
          25,
          26,
          27,
          28
         ],
         "xaxis": "x",
         "y": [
          0.632412766660087,
          3.664798046208677,
          6.926217941913121,
          9.104319796893297,
          10.776062934594554,
          12.960786621009579,
          15.742070537351418,
          18.991208461114745,
          21.849398861166666,
          25.354468426502706,
          28.625415115454697,
          30.70478089420876,
          32.72953025611159,
          34.77662742558295,
          36.16367922225811,
          36.81585313530159,
          37.74593037257642,
          38.20637808763067,
          38.20637808763067,
          42.248462322139495,
          44.09607478063372,
          47.3829657240639,
          50.88704966494617,
          55.4656234154275,
          57.47992585111754,
          60.12587773939958,
          62.603887800073345,
          64.4342693693959
         ],
         "yaxis": "y"
        },
        {
         "hovertemplate": "Pacjent=53<br>BADANIE_NR=%{x}<br>euclidean_all_skum=%{y}<extra></extra>",
         "legendgroup": "53",
         "line": {
          "color": "#FF6692",
          "dash": "solid"
         },
         "marker": {
          "symbol": "circle"
         },
         "mode": "lines",
         "name": "53",
         "showlegend": true,
         "type": "scattergl",
         "x": [
          1,
          2,
          3,
          4,
          5,
          6,
          7,
          8,
          9,
          10,
          11,
          12,
          13,
          14,
          15,
          16,
          17,
          18,
          19,
          20
         ],
         "xaxis": "x",
         "y": [
          0.3541106250515219,
          3.310392007278547,
          6.868539686097783,
          7.802851462366338,
          8.521706049069516,
          9.914130869628016,
          12.317766612462343,
          13.72468047487791,
          17.800970947165553,
          19.761206456337288,
          23.972915331808757,
          27.967882219422563,
          33.25554962339052,
          37.58167779535937,
          40.665849582225675,
          44.86719591286358,
          48.6500445809137,
          51.22341422978198,
          54.03538878107626,
          58.67902874118718
         ],
         "yaxis": "y"
        },
        {
         "hovertemplate": "Pacjent=55<br>BADANIE_NR=%{x}<br>euclidean_all_skum=%{y}<extra></extra>",
         "legendgroup": "55",
         "line": {
          "color": "#B6E880",
          "dash": "solid"
         },
         "marker": {
          "symbol": "circle"
         },
         "mode": "lines",
         "name": "55",
         "showlegend": true,
         "type": "scattergl",
         "x": [
          1,
          2,
          3,
          4,
          5,
          6,
          7,
          8,
          9,
          10,
          11,
          12,
          13,
          14,
          15,
          16,
          17,
          18,
          19,
          20,
          21,
          22,
          23,
          24,
          25
         ],
         "xaxis": "x",
         "y": [
          0.056500692366616,
          1.24719124830464,
          2.0729886518247564,
          2.9109223603070946,
          3.4844733903424085,
          4.536550956534143,
          4.536550956534143,
          5.280550956534142,
          5.784624270395962,
          6.119282790500246,
          6.299282790500246,
          7.7253838741073935,
          7.7253838741073935,
          8.349383874107394,
          8.581383874107393,
          8.581383874107393,
          8.952781235433507,
          11.568767926190638,
          12.241509194048502,
          13.041835219298132,
          13.545835219298132,
          13.953835219298131,
          14.421835219298131,
          16.028014951412686,
          18.431105618421157
         ],
         "yaxis": "y"
        },
        {
         "hovertemplate": "Pacjent=57<br>BADANIE_NR=%{x}<br>euclidean_all_skum=%{y}<extra></extra>",
         "legendgroup": "57",
         "line": {
          "color": "#FF97FF",
          "dash": "solid"
         },
         "marker": {
          "symbol": "circle"
         },
         "mode": "lines",
         "name": "57",
         "showlegend": true,
         "type": "scattergl",
         "x": [
          1,
          2,
          3,
          4,
          5,
          6,
          7,
          8,
          9,
          10,
          11,
          12,
          13,
          14,
          15
         ],
         "xaxis": "x",
         "y": [
          0.5173409994640618,
          0.7253409994640618,
          1.2659485101128833,
          3.4020422113969535,
          6.923462379454153,
          7.535462379454153,
          9.96351930879682,
          9.96351930879682,
          12.21060130142025,
          13.436282319635062,
          15.200282319635061,
          16.82428231963506,
          18.65219617326358,
          24.906567211999814,
          38.78178261369582
         ],
         "yaxis": "y"
        },
        {
         "hovertemplate": "Pacjent=61<br>BADANIE_NR=%{x}<br>euclidean_all_skum=%{y}<extra></extra>",
         "legendgroup": "61",
         "line": {
          "color": "#FECB52",
          "dash": "solid"
         },
         "marker": {
          "symbol": "circle"
         },
         "mode": "lines",
         "name": "61",
         "showlegend": true,
         "type": "scattergl",
         "x": [
          1,
          2,
          3,
          4,
          5,
          6,
          7,
          8,
          9,
          10,
          11,
          12,
          13,
          14,
          15,
          16,
          17,
          18,
          19,
          20,
          21,
          22,
          23,
          24,
          25,
          26,
          27,
          28,
          29,
          30,
          31,
          32,
          33,
          34
         ],
         "xaxis": "x",
         "y": [
          0.7518746185000473,
          1.7813186331050428,
          2.8088532397163135,
          3.717959485433498,
          4.634518417066473,
          5.254341980847703,
          5.761408998350389,
          6.105276434259934,
          6.4029138508201715,
          6.4029138508201715,
          6.5957958293730545,
          6.878268716758703,
          7.076267347184459,
          7.24347478351374,
          7.81770052769796,
          8.406144240831233,
          9.053636361625232,
          9.56350673924262,
          11.607448029984601,
          12.295316837885014,
          13.131032536790157,
          13.428010650461854,
          14.361673705012526,
          14.839650102623295,
          15.098016718362528,
          16.890016718362528,
          17.675105103932523,
          18.611105103932523,
          18.78110510393252,
          20.01799003957315,
          20.551208300989504,
          21.183736820692694,
          22.012338806098512,
          22.45448172322853
         ],
         "yaxis": "y"
        },
        {
         "hovertemplate": "Pacjent=62<br>BADANIE_NR=%{x}<br>euclidean_all_skum=%{y}<extra></extra>",
         "legendgroup": "62",
         "line": {
          "color": "#636efa",
          "dash": "solid"
         },
         "marker": {
          "symbol": "circle"
         },
         "mode": "lines",
         "name": "62",
         "showlegend": true,
         "type": "scattergl",
         "x": [
          1,
          2,
          3,
          4,
          5,
          6,
          7,
          8,
          9,
          10,
          11
         ],
         "xaxis": "x",
         "y": [
          0.8762577932474229,
          1.8650425206966035,
          2.4630690304357667,
          3.1244995703779757,
          3.1244995703779757,
          4.746043552108995,
          4.746043552108995,
          6.711587051408122,
          8.184715032660714,
          13.42883950483389,
          17.50015873201745
         ],
         "yaxis": "y"
        },
        {
         "hovertemplate": "Pacjent=65<br>BADANIE_NR=%{x}<br>euclidean_all_skum=%{y}<extra></extra>",
         "legendgroup": "65",
         "line": {
          "color": "#EF553B",
          "dash": "solid"
         },
         "marker": {
          "symbol": "circle"
         },
         "mode": "lines",
         "name": "65",
         "showlegend": true,
         "type": "scattergl",
         "x": [
          1,
          2,
          3,
          4,
          5,
          6,
          7,
          8,
          9,
          10,
          11,
          12,
          13,
          14,
          15,
          16,
          17,
          18,
          19,
          20,
          21,
          22,
          23,
          24,
          25,
          26,
          27,
          28,
          29,
          30,
          31,
          32,
          33,
          34,
          35,
          36,
          37
         ],
         "xaxis": "x",
         "y": [
          0.82,
          2.4166477487043942,
          3.1001799629537237,
          5.787067829664276,
          8.60778622004295,
          9.606083938548998,
          10.663428516120383,
          12.315428516120383,
          13.303190612180005,
          13.864757559812224,
          17.25481164484286,
          19.66569504267069,
          21.527491899979772,
          23.98402897437351,
          26.369726180785197,
          28.643625478197738,
          31.076305509789616,
          33.83952961014086,
          36.71988380097404,
          40.04357293558631,
          42.69416784800637,
          44.76446426432403,
          45.74539485313563,
          46.48917686075495,
          48.28493173397033,
          48.28493173397033,
          48.28493173397033,
          48.72278900154446,
          48.91278900154446,
          49.04867130355617,
          52.29199949339801,
          52.528211262791494,
          52.958211262791494,
          53.538886731534575,
          55.077717456468285,
          55.52771745646828,
          55.898316970769095
         ],
         "yaxis": "y"
        },
        {
         "hovertemplate": "Pacjent=70<br>BADANIE_NR=%{x}<br>euclidean_all_skum=%{y}<extra></extra>",
         "legendgroup": "70",
         "line": {
          "color": "#00cc96",
          "dash": "solid"
         },
         "marker": {
          "symbol": "circle"
         },
         "mode": "lines",
         "name": "70",
         "showlegend": true,
         "type": "scattergl",
         "x": [
          1,
          2,
          3,
          4,
          5,
          6,
          7,
          8,
          9,
          10,
          11,
          12,
          13,
          14,
          15,
          16,
          17,
          18,
          19,
          20,
          21,
          22,
          23,
          24,
          25,
          26,
          27,
          28,
          29,
          30,
          31
         ],
         "xaxis": "x",
         "y": [
          0.849576026810322,
          1.5879687225738293,
          2.236755031660437,
          2.4287550316604367,
          3.236755031660437,
          3.520755031660437,
          5.581605062982582,
          11.442498459882014,
          16.71513226700958,
          21.329968126981584,
          25.9550706630067,
          28.837704769807083,
          32.62904954781094,
          35.35814260775078,
          38.55220091231447,
          41.690530962029634,
          44.04120730117498,
          46.161316682381475,
          48.52301439124536,
          50.193297072232184,
          51.75630735185785,
          52.57667946070568,
          54.013716161751,
          55.048012357256816,
          56.15115488678493,
          56.712186882138994,
          57.41687010877738,
          57.41687010877738,
          57.82180306697022,
          58.11650693320199,
          60.5622375061213
         ],
         "yaxis": "y"
        },
        {
         "hovertemplate": "Pacjent=73<br>BADANIE_NR=%{x}<br>euclidean_all_skum=%{y}<extra></extra>",
         "legendgroup": "73",
         "line": {
          "color": "#ab63fa",
          "dash": "solid"
         },
         "marker": {
          "symbol": "circle"
         },
         "mode": "lines",
         "name": "73",
         "showlegend": true,
         "type": "scattergl",
         "x": [
          1,
          2,
          3,
          4,
          5,
          6,
          7,
          8,
          9,
          10,
          11,
          12,
          13,
          14,
          15,
          16,
          17,
          18,
          19,
          20,
          21,
          22,
          23
         ],
         "xaxis": "x",
         "y": [
          0.4940211532019292,
          1.4014164844284869,
          1.9665632330212712,
          5.264081858900739,
          7.113156964136195,
          8.952449219325674,
          9.6888044235359,
          12.173756959092618,
          14.918278253274082,
          17.635639748195114,
          19.425206705003095,
          20.489396537692734,
          22.208036675757143,
          26.15361624291583,
          26.92919750703056,
          27.935083827228606,
          28.648464246813806,
          29.01425254980213,
          29.83482208321672,
          30.635246186303025,
          31.441146568069165,
          31.91224390749448,
          33.688829396571776
         ],
         "yaxis": "y"
        },
        {
         "hovertemplate": "Pacjent=74<br>BADANIE_NR=%{x}<br>euclidean_all_skum=%{y}<extra></extra>",
         "legendgroup": "74",
         "line": {
          "color": "#FFA15A",
          "dash": "solid"
         },
         "marker": {
          "symbol": "circle"
         },
         "mode": "lines",
         "name": "74",
         "showlegend": true,
         "type": "scattergl",
         "x": [
          1,
          2,
          3,
          4,
          5,
          6,
          7,
          8,
          9,
          10,
          11,
          12,
          13,
          14,
          15
         ],
         "xaxis": "x",
         "y": [
          1.8006736339243998,
          1.9889952522459002,
          3.602932079986626,
          5.432454385300523,
          7.8706910335112585,
          8.495732576175993,
          9.953039544566002,
          12.004167802409917,
          14.295162520011317,
          16.339631173695082,
          17.944944480453128,
          20.133283301963992,
          22.08861670726804,
          25.489616664680142,
          29.589306107181066
         ],
         "yaxis": "y"
        },
        {
         "hovertemplate": "Pacjent=77<br>BADANIE_NR=%{x}<br>euclidean_all_skum=%{y}<extra></extra>",
         "legendgroup": "77",
         "line": {
          "color": "#19d3f3",
          "dash": "solid"
         },
         "marker": {
          "symbol": "circle"
         },
         "mode": "lines",
         "name": "77",
         "showlegend": true,
         "type": "scattergl",
         "x": [
          1,
          2,
          3,
          4,
          5,
          6,
          7,
          8,
          9,
          10,
          11,
          12,
          13,
          14,
          15,
          16,
          17,
          18,
          19,
          20,
          21,
          22,
          23,
          24,
          25,
          26,
          27,
          28,
          29,
          30,
          31,
          32,
          33,
          34,
          35,
          36,
          37,
          38
         ],
         "xaxis": "x",
         "y": [
          1.3805140299060659,
          7.254641762938632,
          8.653658701075804,
          10.111500421452664,
          11.381636970647522,
          13.323798185015725,
          14.878370082056229,
          16.279079400371263,
          17.937175252695983,
          19.176480127660952,
          21.54026230687715,
          22.74631528952783,
          24.37858057319769,
          25.8871956180171,
          26.860292566333587,
          28.737889922970094,
          30.474339432691284,
          32.72704842402193,
          34.30250275438535,
          34.94079073387153,
          36.4203614426608,
          38.73411039095999,
          40.67211731603198,
          41.83706842558447,
          45.906765852683776,
          46.61387263387032,
          48.58358608447798,
          50.2584468030338,
          51.51565919032859,
          53.82497692359847,
          55.81409355949136,
          57.754188106327064,
          60.75617174651521,
          64.03171514959439,
          66.44527674536101,
          68.38527674536101,
          70.87546634344477,
          73.5410383462388
         ],
         "yaxis": "y"
        },
        {
         "hovertemplate": "Pacjent=78<br>BADANIE_NR=%{x}<br>euclidean_all_skum=%{y}<extra></extra>",
         "legendgroup": "78",
         "line": {
          "color": "#FF6692",
          "dash": "solid"
         },
         "marker": {
          "symbol": "circle"
         },
         "mode": "lines",
         "name": "78",
         "showlegend": true,
         "type": "scattergl",
         "x": [
          1,
          2,
          3,
          4,
          5,
          6,
          7,
          8,
          9,
          10,
          11,
          12,
          13,
          14,
          15,
          16,
          17,
          18,
          19,
          20,
          21,
          22,
          23,
          24,
          25,
          26,
          27,
          28,
          29,
          30,
          31,
          32,
          33,
          34,
          35,
          36,
          37
         ],
         "xaxis": "x",
         "y": [
          0.22107145856500898,
          0.7910714585650095,
          1.6391856812932453,
          3.9941280965085073,
          6.606128096508508,
          6.606128096508508,
          7.230128096508508,
          7.84367056379846,
          8.65397443921212,
          10.578659941717367,
          11.506788432430858,
          13.515941396490138,
          15.785527189998064,
          18.791342215310205,
          20.569850542941982,
          23.298456133497176,
          26.132887025935148,
          29.189816475600168,
          32.25076125555432,
          34.73945705702224,
          37.59773047241786,
          40.13095684443189,
          42.65793455761992,
          44.97171045822121,
          46.98090520478852,
          49.1970963238521,
          51.72951475009617,
          54.52432888079716,
          56.73298087850176,
          58.33174834958512,
          60.23219978722505,
          61.58467704057095,
          63.205511751136385,
          64.63102288894952,
          65.36403048906749,
          65.77707396732835,
          66.37058198426183
         ],
         "yaxis": "y"
        },
        {
         "hovertemplate": "Pacjent=80<br>BADANIE_NR=%{x}<br>euclidean_all_skum=%{y}<extra></extra>",
         "legendgroup": "80",
         "line": {
          "color": "#B6E880",
          "dash": "solid"
         },
         "marker": {
          "symbol": "circle"
         },
         "mode": "lines",
         "name": "80",
         "showlegend": true,
         "type": "scattergl",
         "x": [
          1,
          2,
          3,
          4,
          5,
          6,
          7,
          8,
          9,
          10,
          11,
          12,
          13,
          14,
          15
         ],
         "xaxis": "x",
         "y": [
          3.5217644038365656,
          7.100098387980499,
          11.429581244764133,
          14.205229102327692,
          16.39475635041569,
          18.93340969111243,
          20.75852871068397,
          23.51867825124169,
          25.16709990733392,
          26.898056744802865,
          28.547972942971523,
          30.76242494433894,
          32.26826653236012,
          34.530670359598915,
          35.81970255469724
         ],
         "yaxis": "y"
        },
        {
         "hovertemplate": "Pacjent=82<br>BADANIE_NR=%{x}<br>euclidean_all_skum=%{y}<extra></extra>",
         "legendgroup": "82",
         "line": {
          "color": "#FF97FF",
          "dash": "solid"
         },
         "marker": {
          "symbol": "circle"
         },
         "mode": "lines",
         "name": "82",
         "showlegend": true,
         "type": "scattergl",
         "x": [
          1,
          2,
          3,
          4,
          5,
          6,
          7,
          8,
          9,
          10,
          11,
          12,
          13,
          14,
          15,
          16,
          17,
          18
         ],
         "xaxis": "x",
         "y": [
          6.752462728468261,
          9.634784604235628,
          10.814299552876655,
          14.211485305457146,
          14.940662924422512,
          15.755729461189466,
          16.330719228502048,
          17.038414040599708,
          18.402163181837512,
          20.07214252359308,
          21.013901024337304,
          21.187814067815562,
          22.059975912632154,
          22.059975912632154,
          28.075999848754748,
          40.08466489913566,
          51.408554878732176,
          62.55636973904567
         ],
         "yaxis": "y"
        },
        {
         "hovertemplate": "Pacjent=84<br>BADANIE_NR=%{x}<br>euclidean_all_skum=%{y}<extra></extra>",
         "legendgroup": "84",
         "line": {
          "color": "#FECB52",
          "dash": "solid"
         },
         "marker": {
          "symbol": "circle"
         },
         "mode": "lines",
         "name": "84",
         "showlegend": true,
         "type": "scattergl",
         "x": [
          1,
          2,
          3,
          4,
          5,
          6,
          7,
          8,
          9,
          10,
          11,
          12,
          13,
          14,
          15,
          16,
          17,
          18,
          19,
          20,
          21,
          22,
          23,
          24,
          25,
          26,
          27,
          28,
          29,
          30,
          31,
          32,
          33,
          34,
          35,
          36,
          37,
          38,
          39,
          40,
          41,
          42,
          43,
          44,
          45,
          46
         ],
         "xaxis": "x",
         "y": [
          1.496903649425257,
          3.02623198223638,
          3.8956429468157396,
          4.72492194675204,
          5.652188087228495,
          6.1227578661393345,
          7.23199197157672,
          7.905905015054982,
          8.312695440096528,
          9.57647955281273,
          10.827721355642757,
          12.782817261218748,
          15.601867608137454,
          17.531337794092064,
          19.488908768790807,
          21.5146983065804,
          23.225088403474636,
          24.753687651065498,
          26.68393225587716,
          28.644878061592422,
          30.516161278298718,
          32.310372267487004,
          33.48586021588299,
          34.910677614723205,
          36.55912173460066,
          37.82916330396038,
          38.36057651418383,
          38.51275042722731,
          38.96927216635775,
          38.96927216635775,
          39.697395782236256,
          40.14139578223626,
          40.84450842252642,
          41.139235414843036,
          43.33551288213424,
          45.43233848465756,
          46.436804974918296,
          47.16593655786056,
          49.539643363681364,
          52.663643363681366,
          53.141778525026126,
          53.37177852502612,
          53.712854327764475,
          55.41238536524482,
          56.97987994304016,
          58.56137465987513
         ],
         "yaxis": "y"
        },
        {
         "hovertemplate": "Pacjent=85<br>BADANIE_NR=%{x}<br>euclidean_all_skum=%{y}<extra></extra>",
         "legendgroup": "85",
         "line": {
          "color": "#636efa",
          "dash": "solid"
         },
         "marker": {
          "symbol": "circle"
         },
         "mode": "lines",
         "name": "85",
         "showlegend": true,
         "type": "scattergl",
         "x": [
          1,
          2,
          3,
          4,
          5,
          6,
          7,
          8,
          9,
          10,
          11,
          12,
          13,
          14,
          15,
          16,
          17,
          18,
          19,
          20,
          21,
          22,
          23,
          24,
          25,
          26,
          27,
          28,
          29,
          30,
          31,
          32,
          33,
          34,
          35,
          36,
          37,
          38,
          39
         ],
         "xaxis": "x",
         "y": [
          1.990688649426653,
          4.104891827068874,
          5.371839087112079,
          6.3685387295869855,
          7.098728811496901,
          8.420206532594499,
          8.817502392124899,
          9.452761019494641,
          10.52364744428203,
          12.006218053360103,
          13.731263348399398,
          15.459073059269038,
          16.937479908838682,
          18.23765158864694,
          20.14052599382726,
          21.09777223723091,
          22.524016197305198,
          23.410589430771378,
          24.75476428887182,
          25.550363716916788,
          26.978050965899342,
          28.601812381322034,
          31.438917991264315,
          33.05265255785753,
          35.84451269941967,
          37.47008299864747,
          38.48564955251325,
          39.69898230592857,
          40.58144063537739,
          41.595124866401456,
          42.36486621691595,
          43.14516910028372,
          43.687811629886625,
          44.06512804201075,
          44.10860630288031,
          44.31660630288031,
          44.72571020597349,
          45.14971020597349,
          48.070440377694325
         ],
         "yaxis": "y"
        },
        {
         "hovertemplate": "Pacjent=86<br>BADANIE_NR=%{x}<br>euclidean_all_skum=%{y}<extra></extra>",
         "legendgroup": "86",
         "line": {
          "color": "#EF553B",
          "dash": "solid"
         },
         "marker": {
          "symbol": "circle"
         },
         "mode": "lines",
         "name": "86",
         "showlegend": true,
         "type": "scattergl",
         "x": [
          1,
          2,
          3,
          4,
          5,
          6,
          7,
          8,
          9,
          10,
          11,
          12,
          13,
          14,
          15,
          16,
          17
         ],
         "xaxis": "x",
         "y": [
          4.899037902755931,
          6.283031012874996,
          8.089317543052255,
          12.239106559194813,
          13.603143682844346,
          15.342050520534062,
          18.321069989166773,
          19.894719941427393,
          20.186945881412193,
          21.61194383420244,
          27.593477586915988,
          30.999886402416212,
          32.728038461964815,
          34.045315957501955,
          36.088453880981476,
          38.619208505299504,
          47.7498752730948
         ],
         "yaxis": "y"
        },
        {
         "hovertemplate": "Pacjent=88<br>BADANIE_NR=%{x}<br>euclidean_all_skum=%{y}<extra></extra>",
         "legendgroup": "88",
         "line": {
          "color": "#00cc96",
          "dash": "solid"
         },
         "marker": {
          "symbol": "circle"
         },
         "mode": "lines",
         "name": "88",
         "showlegend": true,
         "type": "scattergl",
         "x": [
          1,
          2,
          3,
          4,
          5,
          6,
          7,
          8,
          9,
          10,
          11,
          12,
          13,
          14,
          15,
          16,
          17,
          18,
          19
         ],
         "xaxis": "x",
         "y": [
          1.8687553292481274,
          4.139513519136253,
          6.910092785108668,
          9.74512694147979,
          11.970075358105424,
          13.256778120984249,
          14.414300339115053,
          15.986793633434788,
          18.412379051439647,
          20.571343068209934,
          23.53527825445807,
          26.57938082893416,
          28.842321393774515,
          32.57153031586011,
          35.45868379264095,
          40.31628229717908,
          45.13601953180931,
          50.62695832305188,
          56.80563211217533
         ],
         "yaxis": "y"
        },
        {
         "hovertemplate": "Pacjent=91<br>BADANIE_NR=%{x}<br>euclidean_all_skum=%{y}<extra></extra>",
         "legendgroup": "91",
         "line": {
          "color": "#ab63fa",
          "dash": "solid"
         },
         "marker": {
          "symbol": "circle"
         },
         "mode": "lines",
         "name": "91",
         "showlegend": true,
         "type": "scattergl",
         "x": [
          1,
          2,
          3,
          4,
          5,
          6,
          7,
          8,
          9,
          10,
          11,
          12,
          13,
          14,
          15,
          16,
          17,
          18,
          19,
          20,
          21,
          22,
          23,
          24,
          25,
          26,
          27
         ],
         "xaxis": "x",
         "y": [
          5.809039397319877,
          13.49812418873615,
          28.156170309163194,
          36.11974606044757,
          39.271574688607366,
          42.41103486796746,
          46.31477671961953,
          49.7913053145756,
          52.345378457437086,
          55.62311324632352,
          58.594186915197476,
          61.03718842174872,
          67.14499979212492,
          68.70396924183613,
          70.90535673980169,
          77.0585767024829,
          83.3229695431897,
          88.20067240173533,
          96.51711388720051,
          98.43271872324652,
          102.2310424925226,
          105.00738073716906,
          107.88582114222461,
          110.16981648939067,
          112.30358262395582,
          117.11662085790839,
          121.82765709706091
         ],
         "yaxis": "y"
        },
        {
         "hovertemplate": "Pacjent=93<br>BADANIE_NR=%{x}<br>euclidean_all_skum=%{y}<extra></extra>",
         "legendgroup": "93",
         "line": {
          "color": "#FFA15A",
          "dash": "solid"
         },
         "marker": {
          "symbol": "circle"
         },
         "mode": "lines",
         "name": "93",
         "showlegend": true,
         "type": "scattergl",
         "x": [
          1,
          2,
          3,
          4,
          5,
          6,
          7,
          8,
          9,
          10,
          11,
          12,
          13,
          14,
          15,
          16,
          17,
          18,
          19,
          20,
          21,
          22,
          23,
          24,
          25,
          26,
          27
         ],
         "xaxis": "x",
         "y": [
          5.544456442933567,
          11.367260261933836,
          20.83887994656259,
          27.551703571408638,
          32.09445688331573,
          34.99723698539303,
          38.91145269085572,
          41.809768987939826,
          45.182991350695644,
          46.689113764677295,
          48.099164709606875,
          50.807523017862614,
          52.66036051687098,
          55.74646118595032,
          58.9428024307953,
          62.203090203822235,
          64.27268900217646,
          67.22313774709816,
          69.1202981463107,
          71.38959980839914,
          72.6509778168293,
          74.40760924043873,
          75.04672112422747,
          75.11072112422748,
          75.11072112422748,
          84.68249601164385,
          89.08184114492579
         ],
         "yaxis": "y"
        },
        {
         "hovertemplate": "Pacjent=97<br>BADANIE_NR=%{x}<br>euclidean_all_skum=%{y}<extra></extra>",
         "legendgroup": "97",
         "line": {
          "color": "#19d3f3",
          "dash": "solid"
         },
         "marker": {
          "symbol": "circle"
         },
         "mode": "lines",
         "name": "97",
         "showlegend": true,
         "type": "scattergl",
         "x": [
          1,
          2,
          3,
          4,
          5,
          6,
          7,
          8,
          9,
          10,
          11,
          12,
          13,
          14,
          15,
          16,
          17,
          18,
          19,
          20,
          21,
          22,
          23,
          24,
          25,
          26,
          27,
          28
         ],
         "xaxis": "x",
         "y": [
          2.7978248852029566,
          3.90076757586823,
          6.7457721850104635,
          9.666746884567798,
          15.647814365421102,
          19.245725191806965,
          20.220018983840305,
          22.60765331530985,
          25.263528602442822,
          26.281418576850665,
          28.786686393806953,
          30.943026491346554,
          33.40088867213508,
          35.194853699816704,
          37.58643834900132,
          39.666020428580985,
          41.74190792184455,
          42.5296327449747,
          44.309652855140264,
          45.7649427300579,
          49.06049208996591,
          51.27347598085244,
          53.22228176292977,
          54.54054641006046,
          55.29660771922369,
          56.43819161873433,
          58.84768718151126,
          60.03049566847109
         ],
         "yaxis": "y"
        },
        {
         "hovertemplate": "Pacjent=100<br>BADANIE_NR=%{x}<br>euclidean_all_skum=%{y}<extra></extra>",
         "legendgroup": "100",
         "line": {
          "color": "#FF6692",
          "dash": "solid"
         },
         "marker": {
          "symbol": "circle"
         },
         "mode": "lines",
         "name": "100",
         "showlegend": true,
         "type": "scattergl",
         "x": [
          1,
          2,
          3,
          4,
          5,
          6,
          7,
          8,
          9,
          10,
          11,
          12,
          13,
          14,
          15,
          16,
          17,
          18,
          19,
          20,
          21,
          22,
          23,
          24,
          25
         ],
         "xaxis": "x",
         "y": [
          2.8705231019351274,
          6.936357987690191,
          10.581271546884789,
          14.48267588064807,
          17.813996823534097,
          20.51288568741625,
          23.41839631342265,
          24.982654200942918,
          26.90476414682171,
          28.1995801424852,
          29.60522370947831,
          30.698982214495203,
          31.754870466158227,
          33.08282332306623,
          34.44086521453346,
          35.11677865514997,
          35.73472992600949,
          36.320073926784985,
          37.229859106772004,
          37.979859106772004,
          38.69182646813605,
          39.28890162358988,
          39.85159753961712,
          40.28121669221077,
          40.81154495304698
         ],
         "yaxis": "y"
        },
        {
         "hovertemplate": "Pacjent=103<br>BADANIE_NR=%{x}<br>euclidean_all_skum=%{y}<extra></extra>",
         "legendgroup": "103",
         "line": {
          "color": "#B6E880",
          "dash": "solid"
         },
         "marker": {
          "symbol": "circle"
         },
         "mode": "lines",
         "name": "103",
         "showlegend": true,
         "type": "scattergl",
         "x": [
          1,
          2,
          3,
          4,
          5,
          6,
          7,
          8,
          9,
          10,
          11,
          12,
          13,
          14,
          15,
          16,
          17,
          18,
          19,
          20
         ],
         "xaxis": "x",
         "y": [
          2.7415182878447624,
          5.541689664046009,
          12.948514948524183,
          18.71873208732225,
          23.823732162238457,
          29.00141914980005,
          30.91721629807308,
          34.704628532510114,
          41.73112869016827,
          47.44586224423514,
          50.52498356782843,
          52.4846411861881,
          54.98815257800736,
          58.444080224595595,
          60.7304386783832,
          62.713627039557075,
          63.01947741629753,
          64.2408532514937,
          67.04651068062397,
          68.93188629194964
         ],
         "yaxis": "y"
        },
        {
         "hovertemplate": "Pacjent=105<br>BADANIE_NR=%{x}<br>euclidean_all_skum=%{y}<extra></extra>",
         "legendgroup": "105",
         "line": {
          "color": "#FF97FF",
          "dash": "solid"
         },
         "marker": {
          "symbol": "circle"
         },
         "mode": "lines",
         "name": "105",
         "showlegend": true,
         "type": "scattergl",
         "x": [
          1,
          2,
          3,
          4,
          5,
          6,
          7,
          8,
          9,
          10,
          11,
          12,
          13,
          14,
          15,
          16,
          17,
          18,
          19,
          20,
          21,
          22,
          23,
          24,
          25,
          26,
          27,
          28,
          29,
          30,
          31,
          32,
          33,
          34
         ],
         "xaxis": "x",
         "y": [
          0.0319999999999998,
          0.5679999999999997,
          3.022554639878939,
          4.970554639878939,
          4.970554639878939,
          5.313926158791035,
          5.313926158791035,
          5.313926158791035,
          5.313926158791035,
          5.940403537271404,
          6.544403537271404,
          7.124403537271404,
          7.536403537271404,
          7.960403537271404,
          9.868898850120834,
          12.43379620823624,
          14.569793066335174,
          16.27226303670176,
          17.961948198816273,
          20.550880239097815,
          21.58153550811548,
          22.691896430953584,
          23.7830906918136,
          30.65146500228037,
          32.55804695462078,
          35.830993693578606,
          37.11764997585814,
          38.52655437744452,
          40.251244347925955,
          41.46446515466227,
          43.58666620402519,
          46.112006099544544,
          49.29274068198489,
          51.26761997814568
         ],
         "yaxis": "y"
        },
        {
         "hovertemplate": "Pacjent=106<br>BADANIE_NR=%{x}<br>euclidean_all_skum=%{y}<extra></extra>",
         "legendgroup": "106",
         "line": {
          "color": "#FECB52",
          "dash": "solid"
         },
         "marker": {
          "symbol": "circle"
         },
         "mode": "lines",
         "name": "106",
         "showlegend": true,
         "type": "scattergl",
         "x": [
          1,
          2,
          3,
          4,
          5,
          6,
          7,
          8,
          9,
          10,
          11,
          12,
          13,
          14
         ],
         "xaxis": "x",
         "y": [
          1.3245316373448326,
          2.5055422424410834,
          3.7030546762755296,
          4.2085174653417905,
          4.988066216884117,
          5.991356911867519,
          7.381119569015006,
          13.168025326304742,
          19.972276859335974,
          22.66305439434535,
          27.865928639252452,
          32.06726781250933,
          37.718477321889374,
          42.16882325901515
         ],
         "yaxis": "y"
        },
        {
         "hovertemplate": "Pacjent=111<br>BADANIE_NR=%{x}<br>euclidean_all_skum=%{y}<extra></extra>",
         "legendgroup": "111",
         "line": {
          "color": "#636efa",
          "dash": "solid"
         },
         "marker": {
          "symbol": "circle"
         },
         "mode": "lines",
         "name": "111",
         "showlegend": true,
         "type": "scattergl",
         "x": [
          1,
          2,
          3,
          4,
          5,
          6,
          7,
          8,
          9,
          10,
          11,
          12,
          13,
          14,
          15,
          16,
          17,
          18,
          19,
          20,
          21,
          22,
          23,
          24,
          25,
          26
         ],
         "xaxis": "x",
         "y": [
          1.528,
          2.8917847386882594,
          3.7795737629843287,
          8.059006504860891,
          10.776881354467571,
          11.463784147470156,
          11.93349450968202,
          12.494024914543683,
          16.130305637376505,
          16.73543534664504,
          17.317415116871015,
          18.592892579213647,
          19.392801026254734,
          19.673643668658023,
          20.163406544811597,
          20.632611116461014,
          20.93261111646101,
          21.737252660953263,
          22.686349254569908,
          23.97725803098916,
          24.63173186545468,
          25.310648520405195,
          26.047080422939263,
          26.54142962390731,
          27.038147886031048,
          29.38759543460007
         ],
         "yaxis": "y"
        },
        {
         "hovertemplate": "Pacjent=115<br>BADANIE_NR=%{x}<br>euclidean_all_skum=%{y}<extra></extra>",
         "legendgroup": "115",
         "line": {
          "color": "#EF553B",
          "dash": "solid"
         },
         "marker": {
          "symbol": "circle"
         },
         "mode": "lines",
         "name": "115",
         "showlegend": true,
         "type": "scattergl",
         "x": [
          1,
          2,
          3,
          4,
          5,
          6,
          7,
          8,
          9,
          10,
          11,
          12,
          13,
          14,
          15,
          16,
          17,
          18,
          19,
          20,
          21,
          22,
          23,
          24,
          25,
          26,
          27,
          28,
          29,
          30,
          31,
          32,
          33,
          34,
          35,
          36,
          37,
          38,
          39
         ],
         "xaxis": "x",
         "y": [
          1.2536368735110763,
          1.8532675096621691,
          2.384820766865903,
          3.0478405408118023,
          3.726664936107282,
          4.370818420981932,
          5.458400655143014,
          6.068322162438914,
          6.4045283633594785,
          8.046308164673928,
          9.299228771978967,
          11.21934403020521,
          11.505984991717924,
          11.930019421234014,
          12.145603241936339,
          12.70654942033297,
          12.925949912102192,
          14.20074914089236,
          14.92874914089236,
          15.45100943707451,
          16.59983009972549,
          17.363911957267252,
          18.75617094707133,
          19.20096802922022,
          19.759595163502272,
          20.56050882580163,
          23.280267879680515,
          23.388963531854426,
          23.47592005359356,
          24.21594623205045,
          24.957416036457698,
          25.034241640083337,
          25.80491752182681,
          26.222954503994547,
          27.00301272852275,
          27.992890307860954,
          28.69682708539675,
          29.880536674199767,
          30.721628519309757
         ],
         "yaxis": "y"
        },
        {
         "hovertemplate": "Pacjent=116<br>BADANIE_NR=%{x}<br>euclidean_all_skum=%{y}<extra></extra>",
         "legendgroup": "116",
         "line": {
          "color": "#00cc96",
          "dash": "solid"
         },
         "marker": {
          "symbol": "circle"
         },
         "mode": "lines",
         "name": "116",
         "showlegend": true,
         "type": "scattergl",
         "x": [
          1,
          2,
          3,
          4,
          5,
          6,
          7,
          8,
          9,
          10,
          11,
          12,
          13,
          14,
          15,
          16,
          17,
          18,
          19,
          20,
          21,
          22,
          23,
          24,
          25,
          26,
          27,
          28,
          29,
          30,
          31,
          32,
          33,
          34,
          35,
          36,
          37,
          38
         ],
         "xaxis": "x",
         "y": [
          3.229065263727242,
          4.503012060816172,
          6.921181785661727,
          9.320053895103946,
          11.294042824884462,
          13.5440644613337,
          15.301653723073947,
          17.270882786159778,
          20.081848118820346,
          21.972174642725214,
          23.4937617258124,
          25.412919056982567,
          27.453505903869406,
          28.465076933046273,
          28.91793782423416,
          30.741937824234157,
          31.935945287599374,
          32.71306419717623,
          34.07144628654027,
          36.1431775260891,
          37.70853421539294,
          39.10971473968456,
          39.507413463791366,
          40.439615364534234,
          41.22278179734371,
          41.69776761275225,
          50.01905482913247,
          51.24089769955403,
          52.08771192639153,
          53.54222562203417,
          54.258515158068924,
          55.118358639671506,
          56.45849530567011,
          58.21761584552064,
          59.455741024334195,
          60.2184362007944,
          61.17658070319083,
          61.90119233581783
         ],
         "yaxis": "y"
        },
        {
         "hovertemplate": "Pacjent=119<br>BADANIE_NR=%{x}<br>euclidean_all_skum=%{y}<extra></extra>",
         "legendgroup": "119",
         "line": {
          "color": "#ab63fa",
          "dash": "solid"
         },
         "marker": {
          "symbol": "circle"
         },
         "mode": "lines",
         "name": "119",
         "showlegend": true,
         "type": "scattergl",
         "x": [
          1,
          2,
          3,
          4,
          5,
          6,
          7,
          8,
          9,
          10,
          11,
          12,
          13,
          14,
          15,
          16,
          17,
          18,
          19,
          20,
          21,
          22
         ],
         "xaxis": "x",
         "y": [
          4.075415663720537,
          7.908693628932019,
          10.161923381866977,
          11.793617283089862,
          13.18783678326697,
          13.709947370840116,
          14.464809059144098,
          14.664809059144098,
          16.081606856996707,
          16.081606856996707,
          16.081606856996707,
          16.453606856996707,
          16.525606856996706,
          16.797606856996705,
          17.625606856996708,
          18.605606856996705,
          19.079847063175915,
          19.297238367523743,
          20.165361014421467,
          21.79304338374206,
          24.38528829421977,
          27.571662601581547
         ],
         "yaxis": "y"
        },
        {
         "hovertemplate": "Pacjent=120<br>BADANIE_NR=%{x}<br>euclidean_all_skum=%{y}<extra></extra>",
         "legendgroup": "120",
         "line": {
          "color": "#FFA15A",
          "dash": "solid"
         },
         "marker": {
          "symbol": "circle"
         },
         "mode": "lines",
         "name": "120",
         "showlegend": true,
         "type": "scattergl",
         "x": [
          1,
          2,
          3,
          4,
          5,
          6,
          7,
          8,
          9,
          10,
          11,
          12
         ],
         "xaxis": "x",
         "y": [
          0,
          0.916,
          1.048,
          2.9313018634851447,
          7.84716457320137,
          10.793364715021937,
          13.791886607233257,
          15.608359625573097,
          18.272963195225714,
          20.796634406669305,
          24.33709618827959,
          24.750139666540463
         ],
         "yaxis": "y"
        },
        {
         "hovertemplate": "Pacjent=121<br>BADANIE_NR=%{x}<br>euclidean_all_skum=%{y}<extra></extra>",
         "legendgroup": "121",
         "line": {
          "color": "#19d3f3",
          "dash": "solid"
         },
         "marker": {
          "symbol": "circle"
         },
         "mode": "lines",
         "name": "121",
         "showlegend": true,
         "type": "scattergl",
         "x": [
          1,
          2,
          3,
          4,
          5,
          6,
          7,
          8,
          9,
          10,
          11,
          12,
          13,
          14,
          15,
          16,
          17,
          18,
          19,
          20,
          21,
          22,
          23,
          24,
          25,
          26,
          27,
          28,
          29,
          30,
          31,
          32,
          33,
          34,
          35,
          36,
          37
         ],
         "xaxis": "x",
         "y": [
          1.3606836659540043,
          3.201498375269943,
          3.7871449965693564,
          4.035539843536841,
          6.11553984353684,
          7.409440322671725,
          8.145345819193503,
          8.785345819193502,
          10.344174055092585,
          10.921062259166824,
          12.388234481137543,
          14.567842716690778,
          16.262009513147227,
          18.63533510664127,
          21.053161349966288,
          23.875860623875266,
          27.49087000375731,
          31.227476887865777,
          35.61393343902583,
          40.22843022375999,
          44.63563938773397,
          48.46376202878983,
          50.92846901528956,
          54.578529402702074,
          57.23766410284368,
          59.53430832195711,
          61.42437496662884,
          62.98172135978605,
          65.49806630264575,
          67.44274321256049,
          68.74617477479501,
          70.13627731279807,
          70.39627731279808,
          71.46513940741534,
          71.90994645336734,
          73.77797142073946,
          74.8713307755679
         ],
         "yaxis": "y"
        },
        {
         "hovertemplate": "Pacjent=122<br>BADANIE_NR=%{x}<br>euclidean_all_skum=%{y}<extra></extra>",
         "legendgroup": "122",
         "line": {
          "color": "#FF6692",
          "dash": "solid"
         },
         "marker": {
          "symbol": "circle"
         },
         "mode": "lines",
         "name": "122",
         "showlegend": true,
         "type": "scattergl",
         "x": [
          1,
          2,
          3,
          4,
          5,
          6,
          7,
          8,
          9,
          10,
          11,
          12,
          13,
          14,
          15,
          16,
          17,
          18,
          19,
          20,
          21,
          22,
          23,
          24,
          25,
          26
         ],
         "xaxis": "x",
         "y": [
          1.7008383115162673,
          2.9578579292723974,
          5.207821025729498,
          7.852238643064746,
          11.500025779404869,
          15.088033339462076,
          18.92312326589788,
          22.886534224815456,
          26.073123112540795,
          28.004274435749743,
          30.640792767945104,
          32.38179824317851,
          33.27419243014736,
          35.20780147881051,
          35.940247760608436,
          37.16195162980699,
          37.93323468791186,
          38.45674346212006,
          38.875431890429226,
          42.12054395369123,
          45.349571674504894,
          47.87817189262496,
          48.61036406960043,
          49.65880965972492,
          51.57662007467729,
          55.38612893087188
         ],
         "yaxis": "y"
        },
        {
         "hovertemplate": "Pacjent=123<br>BADANIE_NR=%{x}<br>euclidean_all_skum=%{y}<extra></extra>",
         "legendgroup": "123",
         "line": {
          "color": "#B6E880",
          "dash": "solid"
         },
         "marker": {
          "symbol": "circle"
         },
         "mode": "lines",
         "name": "123",
         "showlegend": true,
         "type": "scattergl",
         "x": [
          1,
          2,
          3,
          4,
          5,
          6,
          7,
          8,
          9,
          10,
          11,
          12,
          13,
          14,
          15,
          16,
          17,
          18,
          19
         ],
         "xaxis": "x",
         "y": [
          1.8983391239955203,
          3.118148174065063,
          3.5251425664346647,
          5.0194251268998515,
          6.757848513608503,
          8.865175251704997,
          11.385995442446236,
          14.35362075572283,
          18.472647495334126,
          22.27000424789744,
          26.626815891589523,
          29.522218758517496,
          34.562146769326674,
          39.639510550156594,
          44.93975921286842,
          49.57652358973495,
          55.151962408293144,
          59.83918061910492,
          66.92988851968605
         ],
         "yaxis": "y"
        },
        {
         "hovertemplate": "Pacjent=125<br>BADANIE_NR=%{x}<br>euclidean_all_skum=%{y}<extra></extra>",
         "legendgroup": "125",
         "line": {
          "color": "#FF97FF",
          "dash": "solid"
         },
         "marker": {
          "symbol": "circle"
         },
         "mode": "lines",
         "name": "125",
         "showlegend": true,
         "type": "scattergl",
         "x": [
          1,
          2,
          3,
          4,
          5,
          6,
          7,
          8,
          9,
          10,
          11,
          12,
          13,
          14,
          15,
          16,
          17,
          18,
          19,
          20,
          21
         ],
         "xaxis": "x",
         "y": [
          0.9055209653234307,
          3.59199936298638,
          6.659403881564469,
          9.525825342548496,
          11.96761961693913,
          13.440341207969862,
          15.97779617500405,
          18.309422550755254,
          20.716841276473325,
          22.961665803432265,
          25.617385574609017,
          27.622138763836173,
          30.1717429720183,
          34.24377715373174,
          38.183769246812076,
          42.7378692939404,
          46.87944251527983,
          51.54033536807694,
          54.98126904472747,
          58.22811932710017,
          60.20705588048812
         ],
         "yaxis": "y"
        },
        {
         "hovertemplate": "Pacjent=127<br>BADANIE_NR=%{x}<br>euclidean_all_skum=%{y}<extra></extra>",
         "legendgroup": "127",
         "line": {
          "color": "#FECB52",
          "dash": "solid"
         },
         "marker": {
          "symbol": "circle"
         },
         "mode": "lines",
         "name": "127",
         "showlegend": true,
         "type": "scattergl",
         "x": [
          1,
          2,
          3,
          4,
          5,
          6,
          7,
          8,
          9,
          10,
          11,
          12
         ],
         "xaxis": "x",
         "y": [
          4.496165188233617,
          7.593484745404057,
          9.818057966168393,
          12.618057966168394,
          12.758057966168394,
          12.830057966168393,
          12.895275357472741,
          13.009836446860206,
          14.459088023387654,
          15.067791342060206,
          17.379466821196672,
          21.4510510140413
         ],
         "yaxis": "y"
        },
        {
         "hovertemplate": "Pacjent=129<br>BADANIE_NR=%{x}<br>euclidean_all_skum=%{y}<extra></extra>",
         "legendgroup": "129",
         "line": {
          "color": "#636efa",
          "dash": "solid"
         },
         "marker": {
          "symbol": "circle"
         },
         "mode": "lines",
         "name": "129",
         "showlegend": true,
         "type": "scattergl",
         "x": [
          1,
          2,
          3,
          4,
          5,
          6,
          7,
          8,
          9,
          10,
          11,
          12,
          13,
          14,
          15,
          16
         ],
         "xaxis": "x",
         "y": [
          1.7265068822746743,
          5.444499716979582,
          8.25621392829999,
          11.430227702287311,
          14.161706986656506,
          17.357945818681685,
          17.88363435329158,
          19.810151378619516,
          21.191763064536232,
          23.141581969412975,
          25.629633909680084,
          28.051575982200916,
          31.304390264655982,
          33.89363901674745,
          36.88045443648916,
          38.37020948851737
         ],
         "yaxis": "y"
        },
        {
         "hovertemplate": "Pacjent=131<br>BADANIE_NR=%{x}<br>euclidean_all_skum=%{y}<extra></extra>",
         "legendgroup": "131",
         "line": {
          "color": "#EF553B",
          "dash": "solid"
         },
         "marker": {
          "symbol": "circle"
         },
         "mode": "lines",
         "name": "131",
         "showlegend": true,
         "type": "scattergl",
         "x": [
          1,
          2,
          3,
          4,
          5,
          6,
          7,
          8,
          9,
          10,
          11,
          12,
          13,
          14,
          15,
          16,
          17,
          18,
          19,
          20,
          21,
          22,
          23,
          24,
          25,
          26,
          27,
          28,
          29,
          30,
          31,
          32,
          33
         ],
         "xaxis": "x",
         "y": [
          0.55695674382928,
          1.5726857611724725,
          2.007021412081392,
          2.387021412081392,
          3.274284656540403,
          3.9576769295865297,
          5.726455700769161,
          7.537537283074718,
          10.039383318142495,
          12.736456712552783,
          14.994108980244764,
          17.08085160732196,
          18.589907227650087,
          21.08520632135972,
          23.943511216458553,
          26.308797557981386,
          27.377810228971416,
          30.41829623842207,
          33.38029129999822,
          33.98029129999822,
          35.83663720511012,
          37.912989780190294,
          41.195670141175995,
          44.35405031408757,
          47.18988419181305,
          50.258056829490656,
          53.303011298387744,
          55.721422601362384,
          59.021670722870226,
          61.11052518410947,
          64.05730127751177,
          65.89730127751177,
          66.838154838648
         ],
         "yaxis": "y"
        },
        {
         "hovertemplate": "Pacjent=134<br>BADANIE_NR=%{x}<br>euclidean_all_skum=%{y}<extra></extra>",
         "legendgroup": "134",
         "line": {
          "color": "#00cc96",
          "dash": "solid"
         },
         "marker": {
          "symbol": "circle"
         },
         "mode": "lines",
         "name": "134",
         "showlegend": true,
         "type": "scattergl",
         "x": [
          1,
          2,
          3,
          4,
          5,
          6,
          7,
          8,
          9,
          10,
          11,
          12,
          13,
          14,
          15,
          16,
          17,
          18,
          19,
          20,
          21,
          22,
          23,
          24,
          25,
          26,
          27,
          28,
          29,
          30,
          31,
          32,
          33,
          34,
          35
         ],
         "xaxis": "x",
         "y": [
          1.886289347698277,
          4.717858439596242,
          6.4851425331977115,
          7.668282859955932,
          9.510010578847295,
          13.23006434189965,
          13.485347168347525,
          13.733659429837065,
          13.987753900457736,
          13.995753900457737,
          14.25612735297235,
          15.057112857822402,
          15.364716060281312,
          15.907803530215944,
          24.454675855619328,
          29.821523185815717,
          36.35327924607313,
          38.20603869628253,
          40.313841328050245,
          47.211287824266535,
          50.65383221802042,
          53.58281069234905,
          56.29135102621608,
          58.59717323706689,
          62.5447248530459,
          64.97701139573311,
          69.4364879638618,
          74.20659460544945,
          78.83459737073201,
          82.74419524536488,
          87.32628515680072,
          91.8244120477866,
          96.20426261277674,
          99.57851326822936,
          103.6981350955334
         ],
         "yaxis": "y"
        },
        {
         "hovertemplate": "Pacjent=140<br>BADANIE_NR=%{x}<br>euclidean_all_skum=%{y}<extra></extra>",
         "legendgroup": "140",
         "line": {
          "color": "#ab63fa",
          "dash": "solid"
         },
         "marker": {
          "symbol": "circle"
         },
         "mode": "lines",
         "name": "140",
         "showlegend": true,
         "type": "scattergl",
         "x": [
          1,
          2,
          3,
          4,
          5,
          6,
          7,
          8,
          9,
          10,
          11,
          12,
          13,
          14,
          15,
          16,
          17,
          18,
          19,
          20,
          21,
          22,
          23,
          24
         ],
         "xaxis": "x",
         "y": [
          1.9394856984990803,
          2.1916431192491337,
          3.429539197049242,
          4.400599921618578,
          5.540494122924178,
          7.858853044820707,
          9.574768538397361,
          11.884635963950068,
          14.682184779420599,
          16.888494685722634,
          19.3207575122829,
          22.14216094560547,
          24.967801304521736,
          27.506007491446788,
          30.493685565336037,
          32.502924757216114,
          34.64178087563077,
          36.70975019657656,
          38.48404983262671,
          40.26036318949169,
          42.167804641345334,
          44.19069022179199,
          46.09971346989945,
          47.815507926195735
         ],
         "yaxis": "y"
        },
        {
         "hovertemplate": "Pacjent=145<br>BADANIE_NR=%{x}<br>euclidean_all_skum=%{y}<extra></extra>",
         "legendgroup": "145",
         "line": {
          "color": "#FFA15A",
          "dash": "solid"
         },
         "marker": {
          "symbol": "circle"
         },
         "mode": "lines",
         "name": "145",
         "showlegend": true,
         "type": "scattergl",
         "x": [
          1,
          2,
          3,
          4,
          5,
          6,
          7,
          8,
          9
         ],
         "xaxis": "x",
         "y": [
          0.8841600941413996,
          2.1388680606573187,
          3.18186688490368,
          4.825171323863894,
          6.43350245563684,
          8.145121930978444,
          10.28016543793766,
          11.54607957053754,
          13.334199553871619
         ],
         "yaxis": "y"
        }
       ],
       "layout": {
        "height": 800,
        "legend": {
         "title": {
          "text": "Pacjent"
         },
         "tracegroupgap": 0
        },
        "margin": {
         "t": 60
        },
        "showlegend": false,
        "template": {
         "data": {
          "bar": [
           {
            "error_x": {
             "color": "#2a3f5f"
            },
            "error_y": {
             "color": "#2a3f5f"
            },
            "marker": {
             "line": {
              "color": "white",
              "width": 0.5
             },
             "pattern": {
              "fillmode": "overlay",
              "size": 10,
              "solidity": 0.2
             }
            },
            "type": "bar"
           }
          ],
          "barpolar": [
           {
            "marker": {
             "line": {
              "color": "white",
              "width": 0.5
             },
             "pattern": {
              "fillmode": "overlay",
              "size": 10,
              "solidity": 0.2
             }
            },
            "type": "barpolar"
           }
          ],
          "carpet": [
           {
            "aaxis": {
             "endlinecolor": "#2a3f5f",
             "gridcolor": "#C8D4E3",
             "linecolor": "#C8D4E3",
             "minorgridcolor": "#C8D4E3",
             "startlinecolor": "#2a3f5f"
            },
            "baxis": {
             "endlinecolor": "#2a3f5f",
             "gridcolor": "#C8D4E3",
             "linecolor": "#C8D4E3",
             "minorgridcolor": "#C8D4E3",
             "startlinecolor": "#2a3f5f"
            },
            "type": "carpet"
           }
          ],
          "choropleth": [
           {
            "colorbar": {
             "outlinewidth": 0,
             "ticks": ""
            },
            "type": "choropleth"
           }
          ],
          "contour": [
           {
            "colorbar": {
             "outlinewidth": 0,
             "ticks": ""
            },
            "colorscale": [
             [
              0,
              "#0d0887"
             ],
             [
              0.1111111111111111,
              "#46039f"
             ],
             [
              0.2222222222222222,
              "#7201a8"
             ],
             [
              0.3333333333333333,
              "#9c179e"
             ],
             [
              0.4444444444444444,
              "#bd3786"
             ],
             [
              0.5555555555555556,
              "#d8576b"
             ],
             [
              0.6666666666666666,
              "#ed7953"
             ],
             [
              0.7777777777777778,
              "#fb9f3a"
             ],
             [
              0.8888888888888888,
              "#fdca26"
             ],
             [
              1,
              "#f0f921"
             ]
            ],
            "type": "contour"
           }
          ],
          "contourcarpet": [
           {
            "colorbar": {
             "outlinewidth": 0,
             "ticks": ""
            },
            "type": "contourcarpet"
           }
          ],
          "heatmap": [
           {
            "colorbar": {
             "outlinewidth": 0,
             "ticks": ""
            },
            "colorscale": [
             [
              0,
              "#0d0887"
             ],
             [
              0.1111111111111111,
              "#46039f"
             ],
             [
              0.2222222222222222,
              "#7201a8"
             ],
             [
              0.3333333333333333,
              "#9c179e"
             ],
             [
              0.4444444444444444,
              "#bd3786"
             ],
             [
              0.5555555555555556,
              "#d8576b"
             ],
             [
              0.6666666666666666,
              "#ed7953"
             ],
             [
              0.7777777777777778,
              "#fb9f3a"
             ],
             [
              0.8888888888888888,
              "#fdca26"
             ],
             [
              1,
              "#f0f921"
             ]
            ],
            "type": "heatmap"
           }
          ],
          "heatmapgl": [
           {
            "colorbar": {
             "outlinewidth": 0,
             "ticks": ""
            },
            "colorscale": [
             [
              0,
              "#0d0887"
             ],
             [
              0.1111111111111111,
              "#46039f"
             ],
             [
              0.2222222222222222,
              "#7201a8"
             ],
             [
              0.3333333333333333,
              "#9c179e"
             ],
             [
              0.4444444444444444,
              "#bd3786"
             ],
             [
              0.5555555555555556,
              "#d8576b"
             ],
             [
              0.6666666666666666,
              "#ed7953"
             ],
             [
              0.7777777777777778,
              "#fb9f3a"
             ],
             [
              0.8888888888888888,
              "#fdca26"
             ],
             [
              1,
              "#f0f921"
             ]
            ],
            "type": "heatmapgl"
           }
          ],
          "histogram": [
           {
            "marker": {
             "pattern": {
              "fillmode": "overlay",
              "size": 10,
              "solidity": 0.2
             }
            },
            "type": "histogram"
           }
          ],
          "histogram2d": [
           {
            "colorbar": {
             "outlinewidth": 0,
             "ticks": ""
            },
            "colorscale": [
             [
              0,
              "#0d0887"
             ],
             [
              0.1111111111111111,
              "#46039f"
             ],
             [
              0.2222222222222222,
              "#7201a8"
             ],
             [
              0.3333333333333333,
              "#9c179e"
             ],
             [
              0.4444444444444444,
              "#bd3786"
             ],
             [
              0.5555555555555556,
              "#d8576b"
             ],
             [
              0.6666666666666666,
              "#ed7953"
             ],
             [
              0.7777777777777778,
              "#fb9f3a"
             ],
             [
              0.8888888888888888,
              "#fdca26"
             ],
             [
              1,
              "#f0f921"
             ]
            ],
            "type": "histogram2d"
           }
          ],
          "histogram2dcontour": [
           {
            "colorbar": {
             "outlinewidth": 0,
             "ticks": ""
            },
            "colorscale": [
             [
              0,
              "#0d0887"
             ],
             [
              0.1111111111111111,
              "#46039f"
             ],
             [
              0.2222222222222222,
              "#7201a8"
             ],
             [
              0.3333333333333333,
              "#9c179e"
             ],
             [
              0.4444444444444444,
              "#bd3786"
             ],
             [
              0.5555555555555556,
              "#d8576b"
             ],
             [
              0.6666666666666666,
              "#ed7953"
             ],
             [
              0.7777777777777778,
              "#fb9f3a"
             ],
             [
              0.8888888888888888,
              "#fdca26"
             ],
             [
              1,
              "#f0f921"
             ]
            ],
            "type": "histogram2dcontour"
           }
          ],
          "mesh3d": [
           {
            "colorbar": {
             "outlinewidth": 0,
             "ticks": ""
            },
            "type": "mesh3d"
           }
          ],
          "parcoords": [
           {
            "line": {
             "colorbar": {
              "outlinewidth": 0,
              "ticks": ""
             }
            },
            "type": "parcoords"
           }
          ],
          "pie": [
           {
            "automargin": true,
            "type": "pie"
           }
          ],
          "scatter": [
           {
            "marker": {
             "colorbar": {
              "outlinewidth": 0,
              "ticks": ""
             }
            },
            "type": "scatter"
           }
          ],
          "scatter3d": [
           {
            "line": {
             "colorbar": {
              "outlinewidth": 0,
              "ticks": ""
             }
            },
            "marker": {
             "colorbar": {
              "outlinewidth": 0,
              "ticks": ""
             }
            },
            "type": "scatter3d"
           }
          ],
          "scattercarpet": [
           {
            "marker": {
             "colorbar": {
              "outlinewidth": 0,
              "ticks": ""
             }
            },
            "type": "scattercarpet"
           }
          ],
          "scattergeo": [
           {
            "marker": {
             "colorbar": {
              "outlinewidth": 0,
              "ticks": ""
             }
            },
            "type": "scattergeo"
           }
          ],
          "scattergl": [
           {
            "marker": {
             "colorbar": {
              "outlinewidth": 0,
              "ticks": ""
             }
            },
            "type": "scattergl"
           }
          ],
          "scattermapbox": [
           {
            "marker": {
             "colorbar": {
              "outlinewidth": 0,
              "ticks": ""
             }
            },
            "type": "scattermapbox"
           }
          ],
          "scatterpolar": [
           {
            "marker": {
             "colorbar": {
              "outlinewidth": 0,
              "ticks": ""
             }
            },
            "type": "scatterpolar"
           }
          ],
          "scatterpolargl": [
           {
            "marker": {
             "colorbar": {
              "outlinewidth": 0,
              "ticks": ""
             }
            },
            "type": "scatterpolargl"
           }
          ],
          "scatterternary": [
           {
            "marker": {
             "colorbar": {
              "outlinewidth": 0,
              "ticks": ""
             }
            },
            "type": "scatterternary"
           }
          ],
          "surface": [
           {
            "colorbar": {
             "outlinewidth": 0,
             "ticks": ""
            },
            "colorscale": [
             [
              0,
              "#0d0887"
             ],
             [
              0.1111111111111111,
              "#46039f"
             ],
             [
              0.2222222222222222,
              "#7201a8"
             ],
             [
              0.3333333333333333,
              "#9c179e"
             ],
             [
              0.4444444444444444,
              "#bd3786"
             ],
             [
              0.5555555555555556,
              "#d8576b"
             ],
             [
              0.6666666666666666,
              "#ed7953"
             ],
             [
              0.7777777777777778,
              "#fb9f3a"
             ],
             [
              0.8888888888888888,
              "#fdca26"
             ],
             [
              1,
              "#f0f921"
             ]
            ],
            "type": "surface"
           }
          ],
          "table": [
           {
            "cells": {
             "fill": {
              "color": "#EBF0F8"
             },
             "line": {
              "color": "white"
             }
            },
            "header": {
             "fill": {
              "color": "#C8D4E3"
             },
             "line": {
              "color": "white"
             }
            },
            "type": "table"
           }
          ]
         },
         "layout": {
          "annotationdefaults": {
           "arrowcolor": "#2a3f5f",
           "arrowhead": 0,
           "arrowwidth": 1
          },
          "autotypenumbers": "strict",
          "coloraxis": {
           "colorbar": {
            "outlinewidth": 0,
            "ticks": ""
           }
          },
          "colorscale": {
           "diverging": [
            [
             0,
             "#8e0152"
            ],
            [
             0.1,
             "#c51b7d"
            ],
            [
             0.2,
             "#de77ae"
            ],
            [
             0.3,
             "#f1b6da"
            ],
            [
             0.4,
             "#fde0ef"
            ],
            [
             0.5,
             "#f7f7f7"
            ],
            [
             0.6,
             "#e6f5d0"
            ],
            [
             0.7,
             "#b8e186"
            ],
            [
             0.8,
             "#7fbc41"
            ],
            [
             0.9,
             "#4d9221"
            ],
            [
             1,
             "#276419"
            ]
           ],
           "sequential": [
            [
             0,
             "#0d0887"
            ],
            [
             0.1111111111111111,
             "#46039f"
            ],
            [
             0.2222222222222222,
             "#7201a8"
            ],
            [
             0.3333333333333333,
             "#9c179e"
            ],
            [
             0.4444444444444444,
             "#bd3786"
            ],
            [
             0.5555555555555556,
             "#d8576b"
            ],
            [
             0.6666666666666666,
             "#ed7953"
            ],
            [
             0.7777777777777778,
             "#fb9f3a"
            ],
            [
             0.8888888888888888,
             "#fdca26"
            ],
            [
             1,
             "#f0f921"
            ]
           ],
           "sequentialminus": [
            [
             0,
             "#0d0887"
            ],
            [
             0.1111111111111111,
             "#46039f"
            ],
            [
             0.2222222222222222,
             "#7201a8"
            ],
            [
             0.3333333333333333,
             "#9c179e"
            ],
            [
             0.4444444444444444,
             "#bd3786"
            ],
            [
             0.5555555555555556,
             "#d8576b"
            ],
            [
             0.6666666666666666,
             "#ed7953"
            ],
            [
             0.7777777777777778,
             "#fb9f3a"
            ],
            [
             0.8888888888888888,
             "#fdca26"
            ],
            [
             1,
             "#f0f921"
            ]
           ]
          },
          "colorway": [
           "#636efa",
           "#EF553B",
           "#00cc96",
           "#ab63fa",
           "#FFA15A",
           "#19d3f3",
           "#FF6692",
           "#B6E880",
           "#FF97FF",
           "#FECB52"
          ],
          "font": {
           "color": "#2a3f5f"
          },
          "geo": {
           "bgcolor": "white",
           "lakecolor": "white",
           "landcolor": "white",
           "showlakes": true,
           "showland": true,
           "subunitcolor": "#C8D4E3"
          },
          "hoverlabel": {
           "align": "left"
          },
          "hovermode": "closest",
          "mapbox": {
           "style": "light"
          },
          "paper_bgcolor": "white",
          "plot_bgcolor": "white",
          "polar": {
           "angularaxis": {
            "gridcolor": "#EBF0F8",
            "linecolor": "#EBF0F8",
            "ticks": ""
           },
           "bgcolor": "white",
           "radialaxis": {
            "gridcolor": "#EBF0F8",
            "linecolor": "#EBF0F8",
            "ticks": ""
           }
          },
          "scene": {
           "xaxis": {
            "backgroundcolor": "white",
            "gridcolor": "#DFE8F3",
            "gridwidth": 2,
            "linecolor": "#EBF0F8",
            "showbackground": true,
            "ticks": "",
            "zerolinecolor": "#EBF0F8"
           },
           "yaxis": {
            "backgroundcolor": "white",
            "gridcolor": "#DFE8F3",
            "gridwidth": 2,
            "linecolor": "#EBF0F8",
            "showbackground": true,
            "ticks": "",
            "zerolinecolor": "#EBF0F8"
           },
           "zaxis": {
            "backgroundcolor": "white",
            "gridcolor": "#DFE8F3",
            "gridwidth": 2,
            "linecolor": "#EBF0F8",
            "showbackground": true,
            "ticks": "",
            "zerolinecolor": "#EBF0F8"
           }
          },
          "shapedefaults": {
           "line": {
            "color": "#2a3f5f"
           }
          },
          "ternary": {
           "aaxis": {
            "gridcolor": "#DFE8F3",
            "linecolor": "#A2B1C6",
            "ticks": ""
           },
           "baxis": {
            "gridcolor": "#DFE8F3",
            "linecolor": "#A2B1C6",
            "ticks": ""
           },
           "bgcolor": "white",
           "caxis": {
            "gridcolor": "#DFE8F3",
            "linecolor": "#A2B1C6",
            "ticks": ""
           }
          },
          "title": {
           "x": 0.05
          },
          "xaxis": {
           "automargin": true,
           "gridcolor": "#EBF0F8",
           "linecolor": "#EBF0F8",
           "ticks": "",
           "title": {
            "standoff": 15
           },
           "zerolinecolor": "#EBF0F8",
           "zerolinewidth": 2
          },
          "yaxis": {
           "automargin": true,
           "gridcolor": "#EBF0F8",
           "linecolor": "#EBF0F8",
           "ticks": "",
           "title": {
            "standoff": 15
           },
           "zerolinecolor": "#EBF0F8",
           "zerolinewidth": 2
          }
         }
        },
        "width": 800,
        "xaxis": {
         "anchor": "y",
         "domain": [
          0,
          1
         ],
         "range": [
          0,
          65
         ],
         "tickfont": {
          "size": 18
         },
         "title": {
          "font": {
           "size": 24
          },
          "text": "Numer badania"
         }
        },
        "yaxis": {
         "anchor": "x",
         "domain": [
          0,
          1
         ],
         "range": [
          0,
          120
         ],
         "tickfont": {
          "size": 18
         },
         "title": {
          "font": {
           "size": 24
          },
          "text": "Skumulowana odległość od normy (Miernik 1)"
         }
        }
       }
      }
     },
     "metadata": {},
     "output_type": "display_data"
    }
   ],
   "source": [
    "# Podziel dane na dwie ramki danych\n",
    "df_zgon_0 = df_dist[df_dist['ZGON'] == 0]\n",
    "df_zgon_1 = df_dist[df_dist['ZGON'] == 1]\n",
    "\n",
    "y='euclidean_all_skum'\n",
    "\n",
    "# fig0 = make_subplots(rows=1, cols=2, subplot_titles=['Zgon: nie', 'Zgon: tak'])\n",
    "# Wykres dla ZGON=0\n",
    "fig1 = px.line(df_zgon_0, x='BADANIE_NR', y=y, color='PACJENT_NR', \n",
    "              labels={'BADANIE_NR': 'BADANIE_NR', y: y, 'PACJENT_NR': 'Pacjent'}, width=800, height=800)\n",
    "fig1.update_xaxes(title_text='Numer badania')\n",
    "fig1.update_yaxes(title_text='Skumulowana odległość od normy (Miernik 1)')\n",
    "fig1.update_layout(showlegend=False)\n",
    "\n",
    "# Wykres dla ZGON=1\n",
    "fig2 = px.line(df_zgon_1, x='BADANIE_NR', y=y, color='PACJENT_NR', \n",
    "               labels={'BADANIE_NR': 'BADANIE_NR', y: y, 'PACJENT_NR': 'Pacjent'}, width=800, height=800)\n",
    "fig2.update_xaxes(title_text='Numer badania')\n",
    "fig2.update_yaxes(title_text='Skumulowana odległość od normy (Miernik 1)')\n",
    "fig2.update_layout(showlegend=False)\n",
    "\n",
    "# fig1.update_yaxes(range=[0, 15])\n",
    "# fig2.update_yaxes(range=[0, 15])\n",
    "\n",
    "\n",
    "fig1.update_yaxes(range=[0, 120])\n",
    "fig2.update_yaxes(range=[0, 120])\n",
    "\n",
    "fig1.update_xaxes(range=[0, 65])\n",
    "fig2.update_xaxes(range=[0, 65])\n",
    "\n",
    "fig1.update_layout(\n",
    "    xaxis=dict(\n",
    "        tickfont=dict(size=18),\n",
    "        title_font=dict(size=24),\n",
    "    ),\n",
    "    yaxis=dict(\n",
    "        tickfont=dict(size=18),\n",
    "        title_font=dict(size=24)\n",
    "    )\n",
    ")\n",
    "fig2.update_layout(\n",
    "    xaxis=dict(\n",
    "        tickfont=dict(size=18),\n",
    "        title_font=dict(size=24),\n",
    "    ),\n",
    "    yaxis=dict(\n",
    "        tickfont=dict(size=18),\n",
    "        title_font=dict(size=24)\n",
    "    )\n",
    ")\n",
    "fig1.update_layout(template=\"plotly_white\")\n",
    "fig2.update_layout(template=\"plotly_white\")\n",
    "\n",
    "fig1.write_image(\"images4/\"+\"miernik1_skum_pacjenci_wyleczeni\"+ \".png\", width=1000, height=800, scale=4, format=\"png\")\n",
    "fig2.write_image(\"images4/\"+\"miernik1_skum_pacjenci_zmarli\"+ \".png\", width=1000, height=800, scale=4, format=\"png\")\n",
    "fig1.write_html(\"images4/miernik1_skum_pacjenci_wyleczeni.html\")\n",
    "fig2.write_html(\"images4/miernik1_skum_pacjenci_zmarli.html\")\n",
    "\n",
    "# Wyświetl oba wykresy\n",
    "fig1.show()\n",
    "fig2.show()"
   ]
  },
  {
   "cell_type": "code",
   "execution_count": 53,
   "metadata": {},
   "outputs": [
    {
     "data": {
      "application/vnd.plotly.v1+json": {
       "config": {
        "plotlyServerURL": "https://plot.ly"
       },
       "data": [
        {
         "hovertemplate": "Pacjent=1<br>BADANIE_NR=%{x}<br>euclidean_kw=%{y}<extra></extra>",
         "legendgroup": "1",
         "line": {
          "color": "#636efa",
          "dash": "solid"
         },
         "marker": {
          "symbol": "circle"
         },
         "mode": "lines",
         "name": "1",
         "showlegend": true,
         "type": "scattergl",
         "x": [
          1,
          2,
          3,
          4,
          5,
          6,
          7,
          8,
          9,
          10,
          11,
          12,
          13,
          14,
          15,
          16,
          17,
          18,
          19,
          20,
          21,
          22,
          23,
          24,
          25,
          26,
          27,
          28,
          29,
          30,
          31,
          32,
          33,
          34,
          35,
          36,
          37,
          38,
          39,
          40,
          41,
          42,
          43,
          44,
          45,
          46,
          47,
          48,
          49,
          50
         ],
         "xaxis": "x",
         "y": [
          1.6618229299619383,
          4.80470444240124,
          2.419492763633768,
          1.960014145496731,
          1.8797100057254734,
          1.3882130409395923,
          0.8700000000000003,
          1.44,
          1.7200000000000002,
          1.2700000000000005,
          1.4799999999999995,
          0.8,
          1.0299999999999998,
          0.5200000000000002,
          0.050000000000000044,
          0.3299999999999996,
          0.6399999999999999,
          0.06000000000000005,
          0.5200000000000002,
          0.23999999999999977,
          0.0160000000000002,
          0.1100000000000001,
          0.5100000000000002,
          0.5299999999999998,
          0.81,
          0.69,
          0.43563287295611686,
          0.8600000000000001,
          0.8999999999999999,
          0.9321995494527981,
          0.8309416345327751,
          0.8799999999999999,
          1.3194256326144345,
          1.1707160202201048,
          0.55,
          0.8658429418780289,
          1.2322629384360657,
          1.2148102732525767,
          1.6400000000000001,
          1.6961,
          1.7299999999999995,
          3.342420773029977,
          1.65,
          1.6700000000000004,
          1.29,
          0.7,
          0.5900000000000001,
          0.0700000000000005,
          1.4678160647710599,
          0.99
         ],
         "yaxis": "y"
        },
        {
         "hovertemplate": "Pacjent=2<br>BADANIE_NR=%{x}<br>euclidean_kw=%{y}<extra></extra>",
         "legendgroup": "2",
         "line": {
          "color": "#EF553B",
          "dash": "solid"
         },
         "marker": {
          "symbol": "circle"
         },
         "mode": "lines",
         "name": "2",
         "showlegend": true,
         "type": "scattergl",
         "x": [
          1,
          2,
          3,
          4,
          5,
          6,
          7,
          8,
          9,
          10
         ],
         "xaxis": "x",
         "y": [
          2.719580314954164,
          2.139120422838665,
          3.021271048065064,
          2.6775034094264907,
          1.2326917830208928,
          1.7831343804212507,
          1.5200000000000005,
          1.35,
          1.1100000000000003,
          0
         ],
         "yaxis": "y"
        },
        {
         "hovertemplate": "Pacjent=3<br>BADANIE_NR=%{x}<br>euclidean_kw=%{y}<extra></extra>",
         "legendgroup": "3",
         "line": {
          "color": "#00cc96",
          "dash": "solid"
         },
         "marker": {
          "symbol": "circle"
         },
         "mode": "lines",
         "name": "3",
         "showlegend": true,
         "type": "scattergl",
         "x": [
          1,
          2,
          3,
          4,
          5,
          6,
          7,
          8,
          9,
          10,
          11,
          12,
          13,
          14,
          15,
          16,
          17,
          18,
          19,
          20,
          21,
          22,
          23,
          24,
          25,
          26,
          27,
          28,
          29,
          30,
          31,
          32,
          33,
          34,
          35,
          36,
          37,
          38,
          39,
          40,
          41
         ],
         "xaxis": "x",
         "y": [
          0.42007939800804855,
          1.06,
          0.23999999999999977,
          1.1800000000000002,
          1.31,
          1.2299999999999995,
          1.1,
          1.5700000000000003,
          0.5100000000000002,
          0.2799999999999998,
          0.17000000000000037,
          0.31880401503117883,
          1.2000000000000002,
          1.0099999999999998,
          0.0919999999999998,
          0.3400000000000001,
          0.19999999999999996,
          0.7200000000000002,
          0,
          0.19999999999999996,
          0,
          0.050000000000000044,
          2.03,
          0,
          0,
          0,
          0,
          0.40017995951821467,
          0.0700000000000005,
          0,
          0,
          0.1680000000000001,
          0.4700000000000002,
          0,
          0,
          0,
          0,
          0,
          0.2200000000000002,
          0,
          0
         ],
         "yaxis": "y"
        },
        {
         "hovertemplate": "Pacjent=4<br>BADANIE_NR=%{x}<br>euclidean_kw=%{y}<extra></extra>",
         "legendgroup": "4",
         "line": {
          "color": "#ab63fa",
          "dash": "solid"
         },
         "marker": {
          "symbol": "circle"
         },
         "mode": "lines",
         "name": "4",
         "showlegend": true,
         "type": "scattergl",
         "x": [
          1,
          2,
          3,
          4,
          5,
          6,
          7,
          8,
          9,
          10,
          11,
          12,
          13,
          14,
          15,
          16,
          17,
          18,
          19,
          20,
          21,
          22,
          23,
          24,
          25,
          26,
          27,
          28,
          29,
          30,
          31,
          32,
          33,
          34
         ],
         "xaxis": "x",
         "y": [
          0.5799999999999996,
          1.3729509586195643,
          0.3500000000000001,
          0,
          0.3400000000000001,
          0.22999999999999976,
          0.24530796970339117,
          0.20399999999999965,
          0,
          0,
          0,
          0,
          0,
          0,
          0,
          0,
          0,
          0,
          0,
          0,
          0,
          0,
          0,
          0.6200000000000003,
          0.6048847527915908,
          1.2999999999999998,
          2.3198221198598192,
          1.6754050152245037,
          2.5180850017216496,
          1.79,
          0.9200000000000004,
          0.48999999999999977,
          2.191756373322546,
          0.1499999999999999
         ],
         "yaxis": "y"
        },
        {
         "hovertemplate": "Pacjent=6<br>BADANIE_NR=%{x}<br>euclidean_kw=%{y}<extra></extra>",
         "legendgroup": "6",
         "line": {
          "color": "#FFA15A",
          "dash": "solid"
         },
         "marker": {
          "symbol": "circle"
         },
         "mode": "lines",
         "name": "6",
         "showlegend": true,
         "type": "scattergl",
         "x": [
          1,
          2,
          3,
          4,
          5,
          6,
          7,
          8
         ],
         "xaxis": "x",
         "y": [
          0,
          1.004,
          0.74,
          1.8286705553488851,
          0.6240000000000001,
          0.1480000000000001,
          0.0434782608695652,
          0
         ],
         "yaxis": "y"
        },
        {
         "hovertemplate": "Pacjent=8<br>BADANIE_NR=%{x}<br>euclidean_kw=%{y}<extra></extra>",
         "legendgroup": "8",
         "line": {
          "color": "#19d3f3",
          "dash": "solid"
         },
         "marker": {
          "symbol": "circle"
         },
         "mode": "lines",
         "name": "8",
         "showlegend": true,
         "type": "scattergl",
         "x": [
          1,
          2,
          3,
          4,
          5,
          6,
          7,
          8,
          9,
          10
         ],
         "xaxis": "x",
         "y": [
          0,
          1.6209491046914462,
          0.2880000000000001,
          0,
          0,
          0,
          0,
          0,
          0.17000000000000037,
          1.956993612662034
         ],
         "yaxis": "y"
        },
        {
         "hovertemplate": "Pacjent=10<br>BADANIE_NR=%{x}<br>euclidean_kw=%{y}<extra></extra>",
         "legendgroup": "10",
         "line": {
          "color": "#FF6692",
          "dash": "solid"
         },
         "marker": {
          "symbol": "circle"
         },
         "mode": "lines",
         "name": "10",
         "showlegend": true,
         "type": "scattergl",
         "x": [
          1,
          2,
          3,
          4,
          5,
          6,
          7,
          8,
          9,
          10,
          11,
          12,
          13,
          14,
          15,
          16,
          17,
          18,
          19,
          20,
          21,
          22,
          23,
          24
         ],
         "xaxis": "x",
         "y": [
          0.1719999999999998,
          0,
          0,
          0,
          0,
          0,
          0,
          0,
          0.3299999999999996,
          0,
          0,
          0,
          0,
          0,
          0,
          0,
          0,
          0,
          0,
          0.94,
          0,
          0,
          0,
          1.524
         ],
         "yaxis": "y"
        },
        {
         "hovertemplate": "Pacjent=16<br>BADANIE_NR=%{x}<br>euclidean_kw=%{y}<extra></extra>",
         "legendgroup": "16",
         "line": {
          "color": "#B6E880",
          "dash": "solid"
         },
         "marker": {
          "symbol": "circle"
         },
         "mode": "lines",
         "name": "16",
         "showlegend": true,
         "type": "scattergl",
         "x": [
          1,
          2,
          3,
          4,
          5,
          6,
          7,
          8,
          9,
          10,
          11,
          12,
          13,
          14,
          15,
          16,
          17,
          18,
          19,
          20,
          21,
          22,
          23,
          24,
          25,
          26
         ],
         "xaxis": "x",
         "y": [
          1.189853159545488,
          1.3147010142781488,
          3.245000458073256,
          1.9671915772816089,
          0.5700000000000005,
          1.0599855289008502,
          0.19999999999999996,
          1.0700000000000003,
          1.2432280563114717,
          1.31,
          0.48999999999999977,
          0.99,
          0.37999999999999967,
          0.4700000000000002,
          0.7299999999999998,
          1.88,
          1.6,
          1.62,
          1.3399999999999999,
          2,
          2.3599999999999994,
          1.9900000000000007,
          1.9200000000000004,
          1.7100654958217247,
          0,
          1.6905726840334312
         ],
         "yaxis": "y"
        },
        {
         "hovertemplate": "Pacjent=17<br>BADANIE_NR=%{x}<br>euclidean_kw=%{y}<extra></extra>",
         "legendgroup": "17",
         "line": {
          "color": "#FF97FF",
          "dash": "solid"
         },
         "marker": {
          "symbol": "circle"
         },
         "mode": "lines",
         "name": "17",
         "showlegend": true,
         "type": "scattergl",
         "x": [
          1,
          2,
          3,
          4,
          5,
          6,
          7,
          8,
          9,
          10,
          11,
          12,
          13,
          14,
          15,
          16,
          17,
          18
         ],
         "xaxis": "x",
         "y": [
          0.1399999999999999,
          0.12999999999999967,
          2.022076675837305,
          1.2262662716917947,
          1.7101070660369802,
          1.5046942620600474,
          2.06,
          2.16,
          1.7299999999999995,
          2.5700000000000003,
          0.8,
          0.8799999999999999,
          1.21,
          0,
          0.8300000000000001,
          0.4700000000000002,
          0.47999999999999976,
          0.2200000000000002
         ],
         "yaxis": "y"
        },
        {
         "hovertemplate": "Pacjent=18<br>BADANIE_NR=%{x}<br>euclidean_kw=%{y}<extra></extra>",
         "legendgroup": "18",
         "line": {
          "color": "#FECB52",
          "dash": "solid"
         },
         "marker": {
          "symbol": "circle"
         },
         "mode": "lines",
         "name": "18",
         "showlegend": true,
         "type": "scattergl",
         "x": [
          1,
          2,
          3,
          4,
          5,
          6,
          7,
          8,
          9,
          10,
          11,
          12,
          13,
          14,
          15,
          16,
          17,
          18,
          19,
          20,
          21,
          22,
          23,
          24,
          25,
          26,
          27,
          28,
          29,
          30,
          31,
          32,
          33,
          34,
          35
         ],
         "xaxis": "x",
         "y": [
          1.1752733235021513,
          1.3009565997396109,
          1.0700000000000003,
          1.2299999999999995,
          0.8700000000000003,
          0.94,
          0.3200000000000005,
          0.5399999999999998,
          0.96,
          0.4600000000000002,
          0.7483421677281056,
          0.17176728442867076,
          0,
          0.0700000000000005,
          0.37000000000000033,
          0.15999999999999992,
          0.5200000000000002,
          0.6799999999999995,
          0.5100000000000002,
          0.43999999999999995,
          0,
          0.1799999999999995,
          0,
          0,
          0,
          0,
          0,
          0,
          0,
          0,
          0,
          0,
          0,
          0,
          0
         ],
         "yaxis": "y"
        },
        {
         "hovertemplate": "Pacjent=19<br>BADANIE_NR=%{x}<br>euclidean_kw=%{y}<extra></extra>",
         "legendgroup": "19",
         "line": {
          "color": "#636efa",
          "dash": "solid"
         },
         "marker": {
          "symbol": "circle"
         },
         "mode": "lines",
         "name": "19",
         "showlegend": true,
         "type": "scattergl",
         "x": [
          1,
          2,
          3,
          4,
          5,
          6,
          7,
          8,
          9,
          10,
          11,
          12,
          13,
          14,
          15,
          16,
          17,
          18,
          19,
          20,
          21,
          22,
          23,
          24,
          25,
          26,
          27,
          28,
          29,
          30,
          31,
          32
         ],
         "xaxis": "x",
         "y": [
          0,
          0,
          0,
          0,
          0,
          0,
          0,
          0,
          0,
          1.392,
          0,
          0,
          0,
          0,
          0,
          0,
          0.6086956521739131,
          0,
          0,
          0,
          0.1739130434782609,
          0,
          0,
          0,
          0,
          0,
          0,
          0,
          0,
          0,
          0,
          0
         ],
         "yaxis": "y"
        },
        {
         "hovertemplate": "Pacjent=26<br>BADANIE_NR=%{x}<br>euclidean_kw=%{y}<extra></extra>",
         "legendgroup": "26",
         "line": {
          "color": "#EF553B",
          "dash": "solid"
         },
         "marker": {
          "symbol": "circle"
         },
         "mode": "lines",
         "name": "26",
         "showlegend": true,
         "type": "scattergl",
         "x": [
          1,
          2,
          3,
          4,
          5,
          6,
          7,
          8,
          9,
          10,
          11,
          12,
          13,
          14,
          15,
          16
         ],
         "xaxis": "x",
         "y": [
          2.8546902919801957,
          4.405154199593003,
          6.376719067491749,
          7.8806481770439545,
          0.9120243632877846,
          1.7104869928202153,
          0,
          0,
          0.10000000000000009,
          0.44271887242357344,
          1.08,
          0,
          0,
          0,
          0.45214599412136774,
          0.23086792761230368
         ],
         "yaxis": "y"
        },
        {
         "hovertemplate": "Pacjent=28<br>BADANIE_NR=%{x}<br>euclidean_kw=%{y}<extra></extra>",
         "legendgroup": "28",
         "line": {
          "color": "#00cc96",
          "dash": "solid"
         },
         "marker": {
          "symbol": "circle"
         },
         "mode": "lines",
         "name": "28",
         "showlegend": true,
         "type": "scattergl",
         "x": [
          1,
          2,
          3,
          4,
          5,
          6,
          7,
          8,
          9,
          10,
          11,
          12,
          13,
          14,
          15,
          16,
          17,
          18,
          19,
          20,
          21,
          22,
          23,
          24,
          25,
          26,
          27,
          28,
          29,
          30,
          31,
          32,
          33,
          34,
          35,
          36,
          37,
          38,
          39,
          40
         ],
         "xaxis": "x",
         "y": [
          2.719037060131222,
          0.33072042573751015,
          0.4901815633409915,
          0.5661372336786347,
          0.9546566458276056,
          0.9959073822738954,
          0,
          1.321300664888484,
          0.6804145795028205,
          0.07999999999999963,
          0.7399999999999998,
          0.2575965838282797,
          0.5003998401278722,
          0.4200000000000004,
          0.2100000000000002,
          1.2180722474467596,
          1.4368020044529446,
          0.41182520563948,
          0.02000000000000024,
          0.0119999999999998,
          0.32,
          0.2608371139236135,
          1.19,
          1.33,
          1.2999999999999998,
          0.43999999999999995,
          0.7200000000000002,
          0.26000000000000023,
          0.5200000000000002,
          1.62,
          0.9200000000000004,
          0.6174139616173253,
          0.23999999999999977,
          0.37999999999999967,
          0.010000000000000231,
          0,
          0.029999999999999805,
          0,
          0,
          0
         ],
         "yaxis": "y"
        },
        {
         "hovertemplate": "Pacjent=29<br>BADANIE_NR=%{x}<br>euclidean_kw=%{y}<extra></extra>",
         "legendgroup": "29",
         "line": {
          "color": "#ab63fa",
          "dash": "solid"
         },
         "marker": {
          "symbol": "circle"
         },
         "mode": "lines",
         "name": "29",
         "showlegend": true,
         "type": "scattergl",
         "x": [
          1,
          2,
          3,
          4,
          5,
          6,
          7,
          8,
          9,
          10,
          11,
          12,
          13,
          14,
          15,
          16,
          17,
          18,
          19,
          20,
          21,
          22,
          23,
          24,
          25,
          26,
          27,
          28,
          29,
          30,
          31,
          32
         ],
         "xaxis": "x",
         "y": [
          4.441369883415752,
          1.9478964955700326,
          2.5560978785865887,
          2.0950311335508314,
          1.435599016321289,
          1.365818328457634,
          0.5900000000000001,
          1.1407173181818535,
          0.95,
          0.6762869213580879,
          1.3085625701509271,
          1.0854381603757999,
          0.9200000000000004,
          0.9019977827023744,
          1.21,
          1.19,
          1.163195598341053,
          0.7799999999999998,
          0.5100000000000002,
          0.3400000000000001,
          0,
          0.050000000000000044,
          0,
          0,
          0,
          0,
          0,
          0,
          0.4719999999999998,
          0.0280000000000001,
          0.7123417331600841,
          0.0039999999999997
         ],
         "yaxis": "y"
        },
        {
         "hovertemplate": "Pacjent=33<br>BADANIE_NR=%{x}<br>euclidean_kw=%{y}<extra></extra>",
         "legendgroup": "33",
         "line": {
          "color": "#FFA15A",
          "dash": "solid"
         },
         "marker": {
          "symbol": "circle"
         },
         "mode": "lines",
         "name": "33",
         "showlegend": true,
         "type": "scattergl",
         "x": [
          1,
          2,
          3,
          4,
          5,
          6,
          7,
          8,
          9,
          10,
          11,
          12,
          13,
          14,
          15,
          16,
          17,
          18,
          19,
          20,
          21,
          22,
          23,
          24,
          25,
          26,
          27,
          28,
          29,
          30,
          31,
          32,
          33,
          34,
          35,
          36,
          37,
          38,
          39,
          40,
          41,
          42,
          43,
          44,
          45,
          46,
          47,
          48,
          49,
          50,
          51
         ],
         "xaxis": "x",
         "y": [
          1.5816770930127646,
          1.8596008050935477,
          2.0543415406052588,
          0.6200000000000003,
          0.1799999999999995,
          0.5200000000000002,
          0.1878829422805597,
          0.8500000000000001,
          0.3600000000000001,
          2.0400000000000005,
          1.5901257811883938,
          2,
          1.7085209978223854,
          1.7459667808981936,
          1.83,
          1.6600000000000001,
          1.44,
          1.69,
          1.6,
          1.3399999999999999,
          1.4900000000000002,
          1.7599999999999998,
          3.754903159176535,
          2.640000000000001,
          2.85,
          1.63,
          2.0337394130025612,
          0.95,
          1.6519091984730878,
          0.7,
          0.2200000000000002,
          0.6401999687597617,
          0.4897999591670055,
          0.8700000000000003,
          0.9658240005301174,
          1.3600000000000003,
          1.3900000000000001,
          2.1900584467086723,
          1.12,
          1.6700431132159437,
          1.3200000000000003,
          1.25,
          0.49889477848540353,
          0.43829214001622246,
          1.4900000000000002,
          0.96,
          1.5299999999999998,
          1.5,
          1.5700000000000003,
          1.4900000000000002,
          1.2200000000000002
         ],
         "yaxis": "y"
        },
        {
         "hovertemplate": "Pacjent=39<br>BADANIE_NR=%{x}<br>euclidean_kw=%{y}<extra></extra>",
         "legendgroup": "39",
         "line": {
          "color": "#19d3f3",
          "dash": "solid"
         },
         "marker": {
          "symbol": "circle"
         },
         "mode": "lines",
         "name": "39",
         "showlegend": true,
         "type": "scattergl",
         "x": [
          1,
          2,
          3,
          4,
          5,
          6,
          7,
          8,
          9,
          10,
          11,
          12,
          13,
          14,
          15,
          16,
          17,
          18,
          19,
          20,
          21,
          22,
          23,
          24,
          25,
          26,
          27,
          28,
          29,
          30,
          31,
          32,
          33,
          34,
          35
         ],
         "xaxis": "x",
         "y": [
          2.785672545999699,
          3.4322544815053284,
          6.348663639658475,
          1.6107844142739693,
          2.0571263181763,
          3.329152983187024,
          1.9299696702872347,
          2.2767050952664034,
          2.6604676420520597,
          2.85,
          1.9100000000000001,
          1.8399999999999999,
          2.1,
          1.5499999999999998,
          0.97,
          0.12000000000000033,
          0.1560000000000002,
          0.08,
          0.9761659694949422,
          0,
          0,
          0,
          0,
          0,
          0,
          3.4799309225961013,
          0,
          0,
          0,
          0,
          0,
          0,
          0.1080000000000001,
          1.0677930316367954,
          0.12
         ],
         "yaxis": "y"
        },
        {
         "hovertemplate": "Pacjent=44<br>BADANIE_NR=%{x}<br>euclidean_kw=%{y}<extra></extra>",
         "legendgroup": "44",
         "line": {
          "color": "#FF6692",
          "dash": "solid"
         },
         "marker": {
          "symbol": "circle"
         },
         "mode": "lines",
         "name": "44",
         "showlegend": true,
         "type": "scattergl",
         "x": [
          1,
          2,
          3,
          4,
          5,
          6,
          7,
          8,
          9,
          10,
          11,
          12,
          13,
          14,
          15,
          16,
          17,
          18,
          19,
          20,
          21,
          22,
          23,
          24,
          25,
          26
         ],
         "xaxis": "x",
         "y": [
          0.3400000000000001,
          4.016407695884815,
          2.937103441144406,
          1.8703705757982843,
          1.4200000000000004,
          0.2799999999999998,
          0.12999999999999967,
          0.5700000000000005,
          0.2799999999999998,
          0.7799999999999998,
          0.9051762259361432,
          1.75,
          2.152970970542798,
          0.7556215984207969,
          2.0700000000000003,
          1.2599999999999998,
          1.4900000000000002,
          0.6200000000000003,
          0.23999999999999977,
          0.3600000000000001,
          0.5299999999999998,
          0,
          0,
          0.25,
          0,
          0
         ],
         "yaxis": "y"
        },
        {
         "hovertemplate": "Pacjent=46<br>BADANIE_NR=%{x}<br>euclidean_kw=%{y}<extra></extra>",
         "legendgroup": "46",
         "line": {
          "color": "#B6E880",
          "dash": "solid"
         },
         "marker": {
          "symbol": "circle"
         },
         "mode": "lines",
         "name": "46",
         "showlegend": true,
         "type": "scattergl",
         "x": [
          1,
          2,
          3,
          4,
          5,
          6,
          7,
          8,
          9,
          10,
          11,
          12,
          13,
          14,
          15,
          16,
          17,
          18,
          19,
          20,
          21,
          22,
          23,
          24,
          25,
          26,
          27,
          28,
          29,
          30,
          31,
          32,
          33,
          34,
          35,
          36,
          37,
          38,
          39,
          40
         ],
         "xaxis": "x",
         "y": [
          1.5910336213981109,
          0.1399999999999999,
          1.6018621909988264,
          1.2810925334066043,
          0.7399999999999998,
          0.3299999999999996,
          0.3400000000000001,
          0.7,
          0.43999999999999995,
          0.2899999999999998,
          0.31000000000000005,
          0.7600000000000002,
          1.12,
          2.08,
          1.79,
          1.7599999999999998,
          1.2799999999999998,
          1.3399999999999999,
          0.6673080248281146,
          1.54,
          1.2299999999999995,
          0.81,
          0,
          0.9978697309769446,
          1.3010395843324676,
          1.1600000000000001,
          1.2494414752200282,
          0,
          2.16,
          2.2508097288354474,
          0.1100000000000001,
          2.5113201771035145,
          1.4,
          0.37999999999999967,
          0.7851751396981445,
          0.4928934976239796,
          0.48999999999999977,
          0.30630703550522614,
          0.44999999999999996,
          0
         ],
         "yaxis": "y"
        },
        {
         "hovertemplate": "Pacjent=47<br>BADANIE_NR=%{x}<br>euclidean_kw=%{y}<extra></extra>",
         "legendgroup": "47",
         "line": {
          "color": "#FF97FF",
          "dash": "solid"
         },
         "marker": {
          "symbol": "circle"
         },
         "mode": "lines",
         "name": "47",
         "showlegend": true,
         "type": "scattergl",
         "x": [
          1,
          2,
          3,
          4,
          5,
          6,
          7,
          8,
          9,
          10,
          11,
          12,
          13,
          14,
          15,
          16,
          17,
          18,
          19,
          20,
          21,
          22,
          23,
          24,
          25,
          26,
          27,
          28,
          29
         ],
         "xaxis": "x",
         "y": [
          0,
          0,
          0.0700000000000005,
          0.9253579671442274,
          0.06000000000000005,
          0.1499999999999999,
          0.5200000000000002,
          0,
          0,
          0.2100000000000002,
          1.0700000000000003,
          1.3600000000000003,
          4.204636962261924,
          0.8707445090266148,
          0.8349874250550122,
          1.19,
          0.8999999999999999,
          0.7799999999999998,
          1,
          0.4700000000000002,
          0.9299999999999999,
          0.37000000000000033,
          0.010000000000000231,
          0,
          0.75,
          0.5200000000000002,
          0.37000000000000033,
          0.8,
          0.6200000000000003
         ],
         "yaxis": "y"
        },
        {
         "hovertemplate": "Pacjent=49<br>BADANIE_NR=%{x}<br>euclidean_kw=%{y}<extra></extra>",
         "legendgroup": "49",
         "line": {
          "color": "#FECB52",
          "dash": "solid"
         },
         "marker": {
          "symbol": "circle"
         },
         "mode": "lines",
         "name": "49",
         "showlegend": true,
         "type": "scattergl",
         "x": [
          1,
          2,
          3,
          4,
          5,
          6,
          7,
          8,
          9,
          10,
          11,
          12,
          13,
          14,
          15,
          16,
          17,
          18,
          19,
          20,
          21,
          22,
          23
         ],
         "xaxis": "x",
         "y": [
          2.572032977606725,
          2.1816514177034656,
          1.5598380894617672,
          1.384464540279685,
          0.717391304347826,
          0.108695652173913,
          0,
          0,
          0,
          0,
          0,
          0,
          0,
          0,
          0,
          0,
          0,
          0,
          0,
          0,
          0,
          0.1521739130434783,
          0.0652173913043479
         ],
         "yaxis": "y"
        },
        {
         "hovertemplate": "Pacjent=50<br>BADANIE_NR=%{x}<br>euclidean_kw=%{y}<extra></extra>",
         "legendgroup": "50",
         "line": {
          "color": "#636efa",
          "dash": "solid"
         },
         "marker": {
          "symbol": "circle"
         },
         "mode": "lines",
         "name": "50",
         "showlegend": true,
         "type": "scattergl",
         "x": [
          1,
          2,
          3,
          4,
          5,
          6,
          7,
          8,
          9,
          10,
          11,
          12,
          13,
          14,
          15,
          16,
          17,
          18,
          19
         ],
         "xaxis": "x",
         "y": [
          0.3973640093809524,
          0.1799999999999995,
          0.2799999999999998,
          1.623552778013862,
          0.7424583728535229,
          0.9200000000000004,
          0.1100000000000001,
          0,
          0,
          0.1499999999999999,
          0.37000000000000033,
          0.6499999999999999,
          0.5399999999999998,
          0,
          0,
          0,
          0.1399999999999999,
          0,
          0
         ],
         "yaxis": "y"
        },
        {
         "hovertemplate": "Pacjent=54<br>BADANIE_NR=%{x}<br>euclidean_kw=%{y}<extra></extra>",
         "legendgroup": "54",
         "line": {
          "color": "#EF553B",
          "dash": "solid"
         },
         "marker": {
          "symbol": "circle"
         },
         "mode": "lines",
         "name": "54",
         "showlegend": true,
         "type": "scattergl",
         "x": [
          1,
          2,
          3,
          4,
          5,
          6,
          7,
          8,
          9,
          10,
          11,
          12,
          13,
          14,
          15,
          16,
          17,
          18,
          19,
          20,
          21,
          22,
          23,
          24,
          25,
          26,
          27,
          28,
          29,
          30,
          31,
          32,
          33,
          34,
          35,
          36,
          37,
          38
         ],
         "xaxis": "x",
         "y": [
          0,
          0.12999999999999967,
          0.6662852242095725,
          0.15929846201391903,
          0.69,
          0.3687817782917156,
          0.6896375859826667,
          0.44999999999999996,
          0.4760000000000002,
          0.8072570842055211,
          0.3838176650442236,
          0.22999999999999976,
          0.7100000000000002,
          1.5321648187865522,
          1.38,
          1.7299999999999995,
          1.6332985030299882,
          1.1321766646597167,
          2.8944236169583135,
          2.6213164631535815,
          2.55088141629516,
          1.8399999999999999,
          2.05,
          2.830635970943632,
          1.1800000000000002,
          2.41,
          1.9,
          1.7200000000000002,
          1.5200000000000005,
          2.142544767128601,
          1.7161495626778034,
          1.7247794061850346,
          0,
          1.6716985374163609,
          1.4799999999999995,
          1.6241625534410034,
          1.9200000000000004,
          1.858627450566681
         ],
         "yaxis": "y"
        },
        {
         "hovertemplate": "Pacjent=58<br>BADANIE_NR=%{x}<br>euclidean_kw=%{y}<extra></extra>",
         "legendgroup": "58",
         "line": {
          "color": "#00cc96",
          "dash": "solid"
         },
         "marker": {
          "symbol": "circle"
         },
         "mode": "lines",
         "name": "58",
         "showlegend": true,
         "type": "scattergl",
         "x": [
          1,
          2,
          3,
          4,
          5,
          6,
          7,
          8,
          9,
          10,
          11,
          12,
          13,
          14,
          15,
          16,
          17,
          18,
          19,
          20,
          21,
          22,
          23,
          24,
          25
         ],
         "xaxis": "x",
         "y": [
          0.8695652173913044,
          0.565217391304348,
          0.5,
          0.0960000000000002,
          0,
          0,
          0,
          0,
          0,
          0,
          0,
          0,
          0,
          0,
          0,
          0.108695652173913,
          0,
          0,
          1.6800000000000002,
          0,
          0,
          0,
          1.516,
          1.732,
          1.4240000000000002
         ],
         "yaxis": "y"
        },
        {
         "hovertemplate": "Pacjent=59<br>BADANIE_NR=%{x}<br>euclidean_kw=%{y}<extra></extra>",
         "legendgroup": "59",
         "line": {
          "color": "#ab63fa",
          "dash": "solid"
         },
         "marker": {
          "symbol": "circle"
         },
         "mode": "lines",
         "name": "59",
         "showlegend": true,
         "type": "scattergl",
         "x": [
          1,
          2,
          3,
          4,
          5,
          6,
          7,
          8,
          9,
          10,
          11,
          12,
          13,
          14,
          15,
          16,
          17,
          18,
          19
         ],
         "xaxis": "x",
         "y": [
          0,
          1.2063300620643913,
          0,
          0,
          0,
          0,
          0,
          0,
          0,
          1.1493372003028528,
          0,
          0,
          0,
          0,
          0,
          0,
          0,
          0,
          0
         ],
         "yaxis": "y"
        },
        {
         "hovertemplate": "Pacjent=60<br>BADANIE_NR=%{x}<br>euclidean_kw=%{y}<extra></extra>",
         "legendgroup": "60",
         "line": {
          "color": "#FFA15A",
          "dash": "solid"
         },
         "marker": {
          "symbol": "circle"
         },
         "mode": "lines",
         "name": "60",
         "showlegend": true,
         "type": "scattergl",
         "x": [
          1,
          2,
          3,
          4,
          5,
          6,
          7,
          8,
          9,
          10,
          11,
          12,
          13,
          14,
          15,
          16,
          17,
          18,
          19,
          20
         ],
         "xaxis": "x",
         "y": [
          0,
          0,
          0,
          0,
          0.5799999999999996,
          1.9509269591658218,
          0.3400000000000001,
          0.12000000000000033,
          0.2200000000000002,
          0.27000000000000024,
          0.56,
          1.867200042844901,
          1.6775470187151238,
          1.9940160480798546,
          2.1451573368869705,
          1.6926913481199106,
          2.5681316165648522,
          2.0295428056584566,
          1.355616464933943,
          0.039999999999999813
         ],
         "yaxis": "y"
        },
        {
         "hovertemplate": "Pacjent=67<br>BADANIE_NR=%{x}<br>euclidean_kw=%{y}<extra></extra>",
         "legendgroup": "67",
         "line": {
          "color": "#19d3f3",
          "dash": "solid"
         },
         "marker": {
          "symbol": "circle"
         },
         "mode": "lines",
         "name": "67",
         "showlegend": true,
         "type": "scattergl",
         "x": [
          1,
          2,
          3,
          4,
          5,
          6,
          7,
          8,
          9,
          10,
          11,
          12,
          13,
          14,
          15,
          16,
          17,
          18,
          19,
          20,
          21,
          22,
          23,
          24,
          25,
          26,
          27,
          28,
          29,
          30,
          31,
          32,
          33,
          34,
          35,
          36,
          37
         ],
         "xaxis": "x",
         "y": [
          0.5326199395441371,
          2.5122441124606656,
          2.8320712957779155,
          1.903739477974862,
          2.7139981744304853,
          3.013630405116108,
          2.993616334292689,
          1.25,
          0.44999999999999996,
          0.8,
          0.4600000000000002,
          0.8899999999999999,
          0.07999999999999963,
          1.5200000000000005,
          0.9299999999999999,
          0.6499999999999999,
          0,
          0,
          0.02,
          0,
          0,
          0,
          0,
          0,
          0,
          0,
          0,
          0,
          0.1319999999999999,
          0,
          0,
          0,
          0.968,
          1.3945967159003352,
          0.49050586133093216,
          1.1221782389620643,
          1.256
         ],
         "yaxis": "y"
        },
        {
         "hovertemplate": "Pacjent=68<br>BADANIE_NR=%{x}<br>euclidean_kw=%{y}<extra></extra>",
         "legendgroup": "68",
         "line": {
          "color": "#FF6692",
          "dash": "solid"
         },
         "marker": {
          "symbol": "circle"
         },
         "mode": "lines",
         "name": "68",
         "showlegend": true,
         "type": "scattergl",
         "x": [
          1,
          2,
          3,
          4,
          5,
          6,
          7,
          8,
          9,
          10,
          11,
          12,
          13,
          14,
          15,
          16,
          17,
          18,
          19
         ],
         "xaxis": "x",
         "y": [
          0.1360000000000002,
          1.2242957159118053,
          0.6246791176276026,
          0.31000000000000005,
          0,
          0.050000000000000044,
          0,
          0,
          0,
          0,
          0,
          0,
          0,
          0,
          0,
          0,
          0,
          0,
          0
         ],
         "yaxis": "y"
        },
        {
         "hovertemplate": "Pacjent=69<br>BADANIE_NR=%{x}<br>euclidean_kw=%{y}<extra></extra>",
         "legendgroup": "69",
         "line": {
          "color": "#B6E880",
          "dash": "solid"
         },
         "marker": {
          "symbol": "circle"
         },
         "mode": "lines",
         "name": "69",
         "showlegend": true,
         "type": "scattergl",
         "x": [
          1,
          2,
          3,
          4,
          5,
          6,
          7,
          8,
          9,
          10,
          11,
          12,
          13,
          14,
          15,
          16,
          17,
          18,
          19,
          20,
          21,
          22,
          23
         ],
         "xaxis": "x",
         "y": [
          0,
          0,
          0,
          0,
          1.152,
          0,
          0,
          0,
          0,
          0,
          0,
          0,
          0,
          0,
          0,
          0,
          0,
          0,
          0,
          0,
          0,
          0,
          0
         ],
         "yaxis": "y"
        },
        {
         "hovertemplate": "Pacjent=71<br>BADANIE_NR=%{x}<br>euclidean_kw=%{y}<extra></extra>",
         "legendgroup": "71",
         "line": {
          "color": "#FF97FF",
          "dash": "solid"
         },
         "marker": {
          "symbol": "circle"
         },
         "mode": "lines",
         "name": "71",
         "showlegend": true,
         "type": "scattergl",
         "x": [
          1,
          2,
          3,
          4,
          5,
          6,
          7,
          8
         ],
         "xaxis": "x",
         "y": [
          0,
          0,
          0,
          0,
          0,
          0,
          0,
          0
         ],
         "yaxis": "y"
        },
        {
         "hovertemplate": "Pacjent=72<br>BADANIE_NR=%{x}<br>euclidean_kw=%{y}<extra></extra>",
         "legendgroup": "72",
         "line": {
          "color": "#FECB52",
          "dash": "solid"
         },
         "marker": {
          "symbol": "circle"
         },
         "mode": "lines",
         "name": "72",
         "showlegend": true,
         "type": "scattergl",
         "x": [
          1,
          2,
          3,
          4,
          5,
          6,
          7,
          8,
          9,
          10,
          11,
          12,
          13,
          14,
          15,
          16,
          17,
          18,
          19,
          20,
          21,
          22,
          23,
          24,
          25,
          26,
          27,
          28,
          29,
          30,
          31,
          32,
          33,
          34,
          35,
          36
         ],
         "xaxis": "x",
         "y": [
          2.132347953966018,
          2.060163521372495,
          1.7416123020719658,
          1.8845077106297057,
          2.3432764531020784,
          2.2615918585796866,
          1.8900000000000001,
          1.54,
          1.6100000000000003,
          2.18370694004484,
          1.6960907994562082,
          1.6772787484494043,
          2.198384861665491,
          1.7875122377203465,
          1.905916052715859,
          1.8763752289987203,
          1.5301816885585842,
          1.8981770201959565,
          1.6260688792299052,
          1.3267765448635276,
          0.7093659140387278,
          1.6752361027628313,
          1.28624103495418,
          1.0648868484491676,
          0,
          1.4142715439405544,
          1.368,
          0.933383093911605,
          0,
          1.2475512013540768,
          1.2459534501738017,
          1.4446646669729275,
          1.2280000000000002,
          1.4688834127156687,
          1.2899007713773956,
          1.6556134814623853
         ],
         "yaxis": "y"
        },
        {
         "hovertemplate": "Pacjent=76<br>BADANIE_NR=%{x}<br>euclidean_kw=%{y}<extra></extra>",
         "legendgroup": "76",
         "line": {
          "color": "#636efa",
          "dash": "solid"
         },
         "marker": {
          "symbol": "circle"
         },
         "mode": "lines",
         "name": "76",
         "showlegend": true,
         "type": "scattergl",
         "x": [
          1,
          2,
          3,
          4,
          5,
          6,
          7,
          8,
          9,
          10,
          11,
          12,
          13,
          14,
          15,
          16,
          17,
          18,
          19
         ],
         "xaxis": "x",
         "y": [
          0.6306381206607231,
          1.6371867214864861,
          3.175712077242689,
          2.324349095551552,
          1.7969486657916751,
          1.3315196339756519,
          0.3400000000000001,
          0.96,
          0.2856851413707053,
          0.6000000000000001,
          0.19999999999999996,
          1.13,
          0.47999999999999976,
          0.8899999999999999,
          0.3299999999999996,
          0.6100000000000001,
          0.47999999999999976,
          0.48999999999999977,
          0
         ],
         "yaxis": "y"
        },
        {
         "hovertemplate": "Pacjent=79<br>BADANIE_NR=%{x}<br>euclidean_kw=%{y}<extra></extra>",
         "legendgroup": "79",
         "line": {
          "color": "#EF553B",
          "dash": "solid"
         },
         "marker": {
          "symbol": "circle"
         },
         "mode": "lines",
         "name": "79",
         "showlegend": true,
         "type": "scattergl",
         "x": [
          1,
          2,
          3,
          4,
          5,
          6,
          7,
          8,
          9,
          10,
          11,
          12,
          13,
          14,
          15,
          16,
          17,
          18,
          19,
          20,
          21,
          22,
          23,
          24,
          25,
          26,
          27,
          28,
          29,
          30,
          31,
          32,
          33,
          34,
          35,
          36,
          37,
          38,
          39,
          40,
          41,
          42,
          43,
          44
         ],
         "xaxis": "x",
         "y": [
          2.0613352678301413,
          5.555593056972713,
          2.546562089839924,
          1.1,
          0.7332148389114884,
          1.4700000000000002,
          1.62,
          1.46,
          1.5200000000000005,
          1.5200000000000005,
          0.98,
          1.3678947327919646,
          1.1800000000000002,
          1.8200000000000003,
          1.5899999999999999,
          3.0214199169636444,
          0.75,
          0.9200000000000004,
          0.99,
          0.47999999999999976,
          1.5700000000000003,
          1.3600000000000003,
          1.37,
          0.9299999999999999,
          0.1399999999999999,
          0,
          0,
          0,
          0,
          0,
          0,
          0,
          0,
          1.4240000000000002,
          0,
          0,
          0,
          0,
          0,
          0,
          0,
          0,
          1.690188155206396,
          1.5983691688718227
         ],
         "yaxis": "y"
        },
        {
         "hovertemplate": "Pacjent=81<br>BADANIE_NR=%{x}<br>euclidean_kw=%{y}<extra></extra>",
         "legendgroup": "81",
         "line": {
          "color": "#00cc96",
          "dash": "solid"
         },
         "marker": {
          "symbol": "circle"
         },
         "mode": "lines",
         "name": "81",
         "showlegend": true,
         "type": "scattergl",
         "x": [
          1,
          2,
          3,
          4,
          5,
          6,
          7,
          8,
          9,
          10,
          11,
          12,
          13,
          14,
          15,
          16,
          17,
          18,
          19,
          20,
          21,
          22,
          23,
          24,
          25,
          26,
          27,
          28,
          29
         ],
         "xaxis": "x",
         "y": [
          2.1302530679500546,
          0.9265756499410944,
          0.5299999999999998,
          0.050000000000000044,
          0.5399999999999998,
          1.33,
          0,
          0,
          0,
          0.17000000000000037,
          0,
          0.4299999999999995,
          0,
          0,
          0,
          0,
          0,
          0.3960000000000002,
          0,
          0,
          0,
          0,
          0,
          0.12999999999999967,
          0,
          0,
          0,
          0.12999999999999967,
          0
         ],
         "yaxis": "y"
        },
        {
         "hovertemplate": "Pacjent=83<br>BADANIE_NR=%{x}<br>euclidean_kw=%{y}<extra></extra>",
         "legendgroup": "83",
         "line": {
          "color": "#ab63fa",
          "dash": "solid"
         },
         "marker": {
          "symbol": "circle"
         },
         "mode": "lines",
         "name": "83",
         "showlegend": true,
         "type": "scattergl",
         "x": [
          1,
          2,
          3,
          4,
          5,
          6,
          7,
          8,
          9,
          10,
          11,
          12,
          13,
          14,
          15,
          16,
          17,
          18,
          19,
          20,
          21,
          22,
          23,
          24,
          25,
          26,
          27,
          28,
          29,
          30,
          31,
          32,
          33,
          34,
          35,
          36,
          37,
          38,
          39,
          40
         ],
         "xaxis": "x",
         "y": [
          2.5076393679710125,
          3.4741867668290802,
          3.4199217782456275,
          1.3600000000000003,
          0.5399999999999998,
          0.5299999999999998,
          0.7100000000000002,
          0.010000000000000231,
          0.31000000000000005,
          0.81,
          0.42787381317393103,
          0.37000000000000033,
          0,
          0.43999999999999995,
          0,
          0,
          0,
          0,
          0,
          0,
          0.6319999999999999,
          0,
          0,
          0.1519999999999998,
          0,
          0,
          0,
          0,
          0,
          0.38,
          0,
          0.5719999999999998,
          0,
          0,
          0,
          0.3839999999999998,
          0,
          0,
          1.4987247912809076,
          1.218952008899448
         ],
         "yaxis": "y"
        },
        {
         "hovertemplate": "Pacjent=90<br>BADANIE_NR=%{x}<br>euclidean_kw=%{y}<extra></extra>",
         "legendgroup": "90",
         "line": {
          "color": "#FFA15A",
          "dash": "solid"
         },
         "marker": {
          "symbol": "circle"
         },
         "mode": "lines",
         "name": "90",
         "showlegend": true,
         "type": "scattergl",
         "x": [
          1,
          2,
          3,
          4,
          5,
          6,
          7,
          8,
          9,
          10,
          11,
          12,
          13,
          14,
          15,
          16,
          17,
          18,
          19,
          20,
          21,
          22,
          23,
          24,
          25,
          26,
          27,
          28,
          29,
          30,
          31,
          32,
          33,
          34,
          35,
          36,
          37,
          38,
          39,
          40,
          41,
          42,
          43,
          44,
          45,
          46,
          47,
          48,
          49,
          50,
          51,
          52,
          53,
          54,
          55
         ],
         "xaxis": "x",
         "y": [
          1.759707925884062,
          2.724340890741982,
          2.905811170195675,
          0,
          2.47,
          2.37,
          0.6799999999999995,
          0.8200000000000005,
          0.55,
          1.3718324399144535,
          1.2299999999999995,
          0.9200000000000004,
          1.0099999999999998,
          2.9456568169026838,
          0.27000000000000024,
          1.4300000000000002,
          0.5700000000000005,
          1.1,
          0.050000000000000044,
          0,
          0.02000000000000024,
          0,
          0.95,
          0.9099999999999999,
          0.8200000000000005,
          0.56,
          0.3500000000000001,
          0.5,
          0.6799999999999995,
          0.19999999999999996,
          0,
          0,
          0.039999999999999813,
          1,
          0.97,
          1.0299999999999998,
          0.8400000000000001,
          0.6599999999999999,
          1.2700000000000005,
          0.7700000000000002,
          0.96,
          3.158810028488183,
          0.7799999999999998,
          0.8600000000000001,
          1.4500000000000002,
          1.12,
          0.69,
          0.4099999999999999,
          0.3500000000000001,
          0.5900000000000001,
          0.6000000000000001,
          0.5799999999999996,
          0.8899999999999999,
          0.7600000000000002,
          0.6799999999999995
         ],
         "yaxis": "y"
        },
        {
         "hovertemplate": "Pacjent=95<br>BADANIE_NR=%{x}<br>euclidean_kw=%{y}<extra></extra>",
         "legendgroup": "95",
         "line": {
          "color": "#19d3f3",
          "dash": "solid"
         },
         "marker": {
          "symbol": "circle"
         },
         "mode": "lines",
         "name": "95",
         "showlegend": true,
         "type": "scattergl",
         "x": [
          1,
          2,
          3,
          4,
          5,
          6,
          7,
          8,
          9,
          10,
          11,
          12,
          13,
          14,
          15,
          16,
          17,
          18,
          19,
          20,
          21,
          22,
          23,
          24,
          25,
          26,
          27,
          28,
          29,
          30,
          31,
          32,
          33,
          34,
          35,
          36,
          37,
          38,
          39,
          40,
          41,
          42,
          43,
          44,
          45,
          46,
          47,
          48,
          49,
          50,
          51,
          52,
          53,
          54,
          55,
          56
         ],
         "xaxis": "x",
         "y": [
          0,
          0.3400000000000001,
          1.5899999999999999,
          1.4734123659043994,
          1.7000000000000002,
          0.94,
          1.15,
          1.13,
          0.8899999999999999,
          0.0700000000000005,
          0.5399999999999998,
          0.8501505748983529,
          1.15,
          0.7463618425401982,
          1.5099999999999998,
          1.1400000000000001,
          1.44,
          1.58,
          0.09000000000000008,
          0.1399999999999999,
          0,
          0.6799999999999995,
          0,
          0.489035786011617,
          1.2519999999999998,
          0.8659622974649669,
          0,
          0,
          2.010346370364523,
          2.844752784902989,
          1.0107826695949103,
          1.3172134858698106,
          0.06000000000000005,
          0.5799999999999996,
          0.3400000000000001,
          0,
          0.4600000000000002,
          0.12000000000000033,
          1.0099999999999998,
          0.8400000000000001,
          0.9303096258773205,
          0.98,
          0.7399999999999998,
          0.06000000000000005,
          0,
          1.172,
          0,
          0,
          0,
          0,
          0,
          0,
          0,
          2.28,
          0,
          0
         ],
         "yaxis": "y"
        },
        {
         "hovertemplate": "Pacjent=98<br>BADANIE_NR=%{x}<br>euclidean_kw=%{y}<extra></extra>",
         "legendgroup": "98",
         "line": {
          "color": "#FF6692",
          "dash": "solid"
         },
         "marker": {
          "symbol": "circle"
         },
         "mode": "lines",
         "name": "98",
         "showlegend": true,
         "type": "scattergl",
         "x": [
          1,
          2,
          3,
          4,
          5,
          6,
          7,
          8,
          9,
          10,
          11,
          12,
          13,
          14,
          15,
          16,
          17,
          18,
          19,
          20,
          21,
          22,
          23,
          24,
          25,
          26,
          27,
          28,
          29,
          30,
          31,
          32,
          33,
          34,
          35,
          36,
          37,
          38,
          39
         ],
         "xaxis": "x",
         "y": [
          0.406509944250297,
          5.421877449825384,
          2.9386827088425425,
          1.7018926984225518,
          0.9907843530161928,
          1.68750329923701,
          0.5900000000000001,
          0.6100000000000001,
          1.4700000000000002,
          1.4466734254834435,
          0.95,
          0.7799999999999998,
          2.0411918087235215,
          2.7974298124742316,
          2.12,
          1.9500000000000002,
          1.25,
          0.10000000000000009,
          1.15,
          1.65,
          0.02828427124746207,
          0.07999999999999963,
          0.7451738052293574,
          0,
          0,
          0,
          1.488184340439934,
          0,
          1.0180785824286844,
          0.5236831102871277,
          0,
          0,
          0,
          0,
          0,
          0,
          0,
          0.6037197658844788,
          0
         ],
         "yaxis": "y"
        },
        {
         "hovertemplate": "Pacjent=99<br>BADANIE_NR=%{x}<br>euclidean_kw=%{y}<extra></extra>",
         "legendgroup": "99",
         "line": {
          "color": "#B6E880",
          "dash": "solid"
         },
         "marker": {
          "symbol": "circle"
         },
         "mode": "lines",
         "name": "99",
         "showlegend": true,
         "type": "scattergl",
         "x": [
          1,
          2,
          3,
          4,
          5,
          6,
          7,
          8,
          9,
          10,
          11,
          12,
          13,
          14,
          15,
          16,
          17,
          18
         ],
         "xaxis": "x",
         "y": [
          0.6906905929905299,
          1.3259898015480296,
          0.5753922007634462,
          1.0252135344467794,
          1.8053329100747755,
          1.4299824282601739,
          0.7951996864186882,
          0.8046350074696037,
          0.7593326614942918,
          1.352715950158474,
          0.9396509990416655,
          0.8843657052547912,
          0.7605918747922568,
          0.5848110806063787,
          0.9210884865201605,
          0.4538546022681714,
          2.5884994515603843,
          1.0691604182722068
         ],
         "yaxis": "y"
        },
        {
         "hovertemplate": "Pacjent=101<br>BADANIE_NR=%{x}<br>euclidean_kw=%{y}<extra></extra>",
         "legendgroup": "101",
         "line": {
          "color": "#FF97FF",
          "dash": "solid"
         },
         "marker": {
          "symbol": "circle"
         },
         "mode": "lines",
         "name": "101",
         "showlegend": true,
         "type": "scattergl",
         "x": [
          1,
          2,
          3,
          4,
          5,
          6,
          7,
          8,
          9,
          10,
          11,
          12,
          13,
          14,
          15,
          16,
          17,
          18,
          19,
          20,
          21,
          22,
          23,
          24,
          25,
          26,
          27,
          28,
          29,
          30,
          31,
          32,
          33,
          34,
          35
         ],
         "xaxis": "x",
         "y": [
          0.8660685121807082,
          1.8344518011461655,
          1.5444219918067046,
          1.3152358849771664,
          0.6700000000000004,
          0,
          0.37999999999999967,
          0.2899999999999998,
          1.01079176886241,
          2.580949437706985,
          0.4624975675611713,
          0.25,
          0.12806248474865706,
          0.3719999999999999,
          0.3794944004856991,
          0.7587779648882804,
          1.1718361660232202,
          1.46,
          2.010016592128235,
          1.8513574055815487,
          1.81,
          0.47999999999999976,
          1.388,
          0.4200000000000004,
          0,
          0,
          0,
          0,
          0,
          0,
          0,
          0.2560000000000002,
          0,
          0,
          0
         ],
         "yaxis": "y"
        },
        {
         "hovertemplate": "Pacjent=104<br>BADANIE_NR=%{x}<br>euclidean_kw=%{y}<extra></extra>",
         "legendgroup": "104",
         "line": {
          "color": "#FECB52",
          "dash": "solid"
         },
         "marker": {
          "symbol": "circle"
         },
         "mode": "lines",
         "name": "104",
         "showlegend": true,
         "type": "scattergl",
         "x": [
          1,
          2,
          3,
          4,
          5,
          6,
          7,
          8,
          9,
          10,
          11,
          12,
          13,
          14,
          15,
          16,
          17,
          18,
          19,
          20,
          21,
          22,
          23,
          24,
          25,
          26,
          27,
          28,
          29,
          30,
          31,
          32,
          33,
          34,
          35,
          36,
          37,
          38
         ],
         "xaxis": "x",
         "y": [
          0.8362089864598726,
          1.672649680448065,
          1.97076743223392,
          0,
          0.3200000000000005,
          0,
          1.1,
          0.8400000000000001,
          0.6799999999999995,
          1.1,
          0.07280109889280567,
          0.1399999999999999,
          0.555442166206348,
          0,
          0.5654166605256692,
          0.37999999999999967,
          0.8300000000000001,
          0.06000000000000005,
          0,
          0.8800477259785404,
          1.0938903052865947,
          0.6537920158582542,
          0.18,
          0,
          0,
          0.48999999999999977,
          0,
          0,
          0.3439999999999997,
          0,
          0.22999999999999976,
          0.23883885781003042,
          0.43999999999999995,
          0.5100000000000002,
          0.8700000000000003,
          0.7299999999999998,
          0.8600000000000001,
          0.37000000000000033
         ],
         "yaxis": "y"
        },
        {
         "hovertemplate": "Pacjent=107<br>BADANIE_NR=%{x}<br>euclidean_kw=%{y}<extra></extra>",
         "legendgroup": "107",
         "line": {
          "color": "#636efa",
          "dash": "solid"
         },
         "marker": {
          "symbol": "circle"
         },
         "mode": "lines",
         "name": "107",
         "showlegend": true,
         "type": "scattergl",
         "x": [
          1,
          2,
          3,
          4,
          5,
          6,
          7,
          8,
          9,
          10,
          11,
          12,
          13,
          14,
          15,
          16,
          17,
          18,
          19,
          20,
          21,
          22,
          23,
          24,
          25,
          26,
          27
         ],
         "xaxis": "x",
         "y": [
          0.7119999999999999,
          0.1319999999999999,
          1.068,
          0.74,
          0,
          0.5200000000000002,
          0.0700000000000005,
          0.5399999999999998,
          0,
          0,
          0,
          0,
          0.1360000000000002,
          0.1119999999999998,
          0,
          0,
          0,
          0,
          0.5919999999999999,
          0.0039999999999997,
          0.3299999999999996,
          0,
          0.4299999999999995,
          0,
          0.3400000000000001,
          0.12999999999999967,
          1.192
         ],
         "yaxis": "y"
        },
        {
         "hovertemplate": "Pacjent=108<br>BADANIE_NR=%{x}<br>euclidean_kw=%{y}<extra></extra>",
         "legendgroup": "108",
         "line": {
          "color": "#EF553B",
          "dash": "solid"
         },
         "marker": {
          "symbol": "circle"
         },
         "mode": "lines",
         "name": "108",
         "showlegend": true,
         "type": "scattergl",
         "x": [
          1,
          2,
          3,
          4,
          5,
          6,
          7,
          8,
          9,
          10,
          11,
          12,
          13,
          14,
          15,
          16,
          17,
          18,
          19,
          20,
          21,
          22,
          23,
          24,
          25,
          26,
          27,
          28,
          29,
          30,
          31,
          32,
          33,
          34,
          35,
          36,
          37,
          38,
          39,
          40,
          41,
          42,
          43,
          44,
          45,
          46,
          47
         ],
         "xaxis": "x",
         "y": [
          0.1799999999999995,
          0.10000000000000009,
          0.26000000000000023,
          0.55,
          0.6000000000000001,
          1.3200000000000003,
          1.2799999999999998,
          0.3299999999999996,
          0.5,
          0.4600000000000002,
          0.6100000000000001,
          0.22999999999999976,
          0.3600000000000001,
          0.3500000000000001,
          0.31000000000000005,
          0.81,
          0.56,
          0.5100000000000002,
          0,
          0,
          0,
          0,
          0,
          0,
          0,
          0,
          0,
          0,
          0,
          0,
          0,
          0,
          0,
          0,
          0,
          0,
          0,
          0,
          0,
          0,
          0,
          0,
          0.46,
          0,
          0,
          0,
          0
         ],
         "yaxis": "y"
        },
        {
         "hovertemplate": "Pacjent=109<br>BADANIE_NR=%{x}<br>euclidean_kw=%{y}<extra></extra>",
         "legendgroup": "109",
         "line": {
          "color": "#00cc96",
          "dash": "solid"
         },
         "marker": {
          "symbol": "circle"
         },
         "mode": "lines",
         "name": "109",
         "showlegend": true,
         "type": "scattergl",
         "x": [
          1,
          2,
          3,
          4,
          5,
          6,
          7,
          8,
          9,
          10,
          11,
          12,
          13,
          14,
          15,
          16,
          17,
          18,
          19,
          20,
          21,
          22,
          23,
          24,
          25,
          26,
          27,
          28
         ],
         "xaxis": "x",
         "y": [
          0.3080000000000001,
          1.0673406204206788,
          1.2701370962229404,
          0.8067730167964248,
          0.95,
          1.2799999999999998,
          1.7700000000000005,
          1.6960672156491914,
          2.997769837729374,
          2.8431144894288023,
          3.313927579172484,
          3.018505590519918,
          3.2746547909665225,
          3.6270737516626266,
          2.8787837709699557,
          1.5499999999999998,
          1.71,
          2.3400000000000007,
          1.1800000000000002,
          1.3200000000000003,
          0.99,
          1.0700000000000003,
          1.31,
          1.46,
          0.7299999999999998,
          1.13,
          0.7600000000000002,
          0.8600000000000001
         ],
         "yaxis": "y"
        },
        {
         "hovertemplate": "Pacjent=110<br>BADANIE_NR=%{x}<br>euclidean_kw=%{y}<extra></extra>",
         "legendgroup": "110",
         "line": {
          "color": "#ab63fa",
          "dash": "solid"
         },
         "marker": {
          "symbol": "circle"
         },
         "mode": "lines",
         "name": "110",
         "showlegend": true,
         "type": "scattergl",
         "x": [
          1,
          2,
          3,
          4,
          5,
          6,
          7,
          8,
          9,
          10,
          11,
          12,
          13,
          14,
          15,
          16,
          17,
          18,
          19,
          20,
          21,
          22,
          23,
          24,
          25,
          26,
          27,
          28,
          29,
          30,
          31,
          32,
          33,
          34,
          35,
          36,
          37,
          38,
          39,
          40,
          41,
          42,
          43,
          44,
          45,
          46,
          47,
          48,
          49,
          50,
          51,
          52,
          53,
          54,
          55,
          56,
          57
         ],
         "xaxis": "x",
         "y": [
          1.4239185205172389,
          2.460003570185321,
          1.8896330495960614,
          2.2243388567894913,
          1.1044242111253275,
          1.3647243394229307,
          1.8625601426251865,
          0.955770613546663,
          0.9638838023429936,
          2.082743602721178,
          0,
          0.98,
          1.7556184095639917,
          0,
          1.04,
          0,
          2.3120865035720444,
          1.1800000000000002,
          1.1516179922179057,
          1.0499999999999998,
          0.23999999999999977,
          0.5200000000000002,
          0.26000000000000023,
          0.25,
          0.17000000000000037,
          0,
          0,
          0,
          0.7399999999999998,
          0,
          0,
          0,
          0,
          0.9602083107326241,
          0,
          0,
          0,
          0,
          0,
          0,
          0,
          0,
          0,
          0,
          0.7799999999999998,
          0.1799999999999995,
          0.18999999999999995,
          0,
          0,
          0.029999999999999805,
          0.10000000000000009,
          0,
          0,
          0,
          0,
          0.1100000000000001,
          0.10000000000000009
         ],
         "yaxis": "y"
        },
        {
         "hovertemplate": "Pacjent=114<br>BADANIE_NR=%{x}<br>euclidean_kw=%{y}<extra></extra>",
         "legendgroup": "114",
         "line": {
          "color": "#FFA15A",
          "dash": "solid"
         },
         "marker": {
          "symbol": "circle"
         },
         "mode": "lines",
         "name": "114",
         "showlegend": true,
         "type": "scattergl",
         "x": [
          1,
          2,
          3,
          4,
          5,
          6,
          7,
          8,
          9,
          10,
          11,
          12,
          13,
          14,
          15,
          16,
          17,
          18
         ],
         "xaxis": "x",
         "y": [
          0,
          0,
          0,
          0,
          0.8440000000000001,
          0,
          0,
          0,
          0,
          0,
          0,
          0,
          0,
          0,
          0,
          0,
          0,
          0
         ],
         "yaxis": "y"
        },
        {
         "hovertemplate": "Pacjent=118<br>BADANIE_NR=%{x}<br>euclidean_kw=%{y}<extra></extra>",
         "legendgroup": "118",
         "line": {
          "color": "#19d3f3",
          "dash": "solid"
         },
         "marker": {
          "symbol": "circle"
         },
         "mode": "lines",
         "name": "118",
         "showlegend": true,
         "type": "scattergl",
         "x": [
          1,
          2,
          3,
          4,
          5,
          6,
          7,
          8,
          9,
          10,
          11,
          12,
          13,
          14,
          15,
          16,
          17,
          18,
          19,
          20,
          21,
          22,
          23,
          24,
          25,
          26,
          27,
          28,
          29,
          30,
          31,
          32,
          33,
          34,
          35,
          36,
          37,
          38,
          39,
          40,
          41
         ],
         "xaxis": "x",
         "y": [
          2.254318217507108,
          1.318585903811182,
          0.5409508520828865,
          0.13352516275554302,
          0.9790972955062451,
          0.12000000000000033,
          0.25,
          0.48999999999999977,
          0.0700000000000005,
          0.26000000000000023,
          0.1100000000000001,
          0.8700000000000003,
          0.1100000000000001,
          0.23999999999999977,
          0,
          0.2562888994864973,
          1.4489996549343966,
          0.0560000000000002,
          0.5200000000000002,
          0.3008321791298263,
          0.43999999999999995,
          0,
          0,
          0,
          0.25,
          0,
          0,
          0,
          0.09372299611087974,
          0,
          0,
          0.039999999999999813,
          0.18999999999999995,
          0.039999999999999813,
          0,
          0,
          0.5200000000000002,
          0,
          0,
          0,
          0
         ],
         "yaxis": "y"
        },
        {
         "hovertemplate": "Pacjent=124<br>BADANIE_NR=%{x}<br>euclidean_kw=%{y}<extra></extra>",
         "legendgroup": "124",
         "line": {
          "color": "#FF6692",
          "dash": "solid"
         },
         "marker": {
          "symbol": "circle"
         },
         "mode": "lines",
         "name": "124",
         "showlegend": true,
         "type": "scattergl",
         "x": [
          1,
          2,
          3,
          4,
          5,
          6,
          7,
          8,
          9
         ],
         "xaxis": "x",
         "y": [
          0,
          0,
          0,
          0,
          0,
          0,
          0,
          0,
          1.6124962015459139
         ],
         "yaxis": "y"
        },
        {
         "hovertemplate": "Pacjent=132<br>BADANIE_NR=%{x}<br>euclidean_kw=%{y}<extra></extra>",
         "legendgroup": "132",
         "line": {
          "color": "#B6E880",
          "dash": "solid"
         },
         "marker": {
          "symbol": "circle"
         },
         "mode": "lines",
         "name": "132",
         "showlegend": true,
         "type": "scattergl",
         "x": [
          1,
          2,
          3,
          4,
          5,
          6,
          7,
          8,
          9,
          10,
          11,
          12,
          13
         ],
         "xaxis": "x",
         "y": [
          0,
          0,
          0.4319999999999999,
          0,
          0,
          0,
          0,
          0,
          0,
          0,
          0,
          0,
          0
         ],
         "yaxis": "y"
        },
        {
         "hovertemplate": "Pacjent=133<br>BADANIE_NR=%{x}<br>euclidean_kw=%{y}<extra></extra>",
         "legendgroup": "133",
         "line": {
          "color": "#FF97FF",
          "dash": "solid"
         },
         "marker": {
          "symbol": "circle"
         },
         "mode": "lines",
         "name": "133",
         "showlegend": true,
         "type": "scattergl",
         "x": [
          1,
          2,
          3,
          4,
          5,
          6,
          7,
          8,
          9,
          10,
          11,
          12,
          13,
          14,
          15,
          16,
          17,
          18,
          19,
          20,
          21,
          22,
          23,
          24,
          25,
          26,
          27
         ],
         "xaxis": "x",
         "y": [
          0.2725394998525746,
          0.1665938031428822,
          0,
          0,
          0.3299999999999996,
          0.1499999999999999,
          0.47999999999999976,
          0.9331002089807933,
          0.8500000000000001,
          0.6499999999999999,
          0.5,
          0.5200000000000002,
          0.12000000000000033,
          0.3299999999999996,
          0,
          1.356,
          0,
          0,
          0,
          0,
          0,
          0,
          0,
          0,
          0.0919999999999998,
          0,
          0.5869565217391305
         ],
         "yaxis": "y"
        },
        {
         "hovertemplate": "Pacjent=139<br>BADANIE_NR=%{x}<br>euclidean_kw=%{y}<extra></extra>",
         "legendgroup": "139",
         "line": {
          "color": "#FECB52",
          "dash": "solid"
         },
         "marker": {
          "symbol": "circle"
         },
         "mode": "lines",
         "name": "139",
         "showlegend": true,
         "type": "scattergl",
         "x": [
          1,
          2,
          3,
          4,
          5,
          6,
          7,
          8,
          9,
          10,
          11,
          12,
          13,
          14,
          15,
          16,
          17,
          18,
          19,
          20,
          21,
          22,
          23,
          24,
          25,
          26,
          27,
          28,
          29,
          30,
          31,
          32
         ],
         "xaxis": "x",
         "y": [
          0.6811414201043093,
          1.322635582298523,
          0.7399999999999998,
          0.23999999999999977,
          0,
          0.4938177801578228,
          0.6200000000000003,
          0.6200000000000003,
          2.28,
          1.8200000000000003,
          2.18,
          1.6700000000000004,
          2.28,
          1.71,
          1.7700000000000005,
          1.97423,
          1.4799999999999995,
          0.3400000000000001,
          1.0200000000000005,
          1.4926767901994058,
          1.7000000000000002,
          1.6600000000000001,
          1.54,
          1.5899999999999999,
          0.30000000000000004,
          0.3899999999999999,
          0.1039999999999997,
          1.1096684189432444,
          0.856646951783522,
          1.1931822995670027,
          1.7400000000000002,
          1.4828567024497001
         ],
         "yaxis": "y"
        },
        {
         "hovertemplate": "Pacjent=142<br>BADANIE_NR=%{x}<br>euclidean_kw=%{y}<extra></extra>",
         "legendgroup": "142",
         "line": {
          "color": "#636efa",
          "dash": "solid"
         },
         "marker": {
          "symbol": "circle"
         },
         "mode": "lines",
         "name": "142",
         "showlegend": true,
         "type": "scattergl",
         "x": [
          1,
          2,
          3,
          4,
          5,
          6,
          7,
          8,
          9,
          10,
          11,
          12,
          13,
          14,
          15,
          16,
          17,
          18,
          19,
          20,
          21
         ],
         "xaxis": "x",
         "y": [
          1.1677707134666844,
          1.4283103406710795,
          2.4261150607782778,
          2.4472185185246293,
          2.231654751127203,
          2.3751242397619063,
          1.8065536249998226,
          1.56,
          2.3783350385762745,
          2.41,
          1.7999999999999998,
          1.54,
          0.8999999999999999,
          1.6,
          2.67,
          2.1219952874594235,
          3.159810120877519,
          5.283519540697385,
          2,
          3.030907081187729,
          2.2807990782662775
         ],
         "yaxis": "y"
        },
        {
         "hovertemplate": "Pacjent=144<br>BADANIE_NR=%{x}<br>euclidean_kw=%{y}<extra></extra>",
         "legendgroup": "144",
         "line": {
          "color": "#EF553B",
          "dash": "solid"
         },
         "marker": {
          "symbol": "circle"
         },
         "mode": "lines",
         "name": "144",
         "showlegend": true,
         "type": "scattergl",
         "x": [
          1,
          2,
          3,
          4,
          5,
          6,
          7,
          8,
          9,
          10,
          11
         ],
         "xaxis": "x",
         "y": [
          5.440377079592443,
          2.16424921573069,
          2.7247046832458977,
          4.87229480461989,
          3.8563245230319176,
          3.394849321695602,
          3.481415801613601,
          3.1071255738794306,
          3.599267485095812,
          2.5946854589970334,
          2.43
         ],
         "yaxis": "y"
        }
       ],
       "layout": {
        "height": 800,
        "legend": {
         "title": {
          "text": "Pacjent"
         },
         "tracegroupgap": 0
        },
        "margin": {
         "t": 60
        },
        "showlegend": false,
        "template": {
         "data": {
          "bar": [
           {
            "error_x": {
             "color": "#2a3f5f"
            },
            "error_y": {
             "color": "#2a3f5f"
            },
            "marker": {
             "line": {
              "color": "white",
              "width": 0.5
             },
             "pattern": {
              "fillmode": "overlay",
              "size": 10,
              "solidity": 0.2
             }
            },
            "type": "bar"
           }
          ],
          "barpolar": [
           {
            "marker": {
             "line": {
              "color": "white",
              "width": 0.5
             },
             "pattern": {
              "fillmode": "overlay",
              "size": 10,
              "solidity": 0.2
             }
            },
            "type": "barpolar"
           }
          ],
          "carpet": [
           {
            "aaxis": {
             "endlinecolor": "#2a3f5f",
             "gridcolor": "#C8D4E3",
             "linecolor": "#C8D4E3",
             "minorgridcolor": "#C8D4E3",
             "startlinecolor": "#2a3f5f"
            },
            "baxis": {
             "endlinecolor": "#2a3f5f",
             "gridcolor": "#C8D4E3",
             "linecolor": "#C8D4E3",
             "minorgridcolor": "#C8D4E3",
             "startlinecolor": "#2a3f5f"
            },
            "type": "carpet"
           }
          ],
          "choropleth": [
           {
            "colorbar": {
             "outlinewidth": 0,
             "ticks": ""
            },
            "type": "choropleth"
           }
          ],
          "contour": [
           {
            "colorbar": {
             "outlinewidth": 0,
             "ticks": ""
            },
            "colorscale": [
             [
              0,
              "#0d0887"
             ],
             [
              0.1111111111111111,
              "#46039f"
             ],
             [
              0.2222222222222222,
              "#7201a8"
             ],
             [
              0.3333333333333333,
              "#9c179e"
             ],
             [
              0.4444444444444444,
              "#bd3786"
             ],
             [
              0.5555555555555556,
              "#d8576b"
             ],
             [
              0.6666666666666666,
              "#ed7953"
             ],
             [
              0.7777777777777778,
              "#fb9f3a"
             ],
             [
              0.8888888888888888,
              "#fdca26"
             ],
             [
              1,
              "#f0f921"
             ]
            ],
            "type": "contour"
           }
          ],
          "contourcarpet": [
           {
            "colorbar": {
             "outlinewidth": 0,
             "ticks": ""
            },
            "type": "contourcarpet"
           }
          ],
          "heatmap": [
           {
            "colorbar": {
             "outlinewidth": 0,
             "ticks": ""
            },
            "colorscale": [
             [
              0,
              "#0d0887"
             ],
             [
              0.1111111111111111,
              "#46039f"
             ],
             [
              0.2222222222222222,
              "#7201a8"
             ],
             [
              0.3333333333333333,
              "#9c179e"
             ],
             [
              0.4444444444444444,
              "#bd3786"
             ],
             [
              0.5555555555555556,
              "#d8576b"
             ],
             [
              0.6666666666666666,
              "#ed7953"
             ],
             [
              0.7777777777777778,
              "#fb9f3a"
             ],
             [
              0.8888888888888888,
              "#fdca26"
             ],
             [
              1,
              "#f0f921"
             ]
            ],
            "type": "heatmap"
           }
          ],
          "heatmapgl": [
           {
            "colorbar": {
             "outlinewidth": 0,
             "ticks": ""
            },
            "colorscale": [
             [
              0,
              "#0d0887"
             ],
             [
              0.1111111111111111,
              "#46039f"
             ],
             [
              0.2222222222222222,
              "#7201a8"
             ],
             [
              0.3333333333333333,
              "#9c179e"
             ],
             [
              0.4444444444444444,
              "#bd3786"
             ],
             [
              0.5555555555555556,
              "#d8576b"
             ],
             [
              0.6666666666666666,
              "#ed7953"
             ],
             [
              0.7777777777777778,
              "#fb9f3a"
             ],
             [
              0.8888888888888888,
              "#fdca26"
             ],
             [
              1,
              "#f0f921"
             ]
            ],
            "type": "heatmapgl"
           }
          ],
          "histogram": [
           {
            "marker": {
             "pattern": {
              "fillmode": "overlay",
              "size": 10,
              "solidity": 0.2
             }
            },
            "type": "histogram"
           }
          ],
          "histogram2d": [
           {
            "colorbar": {
             "outlinewidth": 0,
             "ticks": ""
            },
            "colorscale": [
             [
              0,
              "#0d0887"
             ],
             [
              0.1111111111111111,
              "#46039f"
             ],
             [
              0.2222222222222222,
              "#7201a8"
             ],
             [
              0.3333333333333333,
              "#9c179e"
             ],
             [
              0.4444444444444444,
              "#bd3786"
             ],
             [
              0.5555555555555556,
              "#d8576b"
             ],
             [
              0.6666666666666666,
              "#ed7953"
             ],
             [
              0.7777777777777778,
              "#fb9f3a"
             ],
             [
              0.8888888888888888,
              "#fdca26"
             ],
             [
              1,
              "#f0f921"
             ]
            ],
            "type": "histogram2d"
           }
          ],
          "histogram2dcontour": [
           {
            "colorbar": {
             "outlinewidth": 0,
             "ticks": ""
            },
            "colorscale": [
             [
              0,
              "#0d0887"
             ],
             [
              0.1111111111111111,
              "#46039f"
             ],
             [
              0.2222222222222222,
              "#7201a8"
             ],
             [
              0.3333333333333333,
              "#9c179e"
             ],
             [
              0.4444444444444444,
              "#bd3786"
             ],
             [
              0.5555555555555556,
              "#d8576b"
             ],
             [
              0.6666666666666666,
              "#ed7953"
             ],
             [
              0.7777777777777778,
              "#fb9f3a"
             ],
             [
              0.8888888888888888,
              "#fdca26"
             ],
             [
              1,
              "#f0f921"
             ]
            ],
            "type": "histogram2dcontour"
           }
          ],
          "mesh3d": [
           {
            "colorbar": {
             "outlinewidth": 0,
             "ticks": ""
            },
            "type": "mesh3d"
           }
          ],
          "parcoords": [
           {
            "line": {
             "colorbar": {
              "outlinewidth": 0,
              "ticks": ""
             }
            },
            "type": "parcoords"
           }
          ],
          "pie": [
           {
            "automargin": true,
            "type": "pie"
           }
          ],
          "scatter": [
           {
            "marker": {
             "colorbar": {
              "outlinewidth": 0,
              "ticks": ""
             }
            },
            "type": "scatter"
           }
          ],
          "scatter3d": [
           {
            "line": {
             "colorbar": {
              "outlinewidth": 0,
              "ticks": ""
             }
            },
            "marker": {
             "colorbar": {
              "outlinewidth": 0,
              "ticks": ""
             }
            },
            "type": "scatter3d"
           }
          ],
          "scattercarpet": [
           {
            "marker": {
             "colorbar": {
              "outlinewidth": 0,
              "ticks": ""
             }
            },
            "type": "scattercarpet"
           }
          ],
          "scattergeo": [
           {
            "marker": {
             "colorbar": {
              "outlinewidth": 0,
              "ticks": ""
             }
            },
            "type": "scattergeo"
           }
          ],
          "scattergl": [
           {
            "marker": {
             "colorbar": {
              "outlinewidth": 0,
              "ticks": ""
             }
            },
            "type": "scattergl"
           }
          ],
          "scattermapbox": [
           {
            "marker": {
             "colorbar": {
              "outlinewidth": 0,
              "ticks": ""
             }
            },
            "type": "scattermapbox"
           }
          ],
          "scatterpolar": [
           {
            "marker": {
             "colorbar": {
              "outlinewidth": 0,
              "ticks": ""
             }
            },
            "type": "scatterpolar"
           }
          ],
          "scatterpolargl": [
           {
            "marker": {
             "colorbar": {
              "outlinewidth": 0,
              "ticks": ""
             }
            },
            "type": "scatterpolargl"
           }
          ],
          "scatterternary": [
           {
            "marker": {
             "colorbar": {
              "outlinewidth": 0,
              "ticks": ""
             }
            },
            "type": "scatterternary"
           }
          ],
          "surface": [
           {
            "colorbar": {
             "outlinewidth": 0,
             "ticks": ""
            },
            "colorscale": [
             [
              0,
              "#0d0887"
             ],
             [
              0.1111111111111111,
              "#46039f"
             ],
             [
              0.2222222222222222,
              "#7201a8"
             ],
             [
              0.3333333333333333,
              "#9c179e"
             ],
             [
              0.4444444444444444,
              "#bd3786"
             ],
             [
              0.5555555555555556,
              "#d8576b"
             ],
             [
              0.6666666666666666,
              "#ed7953"
             ],
             [
              0.7777777777777778,
              "#fb9f3a"
             ],
             [
              0.8888888888888888,
              "#fdca26"
             ],
             [
              1,
              "#f0f921"
             ]
            ],
            "type": "surface"
           }
          ],
          "table": [
           {
            "cells": {
             "fill": {
              "color": "#EBF0F8"
             },
             "line": {
              "color": "white"
             }
            },
            "header": {
             "fill": {
              "color": "#C8D4E3"
             },
             "line": {
              "color": "white"
             }
            },
            "type": "table"
           }
          ]
         },
         "layout": {
          "annotationdefaults": {
           "arrowcolor": "#2a3f5f",
           "arrowhead": 0,
           "arrowwidth": 1
          },
          "autotypenumbers": "strict",
          "coloraxis": {
           "colorbar": {
            "outlinewidth": 0,
            "ticks": ""
           }
          },
          "colorscale": {
           "diverging": [
            [
             0,
             "#8e0152"
            ],
            [
             0.1,
             "#c51b7d"
            ],
            [
             0.2,
             "#de77ae"
            ],
            [
             0.3,
             "#f1b6da"
            ],
            [
             0.4,
             "#fde0ef"
            ],
            [
             0.5,
             "#f7f7f7"
            ],
            [
             0.6,
             "#e6f5d0"
            ],
            [
             0.7,
             "#b8e186"
            ],
            [
             0.8,
             "#7fbc41"
            ],
            [
             0.9,
             "#4d9221"
            ],
            [
             1,
             "#276419"
            ]
           ],
           "sequential": [
            [
             0,
             "#0d0887"
            ],
            [
             0.1111111111111111,
             "#46039f"
            ],
            [
             0.2222222222222222,
             "#7201a8"
            ],
            [
             0.3333333333333333,
             "#9c179e"
            ],
            [
             0.4444444444444444,
             "#bd3786"
            ],
            [
             0.5555555555555556,
             "#d8576b"
            ],
            [
             0.6666666666666666,
             "#ed7953"
            ],
            [
             0.7777777777777778,
             "#fb9f3a"
            ],
            [
             0.8888888888888888,
             "#fdca26"
            ],
            [
             1,
             "#f0f921"
            ]
           ],
           "sequentialminus": [
            [
             0,
             "#0d0887"
            ],
            [
             0.1111111111111111,
             "#46039f"
            ],
            [
             0.2222222222222222,
             "#7201a8"
            ],
            [
             0.3333333333333333,
             "#9c179e"
            ],
            [
             0.4444444444444444,
             "#bd3786"
            ],
            [
             0.5555555555555556,
             "#d8576b"
            ],
            [
             0.6666666666666666,
             "#ed7953"
            ],
            [
             0.7777777777777778,
             "#fb9f3a"
            ],
            [
             0.8888888888888888,
             "#fdca26"
            ],
            [
             1,
             "#f0f921"
            ]
           ]
          },
          "colorway": [
           "#636efa",
           "#EF553B",
           "#00cc96",
           "#ab63fa",
           "#FFA15A",
           "#19d3f3",
           "#FF6692",
           "#B6E880",
           "#FF97FF",
           "#FECB52"
          ],
          "font": {
           "color": "#2a3f5f"
          },
          "geo": {
           "bgcolor": "white",
           "lakecolor": "white",
           "landcolor": "white",
           "showlakes": true,
           "showland": true,
           "subunitcolor": "#C8D4E3"
          },
          "hoverlabel": {
           "align": "left"
          },
          "hovermode": "closest",
          "mapbox": {
           "style": "light"
          },
          "paper_bgcolor": "white",
          "plot_bgcolor": "white",
          "polar": {
           "angularaxis": {
            "gridcolor": "#EBF0F8",
            "linecolor": "#EBF0F8",
            "ticks": ""
           },
           "bgcolor": "white",
           "radialaxis": {
            "gridcolor": "#EBF0F8",
            "linecolor": "#EBF0F8",
            "ticks": ""
           }
          },
          "scene": {
           "xaxis": {
            "backgroundcolor": "white",
            "gridcolor": "#DFE8F3",
            "gridwidth": 2,
            "linecolor": "#EBF0F8",
            "showbackground": true,
            "ticks": "",
            "zerolinecolor": "#EBF0F8"
           },
           "yaxis": {
            "backgroundcolor": "white",
            "gridcolor": "#DFE8F3",
            "gridwidth": 2,
            "linecolor": "#EBF0F8",
            "showbackground": true,
            "ticks": "",
            "zerolinecolor": "#EBF0F8"
           },
           "zaxis": {
            "backgroundcolor": "white",
            "gridcolor": "#DFE8F3",
            "gridwidth": 2,
            "linecolor": "#EBF0F8",
            "showbackground": true,
            "ticks": "",
            "zerolinecolor": "#EBF0F8"
           }
          },
          "shapedefaults": {
           "line": {
            "color": "#2a3f5f"
           }
          },
          "ternary": {
           "aaxis": {
            "gridcolor": "#DFE8F3",
            "linecolor": "#A2B1C6",
            "ticks": ""
           },
           "baxis": {
            "gridcolor": "#DFE8F3",
            "linecolor": "#A2B1C6",
            "ticks": ""
           },
           "bgcolor": "white",
           "caxis": {
            "gridcolor": "#DFE8F3",
            "linecolor": "#A2B1C6",
            "ticks": ""
           }
          },
          "title": {
           "x": 0.05
          },
          "xaxis": {
           "automargin": true,
           "gridcolor": "#EBF0F8",
           "linecolor": "#EBF0F8",
           "ticks": "",
           "title": {
            "standoff": 15
           },
           "zerolinecolor": "#EBF0F8",
           "zerolinewidth": 2
          },
          "yaxis": {
           "automargin": true,
           "gridcolor": "#EBF0F8",
           "linecolor": "#EBF0F8",
           "ticks": "",
           "title": {
            "standoff": 15
           },
           "zerolinecolor": "#EBF0F8",
           "zerolinewidth": 2
          }
         }
        },
        "width": 800,
        "xaxis": {
         "anchor": "y",
         "domain": [
          0,
          1
         ],
         "range": [
          0,
          65
         ],
         "tickfont": {
          "size": 18
         },
         "title": {
          "font": {
           "size": 20
          },
          "text": "Numer badania"
         }
        },
        "yaxis": {
         "anchor": "x",
         "domain": [
          0,
          1
         ],
         "range": [
          0,
          15
         ],
         "tickfont": {
          "size": 18
         },
         "title": {
          "font": {
           "size": 20
          },
          "text": "Odległość od normy (Miernik 2)"
         }
        }
       }
      }
     },
     "metadata": {},
     "output_type": "display_data"
    },
    {
     "data": {
      "application/vnd.plotly.v1+json": {
       "config": {
        "plotlyServerURL": "https://plot.ly"
       },
       "data": [
        {
         "hovertemplate": "Pacjent=7<br>BADANIE_NR=%{x}<br>euclidean_kw=%{y}<extra></extra>",
         "legendgroup": "7",
         "line": {
          "color": "#636efa",
          "dash": "solid"
         },
         "marker": {
          "symbol": "circle"
         },
         "mode": "lines",
         "name": "7",
         "showlegend": true,
         "type": "scattergl",
         "x": [
          1,
          2,
          3,
          4,
          5,
          6,
          7,
          8,
          9,
          10,
          11,
          12
         ],
         "xaxis": "x",
         "y": [
          0,
          0,
          0,
          0.1439999999999997,
          0.5119999999999999,
          0.6880000000000002,
          1.943005514471829,
          0.3820387862268904,
          1.9806005217007565,
          1.9417814371167703,
          2.4209831857043254,
          0.812246577955012
         ],
         "yaxis": "y"
        },
        {
         "hovertemplate": "Pacjent=11<br>BADANIE_NR=%{x}<br>euclidean_kw=%{y}<extra></extra>",
         "legendgroup": "11",
         "line": {
          "color": "#EF553B",
          "dash": "solid"
         },
         "marker": {
          "symbol": "circle"
         },
         "mode": "lines",
         "name": "11",
         "showlegend": true,
         "type": "scattergl",
         "x": [
          1,
          2,
          3,
          4,
          5,
          6,
          7,
          8,
          9,
          10,
          11,
          12,
          13,
          14,
          15,
          16,
          17
         ],
         "xaxis": "x",
         "y": [
          4.778498800303504,
          7.261697573874208,
          2.420250999492769,
          1.4675926044622238,
          2.46754652578432,
          4.716745216265282,
          3.8853272745035214,
          3.6657541996575826,
          4.100513906342313,
          5.432776032026846,
          5.019895678061548,
          4.5091103796886225,
          3.5856050130927213,
          2.9633209641410865,
          2.572710736100366,
          2.715795609467171,
          8.142501695295962
         ],
         "yaxis": "y"
        },
        {
         "hovertemplate": "Pacjent=12<br>BADANIE_NR=%{x}<br>euclidean_kw=%{y}<extra></extra>",
         "legendgroup": "12",
         "line": {
          "color": "#00cc96",
          "dash": "solid"
         },
         "marker": {
          "symbol": "circle"
         },
         "mode": "lines",
         "name": "12",
         "showlegend": true,
         "type": "scattergl",
         "x": [
          1,
          2,
          3,
          4,
          5,
          6,
          7,
          8,
          9,
          10,
          11,
          12,
          13,
          14,
          15,
          16,
          17,
          18,
          19,
          20,
          21,
          22,
          23,
          24,
          25,
          26,
          27,
          28,
          29,
          30,
          31,
          32,
          33,
          34,
          35,
          36,
          37,
          38,
          39,
          40,
          41,
          42,
          43,
          44,
          45,
          46,
          47,
          48,
          49
         ],
         "xaxis": "x",
         "y": [
          3.5873142444180814,
          5.49449757901107,
          12.113023202257336,
          6.4632695198170715,
          5.679266041463248,
          4.157129200673992,
          2.2205590285489456,
          1.206868595932799,
          0.6319813986793865,
          0.6550301990472241,
          0.9050129031840287,
          0.3405154178229119,
          1.2686230007462374,
          0,
          0.24,
          0.010000000000000231,
          0,
          0,
          0,
          0,
          0,
          0.23999999999999977,
          0.5,
          0.6499999999999999,
          0,
          0.3299999999999996,
          0.17000000000000037,
          0,
          0.1100000000000001,
          0,
          0,
          0,
          0,
          0,
          0,
          0,
          0,
          0.5574025377827961,
          0.5217391304347827,
          0.5217391304347827,
          1.1304347826086958,
          1.4498804912136058,
          1.7173913043478262,
          1.1089610597390787,
          0.7391304347826089,
          0,
          0.8913043478260871,
          0.8913043478260871,
          1.4130670798254348
         ],
         "yaxis": "y"
        },
        {
         "hovertemplate": "Pacjent=21<br>BADANIE_NR=%{x}<br>euclidean_kw=%{y}<extra></extra>",
         "legendgroup": "21",
         "line": {
          "color": "#ab63fa",
          "dash": "solid"
         },
         "marker": {
          "symbol": "circle"
         },
         "mode": "lines",
         "name": "21",
         "showlegend": true,
         "type": "scattergl",
         "x": [
          1,
          2,
          3,
          4,
          5,
          6,
          7,
          8,
          9,
          10,
          11,
          12,
          13,
          14,
          15,
          16,
          17,
          18,
          19,
          20,
          21,
          22,
          23,
          24,
          25,
          26,
          27,
          28,
          29,
          30,
          31,
          32,
          33,
          34,
          35,
          36,
          37,
          38,
          39,
          40,
          41,
          42,
          43,
          44,
          45,
          46,
          47,
          48,
          49,
          50,
          51,
          52,
          53,
          54,
          55,
          56,
          57,
          58,
          59,
          60,
          61,
          62,
          63,
          64
         ],
         "xaxis": "x",
         "y": [
          0.1304347826086956,
          0,
          0,
          0,
          0,
          0,
          0,
          0,
          0,
          1.0719999999999998,
          0,
          0,
          0.52,
          0,
          0,
          1.0811031403154834,
          2.690968172540221,
          2.21708637279182,
          4.143164050849304,
          0.6299999999999997,
          0.3299999999999996,
          1.0299999999999998,
          1.2599999999999998,
          1.0099999999999998,
          0.99,
          0.32,
          3.0118508377800266,
          2.140000000000001,
          2.3599999999999994,
          2.0700000000000003,
          2.1099999999999994,
          1.5499999999999998,
          1.7999999999999998,
          2.1700000000000004,
          2,
          2.87,
          3.933236844622445,
          2.38,
          3.5825350694232827,
          2.1404522886530324,
          1.46,
          4.355591553277223,
          5.373108823256914,
          2.1,
          2.0700000000000003,
          1.9,
          1.13181093827547,
          1.2599999999999998,
          1.659721663412272,
          2.505114767830009,
          1.63,
          1.6100000000000003,
          3.1057035168821856,
          1.69,
          3.5125041640121064,
          3.6895025801103998,
          2.12,
          2.5900000000000007,
          1.79,
          2.01407149823436,
          2.31022163438922,
          2.15,
          3.5073406496011867,
          2.2652009727692484
         ],
         "yaxis": "y"
        },
        {
         "hovertemplate": "Pacjent=22<br>BADANIE_NR=%{x}<br>euclidean_kw=%{y}<extra></extra>",
         "legendgroup": "22",
         "line": {
          "color": "#FFA15A",
          "dash": "solid"
         },
         "marker": {
          "symbol": "circle"
         },
         "mode": "lines",
         "name": "22",
         "showlegend": true,
         "type": "scattergl",
         "x": [
          1,
          2,
          3,
          4,
          5,
          6,
          7,
          8,
          9,
          10,
          11,
          12,
          13,
          14,
          15,
          16,
          17,
          18,
          19,
          20,
          21,
          22,
          23,
          24,
          25,
          26,
          27,
          28,
          29,
          30,
          31,
          32,
          33
         ],
         "xaxis": "x",
         "y": [
          1.6583171020351097,
          2.2002893959806946,
          2.063060630581755,
          1.857436534741706,
          1.5615170338599416,
          0.6100000000000001,
          0.8600000000000001,
          0.7,
          0.30000000000000004,
          0.96,
          0.39131061830724695,
          0.6100000000000001,
          0.96,
          0.8600000000000001,
          1.229308748850345,
          1.01079176886241,
          1.2525174649480941,
          1.2292908524836585,
          1.4500000000000002,
          1.6110805234227996,
          1.7000000000000002,
          0.99,
          0.5568626401546434,
          1.5732819200639154,
          0.9088806302259943,
          0.66,
          1.37,
          1.6606677859360102,
          1.3012055948235082,
          0.9051762259361431,
          0.8544003745317532,
          0.6559999999999999,
          4.341242450553015
         ],
         "yaxis": "y"
        },
        {
         "hovertemplate": "Pacjent=25<br>BADANIE_NR=%{x}<br>euclidean_kw=%{y}<extra></extra>",
         "legendgroup": "25",
         "line": {
          "color": "#19d3f3",
          "dash": "solid"
         },
         "marker": {
          "symbol": "circle"
         },
         "mode": "lines",
         "name": "25",
         "showlegend": true,
         "type": "scattergl",
         "x": [
          1,
          2,
          3,
          4,
          5,
          6,
          7,
          8,
          9,
          10,
          11,
          12,
          13,
          14,
          15,
          16
         ],
         "xaxis": "x",
         "y": [
          0.9165675097885587,
          1.3744735558458774,
          4.150682470307593,
          0.99,
          1.4500000000000002,
          1.54,
          1.08,
          1.6100000000000003,
          0.9228304286270581,
          1.0099999999999998,
          1.29,
          1.5899999999999999,
          1.06,
          0,
          0.6799999999999995,
          0.7100000000000002
         ],
         "yaxis": "y"
        },
        {
         "hovertemplate": "Pacjent=27<br>BADANIE_NR=%{x}<br>euclidean_kw=%{y}<extra></extra>",
         "legendgroup": "27",
         "line": {
          "color": "#FF6692",
          "dash": "solid"
         },
         "marker": {
          "symbol": "circle"
         },
         "mode": "lines",
         "name": "27",
         "showlegend": true,
         "type": "scattergl",
         "x": [
          1,
          2,
          3,
          4,
          5,
          6,
          7,
          8,
          9,
          10,
          11,
          12,
          13,
          14,
          15,
          16,
          17,
          18,
          19,
          20,
          21,
          22,
          23,
          24,
          25,
          26
         ],
         "xaxis": "x",
         "y": [
          1.4824508613394525,
          2.736220719610833,
          2.742773052490562,
          2.724196935663485,
          2.591916266040736,
          1.8898427187270712,
          3.1622393185933384,
          2.65952048558818,
          2.9805596362851396,
          2.9541233469487995,
          2.5815703454970786,
          3.216401457538623,
          2.410795828820972,
          2.625510920952473,
          2.207544244582553,
          2.5980430598107302,
          2.329619747493796,
          1.6298077089647016,
          2.75248513627892,
          2.0020464236213344,
          1.7275638790694825,
          1.1302411402404167,
          0.9025746561765775,
          1.3472362150389077,
          0.867522910360297,
          3.5596611146856842
         ],
         "yaxis": "y"
        },
        {
         "hovertemplate": "Pacjent=30<br>BADANIE_NR=%{x}<br>euclidean_kw=%{y}<extra></extra>",
         "legendgroup": "30",
         "line": {
          "color": "#B6E880",
          "dash": "solid"
         },
         "marker": {
          "symbol": "circle"
         },
         "mode": "lines",
         "name": "30",
         "showlegend": true,
         "type": "scattergl",
         "x": [
          1,
          2,
          3,
          4,
          5,
          6,
          7,
          8,
          9,
          10,
          11,
          12
         ],
         "xaxis": "x",
         "y": [
          3.6038953594805565,
          2.624468607296344,
          3.3704523058504328,
          3.8722762468857983,
          2.039474566334033,
          1.6162057567361656,
          1.0033584113331317,
          2.2582480423408997,
          2.001871797395041,
          1.2235809377981302,
          2.371694988461816,
          2.2143975519801002
         ],
         "yaxis": "y"
        },
        {
         "hovertemplate": "Pacjent=31<br>BADANIE_NR=%{x}<br>euclidean_kw=%{y}<extra></extra>",
         "legendgroup": "31",
         "line": {
          "color": "#FF97FF",
          "dash": "solid"
         },
         "marker": {
          "symbol": "circle"
         },
         "mode": "lines",
         "name": "31",
         "showlegend": true,
         "type": "scattergl",
         "x": [
          1,
          2,
          3,
          4,
          5,
          6,
          7,
          8,
          9,
          10,
          11
         ],
         "xaxis": "x",
         "y": [
          2.08362303592411,
          3.617015687606681,
          2.6779669486953694,
          3.731792681457992,
          3.263443793170054,
          3.3954563081369247,
          2.862377814469763,
          3.8509930317783736,
          4.076489640824878,
          3.6735943755721236,
          4.427938012962445
         ],
         "yaxis": "y"
        },
        {
         "hovertemplate": "Pacjent=32<br>BADANIE_NR=%{x}<br>euclidean_kw=%{y}<extra></extra>",
         "legendgroup": "32",
         "line": {
          "color": "#FECB52",
          "dash": "solid"
         },
         "marker": {
          "symbol": "circle"
         },
         "mode": "lines",
         "name": "32",
         "showlegend": true,
         "type": "scattergl",
         "x": [
          1,
          2,
          3,
          4,
          5,
          6,
          7,
          8,
          9,
          10,
          11,
          12,
          13,
          14,
          15,
          16,
          17,
          18,
          19,
          20,
          21,
          22,
          23,
          24,
          25,
          26,
          27,
          28,
          29,
          30,
          31
         ],
         "xaxis": "x",
         "y": [
          1.7678937928014906,
          2.051937004158814,
          0.6975710153663318,
          1.5535691449118103,
          3.517297041395549,
          3.207427837357465,
          2.0200000000000005,
          2.0634766778425195,
          1.1554202698585485,
          1.558157886736771,
          2.483642881945675,
          2.650834599594258,
          2.15,
          2.3432731315595494,
          2.5125502481329547,
          2.420514010371775,
          2.7754721164220415,
          2.334254799510166,
          2.2553377712941454,
          2.020916827154554,
          2.8304688624316476,
          2.1724310797071373,
          2.7553867356961237,
          1.9359066902438944,
          1.9061079884699508,
          2.0336298709943,
          2.5235017448618264,
          2.50325429220367,
          2.0581855764223627,
          2.116884028885482,
          2.4004631225893958
         ],
         "yaxis": "y"
        },
        {
         "hovertemplate": "Pacjent=36<br>BADANIE_NR=%{x}<br>euclidean_kw=%{y}<extra></extra>",
         "legendgroup": "36",
         "line": {
          "color": "#636efa",
          "dash": "solid"
         },
         "marker": {
          "symbol": "circle"
         },
         "mode": "lines",
         "name": "36",
         "showlegend": true,
         "type": "scattergl",
         "x": [
          1,
          2,
          3,
          4,
          5,
          6,
          7,
          8
         ],
         "xaxis": "x",
         "y": [
          2.11236891346216,
          5.035456696847448,
          3.458493709251343,
          3.170615422611522,
          5.431118723211893,
          5.346198480780658,
          4.787583560243843,
          4.777804333021406
         ],
         "yaxis": "y"
        },
        {
         "hovertemplate": "Pacjent=37<br>BADANIE_NR=%{x}<br>euclidean_kw=%{y}<extra></extra>",
         "legendgroup": "37",
         "line": {
          "color": "#EF553B",
          "dash": "solid"
         },
         "marker": {
          "symbol": "circle"
         },
         "mode": "lines",
         "name": "37",
         "showlegend": true,
         "type": "scattergl",
         "x": [
          1,
          2,
          3,
          4,
          5,
          6,
          7,
          8,
          9,
          10,
          11,
          12,
          13,
          14,
          15,
          16,
          17,
          18,
          19,
          20,
          21,
          22,
          23,
          24,
          25,
          26,
          27,
          28,
          29,
          30,
          31,
          32,
          33,
          34,
          35,
          36,
          37,
          38,
          39,
          40,
          41,
          42,
          43,
          44,
          45,
          46,
          47,
          48,
          49,
          50,
          51
         ],
         "xaxis": "x",
         "y": [
          6.838781644650086,
          3.6830118570136157,
          3.0616217585321572,
          3.4618346918302465,
          2.025904086416061,
          2.3869553829093664,
          2.036663938896155,
          2.1542010038618535,
          2.2700000000000005,
          1.56,
          1.601624175641714,
          1.1674861883551344,
          1.13,
          1.1552056094046634,
          1.2799999999999998,
          0.8605230967266367,
          0.988445243804633,
          0.6917253790341945,
          0.6657597164142633,
          1.02,
          1.3359401184184865,
          2.3400000000000007,
          2.700063786830282,
          1.8600000000000003,
          1.597248884801614,
          1.3399999999999999,
          1.347826086956522,
          1.83,
          1.742697908416717,
          1.88,
          2.8622012507858354,
          2.0237628319543766,
          1.88,
          2.5,
          2.3500034042528535,
          2.36021693918165,
          1.9599999999999995,
          0.8967586074301156,
          2.96,
          2.31,
          3.2140317359976396,
          2.874175359994585,
          3.3879527741690856,
          5.010916925995729,
          4.5827432832311255,
          6.0815798349311585,
          3.294191858407763,
          4.987528817596026,
          3.9189697625779147,
          2.535536235197597,
          3.7414435716712346
         ],
         "yaxis": "y"
        },
        {
         "hovertemplate": "Pacjent=42<br>BADANIE_NR=%{x}<br>euclidean_kw=%{y}<extra></extra>",
         "legendgroup": "42",
         "line": {
          "color": "#00cc96",
          "dash": "solid"
         },
         "marker": {
          "symbol": "circle"
         },
         "mode": "lines",
         "name": "42",
         "showlegend": true,
         "type": "scattergl",
         "x": [
          1,
          2,
          3,
          4,
          5,
          6,
          7,
          8,
          9,
          10,
          11,
          12,
          13,
          14,
          15,
          16,
          17,
          18,
          19
         ],
         "xaxis": "x",
         "y": [
          1.3921685569888367,
          0.6784610942249278,
          1.0067644549699328,
          1.6462211130562026,
          1.4022749625627202,
          1.6007773344241387,
          1.6,
          1.7000000000000002,
          2.4331520645222513,
          1.65,
          0.8300000000000001,
          0.8600000000000001,
          0.4719999999999998,
          1.6265601984403015,
          0,
          0,
          1.4100000000000001,
          1.4700000000000002,
          1.88
         ],
         "yaxis": "y"
        },
        {
         "hovertemplate": "Pacjent=48<br>BADANIE_NR=%{x}<br>euclidean_kw=%{y}<extra></extra>",
         "legendgroup": "48",
         "line": {
          "color": "#ab63fa",
          "dash": "solid"
         },
         "marker": {
          "symbol": "circle"
         },
         "mode": "lines",
         "name": "48",
         "showlegend": true,
         "type": "scattergl",
         "x": [
          1,
          2,
          3,
          4,
          5,
          6,
          7,
          8,
          9,
          10,
          11,
          12,
          13,
          14,
          15,
          16,
          17,
          18,
          19,
          20,
          21,
          22,
          23,
          24,
          25,
          26,
          27,
          28,
          29,
          30,
          31,
          32,
          33,
          34,
          35,
          36,
          37,
          38
         ],
         "xaxis": "x",
         "y": [
          2.2445538802265443,
          4.9077270206992,
          5.3804634076139894,
          4.0289894905280494,
          2.756665439150358,
          3.2183634719312306,
          1.7633078860992568,
          0.9750530479958085,
          1.7353125538297727,
          0.9846693229722527,
          0.6616864582934232,
          1.1591243770533064,
          0.5,
          1.2214278901400626,
          1.6100000000000003,
          1.2799999999999998,
          1.71,
          1.5499999999999998,
          1.7400000000000002,
          1.2000000000000002,
          1.5700000000000003,
          0.9693296652842106,
          0.9500757864507442,
          0.9299999999999999,
          0.7340980860893185,
          0.3899999999999999,
          0.1919999999999999,
          0,
          0.12,
          0.0639999999999997,
          0,
          0,
          0.644,
          0,
          0,
          0.1,
          0,
          1.532698664852016
         ],
         "yaxis": "y"
        },
        {
         "hovertemplate": "Pacjent=51<br>BADANIE_NR=%{x}<br>euclidean_kw=%{y}<extra></extra>",
         "legendgroup": "51",
         "line": {
          "color": "#FFA15A",
          "dash": "solid"
         },
         "marker": {
          "symbol": "circle"
         },
         "mode": "lines",
         "name": "51",
         "showlegend": true,
         "type": "scattergl",
         "x": [
          1,
          2,
          3,
          4,
          5,
          6,
          7
         ],
         "xaxis": "x",
         "y": [
          3.6203146675946645,
          3.980189731432275,
          2.7253005126828462,
          1.1227117653520073,
          1.0607211376490902,
          1.297299682787036,
          2.25758024781764
         ],
         "yaxis": "y"
        },
        {
         "hovertemplate": "Pacjent=52<br>BADANIE_NR=%{x}<br>euclidean_kw=%{y}<extra></extra>",
         "legendgroup": "52",
         "line": {
          "color": "#19d3f3",
          "dash": "solid"
         },
         "marker": {
          "symbol": "circle"
         },
         "mode": "lines",
         "name": "52",
         "showlegend": true,
         "type": "scattergl",
         "x": [
          1,
          2,
          3,
          4,
          5,
          6,
          7,
          8,
          9,
          10,
          11,
          12,
          13,
          14,
          15,
          16,
          17,
          18,
          19,
          20,
          21,
          22,
          23,
          24,
          25,
          26,
          27,
          28
         ],
         "xaxis": "x",
         "y": [
          0.630588540519621,
          2.6098705875240213,
          2.5284896155801757,
          1.7536177093740466,
          1.6648027566772823,
          1.907289567749378,
          2.523379763953827,
          2.31,
          1.69,
          1.5499999999999998,
          2.03,
          0.8600000000000001,
          0.07999999999999963,
          0.12999999999999967,
          0.15999999999999992,
          0,
          0.3299999999999996,
          0.06000000000000005,
          0,
          4.042084234508829,
          1.847612458494222,
          3.2660486254950167,
          3.429862093611798,
          4.578367310453421,
          1.9268877351871647,
          2.237044819320276,
          2.3846121425989333,
          1.754447197577885
         ],
         "yaxis": "y"
        },
        {
         "hovertemplate": "Pacjent=53<br>BADANIE_NR=%{x}<br>euclidean_kw=%{y}<extra></extra>",
         "legendgroup": "53",
         "line": {
          "color": "#FF6692",
          "dash": "solid"
         },
         "marker": {
          "symbol": "circle"
         },
         "mode": "lines",
         "name": "53",
         "showlegend": true,
         "type": "scattergl",
         "x": [
          1,
          2,
          3,
          4,
          5,
          6,
          7,
          8,
          9,
          10,
          11,
          12,
          13,
          14,
          15,
          16,
          17,
          18,
          19,
          20
         ],
         "xaxis": "x",
         "y": [
          0.3541106250515219,
          1.2649172348031816,
          2.8576239963099974,
          0.5422324224905773,
          0.5724648460822724,
          0.9219544457292886,
          0.7515344303490027,
          0.4700000000000002,
          3.8902573727918455,
          1.463283977907228,
          3.6331445455385056,
          3.7907741125842938,
          4.5617557596721605,
          3.17843294722415,
          3.0433724075278934,
          3.8811608171578382,
          2.7599999999999993,
          1.721190285819671,
          2.2594725048116877,
          4.594478565514134
         ],
         "yaxis": "y"
        },
        {
         "hovertemplate": "Pacjent=55<br>BADANIE_NR=%{x}<br>euclidean_kw=%{y}<extra></extra>",
         "legendgroup": "55",
         "line": {
          "color": "#B6E880",
          "dash": "solid"
         },
         "marker": {
          "symbol": "circle"
         },
         "mode": "lines",
         "name": "55",
         "showlegend": true,
         "type": "scattergl",
         "x": [
          1,
          2,
          3,
          4,
          5,
          6,
          7,
          8,
          9,
          10,
          11,
          12,
          13,
          14,
          15,
          16,
          17,
          18,
          19,
          20,
          21,
          22,
          23,
          24,
          25
         ],
         "xaxis": "x",
         "y": [
          0,
          1.1906905559380239,
          0.7959999999999999,
          0.8240000000000001,
          0.4680000000000001,
          0,
          0,
          0.7440000000000001,
          0.504,
          0,
          0,
          0,
          0,
          0.6240000000000001,
          0.2319999999999998,
          0,
          0.2439999999999997,
          0,
          0.4559999999999999,
          0.7952494870742585,
          0.504,
          0.4080000000000001,
          0.4680000000000001,
          1.6061797321145541,
          2.4030906670084704
         ],
         "yaxis": "y"
        },
        {
         "hovertemplate": "Pacjent=57<br>BADANIE_NR=%{x}<br>euclidean_kw=%{y}<extra></extra>",
         "legendgroup": "57",
         "line": {
          "color": "#FF97FF",
          "dash": "solid"
         },
         "marker": {
          "symbol": "circle"
         },
         "mode": "lines",
         "name": "57",
         "showlegend": true,
         "type": "scattergl",
         "x": [
          1,
          2,
          3,
          4,
          5,
          6,
          7,
          8,
          9,
          10,
          11,
          12,
          13,
          14,
          15
         ],
         "xaxis": "x",
         "y": [
          0.2919999999999998,
          0.2080000000000001,
          0.46,
          0,
          0,
          0.6119999999999999,
          0,
          0,
          0,
          0,
          0,
          0,
          1.8279138536285195,
          6.2543710387362355,
          13.875215401696002
         ],
         "yaxis": "y"
        },
        {
         "hovertemplate": "Pacjent=61<br>BADANIE_NR=%{x}<br>euclidean_kw=%{y}<extra></extra>",
         "legendgroup": "61",
         "line": {
          "color": "#FECB52",
          "dash": "solid"
         },
         "marker": {
          "symbol": "circle"
         },
         "mode": "lines",
         "name": "61",
         "showlegend": true,
         "type": "scattergl",
         "x": [
          1,
          2,
          3,
          4,
          5,
          6,
          7,
          8,
          9,
          10,
          11,
          12,
          13,
          14,
          15,
          16,
          17,
          18,
          19,
          20,
          21,
          22,
          23,
          24,
          25,
          26,
          27,
          28,
          29,
          30,
          31,
          32,
          33,
          34
         ],
         "xaxis": "x",
         "y": [
          0,
          0.2173913043478261,
          0.40701731244211126,
          0.6415946343745582,
          0,
          0,
          0.3519999999999998,
          0.16,
          0,
          0,
          0,
          0,
          0,
          0,
          0.3480000000000001,
          0.4959999999999999,
          0.1480000000000001,
          0.2919999999999998,
          0,
          0,
          0.6022933110322394,
          0,
          0.594412903151414,
          0.0869565217391305,
          0.0652173913043479,
          1.7919999999999998,
          0.3350578653858163,
          0,
          0,
          1.2368849356406277,
          0.1521739130434783,
          0,
          0,
          0.0434782608695652
         ],
         "yaxis": "y"
        },
        {
         "hovertemplate": "Pacjent=62<br>BADANIE_NR=%{x}<br>euclidean_kw=%{y}<extra></extra>",
         "legendgroup": "62",
         "line": {
          "color": "#636efa",
          "dash": "solid"
         },
         "marker": {
          "symbol": "circle"
         },
         "mode": "lines",
         "name": "62",
         "showlegend": true,
         "type": "scattergl",
         "x": [
          1,
          2,
          3,
          4,
          5,
          6,
          7,
          8,
          9,
          10,
          11
         ],
         "xaxis": "x",
         "y": [
          0.8762577932474229,
          0.9887847274491804,
          0.5980265097391635,
          0.66,
          0,
          0.8681566678889242,
          0,
          0.6700000000000004,
          0.97,
          5.203872544992116,
          4.071087064957749
         ],
         "yaxis": "y"
        },
        {
         "hovertemplate": "Pacjent=65<br>BADANIE_NR=%{x}<br>euclidean_kw=%{y}<extra></extra>",
         "legendgroup": "65",
         "line": {
          "color": "#EF553B",
          "dash": "solid"
         },
         "marker": {
          "symbol": "circle"
         },
         "mode": "lines",
         "name": "65",
         "showlegend": true,
         "type": "scattergl",
         "x": [
          1,
          2,
          3,
          4,
          5,
          6,
          7,
          8,
          9,
          10,
          11,
          12,
          13,
          14,
          15,
          16,
          17,
          18,
          19,
          20,
          21,
          22,
          23,
          24,
          25,
          26,
          27,
          28,
          29,
          30,
          31,
          32,
          33,
          34,
          35,
          36,
          37
         ],
         "xaxis": "x",
         "y": [
          0.82,
          0.7377181260093927,
          0.6835322142493294,
          1.4838350340507478,
          1.865206754711247,
          0.31288070374246396,
          0.3434786102796057,
          0,
          0.7899999999999998,
          0.5547936553350261,
          0.2100000000000002,
          0.6280000000000001,
          0.5200000000000002,
          0,
          1.2700000000000005,
          0.8999999999999999,
          1.5299999999999998,
          1.2200000000000002,
          1.31,
          0.7100000000000002,
          0.94,
          1.5099999999999998,
          0,
          0,
          0,
          0,
          0,
          0.2659624033580689,
          0.18999999999999995,
          0.13588230201170415,
          3.2433281898418405,
          0.17000000000000037,
          0.4299999999999995,
          0.10000000000000009,
          0.23999999999999977,
          0.44999999999999996,
          0.3705995143008149
         ],
         "yaxis": "y"
        },
        {
         "hovertemplate": "Pacjent=70<br>BADANIE_NR=%{x}<br>euclidean_kw=%{y}<extra></extra>",
         "legendgroup": "70",
         "line": {
          "color": "#00cc96",
          "dash": "solid"
         },
         "marker": {
          "symbol": "circle"
         },
         "mode": "lines",
         "name": "70",
         "showlegend": true,
         "type": "scattergl",
         "x": [
          1,
          2,
          3,
          4,
          5,
          6,
          7,
          8,
          9,
          10,
          11,
          12,
          13,
          14,
          15,
          16,
          17,
          18,
          19,
          20,
          21,
          22,
          23,
          24,
          25,
          26,
          27,
          28,
          29,
          30,
          31
         ],
         "xaxis": "x",
         "y": [
          0.8178504908177369,
          0.7383926957635074,
          0.6487863090866076,
          0.1919999999999999,
          0.8080000000000002,
          0.2839999999999997,
          2.060850031322145,
          5.370006276515826,
          5.272633807127566,
          4.614835859972004,
          4.584845370540925,
          2.6423615702229153,
          3.391026235640344,
          2.5306121945391307,
          2.080082799542432,
          1.5700000000000003,
          1.69,
          1.5,
          1.29,
          1.12,
          0.6200000000000003,
          0.55,
          0.94,
          0.8799999999999999,
          0.6499999999999999,
          0.5399999999999998,
          0.6000000000000001,
          0,
          0.20016668211968777,
          0.2947038662317683,
          2.4457305729193104
         ],
         "yaxis": "y"
        },
        {
         "hovertemplate": "Pacjent=73<br>BADANIE_NR=%{x}<br>euclidean_kw=%{y}<extra></extra>",
         "legendgroup": "73",
         "line": {
          "color": "#ab63fa",
          "dash": "solid"
         },
         "marker": {
          "symbol": "circle"
         },
         "mode": "lines",
         "name": "73",
         "showlegend": true,
         "type": "scattergl",
         "x": [
          1,
          2,
          3,
          4,
          5,
          6,
          7,
          8,
          9,
          10,
          11,
          12,
          13,
          14,
          15,
          16,
          17,
          18,
          19,
          20,
          21,
          22,
          23
         ],
         "xaxis": "x",
         "y": [
          0.1521739130434783,
          0.576,
          0.5651467485927842,
          1.7481456140785336,
          0.7,
          0.1100000000000001,
          0.6299999999999997,
          1.0700000000000003,
          0.5900000000000001,
          0.75,
          0.17000000000000037,
          0.3500000000000001,
          0.4600000000000002,
          0,
          0,
          0,
          0,
          0,
          0.1100000000000001,
          0.039999999999999813,
          0.050000000000000044,
          0.3400000000000001,
          0.9519747895821611
         ],
         "yaxis": "y"
        },
        {
         "hovertemplate": "Pacjent=74<br>BADANIE_NR=%{x}<br>euclidean_kw=%{y}<extra></extra>",
         "legendgroup": "74",
         "line": {
          "color": "#FFA15A",
          "dash": "solid"
         },
         "marker": {
          "symbol": "circle"
         },
         "mode": "lines",
         "name": "74",
         "showlegend": true,
         "type": "scattergl",
         "x": [
          1,
          2,
          3,
          4,
          5,
          6,
          7,
          8,
          9,
          10,
          11,
          12,
          13,
          14,
          15
         ],
         "xaxis": "x",
         "y": [
          1.8006736339243998,
          0.12136322312475449,
          1.6139368277407256,
          1.8295223053138971,
          2.438236648210735,
          0.6250415426647343,
          1.4573069683900095,
          2.051128257843915,
          2.226444878293086,
          2.0444686536837673,
          1.4668674105044397,
          1.873751317544567,
          1.5798177110033933,
          3.1998899956747247,
          3.964669802650173
         ],
         "yaxis": "y"
        },
        {
         "hovertemplate": "Pacjent=77<br>BADANIE_NR=%{x}<br>euclidean_kw=%{y}<extra></extra>",
         "legendgroup": "77",
         "line": {
          "color": "#19d3f3",
          "dash": "solid"
         },
         "marker": {
          "symbol": "circle"
         },
         "mode": "lines",
         "name": "77",
         "showlegend": true,
         "type": "scattergl",
         "x": [
          1,
          2,
          3,
          4,
          5,
          6,
          7,
          8,
          9,
          10,
          11,
          12,
          13,
          14,
          15,
          16,
          17,
          18,
          19,
          20,
          21,
          22,
          23,
          24,
          25,
          26,
          27,
          28,
          29,
          30,
          31,
          32,
          33,
          34,
          35,
          36,
          37,
          38
         ],
         "xaxis": "x",
         "y": [
          0.69,
          1.5715522975651524,
          1.06,
          0,
          0,
          0.0960000000000002,
          0.2799999999999998,
          0,
          0.17000000000000037,
          0.26000000000000023,
          0.26000000000000023,
          0,
          0.5299999999999998,
          0,
          0,
          1.4653668482670135,
          0.55,
          0,
          0,
          0,
          0.26000000000000023,
          0,
          0.23999999999999977,
          0.5640000000000001,
          3.6793834373372336,
          0.5,
          0.7899999999999998,
          1.6708388391946454,
          1.2000000000000002,
          1.9300000000000002,
          1.954483701973588,
          1.0200000000000005,
          2.838117588655331,
          2.961637677838719,
          1.0200000000000005,
          0,
          2.16,
          1.9
         ],
         "yaxis": "y"
        },
        {
         "hovertemplate": "Pacjent=78<br>BADANIE_NR=%{x}<br>euclidean_kw=%{y}<extra></extra>",
         "legendgroup": "78",
         "line": {
          "color": "#FF6692",
          "dash": "solid"
         },
         "marker": {
          "symbol": "circle"
         },
         "mode": "lines",
         "name": "78",
         "showlegend": true,
         "type": "scattergl",
         "x": [
          1,
          2,
          3,
          4,
          5,
          6,
          7,
          8,
          9,
          10,
          11,
          12,
          13,
          14,
          15,
          16,
          17,
          18,
          19,
          20,
          21,
          22,
          23,
          24,
          25,
          26,
          27,
          28,
          29,
          30,
          31,
          32,
          33,
          34,
          35,
          36,
          37
         ],
         "xaxis": "x",
         "y": [
          0.22107145856500898,
          0.5700000000000005,
          0.8481142227282358,
          0.38049675291635743,
          0,
          0,
          0,
          0.6119999999999999,
          0.21003809178337168,
          1.7859910414109026,
          0.5315072906367323,
          0.6700000000000004,
          0.47999999999999976,
          1.0200000000000005,
          1.08,
          1.62,
          2.525051700621594,
          0.4119999999999998,
          0.8624059368997876,
          0.8035645587007928,
          1.065562762112115,
          1.4348017284628563,
          1.3589937453866374,
          0.7856818694611709,
          0.8836945173531404,
          0.7040000000000001,
          0.3119999999999999,
          0.12000000000000033,
          0,
          0,
          0.31000000000000005,
          0,
          0.06000000000000005,
          0,
          0.1960000000000002,
          0,
          0
         ],
         "yaxis": "y"
        },
        {
         "hovertemplate": "Pacjent=80<br>BADANIE_NR=%{x}<br>euclidean_kw=%{y}<extra></extra>",
         "legendgroup": "80",
         "line": {
          "color": "#B6E880",
          "dash": "solid"
         },
         "marker": {
          "symbol": "circle"
         },
         "mode": "lines",
         "name": "80",
         "showlegend": true,
         "type": "scattergl",
         "x": [
          1,
          2,
          3,
          4,
          5,
          6,
          7,
          8,
          9,
          10,
          11,
          12,
          13,
          14,
          15
         ],
         "xaxis": "x",
         "y": [
          3.3046607886784116,
          1.6600000000000001,
          1.4799999999999995,
          0.6599999999999999,
          0.1499999999999999,
          1.1100000000000003,
          0.33373043013785814,
          0.8974274343923301,
          0.5778442696782587,
          0.5100000000000002,
          0.3999999999999999,
          0,
          0.31000000000000005,
          1.3648443134658252,
          0.8133904351539917
         ],
         "yaxis": "y"
        },
        {
         "hovertemplate": "Pacjent=82<br>BADANIE_NR=%{x}<br>euclidean_kw=%{y}<extra></extra>",
         "legendgroup": "82",
         "line": {
          "color": "#FF97FF",
          "dash": "solid"
         },
         "marker": {
          "symbol": "circle"
         },
         "mode": "lines",
         "name": "82",
         "showlegend": true,
         "type": "scattergl",
         "x": [
          1,
          2,
          3,
          4,
          5,
          6,
          7,
          8,
          9,
          10,
          11,
          12,
          13,
          14,
          15,
          16,
          17,
          18
         ],
         "xaxis": "x",
         "y": [
          0.6193358534373935,
          1.1290152326373253,
          0.9959073822738954,
          3.0895366446067007,
          0.31000000000000005,
          0.6599999999999999,
          0.56,
          0.12999999999999967,
          1.2599999999999998,
          0.5200000000000002,
          0.4099999999999999,
          0,
          0,
          0,
          0.2200000000000002,
          11.973678644937818,
          11.321085648912224,
          11.147814860313497
         ],
         "yaxis": "y"
        },
        {
         "hovertemplate": "Pacjent=84<br>BADANIE_NR=%{x}<br>euclidean_kw=%{y}<extra></extra>",
         "legendgroup": "84",
         "line": {
          "color": "#FECB52",
          "dash": "solid"
         },
         "marker": {
          "symbol": "circle"
         },
         "mode": "lines",
         "name": "84",
         "showlegend": true,
         "type": "scattergl",
         "x": [
          1,
          2,
          3,
          4,
          5,
          6,
          7,
          8,
          9,
          10,
          11,
          12,
          13,
          14,
          15,
          16,
          17,
          18,
          19,
          20,
          21,
          22,
          23,
          24,
          25,
          26,
          27,
          28,
          29,
          30,
          31,
          32,
          33,
          34,
          35,
          36,
          37,
          38,
          39,
          40,
          41,
          42,
          43,
          44,
          45,
          46
         ],
         "xaxis": "x",
         "y": [
          1.496903649425257,
          1.529328332811123,
          0.3299999999999996,
          0.010000000000000231,
          0.5299999999999998,
          0.1799999999999995,
          0.48,
          0,
          0.17000000000000037,
          0.8500000000000001,
          0.5799999999999996,
          1.6800000000000002,
          2.681388713545962,
          1.2400000000000002,
          1.5499999999999998,
          1.5499999999999998,
          1.4200000000000004,
          1.2861555115925913,
          1.4799999999999995,
          1.550111109873186,
          0.8300000000000001,
          1.38,
          0.94,
          1.2400000000000002,
          1.301930967141362,
          0.18999999999999995,
          0.18,
          0,
          0,
          0,
          0.7281236158785129,
          0.444,
          0.7031126402901549,
          0.2799999999999998,
          2.196277467291205,
          2.0656905884951176,
          0.97,
          0,
          0.09000000000000008,
          0,
          0.4600000000000002,
          0.22999999999999976,
          0.10000000000000009,
          1.6982792583172206,
          0.5100000000000002,
          0.039999999999999813
         ],
         "yaxis": "y"
        },
        {
         "hovertemplate": "Pacjent=85<br>BADANIE_NR=%{x}<br>euclidean_kw=%{y}<extra></extra>",
         "legendgroup": "85",
         "line": {
          "color": "#636efa",
          "dash": "solid"
         },
         "marker": {
          "symbol": "circle"
         },
         "mode": "lines",
         "name": "85",
         "showlegend": true,
         "type": "scattergl",
         "x": [
          1,
          2,
          3,
          4,
          5,
          6,
          7,
          8,
          9,
          10,
          11,
          12,
          13,
          14,
          15,
          16,
          17,
          18,
          19,
          20,
          21,
          22,
          23,
          24,
          25,
          26,
          27,
          28,
          29,
          30,
          31,
          32,
          33,
          34,
          35,
          36,
          37,
          38,
          39
         ],
         "xaxis": "x",
         "y": [
          1.9540832374686887,
          2.034226898935433,
          1.2669472600432041,
          0.9966996424749073,
          0.7301900819099156,
          1.3214777210975965,
          0.397295859530401,
          0.6352586273697414,
          1.0708864247873906,
          1.4825706090780721,
          1.6800780271492177,
          1.6170392697767115,
          1.3267840819063217,
          1.1488846765450396,
          1.0499999999999998,
          0.5512204640613411,
          0.81,
          0.7600000000000002,
          0.7600000000000002,
          0.7045565981523414,
          0.9743941707543207,
          0.7602631123499287,
          1.3,
          0.9501663012336312,
          1.2425280680934334,
          1.1681592357208843,
          0.6200000000000003,
          0.9272000862812728,
          0.8200000000000005,
          0.8691052870625059,
          0.7498373156892096,
          0.7799999999999998,
          0.35193181157718595,
          0.25,
          0,
          0.2080000000000001,
          0.4039999999999997,
          0.4239999999999997,
          2.920730171720833
         ],
         "yaxis": "y"
        },
        {
         "hovertemplate": "Pacjent=86<br>BADANIE_NR=%{x}<br>euclidean_kw=%{y}<extra></extra>",
         "legendgroup": "86",
         "line": {
          "color": "#EF553B",
          "dash": "solid"
         },
         "marker": {
          "symbol": "circle"
         },
         "mode": "lines",
         "name": "86",
         "showlegend": true,
         "type": "scattergl",
         "x": [
          1,
          2,
          3,
          4,
          5,
          6,
          7,
          8,
          9,
          10,
          11,
          12,
          13,
          14,
          15,
          16,
          17
         ],
         "xaxis": "x",
         "y": [
          1.2070908717404985,
          1.019480715294332,
          0.8382547519100619,
          3.644789826381956,
          1.0870240451315203,
          0.7262210339587049,
          1.1406371002613875,
          0.6436444455208615,
          0.2899999999999998,
          1.4249979527902448,
          1.3974584197218318,
          1.4380114805931308,
          1.690239492179166,
          0.7,
          2.0431379234795237,
          2.3830264305095517,
          9.130666767795292
         ],
         "yaxis": "y"
        },
        {
         "hovertemplate": "Pacjent=88<br>BADANIE_NR=%{x}<br>euclidean_kw=%{y}<extra></extra>",
         "legendgroup": "88",
         "line": {
          "color": "#00cc96",
          "dash": "solid"
         },
         "marker": {
          "symbol": "circle"
         },
         "mode": "lines",
         "name": "88",
         "showlegend": true,
         "type": "scattergl",
         "x": [
          1,
          2,
          3,
          4,
          5,
          6,
          7,
          8,
          9,
          10,
          11,
          12,
          13,
          14,
          15,
          16,
          17,
          18,
          19
         ],
         "xaxis": "x",
         "y": [
          1.4121156045427996,
          0.7247335765258807,
          0.9351178904481758,
          1.102213530941671,
          1.566523366134359,
          0.8700000000000003,
          1.1501497524028255,
          0.81,
          0.6799999999999995,
          1.1,
          2.3400000000000007,
          1.7200000000000002,
          2.03,
          2.7900119534924595,
          2.4799999999999995,
          4.6911055382286575,
          4.607946954927488,
          4.932304733204864,
          6.1260945444116635
         ],
         "yaxis": "y"
        },
        {
         "hovertemplate": "Pacjent=91<br>BADANIE_NR=%{x}<br>euclidean_kw=%{y}<extra></extra>",
         "legendgroup": "91",
         "line": {
          "color": "#ab63fa",
          "dash": "solid"
         },
         "marker": {
          "symbol": "circle"
         },
         "mode": "lines",
         "name": "91",
         "showlegend": true,
         "type": "scattergl",
         "x": [
          1,
          2,
          3,
          4,
          5,
          6,
          7,
          8,
          9,
          10,
          11,
          12,
          13,
          14,
          15,
          16,
          17,
          18,
          19,
          20,
          21,
          22,
          23,
          24,
          25,
          26,
          27
         ],
         "xaxis": "x",
         "y": [
          5.809039397319877,
          7.689084791416272,
          14.658046120427045,
          7.963575751284372,
          2.841395379261337,
          3.1394601793600927,
          3.8397375488879413,
          3.476528594956073,
          2.5085632579399526,
          3.277734788886434,
          2.7179548829728897,
          2.361965359824667,
          2.571723106420437,
          1.5589694497112068,
          2.2013874979655577,
          4.573910789372543,
          4.967973597222365,
          3.8113054425307196,
          8.316441485465177,
          1.915003364979515,
          3.798323769276084,
          2.7759895620636943,
          1.925050431925457,
          2.282450162846096,
          2.0989287546310598,
          2.8588377081410714,
          4.7110362391525165
         ],
         "yaxis": "y"
        },
        {
         "hovertemplate": "Pacjent=93<br>BADANIE_NR=%{x}<br>euclidean_kw=%{y}<extra></extra>",
         "legendgroup": "93",
         "line": {
          "color": "#FFA15A",
          "dash": "solid"
         },
         "marker": {
          "symbol": "circle"
         },
         "mode": "lines",
         "name": "93",
         "showlegend": true,
         "type": "scattergl",
         "x": [
          1,
          2,
          3,
          4,
          5,
          6,
          7,
          8,
          9,
          10,
          11,
          12,
          13,
          14,
          15,
          16,
          17,
          18,
          19,
          20,
          21,
          22,
          23,
          24,
          25,
          26,
          27
         ],
         "xaxis": "x",
         "y": [
          5.544456442933567,
          5.7559225424395795,
          5.200819497949043,
          4.456635616503914,
          3.3792472020914484,
          2.2049009775987427,
          2.826273268615545,
          1.6654889245934132,
          2.168311118957782,
          0.97,
          1.1100000000000003,
          2.4510609947530884,
          1.4300000000000002,
          0.94,
          2.4020824298928627,
          2.4679392212937494,
          0.8400000000000001,
          0.8988882021697694,
          0.97,
          0.5554277630799528,
          0.6399999999999999,
          0.81,
          0.56,
          0,
          0,
          9.57177488741637,
          4.215048944167968
         ],
         "yaxis": "y"
        },
        {
         "hovertemplate": "Pacjent=97<br>BADANIE_NR=%{x}<br>euclidean_kw=%{y}<extra></extra>",
         "legendgroup": "97",
         "line": {
          "color": "#19d3f3",
          "dash": "solid"
         },
         "marker": {
          "symbol": "circle"
         },
         "mode": "lines",
         "name": "97",
         "showlegend": true,
         "type": "scattergl",
         "x": [
          1,
          2,
          3,
          4,
          5,
          6,
          7,
          8,
          9,
          10,
          11,
          12,
          13,
          14,
          15,
          16,
          17,
          18,
          19,
          20,
          21,
          22,
          23,
          24,
          25,
          26,
          27,
          28
         ],
         "xaxis": "x",
         "y": [
          1.4708582828610435,
          1.1029426906652735,
          1.456336233855545,
          1.8258404079913613,
          0.8798364680557843,
          2.3458427727843563,
          0.3400000000000001,
          0.2899999999999998,
          0.5399999999999998,
          0.18999999999999995,
          0.5723495435483459,
          1.7003811337461965,
          1.6156930401533576,
          0.1499999999999999,
          1.913393843410185,
          0.7200000000000002,
          1.56,
          0.5,
          1.6804623275104136,
          1.35,
          2.911755560106848,
          0.6700000000000004,
          1.8776667052571392,
          1.1921091574187501,
          0.6821260880511755,
          0.8700000000000003,
          2.3975999462384032,
          1.1
         ],
         "yaxis": "y"
        },
        {
         "hovertemplate": "Pacjent=100<br>BADANIE_NR=%{x}<br>euclidean_kw=%{y}<extra></extra>",
         "legendgroup": "100",
         "line": {
          "color": "#FF6692",
          "dash": "solid"
         },
         "marker": {
          "symbol": "circle"
         },
         "mode": "lines",
         "name": "100",
         "showlegend": true,
         "type": "scattergl",
         "x": [
          1,
          2,
          3,
          4,
          5,
          6,
          7,
          8,
          9,
          10,
          11,
          12,
          13,
          14,
          15,
          16,
          17,
          18,
          19,
          20,
          21,
          22,
          23,
          24,
          25
         ],
         "xaxis": "x",
         "y": [
          1.2334662049457465,
          3.0749655800062046,
          3.3146853325769308,
          3.8972497707366553,
          3.330542782267034,
          2.6988888638821558,
          2.9055106260063996,
          1.5642578875202668,
          1.9221099458787902,
          1.2923422389700192,
          1.0299999999999998,
          0.6299999999999997,
          0.9299999999999999,
          1.13,
          1.3580418914672299,
          0.6399999999999999,
          0.5861603876073509,
          0.5,
          0.3299999999999996,
          0.75,
          0.5969535355852149,
          0.5970751554538286,
          0.4682763008243414,
          0.4296191525936514,
          0.5303282608362135
         ],
         "yaxis": "y"
        },
        {
         "hovertemplate": "Pacjent=103<br>BADANIE_NR=%{x}<br>euclidean_kw=%{y}<extra></extra>",
         "legendgroup": "103",
         "line": {
          "color": "#B6E880",
          "dash": "solid"
         },
         "marker": {
          "symbol": "circle"
         },
         "mode": "lines",
         "name": "103",
         "showlegend": true,
         "type": "scattergl",
         "x": [
          1,
          2,
          3,
          4,
          5,
          6,
          7,
          8,
          9,
          10,
          11,
          12,
          13,
          14,
          15,
          16,
          17,
          18,
          19,
          20
         ],
         "xaxis": "x",
         "y": [
          2.687003260620887,
          2.8001713762012472,
          7.406825284478174,
          5.211989047271582,
          4.833041461118917,
          5.116754688390351,
          1.6266944130140333,
          3.78741223443704,
          7.017475932667671,
          5.713992964116927,
          3.0767821056108127,
          1.9596576183596734,
          2.4993665775489617,
          2.976558398293723,
          0.2173913043478261,
          1.209070748920641,
          0.2606615678466636,
          1.221375835196162,
          2.6505308165787986,
          1.8853756113256723
         ],
         "yaxis": "y"
        },
        {
         "hovertemplate": "Pacjent=105<br>BADANIE_NR=%{x}<br>euclidean_kw=%{y}<extra></extra>",
         "legendgroup": "105",
         "line": {
          "color": "#FF97FF",
          "dash": "solid"
         },
         "marker": {
          "symbol": "circle"
         },
         "mode": "lines",
         "name": "105",
         "showlegend": true,
         "type": "scattergl",
         "x": [
          1,
          2,
          3,
          4,
          5,
          6,
          7,
          8,
          9,
          10,
          11,
          12,
          13,
          14,
          15,
          16,
          17,
          18,
          19,
          20,
          21,
          22,
          23,
          24,
          25,
          26,
          27,
          28,
          29,
          30,
          31,
          32,
          33,
          34
         ],
         "xaxis": "x",
         "y": [
          0.0319999999999998,
          0.5359999999999999,
          1.85,
          1.948,
          0,
          0.0480000000000001,
          0,
          0,
          0,
          0.6,
          0.6040000000000001,
          0.58,
          0.4119999999999998,
          0.4239999999999997,
          1.9084953128494295,
          1.249439257294004,
          1.487806512500963,
          0.5900000000000001,
          1.5,
          0.6499999999999999,
          0.7399999999999998,
          0.0700000000000005,
          1.0099999999999998,
          6.868374310466772,
          1.792361666632803,
          2.0863576968560515,
          0.25,
          0.4099999999999999,
          0,
          0.37999999999999967,
          1.9304024539410731,
          2.03,
          1.9200000000000004,
          0.7399999999999998
         ],
         "yaxis": "y"
        },
        {
         "hovertemplate": "Pacjent=106<br>BADANIE_NR=%{x}<br>euclidean_kw=%{y}<extra></extra>",
         "legendgroup": "106",
         "line": {
          "color": "#FECB52",
          "dash": "solid"
         },
         "marker": {
          "symbol": "circle"
         },
         "mode": "lines",
         "name": "106",
         "showlegend": true,
         "type": "scattergl",
         "x": [
          1,
          2,
          3,
          4,
          5,
          6,
          7,
          8,
          9,
          10,
          11,
          12,
          13,
          14
         ],
         "xaxis": "x",
         "y": [
          1.3245316373448326,
          1.1810106050962506,
          1.1975124338344465,
          0.5054627890662604,
          0.7795487515423265,
          1.0032906949834022,
          1.3897626571474866,
          5.786905757289736,
          6.795355468111317,
          1.87,
          3.6178452150416835,
          3.6338207846900774,
          5.42381212036489,
          4.123541449162994
         ],
         "yaxis": "y"
        },
        {
         "hovertemplate": "Pacjent=111<br>BADANIE_NR=%{x}<br>euclidean_kw=%{y}<extra></extra>",
         "legendgroup": "111",
         "line": {
          "color": "#636efa",
          "dash": "solid"
         },
         "marker": {
          "symbol": "circle"
         },
         "mode": "lines",
         "name": "111",
         "showlegend": true,
         "type": "scattergl",
         "x": [
          1,
          2,
          3,
          4,
          5,
          6,
          7,
          8,
          9,
          10,
          11,
          12,
          13,
          14,
          15,
          16,
          17,
          18,
          19,
          20,
          21,
          22,
          23,
          24,
          25,
          26
         ],
         "xaxis": "x",
         "y": [
          1.528,
          1.2919999999999998,
          0.3880000000000001,
          0.9351837211185614,
          0.6459440363719837,
          0.6869027930025837,
          0.46971036221186463,
          0.3712065931181447,
          0.24526209500371068,
          0.6051297092685322,
          0.5703020716710411,
          1.266861774995202,
          0.7999084470410897,
          0.2799999999999998,
          0.3999999999999999,
          0.3899999999999999,
          0.30000000000000004,
          0.5,
          0.8748487549369436,
          1.2909087764192506,
          0.4222984726470133,
          0.678916654950518,
          0.24166091947189164,
          0.49434920096804597,
          0.49671826212374026,
          2.3494475485690214
         ],
         "yaxis": "y"
        },
        {
         "hovertemplate": "Pacjent=115<br>BADANIE_NR=%{x}<br>euclidean_kw=%{y}<extra></extra>",
         "legendgroup": "115",
         "line": {
          "color": "#EF553B",
          "dash": "solid"
         },
         "marker": {
          "symbol": "circle"
         },
         "mode": "lines",
         "name": "115",
         "showlegend": true,
         "type": "scattergl",
         "x": [
          1,
          2,
          3,
          4,
          5,
          6,
          7,
          8,
          9,
          10,
          11,
          12,
          13,
          14,
          15,
          16,
          17,
          18,
          19,
          20,
          21,
          22,
          23,
          24,
          25,
          26,
          27,
          28,
          29,
          30,
          31,
          32,
          33,
          34,
          35,
          36,
          37,
          38,
          39
         ],
         "xaxis": "x",
         "y": [
          0.2608695652173913,
          0.1521739130434783,
          0,
          0.1319999999999999,
          0.1960000000000002,
          0.0119999999999998,
          0.8480000000000001,
          0.4239999999999997,
          0,
          1.324,
          1.028,
          0,
          0,
          0,
          0,
          0.3639999999999997,
          0,
          0.9519999999999998,
          0,
          0.4640000000000001,
          1.0719999999999998,
          0,
          0,
          0,
          0,
          0,
          0,
          0,
          0,
          0,
          0,
          0,
          0.3319999999999999,
          0,
          0,
          0,
          0.6119999999999999,
          0.2,
          0.8
         ],
         "yaxis": "y"
        },
        {
         "hovertemplate": "Pacjent=116<br>BADANIE_NR=%{x}<br>euclidean_kw=%{y}<extra></extra>",
         "legendgroup": "116",
         "line": {
          "color": "#00cc96",
          "dash": "solid"
         },
         "marker": {
          "symbol": "circle"
         },
         "mode": "lines",
         "name": "116",
         "showlegend": true,
         "type": "scattergl",
         "x": [
          1,
          2,
          3,
          4,
          5,
          6,
          7,
          8,
          9,
          10,
          11,
          12,
          13,
          14,
          15,
          16,
          17,
          18,
          19,
          20,
          21,
          22,
          23,
          24,
          25,
          26,
          27,
          28,
          29,
          30,
          31,
          32,
          33,
          34,
          35,
          36,
          37,
          38
         ],
         "xaxis": "x",
         "y": [
          1.8762938142545482,
          1.268654579392335,
          1.921593301965748,
          2.112491356233908,
          1.0099999999999998,
          0.8899999999999999,
          0.47999999999999976,
          0,
          2.7117895247532227,
          0.050000000000000044,
          0.56,
          0.30000000000000004,
          0,
          0.43999999999999995,
          0.2899999999999998,
          0,
          0,
          0.23999999999999977,
          0.1100000000000001,
          0.09000000000000008,
          0.06000000000000005,
          1.16,
          0,
          0.7319999999999999,
          0.0080000000000001,
          0.4749858154085442,
          8.321287216380222,
          0,
          0.8315613836478818,
          1.407190850884131,
          0.43999999999999995,
          0.56,
          0.25,
          0.56,
          0.69,
          0,
          0.050000000000000044,
          0
         ],
         "yaxis": "y"
        },
        {
         "hovertemplate": "Pacjent=119<br>BADANIE_NR=%{x}<br>euclidean_kw=%{y}<extra></extra>",
         "legendgroup": "119",
         "line": {
          "color": "#ab63fa",
          "dash": "solid"
         },
         "marker": {
          "symbol": "circle"
         },
         "mode": "lines",
         "name": "119",
         "showlegend": true,
         "type": "scattergl",
         "x": [
          1,
          2,
          3,
          4,
          5,
          6,
          7,
          8,
          9,
          10,
          11,
          12,
          13,
          14,
          15,
          16,
          17,
          18,
          19,
          20,
          21,
          22
         ],
         "xaxis": "x",
         "y": [
          3.286973810680381,
          2.487260331886448,
          2.131400553512016,
          1.6008026072217516,
          1.2802905977449455,
          0.5221105875731443,
          0.7548616883039829,
          0.2,
          1.416797797852608,
          0,
          0,
          0,
          0.0719999999999998,
          0.2719999999999999,
          0.8280000000000001,
          0.98,
          0.4742402061792101,
          0.2173913043478261,
          0.8681226468977242,
          1.6276823693205935,
          2.5922449104777106,
          3.1863743073617767
         ],
         "yaxis": "y"
        },
        {
         "hovertemplate": "Pacjent=120<br>BADANIE_NR=%{x}<br>euclidean_kw=%{y}<extra></extra>",
         "legendgroup": "120",
         "line": {
          "color": "#FFA15A",
          "dash": "solid"
         },
         "marker": {
          "symbol": "circle"
         },
         "mode": "lines",
         "name": "120",
         "showlegend": true,
         "type": "scattergl",
         "x": [
          1,
          2,
          3,
          4,
          5,
          6,
          7,
          8,
          9,
          10,
          11,
          12
         ],
         "xaxis": "x",
         "y": [
          0,
          0.916,
          0.1319999999999999,
          1.8833018634851446,
          4.915862709716226,
          2.946200141820567,
          2.99852189221132,
          1.7688892874973305,
          2.1125189190645064,
          2.523671211443591,
          3.5404617816102864,
          0
         ],
         "yaxis": "y"
        },
        {
         "hovertemplate": "Pacjent=121<br>BADANIE_NR=%{x}<br>euclidean_kw=%{y}<extra></extra>",
         "legendgroup": "121",
         "line": {
          "color": "#19d3f3",
          "dash": "solid"
         },
         "marker": {
          "symbol": "circle"
         },
         "mode": "lines",
         "name": "121",
         "showlegend": true,
         "type": "scattergl",
         "x": [
          1,
          2,
          3,
          4,
          5,
          6,
          7,
          8,
          9,
          10,
          11,
          12,
          13,
          14,
          15,
          16,
          17,
          18,
          19,
          20,
          21,
          22,
          23,
          24,
          25,
          26,
          27,
          28,
          29,
          30,
          31,
          32,
          33,
          34,
          35,
          36,
          37
         ],
         "xaxis": "x",
         "y": [
          0.4719999999999998,
          1.04,
          0.5856466212994136,
          0.18999999999999995,
          0,
          0,
          0,
          0.6399999999999999,
          0.9949600338889231,
          0.47999999999999976,
          0.7,
          0.44999999999999996,
          0.8999999999999999,
          0.9099999999999999,
          1.4500000000000002,
          1.69,
          1.69,
          1.6100000000000003,
          1.7299999999999995,
          0.7100000000000002,
          1.46,
          1.5,
          0.7899999999999998,
          1.13,
          1.62,
          1.5,
          0.7291200175554092,
          0.6000000000000001,
          1.2299999999999995,
          0.3400000000000001,
          0.2799999999999998,
          0.12999999999999967,
          0.26000000000000023,
          1.0688620946172658,
          0.43999999999999995,
          1.8678984685826958,
          1.0827177743899339
         ],
         "yaxis": "y"
        },
        {
         "hovertemplate": "Pacjent=122<br>BADANIE_NR=%{x}<br>euclidean_kw=%{y}<extra></extra>",
         "legendgroup": "122",
         "line": {
          "color": "#FF6692",
          "dash": "solid"
         },
         "marker": {
          "symbol": "circle"
         },
         "mode": "lines",
         "name": "122",
         "showlegend": true,
         "type": "scattergl",
         "x": [
          1,
          2,
          3,
          4,
          5,
          6,
          7,
          8,
          9,
          10,
          11,
          12,
          13,
          14,
          15,
          16,
          17,
          18,
          19,
          20,
          21,
          22,
          23,
          24,
          25,
          26
         ],
         "xaxis": "x",
         "y": [
          1.7008383115162673,
          1.2570196177561301,
          2.1447456575125217,
          2.493700971422403,
          2.3380228809933556,
          2.3399568908481365,
          1.987338608252095,
          0.9813391000403148,
          0.9553788459949424,
          0.5862980753265953,
          1.3905498610269968,
          1.3655402098776515,
          0.4677257582556179,
          1.085745804998574,
          0.4200923180916423,
          0.22926042836634472,
          0.6037197658844788,
          0.18999999999999995,
          0.27000000000000024,
          3.245112063262005,
          2.8047495470688726,
          2.203683067747467,
          0.7321921769754601,
          1.0484455901244947,
          1.7932085176297152,
          3.7681238999567204
         ],
         "yaxis": "y"
        },
        {
         "hovertemplate": "Pacjent=123<br>BADANIE_NR=%{x}<br>euclidean_kw=%{y}<extra></extra>",
         "legendgroup": "123",
         "line": {
          "color": "#B6E880",
          "dash": "solid"
         },
         "marker": {
          "symbol": "circle"
         },
         "mode": "lines",
         "name": "123",
         "showlegend": true,
         "type": "scattergl",
         "x": [
          1,
          2,
          3,
          4,
          5,
          6,
          7,
          8,
          9,
          10,
          11,
          12,
          13,
          14,
          15,
          16,
          17,
          18,
          19
         ],
         "xaxis": "x",
         "y": [
          1.8983391239955203,
          1.2198090500695427,
          0.4069943923696016,
          1.2729509024310401,
          1.0126322135899095,
          1.4577846205801461,
          2.0096876505945596,
          2.192441561364863,
          3.290076647133729,
          2.436,
          4.074246256282745,
          2.2815924263548912,
          4.482282392994363,
          4.478982750463721,
          3.734768533657742,
          2.7120921813242265,
          4.52241613500179,
          3.324349560440358,
          5.44379865758913
         ],
         "yaxis": "y"
        },
        {
         "hovertemplate": "Pacjent=125<br>BADANIE_NR=%{x}<br>euclidean_kw=%{y}<extra></extra>",
         "legendgroup": "125",
         "line": {
          "color": "#FF97FF",
          "dash": "solid"
         },
         "marker": {
          "symbol": "circle"
         },
         "mode": "lines",
         "name": "125",
         "showlegend": true,
         "type": "scattergl",
         "x": [
          1,
          2,
          3,
          4,
          5,
          6,
          7,
          8,
          9,
          10,
          11,
          12,
          13,
          14,
          15,
          16,
          17,
          18,
          19,
          20,
          21
         ],
         "xaxis": "x",
         "y": [
          0.33818370546239784,
          1.5973622573197621,
          1.6897841520718784,
          1.8083249953413212,
          1.821483046387408,
          0.5399999999999998,
          0.3200000000000005,
          0.6499999999999999,
          0.6299999999999997,
          0.26000000000000023,
          0.5700000000000005,
          0.5299999999999998,
          0.44999999999999996,
          1.451025844015192,
          1.0344873126336542,
          1.5066041284956047,
          1.4700000000000002,
          3.0278183565068755,
          1.5201065752110936,
          1.708694238300112,
          1.9789365533879493
         ],
         "yaxis": "y"
        },
        {
         "hovertemplate": "Pacjent=127<br>BADANIE_NR=%{x}<br>euclidean_kw=%{y}<extra></extra>",
         "legendgroup": "127",
         "line": {
          "color": "#FECB52",
          "dash": "solid"
         },
         "marker": {
          "symbol": "circle"
         },
         "mode": "lines",
         "name": "127",
         "showlegend": true,
         "type": "scattergl",
         "x": [
          1,
          2,
          3,
          4,
          5,
          6,
          7,
          8,
          9,
          10,
          11,
          12
         ],
         "xaxis": "x",
         "y": [
          4.0464677682991415,
          0.9120243632877846,
          2.1529342801260367,
          0,
          0.14,
          0.0719999999999998,
          0,
          0.11456108938746361,
          1.4492515765274498,
          0.10256573581356321,
          2.3116754791364644,
          4.07158419284463
         ],
         "yaxis": "y"
        },
        {
         "hovertemplate": "Pacjent=129<br>BADANIE_NR=%{x}<br>euclidean_kw=%{y}<extra></extra>",
         "legendgroup": "129",
         "line": {
          "color": "#636efa",
          "dash": "solid"
         },
         "marker": {
          "symbol": "circle"
         },
         "mode": "lines",
         "name": "129",
         "showlegend": true,
         "type": "scattergl",
         "x": [
          1,
          2,
          3,
          4,
          5,
          6,
          7,
          8,
          9,
          10,
          11,
          12,
          13,
          14,
          15,
          16
         ],
         "xaxis": "x",
         "y": [
          1.6694987315184808,
          1.823696992078737,
          1.5284426080625824,
          3.025353440089479,
          2.433799309914038,
          2.7896850487726503,
          0.5256885346098975,
          1.9265170253279364,
          0.9299999999999999,
          0.7899999999999998,
          0.99,
          1.2999999999999998,
          1.7200000000000002,
          2.137370703375455,
          1.7299999999999995,
          0.5303621404285944
         ],
         "yaxis": "y"
        },
        {
         "hovertemplate": "Pacjent=131<br>BADANIE_NR=%{x}<br>euclidean_kw=%{y}<extra></extra>",
         "legendgroup": "131",
         "line": {
          "color": "#EF553B",
          "dash": "solid"
         },
         "marker": {
          "symbol": "circle"
         },
         "mode": "lines",
         "name": "131",
         "showlegend": true,
         "type": "scattergl",
         "x": [
          1,
          2,
          3,
          4,
          5,
          6,
          7,
          8,
          9,
          10,
          11,
          12,
          13,
          14,
          15,
          16,
          17,
          18,
          19,
          20,
          21,
          22,
          23,
          24,
          25,
          26,
          27,
          28,
          29,
          30,
          31,
          32,
          33
         ],
         "xaxis": "x",
         "y": [
          0.5559999999999999,
          1.0119999999999998,
          0.3880000000000001,
          0.38,
          0.5880000000000001,
          0,
          0.26,
          0.504,
          0,
          0.9638755106340238,
          1.38538803228554,
          0.7880634492222058,
          0.15999999999999992,
          0.31663227883461303,
          1.9760526308780342,
          1.728723228281497,
          0.09000000000000008,
          0,
          0,
          0,
          0,
          0,
          0,
          0,
          0,
          1.9751951802290326,
          0.471185738324071,
          0.7323496432715728,
          2.102939846976133,
          0.5554277630799526,
          0,
          0,
          0.8982234819368277
         ],
         "yaxis": "y"
        },
        {
         "hovertemplate": "Pacjent=134<br>BADANIE_NR=%{x}<br>euclidean_kw=%{y}<extra></extra>",
         "legendgroup": "134",
         "line": {
          "color": "#00cc96",
          "dash": "solid"
         },
         "marker": {
          "symbol": "circle"
         },
         "mode": "lines",
         "name": "134",
         "showlegend": true,
         "type": "scattergl",
         "x": [
          1,
          2,
          3,
          4,
          5,
          6,
          7,
          8,
          9,
          10,
          11,
          12,
          13,
          14,
          15,
          16,
          17,
          18,
          19,
          20,
          21,
          22,
          23,
          24,
          25,
          26,
          27,
          28,
          29,
          30,
          31,
          32,
          33,
          34,
          35
         ],
         "xaxis": "x",
         "y": [
          1.886289347698277,
          2.813429139358563,
          1.7672840936014695,
          1.1831403267582197,
          1.8417277188913628,
          0.02000000000000024,
          0.2552828264478749,
          0,
          0.2540944706206727,
          0.0080000000000001,
          0.2603734525146128,
          0.8009855048500515,
          0.3076032024589106,
          0.5430874699346321,
          8.546872325403383,
          5.366847330196392,
          6.396986574216754,
          0.8799999999999999,
          0.18999999999999995,
          5.5,
          0,
          0.48999999999999977,
          0.48999999999999977,
          1.1846096403457131,
          1.5499999999999998,
          0.6312685640834649,
          1.2700000000000005,
          1.8600000000000003,
          2.5715061734322164,
          1.35,
          1.15,
          2.2563013983065296,
          2.05172025383579,
          1.7799999999999998,
          2.1728515825983146
         ],
         "yaxis": "y"
        },
        {
         "hovertemplate": "Pacjent=140<br>BADANIE_NR=%{x}<br>euclidean_kw=%{y}<extra></extra>",
         "legendgroup": "140",
         "line": {
          "color": "#ab63fa",
          "dash": "solid"
         },
         "marker": {
          "symbol": "circle"
         },
         "mode": "lines",
         "name": "140",
         "showlegend": true,
         "type": "scattergl",
         "x": [
          1,
          2,
          3,
          4,
          5,
          6,
          7,
          8,
          9,
          10,
          11,
          12,
          13,
          14,
          15,
          16,
          17,
          18,
          19,
          20,
          21,
          22,
          23,
          24
         ],
         "xaxis": "x",
         "y": [
          1.9394856984990803,
          0.07999999999999963,
          1.1013246569472601,
          0.9636176268630224,
          0.6599999999999999,
          0.48999999999999977,
          0.7928909130517263,
          0.99,
          0.7906478356385984,
          0.8318653737234173,
          0.8400000000000001,
          0.6389397467680346,
          0.26000000000000023,
          0.463072348559056,
          0.1100000000000001,
          0.43999999999999995,
          0.18999999999999995,
          0.12006664815842884,
          0.9812665285232142,
          0.8791837123150086,
          0.8300000000000001,
          0.4176122603564219,
          0.6831368823303274,
          1.088780969708784
         ],
         "yaxis": "y"
        },
        {
         "hovertemplate": "Pacjent=145<br>BADANIE_NR=%{x}<br>euclidean_kw=%{y}<extra></extra>",
         "legendgroup": "145",
         "line": {
          "color": "#FFA15A",
          "dash": "solid"
         },
         "marker": {
          "symbol": "circle"
         },
         "mode": "lines",
         "name": "145",
         "showlegend": true,
         "type": "scattergl",
         "x": [
          1,
          2,
          3,
          4,
          5,
          6,
          7,
          8,
          9
         ],
         "xaxis": "x",
         "y": [
          0.8832548171802567,
          1.254707966515919,
          1.0360726554538982,
          1.3878218470345334,
          1.6083311317729458,
          1.5874637723011717,
          2.135043506959216,
          1.1146921508273522,
          1.7881199833340786
         ],
         "yaxis": "y"
        }
       ],
       "layout": {
        "height": 800,
        "legend": {
         "title": {
          "text": "Pacjent"
         },
         "tracegroupgap": 0
        },
        "margin": {
         "t": 60
        },
        "showlegend": false,
        "template": {
         "data": {
          "bar": [
           {
            "error_x": {
             "color": "#2a3f5f"
            },
            "error_y": {
             "color": "#2a3f5f"
            },
            "marker": {
             "line": {
              "color": "white",
              "width": 0.5
             },
             "pattern": {
              "fillmode": "overlay",
              "size": 10,
              "solidity": 0.2
             }
            },
            "type": "bar"
           }
          ],
          "barpolar": [
           {
            "marker": {
             "line": {
              "color": "white",
              "width": 0.5
             },
             "pattern": {
              "fillmode": "overlay",
              "size": 10,
              "solidity": 0.2
             }
            },
            "type": "barpolar"
           }
          ],
          "carpet": [
           {
            "aaxis": {
             "endlinecolor": "#2a3f5f",
             "gridcolor": "#C8D4E3",
             "linecolor": "#C8D4E3",
             "minorgridcolor": "#C8D4E3",
             "startlinecolor": "#2a3f5f"
            },
            "baxis": {
             "endlinecolor": "#2a3f5f",
             "gridcolor": "#C8D4E3",
             "linecolor": "#C8D4E3",
             "minorgridcolor": "#C8D4E3",
             "startlinecolor": "#2a3f5f"
            },
            "type": "carpet"
           }
          ],
          "choropleth": [
           {
            "colorbar": {
             "outlinewidth": 0,
             "ticks": ""
            },
            "type": "choropleth"
           }
          ],
          "contour": [
           {
            "colorbar": {
             "outlinewidth": 0,
             "ticks": ""
            },
            "colorscale": [
             [
              0,
              "#0d0887"
             ],
             [
              0.1111111111111111,
              "#46039f"
             ],
             [
              0.2222222222222222,
              "#7201a8"
             ],
             [
              0.3333333333333333,
              "#9c179e"
             ],
             [
              0.4444444444444444,
              "#bd3786"
             ],
             [
              0.5555555555555556,
              "#d8576b"
             ],
             [
              0.6666666666666666,
              "#ed7953"
             ],
             [
              0.7777777777777778,
              "#fb9f3a"
             ],
             [
              0.8888888888888888,
              "#fdca26"
             ],
             [
              1,
              "#f0f921"
             ]
            ],
            "type": "contour"
           }
          ],
          "contourcarpet": [
           {
            "colorbar": {
             "outlinewidth": 0,
             "ticks": ""
            },
            "type": "contourcarpet"
           }
          ],
          "heatmap": [
           {
            "colorbar": {
             "outlinewidth": 0,
             "ticks": ""
            },
            "colorscale": [
             [
              0,
              "#0d0887"
             ],
             [
              0.1111111111111111,
              "#46039f"
             ],
             [
              0.2222222222222222,
              "#7201a8"
             ],
             [
              0.3333333333333333,
              "#9c179e"
             ],
             [
              0.4444444444444444,
              "#bd3786"
             ],
             [
              0.5555555555555556,
              "#d8576b"
             ],
             [
              0.6666666666666666,
              "#ed7953"
             ],
             [
              0.7777777777777778,
              "#fb9f3a"
             ],
             [
              0.8888888888888888,
              "#fdca26"
             ],
             [
              1,
              "#f0f921"
             ]
            ],
            "type": "heatmap"
           }
          ],
          "heatmapgl": [
           {
            "colorbar": {
             "outlinewidth": 0,
             "ticks": ""
            },
            "colorscale": [
             [
              0,
              "#0d0887"
             ],
             [
              0.1111111111111111,
              "#46039f"
             ],
             [
              0.2222222222222222,
              "#7201a8"
             ],
             [
              0.3333333333333333,
              "#9c179e"
             ],
             [
              0.4444444444444444,
              "#bd3786"
             ],
             [
              0.5555555555555556,
              "#d8576b"
             ],
             [
              0.6666666666666666,
              "#ed7953"
             ],
             [
              0.7777777777777778,
              "#fb9f3a"
             ],
             [
              0.8888888888888888,
              "#fdca26"
             ],
             [
              1,
              "#f0f921"
             ]
            ],
            "type": "heatmapgl"
           }
          ],
          "histogram": [
           {
            "marker": {
             "pattern": {
              "fillmode": "overlay",
              "size": 10,
              "solidity": 0.2
             }
            },
            "type": "histogram"
           }
          ],
          "histogram2d": [
           {
            "colorbar": {
             "outlinewidth": 0,
             "ticks": ""
            },
            "colorscale": [
             [
              0,
              "#0d0887"
             ],
             [
              0.1111111111111111,
              "#46039f"
             ],
             [
              0.2222222222222222,
              "#7201a8"
             ],
             [
              0.3333333333333333,
              "#9c179e"
             ],
             [
              0.4444444444444444,
              "#bd3786"
             ],
             [
              0.5555555555555556,
              "#d8576b"
             ],
             [
              0.6666666666666666,
              "#ed7953"
             ],
             [
              0.7777777777777778,
              "#fb9f3a"
             ],
             [
              0.8888888888888888,
              "#fdca26"
             ],
             [
              1,
              "#f0f921"
             ]
            ],
            "type": "histogram2d"
           }
          ],
          "histogram2dcontour": [
           {
            "colorbar": {
             "outlinewidth": 0,
             "ticks": ""
            },
            "colorscale": [
             [
              0,
              "#0d0887"
             ],
             [
              0.1111111111111111,
              "#46039f"
             ],
             [
              0.2222222222222222,
              "#7201a8"
             ],
             [
              0.3333333333333333,
              "#9c179e"
             ],
             [
              0.4444444444444444,
              "#bd3786"
             ],
             [
              0.5555555555555556,
              "#d8576b"
             ],
             [
              0.6666666666666666,
              "#ed7953"
             ],
             [
              0.7777777777777778,
              "#fb9f3a"
             ],
             [
              0.8888888888888888,
              "#fdca26"
             ],
             [
              1,
              "#f0f921"
             ]
            ],
            "type": "histogram2dcontour"
           }
          ],
          "mesh3d": [
           {
            "colorbar": {
             "outlinewidth": 0,
             "ticks": ""
            },
            "type": "mesh3d"
           }
          ],
          "parcoords": [
           {
            "line": {
             "colorbar": {
              "outlinewidth": 0,
              "ticks": ""
             }
            },
            "type": "parcoords"
           }
          ],
          "pie": [
           {
            "automargin": true,
            "type": "pie"
           }
          ],
          "scatter": [
           {
            "marker": {
             "colorbar": {
              "outlinewidth": 0,
              "ticks": ""
             }
            },
            "type": "scatter"
           }
          ],
          "scatter3d": [
           {
            "line": {
             "colorbar": {
              "outlinewidth": 0,
              "ticks": ""
             }
            },
            "marker": {
             "colorbar": {
              "outlinewidth": 0,
              "ticks": ""
             }
            },
            "type": "scatter3d"
           }
          ],
          "scattercarpet": [
           {
            "marker": {
             "colorbar": {
              "outlinewidth": 0,
              "ticks": ""
             }
            },
            "type": "scattercarpet"
           }
          ],
          "scattergeo": [
           {
            "marker": {
             "colorbar": {
              "outlinewidth": 0,
              "ticks": ""
             }
            },
            "type": "scattergeo"
           }
          ],
          "scattergl": [
           {
            "marker": {
             "colorbar": {
              "outlinewidth": 0,
              "ticks": ""
             }
            },
            "type": "scattergl"
           }
          ],
          "scattermapbox": [
           {
            "marker": {
             "colorbar": {
              "outlinewidth": 0,
              "ticks": ""
             }
            },
            "type": "scattermapbox"
           }
          ],
          "scatterpolar": [
           {
            "marker": {
             "colorbar": {
              "outlinewidth": 0,
              "ticks": ""
             }
            },
            "type": "scatterpolar"
           }
          ],
          "scatterpolargl": [
           {
            "marker": {
             "colorbar": {
              "outlinewidth": 0,
              "ticks": ""
             }
            },
            "type": "scatterpolargl"
           }
          ],
          "scatterternary": [
           {
            "marker": {
             "colorbar": {
              "outlinewidth": 0,
              "ticks": ""
             }
            },
            "type": "scatterternary"
           }
          ],
          "surface": [
           {
            "colorbar": {
             "outlinewidth": 0,
             "ticks": ""
            },
            "colorscale": [
             [
              0,
              "#0d0887"
             ],
             [
              0.1111111111111111,
              "#46039f"
             ],
             [
              0.2222222222222222,
              "#7201a8"
             ],
             [
              0.3333333333333333,
              "#9c179e"
             ],
             [
              0.4444444444444444,
              "#bd3786"
             ],
             [
              0.5555555555555556,
              "#d8576b"
             ],
             [
              0.6666666666666666,
              "#ed7953"
             ],
             [
              0.7777777777777778,
              "#fb9f3a"
             ],
             [
              0.8888888888888888,
              "#fdca26"
             ],
             [
              1,
              "#f0f921"
             ]
            ],
            "type": "surface"
           }
          ],
          "table": [
           {
            "cells": {
             "fill": {
              "color": "#EBF0F8"
             },
             "line": {
              "color": "white"
             }
            },
            "header": {
             "fill": {
              "color": "#C8D4E3"
             },
             "line": {
              "color": "white"
             }
            },
            "type": "table"
           }
          ]
         },
         "layout": {
          "annotationdefaults": {
           "arrowcolor": "#2a3f5f",
           "arrowhead": 0,
           "arrowwidth": 1
          },
          "autotypenumbers": "strict",
          "coloraxis": {
           "colorbar": {
            "outlinewidth": 0,
            "ticks": ""
           }
          },
          "colorscale": {
           "diverging": [
            [
             0,
             "#8e0152"
            ],
            [
             0.1,
             "#c51b7d"
            ],
            [
             0.2,
             "#de77ae"
            ],
            [
             0.3,
             "#f1b6da"
            ],
            [
             0.4,
             "#fde0ef"
            ],
            [
             0.5,
             "#f7f7f7"
            ],
            [
             0.6,
             "#e6f5d0"
            ],
            [
             0.7,
             "#b8e186"
            ],
            [
             0.8,
             "#7fbc41"
            ],
            [
             0.9,
             "#4d9221"
            ],
            [
             1,
             "#276419"
            ]
           ],
           "sequential": [
            [
             0,
             "#0d0887"
            ],
            [
             0.1111111111111111,
             "#46039f"
            ],
            [
             0.2222222222222222,
             "#7201a8"
            ],
            [
             0.3333333333333333,
             "#9c179e"
            ],
            [
             0.4444444444444444,
             "#bd3786"
            ],
            [
             0.5555555555555556,
             "#d8576b"
            ],
            [
             0.6666666666666666,
             "#ed7953"
            ],
            [
             0.7777777777777778,
             "#fb9f3a"
            ],
            [
             0.8888888888888888,
             "#fdca26"
            ],
            [
             1,
             "#f0f921"
            ]
           ],
           "sequentialminus": [
            [
             0,
             "#0d0887"
            ],
            [
             0.1111111111111111,
             "#46039f"
            ],
            [
             0.2222222222222222,
             "#7201a8"
            ],
            [
             0.3333333333333333,
             "#9c179e"
            ],
            [
             0.4444444444444444,
             "#bd3786"
            ],
            [
             0.5555555555555556,
             "#d8576b"
            ],
            [
             0.6666666666666666,
             "#ed7953"
            ],
            [
             0.7777777777777778,
             "#fb9f3a"
            ],
            [
             0.8888888888888888,
             "#fdca26"
            ],
            [
             1,
             "#f0f921"
            ]
           ]
          },
          "colorway": [
           "#636efa",
           "#EF553B",
           "#00cc96",
           "#ab63fa",
           "#FFA15A",
           "#19d3f3",
           "#FF6692",
           "#B6E880",
           "#FF97FF",
           "#FECB52"
          ],
          "font": {
           "color": "#2a3f5f"
          },
          "geo": {
           "bgcolor": "white",
           "lakecolor": "white",
           "landcolor": "white",
           "showlakes": true,
           "showland": true,
           "subunitcolor": "#C8D4E3"
          },
          "hoverlabel": {
           "align": "left"
          },
          "hovermode": "closest",
          "mapbox": {
           "style": "light"
          },
          "paper_bgcolor": "white",
          "plot_bgcolor": "white",
          "polar": {
           "angularaxis": {
            "gridcolor": "#EBF0F8",
            "linecolor": "#EBF0F8",
            "ticks": ""
           },
           "bgcolor": "white",
           "radialaxis": {
            "gridcolor": "#EBF0F8",
            "linecolor": "#EBF0F8",
            "ticks": ""
           }
          },
          "scene": {
           "xaxis": {
            "backgroundcolor": "white",
            "gridcolor": "#DFE8F3",
            "gridwidth": 2,
            "linecolor": "#EBF0F8",
            "showbackground": true,
            "ticks": "",
            "zerolinecolor": "#EBF0F8"
           },
           "yaxis": {
            "backgroundcolor": "white",
            "gridcolor": "#DFE8F3",
            "gridwidth": 2,
            "linecolor": "#EBF0F8",
            "showbackground": true,
            "ticks": "",
            "zerolinecolor": "#EBF0F8"
           },
           "zaxis": {
            "backgroundcolor": "white",
            "gridcolor": "#DFE8F3",
            "gridwidth": 2,
            "linecolor": "#EBF0F8",
            "showbackground": true,
            "ticks": "",
            "zerolinecolor": "#EBF0F8"
           }
          },
          "shapedefaults": {
           "line": {
            "color": "#2a3f5f"
           }
          },
          "ternary": {
           "aaxis": {
            "gridcolor": "#DFE8F3",
            "linecolor": "#A2B1C6",
            "ticks": ""
           },
           "baxis": {
            "gridcolor": "#DFE8F3",
            "linecolor": "#A2B1C6",
            "ticks": ""
           },
           "bgcolor": "white",
           "caxis": {
            "gridcolor": "#DFE8F3",
            "linecolor": "#A2B1C6",
            "ticks": ""
           }
          },
          "title": {
           "x": 0.05
          },
          "xaxis": {
           "automargin": true,
           "gridcolor": "#EBF0F8",
           "linecolor": "#EBF0F8",
           "ticks": "",
           "title": {
            "standoff": 15
           },
           "zerolinecolor": "#EBF0F8",
           "zerolinewidth": 2
          },
          "yaxis": {
           "automargin": true,
           "gridcolor": "#EBF0F8",
           "linecolor": "#EBF0F8",
           "ticks": "",
           "title": {
            "standoff": 15
           },
           "zerolinecolor": "#EBF0F8",
           "zerolinewidth": 2
          }
         }
        },
        "width": 800,
        "xaxis": {
         "anchor": "y",
         "domain": [
          0,
          1
         ],
         "range": [
          0,
          65
         ],
         "tickfont": {
          "size": 18
         },
         "title": {
          "font": {
           "size": 20
          },
          "text": "Numer badania"
         }
        },
        "yaxis": {
         "anchor": "x",
         "domain": [
          0,
          1
         ],
         "range": [
          0,
          15
         ],
         "tickfont": {
          "size": 18
         },
         "title": {
          "font": {
           "size": 20
          },
          "text": "Odległość od normy (Miernik 2)"
         }
        }
       }
      }
     },
     "metadata": {},
     "output_type": "display_data"
    }
   ],
   "source": [
    "# Podziel dane na dwie ramki danych\n",
    "df_zgon_0 = df_dist[df_dist['ZGON'] == 0]\n",
    "df_zgon_1 = df_dist[df_dist['ZGON'] == 1]\n",
    "\n",
    "y='euclidean_kw'\n",
    "\n",
    "# fig0 = make_subplots(rows=1, cols=2, subplot_titles=['Zgon: nie', 'Zgon: tak'])\n",
    "# Wykres dla ZGON=0\n",
    "fig1 = px.line(df_zgon_0, x='BADANIE_NR', y=y, color='PACJENT_NR', \n",
    "              labels={'BADANIE_NR': 'BADANIE_NR', y: y, 'PACJENT_NR': 'Pacjent'}, width=800, height=800)\n",
    "fig1.update_xaxes(title_text='Numer badania')\n",
    "fig1.update_yaxes(title_text='Odległość od normy (Miernik 2)')\n",
    "fig1.update_layout(showlegend=False)\n",
    "\n",
    "# Wykres dla ZGON=1\n",
    "fig2 = px.line(df_zgon_1, x='BADANIE_NR', y=y, color='PACJENT_NR', \n",
    "               labels={'BADANIE_NR': 'BADANIE_NR', y: y, 'PACJENT_NR': 'Pacjent'}, width=800, height=800)\n",
    "fig2.update_xaxes(title_text='Numer badania')\n",
    "fig2.update_yaxes(title_text='Odległość od normy (Miernik 2)')\n",
    "fig2.update_layout(showlegend=False)\n",
    "\n",
    "fig1.update_yaxes(range=[0, 15])\n",
    "fig2.update_yaxes(range=[0, 15])\n",
    "\n",
    "\n",
    "fig1.update_xaxes(range=[0, 65])\n",
    "fig2.update_xaxes(range=[0, 65])\n",
    "\n",
    "fig1.update_layout(\n",
    "    xaxis=dict(\n",
    "        tickfont=dict(size=18),\n",
    "        title_font=dict(size=24),\n",
    "    ),\n",
    "    yaxis=dict(\n",
    "        tickfont=dict(size=18),\n",
    "        title_font=dict(size=24)\n",
    "    )\n",
    ")\n",
    "fig2.update_layout(\n",
    "    xaxis=dict(\n",
    "        tickfont=dict(size=18),\n",
    "        title_font=dict(size=24),\n",
    "    ),\n",
    "    yaxis=dict(\n",
    "        tickfont=dict(size=18),\n",
    "        title_font=dict(size=24)\n",
    "    )\n",
    ")\n",
    "fig1.update_layout(template=\"plotly_white\")\n",
    "fig2.update_layout(template=\"plotly_white\")\n",
    "\n",
    "fig1.write_image(\"images4/\"+\"miernik2_pacjenci_wyleczeni\"+ \".png\", width=1000, height=800, scale=4, format=\"png\")\n",
    "fig2.write_image(\"images4/\"+\"miernik2_pacjenci_zmarli\"+ \".png\", width=1000, height=800, scale=4, format=\"png\")\n",
    "fig1.write_html(\"images4/miernik2_pacjenci_wyleczeni.html\")\n",
    "fig2.write_html(\"images4/miernik2_pacjenci_zmarli.html\")\n",
    "\n",
    "# Wyświetl oba wykresy\n",
    "fig1.show()\n",
    "fig2.show()"
   ]
  },
  {
   "cell_type": "code",
   "execution_count": 50,
   "metadata": {},
   "outputs": [
    {
     "data": {
      "application/vnd.plotly.v1+json": {
       "config": {
        "plotlyServerURL": "https://plot.ly"
       },
       "data": [
        {
         "hovertemplate": "Pacjent=1<br>BADANIE_NR=%{x}<br>euclidean_kw_skum=%{y}<extra></extra>",
         "legendgroup": "1",
         "line": {
          "color": "#636efa",
          "dash": "solid"
         },
         "marker": {
          "symbol": "circle"
         },
         "mode": "lines",
         "name": "1",
         "showlegend": true,
         "type": "scattergl",
         "x": [
          1,
          2,
          3,
          4,
          5,
          6,
          7,
          8,
          9,
          10,
          11,
          12,
          13,
          14,
          15,
          16,
          17,
          18,
          19,
          20,
          21,
          22,
          23,
          24,
          25,
          26,
          27,
          28,
          29,
          30,
          31,
          32,
          33,
          34,
          35,
          36,
          37,
          38,
          39,
          40,
          41,
          42,
          43,
          44,
          45,
          46,
          47,
          48,
          49,
          50
         ],
         "xaxis": "x",
         "y": [
          1.6618229299619383,
          6.466527372363179,
          8.886020135996947,
          10.846034281493678,
          12.72574428721915,
          14.113957328158744,
          14.983957328158745,
          16.423957328158743,
          18.143957328158745,
          19.413957328158745,
          20.893957328158745,
          21.693957328158746,
          22.723957328158743,
          23.243957328158743,
          23.293957328158744,
          23.623957328158745,
          24.263957328158742,
          24.323957328158745,
          24.843957328158744,
          25.083957328158743,
          25.099957328158744,
          25.209957328158744,
          25.719957328158745,
          26.249957328158743,
          27.059957328158745,
          27.749957328158743,
          28.18559020111486,
          29.045590201114862,
          29.94559020111486,
          30.877789750567658,
          31.708731385100435,
          32.58873138510043,
          33.90815701771487,
          35.078873037934976,
          35.62887303793497,
          36.494715979813,
          37.72697891824907,
          38.94178919150165,
          40.58178919150164,
          42.27788919150164,
          44.00788919150165,
          47.35030996453162,
          49.000309964531624,
          50.670309964531626,
          51.960309964531625,
          52.66030996453162,
          53.250309964531624,
          53.320309964531624,
          54.78812602930268,
          55.77812602930268
         ],
         "yaxis": "y"
        },
        {
         "hovertemplate": "Pacjent=2<br>BADANIE_NR=%{x}<br>euclidean_kw_skum=%{y}<extra></extra>",
         "legendgroup": "2",
         "line": {
          "color": "#EF553B",
          "dash": "solid"
         },
         "marker": {
          "symbol": "circle"
         },
         "mode": "lines",
         "name": "2",
         "showlegend": true,
         "type": "scattergl",
         "x": [
          1,
          2,
          3,
          4,
          5,
          6,
          7,
          8,
          9,
          10
         ],
         "xaxis": "x",
         "y": [
          2.719580314954164,
          4.858700737792829,
          7.879971785857894,
          10.557475195284384,
          11.790166978305276,
          13.573301358726528,
          15.093301358726528,
          16.44330135872653,
          17.55330135872653,
          17.55330135872653
         ],
         "yaxis": "y"
        },
        {
         "hovertemplate": "Pacjent=3<br>BADANIE_NR=%{x}<br>euclidean_kw_skum=%{y}<extra></extra>",
         "legendgroup": "3",
         "line": {
          "color": "#00cc96",
          "dash": "solid"
         },
         "marker": {
          "symbol": "circle"
         },
         "mode": "lines",
         "name": "3",
         "showlegend": true,
         "type": "scattergl",
         "x": [
          1,
          2,
          3,
          4,
          5,
          6,
          7,
          8,
          9,
          10,
          11,
          12,
          13,
          14,
          15,
          16,
          17,
          18,
          19,
          20,
          21,
          22,
          23,
          24,
          25,
          26,
          27,
          28,
          29,
          30,
          31,
          32,
          33,
          34,
          35,
          36,
          37,
          38,
          39,
          40,
          41
         ],
         "xaxis": "x",
         "y": [
          0.42007939800804855,
          1.4800793980080487,
          1.7200793980080484,
          2.9000793980080486,
          4.210079398008048,
          5.440079398008049,
          6.540079398008048,
          8.110079398008049,
          8.620079398008048,
          8.90007939800805,
          9.07007939800805,
          9.388883413039228,
          10.588883413039229,
          11.598883413039228,
          11.690883413039227,
          12.030883413039227,
          12.230883413039228,
          12.950883413039229,
          12.950883413039229,
          13.150883413039228,
          13.150883413039228,
          13.200883413039229,
          15.230883413039228,
          15.230883413039228,
          15.230883413039228,
          15.230883413039228,
          15.230883413039228,
          15.631063372557442,
          15.701063372557442,
          15.701063372557442,
          15.701063372557442,
          15.869063372557443,
          16.339063372557444,
          16.339063372557444,
          16.339063372557444,
          16.339063372557444,
          16.339063372557444,
          16.339063372557444,
          16.559063372557443,
          16.559063372557443,
          16.559063372557443
         ],
         "yaxis": "y"
        },
        {
         "hovertemplate": "Pacjent=4<br>BADANIE_NR=%{x}<br>euclidean_kw_skum=%{y}<extra></extra>",
         "legendgroup": "4",
         "line": {
          "color": "#ab63fa",
          "dash": "solid"
         },
         "marker": {
          "symbol": "circle"
         },
         "mode": "lines",
         "name": "4",
         "showlegend": true,
         "type": "scattergl",
         "x": [
          1,
          2,
          3,
          4,
          5,
          6,
          7,
          8,
          9,
          10,
          11,
          12,
          13,
          14,
          15,
          16,
          17,
          18,
          19,
          20,
          21,
          22,
          23,
          24,
          25,
          26,
          27,
          28,
          29,
          30,
          31,
          32,
          33,
          34
         ],
         "xaxis": "x",
         "y": [
          0.5799999999999996,
          1.952950958619564,
          2.3029509586195642,
          2.3029509586195642,
          2.642950958619564,
          2.8729509586195636,
          3.118258928322955,
          3.3222589283229547,
          3.3222589283229547,
          3.3222589283229547,
          3.3222589283229547,
          3.3222589283229547,
          3.3222589283229547,
          3.3222589283229547,
          3.3222589283229547,
          3.3222589283229547,
          3.3222589283229547,
          3.3222589283229547,
          3.3222589283229547,
          3.3222589283229547,
          3.3222589283229547,
          3.3222589283229547,
          3.3222589283229547,
          3.942258928322955,
          4.547143681114546,
          5.847143681114545,
          8.166965800974365,
          9.84237081619887,
          12.360455817920517,
          14.150455817920518,
          15.070455817920518,
          15.560455817920518,
          17.752212191243064,
          17.902212191243063
         ],
         "yaxis": "y"
        },
        {
         "hovertemplate": "Pacjent=6<br>BADANIE_NR=%{x}<br>euclidean_kw_skum=%{y}<extra></extra>",
         "legendgroup": "6",
         "line": {
          "color": "#FFA15A",
          "dash": "solid"
         },
         "marker": {
          "symbol": "circle"
         },
         "mode": "lines",
         "name": "6",
         "showlegend": true,
         "type": "scattergl",
         "x": [
          1,
          2,
          3,
          4,
          5,
          6,
          7,
          8
         ],
         "xaxis": "x",
         "y": [
          0,
          1.004,
          1.744,
          3.572670555348885,
          4.196670555348885,
          4.344670555348885,
          4.38814881621845,
          4.38814881621845
         ],
         "yaxis": "y"
        },
        {
         "hovertemplate": "Pacjent=8<br>BADANIE_NR=%{x}<br>euclidean_kw_skum=%{y}<extra></extra>",
         "legendgroup": "8",
         "line": {
          "color": "#19d3f3",
          "dash": "solid"
         },
         "marker": {
          "symbol": "circle"
         },
         "mode": "lines",
         "name": "8",
         "showlegend": true,
         "type": "scattergl",
         "x": [
          1,
          2,
          3,
          4,
          5,
          6,
          7,
          8,
          9,
          10
         ],
         "xaxis": "x",
         "y": [
          0,
          1.6209491046914462,
          1.9089491046914462,
          1.9089491046914462,
          1.9089491046914462,
          1.9089491046914462,
          1.9089491046914462,
          1.9089491046914462,
          2.078949104691447,
          4.03594271735348
         ],
         "yaxis": "y"
        },
        {
         "hovertemplate": "Pacjent=10<br>BADANIE_NR=%{x}<br>euclidean_kw_skum=%{y}<extra></extra>",
         "legendgroup": "10",
         "line": {
          "color": "#FF6692",
          "dash": "solid"
         },
         "marker": {
          "symbol": "circle"
         },
         "mode": "lines",
         "name": "10",
         "showlegend": true,
         "type": "scattergl",
         "x": [
          1,
          2,
          3,
          4,
          5,
          6,
          7,
          8,
          9,
          10,
          11,
          12,
          13,
          14,
          15,
          16,
          17,
          18,
          19,
          20,
          21,
          22,
          23,
          24
         ],
         "xaxis": "x",
         "y": [
          0.1719999999999998,
          0.1719999999999998,
          0.1719999999999998,
          0.1719999999999998,
          0.1719999999999998,
          0.1719999999999998,
          0.1719999999999998,
          0.1719999999999998,
          0.5019999999999994,
          0.5019999999999994,
          0.5019999999999994,
          0.5019999999999994,
          0.5019999999999994,
          0.5019999999999994,
          0.5019999999999994,
          0.5019999999999994,
          0.5019999999999994,
          0.5019999999999994,
          0.5019999999999994,
          1.4419999999999993,
          1.4419999999999993,
          1.4419999999999993,
          1.4419999999999993,
          2.9659999999999993
         ],
         "yaxis": "y"
        },
        {
         "hovertemplate": "Pacjent=16<br>BADANIE_NR=%{x}<br>euclidean_kw_skum=%{y}<extra></extra>",
         "legendgroup": "16",
         "line": {
          "color": "#B6E880",
          "dash": "solid"
         },
         "marker": {
          "symbol": "circle"
         },
         "mode": "lines",
         "name": "16",
         "showlegend": true,
         "type": "scattergl",
         "x": [
          1,
          2,
          3,
          4,
          5,
          6,
          7,
          8,
          9,
          10,
          11,
          12,
          13,
          14,
          15,
          16,
          17,
          18,
          19,
          20,
          21,
          22,
          23,
          24,
          25,
          26
         ],
         "xaxis": "x",
         "y": [
          1.189853159545488,
          2.504554173823637,
          5.749554631896893,
          7.716746209178502,
          8.286746209178503,
          9.346731738079352,
          9.546731738079352,
          10.616731738079352,
          11.859959794390825,
          13.169959794390824,
          13.659959794390824,
          14.649959794390824,
          15.029959794390823,
          15.499959794390824,
          16.229959794390822,
          18.109959794390825,
          19.709959794390823,
          21.329959794390824,
          22.669959794390824,
          24.669959794390824,
          27.029959794390823,
          29.019959794390825,
          30.939959794390823,
          32.65002529021255,
          32.65002529021255,
          34.34059797424598
         ],
         "yaxis": "y"
        },
        {
         "hovertemplate": "Pacjent=17<br>BADANIE_NR=%{x}<br>euclidean_kw_skum=%{y}<extra></extra>",
         "legendgroup": "17",
         "line": {
          "color": "#FF97FF",
          "dash": "solid"
         },
         "marker": {
          "symbol": "circle"
         },
         "mode": "lines",
         "name": "17",
         "showlegend": true,
         "type": "scattergl",
         "x": [
          1,
          2,
          3,
          4,
          5,
          6,
          7,
          8,
          9,
          10,
          11,
          12,
          13,
          14,
          15,
          16,
          17,
          18
         ],
         "xaxis": "x",
         "y": [
          0.1399999999999999,
          0.2699999999999996,
          2.2920766758373046,
          3.5183429475290993,
          5.228450013566079,
          6.733144275626127,
          8.793144275626126,
          10.953144275626126,
          12.683144275626127,
          15.253144275626127,
          16.053144275626128,
          16.933144275626127,
          18.143144275626128,
          18.143144275626128,
          18.973144275626126,
          19.44314427562613,
          19.92314427562613,
          20.143144275626128
         ],
         "yaxis": "y"
        },
        {
         "hovertemplate": "Pacjent=18<br>BADANIE_NR=%{x}<br>euclidean_kw_skum=%{y}<extra></extra>",
         "legendgroup": "18",
         "line": {
          "color": "#FECB52",
          "dash": "solid"
         },
         "marker": {
          "symbol": "circle"
         },
         "mode": "lines",
         "name": "18",
         "showlegend": true,
         "type": "scattergl",
         "x": [
          1,
          2,
          3,
          4,
          5,
          6,
          7,
          8,
          9,
          10,
          11,
          12,
          13,
          14,
          15,
          16,
          17,
          18,
          19,
          20,
          21,
          22,
          23,
          24,
          25,
          26,
          27,
          28,
          29,
          30,
          31,
          32,
          33,
          34,
          35
         ],
         "xaxis": "x",
         "y": [
          1.1752733235021513,
          2.476229923241762,
          3.5462299232417624,
          4.776229923241762,
          5.646229923241762,
          6.5862299232417625,
          6.906229923241763,
          7.446229923241763,
          8.406229923241762,
          8.866229923241763,
          9.614572090969869,
          9.786339375398539,
          9.786339375398539,
          9.856339375398539,
          10.22633937539854,
          10.38633937539854,
          10.90633937539854,
          11.58633937539854,
          12.09633937539854,
          12.53633937539854,
          12.53633937539854,
          12.716339375398539,
          12.716339375398539,
          12.716339375398539,
          12.716339375398539,
          12.716339375398539,
          12.716339375398539,
          12.716339375398539,
          12.716339375398539,
          12.716339375398539,
          12.716339375398539,
          12.716339375398539,
          12.716339375398539,
          12.716339375398539,
          12.716339375398539
         ],
         "yaxis": "y"
        },
        {
         "hovertemplate": "Pacjent=19<br>BADANIE_NR=%{x}<br>euclidean_kw_skum=%{y}<extra></extra>",
         "legendgroup": "19",
         "line": {
          "color": "#636efa",
          "dash": "solid"
         },
         "marker": {
          "symbol": "circle"
         },
         "mode": "lines",
         "name": "19",
         "showlegend": true,
         "type": "scattergl",
         "x": [
          1,
          2,
          3,
          4,
          5,
          6,
          7,
          8,
          9,
          10,
          11,
          12,
          13,
          14,
          15,
          16,
          17,
          18,
          19,
          20,
          21,
          22,
          23,
          24,
          25,
          26,
          27,
          28,
          29,
          30,
          31,
          32
         ],
         "xaxis": "x",
         "y": [
          0,
          0,
          0,
          0,
          0,
          0,
          0,
          0,
          0,
          1.392,
          1.392,
          1.392,
          1.392,
          1.392,
          1.392,
          1.392,
          2.000695652173913,
          2.000695652173913,
          2.000695652173913,
          2.000695652173913,
          2.1746086956521737,
          2.1746086956521737,
          2.1746086956521737,
          2.1746086956521737,
          2.1746086956521737,
          2.1746086956521737,
          2.1746086956521737,
          2.1746086956521737,
          2.1746086956521737,
          2.1746086956521737,
          2.1746086956521737,
          2.1746086956521737
         ],
         "yaxis": "y"
        },
        {
         "hovertemplate": "Pacjent=26<br>BADANIE_NR=%{x}<br>euclidean_kw_skum=%{y}<extra></extra>",
         "legendgroup": "26",
         "line": {
          "color": "#EF553B",
          "dash": "solid"
         },
         "marker": {
          "symbol": "circle"
         },
         "mode": "lines",
         "name": "26",
         "showlegend": true,
         "type": "scattergl",
         "x": [
          1,
          2,
          3,
          4,
          5,
          6,
          7,
          8,
          9,
          10,
          11,
          12,
          13,
          14,
          15,
          16
         ],
         "xaxis": "x",
         "y": [
          2.8546902919801957,
          7.259844491573199,
          13.636563559064948,
          21.5172117361089,
          22.429236099396686,
          24.1397230922169,
          24.1397230922169,
          24.1397230922169,
          24.239723092216902,
          24.682441964640475,
          25.762441964640477,
          25.762441964640477,
          25.762441964640477,
          25.762441964640477,
          26.214587958761843,
          26.44545588637415
         ],
         "yaxis": "y"
        },
        {
         "hovertemplate": "Pacjent=28<br>BADANIE_NR=%{x}<br>euclidean_kw_skum=%{y}<extra></extra>",
         "legendgroup": "28",
         "line": {
          "color": "#00cc96",
          "dash": "solid"
         },
         "marker": {
          "symbol": "circle"
         },
         "mode": "lines",
         "name": "28",
         "showlegend": true,
         "type": "scattergl",
         "x": [
          1,
          2,
          3,
          4,
          5,
          6,
          7,
          8,
          9,
          10,
          11,
          12,
          13,
          14,
          15,
          16,
          17,
          18,
          19,
          20,
          21,
          22,
          23,
          24,
          25,
          26,
          27,
          28,
          29,
          30,
          31,
          32,
          33,
          34,
          35,
          36,
          37,
          38,
          39,
          40
         ],
         "xaxis": "x",
         "y": [
          2.719037060131222,
          3.049757485868732,
          3.539939049209724,
          4.106076282888358,
          5.0607329287159635,
          6.056640310989859,
          6.056640310989859,
          7.377940975878343,
          8.058355555381164,
          8.138355555381164,
          8.878355555381162,
          9.135952139209444,
          9.636351979337315,
          10.056351979337315,
          10.266351979337315,
          11.484424226784075,
          12.92122623123702,
          13.333051436876499,
          13.3530514368765,
          13.3650514368765,
          13.685051436876499,
          13.945888550800113,
          15.135888550800113,
          16.465888550800113,
          17.765888550800113,
          18.20588855080011,
          18.925888550800114,
          19.185888550800115,
          19.705888550800115,
          21.325888550800112,
          22.245888550800114,
          22.86330251241744,
          23.10330251241744,
          23.48330251241744,
          23.49330251241744,
          23.49330251241744,
          23.523302512417438,
          23.523302512417438,
          23.523302512417438,
          23.523302512417438
         ],
         "yaxis": "y"
        },
        {
         "hovertemplate": "Pacjent=29<br>BADANIE_NR=%{x}<br>euclidean_kw_skum=%{y}<extra></extra>",
         "legendgroup": "29",
         "line": {
          "color": "#ab63fa",
          "dash": "solid"
         },
         "marker": {
          "symbol": "circle"
         },
         "mode": "lines",
         "name": "29",
         "showlegend": true,
         "type": "scattergl",
         "x": [
          1,
          2,
          3,
          4,
          5,
          6,
          7,
          8,
          9,
          10,
          11,
          12,
          13,
          14,
          15,
          16,
          17,
          18,
          19,
          20,
          21,
          22,
          23,
          24,
          25,
          26,
          27,
          28,
          29,
          30,
          31,
          32
         ],
         "xaxis": "x",
         "y": [
          4.441369883415752,
          6.389266378985784,
          8.945364257572374,
          11.040395391123205,
          12.475994407444494,
          13.841812735902128,
          14.431812735902128,
          15.57253005408398,
          16.52253005408398,
          17.198816975442067,
          18.507379545592997,
          19.592817705968795,
          20.512817705968796,
          21.41481548867117,
          22.62481548867117,
          23.814815488671172,
          24.978011087012224,
          25.758011087012225,
          26.268011087012223,
          26.608011087012223,
          26.608011087012223,
          26.658011087012223,
          26.658011087012223,
          26.658011087012223,
          26.658011087012223,
          26.658011087012223,
          26.658011087012223,
          26.658011087012223,
          27.130011087012225,
          27.158011087012223,
          27.870352820172307,
          27.87435282017231
         ],
         "yaxis": "y"
        },
        {
         "hovertemplate": "Pacjent=33<br>BADANIE_NR=%{x}<br>euclidean_kw_skum=%{y}<extra></extra>",
         "legendgroup": "33",
         "line": {
          "color": "#FFA15A",
          "dash": "solid"
         },
         "marker": {
          "symbol": "circle"
         },
         "mode": "lines",
         "name": "33",
         "showlegend": true,
         "type": "scattergl",
         "x": [
          1,
          2,
          3,
          4,
          5,
          6,
          7,
          8,
          9,
          10,
          11,
          12,
          13,
          14,
          15,
          16,
          17,
          18,
          19,
          20,
          21,
          22,
          23,
          24,
          25,
          26,
          27,
          28,
          29,
          30,
          31,
          32,
          33,
          34,
          35,
          36,
          37,
          38,
          39,
          40,
          41,
          42,
          43,
          44,
          45,
          46,
          47,
          48,
          49,
          50,
          51
         ],
         "xaxis": "x",
         "y": [
          1.5816770930127646,
          3.4412778981063123,
          5.4956194387115715,
          6.115619438711572,
          6.2956194387115705,
          6.815619438711571,
          7.003502380992131,
          7.853502380992131,
          8.21350238099213,
          10.253502380992131,
          11.843628162180526,
          13.843628162180526,
          15.55214916000291,
          17.298115940901106,
          19.128115940901104,
          20.788115940901104,
          22.228115940901105,
          23.918115940901103,
          25.518115940901104,
          26.858115940901104,
          28.348115940901103,
          30.108115940901104,
          33.863019100077636,
          36.50301910007764,
          39.35301910007764,
          40.98301910007764,
          43.0167585130802,
          43.9667585130802,
          45.618667711553286,
          46.31866771155329,
          46.53866771155329,
          47.178867680313054,
          47.668667639480056,
          48.53866763948005,
          49.50449164001017,
          50.86449164001017,
          52.25449164001017,
          54.44455008671885,
          55.564550086718846,
          57.23459319993479,
          58.55459319993479,
          59.80459319993479,
          60.30348797842019,
          60.74178011843642,
          62.23178011843642,
          63.19178011843642,
          64.72178011843641,
          66.22178011843641,
          67.79178011843642,
          69.28178011843642,
          70.50178011843641
         ],
         "yaxis": "y"
        },
        {
         "hovertemplate": "Pacjent=39<br>BADANIE_NR=%{x}<br>euclidean_kw_skum=%{y}<extra></extra>",
         "legendgroup": "39",
         "line": {
          "color": "#19d3f3",
          "dash": "solid"
         },
         "marker": {
          "symbol": "circle"
         },
         "mode": "lines",
         "name": "39",
         "showlegend": true,
         "type": "scattergl",
         "x": [
          1,
          2,
          3,
          4,
          5,
          6,
          7,
          8,
          9,
          10,
          11,
          12,
          13,
          14,
          15,
          16,
          17,
          18,
          19,
          20,
          21,
          22,
          23,
          24,
          25,
          26,
          27,
          28,
          29,
          30,
          31,
          32,
          33,
          34,
          35
         ],
         "xaxis": "x",
         "y": [
          2.785672545999699,
          6.217927027505027,
          12.566590667163503,
          14.177375081437471,
          16.234501399613773,
          19.563654382800795,
          21.49362405308803,
          23.770329148354435,
          26.430796790406493,
          29.280796790406495,
          31.190796790406495,
          33.03079679040649,
          35.13079679040649,
          36.6807967904065,
          37.650796790406496,
          37.77079679040649,
          37.92679679040649,
          38.0067967904065,
          38.98296275990143,
          38.98296275990143,
          38.98296275990143,
          38.98296275990143,
          38.98296275990143,
          38.98296275990143,
          38.98296275990143,
          42.46289368249754,
          42.46289368249754,
          42.46289368249754,
          42.46289368249754,
          42.46289368249754,
          42.46289368249754,
          42.46289368249754,
          42.57089368249754,
          43.63868671413433,
          43.758686714134335
         ],
         "yaxis": "y"
        },
        {
         "hovertemplate": "Pacjent=44<br>BADANIE_NR=%{x}<br>euclidean_kw_skum=%{y}<extra></extra>",
         "legendgroup": "44",
         "line": {
          "color": "#FF6692",
          "dash": "solid"
         },
         "marker": {
          "symbol": "circle"
         },
         "mode": "lines",
         "name": "44",
         "showlegend": true,
         "type": "scattergl",
         "x": [
          1,
          2,
          3,
          4,
          5,
          6,
          7,
          8,
          9,
          10,
          11,
          12,
          13,
          14,
          15,
          16,
          17,
          18,
          19,
          20,
          21,
          22,
          23,
          24,
          25,
          26
         ],
         "xaxis": "x",
         "y": [
          0.3400000000000001,
          4.356407695884815,
          7.2935111370292205,
          9.163881712827505,
          10.583881712827505,
          10.863881712827505,
          10.993881712827505,
          11.563881712827506,
          11.843881712827505,
          12.623881712827504,
          13.529057938763648,
          15.279057938763648,
          17.432028909306446,
          18.18765050772724,
          20.25765050772724,
          21.517650507727243,
          23.00765050772724,
          23.627650507727243,
          23.867650507727245,
          24.227650507727244,
          24.75765050772724,
          24.75765050772724,
          24.75765050772724,
          25.00765050772724,
          25.00765050772724,
          25.00765050772724
         ],
         "yaxis": "y"
        },
        {
         "hovertemplate": "Pacjent=46<br>BADANIE_NR=%{x}<br>euclidean_kw_skum=%{y}<extra></extra>",
         "legendgroup": "46",
         "line": {
          "color": "#B6E880",
          "dash": "solid"
         },
         "marker": {
          "symbol": "circle"
         },
         "mode": "lines",
         "name": "46",
         "showlegend": true,
         "type": "scattergl",
         "x": [
          1,
          2,
          3,
          4,
          5,
          6,
          7,
          8,
          9,
          10,
          11,
          12,
          13,
          14,
          15,
          16,
          17,
          18,
          19,
          20,
          21,
          22,
          23,
          24,
          25,
          26,
          27,
          28,
          29,
          30,
          31,
          32,
          33,
          34,
          35,
          36,
          37,
          38,
          39,
          40
         ],
         "xaxis": "x",
         "y": [
          1.5910336213981109,
          1.7310336213981108,
          3.332895812396937,
          4.613988345803541,
          5.3539883458035415,
          5.683988345803541,
          6.0239883458035415,
          6.723988345803541,
          7.163988345803541,
          7.453988345803541,
          7.763988345803541,
          8.523988345803541,
          9.64398834580354,
          11.72398834580354,
          13.513988345803542,
          15.273988345803541,
          16.55398834580354,
          17.893988345803542,
          18.561296370631656,
          20.101296370631655,
          21.331296370631655,
          22.141296370631654,
          22.141296370631654,
          23.1391661016086,
          24.440205685941066,
          25.600205685941066,
          26.849647161161094,
          26.849647161161094,
          29.009647161161094,
          31.260456889996544,
          31.370456889996543,
          33.88177706710006,
          35.28177706710006,
          35.661777067100054,
          36.4469522067982,
          36.93984570442218,
          37.42984570442218,
          37.736152739927405,
          38.18615273992741,
          38.18615273992741
         ],
         "yaxis": "y"
        },
        {
         "hovertemplate": "Pacjent=47<br>BADANIE_NR=%{x}<br>euclidean_kw_skum=%{y}<extra></extra>",
         "legendgroup": "47",
         "line": {
          "color": "#FF97FF",
          "dash": "solid"
         },
         "marker": {
          "symbol": "circle"
         },
         "mode": "lines",
         "name": "47",
         "showlegend": true,
         "type": "scattergl",
         "x": [
          1,
          2,
          3,
          4,
          5,
          6,
          7,
          8,
          9,
          10,
          11,
          12,
          13,
          14,
          15,
          16,
          17,
          18,
          19,
          20,
          21,
          22,
          23,
          24,
          25,
          26,
          27,
          28,
          29
         ],
         "xaxis": "x",
         "y": [
          0,
          0,
          0.0700000000000005,
          0.9953579671442279,
          1.055357967144228,
          1.2053579671442278,
          1.725357967144228,
          1.725357967144228,
          1.725357967144228,
          1.9353579671442283,
          3.0053579671442288,
          4.365357967144229,
          8.569994929406153,
          9.440739438432768,
          10.27572686348778,
          11.465726863487781,
          12.36572686348778,
          13.14572686348778,
          14.14572686348778,
          14.61572686348778,
          15.54572686348778,
          15.91572686348778,
          15.92572686348778,
          15.92572686348778,
          16.67572686348778,
          17.19572686348778,
          17.565726863487782,
          18.36572686348778,
          18.98572686348778
         ],
         "yaxis": "y"
        },
        {
         "hovertemplate": "Pacjent=49<br>BADANIE_NR=%{x}<br>euclidean_kw_skum=%{y}<extra></extra>",
         "legendgroup": "49",
         "line": {
          "color": "#FECB52",
          "dash": "solid"
         },
         "marker": {
          "symbol": "circle"
         },
         "mode": "lines",
         "name": "49",
         "showlegend": true,
         "type": "scattergl",
         "x": [
          1,
          2,
          3,
          4,
          5,
          6,
          7,
          8,
          9,
          10,
          11,
          12,
          13,
          14,
          15,
          16,
          17,
          18,
          19,
          20,
          21,
          22,
          23
         ],
         "xaxis": "x",
         "y": [
          2.572032977606725,
          4.753684395310191,
          6.3135224847719575,
          7.697987025051643,
          8.415378329399468,
          8.524073981573382,
          8.524073981573382,
          8.524073981573382,
          8.524073981573382,
          8.524073981573382,
          8.524073981573382,
          8.524073981573382,
          8.524073981573382,
          8.524073981573382,
          8.524073981573382,
          8.524073981573382,
          8.524073981573382,
          8.524073981573382,
          8.524073981573382,
          8.524073981573382,
          8.524073981573382,
          8.67624789461686,
          8.741465285921208
         ],
         "yaxis": "y"
        },
        {
         "hovertemplate": "Pacjent=50<br>BADANIE_NR=%{x}<br>euclidean_kw_skum=%{y}<extra></extra>",
         "legendgroup": "50",
         "line": {
          "color": "#636efa",
          "dash": "solid"
         },
         "marker": {
          "symbol": "circle"
         },
         "mode": "lines",
         "name": "50",
         "showlegend": true,
         "type": "scattergl",
         "x": [
          1,
          2,
          3,
          4,
          5,
          6,
          7,
          8,
          9,
          10,
          11,
          12,
          13,
          14,
          15,
          16,
          17,
          18,
          19
         ],
         "xaxis": "x",
         "y": [
          0.3973640093809524,
          0.5773640093809519,
          0.8573640093809517,
          2.480916787394814,
          3.2233751602483367,
          4.143375160248337,
          4.253375160248337,
          4.253375160248337,
          4.253375160248337,
          4.403375160248337,
          4.773375160248337,
          5.423375160248337,
          5.963375160248337,
          5.963375160248337,
          5.963375160248337,
          5.963375160248337,
          6.103375160248337,
          6.103375160248337,
          6.103375160248337
         ],
         "yaxis": "y"
        },
        {
         "hovertemplate": "Pacjent=54<br>BADANIE_NR=%{x}<br>euclidean_kw_skum=%{y}<extra></extra>",
         "legendgroup": "54",
         "line": {
          "color": "#EF553B",
          "dash": "solid"
         },
         "marker": {
          "symbol": "circle"
         },
         "mode": "lines",
         "name": "54",
         "showlegend": true,
         "type": "scattergl",
         "x": [
          1,
          2,
          3,
          4,
          5,
          6,
          7,
          8,
          9,
          10,
          11,
          12,
          13,
          14,
          15,
          16,
          17,
          18,
          19,
          20,
          21,
          22,
          23,
          24,
          25,
          26,
          27,
          28,
          29,
          30,
          31,
          32,
          33,
          34,
          35,
          36,
          37,
          38
         ],
         "xaxis": "x",
         "y": [
          0,
          0.12999999999999967,
          0.7962852242095722,
          0.9555836862234912,
          1.6455836862234912,
          2.014365464515207,
          2.7040030504978736,
          3.1540030504978733,
          3.6300030504978738,
          4.437260134703394,
          4.821077799747618,
          5.051077799747618,
          5.761077799747618,
          7.293242618534171,
          8.67324261853417,
          10.40324261853417,
          12.036541121564158,
          13.168717786223874,
          16.063141403182186,
          18.68445786633577,
          21.235339282630928,
          23.075339282630928,
          25.12533928263093,
          27.95597525357456,
          29.13597525357456,
          31.54597525357456,
          33.44597525357456,
          35.16597525357456,
          36.68597525357456,
          38.828520020703166,
          40.544669583380966,
          42.269448989566,
          42.269448989566,
          43.94114752698236,
          45.42114752698236,
          47.04531008042336,
          48.965310080423365,
          50.823937530990044
         ],
         "yaxis": "y"
        },
        {
         "hovertemplate": "Pacjent=58<br>BADANIE_NR=%{x}<br>euclidean_kw_skum=%{y}<extra></extra>",
         "legendgroup": "58",
         "line": {
          "color": "#00cc96",
          "dash": "solid"
         },
         "marker": {
          "symbol": "circle"
         },
         "mode": "lines",
         "name": "58",
         "showlegend": true,
         "type": "scattergl",
         "x": [
          1,
          2,
          3,
          4,
          5,
          6,
          7,
          8,
          9,
          10,
          11,
          12,
          13,
          14,
          15,
          16,
          17,
          18,
          19,
          20,
          21,
          22,
          23,
          24,
          25
         ],
         "xaxis": "x",
         "y": [
          0.8695652173913044,
          1.4347826086956523,
          1.9347826086956523,
          2.0307826086956524,
          2.0307826086956524,
          2.0307826086956524,
          2.0307826086956524,
          2.0307826086956524,
          2.0307826086956524,
          2.0307826086956524,
          2.0307826086956524,
          2.0307826086956524,
          2.0307826086956524,
          2.0307826086956524,
          2.0307826086956524,
          2.1394782608695655,
          2.1394782608695655,
          2.1394782608695655,
          3.819478260869566,
          3.819478260869566,
          3.819478260869566,
          3.819478260869566,
          5.335478260869566,
          7.067478260869565,
          8.491478260869567
         ],
         "yaxis": "y"
        },
        {
         "hovertemplate": "Pacjent=59<br>BADANIE_NR=%{x}<br>euclidean_kw_skum=%{y}<extra></extra>",
         "legendgroup": "59",
         "line": {
          "color": "#ab63fa",
          "dash": "solid"
         },
         "marker": {
          "symbol": "circle"
         },
         "mode": "lines",
         "name": "59",
         "showlegend": true,
         "type": "scattergl",
         "x": [
          1,
          2,
          3,
          4,
          5,
          6,
          7,
          8,
          9,
          10,
          11,
          12,
          13,
          14,
          15,
          16,
          17,
          18,
          19
         ],
         "xaxis": "x",
         "y": [
          0,
          1.2063300620643913,
          1.2063300620643913,
          1.2063300620643913,
          1.2063300620643913,
          1.2063300620643913,
          1.2063300620643913,
          1.2063300620643913,
          1.2063300620643913,
          2.355667262367244,
          2.355667262367244,
          2.355667262367244,
          2.355667262367244,
          2.355667262367244,
          2.355667262367244,
          2.355667262367244,
          2.355667262367244,
          2.355667262367244,
          2.355667262367244
         ],
         "yaxis": "y"
        },
        {
         "hovertemplate": "Pacjent=60<br>BADANIE_NR=%{x}<br>euclidean_kw_skum=%{y}<extra></extra>",
         "legendgroup": "60",
         "line": {
          "color": "#FFA15A",
          "dash": "solid"
         },
         "marker": {
          "symbol": "circle"
         },
         "mode": "lines",
         "name": "60",
         "showlegend": true,
         "type": "scattergl",
         "x": [
          1,
          2,
          3,
          4,
          5,
          6,
          7,
          8,
          9,
          10,
          11,
          12,
          13,
          14,
          15,
          16,
          17,
          18,
          19,
          20
         ],
         "xaxis": "x",
         "y": [
          0,
          0,
          0,
          0,
          0.5799999999999996,
          2.5309269591658214,
          2.8709269591658213,
          2.990926959165822,
          3.210926959165822,
          3.4809269591658225,
          4.040926959165822,
          5.9081270020107235,
          7.585674020725847,
          9.579690068805702,
          11.724847405692671,
          13.417538753812583,
          15.985670370377434,
          18.015213176035893,
          19.370829640969834,
          19.410829640969833
         ],
         "yaxis": "y"
        },
        {
         "hovertemplate": "Pacjent=67<br>BADANIE_NR=%{x}<br>euclidean_kw_skum=%{y}<extra></extra>",
         "legendgroup": "67",
         "line": {
          "color": "#19d3f3",
          "dash": "solid"
         },
         "marker": {
          "symbol": "circle"
         },
         "mode": "lines",
         "name": "67",
         "showlegend": true,
         "type": "scattergl",
         "x": [
          1,
          2,
          3,
          4,
          5,
          6,
          7,
          8,
          9,
          10,
          11,
          12,
          13,
          14,
          15,
          16,
          17,
          18,
          19,
          20,
          21,
          22,
          23,
          24,
          25,
          26,
          27,
          28,
          29,
          30,
          31,
          32,
          33,
          34,
          35,
          36,
          37
         ],
         "xaxis": "x",
         "y": [
          0.5326199395441371,
          3.0448640520048027,
          5.876935347782718,
          7.78067482575758,
          10.494673000188065,
          13.508303405304172,
          16.50191973959686,
          17.75191973959686,
          18.20191973959686,
          19.00191973959686,
          19.461919739596862,
          20.351919739596863,
          20.43191973959686,
          21.95191973959686,
          22.881919739596864,
          23.531919739596862,
          23.531919739596862,
          23.531919739596862,
          23.551919739596862,
          23.551919739596862,
          23.551919739596862,
          23.551919739596862,
          23.551919739596862,
          23.551919739596862,
          23.551919739596862,
          23.551919739596862,
          23.551919739596862,
          23.551919739596862,
          23.683919739596863,
          23.683919739596863,
          23.683919739596863,
          23.683919739596863,
          24.651919739596863,
          26.046516455497198,
          26.53702231682813,
          27.659200555790193,
          28.915200555790193
         ],
         "yaxis": "y"
        },
        {
         "hovertemplate": "Pacjent=68<br>BADANIE_NR=%{x}<br>euclidean_kw_skum=%{y}<extra></extra>",
         "legendgroup": "68",
         "line": {
          "color": "#FF6692",
          "dash": "solid"
         },
         "marker": {
          "symbol": "circle"
         },
         "mode": "lines",
         "name": "68",
         "showlegend": true,
         "type": "scattergl",
         "x": [
          1,
          2,
          3,
          4,
          5,
          6,
          7,
          8,
          9,
          10,
          11,
          12,
          13,
          14,
          15,
          16,
          17,
          18,
          19
         ],
         "xaxis": "x",
         "y": [
          0.1360000000000002,
          1.3602957159118054,
          1.984974833539408,
          2.294974833539408,
          2.294974833539408,
          2.3449748335394083,
          2.3449748335394083,
          2.3449748335394083,
          2.3449748335394083,
          2.3449748335394083,
          2.3449748335394083,
          2.3449748335394083,
          2.3449748335394083,
          2.3449748335394083,
          2.3449748335394083,
          2.3449748335394083,
          2.3449748335394083,
          2.3449748335394083,
          2.3449748335394083
         ],
         "yaxis": "y"
        },
        {
         "hovertemplate": "Pacjent=69<br>BADANIE_NR=%{x}<br>euclidean_kw_skum=%{y}<extra></extra>",
         "legendgroup": "69",
         "line": {
          "color": "#B6E880",
          "dash": "solid"
         },
         "marker": {
          "symbol": "circle"
         },
         "mode": "lines",
         "name": "69",
         "showlegend": true,
         "type": "scattergl",
         "x": [
          1,
          2,
          3,
          4,
          5,
          6,
          7,
          8,
          9,
          10,
          11,
          12,
          13,
          14,
          15,
          16,
          17,
          18,
          19,
          20,
          21,
          22,
          23
         ],
         "xaxis": "x",
         "y": [
          0,
          0,
          0,
          0,
          1.152,
          1.152,
          1.152,
          1.152,
          1.152,
          1.152,
          1.152,
          1.152,
          1.152,
          1.152,
          1.152,
          1.152,
          1.152,
          1.152,
          1.152,
          1.152,
          1.152,
          1.152,
          1.152
         ],
         "yaxis": "y"
        },
        {
         "hovertemplate": "Pacjent=71<br>BADANIE_NR=%{x}<br>euclidean_kw_skum=%{y}<extra></extra>",
         "legendgroup": "71",
         "line": {
          "color": "#FF97FF",
          "dash": "solid"
         },
         "marker": {
          "symbol": "circle"
         },
         "mode": "lines",
         "name": "71",
         "showlegend": true,
         "type": "scattergl",
         "x": [
          1,
          2,
          3,
          4,
          5,
          6,
          7,
          8
         ],
         "xaxis": "x",
         "y": [
          0,
          0,
          0,
          0,
          0,
          0,
          0,
          0
         ],
         "yaxis": "y"
        },
        {
         "hovertemplate": "Pacjent=72<br>BADANIE_NR=%{x}<br>euclidean_kw_skum=%{y}<extra></extra>",
         "legendgroup": "72",
         "line": {
          "color": "#FECB52",
          "dash": "solid"
         },
         "marker": {
          "symbol": "circle"
         },
         "mode": "lines",
         "name": "72",
         "showlegend": true,
         "type": "scattergl",
         "x": [
          1,
          2,
          3,
          4,
          5,
          6,
          7,
          8,
          9,
          10,
          11,
          12,
          13,
          14,
          15,
          16,
          17,
          18,
          19,
          20,
          21,
          22,
          23,
          24,
          25,
          26,
          27,
          28,
          29,
          30,
          31,
          32,
          33,
          34,
          35,
          36
         ],
         "xaxis": "x",
         "y": [
          2.132347953966018,
          4.192511475338513,
          5.934123777410479,
          7.818631488040184,
          10.161907941142264,
          12.423499799721949,
          14.31349979972195,
          15.85349979972195,
          17.46349979972195,
          19.64720673976679,
          21.343297539223,
          23.0205762876724,
          25.218961149337893,
          27.00647338705824,
          28.9123894397741,
          30.78876466877282,
          32.318946357331406,
          34.21712337752736,
          35.84319225675726,
          37.16996880162079,
          37.87933471565952,
          39.55457081842235,
          40.84081185337653,
          41.9056987018257,
          41.9056987018257,
          43.31997024576626,
          44.68797024576625,
          45.62135333967786,
          45.62135333967786,
          46.86890454103194,
          48.11485799120574,
          49.559522658178665,
          50.787522658178666,
          52.256406070894336,
          53.54630684227173,
          55.201920323734115
         ],
         "yaxis": "y"
        },
        {
         "hovertemplate": "Pacjent=76<br>BADANIE_NR=%{x}<br>euclidean_kw_skum=%{y}<extra></extra>",
         "legendgroup": "76",
         "line": {
          "color": "#636efa",
          "dash": "solid"
         },
         "marker": {
          "symbol": "circle"
         },
         "mode": "lines",
         "name": "76",
         "showlegend": true,
         "type": "scattergl",
         "x": [
          1,
          2,
          3,
          4,
          5,
          6,
          7,
          8,
          9,
          10,
          11,
          12,
          13,
          14,
          15,
          16,
          17,
          18,
          19
         ],
         "xaxis": "x",
         "y": [
          0.6306381206607231,
          2.2678248421472094,
          5.4435369193898975,
          7.76788601494145,
          9.564834680733124,
          10.896354314708777,
          11.236354314708777,
          12.196354314708778,
          12.482039456079482,
          13.082039456079482,
          13.282039456079483,
          14.412039456079482,
          14.892039456079482,
          15.782039456079481,
          16.112039456079483,
          16.722039456079482,
          17.202039456079483,
          17.69203945607948,
          17.69203945607948
         ],
         "yaxis": "y"
        },
        {
         "hovertemplate": "Pacjent=79<br>BADANIE_NR=%{x}<br>euclidean_kw_skum=%{y}<extra></extra>",
         "legendgroup": "79",
         "line": {
          "color": "#EF553B",
          "dash": "solid"
         },
         "marker": {
          "symbol": "circle"
         },
         "mode": "lines",
         "name": "79",
         "showlegend": true,
         "type": "scattergl",
         "x": [
          1,
          2,
          3,
          4,
          5,
          6,
          7,
          8,
          9,
          10,
          11,
          12,
          13,
          14,
          15,
          16,
          17,
          18,
          19,
          20,
          21,
          22,
          23,
          24,
          25,
          26,
          27,
          28,
          29,
          30,
          31,
          32,
          33,
          34,
          35,
          36,
          37,
          38,
          39,
          40,
          41,
          42,
          43,
          44
         ],
         "xaxis": "x",
         "y": [
          2.0613352678301413,
          7.6169283248028545,
          10.163490414642778,
          11.263490414642778,
          11.996705253554268,
          13.466705253554267,
          15.086705253554268,
          16.54670525355427,
          18.066705253554268,
          19.586705253554268,
          20.566705253554268,
          21.93459998634623,
          23.114599986346235,
          24.934599986346235,
          26.52459998634623,
          29.546019903309876,
          30.296019903309876,
          31.216019903309878,
          32.20601990330988,
          32.68601990330988,
          34.25601990330988,
          35.616019903309876,
          36.98601990330988,
          37.91601990330988,
          38.05601990330988,
          38.05601990330988,
          38.05601990330988,
          38.05601990330988,
          38.05601990330988,
          38.05601990330988,
          38.05601990330988,
          38.05601990330988,
          38.05601990330988,
          39.48001990330988,
          39.48001990330988,
          39.48001990330988,
          39.48001990330988,
          39.48001990330988,
          39.48001990330988,
          39.48001990330988,
          39.48001990330988,
          39.48001990330988,
          41.17020805851627,
          42.7685772273881
         ],
         "yaxis": "y"
        },
        {
         "hovertemplate": "Pacjent=81<br>BADANIE_NR=%{x}<br>euclidean_kw_skum=%{y}<extra></extra>",
         "legendgroup": "81",
         "line": {
          "color": "#00cc96",
          "dash": "solid"
         },
         "marker": {
          "symbol": "circle"
         },
         "mode": "lines",
         "name": "81",
         "showlegend": true,
         "type": "scattergl",
         "x": [
          1,
          2,
          3,
          4,
          5,
          6,
          7,
          8,
          9,
          10,
          11,
          12,
          13,
          14,
          15,
          16,
          17,
          18,
          19,
          20,
          21,
          22,
          23,
          24,
          25,
          26,
          27,
          28,
          29
         ],
         "xaxis": "x",
         "y": [
          2.1302530679500546,
          3.056828717891149,
          3.586828717891149,
          3.6368287178911487,
          4.176828717891149,
          5.506828717891149,
          5.506828717891149,
          5.506828717891149,
          5.506828717891149,
          5.67682871789115,
          5.67682871789115,
          6.1068287178911485,
          6.1068287178911485,
          6.1068287178911485,
          6.1068287178911485,
          6.1068287178911485,
          6.1068287178911485,
          6.502828717891149,
          6.502828717891149,
          6.502828717891149,
          6.502828717891149,
          6.502828717891149,
          6.502828717891149,
          6.632828717891148,
          6.632828717891148,
          6.632828717891148,
          6.632828717891148,
          6.762828717891148,
          6.762828717891148
         ],
         "yaxis": "y"
        },
        {
         "hovertemplate": "Pacjent=83<br>BADANIE_NR=%{x}<br>euclidean_kw_skum=%{y}<extra></extra>",
         "legendgroup": "83",
         "line": {
          "color": "#ab63fa",
          "dash": "solid"
         },
         "marker": {
          "symbol": "circle"
         },
         "mode": "lines",
         "name": "83",
         "showlegend": true,
         "type": "scattergl",
         "x": [
          1,
          2,
          3,
          4,
          5,
          6,
          7,
          8,
          9,
          10,
          11,
          12,
          13,
          14,
          15,
          16,
          17,
          18,
          19,
          20,
          21,
          22,
          23,
          24,
          25,
          26,
          27,
          28,
          29,
          30,
          31,
          32,
          33,
          34,
          35,
          36,
          37,
          38,
          39,
          40
         ],
         "xaxis": "x",
         "y": [
          2.5076393679710125,
          5.981826134800093,
          9.401747913045721,
          10.76174791304572,
          11.30174791304572,
          11.83174791304572,
          12.54174791304572,
          12.55174791304572,
          12.86174791304572,
          13.67174791304572,
          14.099621726219652,
          14.469621726219652,
          14.469621726219652,
          14.909621726219651,
          14.909621726219651,
          14.909621726219651,
          14.909621726219651,
          14.909621726219651,
          14.909621726219651,
          14.909621726219651,
          15.541621726219653,
          15.541621726219653,
          15.541621726219653,
          15.693621726219652,
          15.693621726219652,
          15.693621726219652,
          15.693621726219652,
          15.693621726219652,
          15.693621726219652,
          16.073621726219653,
          16.073621726219653,
          16.64562172621965,
          16.64562172621965,
          16.64562172621965,
          16.64562172621965,
          17.029621726219652,
          17.029621726219652,
          17.029621726219652,
          18.52834651750056,
          19.74729852640001
         ],
         "yaxis": "y"
        },
        {
         "hovertemplate": "Pacjent=90<br>BADANIE_NR=%{x}<br>euclidean_kw_skum=%{y}<extra></extra>",
         "legendgroup": "90",
         "line": {
          "color": "#FFA15A",
          "dash": "solid"
         },
         "marker": {
          "symbol": "circle"
         },
         "mode": "lines",
         "name": "90",
         "showlegend": true,
         "type": "scattergl",
         "x": [
          1,
          2,
          3,
          4,
          5,
          6,
          7,
          8,
          9,
          10,
          11,
          12,
          13,
          14,
          15,
          16,
          17,
          18,
          19,
          20,
          21,
          22,
          23,
          24,
          25,
          26,
          27,
          28,
          29,
          30,
          31,
          32,
          33,
          34,
          35,
          36,
          37,
          38,
          39,
          40,
          41,
          42,
          43,
          44,
          45,
          46,
          47,
          48,
          49,
          50,
          51,
          52,
          53,
          54,
          55
         ],
         "xaxis": "x",
         "y": [
          1.759707925884062,
          4.484048816626045,
          7.389859986821719,
          7.389859986821719,
          9.85985998682172,
          12.229859986821719,
          12.909859986821719,
          13.729859986821719,
          14.27985998682172,
          15.651692426736172,
          16.881692426736173,
          17.801692426736174,
          18.811692426736172,
          21.757349243638856,
          22.027349243638856,
          23.457349243638856,
          24.027349243638856,
          25.127349243638857,
          25.177349243638858,
          25.177349243638858,
          25.197349243638858,
          25.197349243638858,
          26.147349243638857,
          27.057349243638857,
          27.877349243638857,
          28.43734924363886,
          28.787349243638857,
          29.287349243638857,
          29.967349243638857,
          30.167349243638856,
          30.167349243638856,
          30.167349243638856,
          30.20734924363886,
          31.20734924363886,
          32.17734924363886,
          33.20734924363886,
          34.047349243638855,
          34.70734924363886,
          35.977349243638855,
          36.74734924363886,
          37.70734924363886,
          40.86615927212704,
          41.64615927212704,
          42.50615927212704,
          43.95615927212704,
          45.07615927212704,
          45.76615927212704,
          46.17615927212704,
          46.52615927212704,
          47.11615927212704,
          47.716159272127044,
          48.29615927212704,
          49.18615927212704,
          49.94615927212704,
          50.62615927212704
         ],
         "yaxis": "y"
        },
        {
         "hovertemplate": "Pacjent=95<br>BADANIE_NR=%{x}<br>euclidean_kw_skum=%{y}<extra></extra>",
         "legendgroup": "95",
         "line": {
          "color": "#19d3f3",
          "dash": "solid"
         },
         "marker": {
          "symbol": "circle"
         },
         "mode": "lines",
         "name": "95",
         "showlegend": true,
         "type": "scattergl",
         "x": [
          1,
          2,
          3,
          4,
          5,
          6,
          7,
          8,
          9,
          10,
          11,
          12,
          13,
          14,
          15,
          16,
          17,
          18,
          19,
          20,
          21,
          22,
          23,
          24,
          25,
          26,
          27,
          28,
          29,
          30,
          31,
          32,
          33,
          34,
          35,
          36,
          37,
          38,
          39,
          40,
          41,
          42,
          43,
          44,
          45,
          46,
          47,
          48,
          49,
          50,
          51,
          52,
          53,
          54,
          55,
          56
         ],
         "xaxis": "x",
         "y": [
          0,
          0.3400000000000001,
          1.93,
          3.4034123659043996,
          5.1034123659044,
          6.043412365904399,
          7.1934123659044,
          8.3234123659044,
          9.2134123659044,
          9.2834123659044,
          9.8234123659044,
          10.673562940802752,
          11.823562940802752,
          12.56992478334295,
          14.07992478334295,
          15.21992478334295,
          16.65992478334295,
          18.23992478334295,
          18.32992478334295,
          18.46992478334295,
          18.46992478334295,
          19.14992478334295,
          19.14992478334295,
          19.638960569354566,
          20.890960569354565,
          21.756922866819533,
          21.756922866819533,
          21.756922866819533,
          23.767269237184056,
          26.612022022087046,
          27.622804691681957,
          28.940018177551767,
          29.000018177551766,
          29.580018177551764,
          29.920018177551764,
          29.920018177551764,
          30.380018177551765,
          30.500018177551766,
          31.510018177551768,
          32.35001817755177,
          33.28032780342909,
          34.260327803429085,
          35.00032780342909,
          35.06032780342909,
          35.06032780342909,
          36.23232780342909,
          36.23232780342909,
          36.23232780342909,
          36.23232780342909,
          36.23232780342909,
          36.23232780342909,
          36.23232780342909,
          36.23232780342909,
          38.51232780342909,
          38.51232780342909,
          38.51232780342909
         ],
         "yaxis": "y"
        },
        {
         "hovertemplate": "Pacjent=98<br>BADANIE_NR=%{x}<br>euclidean_kw_skum=%{y}<extra></extra>",
         "legendgroup": "98",
         "line": {
          "color": "#FF6692",
          "dash": "solid"
         },
         "marker": {
          "symbol": "circle"
         },
         "mode": "lines",
         "name": "98",
         "showlegend": true,
         "type": "scattergl",
         "x": [
          1,
          2,
          3,
          4,
          5,
          6,
          7,
          8,
          9,
          10,
          11,
          12,
          13,
          14,
          15,
          16,
          17,
          18,
          19,
          20,
          21,
          22,
          23,
          24,
          25,
          26,
          27,
          28,
          29,
          30,
          31,
          32,
          33,
          34,
          35,
          36,
          37,
          38,
          39
         ],
         "xaxis": "x",
         "y": [
          0.406509944250297,
          5.828387394075682,
          8.767070102918224,
          10.468962801340776,
          11.459747154356968,
          13.147250453593978,
          13.73725045359398,
          14.347250453593979,
          15.81725045359398,
          17.263923879077424,
          18.213923879077424,
          18.99392387907742,
          21.035115687800943,
          23.832545500275174,
          25.952545500275175,
          27.902545500275174,
          29.152545500275174,
          29.252545500275176,
          30.402545500275174,
          32.05254550027517,
          32.08082977152264,
          32.160829771522636,
          32.90600357675199,
          32.90600357675199,
          32.90600357675199,
          32.90600357675199,
          34.39418791719193,
          34.39418791719193,
          35.412266499620614,
          35.93594960990774,
          35.93594960990774,
          35.93594960990774,
          35.93594960990774,
          35.93594960990774,
          35.93594960990774,
          35.93594960990774,
          35.93594960990774,
          36.53966937579222,
          36.53966937579222
         ],
         "yaxis": "y"
        },
        {
         "hovertemplate": "Pacjent=99<br>BADANIE_NR=%{x}<br>euclidean_kw_skum=%{y}<extra></extra>",
         "legendgroup": "99",
         "line": {
          "color": "#B6E880",
          "dash": "solid"
         },
         "marker": {
          "symbol": "circle"
         },
         "mode": "lines",
         "name": "99",
         "showlegend": true,
         "type": "scattergl",
         "x": [
          1,
          2,
          3,
          4,
          5,
          6,
          7,
          8,
          9,
          10,
          11,
          12,
          13,
          14,
          15,
          16,
          17,
          18
         ],
         "xaxis": "x",
         "y": [
          0.6906905929905299,
          2.0166803945385596,
          2.592072595302006,
          3.617286129748785,
          5.4226190398235605,
          6.852601468083734,
          7.647801154502423,
          8.452436161972027,
          9.211768823466318,
          10.564484773624793,
          11.504135772666459,
          12.388501477921249,
          13.149093352713505,
          13.733904433319884,
          14.654992919840044,
          15.108847522108217,
          17.6973469736686,
          18.766507391940806
         ],
         "yaxis": "y"
        },
        {
         "hovertemplate": "Pacjent=101<br>BADANIE_NR=%{x}<br>euclidean_kw_skum=%{y}<extra></extra>",
         "legendgroup": "101",
         "line": {
          "color": "#FF97FF",
          "dash": "solid"
         },
         "marker": {
          "symbol": "circle"
         },
         "mode": "lines",
         "name": "101",
         "showlegend": true,
         "type": "scattergl",
         "x": [
          1,
          2,
          3,
          4,
          5,
          6,
          7,
          8,
          9,
          10,
          11,
          12,
          13,
          14,
          15,
          16,
          17,
          18,
          19,
          20,
          21,
          22,
          23,
          24,
          25,
          26,
          27,
          28,
          29,
          30,
          31,
          32,
          33,
          34,
          35
         ],
         "xaxis": "x",
         "y": [
          0.8660685121807082,
          2.700520313326874,
          4.244942305133579,
          5.5601781901107445,
          6.230178190110745,
          6.230178190110745,
          6.610178190110744,
          6.900178190110744,
          7.910969958973155,
          10.491919396680139,
          10.954416964241311,
          11.204416964241311,
          11.332479448989968,
          11.704479448989968,
          12.083973849475667,
          12.842751814363947,
          14.014587980387168,
          15.474587980387167,
          17.4846045725154,
          19.33596197809695,
          21.145961978096953,
          21.625961978096953,
          23.01396197809695,
          23.433961978096953,
          23.433961978096953,
          23.433961978096953,
          23.433961978096953,
          23.433961978096953,
          23.433961978096953,
          23.433961978096953,
          23.433961978096953,
          23.689961978096953,
          23.689961978096953,
          23.689961978096953,
          23.689961978096953
         ],
         "yaxis": "y"
        },
        {
         "hovertemplate": "Pacjent=104<br>BADANIE_NR=%{x}<br>euclidean_kw_skum=%{y}<extra></extra>",
         "legendgroup": "104",
         "line": {
          "color": "#FECB52",
          "dash": "solid"
         },
         "marker": {
          "symbol": "circle"
         },
         "mode": "lines",
         "name": "104",
         "showlegend": true,
         "type": "scattergl",
         "x": [
          1,
          2,
          3,
          4,
          5,
          6,
          7,
          8,
          9,
          10,
          11,
          12,
          13,
          14,
          15,
          16,
          17,
          18,
          19,
          20,
          21,
          22,
          23,
          24,
          25,
          26,
          27,
          28,
          29,
          30,
          31,
          32,
          33,
          34,
          35,
          36,
          37,
          38
         ],
         "xaxis": "x",
         "y": [
          0.8362089864598726,
          2.508858666907938,
          4.479626099141857,
          4.479626099141857,
          4.799626099141858,
          4.799626099141858,
          5.899626099141858,
          6.739626099141859,
          7.4196260991418574,
          8.519626099141858,
          8.592427198034663,
          8.732427198034664,
          9.287869364241011,
          9.287869364241011,
          9.85328602476668,
          10.23328602476668,
          11.06328602476668,
          11.12328602476668,
          11.12328602476668,
          12.00333375074522,
          13.097224056031816,
          13.751016071890069,
          13.93101607189007,
          13.93101607189007,
          13.93101607189007,
          14.421016071890069,
          14.421016071890069,
          14.421016071890069,
          14.765016071890068,
          14.765016071890068,
          14.995016071890069,
          15.2338549297001,
          15.673854929700099,
          16.1838549297001,
          17.0538549297001,
          17.783854929700098,
          18.6438549297001,
          19.0138549297001
         ],
         "yaxis": "y"
        },
        {
         "hovertemplate": "Pacjent=107<br>BADANIE_NR=%{x}<br>euclidean_kw_skum=%{y}<extra></extra>",
         "legendgroup": "107",
         "line": {
          "color": "#636efa",
          "dash": "solid"
         },
         "marker": {
          "symbol": "circle"
         },
         "mode": "lines",
         "name": "107",
         "showlegend": true,
         "type": "scattergl",
         "x": [
          1,
          2,
          3,
          4,
          5,
          6,
          7,
          8,
          9,
          10,
          11,
          12,
          13,
          14,
          15,
          16,
          17,
          18,
          19,
          20,
          21,
          22,
          23,
          24,
          25,
          26,
          27
         ],
         "xaxis": "x",
         "y": [
          0.7119999999999999,
          0.8439999999999998,
          1.912,
          2.652,
          2.652,
          3.172,
          3.242000000000001,
          3.7820000000000005,
          3.7820000000000005,
          3.7820000000000005,
          3.7820000000000005,
          3.7820000000000005,
          3.9180000000000006,
          4.03,
          4.03,
          4.03,
          4.03,
          4.03,
          4.622,
          4.626,
          4.9559999999999995,
          4.9559999999999995,
          5.385999999999999,
          5.385999999999999,
          5.725999999999999,
          5.855999999999999,
          7.047999999999999
         ],
         "yaxis": "y"
        },
        {
         "hovertemplate": "Pacjent=108<br>BADANIE_NR=%{x}<br>euclidean_kw_skum=%{y}<extra></extra>",
         "legendgroup": "108",
         "line": {
          "color": "#EF553B",
          "dash": "solid"
         },
         "marker": {
          "symbol": "circle"
         },
         "mode": "lines",
         "name": "108",
         "showlegend": true,
         "type": "scattergl",
         "x": [
          1,
          2,
          3,
          4,
          5,
          6,
          7,
          8,
          9,
          10,
          11,
          12,
          13,
          14,
          15,
          16,
          17,
          18,
          19,
          20,
          21,
          22,
          23,
          24,
          25,
          26,
          27,
          28,
          29,
          30,
          31,
          32,
          33,
          34,
          35,
          36,
          37,
          38,
          39,
          40,
          41,
          42,
          43,
          44,
          45,
          46,
          47
         ],
         "xaxis": "x",
         "y": [
          0.1799999999999995,
          0.2799999999999996,
          0.5399999999999998,
          1.0899999999999999,
          1.69,
          3.0100000000000002,
          4.29,
          4.619999999999999,
          5.119999999999999,
          5.58,
          6.1899999999999995,
          6.42,
          6.779999999999999,
          7.13,
          7.4399999999999995,
          8.25,
          8.81,
          9.32,
          9.32,
          9.32,
          9.32,
          9.32,
          9.32,
          9.32,
          9.32,
          9.32,
          9.32,
          9.32,
          9.32,
          9.32,
          9.32,
          9.32,
          9.32,
          9.32,
          9.32,
          9.32,
          9.32,
          9.32,
          9.32,
          9.32,
          9.32,
          9.32,
          9.780000000000001,
          9.780000000000001,
          9.780000000000001,
          9.780000000000001,
          9.780000000000001
         ],
         "yaxis": "y"
        },
        {
         "hovertemplate": "Pacjent=109<br>BADANIE_NR=%{x}<br>euclidean_kw_skum=%{y}<extra></extra>",
         "legendgroup": "109",
         "line": {
          "color": "#00cc96",
          "dash": "solid"
         },
         "marker": {
          "symbol": "circle"
         },
         "mode": "lines",
         "name": "109",
         "showlegend": true,
         "type": "scattergl",
         "x": [
          1,
          2,
          3,
          4,
          5,
          6,
          7,
          8,
          9,
          10,
          11,
          12,
          13,
          14,
          15,
          16,
          17,
          18,
          19,
          20,
          21,
          22,
          23,
          24,
          25,
          26,
          27,
          28
         ],
         "xaxis": "x",
         "y": [
          0.3080000000000001,
          1.3753406204206788,
          2.645477716643619,
          3.452250733440044,
          4.402250733440044,
          5.682250733440044,
          7.452250733440044,
          9.148317949089236,
          12.14608778681861,
          14.989202276247411,
          18.303129855419897,
          21.321635445939815,
          24.596290236906338,
          28.223363988568963,
          31.10214775953892,
          32.65214775953892,
          34.36214775953892,
          36.70214775953892,
          37.88214775953892,
          39.20214775953892,
          40.19214775953892,
          41.26214775953892,
          42.57214775953892,
          44.03214775953892,
          44.76214775953892,
          45.89214775953892,
          46.65214775953892,
          47.51214775953892
         ],
         "yaxis": "y"
        },
        {
         "hovertemplate": "Pacjent=110<br>BADANIE_NR=%{x}<br>euclidean_kw_skum=%{y}<extra></extra>",
         "legendgroup": "110",
         "line": {
          "color": "#ab63fa",
          "dash": "solid"
         },
         "marker": {
          "symbol": "circle"
         },
         "mode": "lines",
         "name": "110",
         "showlegend": true,
         "type": "scattergl",
         "x": [
          1,
          2,
          3,
          4,
          5,
          6,
          7,
          8,
          9,
          10,
          11,
          12,
          13,
          14,
          15,
          16,
          17,
          18,
          19,
          20,
          21,
          22,
          23,
          24,
          25,
          26,
          27,
          28,
          29,
          30,
          31,
          32,
          33,
          34,
          35,
          36,
          37,
          38,
          39,
          40,
          41,
          42,
          43,
          44,
          45,
          46,
          47,
          48,
          49,
          50,
          51,
          52,
          53,
          54,
          55,
          56,
          57
         ],
         "xaxis": "x",
         "y": [
          1.4239185205172389,
          3.8839220907025602,
          5.773555140298621,
          7.997893997088113,
          9.10231820821344,
          10.467042547636371,
          12.329602690261558,
          13.285373303808221,
          14.249257106151214,
          16.332000708872393,
          16.332000708872393,
          17.312000708872393,
          19.067619118436383,
          19.067619118436383,
          20.107619118436382,
          20.107619118436382,
          22.41970562200843,
          23.59970562200843,
          24.751323614226333,
          25.801323614226334,
          26.041323614226332,
          26.561323614226332,
          26.821323614226333,
          27.071323614226333,
          27.241323614226335,
          27.241323614226335,
          27.241323614226335,
          27.241323614226335,
          27.981323614226334,
          27.981323614226334,
          27.981323614226334,
          27.981323614226334,
          27.981323614226334,
          28.94153192495896,
          28.94153192495896,
          28.94153192495896,
          28.94153192495896,
          28.94153192495896,
          28.94153192495896,
          28.94153192495896,
          28.94153192495896,
          28.94153192495896,
          28.94153192495896,
          28.94153192495896,
          29.721531924958956,
          29.901531924958956,
          30.091531924958957,
          30.091531924958957,
          30.091531924958957,
          30.12153192495896,
          30.221531924958956,
          30.221531924958956,
          30.221531924958956,
          30.221531924958956,
          30.221531924958956,
          30.331531924958956,
          30.431531924958957
         ],
         "yaxis": "y"
        },
        {
         "hovertemplate": "Pacjent=114<br>BADANIE_NR=%{x}<br>euclidean_kw_skum=%{y}<extra></extra>",
         "legendgroup": "114",
         "line": {
          "color": "#FFA15A",
          "dash": "solid"
         },
         "marker": {
          "symbol": "circle"
         },
         "mode": "lines",
         "name": "114",
         "showlegend": true,
         "type": "scattergl",
         "x": [
          1,
          2,
          3,
          4,
          5,
          6,
          7,
          8,
          9,
          10,
          11,
          12,
          13,
          14,
          15,
          16,
          17,
          18
         ],
         "xaxis": "x",
         "y": [
          0,
          0,
          0,
          0,
          0.8440000000000001,
          0.8440000000000001,
          0.8440000000000001,
          0.8440000000000001,
          0.8440000000000001,
          0.8440000000000001,
          0.8440000000000001,
          0.8440000000000001,
          0.8440000000000001,
          0.8440000000000001,
          0.8440000000000001,
          0.8440000000000001,
          0.8440000000000001,
          0.8440000000000001
         ],
         "yaxis": "y"
        },
        {
         "hovertemplate": "Pacjent=118<br>BADANIE_NR=%{x}<br>euclidean_kw_skum=%{y}<extra></extra>",
         "legendgroup": "118",
         "line": {
          "color": "#19d3f3",
          "dash": "solid"
         },
         "marker": {
          "symbol": "circle"
         },
         "mode": "lines",
         "name": "118",
         "showlegend": true,
         "type": "scattergl",
         "x": [
          1,
          2,
          3,
          4,
          5,
          6,
          7,
          8,
          9,
          10,
          11,
          12,
          13,
          14,
          15,
          16,
          17,
          18,
          19,
          20,
          21,
          22,
          23,
          24,
          25,
          26,
          27,
          28,
          29,
          30,
          31,
          32,
          33,
          34,
          35,
          36,
          37,
          38,
          39,
          40,
          41
         ],
         "xaxis": "x",
         "y": [
          2.254318217507108,
          3.57290412131829,
          4.1138549734011765,
          4.247380136156719,
          5.226477431662965,
          5.346477431662965,
          5.596477431662965,
          6.086477431662964,
          6.156477431662966,
          6.416477431662965,
          6.526477431662966,
          7.396477431662966,
          7.506477431662966,
          7.746477431662965,
          7.746477431662965,
          8.002766331149463,
          9.45176598608386,
          9.507765986083859,
          10.02776598608386,
          10.328598165213686,
          10.768598165213687,
          10.768598165213687,
          10.768598165213687,
          10.768598165213687,
          11.018598165213687,
          11.018598165213687,
          11.018598165213687,
          11.018598165213687,
          11.112321161324566,
          11.112321161324566,
          11.112321161324566,
          11.152321161324565,
          11.342321161324566,
          11.382321161324565,
          11.382321161324565,
          11.382321161324565,
          11.902321161324565,
          11.902321161324565,
          11.902321161324565,
          11.902321161324565,
          11.902321161324565
         ],
         "yaxis": "y"
        },
        {
         "hovertemplate": "Pacjent=124<br>BADANIE_NR=%{x}<br>euclidean_kw_skum=%{y}<extra></extra>",
         "legendgroup": "124",
         "line": {
          "color": "#FF6692",
          "dash": "solid"
         },
         "marker": {
          "symbol": "circle"
         },
         "mode": "lines",
         "name": "124",
         "showlegend": true,
         "type": "scattergl",
         "x": [
          1,
          2,
          3,
          4,
          5,
          6,
          7,
          8,
          9
         ],
         "xaxis": "x",
         "y": [
          0,
          0,
          0,
          0,
          0,
          0,
          0,
          0,
          1.6124962015459139
         ],
         "yaxis": "y"
        },
        {
         "hovertemplate": "Pacjent=132<br>BADANIE_NR=%{x}<br>euclidean_kw_skum=%{y}<extra></extra>",
         "legendgroup": "132",
         "line": {
          "color": "#B6E880",
          "dash": "solid"
         },
         "marker": {
          "symbol": "circle"
         },
         "mode": "lines",
         "name": "132",
         "showlegend": true,
         "type": "scattergl",
         "x": [
          1,
          2,
          3,
          4,
          5,
          6,
          7,
          8,
          9,
          10,
          11,
          12,
          13
         ],
         "xaxis": "x",
         "y": [
          0,
          0,
          0.4319999999999999,
          0.4319999999999999,
          0.4319999999999999,
          0.4319999999999999,
          0.4319999999999999,
          0.4319999999999999,
          0.4319999999999999,
          0.4319999999999999,
          0.4319999999999999,
          0.4319999999999999,
          0.4319999999999999
         ],
         "yaxis": "y"
        },
        {
         "hovertemplate": "Pacjent=133<br>BADANIE_NR=%{x}<br>euclidean_kw_skum=%{y}<extra></extra>",
         "legendgroup": "133",
         "line": {
          "color": "#FF97FF",
          "dash": "solid"
         },
         "marker": {
          "symbol": "circle"
         },
         "mode": "lines",
         "name": "133",
         "showlegend": true,
         "type": "scattergl",
         "x": [
          1,
          2,
          3,
          4,
          5,
          6,
          7,
          8,
          9,
          10,
          11,
          12,
          13,
          14,
          15,
          16,
          17,
          18,
          19,
          20,
          21,
          22,
          23,
          24,
          25,
          26,
          27
         ],
         "xaxis": "x",
         "y": [
          0.2725394998525746,
          0.4391333029954568,
          0.4391333029954568,
          0.4391333029954568,
          0.7691333029954563,
          0.9191333029954563,
          1.399133302995456,
          2.3322335119762494,
          3.1822335119762495,
          3.8322335119762494,
          4.332233511976249,
          4.85223351197625,
          4.97223351197625,
          5.302233511976249,
          5.302233511976249,
          6.65823351197625,
          6.65823351197625,
          6.65823351197625,
          6.65823351197625,
          6.65823351197625,
          6.65823351197625,
          6.65823351197625,
          6.65823351197625,
          6.65823351197625,
          6.7502335119762495,
          6.7502335119762495,
          7.33719003371538
         ],
         "yaxis": "y"
        },
        {
         "hovertemplate": "Pacjent=139<br>BADANIE_NR=%{x}<br>euclidean_kw_skum=%{y}<extra></extra>",
         "legendgroup": "139",
         "line": {
          "color": "#FECB52",
          "dash": "solid"
         },
         "marker": {
          "symbol": "circle"
         },
         "mode": "lines",
         "name": "139",
         "showlegend": true,
         "type": "scattergl",
         "x": [
          1,
          2,
          3,
          4,
          5,
          6,
          7,
          8,
          9,
          10,
          11,
          12,
          13,
          14,
          15,
          16,
          17,
          18,
          19,
          20,
          21,
          22,
          23,
          24,
          25,
          26,
          27,
          28,
          29,
          30,
          31,
          32
         ],
         "xaxis": "x",
         "y": [
          0.6811414201043093,
          2.003777002402832,
          2.7437770024028323,
          2.9837770024028316,
          2.9837770024028316,
          3.477594782560655,
          4.097594782560655,
          4.7175947825606555,
          6.997594782560655,
          8.817594782560654,
          10.997594782560656,
          12.667594782560656,
          14.947594782560655,
          16.657594782560654,
          18.427594782560657,
          20.401824782560656,
          21.881824782560656,
          22.221824782560656,
          23.241824782560656,
          24.734501572760063,
          26.434501572760063,
          28.094501572760063,
          29.634501572760062,
          31.22450157276006,
          31.524501572760062,
          31.914501572760063,
          32.01850157276006,
          33.1281699917033,
          33.98481694348683,
          35.17799924305383,
          36.91799924305383,
          38.40085594550353
         ],
         "yaxis": "y"
        },
        {
         "hovertemplate": "Pacjent=142<br>BADANIE_NR=%{x}<br>euclidean_kw_skum=%{y}<extra></extra>",
         "legendgroup": "142",
         "line": {
          "color": "#636efa",
          "dash": "solid"
         },
         "marker": {
          "symbol": "circle"
         },
         "mode": "lines",
         "name": "142",
         "showlegend": true,
         "type": "scattergl",
         "x": [
          1,
          2,
          3,
          4,
          5,
          6,
          7,
          8,
          9,
          10,
          11,
          12,
          13,
          14,
          15,
          16,
          17,
          18,
          19,
          20,
          21
         ],
         "xaxis": "x",
         "y": [
          1.1677707134666844,
          2.596081054137764,
          5.022196114916042,
          7.469414633440671,
          9.701069384567873,
          12.07619362432978,
          13.882747249329602,
          15.442747249329603,
          17.821082287905877,
          20.231082287905878,
          22.03108228790588,
          23.571082287905877,
          24.471082287905876,
          26.071082287905877,
          28.741082287905876,
          30.863077575365303,
          34.02288769624282,
          39.3064072369402,
          41.3064072369402,
          44.33731431812793,
          46.61811339639421
         ],
         "yaxis": "y"
        },
        {
         "hovertemplate": "Pacjent=144<br>BADANIE_NR=%{x}<br>euclidean_kw_skum=%{y}<extra></extra>",
         "legendgroup": "144",
         "line": {
          "color": "#EF553B",
          "dash": "solid"
         },
         "marker": {
          "symbol": "circle"
         },
         "mode": "lines",
         "name": "144",
         "showlegend": true,
         "type": "scattergl",
         "x": [
          1,
          2,
          3,
          4,
          5,
          6,
          7,
          8,
          9,
          10,
          11
         ],
         "xaxis": "x",
         "y": [
          5.440377079592443,
          7.604626295323133,
          10.32933097856903,
          15.20162578318892,
          19.05795030622084,
          22.45279962791644,
          25.93421542953004,
          29.04134100340947,
          32.640608488505286,
          35.23529394750231,
          37.66529394750232
         ],
         "yaxis": "y"
        }
       ],
       "layout": {
        "height": 800,
        "legend": {
         "title": {
          "text": "Pacjent"
         },
         "tracegroupgap": 0
        },
        "margin": {
         "t": 60
        },
        "showlegend": false,
        "template": {
         "data": {
          "bar": [
           {
            "error_x": {
             "color": "#2a3f5f"
            },
            "error_y": {
             "color": "#2a3f5f"
            },
            "marker": {
             "line": {
              "color": "white",
              "width": 0.5
             },
             "pattern": {
              "fillmode": "overlay",
              "size": 10,
              "solidity": 0.2
             }
            },
            "type": "bar"
           }
          ],
          "barpolar": [
           {
            "marker": {
             "line": {
              "color": "white",
              "width": 0.5
             },
             "pattern": {
              "fillmode": "overlay",
              "size": 10,
              "solidity": 0.2
             }
            },
            "type": "barpolar"
           }
          ],
          "carpet": [
           {
            "aaxis": {
             "endlinecolor": "#2a3f5f",
             "gridcolor": "#C8D4E3",
             "linecolor": "#C8D4E3",
             "minorgridcolor": "#C8D4E3",
             "startlinecolor": "#2a3f5f"
            },
            "baxis": {
             "endlinecolor": "#2a3f5f",
             "gridcolor": "#C8D4E3",
             "linecolor": "#C8D4E3",
             "minorgridcolor": "#C8D4E3",
             "startlinecolor": "#2a3f5f"
            },
            "type": "carpet"
           }
          ],
          "choropleth": [
           {
            "colorbar": {
             "outlinewidth": 0,
             "ticks": ""
            },
            "type": "choropleth"
           }
          ],
          "contour": [
           {
            "colorbar": {
             "outlinewidth": 0,
             "ticks": ""
            },
            "colorscale": [
             [
              0,
              "#0d0887"
             ],
             [
              0.1111111111111111,
              "#46039f"
             ],
             [
              0.2222222222222222,
              "#7201a8"
             ],
             [
              0.3333333333333333,
              "#9c179e"
             ],
             [
              0.4444444444444444,
              "#bd3786"
             ],
             [
              0.5555555555555556,
              "#d8576b"
             ],
             [
              0.6666666666666666,
              "#ed7953"
             ],
             [
              0.7777777777777778,
              "#fb9f3a"
             ],
             [
              0.8888888888888888,
              "#fdca26"
             ],
             [
              1,
              "#f0f921"
             ]
            ],
            "type": "contour"
           }
          ],
          "contourcarpet": [
           {
            "colorbar": {
             "outlinewidth": 0,
             "ticks": ""
            },
            "type": "contourcarpet"
           }
          ],
          "heatmap": [
           {
            "colorbar": {
             "outlinewidth": 0,
             "ticks": ""
            },
            "colorscale": [
             [
              0,
              "#0d0887"
             ],
             [
              0.1111111111111111,
              "#46039f"
             ],
             [
              0.2222222222222222,
              "#7201a8"
             ],
             [
              0.3333333333333333,
              "#9c179e"
             ],
             [
              0.4444444444444444,
              "#bd3786"
             ],
             [
              0.5555555555555556,
              "#d8576b"
             ],
             [
              0.6666666666666666,
              "#ed7953"
             ],
             [
              0.7777777777777778,
              "#fb9f3a"
             ],
             [
              0.8888888888888888,
              "#fdca26"
             ],
             [
              1,
              "#f0f921"
             ]
            ],
            "type": "heatmap"
           }
          ],
          "heatmapgl": [
           {
            "colorbar": {
             "outlinewidth": 0,
             "ticks": ""
            },
            "colorscale": [
             [
              0,
              "#0d0887"
             ],
             [
              0.1111111111111111,
              "#46039f"
             ],
             [
              0.2222222222222222,
              "#7201a8"
             ],
             [
              0.3333333333333333,
              "#9c179e"
             ],
             [
              0.4444444444444444,
              "#bd3786"
             ],
             [
              0.5555555555555556,
              "#d8576b"
             ],
             [
              0.6666666666666666,
              "#ed7953"
             ],
             [
              0.7777777777777778,
              "#fb9f3a"
             ],
             [
              0.8888888888888888,
              "#fdca26"
             ],
             [
              1,
              "#f0f921"
             ]
            ],
            "type": "heatmapgl"
           }
          ],
          "histogram": [
           {
            "marker": {
             "pattern": {
              "fillmode": "overlay",
              "size": 10,
              "solidity": 0.2
             }
            },
            "type": "histogram"
           }
          ],
          "histogram2d": [
           {
            "colorbar": {
             "outlinewidth": 0,
             "ticks": ""
            },
            "colorscale": [
             [
              0,
              "#0d0887"
             ],
             [
              0.1111111111111111,
              "#46039f"
             ],
             [
              0.2222222222222222,
              "#7201a8"
             ],
             [
              0.3333333333333333,
              "#9c179e"
             ],
             [
              0.4444444444444444,
              "#bd3786"
             ],
             [
              0.5555555555555556,
              "#d8576b"
             ],
             [
              0.6666666666666666,
              "#ed7953"
             ],
             [
              0.7777777777777778,
              "#fb9f3a"
             ],
             [
              0.8888888888888888,
              "#fdca26"
             ],
             [
              1,
              "#f0f921"
             ]
            ],
            "type": "histogram2d"
           }
          ],
          "histogram2dcontour": [
           {
            "colorbar": {
             "outlinewidth": 0,
             "ticks": ""
            },
            "colorscale": [
             [
              0,
              "#0d0887"
             ],
             [
              0.1111111111111111,
              "#46039f"
             ],
             [
              0.2222222222222222,
              "#7201a8"
             ],
             [
              0.3333333333333333,
              "#9c179e"
             ],
             [
              0.4444444444444444,
              "#bd3786"
             ],
             [
              0.5555555555555556,
              "#d8576b"
             ],
             [
              0.6666666666666666,
              "#ed7953"
             ],
             [
              0.7777777777777778,
              "#fb9f3a"
             ],
             [
              0.8888888888888888,
              "#fdca26"
             ],
             [
              1,
              "#f0f921"
             ]
            ],
            "type": "histogram2dcontour"
           }
          ],
          "mesh3d": [
           {
            "colorbar": {
             "outlinewidth": 0,
             "ticks": ""
            },
            "type": "mesh3d"
           }
          ],
          "parcoords": [
           {
            "line": {
             "colorbar": {
              "outlinewidth": 0,
              "ticks": ""
             }
            },
            "type": "parcoords"
           }
          ],
          "pie": [
           {
            "automargin": true,
            "type": "pie"
           }
          ],
          "scatter": [
           {
            "marker": {
             "colorbar": {
              "outlinewidth": 0,
              "ticks": ""
             }
            },
            "type": "scatter"
           }
          ],
          "scatter3d": [
           {
            "line": {
             "colorbar": {
              "outlinewidth": 0,
              "ticks": ""
             }
            },
            "marker": {
             "colorbar": {
              "outlinewidth": 0,
              "ticks": ""
             }
            },
            "type": "scatter3d"
           }
          ],
          "scattercarpet": [
           {
            "marker": {
             "colorbar": {
              "outlinewidth": 0,
              "ticks": ""
             }
            },
            "type": "scattercarpet"
           }
          ],
          "scattergeo": [
           {
            "marker": {
             "colorbar": {
              "outlinewidth": 0,
              "ticks": ""
             }
            },
            "type": "scattergeo"
           }
          ],
          "scattergl": [
           {
            "marker": {
             "colorbar": {
              "outlinewidth": 0,
              "ticks": ""
             }
            },
            "type": "scattergl"
           }
          ],
          "scattermapbox": [
           {
            "marker": {
             "colorbar": {
              "outlinewidth": 0,
              "ticks": ""
             }
            },
            "type": "scattermapbox"
           }
          ],
          "scatterpolar": [
           {
            "marker": {
             "colorbar": {
              "outlinewidth": 0,
              "ticks": ""
             }
            },
            "type": "scatterpolar"
           }
          ],
          "scatterpolargl": [
           {
            "marker": {
             "colorbar": {
              "outlinewidth": 0,
              "ticks": ""
             }
            },
            "type": "scatterpolargl"
           }
          ],
          "scatterternary": [
           {
            "marker": {
             "colorbar": {
              "outlinewidth": 0,
              "ticks": ""
             }
            },
            "type": "scatterternary"
           }
          ],
          "surface": [
           {
            "colorbar": {
             "outlinewidth": 0,
             "ticks": ""
            },
            "colorscale": [
             [
              0,
              "#0d0887"
             ],
             [
              0.1111111111111111,
              "#46039f"
             ],
             [
              0.2222222222222222,
              "#7201a8"
             ],
             [
              0.3333333333333333,
              "#9c179e"
             ],
             [
              0.4444444444444444,
              "#bd3786"
             ],
             [
              0.5555555555555556,
              "#d8576b"
             ],
             [
              0.6666666666666666,
              "#ed7953"
             ],
             [
              0.7777777777777778,
              "#fb9f3a"
             ],
             [
              0.8888888888888888,
              "#fdca26"
             ],
             [
              1,
              "#f0f921"
             ]
            ],
            "type": "surface"
           }
          ],
          "table": [
           {
            "cells": {
             "fill": {
              "color": "#EBF0F8"
             },
             "line": {
              "color": "white"
             }
            },
            "header": {
             "fill": {
              "color": "#C8D4E3"
             },
             "line": {
              "color": "white"
             }
            },
            "type": "table"
           }
          ]
         },
         "layout": {
          "annotationdefaults": {
           "arrowcolor": "#2a3f5f",
           "arrowhead": 0,
           "arrowwidth": 1
          },
          "autotypenumbers": "strict",
          "coloraxis": {
           "colorbar": {
            "outlinewidth": 0,
            "ticks": ""
           }
          },
          "colorscale": {
           "diverging": [
            [
             0,
             "#8e0152"
            ],
            [
             0.1,
             "#c51b7d"
            ],
            [
             0.2,
             "#de77ae"
            ],
            [
             0.3,
             "#f1b6da"
            ],
            [
             0.4,
             "#fde0ef"
            ],
            [
             0.5,
             "#f7f7f7"
            ],
            [
             0.6,
             "#e6f5d0"
            ],
            [
             0.7,
             "#b8e186"
            ],
            [
             0.8,
             "#7fbc41"
            ],
            [
             0.9,
             "#4d9221"
            ],
            [
             1,
             "#276419"
            ]
           ],
           "sequential": [
            [
             0,
             "#0d0887"
            ],
            [
             0.1111111111111111,
             "#46039f"
            ],
            [
             0.2222222222222222,
             "#7201a8"
            ],
            [
             0.3333333333333333,
             "#9c179e"
            ],
            [
             0.4444444444444444,
             "#bd3786"
            ],
            [
             0.5555555555555556,
             "#d8576b"
            ],
            [
             0.6666666666666666,
             "#ed7953"
            ],
            [
             0.7777777777777778,
             "#fb9f3a"
            ],
            [
             0.8888888888888888,
             "#fdca26"
            ],
            [
             1,
             "#f0f921"
            ]
           ],
           "sequentialminus": [
            [
             0,
             "#0d0887"
            ],
            [
             0.1111111111111111,
             "#46039f"
            ],
            [
             0.2222222222222222,
             "#7201a8"
            ],
            [
             0.3333333333333333,
             "#9c179e"
            ],
            [
             0.4444444444444444,
             "#bd3786"
            ],
            [
             0.5555555555555556,
             "#d8576b"
            ],
            [
             0.6666666666666666,
             "#ed7953"
            ],
            [
             0.7777777777777778,
             "#fb9f3a"
            ],
            [
             0.8888888888888888,
             "#fdca26"
            ],
            [
             1,
             "#f0f921"
            ]
           ]
          },
          "colorway": [
           "#636efa",
           "#EF553B",
           "#00cc96",
           "#ab63fa",
           "#FFA15A",
           "#19d3f3",
           "#FF6692",
           "#B6E880",
           "#FF97FF",
           "#FECB52"
          ],
          "font": {
           "color": "#2a3f5f"
          },
          "geo": {
           "bgcolor": "white",
           "lakecolor": "white",
           "landcolor": "white",
           "showlakes": true,
           "showland": true,
           "subunitcolor": "#C8D4E3"
          },
          "hoverlabel": {
           "align": "left"
          },
          "hovermode": "closest",
          "mapbox": {
           "style": "light"
          },
          "paper_bgcolor": "white",
          "plot_bgcolor": "white",
          "polar": {
           "angularaxis": {
            "gridcolor": "#EBF0F8",
            "linecolor": "#EBF0F8",
            "ticks": ""
           },
           "bgcolor": "white",
           "radialaxis": {
            "gridcolor": "#EBF0F8",
            "linecolor": "#EBF0F8",
            "ticks": ""
           }
          },
          "scene": {
           "xaxis": {
            "backgroundcolor": "white",
            "gridcolor": "#DFE8F3",
            "gridwidth": 2,
            "linecolor": "#EBF0F8",
            "showbackground": true,
            "ticks": "",
            "zerolinecolor": "#EBF0F8"
           },
           "yaxis": {
            "backgroundcolor": "white",
            "gridcolor": "#DFE8F3",
            "gridwidth": 2,
            "linecolor": "#EBF0F8",
            "showbackground": true,
            "ticks": "",
            "zerolinecolor": "#EBF0F8"
           },
           "zaxis": {
            "backgroundcolor": "white",
            "gridcolor": "#DFE8F3",
            "gridwidth": 2,
            "linecolor": "#EBF0F8",
            "showbackground": true,
            "ticks": "",
            "zerolinecolor": "#EBF0F8"
           }
          },
          "shapedefaults": {
           "line": {
            "color": "#2a3f5f"
           }
          },
          "ternary": {
           "aaxis": {
            "gridcolor": "#DFE8F3",
            "linecolor": "#A2B1C6",
            "ticks": ""
           },
           "baxis": {
            "gridcolor": "#DFE8F3",
            "linecolor": "#A2B1C6",
            "ticks": ""
           },
           "bgcolor": "white",
           "caxis": {
            "gridcolor": "#DFE8F3",
            "linecolor": "#A2B1C6",
            "ticks": ""
           }
          },
          "title": {
           "x": 0.05
          },
          "xaxis": {
           "automargin": true,
           "gridcolor": "#EBF0F8",
           "linecolor": "#EBF0F8",
           "ticks": "",
           "title": {
            "standoff": 15
           },
           "zerolinecolor": "#EBF0F8",
           "zerolinewidth": 2
          },
          "yaxis": {
           "automargin": true,
           "gridcolor": "#EBF0F8",
           "linecolor": "#EBF0F8",
           "ticks": "",
           "title": {
            "standoff": 15
           },
           "zerolinecolor": "#EBF0F8",
           "zerolinewidth": 2
          }
         }
        },
        "width": 800,
        "xaxis": {
         "anchor": "y",
         "domain": [
          0,
          1
         ],
         "range": [
          0,
          65
         ],
         "tickfont": {
          "size": 18
         },
         "title": {
          "font": {
           "size": 20
          },
          "text": "Numer badania"
         }
        },
        "yaxis": {
         "anchor": "x",
         "domain": [
          0,
          1
         ],
         "range": [
          0,
          120
         ],
         "tickfont": {
          "size": 18
         },
         "title": {
          "font": {
           "size": 20
          },
          "text": "Skumulowana odległość od normy (Miernik 2)"
         }
        }
       }
      }
     },
     "metadata": {},
     "output_type": "display_data"
    },
    {
     "data": {
      "application/vnd.plotly.v1+json": {
       "config": {
        "plotlyServerURL": "https://plot.ly"
       },
       "data": [
        {
         "hovertemplate": "Pacjent=7<br>BADANIE_NR=%{x}<br>euclidean_kw_skum=%{y}<extra></extra>",
         "legendgroup": "7",
         "line": {
          "color": "#636efa",
          "dash": "solid"
         },
         "marker": {
          "symbol": "circle"
         },
         "mode": "lines",
         "name": "7",
         "showlegend": true,
         "type": "scattergl",
         "x": [
          1,
          2,
          3,
          4,
          5,
          6,
          7,
          8,
          9,
          10,
          11,
          12
         ],
         "xaxis": "x",
         "y": [
          0,
          0,
          0,
          0.1439999999999997,
          0.6559999999999996,
          1.3439999999999999,
          3.287005514471829,
          3.6690443006987192,
          5.649644822399476,
          7.591426259516246,
          10.012409445220571,
          10.824656023175583
         ],
         "yaxis": "y"
        },
        {
         "hovertemplate": "Pacjent=11<br>BADANIE_NR=%{x}<br>euclidean_kw_skum=%{y}<extra></extra>",
         "legendgroup": "11",
         "line": {
          "color": "#EF553B",
          "dash": "solid"
         },
         "marker": {
          "symbol": "circle"
         },
         "mode": "lines",
         "name": "11",
         "showlegend": true,
         "type": "scattergl",
         "x": [
          1,
          2,
          3,
          4,
          5,
          6,
          7,
          8,
          9,
          10,
          11,
          12,
          13,
          14,
          15,
          16,
          17
         ],
         "xaxis": "x",
         "y": [
          4.778498800303504,
          12.040196374177711,
          14.46044737367048,
          15.928039978132704,
          18.395586503917023,
          23.112331720182304,
          26.99765899468583,
          30.66341319434341,
          34.76392710068572,
          40.19670313271257,
          45.216598810774116,
          49.72570919046274,
          53.31131420355546,
          56.274635167696545,
          58.84734590379691,
          61.563141513264085,
          69.70564320856005
         ],
         "yaxis": "y"
        },
        {
         "hovertemplate": "Pacjent=12<br>BADANIE_NR=%{x}<br>euclidean_kw_skum=%{y}<extra></extra>",
         "legendgroup": "12",
         "line": {
          "color": "#00cc96",
          "dash": "solid"
         },
         "marker": {
          "symbol": "circle"
         },
         "mode": "lines",
         "name": "12",
         "showlegend": true,
         "type": "scattergl",
         "x": [
          1,
          2,
          3,
          4,
          5,
          6,
          7,
          8,
          9,
          10,
          11,
          12,
          13,
          14,
          15,
          16,
          17,
          18,
          19,
          20,
          21,
          22,
          23,
          24,
          25,
          26,
          27,
          28,
          29,
          30,
          31,
          32,
          33,
          34,
          35,
          36,
          37,
          38,
          39,
          40,
          41,
          42,
          43,
          44,
          45,
          46,
          47,
          48,
          49
         ],
         "xaxis": "x",
         "y": [
          3.5873142444180814,
          9.081811823429152,
          21.194835025686487,
          27.65810454550356,
          33.337370586966806,
          37.4944997876408,
          39.715058816189746,
          40.92192741212254,
          41.55390881080193,
          42.20893900984915,
          43.11395191303318,
          43.4544673308561,
          44.723090331602336,
          44.723090331602336,
          44.96309033160233,
          44.973090331602336,
          44.973090331602336,
          44.973090331602336,
          44.973090331602336,
          44.973090331602336,
          44.973090331602336,
          45.21309033160233,
          45.71309033160233,
          46.36309033160233,
          46.36309033160233,
          46.693090331602335,
          46.86309033160233,
          46.86309033160233,
          46.973090331602336,
          46.973090331602336,
          46.973090331602336,
          46.973090331602336,
          46.973090331602336,
          46.973090331602336,
          46.973090331602336,
          46.973090331602336,
          46.973090331602336,
          47.53049286938513,
          48.05223199981991,
          48.57397113025469,
          49.70440591286339,
          51.154286404077,
          52.87167770842482,
          53.9806387681639,
          54.71976920294651,
          54.71976920294651,
          55.611073550772595,
          56.50237789859868,
          57.91544497842412
         ],
         "yaxis": "y"
        },
        {
         "hovertemplate": "Pacjent=21<br>BADANIE_NR=%{x}<br>euclidean_kw_skum=%{y}<extra></extra>",
         "legendgroup": "21",
         "line": {
          "color": "#ab63fa",
          "dash": "solid"
         },
         "marker": {
          "symbol": "circle"
         },
         "mode": "lines",
         "name": "21",
         "showlegend": true,
         "type": "scattergl",
         "x": [
          1,
          2,
          3,
          4,
          5,
          6,
          7,
          8,
          9,
          10,
          11,
          12,
          13,
          14,
          15,
          16,
          17,
          18,
          19,
          20,
          21,
          22,
          23,
          24,
          25,
          26,
          27,
          28,
          29,
          30,
          31,
          32,
          33,
          34,
          35,
          36,
          37,
          38,
          39,
          40,
          41,
          42,
          43,
          44,
          45,
          46,
          47,
          48,
          49,
          50,
          51,
          52,
          53,
          54,
          55,
          56,
          57,
          58,
          59,
          60,
          61,
          62,
          63,
          64
         ],
         "xaxis": "x",
         "y": [
          0.1304347826086956,
          0.1304347826086956,
          0.1304347826086956,
          0.1304347826086956,
          0.1304347826086956,
          0.1304347826086956,
          0.1304347826086956,
          0.1304347826086956,
          0.1304347826086956,
          1.2024347826086954,
          1.2024347826086954,
          1.2024347826086954,
          1.7224347826086954,
          1.7224347826086954,
          1.7224347826086954,
          2.803537922924179,
          5.4945060954644,
          7.71159246825622,
          11.854756519105525,
          12.484756519105524,
          12.814756519105524,
          13.844756519105523,
          15.104756519105523,
          16.114756519105523,
          17.10475651910552,
          17.42475651910552,
          20.43660735688555,
          22.57660735688555,
          24.93660735688555,
          27.00660735688555,
          29.11660735688555,
          30.66660735688555,
          32.46660735688555,
          34.63660735688555,
          36.63660735688555,
          39.50660735688555,
          43.439844201507995,
          45.81984420150799,
          49.40237927093128,
          51.54283155958431,
          53.00283155958431,
          57.35842311286153,
          62.731531936118444,
          64.83153193611845,
          66.90153193611845,
          68.80153193611845,
          69.93334287439392,
          71.19334287439392,
          72.85306453780619,
          75.3581793056362,
          76.9881793056362,
          78.5981793056362,
          81.70388282251838,
          83.39388282251838,
          86.90638698653049,
          90.59588956664089,
          92.7158895666409,
          95.30588956664089,
          97.09588956664089,
          99.10996106487525,
          101.42018269926447,
          103.57018269926446,
          107.07752334886565,
          109.3427243216349
         ],
         "yaxis": "y"
        },
        {
         "hovertemplate": "Pacjent=22<br>BADANIE_NR=%{x}<br>euclidean_kw_skum=%{y}<extra></extra>",
         "legendgroup": "22",
         "line": {
          "color": "#FFA15A",
          "dash": "solid"
         },
         "marker": {
          "symbol": "circle"
         },
         "mode": "lines",
         "name": "22",
         "showlegend": true,
         "type": "scattergl",
         "x": [
          1,
          2,
          3,
          4,
          5,
          6,
          7,
          8,
          9,
          10,
          11,
          12,
          13,
          14,
          15,
          16,
          17,
          18,
          19,
          20,
          21,
          22,
          23,
          24,
          25,
          26,
          27,
          28,
          29,
          30,
          31,
          32,
          33
         ],
         "xaxis": "x",
         "y": [
          1.6583171020351097,
          3.8586064980158046,
          5.921667128597559,
          7.779103663339265,
          9.340620697199206,
          9.950620697199206,
          10.810620697199207,
          11.510620697199206,
          11.810620697199207,
          12.770620697199206,
          13.161931315506454,
          13.771931315506453,
          14.731931315506454,
          15.591931315506454,
          16.8212400643568,
          17.832031833219208,
          19.084549298167303,
          20.31384015065096,
          21.76384015065096,
          23.37492067407376,
          25.074920674073763,
          26.06492067407376,
          26.621783314228406,
          28.195065234292322,
          29.103945864518316,
          29.763945864518316,
          31.133945864518314,
          32.79461365045432,
          34.09581924527783,
          35.000995471213976,
          35.85539584574573,
          36.51139584574573,
          40.85263829629874
         ],
         "yaxis": "y"
        },
        {
         "hovertemplate": "Pacjent=25<br>BADANIE_NR=%{x}<br>euclidean_kw_skum=%{y}<extra></extra>",
         "legendgroup": "25",
         "line": {
          "color": "#19d3f3",
          "dash": "solid"
         },
         "marker": {
          "symbol": "circle"
         },
         "mode": "lines",
         "name": "25",
         "showlegend": true,
         "type": "scattergl",
         "x": [
          1,
          2,
          3,
          4,
          5,
          6,
          7,
          8,
          9,
          10,
          11,
          12,
          13,
          14,
          15,
          16
         ],
         "xaxis": "x",
         "y": [
          0.9165675097885587,
          2.291041065634436,
          6.441723535942028,
          7.431723535942029,
          8.88172353594203,
          10.421723535942029,
          11.501723535942029,
          13.11172353594203,
          14.034553964569088,
          15.044553964569088,
          16.33455396456909,
          17.92455396456909,
          18.984553964569088,
          18.984553964569088,
          19.664553964569087,
          20.37455396456909
         ],
         "yaxis": "y"
        },
        {
         "hovertemplate": "Pacjent=27<br>BADANIE_NR=%{x}<br>euclidean_kw_skum=%{y}<extra></extra>",
         "legendgroup": "27",
         "line": {
          "color": "#FF6692",
          "dash": "solid"
         },
         "marker": {
          "symbol": "circle"
         },
         "mode": "lines",
         "name": "27",
         "showlegend": true,
         "type": "scattergl",
         "x": [
          1,
          2,
          3,
          4,
          5,
          6,
          7,
          8,
          9,
          10,
          11,
          12,
          13,
          14,
          15,
          16,
          17,
          18,
          19,
          20,
          21,
          22,
          23,
          24,
          25,
          26
         ],
         "xaxis": "x",
         "y": [
          1.4824508613394525,
          4.218671580950286,
          6.961444633440847,
          9.685641569104332,
          12.277557835145068,
          14.16740055387214,
          17.329639872465478,
          19.98916035805366,
          22.969719994338796,
          25.923843341287597,
          28.505413686784674,
          31.721815144323298,
          34.13261097314427,
          36.758121894096746,
          38.965666138679296,
          41.563709198490024,
          43.893328945983825,
          45.52313665494852,
          48.275621791227444,
          50.27766821484878,
          52.00523209391826,
          53.13547323415868,
          54.03804789033526,
          55.38528410537416,
          56.25280701573446,
          59.81246813042014
         ],
         "yaxis": "y"
        },
        {
         "hovertemplate": "Pacjent=30<br>BADANIE_NR=%{x}<br>euclidean_kw_skum=%{y}<extra></extra>",
         "legendgroup": "30",
         "line": {
          "color": "#B6E880",
          "dash": "solid"
         },
         "marker": {
          "symbol": "circle"
         },
         "mode": "lines",
         "name": "30",
         "showlegend": true,
         "type": "scattergl",
         "x": [
          1,
          2,
          3,
          4,
          5,
          6,
          7,
          8,
          9,
          10,
          11,
          12
         ],
         "xaxis": "x",
         "y": [
          3.6038953594805565,
          6.2283639667769,
          9.598816272627333,
          13.471092519513132,
          15.510567085847164,
          17.12677284258333,
          18.130131253916463,
          20.388379296257362,
          22.390251093652402,
          23.61383203145053,
          25.985527019912347,
          28.19992457189245
         ],
         "yaxis": "y"
        },
        {
         "hovertemplate": "Pacjent=31<br>BADANIE_NR=%{x}<br>euclidean_kw_skum=%{y}<extra></extra>",
         "legendgroup": "31",
         "line": {
          "color": "#FF97FF",
          "dash": "solid"
         },
         "marker": {
          "symbol": "circle"
         },
         "mode": "lines",
         "name": "31",
         "showlegend": true,
         "type": "scattergl",
         "x": [
          1,
          2,
          3,
          4,
          5,
          6,
          7,
          8,
          9,
          10,
          11
         ],
         "xaxis": "x",
         "y": [
          2.08362303592411,
          5.7006387235307905,
          8.378605672226161,
          12.110398353684152,
          15.373842146854207,
          18.76929845499113,
          21.631676269460893,
          25.48266930123927,
          29.559158942064144,
          33.232753317636266,
          37.660691330598716
         ],
         "yaxis": "y"
        },
        {
         "hovertemplate": "Pacjent=32<br>BADANIE_NR=%{x}<br>euclidean_kw_skum=%{y}<extra></extra>",
         "legendgroup": "32",
         "line": {
          "color": "#FECB52",
          "dash": "solid"
         },
         "marker": {
          "symbol": "circle"
         },
         "mode": "lines",
         "name": "32",
         "showlegend": true,
         "type": "scattergl",
         "x": [
          1,
          2,
          3,
          4,
          5,
          6,
          7,
          8,
          9,
          10,
          11,
          12,
          13,
          14,
          15,
          16,
          17,
          18,
          19,
          20,
          21,
          22,
          23,
          24,
          25,
          26,
          27,
          28,
          29,
          30,
          31
         ],
         "xaxis": "x",
         "y": [
          1.7678937928014906,
          3.8198307969603045,
          4.517401812326637,
          6.070970957238447,
          9.588267998633995,
          12.795695835991461,
          14.81569583599146,
          16.879172513833982,
          18.034592783692528,
          19.5927506704293,
          22.076393552374974,
          24.727228151969232,
          26.877228151969234,
          29.220501283528783,
          31.733051531661737,
          34.15356554203351,
          36.929037658455556,
          39.26329245796572,
          41.51863022925986,
          43.53954705641442,
          46.370015918846065,
          48.5424469985532,
          51.29783373424933,
          53.23374042449322,
          55.139848412963175,
          57.17347828395747,
          59.6969800288193,
          62.20023432102297,
          64.25841989744534,
          66.37530392633082,
          68.77576704892022
         ],
         "yaxis": "y"
        },
        {
         "hovertemplate": "Pacjent=36<br>BADANIE_NR=%{x}<br>euclidean_kw_skum=%{y}<extra></extra>",
         "legendgroup": "36",
         "line": {
          "color": "#636efa",
          "dash": "solid"
         },
         "marker": {
          "symbol": "circle"
         },
         "mode": "lines",
         "name": "36",
         "showlegend": true,
         "type": "scattergl",
         "x": [
          1,
          2,
          3,
          4,
          5,
          6,
          7,
          8
         ],
         "xaxis": "x",
         "y": [
          2.11236891346216,
          7.147825610309608,
          10.606319319560951,
          13.776934742172473,
          19.208053465384367,
          24.554251946165024,
          29.341835506408867,
          34.11963983943027
         ],
         "yaxis": "y"
        },
        {
         "hovertemplate": "Pacjent=37<br>BADANIE_NR=%{x}<br>euclidean_kw_skum=%{y}<extra></extra>",
         "legendgroup": "37",
         "line": {
          "color": "#EF553B",
          "dash": "solid"
         },
         "marker": {
          "symbol": "circle"
         },
         "mode": "lines",
         "name": "37",
         "showlegend": true,
         "type": "scattergl",
         "x": [
          1,
          2,
          3,
          4,
          5,
          6,
          7,
          8,
          9,
          10,
          11,
          12,
          13,
          14,
          15,
          16,
          17,
          18,
          19,
          20,
          21,
          22,
          23,
          24,
          25,
          26,
          27,
          28,
          29,
          30,
          31,
          32,
          33,
          34,
          35,
          36,
          37,
          38,
          39,
          40,
          41,
          42,
          43,
          44,
          45,
          46,
          47,
          48,
          49,
          50,
          51
         ],
         "xaxis": "x",
         "y": [
          6.838781644650086,
          10.521793501663701,
          13.58341526019586,
          17.045249952026104,
          19.071154038442167,
          21.458109421351534,
          23.494773360247688,
          25.64897436410954,
          27.91897436410954,
          29.478974364109543,
          31.080598539751257,
          32.24808472810639,
          33.37808472810639,
          34.533290337511055,
          35.813290337511056,
          36.673813434237694,
          37.66225867804232,
          38.35398405707652,
          39.01974377349078,
          40.039743773490784,
          41.37568389190927,
          43.715683891909265,
          46.41574767873955,
          48.27574767873955,
          49.872996563541165,
          51.21299656354117,
          52.560822650497684,
          54.39082265049769,
          56.133520558914405,
          58.0135205589144,
          60.87572180970024,
          62.89948464165462,
          64.77948464165462,
          67.27948464165462,
          69.62948804590746,
          71.98970498508912,
          73.94970498508911,
          74.84646359251923,
          77.80646359251924,
          80.11646359251924,
          83.33049532851688,
          86.20467068851146,
          89.59262346268055,
          94.60354038867628,
          99.1862836719074,
          105.26786350683855,
          108.56205536524632,
          113.54958418284235,
          117.46855394542025,
          120.00409018061785,
          123.74553375228909
         ],
         "yaxis": "y"
        },
        {
         "hovertemplate": "Pacjent=42<br>BADANIE_NR=%{x}<br>euclidean_kw_skum=%{y}<extra></extra>",
         "legendgroup": "42",
         "line": {
          "color": "#00cc96",
          "dash": "solid"
         },
         "marker": {
          "symbol": "circle"
         },
         "mode": "lines",
         "name": "42",
         "showlegend": true,
         "type": "scattergl",
         "x": [
          1,
          2,
          3,
          4,
          5,
          6,
          7,
          8,
          9,
          10,
          11,
          12,
          13,
          14,
          15,
          16,
          17,
          18,
          19
         ],
         "xaxis": "x",
         "y": [
          1.3921685569888367,
          2.0706296512137645,
          3.0773941061836974,
          4.7236152192399,
          6.12589018180262,
          7.726667516226759,
          9.32666751622676,
          11.026667516226759,
          13.45981958074901,
          15.10981958074901,
          15.93981958074901,
          16.79981958074901,
          17.27181958074901,
          18.898379779189312,
          18.898379779189312,
          18.898379779189312,
          20.308379779189313,
          21.77837977918931,
          23.65837977918931
         ],
         "yaxis": "y"
        },
        {
         "hovertemplate": "Pacjent=48<br>BADANIE_NR=%{x}<br>euclidean_kw_skum=%{y}<extra></extra>",
         "legendgroup": "48",
         "line": {
          "color": "#ab63fa",
          "dash": "solid"
         },
         "marker": {
          "symbol": "circle"
         },
         "mode": "lines",
         "name": "48",
         "showlegend": true,
         "type": "scattergl",
         "x": [
          1,
          2,
          3,
          4,
          5,
          6,
          7,
          8,
          9,
          10,
          11,
          12,
          13,
          14,
          15,
          16,
          17,
          18,
          19,
          20,
          21,
          22,
          23,
          24,
          25,
          26,
          27,
          28,
          29,
          30,
          31,
          32,
          33,
          34,
          35,
          36,
          37,
          38
         ],
         "xaxis": "x",
         "y": [
          2.2445538802265443,
          7.152280900925744,
          12.532744308539733,
          16.56173379906778,
          19.31839923821814,
          22.53676271014937,
          24.300070596248627,
          25.275123644244438,
          27.01043619807421,
          27.99510552104646,
          28.656791979339886,
          29.815916356393192,
          30.315916356393192,
          31.537344246533255,
          33.14734424653326,
          34.42734424653325,
          36.13734424653325,
          37.68734424653326,
          39.42734424653325,
          40.627344246533255,
          42.197344246533255,
          43.16667391181747,
          44.11674969826821,
          45.04674969826821,
          45.780847784357526,
          46.17084778435753,
          46.36284778435753,
          46.36284778435753,
          46.48284778435753,
          46.54684778435753,
          46.54684778435753,
          46.54684778435753,
          47.19084778435753,
          47.19084778435753,
          47.19084778435753,
          47.29084778435753,
          47.29084778435753,
          48.823546449209545
         ],
         "yaxis": "y"
        },
        {
         "hovertemplate": "Pacjent=51<br>BADANIE_NR=%{x}<br>euclidean_kw_skum=%{y}<extra></extra>",
         "legendgroup": "51",
         "line": {
          "color": "#FFA15A",
          "dash": "solid"
         },
         "marker": {
          "symbol": "circle"
         },
         "mode": "lines",
         "name": "51",
         "showlegend": true,
         "type": "scattergl",
         "x": [
          1,
          2,
          3,
          4,
          5,
          6,
          7
         ],
         "xaxis": "x",
         "y": [
          3.6203146675946645,
          7.600504399026939,
          10.325804911709785,
          11.448516677061793,
          12.509237814710882,
          13.806537497497919,
          16.06411774531556
         ],
         "yaxis": "y"
        },
        {
         "hovertemplate": "Pacjent=52<br>BADANIE_NR=%{x}<br>euclidean_kw_skum=%{y}<extra></extra>",
         "legendgroup": "52",
         "line": {
          "color": "#19d3f3",
          "dash": "solid"
         },
         "marker": {
          "symbol": "circle"
         },
         "mode": "lines",
         "name": "52",
         "showlegend": true,
         "type": "scattergl",
         "x": [
          1,
          2,
          3,
          4,
          5,
          6,
          7,
          8,
          9,
          10,
          11,
          12,
          13,
          14,
          15,
          16,
          17,
          18,
          19,
          20,
          21,
          22,
          23,
          24,
          25,
          26,
          27,
          28
         ],
         "xaxis": "x",
         "y": [
          0.630588540519621,
          3.2404591280436423,
          5.7689487436238185,
          7.522566452997864,
          9.187369209675147,
          11.094658777424526,
          13.618038541378352,
          15.928038541378353,
          17.618038541378354,
          19.16803854137835,
          21.198038541378352,
          22.05803854137835,
          22.13803854137835,
          22.268038541378353,
          22.428038541378353,
          22.428038541378353,
          22.75803854137835,
          22.81803854137835,
          22.81803854137835,
          26.86012277588718,
          28.707735234381403,
          31.97378385987642,
          35.403645953488216,
          39.98201326394164,
          41.908900999128804,
          44.14594581844908,
          46.53055796104801,
          48.2850051586259
         ],
         "yaxis": "y"
        },
        {
         "hovertemplate": "Pacjent=53<br>BADANIE_NR=%{x}<br>euclidean_kw_skum=%{y}<extra></extra>",
         "legendgroup": "53",
         "line": {
          "color": "#FF6692",
          "dash": "solid"
         },
         "marker": {
          "symbol": "circle"
         },
         "mode": "lines",
         "name": "53",
         "showlegend": true,
         "type": "scattergl",
         "x": [
          1,
          2,
          3,
          4,
          5,
          6,
          7,
          8,
          9,
          10,
          11,
          12,
          13,
          14,
          15,
          16,
          17,
          18,
          19,
          20
         ],
         "xaxis": "x",
         "y": [
          0.3541106250515219,
          1.6190278598547034,
          4.4766518561647,
          5.018884278655278,
          5.591349124737551,
          6.51330357046684,
          7.264838000815842,
          7.734838000815842,
          11.625095373607689,
          13.088379351514916,
          16.721523897053423,
          20.512298009637714,
          25.074053769309877,
          28.252486716534026,
          31.29585912406192,
          35.177019941219754,
          37.93701994121976,
          39.658210227039426,
          41.917682731851116,
          46.51216129736525
         ],
         "yaxis": "y"
        },
        {
         "hovertemplate": "Pacjent=55<br>BADANIE_NR=%{x}<br>euclidean_kw_skum=%{y}<extra></extra>",
         "legendgroup": "55",
         "line": {
          "color": "#B6E880",
          "dash": "solid"
         },
         "marker": {
          "symbol": "circle"
         },
         "mode": "lines",
         "name": "55",
         "showlegend": true,
         "type": "scattergl",
         "x": [
          1,
          2,
          3,
          4,
          5,
          6,
          7,
          8,
          9,
          10,
          11,
          12,
          13,
          14,
          15,
          16,
          17,
          18,
          19,
          20,
          21,
          22,
          23,
          24,
          25
         ],
         "xaxis": "x",
         "y": [
          0,
          1.1906905559380239,
          1.986690555938024,
          2.8106905559380237,
          3.2786905559380237,
          3.2786905559380237,
          3.2786905559380237,
          4.022690555938024,
          4.526690555938024,
          4.526690555938024,
          4.526690555938024,
          4.526690555938024,
          4.526690555938024,
          5.1506905559380245,
          5.382690555938024,
          5.382690555938024,
          5.626690555938024,
          5.626690555938024,
          6.082690555938024,
          6.877940043012282,
          7.381940043012282,
          7.789940043012282,
          8.257940043012281,
          9.864119775126836,
          12.267210442135307
         ],
         "yaxis": "y"
        },
        {
         "hovertemplate": "Pacjent=57<br>BADANIE_NR=%{x}<br>euclidean_kw_skum=%{y}<extra></extra>",
         "legendgroup": "57",
         "line": {
          "color": "#FF97FF",
          "dash": "solid"
         },
         "marker": {
          "symbol": "circle"
         },
         "mode": "lines",
         "name": "57",
         "showlegend": true,
         "type": "scattergl",
         "x": [
          1,
          2,
          3,
          4,
          5,
          6,
          7,
          8,
          9,
          10,
          11,
          12,
          13,
          14,
          15
         ],
         "xaxis": "x",
         "y": [
          0.2919999999999998,
          0.4999999999999999,
          0.96,
          0.96,
          0.96,
          1.5719999999999998,
          1.5719999999999998,
          1.5719999999999998,
          1.5719999999999998,
          1.5719999999999998,
          1.5719999999999998,
          1.5719999999999998,
          3.3999138536285196,
          9.654284892364755,
          23.529500294060757
         ],
         "yaxis": "y"
        },
        {
         "hovertemplate": "Pacjent=61<br>BADANIE_NR=%{x}<br>euclidean_kw_skum=%{y}<extra></extra>",
         "legendgroup": "61",
         "line": {
          "color": "#FECB52",
          "dash": "solid"
         },
         "marker": {
          "symbol": "circle"
         },
         "mode": "lines",
         "name": "61",
         "showlegend": true,
         "type": "scattergl",
         "x": [
          1,
          2,
          3,
          4,
          5,
          6,
          7,
          8,
          9,
          10,
          11,
          12,
          13,
          14,
          15,
          16,
          17,
          18,
          19,
          20,
          21,
          22,
          23,
          24,
          25,
          26,
          27,
          28,
          29,
          30,
          31,
          32,
          33,
          34
         ],
         "xaxis": "x",
         "y": [
          0,
          0.2173913043478261,
          0.6244086167899374,
          1.2660032511644956,
          1.2660032511644956,
          1.2660032511644956,
          1.6180032511644955,
          1.7780032511644954,
          1.7780032511644954,
          1.7780032511644954,
          1.7780032511644954,
          1.7780032511644954,
          1.7780032511644954,
          1.7780032511644954,
          2.1260032511644953,
          2.6220032511644953,
          2.7700032511644954,
          3.0620032511644952,
          3.0620032511644952,
          3.0620032511644952,
          3.6642965621967347,
          3.6642965621967347,
          4.258709465348149,
          4.345665987087279,
          4.4108833783916275,
          6.202883378391627,
          6.537941243777444,
          6.537941243777444,
          6.537941243777444,
          7.774826179418071,
          7.927000092461549,
          7.927000092461549,
          7.927000092461549,
          7.9704783533311145
         ],
         "yaxis": "y"
        },
        {
         "hovertemplate": "Pacjent=62<br>BADANIE_NR=%{x}<br>euclidean_kw_skum=%{y}<extra></extra>",
         "legendgroup": "62",
         "line": {
          "color": "#636efa",
          "dash": "solid"
         },
         "marker": {
          "symbol": "circle"
         },
         "mode": "lines",
         "name": "62",
         "showlegend": true,
         "type": "scattergl",
         "x": [
          1,
          2,
          3,
          4,
          5,
          6,
          7,
          8,
          9,
          10,
          11
         ],
         "xaxis": "x",
         "y": [
          0.8762577932474229,
          1.8650425206966035,
          2.4630690304357667,
          3.123069030435767,
          3.123069030435767,
          3.991225698324691,
          3.991225698324691,
          4.661225698324691,
          5.631225698324691,
          10.835098243316807,
          14.906185308274555
         ],
         "yaxis": "y"
        },
        {
         "hovertemplate": "Pacjent=65<br>BADANIE_NR=%{x}<br>euclidean_kw_skum=%{y}<extra></extra>",
         "legendgroup": "65",
         "line": {
          "color": "#EF553B",
          "dash": "solid"
         },
         "marker": {
          "symbol": "circle"
         },
         "mode": "lines",
         "name": "65",
         "showlegend": true,
         "type": "scattergl",
         "x": [
          1,
          2,
          3,
          4,
          5,
          6,
          7,
          8,
          9,
          10,
          11,
          12,
          13,
          14,
          15,
          16,
          17,
          18,
          19,
          20,
          21,
          22,
          23,
          24,
          25,
          26,
          27,
          28,
          29,
          30,
          31,
          32,
          33,
          34,
          35,
          36,
          37
         ],
         "xaxis": "x",
         "y": [
          0.82,
          1.5577181260093926,
          2.241250340258722,
          3.7250853743094696,
          5.590292129020717,
          5.903172832763181,
          6.246651443042786,
          6.246651443042786,
          7.0366514430427864,
          7.591445098377813,
          7.801445098377813,
          8.429445098377812,
          8.949445098377813,
          8.949445098377813,
          10.219445098377813,
          11.119445098377813,
          12.649445098377813,
          13.869445098377813,
          15.179445098377814,
          15.889445098377813,
          16.829445098377814,
          18.339445098377812,
          18.339445098377812,
          18.339445098377812,
          18.339445098377812,
          18.339445098377812,
          18.339445098377812,
          18.605407501735883,
          18.79540750173588,
          18.931289803747585,
          22.174617993589425,
          22.344617993589427,
          22.774617993589427,
          22.87461799358943,
          23.114617993589427,
          23.564617993589426,
          23.93521750789024
         ],
         "yaxis": "y"
        },
        {
         "hovertemplate": "Pacjent=70<br>BADANIE_NR=%{x}<br>euclidean_kw_skum=%{y}<extra></extra>",
         "legendgroup": "70",
         "line": {
          "color": "#00cc96",
          "dash": "solid"
         },
         "marker": {
          "symbol": "circle"
         },
         "mode": "lines",
         "name": "70",
         "showlegend": true,
         "type": "scattergl",
         "x": [
          1,
          2,
          3,
          4,
          5,
          6,
          7,
          8,
          9,
          10,
          11,
          12,
          13,
          14,
          15,
          16,
          17,
          18,
          19,
          20,
          21,
          22,
          23,
          24,
          25,
          26,
          27,
          28,
          29,
          30,
          31
         ],
         "xaxis": "x",
         "y": [
          0.8178504908177369,
          1.5562431865812443,
          2.205029495667852,
          2.397029495667852,
          3.2050294956678522,
          3.4890294956678516,
          5.549879526989997,
          10.919885803505823,
          16.19251961063339,
          20.807355470605394,
          25.392200841146316,
          28.034562411369233,
          31.425588647009576,
          33.95620084154871,
          36.03628364109114,
          37.60628364109114,
          39.29628364109114,
          40.79628364109114,
          42.08628364109114,
          43.20628364109114,
          43.82628364109114,
          44.37628364109114,
          45.31628364109114,
          46.19628364109114,
          46.84628364109114,
          47.38628364109114,
          47.98628364109114,
          47.98628364109114,
          48.18645032321083,
          48.4811541894426,
          50.92688476236191
         ],
         "yaxis": "y"
        },
        {
         "hovertemplate": "Pacjent=73<br>BADANIE_NR=%{x}<br>euclidean_kw_skum=%{y}<extra></extra>",
         "legendgroup": "73",
         "line": {
          "color": "#ab63fa",
          "dash": "solid"
         },
         "marker": {
          "symbol": "circle"
         },
         "mode": "lines",
         "name": "73",
         "showlegend": true,
         "type": "scattergl",
         "x": [
          1,
          2,
          3,
          4,
          5,
          6,
          7,
          8,
          9,
          10,
          11,
          12,
          13,
          14,
          15,
          16,
          17,
          18,
          19,
          20,
          21,
          22,
          23
         ],
         "xaxis": "x",
         "y": [
          0.1521739130434783,
          0.7281739130434782,
          1.2933206616362625,
          3.041466275714796,
          3.741466275714796,
          3.851466275714796,
          4.481466275714796,
          5.551466275714796,
          6.141466275714796,
          6.891466275714796,
          7.061466275714796,
          7.411466275714797,
          7.871466275714797,
          7.871466275714797,
          7.871466275714797,
          7.871466275714797,
          7.871466275714797,
          7.871466275714797,
          7.981466275714797,
          8.021466275714797,
          8.071466275714798,
          8.411466275714798,
          9.363441065296957
         ],
         "yaxis": "y"
        },
        {
         "hovertemplate": "Pacjent=74<br>BADANIE_NR=%{x}<br>euclidean_kw_skum=%{y}<extra></extra>",
         "legendgroup": "74",
         "line": {
          "color": "#FFA15A",
          "dash": "solid"
         },
         "marker": {
          "symbol": "circle"
         },
         "mode": "lines",
         "name": "74",
         "showlegend": true,
         "type": "scattergl",
         "x": [
          1,
          2,
          3,
          4,
          5,
          6,
          7,
          8,
          9,
          10,
          11,
          12,
          13,
          14,
          15
         ],
         "xaxis": "x",
         "y": [
          1.8006736339243998,
          1.9220368570491544,
          3.53597368478988,
          5.365495990103777,
          7.8037326383145125,
          8.428774180979246,
          9.886081149369257,
          11.937209407213171,
          14.163654285506258,
          16.208122939190027,
          17.674990349694465,
          19.54874166723903,
          21.128559378242425,
          24.32844937391715,
          28.293119176567323
         ],
         "yaxis": "y"
        },
        {
         "hovertemplate": "Pacjent=77<br>BADANIE_NR=%{x}<br>euclidean_kw_skum=%{y}<extra></extra>",
         "legendgroup": "77",
         "line": {
          "color": "#19d3f3",
          "dash": "solid"
         },
         "marker": {
          "symbol": "circle"
         },
         "mode": "lines",
         "name": "77",
         "showlegend": true,
         "type": "scattergl",
         "x": [
          1,
          2,
          3,
          4,
          5,
          6,
          7,
          8,
          9,
          10,
          11,
          12,
          13,
          14,
          15,
          16,
          17,
          18,
          19,
          20,
          21,
          22,
          23,
          24,
          25,
          26,
          27,
          28,
          29,
          30,
          31,
          32,
          33,
          34,
          35,
          36,
          37,
          38
         ],
         "xaxis": "x",
         "y": [
          0.69,
          2.261552297565152,
          3.3215522975651526,
          3.3215522975651526,
          3.3215522975651526,
          3.4175522975651527,
          3.6975522975651525,
          3.6975522975651525,
          3.867552297565153,
          4.127552297565153,
          4.387552297565153,
          4.387552297565153,
          4.917552297565153,
          4.917552297565153,
          4.917552297565153,
          6.382919145832167,
          6.932919145832167,
          6.932919145832167,
          6.932919145832167,
          6.932919145832167,
          7.192919145832167,
          7.192919145832167,
          7.432919145832167,
          7.996919145832167,
          11.6763025831694,
          12.1763025831694,
          12.9663025831694,
          14.637141422364046,
          15.837141422364045,
          17.767141422364045,
          19.721625124337635,
          20.741625124337634,
          23.579742712992967,
          26.541380390831684,
          27.561380390831687,
          27.561380390831687,
          29.721380390831683,
          31.621380390831686
         ],
         "yaxis": "y"
        },
        {
         "hovertemplate": "Pacjent=78<br>BADANIE_NR=%{x}<br>euclidean_kw_skum=%{y}<extra></extra>",
         "legendgroup": "78",
         "line": {
          "color": "#FF6692",
          "dash": "solid"
         },
         "marker": {
          "symbol": "circle"
         },
         "mode": "lines",
         "name": "78",
         "showlegend": true,
         "type": "scattergl",
         "x": [
          1,
          2,
          3,
          4,
          5,
          6,
          7,
          8,
          9,
          10,
          11,
          12,
          13,
          14,
          15,
          16,
          17,
          18,
          19,
          20,
          21,
          22,
          23,
          24,
          25,
          26,
          27,
          28,
          29,
          30,
          31,
          32,
          33,
          34,
          35,
          36,
          37
         ],
         "xaxis": "x",
         "y": [
          0.22107145856500898,
          0.7910714585650095,
          1.6391856812932453,
          2.019682434209603,
          2.019682434209603,
          2.019682434209603,
          2.019682434209603,
          2.6316824342096026,
          2.841720525992974,
          4.6277115674038765,
          5.159218858040609,
          5.829218858040609,
          6.30921885804061,
          7.32921885804061,
          8.40921885804061,
          10.02921885804061,
          12.554270558662203,
          12.966270558662204,
          13.828676495561991,
          14.632241054262785,
          15.697803816374899,
          17.132605544837755,
          18.491599290224393,
          19.277281159685565,
          20.160975677038703,
          20.864975677038704,
          21.176975677038705,
          21.296975677038706,
          21.296975677038706,
          21.296975677038706,
          21.606975677038704,
          21.606975677038704,
          21.666975677038703,
          21.666975677038703,
          21.862975677038705,
          21.862975677038705,
          21.862975677038705
         ],
         "yaxis": "y"
        },
        {
         "hovertemplate": "Pacjent=80<br>BADANIE_NR=%{x}<br>euclidean_kw_skum=%{y}<extra></extra>",
         "legendgroup": "80",
         "line": {
          "color": "#B6E880",
          "dash": "solid"
         },
         "marker": {
          "symbol": "circle"
         },
         "mode": "lines",
         "name": "80",
         "showlegend": true,
         "type": "scattergl",
         "x": [
          1,
          2,
          3,
          4,
          5,
          6,
          7,
          8,
          9,
          10,
          11,
          12,
          13,
          14,
          15
         ],
         "xaxis": "x",
         "y": [
          3.3046607886784116,
          4.964660788678412,
          6.444660788678411,
          7.104660788678411,
          7.254660788678411,
          8.364660788678412,
          8.698391218816269,
          9.5958186532086,
          10.173662922886859,
          10.683662922886858,
          11.083662922886859,
          11.083662922886859,
          11.39366292288686,
          12.758507236352685,
          13.571897671506676
         ],
         "yaxis": "y"
        },
        {
         "hovertemplate": "Pacjent=82<br>BADANIE_NR=%{x}<br>euclidean_kw_skum=%{y}<extra></extra>",
         "legendgroup": "82",
         "line": {
          "color": "#FF97FF",
          "dash": "solid"
         },
         "marker": {
          "symbol": "circle"
         },
         "mode": "lines",
         "name": "82",
         "showlegend": true,
         "type": "scattergl",
         "x": [
          1,
          2,
          3,
          4,
          5,
          6,
          7,
          8,
          9,
          10,
          11,
          12,
          13,
          14,
          15,
          16,
          17,
          18
         ],
         "xaxis": "x",
         "y": [
          0.6193358534373935,
          1.748351086074719,
          2.7442584683486144,
          5.833795112955315,
          6.143795112955315,
          6.803795112955315,
          7.363795112955315,
          7.493795112955315,
          8.753795112955315,
          9.273795112955314,
          9.683795112955314,
          9.683795112955314,
          9.683795112955314,
          9.683795112955314,
          9.903795112955315,
          21.877473757893135,
          33.19855940680536,
          44.346374267118854
         ],
         "yaxis": "y"
        },
        {
         "hovertemplate": "Pacjent=84<br>BADANIE_NR=%{x}<br>euclidean_kw_skum=%{y}<extra></extra>",
         "legendgroup": "84",
         "line": {
          "color": "#FECB52",
          "dash": "solid"
         },
         "marker": {
          "symbol": "circle"
         },
         "mode": "lines",
         "name": "84",
         "showlegend": true,
         "type": "scattergl",
         "x": [
          1,
          2,
          3,
          4,
          5,
          6,
          7,
          8,
          9,
          10,
          11,
          12,
          13,
          14,
          15,
          16,
          17,
          18,
          19,
          20,
          21,
          22,
          23,
          24,
          25,
          26,
          27,
          28,
          29,
          30,
          31,
          32,
          33,
          34,
          35,
          36,
          37,
          38,
          39,
          40,
          41,
          42,
          43,
          44,
          45,
          46
         ],
         "xaxis": "x",
         "y": [
          1.496903649425257,
          3.02623198223638,
          3.3562319822363795,
          3.3662319822363798,
          3.8962319822363796,
          4.076231982236379,
          4.556231982236379,
          4.556231982236379,
          4.72623198223638,
          5.576231982236379,
          6.156231982236379,
          7.836231982236379,
          10.517620695782341,
          11.757620695782341,
          13.30762069578234,
          14.857620695782341,
          16.277620695782343,
          17.563776207374932,
          19.043776207374933,
          20.593887317248118,
          21.423887317248116,
          22.80388731724812,
          23.743887317248117,
          24.98388731724812,
          26.28581828438948,
          26.47581828438948,
          26.65581828438948,
          26.65581828438948,
          26.65581828438948,
          26.65581828438948,
          27.383941900267992,
          27.827941900267994,
          28.53105454055815,
          28.811054540558146,
          31.007332007849353,
          33.07302259634447,
          34.04302259634447,
          34.04302259634447,
          34.13302259634447,
          34.13302259634447,
          34.59302259634447,
          34.82302259634447,
          34.92302259634447,
          36.62130185466169,
          37.13130185466169,
          37.17130185466169
         ],
         "yaxis": "y"
        },
        {
         "hovertemplate": "Pacjent=85<br>BADANIE_NR=%{x}<br>euclidean_kw_skum=%{y}<extra></extra>",
         "legendgroup": "85",
         "line": {
          "color": "#636efa",
          "dash": "solid"
         },
         "marker": {
          "symbol": "circle"
         },
         "mode": "lines",
         "name": "85",
         "showlegend": true,
         "type": "scattergl",
         "x": [
          1,
          2,
          3,
          4,
          5,
          6,
          7,
          8,
          9,
          10,
          11,
          12,
          13,
          14,
          15,
          16,
          17,
          18,
          19,
          20,
          21,
          22,
          23,
          24,
          25,
          26,
          27,
          28,
          29,
          30,
          31,
          32,
          33,
          34,
          35,
          36,
          37,
          38,
          39
         ],
         "xaxis": "x",
         "y": [
          1.9540832374686887,
          3.988310136404122,
          5.255257396447326,
          6.251957038922233,
          6.982147120832149,
          8.303624841929746,
          8.700920701460147,
          9.336179328829887,
          10.407065753617278,
          11.88963636269535,
          13.569714389844568,
          15.18675365962128,
          16.513537741527603,
          17.66242241807264,
          18.71242241807264,
          19.263642882133983,
          20.07364288213398,
          20.833642882133983,
          21.59364288213398,
          22.298199480286325,
          23.272593651040644,
          24.032856763390573,
          25.332856763390573,
          26.283023064624203,
          27.525551132717638,
          28.693710368438524,
          29.31371036843852,
          30.240910454719796,
          31.060910454719796,
          31.930015741782302,
          32.67985305747151,
          33.45985305747151,
          33.8117848690487,
          34.0617848690487,
          34.0617848690487,
          34.2697848690487,
          34.673784869048696,
          35.097784869048695,
          38.01851504076953
         ],
         "yaxis": "y"
        },
        {
         "hovertemplate": "Pacjent=86<br>BADANIE_NR=%{x}<br>euclidean_kw_skum=%{y}<extra></extra>",
         "legendgroup": "86",
         "line": {
          "color": "#EF553B",
          "dash": "solid"
         },
         "marker": {
          "symbol": "circle"
         },
         "mode": "lines",
         "name": "86",
         "showlegend": true,
         "type": "scattergl",
         "x": [
          1,
          2,
          3,
          4,
          5,
          6,
          7,
          8,
          9,
          10,
          11,
          12,
          13,
          14,
          15,
          16,
          17
         ],
         "xaxis": "x",
         "y": [
          1.2070908717404985,
          2.2265715870348304,
          3.064826338944892,
          6.709616165326848,
          7.796640210458369,
          8.522861244417074,
          9.66349834467846,
          10.307142790199322,
          10.597142790199323,
          12.022140742989567,
          13.4195991627114,
          14.857610643304529,
          16.547850135483696,
          17.247850135483695,
          19.29098805896322,
          21.67401448947277,
          30.804681257268065
         ],
         "yaxis": "y"
        },
        {
         "hovertemplate": "Pacjent=88<br>BADANIE_NR=%{x}<br>euclidean_kw_skum=%{y}<extra></extra>",
         "legendgroup": "88",
         "line": {
          "color": "#00cc96",
          "dash": "solid"
         },
         "marker": {
          "symbol": "circle"
         },
         "mode": "lines",
         "name": "88",
         "showlegend": true,
         "type": "scattergl",
         "x": [
          1,
          2,
          3,
          4,
          5,
          6,
          7,
          8,
          9,
          10,
          11,
          12,
          13,
          14,
          15,
          16,
          17,
          18,
          19
         ],
         "xaxis": "x",
         "y": [
          1.4121156045427996,
          2.1368491810686803,
          3.0719670715168563,
          4.174180602458527,
          5.740703968592886,
          6.610703968592887,
          7.760853720995712,
          8.570853720995713,
          9.25085372099571,
          10.350853720995712,
          12.690853720995712,
          14.410853720995712,
          16.44085372099571,
          19.23086567448817,
          21.710865674488172,
          26.40197121271683,
          31.009918167644315,
          35.94222290084918,
          42.068317445260845
         ],
         "yaxis": "y"
        },
        {
         "hovertemplate": "Pacjent=91<br>BADANIE_NR=%{x}<br>euclidean_kw_skum=%{y}<extra></extra>",
         "legendgroup": "91",
         "line": {
          "color": "#ab63fa",
          "dash": "solid"
         },
         "marker": {
          "symbol": "circle"
         },
         "mode": "lines",
         "name": "91",
         "showlegend": true,
         "type": "scattergl",
         "x": [
          1,
          2,
          3,
          4,
          5,
          6,
          7,
          8,
          9,
          10,
          11,
          12,
          13,
          14,
          15,
          16,
          17,
          18,
          19,
          20,
          21,
          22,
          23,
          24,
          25,
          26,
          27
         ],
         "xaxis": "x",
         "y": [
          5.809039397319877,
          13.49812418873615,
          28.156170309163194,
          36.11974606044757,
          38.9611414397089,
          42.100601619068996,
          45.940339167956935,
          49.41686776291301,
          51.92543102085296,
          55.203165809739396,
          57.921120692712286,
          60.28308605253695,
          62.85480915895739,
          64.4137786086686,
          66.61516610663415,
          71.1890768960067,
          76.15705049322906,
          79.96835593575979,
          88.28479742122497,
          90.19980078620448,
          93.99812455548056,
          96.77411411754426,
          98.69916454946971,
          100.9816147123158,
          103.08054346694686,
          105.93938117508793,
          110.65041741424045
         ],
         "yaxis": "y"
        },
        {
         "hovertemplate": "Pacjent=93<br>BADANIE_NR=%{x}<br>euclidean_kw_skum=%{y}<extra></extra>",
         "legendgroup": "93",
         "line": {
          "color": "#FFA15A",
          "dash": "solid"
         },
         "marker": {
          "symbol": "circle"
         },
         "mode": "lines",
         "name": "93",
         "showlegend": true,
         "type": "scattergl",
         "x": [
          1,
          2,
          3,
          4,
          5,
          6,
          7,
          8,
          9,
          10,
          11,
          12,
          13,
          14,
          15,
          16,
          17,
          18,
          19,
          20,
          21,
          22,
          23,
          24,
          25,
          26,
          27
         ],
         "xaxis": "x",
         "y": [
          5.544456442933567,
          11.300378985373147,
          16.50119848332219,
          20.957834099826105,
          24.337081301917554,
          26.541982279516294,
          29.36825554813184,
          31.033744472725253,
          33.202055591683035,
          34.17205559168303,
          35.28205559168303,
          37.733116586436125,
          39.163116586436125,
          40.10311658643612,
          42.50519901632899,
          44.973138237622734,
          45.81313823762274,
          46.7120264397925,
          47.68202643979251,
          48.237454202872456,
          48.87745420287246,
          49.68745420287246,
          50.24745420287246,
          50.24745420287246,
          50.24745420287246,
          59.81922909028883,
          64.03427803445679
         ],
         "yaxis": "y"
        },
        {
         "hovertemplate": "Pacjent=97<br>BADANIE_NR=%{x}<br>euclidean_kw_skum=%{y}<extra></extra>",
         "legendgroup": "97",
         "line": {
          "color": "#19d3f3",
          "dash": "solid"
         },
         "marker": {
          "symbol": "circle"
         },
         "mode": "lines",
         "name": "97",
         "showlegend": true,
         "type": "scattergl",
         "x": [
          1,
          2,
          3,
          4,
          5,
          6,
          7,
          8,
          9,
          10,
          11,
          12,
          13,
          14,
          15,
          16,
          17,
          18,
          19,
          20,
          21,
          22,
          23,
          24,
          25,
          26,
          27,
          28
         ],
         "xaxis": "x",
         "y": [
          1.4708582828610435,
          2.5738009735263168,
          4.030137207381862,
          5.855977615373224,
          6.735814083429007,
          9.081656856213364,
          9.421656856213364,
          9.711656856213363,
          10.251656856213364,
          10.441656856213363,
          11.01400639976171,
          12.714387533507907,
          14.330080573661263,
          14.480080573661263,
          16.39347441707145,
          17.113474417071448,
          18.67347441707145,
          19.17347441707145,
          20.853936744581862,
          22.203936744581863,
          25.11569230468871,
          25.78569230468871,
          27.66335900994585,
          28.8554681673646,
          29.537594255415776,
          30.407594255415777,
          32.80519420165418,
          33.905194201654176
         ],
         "yaxis": "y"
        },
        {
         "hovertemplate": "Pacjent=100<br>BADANIE_NR=%{x}<br>euclidean_kw_skum=%{y}<extra></extra>",
         "legendgroup": "100",
         "line": {
          "color": "#FF6692",
          "dash": "solid"
         },
         "marker": {
          "symbol": "circle"
         },
         "mode": "lines",
         "name": "100",
         "showlegend": true,
         "type": "scattergl",
         "x": [
          1,
          2,
          3,
          4,
          5,
          6,
          7,
          8,
          9,
          10,
          11,
          12,
          13,
          14,
          15,
          16,
          17,
          18,
          19,
          20,
          21,
          22,
          23,
          24,
          25
         ],
         "xaxis": "x",
         "y": [
          1.2334662049457465,
          4.308431784951951,
          7.623117117528881,
          11.520366888265537,
          14.850909670532571,
          17.549798534414727,
          20.455309160421127,
          22.019567047941393,
          23.941676993820185,
          25.234019232790203,
          26.264019232790204,
          26.894019232790203,
          27.824019232790203,
          28.954019232790202,
          30.312061124257433,
          30.952061124257433,
          31.538221511864784,
          32.03822151186478,
          32.36822151186478,
          33.11822151186478,
          33.715175047449996,
          34.312250202903826,
          34.78052650372817,
          35.21014565632182,
          35.740473917158035
         ],
         "yaxis": "y"
        },
        {
         "hovertemplate": "Pacjent=103<br>BADANIE_NR=%{x}<br>euclidean_kw_skum=%{y}<extra></extra>",
         "legendgroup": "103",
         "line": {
          "color": "#B6E880",
          "dash": "solid"
         },
         "marker": {
          "symbol": "circle"
         },
         "mode": "lines",
         "name": "103",
         "showlegend": true,
         "type": "scattergl",
         "x": [
          1,
          2,
          3,
          4,
          5,
          6,
          7,
          8,
          9,
          10,
          11,
          12,
          13,
          14,
          15,
          16,
          17,
          18,
          19,
          20
         ],
         "xaxis": "x",
         "y": [
          2.687003260620887,
          5.487174636822134,
          12.893999921300308,
          18.10598896857189,
          22.939030429690806,
          28.055785118081157,
          29.68247953109519,
          33.46989176553223,
          40.487367698199904,
          46.20136066231683,
          49.27814276792764,
          51.23780038628732,
          53.73716696383627,
          56.71372536213,
          56.93111666647783,
          58.140187415398465,
          58.40084898324513,
          59.622224818441296,
          62.27275563502009,
          64.15813124634576
         ],
         "yaxis": "y"
        },
        {
         "hovertemplate": "Pacjent=105<br>BADANIE_NR=%{x}<br>euclidean_kw_skum=%{y}<extra></extra>",
         "legendgroup": "105",
         "line": {
          "color": "#FF97FF",
          "dash": "solid"
         },
         "marker": {
          "symbol": "circle"
         },
         "mode": "lines",
         "name": "105",
         "showlegend": true,
         "type": "scattergl",
         "x": [
          1,
          2,
          3,
          4,
          5,
          6,
          7,
          8,
          9,
          10,
          11,
          12,
          13,
          14,
          15,
          16,
          17,
          18,
          19,
          20,
          21,
          22,
          23,
          24,
          25,
          26,
          27,
          28,
          29,
          30,
          31,
          32,
          33,
          34
         ],
         "xaxis": "x",
         "y": [
          0.0319999999999998,
          0.5679999999999997,
          2.4179999999999997,
          4.366,
          4.366,
          4.414,
          4.414,
          4.414,
          4.414,
          5.013999999999999,
          5.618,
          6.1979999999999995,
          6.609999999999999,
          7.033999999999999,
          8.94249531284943,
          10.191934570143433,
          11.679741082644396,
          12.269741082644396,
          13.769741082644396,
          14.419741082644396,
          15.159741082644395,
          15.229741082644397,
          16.239741082644397,
          23.108115393111166,
          24.90047705974397,
          26.98683475660002,
          27.23683475660002,
          27.646834756600022,
          27.646834756600022,
          28.02683475660002,
          29.957237210541095,
          31.987237210541096,
          33.9072372105411,
          34.64723721054109
         ],
         "yaxis": "y"
        },
        {
         "hovertemplate": "Pacjent=106<br>BADANIE_NR=%{x}<br>euclidean_kw_skum=%{y}<extra></extra>",
         "legendgroup": "106",
         "line": {
          "color": "#FECB52",
          "dash": "solid"
         },
         "marker": {
          "symbol": "circle"
         },
         "mode": "lines",
         "name": "106",
         "showlegend": true,
         "type": "scattergl",
         "x": [
          1,
          2,
          3,
          4,
          5,
          6,
          7,
          8,
          9,
          10,
          11,
          12,
          13,
          14
         ],
         "xaxis": "x",
         "y": [
          1.3245316373448326,
          2.5055422424410834,
          3.7030546762755296,
          4.2085174653417905,
          4.988066216884117,
          5.991356911867519,
          7.381119569015006,
          13.168025326304742,
          19.963380794416057,
          21.83338079441606,
          25.45122600945774,
          29.085046794147818,
          34.50885891451271,
          38.6324003636757
         ],
         "yaxis": "y"
        },
        {
         "hovertemplate": "Pacjent=111<br>BADANIE_NR=%{x}<br>euclidean_kw_skum=%{y}<extra></extra>",
         "legendgroup": "111",
         "line": {
          "color": "#636efa",
          "dash": "solid"
         },
         "marker": {
          "symbol": "circle"
         },
         "mode": "lines",
         "name": "111",
         "showlegend": true,
         "type": "scattergl",
         "x": [
          1,
          2,
          3,
          4,
          5,
          6,
          7,
          8,
          9,
          10,
          11,
          12,
          13,
          14,
          15,
          16,
          17,
          18,
          19,
          20,
          21,
          22,
          23,
          24,
          25,
          26
         ],
         "xaxis": "x",
         "y": [
          1.528,
          2.82,
          3.208,
          4.143183721118561,
          4.7891277574905455,
          5.476030550493129,
          5.945740912704993,
          6.316947505823138,
          6.562209600826849,
          7.167339310095381,
          7.737641381766422,
          9.004503156761624,
          9.804411603802714,
          10.084411603802714,
          10.484411603802714,
          10.874411603802713,
          11.174411603802714,
          11.674411603802714,
          12.549260358739657,
          13.840169135158908,
          14.26246760780592,
          14.941384262756438,
          15.18304518222833,
          15.677394383196376,
          16.17411264532012,
          18.52356019388914
         ],
         "yaxis": "y"
        },
        {
         "hovertemplate": "Pacjent=115<br>BADANIE_NR=%{x}<br>euclidean_kw_skum=%{y}<extra></extra>",
         "legendgroup": "115",
         "line": {
          "color": "#EF553B",
          "dash": "solid"
         },
         "marker": {
          "symbol": "circle"
         },
         "mode": "lines",
         "name": "115",
         "showlegend": true,
         "type": "scattergl",
         "x": [
          1,
          2,
          3,
          4,
          5,
          6,
          7,
          8,
          9,
          10,
          11,
          12,
          13,
          14,
          15,
          16,
          17,
          18,
          19,
          20,
          21,
          22,
          23,
          24,
          25,
          26,
          27,
          28,
          29,
          30,
          31,
          32,
          33,
          34,
          35,
          36,
          37,
          38,
          39
         ],
         "xaxis": "x",
         "y": [
          0.2608695652173913,
          0.4130434782608696,
          0.4130434782608696,
          0.5450434782608695,
          0.7410434782608697,
          0.7530434782608695,
          1.6010434782608696,
          2.0250434782608693,
          2.0250434782608693,
          3.349043478260869,
          4.37704347826087,
          4.37704347826087,
          4.37704347826087,
          4.37704347826087,
          4.37704347826087,
          4.7410434782608695,
          4.7410434782608695,
          5.6930434782608685,
          5.6930434782608685,
          6.157043478260869,
          7.229043478260869,
          7.229043478260869,
          7.229043478260869,
          7.229043478260869,
          7.229043478260869,
          7.229043478260869,
          7.229043478260869,
          7.229043478260869,
          7.229043478260869,
          7.229043478260869,
          7.229043478260869,
          7.229043478260869,
          7.561043478260869,
          7.561043478260869,
          7.561043478260869,
          7.561043478260869,
          8.173043478260869,
          8.373043478260868,
          9.173043478260869
         ],
         "yaxis": "y"
        },
        {
         "hovertemplate": "Pacjent=116<br>BADANIE_NR=%{x}<br>euclidean_kw_skum=%{y}<extra></extra>",
         "legendgroup": "116",
         "line": {
          "color": "#00cc96",
          "dash": "solid"
         },
         "marker": {
          "symbol": "circle"
         },
         "mode": "lines",
         "name": "116",
         "showlegend": true,
         "type": "scattergl",
         "x": [
          1,
          2,
          3,
          4,
          5,
          6,
          7,
          8,
          9,
          10,
          11,
          12,
          13,
          14,
          15,
          16,
          17,
          18,
          19,
          20,
          21,
          22,
          23,
          24,
          25,
          26,
          27,
          28,
          29,
          30,
          31,
          32,
          33,
          34,
          35,
          36,
          37,
          38
         ],
         "xaxis": "x",
         "y": [
          1.8762938142545482,
          3.1449483936468834,
          5.0665416956126315,
          7.179033051846539,
          8.18903305184654,
          9.079033051846539,
          9.559033051846539,
          9.559033051846539,
          12.27082257659976,
          12.320822576599761,
          12.880822576599762,
          13.18082257659976,
          13.18082257659976,
          13.62082257659976,
          13.910822576599761,
          13.910822576599761,
          13.910822576599761,
          14.150822576599762,
          14.260822576599761,
          14.35082257659976,
          14.410822576599761,
          15.570822576599761,
          15.570822576599761,
          16.302822576599763,
          16.31082257659976,
          16.785808392008306,
          25.107095608388526,
          25.107095608388526,
          25.938656992036407,
          27.345847842920538,
          27.78584784292054,
          28.345847842920538,
          28.595847842920538,
          29.15584784292054,
          29.845847842920538,
          29.845847842920538,
          29.89584784292054,
          29.89584784292054
         ],
         "yaxis": "y"
        },
        {
         "hovertemplate": "Pacjent=119<br>BADANIE_NR=%{x}<br>euclidean_kw_skum=%{y}<extra></extra>",
         "legendgroup": "119",
         "line": {
          "color": "#ab63fa",
          "dash": "solid"
         },
         "marker": {
          "symbol": "circle"
         },
         "mode": "lines",
         "name": "119",
         "showlegend": true,
         "type": "scattergl",
         "x": [
          1,
          2,
          3,
          4,
          5,
          6,
          7,
          8,
          9,
          10,
          11,
          12,
          13,
          14,
          15,
          16,
          17,
          18,
          19,
          20,
          21,
          22
         ],
         "xaxis": "x",
         "y": [
          3.286973810680381,
          5.774234142566829,
          7.905634696078845,
          9.506437303300597,
          10.786727901045543,
          11.308838488618687,
          12.06370017692267,
          12.26370017692267,
          13.680497974775278,
          13.680497974775278,
          13.680497974775278,
          13.680497974775278,
          13.752497974775277,
          14.024497974775278,
          14.852497974775277,
          15.832497974775277,
          16.306738180954486,
          16.524129485302314,
          17.39225213220004,
          19.01993450152063,
          21.61217941199834,
          24.798553719360118
         ],
         "yaxis": "y"
        },
        {
         "hovertemplate": "Pacjent=120<br>BADANIE_NR=%{x}<br>euclidean_kw_skum=%{y}<extra></extra>",
         "legendgroup": "120",
         "line": {
          "color": "#FFA15A",
          "dash": "solid"
         },
         "marker": {
          "symbol": "circle"
         },
         "mode": "lines",
         "name": "120",
         "showlegend": true,
         "type": "scattergl",
         "x": [
          1,
          2,
          3,
          4,
          5,
          6,
          7,
          8,
          9,
          10,
          11,
          12
         ],
         "xaxis": "x",
         "y": [
          0,
          0.916,
          1.048,
          2.9313018634851447,
          7.84716457320137,
          10.793364715021937,
          13.791886607233257,
          15.560775894730588,
          17.673294813795096,
          20.196966025238684,
          23.73742780684897,
          23.73742780684897
         ],
         "yaxis": "y"
        },
        {
         "hovertemplate": "Pacjent=121<br>BADANIE_NR=%{x}<br>euclidean_kw_skum=%{y}<extra></extra>",
         "legendgroup": "121",
         "line": {
          "color": "#19d3f3",
          "dash": "solid"
         },
         "marker": {
          "symbol": "circle"
         },
         "mode": "lines",
         "name": "121",
         "showlegend": true,
         "type": "scattergl",
         "x": [
          1,
          2,
          3,
          4,
          5,
          6,
          7,
          8,
          9,
          10,
          11,
          12,
          13,
          14,
          15,
          16,
          17,
          18,
          19,
          20,
          21,
          22,
          23,
          24,
          25,
          26,
          27,
          28,
          29,
          30,
          31,
          32,
          33,
          34,
          35,
          36,
          37
         ],
         "xaxis": "x",
         "y": [
          0.4719999999999998,
          1.5119999999999998,
          2.0976466212994134,
          2.2876466212994133,
          2.2876466212994133,
          2.2876466212994133,
          2.2876466212994133,
          2.927646621299413,
          3.9226066551883365,
          4.402606655188336,
          5.102606655188336,
          5.552606655188336,
          6.452606655188336,
          7.362606655188336,
          8.812606655188336,
          10.502606655188336,
          12.192606655188335,
          13.802606655188336,
          15.532606655188335,
          16.242606655188336,
          17.702606655188337,
          19.202606655188337,
          19.992606655188336,
          21.122606655188335,
          22.742606655188336,
          24.242606655188336,
          24.971726672743745,
          25.571726672743743,
          26.801726672743744,
          27.141726672743744,
          27.421726672743745,
          27.551726672743744,
          27.811726672743745,
          28.88058876736101,
          29.32058876736101,
          31.188487235943708,
          32.27120501033364
         ],
         "yaxis": "y"
        },
        {
         "hovertemplate": "Pacjent=122<br>BADANIE_NR=%{x}<br>euclidean_kw_skum=%{y}<extra></extra>",
         "legendgroup": "122",
         "line": {
          "color": "#FF6692",
          "dash": "solid"
         },
         "marker": {
          "symbol": "circle"
         },
         "mode": "lines",
         "name": "122",
         "showlegend": true,
         "type": "scattergl",
         "x": [
          1,
          2,
          3,
          4,
          5,
          6,
          7,
          8,
          9,
          10,
          11,
          12,
          13,
          14,
          15,
          16,
          17,
          18,
          19,
          20,
          21,
          22,
          23,
          24,
          25,
          26
         ],
         "xaxis": "x",
         "y": [
          1.7008383115162673,
          2.9578579292723974,
          5.1026035867849195,
          7.596304558207322,
          9.934327439200677,
          12.274284330048815,
          14.26162293830091,
          15.242962038341224,
          16.198340884336165,
          16.78463895966276,
          18.17518882068976,
          19.54072903056741,
          20.008454788823027,
          21.0942005938216,
          21.514292911913245,
          21.74355334027959,
          22.347273106164067,
          22.53727310616407,
          22.807273106164068,
          26.052385169426074,
          28.857134716494947,
          31.060817784242413,
          31.793009961217873,
          32.84145555134237,
          34.634664068972086,
          38.402787968928806
         ],
         "yaxis": "y"
        },
        {
         "hovertemplate": "Pacjent=123<br>BADANIE_NR=%{x}<br>euclidean_kw_skum=%{y}<extra></extra>",
         "legendgroup": "123",
         "line": {
          "color": "#B6E880",
          "dash": "solid"
         },
         "marker": {
          "symbol": "circle"
         },
         "mode": "lines",
         "name": "123",
         "showlegend": true,
         "type": "scattergl",
         "x": [
          1,
          2,
          3,
          4,
          5,
          6,
          7,
          8,
          9,
          10,
          11,
          12,
          13,
          14,
          15,
          16,
          17,
          18,
          19
         ],
         "xaxis": "x",
         "y": [
          1.8983391239955203,
          3.118148174065063,
          3.5251425664346647,
          4.798093468865705,
          5.810725682455614,
          7.26851030303576,
          9.27819795363032,
          11.470639514995183,
          14.760716162128912,
          17.19671616212891,
          21.270962418411656,
          23.552554844766547,
          28.03483723776091,
          32.51381998822463,
          36.248588521882375,
          38.9606807032066,
          43.48309683820839,
          46.80744639864875,
          52.25124505623788
         ],
         "yaxis": "y"
        },
        {
         "hovertemplate": "Pacjent=125<br>BADANIE_NR=%{x}<br>euclidean_kw_skum=%{y}<extra></extra>",
         "legendgroup": "125",
         "line": {
          "color": "#FF97FF",
          "dash": "solid"
         },
         "marker": {
          "symbol": "circle"
         },
         "mode": "lines",
         "name": "125",
         "showlegend": true,
         "type": "scattergl",
         "x": [
          1,
          2,
          3,
          4,
          5,
          6,
          7,
          8,
          9,
          10,
          11,
          12,
          13,
          14,
          15,
          16,
          17,
          18,
          19,
          20,
          21
         ],
         "xaxis": "x",
         "y": [
          0.33818370546239784,
          1.93554596278216,
          3.625330114854038,
          5.433655110195359,
          7.255138156582768,
          7.795138156582768,
          8.115138156582768,
          8.765138156582768,
          9.395138156582767,
          9.655138156582767,
          10.225138156582767,
          10.755138156582769,
          11.205138156582768,
          12.65616400059796,
          13.690651313231614,
          15.197255441727219,
          16.667255441727217,
          19.695073798234095,
          21.21518037344519,
          22.9238746117453,
          24.90281116513325
         ],
         "yaxis": "y"
        },
        {
         "hovertemplate": "Pacjent=127<br>BADANIE_NR=%{x}<br>euclidean_kw_skum=%{y}<extra></extra>",
         "legendgroup": "127",
         "line": {
          "color": "#FECB52",
          "dash": "solid"
         },
         "marker": {
          "symbol": "circle"
         },
         "mode": "lines",
         "name": "127",
         "showlegend": true,
         "type": "scattergl",
         "x": [
          1,
          2,
          3,
          4,
          5,
          6,
          7,
          8,
          9,
          10,
          11,
          12
         ],
         "xaxis": "x",
         "y": [
          4.0464677682991415,
          4.958492131586926,
          7.111426411712962,
          7.111426411712962,
          7.251426411712963,
          7.323426411712963,
          7.323426411712963,
          7.437987501100426,
          8.887239077627875,
          8.989804813441438,
          11.301480292577903,
          15.373064485422534
         ],
         "yaxis": "y"
        },
        {
         "hovertemplate": "Pacjent=129<br>BADANIE_NR=%{x}<br>euclidean_kw_skum=%{y}<extra></extra>",
         "legendgroup": "129",
         "line": {
          "color": "#636efa",
          "dash": "solid"
         },
         "marker": {
          "symbol": "circle"
         },
         "mode": "lines",
         "name": "129",
         "showlegend": true,
         "type": "scattergl",
         "x": [
          1,
          2,
          3,
          4,
          5,
          6,
          7,
          8,
          9,
          10,
          11,
          12,
          13,
          14,
          15,
          16
         ],
         "xaxis": "x",
         "y": [
          1.6694987315184808,
          3.4931957235972178,
          5.0216383316598,
          8.04699177174928,
          10.480791081663316,
          13.270476130435966,
          13.796164665045865,
          15.7226816903738,
          16.6526816903738,
          17.442681690373803,
          18.4326816903738,
          19.732681690373802,
          21.4526816903738,
          23.590052393749257,
          25.320052393749258,
          25.85041453417785
         ],
         "yaxis": "y"
        },
        {
         "hovertemplate": "Pacjent=131<br>BADANIE_NR=%{x}<br>euclidean_kw_skum=%{y}<extra></extra>",
         "legendgroup": "131",
         "line": {
          "color": "#EF553B",
          "dash": "solid"
         },
         "marker": {
          "symbol": "circle"
         },
         "mode": "lines",
         "name": "131",
         "showlegend": true,
         "type": "scattergl",
         "x": [
          1,
          2,
          3,
          4,
          5,
          6,
          7,
          8,
          9,
          10,
          11,
          12,
          13,
          14,
          15,
          16,
          17,
          18,
          19,
          20,
          21,
          22,
          23,
          24,
          25,
          26,
          27,
          28,
          29,
          30,
          31,
          32,
          33
         ],
         "xaxis": "x",
         "y": [
          0.5559999999999999,
          1.5679999999999996,
          1.956,
          2.336,
          2.924,
          2.924,
          3.184,
          3.688,
          3.688,
          4.6518755106340235,
          6.037263542919564,
          6.82532699214177,
          6.985326992141769,
          7.301959270976383,
          9.278011901854416,
          11.006735130135914,
          11.096735130135913,
          11.096735130135913,
          11.096735130135913,
          11.096735130135913,
          11.096735130135913,
          11.096735130135913,
          11.096735130135913,
          11.096735130135913,
          11.096735130135913,
          13.071930310364946,
          13.543116048689017,
          14.27546569196059,
          16.378405538936722,
          16.933833302016676,
          16.933833302016676,
          16.933833302016676,
          17.832056783953504
         ],
         "yaxis": "y"
        },
        {
         "hovertemplate": "Pacjent=134<br>BADANIE_NR=%{x}<br>euclidean_kw_skum=%{y}<extra></extra>",
         "legendgroup": "134",
         "line": {
          "color": "#00cc96",
          "dash": "solid"
         },
         "marker": {
          "symbol": "circle"
         },
         "mode": "lines",
         "name": "134",
         "showlegend": true,
         "type": "scattergl",
         "x": [
          1,
          2,
          3,
          4,
          5,
          6,
          7,
          8,
          9,
          10,
          11,
          12,
          13,
          14,
          15,
          16,
          17,
          18,
          19,
          20,
          21,
          22,
          23,
          24,
          25,
          26,
          27,
          28,
          29,
          30,
          31,
          32,
          33,
          34,
          35
         ],
         "xaxis": "x",
         "y": [
          1.886289347698277,
          4.69971848705684,
          6.46700258065831,
          7.650142907416529,
          9.491870626307891,
          9.511870626307893,
          9.767153452755768,
          9.767153452755768,
          10.021247923376439,
          10.02924792337644,
          10.289621375891052,
          11.090606880741104,
          11.398210083200015,
          11.941297553134646,
          20.48816987853803,
          25.85501720873442,
          32.25200378295118,
          33.13200378295117,
          33.32200378295118,
          38.82200378295117,
          38.82200378295117,
          39.31200378295117,
          39.802003782951175,
          40.98661342329689,
          42.536613423296885,
          43.167881987380355,
          44.43788198738035,
          46.29788198738035,
          48.86938816081257,
          50.21938816081257,
          51.36938816081257,
          53.625689559119095,
          55.67740981295489,
          57.457409812954886,
          59.630261395553205
         ],
         "yaxis": "y"
        },
        {
         "hovertemplate": "Pacjent=140<br>BADANIE_NR=%{x}<br>euclidean_kw_skum=%{y}<extra></extra>",
         "legendgroup": "140",
         "line": {
          "color": "#ab63fa",
          "dash": "solid"
         },
         "marker": {
          "symbol": "circle"
         },
         "mode": "lines",
         "name": "140",
         "showlegend": true,
         "type": "scattergl",
         "x": [
          1,
          2,
          3,
          4,
          5,
          6,
          7,
          8,
          9,
          10,
          11,
          12,
          13,
          14,
          15,
          16,
          17,
          18,
          19,
          20,
          21,
          22,
          23,
          24
         ],
         "xaxis": "x",
         "y": [
          1.9394856984990803,
          2.01948569849908,
          3.12081035544634,
          4.0844279823093625,
          4.744427982309363,
          5.234427982309362,
          6.027318895361089,
          7.017318895361089,
          7.807966730999687,
          8.639832104723105,
          9.479832104723105,
          10.11877185149114,
          10.37877185149114,
          10.841844200050195,
          10.951844200050195,
          11.391844200050196,
          11.581844200050195,
          11.701910848208623,
          12.683177376731837,
          13.562361089046847,
          14.392361089046847,
          14.809973349403268,
          15.493110231733596,
          16.58189120144238
         ],
         "yaxis": "y"
        },
        {
         "hovertemplate": "Pacjent=145<br>BADANIE_NR=%{x}<br>euclidean_kw_skum=%{y}<extra></extra>",
         "legendgroup": "145",
         "line": {
          "color": "#FFA15A",
          "dash": "solid"
         },
         "marker": {
          "symbol": "circle"
         },
         "mode": "lines",
         "name": "145",
         "showlegend": true,
         "type": "scattergl",
         "x": [
          1,
          2,
          3,
          4,
          5,
          6,
          7,
          8,
          9
         ],
         "xaxis": "x",
         "y": [
          0.8832548171802567,
          2.137962783696176,
          3.174035439150074,
          4.561857286184607,
          6.1701884179575535,
          7.7576521902587245,
          9.892695697217942,
          11.007387848045294,
          12.795507831379371
         ],
         "yaxis": "y"
        }
       ],
       "layout": {
        "height": 800,
        "legend": {
         "title": {
          "text": "Pacjent"
         },
         "tracegroupgap": 0
        },
        "margin": {
         "t": 60
        },
        "showlegend": false,
        "template": {
         "data": {
          "bar": [
           {
            "error_x": {
             "color": "#2a3f5f"
            },
            "error_y": {
             "color": "#2a3f5f"
            },
            "marker": {
             "line": {
              "color": "white",
              "width": 0.5
             },
             "pattern": {
              "fillmode": "overlay",
              "size": 10,
              "solidity": 0.2
             }
            },
            "type": "bar"
           }
          ],
          "barpolar": [
           {
            "marker": {
             "line": {
              "color": "white",
              "width": 0.5
             },
             "pattern": {
              "fillmode": "overlay",
              "size": 10,
              "solidity": 0.2
             }
            },
            "type": "barpolar"
           }
          ],
          "carpet": [
           {
            "aaxis": {
             "endlinecolor": "#2a3f5f",
             "gridcolor": "#C8D4E3",
             "linecolor": "#C8D4E3",
             "minorgridcolor": "#C8D4E3",
             "startlinecolor": "#2a3f5f"
            },
            "baxis": {
             "endlinecolor": "#2a3f5f",
             "gridcolor": "#C8D4E3",
             "linecolor": "#C8D4E3",
             "minorgridcolor": "#C8D4E3",
             "startlinecolor": "#2a3f5f"
            },
            "type": "carpet"
           }
          ],
          "choropleth": [
           {
            "colorbar": {
             "outlinewidth": 0,
             "ticks": ""
            },
            "type": "choropleth"
           }
          ],
          "contour": [
           {
            "colorbar": {
             "outlinewidth": 0,
             "ticks": ""
            },
            "colorscale": [
             [
              0,
              "#0d0887"
             ],
             [
              0.1111111111111111,
              "#46039f"
             ],
             [
              0.2222222222222222,
              "#7201a8"
             ],
             [
              0.3333333333333333,
              "#9c179e"
             ],
             [
              0.4444444444444444,
              "#bd3786"
             ],
             [
              0.5555555555555556,
              "#d8576b"
             ],
             [
              0.6666666666666666,
              "#ed7953"
             ],
             [
              0.7777777777777778,
              "#fb9f3a"
             ],
             [
              0.8888888888888888,
              "#fdca26"
             ],
             [
              1,
              "#f0f921"
             ]
            ],
            "type": "contour"
           }
          ],
          "contourcarpet": [
           {
            "colorbar": {
             "outlinewidth": 0,
             "ticks": ""
            },
            "type": "contourcarpet"
           }
          ],
          "heatmap": [
           {
            "colorbar": {
             "outlinewidth": 0,
             "ticks": ""
            },
            "colorscale": [
             [
              0,
              "#0d0887"
             ],
             [
              0.1111111111111111,
              "#46039f"
             ],
             [
              0.2222222222222222,
              "#7201a8"
             ],
             [
              0.3333333333333333,
              "#9c179e"
             ],
             [
              0.4444444444444444,
              "#bd3786"
             ],
             [
              0.5555555555555556,
              "#d8576b"
             ],
             [
              0.6666666666666666,
              "#ed7953"
             ],
             [
              0.7777777777777778,
              "#fb9f3a"
             ],
             [
              0.8888888888888888,
              "#fdca26"
             ],
             [
              1,
              "#f0f921"
             ]
            ],
            "type": "heatmap"
           }
          ],
          "heatmapgl": [
           {
            "colorbar": {
             "outlinewidth": 0,
             "ticks": ""
            },
            "colorscale": [
             [
              0,
              "#0d0887"
             ],
             [
              0.1111111111111111,
              "#46039f"
             ],
             [
              0.2222222222222222,
              "#7201a8"
             ],
             [
              0.3333333333333333,
              "#9c179e"
             ],
             [
              0.4444444444444444,
              "#bd3786"
             ],
             [
              0.5555555555555556,
              "#d8576b"
             ],
             [
              0.6666666666666666,
              "#ed7953"
             ],
             [
              0.7777777777777778,
              "#fb9f3a"
             ],
             [
              0.8888888888888888,
              "#fdca26"
             ],
             [
              1,
              "#f0f921"
             ]
            ],
            "type": "heatmapgl"
           }
          ],
          "histogram": [
           {
            "marker": {
             "pattern": {
              "fillmode": "overlay",
              "size": 10,
              "solidity": 0.2
             }
            },
            "type": "histogram"
           }
          ],
          "histogram2d": [
           {
            "colorbar": {
             "outlinewidth": 0,
             "ticks": ""
            },
            "colorscale": [
             [
              0,
              "#0d0887"
             ],
             [
              0.1111111111111111,
              "#46039f"
             ],
             [
              0.2222222222222222,
              "#7201a8"
             ],
             [
              0.3333333333333333,
              "#9c179e"
             ],
             [
              0.4444444444444444,
              "#bd3786"
             ],
             [
              0.5555555555555556,
              "#d8576b"
             ],
             [
              0.6666666666666666,
              "#ed7953"
             ],
             [
              0.7777777777777778,
              "#fb9f3a"
             ],
             [
              0.8888888888888888,
              "#fdca26"
             ],
             [
              1,
              "#f0f921"
             ]
            ],
            "type": "histogram2d"
           }
          ],
          "histogram2dcontour": [
           {
            "colorbar": {
             "outlinewidth": 0,
             "ticks": ""
            },
            "colorscale": [
             [
              0,
              "#0d0887"
             ],
             [
              0.1111111111111111,
              "#46039f"
             ],
             [
              0.2222222222222222,
              "#7201a8"
             ],
             [
              0.3333333333333333,
              "#9c179e"
             ],
             [
              0.4444444444444444,
              "#bd3786"
             ],
             [
              0.5555555555555556,
              "#d8576b"
             ],
             [
              0.6666666666666666,
              "#ed7953"
             ],
             [
              0.7777777777777778,
              "#fb9f3a"
             ],
             [
              0.8888888888888888,
              "#fdca26"
             ],
             [
              1,
              "#f0f921"
             ]
            ],
            "type": "histogram2dcontour"
           }
          ],
          "mesh3d": [
           {
            "colorbar": {
             "outlinewidth": 0,
             "ticks": ""
            },
            "type": "mesh3d"
           }
          ],
          "parcoords": [
           {
            "line": {
             "colorbar": {
              "outlinewidth": 0,
              "ticks": ""
             }
            },
            "type": "parcoords"
           }
          ],
          "pie": [
           {
            "automargin": true,
            "type": "pie"
           }
          ],
          "scatter": [
           {
            "marker": {
             "colorbar": {
              "outlinewidth": 0,
              "ticks": ""
             }
            },
            "type": "scatter"
           }
          ],
          "scatter3d": [
           {
            "line": {
             "colorbar": {
              "outlinewidth": 0,
              "ticks": ""
             }
            },
            "marker": {
             "colorbar": {
              "outlinewidth": 0,
              "ticks": ""
             }
            },
            "type": "scatter3d"
           }
          ],
          "scattercarpet": [
           {
            "marker": {
             "colorbar": {
              "outlinewidth": 0,
              "ticks": ""
             }
            },
            "type": "scattercarpet"
           }
          ],
          "scattergeo": [
           {
            "marker": {
             "colorbar": {
              "outlinewidth": 0,
              "ticks": ""
             }
            },
            "type": "scattergeo"
           }
          ],
          "scattergl": [
           {
            "marker": {
             "colorbar": {
              "outlinewidth": 0,
              "ticks": ""
             }
            },
            "type": "scattergl"
           }
          ],
          "scattermapbox": [
           {
            "marker": {
             "colorbar": {
              "outlinewidth": 0,
              "ticks": ""
             }
            },
            "type": "scattermapbox"
           }
          ],
          "scatterpolar": [
           {
            "marker": {
             "colorbar": {
              "outlinewidth": 0,
              "ticks": ""
             }
            },
            "type": "scatterpolar"
           }
          ],
          "scatterpolargl": [
           {
            "marker": {
             "colorbar": {
              "outlinewidth": 0,
              "ticks": ""
             }
            },
            "type": "scatterpolargl"
           }
          ],
          "scatterternary": [
           {
            "marker": {
             "colorbar": {
              "outlinewidth": 0,
              "ticks": ""
             }
            },
            "type": "scatterternary"
           }
          ],
          "surface": [
           {
            "colorbar": {
             "outlinewidth": 0,
             "ticks": ""
            },
            "colorscale": [
             [
              0,
              "#0d0887"
             ],
             [
              0.1111111111111111,
              "#46039f"
             ],
             [
              0.2222222222222222,
              "#7201a8"
             ],
             [
              0.3333333333333333,
              "#9c179e"
             ],
             [
              0.4444444444444444,
              "#bd3786"
             ],
             [
              0.5555555555555556,
              "#d8576b"
             ],
             [
              0.6666666666666666,
              "#ed7953"
             ],
             [
              0.7777777777777778,
              "#fb9f3a"
             ],
             [
              0.8888888888888888,
              "#fdca26"
             ],
             [
              1,
              "#f0f921"
             ]
            ],
            "type": "surface"
           }
          ],
          "table": [
           {
            "cells": {
             "fill": {
              "color": "#EBF0F8"
             },
             "line": {
              "color": "white"
             }
            },
            "header": {
             "fill": {
              "color": "#C8D4E3"
             },
             "line": {
              "color": "white"
             }
            },
            "type": "table"
           }
          ]
         },
         "layout": {
          "annotationdefaults": {
           "arrowcolor": "#2a3f5f",
           "arrowhead": 0,
           "arrowwidth": 1
          },
          "autotypenumbers": "strict",
          "coloraxis": {
           "colorbar": {
            "outlinewidth": 0,
            "ticks": ""
           }
          },
          "colorscale": {
           "diverging": [
            [
             0,
             "#8e0152"
            ],
            [
             0.1,
             "#c51b7d"
            ],
            [
             0.2,
             "#de77ae"
            ],
            [
             0.3,
             "#f1b6da"
            ],
            [
             0.4,
             "#fde0ef"
            ],
            [
             0.5,
             "#f7f7f7"
            ],
            [
             0.6,
             "#e6f5d0"
            ],
            [
             0.7,
             "#b8e186"
            ],
            [
             0.8,
             "#7fbc41"
            ],
            [
             0.9,
             "#4d9221"
            ],
            [
             1,
             "#276419"
            ]
           ],
           "sequential": [
            [
             0,
             "#0d0887"
            ],
            [
             0.1111111111111111,
             "#46039f"
            ],
            [
             0.2222222222222222,
             "#7201a8"
            ],
            [
             0.3333333333333333,
             "#9c179e"
            ],
            [
             0.4444444444444444,
             "#bd3786"
            ],
            [
             0.5555555555555556,
             "#d8576b"
            ],
            [
             0.6666666666666666,
             "#ed7953"
            ],
            [
             0.7777777777777778,
             "#fb9f3a"
            ],
            [
             0.8888888888888888,
             "#fdca26"
            ],
            [
             1,
             "#f0f921"
            ]
           ],
           "sequentialminus": [
            [
             0,
             "#0d0887"
            ],
            [
             0.1111111111111111,
             "#46039f"
            ],
            [
             0.2222222222222222,
             "#7201a8"
            ],
            [
             0.3333333333333333,
             "#9c179e"
            ],
            [
             0.4444444444444444,
             "#bd3786"
            ],
            [
             0.5555555555555556,
             "#d8576b"
            ],
            [
             0.6666666666666666,
             "#ed7953"
            ],
            [
             0.7777777777777778,
             "#fb9f3a"
            ],
            [
             0.8888888888888888,
             "#fdca26"
            ],
            [
             1,
             "#f0f921"
            ]
           ]
          },
          "colorway": [
           "#636efa",
           "#EF553B",
           "#00cc96",
           "#ab63fa",
           "#FFA15A",
           "#19d3f3",
           "#FF6692",
           "#B6E880",
           "#FF97FF",
           "#FECB52"
          ],
          "font": {
           "color": "#2a3f5f"
          },
          "geo": {
           "bgcolor": "white",
           "lakecolor": "white",
           "landcolor": "white",
           "showlakes": true,
           "showland": true,
           "subunitcolor": "#C8D4E3"
          },
          "hoverlabel": {
           "align": "left"
          },
          "hovermode": "closest",
          "mapbox": {
           "style": "light"
          },
          "paper_bgcolor": "white",
          "plot_bgcolor": "white",
          "polar": {
           "angularaxis": {
            "gridcolor": "#EBF0F8",
            "linecolor": "#EBF0F8",
            "ticks": ""
           },
           "bgcolor": "white",
           "radialaxis": {
            "gridcolor": "#EBF0F8",
            "linecolor": "#EBF0F8",
            "ticks": ""
           }
          },
          "scene": {
           "xaxis": {
            "backgroundcolor": "white",
            "gridcolor": "#DFE8F3",
            "gridwidth": 2,
            "linecolor": "#EBF0F8",
            "showbackground": true,
            "ticks": "",
            "zerolinecolor": "#EBF0F8"
           },
           "yaxis": {
            "backgroundcolor": "white",
            "gridcolor": "#DFE8F3",
            "gridwidth": 2,
            "linecolor": "#EBF0F8",
            "showbackground": true,
            "ticks": "",
            "zerolinecolor": "#EBF0F8"
           },
           "zaxis": {
            "backgroundcolor": "white",
            "gridcolor": "#DFE8F3",
            "gridwidth": 2,
            "linecolor": "#EBF0F8",
            "showbackground": true,
            "ticks": "",
            "zerolinecolor": "#EBF0F8"
           }
          },
          "shapedefaults": {
           "line": {
            "color": "#2a3f5f"
           }
          },
          "ternary": {
           "aaxis": {
            "gridcolor": "#DFE8F3",
            "linecolor": "#A2B1C6",
            "ticks": ""
           },
           "baxis": {
            "gridcolor": "#DFE8F3",
            "linecolor": "#A2B1C6",
            "ticks": ""
           },
           "bgcolor": "white",
           "caxis": {
            "gridcolor": "#DFE8F3",
            "linecolor": "#A2B1C6",
            "ticks": ""
           }
          },
          "title": {
           "x": 0.05
          },
          "xaxis": {
           "automargin": true,
           "gridcolor": "#EBF0F8",
           "linecolor": "#EBF0F8",
           "ticks": "",
           "title": {
            "standoff": 15
           },
           "zerolinecolor": "#EBF0F8",
           "zerolinewidth": 2
          },
          "yaxis": {
           "automargin": true,
           "gridcolor": "#EBF0F8",
           "linecolor": "#EBF0F8",
           "ticks": "",
           "title": {
            "standoff": 15
           },
           "zerolinecolor": "#EBF0F8",
           "zerolinewidth": 2
          }
         }
        },
        "width": 800,
        "xaxis": {
         "anchor": "y",
         "domain": [
          0,
          1
         ],
         "range": [
          0,
          65
         ],
         "tickfont": {
          "size": 18
         },
         "title": {
          "font": {
           "size": 20
          },
          "text": "Numer badania"
         }
        },
        "yaxis": {
         "anchor": "x",
         "domain": [
          0,
          1
         ],
         "range": [
          0,
          120
         ],
         "tickfont": {
          "size": 18
         },
         "title": {
          "font": {
           "size": 20
          },
          "text": "Skumulowana odległość od normy (Miernik 2)"
         }
        }
       }
      }
     },
     "metadata": {},
     "output_type": "display_data"
    }
   ],
   "source": [
    "# Podziel dane na dwie ramki danych\n",
    "df_zgon_0 = df_dist[df_dist['ZGON'] == 0]\n",
    "df_zgon_1 = df_dist[df_dist['ZGON'] == 1]\n",
    "\n",
    "y='euclidean_kw_skum'\n",
    "\n",
    "# fig0 = make_subplots(rows=1, cols=2, subplot_titles=['Zgon: nie', 'Zgon: tak'])\n",
    "# Wykres dla ZGON=0\n",
    "fig1 = px.line(df_zgon_0, x='BADANIE_NR', y=y, color='PACJENT_NR', \n",
    "              labels={'BADANIE_NR': 'BADANIE_NR', y: y, 'PACJENT_NR': 'Pacjent'}, width=800, height=800)\n",
    "fig1.update_xaxes(title_text='Numer badania')\n",
    "fig1.update_yaxes(title_text='Skumulowana odległość od normy (Miernik 2)')\n",
    "fig1.update_layout(showlegend=False)\n",
    "\n",
    "# Wykres dla ZGON=1\n",
    "fig2 = px.line(df_zgon_1, x='BADANIE_NR', y=y, color='PACJENT_NR', \n",
    "               labels={'BADANIE_NR': 'BADANIE_NR', y: y, 'PACJENT_NR': 'Pacjent'}, width=800, height=800)\n",
    "fig2.update_xaxes(title_text='Numer badania')\n",
    "fig2.update_yaxes(title_text='Skumulowana odległość od normy (Miernik 2)')\n",
    "fig2.update_layout(showlegend=False)\n",
    "\n",
    "# fig1.update_yaxes(range=[0, 15])\n",
    "# fig2.update_yaxes(range=[0, 15])\n",
    "\n",
    "\n",
    "fig1.update_yaxes(range=[0, 120])\n",
    "fig2.update_yaxes(range=[0, 120])\n",
    "\n",
    "fig1.update_xaxes(range=[0, 65])\n",
    "fig2.update_xaxes(range=[0, 65])\n",
    "\n",
    "fig1.update_layout(\n",
    "    xaxis=dict(\n",
    "        tickfont=dict(size=18),\n",
    "        title_font=dict(size=20),\n",
    "    ),\n",
    "    yaxis=dict(\n",
    "        tickfont=dict(size=18),\n",
    "        title_font=dict(size=20)\n",
    "    )\n",
    ")\n",
    "fig2.update_layout(\n",
    "    xaxis=dict(\n",
    "        tickfont=dict(size=18),\n",
    "        title_font=dict(size=20),\n",
    "    ),\n",
    "    yaxis=dict(\n",
    "        tickfont=dict(size=18),\n",
    "        title_font=dict(size=20)\n",
    "    )\n",
    ")\n",
    "fig1.update_layout(template=\"plotly_white\")\n",
    "fig2.update_layout(template=\"plotly_white\")\n",
    "\n",
    "fig1.write_image(\"images4/\"+\"miernik2_skum_pacjenci_wyleczeni\"+ \".png\", width=1000, height=800, scale=4, format=\"png\")\n",
    "fig2.write_image(\"images4/\"+\"miernik2_skum_pacjenci_zmarli\"+ \".png\", width=1000, height=800, scale=4, format=\"png\")\n",
    "fig1.write_html(\"images4/miernik2_skum_pacjenci_wyleczeni.html\")\n",
    "fig2.write_html(\"images4/miernik2_skum_pacjenci_zmarli.html\")\n",
    "\n",
    "# Wyświetl oba wykresy\n",
    "fig1.show()\n",
    "fig2.show()"
   ]
  }
 ],
 "metadata": {
  "kernelspec": {
   "display_name": "Python 3",
   "language": "python",
   "name": "python3"
  },
  "language_info": {
   "codemirror_mode": {
    "name": "ipython",
    "version": 3
   },
   "file_extension": ".py",
   "mimetype": "text/x-python",
   "name": "python",
   "nbconvert_exporter": "python",
   "pygments_lexer": "ipython3",
   "version": "3.9.8"
  }
 },
 "nbformat": 4,
 "nbformat_minor": 2
}
